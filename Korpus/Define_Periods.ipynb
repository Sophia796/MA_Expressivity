{
 "cells": [
  {
   "cell_type": "markdown",
   "id": "80b9f9d5",
   "metadata": {},
   "source": [
    "# Zeiträume definieren"
   ]
  },
  {
   "cell_type": "code",
   "execution_count": 1,
   "id": "67159e2b",
   "metadata": {},
   "outputs": [],
   "source": [
    "from collections import Counter\n",
    "from matplotlib import pyplot as plt\n",
    "from matplotlib import ticker\n",
    "import glob\n",
    "import math\n",
    "import numpy as np\n",
    "import os\n",
    "import pandas as pd\n",
    "import re\n",
    "import seaborn as sns"
   ]
  },
  {
   "cell_type": "code",
   "execution_count": 2,
   "id": "3e98fa9f",
   "metadata": {},
   "outputs": [],
   "source": [
    "# großes DF einlesen \n",
    "\n",
    "df_bigger = pd.read_csv('Korpus/corpus_lemmatized.csv', sep=',', encoding='utf-8')"
   ]
  },
  {
   "cell_type": "code",
   "execution_count": 3,
   "id": "29e3af99",
   "metadata": {},
   "outputs": [
    {
     "data": {
      "text/plain": [
       "(431959, 10)"
      ]
     },
     "execution_count": 3,
     "metadata": {},
     "output_type": "execute_result"
    }
   ],
   "source": [
    "df_bigger.shape"
   ]
  },
  {
   "cell_type": "code",
   "execution_count": 4,
   "id": "f6e68aa6",
   "metadata": {},
   "outputs": [],
   "source": [
    "# Zeitraum zuordnen\n",
    "\n",
    "df_bigger['period'] = ['1700-1750' if x >= 1700 and x <= 1750 \n",
    "                    else '1751-1800' if x >= 1751 and x <= 1800\n",
    "                    else '1801-1850' if x >= 1801 and x <= 1850\n",
    "                    else '1851-1900' if x >= 1851 and x <= 1900\n",
    "                    else '1901-1950' if x >= 1901 and x <= 1950\n",
    "                    else '1951-2000' if x >= 1951 and x <= 2000\n",
    "                    else '2001-2021' if x >= 2001 and x <= 2021\n",
    "                    else '>1700' \n",
    "                    for x in pd.to_numeric(df_bigger['year'])]"
   ]
  },
  {
   "cell_type": "code",
   "execution_count": 5,
   "id": "90036d5d",
   "metadata": {},
   "outputs": [],
   "source": [
    "# unbrauchbare Zeilen entfernen\n",
    "\n",
    "df_bigger = df_bigger[df_bigger.period != '>1700']"
   ]
  },
  {
   "cell_type": "code",
   "execution_count": 6,
   "id": "66845cfa",
   "metadata": {},
   "outputs": [],
   "source": [
    "# Spalten neu anordnen und unnötige entfernen\n",
    "\n",
    "df_bigger = df_bigger[['doc', 'source', 'author', 'title', 'year', 'period', 'text_type', 'words', 'text', 'cleaned_text', 'lemmatized_text']]"
   ]
  },
  {
   "cell_type": "code",
   "execution_count": 7,
   "id": "b70c76c8",
   "metadata": {},
   "outputs": [
    {
     "data": {
      "text/html": [
       "<div>\n",
       "<style scoped>\n",
       "    .dataframe tbody tr th:only-of-type {\n",
       "        vertical-align: middle;\n",
       "    }\n",
       "\n",
       "    .dataframe tbody tr th {\n",
       "        vertical-align: top;\n",
       "    }\n",
       "\n",
       "    .dataframe thead th {\n",
       "        text-align: right;\n",
       "    }\n",
       "</style>\n",
       "<table border=\"1\" class=\"dataframe\">\n",
       "  <thead>\n",
       "    <tr style=\"text-align: right;\">\n",
       "      <th></th>\n",
       "      <th>doc</th>\n",
       "      <th>source</th>\n",
       "      <th>author</th>\n",
       "      <th>title</th>\n",
       "      <th>year</th>\n",
       "      <th>period</th>\n",
       "      <th>text_type</th>\n",
       "      <th>words</th>\n",
       "      <th>text</th>\n",
       "      <th>cleaned_text</th>\n",
       "      <th>lemmatized_text</th>\n",
       "    </tr>\n",
       "  </thead>\n",
       "  <tbody>\n",
       "    <tr>\n",
       "      <th>0</th>\n",
       "      <td>Poesia.IV.4.Testo.txt</td>\n",
       "      <td>MIDIA</td>\n",
       "      <td>Faustina Maratti Zappi</td>\n",
       "      <td>Poesie</td>\n",
       "      <td>1700.0</td>\n",
       "      <td>1700-1750</td>\n",
       "      <td>poesia</td>\n",
       "      <td>3184.0</td>\n",
       "      <td>IV. 4. Rime degli Arcadi: Aglauro Cidonia (Fau...</td>\n",
       "      <td>iv.  . rime degli arcadi: aglauro cidonia  fau...</td>\n",
       "      <td>iv . 4 . rima del arcadi : aglauro cidonia ( f...</td>\n",
       "    </tr>\n",
       "    <tr>\n",
       "      <th>1</th>\n",
       "      <td>Poesia.IV.11.Testo.txt</td>\n",
       "      <td>MIDIA</td>\n",
       "      <td>Giambattista Felice Zappi</td>\n",
       "      <td>Poesie</td>\n",
       "      <td>1700.0</td>\n",
       "      <td>1700-1750</td>\n",
       "      <td>poesia</td>\n",
       "      <td>6113.0</td>\n",
       "      <td>IV. 11. Rime degli arcadi: Tirsi Leucasio (Gio...</td>\n",
       "      <td>iv.   . rime degli arcadi: tirsi leucasio  gio...</td>\n",
       "      <td>iv . 11 . rima del arcade : tirsi leucasio ( g...</td>\n",
       "    </tr>\n",
       "    <tr>\n",
       "      <th>2</th>\n",
       "      <td>Poesia.IV.1.Testo.txt</td>\n",
       "      <td>MIDIA</td>\n",
       "      <td>Giuseppe Paolucci (Alessi Cillenio)</td>\n",
       "      <td>Poesie</td>\n",
       "      <td>1700.0</td>\n",
       "      <td>1700-1750</td>\n",
       "      <td>poesia</td>\n",
       "      <td>10862.0</td>\n",
       "      <td>IV. 1. Rime degli Arcadi: Alessi Cillenio (Giu...</td>\n",
       "      <td>iv.  . rime degli arcadi: alessi cillenio  giu...</td>\n",
       "      <td>iv . 1 . rima del arcadi : alessi cillenio ( G...</td>\n",
       "    </tr>\n",
       "    <tr>\n",
       "      <th>3</th>\n",
       "      <td>Personali.IV.5.Testo.txt</td>\n",
       "      <td>MIDIA</td>\n",
       "      <td>Lorenzo Magalotti</td>\n",
       "      <td>Lettere odorose (1693-1705)</td>\n",
       "      <td>1700.0</td>\n",
       "      <td>1700-1750</td>\n",
       "      <td>personale</td>\n",
       "      <td>8374.0</td>\n",
       "      <td>IV. 5. Lorenzo Magalotti, Lettere odorose (169...</td>\n",
       "      <td>iv.  . lorenzo magalotti, lettere odorose     ...</td>\n",
       "      <td>iv . 5 . Lorenzo magalotti , lettere odoroso (...</td>\n",
       "    </tr>\n",
       "    <tr>\n",
       "      <th>4</th>\n",
       "      <td>Espositivi.IV.4.Testo.txt</td>\n",
       "      <td>MIDIA</td>\n",
       "      <td>Ludovico Antonio Muratori</td>\n",
       "      <td>Antichità italiane</td>\n",
       "      <td>1700.0</td>\n",
       "      <td>1700-1750</td>\n",
       "      <td>espositivo</td>\n",
       "      <td>8990.0</td>\n",
       "      <td>﻿IV. 4. Ludovico Antonio Muratori, Antichità i...</td>\n",
       "      <td>iv.  . ludovico antonio muratori, antichità i...</td>\n",
       "      <td>﻿iv . 4 . Ludovico Antonio muratori , antichit...</td>\n",
       "    </tr>\n",
       "  </tbody>\n",
       "</table>\n",
       "</div>"
      ],
      "text/plain": [
       "                         doc source                               author  \\\n",
       "0      Poesia.IV.4.Testo.txt  MIDIA               Faustina Maratti Zappi   \n",
       "1     Poesia.IV.11.Testo.txt  MIDIA            Giambattista Felice Zappi   \n",
       "2      Poesia.IV.1.Testo.txt  MIDIA  Giuseppe Paolucci (Alessi Cillenio)   \n",
       "3   Personali.IV.5.Testo.txt  MIDIA                    Lorenzo Magalotti   \n",
       "4  Espositivi.IV.4.Testo.txt  MIDIA           Ludovico Antonio Muratori    \n",
       "\n",
       "                         title    year     period   text_type    words  \\\n",
       "0                       Poesie  1700.0  1700-1750      poesia   3184.0   \n",
       "1                       Poesie  1700.0  1700-1750      poesia   6113.0   \n",
       "2                       Poesie  1700.0  1700-1750      poesia  10862.0   \n",
       "3  Lettere odorose (1693-1705)  1700.0  1700-1750   personale   8374.0   \n",
       "4           Antichità italiane  1700.0  1700-1750  espositivo   8990.0   \n",
       "\n",
       "                                                text  \\\n",
       "0  IV. 4. Rime degli Arcadi: Aglauro Cidonia (Fau...   \n",
       "1  IV. 11. Rime degli arcadi: Tirsi Leucasio (Gio...   \n",
       "2  IV. 1. Rime degli Arcadi: Alessi Cillenio (Giu...   \n",
       "3  IV. 5. Lorenzo Magalotti, Lettere odorose (169...   \n",
       "4  ﻿IV. 4. Ludovico Antonio Muratori, Antichità i...   \n",
       "\n",
       "                                        cleaned_text  \\\n",
       "0  iv.  . rime degli arcadi: aglauro cidonia  fau...   \n",
       "1  iv.   . rime degli arcadi: tirsi leucasio  gio...   \n",
       "2  iv.  . rime degli arcadi: alessi cillenio  giu...   \n",
       "3  iv.  . lorenzo magalotti, lettere odorose     ...   \n",
       "4   iv.  . ludovico antonio muratori, antichità i...   \n",
       "\n",
       "                                     lemmatized_text  \n",
       "0  iv . 4 . rima del arcadi : aglauro cidonia ( f...  \n",
       "1  iv . 11 . rima del arcade : tirsi leucasio ( g...  \n",
       "2  iv . 1 . rima del arcadi : alessi cillenio ( G...  \n",
       "3  iv . 5 . Lorenzo magalotti , lettere odoroso (...  \n",
       "4  ﻿iv . 4 . Ludovico Antonio muratori , antichit...  "
      ]
     },
     "execution_count": 7,
     "metadata": {},
     "output_type": "execute_result"
    }
   ],
   "source": [
    "df_bigger.head()"
   ]
  },
  {
   "cell_type": "code",
   "execution_count": 8,
   "id": "e190e248",
   "metadata": {},
   "outputs": [
    {
     "data": {
      "text/plain": [
       "(431959, 11)"
      ]
     },
     "execution_count": 8,
     "metadata": {},
     "output_type": "execute_result"
    }
   ],
   "source": [
    "df_bigger.shape"
   ]
  },
  {
   "cell_type": "code",
   "execution_count": 9,
   "id": "ef50e16a",
   "metadata": {},
   "outputs": [],
   "source": [
    "# speichern\n",
    "\n",
    "df_bigger.to_csv('Korpus/corpus_periods.csv', encoding='utf-8', index=False)"
   ]
  },
  {
   "cell_type": "code",
   "execution_count": null,
   "id": "a3029432",
   "metadata": {},
   "outputs": [],
   "source": []
  }
 ],
 "metadata": {
  "kernelspec": {
   "display_name": "Python 3 (ipykernel)",
   "language": "python",
   "name": "python3"
  },
  "language_info": {
   "codemirror_mode": {
    "name": "ipython",
    "version": 3
   },
   "file_extension": ".py",
   "mimetype": "text/x-python",
   "name": "python",
   "nbconvert_exporter": "python",
   "pygments_lexer": "ipython3",
   "version": "3.7.11"
  }
 },
 "nbformat": 4,
 "nbformat_minor": 5
}
