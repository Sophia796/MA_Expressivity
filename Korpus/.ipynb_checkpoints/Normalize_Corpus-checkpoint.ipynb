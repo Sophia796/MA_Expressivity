{
 "cells": [
  {
   "cell_type": "markdown",
   "id": "bf07efd5",
   "metadata": {},
   "source": [
    "# Korpus normalisieren / ausbalancieren"
   ]
  },
  {
   "cell_type": "code",
   "execution_count": 1,
   "id": "d9b84ded",
   "metadata": {},
   "outputs": [],
   "source": [
    "from collections import Counter\n",
    "from matplotlib import pyplot as plt\n",
    "from matplotlib import ticker\n",
    "import glob\n",
    "import math\n",
    "import numpy as np\n",
    "import os\n",
    "import pandas as pd\n",
    "import re\n",
    "import seaborn as sns"
   ]
  },
  {
   "cell_type": "code",
   "execution_count": 2,
   "id": "3cf9633b",
   "metadata": {},
   "outputs": [],
   "source": [
    "# großes DF einlesen \n",
    "\n",
    "df_bigger = pd.read_csv('Korpus/corpus_periods.csv', sep=',', encoding='utf-8')"
   ]
  },
  {
   "cell_type": "code",
   "execution_count": 3,
   "id": "45c81344",
   "metadata": {},
   "outputs": [
    {
     "data": {
      "text/plain": [
       "(431959, 11)"
      ]
     },
     "execution_count": 3,
     "metadata": {},
     "output_type": "execute_result"
    }
   ],
   "source": [
    "df_bigger.shape"
   ]
  },
  {
   "cell_type": "code",
   "execution_count": 4,
   "id": "b46ca910",
   "metadata": {},
   "outputs": [],
   "source": [
    "# Duplikate löschen\n",
    "\n",
    "df_bigger = df_bigger.drop_duplicates(subset=['author', 'title', 'year', 'text'])"
   ]
  },
  {
   "cell_type": "code",
   "execution_count": 5,
   "id": "fa338afb",
   "metadata": {},
   "outputs": [
    {
     "data": {
      "text/plain": [
       "(425188, 11)"
      ]
     },
     "execution_count": 5,
     "metadata": {},
     "output_type": "execute_result"
    }
   ],
   "source": [
    "df_bigger.shape"
   ]
  },
  {
   "cell_type": "markdown",
   "id": "cb75744e",
   "metadata": {},
   "source": [
    "## Kandidaten im Korpus ohne Duplikate"
   ]
  },
  {
   "cell_type": "code",
   "execution_count": 6,
   "id": "f31f5f0b",
   "metadata": {},
   "outputs": [],
   "source": [
    "df_copy = df_bigger.copy()"
   ]
  },
  {
   "cell_type": "code",
   "execution_count": 7,
   "id": "8e49cae4",
   "metadata": {},
   "outputs": [],
   "source": [
    "df_copy.text = df_copy.text.fillna('')\n",
    "df_copy.lemmatized_text = df_copy.lemmatized_text.fillna('')\n",
    "df_copy.cleaned_text = df_copy.cleaned_text.fillna('')"
   ]
  },
  {
   "cell_type": "code",
   "execution_count": 8,
   "id": "436b324e",
   "metadata": {},
   "outputs": [],
   "source": [
    "# Teilframes pro Zeitraum erstellen\n",
    "\n",
    "period_frames = []\n",
    "periods = list(df_copy['period'].unique())\n",
    "df_copy_periods = dict(tuple(df_copy.groupby(by='period')))\n",
    "\n",
    "for df_copy, period in zip(df_copy_periods, periods):\n",
    "    df_copy_period = df_copy_periods[period]\n",
    "    period_frames.append(df_copy_period)"
   ]
  },
  {
   "cell_type": "code",
   "execution_count": 9,
   "id": "c74518fc",
   "metadata": {},
   "outputs": [],
   "source": [
    "# Funktion, die bestimmte Wörter zählt\n",
    "\n",
    "def count_keywords(df_copy, keywords):\n",
    "    keyword_dict = {w:w.replace(' ', '_') for w in keywords}\n",
    "\n",
    "    corpus = ' '.join(df_copy.lemmatized_text).lower()                     \n",
    "    for w,w2 in keyword_dict.items():\n",
    "        corpus = corpus.replace(w,w2)\n",
    "\n",
    "    all_counts = Counter(corpus.split())\n",
    "    final_counts = {w:all_counts[w2] for w,w2 in keyword_dict.items()}\n",
    "    return final_counts"
   ]
  },
  {
   "cell_type": "code",
   "execution_count": 10,
   "id": "eb89fbd3",
   "metadata": {},
   "outputs": [],
   "source": [
    "# mögliche Kandidaten\n",
    "\n",
    "keywords = ['atrocemente', 'formidabilmente', 'mostruosamente', 'orrendamente', \n",
    "            'orribilmente', 'spaventosamente', 'terribilmente', 'tremendamente', \n",
    "            'molto', 'angoscia', 'angosciare', 'ansia', 'atterrire', 'panico', \n",
    "            'paura', 'raccapricciare', 'raccapriccio', 'schifo', 'sgomentare', \n",
    "            'sgomento', 'spaventare', 'spavento', 'terrore', 'domani', 'finora', \n",
    "            'ieri', 'oggi', 'presto', 'raramente', 'sempre', 'spesso']"
   ]
  },
  {
   "cell_type": "code",
   "execution_count": 11,
   "id": "36724fae",
   "metadata": {},
   "outputs": [],
   "source": [
    "candidates = {}\n",
    "\n",
    "for df_copy, period in zip(period_frames, periods):\n",
    "    res = count_keywords(df_copy, keywords)\n",
    "    candidates[period] = res"
   ]
  },
  {
   "cell_type": "code",
   "execution_count": 12,
   "id": "f46cd5bf",
   "metadata": {},
   "outputs": [
    {
     "data": {
      "text/html": [
       "<div>\n",
       "<style scoped>\n",
       "    .dataframe tbody tr th:only-of-type {\n",
       "        vertical-align: middle;\n",
       "    }\n",
       "\n",
       "    .dataframe tbody tr th {\n",
       "        vertical-align: top;\n",
       "    }\n",
       "\n",
       "    .dataframe thead th {\n",
       "        text-align: right;\n",
       "    }\n",
       "</style>\n",
       "<table border=\"1\" class=\"dataframe\">\n",
       "  <thead>\n",
       "    <tr style=\"text-align: right;\">\n",
       "      <th></th>\n",
       "      <th>atrocemente</th>\n",
       "      <th>formidabilmente</th>\n",
       "      <th>mostruosamente</th>\n",
       "      <th>orrendamente</th>\n",
       "      <th>orribilmente</th>\n",
       "      <th>spaventosamente</th>\n",
       "      <th>terribilmente</th>\n",
       "      <th>tremendamente</th>\n",
       "      <th>molto</th>\n",
       "      <th>angoscia</th>\n",
       "      <th>...</th>\n",
       "      <th>spavento</th>\n",
       "      <th>terrore</th>\n",
       "      <th>domani</th>\n",
       "      <th>finora</th>\n",
       "      <th>ieri</th>\n",
       "      <th>oggi</th>\n",
       "      <th>presto</th>\n",
       "      <th>raramente</th>\n",
       "      <th>sempre</th>\n",
       "      <th>spesso</th>\n",
       "    </tr>\n",
       "  </thead>\n",
       "  <tbody>\n",
       "    <tr>\n",
       "      <th>1700-1750</th>\n",
       "      <td>1</td>\n",
       "      <td>0</td>\n",
       "      <td>1</td>\n",
       "      <td>1</td>\n",
       "      <td>17</td>\n",
       "      <td>5</td>\n",
       "      <td>7</td>\n",
       "      <td>0</td>\n",
       "      <td>10543</td>\n",
       "      <td>16</td>\n",
       "      <td>...</td>\n",
       "      <td>217</td>\n",
       "      <td>135</td>\n",
       "      <td>32</td>\n",
       "      <td>200</td>\n",
       "      <td>25</td>\n",
       "      <td>600</td>\n",
       "      <td>274</td>\n",
       "      <td>9</td>\n",
       "      <td>1962</td>\n",
       "      <td>522</td>\n",
       "    </tr>\n",
       "    <tr>\n",
       "      <th>1751-1800</th>\n",
       "      <td>3</td>\n",
       "      <td>0</td>\n",
       "      <td>0</td>\n",
       "      <td>1</td>\n",
       "      <td>24</td>\n",
       "      <td>1</td>\n",
       "      <td>9</td>\n",
       "      <td>0</td>\n",
       "      <td>15469</td>\n",
       "      <td>69</td>\n",
       "      <td>...</td>\n",
       "      <td>96</td>\n",
       "      <td>147</td>\n",
       "      <td>180</td>\n",
       "      <td>243</td>\n",
       "      <td>106</td>\n",
       "      <td>618</td>\n",
       "      <td>574</td>\n",
       "      <td>47</td>\n",
       "      <td>3064</td>\n",
       "      <td>822</td>\n",
       "    </tr>\n",
       "    <tr>\n",
       "      <th>1801-1850</th>\n",
       "      <td>17</td>\n",
       "      <td>0</td>\n",
       "      <td>2</td>\n",
       "      <td>15</td>\n",
       "      <td>51</td>\n",
       "      <td>4</td>\n",
       "      <td>33</td>\n",
       "      <td>2</td>\n",
       "      <td>21552</td>\n",
       "      <td>226</td>\n",
       "      <td>...</td>\n",
       "      <td>344</td>\n",
       "      <td>451</td>\n",
       "      <td>418</td>\n",
       "      <td>247</td>\n",
       "      <td>476</td>\n",
       "      <td>2092</td>\n",
       "      <td>1046</td>\n",
       "      <td>44</td>\n",
       "      <td>5764</td>\n",
       "      <td>1308</td>\n",
       "    </tr>\n",
       "    <tr>\n",
       "      <th>1851-1900</th>\n",
       "      <td>87</td>\n",
       "      <td>12</td>\n",
       "      <td>22</td>\n",
       "      <td>40</td>\n",
       "      <td>249</td>\n",
       "      <td>47</td>\n",
       "      <td>145</td>\n",
       "      <td>67</td>\n",
       "      <td>46277</td>\n",
       "      <td>699</td>\n",
       "      <td>...</td>\n",
       "      <td>780</td>\n",
       "      <td>907</td>\n",
       "      <td>1912</td>\n",
       "      <td>631</td>\n",
       "      <td>1034</td>\n",
       "      <td>3295</td>\n",
       "      <td>2604</td>\n",
       "      <td>216</td>\n",
       "      <td>12449</td>\n",
       "      <td>2453</td>\n",
       "    </tr>\n",
       "    <tr>\n",
       "      <th>1901-1950</th>\n",
       "      <td>72</td>\n",
       "      <td>18</td>\n",
       "      <td>36</td>\n",
       "      <td>41</td>\n",
       "      <td>192</td>\n",
       "      <td>134</td>\n",
       "      <td>249</td>\n",
       "      <td>50</td>\n",
       "      <td>26760</td>\n",
       "      <td>699</td>\n",
       "      <td>...</td>\n",
       "      <td>477</td>\n",
       "      <td>752</td>\n",
       "      <td>1741</td>\n",
       "      <td>488</td>\n",
       "      <td>1190</td>\n",
       "      <td>2686</td>\n",
       "      <td>1505</td>\n",
       "      <td>302</td>\n",
       "      <td>7431</td>\n",
       "      <td>1680</td>\n",
       "    </tr>\n",
       "    <tr>\n",
       "      <th>1951-2000</th>\n",
       "      <td>130</td>\n",
       "      <td>8</td>\n",
       "      <td>112</td>\n",
       "      <td>132</td>\n",
       "      <td>145</td>\n",
       "      <td>146</td>\n",
       "      <td>238</td>\n",
       "      <td>142</td>\n",
       "      <td>31274</td>\n",
       "      <td>692</td>\n",
       "      <td>...</td>\n",
       "      <td>336</td>\n",
       "      <td>710</td>\n",
       "      <td>1768</td>\n",
       "      <td>1512</td>\n",
       "      <td>5049</td>\n",
       "      <td>5709</td>\n",
       "      <td>1756</td>\n",
       "      <td>836</td>\n",
       "      <td>7635</td>\n",
       "      <td>2748</td>\n",
       "    </tr>\n",
       "    <tr>\n",
       "      <th>2001-2021</th>\n",
       "      <td>196</td>\n",
       "      <td>193</td>\n",
       "      <td>205</td>\n",
       "      <td>202</td>\n",
       "      <td>201</td>\n",
       "      <td>201</td>\n",
       "      <td>216</td>\n",
       "      <td>212</td>\n",
       "      <td>28674</td>\n",
       "      <td>266</td>\n",
       "      <td>...</td>\n",
       "      <td>221</td>\n",
       "      <td>361</td>\n",
       "      <td>1785</td>\n",
       "      <td>714</td>\n",
       "      <td>3311</td>\n",
       "      <td>5865</td>\n",
       "      <td>989</td>\n",
       "      <td>250</td>\n",
       "      <td>7110</td>\n",
       "      <td>1603</td>\n",
       "    </tr>\n",
       "  </tbody>\n",
       "</table>\n",
       "<p>7 rows × 31 columns</p>\n",
       "</div>"
      ],
      "text/plain": [
       "           atrocemente  formidabilmente  mostruosamente  orrendamente  \\\n",
       "1700-1750            1                0               1             1   \n",
       "1751-1800            3                0               0             1   \n",
       "1801-1850           17                0               2            15   \n",
       "1851-1900           87               12              22            40   \n",
       "1901-1950           72               18              36            41   \n",
       "1951-2000          130                8             112           132   \n",
       "2001-2021          196              193             205           202   \n",
       "\n",
       "           orribilmente  spaventosamente  terribilmente  tremendamente  molto  \\\n",
       "1700-1750            17                5              7              0  10543   \n",
       "1751-1800            24                1              9              0  15469   \n",
       "1801-1850            51                4             33              2  21552   \n",
       "1851-1900           249               47            145             67  46277   \n",
       "1901-1950           192              134            249             50  26760   \n",
       "1951-2000           145              146            238            142  31274   \n",
       "2001-2021           201              201            216            212  28674   \n",
       "\n",
       "           angoscia  ...  spavento  terrore  domani  finora  ieri  oggi  \\\n",
       "1700-1750        16  ...       217      135      32     200    25   600   \n",
       "1751-1800        69  ...        96      147     180     243   106   618   \n",
       "1801-1850       226  ...       344      451     418     247   476  2092   \n",
       "1851-1900       699  ...       780      907    1912     631  1034  3295   \n",
       "1901-1950       699  ...       477      752    1741     488  1190  2686   \n",
       "1951-2000       692  ...       336      710    1768    1512  5049  5709   \n",
       "2001-2021       266  ...       221      361    1785     714  3311  5865   \n",
       "\n",
       "           presto  raramente  sempre  spesso  \n",
       "1700-1750     274          9    1962     522  \n",
       "1751-1800     574         47    3064     822  \n",
       "1801-1850    1046         44    5764    1308  \n",
       "1851-1900    2604        216   12449    2453  \n",
       "1901-1950    1505        302    7431    1680  \n",
       "1951-2000    1756        836    7635    2748  \n",
       "2001-2021     989        250    7110    1603  \n",
       "\n",
       "[7 rows x 31 columns]"
      ]
     },
     "execution_count": 12,
     "metadata": {},
     "output_type": "execute_result"
    }
   ],
   "source": [
    "table = pd.DataFrame.from_dict(candidates, orient='index')\n",
    "table"
   ]
  },
  {
   "cell_type": "code",
   "execution_count": 13,
   "id": "8c1bf987",
   "metadata": {},
   "outputs": [],
   "source": [
    "table.to_csv('Korpus/candidates_without_duplicates.csv', sep=';')"
   ]
  },
  {
   "cell_type": "markdown",
   "id": "5e5cf25e",
   "metadata": {},
   "source": [
    "## Adverbien in einzelnen Texten zählen"
   ]
  },
  {
   "cell_type": "code",
   "execution_count": 14,
   "id": "e3b871a8",
   "metadata": {},
   "outputs": [],
   "source": [
    "def countMos(str):\n",
    "    wordslist = list(str.split())\n",
    "    return wordslist.count('mostruosamente')\n",
    "\n",
    "def countOrr(str):\n",
    "    wordslist = list(str.split())\n",
    "    return wordslist.count('orribilmente')\n",
    "\n",
    "def countSpa(str):\n",
    "    wordslist = list(str.split())\n",
    "    return wordslist.count('spaventosamente')\n",
    "\n",
    "def countTerr(str):\n",
    "    wordslist = list(str.split())\n",
    "    return wordslist.count('terribilmente')\n",
    "\n",
    "def countTre(str):\n",
    "    wordslist = list(str.split())\n",
    "    return wordslist.count('tremendamente')"
   ]
  },
  {
   "cell_type": "code",
   "execution_count": 15,
   "id": "bc229a09",
   "metadata": {},
   "outputs": [],
   "source": [
    "df_bigger['mostruosamente'] = df_bigger['cleaned_text'].astype(str).apply(countMos)\n",
    "df_bigger['orribilmente'] = df_bigger['cleaned_text'].astype(str).apply(countOrr)\n",
    "df_bigger['spaventosamente'] = df_bigger['cleaned_text'].astype(str).apply(countSpa)\n",
    "df_bigger['terribilmente'] = df_bigger['cleaned_text'].astype(str).apply(countTerr)\n",
    "df_bigger['tremendamente'] = df_bigger['cleaned_text'].astype(str).apply(countTre)"
   ]
  },
  {
   "cell_type": "code",
   "execution_count": 16,
   "id": "c08419c1",
   "metadata": {},
   "outputs": [
    {
     "data": {
      "text/html": [
       "<div>\n",
       "<style scoped>\n",
       "    .dataframe tbody tr th:only-of-type {\n",
       "        vertical-align: middle;\n",
       "    }\n",
       "\n",
       "    .dataframe tbody tr th {\n",
       "        vertical-align: top;\n",
       "    }\n",
       "\n",
       "    .dataframe thead th {\n",
       "        text-align: right;\n",
       "    }\n",
       "</style>\n",
       "<table border=\"1\" class=\"dataframe\">\n",
       "  <thead>\n",
       "    <tr style=\"text-align: right;\">\n",
       "      <th></th>\n",
       "      <th>doc</th>\n",
       "      <th>source</th>\n",
       "      <th>author</th>\n",
       "      <th>title</th>\n",
       "      <th>year</th>\n",
       "      <th>period</th>\n",
       "      <th>text_type</th>\n",
       "      <th>words</th>\n",
       "      <th>text</th>\n",
       "      <th>cleaned_text</th>\n",
       "      <th>lemmatized_text</th>\n",
       "      <th>mostruosamente</th>\n",
       "      <th>orribilmente</th>\n",
       "      <th>spaventosamente</th>\n",
       "      <th>terribilmente</th>\n",
       "      <th>tremendamente</th>\n",
       "    </tr>\n",
       "  </thead>\n",
       "  <tbody>\n",
       "    <tr>\n",
       "      <th>23</th>\n",
       "      <td>BibItDiversi3.txt</td>\n",
       "      <td>BibIt</td>\n",
       "      <td>diversi</td>\n",
       "      <td>Rime degli Arcadi / tomo quinto</td>\n",
       "      <td>1717.0</td>\n",
       "      <td>1700-1750</td>\n",
       "      <td>poesia</td>\n",
       "      <td>74909.0</td>\n",
       "      <td>Acasto Lampeatico\\n1\\nAhimè, che il carro mio ...</td>\n",
       "      <td>acasto lampeatico   ahimè, che il carro mio fr...</td>\n",
       "      <td>acasto lampeatico \\n 1 \\n ahimè , che il carro...</td>\n",
       "      <td>0</td>\n",
       "      <td>2</td>\n",
       "      <td>0</td>\n",
       "      <td>1</td>\n",
       "      <td>0</td>\n",
       "    </tr>\n",
       "    <tr>\n",
       "      <th>6020</th>\n",
       "      <td>GBterribilmente.csv</td>\n",
       "      <td>Gutenberg</td>\n",
       "      <td>Lodovico Antonio Muratori</td>\n",
       "      <td>Annali d''Italia, vol. 1: dal principio dell''...</td>\n",
       "      <td>1749.0</td>\n",
       "      <td>1700-1750</td>\n",
       "      <td>prosa letteraria</td>\n",
       "      <td>36.0</td>\n",
       "      <td>[3124]. Nelle altre medaglie e nelle iscrizion...</td>\n",
       "      <td>. nelle altre medaglie e nelle iscrizion...</td>\n",
       "      <td>[ 3124 ] . nella altro medaglia e nella iscriz...</td>\n",
       "      <td>0</td>\n",
       "      <td>0</td>\n",
       "      <td>0</td>\n",
       "      <td>1</td>\n",
       "      <td>0</td>\n",
       "    </tr>\n",
       "    <tr>\n",
       "      <th>6021</th>\n",
       "      <td>GBterribilmente.csv</td>\n",
       "      <td>Gutenberg</td>\n",
       "      <td>Lodovico Antonio Muratori</td>\n",
       "      <td>Annali d''Italia, vol. 1: dal principio dell''...</td>\n",
       "      <td>1749.0</td>\n",
       "      <td>1700-1750</td>\n",
       "      <td>prosa letteraria</td>\n",
       "      <td>42.0</td>\n",
       "      <td>, dov''egli passava, lasciava la micidial infe...</td>\n",
       "      <td>, dov  egli passava, lasciava la micidial infe...</td>\n",
       "      <td>, dov''egli passare , lasciare il micidial inf...</td>\n",
       "      <td>0</td>\n",
       "      <td>0</td>\n",
       "      <td>0</td>\n",
       "      <td>1</td>\n",
       "      <td>0</td>\n",
       "    </tr>\n",
       "    <tr>\n",
       "      <th>6022</th>\n",
       "      <td>GBterribilmente.csv</td>\n",
       "      <td>Gutenberg</td>\n",
       "      <td>Lodovico Antonio Muratori</td>\n",
       "      <td>Annali d''Italia, vol. 4: dal principio dell''...</td>\n",
       "      <td>1749.0</td>\n",
       "      <td>1700-1750</td>\n",
       "      <td>prosa letteraria</td>\n",
       "      <td>45.0</td>\n",
       "      <td>in una casa privata, e la seguente mane imbarc...</td>\n",
       "      <td>in una casa privata, e la seguente mane imbarc...</td>\n",
       "      <td>in uno casa privato , e il seguente mane imbar...</td>\n",
       "      <td>0</td>\n",
       "      <td>0</td>\n",
       "      <td>0</td>\n",
       "      <td>1</td>\n",
       "      <td>0</td>\n",
       "    </tr>\n",
       "    <tr>\n",
       "      <th>6030</th>\n",
       "      <td>GBterribilmente.csv</td>\n",
       "      <td>Gutenberg</td>\n",
       "      <td>Lodovico Antonio Muratori</td>\n",
       "      <td>Annali d''Italia, vol. 7: dal principio dell''...</td>\n",
       "      <td>1749.0</td>\n",
       "      <td>1700-1750</td>\n",
       "      <td>prosa letteraria</td>\n",
       "      <td>35.0</td>\n",
       "      <td>a dar gli ordini opportuni, trovandosi coraggi...</td>\n",
       "      <td>a dar gli ordini opportuni, trovandosi coraggi...</td>\n",
       "      <td>a dare il ordine opportuno , trovare coraggios...</td>\n",
       "      <td>0</td>\n",
       "      <td>0</td>\n",
       "      <td>0</td>\n",
       "      <td>1</td>\n",
       "      <td>0</td>\n",
       "    </tr>\n",
       "  </tbody>\n",
       "</table>\n",
       "</div>"
      ],
      "text/plain": [
       "                      doc     source                      author  \\\n",
       "23      BibItDiversi3.txt      BibIt                     diversi   \n",
       "6020  GBterribilmente.csv  Gutenberg   Lodovico Antonio Muratori   \n",
       "6021  GBterribilmente.csv  Gutenberg   Lodovico Antonio Muratori   \n",
       "6022  GBterribilmente.csv  Gutenberg   Lodovico Antonio Muratori   \n",
       "6030  GBterribilmente.csv  Gutenberg   Lodovico Antonio Muratori   \n",
       "\n",
       "                                                  title    year     period  \\\n",
       "23                      Rime degli Arcadi / tomo quinto  1717.0  1700-1750   \n",
       "6020  Annali d''Italia, vol. 1: dal principio dell''...  1749.0  1700-1750   \n",
       "6021  Annali d''Italia, vol. 1: dal principio dell''...  1749.0  1700-1750   \n",
       "6022  Annali d''Italia, vol. 4: dal principio dell''...  1749.0  1700-1750   \n",
       "6030  Annali d''Italia, vol. 7: dal principio dell''...  1749.0  1700-1750   \n",
       "\n",
       "             text_type    words  \\\n",
       "23              poesia  74909.0   \n",
       "6020  prosa letteraria     36.0   \n",
       "6021  prosa letteraria     42.0   \n",
       "6022  prosa letteraria     45.0   \n",
       "6030  prosa letteraria     35.0   \n",
       "\n",
       "                                                   text  \\\n",
       "23    Acasto Lampeatico\\n1\\nAhimè, che il carro mio ...   \n",
       "6020  [3124]. Nelle altre medaglie e nelle iscrizion...   \n",
       "6021  , dov''egli passava, lasciava la micidial infe...   \n",
       "6022  in una casa privata, e la seguente mane imbarc...   \n",
       "6030  a dar gli ordini opportuni, trovandosi coraggi...   \n",
       "\n",
       "                                           cleaned_text  \\\n",
       "23    acasto lampeatico   ahimè, che il carro mio fr...   \n",
       "6020        . nelle altre medaglie e nelle iscrizion...   \n",
       "6021  , dov  egli passava, lasciava la micidial infe...   \n",
       "6022  in una casa privata, e la seguente mane imbarc...   \n",
       "6030  a dar gli ordini opportuni, trovandosi coraggi...   \n",
       "\n",
       "                                        lemmatized_text  mostruosamente  \\\n",
       "23    acasto lampeatico \\n 1 \\n ahimè , che il carro...               0   \n",
       "6020  [ 3124 ] . nella altro medaglia e nella iscriz...               0   \n",
       "6021  , dov''egli passare , lasciare il micidial inf...               0   \n",
       "6022  in uno casa privato , e il seguente mane imbar...               0   \n",
       "6030  a dare il ordine opportuno , trovare coraggios...               0   \n",
       "\n",
       "      orribilmente  spaventosamente  terribilmente  tremendamente  \n",
       "23               2                0              1              0  \n",
       "6020             0                0              1              0  \n",
       "6021             0                0              1              0  \n",
       "6022             0                0              1              0  \n",
       "6030             0                0              1              0  "
      ]
     },
     "execution_count": 16,
     "metadata": {},
     "output_type": "execute_result"
    }
   ],
   "source": [
    "df_bigger[df_bigger['terribilmente'] >= 1].head()"
   ]
  },
  {
   "cell_type": "markdown",
   "id": "b274e9d7",
   "metadata": {},
   "source": [
    "## Gewichtung der Texte, die die Kandidaten und die Quelldomäne enthalten"
   ]
  },
  {
   "cell_type": "code",
   "execution_count": 17,
   "id": "5bf2a307",
   "metadata": {},
   "outputs": [],
   "source": [
    "adverbs = ['mostruosamente', 'orribilmente', 'spaventosamente', 'terribilmente', 'tremendamente']\n",
    "\n",
    "domaine = ['angoscia', 'angosciare', 'ansia', 'atterrire', 'panico', 'paura', 'raccapricciare', \n",
    "           'raccapriccio', 'schifo', 'sgomentare', 'sgomento', 'spaventare', 'spavento', 'terrore']"
   ]
  },
  {
   "cell_type": "code",
   "execution_count": 18,
   "id": "d6fcf619",
   "metadata": {},
   "outputs": [],
   "source": [
    "def is_word(cleaned_text):\n",
    "    if any(word in cleaned_text for word in adverbs):  \n",
    "        x = 1          # größte Gewichtung bei den Adverbien       \n",
    "    elif any(word in cleaned_text for word in domaine):       \n",
    "        x = 0.8        # ein bisschen Gewichtung bei der Quelldomäne                                         \n",
    "    else:\n",
    "        x = 0.5        # kleine Gewichtung beim Rest\n",
    "    return x"
   ]
  },
  {
   "cell_type": "code",
   "execution_count": 19,
   "id": "8ad3e72a",
   "metadata": {},
   "outputs": [],
   "source": [
    "df_bigger['weight'] = df_bigger['cleaned_text'].astype(str).apply(is_word)  "
   ]
  },
  {
   "cell_type": "code",
   "execution_count": 20,
   "id": "1f1730b5",
   "metadata": {},
   "outputs": [
    {
     "data": {
      "text/html": [
       "<div>\n",
       "<style scoped>\n",
       "    .dataframe tbody tr th:only-of-type {\n",
       "        vertical-align: middle;\n",
       "    }\n",
       "\n",
       "    .dataframe tbody tr th {\n",
       "        vertical-align: top;\n",
       "    }\n",
       "\n",
       "    .dataframe thead th {\n",
       "        text-align: right;\n",
       "    }\n",
       "</style>\n",
       "<table border=\"1\" class=\"dataframe\">\n",
       "  <thead>\n",
       "    <tr style=\"text-align: right;\">\n",
       "      <th></th>\n",
       "      <th>doc</th>\n",
       "      <th>source</th>\n",
       "      <th>author</th>\n",
       "      <th>title</th>\n",
       "      <th>year</th>\n",
       "      <th>period</th>\n",
       "      <th>text_type</th>\n",
       "      <th>words</th>\n",
       "      <th>text</th>\n",
       "      <th>cleaned_text</th>\n",
       "      <th>lemmatized_text</th>\n",
       "      <th>mostruosamente</th>\n",
       "      <th>orribilmente</th>\n",
       "      <th>spaventosamente</th>\n",
       "      <th>terribilmente</th>\n",
       "      <th>tremendamente</th>\n",
       "      <th>weight</th>\n",
       "    </tr>\n",
       "  </thead>\n",
       "  <tbody>\n",
       "    <tr>\n",
       "      <th>17</th>\n",
       "      <td>ita000099.txt</td>\n",
       "      <td>ItaDraCor</td>\n",
       "      <td>Annibale Marchese</td>\n",
       "      <td>Il Crispo</td>\n",
       "      <td>1715.0</td>\n",
       "      <td>1700-1750</td>\n",
       "      <td>teatro</td>\n",
       "      <td>16961.0</td>\n",
       "      <td>Degno mio germe, per cui sol vedrassi\\nA l'org...</td>\n",
       "      <td>degno mio germe, per cui sol vedrassi a l orgo...</td>\n",
       "      <td>degno mio germe , per cui sole vedrassi \\n a i...</td>\n",
       "      <td>0</td>\n",
       "      <td>2</td>\n",
       "      <td>0</td>\n",
       "      <td>0</td>\n",
       "      <td>0</td>\n",
       "      <td>1.0</td>\n",
       "    </tr>\n",
       "    <tr>\n",
       "      <th>20</th>\n",
       "      <td>BibItDiversi4.txt</td>\n",
       "      <td>BibIt</td>\n",
       "      <td>diversi</td>\n",
       "      <td>Rime degli Arcadi / tomo secondo</td>\n",
       "      <td>1716.0</td>\n",
       "      <td>1700-1750</td>\n",
       "      <td>poesia</td>\n",
       "      <td>76203.0</td>\n",
       "      <td>Aci Delpusiano\\n1\\nDov'è quella famosa, alta, ...</td>\n",
       "      <td>aci delpusiano   dov è quella famosa, alta, su...</td>\n",
       "      <td>Aci delpusiano \\n 1 \\n dove essere quella famo...</td>\n",
       "      <td>0</td>\n",
       "      <td>1</td>\n",
       "      <td>0</td>\n",
       "      <td>0</td>\n",
       "      <td>0</td>\n",
       "      <td>1.0</td>\n",
       "    </tr>\n",
       "    <tr>\n",
       "      <th>21</th>\n",
       "      <td>BibItDiversi6.txt</td>\n",
       "      <td>BibIt</td>\n",
       "      <td>diversi</td>\n",
       "      <td>Rime degli Arcadi / tomo terzo</td>\n",
       "      <td>1716.0</td>\n",
       "      <td>1700-1750</td>\n",
       "      <td>poesia</td>\n",
       "      <td>79958.0</td>\n",
       "      <td>Adelindo Gerenio\\n1\\nVissi lunga stagione al M...</td>\n",
       "      <td>adelindo gerenio   vissi lunga stagione al mon...</td>\n",
       "      <td>adelindo gerenio \\n 1 \\n vissi lungo stagione ...</td>\n",
       "      <td>0</td>\n",
       "      <td>2</td>\n",
       "      <td>0</td>\n",
       "      <td>0</td>\n",
       "      <td>0</td>\n",
       "      <td>1.0</td>\n",
       "    </tr>\n",
       "    <tr>\n",
       "      <th>22</th>\n",
       "      <td>BibItDiversi2.txt</td>\n",
       "      <td>BibIt</td>\n",
       "      <td>diversi</td>\n",
       "      <td>Rime degli Arcadi / tomo quarto</td>\n",
       "      <td>1717.0</td>\n",
       "      <td>1700-1750</td>\n",
       "      <td>poesia</td>\n",
       "      <td>74529.0</td>\n",
       "      <td>Adalsio Metoneo\\n1\\nQuesti, più assai che del ...</td>\n",
       "      <td>adalsio metoneo   questi, più assai che del mi...</td>\n",
       "      <td>adalsio metoneo \\n 1 \\n questi , molto assai c...</td>\n",
       "      <td>0</td>\n",
       "      <td>2</td>\n",
       "      <td>0</td>\n",
       "      <td>0</td>\n",
       "      <td>0</td>\n",
       "      <td>1.0</td>\n",
       "    </tr>\n",
       "    <tr>\n",
       "      <th>23</th>\n",
       "      <td>BibItDiversi3.txt</td>\n",
       "      <td>BibIt</td>\n",
       "      <td>diversi</td>\n",
       "      <td>Rime degli Arcadi / tomo quinto</td>\n",
       "      <td>1717.0</td>\n",
       "      <td>1700-1750</td>\n",
       "      <td>poesia</td>\n",
       "      <td>74909.0</td>\n",
       "      <td>Acasto Lampeatico\\n1\\nAhimè, che il carro mio ...</td>\n",
       "      <td>acasto lampeatico   ahimè, che il carro mio fr...</td>\n",
       "      <td>acasto lampeatico \\n 1 \\n ahimè , che il carro...</td>\n",
       "      <td>0</td>\n",
       "      <td>2</td>\n",
       "      <td>0</td>\n",
       "      <td>1</td>\n",
       "      <td>0</td>\n",
       "      <td>1.0</td>\n",
       "    </tr>\n",
       "  </tbody>\n",
       "</table>\n",
       "</div>"
      ],
      "text/plain": [
       "                  doc     source             author  \\\n",
       "17      ita000099.txt  ItaDraCor  Annibale Marchese   \n",
       "20  BibItDiversi4.txt      BibIt            diversi   \n",
       "21  BibItDiversi6.txt      BibIt            diversi   \n",
       "22  BibItDiversi2.txt      BibIt            diversi   \n",
       "23  BibItDiversi3.txt      BibIt            diversi   \n",
       "\n",
       "                               title    year     period text_type    words  \\\n",
       "17                         Il Crispo  1715.0  1700-1750    teatro  16961.0   \n",
       "20  Rime degli Arcadi / tomo secondo  1716.0  1700-1750    poesia  76203.0   \n",
       "21    Rime degli Arcadi / tomo terzo  1716.0  1700-1750    poesia  79958.0   \n",
       "22   Rime degli Arcadi / tomo quarto  1717.0  1700-1750    poesia  74529.0   \n",
       "23   Rime degli Arcadi / tomo quinto  1717.0  1700-1750    poesia  74909.0   \n",
       "\n",
       "                                                 text  \\\n",
       "17  Degno mio germe, per cui sol vedrassi\\nA l'org...   \n",
       "20  Aci Delpusiano\\n1\\nDov'è quella famosa, alta, ...   \n",
       "21  Adelindo Gerenio\\n1\\nVissi lunga stagione al M...   \n",
       "22  Adalsio Metoneo\\n1\\nQuesti, più assai che del ...   \n",
       "23  Acasto Lampeatico\\n1\\nAhimè, che il carro mio ...   \n",
       "\n",
       "                                         cleaned_text  \\\n",
       "17  degno mio germe, per cui sol vedrassi a l orgo...   \n",
       "20  aci delpusiano   dov è quella famosa, alta, su...   \n",
       "21  adelindo gerenio   vissi lunga stagione al mon...   \n",
       "22  adalsio metoneo   questi, più assai che del mi...   \n",
       "23  acasto lampeatico   ahimè, che il carro mio fr...   \n",
       "\n",
       "                                      lemmatized_text  mostruosamente  \\\n",
       "17  degno mio germe , per cui sole vedrassi \\n a i...               0   \n",
       "20  Aci delpusiano \\n 1 \\n dove essere quella famo...               0   \n",
       "21  adelindo gerenio \\n 1 \\n vissi lungo stagione ...               0   \n",
       "22  adalsio metoneo \\n 1 \\n questi , molto assai c...               0   \n",
       "23  acasto lampeatico \\n 1 \\n ahimè , che il carro...               0   \n",
       "\n",
       "    orribilmente  spaventosamente  terribilmente  tremendamente  weight  \n",
       "17             2                0              0              0     1.0  \n",
       "20             1                0              0              0     1.0  \n",
       "21             2                0              0              0     1.0  \n",
       "22             2                0              0              0     1.0  \n",
       "23             2                0              1              0     1.0  "
      ]
     },
     "execution_count": 20,
     "metadata": {},
     "output_type": "execute_result"
    }
   ],
   "source": [
    "df_bigger[df_bigger['weight'] == 1].head()"
   ]
  },
  {
   "cell_type": "markdown",
   "id": "00ad1c15",
   "metadata": {},
   "source": [
    "## Normalisierung"
   ]
  },
  {
   "cell_type": "code",
   "execution_count": 21,
   "id": "2a0d891e",
   "metadata": {},
   "outputs": [],
   "source": [
    "# Einzeldataframes für die Zeiträume\n",
    "\n",
    "df1 = df_bigger[df_bigger['period']=='1700-1750']\n",
    "df2 = df_bigger[df_bigger['period']=='1751-1800']\n",
    "df3 = df_bigger[df_bigger['period']=='1801-1850']\n",
    "df4 = df_bigger[df_bigger['period']=='1851-1900']\n",
    "df5 = df_bigger[df_bigger['period']=='1901-1950']\n",
    "df6 = df_bigger[df_bigger['period']=='1951-2000']\n",
    "df7 = df_bigger[df_bigger['period']=='2001-2021']"
   ]
  },
  {
   "cell_type": "markdown",
   "id": "93e3e1fb",
   "metadata": {},
   "source": [
    "### Texte mit Adverbien beiseitelegen"
   ]
  },
  {
   "cell_type": "markdown",
   "id": "502be712",
   "metadata": {},
   "source": [
    "damit sie drin bleiben, gleich viele sind etc. (vgl. Kandidatenliste 'Korpus/candidates_without_duplicates.csv')"
   ]
  },
  {
   "cell_type": "markdown",
   "id": "641a3ec0",
   "metadata": {},
   "source": [
    "#### 1700-1750"
   ]
  },
  {
   "cell_type": "code",
   "execution_count": 22,
   "id": "dbb4bab0",
   "metadata": {},
   "outputs": [],
   "source": [
    "ad1 = df1[df1['weight']==1]\n",
    "\n",
    "ad1_mostruosamente = ad1[ad1['mostruosamente']>=1]\n",
    "ad1_orribilmente = ad1[ad1['orribilmente']>=1]\n",
    "ad1_spaventosamente = ad1[ad1['spaventosamente']>=1]\n",
    "ad1_terribilmente = ad1[ad1['terribilmente']>=1]"
   ]
  },
  {
   "cell_type": "code",
   "execution_count": 23,
   "id": "75de716d",
   "metadata": {},
   "outputs": [],
   "source": [
    "# Zusammenfügen der Adverbetxte in diesem Zeitraum \n",
    "ad1_new = pd.concat([ad1_mostruosamente, ad1_orribilmente, ad1_spaventosamente, ad1_terribilmente])"
   ]
  },
  {
   "cell_type": "code",
   "execution_count": 24,
   "id": "2818dcd0",
   "metadata": {},
   "outputs": [
    {
     "data": {
      "text/plain": [
       "(24, 17)"
      ]
     },
     "execution_count": 24,
     "metadata": {},
     "output_type": "execute_result"
    }
   ],
   "source": [
    "ad1_new.shape"
   ]
  },
  {
   "cell_type": "code",
   "execution_count": 25,
   "id": "030f47bf",
   "metadata": {},
   "outputs": [],
   "source": [
    "ad1_new = ad1_new.drop_duplicates(subset=['author', 'title', 'year', 'text'])"
   ]
  },
  {
   "cell_type": "code",
   "execution_count": 26,
   "id": "a79ee62b",
   "metadata": {},
   "outputs": [
    {
     "data": {
      "text/plain": [
       "(23, 17)"
      ]
     },
     "execution_count": 26,
     "metadata": {},
     "output_type": "execute_result"
    }
   ],
   "source": [
    "ad1_new.shape"
   ]
  },
  {
   "cell_type": "markdown",
   "id": "1eb85445",
   "metadata": {},
   "source": [
    "#### 1751-1800"
   ]
  },
  {
   "cell_type": "code",
   "execution_count": 27,
   "id": "714f78a2",
   "metadata": {},
   "outputs": [],
   "source": [
    "ad2 = df2[df2['weight']==1]\n",
    "\n",
    "ad2_orribilmente = ad2[ad2['orribilmente']>=1]\n",
    "ad2_spaventosamente = ad2[ad2['spaventosamente']>=1]\n",
    "ad2_terribilmente = ad2[ad2['terribilmente']>=1]"
   ]
  },
  {
   "cell_type": "code",
   "execution_count": 28,
   "id": "fd15c004",
   "metadata": {},
   "outputs": [],
   "source": [
    "ad2_new = pd.concat([ad2_orribilmente, ad2_spaventosamente, ad2_terribilmente])"
   ]
  },
  {
   "cell_type": "code",
   "execution_count": 29,
   "id": "c16050ea",
   "metadata": {},
   "outputs": [
    {
     "data": {
      "text/plain": [
       "(21, 17)"
      ]
     },
     "execution_count": 29,
     "metadata": {},
     "output_type": "execute_result"
    }
   ],
   "source": [
    "ad2_new.shape"
   ]
  },
  {
   "cell_type": "code",
   "execution_count": 30,
   "id": "72e02779",
   "metadata": {},
   "outputs": [],
   "source": [
    "ad2_new = ad2_new.drop_duplicates(subset=['author', 'title', 'year', 'text'])"
   ]
  },
  {
   "cell_type": "code",
   "execution_count": 31,
   "id": "efd82791",
   "metadata": {},
   "outputs": [
    {
     "data": {
      "text/plain": [
       "(20, 17)"
      ]
     },
     "execution_count": 31,
     "metadata": {},
     "output_type": "execute_result"
    }
   ],
   "source": [
    "ad2_new.shape"
   ]
  },
  {
   "cell_type": "markdown",
   "id": "98a64da2",
   "metadata": {},
   "source": [
    "#### 1801-1850"
   ]
  },
  {
   "cell_type": "code",
   "execution_count": 32,
   "id": "300578d1",
   "metadata": {},
   "outputs": [],
   "source": [
    "ad3 = df3[df3['weight']==1]\n",
    "\n",
    "ad3_mostruosamente = ad3[ad3['mostruosamente']>=1]\n",
    "ad3_orribilmente = ad3[ad3['orribilmente']>=1]\n",
    "ad3_spaventosamente = ad3[ad3['spaventosamente']>=1]\n",
    "ad3_terribilmente = ad3[ad3['terribilmente']>=1]\n",
    "ad3_tremendamente = ad3[ad3['tremendamente']>=1]"
   ]
  },
  {
   "cell_type": "code",
   "execution_count": 33,
   "id": "9dc5a4d7",
   "metadata": {},
   "outputs": [],
   "source": [
    "ad3_new = pd.concat([ad3_mostruosamente, ad3_orribilmente, ad3_spaventosamente, ad3_terribilmente, ad3_tremendamente])"
   ]
  },
  {
   "cell_type": "code",
   "execution_count": 34,
   "id": "17fd07ae",
   "metadata": {},
   "outputs": [
    {
     "data": {
      "text/plain": [
       "(73, 17)"
      ]
     },
     "execution_count": 34,
     "metadata": {},
     "output_type": "execute_result"
    }
   ],
   "source": [
    "ad3_new.shape"
   ]
  },
  {
   "cell_type": "code",
   "execution_count": 35,
   "id": "45a642eb",
   "metadata": {},
   "outputs": [],
   "source": [
    "ad3_new = ad3_new.drop_duplicates(subset=['author', 'title', 'year', 'text'])"
   ]
  },
  {
   "cell_type": "code",
   "execution_count": 36,
   "id": "57097480",
   "metadata": {},
   "outputs": [
    {
     "data": {
      "text/plain": [
       "(68, 17)"
      ]
     },
     "execution_count": 36,
     "metadata": {},
     "output_type": "execute_result"
    }
   ],
   "source": [
    "ad3_new.shape"
   ]
  },
  {
   "cell_type": "markdown",
   "id": "97790cf1",
   "metadata": {},
   "source": [
    "#### 1851-1900"
   ]
  },
  {
   "cell_type": "code",
   "execution_count": 37,
   "id": "263d031b",
   "metadata": {},
   "outputs": [],
   "source": [
    "ad4 = df4[df4['weight']==1]"
   ]
  },
  {
   "cell_type": "code",
   "execution_count": 38,
   "id": "31b08764",
   "metadata": {},
   "outputs": [
    {
     "data": {
      "text/html": [
       "<div>\n",
       "<style scoped>\n",
       "    .dataframe tbody tr th:only-of-type {\n",
       "        vertical-align: middle;\n",
       "    }\n",
       "\n",
       "    .dataframe tbody tr th {\n",
       "        vertical-align: top;\n",
       "    }\n",
       "\n",
       "    .dataframe thead th {\n",
       "        text-align: right;\n",
       "    }\n",
       "</style>\n",
       "<table border=\"1\" class=\"dataframe\">\n",
       "  <thead>\n",
       "    <tr style=\"text-align: right;\">\n",
       "      <th></th>\n",
       "      <th>doc</th>\n",
       "      <th>source</th>\n",
       "      <th>author</th>\n",
       "      <th>title</th>\n",
       "      <th>year</th>\n",
       "      <th>period</th>\n",
       "      <th>text_type</th>\n",
       "      <th>words</th>\n",
       "      <th>text</th>\n",
       "      <th>cleaned_text</th>\n",
       "      <th>lemmatized_text</th>\n",
       "      <th>mostruosamente</th>\n",
       "      <th>orribilmente</th>\n",
       "      <th>spaventosamente</th>\n",
       "      <th>terribilmente</th>\n",
       "      <th>tremendamente</th>\n",
       "      <th>weight</th>\n",
       "    </tr>\n",
       "  </thead>\n",
       "  <tbody>\n",
       "    <tr>\n",
       "      <th>14962</th>\n",
       "      <td>LLAzeglio2.txt</td>\n",
       "      <td>Liber Liber</td>\n",
       "      <td>Massimo d'Azeglio</td>\n",
       "      <td>Racconti / leggende e ricordi della vita italiana</td>\n",
       "      <td>1856.0</td>\n",
       "      <td>1851-1900</td>\n",
       "      <td>personale</td>\n",
       "      <td>276056.0</td>\n",
       "      <td>Massimo d'Azeglio\\n\\n\\nRacconti, leggende e ri...</td>\n",
       "      <td>massimo d azeglio   racconti, leggende e ricor...</td>\n",
       "      <td>Massimo di Azeglio \\n\\n\\n racconto , leggenda ...</td>\n",
       "      <td>0</td>\n",
       "      <td>0</td>\n",
       "      <td>0</td>\n",
       "      <td>3</td>\n",
       "      <td>0</td>\n",
       "      <td>1.0</td>\n",
       "    </tr>\n",
       "    <tr>\n",
       "      <th>15640</th>\n",
       "      <td>li0202.txt</td>\n",
       "      <td>CLiGS Ro</td>\n",
       "      <td>Giuseppe Rovani</td>\n",
       "      <td>Cent'anni</td>\n",
       "      <td>1859.0</td>\n",
       "      <td>1851-1900</td>\n",
       "      <td>prosa letteraria</td>\n",
       "      <td>417944.0</td>\n",
       "      <td>Convien risalire a quindici anni addietro, all...</td>\n",
       "      <td>convien risalire a quindici anni addietro, all...</td>\n",
       "      <td>convien risalire a quindici anno addietro , al...</td>\n",
       "      <td>0</td>\n",
       "      <td>2</td>\n",
       "      <td>0</td>\n",
       "      <td>7</td>\n",
       "      <td>1</td>\n",
       "      <td>1.0</td>\n",
       "    </tr>\n",
       "    <tr>\n",
       "      <th>15686</th>\n",
       "      <td>li0566.txt</td>\n",
       "      <td>CLiGS Ro</td>\n",
       "      <td>Francesco Domenico Guerrazzi</td>\n",
       "      <td>Pasquale Paoli/ ossia La rotta di Ponte Nuovo</td>\n",
       "      <td>1860.0</td>\n",
       "      <td>1851-1900</td>\n",
       "      <td>prosa letteraria</td>\n",
       "      <td>202276.0</td>\n",
       "      <td>Gli dei di Ausonia se ne andarono, ed il suo c...</td>\n",
       "      <td>gli dei di ausonia se ne andarono, ed il suo c...</td>\n",
       "      <td>il del di ausonia se ne andare , ed il suo cie...</td>\n",
       "      <td>0</td>\n",
       "      <td>2</td>\n",
       "      <td>0</td>\n",
       "      <td>1</td>\n",
       "      <td>1</td>\n",
       "      <td>1.0</td>\n",
       "    </tr>\n",
       "    <tr>\n",
       "      <th>16705</th>\n",
       "      <td>li1152.txt</td>\n",
       "      <td>CLiGS Ro</td>\n",
       "      <td>Ippolito Nievo</td>\n",
       "      <td>Le confessioni d'un italiano</td>\n",
       "      <td>1867.0</td>\n",
       "      <td>1851-1900</td>\n",
       "      <td>prosa letteraria</td>\n",
       "      <td>337437.0</td>\n",
       "      <td>Io nacqui veneziano ai 18 ottobre del 1775, gi...</td>\n",
       "      <td>io nacqui veneziano ai    ottobre del     , gi...</td>\n",
       "      <td>io nascere veneziano al 18 ottobre del 1775 , ...</td>\n",
       "      <td>1</td>\n",
       "      <td>0</td>\n",
       "      <td>2</td>\n",
       "      <td>1</td>\n",
       "      <td>0</td>\n",
       "      <td>1.0</td>\n",
       "    </tr>\n",
       "    <tr>\n",
       "      <th>16707</th>\n",
       "      <td>LLBersezio2.txt</td>\n",
       "      <td>Liber Liber</td>\n",
       "      <td>Vittorio Bersezio</td>\n",
       "      <td>La plebe</td>\n",
       "      <td>1867.0</td>\n",
       "      <td>1851-1900</td>\n",
       "      <td>prosa letteraria</td>\n",
       "      <td>716250.0</td>\n",
       "      <td>﻿Vittorio Bersezio\\nLa plebe\\n\\nPARTE PRIMA\\n\\...</td>\n",
       "      <td>vittorio bersezio la plebe  parte prima   pre...</td>\n",
       "      <td>﻿vittorio bersezio \\n il plebe \\n\\n parte prim...</td>\n",
       "      <td>2</td>\n",
       "      <td>3</td>\n",
       "      <td>2</td>\n",
       "      <td>1</td>\n",
       "      <td>9</td>\n",
       "      <td>1.0</td>\n",
       "    </tr>\n",
       "    <tr>\n",
       "      <th>25665</th>\n",
       "      <td>BibItSanctis1.txt</td>\n",
       "      <td>BibIt</td>\n",
       "      <td>Francesco de Sanctis</td>\n",
       "      <td>Storia della letteratura italiana</td>\n",
       "      <td>1879.0</td>\n",
       "      <td>1851-1900</td>\n",
       "      <td>espositivo</td>\n",
       "      <td>294116.0</td>\n",
       "      <td>I.\\nI Siciliani\\n⟨1. Il contrasto di Cielo d'A...</td>\n",
       "      <td>i. i siciliani   . il contrasto di cielo d alc...</td>\n",
       "      <td>i. \\n il siciliano \\n ⟨1 . il contrasto di cie...</td>\n",
       "      <td>0</td>\n",
       "      <td>0</td>\n",
       "      <td>0</td>\n",
       "      <td>2</td>\n",
       "      <td>0</td>\n",
       "      <td>1.0</td>\n",
       "    </tr>\n",
       "    <tr>\n",
       "      <th>34438</th>\n",
       "      <td>li0644.txt</td>\n",
       "      <td>CLiGS Ro</td>\n",
       "      <td>Federico de Roberto</td>\n",
       "      <td>I Viceré</td>\n",
       "      <td>1894.0</td>\n",
       "      <td>1851-1900</td>\n",
       "      <td>prosa letteraria</td>\n",
       "      <td>209073.0</td>\n",
       "      <td>Giuseppe, dinanzi al portone, trastullava il s...</td>\n",
       "      <td>giuseppe, dinanzi al portone, trastullava il s...</td>\n",
       "      <td>Giuseppe , dinanzi al portone , trastullare il...</td>\n",
       "      <td>0</td>\n",
       "      <td>0</td>\n",
       "      <td>2</td>\n",
       "      <td>1</td>\n",
       "      <td>0</td>\n",
       "      <td>1.0</td>\n",
       "    </tr>\n",
       "  </tbody>\n",
       "</table>\n",
       "</div>"
      ],
      "text/plain": [
       "                     doc       source                        author  \\\n",
       "14962     LLAzeglio2.txt  Liber Liber             Massimo d'Azeglio   \n",
       "15640         li0202.txt     CLiGS Ro               Giuseppe Rovani   \n",
       "15686         li0566.txt     CLiGS Ro  Francesco Domenico Guerrazzi   \n",
       "16705         li1152.txt     CLiGS Ro                Ippolito Nievo   \n",
       "16707    LLBersezio2.txt  Liber Liber             Vittorio Bersezio   \n",
       "25665  BibItSanctis1.txt        BibIt          Francesco de Sanctis   \n",
       "34438         li0644.txt     CLiGS Ro           Federico de Roberto   \n",
       "\n",
       "                                                   title    year     period  \\\n",
       "14962  Racconti / leggende e ricordi della vita italiana  1856.0  1851-1900   \n",
       "15640                                          Cent'anni  1859.0  1851-1900   \n",
       "15686      Pasquale Paoli/ ossia La rotta di Ponte Nuovo  1860.0  1851-1900   \n",
       "16705                       Le confessioni d'un italiano  1867.0  1851-1900   \n",
       "16707                                           La plebe  1867.0  1851-1900   \n",
       "25665                  Storia della letteratura italiana  1879.0  1851-1900   \n",
       "34438                                           I Viceré  1894.0  1851-1900   \n",
       "\n",
       "              text_type     words  \\\n",
       "14962         personale  276056.0   \n",
       "15640  prosa letteraria  417944.0   \n",
       "15686  prosa letteraria  202276.0   \n",
       "16705  prosa letteraria  337437.0   \n",
       "16707  prosa letteraria  716250.0   \n",
       "25665        espositivo  294116.0   \n",
       "34438  prosa letteraria  209073.0   \n",
       "\n",
       "                                                    text  \\\n",
       "14962  Massimo d'Azeglio\\n\\n\\nRacconti, leggende e ri...   \n",
       "15640  Convien risalire a quindici anni addietro, all...   \n",
       "15686  Gli dei di Ausonia se ne andarono, ed il suo c...   \n",
       "16705  Io nacqui veneziano ai 18 ottobre del 1775, gi...   \n",
       "16707  ﻿Vittorio Bersezio\\nLa plebe\\n\\nPARTE PRIMA\\n\\...   \n",
       "25665  I.\\nI Siciliani\\n⟨1. Il contrasto di Cielo d'A...   \n",
       "34438  Giuseppe, dinanzi al portone, trastullava il s...   \n",
       "\n",
       "                                            cleaned_text  \\\n",
       "14962  massimo d azeglio   racconti, leggende e ricor...   \n",
       "15640  convien risalire a quindici anni addietro, all...   \n",
       "15686  gli dei di ausonia se ne andarono, ed il suo c...   \n",
       "16705  io nacqui veneziano ai    ottobre del     , gi...   \n",
       "16707   vittorio bersezio la plebe  parte prima   pre...   \n",
       "25665  i. i siciliani   . il contrasto di cielo d alc...   \n",
       "34438  giuseppe, dinanzi al portone, trastullava il s...   \n",
       "\n",
       "                                         lemmatized_text  mostruosamente  \\\n",
       "14962  Massimo di Azeglio \\n\\n\\n racconto , leggenda ...               0   \n",
       "15640  convien risalire a quindici anno addietro , al...               0   \n",
       "15686  il del di ausonia se ne andare , ed il suo cie...               0   \n",
       "16705  io nascere veneziano al 18 ottobre del 1775 , ...               1   \n",
       "16707  ﻿vittorio bersezio \\n il plebe \\n\\n parte prim...               2   \n",
       "25665  i. \\n il siciliano \\n ⟨1 . il contrasto di cie...               0   \n",
       "34438  Giuseppe , dinanzi al portone , trastullare il...               0   \n",
       "\n",
       "       orribilmente  spaventosamente  terribilmente  tremendamente  weight  \n",
       "14962             0                0              3              0     1.0  \n",
       "15640             2                0              7              1     1.0  \n",
       "15686             2                0              1              1     1.0  \n",
       "16705             0                2              1              0     1.0  \n",
       "16707             3                2              1              9     1.0  \n",
       "25665             0                0              2              0     1.0  \n",
       "34438             0                2              1              0     1.0  "
      ]
     },
     "execution_count": 38,
     "metadata": {},
     "output_type": "execute_result"
    }
   ],
   "source": [
    "# dieser Abschnitt ist zu lang (hat zu lange Text)\n",
    "# vorher die längsten Texte entfernen\n",
    "\n",
    "ad4[ad4['words']>200000]"
   ]
  },
  {
   "cell_type": "code",
   "execution_count": 39,
   "id": "6a610187",
   "metadata": {},
   "outputs": [],
   "source": [
    "ad4_smaller = ad4[ad4['words']<200000]"
   ]
  },
  {
   "cell_type": "code",
   "execution_count": 40,
   "id": "fbc45d2b",
   "metadata": {},
   "outputs": [
    {
     "data": {
      "text/html": [
       "<div>\n",
       "<style scoped>\n",
       "    .dataframe tbody tr th:only-of-type {\n",
       "        vertical-align: middle;\n",
       "    }\n",
       "\n",
       "    .dataframe tbody tr th {\n",
       "        vertical-align: top;\n",
       "    }\n",
       "\n",
       "    .dataframe thead th {\n",
       "        text-align: right;\n",
       "    }\n",
       "</style>\n",
       "<table border=\"1\" class=\"dataframe\">\n",
       "  <thead>\n",
       "    <tr style=\"text-align: right;\">\n",
       "      <th></th>\n",
       "      <th>doc</th>\n",
       "      <th>source</th>\n",
       "      <th>author</th>\n",
       "      <th>title</th>\n",
       "      <th>year</th>\n",
       "      <th>period</th>\n",
       "      <th>text_type</th>\n",
       "      <th>words</th>\n",
       "      <th>text</th>\n",
       "      <th>cleaned_text</th>\n",
       "      <th>lemmatized_text</th>\n",
       "      <th>mostruosamente</th>\n",
       "      <th>orribilmente</th>\n",
       "      <th>spaventosamente</th>\n",
       "      <th>terribilmente</th>\n",
       "      <th>tremendamente</th>\n",
       "      <th>weight</th>\n",
       "    </tr>\n",
       "  </thead>\n",
       "  <tbody>\n",
       "    <tr>\n",
       "      <th>14959</th>\n",
       "      <td>LLAmari2.txt</td>\n",
       "      <td>Liber Liber</td>\n",
       "      <td>Michele Amari</td>\n",
       "      <td>Storia dei musulmani di Sicilia I</td>\n",
       "      <td>1854.0</td>\n",
       "      <td>1851-1900</td>\n",
       "      <td>espositivo</td>\n",
       "      <td>188057.0</td>\n",
       "      <td>Michele Amari\\nStoria dei musulmani di Sicilia...</td>\n",
       "      <td>michele amari storia dei musulmani di sicilia ...</td>\n",
       "      <td>Michele amari \\n storia del musulmani di Sicil...</td>\n",
       "      <td>0</td>\n",
       "      <td>2</td>\n",
       "      <td>0</td>\n",
       "      <td>0</td>\n",
       "      <td>0</td>\n",
       "      <td>1.0</td>\n",
       "    </tr>\n",
       "    <tr>\n",
       "      <th>15071</th>\n",
       "      <td>LLAmari3.txt</td>\n",
       "      <td>Liber Liber</td>\n",
       "      <td>Michele Amari</td>\n",
       "      <td>Storia dei musulmani di Sicilia II</td>\n",
       "      <td>1858.0</td>\n",
       "      <td>1851-1900</td>\n",
       "      <td>espositivo</td>\n",
       "      <td>185358.0</td>\n",
       "      <td>Michele Amari\\nStoria dei musulmani di Sicilia...</td>\n",
       "      <td>michele amari storia dei musulmani di sicilia ...</td>\n",
       "      <td>Michele amari \\n storia del musulmani di Sicil...</td>\n",
       "      <td>0</td>\n",
       "      <td>2</td>\n",
       "      <td>0</td>\n",
       "      <td>0</td>\n",
       "      <td>0</td>\n",
       "      <td>1.0</td>\n",
       "    </tr>\n",
       "    <tr>\n",
       "      <th>16706</th>\n",
       "      <td>li1445.txt</td>\n",
       "      <td>CLiGS Ro</td>\n",
       "      <td>Ferdinando Petruccelli della Gattina</td>\n",
       "      <td>Memorie di Giuda</td>\n",
       "      <td>1867.0</td>\n",
       "      <td>1851-1900</td>\n",
       "      <td>prosa letteraria</td>\n",
       "      <td>148219.0</td>\n",
       "      <td>Era il 15 del mese di Thisri, la sera della fe...</td>\n",
       "      <td>era il    del mese di thisri, la sera della fe...</td>\n",
       "      <td>essere il 15 del mese di thisri , il sera dell...</td>\n",
       "      <td>0</td>\n",
       "      <td>4</td>\n",
       "      <td>0</td>\n",
       "      <td>3</td>\n",
       "      <td>0</td>\n",
       "      <td>1.0</td>\n",
       "    </tr>\n",
       "  </tbody>\n",
       "</table>\n",
       "</div>"
      ],
      "text/plain": [
       "                doc       source                                author  \\\n",
       "14959  LLAmari2.txt  Liber Liber                         Michele Amari   \n",
       "15071  LLAmari3.txt  Liber Liber                         Michele Amari   \n",
       "16706    li1445.txt     CLiGS Ro  Ferdinando Petruccelli della Gattina   \n",
       "\n",
       "                                    title    year     period  \\\n",
       "14959   Storia dei musulmani di Sicilia I  1854.0  1851-1900   \n",
       "15071  Storia dei musulmani di Sicilia II  1858.0  1851-1900   \n",
       "16706                    Memorie di Giuda  1867.0  1851-1900   \n",
       "\n",
       "              text_type     words  \\\n",
       "14959        espositivo  188057.0   \n",
       "15071        espositivo  185358.0   \n",
       "16706  prosa letteraria  148219.0   \n",
       "\n",
       "                                                    text  \\\n",
       "14959  Michele Amari\\nStoria dei musulmani di Sicilia...   \n",
       "15071  Michele Amari\\nStoria dei musulmani di Sicilia...   \n",
       "16706  Era il 15 del mese di Thisri, la sera della fe...   \n",
       "\n",
       "                                            cleaned_text  \\\n",
       "14959  michele amari storia dei musulmani di sicilia ...   \n",
       "15071  michele amari storia dei musulmani di sicilia ...   \n",
       "16706  era il    del mese di thisri, la sera della fe...   \n",
       "\n",
       "                                         lemmatized_text  mostruosamente  \\\n",
       "14959  Michele amari \\n storia del musulmani di Sicil...               0   \n",
       "15071  Michele amari \\n storia del musulmani di Sicil...               0   \n",
       "16706  essere il 15 del mese di thisri , il sera dell...               0   \n",
       "\n",
       "       orribilmente  spaventosamente  terribilmente  tremendamente  weight  \n",
       "14959             2                0              0              0     1.0  \n",
       "15071             2                0              0              0     1.0  \n",
       "16706             4                0              3              0     1.0  "
      ]
     },
     "execution_count": 40,
     "metadata": {},
     "output_type": "execute_result"
    }
   ],
   "source": [
    "# immer noch zu lang \n",
    "\n",
    "ad4_smaller[ad4_smaller['words']>148000]"
   ]
  },
  {
   "cell_type": "code",
   "execution_count": 41,
   "id": "53cab912",
   "metadata": {},
   "outputs": [],
   "source": [
    "ad4_smallest = ad4_smaller[ad4_smaller['words']<148000]"
   ]
  },
  {
   "cell_type": "code",
   "execution_count": 45,
   "id": "cca378e5",
   "metadata": {},
   "outputs": [],
   "source": [
    "ad4_mostruosamente = ad4_smallest[ad4_smallest['mostruosamente']>=1]\n",
    "ad4_orribilmente1 = ad4_smallest[ad4_smallest['orribilmente']>1]     \n",
    "ad4_orribilmente2 = ad4_smallest[ad4_smallest['orribilmente']==1].sample(n=84 , random_state=1)     #63  74\n",
    "ad4_spaventosamente = ad4_smallest[ad4_smallest['spaventosamente']>=1]\n",
    "ad4_terribilmente = ad4_smallest[ad4_smallest['terribilmente']>=1]\n",
    "ad4_tremendamente1 = ad4_smallest[ad4_smallest['tremendamente']>1] \n",
    "ad4_tremendamente2 = ad4_smallest[ad4_smallest['tremendamente']==1].sample(n=45 , random_state=1)   #33 44"
   ]
  },
  {
   "cell_type": "code",
   "execution_count": 46,
   "id": "601a2db7",
   "metadata": {},
   "outputs": [],
   "source": [
    "ad4_new = pd.concat([ad4_mostruosamente, ad4_orribilmente1, ad4_orribilmente2, ad4_spaventosamente,\n",
    "                     ad4_terribilmente, ad4_tremendamente1, ad4_tremendamente2])"
   ]
  },
  {
   "cell_type": "code",
   "execution_count": 47,
   "id": "58c37f4f",
   "metadata": {},
   "outputs": [
    {
     "data": {
      "text/plain": [
       "(296, 17)"
      ]
     },
     "execution_count": 47,
     "metadata": {},
     "output_type": "execute_result"
    }
   ],
   "source": [
    "ad4_new.shape"
   ]
  },
  {
   "cell_type": "code",
   "execution_count": 48,
   "id": "d6a75922",
   "metadata": {},
   "outputs": [],
   "source": [
    "ad4_new = ad4_new.drop_duplicates(subset=['author', 'title', 'year', 'text'])"
   ]
  },
  {
   "cell_type": "code",
   "execution_count": 49,
   "id": "7bc6333c",
   "metadata": {},
   "outputs": [
    {
     "data": {
      "text/plain": [
       "(281, 17)"
      ]
     },
     "execution_count": 49,
     "metadata": {},
     "output_type": "execute_result"
    }
   ],
   "source": [
    "ad4_new.shape"
   ]
  },
  {
   "cell_type": "markdown",
   "id": "3b6a4add",
   "metadata": {},
   "source": [
    "#### 1901-1950"
   ]
  },
  {
   "cell_type": "code",
   "execution_count": 50,
   "id": "0ec94a1f",
   "metadata": {},
   "outputs": [],
   "source": [
    "ad5 = df5[df5['weight']==1]"
   ]
  },
  {
   "cell_type": "code",
   "execution_count": 51,
   "id": "f603e021",
   "metadata": {},
   "outputs": [],
   "source": [
    "ad5_mostruosamente = ad5[ad5['mostruosamente']>=1]\n",
    "ad5_orribilmente1 = ad5[ad5['orribilmente']>1]     \n",
    "ad5_orribilmente2 = ad5[ad5['orribilmente']==1].sample(n=115 , random_state=1)\n",
    "ad5_spaventosamente = ad5[ad5['spaventosamente']>=1]\n",
    "ad5_terribilmente1 = ad5[ad5['terribilmente']>1]   \n",
    "ad5_terribilmente2 = ad5[ad5['terribilmente']==1].sample(n=106 , random_state=1)\n",
    "ad5_tremendamente = ad5[ad5['tremendamente']>=1]"
   ]
  },
  {
   "cell_type": "code",
   "execution_count": 52,
   "id": "47ecde12",
   "metadata": {},
   "outputs": [],
   "source": [
    "ad5_new = pd.concat([ad5_mostruosamente, ad5_orribilmente1, ad5_orribilmente2, ad5_spaventosamente, \n",
    "                     ad5_terribilmente1, ad5_terribilmente2, ad5_tremendamente])"
   ]
  },
  {
   "cell_type": "code",
   "execution_count": 53,
   "id": "a8389c3a",
   "metadata": {},
   "outputs": [
    {
     "data": {
      "text/plain": [
       "(435, 17)"
      ]
     },
     "execution_count": 53,
     "metadata": {},
     "output_type": "execute_result"
    }
   ],
   "source": [
    "ad5_new.shape"
   ]
  },
  {
   "cell_type": "code",
   "execution_count": 54,
   "id": "afa0ade1",
   "metadata": {},
   "outputs": [],
   "source": [
    "ad5_new = ad5_new.drop_duplicates(subset=['author', 'title', 'year', 'text'])"
   ]
  },
  {
   "cell_type": "code",
   "execution_count": 55,
   "id": "97f0328c",
   "metadata": {},
   "outputs": [
    {
     "data": {
      "text/plain": [
       "(418, 17)"
      ]
     },
     "execution_count": 55,
     "metadata": {},
     "output_type": "execute_result"
    }
   ],
   "source": [
    "ad5_new.shape"
   ]
  },
  {
   "cell_type": "markdown",
   "id": "5b47996a",
   "metadata": {},
   "source": [
    "#### 1951-2000"
   ]
  },
  {
   "cell_type": "code",
   "execution_count": 56,
   "id": "cfc5c9d4",
   "metadata": {},
   "outputs": [],
   "source": [
    "ad6 = df6[df6['weight']==1]"
   ]
  },
  {
   "cell_type": "code",
   "execution_count": 57,
   "id": "0b5164ad",
   "metadata": {},
   "outputs": [],
   "source": [
    "ad6_mostruosamente1 = ad6[ad6['mostruosamente']>1]    \n",
    "ad6_mostruosamente2 = ad6[ad6['mostruosamente']==1].sample(n=44 , random_state=1)\n",
    "ad6_orribilmente = ad6[ad6['orribilmente']>=1]        \n",
    "ad6_spaventosamente1 = ad6[ad6['spaventosamente']>1]  \n",
    "ad6_spaventosamente2 = ad6[ad6['spaventosamente']==1].sample(n=126 , random_state=1)\n",
    "ad6_terribilmente1 = ad6[ad6['terribilmente']>1]      \n",
    "ad6_terribilmente2 = ad6[ad6['terribilmente']==1].sample(n=111 , random_state=1)\n",
    "ad6_tremendamente1 = ad6[ad6['tremendamente']>1]      \n",
    "ad6_tremendamente2 = ad6[ad6['tremendamente']==1].sample(n=43 , random_state=1)"
   ]
  },
  {
   "cell_type": "code",
   "execution_count": 58,
   "id": "934092c4",
   "metadata": {},
   "outputs": [],
   "source": [
    "ad6_new = pd.concat([ad6_mostruosamente1, ad6_mostruosamente2, ad6_orribilmente, ad6_spaventosamente1, ad6_spaventosamente2,\n",
    "                     ad6_terribilmente1, ad6_terribilmente2, ad6_tremendamente1, ad6_tremendamente2])"
   ]
  },
  {
   "cell_type": "code",
   "execution_count": 59,
   "id": "a46a6fdc",
   "metadata": {},
   "outputs": [
    {
     "data": {
      "text/plain": [
       "(487, 17)"
      ]
     },
     "execution_count": 59,
     "metadata": {},
     "output_type": "execute_result"
    }
   ],
   "source": [
    "ad6_new.shape"
   ]
  },
  {
   "cell_type": "code",
   "execution_count": 60,
   "id": "75b69e4b",
   "metadata": {},
   "outputs": [],
   "source": [
    "ad6_new = ad6_new.drop_duplicates(subset=['author', 'title', 'year', 'text'])"
   ]
  },
  {
   "cell_type": "code",
   "execution_count": 61,
   "id": "2449af7a",
   "metadata": {},
   "outputs": [
    {
     "data": {
      "text/plain": [
       "(479, 17)"
      ]
     },
     "execution_count": 61,
     "metadata": {},
     "output_type": "execute_result"
    }
   ],
   "source": [
    "ad6_new.shape"
   ]
  },
  {
   "cell_type": "markdown",
   "id": "45224453",
   "metadata": {},
   "source": [
    "#### 2001-2021"
   ]
  },
  {
   "cell_type": "code",
   "execution_count": 62,
   "id": "8b1b063d",
   "metadata": {},
   "outputs": [],
   "source": [
    "ad7 = df7[df7['weight']==1]"
   ]
  },
  {
   "cell_type": "code",
   "execution_count": 63,
   "id": "dd4dae7e",
   "metadata": {},
   "outputs": [],
   "source": [
    "ad7_mostruosamente1 = ad7[ad7['mostruosamente']>1]   \n",
    "ad7_mostruosamente2 = ad7[ad7['mostruosamente']==1].sample(n=39 , random_state=1)\n",
    "ad7_orribilmente1 = ad7[ad7['orribilmente']>1]        \n",
    "ad7_orribilmente2 = ad7[ad7['orribilmente']==1].sample(n=135 , random_state=1)\n",
    "ad7_spaventosamente1 = ad7[ad7['spaventosamente']>1] \n",
    "ad7_spaventosamente2 = ad7[ad7['spaventosamente']==1].sample(n=141 , random_state=1)\n",
    "ad7_terribilmente1 = ad7[ad7['terribilmente']>1]     \n",
    "ad7_terribilmente2 = ad7[ad7['terribilmente']==1].sample(n=138 , random_state=1)\n",
    "ad7_tremendamente1 = ad7[ad7['tremendamente']>1]      \n",
    "ad7_tremendamente2 = ad7[ad7['tremendamente']==1].sample(n=48 , random_state=1)"
   ]
  },
  {
   "cell_type": "code",
   "execution_count": 64,
   "id": "ac0145a7",
   "metadata": {},
   "outputs": [],
   "source": [
    "ad7_new = pd.concat([ad7_mostruosamente1, ad7_mostruosamente2, ad7_orribilmente1, ad7_orribilmente2, ad7_spaventosamente1, \n",
    "                     ad7_spaventosamente2, ad7_terribilmente1, ad7_terribilmente2, ad7_tremendamente1, ad7_tremendamente2])"
   ]
  },
  {
   "cell_type": "code",
   "execution_count": 65,
   "id": "d00cd8bc",
   "metadata": {},
   "outputs": [
    {
     "data": {
      "text/plain": [
       "(515, 17)"
      ]
     },
     "execution_count": 65,
     "metadata": {},
     "output_type": "execute_result"
    }
   ],
   "source": [
    "ad7_new.shape"
   ]
  },
  {
   "cell_type": "code",
   "execution_count": 66,
   "id": "87b0b1f9",
   "metadata": {},
   "outputs": [],
   "source": [
    "ad7_new = ad7_new.drop_duplicates(subset=['author', 'title', 'year', 'text'])"
   ]
  },
  {
   "cell_type": "code",
   "execution_count": 67,
   "id": "a115383e",
   "metadata": {},
   "outputs": [
    {
     "data": {
      "text/plain": [
       "(513, 17)"
      ]
     },
     "execution_count": 67,
     "metadata": {},
     "output_type": "execute_result"
    }
   ],
   "source": [
    "ad7_new.shape"
   ]
  },
  {
   "cell_type": "markdown",
   "id": "f497e41a",
   "metadata": {},
   "source": [
    "### Rest normalisieren"
   ]
  },
  {
   "cell_type": "code",
   "execution_count": 68,
   "id": "1efe1b70",
   "metadata": {},
   "outputs": [],
   "source": [
    "# Normalisierung durch zufälliges Ziehen ohne Zurücklegen von Samples (Texten) im Rest (Texte ohne wichtige Adverbien)\n",
    "# Samplegröße individuell festgegelegt durch Ausprobieren \n",
    "# Ziel: ungefähres Übereinstimmen der Tokenanzahl \n",
    "# Bevorzugt gewichtete Texte nehmen \n",
    "\n",
    "rest1 = df1[df1['weight']!=1]                                                           # 1700-1750\n",
    "rest2 = df2[df2['weight']!=1].sample(n=1280 , random_state=1, weights='weight')         # 1751-1800\n",
    "rest3 = df3[df3['weight']!=1].sample(n=650 , random_state=1, weights='weight')          # 1801-1850\n",
    "rest4 = df4[df4['weight']!=1].sample(n=150 , random_state=1, weights='weight')           # 1851-1900\n",
    "rest5 = df5[df5['weight']!=1].sample(n=1600 , random_state=3, weights='weight')         # 1901-1950\n",
    "rest6 = df6[df6['weight']!=1].sample(n=36080 , random_state=3, weights='weight')        # 1951-2000\n",
    "rest7 = df7[df7['weight']!=1].sample(n=86400 , random_state=1, weights='weight')        # 2001-2021"
   ]
  },
  {
   "cell_type": "markdown",
   "id": "17b173b7",
   "metadata": {},
   "source": [
    "### Zusammenfügen"
   ]
  },
  {
   "cell_type": "code",
   "execution_count": 69,
   "id": "b8db630c",
   "metadata": {},
   "outputs": [],
   "source": [
    "# Zusammenfügen der Zeiträume und Samples zu einem neuen Dataframe\n",
    "\n",
    "df_norm = pd.concat([ad1_new, rest1, ad2_new, rest2, ad3_new, rest3, ad4_new, \n",
    "                     rest4, ad5_new, rest5, ad6_new, rest6, ad7_new, rest7])"
   ]
  },
  {
   "cell_type": "code",
   "execution_count": 70,
   "id": "3ca15839",
   "metadata": {},
   "outputs": [],
   "source": [
    "# chronologisch ordnen\n",
    "\n",
    "df_norm= df_norm.sort_values(by=['year'])"
   ]
  },
  {
   "cell_type": "code",
   "execution_count": 71,
   "id": "0d3355f9",
   "metadata": {},
   "outputs": [],
   "source": [
    "# Spalten neu anordnen und unnötige entfernen\n",
    "\n",
    "df_norm = df_norm[['doc', 'source', 'author', 'title', 'year', 'period', 'text_type', 'words', 'text', 'cleaned_text', 'lemmatized_text']]"
   ]
  },
  {
   "cell_type": "code",
   "execution_count": 72,
   "id": "6a690936",
   "metadata": {},
   "outputs": [
    {
     "data": {
      "text/html": [
       "<div>\n",
       "<style scoped>\n",
       "    .dataframe tbody tr th:only-of-type {\n",
       "        vertical-align: middle;\n",
       "    }\n",
       "\n",
       "    .dataframe tbody tr th {\n",
       "        vertical-align: top;\n",
       "    }\n",
       "\n",
       "    .dataframe thead th {\n",
       "        text-align: right;\n",
       "    }\n",
       "</style>\n",
       "<table border=\"1\" class=\"dataframe\">\n",
       "  <thead>\n",
       "    <tr style=\"text-align: right;\">\n",
       "      <th></th>\n",
       "      <th>doc</th>\n",
       "      <th>source</th>\n",
       "      <th>author</th>\n",
       "      <th>title</th>\n",
       "      <th>year</th>\n",
       "      <th>period</th>\n",
       "      <th>text_type</th>\n",
       "      <th>words</th>\n",
       "      <th>text</th>\n",
       "      <th>cleaned_text</th>\n",
       "      <th>lemmatized_text</th>\n",
       "    </tr>\n",
       "  </thead>\n",
       "  <tbody>\n",
       "    <tr>\n",
       "      <th>6</th>\n",
       "      <td>Personali.IV.4.Testo.txt</td>\n",
       "      <td>MIDIA</td>\n",
       "      <td>Vincenzo da Filicaia</td>\n",
       "      <td>Lettere inedite a Lorenzo Magalotti</td>\n",
       "      <td>1700.0</td>\n",
       "      <td>1700-1750</td>\n",
       "      <td>personale</td>\n",
       "      <td>10073.0</td>\n",
       "      <td>IV. 4. Vincenzo da Filicaia, Lettere inedite a...</td>\n",
       "      <td>iv.  . vincenzo da filicaia, lettere inedite a...</td>\n",
       "      <td>iv . 4 . Vincenzo da filicaia , lettere inedit...</td>\n",
       "    </tr>\n",
       "    <tr>\n",
       "      <th>5</th>\n",
       "      <td>Personali.IV.15.Testo.txt</td>\n",
       "      <td>MIDIA</td>\n",
       "      <td>Pietro Giannone</td>\n",
       "      <td>Vita scritta da lui medesimo</td>\n",
       "      <td>1700.0</td>\n",
       "      <td>1700-1750</td>\n",
       "      <td>personale</td>\n",
       "      <td>10118.0</td>\n",
       "      <td>[Proemio]\\nPrendo a scrivere la mia vita e qua...</td>\n",
       "      <td>proemio  prendo a scrivere la mia vita e quan...</td>\n",
       "      <td>[ proemio ] \\n prendere a scrivere il mio vita...</td>\n",
       "    </tr>\n",
       "    <tr>\n",
       "      <th>4</th>\n",
       "      <td>Espositivi.IV.4.Testo.txt</td>\n",
       "      <td>MIDIA</td>\n",
       "      <td>Ludovico Antonio Muratori</td>\n",
       "      <td>Antichità italiane</td>\n",
       "      <td>1700.0</td>\n",
       "      <td>1700-1750</td>\n",
       "      <td>espositivo</td>\n",
       "      <td>8990.0</td>\n",
       "      <td>﻿IV. 4. Ludovico Antonio Muratori, Antichità i...</td>\n",
       "      <td>iv.  . ludovico antonio muratori, antichità i...</td>\n",
       "      <td>﻿iv . 4 . Ludovico Antonio muratori , antichit...</td>\n",
       "    </tr>\n",
       "    <tr>\n",
       "      <th>3</th>\n",
       "      <td>Personali.IV.5.Testo.txt</td>\n",
       "      <td>MIDIA</td>\n",
       "      <td>Lorenzo Magalotti</td>\n",
       "      <td>Lettere odorose (1693-1705)</td>\n",
       "      <td>1700.0</td>\n",
       "      <td>1700-1750</td>\n",
       "      <td>personale</td>\n",
       "      <td>8374.0</td>\n",
       "      <td>IV. 5. Lorenzo Magalotti, Lettere odorose (169...</td>\n",
       "      <td>iv.  . lorenzo magalotti, lettere odorose     ...</td>\n",
       "      <td>iv . 5 . Lorenzo magalotti , lettere odoroso (...</td>\n",
       "    </tr>\n",
       "    <tr>\n",
       "      <th>2</th>\n",
       "      <td>Poesia.IV.1.Testo.txt</td>\n",
       "      <td>MIDIA</td>\n",
       "      <td>Giuseppe Paolucci (Alessi Cillenio)</td>\n",
       "      <td>Poesie</td>\n",
       "      <td>1700.0</td>\n",
       "      <td>1700-1750</td>\n",
       "      <td>poesia</td>\n",
       "      <td>10862.0</td>\n",
       "      <td>IV. 1. Rime degli Arcadi: Alessi Cillenio (Giu...</td>\n",
       "      <td>iv.  . rime degli arcadi: alessi cillenio  giu...</td>\n",
       "      <td>iv . 1 . rima del arcadi : alessi cillenio ( G...</td>\n",
       "    </tr>\n",
       "  </tbody>\n",
       "</table>\n",
       "</div>"
      ],
      "text/plain": [
       "                         doc source                               author  \\\n",
       "6   Personali.IV.4.Testo.txt  MIDIA                 Vincenzo da Filicaia   \n",
       "5  Personali.IV.15.Testo.txt  MIDIA                      Pietro Giannone   \n",
       "4  Espositivi.IV.4.Testo.txt  MIDIA           Ludovico Antonio Muratori    \n",
       "3   Personali.IV.5.Testo.txt  MIDIA                    Lorenzo Magalotti   \n",
       "2      Poesia.IV.1.Testo.txt  MIDIA  Giuseppe Paolucci (Alessi Cillenio)   \n",
       "\n",
       "                                 title    year     period   text_type  \\\n",
       "6  Lettere inedite a Lorenzo Magalotti  1700.0  1700-1750   personale   \n",
       "5         Vita scritta da lui medesimo  1700.0  1700-1750   personale   \n",
       "4                   Antichità italiane  1700.0  1700-1750  espositivo   \n",
       "3          Lettere odorose (1693-1705)  1700.0  1700-1750   personale   \n",
       "2                               Poesie  1700.0  1700-1750      poesia   \n",
       "\n",
       "     words                                               text  \\\n",
       "6  10073.0  IV. 4. Vincenzo da Filicaia, Lettere inedite a...   \n",
       "5  10118.0  [Proemio]\\nPrendo a scrivere la mia vita e qua...   \n",
       "4   8990.0  ﻿IV. 4. Ludovico Antonio Muratori, Antichità i...   \n",
       "3   8374.0  IV. 5. Lorenzo Magalotti, Lettere odorose (169...   \n",
       "2  10862.0  IV. 1. Rime degli Arcadi: Alessi Cillenio (Giu...   \n",
       "\n",
       "                                        cleaned_text  \\\n",
       "6  iv.  . vincenzo da filicaia, lettere inedite a...   \n",
       "5   proemio  prendo a scrivere la mia vita e quan...   \n",
       "4   iv.  . ludovico antonio muratori, antichità i...   \n",
       "3  iv.  . lorenzo magalotti, lettere odorose     ...   \n",
       "2  iv.  . rime degli arcadi: alessi cillenio  giu...   \n",
       "\n",
       "                                     lemmatized_text  \n",
       "6  iv . 4 . Vincenzo da filicaia , lettere inedit...  \n",
       "5  [ proemio ] \\n prendere a scrivere il mio vita...  \n",
       "4  ﻿iv . 4 . Ludovico Antonio muratori , antichit...  \n",
       "3  iv . 5 . Lorenzo magalotti , lettere odoroso (...  \n",
       "2  iv . 1 . rima del arcadi : alessi cillenio ( G...  "
      ]
     },
     "execution_count": 72,
     "metadata": {},
     "output_type": "execute_result"
    }
   ],
   "source": [
    "df_norm.head()"
   ]
  },
  {
   "cell_type": "code",
   "execution_count": 73,
   "id": "283bc4ae",
   "metadata": {},
   "outputs": [
    {
     "data": {
      "text/plain": [
       "(134168, 11)"
      ]
     },
     "execution_count": 73,
     "metadata": {},
     "output_type": "execute_result"
    }
   ],
   "source": [
    "df_norm.shape"
   ]
  },
  {
   "cell_type": "markdown",
   "id": "f37304dc",
   "metadata": {},
   "source": [
    "## Exploration"
   ]
  },
  {
   "cell_type": "markdown",
   "id": "fac2cf9c",
   "metadata": {},
   "source": [
    "### Anzahl der Texte pro Zeitraum"
   ]
  },
  {
   "cell_type": "code",
   "execution_count": 74,
   "id": "fc7bc0f7",
   "metadata": {},
   "outputs": [
    {
     "data": {
      "text/plain": [
       "{'1700-1750': 6229,\n",
       " '1751-1800': 1300,\n",
       " '1801-1850': 718,\n",
       " '1851-1900': 431,\n",
       " '1901-1950': 2018,\n",
       " '1951-2000': 36559,\n",
       " '2001-2021': 86913}"
      ]
     },
     "execution_count": 74,
     "metadata": {},
     "output_type": "execute_result"
    }
   ],
   "source": [
    "periods_norm = list(df_norm['period'].unique())\n",
    "per_len_norm ={i: len(df_norm[df_norm['period']==i]) for i in periods_norm }\n",
    "per_len_norm"
   ]
  },
  {
   "cell_type": "code",
   "execution_count": 97,
   "id": "d1c0601b",
   "metadata": {},
   "outputs": [
    {
     "data": {
      "image/png": "[encoded data removed]",
      "text/plain": [
       "<Figure size 1120x560 with 1 Axes>"
      ]
     },
     "metadata": {},
     "output_type": "display_data"
    }
   ],
   "source": [
    "plt.figure(figsize=[14,7])\n",
    "plt.style.use('seaborn-whitegrid')\n",
    "\n",
    "x_indexes = np.arange(len(periods_norm))\n",
    "plt.bar(x_indexes, per_len_norm.values(), label='Textanzahl', width=0.8, color='b')\n",
    "plt.xticks(ticks = x_indexes, labels = per_len_norm.keys(), rotation=45, horizontalalignment='right')\n",
    "plt.xlabel('Zeiträume')\n",
    "plt.ylabel('Textanzahl')\n",
    "\n",
    "#plt.ticklabel_format(axis='y', style='sci', scilimits=(0,0))\n",
    "plt.tight_layout()\n",
    "plt.margins(0.2, 0.15)\n",
    "\n",
    "for i, j in zip(x_indexes, per_len_norm.values()):\n",
    "       plt.annotate(j, xy=(i,j), xycoords='data', verticalalignment='bottom', horizontalalignment='center', \n",
    "                    fontweight='demi', fontsize='small')\n",
    "\n",
    "#plt.savefig('Plots/corpusnorm_textanzahl.png')\n",
    "plt.show()"
   ]
  },
  {
   "cell_type": "markdown",
   "id": "93ecbcb1",
   "metadata": {},
   "source": [
    "### Anzahl der Tokens pro Zeitraum"
   ]
  },
  {
   "cell_type": "code",
   "execution_count": 76,
   "id": "f8695e42",
   "metadata": {},
   "outputs": [
    {
     "data": {
      "text/plain": [
       "{'1700-1750': 2168484,\n",
       " '1751-1800': 2146440,\n",
       " '1801-1850': 2151484,\n",
       " '1851-1900': 2149464,\n",
       " '1901-1950': 2152097,\n",
       " '1951-2000': 2154962,\n",
       " '2001-2021': 2140459}"
      ]
     },
     "execution_count": 76,
     "metadata": {},
     "output_type": "execute_result"
    }
   ],
   "source": [
    "sum_words_norm = {i: math.trunc(sum(df_norm[df_norm['period']==i].words)) for i in periods_norm}\n",
    "sum_words_norm"
   ]
  },
  {
   "cell_type": "code",
   "execution_count": 81,
   "id": "823e8526",
   "metadata": {
    "scrolled": false
   },
   "outputs": [
    {
     "data": {
      "image/png": "[encoded data removed]",
      "text/plain": [
       "<Figure size 1120x560 with 1 Axes>"
      ]
     },
     "metadata": {},
     "output_type": "display_data"
    }
   ],
   "source": [
    "plt.figure(figsize=[14,7])\n",
    "plt.style.use('seaborn-whitegrid')\n",
    "\n",
    "x_indexes = np.arange(len(sum_words_norm))\n",
    "plt.bar(x_indexes, sum_words_norm.values(), label='Tokenanzahl', width=0.8, color='b')\n",
    "plt.xticks(ticks = x_indexes, labels = sum_words_norm.keys(), rotation=45, horizontalalignment='right', fontsize='small')\n",
    "plt.xlabel('Zeiträume')\n",
    "plt.ylabel('Tokenanzahl')\n",
    "plt.ticklabel_format(axis='y', style='sci', scilimits=(0,0))\n",
    "plt.ylim(0, 3100000)\n",
    "\n",
    "plt.tight_layout()\n",
    "plt.margins(0.2, 0.15)\n",
    "\n",
    "for i, j in zip(x_indexes, sum_words_norm.values()):\n",
    "       plt.annotate(j, xy=(i,j), xycoords='data', verticalalignment='bottom', horizontalalignment='center', \n",
    "                    fontweight='demi', fontsize='small')\n",
    "        \n",
    "#plt.savefig('Plots/corpusnorm_tokenanzahl.png')\n",
    "plt.show()"
   ]
  },
  {
   "cell_type": "markdown",
   "id": "5809c5a4",
   "metadata": {},
   "source": [
    "### Verteilung der Texttypen auf die Zeiträume"
   ]
  },
  {
   "cell_type": "code",
   "execution_count": 82,
   "id": "27d392bf",
   "metadata": {},
   "outputs": [],
   "source": [
    "period_frames = []"
   ]
  },
  {
   "cell_type": "code",
   "execution_count": 83,
   "id": "07f19836",
   "metadata": {},
   "outputs": [],
   "source": [
    "# Teilframes pro Zeitraum erstellen\n",
    "\n",
    "df_periods = dict(tuple(df_norm.groupby(by='period')))\n",
    "\n",
    "for df, period in zip(df_periods, periods_norm):\n",
    "    df_period = df_periods[period]\n",
    "    period_frames.append(df_period)"
   ]
  },
  {
   "cell_type": "code",
   "execution_count": 84,
   "id": "bc34967d",
   "metadata": {},
   "outputs": [],
   "source": [
    "periods_texttypes = {}"
   ]
  },
  {
   "cell_type": "code",
   "execution_count": 85,
   "id": "b46bacdd",
   "metadata": {},
   "outputs": [],
   "source": [
    "# Anzahl der Texte pro Texttyp pro Zeitraum\n",
    "\n",
    "for df, period in zip(period_frames, periods_norm):\n",
    "    texttypes = df.groupby(by='text_type')\n",
    "    types = texttypes.groups\n",
    "    \n",
    "    periods_texttypes[period] = {key : len(value) for key, value in types.items()}"
   ]
  },
  {
   "cell_type": "code",
   "execution_count": 86,
   "id": "ee3a22f6",
   "metadata": {},
   "outputs": [
    {
     "data": {
      "text/plain": [
       "{'1700-1750': {'espositivo': 14,\n",
       "  'personale': 19,\n",
       "  'poesia': 13,\n",
       "  'prosa letteraria': 6158,\n",
       "  'teatro': 25},\n",
       " '1751-1800': {'espositivo': 24,\n",
       "  'personale': 9,\n",
       "  'poesia': 17,\n",
       "  'prosa letteraria': 1209,\n",
       "  'teatro': 41},\n",
       " '1801-1850': {'espositivo': 19,\n",
       "  'personale': 12,\n",
       "  'poesia': 16,\n",
       "  'prosa letteraria': 668,\n",
       "  'teatro': 3},\n",
       " '1851-1900': {'espositivo': 6,\n",
       "  'personale': 3,\n",
       "  'poesia': 4,\n",
       "  'prosa letteraria': 413,\n",
       "  'stampa': 4,\n",
       "  'teatro': 1},\n",
       " '1901-1950': {'espositivo': 14,\n",
       "  'personale': 5,\n",
       "  'poesia': 1,\n",
       "  'prosa letteraria': 1967,\n",
       "  'stampa': 31},\n",
       " '1951-2000': {'dialogo': 7,\n",
       "  'espositivo': 16,\n",
       "  'prosa letteraria': 228,\n",
       "  'stampa': 36308},\n",
       " '2001-2021': {'dialogo': 3,\n",
       "  'prosa letteraria': 3,\n",
       "  'stampa': 72534,\n",
       "  'web': 14373}}"
      ]
     },
     "execution_count": 86,
     "metadata": {},
     "output_type": "execute_result"
    }
   ],
   "source": [
    "periods_texttypes"
   ]
  },
  {
   "cell_type": "code",
   "execution_count": 87,
   "id": "38effe6c",
   "metadata": {},
   "outputs": [],
   "source": [
    "periods_texttypes_token = {}"
   ]
  },
  {
   "cell_type": "code",
   "execution_count": 88,
   "id": "e6745481",
   "metadata": {},
   "outputs": [],
   "source": [
    "# Anzahl der Tokens pro Texttyp pro Zeitraum\n",
    "\n",
    "for df, period in zip(period_frames, periods_norm):\n",
    "    words = {i: math.trunc(sum(df[df['text_type']==i].words)) for i in list(df['text_type'].unique())}\n",
    "    periods_texttypes_token[period] = words"
   ]
  },
  {
   "cell_type": "code",
   "execution_count": 89,
   "id": "ab026155",
   "metadata": {},
   "outputs": [
    {
     "data": {
      "text/plain": [
       "{'1700-1750': {'personale': 236165,\n",
       "  'espositivo': 869205,\n",
       "  'poesia': 512572,\n",
       "  'prosa letteraria': 299165,\n",
       "  'teatro': 251377},\n",
       " '1751-1800': {'espositivo': 1174972,\n",
       "  'personale': 232838,\n",
       "  'poesia': 176934,\n",
       "  'teatro': 428605,\n",
       "  'prosa letteraria': 133091},\n",
       " '1801-1850': {'poesia': 168484,\n",
       "  'espositivo': 1143011,\n",
       "  'prosa letteraria': 192466,\n",
       "  'teatro': 29440,\n",
       "  'personale': 618083},\n",
       " '1851-1900': {'personale': 3812,\n",
       "  'prosa letteraria': 1733921,\n",
       "  'poesia': 59825,\n",
       "  'espositivo': 335075,\n",
       "  'stampa': 8008,\n",
       "  'teatro': 8823},\n",
       " '1901-1950': {'prosa letteraria': 1488739,\n",
       "  'personale': 210929,\n",
       "  'espositivo': 437224,\n",
       "  'stampa': 9279,\n",
       "  'poesia': 5926},\n",
       " '1951-2000': {'stampa': 1646856,\n",
       "  'prosa letteraria': 441566,\n",
       "  'espositivo': 51532,\n",
       "  'dialogo': 15008},\n",
       " '2001-2021': {'stampa': 1625079,\n",
       "  'prosa letteraria': 161313,\n",
       "  'dialogo': 3780,\n",
       "  'web': 350287}}"
      ]
     },
     "execution_count": 89,
     "metadata": {},
     "output_type": "execute_result"
    }
   ],
   "source": [
    "periods_texttypes_token"
   ]
  },
  {
   "cell_type": "code",
   "execution_count": 90,
   "id": "eec493ee",
   "metadata": {},
   "outputs": [],
   "source": [
    "espositivo = []\n",
    "dialogo = []\n",
    "poesia = []\n",
    "personale = []\n",
    "prosa_lett = []\n",
    "stampa = []\n",
    "teatro = []\n",
    "web = []"
   ]
  },
  {
   "cell_type": "code",
   "execution_count": 91,
   "id": "5e247d7c",
   "metadata": {},
   "outputs": [],
   "source": [
    "# Werte des Texttyps rausziehen und in Liste speichern \n",
    "\n",
    "for i in periods_texttypes_token:\n",
    "    \n",
    "    esp = periods_texttypes_token.get(i, {}).get('espositivo')\n",
    "    espositivo.append(esp)\n",
    "    \n",
    "    di = periods_texttypes_token.get(i, {}).get('dialogo')\n",
    "    dialogo.append(di)\n",
    "    \n",
    "    po = periods_texttypes_token.get(i, {}).get('poesia')\n",
    "    poesia.append(po)\n",
    "    \n",
    "    per = periods_texttypes_token.get(i, {}).get('personale')\n",
    "    personale.append(per)\n",
    "    \n",
    "    prolet = periods_texttypes_token.get(i, {}).get('prosa letteraria')\n",
    "    prosa_lett.append(prolet)\n",
    "    \n",
    "    st = periods_texttypes_token.get(i, {}).get('stampa')\n",
    "    stampa.append(st)\n",
    "    \n",
    "    tea = periods_texttypes_token.get(i, {}).get('teatro')\n",
    "    teatro.append(tea)\n",
    "    \n",
    "    w = periods_texttypes_token.get(i, {}).get('web')\n",
    "    web.append(w)"
   ]
  },
  {
   "cell_type": "code",
   "execution_count": 92,
   "id": "1f845eb0",
   "metadata": {},
   "outputs": [],
   "source": [
    "# None mit 0 ersetzen\n",
    "\n",
    "espositivo = [0 if v is None else v for v in espositivo]\n",
    "dialogo = [0 if v is None else v for v in dialogo]\n",
    "poesia = [0 if v is None else v for v in poesia]\n",
    "personale = [0 if v is None else v for v in personale]\n",
    "prosa_lett = [0 if v is None else v for v in prosa_lett]\n",
    "stampa = [0 if v is None else v for v in stampa]\n",
    "teatro = [0 if v is None else v for v in teatro]\n",
    "web = [0 if v is None else v for v in web]"
   ]
  },
  {
   "cell_type": "code",
   "execution_count": 93,
   "id": "cab25b34",
   "metadata": {},
   "outputs": [
    {
     "name": "stdout",
     "output_type": "stream",
     "text": [
      "[869205, 1174972, 1143011, 335075, 437224, 51532, 0]\n",
      "[0, 0, 0, 0, 0, 15008, 3780]\n",
      "[236165, 232838, 618083, 3812, 210929, 0, 0]\n",
      "[512572, 176934, 168484, 59825, 5926, 0, 0]\n",
      "[299165, 133091, 192466, 1733921, 1488739, 441566, 161313]\n",
      "[0, 0, 0, 8008, 9279, 1646856, 1625079]\n",
      "[251377, 428605, 29440, 8823, 0, 0, 0]\n",
      "[0, 0, 0, 0, 0, 0, 350287]\n"
     ]
    }
   ],
   "source": [
    "print(espositivo)\n",
    "print(dialogo)\n",
    "print(personale)\n",
    "print(poesia)\n",
    "print(prosa_lett)\n",
    "print(stampa)\n",
    "print(teatro)\n",
    "print(web)"
   ]
  },
  {
   "cell_type": "code",
   "execution_count": 94,
   "id": "ef63155a",
   "metadata": {},
   "outputs": [
    {
     "data": {
      "image/png": "[encoded data removed]",
      "text/plain": [
       "<Figure size 1120x560 with 1 Axes>"
      ]
     },
     "metadata": {},
     "output_type": "display_data"
    }
   ],
   "source": [
    "# Verteilung der Texttypen auf die Zeiträume\n",
    "\n",
    "plt.figure(figsize=[14,7])\n",
    "plt.style.use('seaborn-whitegrid')\n",
    "\n",
    "data = np.array([espositivo, dialogo, personale, poesia, prosa_lett, stampa, teatro, web])\n",
    "labels = ['espositivo', 'dialogo', 'personale', 'poesia', 'prosa letteraria', 'stampa', 'teatro', 'web']\n",
    "colors = ['#00004d','#380474', '#000099', '#0000FF', '#008fcc', '#0BB5FF', '#80dfff', '#BFEFFF']\n",
    "\n",
    "X = np.arange(data.shape[1])\n",
    "for i in range(data.shape[0]):\n",
    "    plt.bar(X, data[i],bottom = np.sum(data[:i], axis=0),label=labels[i % len(labels)], color=colors[i % len(colors)])\n",
    "\n",
    "x_indexes = np.arange(len(periods_norm))\n",
    "plt.xticks(ticks=x_indexes, labels=periods_norm, rotation=45, horizontalalignment='right', fontsize='small')\n",
    "plt.xlabel('Zeiträume')\n",
    "plt.ylabel('Tokenanzahl')\n",
    "plt.ticklabel_format(axis='y', style='sci', scilimits=(0,0))\n",
    "plt.ylim(0, 3100000)\n",
    "plt.legend(loc='upper left', fontsize='small')\n",
    "\n",
    "plt.tight_layout()\n",
    "plt.margins(0.2, 0.2)\n",
    "\n",
    "for i, j in zip(x_indexes, sum_words_norm.values()):\n",
    "       plt.annotate(j, xy=(i,j), xycoords='data', verticalalignment='bottom', horizontalalignment='center', \n",
    "                    fontweight='demi', fontsize='small')\n",
    "\n",
    "#plt.savefig('Plots/corpusnorm_tokenanzahl_texttypes.png')\n",
    "plt.show()"
   ]
  },
  {
   "cell_type": "code",
   "execution_count": 95,
   "id": "aa60e59f",
   "metadata": {},
   "outputs": [],
   "source": [
    "# normalisiertes Korpus speichern\n",
    "\n",
    "df_norm.to_csv('Korpus/corpus_norm.csv', encoding='utf-8', index=False)"
   ]
  },
  {
   "cell_type": "markdown",
   "id": "10f890d4",
   "metadata": {},
   "source": [
    "### Kandidaten im normalisierten, lemmatisierten Korpus"
   ]
  },
  {
   "cell_type": "code",
   "execution_count": 98,
   "id": "7e2ed5e0",
   "metadata": {},
   "outputs": [],
   "source": [
    "# wieder einlesen \n",
    "\n",
    "df = pd.read_csv('Korpus/corpus_norm.csv', sep=',', encoding='utf-8') "
   ]
  },
  {
   "cell_type": "code",
   "execution_count": 99,
   "id": "8b127689",
   "metadata": {},
   "outputs": [
    {
     "data": {
      "text/html": [
       "<div>\n",
       "<style scoped>\n",
       "    .dataframe tbody tr th:only-of-type {\n",
       "        vertical-align: middle;\n",
       "    }\n",
       "\n",
       "    .dataframe tbody tr th {\n",
       "        vertical-align: top;\n",
       "    }\n",
       "\n",
       "    .dataframe thead th {\n",
       "        text-align: right;\n",
       "    }\n",
       "</style>\n",
       "<table border=\"1\" class=\"dataframe\">\n",
       "  <thead>\n",
       "    <tr style=\"text-align: right;\">\n",
       "      <th></th>\n",
       "      <th>doc</th>\n",
       "      <th>source</th>\n",
       "      <th>author</th>\n",
       "      <th>title</th>\n",
       "      <th>year</th>\n",
       "      <th>period</th>\n",
       "      <th>text_type</th>\n",
       "      <th>words</th>\n",
       "      <th>text</th>\n",
       "      <th>cleaned_text</th>\n",
       "      <th>lemmatized_text</th>\n",
       "    </tr>\n",
       "  </thead>\n",
       "  <tbody>\n",
       "    <tr>\n",
       "      <th>0</th>\n",
       "      <td>Personali.IV.4.Testo.txt</td>\n",
       "      <td>MIDIA</td>\n",
       "      <td>Vincenzo da Filicaia</td>\n",
       "      <td>Lettere inedite a Lorenzo Magalotti</td>\n",
       "      <td>1700.0</td>\n",
       "      <td>1700-1750</td>\n",
       "      <td>personale</td>\n",
       "      <td>10073.0</td>\n",
       "      <td>IV. 4. Vincenzo da Filicaia, Lettere inedite a...</td>\n",
       "      <td>iv.  . vincenzo da filicaia, lettere inedite a...</td>\n",
       "      <td>iv . 4 . Vincenzo da filicaia , lettere inedit...</td>\n",
       "    </tr>\n",
       "    <tr>\n",
       "      <th>1</th>\n",
       "      <td>Personali.IV.15.Testo.txt</td>\n",
       "      <td>MIDIA</td>\n",
       "      <td>Pietro Giannone</td>\n",
       "      <td>Vita scritta da lui medesimo</td>\n",
       "      <td>1700.0</td>\n",
       "      <td>1700-1750</td>\n",
       "      <td>personale</td>\n",
       "      <td>10118.0</td>\n",
       "      <td>[Proemio]\\nPrendo a scrivere la mia vita e qua...</td>\n",
       "      <td>proemio  prendo a scrivere la mia vita e quan...</td>\n",
       "      <td>[ proemio ] \\n prendere a scrivere il mio vita...</td>\n",
       "    </tr>\n",
       "    <tr>\n",
       "      <th>2</th>\n",
       "      <td>Espositivi.IV.4.Testo.txt</td>\n",
       "      <td>MIDIA</td>\n",
       "      <td>Ludovico Antonio Muratori</td>\n",
       "      <td>Antichità italiane</td>\n",
       "      <td>1700.0</td>\n",
       "      <td>1700-1750</td>\n",
       "      <td>espositivo</td>\n",
       "      <td>8990.0</td>\n",
       "      <td>﻿IV. 4. Ludovico Antonio Muratori, Antichità i...</td>\n",
       "      <td>iv.  . ludovico antonio muratori, antichità i...</td>\n",
       "      <td>﻿iv . 4 . Ludovico Antonio muratori , antichit...</td>\n",
       "    </tr>\n",
       "    <tr>\n",
       "      <th>3</th>\n",
       "      <td>Personali.IV.5.Testo.txt</td>\n",
       "      <td>MIDIA</td>\n",
       "      <td>Lorenzo Magalotti</td>\n",
       "      <td>Lettere odorose (1693-1705)</td>\n",
       "      <td>1700.0</td>\n",
       "      <td>1700-1750</td>\n",
       "      <td>personale</td>\n",
       "      <td>8374.0</td>\n",
       "      <td>IV. 5. Lorenzo Magalotti, Lettere odorose (169...</td>\n",
       "      <td>iv.  . lorenzo magalotti, lettere odorose     ...</td>\n",
       "      <td>iv . 5 . Lorenzo magalotti , lettere odoroso (...</td>\n",
       "    </tr>\n",
       "    <tr>\n",
       "      <th>4</th>\n",
       "      <td>Poesia.IV.1.Testo.txt</td>\n",
       "      <td>MIDIA</td>\n",
       "      <td>Giuseppe Paolucci (Alessi Cillenio)</td>\n",
       "      <td>Poesie</td>\n",
       "      <td>1700.0</td>\n",
       "      <td>1700-1750</td>\n",
       "      <td>poesia</td>\n",
       "      <td>10862.0</td>\n",
       "      <td>IV. 1. Rime degli Arcadi: Alessi Cillenio (Giu...</td>\n",
       "      <td>iv.  . rime degli arcadi: alessi cillenio  giu...</td>\n",
       "      <td>iv . 1 . rima del arcadi : alessi cillenio ( G...</td>\n",
       "    </tr>\n",
       "  </tbody>\n",
       "</table>\n",
       "</div>"
      ],
      "text/plain": [
       "                         doc source                               author  \\\n",
       "0   Personali.IV.4.Testo.txt  MIDIA                 Vincenzo da Filicaia   \n",
       "1  Personali.IV.15.Testo.txt  MIDIA                      Pietro Giannone   \n",
       "2  Espositivi.IV.4.Testo.txt  MIDIA           Ludovico Antonio Muratori    \n",
       "3   Personali.IV.5.Testo.txt  MIDIA                    Lorenzo Magalotti   \n",
       "4      Poesia.IV.1.Testo.txt  MIDIA  Giuseppe Paolucci (Alessi Cillenio)   \n",
       "\n",
       "                                 title    year     period   text_type  \\\n",
       "0  Lettere inedite a Lorenzo Magalotti  1700.0  1700-1750   personale   \n",
       "1         Vita scritta da lui medesimo  1700.0  1700-1750   personale   \n",
       "2                   Antichità italiane  1700.0  1700-1750  espositivo   \n",
       "3          Lettere odorose (1693-1705)  1700.0  1700-1750   personale   \n",
       "4                               Poesie  1700.0  1700-1750      poesia   \n",
       "\n",
       "     words                                               text  \\\n",
       "0  10073.0  IV. 4. Vincenzo da Filicaia, Lettere inedite a...   \n",
       "1  10118.0  [Proemio]\\nPrendo a scrivere la mia vita e qua...   \n",
       "2   8990.0  ﻿IV. 4. Ludovico Antonio Muratori, Antichità i...   \n",
       "3   8374.0  IV. 5. Lorenzo Magalotti, Lettere odorose (169...   \n",
       "4  10862.0  IV. 1. Rime degli Arcadi: Alessi Cillenio (Giu...   \n",
       "\n",
       "                                        cleaned_text  \\\n",
       "0  iv.  . vincenzo da filicaia, lettere inedite a...   \n",
       "1   proemio  prendo a scrivere la mia vita e quan...   \n",
       "2   iv.  . ludovico antonio muratori, antichità i...   \n",
       "3  iv.  . lorenzo magalotti, lettere odorose     ...   \n",
       "4  iv.  . rime degli arcadi: alessi cillenio  giu...   \n",
       "\n",
       "                                     lemmatized_text  \n",
       "0  iv . 4 . Vincenzo da filicaia , lettere inedit...  \n",
       "1  [ proemio ] \\n prendere a scrivere il mio vita...  \n",
       "2  ﻿iv . 4 . Ludovico Antonio muratori , antichit...  \n",
       "3  iv . 5 . Lorenzo magalotti , lettere odoroso (...  \n",
       "4  iv . 1 . rima del arcadi : alessi cillenio ( G...  "
      ]
     },
     "execution_count": 99,
     "metadata": {},
     "output_type": "execute_result"
    }
   ],
   "source": [
    "df.head()"
   ]
  },
  {
   "cell_type": "code",
   "execution_count": 100,
   "id": "f9088da2",
   "metadata": {},
   "outputs": [
    {
     "data": {
      "text/plain": [
       "(134168, 11)"
      ]
     },
     "execution_count": 100,
     "metadata": {},
     "output_type": "execute_result"
    }
   ],
   "source": [
    "df.shape"
   ]
  },
  {
   "cell_type": "code",
   "execution_count": 101,
   "id": "578a4046",
   "metadata": {},
   "outputs": [],
   "source": [
    "df.text = df.text.fillna('')\n",
    "df.lemmatized_text = df.lemmatized_text.fillna('')\n",
    "df.cleaned_text = df.cleaned_text.fillna('')"
   ]
  },
  {
   "cell_type": "code",
   "execution_count": 102,
   "id": "4d3b9a73",
   "metadata": {},
   "outputs": [],
   "source": [
    "# Teilframes pro Zeitraum erstellen\n",
    "\n",
    "period_frames = []\n",
    "periods = list(df['period'].unique())\n",
    "df_periods = dict(tuple(df.groupby(by='period')))\n",
    "\n",
    "for df, period in zip(df_periods, periods):\n",
    "    df_period = df_periods[period]\n",
    "    period_frames.append(df_period)"
   ]
  },
  {
   "cell_type": "code",
   "execution_count": 103,
   "id": "bda3797c",
   "metadata": {},
   "outputs": [],
   "source": [
    "# Funktion, die bestimmte Wörter zählt\n",
    "\n",
    "def count_keywords(df, keywords):\n",
    "    keyword_dict = {w:w.replace(' ', '_') for w in keywords}\n",
    "\n",
    "    corpus = ' '.join(df.lemmatized_text).lower()                     \n",
    "    for w,w2 in keyword_dict.items():\n",
    "        corpus = corpus.replace(w,w2)\n",
    "\n",
    "    all_counts = Counter(corpus.split())\n",
    "    final_counts = {w:all_counts[w2] for w,w2 in keyword_dict.items()}\n",
    "    return final_counts"
   ]
  },
  {
   "cell_type": "code",
   "execution_count": 104,
   "id": "ed60ada2",
   "metadata": {},
   "outputs": [],
   "source": [
    "# mögliche Kandidaten\n",
    "\n",
    "keywords = ['atrocemente', 'formidabilmente', 'mostruosamente', 'orrendamente', \n",
    "            'orribilmente', 'spaventosamente', 'terribilmente', 'tremendamente', \n",
    "            'molto', 'angoscia', 'angosciare', 'ansia', 'atterrire', 'panico', \n",
    "            'paura', 'raccapricciare', 'raccapriccio', 'schifo', 'sgomentare', \n",
    "            'sgomento', 'spaventare', 'spavento', 'terrore', 'domani', 'finora', \n",
    "            'ieri', 'oggi', 'presto', 'raramente', 'sempre', 'spesso']"
   ]
  },
  {
   "cell_type": "code",
   "execution_count": 105,
   "id": "281160e8",
   "metadata": {},
   "outputs": [],
   "source": [
    "candidates = {}\n",
    "\n",
    "for df, period in zip(period_frames, periods):\n",
    "    res = count_keywords(df, keywords)\n",
    "    candidates[period] = res"
   ]
  },
  {
   "cell_type": "code",
   "execution_count": 106,
   "id": "110d8dee",
   "metadata": {},
   "outputs": [
    {
     "data": {
      "text/plain": [
       "{'1700-1750': {'atrocemente': 1,\n",
       "  'formidabilmente': 0,\n",
       "  'mostruosamente': 1,\n",
       "  'orrendamente': 1,\n",
       "  'orribilmente': 17,\n",
       "  'spaventosamente': 5,\n",
       "  'terribilmente': 7,\n",
       "  'tremendamente': 0,\n",
       "  'molto': 10543,\n",
       "  'angoscia': 16,\n",
       "  'angosciare': 0,\n",
       "  'ansia': 1,\n",
       "  'atterrire': 89,\n",
       "  'panico': 8,\n",
       "  'paura': 174,\n",
       "  'raccapricciare': 4,\n",
       "  'raccapriccio': 1,\n",
       "  'schifo': 8,\n",
       "  'sgomentare': 44,\n",
       "  'sgomento': 6,\n",
       "  'spaventare': 66,\n",
       "  'spavento': 217,\n",
       "  'terrore': 135,\n",
       "  'domani': 32,\n",
       "  'finora': 200,\n",
       "  'ieri': 25,\n",
       "  'oggi': 600,\n",
       "  'presto': 274,\n",
       "  'raramente': 9,\n",
       "  'sempre': 1962,\n",
       "  'spesso': 522},\n",
       " '1751-1800': {'atrocemente': 2,\n",
       "  'formidabilmente': 0,\n",
       "  'mostruosamente': 0,\n",
       "  'orrendamente': 1,\n",
       "  'orribilmente': 20,\n",
       "  'spaventosamente': 1,\n",
       "  'terribilmente': 8,\n",
       "  'tremendamente': 0,\n",
       "  'molto': 12933,\n",
       "  'angoscia': 51,\n",
       "  'angosciare': 0,\n",
       "  'ansia': 2,\n",
       "  'atterrire': 53,\n",
       "  'panico': 5,\n",
       "  'paura': 206,\n",
       "  'raccapricciare': 1,\n",
       "  'raccapriccio': 5,\n",
       "  'schifo': 14,\n",
       "  'sgomentare': 12,\n",
       "  'sgomento': 2,\n",
       "  'spaventare': 61,\n",
       "  'spavento': 86,\n",
       "  'terrore': 120,\n",
       "  'domani': 44,\n",
       "  'finora': 225,\n",
       "  'ieri': 39,\n",
       "  'oggi': 468,\n",
       "  'presto': 469,\n",
       "  'raramente': 39,\n",
       "  'sempre': 2403,\n",
       "  'spesso': 689},\n",
       " '1801-1850': {'atrocemente': 8,\n",
       "  'formidabilmente': 0,\n",
       "  'mostruosamente': 2,\n",
       "  'orrendamente': 9,\n",
       "  'orribilmente': 49,\n",
       "  'spaventosamente': 3,\n",
       "  'terribilmente': 31,\n",
       "  'tremendamente': 2,\n",
       "  'molto': 9895,\n",
       "  'angoscia': 83,\n",
       "  'angosciare': 9,\n",
       "  'ansia': 11,\n",
       "  'atterrire': 59,\n",
       "  'panico': 5,\n",
       "  'paura': 216,\n",
       "  'raccapricciare': 1,\n",
       "  'raccapriccio': 7,\n",
       "  'schifo': 9,\n",
       "  'sgomentare': 22,\n",
       "  'sgomento': 10,\n",
       "  'spaventare': 100,\n",
       "  'spavento': 106,\n",
       "  'terrore': 154,\n",
       "  'domani': 164,\n",
       "  'finora': 94,\n",
       "  'ieri': 175,\n",
       "  'oggi': 1002,\n",
       "  'presto': 365,\n",
       "  'raramente': 20,\n",
       "  'sempre': 2280,\n",
       "  'spesso': 617},\n",
       " '1851-1900': {'atrocemente': 8,\n",
       "  'formidabilmente': 1,\n",
       "  'mostruosamente': 19,\n",
       "  'orrendamente': 4,\n",
       "  'orribilmente': 145,\n",
       "  'spaventosamente': 38,\n",
       "  'terribilmente': 119,\n",
       "  'tremendamente': 47,\n",
       "  'molto': 9461,\n",
       "  'angoscia': 131,\n",
       "  'angosciare': 5,\n",
       "  'ansia': 69,\n",
       "  'atterrire': 58,\n",
       "  'panico': 9,\n",
       "  'paura': 537,\n",
       "  'raccapricciare': 10,\n",
       "  'raccapriccio': 32,\n",
       "  'schifo': 3,\n",
       "  'sgomentare': 48,\n",
       "  'sgomento': 64,\n",
       "  'spaventare': 135,\n",
       "  'spavento': 113,\n",
       "  'terrore': 186,\n",
       "  'domani': 493,\n",
       "  'finora': 96,\n",
       "  'ieri': 222,\n",
       "  'oggi': 677,\n",
       "  'presto': 569,\n",
       "  'raramente': 33,\n",
       "  'sempre': 2829,\n",
       "  'spesso': 495},\n",
       " '1901-1950': {'atrocemente': 10,\n",
       "  'formidabilmente': 2,\n",
       "  'mostruosamente': 36,\n",
       "  'orrendamente': 10,\n",
       "  'orribilmente': 145,\n",
       "  'spaventosamente': 132,\n",
       "  'terribilmente': 145,\n",
       "  'tremendamente': 50,\n",
       "  'molto': 10679,\n",
       "  'angoscia': 191,\n",
       "  'angosciare': 7,\n",
       "  'ansia': 130,\n",
       "  'atterrire': 51,\n",
       "  'panico': 18,\n",
       "  'paura': 632,\n",
       "  'raccapricciare': 5,\n",
       "  'raccapriccio': 31,\n",
       "  'schifo': 42,\n",
       "  'sgomentare': 43,\n",
       "  'sgomento': 140,\n",
       "  'spaventare': 145,\n",
       "  'spavento': 115,\n",
       "  'terrore': 218,\n",
       "  'domani': 573,\n",
       "  'finora': 138,\n",
       "  'ieri': 354,\n",
       "  'oggi': 972,\n",
       "  'presto': 524,\n",
       "  'raramente': 43,\n",
       "  'sempre': 2790,\n",
       "  'spesso': 514},\n",
       " '1951-2000': {'atrocemente': 48,\n",
       "  'formidabilmente': 0,\n",
       "  'mostruosamente': 50,\n",
       "  'orrendamente': 50,\n",
       "  'orribilmente': 145,\n",
       "  'spaventosamente': 145,\n",
       "  'terribilmente': 145,\n",
       "  'tremendamente': 50,\n",
       "  'molto': 12374,\n",
       "  'angoscia': 338,\n",
       "  'angosciare': 53,\n",
       "  'ansia': 313,\n",
       "  'atterrire': 46,\n",
       "  'panico': 277,\n",
       "  'paura': 745,\n",
       "  'raccapricciare': 3,\n",
       "  'raccapriccio': 112,\n",
       "  'schifo': 170,\n",
       "  'sgomentare': 69,\n",
       "  'sgomento': 242,\n",
       "  'spaventare': 187,\n",
       "  'spavento': 162,\n",
       "  'terrore': 361,\n",
       "  'domani': 639,\n",
       "  'finora': 533,\n",
       "  'ieri': 1742,\n",
       "  'oggi': 2138,\n",
       "  'presto': 614,\n",
       "  'raramente': 290,\n",
       "  'sempre': 3011,\n",
       "  'spesso': 991},\n",
       " '2001-2021': {'atrocemente': 71,\n",
       "  'formidabilmente': 66,\n",
       "  'mostruosamente': 50,\n",
       "  'orrendamente': 71,\n",
       "  'orribilmente': 145,\n",
       "  'spaventosamente': 145,\n",
       "  'terribilmente': 145,\n",
       "  'tremendamente': 50,\n",
       "  'molto': 10375,\n",
       "  'angoscia': 126,\n",
       "  'angosciare': 41,\n",
       "  'ansia': 175,\n",
       "  'atterrire': 67,\n",
       "  'panico': 191,\n",
       "  'paura': 559,\n",
       "  'raccapricciare': 15,\n",
       "  'raccapriccio': 106,\n",
       "  'schifo': 132,\n",
       "  'sgomentare': 59,\n",
       "  'sgomento': 102,\n",
       "  'spaventare': 140,\n",
       "  'spavento': 106,\n",
       "  'terrore': 173,\n",
       "  'domani': 619,\n",
       "  'finora': 246,\n",
       "  'ieri': 1191,\n",
       "  'oggi': 2087,\n",
       "  'presto': 349,\n",
       "  'raramente': 100,\n",
       "  'sempre': 2524,\n",
       "  'spesso': 561}}"
      ]
     },
     "execution_count": 106,
     "metadata": {},
     "output_type": "execute_result"
    }
   ],
   "source": [
    "candidates"
   ]
  },
  {
   "cell_type": "code",
   "execution_count": 108,
   "id": "1811b107",
   "metadata": {},
   "outputs": [
    {
     "data": {
      "text/html": [
       "<div>\n",
       "<style scoped>\n",
       "    .dataframe tbody tr th:only-of-type {\n",
       "        vertical-align: middle;\n",
       "    }\n",
       "\n",
       "    .dataframe tbody tr th {\n",
       "        vertical-align: top;\n",
       "    }\n",
       "\n",
       "    .dataframe thead th {\n",
       "        text-align: right;\n",
       "    }\n",
       "</style>\n",
       "<table border=\"1\" class=\"dataframe\">\n",
       "  <thead>\n",
       "    <tr style=\"text-align: right;\">\n",
       "      <th></th>\n",
       "      <th>atrocemente</th>\n",
       "      <th>formidabilmente</th>\n",
       "      <th>mostruosamente</th>\n",
       "      <th>orrendamente</th>\n",
       "      <th>orribilmente</th>\n",
       "      <th>spaventosamente</th>\n",
       "      <th>terribilmente</th>\n",
       "      <th>tremendamente</th>\n",
       "      <th>molto</th>\n",
       "      <th>angoscia</th>\n",
       "      <th>...</th>\n",
       "      <th>spavento</th>\n",
       "      <th>terrore</th>\n",
       "      <th>domani</th>\n",
       "      <th>finora</th>\n",
       "      <th>ieri</th>\n",
       "      <th>oggi</th>\n",
       "      <th>presto</th>\n",
       "      <th>raramente</th>\n",
       "      <th>sempre</th>\n",
       "      <th>spesso</th>\n",
       "    </tr>\n",
       "  </thead>\n",
       "  <tbody>\n",
       "    <tr>\n",
       "      <th>1700-1750</th>\n",
       "      <td>1</td>\n",
       "      <td>0</td>\n",
       "      <td>1</td>\n",
       "      <td>1</td>\n",
       "      <td>17</td>\n",
       "      <td>5</td>\n",
       "      <td>7</td>\n",
       "      <td>0</td>\n",
       "      <td>10543</td>\n",
       "      <td>16</td>\n",
       "      <td>...</td>\n",
       "      <td>217</td>\n",
       "      <td>135</td>\n",
       "      <td>32</td>\n",
       "      <td>200</td>\n",
       "      <td>25</td>\n",
       "      <td>600</td>\n",
       "      <td>274</td>\n",
       "      <td>9</td>\n",
       "      <td>1962</td>\n",
       "      <td>522</td>\n",
       "    </tr>\n",
       "    <tr>\n",
       "      <th>1751-1800</th>\n",
       "      <td>2</td>\n",
       "      <td>0</td>\n",
       "      <td>0</td>\n",
       "      <td>1</td>\n",
       "      <td>20</td>\n",
       "      <td>1</td>\n",
       "      <td>8</td>\n",
       "      <td>0</td>\n",
       "      <td>12933</td>\n",
       "      <td>51</td>\n",
       "      <td>...</td>\n",
       "      <td>86</td>\n",
       "      <td>120</td>\n",
       "      <td>44</td>\n",
       "      <td>225</td>\n",
       "      <td>39</td>\n",
       "      <td>468</td>\n",
       "      <td>469</td>\n",
       "      <td>39</td>\n",
       "      <td>2403</td>\n",
       "      <td>689</td>\n",
       "    </tr>\n",
       "    <tr>\n",
       "      <th>1801-1850</th>\n",
       "      <td>8</td>\n",
       "      <td>0</td>\n",
       "      <td>2</td>\n",
       "      <td>9</td>\n",
       "      <td>49</td>\n",
       "      <td>3</td>\n",
       "      <td>31</td>\n",
       "      <td>2</td>\n",
       "      <td>9895</td>\n",
       "      <td>83</td>\n",
       "      <td>...</td>\n",
       "      <td>106</td>\n",
       "      <td>154</td>\n",
       "      <td>164</td>\n",
       "      <td>94</td>\n",
       "      <td>175</td>\n",
       "      <td>1002</td>\n",
       "      <td>365</td>\n",
       "      <td>20</td>\n",
       "      <td>2280</td>\n",
       "      <td>617</td>\n",
       "    </tr>\n",
       "    <tr>\n",
       "      <th>1851-1900</th>\n",
       "      <td>8</td>\n",
       "      <td>1</td>\n",
       "      <td>19</td>\n",
       "      <td>4</td>\n",
       "      <td>145</td>\n",
       "      <td>38</td>\n",
       "      <td>119</td>\n",
       "      <td>47</td>\n",
       "      <td>9461</td>\n",
       "      <td>131</td>\n",
       "      <td>...</td>\n",
       "      <td>113</td>\n",
       "      <td>186</td>\n",
       "      <td>493</td>\n",
       "      <td>96</td>\n",
       "      <td>222</td>\n",
       "      <td>677</td>\n",
       "      <td>569</td>\n",
       "      <td>33</td>\n",
       "      <td>2829</td>\n",
       "      <td>495</td>\n",
       "    </tr>\n",
       "    <tr>\n",
       "      <th>1901-1950</th>\n",
       "      <td>10</td>\n",
       "      <td>2</td>\n",
       "      <td>36</td>\n",
       "      <td>10</td>\n",
       "      <td>145</td>\n",
       "      <td>132</td>\n",
       "      <td>145</td>\n",
       "      <td>50</td>\n",
       "      <td>10679</td>\n",
       "      <td>191</td>\n",
       "      <td>...</td>\n",
       "      <td>115</td>\n",
       "      <td>218</td>\n",
       "      <td>573</td>\n",
       "      <td>138</td>\n",
       "      <td>354</td>\n",
       "      <td>972</td>\n",
       "      <td>524</td>\n",
       "      <td>43</td>\n",
       "      <td>2790</td>\n",
       "      <td>514</td>\n",
       "    </tr>\n",
       "    <tr>\n",
       "      <th>1951-2000</th>\n",
       "      <td>48</td>\n",
       "      <td>0</td>\n",
       "      <td>50</td>\n",
       "      <td>50</td>\n",
       "      <td>145</td>\n",
       "      <td>145</td>\n",
       "      <td>145</td>\n",
       "      <td>50</td>\n",
       "      <td>12374</td>\n",
       "      <td>338</td>\n",
       "      <td>...</td>\n",
       "      <td>162</td>\n",
       "      <td>361</td>\n",
       "      <td>639</td>\n",
       "      <td>533</td>\n",
       "      <td>1742</td>\n",
       "      <td>2138</td>\n",
       "      <td>614</td>\n",
       "      <td>290</td>\n",
       "      <td>3011</td>\n",
       "      <td>991</td>\n",
       "    </tr>\n",
       "    <tr>\n",
       "      <th>2001-2021</th>\n",
       "      <td>71</td>\n",
       "      <td>66</td>\n",
       "      <td>50</td>\n",
       "      <td>71</td>\n",
       "      <td>145</td>\n",
       "      <td>145</td>\n",
       "      <td>145</td>\n",
       "      <td>50</td>\n",
       "      <td>10375</td>\n",
       "      <td>126</td>\n",
       "      <td>...</td>\n",
       "      <td>106</td>\n",
       "      <td>173</td>\n",
       "      <td>619</td>\n",
       "      <td>246</td>\n",
       "      <td>1191</td>\n",
       "      <td>2087</td>\n",
       "      <td>349</td>\n",
       "      <td>100</td>\n",
       "      <td>2524</td>\n",
       "      <td>561</td>\n",
       "    </tr>\n",
       "  </tbody>\n",
       "</table>\n",
       "<p>7 rows × 31 columns</p>\n",
       "</div>"
      ],
      "text/plain": [
       "           atrocemente  formidabilmente  mostruosamente  orrendamente  \\\n",
       "1700-1750            1                0               1             1   \n",
       "1751-1800            2                0               0             1   \n",
       "1801-1850            8                0               2             9   \n",
       "1851-1900            8                1              19             4   \n",
       "1901-1950           10                2              36            10   \n",
       "1951-2000           48                0              50            50   \n",
       "2001-2021           71               66              50            71   \n",
       "\n",
       "           orribilmente  spaventosamente  terribilmente  tremendamente  molto  \\\n",
       "1700-1750            17                5              7              0  10543   \n",
       "1751-1800            20                1              8              0  12933   \n",
       "1801-1850            49                3             31              2   9895   \n",
       "1851-1900           145               38            119             47   9461   \n",
       "1901-1950           145              132            145             50  10679   \n",
       "1951-2000           145              145            145             50  12374   \n",
       "2001-2021           145              145            145             50  10375   \n",
       "\n",
       "           angoscia  ...  spavento  terrore  domani  finora  ieri  oggi  \\\n",
       "1700-1750        16  ...       217      135      32     200    25   600   \n",
       "1751-1800        51  ...        86      120      44     225    39   468   \n",
       "1801-1850        83  ...       106      154     164      94   175  1002   \n",
       "1851-1900       131  ...       113      186     493      96   222   677   \n",
       "1901-1950       191  ...       115      218     573     138   354   972   \n",
       "1951-2000       338  ...       162      361     639     533  1742  2138   \n",
       "2001-2021       126  ...       106      173     619     246  1191  2087   \n",
       "\n",
       "           presto  raramente  sempre  spesso  \n",
       "1700-1750     274          9    1962     522  \n",
       "1751-1800     469         39    2403     689  \n",
       "1801-1850     365         20    2280     617  \n",
       "1851-1900     569         33    2829     495  \n",
       "1901-1950     524         43    2790     514  \n",
       "1951-2000     614        290    3011     991  \n",
       "2001-2021     349        100    2524     561  \n",
       "\n",
       "[7 rows x 31 columns]"
      ]
     },
     "execution_count": 108,
     "metadata": {},
     "output_type": "execute_result"
    }
   ],
   "source": [
    "table = pd.DataFrame.from_dict(candidates, orient='index')\n",
    "table"
   ]
  },
  {
   "cell_type": "code",
   "execution_count": 109,
   "id": "21f654ff",
   "metadata": {},
   "outputs": [],
   "source": [
    "table.to_csv('Korpus/candidates_norm.csv', sep=';')"
   ]
  },
  {
   "cell_type": "code",
   "execution_count": null,
   "id": "bdc4aa99",
   "metadata": {},
   "outputs": [],
   "source": []
  }
 ],
 "metadata": {
  "kernelspec": {
   "display_name": "Python 3 (ipykernel)",
   "language": "python",
   "name": "python3"
  },
  "language_info": {
   "codemirror_mode": {
    "name": "ipython",
    "version": 3
   },
   "file_extension": ".py",
   "mimetype": "text/x-python",
   "name": "python",
   "nbconvert_exporter": "python",
   "pygments_lexer": "ipython3",
   "version": "3.7.11"
  }
 },
 "nbformat": 4,
 "nbformat_minor": 5
}
