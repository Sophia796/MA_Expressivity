{
 "cells": [
  {
   "cell_type": "markdown",
   "id": "94241e01",
   "metadata": {},
   "source": [
    "# Kandidaten"
   ]
  },
  {
   "cell_type": "code",
   "execution_count": 1,
   "id": "f2a92e58",
   "metadata": {},
   "outputs": [],
   "source": [
    "import codecs\n",
    "from collections import Counter\n",
    "from IPython.display import Markdown, display\n",
    "import nltk\n",
    "import numpy as np\n",
    "import os\n",
    "import pandas as pd\n",
    "import re\n",
    "import scipy\n",
    "import spacy"
   ]
  },
  {
   "cell_type": "markdown",
   "id": "ff5e1734",
   "metadata": {},
   "source": [
    "### Anzahl der Kandidaten im lemmatisierten Korpus "
   ]
  },
  {
   "cell_type": "code",
   "execution_count": 2,
   "id": "2171d7a8",
   "metadata": {},
   "outputs": [],
   "source": [
    "df = pd.read_csv('Korpus/corpus_periods.csv', sep=',', encoding='utf-8')"
   ]
  },
  {
   "cell_type": "code",
   "execution_count": 3,
   "id": "ed122676",
   "metadata": {},
   "outputs": [
    {
     "data": {
      "text/html": [
       "<div>\n",
       "<style scoped>\n",
       "    .dataframe tbody tr th:only-of-type {\n",
       "        vertical-align: middle;\n",
       "    }\n",
       "\n",
       "    .dataframe tbody tr th {\n",
       "        vertical-align: top;\n",
       "    }\n",
       "\n",
       "    .dataframe thead th {\n",
       "        text-align: right;\n",
       "    }\n",
       "</style>\n",
       "<table border=\"1\" class=\"dataframe\">\n",
       "  <thead>\n",
       "    <tr style=\"text-align: right;\">\n",
       "      <th></th>\n",
       "      <th>doc</th>\n",
       "      <th>source</th>\n",
       "      <th>author</th>\n",
       "      <th>title</th>\n",
       "      <th>year</th>\n",
       "      <th>period</th>\n",
       "      <th>text_type</th>\n",
       "      <th>words</th>\n",
       "      <th>text</th>\n",
       "      <th>cleaned_text</th>\n",
       "      <th>lemmatized_text</th>\n",
       "    </tr>\n",
       "  </thead>\n",
       "  <tbody>\n",
       "    <tr>\n",
       "      <th>0</th>\n",
       "      <td>Poesia.IV.4.Testo.txt</td>\n",
       "      <td>MIDIA</td>\n",
       "      <td>Faustina Maratti Zappi</td>\n",
       "      <td>Poesie</td>\n",
       "      <td>1700.0</td>\n",
       "      <td>1700-1750</td>\n",
       "      <td>poesia</td>\n",
       "      <td>3184.0</td>\n",
       "      <td>IV. 4. Rime degli Arcadi: Aglauro Cidonia (Fau...</td>\n",
       "      <td>iv.  . rime degli arcadi: aglauro cidonia  fau...</td>\n",
       "      <td>iv . 4 . rima del arcadi : aglauro cidonia ( f...</td>\n",
       "    </tr>\n",
       "    <tr>\n",
       "      <th>1</th>\n",
       "      <td>Poesia.IV.11.Testo.txt</td>\n",
       "      <td>MIDIA</td>\n",
       "      <td>Giambattista Felice Zappi</td>\n",
       "      <td>Poesie</td>\n",
       "      <td>1700.0</td>\n",
       "      <td>1700-1750</td>\n",
       "      <td>poesia</td>\n",
       "      <td>6113.0</td>\n",
       "      <td>IV. 11. Rime degli arcadi: Tirsi Leucasio (Gio...</td>\n",
       "      <td>iv.   . rime degli arcadi: tirsi leucasio  gio...</td>\n",
       "      <td>iv . 11 . rima del arcade : tirsi leucasio ( g...</td>\n",
       "    </tr>\n",
       "    <tr>\n",
       "      <th>2</th>\n",
       "      <td>Poesia.IV.1.Testo.txt</td>\n",
       "      <td>MIDIA</td>\n",
       "      <td>Giuseppe Paolucci (Alessi Cillenio)</td>\n",
       "      <td>Poesie</td>\n",
       "      <td>1700.0</td>\n",
       "      <td>1700-1750</td>\n",
       "      <td>poesia</td>\n",
       "      <td>10862.0</td>\n",
       "      <td>IV. 1. Rime degli Arcadi: Alessi Cillenio (Giu...</td>\n",
       "      <td>iv.  . rime degli arcadi: alessi cillenio  giu...</td>\n",
       "      <td>iv . 1 . rima del arcadi : alessi cillenio ( G...</td>\n",
       "    </tr>\n",
       "    <tr>\n",
       "      <th>3</th>\n",
       "      <td>Personali.IV.5.Testo.txt</td>\n",
       "      <td>MIDIA</td>\n",
       "      <td>Lorenzo Magalotti</td>\n",
       "      <td>Lettere odorose (1693-1705)</td>\n",
       "      <td>1700.0</td>\n",
       "      <td>1700-1750</td>\n",
       "      <td>personale</td>\n",
       "      <td>8374.0</td>\n",
       "      <td>IV. 5. Lorenzo Magalotti, Lettere odorose (169...</td>\n",
       "      <td>iv.  . lorenzo magalotti, lettere odorose     ...</td>\n",
       "      <td>iv . 5 . Lorenzo magalotti , lettere odoroso (...</td>\n",
       "    </tr>\n",
       "    <tr>\n",
       "      <th>4</th>\n",
       "      <td>Espositivi.IV.4.Testo.txt</td>\n",
       "      <td>MIDIA</td>\n",
       "      <td>Ludovico Antonio Muratori</td>\n",
       "      <td>Antichità italiane</td>\n",
       "      <td>1700.0</td>\n",
       "      <td>1700-1750</td>\n",
       "      <td>espositivo</td>\n",
       "      <td>8990.0</td>\n",
       "      <td>﻿IV. 4. Ludovico Antonio Muratori, Antichità i...</td>\n",
       "      <td>iv.  . ludovico antonio muratori, antichità i...</td>\n",
       "      <td>﻿iv . 4 . Ludovico Antonio muratori , antichit...</td>\n",
       "    </tr>\n",
       "  </tbody>\n",
       "</table>\n",
       "</div>"
      ],
      "text/plain": [
       "                         doc source                               author  \\\n",
       "0      Poesia.IV.4.Testo.txt  MIDIA               Faustina Maratti Zappi   \n",
       "1     Poesia.IV.11.Testo.txt  MIDIA            Giambattista Felice Zappi   \n",
       "2      Poesia.IV.1.Testo.txt  MIDIA  Giuseppe Paolucci (Alessi Cillenio)   \n",
       "3   Personali.IV.5.Testo.txt  MIDIA                    Lorenzo Magalotti   \n",
       "4  Espositivi.IV.4.Testo.txt  MIDIA           Ludovico Antonio Muratori    \n",
       "\n",
       "                         title    year     period   text_type    words  \\\n",
       "0                       Poesie  1700.0  1700-1750      poesia   3184.0   \n",
       "1                       Poesie  1700.0  1700-1750      poesia   6113.0   \n",
       "2                       Poesie  1700.0  1700-1750      poesia  10862.0   \n",
       "3  Lettere odorose (1693-1705)  1700.0  1700-1750   personale   8374.0   \n",
       "4           Antichità italiane  1700.0  1700-1750  espositivo   8990.0   \n",
       "\n",
       "                                                text  \\\n",
       "0  IV. 4. Rime degli Arcadi: Aglauro Cidonia (Fau...   \n",
       "1  IV. 11. Rime degli arcadi: Tirsi Leucasio (Gio...   \n",
       "2  IV. 1. Rime degli Arcadi: Alessi Cillenio (Giu...   \n",
       "3  IV. 5. Lorenzo Magalotti, Lettere odorose (169...   \n",
       "4  ﻿IV. 4. Ludovico Antonio Muratori, Antichità i...   \n",
       "\n",
       "                                        cleaned_text  \\\n",
       "0  iv.  . rime degli arcadi: aglauro cidonia  fau...   \n",
       "1  iv.   . rime degli arcadi: tirsi leucasio  gio...   \n",
       "2  iv.  . rime degli arcadi: alessi cillenio  giu...   \n",
       "3  iv.  . lorenzo magalotti, lettere odorose     ...   \n",
       "4   iv.  . ludovico antonio muratori, antichità i...   \n",
       "\n",
       "                                     lemmatized_text  \n",
       "0  iv . 4 . rima del arcadi : aglauro cidonia ( f...  \n",
       "1  iv . 11 . rima del arcade : tirsi leucasio ( g...  \n",
       "2  iv . 1 . rima del arcadi : alessi cillenio ( G...  \n",
       "3  iv . 5 . Lorenzo magalotti , lettere odoroso (...  \n",
       "4  ﻿iv . 4 . Ludovico Antonio muratori , antichit...  "
      ]
     },
     "execution_count": 3,
     "metadata": {},
     "output_type": "execute_result"
    }
   ],
   "source": [
    "df.head()"
   ]
  },
  {
   "cell_type": "code",
   "execution_count": 4,
   "id": "da8051c8",
   "metadata": {},
   "outputs": [
    {
     "data": {
      "text/plain": [
       "(431959, 11)"
      ]
     },
     "execution_count": 4,
     "metadata": {},
     "output_type": "execute_result"
    }
   ],
   "source": [
    "df.shape"
   ]
  },
  {
   "cell_type": "code",
   "execution_count": 5,
   "id": "515a1157",
   "metadata": {},
   "outputs": [],
   "source": [
    "df.text = df.text.fillna('')\n",
    "df.lemmatized_text = df.lemmatized_text.fillna('')"
   ]
  },
  {
   "cell_type": "code",
   "execution_count": 6,
   "id": "1c3cc584",
   "metadata": {},
   "outputs": [],
   "source": [
    "# Teilframes pro Zeitraum erstellen\n",
    "\n",
    "period_frames = []\n",
    "periods = list(df['period'].unique())\n",
    "df_periods = dict(tuple(df.groupby(by='period')))\n",
    "\n",
    "for df, period in zip(df_periods, periods):\n",
    "    df_period = df_periods[period]\n",
    "    period_frames.append(df_period)"
   ]
  },
  {
   "cell_type": "code",
   "execution_count": 7,
   "id": "55abe7b3",
   "metadata": {},
   "outputs": [],
   "source": [
    "# Funktion, die bestimmte Wörter zählt (im lemmatisierten Text)\n",
    "\n",
    "def count_keywords(df, keywords):\n",
    "    keyword_dict = {w:w.replace(' ', '_') for w in keywords}\n",
    "\n",
    "    corpus = ' '.join(df.lemmatized_text).lower()\n",
    "    for w,w2 in keyword_dict.items():\n",
    "        corpus = corpus.replace(w,w2)\n",
    "\n",
    "    all_counts = Counter(corpus.split())\n",
    "    final_counts = {w:all_counts[w2] for w,w2 in keyword_dict.items()}\n",
    "    return final_counts"
   ]
  },
  {
   "cell_type": "code",
   "execution_count": 8,
   "id": "847f3f93",
   "metadata": {},
   "outputs": [],
   "source": [
    "# mögliche Kandidaten\n",
    "\n",
    "keywords = ['atrocemente', 'formidabilmente', 'mostruosamente', 'orrendamente', \n",
    "            'orribilmente', 'spaventosamente', 'terribilmente', 'tremendamente', \n",
    "            'molto', 'angoscia', 'angosciare', 'ansia', 'atterrire', 'panico', \n",
    "            'paura', 'raccapricciare', 'raccapriccio', 'schifo', 'sgomentare', \n",
    "            'sgomento', 'spaventare', 'spavento', 'terrore', 'domani', 'finora', \n",
    "            'ieri', 'oggi', 'presto', 'raramente', 'sempre', 'spesso']"
   ]
  },
  {
   "cell_type": "code",
   "execution_count": 9,
   "id": "48ea6679",
   "metadata": {},
   "outputs": [],
   "source": [
    "candidates = {}\n",
    "\n",
    "for df, period in zip(period_frames, periods):\n",
    "    res = count_keywords(df, keywords)\n",
    "    candidates[period] = res"
   ]
  },
  {
   "cell_type": "code",
   "execution_count": 10,
   "id": "7ea39edb",
   "metadata": {},
   "outputs": [
    {
     "data": {
      "text/plain": [
       "{'1700-1750': {'atrocemente': 2,\n",
       "  'formidabilmente': 0,\n",
       "  'mostruosamente': 2,\n",
       "  'orrendamente': 1,\n",
       "  'orribilmente': 20,\n",
       "  'spaventosamente': 9,\n",
       "  'terribilmente': 13,\n",
       "  'tremendamente': 0,\n",
       "  'molto': 10683,\n",
       "  'angoscia': 18,\n",
       "  'angosciare': 0,\n",
       "  'ansia': 1,\n",
       "  'atterrire': 100,\n",
       "  'panico': 11,\n",
       "  'paura': 177,\n",
       "  'raccapricciare': 7,\n",
       "  'raccapriccio': 1,\n",
       "  'schifo': 11,\n",
       "  'sgomentare': 57,\n",
       "  'sgomento': 6,\n",
       "  'spaventare': 70,\n",
       "  'spavento': 224,\n",
       "  'terrore': 143,\n",
       "  'domani': 33,\n",
       "  'finora': 237,\n",
       "  'ieri': 25,\n",
       "  'oggi': 602,\n",
       "  'presto': 275,\n",
       "  'raramente': 9,\n",
       "  'sempre': 1998,\n",
       "  'spesso': 534},\n",
       " '1751-1800': {'atrocemente': 3,\n",
       "  'formidabilmente': 0,\n",
       "  'mostruosamente': 0,\n",
       "  'orrendamente': 1,\n",
       "  'orribilmente': 25,\n",
       "  'spaventosamente': 1,\n",
       "  'terribilmente': 13,\n",
       "  'tremendamente': 0,\n",
       "  'molto': 15498,\n",
       "  'angoscia': 70,\n",
       "  'angosciare': 0,\n",
       "  'ansia': 2,\n",
       "  'atterrire': 75,\n",
       "  'panico': 10,\n",
       "  'paura': 240,\n",
       "  'raccapricciare': 2,\n",
       "  'raccapriccio': 8,\n",
       "  'schifo': 31,\n",
       "  'sgomentare': 17,\n",
       "  'sgomento': 3,\n",
       "  'spaventare': 74,\n",
       "  'spavento': 100,\n",
       "  'terrore': 151,\n",
       "  'domani': 180,\n",
       "  'finora': 244,\n",
       "  'ieri': 106,\n",
       "  'oggi': 618,\n",
       "  'presto': 578,\n",
       "  'raramente': 80,\n",
       "  'sempre': 3069,\n",
       "  'spesso': 828},\n",
       " '1801-1850': {'atrocemente': 21,\n",
       "  'formidabilmente': 0,\n",
       "  'mostruosamente': 2,\n",
       "  'orrendamente': 17,\n",
       "  'orribilmente': 71,\n",
       "  'spaventosamente': 4,\n",
       "  'terribilmente': 45,\n",
       "  'tremendamente': 2,\n",
       "  'molto': 21657,\n",
       "  'angoscia': 232,\n",
       "  'angosciare': 26,\n",
       "  'ansia': 57,\n",
       "  'atterrire': 220,\n",
       "  'panico': 30,\n",
       "  'paura': 504,\n",
       "  'raccapricciare': 22,\n",
       "  'raccapriccio': 26,\n",
       "  'schifo': 31,\n",
       "  'sgomentare': 116,\n",
       "  'sgomento': 37,\n",
       "  'spaventare': 314,\n",
       "  'spavento': 369,\n",
       "  'terrore': 466,\n",
       "  'domani': 420,\n",
       "  'finora': 258,\n",
       "  'ieri': 476,\n",
       "  'oggi': 2095,\n",
       "  'presto': 1048,\n",
       "  'raramente': 50,\n",
       "  'sempre': 5780,\n",
       "  'spesso': 1313},\n",
       " '1851-1900': {'atrocemente': 145,\n",
       "  'formidabilmente': 22,\n",
       "  'mostruosamente': 30,\n",
       "  'orrendamente': 68,\n",
       "  'orribilmente': 380,\n",
       "  'spaventosamente': 68,\n",
       "  'terribilmente': 228,\n",
       "  'tremendamente': 105,\n",
       "  'molto': 46874,\n",
       "  'angoscia': 733,\n",
       "  'angosciare': 66,\n",
       "  'ansia': 463,\n",
       "  'atterrire': 407,\n",
       "  'panico': 98,\n",
       "  'paura': 2784,\n",
       "  'raccapricciare': 126,\n",
       "  'raccapriccio': 297,\n",
       "  'schifo': 266,\n",
       "  'sgomentare': 517,\n",
       "  'sgomento': 613,\n",
       "  'spaventare': 956,\n",
       "  'spavento': 844,\n",
       "  'terrore': 963,\n",
       "  'domani': 1931,\n",
       "  'finora': 688,\n",
       "  'ieri': 1061,\n",
       "  'oggi': 3323,\n",
       "  'presto': 2631,\n",
       "  'raramente': 336,\n",
       "  'sempre': 12568,\n",
       "  'spesso': 2481},\n",
       " '1901-1950': {'atrocemente': 128,\n",
       "  'formidabilmente': 25,\n",
       "  'mostruosamente': 63,\n",
       "  'orrendamente': 70,\n",
       "  'orribilmente': 332,\n",
       "  'spaventosamente': 218,\n",
       "  'terribilmente': 439,\n",
       "  'tremendamente': 75,\n",
       "  'molto': 27863,\n",
       "  'angoscia': 768,\n",
       "  'angosciare': 78,\n",
       "  'ansia': 843,\n",
       "  'atterrire': 328,\n",
       "  'panico': 157,\n",
       "  'paura': 1833,\n",
       "  'raccapricciare': 72,\n",
       "  'raccapriccio': 270,\n",
       "  'schifo': 327,\n",
       "  'sgomentare': 366,\n",
       "  'sgomento': 740,\n",
       "  'spaventare': 657,\n",
       "  'spavento': 533,\n",
       "  'terrore': 813,\n",
       "  'domani': 1810,\n",
       "  'finora': 561,\n",
       "  'ieri': 1266,\n",
       "  'oggi': 2728,\n",
       "  'presto': 1539,\n",
       "  'raramente': 538,\n",
       "  'sempre': 7678,\n",
       "  'spesso': 1744},\n",
       " '1951-2000': {'atrocemente': 134,\n",
       "  'formidabilmente': 9,\n",
       "  'mostruosamente': 113,\n",
       "  'orrendamente': 132,\n",
       "  'orribilmente': 150,\n",
       "  'spaventosamente': 148,\n",
       "  'terribilmente': 241,\n",
       "  'tremendamente': 142,\n",
       "  'molto': 31298,\n",
       "  'angoscia': 694,\n",
       "  'angosciare': 110,\n",
       "  'ansia': 674,\n",
       "  'atterrire': 104,\n",
       "  'panico': 529,\n",
       "  'paura': 1494,\n",
       "  'raccapricciare': 10,\n",
       "  'raccapriccio': 199,\n",
       "  'schifo': 327,\n",
       "  'sgomentare': 154,\n",
       "  'sgomento': 507,\n",
       "  'spaventare': 510,\n",
       "  'spavento': 337,\n",
       "  'terrore': 710,\n",
       "  'domani': 1770,\n",
       "  'finora': 1514,\n",
       "  'ieri': 5050,\n",
       "  'oggi': 5710,\n",
       "  'presto': 1760,\n",
       "  'raramente': 848,\n",
       "  'sempre': 7640,\n",
       "  'spesso': 2749},\n",
       " '2001-2021': {'atrocemente': 201,\n",
       "  'formidabilmente': 193,\n",
       "  'mostruosamente': 206,\n",
       "  'orrendamente': 202,\n",
       "  'orribilmente': 201,\n",
       "  'spaventosamente': 201,\n",
       "  'terribilmente': 216,\n",
       "  'tremendamente': 212,\n",
       "  'molto': 28675,\n",
       "  'angoscia': 266,\n",
       "  'angosciare': 90,\n",
       "  'ansia': 340,\n",
       "  'atterrire': 167,\n",
       "  'panico': 348,\n",
       "  'paura': 1241,\n",
       "  'raccapricciare': 31,\n",
       "  'raccapriccio': 226,\n",
       "  'schifo': 279,\n",
       "  'sgomentare': 158,\n",
       "  'sgomento': 238,\n",
       "  'spaventare': 367,\n",
       "  'spavento': 221,\n",
       "  'terrore': 361,\n",
       "  'domani': 1785,\n",
       "  'finora': 714,\n",
       "  'ieri': 3312,\n",
       "  'oggi': 5865,\n",
       "  'presto': 989,\n",
       "  'raramente': 250,\n",
       "  'sempre': 7110,\n",
       "  'spesso': 1603}}"
      ]
     },
     "execution_count": 10,
     "metadata": {},
     "output_type": "execute_result"
    }
   ],
   "source": [
    "candidates"
   ]
  },
  {
   "cell_type": "code",
   "execution_count": 11,
   "id": "5e83ca66",
   "metadata": {},
   "outputs": [
    {
     "data": {
      "text/html": [
       "<div>\n",
       "<style scoped>\n",
       "    .dataframe tbody tr th:only-of-type {\n",
       "        vertical-align: middle;\n",
       "    }\n",
       "\n",
       "    .dataframe tbody tr th {\n",
       "        vertical-align: top;\n",
       "    }\n",
       "\n",
       "    .dataframe thead th {\n",
       "        text-align: right;\n",
       "    }\n",
       "</style>\n",
       "<table border=\"1\" class=\"dataframe\">\n",
       "  <thead>\n",
       "    <tr style=\"text-align: right;\">\n",
       "      <th></th>\n",
       "      <th>atrocemente</th>\n",
       "      <th>formidabilmente</th>\n",
       "      <th>mostruosamente</th>\n",
       "      <th>orrendamente</th>\n",
       "      <th>orribilmente</th>\n",
       "      <th>spaventosamente</th>\n",
       "      <th>terribilmente</th>\n",
       "      <th>tremendamente</th>\n",
       "      <th>molto</th>\n",
       "      <th>angoscia</th>\n",
       "      <th>...</th>\n",
       "      <th>spavento</th>\n",
       "      <th>terrore</th>\n",
       "      <th>domani</th>\n",
       "      <th>finora</th>\n",
       "      <th>ieri</th>\n",
       "      <th>oggi</th>\n",
       "      <th>presto</th>\n",
       "      <th>raramente</th>\n",
       "      <th>sempre</th>\n",
       "      <th>spesso</th>\n",
       "    </tr>\n",
       "  </thead>\n",
       "  <tbody>\n",
       "    <tr>\n",
       "      <th>1700-1750</th>\n",
       "      <td>2</td>\n",
       "      <td>0</td>\n",
       "      <td>2</td>\n",
       "      <td>1</td>\n",
       "      <td>20</td>\n",
       "      <td>9</td>\n",
       "      <td>13</td>\n",
       "      <td>0</td>\n",
       "      <td>10683</td>\n",
       "      <td>18</td>\n",
       "      <td>...</td>\n",
       "      <td>224</td>\n",
       "      <td>143</td>\n",
       "      <td>33</td>\n",
       "      <td>237</td>\n",
       "      <td>25</td>\n",
       "      <td>602</td>\n",
       "      <td>275</td>\n",
       "      <td>9</td>\n",
       "      <td>1998</td>\n",
       "      <td>534</td>\n",
       "    </tr>\n",
       "    <tr>\n",
       "      <th>1751-1800</th>\n",
       "      <td>3</td>\n",
       "      <td>0</td>\n",
       "      <td>0</td>\n",
       "      <td>1</td>\n",
       "      <td>25</td>\n",
       "      <td>1</td>\n",
       "      <td>13</td>\n",
       "      <td>0</td>\n",
       "      <td>15498</td>\n",
       "      <td>70</td>\n",
       "      <td>...</td>\n",
       "      <td>100</td>\n",
       "      <td>151</td>\n",
       "      <td>180</td>\n",
       "      <td>244</td>\n",
       "      <td>106</td>\n",
       "      <td>618</td>\n",
       "      <td>578</td>\n",
       "      <td>80</td>\n",
       "      <td>3069</td>\n",
       "      <td>828</td>\n",
       "    </tr>\n",
       "    <tr>\n",
       "      <th>1801-1850</th>\n",
       "      <td>21</td>\n",
       "      <td>0</td>\n",
       "      <td>2</td>\n",
       "      <td>17</td>\n",
       "      <td>71</td>\n",
       "      <td>4</td>\n",
       "      <td>45</td>\n",
       "      <td>2</td>\n",
       "      <td>21657</td>\n",
       "      <td>232</td>\n",
       "      <td>...</td>\n",
       "      <td>369</td>\n",
       "      <td>466</td>\n",
       "      <td>420</td>\n",
       "      <td>258</td>\n",
       "      <td>476</td>\n",
       "      <td>2095</td>\n",
       "      <td>1048</td>\n",
       "      <td>50</td>\n",
       "      <td>5780</td>\n",
       "      <td>1313</td>\n",
       "    </tr>\n",
       "    <tr>\n",
       "      <th>1851-1900</th>\n",
       "      <td>145</td>\n",
       "      <td>22</td>\n",
       "      <td>30</td>\n",
       "      <td>68</td>\n",
       "      <td>380</td>\n",
       "      <td>68</td>\n",
       "      <td>228</td>\n",
       "      <td>105</td>\n",
       "      <td>46874</td>\n",
       "      <td>733</td>\n",
       "      <td>...</td>\n",
       "      <td>844</td>\n",
       "      <td>963</td>\n",
       "      <td>1931</td>\n",
       "      <td>688</td>\n",
       "      <td>1061</td>\n",
       "      <td>3323</td>\n",
       "      <td>2631</td>\n",
       "      <td>336</td>\n",
       "      <td>12568</td>\n",
       "      <td>2481</td>\n",
       "    </tr>\n",
       "    <tr>\n",
       "      <th>1901-1950</th>\n",
       "      <td>128</td>\n",
       "      <td>25</td>\n",
       "      <td>63</td>\n",
       "      <td>70</td>\n",
       "      <td>332</td>\n",
       "      <td>218</td>\n",
       "      <td>439</td>\n",
       "      <td>75</td>\n",
       "      <td>27863</td>\n",
       "      <td>768</td>\n",
       "      <td>...</td>\n",
       "      <td>533</td>\n",
       "      <td>813</td>\n",
       "      <td>1810</td>\n",
       "      <td>561</td>\n",
       "      <td>1266</td>\n",
       "      <td>2728</td>\n",
       "      <td>1539</td>\n",
       "      <td>538</td>\n",
       "      <td>7678</td>\n",
       "      <td>1744</td>\n",
       "    </tr>\n",
       "    <tr>\n",
       "      <th>1951-2000</th>\n",
       "      <td>134</td>\n",
       "      <td>9</td>\n",
       "      <td>113</td>\n",
       "      <td>132</td>\n",
       "      <td>150</td>\n",
       "      <td>148</td>\n",
       "      <td>241</td>\n",
       "      <td>142</td>\n",
       "      <td>31298</td>\n",
       "      <td>694</td>\n",
       "      <td>...</td>\n",
       "      <td>337</td>\n",
       "      <td>710</td>\n",
       "      <td>1770</td>\n",
       "      <td>1514</td>\n",
       "      <td>5050</td>\n",
       "      <td>5710</td>\n",
       "      <td>1760</td>\n",
       "      <td>848</td>\n",
       "      <td>7640</td>\n",
       "      <td>2749</td>\n",
       "    </tr>\n",
       "    <tr>\n",
       "      <th>2001-2021</th>\n",
       "      <td>201</td>\n",
       "      <td>193</td>\n",
       "      <td>206</td>\n",
       "      <td>202</td>\n",
       "      <td>201</td>\n",
       "      <td>201</td>\n",
       "      <td>216</td>\n",
       "      <td>212</td>\n",
       "      <td>28675</td>\n",
       "      <td>266</td>\n",
       "      <td>...</td>\n",
       "      <td>221</td>\n",
       "      <td>361</td>\n",
       "      <td>1785</td>\n",
       "      <td>714</td>\n",
       "      <td>3312</td>\n",
       "      <td>5865</td>\n",
       "      <td>989</td>\n",
       "      <td>250</td>\n",
       "      <td>7110</td>\n",
       "      <td>1603</td>\n",
       "    </tr>\n",
       "  </tbody>\n",
       "</table>\n",
       "<p>7 rows × 31 columns</p>\n",
       "</div>"
      ],
      "text/plain": [
       "           atrocemente  formidabilmente  mostruosamente  orrendamente  \\\n",
       "1700-1750            2                0               2             1   \n",
       "1751-1800            3                0               0             1   \n",
       "1801-1850           21                0               2            17   \n",
       "1851-1900          145               22              30            68   \n",
       "1901-1950          128               25              63            70   \n",
       "1951-2000          134                9             113           132   \n",
       "2001-2021          201              193             206           202   \n",
       "\n",
       "           orribilmente  spaventosamente  terribilmente  tremendamente  molto  \\\n",
       "1700-1750            20                9             13              0  10683   \n",
       "1751-1800            25                1             13              0  15498   \n",
       "1801-1850            71                4             45              2  21657   \n",
       "1851-1900           380               68            228            105  46874   \n",
       "1901-1950           332              218            439             75  27863   \n",
       "1951-2000           150              148            241            142  31298   \n",
       "2001-2021           201              201            216            212  28675   \n",
       "\n",
       "           angoscia  ...  spavento  terrore  domani  finora  ieri  oggi  \\\n",
       "1700-1750        18  ...       224      143      33     237    25   602   \n",
       "1751-1800        70  ...       100      151     180     244   106   618   \n",
       "1801-1850       232  ...       369      466     420     258   476  2095   \n",
       "1851-1900       733  ...       844      963    1931     688  1061  3323   \n",
       "1901-1950       768  ...       533      813    1810     561  1266  2728   \n",
       "1951-2000       694  ...       337      710    1770    1514  5050  5710   \n",
       "2001-2021       266  ...       221      361    1785     714  3312  5865   \n",
       "\n",
       "           presto  raramente  sempre  spesso  \n",
       "1700-1750     275          9    1998     534  \n",
       "1751-1800     578         80    3069     828  \n",
       "1801-1850    1048         50    5780    1313  \n",
       "1851-1900    2631        336   12568    2481  \n",
       "1901-1950    1539        538    7678    1744  \n",
       "1951-2000    1760        848    7640    2749  \n",
       "2001-2021     989        250    7110    1603  \n",
       "\n",
       "[7 rows x 31 columns]"
      ]
     },
     "execution_count": 11,
     "metadata": {},
     "output_type": "execute_result"
    }
   ],
   "source": [
    "table = pd.DataFrame.from_dict(candidates, orient='index')\n",
    "table"
   ]
  },
  {
   "cell_type": "code",
   "execution_count": 12,
   "id": "abc9ea5f",
   "metadata": {},
   "outputs": [],
   "source": [
    "table.to_csv('Korpus/candidates.csv', sep=';')"
   ]
  },
  {
   "cell_type": "markdown",
   "id": "48e34653",
   "metadata": {},
   "source": [
    "### Kandidaten im Korpus "
   ]
  },
  {
   "cell_type": "code",
   "execution_count": 3,
   "id": "2e4956aa",
   "metadata": {},
   "outputs": [],
   "source": [
    "df = pd.read_csv('Korpus/corpus_periods.csv', sep=',', encoding='utf-8')"
   ]
  },
  {
   "cell_type": "code",
   "execution_count": 4,
   "id": "d8e69b6e",
   "metadata": {},
   "outputs": [
    {
     "data": {
      "text/html": [
       "<div>\n",
       "<style scoped>\n",
       "    .dataframe tbody tr th:only-of-type {\n",
       "        vertical-align: middle;\n",
       "    }\n",
       "\n",
       "    .dataframe tbody tr th {\n",
       "        vertical-align: top;\n",
       "    }\n",
       "\n",
       "    .dataframe thead th {\n",
       "        text-align: right;\n",
       "    }\n",
       "</style>\n",
       "<table border=\"1\" class=\"dataframe\">\n",
       "  <thead>\n",
       "    <tr style=\"text-align: right;\">\n",
       "      <th></th>\n",
       "      <th>doc</th>\n",
       "      <th>source</th>\n",
       "      <th>author</th>\n",
       "      <th>title</th>\n",
       "      <th>year</th>\n",
       "      <th>period</th>\n",
       "      <th>text_type</th>\n",
       "      <th>words</th>\n",
       "      <th>text</th>\n",
       "      <th>cleaned_text</th>\n",
       "      <th>lemmatized_text</th>\n",
       "    </tr>\n",
       "  </thead>\n",
       "  <tbody>\n",
       "    <tr>\n",
       "      <th>0</th>\n",
       "      <td>Poesia.IV.4.Testo.txt</td>\n",
       "      <td>MIDIA</td>\n",
       "      <td>Faustina Maratti Zappi</td>\n",
       "      <td>Poesie</td>\n",
       "      <td>1700.0</td>\n",
       "      <td>1700-1750</td>\n",
       "      <td>poesia</td>\n",
       "      <td>3184.0</td>\n",
       "      <td>IV. 4. Rime degli Arcadi: Aglauro Cidonia (Fau...</td>\n",
       "      <td>iv.  . rime degli arcadi: aglauro cidonia  fau...</td>\n",
       "      <td>iv . 4 . rima del arcadi : aglauro cidonia ( f...</td>\n",
       "    </tr>\n",
       "    <tr>\n",
       "      <th>1</th>\n",
       "      <td>Poesia.IV.11.Testo.txt</td>\n",
       "      <td>MIDIA</td>\n",
       "      <td>Giambattista Felice Zappi</td>\n",
       "      <td>Poesie</td>\n",
       "      <td>1700.0</td>\n",
       "      <td>1700-1750</td>\n",
       "      <td>poesia</td>\n",
       "      <td>6113.0</td>\n",
       "      <td>IV. 11. Rime degli arcadi: Tirsi Leucasio (Gio...</td>\n",
       "      <td>iv.   . rime degli arcadi: tirsi leucasio  gio...</td>\n",
       "      <td>iv . 11 . rima del arcade : tirsi leucasio ( g...</td>\n",
       "    </tr>\n",
       "    <tr>\n",
       "      <th>2</th>\n",
       "      <td>Poesia.IV.1.Testo.txt</td>\n",
       "      <td>MIDIA</td>\n",
       "      <td>Giuseppe Paolucci (Alessi Cillenio)</td>\n",
       "      <td>Poesie</td>\n",
       "      <td>1700.0</td>\n",
       "      <td>1700-1750</td>\n",
       "      <td>poesia</td>\n",
       "      <td>10862.0</td>\n",
       "      <td>IV. 1. Rime degli Arcadi: Alessi Cillenio (Giu...</td>\n",
       "      <td>iv.  . rime degli arcadi: alessi cillenio  giu...</td>\n",
       "      <td>iv . 1 . rima del arcadi : alessi cillenio ( G...</td>\n",
       "    </tr>\n",
       "    <tr>\n",
       "      <th>3</th>\n",
       "      <td>Personali.IV.5.Testo.txt</td>\n",
       "      <td>MIDIA</td>\n",
       "      <td>Lorenzo Magalotti</td>\n",
       "      <td>Lettere odorose (1693-1705)</td>\n",
       "      <td>1700.0</td>\n",
       "      <td>1700-1750</td>\n",
       "      <td>personale</td>\n",
       "      <td>8374.0</td>\n",
       "      <td>IV. 5. Lorenzo Magalotti, Lettere odorose (169...</td>\n",
       "      <td>iv.  . lorenzo magalotti, lettere odorose     ...</td>\n",
       "      <td>iv . 5 . Lorenzo magalotti , lettere odoroso (...</td>\n",
       "    </tr>\n",
       "    <tr>\n",
       "      <th>4</th>\n",
       "      <td>Espositivi.IV.4.Testo.txt</td>\n",
       "      <td>MIDIA</td>\n",
       "      <td>Ludovico Antonio Muratori</td>\n",
       "      <td>Antichità italiane</td>\n",
       "      <td>1700.0</td>\n",
       "      <td>1700-1750</td>\n",
       "      <td>espositivo</td>\n",
       "      <td>8990.0</td>\n",
       "      <td>﻿IV. 4. Ludovico Antonio Muratori, Antichità i...</td>\n",
       "      <td>iv.  . ludovico antonio muratori, antichità i...</td>\n",
       "      <td>﻿iv . 4 . Ludovico Antonio muratori , antichit...</td>\n",
       "    </tr>\n",
       "  </tbody>\n",
       "</table>\n",
       "</div>"
      ],
      "text/plain": [
       "                         doc source                               author  \\\n",
       "0      Poesia.IV.4.Testo.txt  MIDIA               Faustina Maratti Zappi   \n",
       "1     Poesia.IV.11.Testo.txt  MIDIA            Giambattista Felice Zappi   \n",
       "2      Poesia.IV.1.Testo.txt  MIDIA  Giuseppe Paolucci (Alessi Cillenio)   \n",
       "3   Personali.IV.5.Testo.txt  MIDIA                    Lorenzo Magalotti   \n",
       "4  Espositivi.IV.4.Testo.txt  MIDIA           Ludovico Antonio Muratori    \n",
       "\n",
       "                         title    year     period   text_type    words  \\\n",
       "0                       Poesie  1700.0  1700-1750      poesia   3184.0   \n",
       "1                       Poesie  1700.0  1700-1750      poesia   6113.0   \n",
       "2                       Poesie  1700.0  1700-1750      poesia  10862.0   \n",
       "3  Lettere odorose (1693-1705)  1700.0  1700-1750   personale   8374.0   \n",
       "4           Antichità italiane  1700.0  1700-1750  espositivo   8990.0   \n",
       "\n",
       "                                                text  \\\n",
       "0  IV. 4. Rime degli Arcadi: Aglauro Cidonia (Fau...   \n",
       "1  IV. 11. Rime degli arcadi: Tirsi Leucasio (Gio...   \n",
       "2  IV. 1. Rime degli Arcadi: Alessi Cillenio (Giu...   \n",
       "3  IV. 5. Lorenzo Magalotti, Lettere odorose (169...   \n",
       "4  ﻿IV. 4. Ludovico Antonio Muratori, Antichità i...   \n",
       "\n",
       "                                        cleaned_text  \\\n",
       "0  iv.  . rime degli arcadi: aglauro cidonia  fau...   \n",
       "1  iv.   . rime degli arcadi: tirsi leucasio  gio...   \n",
       "2  iv.  . rime degli arcadi: alessi cillenio  giu...   \n",
       "3  iv.  . lorenzo magalotti, lettere odorose     ...   \n",
       "4   iv.  . ludovico antonio muratori, antichità i...   \n",
       "\n",
       "                                     lemmatized_text  \n",
       "0  iv . 4 . rima del arcadi : aglauro cidonia ( f...  \n",
       "1  iv . 11 . rima del arcade : tirsi leucasio ( g...  \n",
       "2  iv . 1 . rima del arcadi : alessi cillenio ( G...  \n",
       "3  iv . 5 . Lorenzo magalotti , lettere odoroso (...  \n",
       "4  ﻿iv . 4 . Ludovico Antonio muratori , antichit...  "
      ]
     },
     "execution_count": 4,
     "metadata": {},
     "output_type": "execute_result"
    }
   ],
   "source": [
    "df.head()"
   ]
  },
  {
   "cell_type": "code",
   "execution_count": 5,
   "id": "3dc8822a",
   "metadata": {},
   "outputs": [
    {
     "data": {
      "text/plain": [
       "(431959, 11)"
      ]
     },
     "execution_count": 5,
     "metadata": {},
     "output_type": "execute_result"
    }
   ],
   "source": [
    "df.shape"
   ]
  },
  {
   "cell_type": "code",
   "execution_count": 7,
   "id": "214e4913",
   "metadata": {},
   "outputs": [],
   "source": [
    "df.text = df.text.fillna('')\n",
    "df_cleaned_text = df.cleaned_text.fillna('')"
   ]
  },
  {
   "cell_type": "code",
   "execution_count": 8,
   "id": "d1312c9a",
   "metadata": {},
   "outputs": [],
   "source": [
    "# Teilframes pro Zeitraum erstellen\n",
    "\n",
    "df_periods = dict(tuple(df.groupby(by='period')))\n",
    "\n",
    "df1 = df_periods['1700-1750']\n",
    "df2 = df_periods['1751-1800']\n",
    "df3 = df_periods['1801-1850']\n",
    "df4 = df_periods['1851-1900']\n",
    "df5 = df_periods['1901-1950']\n",
    "df6 = df_periods['1951-2000']\n",
    "df7 = df_periods['2001-2021']"
   ]
  },
  {
   "cell_type": "code",
   "execution_count": 9,
   "id": "43d0fe6c",
   "metadata": {},
   "outputs": [],
   "source": [
    "# Funktion, die die Sätze ausgibt, in der ein bestimmtes Wort vorkommt\n",
    "\n",
    "def find_sentences_with_keyword(document, keyword):\n",
    "    \n",
    "    sentlist = []\n",
    "    \n",
    "    for sentence in document:\n",
    "        \n",
    "        if keyword.lower() in sentence.lower():\n",
    "            sentence = re.sub('\\n', ' ', sentence)\n",
    "            sentence = re.sub(f\"{keyword}\", f\"**{keyword}**\", sentence, flags=re.IGNORECASE)            \n",
    "            sentlist.append(sentence)\n",
    "            \n",
    "    #result = list(set(sentlist))              # wenn set keine Duplikate\n",
    "    result = list(sentlist)\n",
    "    for sentence in result: \n",
    "        display(Markdown(sentence))\n",
    "    \n",
    "    #return result"
   ]
  },
  {
   "cell_type": "markdown",
   "id": "15597e51",
   "metadata": {},
   "source": [
    "### Zeitraum 1: 1700-1750"
   ]
  },
  {
   "cell_type": "code",
   "execution_count": 10,
   "id": "3c0097aa",
   "metadata": {},
   "outputs": [],
   "source": [
    "text1 = ''\n",
    "for i in df1.cleaned_text:\n",
    "    text1 += i"
   ]
  },
  {
   "cell_type": "code",
   "execution_count": 11,
   "id": "83567899",
   "metadata": {},
   "outputs": [],
   "source": [
    "document1 = nltk.sent_tokenize(text1)"
   ]
  },
  {
   "cell_type": "code",
   "execution_count": 12,
   "id": "625a2461",
   "metadata": {},
   "outputs": [
    {
     "data": {
      "text/markdown": [
       "così, poich ebbe tracannato a iosa cento gran  giare e cento, tombolando di qua, di là, senza trovar mai posa, sdraiato alfine e di sé tutto in bando, ei s addormì, coll ampia abbominosa bocca **terribilmente** rimugghiando."
      ],
      "text/plain": [
       "<IPython.core.display.Markdown object>"
      ]
     },
     "metadata": {},
     "output_type": "display_data"
    },
    {
     "data": {
      "text/markdown": [
       "abbiamo da san girolamo che **terribilmente** infierì nella soria e cicilia la carestia colla mortalità d  innumerabili persone."
      ],
      "text/plain": [
       "<IPython.core.display.Markdown object>"
      ]
     },
     "metadata": {},
     "output_type": "display_data"
    },
    {
     "data": {
      "text/markdown": [
       "di questa orrida fame, che, dov  egli passava, lasciava la micidial infezione secondo il suo costume, di modo che cominciò a sentirsi **terribilmente** anche in roma."
      ],
      "text/plain": [
       "<IPython.core.display.Markdown object>"
      ]
     },
     "metadata": {},
     "output_type": "display_data"
    },
    {
     "data": {
      "text/markdown": [
       "ma si trovò **terribilmente** gonfio esso mare con pioggia e tuoni; lo stesso tevere era in tempesta; però convenne prendere terra."
      ],
      "text/plain": [
       "<IPython.core.display.Markdown object>"
      ]
     },
     "metadata": {},
     "output_type": "display_data"
    },
    {
     "data": {
      "text/markdown": [
       "abbiamo da san girolamo che **terribilmente** infierì nella soria e cicilia la carestia colla mortalità d  innumerabili persone."
      ],
      "text/plain": [
       "<IPython.core.display.Markdown object>"
      ]
     },
     "metadata": {},
     "output_type": "display_data"
    },
    {
     "data": {
      "text/markdown": [
       "giocarono in questo conflitto **terribilmente** le artiglierie d  ambe le parti, facendo squarci grandi nelle schiere opposte; le sciabole e baionette non istetteroquanto a me, vo sospettando che fosse uno spettacolo pubblico, in cui si rappresentava federigo imperadore coi pavesi e reggiani, e col patriarca, suoi aderenti, forse non con molto onore."
      ],
      "text/plain": [
       "<IPython.core.display.Markdown object>"
      ]
     },
     "metadata": {},
     "output_type": "display_data"
    },
    {
     "data": {
      "text/markdown": [
       ", dov  egli passava, lasciava la micidial infezione secondo il suo costume, di modo che cominciò a sentirsi **terribilmente** anche in roma."
      ],
      "text/plain": [
       "<IPython.core.display.Markdown object>"
      ]
     },
     "metadata": {},
     "output_type": "display_data"
    },
    {
     "data": {
      "text/markdown": [
       ", per testimonianza di teofane      , da un secondo furioso tremuoto, che nel dì    di novembre per un  ora continua sì **terribilmente** scosse la città d  antiochia, che tutto quanto era rimasto in piedi nel precedente anno    , e quanto era statopapa gregorio ix,     ."
      ],
      "text/plain": [
       "<IPython.core.display.Markdown object>"
      ]
     },
     "metadata": {},
     "output_type": "display_data"
    },
    {
     "data": {
      "text/markdown": [
       "dai quali con uno strattagemma sono **terribilmente** sconfitti,   ."
      ],
      "text/plain": [
       "<IPython.core.display.Markdown object>"
      ]
     },
     "metadata": {},
     "output_type": "display_data"
    },
    {
     "data": {
      "text/markdown": [
       ", per testimonianza di teofane      , da un secondo furioso tremuoto, che nel dì    di novembre per un  ora continua sì **terribilmente** scosse la città d  antiochia, che tutto quanto era rimasto in piedi nel precedente anno    , e quanto era statoin una casa privata, e la seguente mane imbarcatosi con tutti i suoi in due galee, pel tevere discese al mare."
      ],
      "text/plain": [
       "<IPython.core.display.Markdown object>"
      ]
     },
     "metadata": {},
     "output_type": "display_data"
    },
    {
     "data": {
      "text/markdown": [
       "ma si trovò **terribilmente** gonfio esso mare con pioggia e tuoni; lo stesso tevere era in tempesta; però convenne prendere terra."
      ],
      "text/plain": [
       "<IPython.core.display.Markdown object>"
      ]
     },
     "metadata": {},
     "output_type": "display_data"
    },
    {
     "data": {
      "text/markdown": [
       "dai quali con uno strattagemma sono **terribilmente** sconfitti,   ."
      ],
      "text/plain": [
       "<IPython.core.display.Markdown object>"
      ]
     },
     "metadata": {},
     "output_type": "display_data"
    },
    {
     "data": {
      "text/markdown": [
       "giocarono in questo conflitto **terribilmente** le artiglierie d  ambe le parti, facendo squarci grandi nelle schiere opposte; le sciabole e baionette non istetteroprobabilmente non vi perì tanta gente; contuttociò fu questa una delle maggiori calamità che mai toccassero a quel regno."
      ],
      "text/plain": [
       "<IPython.core.display.Markdown object>"
      ]
     },
     "metadata": {},
     "output_type": "display_data"
    }
   ],
   "source": [
    "find_sentences_with_keyword(document1, 'terribilmente')"
   ]
  },
  {
   "cell_type": "markdown",
   "id": "3659d417",
   "metadata": {},
   "source": [
    "### Zeitraum 2: 1751-1800"
   ]
  },
  {
   "cell_type": "code",
   "execution_count": 13,
   "id": "e819d3b3",
   "metadata": {},
   "outputs": [],
   "source": [
    "text2 = ''\n",
    "for i in df2.cleaned_text:\n",
    "    text2 += i"
   ]
  },
  {
   "cell_type": "code",
   "execution_count": 14,
   "id": "4d33afa8",
   "metadata": {},
   "outputs": [],
   "source": [
    "document2 = nltk.sent_tokenize(text2)"
   ]
  },
  {
   "cell_type": "code",
   "execution_count": 15,
   "id": "e552ab62",
   "metadata": {},
   "outputs": [
    {
     "data": {
      "text/markdown": [
       "è una cosa, che mi muove la bile **terribilmente**."
      ],
      "text/plain": [
       "<IPython.core.display.Markdown object>"
      ]
     },
     "metadata": {},
     "output_type": "display_data"
    },
    {
     "data": {
      "text/markdown": [
       "ma il tuono e il vento e l onda **terribilmente** agita tutti e batte; nè le vele contratte nè da la doppia sponda il forte remigar, l urto che abbonda vince nè frena."
      ],
      "text/plain": [
       "<IPython.core.display.Markdown object>"
      ]
     },
     "metadata": {},
     "output_type": "display_data"
    },
    {
     "data": {
      "text/markdown": [
       "l industria viene corrosa nella sua radice, e la nazione non ricever mai spinta ad accrescere l annua riproduzione, perch fischia il flagello delle leggi **terribilmente** sul capo degli uomini riproduttori avviliti e scoraggiti."
      ],
      "text/plain": [
       "<IPython.core.display.Markdown object>"
      ]
     },
     "metadata": {},
     "output_type": "display_data"
    },
    {
     "data": {
      "text/markdown": [
       "dettò poscia questa lettera **terribilmente** laconica:  in nome del dio misericordioso, haroun al rashid comandante dei fedeli, a niceforo, cane romano."
      ],
      "text/plain": [
       "<IPython.core.display.Markdown object>"
      ]
     },
     "metadata": {},
     "output_type": "display_data"
    },
    {
     "data": {
      "text/markdown": [
       "si trovarono però **terribilmente** angustiati dai passaggi che traggono da eginardo, da teofane e dagli antichi annali laureshamenses, fuldenses,, e conseguenze che da ciò derivarono    incendio di roma sotto il regno di nerone    i cristiani accusati di esso e **terribilmente** puniti    passo di tacito a tale proposito    osservazioni sovra questo passo    i cristiani ed i giudei egualmenteperò e il cavaliere parla con disprezzo di coloro che pensavano alla ritirata, e il monaco loda que   suoi compatriotti che erano risoluti di morire coll  armi alla mano."
      ],
      "text/plain": [
       "<IPython.core.display.Markdown object>"
      ]
     },
     "metadata": {},
     "output_type": "display_data"
    },
    {
     "data": {
      "text/markdown": [
       "i cristiani accusati dell  incendio di roma sotto nerone e **terribilmente** puniti, t. iii, p.   ."
      ],
      "text/plain": [
       "<IPython.core.display.Markdown object>"
      ]
     },
     "metadata": {},
     "output_type": "display_data"
    },
    {
     "data": {
      "text/markdown": [
       "si trovarono però **terribilmente** angustiati dai passaggi che traggono da eginardo, da teofane e dagli antichi annali laureshamenses, fuldenses,storia e della favola, troncò le deboli armi dei greci senza smuzzare il taglio della sua."
      ],
      "text/plain": [
       "<IPython.core.display.Markdown object>"
      ]
     },
     "metadata": {},
     "output_type": "display_data"
    },
    {
     "data": {
      "text/markdown": [
       "dettò poscia questa lettera **terribilmente** laconica:  in nome del dio misericordioso, haroun al rashid comandante dei fedeli, a niceforo, cane romano."
      ],
      "text/plain": [
       "<IPython.core.display.Markdown object>"
      ]
     },
     "metadata": {},
     "output_type": "display_data"
    },
    {
     "data": {
      "text/markdown": [
       "i cristiani accusati dell  incendio di roma sotto nerone e **terribilmente** puniti, t. iii, p.   ."
      ],
      "text/plain": [
       "<IPython.core.display.Markdown object>"
      ]
     },
     "metadata": {},
     "output_type": "display_data"
    },
    {
     "data": {
      "text/markdown": [
       ", e conseguenze che da ciò derivarono    incendio di roma sotto il regno di nerone    i cristiani accusati di esso e **terribilmente** puniti    passo di tacito a tale proposito    osservazioni sovra questo passo    i cristiani ed i giudei egualmente, e alla vostra coronazione."
      ],
      "text/plain": [
       "<IPython.core.display.Markdown object>"
      ]
     },
     "metadata": {},
     "output_type": "display_data"
    },
    {
     "data": {
      "text/markdown": [
       "oh sì, per questo, ten scongiuro io forte, largo mio pianto, per giocasta madre, per l orror di que  giorni onde mi lasci **terribilmente** in preda, per l amore d antigon tua."
      ],
      "text/plain": [
       "<IPython.core.display.Markdown object>"
      ]
     },
     "metadata": {},
     "output_type": "display_data"
    },
    {
     "data": {
      "text/markdown": [
       "giace poi sopra un suolo **terribilmente** sterile, coperto di piccole roccie simili al basalto."
      ],
      "text/plain": [
       "<IPython.core.display.Markdown object>"
      ]
     },
     "metadata": {},
     "output_type": "display_data"
    }
   ],
   "source": [
    "find_sentences_with_keyword(document2, 'terribilmente')"
   ]
  },
  {
   "cell_type": "markdown",
   "id": "56ee1adf",
   "metadata": {},
   "source": [
    "### Zeitraum 3: 1801-1850"
   ]
  },
  {
   "cell_type": "code",
   "execution_count": 16,
   "id": "937ddac7",
   "metadata": {},
   "outputs": [
    {
     "ename": "TypeError",
     "evalue": "can only concatenate str (not \"float\") to str",
     "output_type": "error",
     "traceback": [
      "\u001b[1;31m---------------------------------------------------------------------------\u001b[0m",
      "\u001b[1;31mTypeError\u001b[0m                                 Traceback (most recent call last)",
      "\u001b[1;32m~\\AppData\\Local\\Temp/ipykernel_13772/2311308721.py\u001b[0m in \u001b[0;36m<module>\u001b[1;34m\u001b[0m\n\u001b[0;32m      1\u001b[0m \u001b[0mtext3\u001b[0m \u001b[1;33m=\u001b[0m \u001b[1;34m''\u001b[0m\u001b[1;33m\u001b[0m\u001b[1;33m\u001b[0m\u001b[0m\n\u001b[0;32m      2\u001b[0m \u001b[1;32mfor\u001b[0m \u001b[0mi\u001b[0m \u001b[1;32min\u001b[0m \u001b[0mdf3\u001b[0m\u001b[1;33m.\u001b[0m\u001b[0mcleaned_text\u001b[0m\u001b[1;33m:\u001b[0m\u001b[1;33m\u001b[0m\u001b[1;33m\u001b[0m\u001b[0m\n\u001b[1;32m----> 3\u001b[1;33m     \u001b[0mtext3\u001b[0m \u001b[1;33m+=\u001b[0m \u001b[0mi\u001b[0m\u001b[1;33m\u001b[0m\u001b[1;33m\u001b[0m\u001b[0m\n\u001b[0m",
      "\u001b[1;31mTypeError\u001b[0m: can only concatenate str (not \"float\") to str"
     ]
    }
   ],
   "source": [
    "text3 = ''\n",
    "for i in df3.cleaned_text:\n",
    "    text3 += i"
   ]
  },
  {
   "cell_type": "code",
   "execution_count": null,
   "id": "985880c5",
   "metadata": {},
   "outputs": [],
   "source": [
    "document3 = nltk.sent_tokenize(text3)"
   ]
  },
  {
   "cell_type": "code",
   "execution_count": null,
   "id": "6ff4625e",
   "metadata": {},
   "outputs": [],
   "source": [
    "find_sentences_with_keyword(document3, 'terribilmente')"
   ]
  },
  {
   "cell_type": "markdown",
   "id": "776fb7de",
   "metadata": {},
   "source": [
    "### Zeitraum 4: 1851-1900"
   ]
  },
  {
   "cell_type": "code",
   "execution_count": null,
   "id": "39aa962d",
   "metadata": {},
   "outputs": [],
   "source": [
    "text4 = ''\n",
    "for i in df4.cleaned_text:\n",
    "    text4 += i"
   ]
  },
  {
   "cell_type": "code",
   "execution_count": null,
   "id": "fe5cbd4a",
   "metadata": {},
   "outputs": [],
   "source": [
    "document4 = nltk.sent_tokenize(text4)"
   ]
  },
  {
   "cell_type": "code",
   "execution_count": null,
   "id": "12929ec9",
   "metadata": {},
   "outputs": [],
   "source": [
    "find_sentences_with_keyword(document4, 'terribilmente')"
   ]
  },
  {
   "cell_type": "markdown",
   "id": "a8e16410",
   "metadata": {},
   "source": [
    "### Zeitraum 5: 1901-1950"
   ]
  },
  {
   "cell_type": "code",
   "execution_count": null,
   "id": "bacf81b2",
   "metadata": {},
   "outputs": [],
   "source": [
    "text5 = ''\n",
    "for i in df5.cleaned_text:\n",
    "    text5 += i"
   ]
  },
  {
   "cell_type": "code",
   "execution_count": null,
   "id": "b773ad24",
   "metadata": {},
   "outputs": [],
   "source": [
    "document5 = nltk.sent_tokenize(text5)"
   ]
  },
  {
   "cell_type": "code",
   "execution_count": null,
   "id": "d45922f1",
   "metadata": {},
   "outputs": [],
   "source": [
    "find_sentences_with_keyword(document5, 'terribilmente')"
   ]
  },
  {
   "cell_type": "markdown",
   "id": "a11b5cf5",
   "metadata": {},
   "source": [
    "### Zeitraum 6: 1951-2000"
   ]
  },
  {
   "cell_type": "code",
   "execution_count": null,
   "id": "97acfbe4",
   "metadata": {},
   "outputs": [],
   "source": [
    "text6 = ''\n",
    "for i in df6.cleaned_text:\n",
    "    text6 += i"
   ]
  },
  {
   "cell_type": "code",
   "execution_count": null,
   "id": "6379b0e1",
   "metadata": {},
   "outputs": [],
   "source": [
    "document6 = nltk.sent_tokenize(text6)"
   ]
  },
  {
   "cell_type": "code",
   "execution_count": null,
   "id": "c899d65e",
   "metadata": {},
   "outputs": [],
   "source": [
    "find_sentences_with_keyword(document6, 'terribilmente')"
   ]
  },
  {
   "cell_type": "markdown",
   "id": "f2853f42",
   "metadata": {},
   "source": [
    "### Zeitraum 7: 2001-2021"
   ]
  },
  {
   "cell_type": "code",
   "execution_count": null,
   "id": "25fd212a",
   "metadata": {},
   "outputs": [],
   "source": [
    "text7 = ''\n",
    "for i in df7.cleaned_text:\n",
    "    text7 += i"
   ]
  },
  {
   "cell_type": "code",
   "execution_count": null,
   "id": "05b42fa3",
   "metadata": {},
   "outputs": [],
   "source": [
    "document7 = nltk.sent_tokenize(text7)"
   ]
  },
  {
   "cell_type": "code",
   "execution_count": null,
   "id": "7c5d7496",
   "metadata": {},
   "outputs": [],
   "source": [
    "find_sentences_with_keyword(document7, 'terribilmente')"
   ]
  }
 ],
 "metadata": {
  "kernelspec": {
   "display_name": "Python 3 (ipykernel)",
   "language": "python",
   "name": "python3"
  },
  "language_info": {
   "codemirror_mode": {
    "name": "ipython",
    "version": 3
   },
   "file_extension": ".py",
   "mimetype": "text/x-python",
   "name": "python",
   "nbconvert_exporter": "python",
   "pygments_lexer": "ipython3",
   "version": "3.7.11"
  }
 },
 "nbformat": 4,
 "nbformat_minor": 5
}
