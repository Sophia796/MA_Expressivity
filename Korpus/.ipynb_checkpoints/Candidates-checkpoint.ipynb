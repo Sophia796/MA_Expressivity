{
 "cells": [
  {
   "cell_type": "markdown",
   "id": "94241e01",
   "metadata": {},
   "source": [
    "# Kandidaten"
   ]
  },
  {
   "cell_type": "code",
   "execution_count": 1,
   "id": "f2a92e58",
   "metadata": {},
   "outputs": [],
   "source": [
    "import codecs\n",
    "from collections import Counter\n",
    "from IPython.display import Markdown, display\n",
    "import nltk\n",
    "import numpy as np\n",
    "import os\n",
    "import pandas as pd\n",
    "import re\n",
    "import scipy\n",
    "import spacy"
   ]
  },
  {
   "cell_type": "markdown",
   "id": "ff5e1734",
   "metadata": {},
   "source": [
    "### Anzahl der Kandidaten im lemmatisierten Korpus"
   ]
  },
  {
   "cell_type": "code",
   "execution_count": 2,
   "id": "2171d7a8",
   "metadata": {},
   "outputs": [],
   "source": [
    "df = pd.read_csv('Korpus/corpus_periods.csv', sep=',', encoding='utf-8')"
   ]
  },
  {
   "cell_type": "code",
   "execution_count": 3,
   "id": "ed122676",
   "metadata": {},
   "outputs": [
    {
     "data": {
      "text/html": [
       "<div>\n",
       "<style scoped>\n",
       "    .dataframe tbody tr th:only-of-type {\n",
       "        vertical-align: middle;\n",
       "    }\n",
       "\n",
       "    .dataframe tbody tr th {\n",
       "        vertical-align: top;\n",
       "    }\n",
       "\n",
       "    .dataframe thead th {\n",
       "        text-align: right;\n",
       "    }\n",
       "</style>\n",
       "<table border=\"1\" class=\"dataframe\">\n",
       "  <thead>\n",
       "    <tr style=\"text-align: right;\">\n",
       "      <th></th>\n",
       "      <th>doc</th>\n",
       "      <th>source</th>\n",
       "      <th>author</th>\n",
       "      <th>title</th>\n",
       "      <th>year</th>\n",
       "      <th>period</th>\n",
       "      <th>text_type</th>\n",
       "      <th>words</th>\n",
       "      <th>text</th>\n",
       "      <th>cleaned_text</th>\n",
       "      <th>lemmatized_text</th>\n",
       "    </tr>\n",
       "  </thead>\n",
       "  <tbody>\n",
       "    <tr>\n",
       "      <th>0</th>\n",
       "      <td>Poesia.IV.4.Testo.txt</td>\n",
       "      <td>MIDIA</td>\n",
       "      <td>Faustina Maratti Zappi</td>\n",
       "      <td>Poesie</td>\n",
       "      <td>1700.0</td>\n",
       "      <td>1700-1750</td>\n",
       "      <td>poesia</td>\n",
       "      <td>3184.0</td>\n",
       "      <td>IV. 4. Rime degli Arcadi: Aglauro Cidonia (Fau...</td>\n",
       "      <td>iv.  . rime degli arcadi: aglauro cidonia  fau...</td>\n",
       "      <td>iv . 4 . rima del arcadi : aglauro cidonia ( f...</td>\n",
       "    </tr>\n",
       "    <tr>\n",
       "      <th>1</th>\n",
       "      <td>Poesia.IV.11.Testo.txt</td>\n",
       "      <td>MIDIA</td>\n",
       "      <td>Giambattista Felice Zappi</td>\n",
       "      <td>Poesie</td>\n",
       "      <td>1700.0</td>\n",
       "      <td>1700-1750</td>\n",
       "      <td>poesia</td>\n",
       "      <td>6113.0</td>\n",
       "      <td>IV. 11. Rime degli arcadi: Tirsi Leucasio (Gio...</td>\n",
       "      <td>iv.   . rime degli arcadi: tirsi leucasio  gio...</td>\n",
       "      <td>iv . 11 . rima del arcade : tirsi leucasio ( g...</td>\n",
       "    </tr>\n",
       "    <tr>\n",
       "      <th>2</th>\n",
       "      <td>Poesia.IV.1.Testo.txt</td>\n",
       "      <td>MIDIA</td>\n",
       "      <td>Giuseppe Paolucci (Alessi Cillenio)</td>\n",
       "      <td>Poesie</td>\n",
       "      <td>1700.0</td>\n",
       "      <td>1700-1750</td>\n",
       "      <td>poesia</td>\n",
       "      <td>10862.0</td>\n",
       "      <td>IV. 1. Rime degli Arcadi: Alessi Cillenio (Giu...</td>\n",
       "      <td>iv.  . rime degli arcadi: alessi cillenio  giu...</td>\n",
       "      <td>iv . 1 . rima del arcadi : alessi cillenio ( G...</td>\n",
       "    </tr>\n",
       "    <tr>\n",
       "      <th>3</th>\n",
       "      <td>Personali.IV.5.Testo.txt</td>\n",
       "      <td>MIDIA</td>\n",
       "      <td>Lorenzo Magalotti</td>\n",
       "      <td>Lettere odorose (1693-1705)</td>\n",
       "      <td>1700.0</td>\n",
       "      <td>1700-1750</td>\n",
       "      <td>personale</td>\n",
       "      <td>8374.0</td>\n",
       "      <td>IV. 5. Lorenzo Magalotti, Lettere odorose (169...</td>\n",
       "      <td>iv.  . lorenzo magalotti, lettere odorose     ...</td>\n",
       "      <td>iv . 5 . Lorenzo magalotti , lettere odoroso (...</td>\n",
       "    </tr>\n",
       "    <tr>\n",
       "      <th>4</th>\n",
       "      <td>Espositivi.IV.4.Testo.txt</td>\n",
       "      <td>MIDIA</td>\n",
       "      <td>Ludovico Antonio Muratori</td>\n",
       "      <td>Antichità italiane</td>\n",
       "      <td>1700.0</td>\n",
       "      <td>1700-1750</td>\n",
       "      <td>espositivo</td>\n",
       "      <td>8990.0</td>\n",
       "      <td>﻿IV. 4. Ludovico Antonio Muratori, Antichità i...</td>\n",
       "      <td>iv.  . ludovico antonio muratori, antichità i...</td>\n",
       "      <td>﻿iv . 4 . Ludovico Antonio muratori , antichit...</td>\n",
       "    </tr>\n",
       "  </tbody>\n",
       "</table>\n",
       "</div>"
      ],
      "text/plain": [
       "                         doc source                               author  \\\n",
       "0      Poesia.IV.4.Testo.txt  MIDIA               Faustina Maratti Zappi   \n",
       "1     Poesia.IV.11.Testo.txt  MIDIA            Giambattista Felice Zappi   \n",
       "2      Poesia.IV.1.Testo.txt  MIDIA  Giuseppe Paolucci (Alessi Cillenio)   \n",
       "3   Personali.IV.5.Testo.txt  MIDIA                    Lorenzo Magalotti   \n",
       "4  Espositivi.IV.4.Testo.txt  MIDIA           Ludovico Antonio Muratori    \n",
       "\n",
       "                         title    year     period   text_type    words  \\\n",
       "0                       Poesie  1700.0  1700-1750      poesia   3184.0   \n",
       "1                       Poesie  1700.0  1700-1750      poesia   6113.0   \n",
       "2                       Poesie  1700.0  1700-1750      poesia  10862.0   \n",
       "3  Lettere odorose (1693-1705)  1700.0  1700-1750   personale   8374.0   \n",
       "4           Antichità italiane  1700.0  1700-1750  espositivo   8990.0   \n",
       "\n",
       "                                                text  \\\n",
       "0  IV. 4. Rime degli Arcadi: Aglauro Cidonia (Fau...   \n",
       "1  IV. 11. Rime degli arcadi: Tirsi Leucasio (Gio...   \n",
       "2  IV. 1. Rime degli Arcadi: Alessi Cillenio (Giu...   \n",
       "3  IV. 5. Lorenzo Magalotti, Lettere odorose (169...   \n",
       "4  ﻿IV. 4. Ludovico Antonio Muratori, Antichità i...   \n",
       "\n",
       "                                        cleaned_text  \\\n",
       "0  iv.  . rime degli arcadi: aglauro cidonia  fau...   \n",
       "1  iv.   . rime degli arcadi: tirsi leucasio  gio...   \n",
       "2  iv.  . rime degli arcadi: alessi cillenio  giu...   \n",
       "3  iv.  . lorenzo magalotti, lettere odorose     ...   \n",
       "4   iv.  . ludovico antonio muratori, antichità i...   \n",
       "\n",
       "                                     lemmatized_text  \n",
       "0  iv . 4 . rima del arcadi : aglauro cidonia ( f...  \n",
       "1  iv . 11 . rima del arcade : tirsi leucasio ( g...  \n",
       "2  iv . 1 . rima del arcadi : alessi cillenio ( G...  \n",
       "3  iv . 5 . Lorenzo magalotti , lettere odoroso (...  \n",
       "4  ﻿iv . 4 . Ludovico Antonio muratori , antichit...  "
      ]
     },
     "execution_count": 3,
     "metadata": {},
     "output_type": "execute_result"
    }
   ],
   "source": [
    "df.head()"
   ]
  },
  {
   "cell_type": "code",
   "execution_count": 4,
   "id": "da8051c8",
   "metadata": {},
   "outputs": [
    {
     "data": {
      "text/plain": [
       "(431959, 11)"
      ]
     },
     "execution_count": 4,
     "metadata": {},
     "output_type": "execute_result"
    }
   ],
   "source": [
    "df.shape"
   ]
  },
  {
   "cell_type": "code",
   "execution_count": 5,
   "id": "515a1157",
   "metadata": {},
   "outputs": [],
   "source": [
    "df.text = df.text.fillna('')\n",
    "df.lemmatized_text = df.lemmatized_text.fillna('')"
   ]
  },
  {
   "cell_type": "code",
   "execution_count": 6,
   "id": "1c3cc584",
   "metadata": {},
   "outputs": [],
   "source": [
    "# Teilframes pro Zeitraum erstellen\n",
    "\n",
    "period_frames = []\n",
    "periods = list(df['period'].unique())\n",
    "df_periods = dict(tuple(df.groupby(by='period')))\n",
    "\n",
    "for df, period in zip(df_periods, periods):\n",
    "    df_period = df_periods[period]\n",
    "    period_frames.append(df_period)"
   ]
  },
  {
   "cell_type": "code",
   "execution_count": 7,
   "id": "55abe7b3",
   "metadata": {},
   "outputs": [],
   "source": [
    "# Funktion, die bestimmte Wörter zählt (im lemmatisierten Text)\n",
    "\n",
    "def count_keywords(df, keywords):\n",
    "    keyword_dict = {w:w.replace(' ', '_') for w in keywords}\n",
    "\n",
    "    corpus = ' '.join(df.lemmatized_text).lower()\n",
    "    for w,w2 in keyword_dict.items():\n",
    "        corpus = corpus.replace(w,w2)\n",
    "\n",
    "    all_counts = Counter(corpus.split())\n",
    "    final_counts = {w:all_counts[w2] for w,w2 in keyword_dict.items()}\n",
    "    return final_counts"
   ]
  },
  {
   "cell_type": "code",
   "execution_count": 8,
   "id": "847f3f93",
   "metadata": {},
   "outputs": [],
   "source": [
    "# mögliche Kandidaten\n",
    "\n",
    "keywords = ['atrocemente', 'formidabilmente', 'mostruosamente', 'orrendamente', \n",
    "            'orribilmente', 'spaventosamente', 'terribilmente', 'tremendamente', \n",
    "            'molto', 'angoscia', 'angosciare', 'ansia', 'atterrire', 'panico', \n",
    "            'paura', 'raccapricciare', 'raccapriccio', 'schifo', 'sgomentare', \n",
    "            'sgomento', 'spaventare', 'spavento', 'terrore', 'domani', 'finora', \n",
    "            'ieri', 'oggi', 'presto', 'raramente', 'sempre', 'spesso']"
   ]
  },
  {
   "cell_type": "code",
   "execution_count": 9,
   "id": "48ea6679",
   "metadata": {},
   "outputs": [],
   "source": [
    "candidates = {}\n",
    "\n",
    "for df, period in zip(period_frames, periods):\n",
    "    res = count_keywords(df, keywords)\n",
    "    candidates[period] = res"
   ]
  },
  {
   "cell_type": "code",
   "execution_count": 10,
   "id": "7ea39edb",
   "metadata": {},
   "outputs": [
    {
     "data": {
      "text/plain": [
       "{'1700-1750': {'atrocemente': 2,\n",
       "  'formidabilmente': 0,\n",
       "  'mostruosamente': 2,\n",
       "  'orrendamente': 1,\n",
       "  'orribilmente': 20,\n",
       "  'spaventosamente': 9,\n",
       "  'terribilmente': 13,\n",
       "  'tremendamente': 0,\n",
       "  'molto': 10683,\n",
       "  'angoscia': 18,\n",
       "  'angosciare': 0,\n",
       "  'ansia': 1,\n",
       "  'atterrire': 100,\n",
       "  'panico': 11,\n",
       "  'paura': 177,\n",
       "  'raccapricciare': 7,\n",
       "  'raccapriccio': 1,\n",
       "  'schifo': 11,\n",
       "  'sgomentare': 57,\n",
       "  'sgomento': 6,\n",
       "  'spaventare': 70,\n",
       "  'spavento': 224,\n",
       "  'terrore': 143,\n",
       "  'domani': 33,\n",
       "  'finora': 237,\n",
       "  'ieri': 25,\n",
       "  'oggi': 602,\n",
       "  'presto': 275,\n",
       "  'raramente': 9,\n",
       "  'sempre': 1998,\n",
       "  'spesso': 534},\n",
       " '1751-1800': {'atrocemente': 3,\n",
       "  'formidabilmente': 0,\n",
       "  'mostruosamente': 0,\n",
       "  'orrendamente': 1,\n",
       "  'orribilmente': 25,\n",
       "  'spaventosamente': 1,\n",
       "  'terribilmente': 13,\n",
       "  'tremendamente': 0,\n",
       "  'molto': 15498,\n",
       "  'angoscia': 70,\n",
       "  'angosciare': 0,\n",
       "  'ansia': 2,\n",
       "  'atterrire': 75,\n",
       "  'panico': 10,\n",
       "  'paura': 240,\n",
       "  'raccapricciare': 2,\n",
       "  'raccapriccio': 8,\n",
       "  'schifo': 31,\n",
       "  'sgomentare': 17,\n",
       "  'sgomento': 3,\n",
       "  'spaventare': 74,\n",
       "  'spavento': 100,\n",
       "  'terrore': 151,\n",
       "  'domani': 180,\n",
       "  'finora': 244,\n",
       "  'ieri': 106,\n",
       "  'oggi': 618,\n",
       "  'presto': 578,\n",
       "  'raramente': 80,\n",
       "  'sempre': 3069,\n",
       "  'spesso': 828},\n",
       " '1801-1850': {'atrocemente': 21,\n",
       "  'formidabilmente': 0,\n",
       "  'mostruosamente': 2,\n",
       "  'orrendamente': 17,\n",
       "  'orribilmente': 71,\n",
       "  'spaventosamente': 4,\n",
       "  'terribilmente': 45,\n",
       "  'tremendamente': 2,\n",
       "  'molto': 21657,\n",
       "  'angoscia': 232,\n",
       "  'angosciare': 26,\n",
       "  'ansia': 57,\n",
       "  'atterrire': 220,\n",
       "  'panico': 30,\n",
       "  'paura': 504,\n",
       "  'raccapricciare': 22,\n",
       "  'raccapriccio': 26,\n",
       "  'schifo': 31,\n",
       "  'sgomentare': 116,\n",
       "  'sgomento': 37,\n",
       "  'spaventare': 314,\n",
       "  'spavento': 369,\n",
       "  'terrore': 466,\n",
       "  'domani': 420,\n",
       "  'finora': 258,\n",
       "  'ieri': 476,\n",
       "  'oggi': 2095,\n",
       "  'presto': 1048,\n",
       "  'raramente': 50,\n",
       "  'sempre': 5780,\n",
       "  'spesso': 1313},\n",
       " '1851-1900': {'atrocemente': 145,\n",
       "  'formidabilmente': 22,\n",
       "  'mostruosamente': 30,\n",
       "  'orrendamente': 68,\n",
       "  'orribilmente': 380,\n",
       "  'spaventosamente': 68,\n",
       "  'terribilmente': 228,\n",
       "  'tremendamente': 105,\n",
       "  'molto': 46874,\n",
       "  'angoscia': 733,\n",
       "  'angosciare': 66,\n",
       "  'ansia': 463,\n",
       "  'atterrire': 407,\n",
       "  'panico': 98,\n",
       "  'paura': 2784,\n",
       "  'raccapricciare': 126,\n",
       "  'raccapriccio': 297,\n",
       "  'schifo': 266,\n",
       "  'sgomentare': 517,\n",
       "  'sgomento': 613,\n",
       "  'spaventare': 956,\n",
       "  'spavento': 844,\n",
       "  'terrore': 963,\n",
       "  'domani': 1931,\n",
       "  'finora': 688,\n",
       "  'ieri': 1061,\n",
       "  'oggi': 3323,\n",
       "  'presto': 2631,\n",
       "  'raramente': 336,\n",
       "  'sempre': 12568,\n",
       "  'spesso': 2481},\n",
       " '1901-1950': {'atrocemente': 128,\n",
       "  'formidabilmente': 25,\n",
       "  'mostruosamente': 63,\n",
       "  'orrendamente': 70,\n",
       "  'orribilmente': 332,\n",
       "  'spaventosamente': 218,\n",
       "  'terribilmente': 439,\n",
       "  'tremendamente': 75,\n",
       "  'molto': 27863,\n",
       "  'angoscia': 768,\n",
       "  'angosciare': 78,\n",
       "  'ansia': 843,\n",
       "  'atterrire': 328,\n",
       "  'panico': 157,\n",
       "  'paura': 1833,\n",
       "  'raccapricciare': 72,\n",
       "  'raccapriccio': 270,\n",
       "  'schifo': 327,\n",
       "  'sgomentare': 366,\n",
       "  'sgomento': 740,\n",
       "  'spaventare': 657,\n",
       "  'spavento': 533,\n",
       "  'terrore': 813,\n",
       "  'domani': 1810,\n",
       "  'finora': 561,\n",
       "  'ieri': 1266,\n",
       "  'oggi': 2728,\n",
       "  'presto': 1539,\n",
       "  'raramente': 538,\n",
       "  'sempre': 7678,\n",
       "  'spesso': 1744},\n",
       " '1951-2000': {'atrocemente': 134,\n",
       "  'formidabilmente': 9,\n",
       "  'mostruosamente': 113,\n",
       "  'orrendamente': 132,\n",
       "  'orribilmente': 150,\n",
       "  'spaventosamente': 148,\n",
       "  'terribilmente': 241,\n",
       "  'tremendamente': 142,\n",
       "  'molto': 31298,\n",
       "  'angoscia': 694,\n",
       "  'angosciare': 110,\n",
       "  'ansia': 674,\n",
       "  'atterrire': 104,\n",
       "  'panico': 529,\n",
       "  'paura': 1494,\n",
       "  'raccapricciare': 10,\n",
       "  'raccapriccio': 199,\n",
       "  'schifo': 327,\n",
       "  'sgomentare': 154,\n",
       "  'sgomento': 507,\n",
       "  'spaventare': 510,\n",
       "  'spavento': 337,\n",
       "  'terrore': 710,\n",
       "  'domani': 1770,\n",
       "  'finora': 1514,\n",
       "  'ieri': 5050,\n",
       "  'oggi': 5710,\n",
       "  'presto': 1760,\n",
       "  'raramente': 848,\n",
       "  'sempre': 7640,\n",
       "  'spesso': 2749},\n",
       " '2001-2021': {'atrocemente': 201,\n",
       "  'formidabilmente': 193,\n",
       "  'mostruosamente': 206,\n",
       "  'orrendamente': 202,\n",
       "  'orribilmente': 201,\n",
       "  'spaventosamente': 201,\n",
       "  'terribilmente': 216,\n",
       "  'tremendamente': 212,\n",
       "  'molto': 28675,\n",
       "  'angoscia': 266,\n",
       "  'angosciare': 90,\n",
       "  'ansia': 340,\n",
       "  'atterrire': 167,\n",
       "  'panico': 348,\n",
       "  'paura': 1241,\n",
       "  'raccapricciare': 31,\n",
       "  'raccapriccio': 226,\n",
       "  'schifo': 279,\n",
       "  'sgomentare': 158,\n",
       "  'sgomento': 238,\n",
       "  'spaventare': 367,\n",
       "  'spavento': 221,\n",
       "  'terrore': 361,\n",
       "  'domani': 1785,\n",
       "  'finora': 714,\n",
       "  'ieri': 3312,\n",
       "  'oggi': 5865,\n",
       "  'presto': 989,\n",
       "  'raramente': 250,\n",
       "  'sempre': 7110,\n",
       "  'spesso': 1603}}"
      ]
     },
     "execution_count": 10,
     "metadata": {},
     "output_type": "execute_result"
    }
   ],
   "source": [
    "candidates"
   ]
  },
  {
   "cell_type": "code",
   "execution_count": 11,
   "id": "5e83ca66",
   "metadata": {},
   "outputs": [
    {
     "data": {
      "text/html": [
       "<div>\n",
       "<style scoped>\n",
       "    .dataframe tbody tr th:only-of-type {\n",
       "        vertical-align: middle;\n",
       "    }\n",
       "\n",
       "    .dataframe tbody tr th {\n",
       "        vertical-align: top;\n",
       "    }\n",
       "\n",
       "    .dataframe thead th {\n",
       "        text-align: right;\n",
       "    }\n",
       "</style>\n",
       "<table border=\"1\" class=\"dataframe\">\n",
       "  <thead>\n",
       "    <tr style=\"text-align: right;\">\n",
       "      <th></th>\n",
       "      <th>atrocemente</th>\n",
       "      <th>formidabilmente</th>\n",
       "      <th>mostruosamente</th>\n",
       "      <th>orrendamente</th>\n",
       "      <th>orribilmente</th>\n",
       "      <th>spaventosamente</th>\n",
       "      <th>terribilmente</th>\n",
       "      <th>tremendamente</th>\n",
       "      <th>molto</th>\n",
       "      <th>angoscia</th>\n",
       "      <th>...</th>\n",
       "      <th>spavento</th>\n",
       "      <th>terrore</th>\n",
       "      <th>domani</th>\n",
       "      <th>finora</th>\n",
       "      <th>ieri</th>\n",
       "      <th>oggi</th>\n",
       "      <th>presto</th>\n",
       "      <th>raramente</th>\n",
       "      <th>sempre</th>\n",
       "      <th>spesso</th>\n",
       "    </tr>\n",
       "  </thead>\n",
       "  <tbody>\n",
       "    <tr>\n",
       "      <th>1700-1750</th>\n",
       "      <td>2</td>\n",
       "      <td>0</td>\n",
       "      <td>2</td>\n",
       "      <td>1</td>\n",
       "      <td>20</td>\n",
       "      <td>9</td>\n",
       "      <td>13</td>\n",
       "      <td>0</td>\n",
       "      <td>10683</td>\n",
       "      <td>18</td>\n",
       "      <td>...</td>\n",
       "      <td>224</td>\n",
       "      <td>143</td>\n",
       "      <td>33</td>\n",
       "      <td>237</td>\n",
       "      <td>25</td>\n",
       "      <td>602</td>\n",
       "      <td>275</td>\n",
       "      <td>9</td>\n",
       "      <td>1998</td>\n",
       "      <td>534</td>\n",
       "    </tr>\n",
       "    <tr>\n",
       "      <th>1751-1800</th>\n",
       "      <td>3</td>\n",
       "      <td>0</td>\n",
       "      <td>0</td>\n",
       "      <td>1</td>\n",
       "      <td>25</td>\n",
       "      <td>1</td>\n",
       "      <td>13</td>\n",
       "      <td>0</td>\n",
       "      <td>15498</td>\n",
       "      <td>70</td>\n",
       "      <td>...</td>\n",
       "      <td>100</td>\n",
       "      <td>151</td>\n",
       "      <td>180</td>\n",
       "      <td>244</td>\n",
       "      <td>106</td>\n",
       "      <td>618</td>\n",
       "      <td>578</td>\n",
       "      <td>80</td>\n",
       "      <td>3069</td>\n",
       "      <td>828</td>\n",
       "    </tr>\n",
       "    <tr>\n",
       "      <th>1801-1850</th>\n",
       "      <td>21</td>\n",
       "      <td>0</td>\n",
       "      <td>2</td>\n",
       "      <td>17</td>\n",
       "      <td>71</td>\n",
       "      <td>4</td>\n",
       "      <td>45</td>\n",
       "      <td>2</td>\n",
       "      <td>21657</td>\n",
       "      <td>232</td>\n",
       "      <td>...</td>\n",
       "      <td>369</td>\n",
       "      <td>466</td>\n",
       "      <td>420</td>\n",
       "      <td>258</td>\n",
       "      <td>476</td>\n",
       "      <td>2095</td>\n",
       "      <td>1048</td>\n",
       "      <td>50</td>\n",
       "      <td>5780</td>\n",
       "      <td>1313</td>\n",
       "    </tr>\n",
       "    <tr>\n",
       "      <th>1851-1900</th>\n",
       "      <td>145</td>\n",
       "      <td>22</td>\n",
       "      <td>30</td>\n",
       "      <td>68</td>\n",
       "      <td>380</td>\n",
       "      <td>68</td>\n",
       "      <td>228</td>\n",
       "      <td>105</td>\n",
       "      <td>46874</td>\n",
       "      <td>733</td>\n",
       "      <td>...</td>\n",
       "      <td>844</td>\n",
       "      <td>963</td>\n",
       "      <td>1931</td>\n",
       "      <td>688</td>\n",
       "      <td>1061</td>\n",
       "      <td>3323</td>\n",
       "      <td>2631</td>\n",
       "      <td>336</td>\n",
       "      <td>12568</td>\n",
       "      <td>2481</td>\n",
       "    </tr>\n",
       "    <tr>\n",
       "      <th>1901-1950</th>\n",
       "      <td>128</td>\n",
       "      <td>25</td>\n",
       "      <td>63</td>\n",
       "      <td>70</td>\n",
       "      <td>332</td>\n",
       "      <td>218</td>\n",
       "      <td>439</td>\n",
       "      <td>75</td>\n",
       "      <td>27863</td>\n",
       "      <td>768</td>\n",
       "      <td>...</td>\n",
       "      <td>533</td>\n",
       "      <td>813</td>\n",
       "      <td>1810</td>\n",
       "      <td>561</td>\n",
       "      <td>1266</td>\n",
       "      <td>2728</td>\n",
       "      <td>1539</td>\n",
       "      <td>538</td>\n",
       "      <td>7678</td>\n",
       "      <td>1744</td>\n",
       "    </tr>\n",
       "    <tr>\n",
       "      <th>1951-2000</th>\n",
       "      <td>134</td>\n",
       "      <td>9</td>\n",
       "      <td>113</td>\n",
       "      <td>132</td>\n",
       "      <td>150</td>\n",
       "      <td>148</td>\n",
       "      <td>241</td>\n",
       "      <td>142</td>\n",
       "      <td>31298</td>\n",
       "      <td>694</td>\n",
       "      <td>...</td>\n",
       "      <td>337</td>\n",
       "      <td>710</td>\n",
       "      <td>1770</td>\n",
       "      <td>1514</td>\n",
       "      <td>5050</td>\n",
       "      <td>5710</td>\n",
       "      <td>1760</td>\n",
       "      <td>848</td>\n",
       "      <td>7640</td>\n",
       "      <td>2749</td>\n",
       "    </tr>\n",
       "    <tr>\n",
       "      <th>2001-2021</th>\n",
       "      <td>201</td>\n",
       "      <td>193</td>\n",
       "      <td>206</td>\n",
       "      <td>202</td>\n",
       "      <td>201</td>\n",
       "      <td>201</td>\n",
       "      <td>216</td>\n",
       "      <td>212</td>\n",
       "      <td>28675</td>\n",
       "      <td>266</td>\n",
       "      <td>...</td>\n",
       "      <td>221</td>\n",
       "      <td>361</td>\n",
       "      <td>1785</td>\n",
       "      <td>714</td>\n",
       "      <td>3312</td>\n",
       "      <td>5865</td>\n",
       "      <td>989</td>\n",
       "      <td>250</td>\n",
       "      <td>7110</td>\n",
       "      <td>1603</td>\n",
       "    </tr>\n",
       "  </tbody>\n",
       "</table>\n",
       "<p>7 rows × 31 columns</p>\n",
       "</div>"
      ],
      "text/plain": [
       "           atrocemente  formidabilmente  mostruosamente  orrendamente  \\\n",
       "1700-1750            2                0               2             1   \n",
       "1751-1800            3                0               0             1   \n",
       "1801-1850           21                0               2            17   \n",
       "1851-1900          145               22              30            68   \n",
       "1901-1950          128               25              63            70   \n",
       "1951-2000          134                9             113           132   \n",
       "2001-2021          201              193             206           202   \n",
       "\n",
       "           orribilmente  spaventosamente  terribilmente  tremendamente  molto  \\\n",
       "1700-1750            20                9             13              0  10683   \n",
       "1751-1800            25                1             13              0  15498   \n",
       "1801-1850            71                4             45              2  21657   \n",
       "1851-1900           380               68            228            105  46874   \n",
       "1901-1950           332              218            439             75  27863   \n",
       "1951-2000           150              148            241            142  31298   \n",
       "2001-2021           201              201            216            212  28675   \n",
       "\n",
       "           angoscia  ...  spavento  terrore  domani  finora  ieri  oggi  \\\n",
       "1700-1750        18  ...       224      143      33     237    25   602   \n",
       "1751-1800        70  ...       100      151     180     244   106   618   \n",
       "1801-1850       232  ...       369      466     420     258   476  2095   \n",
       "1851-1900       733  ...       844      963    1931     688  1061  3323   \n",
       "1901-1950       768  ...       533      813    1810     561  1266  2728   \n",
       "1951-2000       694  ...       337      710    1770    1514  5050  5710   \n",
       "2001-2021       266  ...       221      361    1785     714  3312  5865   \n",
       "\n",
       "           presto  raramente  sempre  spesso  \n",
       "1700-1750     275          9    1998     534  \n",
       "1751-1800     578         80    3069     828  \n",
       "1801-1850    1048         50    5780    1313  \n",
       "1851-1900    2631        336   12568    2481  \n",
       "1901-1950    1539        538    7678    1744  \n",
       "1951-2000    1760        848    7640    2749  \n",
       "2001-2021     989        250    7110    1603  \n",
       "\n",
       "[7 rows x 31 columns]"
      ]
     },
     "execution_count": 11,
     "metadata": {},
     "output_type": "execute_result"
    }
   ],
   "source": [
    "table = pd.DataFrame.from_dict(candidates, orient='index')\n",
    "table"
   ]
  },
  {
   "cell_type": "code",
   "execution_count": 12,
   "id": "abc9ea5f",
   "metadata": {},
   "outputs": [],
   "source": [
    "table.to_csv('Korpus/candidates.csv', sep=';')"
   ]
  },
  {
   "cell_type": "markdown",
   "id": "48e34653",
   "metadata": {},
   "source": [
    "### Kandidaten im Korpus "
   ]
  },
  {
   "cell_type": "code",
   "execution_count": 13,
   "id": "2e4956aa",
   "metadata": {},
   "outputs": [],
   "source": [
    "df = pd.read_csv('Korpus/corpus_periods.csv', sep=',', encoding='utf-8')"
   ]
  },
  {
   "cell_type": "code",
   "execution_count": 14,
   "id": "d8e69b6e",
   "metadata": {},
   "outputs": [
    {
     "data": {
      "text/html": [
       "<div>\n",
       "<style scoped>\n",
       "    .dataframe tbody tr th:only-of-type {\n",
       "        vertical-align: middle;\n",
       "    }\n",
       "\n",
       "    .dataframe tbody tr th {\n",
       "        vertical-align: top;\n",
       "    }\n",
       "\n",
       "    .dataframe thead th {\n",
       "        text-align: right;\n",
       "    }\n",
       "</style>\n",
       "<table border=\"1\" class=\"dataframe\">\n",
       "  <thead>\n",
       "    <tr style=\"text-align: right;\">\n",
       "      <th></th>\n",
       "      <th>doc</th>\n",
       "      <th>source</th>\n",
       "      <th>author</th>\n",
       "      <th>title</th>\n",
       "      <th>year</th>\n",
       "      <th>period</th>\n",
       "      <th>text_type</th>\n",
       "      <th>words</th>\n",
       "      <th>text</th>\n",
       "      <th>cleaned_text</th>\n",
       "      <th>lemmatized_text</th>\n",
       "    </tr>\n",
       "  </thead>\n",
       "  <tbody>\n",
       "    <tr>\n",
       "      <th>0</th>\n",
       "      <td>Poesia.IV.4.Testo.txt</td>\n",
       "      <td>MIDIA</td>\n",
       "      <td>Faustina Maratti Zappi</td>\n",
       "      <td>Poesie</td>\n",
       "      <td>1700.0</td>\n",
       "      <td>1700-1750</td>\n",
       "      <td>poesia</td>\n",
       "      <td>3184.0</td>\n",
       "      <td>IV. 4. Rime degli Arcadi: Aglauro Cidonia (Fau...</td>\n",
       "      <td>iv.  . rime degli arcadi: aglauro cidonia  fau...</td>\n",
       "      <td>iv . 4 . rima del arcadi : aglauro cidonia ( f...</td>\n",
       "    </tr>\n",
       "    <tr>\n",
       "      <th>1</th>\n",
       "      <td>Poesia.IV.11.Testo.txt</td>\n",
       "      <td>MIDIA</td>\n",
       "      <td>Giambattista Felice Zappi</td>\n",
       "      <td>Poesie</td>\n",
       "      <td>1700.0</td>\n",
       "      <td>1700-1750</td>\n",
       "      <td>poesia</td>\n",
       "      <td>6113.0</td>\n",
       "      <td>IV. 11. Rime degli arcadi: Tirsi Leucasio (Gio...</td>\n",
       "      <td>iv.   . rime degli arcadi: tirsi leucasio  gio...</td>\n",
       "      <td>iv . 11 . rima del arcade : tirsi leucasio ( g...</td>\n",
       "    </tr>\n",
       "    <tr>\n",
       "      <th>2</th>\n",
       "      <td>Poesia.IV.1.Testo.txt</td>\n",
       "      <td>MIDIA</td>\n",
       "      <td>Giuseppe Paolucci (Alessi Cillenio)</td>\n",
       "      <td>Poesie</td>\n",
       "      <td>1700.0</td>\n",
       "      <td>1700-1750</td>\n",
       "      <td>poesia</td>\n",
       "      <td>10862.0</td>\n",
       "      <td>IV. 1. Rime degli Arcadi: Alessi Cillenio (Giu...</td>\n",
       "      <td>iv.  . rime degli arcadi: alessi cillenio  giu...</td>\n",
       "      <td>iv . 1 . rima del arcadi : alessi cillenio ( G...</td>\n",
       "    </tr>\n",
       "    <tr>\n",
       "      <th>3</th>\n",
       "      <td>Personali.IV.5.Testo.txt</td>\n",
       "      <td>MIDIA</td>\n",
       "      <td>Lorenzo Magalotti</td>\n",
       "      <td>Lettere odorose (1693-1705)</td>\n",
       "      <td>1700.0</td>\n",
       "      <td>1700-1750</td>\n",
       "      <td>personale</td>\n",
       "      <td>8374.0</td>\n",
       "      <td>IV. 5. Lorenzo Magalotti, Lettere odorose (169...</td>\n",
       "      <td>iv.  . lorenzo magalotti, lettere odorose     ...</td>\n",
       "      <td>iv . 5 . Lorenzo magalotti , lettere odoroso (...</td>\n",
       "    </tr>\n",
       "    <tr>\n",
       "      <th>4</th>\n",
       "      <td>Espositivi.IV.4.Testo.txt</td>\n",
       "      <td>MIDIA</td>\n",
       "      <td>Ludovico Antonio Muratori</td>\n",
       "      <td>Antichità italiane</td>\n",
       "      <td>1700.0</td>\n",
       "      <td>1700-1750</td>\n",
       "      <td>espositivo</td>\n",
       "      <td>8990.0</td>\n",
       "      <td>﻿IV. 4. Ludovico Antonio Muratori, Antichità i...</td>\n",
       "      <td>iv.  . ludovico antonio muratori, antichità i...</td>\n",
       "      <td>﻿iv . 4 . Ludovico Antonio muratori , antichit...</td>\n",
       "    </tr>\n",
       "  </tbody>\n",
       "</table>\n",
       "</div>"
      ],
      "text/plain": [
       "                         doc source                               author  \\\n",
       "0      Poesia.IV.4.Testo.txt  MIDIA               Faustina Maratti Zappi   \n",
       "1     Poesia.IV.11.Testo.txt  MIDIA            Giambattista Felice Zappi   \n",
       "2      Poesia.IV.1.Testo.txt  MIDIA  Giuseppe Paolucci (Alessi Cillenio)   \n",
       "3   Personali.IV.5.Testo.txt  MIDIA                    Lorenzo Magalotti   \n",
       "4  Espositivi.IV.4.Testo.txt  MIDIA           Ludovico Antonio Muratori    \n",
       "\n",
       "                         title    year     period   text_type    words  \\\n",
       "0                       Poesie  1700.0  1700-1750      poesia   3184.0   \n",
       "1                       Poesie  1700.0  1700-1750      poesia   6113.0   \n",
       "2                       Poesie  1700.0  1700-1750      poesia  10862.0   \n",
       "3  Lettere odorose (1693-1705)  1700.0  1700-1750   personale   8374.0   \n",
       "4           Antichità italiane  1700.0  1700-1750  espositivo   8990.0   \n",
       "\n",
       "                                                text  \\\n",
       "0  IV. 4. Rime degli Arcadi: Aglauro Cidonia (Fau...   \n",
       "1  IV. 11. Rime degli arcadi: Tirsi Leucasio (Gio...   \n",
       "2  IV. 1. Rime degli Arcadi: Alessi Cillenio (Giu...   \n",
       "3  IV. 5. Lorenzo Magalotti, Lettere odorose (169...   \n",
       "4  ﻿IV. 4. Ludovico Antonio Muratori, Antichità i...   \n",
       "\n",
       "                                        cleaned_text  \\\n",
       "0  iv.  . rime degli arcadi: aglauro cidonia  fau...   \n",
       "1  iv.   . rime degli arcadi: tirsi leucasio  gio...   \n",
       "2  iv.  . rime degli arcadi: alessi cillenio  giu...   \n",
       "3  iv.  . lorenzo magalotti, lettere odorose     ...   \n",
       "4   iv.  . ludovico antonio muratori, antichità i...   \n",
       "\n",
       "                                     lemmatized_text  \n",
       "0  iv . 4 . rima del arcadi : aglauro cidonia ( f...  \n",
       "1  iv . 11 . rima del arcade : tirsi leucasio ( g...  \n",
       "2  iv . 1 . rima del arcadi : alessi cillenio ( G...  \n",
       "3  iv . 5 . Lorenzo magalotti , lettere odoroso (...  \n",
       "4  ﻿iv . 4 . Ludovico Antonio muratori , antichit...  "
      ]
     },
     "execution_count": 14,
     "metadata": {},
     "output_type": "execute_result"
    }
   ],
   "source": [
    "df.head()"
   ]
  },
  {
   "cell_type": "code",
   "execution_count": 15,
   "id": "3dc8822a",
   "metadata": {},
   "outputs": [
    {
     "data": {
      "text/plain": [
       "(431959, 11)"
      ]
     },
     "execution_count": 15,
     "metadata": {},
     "output_type": "execute_result"
    }
   ],
   "source": [
    "df.shape"
   ]
  },
  {
   "cell_type": "code",
   "execution_count": 16,
   "id": "214e4913",
   "metadata": {},
   "outputs": [],
   "source": [
    "df.text = df.text.fillna('')"
   ]
  },
  {
   "cell_type": "code",
   "execution_count": 17,
   "id": "d1312c9a",
   "metadata": {},
   "outputs": [],
   "source": [
    "# Teilframes pro Zeitraum erstellen\n",
    "\n",
    "df_periods = dict(tuple(df.groupby(by='period')))\n",
    "\n",
    "df1 = df_periods['1700-1750']\n",
    "df2 = df_periods['1751-1800']\n",
    "df3 = df_periods['1801-1850']\n",
    "df4 = df_periods['1851-1900']\n",
    "df5 = df_periods['1901-1950']\n",
    "df6 = df_periods['1951-2000']\n",
    "df7 = df_periods['2001-2021']"
   ]
  },
  {
   "cell_type": "code",
   "execution_count": 18,
   "id": "43d0fe6c",
   "metadata": {},
   "outputs": [],
   "source": [
    "# Funktion, die die Sätze ausgibt, in der ein bestimmtes Wort vorkommt\n",
    "\n",
    "def find_sentences_with_keyword(document, keyword):\n",
    "    \n",
    "    sentlist = []\n",
    "    \n",
    "    for sentence in document:\n",
    "        \n",
    "        if keyword.lower() in sentence.lower():\n",
    "            sentence = re.sub('\\n', ' ', sentence)\n",
    "            sentence = re.sub(f\"{keyword}\", f\"**{keyword}**\", sentence, flags=re.IGNORECASE)            \n",
    "            sentlist.append(sentence)\n",
    "            \n",
    "    #result = list(set(sentlist))              # wenn set keine Duplikate\n",
    "    result = list(sentlist)\n",
    "    for sentence in result: \n",
    "        display(Markdown(sentence))\n",
    "    \n",
    "    #return result"
   ]
  },
  {
   "cell_type": "markdown",
   "id": "15597e51",
   "metadata": {},
   "source": [
    "### Zeitraum 1: 1700-1750"
   ]
  },
  {
   "cell_type": "code",
   "execution_count": 19,
   "id": "3c0097aa",
   "metadata": {},
   "outputs": [],
   "source": [
    "text1 = ''\n",
    "for i in df1.text:\n",
    "    text1 += i"
   ]
  },
  {
   "cell_type": "code",
   "execution_count": 20,
   "id": "83567899",
   "metadata": {},
   "outputs": [],
   "source": [
    "document1 = nltk.sent_tokenize(text1)"
   ]
  },
  {
   "cell_type": "code",
   "execution_count": 21,
   "id": "625a2461",
   "metadata": {},
   "outputs": [
    {
     "data": {
      "text/markdown": [
       "Così, poich'ebbe tracannato a iosa Cento gran' giare e cento, tombolando Di qua, di là, senza trovar mai posa, Sdraiato alfine e di sé tutto in bando, Ei s'addormì, coll'ampia abbominosa Bocca **terribilmente** rimugghiando."
      ],
      "text/plain": [
       "<IPython.core.display.Markdown object>"
      ]
     },
     "metadata": {},
     "output_type": "display_data"
    },
    {
     "data": {
      "text/markdown": [
       "Abbiamo da san Girolamo che **terribilmente** infierì nella Soria e Cicilia la carestia colla mortalità d''innumerabili persone."
      ],
      "text/plain": [
       "<IPython.core.display.Markdown object>"
      ]
     },
     "metadata": {},
     "output_type": "display_data"
    },
    {
     "data": {
      "text/markdown": [
       "Di questa orrida fame, che, dov''egli passava, lasciava la micidial infezione secondo il suo costume, di modo che cominciò a sentirsi **terribilmente** anche in Roma."
      ],
      "text/plain": [
       "<IPython.core.display.Markdown object>"
      ]
     },
     "metadata": {},
     "output_type": "display_data"
    },
    {
     "data": {
      "text/markdown": [
       "Ma si trovò **terribilmente** gonfio esso mare con pioggia e tuoni; lo stesso Tevere era in tempesta; però convenne prendere terra."
      ],
      "text/plain": [
       "<IPython.core.display.Markdown object>"
      ]
     },
     "metadata": {},
     "output_type": "display_data"
    },
    {
     "data": {
      "text/markdown": [
       "Abbiamo da san Girolamo che **terribilmente** infierì nella Soria e Cicilia la carestia colla mortalità d''innumerabili persone."
      ],
      "text/plain": [
       "<IPython.core.display.Markdown object>"
      ]
     },
     "metadata": {},
     "output_type": "display_data"
    },
    {
     "data": {
      "text/markdown": [
       "Giocarono in questo conflitto **terribilmente** le artiglierie d''ambe le parti, facendo squarci grandi nelle schiere opposte; le sciabole e baionette non istetteroQuanto a me, vo sospettando che fosse uno spettacolo pubblico, in cui si rappresentava Federigo imperadore coi Pavesi e Reggiani, e col patriarca, suoi aderenti, forse non con molto onore."
      ],
      "text/plain": [
       "<IPython.core.display.Markdown object>"
      ]
     },
     "metadata": {},
     "output_type": "display_data"
    },
    {
     "data": {
      "text/markdown": [
       ", dov''egli passava, lasciava la micidial infezione secondo il suo costume, di modo che cominciò a sentirsi **terribilmente** anche in Roma."
      ],
      "text/plain": [
       "<IPython.core.display.Markdown object>"
      ]
     },
     "metadata": {},
     "output_type": "display_data"
    },
    {
     "data": {
      "text/markdown": [
       ", per testimonianza di Teofane[2594], da un secondo furioso tremuoto, che nel dì 29 di novembre per un''ora continua sì **terribilmente** scosse la città d''Antiochia, che tutto quanto era rimasto in piedi nel precedente anno 526, e quanto era statopapa Gregorio IX, 1128."
      ],
      "text/plain": [
       "<IPython.core.display.Markdown object>"
      ]
     },
     "metadata": {},
     "output_type": "display_data"
    },
    {
     "data": {
      "text/markdown": [
       "Dai quali con uno strattagemma sono **terribilmente** sconfitti, 22."
      ],
      "text/plain": [
       "<IPython.core.display.Markdown object>"
      ]
     },
     "metadata": {},
     "output_type": "display_data"
    },
    {
     "data": {
      "text/markdown": [
       ", per testimonianza di Teofane[2594], da un secondo furioso tremuoto, che nel dì 29 di novembre per un''ora continua sì **terribilmente** scosse la città d''Antiochia, che tutto quanto era rimasto in piedi nel precedente anno 526, e quanto era statoin una casa privata, e la seguente mane imbarcatosi con tutti i suoi in due galee, pel Tevere discese al mare."
      ],
      "text/plain": [
       "<IPython.core.display.Markdown object>"
      ]
     },
     "metadata": {},
     "output_type": "display_data"
    },
    {
     "data": {
      "text/markdown": [
       "Ma si trovò **terribilmente** gonfio esso mare con pioggia e tuoni; lo stesso Tevere era in tempesta; però convenne prendere terra."
      ],
      "text/plain": [
       "<IPython.core.display.Markdown object>"
      ]
     },
     "metadata": {},
     "output_type": "display_data"
    },
    {
     "data": {
      "text/markdown": [
       "Dai quali con uno strattagemma sono **terribilmente** sconfitti, 22."
      ],
      "text/plain": [
       "<IPython.core.display.Markdown object>"
      ]
     },
     "metadata": {},
     "output_type": "display_data"
    },
    {
     "data": {
      "text/markdown": [
       "Giocarono in questo conflitto **terribilmente** le artiglierie d''ambe le parti, facendo squarci grandi nelle schiere opposte; le sciabole e baionette non istetteroProbabilmente non vi perì tanta gente; contuttociò fu questa una delle maggiori calamità che mai toccassero a quel regno."
      ],
      "text/plain": [
       "<IPython.core.display.Markdown object>"
      ]
     },
     "metadata": {},
     "output_type": "display_data"
    }
   ],
   "source": [
    "find_sentences_with_keyword(document1, 'terribilmente')"
   ]
  },
  {
   "cell_type": "markdown",
   "id": "3659d417",
   "metadata": {},
   "source": [
    "### Zeitraum 2: 1751-1800"
   ]
  },
  {
   "cell_type": "code",
   "execution_count": 22,
   "id": "e819d3b3",
   "metadata": {},
   "outputs": [],
   "source": [
    "text2 = ''\n",
    "for i in df2.text:\n",
    "    text2 += i"
   ]
  },
  {
   "cell_type": "code",
   "execution_count": 23,
   "id": "4d33afa8",
   "metadata": {},
   "outputs": [],
   "source": [
    "document2 = nltk.sent_tokenize(text2)"
   ]
  },
  {
   "cell_type": "code",
   "execution_count": 24,
   "id": "e552ab62",
   "metadata": {},
   "outputs": [
    {
     "data": {
      "text/markdown": [
       "è una cosa, che mi muove la bile **terribilmente**."
      ],
      "text/plain": [
       "<IPython.core.display.Markdown object>"
      ]
     },
     "metadata": {},
     "output_type": "display_data"
    },
    {
     "data": {
      "text/markdown": [
       "Ma il tuono e il vento e l'onda **terribilmente** agita tutti e batte; Nè le vele contratte Nè da la doppia sponda Il forte remigar, l'urto che abbonda Vince nè frena."
      ],
      "text/plain": [
       "<IPython.core.display.Markdown object>"
      ]
     },
     "metadata": {},
     "output_type": "display_data"
    },
    {
     "data": {
      "text/markdown": [
       "L'industria viene corrosa nella sua radice, e la nazione non ricever mai spinta ad accrescere l'annua riproduzione, perch fischia il flagello delle leggi **terribilmente** sul capo degli uomini riproduttori avviliti e scoraggiti."
      ],
      "text/plain": [
       "<IPython.core.display.Markdown object>"
      ]
     },
     "metadata": {},
     "output_type": "display_data"
    },
    {
     "data": {
      "text/markdown": [
       "Dettò poscia questa lettera **terribilmente** laconica: \"In nome del Dio misericordioso, Haroun-al-Rashid comandante dei fedeli, a Niceforo, cane Romano."
      ],
      "text/plain": [
       "<IPython.core.display.Markdown object>"
      ]
     },
     "metadata": {},
     "output_type": "display_data"
    },
    {
     "data": {
      "text/markdown": [
       "Si trovarono però **terribilmente** angustiati dai passaggi che traggono da Eginardo, da Teofane e dagli antichi Annali Laureshamenses, Fuldenses,, e conseguenze che da ciò derivarono 20 Incendio di Roma sotto il regno di Nerone 25 I Cristiani accusati di esso e **terribilmente** puniti 27 Passo di Tacito a tale proposito 27 Osservazioni sovra questo passo 29 I Cristiani ed i Giudei egualmentePerò e il Cavaliere parla con disprezzo di coloro che pensavano alla ritirata, e il monaco loda que'' suoi compatriotti che erano risoluti di morire coll''armi alla mano."
      ],
      "text/plain": [
       "<IPython.core.display.Markdown object>"
      ]
     },
     "metadata": {},
     "output_type": "display_data"
    },
    {
     "data": {
      "text/markdown": [
       "I Cristiani accusati dell''incendio di Roma sotto Nerone e **terribilmente** puniti, t. III, p. 27."
      ],
      "text/plain": [
       "<IPython.core.display.Markdown object>"
      ]
     },
     "metadata": {},
     "output_type": "display_data"
    },
    {
     "data": {
      "text/markdown": [
       "Si trovarono però **terribilmente** angustiati dai passaggi che traggono da Eginardo, da Teofane e dagli antichi Annali Laureshamenses, Fuldenses,storia e della favola, troncò le deboli armi dei Greci senza smuzzare il taglio della sua."
      ],
      "text/plain": [
       "<IPython.core.display.Markdown object>"
      ]
     },
     "metadata": {},
     "output_type": "display_data"
    },
    {
     "data": {
      "text/markdown": [
       "Dettò poscia questa lettera **terribilmente** laconica: \"In nome del Dio misericordioso, Haroun-al-Rashid comandante dei fedeli, a Niceforo, cane Romano."
      ],
      "text/plain": [
       "<IPython.core.display.Markdown object>"
      ]
     },
     "metadata": {},
     "output_type": "display_data"
    },
    {
     "data": {
      "text/markdown": [
       "I Cristiani accusati dell''incendio di Roma sotto Nerone e **terribilmente** puniti, t. III, p. 27."
      ],
      "text/plain": [
       "<IPython.core.display.Markdown object>"
      ]
     },
     "metadata": {},
     "output_type": "display_data"
    },
    {
     "data": {
      "text/markdown": [
       ", e conseguenze che da ciò derivarono 20 Incendio di Roma sotto il regno di Nerone 25 I Cristiani accusati di esso e **terribilmente** puniti 27 Passo di Tacito a tale proposito 27 Osservazioni sovra questo passo 29 I Cristiani ed i Giudei egualmente, e alla vostra coronazione."
      ],
      "text/plain": [
       "<IPython.core.display.Markdown object>"
      ]
     },
     "metadata": {},
     "output_type": "display_data"
    },
    {
     "data": {
      "text/markdown": [
       "Oh sì, per questo, ten scongiuro io forte, Largo mio pianto, per Giocasta madre, Per l'orror di que' giorni onde mi lasci **terribilmente** in preda, per l'amore D'Antigon tua."
      ],
      "text/plain": [
       "<IPython.core.display.Markdown object>"
      ]
     },
     "metadata": {},
     "output_type": "display_data"
    },
    {
     "data": {
      "text/markdown": [
       "Giace poi sopra un suolo **terribilmente** sterile, coperto di piccole roccie simili al basalto."
      ],
      "text/plain": [
       "<IPython.core.display.Markdown object>"
      ]
     },
     "metadata": {},
     "output_type": "display_data"
    }
   ],
   "source": [
    "find_sentences_with_keyword(document2, 'terribilmente')"
   ]
  },
  {
   "cell_type": "markdown",
   "id": "56ee1adf",
   "metadata": {},
   "source": [
    "### Zeitraum 3: 1801-1850"
   ]
  },
  {
   "cell_type": "code",
   "execution_count": 25,
   "id": "937ddac7",
   "metadata": {},
   "outputs": [],
   "source": [
    "text3 = ''\n",
    "for i in df3.text:\n",
    "    text3 += i"
   ]
  },
  {
   "cell_type": "code",
   "execution_count": 26,
   "id": "985880c5",
   "metadata": {},
   "outputs": [],
   "source": [
    "document3 = nltk.sent_tokenize(text3)"
   ]
  },
  {
   "cell_type": "code",
   "execution_count": 27,
   "id": "6ff4625e",
   "metadata": {},
   "outputs": [
    {
     "data": {
      "text/markdown": [
       "— Un lampo non iscopre più **terribilmente** all'occhio del viandante il precipizio sul quale le tenebre della notte lo aveano condotto."
      ],
      "text/plain": [
       "<IPython.core.display.Markdown object>"
      ]
     },
     "metadata": {},
     "output_type": "display_data"
    },
    {
     "data": {
      "text/markdown": [
       "Assentirei all'uso delle elastiche se non vi fosse l'autorità del Pajola nostro il quale raccomanda in visceribus quelle di cera; e d'altra parte i Francesi, che soli ne fanno, hanno il vizio di dar loro la forma conica, quando a me che ho il malanno oltre il collo quasi della vescica bisognerebbero affatto cilindriche, e poi non ne trovo di grosse; e quelle che ho sperimentate mi fanno gran male, perchè si dibattono con la loro troppa elasticità nel canale, ed irritano **terribilmente**."
      ],
      "text/plain": [
       "<IPython.core.display.Markdown object>"
      ]
     },
     "metadata": {},
     "output_type": "display_data"
    },
    {
     "data": {
      "text/markdown": [
       "– Finalmente, dati questi caratteri e queste passioni, l'autore deve nel breve spazio dal principio alla fine della sua azione far nascere tali accidenti che, quantunque naturalissimi e quasi minimi, ridestino quelle antiche passioni, le facciano operare fortemente in que' forti caratteri, e sciolgano pietosamente e **terribilmente** l'azione."
      ],
      "text/plain": [
       "<IPython.core.display.Markdown object>"
      ]
     },
     "metadata": {},
     "output_type": "display_data"
    },
    {
     "data": {
      "text/markdown": [
       "Intanto l'iracondo Durvasas, uno degli uomini santi dell'India, a cui la povera Sacontala, occupata da tutt'altri pensieri, trascur di far le dovute accoglienze, grida **terribilmente**: - E che?"
      ],
      "text/plain": [
       "<IPython.core.display.Markdown object>"
      ]
     },
     "metadata": {},
     "output_type": "display_data"
    },
    {
     "data": {
      "text/markdown": [
       "se tu sapessi come oltre l'infermità, e la povertà, e l'esilio imminente, e l'incertezza della mia vita, anche il pericolo quotidiano di mio fratello che ora è all'esercito sul Mincio mi affligge; come lo stato di mia Madre mi amareggia **terribilmente** l'anima e me la prostra!"
      ],
      "text/plain": [
       "<IPython.core.display.Markdown object>"
      ]
     },
     "metadata": {},
     "output_type": "display_data"
    },
    {
     "data": {
      "text/markdown": [
       "La Bignami è a Bologna e s' annoia **terribilmente**."
      ],
      "text/plain": [
       "<IPython.core.display.Markdown object>"
      ]
     },
     "metadata": {},
     "output_type": "display_data"
    },
    {
     "data": {
      "text/markdown": [
       "Guardo tutto intorno a me il monte, le campagne, le alpi lontane, il lago, tutto tutto bianco di neve; gelato; **terribilmente** muta ogni cosa — eppur mi consolo!"
      ],
      "text/plain": [
       "<IPython.core.display.Markdown object>"
      ]
     },
     "metadata": {},
     "output_type": "display_data"
    },
    {
     "data": {
      "text/markdown": [
       "Uscendo mezz'ora dopo dalla stanza dove mi parlavano, entrai nella bottega de'libri e mi s'affacciò Castelli, il quale malgrado l'impudenza della quale esso è **terribilmente** dotato ed armato, si fece sì pallido che i garzoni della bottega se ne accorsero tutti."
      ],
      "text/plain": [
       "<IPython.core.display.Markdown object>"
      ]
     },
     "metadata": {},
     "output_type": "display_data"
    },
    {
     "data": {
      "text/markdown": [
       "Però il giorno dopo le scrissi un biglietto passionatissimo e risentito; le mostrai quanta e velenosissima piaga aveva aperto nelle mie viscere: a che gelosia, a che disprezzo per lei e per me m'aveva oramai abbandonato, e a che pericoli essa esponeva il suo nome, se passioni così terribili e sì **terribilmente** istigate avessero un dì o l'altro fatto uno scoppio; e scongiurandola che tacesse, le diceva addio."
      ],
      "text/plain": [
       "<IPython.core.display.Markdown object>"
      ]
     },
     "metadata": {},
     "output_type": "display_data"
    },
    {
     "data": {
      "text/markdown": [
       "Quando si dice adunque che gl'Italiani avevano la loro legge, non s'intenda che ella fosse il limite della loro obbedienza, e una tutela della loro libertà; ma si ritenga che, oltre quella, ne avevano un'altra, imposta da una parte interessata: il non trovarla scritta, il non conoscerla noi nemmeno per tradizione, può lasciar supporre che fosse una legge di fatto, sommamente arbitraria ed estesa nella sua applicazione, e ad un tempo **terribilmente** semplice nel suo principio."
      ],
      "text/plain": [
       "<IPython.core.display.Markdown object>"
      ]
     },
     "metadata": {},
     "output_type": "display_data"
    },
    {
     "data": {
      "text/markdown": [
       "Il non trovarla scritta, il non conoscerla noi, nemmeno per tradizione, può lasciar supporre che fosse una legge di fatto, sommamente arbitraria ed estesa nella sua applicazione, e a un tempo **terribilmente** semplice nel suo principio."
      ],
      "text/plain": [
       "<IPython.core.display.Markdown object>"
      ]
     },
     "metadata": {},
     "output_type": "display_data"
    },
    {
     "data": {
      "text/markdown": [
       "Ma si scosse **terribilmente** quando pot avere un punto d'appoggio sullo straniero, come vedremo in seguito."
      ],
      "text/plain": [
       "<IPython.core.display.Markdown object>"
      ]
     },
     "metadata": {},
     "output_type": "display_data"
    },
    {
     "data": {
      "text/markdown": [
       "Quell'aggiunta sulla dottrina luterana e calviniana della giustificazione per la sola fede, e la quale mi pareva costì non dover richiedere che un cenno, e poche nude citazioni, mi s'è allungata **terribilmente**, non tanto per quello che m'è riuscito di scrivere, quanto per quello che ho dovuto leggere, cioè mi s'è allungata in quanto al tempo da spenderci, molto più che in quanto alla sua estensione."
      ],
      "text/plain": [
       "<IPython.core.display.Markdown object>"
      ]
     },
     "metadata": {},
     "output_type": "display_data"
    },
    {
     "data": {
      "text/markdown": [
       "Medici si diede a fulminare **terribilmente** da' suoi legni esso pure, e mentre i Ducali trovavansi in grave confusione perch molte delle loro barche venivano fracassate dalle palle mussiane contro il lido stesso presso cui erano, Gabriele, Falco e Sarbelloni alla testa delle loro schiere presero terra, istruiti di quanto avessero ad operare, lasciando nelle navi i soli bombardieri, che trattisi al largo, continuarono, siccome il Brigantino, a sostenere il fuoco contro i Ducali."
      ],
      "text/plain": [
       "<IPython.core.display.Markdown object>"
      ]
     },
     "metadata": {},
     "output_type": "display_data"
    },
    {
     "data": {
      "text/markdown": [
       "\" Seria **terribilmente** , perchè il cavaliere ed io....... \" \" Quand''è così, vi prego tralasciar di contarmela affatto."
      ],
      "text/plain": [
       "<IPython.core.display.Markdown object>"
      ]
     },
     "metadata": {},
     "output_type": "display_data"
    },
    {
     "data": {
      "text/markdown": [
       "Come vorreste ch''io avessi un''aria ilare e gaia, s''io mi sento malinconico, e **terribilmente** malinconico? \""
      ],
      "text/plain": [
       "<IPython.core.display.Markdown object>"
      ]
     },
     "metadata": {},
     "output_type": "display_data"
    },
    {
     "data": {
      "text/markdown": [
       "Come vorreste ch''io avessi un''aria ilare e gaia, s''io mi sento malinconico, e **terribilmente** malinconico? \""
      ],
      "text/plain": [
       "<IPython.core.display.Markdown object>"
      ]
     },
     "metadata": {},
     "output_type": "display_data"
    },
    {
     "data": {
      "text/markdown": [
       "\" Seria **terribilmente** , perchè il cavaliere ed io....... \" \" Quand''è così, vi prego tralasciar di contarmela affatto."
      ],
      "text/plain": [
       "<IPython.core.display.Markdown object>"
      ]
     },
     "metadata": {},
     "output_type": "display_data"
    },
    {
     "data": {
      "text/markdown": [
       "V. trapassando le distanze sociali, ha voluto, uomo compassionevole, recar conforto ad un uomo **terribilmente** visitato da Dio, sappia che ha fatto il bene che s'era proposto, e che le Sue parole, come mi rappresentano al vivo quello che pur troppo sento, così mi danno animo e lume a sentir come debbo."
      ],
      "text/plain": [
       "<IPython.core.display.Markdown object>"
      ]
     },
     "metadata": {},
     "output_type": "display_data"
    },
    {
     "data": {
      "text/markdown": [
       "orrido pei mucchj dei cadaveri, massimamente più verso la sua foce nel Po, perchè quivi nel passare furono i Francesi **terribilmente** bersagliati dalle artiglierìe di Melas."
      ],
      "text/plain": [
       "<IPython.core.display.Markdown object>"
      ]
     },
     "metadata": {},
     "output_type": "display_data"
    },
    {
     "data": {
      "text/markdown": [
       ", e con la presenza animato i suoi soldati, che le grida di viva la repubblica fila per fila risuonando si mescolavano **terribilmente** col rimbombo dei cannoni, e con l''eco delle vicine montagne."
      ],
      "text/plain": [
       "<IPython.core.display.Markdown object>"
      ]
     },
     "metadata": {},
     "output_type": "display_data"
    },
    {
     "data": {
      "text/markdown": [
       "Menò egli sì **terribilmente** le mani, che non solo il Russo piegava, ma ancora i Francesi, preso nuovo ardire, assaltavano Schweicuschi con tantaE'' ci deve pur essere un fine alle nazionali disputazioni, il quale malamente taluno sperar potrebbe nel giudizio della plebe, cui i più audaci, i più perduti uomini impressionano meglio, che i buoni ed i prudenti; e la domestica fame necessita a pigliar i bocconi dai malvagi."
      ],
      "text/plain": [
       "<IPython.core.display.Markdown object>"
      ]
     },
     "metadata": {},
     "output_type": "display_data"
    },
    {
     "data": {
      "text/markdown": [
       "Gonfiò molto **terribilmente** , e si alzò oltre trenta piedi sopra l''usato livello."
      ],
      "text/plain": [
       "<IPython.core.display.Markdown object>"
      ]
     },
     "metadata": {},
     "output_type": "display_data"
    },
    {
     "data": {
      "text/markdown": [
       "Fulminava soprattutto **terribilmente** colla sua nave il Formidabile, e colle due sue seconde il Namur, ed il Duca, tutte e tre di novanta cannoni, l''ammiraglioFu accusato il governo Piemontese, per questo caso, di studiata barbarie; perciocchè diedero veramente a pensare l''ora insolita dei supplizj, e la tardità della staffetta apportatrice a Casale dell''ordinato soprastamento: soffermossi nove ore in Trino."
      ],
      "text/plain": [
       "<IPython.core.display.Markdown object>"
      ]
     },
     "metadata": {},
     "output_type": "display_data"
    },
    {
     "data": {
      "text/markdown": [
       "Menò egli sì **terribilmente** le mani, che non solo il Russo piegava, ma ancora i Francesi, preso nuovo ardire, assaltavano Schweicuschi con tantaorrido pei mucchj dei cadaveri, massimamente più verso la sua foce nel Po, perchè quivi nel passare furono i Francesi **terribilmente** bersagliati dalle artiglierìe di Melas."
      ],
      "text/plain": [
       "<IPython.core.display.Markdown object>"
      ]
     },
     "metadata": {},
     "output_type": "display_data"
    },
    {
     "data": {
      "text/markdown": [
       "Fulminava soprattutto **terribilmente** colla sua nave il Formidabile, e colle due sue seconde il Namur, ed il Duca, tutte e tre di novanta cannoni, l''ammiraglioNe seguiva una guerra altrettanto crudele, quanto era inutile, ed a niun altro fine tendeva, che a vieppiù accendere ed inasprire gli animi da una parte e dall''altra."
      ],
      "text/plain": [
       "<IPython.core.display.Markdown object>"
      ]
     },
     "metadata": {},
     "output_type": "display_data"
    },
    {
     "data": {
      "text/markdown": [
       ", e con la presenza animato i suoi soldati, che le grida di viva la repubblica fila per fila risuonando si mescolavano **terribilmente** col rimbombo dei cannoni, e con l''eco delle vicine montagne."
      ],
      "text/plain": [
       "<IPython.core.display.Markdown object>"
      ]
     },
     "metadata": {},
     "output_type": "display_data"
    },
    {
     "data": {
      "text/markdown": [
       "Gonfiò molto **terribilmente** , e si alzò oltre trenta piedi sopra l''usato livello."
      ],
      "text/plain": [
       "<IPython.core.display.Markdown object>"
      ]
     },
     "metadata": {},
     "output_type": "display_data"
    },
    {
     "data": {
      "text/markdown": [
       "Pur troppo, l'uomo può ingannarsi, e ingannarsi **terribilmente**, con molto minore stravaganza."
      ],
      "text/plain": [
       "<IPython.core.display.Markdown object>"
      ]
     },
     "metadata": {},
     "output_type": "display_data"
    },
    {
     "data": {
      "text/markdown": [
       "E dico un inganno divenuto più caro e prezioso che mai; giacchè, se prima il riconoscerli innocenti era per que' giudici un perder l'occasione di condannare, ormai sarebbe stato un trovarsi **terribilmente** colpevoli; e le frodi, le violazioni della legge, che sapevano d'aver commesse, ma che volevan creder giustificate dalla scoperta di così empi e funesti malfattori, non solo sarebbero ricomparse nel loro nudo e laido aspetto di frodi e di violazioni della legge, ma sarebbero comparse come produttrici d'un orrendo assassinio."
      ],
      "text/plain": [
       "<IPython.core.display.Markdown object>"
      ]
     },
     "metadata": {},
     "output_type": "display_data"
    },
    {
     "data": {
      "text/markdown": [
       "– ora cantava in una lingua e in una musica affatto nuova; – ora s''incrociava le mani sul petto, nascondendosi le pupille **terribilmente** sotto le ciglia."
      ],
      "text/plain": [
       "<IPython.core.display.Markdown object>"
      ]
     },
     "metadata": {},
     "output_type": "display_data"
    },
    {
     "data": {
      "text/markdown": [
       "Il loro tradimento spianò aie Mont''Albano, fortezze poste alla foce dell''Adige o ai confini del padovano, eransi arrese senza combattere, atterrite dalla rotta di Chiozza; che Loredo e Torre delle Bebe erano state prese pochi giorni dopo; e finalmente che il fortepersone di qualità della detta città d''Arras, ed altre persone di minor conto; e vennero talmente angustiate e così **terribilmente** tormentate, che gli uni confessarono essere loro accaduto tal caso, come abbiamo detto, e molti di più confessarono d''In conseguenza vi commettiamo ed ordiniamo colle presenti, di ordinare ed ingiungere agli ufficiali secolari della città di Brescia, di dare esecuzione ai processi che voi avrete giudicati, senza appello e senza che siano altrimenti riveduti, nel termine di sei giorni dopo esserne stati legittimamente richiesti, sotto pena di scomunica, e di tutte le censure ecclesiastiche, che incorreranno per la sola disubbidienza, senza nuova promulgazione[425]."
      ],
      "text/plain": [
       "<IPython.core.display.Markdown object>"
      ]
     },
     "metadata": {},
     "output_type": "display_data"
    },
    {
     "data": {
      "text/markdown": [
       "forse, se non chi lo prova, può intendere, – dalla potenza che gli fremeva dentro e rimanevasi, per disconforto dell'' Oggi , inoperosa al di fuori, CARLO BINI tra l''esser frainteso o profanato nell''espressione del suo pensiero, scelse il– ora cantava in una lingua e in una musica affatto nuova; – ora s''incrociava le mani sul petto, nascondendosi le pupille **terribilmente** sotto le ciglia."
      ],
      "text/plain": [
       "<IPython.core.display.Markdown object>"
      ]
     },
     "metadata": {},
     "output_type": "display_data"
    },
    {
     "data": {
      "text/markdown": [
       "persone di qualità della detta città d''Arras, ed altre persone di minor conto; e vennero talmente angustiate e così **terribilmente** tormentate, che gli uni confessarono essere loro accaduto tal caso, come abbiamo detto, e molti di più confessarono d''veduti i signori avere la parte loro de'' prodotti del delitto."
      ],
      "text/plain": [
       "<IPython.core.display.Markdown object>"
      ]
     },
     "metadata": {},
     "output_type": "display_data"
    },
    {
     "data": {
      "text/markdown": [
       "Comecchè messi in confusione, e **terribilmente** maltrattati, i Francesi, con la celerità d''una truppa ben disciplinata, ed esperimentata, furono in un subitoIl dovere di queste congreghe, ed assemblee una volta costituite, sarà di far giurare i capitoli della lega a tutti gl''Italiani ben disposti in favor della patria; di fomentare in ogni modo lo spirito publico, e quegli Italiani propensi alla guerra d''insurrezione ammettere alla taglia; dare l''impulso alle masse; far sorgere bande in ogni parte, e provvederle del bisognevole; in somma fare in segreto tutto quanto verrà nel capitolo del governo provvisionale da noi proposto, e sarà possibile nella loro critica posizione, di ben eseguire."
      ],
      "text/plain": [
       "<IPython.core.display.Markdown object>"
      ]
     },
     "metadata": {},
     "output_type": "display_data"
    },
    {
     "data": {
      "text/markdown": [
       "Comecchè messi in confusione, e **terribilmente** maltrattati, i Francesi, con la celerità d''una truppa ben disciplinata, ed esperimentata, furono in un subitoMa nessuno finora, fece quel gran segreto abbastanza chiaramente palese; molti lo lasciano travedere, ma scorgonsi da considerazioni personali trattenuti, epperciò, che il tradimento la principale cagione sia della rotta non puossi in coscienza conchiudere; perciocchè attribuire al tradimento una catastrofe così importante pell''Europa, e quello non bene spiegare, e chiaramente provare, lo stesso sarebbe, come se il destino si calunniasse; male si appongono coloro, che alla cattiva direzione di Napoleone l''attribuiscono, perchè tutti i migliori tattici vanno nell''asserire d''accordo, che meglio di quello che fù non poteva essere stata diretta, e che le male disposizioni erano realmente quelle date dal generale inglese, che fù quindi egli stesso abbastanza giusto, per commendare il talento dimostrato dal capitano avversario non meno, che la precisione dei movimenti, e la giustezza delle operazioni, a che dunque dovrassi questa terribile disfatta principalmente attribuire, se non a quel difetto inerente a tutti gli eserciti, quantunque composti di truppe vecchie ed agguerrite,  Finalmente un condottiero supremo, con quattro condottieri principali di provincia, venti di cantone, duecento di distretto, sarà il regolatore delle operazioni generali della guerra."
      ],
      "text/plain": [
       "<IPython.core.display.Markdown object>"
      ]
     },
     "metadata": {},
     "output_type": "display_data"
    },
    {
     "data": {
      "text/markdown": [
       "Ma ciò posto ed eccettuato francamente, ed eccettuate forse alcune vendette personali **terribilmente** fatte con sue parole immortali, Dante e il poema suo restan pure l'uomo e il libro incontrastabilmente piú virili ed austeri della nostra letteratura: virile l'uomo, nel saper sopportare le pubbliche, le segrete miserie dell'esiglio, nel non saper sopportare né le insolenti protezioni delle corti né le insolentissime grazie di sua cittá, nel sapere dalla vita attiva, che pur anteponeva ma gli era negata, passare alacre alla letteraria e farvisi grande: virile poi ed austero il poema in amore, in costumi, in politica, in istile, e per quella stessa accumulazione di pensieri che fa del leggerlo una fatica, ma la piú virile, la piú sana fra le esercitazioni somministrate dalle lettere nazionali ai molli animi italiani."
      ],
      "text/plain": [
       "<IPython.core.display.Markdown object>"
      ]
     },
     "metadata": {},
     "output_type": "display_data"
    },
    {
     "data": {
      "text/markdown": [
       "Medici si diede a fulminare **terribilmente** da'' suoi legni esso pure, e mentre i Ducali trovavansi in grave confusione perchè molte delle loro barche venivanoSedetevi qui: partiremo quando verrà dato il secondo segnale; intanto riscaldatevi e bevete, che fa d''uopo scacciare per tempo il gelo dalle ossa per fare una buona giornata."
      ],
      "text/plain": [
       "<IPython.core.display.Markdown object>"
      ]
     },
     "metadata": {},
     "output_type": "display_data"
    },
    {
     "data": {
      "text/markdown": [
       "Medici si diede a fulminare **terribilmente** da'' suoi legni esso pure, e mentre i Ducali trovavansi in grave confusione perchè molte delle loro barche venivanoDopo avere parlato a lungo e ripetute più volte le stesse cose?"
      ],
      "text/plain": [
       "<IPython.core.display.Markdown object>"
      ]
     },
     "metadata": {},
     "output_type": "display_data"
    },
    {
     "data": {
      "text/markdown": [
       "Passeggiando concitatamente innanzi indietro per il mio studio, come una belva feroce nella gabbia di ferro, gridai: S, s, deve essere in questo modo, anzi : ecco il vero concetto: non aveva trovata lespressione, ma il pensiero mi bolliva **terribilmente** nel cervello."
      ],
      "text/plain": [
       "<IPython.core.display.Markdown object>"
      ]
     },
     "metadata": {},
     "output_type": "display_data"
    },
    {
     "data": {
      "text/markdown": [
       "(dico unora, perch le famiglie del mezzogiorno quando fanno inviti, diventano **terribilmente** aristocratiche, e sono capaci di aspettare fino alla una), dunque bisogner tralasciare di far colazione: e poi, che si fa tutto il resto della giornata?"
      ],
      "text/plain": [
       "<IPython.core.display.Markdown object>"
      ]
     },
     "metadata": {},
     "output_type": "display_data"
    },
    {
     "data": {
      "text/markdown": [
       "Ne prendo il primo esempio che mi s'affaccia alla mente: quello d'un uomo eternamente celebre, non già per delle qualità straordinarie, ma per la parte tristamente e **terribilmente** principale, che fece in un periodo di quella rivoluzione: Robespierre."
      ],
      "text/plain": [
       "<IPython.core.display.Markdown object>"
      ]
     },
     "metadata": {},
     "output_type": "display_data"
    },
    {
     "data": {
      "text/markdown": [
       "Ma il signor Leoni l''hadell''India, a cui la povera Sacontala, occupata da tutt''altri pensieri, trascurò di far le dovute accoglienze, grida **terribilmente** :--E che?"
      ],
      "text/plain": [
       "<IPython.core.display.Markdown object>"
      ]
     },
     "metadata": {},
     "output_type": "display_data"
    },
    {
     "data": {
      "text/markdown": [
       "Ed hai tuttavia paura de'' morti, odell''India, a cui la povera Sacontala, occupata da tutt''altri pensieri, trascurò di far le dovute accoglienze, grida **terribilmente** :--E che?"
      ],
      "text/plain": [
       "<IPython.core.display.Markdown object>"
      ]
     },
     "metadata": {},
     "output_type": "display_data"
    }
   ],
   "source": [
    "find_sentences_with_keyword(document3, 'terribilmente')"
   ]
  },
  {
   "cell_type": "markdown",
   "id": "776fb7de",
   "metadata": {},
   "source": [
    "### Zeitraum 4: 1851-1900"
   ]
  },
  {
   "cell_type": "code",
   "execution_count": 28,
   "id": "39aa962d",
   "metadata": {},
   "outputs": [],
   "source": [
    "text4 = ''\n",
    "for i in df4.text:\n",
    "    text4 += i"
   ]
  },
  {
   "cell_type": "code",
   "execution_count": 29,
   "id": "fe5cbd4a",
   "metadata": {},
   "outputs": [],
   "source": [
    "document4 = nltk.sent_tokenize(text4)"
   ]
  },
  {
   "cell_type": "code",
   "execution_count": 30,
   "id": "12929ec9",
   "metadata": {},
   "outputs": [
    {
     "data": {
      "text/markdown": [
       "Ma ciò posto ed eccettuato francamente, ed eccettuate forse alcune vendette personali **terribilmente** fatte con sue parole immortali, Dante e il poema suo restan pure l''uomo e il libro incontrastabilmente piú virili edNoi non celammo l''error politico di Dante, che fu di lasciare la propria parte buona e nazionale perché si guastava in esagerata, straniera e sciocca, di rivolgersi per ira alla parte contraria ed essenzialmente straniera; ed aggiungeremo qui ch''ei pose il colmo a tale errore, protestando di continuar nella moderazione, affettando comune disprezzo alle due parti, mentre rivolgevasi a propugnare l''imperio, e nel poema, e in quel suo libro, del resto mediocre, Della monarchia."
      ],
      "text/plain": [
       "<IPython.core.display.Markdown object>"
      ]
     },
     "metadata": {},
     "output_type": "display_data"
    },
    {
     "data": {
      "text/markdown": [
       "Ma ciò posto ed eccettuato francamente, ed eccettuate forse alcune vendette personali **terribilmente** fatte con sue parole immortali, Dante e il poema suo restan pure l''uomo e il libro incontrastabilmente piú virili edma a sè stessi; e quando loro è chiesta una spiegazione, danno invece una bugia; e invece d''una correzione una bussa o una paura ."
      ],
      "text/plain": [
       "<IPython.core.display.Markdown object>"
      ]
     },
     "metadata": {},
     "output_type": "display_data"
    },
    {
     "data": {
      "text/markdown": [
       "Uno mostra con aria addolorata la guancia, che poco innanzi era sanissima, **terribilmente** gonfiata per un mal di denti; un altro si è slogata una congiuntura e la mostra orribilmente contratta; un terzo alza l'indice della mano destra fasciato di cenci, e dice d'esserselo tagliato fino all'osso; altri infine sostengono audacemente d'aver già consegnato il componimento e che deve essere smarrito, e vanno attorno cercandolo."
      ],
      "text/plain": [
       "<IPython.core.display.Markdown object>"
      ]
     },
     "metadata": {},
     "output_type": "display_data"
    },
    {
     "data": {
      "text/markdown": [
       "Ma la mia gioia fu presto scemata, vedendo l'aspetto di Fantasio **terribilmente** cambiato."
      ],
      "text/plain": [
       "<IPython.core.display.Markdown object>"
      ]
     },
     "metadata": {},
     "output_type": "display_data"
    },
    {
     "data": {
      "text/markdown": [
       "Quell'aggiunta sulla dottrina luterana e calviniana della giustificazione per la sola fede, e la quale ini pareva costi non dover richiedere che un cenno, e poche nude citazioni, mi s'è allungata **terribilmente**, non tanto per quello che m'è riuscito di scrivere, quanto per quello che ho dovuto leggere, cioè mi s'è allungata in quanto al tempo da spenderci, molto più che in quanto alla sda estensione."
      ],
      "text/plain": [
       "<IPython.core.display.Markdown object>"
      ]
     },
     "metadata": {},
     "output_type": "display_data"
    },
    {
     "data": {
      "text/markdown": [
       "Egli morde **terribilmente** all'amo e fa delle vere prodezze."
      ],
      "text/plain": [
       "<IPython.core.display.Markdown object>"
      ]
     },
     "metadata": {},
     "output_type": "display_data"
    },
    {
     "data": {
      "text/markdown": [
       "La sera stessa, l'arciprete di Revigliasco, certo don Rinaldi, molto domestico di casa, mi trasse in disparte e mi disse che mio padre era **terribilmente** in collera, che non mi faceva degno della sua presenza; e che, come parroco del luogo, doveva avvertirmi essere io incorso nella scomunica, perch qui percutiet clericum, suadente diabolo ecc."
      ],
      "text/plain": [
       "<IPython.core.display.Markdown object>"
      ]
     },
     "metadata": {},
     "output_type": "display_data"
    },
    {
     "data": {
      "text/markdown": [
       "La vanit timida lavorava **terribilmente** in me il giorno che pubblicai il Fieramosca."
      ],
      "text/plain": [
       "<IPython.core.display.Markdown object>"
      ]
     },
     "metadata": {},
     "output_type": "display_data"
    },
    {
     "data": {
      "text/markdown": [
       "Ma, almeno per variet, trovatene delle nuove, che ve n'avverto,  **terribilmente** monotono il vostro partito."
      ],
      "text/plain": [
       "<IPython.core.display.Markdown object>"
      ]
     },
     "metadata": {},
     "output_type": "display_data"
    },
    {
     "data": {
      "text/markdown": [
       "I delitti che avevano disonorato il procelloso tribunato di Shaftesbury, erano stati **terribilmente** espiati."
      ],
      "text/plain": [
       "<IPython.core.display.Markdown object>"
      ]
     },
     "metadata": {},
     "output_type": "display_data"
    },
    {
     "data": {
      "text/markdown": [
       "I delitti che avevano disonorato il procelloso tribunato di Shaftesbury, erano stati **terribilmente** espiati."
      ],
      "text/plain": [
       "<IPython.core.display.Markdown object>"
      ]
     },
     "metadata": {},
     "output_type": "display_data"
    },
    {
     "data": {
      "text/markdown": [
       "- Avendo esso, al primo interrogatorio, per le sue buone ragioni, confessato il fatto senza titubanza, e in conseguenza di ciò, essendo stato inviato, benchè in carrozza, perchè pagata da lui, al palazzo del capitano di giustizia, quando colà ebbe a subire il secondo interrogatorio, la sua condizione si venne **terribilmente** peggiorando."
      ],
      "text/plain": [
       "<IPython.core.display.Markdown object>"
      ]
     },
     "metadata": {},
     "output_type": "display_data"
    },
    {
     "data": {
      "text/markdown": [
       "Non mai s'era veduta tanta severità contro una conventicola che per tanti anni era stata, se non permessa, tollerata; onde pareva che tutto in que' giorni volesse piegar **terribilmente** al peggio."
      ],
      "text/plain": [
       "<IPython.core.display.Markdown object>"
      ]
     },
     "metadata": {},
     "output_type": "display_data"
    },
    {
     "data": {
      "text/markdown": [
       "Egli era piantato male, ed aveva fatto un passo falso, e una passione gli lavorava **terribilmente** di dentro; una passione di cui non aveva mai subìto il dominio in tutta la sua vita."
      ],
      "text/plain": [
       "<IPython.core.display.Markdown object>"
      ]
     },
     "metadata": {},
     "output_type": "display_data"
    },
    {
     "data": {
      "text/markdown": [
       "Ah se il mondo fosse come io vorrei; se fosse vero che, siccome talora fantastico, la virtù potesse essere un prodotto della volontà costante di chi la sente e la vede; e fosse errore il credere, darsi nature così **terribilmente** guaste da tornare impossibile il placarle pur sotto i più beneficj influssi... che consolazione sarebbe!..."
      ],
      "text/plain": [
       "<IPython.core.display.Markdown object>"
      ]
     },
     "metadata": {},
     "output_type": "display_data"
    },
    {
     "data": {
      "text/markdown": [
       "Ma se l'espressione era comica, conteneva nella sostanza qualche cosa di **terribilmente** profetico, che potea dar da riflettere agli uomini serj."
      ],
      "text/plain": [
       "<IPython.core.display.Markdown object>"
      ]
     },
     "metadata": {},
     "output_type": "display_data"
    },
    {
     "data": {
      "text/markdown": [
       "Il colloquio adunque fu sospeso, e per più di un'ora il conte dovette adattarsi a parlar di cose, che deviandolo dal suo pensiero fisso, lo annojavano **terribilmente**."
      ],
      "text/plain": [
       "<IPython.core.display.Markdown object>"
      ]
     },
     "metadata": {},
     "output_type": "display_data"
    },
    {
     "data": {
      "text/markdown": [
       "Rossini ha un faccione sì paffuto e lucente, che non si sa capire come abbia potuto far piangere Desdemona a quel modo, e dar tinte così **terribilmente** tragiche a tutto il terzo atto dell'Otello."
      ],
      "text/plain": [
       "<IPython.core.display.Markdown object>"
      ]
     },
     "metadata": {},
     "output_type": "display_data"
    },
    {
     "data": {
      "text/markdown": [
       "La contessa aveva la testa abbandonata sul guanciale, e di traverso fissava uno sguardo lento e profondo in volto al Baroggi, che, tenendo il labbro sulla mano di lei, la fissava **terribilmente** immoto."
      ],
      "text/plain": [
       "<IPython.core.display.Markdown object>"
      ]
     },
     "metadata": {},
     "output_type": "display_data"
    },
    {
     "data": {
      "text/markdown": [
       "Ed anco qui nel conto non entrò il lupo, perchè il signor Clemente cheto cheto, presi seco duecento uomini, aveva passato il Golo sul ponte del Lago Benedetto, e colà messo su in fretta alcune trincere faceva mostra di finire quanti si attentassero di avventurarci il piede: e poichè nei Francesi non è per certo l'ardire quello che manca, ci si provarono, e non una volta, nè due: però toccarono troppi morti per non invilirsi; al fiume non avevano avvertito molto; che sguazzarlo mentre lo cavalcava un ponte parve inonorato; adesso lo arieno fatto più che volentieri, ma lo videro **terribilmente** gonfio, nè minacciatore di morte meno sicura, che il ponte; e il tempo a deliberare stringeva; perchè dai parapetti côrsi fioccavano moschettate fitte come grandine."
      ],
      "text/plain": [
       "<IPython.core.display.Markdown object>"
      ]
     },
     "metadata": {},
     "output_type": "display_data"
    },
    {
     "data": {
      "text/markdown": [
       "Là su213 quel vertice, benchè il fiato gli uscisse affannoso dal petto e le tempie e i polsi gli battessero **terribilmente**, Altobello volse gli occhi dintorno per contemplare lo spettacolo che gli si parava davanti."
      ],
      "text/plain": [
       "<IPython.core.display.Markdown object>"
      ]
     },
     "metadata": {},
     "output_type": "display_data"
    },
    {
     "data": {
      "text/markdown": [
       "Quell'uomo era il nembo che si condensa per esplodere **terribilmente**."
      ],
      "text/plain": [
       "<IPython.core.display.Markdown object>"
      ]
     },
     "metadata": {},
     "output_type": "display_data"
    },
    {
     "data": {
      "text/markdown": [
       "Il governo austriaco infatti ne fu **terribilmente** colpito."
      ],
      "text/plain": [
       "<IPython.core.display.Markdown object>"
      ]
     },
     "metadata": {},
     "output_type": "display_data"
    },
    {
     "data": {
      "text/markdown": [
       "Il Dal Poggio a quest'intimazione si sentí montar il sangue alla testa, e alzando **terribilmente** la voce, corse all'insulto: - Siete un miserabile furfante, - gridò - Questo vi valga come uno schiaffo sul viso."
      ],
      "text/plain": [
       "<IPython.core.display.Markdown object>"
      ]
     },
     "metadata": {},
     "output_type": "display_data"
    },
    {
     "data": {
      "text/markdown": [
       "Il suo naso **terribilmente** rosso - diventava un carbone infiammato per beatitudine."
      ],
      "text/plain": [
       "<IPython.core.display.Markdown object>"
      ]
     },
     "metadata": {},
     "output_type": "display_data"
    },
    {
     "data": {
      "text/markdown": [
       "– Al contrario, ne ho sofferto **terribilmente** !"
      ],
      "text/plain": [
       "<IPython.core.display.Markdown object>"
      ]
     },
     "metadata": {},
     "output_type": "display_data"
    },
    {
     "data": {
      "text/markdown": [
       "E per giunta una persona così **terribilmente** virtuosa, che tutti sono in obbligo d''idolatrarla, ammirarla e servirla."
      ],
      "text/plain": [
       "<IPython.core.display.Markdown object>"
      ]
     },
     "metadata": {},
     "output_type": "display_data"
    },
    {
     "data": {
      "text/markdown": [
       "ella si rizzò, prese risoluta un foglio, e scrisse con una febbrile rapidità che mostrava come profondamente, e quasi **terribilmente** , fosse scossa in tutto il suo essere, anima e corpo, e si piegasse, vacillasse sotto il peso delle speranze, delle ansielasciati rivedere.-- Lamberto prese verso S. Marco; e dove poco prima il domandar di sua madre gli metteva si può dir terrore , adesso invece tutto mutato per le parole di Niccolò, non vedeva l''ora di trovarsi con chi gli parlasse di lei e potesse– Calmatevi, figliuola mia, – fece amorevolmente il dottore – io non volevo spaventarvi."
      ],
      "text/plain": [
       "<IPython.core.display.Markdown object>"
      ]
     },
     "metadata": {},
     "output_type": "display_data"
    },
    {
     "data": {
      "text/markdown": [
       "chiederlo a Bella, ma non c''è stato caso che mi desse retta; quando è occupata delle sue gale, non conosce altro.... Oh, è **terribilmente** egoista."
      ],
      "text/plain": [
       "<IPython.core.display.Markdown object>"
      ]
     },
     "metadata": {},
     "output_type": "display_data"
    },
    {
     "data": {
      "text/markdown": [
       "--Oh, ecco Fanfulla!--Ben levato Fra Bombarda!--Dove si va così perun momento a guardarci con curiosità; io, s''intende, non ne facevo caso, ma la mia dama sembrava credere che ne fossi **terribilmente** mortificato, e, passate alfine tutte quante, ha rilodato il mio \"spirito di cortesia\": sua espressione favorita."
      ],
      "text/plain": [
       "<IPython.core.display.Markdown object>"
      ]
     },
     "metadata": {},
     "output_type": "display_data"
    },
    {
     "data": {
      "text/markdown": [
       "A questo punto, rizzatosi, aperse l''involto, e trattane una catena d''oro, poi alcune carte, che eran benserviti tutti in sua lode, di Filippino e d''Andrea Doria, ed una tratta di cambio per la taglia del conte d''Aguilar che aveva fatto prigione nella battaglia di Salerno, tenne la spada e le carte in mano un momento, poi gettando a terra ogni cosa, disse, scrollando il capo con un sorriso sinistro che fece agghiacciar Laudomia:  , ci fu il marito della zia Sara.... Ah, sembrava un uomo tanto ammodo quando Sarina lo sposò, e finì col truffare il babbo **terribilmente** , sicchè fu costretto a ipotecare la sua casa di Via Alta, e da ultimo a cederla!..."
      ],
      "text/plain": [
       "<IPython.core.display.Markdown object>"
      ]
     },
     "metadata": {},
     "output_type": "display_data"
    },
    {
     "data": {
      "text/markdown": [
       "– Al contrario, ne ho sofferto **terribilmente** !"
      ],
      "text/plain": [
       "<IPython.core.display.Markdown object>"
      ]
     },
     "metadata": {},
     "output_type": "display_data"
    },
    {
     "data": {
      "text/markdown": [
       "Sappiate però che i dolori più crudeli sono stati quelli del sentimento: sì, del sentimento, ch''è la parte piùella si rizzò, prese risoluta un foglio, e scrisse con una febbrile rapidità che mostrava come profondamente, e quasi **terribilmente** , fosse scossa in tutto il suo essere, anima e corpo, e si piegasse, vacillasse sotto il peso delle speranze, delle ansieSpero che se mai mi marito, – esclamò la ragazza – non sarà con uno che abbia una figlia cieca!"
      ],
      "text/plain": [
       "<IPython.core.display.Markdown object>"
      ]
     },
     "metadata": {},
     "output_type": "display_data"
    },
    {
     "data": {
      "text/markdown": [
       "E per giunta una persona così **terribilmente** virtuosa, che tutti sono in obbligo d''idolatrarla, ammirarla e servirla."
      ],
      "text/plain": [
       "<IPython.core.display.Markdown object>"
      ]
     },
     "metadata": {},
     "output_type": "display_data"
    },
    {
     "data": {
      "text/markdown": [
       "– Io non ho da servirla; cotesto è l''ufficiomuoversi; l''avvicinarsi di quell''ora desiderata prima con tanta smania, ora le metteva in cuore un indefinibile terrore , sentiva farsele più rapido il batter de'' polsi, mille sospetti, mille paure le si affollavano nella fantasia, orachiederlo a Bella, ma non c''è stato caso che mi desse retta; quando è occupata delle sue gale, non conosce altro.... Oh, è **terribilmente** egoista."
      ],
      "text/plain": [
       "<IPython.core.display.Markdown object>"
      ]
     },
     "metadata": {},
     "output_type": "display_data"
    },
    {
     "data": {
      "text/markdown": [
       "Sceglie da sè.... Ma essa ha molto buon gusto, e io, invece, punto....un momento a guardarci con curiosità; io, s''intende, non ne facevo caso, ma la mia dama sembrava credere che ne fossi **terribilmente** mortificato, e, passate alfine tutte quante, ha rilodato il mio \"spirito di cortesia\": sua espressione favorita."
      ],
      "text/plain": [
       "<IPython.core.display.Markdown object>"
      ]
     },
     "metadata": {},
     "output_type": "display_data"
    },
    {
     "data": {
      "text/markdown": [
       "–, ci fu il marito della zia Sara.... Ah, sembrava un uomo tanto ammodo quando Sarina lo sposò, e finì col truffare il babbo **terribilmente** , sicchè fu costretto a ipotecare la sua casa di Via Alta, e da ultimo a cederla!..."
      ],
      "text/plain": [
       "<IPython.core.display.Markdown object>"
      ]
     },
     "metadata": {},
     "output_type": "display_data"
    },
    {
     "data": {
      "text/markdown": [
       "– La notte è fredda, **terribilmente** .... Che vi sentireste in cuore se domattina la trovassero morta gelata sulla soglia della vostra casa?"
      ],
      "text/plain": [
       "<IPython.core.display.Markdown object>"
      ]
     },
     "metadata": {},
     "output_type": "display_data"
    },
    {
     "data": {
      "text/markdown": [
       "– La notte è fredda, **terribilmente** .... Che vi sentireste in cuore se domattina la trovassero morta gelata sulla soglia della vostra casa?"
      ],
      "text/plain": [
       "<IPython.core.display.Markdown object>"
      ]
     },
     "metadata": {},
     "output_type": "display_data"
    },
    {
     "data": {
      "text/markdown": [
       "L'uomo vestito di velluto avea il braccio e le reni solidi come bronzo, e molta abilità in questa maniera di scherma, ciò che gli faceva menar colpi che calavano giù rombando **terribilmente**; il giovane però, se non avea la forza muscolare del suo avversario, lo vinceva nell'elasticità e sveltezza dei movimenti e nel sangue freddo inalterabile, che in lui era uno strano effetto della collera, con cui aggiustava i suoi colpi e parava quelli che gli venivano."
      ],
      "text/plain": [
       "<IPython.core.display.Markdown object>"
      ]
     },
     "metadata": {},
     "output_type": "display_data"
    },
    {
     "data": {
      "text/markdown": [
       "Datemi un giorno solo del mio bollor giovanile, perché possa scrivere a caratteri di fuoco una maledizione che abbruci gli occhi di quelli che oseranno leggerla, e rimanga **terribilmente** famosa fra i posteri, come il Mane Tecel Fares del convito di Baldassare!"
      ],
      "text/plain": [
       "<IPython.core.display.Markdown object>"
      ]
     },
     "metadata": {},
     "output_type": "display_data"
    },
    {
     "data": {
      "text/markdown": [
       "Quando il suo liberto spagnuolo venne ad annunziargli che sua moglie toccava le mura di Gerusalemme, Pilato era **terribilmente** occupato."
      ],
      "text/plain": [
       "<IPython.core.display.Markdown object>"
      ]
     },
     "metadata": {},
     "output_type": "display_data"
    },
    {
     "data": {
      "text/markdown": [
       "Alzando il capo, vidi nel vano della porta Pilato in piedi, gli occhi fissi e divaricati, **terribilmente** pallido, immobile."
      ],
      "text/plain": [
       "<IPython.core.display.Markdown object>"
      ]
     },
     "metadata": {},
     "output_type": "display_data"
    },
    {
     "data": {
      "text/markdown": [
       "Diede in un grido ed accompagnata dai vicini che le facevano visita, si avanzò verso il Rabbì che mi parve **terribilmente** preoccupato."
      ],
      "text/plain": [
       "<IPython.core.display.Markdown object>"
      ]
     },
     "metadata": {},
     "output_type": "display_data"
    },
    {
     "data": {
      "text/markdown": [
       "In quella entrava il vecchio rigattiere ebreo, la faccia **terribilmente** sconvolta; stampata entro la mente l'immagine del volto di sua figlia annegata che aveva visto poc'anzi."
      ],
      "text/plain": [
       "<IPython.core.display.Markdown object>"
      ]
     },
     "metadata": {},
     "output_type": "display_data"
    },
    {
     "data": {
      "text/markdown": [
       "Gli si erano allividite e contratte vieppi le sue guancie, e il suo sguardo non aveva potuto reggere a quello avvampante di Gina; ma il furore in lui non era stato tardo a sovraggiungere, si slanci su di lei, la afferr alle braccia, le serr i polsi e scuotendola senza un riguardo, rugg, accostando a quello di lei il suo volto **terribilmente** impresso dall'ira: - Sciagurata!"
      ],
      "text/plain": [
       "<IPython.core.display.Markdown object>"
      ]
     },
     "metadata": {},
     "output_type": "display_data"
    },
    {
     "data": {
      "text/markdown": [
       "Era s **terribilmente** turbato che Lisa comprese di botto una suprema sciagura essere avvenuta; venne innanzi al padre bianca pi che cadavere, le labbra illividite, e senza potere articolar parola fiss con ansia il volto del capitano, ponendogli la destra sopra il braccio."
      ],
      "text/plain": [
       "<IPython.core.display.Markdown object>"
      ]
     },
     "metadata": {},
     "output_type": "display_data"
    },
    {
     "data": {
      "text/markdown": [
       "– Fra quelle angoscie spunta il mattino; se il tempo ha sensibilmente scemata la debolezza fisica, vieppiù ha aumentata l''agitazioneche vi guardano immobili, che si guardano immobili--quelle delle due lineette che ne troncano inesorabilmente, **terribilmente** le cime--quell''arco inferiore, sul quale la lettera oscilla e si dondola sogghignando--e nell''interno quel nero,Guardate, il morto è un francese, è un guascone, e si sono battuti per una costoletta; c''è qui il suo collega Pirolet a confermarlo; non bisogna permettere che questo marrano d''inglese se ne vada via liscio liscio: facciamo le cose per bene, conduciamolo al Commissario di polizia."
      ],
      "text/plain": [
       "<IPython.core.display.Markdown object>"
      ]
     },
     "metadata": {},
     "output_type": "display_data"
    },
    {
     "data": {
      "text/markdown": [
       "Era vero--bisognava crederlo--era **terribilmente** vero!"
      ],
      "text/plain": [
       "<IPython.core.display.Markdown object>"
      ]
     },
     "metadata": {},
     "output_type": "display_data"
    },
    {
     "data": {
      "text/markdown": [
       "Era vero--bisognava crederlo--era **terribilmente** vero!"
      ],
      "text/plain": [
       "<IPython.core.display.Markdown object>"
      ]
     },
     "metadata": {},
     "output_type": "display_data"
    },
    {
     "data": {
      "text/markdown": [
       "che vi guardano immobili, che si guardano immobili--quelle delle due lineette che ne troncano inesorabilmente, **terribilmente** le cime--quell''arco inferiore, sul quale la lettera oscilla e si dondola sogghignando--e nell''interno quel nero,un paese dove la povertà è disprezzata?"
      ],
      "text/plain": [
       "<IPython.core.display.Markdown object>"
      ]
     },
     "metadata": {},
     "output_type": "display_data"
    },
    {
     "data": {
      "text/markdown": [
       "Una cosa mi conforta e mi inorgoglisce, il sentimento della mia freddezza- perché il mio cuore è freddo, **terribilmente** freddo."
      ],
      "text/plain": [
       "<IPython.core.display.Markdown object>"
      ]
     },
     "metadata": {},
     "output_type": "display_data"
    },
    {
     "data": {
      "text/markdown": [
       "Una cosa mi conforta e mi inorgoglisce, il sentimento della mia freddezza — perché il mio cuore è freddo, **terribilmente** freddo."
      ],
      "text/plain": [
       "<IPython.core.display.Markdown object>"
      ]
     },
     "metadata": {},
     "output_type": "display_data"
    },
    {
     "data": {
      "text/markdown": [
       "Né qui è tutto - continuò il vecchio corrugando **terribilmente** la fronte; - quel demonio trasse fuori di tasca una funicella e colla fredda e spietata tranquillità del carnefice che applica la tortura assicurò alle verdi piante le membra della vittima a cui intanto ripeteva: \"Vedi Alba!"
      ],
      "text/plain": [
       "<IPython.core.display.Markdown object>"
      ]
     },
     "metadata": {},
     "output_type": "display_data"
    },
    {
     "data": {
      "text/markdown": [
       "Batte **terribilmente** il Messo della Giustizia, più **terribilmente** il mio cuore."
      ],
      "text/plain": [
       "<IPython.core.display.Markdown object>"
      ]
     },
     "metadata": {},
     "output_type": "display_data"
    },
    {
     "data": {
      "text/markdown": [
       "Iddio nel Cielo puòrumore di sorte, se togli uno solo..... Qual cosa rompe l''aere silenzioso così forsennatamente squillante, così **terribilmente** selvaggio?"
      ],
      "text/plain": [
       "<IPython.core.display.Markdown object>"
      ]
     },
     "metadata": {},
     "output_type": "display_data"
    },
    {
     "data": {
      "text/markdown": [
       "che lo traggono a disperare, e l''altro che gli arresta la mano; tutta quella notte infine offrono un tal che di sì **terribilmente** vero, misterioso e solenne, che a noi sembra poco il dire che negli altri lavori di simil genere non v''ha brano che possache non credeva di poter più attenere, dove aveva tante volte fantasticato un avvenire, divenuto ora impossibile."
      ],
      "text/plain": [
       "<IPython.core.display.Markdown object>"
      ]
     },
     "metadata": {},
     "output_type": "display_data"
    },
    {
     "data": {
      "text/markdown": [
       "Era **terribilmente** in forse di Fermo: Agnese non le aveva potuto dire se non quello ch''ella stessa sapeva confusamente; che Fermo, cioè,di farsi udire le trombe che avevan sonata la partenza d''un reggimento, un nuovo squillo dall''altra parte annunziava **terribilmente** l''arrivo di altra simile, anzi peggiore brigata."
      ],
      "text/plain": [
       "<IPython.core.display.Markdown object>"
      ]
     },
     "metadata": {},
     "output_type": "display_data"
    },
    {
     "data": {
      "text/markdown": [
       "I sopravvegnenti, trovando la distruzione dove avrebbero volutoa porsi a canto una parete, tenendo colla destra il cane e il grilletto, colla sinistra la canna d''una sua carabina, **terribilmente** famosa al pari di lui."
      ],
      "text/plain": [
       "<IPython.core.display.Markdown object>"
      ]
     },
     "metadata": {},
     "output_type": "display_data"
    },
    {
     "data": {
      "text/markdown": [
       "Un fischio, un salto alla soglia, una sguardata, una mira, uno scoppio, il bargello per terra,contegno sentiva talvolta orrore e disprezzo, ne riceveva una specie di scandalo; ma questi sentimenti ricadevano **terribilmente** su la sua coscienza, perchè ad ogni volta Geltrude era costretta a ricordarsi che dessa era quella che aveva fatto fararmi, lo abbandonarono mendico a tapinare su la pubblica via."
      ],
      "text/plain": [
       "<IPython.core.display.Markdown object>"
      ]
     },
     "metadata": {},
     "output_type": "display_data"
    },
    {
     "data": {
      "text/markdown": [
       ", l''innominato pensò subito a rispondere a questa che s''era fatta lui stesso, o piuttosto quel nuovo lui, che cresciuto **terribilmente** a un tratto, sorgeva come a giudicare l''antico."
      ],
      "text/plain": [
       "<IPython.core.display.Markdown object>"
      ]
     },
     "metadata": {},
     "output_type": "display_data"
    },
    {
     "data": {
      "text/markdown": [
       "Là su quel vertice, benchè il fiato gli uscisse affannoso dal petto e le tempie e i polsi gli battessero **terribilmente** , Altobello volse gli occhi dintorno per contemplare lo spettacolo che gli si parava davanti."
      ],
      "text/plain": [
       "<IPython.core.display.Markdown object>"
      ]
     },
     "metadata": {},
     "output_type": "display_data"
    },
    {
     "data": {
      "text/markdown": [
       "tardi questo essere stato astuto consiglio per ispossarmi: cessato che io mi ebbi di parlare, ella, ineccitabile, a me **terribilmente** palpitante rispose in questi accenti: – Arria non ha potuto resistere alla voce che le venne dal paradiso disotto, ma egli invelenito si difende a morsi, a calci, e non lascia presa."
      ],
      "text/plain": [
       "<IPython.core.display.Markdown object>"
      ]
     },
     "metadata": {},
     "output_type": "display_data"
    },
    {
     "data": {
      "text/markdown": [
       "Alla fine liberano da morte sicura la Bianca, **terribilmente** malconcia; aveva gli occhi fuori come gatto arrabbiato; le impronte sanguigne intorno al collo le durarono più di un, trassero fuori delle tasche il bowieknife, ovvero _coltello piegatoio_, che gli americani maneggiano con maestria **terribilmente** celebre: non era tempo di gingillarsi cotesto; però Filippo e Curio, recatesi in mano le rivoltelle a sei colpi, le, e, senza punto fermarcisi, quinci sul lido, dove agitata prese a fare la lionessa."
      ],
      "text/plain": [
       "<IPython.core.display.Markdown object>"
      ]
     },
     "metadata": {},
     "output_type": "display_data"
    },
    {
     "data": {
      "text/markdown": [
       "La solennità dell''ora, la voce **terribilmente** arcana delle acque, anche quando addormentate respirano, la distesa dei cieli, la dimostrazione parlante, continuaDi questo prete tra poco."
      ],
      "text/plain": [
       "<IPython.core.display.Markdown object>"
      ]
     },
     "metadata": {},
     "output_type": "display_data"
    },
    {
     "data": {
      "text/markdown": [
       "sempre grondante sangue cagliato, con le chiome grommose; ma poi mutata vicenda toccò al capo di Tuda comparire **terribilmente** miserabile, mentre la testa del prete Guercino si affacciava ora con la sua bella chierica candida come fiore di latte,La vanità contratta con l''avvilimento, e la miseria e l''avarizia fanno da mezzane.--Non lo prendete a male, Biagio; ma voi quando date un soldo compiacete a voi stesso, e non vi muove la carità del prossimo."
      ],
      "text/plain": [
       "<IPython.core.display.Markdown object>"
      ]
     },
     "metadata": {},
     "output_type": "display_data"
    },
    {
     "data": {
      "text/markdown": [
       "; che sguazzarlo mentre lo cavalcava un ponte parve inonorato; adesso lo arieno fatto più che volentieri, ma lo videro **terribilmente** gonfio, nè minacciatore di morte meno sicura, che il ponte; e il tempo a deliberare stringeva; perchè dai parapetti\"Divo Cesare, non è venuto."
      ],
      "text/plain": [
       "<IPython.core.display.Markdown object>"
      ]
     },
     "metadata": {},
     "output_type": "display_data"
    },
    {
     "data": {
      "text/markdown": [
       "abbassate la spada, ascoltatemi per l''amore di Dio, in nome dei nostri morti genitori!--Non rammentarli, mi risponde **terribilmente** Berardo, tu ne sei diventato indegno dal momento che ti facesti traditore.--Traditore io!"
      ],
      "text/plain": [
       "<IPython.core.display.Markdown object>"
      ]
     },
     "metadata": {},
     "output_type": "display_data"
    },
    {
     "data": {
      "text/markdown": [
       "dignità di assioma nella scienza ha voluto aggravare la tassa del caffè, del tè, e degli spiriti, e tre vide percossa **terribilmente** questa rendita della finanza; nella sola Irlanda scapitò l''erario centodiciassette milioni, e– Oh!"
      ],
      "text/plain": [
       "<IPython.core.display.Markdown object>"
      ]
     },
     "metadata": {},
     "output_type": "display_data"
    },
    {
     "data": {
      "text/markdown": [
       "Il figliuolo di messere Bono Boni appena conobbe che il danaro comprava il vino e la meretrice, non volle aspettare laa porsi a canto una parete, tenendo colla destra il cane e il grilletto, colla sinistra la canna d''una sua carabina, **terribilmente** famosa al pari di lui."
      ],
      "text/plain": [
       "<IPython.core.display.Markdown object>"
      ]
     },
     "metadata": {},
     "output_type": "display_data"
    },
    {
     "data": {
      "text/markdown": [
       "Chiamavasi il primo Laviron capitano di stato maggiore presso il Garibaldi, il quale un dì avvampante di sdegno per le spesse morti cagionate dai Cacciatori di Vincennes salta sul parapetto, e additando la croce della legione di onore, che gli, l''innominato pensò subito a rispondere a questa che s''era fatta lui stesso, o piuttosto quel nuovo lui, che cresciuto **terribilmente** a un tratto, sorgeva come a giudicare l''antico."
      ],
      "text/plain": [
       "<IPython.core.display.Markdown object>"
      ]
     },
     "metadata": {},
     "output_type": "display_data"
    },
    {
     "data": {
      "text/markdown": [
       "Dei casi del marchesecontegno sentiva talvolta orrore e disprezzo, ne riceveva una specie di scandalo; ma questi sentimenti ricadevano **terribilmente** su la sua coscienza, perchè ad ogni volta Geltrude era costretta a ricordarsi che dessa era quella che aveva fatto farche lo traggono a disperare, e l''altro che gli arresta la mano; tutta quella notte infine offrono un tal che di sì **terribilmente** vero, misterioso e solenne, che a noi sembra poco il dire che negli altri lavori di simil genere non v''ha brano che possache non credeva di poter più attenere, dove aveva tante volte fantasticato un avvenire, divenuto ora impossibile."
      ],
      "text/plain": [
       "<IPython.core.display.Markdown object>"
      ]
     },
     "metadata": {},
     "output_type": "display_data"
    },
    {
     "data": {
      "text/markdown": [
       "Era **terribilmente** in forse di Fermo: Agnese non le aveva potuto dire se non quello ch''ella stessa sapeva confusamente; che Fermo, cioè,di farsi udire le trombe che avevan sonata la partenza d''un reggimento, un nuovo squillo dall''altra parte annunziava **terribilmente** l''arrivo di altra simile, anzi peggiore brigata."
      ],
      "text/plain": [
       "<IPython.core.display.Markdown object>"
      ]
     },
     "metadata": {},
     "output_type": "display_data"
    },
    {
     "data": {
      "text/markdown": [
       "La barbarie dilaga **terribilmente** e ci trascina tutti senza che quasi ce ne accorgiamo."
      ],
      "text/plain": [
       "<IPython.core.display.Markdown object>"
      ]
     },
     "metadata": {},
     "output_type": "display_data"
    },
    {
     "data": {
      "text/markdown": [
       "sempre grondante sangue cagliato, con le chiome grommose; ma poi mutata vicenda toccò al capo di Tuda comparire **terribilmente** miserabile, mentre la testa del prete Guercino si affacciava ora con la sua bella chierica candida come fiore di latte,al nostro occhio morente a guisa di nuvola, finchè appressandoci sveli al nostro sguardo le sue palme e i suoi fiori."
      ],
      "text/plain": [
       "<IPython.core.display.Markdown object>"
      ]
     },
     "metadata": {},
     "output_type": "display_data"
    },
    {
     "data": {
      "text/markdown": [
       "La barbarie dilaga **terribilmente** e ci trascina tutti senza che quasi ce ne accorgiamo."
      ],
      "text/plain": [
       "<IPython.core.display.Markdown object>"
      ]
     },
     "metadata": {},
     "output_type": "display_data"
    },
    {
     "data": {
      "text/markdown": [
       "Il Nencioni, il Verga, la Serao, se per caso cadranno loro sotto glitardi questo essere stato astuto consiglio per ispossarmi: cessato che io mi ebbi di parlare, ella, ineccitabile, a me **terribilmente** palpitante rispose in questi accenti: – Arria non ha potuto resistere alla voce che le venne dal paradiso di– Or bè, don Antonio, voi cominciando da domani udrete la mia confessione generale, perchè tra quindici giorni a questa ora precisa io morirò; e se possibile fosse io mi vorrei acconciare dell''anima."
      ],
      "text/plain": [
       "<IPython.core.display.Markdown object>"
      ]
     },
     "metadata": {},
     "output_type": "display_data"
    },
    {
     "data": {
      "text/markdown": [
       "La solennità dell''ora, la voce **terribilmente** arcana delle acque, anche quando addormentate respirano, la distesa dei cieli, la dimostrazione parlante, continuaOra giudicate voi quali fossero la mia meraviglia e il mio spavento, quando nel giorno appresso, verso l''un''ora di notte, venni chiamato in Palazzo, dove mi fu detto essere aspettato al carcere di Tordinona dal marchese don Luca mio padrone, il quale prima di andare a morte desiderava parteciparmi i suoi ultimi comandi!"
      ],
      "text/plain": [
       "<IPython.core.display.Markdown object>"
      ]
     },
     "metadata": {},
     "output_type": "display_data"
    },
    {
     "data": {
      "text/markdown": [
       "Alla fine liberano da morte sicura la Bianca, **terribilmente** malconcia; aveva gli occhi fuori come gatto arrabbiato; le impronte sanguigne intorno al collo le durarono più di un, però che togliendola al popolo, il quale si trova sempre presente, l''aveva messa in mano ad uno imperatore lontano, spesso troppo impacciato in casa, per istare a canna badata fuori; ma venuti i barbari, massime i Goti, in Italia si erano toltiMa Cosimo, logoro per lo smodato esercizio di tutte le passioni, essendo venuto a morte non bene ancora maturo, Lelio, giovanetto di leggiadre maniere e di forme venuste, piacque a donna Isabella figlia di Cosimo, duchessa di Bracciano, la quale ottenne che il bel paggio si acconciasse al servizio di lei."
      ],
      "text/plain": [
       "<IPython.core.display.Markdown object>"
      ]
     },
     "metadata": {},
     "output_type": "display_data"
    },
    {
     "data": {
      "text/markdown": [
       "(alle Donzelle) A voi Grazie, a voi, che, reggendo il fianco infermo, Pago feste l''amor ch'' oggi mi prese Di circondarmi ancor di queste aperte Aure, ch''io prime respirai, del Mella; Sotto il mio cielo di sedermi, e, trassero fuori delle tasche il bowieknife, ovvero _coltello piegatoio_, che gli americani maneggiano con maestria **terribilmente** celebre: non era tempo di gingillarsi cotesto; però Filippo e Curio, recatesi in mano le rivoltelle a sei colpi, lerispondente al concetto, nè terso, molto meno elegante, perchè dallo idioma sincero della Italia un dì appartati, e nè oggi vogliosi cultori di quello, come coloro, che intendono e vogliono impiombarci nella lingua il parlare proprio."
      ],
      "text/plain": [
       "<IPython.core.display.Markdown object>"
      ]
     },
     "metadata": {},
     "output_type": "display_data"
    },
    {
     "data": {
      "text/markdown": [
       "Lo Imperatore trema della riforma presagendone diminuzione al suo assoluto dominio, e se ne serve per domare il Papa; il Papa all''opposto aborre dalla riforma, e l''aizza contro lo Imperatore: quietata alquanto la paura il Papa si accosta di nuovo a Francesco I. di Francia, il quale a sua posta in odio a Carlo promuove i riformati in Germania, e li sovviene con ogni maniera sussidi; in Francia gli arde.--Il Langravio Filippo di Assia con sagacia pari alla virtù, ed alla fortuna si approfitta di simili insidie, ripone in casa il duca di Vittemberg, e conduce Ferdinando di Austria alla pace di Kadan: la riforma, in grazia di questa pace fatta sicura, allaga la Danimarca, la Pomerania, la Marca brandeburghese, il Palatinato, la Sassonia  volentieri il lettore al suo volume, se questo storico, e per essere di soverchio prolisso e per lo stile che adopera, spesso intricato ed oscuro, non riuscisse a cui lo legga sazievole; difetti però che non devono in tutto ascriversi allo; che sguazzarlo mentre lo cavalcava un ponte parve inonorato; adesso lo arieno fatto più che volentieri, ma lo videro **terribilmente** gonfio, nè minacciatore di morte meno sicura, che il ponte; e il tempo a deliberare stringeva; perchè dai parapetticreature di Dio?"
      ],
      "text/plain": [
       "<IPython.core.display.Markdown object>"
      ]
     },
     "metadata": {},
     "output_type": "display_data"
    },
    {
     "data": {
      "text/markdown": [
       "Là su quel vertice, benchè il fiato gli uscisse affannoso dal petto e le tempie e i polsi gli battessero **terribilmente** , Altobello volse gli occhi dintorno per contemplare lo spettacolo che gli si parava davanti."
      ],
      "text/plain": [
       "<IPython.core.display.Markdown object>"
      ]
     },
     "metadata": {},
     "output_type": "display_data"
    },
    {
     "data": {
      "text/markdown": [
       "Batte **terribilmente** il Messo della Giustizia, più **terribilmente** il mio cuore."
      ],
      "text/plain": [
       "<IPython.core.display.Markdown object>"
      ]
     },
     "metadata": {},
     "output_type": "display_data"
    },
    {
     "data": {
      "text/markdown": [
       "Batte **terribilmente** il Messo della Giustizia, più **terribilmente** il mio cuore."
      ],
      "text/plain": [
       "<IPython.core.display.Markdown object>"
      ]
     },
     "metadata": {},
     "output_type": "display_data"
    },
    {
     "data": {
      "text/markdown": [
       "Iddio nel Cielo puòrumore di sorte, se togli uno solo..... Qual cosa rompe l''aere silenzioso così forsennatamente squillante, così **terribilmente** selvaggio?"
      ],
      "text/plain": [
       "<IPython.core.display.Markdown object>"
      ]
     },
     "metadata": {},
     "output_type": "display_data"
    },
    {
     "data": {
      "text/markdown": [
       "abbassate la spada, ascoltatemi per l''amore di Dio, in nome dei nostri morti genitori!--Non rammentarli, mi risponde **terribilmente** Berardo, tu ne sei diventato indegno dal momento che ti facesti traditore.--Traditore io!"
      ],
      "text/plain": [
       "<IPython.core.display.Markdown object>"
      ]
     },
     "metadata": {},
     "output_type": "display_data"
    },
    {
     "data": {
      "text/markdown": [
       "dignità di assioma nella scienza ha voluto aggravare la tassa del caffè, del tè, e degli spiriti, e tre vide percossa **terribilmente** questa rendita della finanza; nella sola Irlanda scapitò l''erario centodiciassette milioni, eLuisa piegata la faccia conobbe essere Angiolina, la quale a rispettosa distanza genuflessa aveva giunto le manine al suo pargolo, e quelle levate con le proprie verso il cielo plorando pregava."
      ],
      "text/plain": [
       "<IPython.core.display.Markdown object>"
      ]
     },
     "metadata": {},
     "output_type": "display_data"
    },
    {
     "data": {
      "text/markdown": [
       "Francesca Domenica compita l''opera pregò il piovano, il dottore e gli amici di casa a portare, senza mettere tempo di mezzo, il cadavere nella tomba degli Alando e a dargli sepoltura; ai servi ordinò andassero con loro, ella basterebbe sola a confortare Serena...  Appena cessarono di farsi udire le trombe che avevan sonata la partenza d''un reggimento, un nuovo squillo dall''altra parte annunziava **terribilmente** l''arrivo di altra simile, anzi peggiore brigata."
      ],
      "text/plain": [
       "<IPython.core.display.Markdown object>"
      ]
     },
     "metadata": {},
     "output_type": "display_data"
    },
    {
     "data": {
      "text/markdown": [
       ", e colà messo su in fretta alcune trincere faceva mostra di finire quanti si attentassero di avventurarci il piede: e poichè nei Francesi non è per certo l''ardire quello che manca, ci si provarono, e non una volta, nè due: però toccarono troppi morti per non invilirsi; al fiume non avevano avvertito molto; che sguazzarlo mentre lo cavalcava un ponte parve inonorato; adesso lo arieno fatto più che volentieri, ma lo videro **terribilmente** gonfio, nè minacciatore di morte meno sicura, che il ponte; e il tempo a deliberare stringeva; perchè dai parapetti côrsi fioccavano moschettate fitte come grandine."
      ],
      "text/plain": [
       "<IPython.core.display.Markdown object>"
      ]
     },
     "metadata": {},
     "output_type": "display_data"
    },
    {
     "data": {
      "text/markdown": [
       "Batte **terribilmente** il Messo della Giustizia, più **terribilmente** il mio cuore."
      ],
      "text/plain": [
       "<IPython.core.display.Markdown object>"
      ]
     },
     "metadata": {},
     "output_type": "display_data"
    },
    {
     "data": {
      "text/markdown": [
       "Qui la risposta è **terribilmente** facile e pronta: può perchè può."
      ],
      "text/plain": [
       "<IPython.core.display.Markdown object>"
      ]
     },
     "metadata": {},
     "output_type": "display_data"
    },
    {
     "data": {
      "text/markdown": [
       "La soluzione da taluni proposta concilia molte contrarietà, che la guerra non potrebbe se non più **terribilmente** aggravare."
      ],
      "text/plain": [
       "<IPython.core.display.Markdown object>"
      ]
     },
     "metadata": {},
     "output_type": "display_data"
    },
    {
     "data": {
      "text/markdown": [
       "; quell''intimazione del termine perentorio di tre dì, cui a tutta prima non aveva posto mente, ora le sconvolse l''animo **terribilmente** , ora che, misurate le distanze gli parve essere difficile che in tre giorni, senza una gran sollecitudine, ilChe util cosa sarebbe che la fortuna mandasse tra noi qualche novello Busiride e, se fosse possibile, qualche cosa di peggio!"
      ],
      "text/plain": [
       "<IPython.core.display.Markdown object>"
      ]
     },
     "metadata": {},
     "output_type": "display_data"
    },
    {
     "data": {
      "text/markdown": [
       "e di congiungerla al Palavicino, tanto la prima che questa volta fece nascere in lei delle vaghe speranze, Ella era così **terribilmente** oppressa, così insopportabile era la ragione di sua vita, che non le parea vero non volesse Iddio prepararle uni capelli di sotto alla celata."
      ],
      "text/plain": [
       "<IPython.core.display.Markdown object>"
      ]
     },
     "metadata": {},
     "output_type": "display_data"
    },
    {
     "data": {
      "text/markdown": [
       "Ogni gioconda esaltazione era in lei cessata; le parole di Manfredo la percossero **terribilmente** , quantunque non le potesse comprendere."
      ],
      "text/plain": [
       "<IPython.core.display.Markdown object>"
      ]
     },
     "metadata": {},
     "output_type": "display_data"
    },
    {
     "data": {
      "text/markdown": [
       "Il Lautrec era **terribilmente** abbattuto."
      ],
      "text/plain": [
       "<IPython.core.display.Markdown object>"
      ]
     },
     "metadata": {},
     "output_type": "display_data"
    },
    {
     "data": {
      "text/markdown": [
       "Esso non avea provveduto a; quell''intimazione del termine perentorio di tre dì, cui a tutta prima non aveva posto mente, ora le sconvolse l''animo **terribilmente** , ora che, misurate le distanze gli parve essere difficile che in tre giorni, senza una gran sollecitudine, il\"Questo bel paesello è suo; e le picche che fanno la guardia alla porta del castello, servono a lui, e l''oste che ci dà a pranzare, paga i balzelli a lui....  E per questa circostanza verrebbe a scemarsi la colpa della bella contessa, alla quale, se fosse mai trapelato com''era la cosa veramente, sarebbesi sforzata a rintuzzare fin dal suo primo nascere quella malaugurata passione che sentì per Fossano, e certo vi sarebbe riuscita."
      ],
      "text/plain": [
       "<IPython.core.display.Markdown object>"
      ]
     },
     "metadata": {},
     "output_type": "display_data"
    },
    {
     "data": {
      "text/markdown": [
       "La soluzione da taluni proposta concilia molte contrarietà, che la guerra non potrebbe se non più **terribilmente** aggravare."
      ],
      "text/plain": [
       "<IPython.core.display.Markdown object>"
      ]
     },
     "metadata": {},
     "output_type": "display_data"
    },
    {
     "data": {
      "text/markdown": [
       "Qui la risposta è **terribilmente** facile e pronta: può perchè può."
      ],
      "text/plain": [
       "<IPython.core.display.Markdown object>"
      ]
     },
     "metadata": {},
     "output_type": "display_data"
    },
    {
     "data": {
      "text/markdown": [
       "La chiesa erasi chiusa al popolo, e fu solo per mezzo dell''Orlando se a me venne fatto di mettervi il piedeodioso, che ad arrovesciargli l''animo non v''era cosa più pronta che nominargli quel Ma l''anno 1512 fu per lui ben più **terribilmente** memorabile."
      ],
      "text/plain": [
       "<IPython.core.display.Markdown object>"
      ]
     },
     "metadata": {},
     "output_type": "display_data"
    },
    {
     "data": {
      "text/markdown": [
       "A un miglio dalle mura, pensò bene di liberarnelo, ma ebbe a sgomentarsi **terribilmente** , vedendo ch''esso era livido e non dava parole."
      ],
      "text/plain": [
       "<IPython.core.display.Markdown object>"
      ]
     },
     "metadata": {},
     "output_type": "display_data"
    },
    {
     "data": {
      "text/markdown": [
       "Le nozze imminenti le richiamavano le prime, poi le seconde che s''erano tanto **terribilmente** interrotte; gl''insistenti rimorsi, come da lontano, facevano sentire la loro voce; il timore del Lautrec tornava asia la mala notte per colui, e per l''ammiraglio che gli vuol bene.\""
      ],
      "text/plain": [
       "<IPython.core.display.Markdown object>"
      ]
     },
     "metadata": {},
     "output_type": "display_data"
    },
    {
     "data": {
      "text/markdown": [
       "odioso, che ad arrovesciargli l''animo non v''era cosa più pronta che nominargli quel Ma l''anno 1512 fu per lui ben più **terribilmente** memorabile."
      ],
      "text/plain": [
       "<IPython.core.display.Markdown object>"
      ]
     },
     "metadata": {},
     "output_type": "display_data"
    },
    {
     "data": {
      "text/markdown": [
       "Il Lautrec era **terribilmente** abbattuto."
      ],
      "text/plain": [
       "<IPython.core.display.Markdown object>"
      ]
     },
     "metadata": {},
     "output_type": "display_data"
    },
    {
     "data": {
      "text/markdown": [
       "A un miglio dalle mura, pensò bene di liberarnelo, ma ebbe a sgomentarsi **terribilmente** , vedendo ch''esso era livido e non dava parole."
      ],
      "text/plain": [
       "<IPython.core.display.Markdown object>"
      ]
     },
     "metadata": {},
     "output_type": "display_data"
    },
    {
     "data": {
      "text/markdown": [
       "lasciammoe di congiungerla al Palavicino, tanto la prima che questa volta fece nascere in lei delle vaghe speranze, Ella era così **terribilmente** oppressa, così insopportabile era la ragione di sua vita, che non le parea vero non volesse Iddio prepararle une scosso a quello parole inaspettate, Ella se ne accorse, e continuò: --Io so tutto, Manfredo, e da lei stessa lo so."
      ],
      "text/plain": [
       "<IPython.core.display.Markdown object>"
      ]
     },
     "metadata": {},
     "output_type": "display_data"
    },
    {
     "data": {
      "text/markdown": [
       "Le nozze imminenti le richiamavano le prime, poi le seconde che s''erano tanto **terribilmente** interrotte; gl''insistenti rimorsi, come da lontano, facevano sentire la loro voce; il timore del Lautrec tornava ad''onore e di virtù, e per sua parte fu tanto maravigliato dai modi affabili e sinceri dell''illustre ammiraglio, che presto nacque tra loro una stretta amicizia."
      ],
      "text/plain": [
       "<IPython.core.display.Markdown object>"
      ]
     },
     "metadata": {},
     "output_type": "display_data"
    },
    {
     "data": {
      "text/markdown": [
       "Ogni gioconda esaltazione era in lei cessata; le parole di Manfredo la percossero **terribilmente** , quantunque non le potesse comprendere."
      ],
      "text/plain": [
       "<IPython.core.display.Markdown object>"
      ]
     },
     "metadata": {},
     "output_type": "display_data"
    },
    {
     "data": {
      "text/markdown": [
       "E quello del medico, corrucciato prima **terribilmente** , poscia d''un subito rassegnato: \"Pur troppo!\""
      ],
      "text/plain": [
       "<IPython.core.display.Markdown object>"
      ]
     },
     "metadata": {},
     "output_type": "display_data"
    },
    {
     "data": {
      "text/markdown": [
       "E quello del medico, corrucciato prima **terribilmente** , poscia d''un subito rassegnato: \"Pur troppo!\""
      ],
      "text/plain": [
       "<IPython.core.display.Markdown object>"
      ]
     },
     "metadata": {},
     "output_type": "display_data"
    },
    {
     "data": {
      "text/markdown": [
       "Poich tutto vuoi sapere, ti dir tutto; e giudicherai se la mia posizione non sia **terribilmente** dolorosa, se io non m'abbia ragione d'essere stanco della vita!"
      ],
      "text/plain": [
       "<IPython.core.display.Markdown object>"
      ]
     },
     "metadata": {},
     "output_type": "display_data"
    },
    {
     "data": {
      "text/markdown": [
       "Ma i sentimenti e le passioni personali se hanno ispirato il poeta e resa **terribilmente** ingegnosa la sua fantasia, non penetrano nella rappresentazione."
      ],
      "text/plain": [
       "<IPython.core.display.Markdown object>"
      ]
     },
     "metadata": {},
     "output_type": "display_data"
    },
    {
     "data": {
      "text/markdown": [
       "E Machiavelli, non che voglia palliare, qui è **terribilmente** ignudo, scopre senza pietà quel putridume."
      ],
      "text/plain": [
       "<IPython.core.display.Markdown object>"
      ]
     },
     "metadata": {},
     "output_type": "display_data"
    },
    {
     "data": {
      "text/markdown": [
       "Trovatili, e fatto loro in succinto ilcredevasi, era sulle mosse per ritornarsene a Roma, quando un fatto per sé stesso non grave cambiò d''improvviso e **terribilmente** la condizione delle cose."
      ],
      "text/plain": [
       "<IPython.core.display.Markdown object>"
      ]
     },
     "metadata": {},
     "output_type": "display_data"
    },
    {
     "data": {
      "text/markdown": [
       "Cercando di ridurmi a mente gli oggetti che contenevano le carte sequestrate, fui **terribilmente** addolorato quando mi sovvenne che in Roma nel 1848, quando successero gli sconvolgimenti di Vienna, io d''accordo conqualunque ordine contro di essa emanato, e sapendosi che l''Italia contava da 300 mila carbonari."
      ],
      "text/plain": [
       "<IPython.core.display.Markdown object>"
      ]
     },
     "metadata": {},
     "output_type": "display_data"
    },
    {
     "data": {
      "text/markdown": [
       "Ma si scosse **terribilmente** quando poté avere un punto d''appoggio sullo straniero, come vedremo in seguito."
      ],
      "text/plain": [
       "<IPython.core.display.Markdown object>"
      ]
     },
     "metadata": {},
     "output_type": "display_data"
    },
    {
     "data": {
      "text/markdown": [
       "Non li straziò oggi il saracino?--imprecò **terribilmente** Ugo."
      ],
      "text/plain": [
       "<IPython.core.display.Markdown object>"
      ]
     },
     "metadata": {},
     "output_type": "display_data"
    },
    {
     "data": {
      "text/markdown": [
       "Lo squassa **terribilmente** ."
      ],
      "text/plain": [
       "<IPython.core.display.Markdown object>"
      ]
     },
     "metadata": {},
     "output_type": "display_data"
    },
    {
     "data": {
      "text/markdown": [
       "Né qui è tutto--continuò il vecchio corrugando **terribilmente** la fronte;--quel demonio trasse fuori di tasca una funicella e colla fredda e spietata tranquillità del carnefice cheMa il comune dettato che il diavolo le insegna fare ma non conduce a buon porto, e che una le paga tutte, parve che fosse noto anche allora."
      ],
      "text/plain": [
       "<IPython.core.display.Markdown object>"
      ]
     },
     "metadata": {},
     "output_type": "display_data"
    },
    {
     "data": {
      "text/markdown": [
       "Né qui è tutto--continuò il vecchio corrugando **terribilmente** la fronte;--quel demonio trasse fuori di tasca una funicella e colla fredda e spietata tranquillità del carnefice cheMaddalena, e giunsi a calla Francese, a ponente dell''isola – ove m''aspettavano Basso ed il capitano Cuneo – con uno schifo ed un marinaro – M''imbarcai, ed attraversammo in sei lo stretto che divide la Maddalena dalla Sardegna – Giunti sulal coperto – Nella stessa parte trovavasi una pianta di lentisco che copriva quasi intieramente il minuto schifo – dimodocchè i miei regi guardiani non avean potuto scoprirlo – Giovanni, un giovane Sardo, custode della Goletta –scoli delle Paludi Pontine."
      ],
      "text/plain": [
       "<IPython.core.display.Markdown object>"
      ]
     },
     "metadata": {},
     "output_type": "display_data"
    },
    {
     "data": {
      "text/markdown": [
       "Solo per la molta stima che avevan per l''Adimari, degno erede di quel Bellincion Berti, figlio di Berto Adimari e padre della bellacredevasi, era sulle mosse per ritornarsene a Roma, quando un fatto per sé stesso non grave cambiò d''improvviso e **terribilmente** la condizione delle cose."
      ],
      "text/plain": [
       "<IPython.core.display.Markdown object>"
      ]
     },
     "metadata": {},
     "output_type": "display_data"
    },
    {
     "data": {
      "text/markdown": [
       "Cercando di ridurmi a mente gli oggetti che contenevano le carte sequestrate, fui **terribilmente** addolorato quando mi sovvenne che in Roma nel 1848, quando successero gli sconvolgimenti di Vienna, io d''accordo conne avevano fatto un eroe agli occhi dei rivoluzionari francesi e dei carbonari italiani; ma la sua memoria cadde presto in oblio."
      ],
      "text/plain": [
       "<IPython.core.display.Markdown object>"
      ]
     },
     "metadata": {},
     "output_type": "display_data"
    },
    {
     "data": {
      "text/markdown": [
       "Ma si scosse **terribilmente** quando poté avere un punto d''appoggio sullo straniero, come vedremo in seguito."
      ],
      "text/plain": [
       "<IPython.core.display.Markdown object>"
      ]
     },
     "metadata": {},
     "output_type": "display_data"
    },
    {
     "data": {
      "text/markdown": [
       "Infelicissimo, **terribilmente** doloroso il primo."
      ],
      "text/plain": [
       "<IPython.core.display.Markdown object>"
      ]
     },
     "metadata": {},
     "output_type": "display_data"
    },
    {
     "data": {
      "text/markdown": [
       "» E quello del medico , corrucciato prima **terribilmente** , poscia d ' un subito rassegnato : « Pur troppo !"
      ],
      "text/plain": [
       "<IPython.core.display.Markdown object>"
      ]
     },
     "metadata": {},
     "output_type": "display_data"
    },
    {
     "data": {
      "text/markdown": [
       "Non li straziò oggi il saracino?--imprecò **terribilmente** Ugo."
      ],
      "text/plain": [
       "<IPython.core.display.Markdown object>"
      ]
     },
     "metadata": {},
     "output_type": "display_data"
    },
    {
     "data": {
      "text/markdown": [
       "Lo squassa **terribilmente** ."
      ],
      "text/plain": [
       "<IPython.core.display.Markdown object>"
      ]
     },
     "metadata": {},
     "output_type": "display_data"
    },
    {
     "data": {
      "text/markdown": [
       "La leonessa ferita rugg **terribilmente**, e tutta l'assemblea mascolina n'ebbe terrore."
      ],
      "text/plain": [
       "<IPython.core.display.Markdown object>"
      ]
     },
     "metadata": {},
     "output_type": "display_data"
    },
    {
     "data": {
      "text/markdown": [
       "E udii storie pietose di domestici lutti incredibili e ignorati, perchè la mano di Ferdinando II arrivava **terribilmente** ove l''occhio sempre non arrivava."
      ],
      "text/plain": [
       "<IPython.core.display.Markdown object>"
      ]
     },
     "metadata": {},
     "output_type": "display_data"
    },
    {
     "data": {
      "text/markdown": [
       "E udii storie pietose di domestici lutti incredibili e ignorati, perchè la mano di Ferdinando II arrivava **terribilmente** ove l''occhio sempre non arrivava."
      ],
      "text/plain": [
       "<IPython.core.display.Markdown object>"
      ]
     },
     "metadata": {},
     "output_type": "display_data"
    },
    {
     "data": {
      "text/markdown": [
       "La lettera mi lasciò sconcertata e disgustata, così mi parve volgare; ma poi, nel tornarvi su, a poco a poco mi persuasi che il tono in cui era scritta fosse affettatamente leggiero e gaio, e che l'amante avesse fatto un crudele, ma nobilissimo sforzo nel contenere l'impeto del suo cuore, tanto per non gettare nuova esca nella mia passione, che era già un incendio, e per quietarmi un poco l'animo, ch'egli sapeva **terribilmente** ansioso."
      ],
      "text/plain": [
       "<IPython.core.display.Markdown object>"
      ]
     },
     "metadata": {},
     "output_type": "display_data"
    },
    {
     "data": {
      "text/markdown": [
       "Il prete pigliò la lettera, la guardò; le dita gli bruciavano, le mani gli tremavano; una visione **terribilmente** allettevole di donna mezza nuda gli passò nella fantasia, e gli parve di udire nelle orecchie l'eco seducente e paurosa di una voce che bisbigliasse: Datemi il vostro amore, Don Giuseppe, il vostro amore!"
      ],
      "text/plain": [
       "<IPython.core.display.Markdown object>"
      ]
     },
     "metadata": {},
     "output_type": "display_data"
    },
    {
     "data": {
      "text/markdown": [
       "— È l'angelo buono — mormorò, e questo pensiero gli richiamò nella fantasia con la rapidità del fulmine l'angelo cattivo, il demonio **terribilmente** bello: allora, scoperto dal drappo verde sdruscito il volto sanguinoso del Cristo che teneva sotto l'ascella, gli impresse un bacio disperato, come se invocasse da quel legno la propria salvezza."
      ],
      "text/plain": [
       "<IPython.core.display.Markdown object>"
      ]
     },
     "metadata": {},
     "output_type": "display_data"
    },
    {
     "data": {
      "text/markdown": [
       "La lettera mi lasciò sconcertata e disgustata, così mi parve volgare; ma poi, nel tornarvi su, a poco a poco mi persuasi che il tono in cui era scritta fosse affettatamente leggiero e gaio, e che l'amante avesse fatto un crudele, ma nobilissimo sforzo nel contenere l'impeto del suo cuore, tanto per non gettare nuova esca nella mia passione, che era già un incendio, e per quietarmi un poco l'animo, ch'egli sapeva **terribilmente** ansioso."
      ],
      "text/plain": [
       "<IPython.core.display.Markdown object>"
      ]
     },
     "metadata": {},
     "output_type": "display_data"
    },
    {
     "data": {
      "text/markdown": [
       "Alla sera di quel giorno memorabile , il signor Damelli , **terribilmente** imbrogliato e coll ' aria d ' un cane che ha lasciata scappar la lepre , si presentò al cospetto del signor Duca ."
      ],
      "text/plain": [
       "<IPython.core.display.Markdown object>"
      ]
     },
     "metadata": {},
     "output_type": "display_data"
    },
    {
     "data": {
      "text/markdown": [
       "Ora , la semplicità nella donna , era cosa affatto nuova per Giuliano ; egli la confondeva facilmente colla povertà e mentre trovava che l ' amore d ' una cara e ingenua donnina era pur qualcosa di **terribilmente** elementare , non gli veniva mai la voglia o la curiosità di studiare le profondità possibili e i probabili congegni di questo sentimento elementare ."
      ],
      "text/plain": [
       "<IPython.core.display.Markdown object>"
      ]
     },
     "metadata": {},
     "output_type": "display_data"
    },
    {
     "data": {
      "text/markdown": [
       "Milla era **terribilmente** impacciata nella sua lunghissima gonnella di amazzone , e non sapeva raccapezzarsi in nulla ."
      ],
      "text/plain": [
       "<IPython.core.display.Markdown object>"
      ]
     },
     "metadata": {},
     "output_type": "display_data"
    },
    {
     "data": {
      "text/markdown": [
       "Aveva in piedi le sue scarpettine scollate e portava la testa ritta e impalata, perch il fazzoletto da collo, moltissimo inamidato, gli segava **terribilmente** la gola."
      ],
      "text/plain": [
       "<IPython.core.display.Markdown object>"
      ]
     },
     "metadata": {},
     "output_type": "display_data"
    },
    {
     "data": {
      "text/markdown": [
       "Certo, la era **terribilmente** pallida ed il solo vederla avrebbe provato come il suo cuore fosse ormai familiare ad ogni maniera di affanno."
      ],
      "text/plain": [
       "<IPython.core.display.Markdown object>"
      ]
     },
     "metadata": {},
     "output_type": "display_data"
    },
    {
     "data": {
      "text/markdown": [
       "quando mio marito moribondo minella sua camera, quelle robe di lei le stavano lì negli occhi come un vivente rimorso, e le facevano passare le notti **terribilmente** insonni."
      ],
      "text/plain": [
       "<IPython.core.display.Markdown object>"
      ]
     },
     "metadata": {},
     "output_type": "display_data"
    },
    {
     "data": {
      "text/markdown": [
       "La sola religione potè indurre questa a non negarle soccorso; ma era uno sforzo di virtù, a cui il cuore **terribilmente** ripugnava, e il beneficio stesso, fatto senza affetto, senza nessuna compassione, diveniva tanto amaro, che parevaQuella missione mi procurò la conoscenza delle condizioni della città anche nei luoghi lontani dal centro – chiuse la gran parte delle botteghe; la popolazione a capannelli, ma scarsa; regnava ovunque la desolazione o lo spavento."
      ],
      "text/plain": [
       "<IPython.core.display.Markdown object>"
      ]
     },
     "metadata": {},
     "output_type": "display_data"
    },
    {
     "data": {
      "text/markdown": [
       "Qualche volta mi sedevo al margine d''nella sua camera, quelle robe di lei le stavano lì negli occhi come un vivente rimorso, e le facevano passare le notti **terribilmente** insonni."
      ],
      "text/plain": [
       "<IPython.core.display.Markdown object>"
      ]
     },
     "metadata": {},
     "output_type": "display_data"
    },
    {
     "data": {
      "text/markdown": [
       "La sola religione potè indurre questa a non negarle soccorso; ma era uno sforzo di virtù, a cui il cuore **terribilmente** ripugnava, e il beneficio stesso, fatto senza affetto, senza nessuna compassione, diveniva tanto amaro, che parevatradita!"
      ],
      "text/plain": [
       "<IPython.core.display.Markdown object>"
      ]
     },
     "metadata": {},
     "output_type": "display_data"
    },
    {
     "data": {
      "text/markdown": [
       "OTELLO [ergendosi e rivolto alla folla, **terribilmente**]  Fuggite!"
      ],
      "text/plain": [
       "<IPython.core.display.Markdown object>"
      ]
     },
     "metadata": {},
     "output_type": "display_data"
    },
    {
     "data": {
      "text/markdown": [
       "Anzi il nostro Scrooge , che per verità il triste evento non aveva fatto **terribilmente** spasimare , si mostrò sottile uomo d ' affari il giorno stesso dei funerali e lo solennizzò con un negozio co ' fiocchi ."
      ],
      "text/plain": [
       "<IPython.core.display.Markdown object>"
      ]
     },
     "metadata": {},
     "output_type": "display_data"
    },
    {
     "data": {
      "text/markdown": [
       "Udendo queste parole , lo Spettro mise un altro strido e così **terribilmente** fece suonar la catena nel silenzio della notte , che la guardia avrebbe avuto ragione di multarlo come disturbatore notturno ."
      ],
      "text/plain": [
       "<IPython.core.display.Markdown object>"
      ]
     },
     "metadata": {},
     "output_type": "display_data"
    },
    {
     "data": {
      "text/markdown": [
       "Indietreggiò dal terrore , perché la scena era mutata ed ei toccava quasi un letto , un letto nudo , senza cortinaggio , sul quale , sotto un lenzuolo sdrucito , giaceva qualche cosa d ' avviluppato , il cui silenzio stesso parlava **terribilmente** ."
      ],
      "text/plain": [
       "<IPython.core.display.Markdown object>"
      ]
     },
     "metadata": {},
     "output_type": "display_data"
    },
    {
     "data": {
      "text/markdown": [
       "La sua fanciullezza abbandonata le si aggravava sul cuore **terribilmente** , coi piú vivi particolari , rimescolandola tutta ."
      ],
      "text/plain": [
       "<IPython.core.display.Markdown object>"
      ]
     },
     "metadata": {},
     "output_type": "display_data"
    },
    {
     "data": {
      "text/markdown": [
       "Lottava dentro di sé , **terribilmente** ."
      ],
      "text/plain": [
       "<IPython.core.display.Markdown object>"
      ]
     },
     "metadata": {},
     "output_type": "display_data"
    },
    {
     "data": {
      "text/markdown": [
       "E mentre la gentile figura d ' Elvira gli sorrideva pietosamente nella fantasia , come una bella visione inondata di mite luce argentea , ecco l ' altra , quella di Giacinta , che gli si piantava di faccia , muta , senza un gesto , **terribilmente** irta di rimproveri & \u0014 Che colpa n ' aveva lui ?"
      ],
      "text/plain": [
       "<IPython.core.display.Markdown object>"
      ]
     },
     "metadata": {},
     "output_type": "display_data"
    },
    {
     "data": {
      "text/markdown": [
       "Alzando il capo, vidi nel vano della porta Pilato in piedi, gli occhi fissi e divaricati, **terribilmente** pallido, immobile."
      ],
      "text/plain": [
       "<IPython.core.display.Markdown object>"
      ]
     },
     "metadata": {},
     "output_type": "display_data"
    },
    {
     "data": {
      "text/markdown": [
       "Quando il suo liberto spagnuolo venne ad annunziargli che sua moglie toccava le mura di Gerusalemme, Pilato era **terribilmente** occupato."
      ],
      "text/plain": [
       "<IPython.core.display.Markdown object>"
      ]
     },
     "metadata": {},
     "output_type": "display_data"
    },
    {
     "data": {
      "text/markdown": [
       "Essi erano già stati **terribilmente** trattati al Concilio di Reims (1148), in cui S. Bernardo, divinamente feroce, aveva fatto condannare Gilberto de la, egli la evita con una promessa o una professione di fede di liberalismo generale."
      ],
      "text/plain": [
       "<IPython.core.display.Markdown object>"
      ]
     },
     "metadata": {},
     "output_type": "display_data"
    },
    {
     "data": {
      "text/markdown": [
       "Il suo naso **terribilmente** rosso--diventava un carbone infiammato per beatitudine."
      ],
      "text/plain": [
       "<IPython.core.display.Markdown object>"
      ]
     },
     "metadata": {},
     "output_type": "display_data"
    },
    {
     "data": {
      "text/markdown": [
       "Lì, una siepe spessa, **terribilmente** irta di ronchi, mi concesse un ricovero."
      ],
      "text/plain": [
       "<IPython.core.display.Markdown object>"
      ]
     },
     "metadata": {},
     "output_type": "display_data"
    },
    {
     "data": {
      "text/markdown": [
       "Aggiustò i virgulti della, a sua volta, anch''essa in furore, si metteva in moto di un sol pezzo, di un sol tratto, brontolava sordamente e poi **terribilmente** , si screpolava, si fiaccava, e delle montagne, sollevate dalle onde, portate sul loro dorso, solcavano lo spazio,come un deserto: rare yurte a destra, montagne separate da valli paludose di forma ondulata."
      ],
      "text/plain": [
       "<IPython.core.display.Markdown object>"
      ]
     },
     "metadata": {},
     "output_type": "display_data"
    },
    {
     "data": {
      "text/markdown": [
       "Eravamo scossi **terribilmente** ."
      ],
      "text/plain": [
       "<IPython.core.display.Markdown object>"
      ]
     },
     "metadata": {},
     "output_type": "display_data"
    },
    {
     "data": {
      "text/markdown": [
       "Arrivavano dunque **terribilmente** affamati ed esasperati da un digiuno di due mesi."
      ],
      "text/plain": [
       "<IPython.core.display.Markdown object>"
      ]
     },
     "metadata": {},
     "output_type": "display_data"
    },
    {
     "data": {
      "text/markdown": [
       "Incontravo sui margini delle strade dei gruppi di giovani, che ritornavano dall''esercito, laceri, dimagriti, **terribilmente** consumati dalla febbre, tremanti sotto un sole pesante, denso, giallastro, che divorava tutto ciò che toccava,!"
      ],
      "text/plain": [
       "<IPython.core.display.Markdown object>"
      ]
     },
     "metadata": {},
     "output_type": "display_data"
    },
    {
     "data": {
      "text/markdown": [
       "Io era **terribilmente** triste."
      ],
      "text/plain": [
       "<IPython.core.display.Markdown object>"
      ]
     },
     "metadata": {},
     "output_type": "display_data"
    },
    {
     "data": {
      "text/markdown": [
       "Ma la corda penetrava nella carne ai polsi e martorizzava **terribilmente** le cavicchie."
      ],
      "text/plain": [
       "<IPython.core.display.Markdown object>"
      ]
     },
     "metadata": {},
     "output_type": "display_data"
    },
    {
     "data": {
      "text/markdown": [
       "Ma la corda penetrava nella carne ai polsi e martorizzava **terribilmente** le cavicchie."
      ],
      "text/plain": [
       "<IPython.core.display.Markdown object>"
      ]
     },
     "metadata": {},
     "output_type": "display_data"
    },
    {
     "data": {
      "text/markdown": [
       "Io era **terribilmente** triste."
      ],
      "text/plain": [
       "<IPython.core.display.Markdown object>"
      ]
     },
     "metadata": {},
     "output_type": "display_data"
    },
    {
     "data": {
      "text/markdown": [
       "Incontravo sui margini delle strade dei gruppi di giovani, che ritornavano dall''esercito, laceri, dimagriti, **terribilmente** consumati dalla febbre, tremanti sotto un sole pesante, denso, giallastro, che divorava tutto ciò che toccava,Diego, principiò a diventar rosso, poi purpureo, poi violetto, poi azzurro, poi color di piombo, poi nero."
      ],
      "text/plain": [
       "<IPython.core.display.Markdown object>"
      ]
     },
     "metadata": {},
     "output_type": "display_data"
    },
    {
     "data": {
      "text/markdown": [
       "Dopo aver **terribilmente** chiusi i denti fino a smussarli, egli aperse la bocca come un antro."
      ],
      "text/plain": [
       "<IPython.core.display.Markdown object>"
      ]
     },
     "metadata": {},
     "output_type": "display_data"
    },
    {
     "data": {
      "text/markdown": [
       "Sergio la seguì degli occhi, aggrottando **terribilmente** le sopracciglia, e sclamò lentamente: --Se avessi potuto dubitare ancora, questa parola sarebbe bastata per, non osava consultare i vicini, nè chiamare un medico, paventando di rischiarare un delitto."
      ],
      "text/plain": [
       "<IPython.core.display.Markdown object>"
      ]
     },
     "metadata": {},
     "output_type": "display_data"
    },
    {
     "data": {
      "text/markdown": [
       "Essi non ignoravano i rumori che correvano sull''assassinio della contessa, gli ordini di Francesco IV sì **terribilmente** motivati."
      ],
      "text/plain": [
       "<IPython.core.display.Markdown object>"
      ]
     },
     "metadata": {},
     "output_type": "display_data"
    },
    {
     "data": {
      "text/markdown": [
       "Diede in un grido ed accompagnata dai vicini che le facevano visita, si avanzò verso il Rabbì che mi parve **terribilmente** preoccupato."
      ],
      "text/plain": [
       "<IPython.core.display.Markdown object>"
      ]
     },
     "metadata": {},
     "output_type": "display_data"
    },
    {
     "data": {
      "text/markdown": [
       "Alzando il capo, vidi nel vano della porta Pilato in piedi, gli occhi fissi e divaricati, **terribilmente** pallido, immobile."
      ],
      "text/plain": [
       "<IPython.core.display.Markdown object>"
      ]
     },
     "metadata": {},
     "output_type": "display_data"
    },
    {
     "data": {
      "text/markdown": [
       "Lì, una siepe spessa, **terribilmente** irta di ronchi, mi concesse un ricovero."
      ],
      "text/plain": [
       "<IPython.core.display.Markdown object>"
      ]
     },
     "metadata": {},
     "output_type": "display_data"
    },
    {
     "data": {
      "text/markdown": [
       "Essi erano già stati **terribilmente** trattati al Concilio di Reims (1148), in cui S. Bernardo, divinamente feroce, aveva fatto condannare Gilberto de laimpongono."
      ],
      "text/plain": [
       "<IPython.core.display.Markdown object>"
      ]
     },
     "metadata": {},
     "output_type": "display_data"
    },
    {
     "data": {
      "text/markdown": [
       "Essi non ignoravano i rumori che correvano sull''assassinio della contessa, gli ordini di Francesco IV sì **terribilmente** motivati."
      ],
      "text/plain": [
       "<IPython.core.display.Markdown object>"
      ]
     },
     "metadata": {},
     "output_type": "display_data"
    },
    {
     "data": {
      "text/markdown": [
       "Dopo aver **terribilmente** chiusi i denti fino a smussarli, egli aperse la bocca come un antro."
      ],
      "text/plain": [
       "<IPython.core.display.Markdown object>"
      ]
     },
     "metadata": {},
     "output_type": "display_data"
    },
    {
     "data": {
      "text/markdown": [
       "Sergio la seguì degli occhi, aggrottando **terribilmente** le sopracciglia, e sclamò lentamente: --Se avessi potuto dubitare ancora, questa parola sarebbe bastata perla mia parte, il meglio che avevo potuto; ma non nasconderò che il mio cuore andava al galoppo e che tutto mi sembrava orribilmente nero."
      ],
      "text/plain": [
       "<IPython.core.display.Markdown object>"
      ]
     },
     "metadata": {},
     "output_type": "display_data"
    },
    {
     "data": {
      "text/markdown": [
       "Arrivavano dunque **terribilmente** affamati ed esasperati da un digiuno di due mesi."
      ],
      "text/plain": [
       "<IPython.core.display.Markdown object>"
      ]
     },
     "metadata": {},
     "output_type": "display_data"
    },
    {
     "data": {
      "text/markdown": [
       ", a sua volta, anch''essa in furore, si metteva in moto di un sol pezzo, di un sol tratto, brontolava sordamente e poi **terribilmente** , si screpolava, si fiaccava, e delle montagne, sollevate dalle onde, portate sul loro dorso, solcavano lo spazio,e Calabria, compare?"
      ],
      "text/plain": [
       "<IPython.core.display.Markdown object>"
      ]
     },
     "metadata": {},
     "output_type": "display_data"
    },
    {
     "data": {
      "text/markdown": [
       "Eravamo scossi **terribilmente** ."
      ],
      "text/plain": [
       "<IPython.core.display.Markdown object>"
      ]
     },
     "metadata": {},
     "output_type": "display_data"
    },
    {
     "data": {
      "text/markdown": [
       "Il suo naso **terribilmente** rosso--diventava un carbone infiammato per beatitudine."
      ],
      "text/plain": [
       "<IPython.core.display.Markdown object>"
      ]
     },
     "metadata": {},
     "output_type": "display_data"
    },
    {
     "data": {
      "text/markdown": [
       "Diede in un grido ed accompagnata dai vicini che le facevano visita, si avanzò verso il Rabbì che mi parve **terribilmente** preoccupato."
      ],
      "text/plain": [
       "<IPython.core.display.Markdown object>"
      ]
     },
     "metadata": {},
     "output_type": "display_data"
    },
    {
     "data": {
      "text/markdown": [
       "Quando il suo liberto spagnuolo venne ad annunziargli che sua moglie toccava le mura di Gerusalemme, Pilato era **terribilmente** occupato."
      ],
      "text/plain": [
       "<IPython.core.display.Markdown object>"
      ]
     },
     "metadata": {},
     "output_type": "display_data"
    },
    {
     "data": {
      "text/markdown": [
       "il cronometro del sergente è **terribilmente** in ritardo."
      ],
      "text/plain": [
       "<IPython.core.display.Markdown object>"
      ]
     },
     "metadata": {},
     "output_type": "display_data"
    },
    {
     "data": {
      "text/markdown": [
       "di cose durò fino all''anno 1455, nel quale gli abati, sino allora arbitri della forza e giurisdizione feudale, e di essa **terribilmente** armati, perdettero anche questo diritto."
      ],
      "text/plain": [
       "<IPython.core.display.Markdown object>"
      ]
     },
     "metadata": {},
     "output_type": "display_data"
    },
    {
     "data": {
      "text/markdown": [
       "di cose durò fino all''anno 1455, nel quale gli abati, sino allora arbitri della forza e giurisdizione feudale, e di essa **terribilmente** armati, perdettero anche questo diritto."
      ],
      "text/plain": [
       "<IPython.core.display.Markdown object>"
      ]
     },
     "metadata": {},
     "output_type": "display_data"
    },
    {
     "data": {
      "text/markdown": [
       "– E così è tolta via anche l'obiezione **terribilmente** speciosa, mossa contro il positivismo dai metafisici; i quali argomentano dal principio, che all'atto morale è essenziale il carattere della responsabilità."
      ],
      "text/plain": [
       "<IPython.core.display.Markdown object>"
      ]
     },
     "metadata": {},
     "output_type": "display_data"
    },
    {
     "data": {
      "text/markdown": [
       "Poichè tutto vuoi sapere, ti dirò tutto; e giudicherai se la mia posizione non sia **terribilmente** dolorosa, se io non m''abbia ragione d''essere stanco della vita!"
      ],
      "text/plain": [
       "<IPython.core.display.Markdown object>"
      ]
     },
     "metadata": {},
     "output_type": "display_data"
    },
    {
     "data": {
      "text/markdown": [
       "Quell''uomo era il nembo che si condensa per esplodere **terribilmente** ."
      ],
      "text/plain": [
       "<IPython.core.display.Markdown object>"
      ]
     },
     "metadata": {},
     "output_type": "display_data"
    },
    {
     "data": {
      "text/markdown": [
       "La leonessa ferita ruggì **terribilmente** , e tutta l''assemblea mascolina n''ebbe terrore."
      ],
      "text/plain": [
       "<IPython.core.display.Markdown object>"
      ]
     },
     "metadata": {},
     "output_type": "display_data"
    },
    {
     "data": {
      "text/markdown": [
       "Poichè tutto vuoi sapere, ti dirò tutto; e giudicherai se la mia posizione non sia **terribilmente** dolorosa, se io non m''abbia ragione d''essere stanco della vita!"
      ],
      "text/plain": [
       "<IPython.core.display.Markdown object>"
      ]
     },
     "metadata": {},
     "output_type": "display_data"
    },
    {
     "data": {
      "text/markdown": [
       "La leonessa ferita ruggì **terribilmente** , e tutta l''assemblea mascolina n''ebbe terrore."
      ],
      "text/plain": [
       "<IPython.core.display.Markdown object>"
      ]
     },
     "metadata": {},
     "output_type": "display_data"
    },
    {
     "data": {
      "text/markdown": [
       "Quell''uomo era il nembo che si condensa per esplodere **terribilmente** ."
      ],
      "text/plain": [
       "<IPython.core.display.Markdown object>"
      ]
     },
     "metadata": {},
     "output_type": "display_data"
    },
    {
     "data": {
      "text/markdown": [
       "\"La giornata, dice egli, era **terribilmente** calda, e nello attraversare i boschi ogni cosa era immobile, tranne le grandi e splendide farfalle che svolazzavanoogni grande accrescimento di numero è evidentemente impossibile e deve essere arrestato in qualche modo."
      ],
      "text/plain": [
       "<IPython.core.display.Markdown object>"
      ]
     },
     "metadata": {},
     "output_type": "display_data"
    },
    {
     "data": {
      "text/markdown": [
       "\"La giornata, dice egli, era **terribilmente** calda, e nello attraversare i boschi ogni cosa era immobile, tranne le grandi e splendide farfalle che svolazzavanoIl suo volto era attraversato da due larghe striscie trasversali; una tinta di un bel rosso brillante andava da un orecchio all''altro inchiudendo il labbro superiore; l''altra, bianca di calce, si estendeva sopra e parallelamente alla prima, per cui anche le sue palpebre erano in tal modo colorite."
      ],
      "text/plain": [
       "<IPython.core.display.Markdown object>"
      ]
     },
     "metadata": {},
     "output_type": "display_data"
    },
    {
     "data": {
      "text/markdown": [
       "De Medici, deplorando le vittorie de'' Turchi, la perdita dell''Ungheria, i pericoli d''Italia e Francia quando **terribilmente** armavansi quei nemici, intanto che i Cristiani compiaceansi della ruina uno dell''altro."
      ],
      "text/plain": [
       "<IPython.core.display.Markdown object>"
      ]
     },
     "metadata": {},
     "output_type": "display_data"
    },
    {
     "data": {
      "text/markdown": [
       "Ma suo padre giura più **terribilmente** di prima che non acconsentirà mai a fare il comodo loro... Sua figlia lo scongiura di desistere perché anche a lui, quando arrivano di queste notizie, è come se gli pigliasse un colpo apoplettico... Veramente, è un po' troppo!..."
      ],
      "text/plain": [
       "<IPython.core.display.Markdown object>"
      ]
     },
     "metadata": {},
     "output_type": "display_data"
    },
    {
     "data": {
      "text/markdown": [
       "Io vi annoio **terribilmente**, lo so.... Ma, non  colpa mia."
      ],
      "text/plain": [
       "<IPython.core.display.Markdown object>"
      ]
     },
     "metadata": {},
     "output_type": "display_data"
    },
    {
     "data": {
      "text/markdown": [
       "Gualteruzzi il 20 marzo 1544 come desiderasse ritirarsi dal vescovado, \"oltre che tutti i disegni e desiderj miei son oggi più che mai fossero, allontanati dalle cure di queste cose e mareggi nostri mondani e volti allo studio eDe Medici, deplorando le vittorie de'' Turchi, la perdita dell''Ungheria, i pericoli d''Italia e Francia quando **terribilmente** armavansi quei nemici, intanto che i Cristiani compiaceansi della ruina uno dell''altro."
      ],
      "text/plain": [
       "<IPython.core.display.Markdown object>"
      ]
     },
     "metadata": {},
     "output_type": "display_data"
    },
    {
     "data": {
      "text/markdown": [
       "Era riserbato al bonapartismo di oscurare tutti i predecessori, e di illustrare così **terribilmente** alla democrazia l''effetto a due tagli del suffragio universale, che il ministro repubblicano Carnot dovè confessarepiù risibile della storia francese, a spazzare adunque gli ultimi rottami del secondo impero: sotto i nostri occhi si è **terribilmente** adempiuta la parola ammonitrice, che francesi di alto animo avevano da anni rivolta ai propri compatrioti: la Francia, vivere pure con la precisione di un povero computista per la pratica del momento, come se non ci fosse mai un domani ."
      ],
      "text/plain": [
       "<IPython.core.display.Markdown object>"
      ]
     },
     "metadata": {},
     "output_type": "display_data"
    },
    {
     "data": {
      "text/markdown": [
       "La furia della guerra, cantata nella Georgica di Virgilio in modo così **terribilmente** bello, imperversò ancora sulla terra dopo la morte di Cesare; poi il tempio di Giano chiuse le porte per molto tempo.Ognuno sa quanto si operò di notevole nei primi anni dell''impero per elevare l''efficienza bellica dell''esercito, quanto romore suscitarono sui campi di Lombardia i nuovi cannoni rigati, quanto a lungo il campo di Mourmelon fu ammirato come l''alta scuola della tattica, e come l''imperatore intendesse di risollevare anche la figliastra di questa armata, la cavalleria, con l''introduzione dei piccoli e focosi cavalli algerini."
      ],
      "text/plain": [
       "<IPython.core.display.Markdown object>"
      ]
     },
     "metadata": {},
     "output_type": "display_data"
    },
    {
     "data": {
      "text/markdown": [
       "più risibile della storia francese, a spazzare adunque gli ultimi rottami del secondo impero: sotto i nostri occhi si è **terribilmente** adempiuta la parola ammonitrice, che francesi di alto animo avevano da anni rivolta ai propri compatrioti: la Francia Anche in quelle provincie del mezzogiorno che un tempo avevano oltraggiato l''imperatore fuggiasco, la gente del popolo non poté resistere a lungo alla propaganda dei veterani: era, in verità, gloria della Francia quella di cui i vecchi narravano i fasti, e il principe della guerra con tutti i suoi delitti era un eroe non meno nazionale del re degli emigrati."
      ],
      "text/plain": [
       "<IPython.core.display.Markdown object>"
      ]
     },
     "metadata": {},
     "output_type": "display_data"
    },
    {
     "data": {
      "text/markdown": [
       "Era riserbato al bonapartismo di oscurare tutti i predecessori, e di illustrare così **terribilmente** alla democrazia l''effetto a due tagli del suffragio universale, che il ministro repubblicano Carnot dovè confessarefino a che non la propria forza dei francesi ma la spada germanica venne a detronizzare il tiranno."
      ],
      "text/plain": [
       "<IPython.core.display.Markdown object>"
      ]
     },
     "metadata": {},
     "output_type": "display_data"
    },
    {
     "data": {
      "text/markdown": [
       "La furia della guerra, cantata nella Georgica di Virgilio in modo così **terribilmente** bello, imperversò ancora sulla terra dopo la morte di Cesare; poi il tempio di Giano chiuse le porte per molto tempo.Per gli altri quattro partiti, legittimisti e orleanisti, repubblicani e socialisti, sorgeva irrefutabile la questione: era lecito disprezzare l''ambizione di quell''uomo, il quale aveva sotto di sé il potere esecutivo, e aveva alle spalle la forza morale di cinque milioni e mezzo di suffragi?"
      ],
      "text/plain": [
       "<IPython.core.display.Markdown object>"
      ]
     },
     "metadata": {},
     "output_type": "display_data"
    },
    {
     "data": {
      "text/markdown": [
       "Quando però le vedeva piangere e **terribilmente** soffrire per le ansietà di un pericolo che le teneva sospese tra la vita e la morte e poteva produrre, tutt'a un tratto, una terribile catastrofe da coinvolgere nella rovina parecchie persone — marito, figli, parenti — allora non poteva più ostinarsi a non credere."
      ],
      "text/plain": [
       "<IPython.core.display.Markdown object>"
      ]
     },
     "metadata": {},
     "output_type": "display_data"
    },
    {
     "data": {
      "text/markdown": [
       "\" **terribilmente** feroce!\""
      ],
      "text/plain": [
       "<IPython.core.display.Markdown object>"
      ]
     },
     "metadata": {},
     "output_type": "display_data"
    },
    {
     "data": {
      "text/markdown": [
       "\" **terribilmente** feroce!\""
      ],
      "text/plain": [
       "<IPython.core.display.Markdown object>"
      ]
     },
     "metadata": {},
     "output_type": "display_data"
    },
    {
     "data": {
      "text/markdown": [
       "Questa donna diventa rossa come di fuoco, poi impallidisce **terribilmente**; poi con voce strozzata, acre, sprezzante, dà a quest’uomo dell’indegno e del vile; e come egli, agghiacciato, petrificato dall’imprevedibile accoglienza, balbetta qualche parola per tentare di giustificarsi, ella non lo lascia dire: raccoglie il mantello ed i guanti, e domanda imperiosamente la carrozza."
      ],
      "text/plain": [
       "<IPython.core.display.Markdown object>"
      ]
     },
     "metadata": {},
     "output_type": "display_data"
    },
    {
     "data": {
      "text/markdown": [
       "Alla generosa apologia tace R. Iosè, ma Simone favella, anzi Simone rugge, Simone tuona e come **terribilmente** !"
      ],
      "text/plain": [
       "<IPython.core.display.Markdown object>"
      ]
     },
     "metadata": {},
     "output_type": "display_data"
    },
    {
     "data": {
      "text/markdown": [
       "Sì; aprirono strade, ma per gettarsiun testo, sul proprio cuore dei giuranti come legge un altro; e dopo aver tutte in un fascio strette le mani ai discepoli, **terribilmente** prorompe con quella spaventosa imprecazione con cui i leviti sulla montagna di Ebal dovevano la vendetta di Dioancor rimane, mio padre la vuol sacrificare anch''essa.\""
      ],
      "text/plain": [
       "<IPython.core.display.Markdown object>"
      ]
     },
     "metadata": {},
     "output_type": "display_data"
    },
    {
     "data": {
      "text/markdown": [
       "In quella entrava il vecchio rigattiere ebreo, la faccia **terribilmente** sconvolta; stampata entro la mente l''immagine del volto di sua figlia annegata che aveva visto poc''anzi."
      ],
      "text/plain": [
       "<IPython.core.display.Markdown object>"
      ]
     },
     "metadata": {},
     "output_type": "display_data"
    },
    {
     "data": {
      "text/markdown": [
       "Era sì **terribilmente** turbato che Lisa comprese di botto una suprema sciagura essere avvenuta; venne innanzi al padre bianca più chesempre una suggezione cui non poteva vincere quando si trovava sotto il raggio di quei limpidi occhî."
      ],
      "text/plain": [
       "<IPython.core.display.Markdown object>"
      ]
     },
     "metadata": {},
     "output_type": "display_data"
    },
    {
     "data": {
      "text/markdown": [
       "Ma egli era **terribilmente** , dolorosamente geloso di quanti accostassero la ragazza e paressero non tornarle sgraditi."
      ],
      "text/plain": [
       "<IPython.core.display.Markdown object>"
      ]
     },
     "metadata": {},
     "output_type": "display_data"
    },
    {
     "data": {
      "text/markdown": [
       "urlò **terribilmente** , o ch''io non mi trattengo più, e lo schiaccio come un verme."
      ],
      "text/plain": [
       "<IPython.core.display.Markdown object>"
      ]
     },
     "metadata": {},
     "output_type": "display_data"
    },
    {
     "data": {
      "text/markdown": [
       "Alla generosa apologia tace R. Iosè, ma Simone favella, anzi Simone rugge, Simone tuona e come **terribilmente** !"
      ],
      "text/plain": [
       "<IPython.core.display.Markdown object>"
      ]
     },
     "metadata": {},
     "output_type": "display_data"
    },
    {
     "data": {
      "text/markdown": [
       "Sì; aprirono strade, ma per gettarsiun testo, sul proprio cuore dei giuranti come legge un altro; e dopo aver tutte in un fascio strette le mani ai discepoli, **terribilmente** prorompe con quella spaventosa imprecazione con cui i leviti sulla montagna di Ebal dovevano la vendetta di Diopochi giorni soltanto, e poi potrò agire: lo sento, lo voglio."
      ],
      "text/plain": [
       "<IPython.core.display.Markdown object>"
      ]
     },
     "metadata": {},
     "output_type": "display_data"
    },
    {
     "data": {
      "text/markdown": [
       "In quella entrava il vecchio rigattiere ebreo, la faccia **terribilmente** sconvolta; stampata entro la mente l''immagine del volto di sua figlia annegata che aveva visto poc''anzi."
      ],
      "text/plain": [
       "<IPython.core.display.Markdown object>"
      ]
     },
     "metadata": {},
     "output_type": "display_data"
    },
    {
     "data": {
      "text/markdown": [
       "--Egli ha molto da fare; è sempre occupato... --Vuol dire adunque che ha fattola afferrò alle braccia, le serrò i polsi e scuotendola senza un riguardo, ruggì, accostando a quello di lei il suo volto **terribilmente** impresso dall''ira: --Sciagurata!"
      ],
      "text/plain": [
       "<IPython.core.display.Markdown object>"
      ]
     },
     "metadata": {},
     "output_type": "display_data"
    },
    {
     "data": {
      "text/markdown": [
       "Era sì **terribilmente** turbato che Lisa comprese di botto una suprema sciagura essere avvenuta; venne innanzi al padre bianca più chein esso per una scala interna a chiocciola."
      ],
      "text/plain": [
       "<IPython.core.display.Markdown object>"
      ]
     },
     "metadata": {},
     "output_type": "display_data"
    },
    {
     "data": {
      "text/markdown": [
       "Ma egli era **terribilmente** , dolorosamente geloso di quanti accostassero la ragazza e paressero non tornarle sgraditi."
      ],
      "text/plain": [
       "<IPython.core.display.Markdown object>"
      ]
     },
     "metadata": {},
     "output_type": "display_data"
    },
    {
     "data": {
      "text/markdown": [
       "urlò **terribilmente** , o ch''io non mi trattengo più, e lo schiaccio come un verme."
      ],
      "text/plain": [
       "<IPython.core.display.Markdown object>"
      ]
     },
     "metadata": {},
     "output_type": "display_data"
    },
    {
     "data": {
      "text/markdown": [
       "--Egli ha molto da fare; è sempre occupato... --Vuol dire adunque che ha fattola afferrò alle braccia, le serrò i polsi e scuotendola senza un riguardo, ruggì, accostando a quello di lei il suo volto **terribilmente** impresso dall''ira: --Sciagurata!"
      ],
      "text/plain": [
       "<IPython.core.display.Markdown object>"
      ]
     },
     "metadata": {},
     "output_type": "display_data"
    }
   ],
   "source": [
    "find_sentences_with_keyword(document4, 'terribilmente')"
   ]
  },
  {
   "cell_type": "markdown",
   "id": "a8e16410",
   "metadata": {},
   "source": [
    "### Zeitraum 5: 1901-1950"
   ]
  },
  {
   "cell_type": "code",
   "execution_count": 31,
   "id": "bacf81b2",
   "metadata": {},
   "outputs": [],
   "source": [
    "text5 = ''\n",
    "for i in df5.text:\n",
    "    text5 += i"
   ]
  },
  {
   "cell_type": "code",
   "execution_count": 32,
   "id": "b773ad24",
   "metadata": {},
   "outputs": [],
   "source": [
    "document5 = nltk.sent_tokenize(text5)"
   ]
  },
  {
   "cell_type": "code",
   "execution_count": 33,
   "id": "d45922f1",
   "metadata": {},
   "outputs": [
    {
     "data": {
      "text/markdown": [
       "Ma come è drammatico ed interessante l''incontro, nella scuola di Atene, di questi due giovani, destinati a diventare **terribilmente** nemici l''uno dell''altro, e che già si spiavano a vicenda con quell''acume che dà l''odio istintivo."
      ],
      "text/plain": [
       "<IPython.core.display.Markdown object>"
      ]
     },
     "metadata": {},
     "output_type": "display_data"
    },
    {
     "data": {
      "text/markdown": [
       "Ma la tradizione ecclesiastica gli è stata **terribilmente** nemica; gli ha impresso il marchio dell''apostata e, con questa qualifica, lo ha condannato all''abbominio ed all''Ma, talvolta, nella vita, le contraddizioni s''impongono e diventa impossibile il sottrarvisi; in quel momento supremo della vita di Giuliano, l''imperatore ed il filosofo venivano ad urtarsi, e la forza delle cose voleva che l''imperatore facesse tacere il filosofo."
      ],
      "text/plain": [
       "<IPython.core.display.Markdown object>"
      ]
     },
     "metadata": {},
     "output_type": "display_data"
    },
    {
     "data": {
      "text/markdown": [
       "Ma qui avviene un fatto strano, impreveduto, un fatto **terribilmente** funesto che basterebbe, anche solo, a provare come fosse poco equilibrata la mente di quel giovane geniale."
      ],
      "text/plain": [
       "<IPython.core.display.Markdown object>"
      ]
     },
     "metadata": {},
     "output_type": "display_data"
    },
    {
     "data": {
      "text/markdown": [
       "Ma come è drammatico ed interessante l''incontro, nella scuola di Atene, di questi due giovani, destinati a diventare **terribilmente** nemici l''uno dell''altro, e che già si spiavano a vicenda con quell''acume che dà l''odio istintivo."
      ],
      "text/plain": [
       "<IPython.core.display.Markdown object>"
      ]
     },
     "metadata": {},
     "output_type": "display_data"
    },
    {
     "data": {
      "text/markdown": [
       "Se Gregorio fuonnipotente gerarchia, è diventata la negazione di sè stessa, ed ha data al mondo quella società feroce, selvaggia, **terribilmente** appassionata, senza pietà e senza amore, di cui la Divina Commedia e i drammi di Shakespeare ci presentano il quadro, sebbene inclinasse ai monarchiani, trovò una formola di conciliazione che non accontentò i partiti rivali, ma che, **terribilmente** oscura e tutta composta di frasi contradditorie, pose il mistero e l''incomprensibile come elementi essenziali dellasuo fondatore, era la pura espressione di un sentimento morale, l''aspirazione ad un ideale di giustizia, una protesta **terribilmente** eloquente nella sua mitezza contro le iniquità del mondo."
      ],
      "text/plain": [
       "<IPython.core.display.Markdown object>"
      ]
     },
     "metadata": {},
     "output_type": "display_data"
    },
    {
     "data": {
      "text/markdown": [
       "La predicazione di Gesù, tanto originale pel soffiociviltà ellenica, egli voleva impedirne la rovina, considerava come un supremo dovere il difenderla dai pericoli che **terribilmente** la premevano."
      ],
      "text/plain": [
       "<IPython.core.display.Markdown object>"
      ]
     },
     "metadata": {},
     "output_type": "display_data"
    },
    {
     "data": {
      "text/markdown": [
       "Quando poi, aperta la lettera, la lessi, imagina lo statoonnipotente gerarchia, è diventata la negazione di sè stessa, ed ha data al mondo quella società feroce, selvaggia, **terribilmente** appassionata, senza pietà e senza amore, di cui la Divina Commedia e i drammi di Shakespeare ci presentano il quadrociviltà ellenica, egli voleva impedirne la rovina, considerava come un supremo dovere il difenderla dai pericoli che **terribilmente** la premevano."
      ],
      "text/plain": [
       "<IPython.core.display.Markdown object>"
      ]
     },
     "metadata": {},
     "output_type": "display_data"
    },
    {
     "data": {
      "text/markdown": [
       "Per questo, egli odiava il Cristianesimo il quale voleva, è vero, usufruire della sua eredità, edsuo fondatore, era la pura espressione di un sentimento morale, l''aspirazione ad un ideale di giustizia, una protesta **terribilmente** eloquente nella sua mitezza contro le iniquità del mondo."
      ],
      "text/plain": [
       "<IPython.core.display.Markdown object>"
      ]
     },
     "metadata": {},
     "output_type": "display_data"
    },
    {
     "data": {
      "text/markdown": [
       "La predicazione di Gesù, tanto originale pel soffio, sebbene inclinasse ai monarchiani, trovò una formola di conciliazione che non accontentò i partiti rivali, ma che, **terribilmente** oscura e tutta composta di frasi contradditorie, pose il mistero e l''incomprensibile come elementi essenziali delladegli dei, occupai il paese dei Salii, e scacciai i Camavi, avendo predati molti buoi e donne e fanciulli78."
      ],
      "text/plain": [
       "<IPython.core.display.Markdown object>"
      ]
     },
     "metadata": {},
     "output_type": "display_data"
    },
    {
     "data": {
      "text/markdown": [
       "Ma la tradizione ecclesiastica gli è stata **terribilmente** nemica; gli ha impresso il marchio dell''apostata e, con questa qualifica, lo ha condannato all''abbominio ed all''., 604, 10 sg."
      ],
      "text/plain": [
       "<IPython.core.display.Markdown object>"
      ]
     },
     "metadata": {},
     "output_type": "display_data"
    },
    {
     "data": {
      "text/markdown": [
       "Ma qui avviene un fatto strano, impreveduto, un fatto **terribilmente** funesto che basterebbe, anche solo, a provare come fosse poco equilibrata la mente di quel giovane geniale."
      ],
      "text/plain": [
       "<IPython.core.display.Markdown object>"
      ]
     },
     "metadata": {},
     "output_type": "display_data"
    },
    {
     "data": {
      "text/markdown": [
       "Ma Paolina, ferma al posto, pallida di commozione svolgeva in quel momento nel segreto del cuore una questione **terribilmente** importante per lei."
      ],
      "text/plain": [
       "<IPython.core.display.Markdown object>"
      ]
     },
     "metadata": {},
     "output_type": "display_data"
    },
    {
     "data": {
      "text/markdown": [
       "Ma Paolina, ferma al posto, pallida di commozione svolgeva in quel momento nel segreto del cuore una questione **terribilmente** importante per lei."
      ],
      "text/plain": [
       "<IPython.core.display.Markdown object>"
      ]
     },
     "metadata": {},
     "output_type": "display_data"
    },
    {
     "data": {
      "text/markdown": [
       "Approvo anchio, per quanto una colazione fatta insieme renda **terribilmente** borghese linizio di unamicizia come la nostra... Sar un incontro molto savio e molto poco romantico: quale certo non avrebbero sognato due poeti del secolo addietro: ma Voi non siete George Sand ed io non sono Alfred De Musset."
      ],
      "text/plain": [
       "<IPython.core.display.Markdown object>"
      ]
     },
     "metadata": {},
     "output_type": "display_data"
    },
    {
     "data": {
      "text/markdown": [
       "Oreste rimarrebbe **terribilmente** sconcertato da quel buco nel cielo."
      ],
      "text/plain": [
       "<IPython.core.display.Markdown object>"
      ]
     },
     "metadata": {},
     "output_type": "display_data"
    },
    {
     "data": {
      "text/markdown": [
       "Il cavaliere Alberto Cencetti--non soltanto è **terribilmente** miope--ma professore di matematiche e dei migliori, senz''altro."
      ],
      "text/plain": [
       "<IPython.core.display.Markdown object>"
      ]
     },
     "metadata": {},
     "output_type": "display_data"
    },
    {
     "data": {
      "text/markdown": [
       "A un tratto, la contessa si fece **terribilmente** pallida."
      ],
      "text/plain": [
       "<IPython.core.display.Markdown object>"
      ]
     },
     "metadata": {},
     "output_type": "display_data"
    },
    {
     "data": {
      "text/markdown": [
       "I capricci, sopra le tendine, sono di forma indescrivibile, e fanno **terribilmente** a pugni con tutto il resto."
      ],
      "text/plain": [
       "<IPython.core.display.Markdown object>"
      ]
     },
     "metadata": {},
     "output_type": "display_data"
    },
    {
     "data": {
      "text/markdown": [
       "I capricci, sopra le tendine, sono di forma indescrivibile, e fanno **terribilmente** a pugni con tutto il resto."
      ],
      "text/plain": [
       "<IPython.core.display.Markdown object>"
      ]
     },
     "metadata": {},
     "output_type": "display_data"
    },
    {
     "data": {
      "text/markdown": [
       "Il cavaliere Alberto Cencetti--non soltanto è **terribilmente** miope--ma professore di matematiche e dei migliori, senz''altro."
      ],
      "text/plain": [
       "<IPython.core.display.Markdown object>"
      ]
     },
     "metadata": {},
     "output_type": "display_data"
    },
    {
     "data": {
      "text/markdown": [
       "A un tratto, la contessa si fece **terribilmente** pallida."
      ],
      "text/plain": [
       "<IPython.core.display.Markdown object>"
      ]
     },
     "metadata": {},
     "output_type": "display_data"
    },
    {
     "data": {
      "text/markdown": [
       "Ma poi pensando d'' aver qualche cosa di più interessante pel capo, ripigliò ridendo:  aggrappati a sporgenze rocciose quasi impercettibili, sospesi a mezza costa con un abisso sul capo ed uno ai piedi, **terribilmente** pittoreschi, dei quali l''estate nasconde il miserrimo aspetto e l''inverno rivela l''esistenza sempre pericolante.Sono arrivato di buon mattino, ho viaggiato tutta notte... non saprei neanche dove avrei potuto averla sentita."
      ],
      "text/plain": [
       "<IPython.core.display.Markdown object>"
      ]
     },
     "metadata": {},
     "output_type": "display_data"
    },
    {
     "data": {
      "text/markdown": [
       ", con voci umane di preghiera e di lamento, con grida umane di gioia, con bassi accenti umani di rimprovero e acuti di angoscia , esprimendo, compendiando, commentando le precoci torture della mia adolescenza, le mie caldezze d''amore e leaggrappati a sporgenze rocciose quasi impercettibili, sospesi a mezza costa con un abisso sul capo ed uno ai piedi, **terribilmente** pittoreschi, dei quali l''estate nasconde il miserrimo aspetto e l''inverno rivela l''esistenza sempre pericolante.I padroni di alcuni castelli disabitati od inabitabili dovettero rifarne la porta e sbarrarla e acciecare le finestre a pian terreno, perchè a notte chiusa proprio nell''ora degli spettri, saliva gente del paese a far man bassa su quel pochissimo durato in piedi, a rubare i colonnini delle finestre e i gradini della scala."
      ],
      "text/plain": [
       "<IPython.core.display.Markdown object>"
      ]
     },
     "metadata": {},
     "output_type": "display_data"
    },
    {
     "data": {
      "text/markdown": [
       "È stata una colpa; ma l''ho espiata con lunghi dolori; la espio **terribilmente** adesso, nella vergogna che mi assale e mi ricopre davanti a voi."
      ],
      "text/plain": [
       "<IPython.core.display.Markdown object>"
      ]
     },
     "metadata": {},
     "output_type": "display_data"
    },
    {
     "data": {
      "text/markdown": [
       "È stata una colpa; ma l''ho espiata con lunghi dolori; la espio **terribilmente** adesso, nella vergogna che mi assale e mi ricopre davanti a voi."
      ],
      "text/plain": [
       "<IPython.core.display.Markdown object>"
      ]
     },
     "metadata": {},
     "output_type": "display_data"
    },
    {
     "data": {
      "text/markdown": [
       "le piaghe che paion vere piaghe, il color della pelle, la contrazione del viso, l''atteggiamento, lo sguardo, ogni cosa **terribilmente** vera; direste che a toccarlo si deve sentire il tremito delle membra e il calor del sangue; vi par che le sue labbra sique'' tempi; che, veramente, più tardi la divozione andava scemando per gradi; più raramente il nodo era disfatto; più raramente aperto lo scatolino elegante; poi dimenticato del tutto in un angolo del conscio cassetto, dove talvolta rovistandocavalieri, condotti dal vecchio Abu Ben Gileli, il caid delle cinquanta bastonate, il quale mi lancia uno sguardo **terribilmente** espressivo rasente la schiena."
      ],
      "text/plain": [
       "<IPython.core.display.Markdown object>"
      ]
     },
     "metadata": {},
     "output_type": "display_data"
    },
    {
     "data": {
      "text/markdown": [
       "Dio ècavalieri, condotti dal vecchio Abu Ben Gileli, il caid delle cinquanta bastonate, il quale mi lancia uno sguardo **terribilmente** espressivo rasente la schiena."
      ],
      "text/plain": [
       "<IPython.core.display.Markdown object>"
      ]
     },
     "metadata": {},
     "output_type": "display_data"
    },
    {
     "data": {
      "text/markdown": [
       "Ma doveva essere **terribilmente** tragica la condizione del forte negli ultimi giorni, quando già erano stati costretti a levar via la più parte dei\" ma non si poteva chiamare ancora \"un grand''uomo\"; bisognava aspettare dell''altro."
      ],
      "text/plain": [
       "<IPython.core.display.Markdown object>"
      ]
     },
     "metadata": {},
     "output_type": "display_data"
    },
    {
     "data": {
      "text/markdown": [
       "– Ma la signorina lo rimbeccava **terribilmente** ."
      ],
      "text/plain": [
       "<IPython.core.display.Markdown object>"
      ]
     },
     "metadata": {},
     "output_type": "display_data"
    },
    {
     "data": {
      "text/markdown": [
       "Si servivano anche **terribilmente** delle pietre, facendole franare dai monti; pochi uomini robusti, appoggiando le spalle e i gomiti alla roccia, eMa che volete farci ?"
      ],
      "text/plain": [
       "<IPython.core.display.Markdown object>"
      ]
     },
     "metadata": {},
     "output_type": "display_data"
    },
    {
     "data": {
      "text/markdown": [
       "le piaghe che paion vere piaghe, il color della pelle, la contrazione del viso, l''atteggiamento, lo sguardo, ogni cosa **terribilmente** vera; direste che a toccarlo si deve sentire il tremito delle membra e il calor del sangue; vi par che le sue labbra sidei Rotschild."
      ],
      "text/plain": [
       "<IPython.core.display.Markdown object>"
      ]
     },
     "metadata": {},
     "output_type": "display_data"
    },
    {
     "data": {
      "text/markdown": [
       "Gli Austriaci danno di volta; ma, dividendosi, scoprono nuovi battaglioni, **terribilmente** compatti, che rovesciano sugli assalitori una tempesta di palle."
      ],
      "text/plain": [
       "<IPython.core.display.Markdown object>"
      ]
     },
     "metadata": {},
     "output_type": "display_data"
    },
    {
     "data": {
      "text/markdown": [
       "Questa è legge diaveva rada, breve ed incolta, e, per farla finita col ritratto, dirò che una bella elegante, di quelle che so io, avrebbe raccapricciato a vederselo tra i piedi, e un cagnolino di buon gusto, come sono in generale tutti i cagnolini da salotto, gli avrebbeci avevano accompagnati alle porte, e quegli applausi e quelle grida ci scendevano nel cuore e gli davan delle strette **terribilmente** dolorose.--Oh tacete!--dicevamo dentro di noi--tacete, siamo soldati, e il nostro povero cuore si spezza!-- Seguìdisse ad alta voce dello stato infelicissimo in cui versava la città,--erano i giorni in cui il colèra infieriva più **terribilmente** ,--degli ospedali che difettavano d''infermieri, del debito che incombe ad ogni buon cittadino di prestar l''opera suaV''è un consiglio d''amministrazione, un presidente, un vice-presidente, un segretario, un cassiere, un economo, un esattore, un bibliotecario, un censore, un consigliere, e tutti fanno il loro dovere e nessuno è pagato."
      ],
      "text/plain": [
       "<IPython.core.display.Markdown object>"
      ]
     },
     "metadata": {},
     "output_type": "display_data"
    },
    {
     "data": {
      "text/markdown": [
       "Così apparivano **terribilmente** belli i colossi di pietra sul limitare dei templi; così, mirabilmente severe, lungo le pareti babilonesi, le immaginiIl degno priore si seccò maledettamente, a colazione, e il malumore gli crebbe tanto, mentre faceva vedere il convento al suo noioso visitatore, che incominciò a rispondergli in un certo modo agrodolce, che non era mai stato nelle sue consuetudini."
      ],
      "text/plain": [
       "<IPython.core.display.Markdown object>"
      ]
     },
     "metadata": {},
     "output_type": "display_data"
    },
    {
     "data": {
      "text/markdown": [
       "perchè i francesi non avessero pensato molto tempo prima a costruire un forte sulla cima di quel monte che dominava così **terribilmente** Pinerolo; perchè è certo che del forte di Santa Brigida non c''era ancora segno nell''aprile del 1692, e che i lavori nonIn verità sarebbe curiosa che noi, uomini provati al fuoco delle passioni, facessimo oggi una sconcia caduta!"
      ],
      "text/plain": [
       "<IPython.core.display.Markdown object>"
      ]
     },
     "metadata": {},
     "output_type": "display_data"
    },
    {
     "data": {
      "text/markdown": [
       "Con un impeto irresistibile Sandokan s'era gettato in mezzo alle file sciabolandole **terribilmente** e scompaginandole."
      ],
      "text/plain": [
       "<IPython.core.display.Markdown object>"
      ]
     },
     "metadata": {},
     "output_type": "display_data"
    },
    {
     "data": {
      "text/markdown": [
       "ci avevano accompagnati alle porte, e quegli applausi e quelle grida ci scendevano nel cuore e gli davan delle strette **terribilmente** dolorose.--Oh tacete!--dicevamo dentro di noi--tacete, siamo soldati, e il nostro povero cuore si spezza!-- Seguìdisse ad alta voce dello stato infelicissimo in cui versava la città,--erano i giorni in cui il colèra infieriva più **terribilmente** ,--degli ospedali che difettavano d''infermieri, del debito che incombe ad ogni buon cittadino di prestar l''opera suaNon gli aveva chiesto nulla; ma quella sera stessa, chiamando a sè con qualche pretesto gli amici comuni dei due gentiluomini, era venuta a capo di stabilire un buon servizio di esplorazione."
      ],
      "text/plain": [
       "<IPython.core.display.Markdown object>"
      ]
     },
     "metadata": {},
     "output_type": "display_data"
    },
    {
     "data": {
      "text/markdown": [
       "Gli Austriaci danno di volta; ma, dividendosi, scoprono nuovi battaglioni, **terribilmente** compatti, che rovesciano sugli assalitori una tempesta di palle."
      ],
      "text/plain": [
       "<IPython.core.display.Markdown object>"
      ]
     },
     "metadata": {},
     "output_type": "display_data"
    },
    {
     "data": {
      "text/markdown": [
       "Si servivano anche **terribilmente** delle pietre, facendole franare dai monti; pochi uomini robusti, appoggiando le spalle e i gomiti alla roccia, e facendo forza coi piedi o con le leve, smovevano, cacciavan giù dei pietroni enormi, che precipitando si rompevano, davan la mossa ad altri pietroni, squarciavan le colonne, spezzavano dei soldati in due, e portavan via braccia e gambe e file intere, sparpagliandosi come scariche di mitraglia, a cui l''angustia dei luoghi rendeva impossibile di sfuggire."
      ],
      "text/plain": [
       "<IPython.core.display.Markdown object>"
      ]
     },
     "metadata": {},
     "output_type": "display_data"
    },
    {
     "data": {
      "text/markdown": [
       "– Ma la signorina lo rimbeccava **terribilmente**."
      ],
      "text/plain": [
       "<IPython.core.display.Markdown object>"
      ]
     },
     "metadata": {},
     "output_type": "display_data"
    },
    {
     "data": {
      "text/markdown": [
       "Ma doveva essere **terribilmente** tragica la condizione del forte negli ultimi giorni, quando già erano stati costretti a levar via la più parte deiperchè i francesi non avessero pensato molto tempo prima a costruire un forte sulla cima di quel monte che dominava così **terribilmente** Pinerolo; perchè è certo che del forte di Santa Brigida non c''era ancora segno nell''aprile del 1692, e che i lavori nontempo a commettere un certo numero di sciocchezze, e ti vorrebbe qui per dargli una mano."
      ],
      "text/plain": [
       "<IPython.core.display.Markdown object>"
      ]
     },
     "metadata": {},
     "output_type": "display_data"
    },
    {
     "data": {
      "text/markdown": [
       "Così apparivano **terribilmente** belli i colossi di pietra sul limitare dei templi; così, mirabilmente severe, lungo le pareti babilonesi, le immaginiil suo debito di figlio."
      ],
      "text/plain": [
       "<IPython.core.display.Markdown object>"
      ]
     },
     "metadata": {},
     "output_type": "display_data"
    },
    {
     "data": {
      "text/markdown": [
       "– Ma la signorina lo rimbeccava **terribilmente** ."
      ],
      "text/plain": [
       "<IPython.core.display.Markdown object>"
      ]
     },
     "metadata": {},
     "output_type": "display_data"
    },
    {
     "data": {
      "text/markdown": [
       "Si servivano anche **terribilmente** delle pietre, facendole franare dai monti; pochi uomini robusti, appoggiando le spalle e i gomiti alla roccia, ePrecedendo di qualche passo i compagni, il padrino Adelindo entrava nel chiostro."
      ],
      "text/plain": [
       "<IPython.core.display.Markdown object>"
      ]
     },
     "metadata": {},
     "output_type": "display_data"
    },
    {
     "data": {
      "text/markdown": [
       "La figura del suo Principe **terribilmente** sinistra, impassibile e serena, ha sulla fronte i vapori luminosi di un sogno--costituire uno Stato nazionale,a vivere di battaglie e a conquistare città, cerca istintivamente una cornice dove fissarsi."
      ],
      "text/plain": [
       "<IPython.core.display.Markdown object>"
      ]
     },
     "metadata": {},
     "output_type": "display_data"
    },
    {
     "data": {
      "text/markdown": [
       "già a Pietroburgo, ripresa dal bisogno di vivere e di brillare dopo quella lunga solitudine nel castello, ove si era **terribilmente** annoiata."
      ],
      "text/plain": [
       "<IPython.core.display.Markdown object>"
      ]
     },
     "metadata": {},
     "output_type": "display_data"
    },
    {
     "data": {
      "text/markdown": [
       "Il suo volto era **terribilmente** livido; ella balzò in piedi arretrando e questo atto la tradì."
      ],
      "text/plain": [
       "<IPython.core.display.Markdown object>"
      ]
     },
     "metadata": {},
     "output_type": "display_data"
    },
    {
     "data": {
      "text/markdown": [
       "Una luce quasi fumida ondeggiò sugli occhi del principe.E il suo pensiero tornava a Loris, **terribilmente** bello in quella caverna, quando le aveva gettato addosso Topine, e più **terribilmente** cattivo dopo con quel sorriso di scherno."
      ],
      "text/plain": [
       "<IPython.core.display.Markdown object>"
      ]
     },
     "metadata": {},
     "output_type": "display_data"
    },
    {
     "data": {
      "text/markdown": [
       "E il suo pensiero tornava a Loris, **terribilmente** bello in quella caverna, quando le aveva gettato addosso Topine, e più **terribilmente** cattivo dopo con quel sorriso dimio salvatore: senza di lui mi avrebbero ucciso e rubato il sacchetto."
      ],
      "text/plain": [
       "<IPython.core.display.Markdown object>"
      ]
     },
     "metadata": {},
     "output_type": "display_data"
    },
    {
     "data": {
      "text/markdown": [
       "Ella pareva perplessa; la sua fisonomia diventò **terribilmente** severa."
      ],
      "text/plain": [
       "<IPython.core.display.Markdown object>"
      ]
     },
     "metadata": {},
     "output_type": "display_data"
    },
    {
     "data": {
      "text/markdown": [
       "Loris ordinò a Topine di andare innanzi, e rimase in faccia a tutti, guardandoli così **terribilmente** che non osarono attaccarlo."
      ],
      "text/plain": [
       "<IPython.core.display.Markdown object>"
      ]
     },
     "metadata": {},
     "output_type": "display_data"
    },
    {
     "data": {
      "text/markdown": [
       "e di Strauss, non gli parve più che ben piccola; altre rivolte gli si accesero in cuore, altri odi lo sollevarono **terribilmente** in alto contro tutte le autorità della terra."
      ],
      "text/plain": [
       "<IPython.core.display.Markdown object>"
      ]
     },
     "metadata": {},
     "output_type": "display_data"
    },
    {
     "data": {
      "text/markdown": [
       "Loris salvo, ella sarebbe morta per lui, **terribilmente** bella nella gloria di quell''attentato non riuscito, e nel silenzio sui propri complici, su lui, che la vendicherebbe.della sua faccia."
      ],
      "text/plain": [
       "<IPython.core.display.Markdown object>"
      ]
     },
     "metadata": {},
     "output_type": "display_data"
    },
    {
     "data": {
      "text/markdown": [
       "Loris rosso, grondante di sudore, colla lanterna, che gli riverberava sul volto, le parve **terribilmente** sinistro."
      ],
      "text/plain": [
       "<IPython.core.display.Markdown object>"
      ]
     },
     "metadata": {},
     "output_type": "display_data"
    },
    {
     "data": {
      "text/markdown": [
       "Egli vedeva sempre il principe, ritto colla faccia gialla di malato **terribilmente** immobile, girare uno sguardo su tutti quegli invitati contandoli; quanti erano?"
      ],
      "text/plain": [
       "<IPython.core.display.Markdown object>"
      ]
     },
     "metadata": {},
     "output_type": "display_data"
    },
    {
     "data": {
      "text/markdown": [
       "Ma, e tutti gli altri stipati nellatutta l''impassibilità necessaria a tale inintelligibile olocausto, perchè egli solo aveva avuto l''anima così **terribilmente** logica da volerlo."
      ],
      "text/plain": [
       "<IPython.core.display.Markdown object>"
      ]
     },
     "metadata": {},
     "output_type": "display_data"
    },
    {
     "data": {
      "text/markdown": [
       "Tutti gl''istinti malvagi della sua natura rifermentavano, mentre la ragione più **terribilmente** limpida ora gli rivelava la falsità di quei quattro anni."
      ],
      "text/plain": [
       "<IPython.core.display.Markdown object>"
      ]
     },
     "metadata": {},
     "output_type": "display_data"
    },
    {
     "data": {
      "text/markdown": [
       "Loris salvo, ella sarebbe morta per lui, **terribilmente** bella nella gloria di quell''attentato non riuscito, e nel silenzio sui propri complici, su lui, che la vendicherebbe.Ma perchè tutti ci abbandonano anche prima?"
      ],
      "text/plain": [
       "<IPython.core.display.Markdown object>"
      ]
     },
     "metadata": {},
     "output_type": "display_data"
    },
    {
     "data": {
      "text/markdown": [
       "Finalmente dietro l''Austria stava l''Europa monarchica vigile ed ostile ad ogni mena di rivoluzione, **terribilmente** armata e pronta a qualunque eccesso."
      ],
      "text/plain": [
       "<IPython.core.display.Markdown object>"
      ]
     },
     "metadata": {},
     "output_type": "display_data"
    },
    {
     "data": {
      "text/markdown": [
       "Quello della libertàassurde e di combinazioni impossibili, di reticenze perfide e di sottintesi indicibili, mentre Mazzini sempre **terribilmente** limpido guidava il battaglione sacro delle idee e delle poche forze rivoluzionarie su per l''erta di una nuova epocaNon dormivo più, benchè nella casa potessi bere quanto volevo: mi davano anche del vino buono."
      ],
      "text/plain": [
       "<IPython.core.display.Markdown object>"
      ]
     },
     "metadata": {},
     "output_type": "display_data"
    },
    {
     "data": {
      "text/markdown": [
       "L''antica Italia dei guelfi e dei ghibellini, così inesaustamente e **terribilmente** guerriera, non era certo riconoscibile in questa ultima Italia di cavalieri serventi e di eserciti inservibili, ove, tutte le dita pizzicavano le corde con inconscia veemenza; Niccolini stava intontito, il pubblico era perduto di terrore ."
      ],
      "text/plain": [
       "<IPython.core.display.Markdown object>"
      ]
     },
     "metadata": {},
     "output_type": "display_data"
    },
    {
     "data": {
      "text/markdown": [
       "Infatti per opera segreta sua i comizi crescevano di numero e di violenzanel panneggiamento di troppi sistemi storici e filosofici, si veniva sbrogliando coll''aiuto delle idee francesi più **terribilmente** logiche e chiare."
      ],
      "text/plain": [
       "<IPython.core.display.Markdown object>"
      ]
     },
     "metadata": {},
     "output_type": "display_data"
    },
    {
     "data": {
      "text/markdown": [
       "La ho vista nuda e la sua nudità era allora **terribilmente** lasciva...; invece calma, gelida mi guardava colle grandi pupille azzurre, inesplicabilmente curiose, mentreluce crepuscolare davanti al finestrino del vagone come per una incertezza di sogno; avrei sentito coll''instintivo terrore di una novissima sensazione l''anelito violento della locomotiva, i suoi crolli cupi sui ponti, lo scricchiolìo de'', del Sacro Collegio, dei Palazzi Apostolici, delle guardie, ecc., ecc.\"."
      ],
      "text/plain": [
       "<IPython.core.display.Markdown object>"
      ]
     },
     "metadata": {},
     "output_type": "display_data"
    },
    {
     "data": {
      "text/markdown": [
       "monacale, discendendo nella vita politica, irrompe con due nuovi ordini di frati profondamente originali e **terribilmente** guerrieri."
      ],
      "text/plain": [
       "<IPython.core.display.Markdown object>"
      ]
     },
     "metadata": {},
     "output_type": "display_data"
    },
    {
     "data": {
      "text/markdown": [
       "–  la propria parte di signore, parve giganteggiare fra le massime figure del tempo, tra i Visconti e gli Scaligeri, così **terribilmente** trionfanti nella storica realtà."
      ],
      "text/plain": [
       "<IPython.core.display.Markdown object>"
      ]
     },
     "metadata": {},
     "output_type": "display_data"
    },
    {
     "data": {
      "text/markdown": [
       "Come la sua fronte si rivolgeva **terribilmente** bianca!"
      ],
      "text/plain": [
       "<IPython.core.display.Markdown object>"
      ]
     },
     "metadata": {},
     "output_type": "display_data"
    },
    {
     "data": {
      "text/markdown": [
       "Il suo volto era **terribilmente** livido; ella balzò in piedi arretrando e questo atto la tradì."
      ],
      "text/plain": [
       "<IPython.core.display.Markdown object>"
      ]
     },
     "metadata": {},
     "output_type": "display_data"
    },
    {
     "data": {
      "text/markdown": [
       "in una ricca vesta da camera bruna a bruni ricami, pallida, mal pettinata, con un cerchio turchino sotto gli occhi così **terribilmente** più vivi."
      ],
      "text/plain": [
       "<IPython.core.display.Markdown object>"
      ]
     },
     "metadata": {},
     "output_type": "display_data"
    },
    {
     "data": {
      "text/markdown": [
       "La figura del suo Principe **terribilmente** sinistra, impassibile e serena, ha sulla fronte i vapori luminosi di un sogno--costituire uno Stato nazionale,Poi la catastrofe finì di confonderla: si trovò nel piccolo ducato di Parma come in una grande villeggiatura, seppe Napoleone a Sant''Elena e dimenticò il re di Roma, mutato in duca di Reichstadt a Vienna."
      ],
      "text/plain": [
       "<IPython.core.display.Markdown object>"
      ]
     },
     "metadata": {},
     "output_type": "display_data"
    },
    {
     "data": {
      "text/markdown": [
       "mai un collo, nè due spalle più voluttuose, ma il seno abilmente impicciolito dal velo aveva ancora un''ampiezza **terribilmente** lasciva; ma la statura, il portamento, l''imperiale maestà del volto appena appena commosso la facevano un tipoindarno tante tragedie greche senza accorgersi che ogni cronaca dei nostri comuni era affollata di figure ben più **terribilmente** belle che nelle corti di Tebe e di Atene?"
      ],
      "text/plain": [
       "<IPython.core.display.Markdown object>"
      ]
     },
     "metadata": {},
     "output_type": "display_data"
    },
    {
     "data": {
      "text/markdown": [
       "La poesia italiana del Cinquecento perì nella scuola sotto il peso della nuovaMargherita, e la speranza rassegnata di Alfredo si esprimono col medesimo canto, mentre sentimento e parole sono così **terribilmente** opposti?"
      ],
      "text/plain": [
       "<IPython.core.display.Markdown object>"
      ]
     },
     "metadata": {},
     "output_type": "display_data"
    },
    {
     "data": {
      "text/markdown": [
       "Perchè questo fatale convenzionalismo, che deforma la bellezza e mutila l''arte: perchè, essendo grandi,risposta in una di quelle occhiate di alterigia, che le grandi dame e gli uomini superiori trovano così spesso e così **terribilmente** ."
      ],
      "text/plain": [
       "<IPython.core.display.Markdown object>"
      ]
     },
     "metadata": {},
     "output_type": "display_data"
    },
    {
     "data": {
      "text/markdown": [
       "il nome della contessa Savina come la cosa più naturale del mondo... ne sono rimasto colpito... e mi hai fatto **terribilmente** soffrire.... Ora che è passata, ti prego di dirmi, come mai ti è entrata in testa una simile dabbenaggine!..."
      ],
      "text/plain": [
       "<IPython.core.display.Markdown object>"
      ]
     },
     "metadata": {},
     "output_type": "display_data"
    },
    {
     "data": {
      "text/markdown": [
       "Tu nonsenza le carte, ci pensavo il giorno e la notte, e le vicende del giuoco unite al liquore di Bacco mi agitavano il sonno **terribilmente** ."
      ],
      "text/plain": [
       "<IPython.core.display.Markdown object>"
      ]
     },
     "metadata": {},
     "output_type": "display_data"
    },
    {
     "data": {
      "text/markdown": [
       "nel panneggiamento di troppi sistemi storici e filosofici, si veniva sbrogliando coll''aiuto delle idee francesi più **terribilmente** logiche e chiare."
      ],
      "text/plain": [
       "<IPython.core.display.Markdown object>"
      ]
     },
     "metadata": {},
     "output_type": "display_data"
    },
    {
     "data": {
      "text/markdown": [
       "L''Austria, rappresentante dell''assolutismo e del più eteroclito impero europeo, venivaassurde e di combinazioni impossibili, di reticenze perfide e di sottintesi indicibili, mentre Mazzini sempre **terribilmente** limpido guidava il battaglione sacro delle idee e delle poche forze rivoluzionarie su per l''erta di una nuova epocadella patria."
      ],
      "text/plain": [
       "<IPython.core.display.Markdown object>"
      ]
     },
     "metadata": {},
     "output_type": "display_data"
    },
    {
     "data": {
      "text/markdown": [
       "Finalmente dietro l''Austria stava l''Europa monarchica vigile ed ostile ad ogni mena di rivoluzione, **terribilmente** armata e pronta a qualunque eccesso."
      ],
      "text/plain": [
       "<IPython.core.display.Markdown object>"
      ]
     },
     "metadata": {},
     "output_type": "display_data"
    },
    {
     "data": {
      "text/markdown": [
       "è così mobile e sincera, così pronta e fugace, che le lagrime si mescolano al riso e l''entusiasmo all''ironia; spesso , anzi troppo spesso, lo si vede sottrarsi alla commozione di una tenerezza con un motto osceno, o ergersi da unail nome della contessa Savina come la cosa più naturale del mondo... ne sono rimasto colpito... e mi hai fatto **terribilmente** soffrire.... Ora che è passata, ti prego di dirmi, come mai ti è entrata in testa una simile dabbenaggine!..."
      ],
      "text/plain": [
       "<IPython.core.display.Markdown object>"
      ]
     },
     "metadata": {},
     "output_type": "display_data"
    },
    {
     "data": {
      "text/markdown": [
       "Loris rosso, grondante di sudore, colla lanterna, che gli riverberava sul volto, le parve **terribilmente** sinistro."
      ],
      "text/plain": [
       "<IPython.core.display.Markdown object>"
      ]
     },
     "metadata": {},
     "output_type": "display_data"
    },
    {
     "data": {
      "text/markdown": [
       "Egli vedeva sempre il principe, ritto colla faccia gialla di malato **terribilmente** immobile, girare uno sguardo su tutti quegli invitati contandoli; quanti erano?"
      ],
      "text/plain": [
       "<IPython.core.display.Markdown object>"
      ]
     },
     "metadata": {},
     "output_type": "display_data"
    },
    {
     "data": {
      "text/markdown": [
       "Ma, e tutti gli altri stipati nellatutta l''impassibilità necessaria a tale inintelligibile olocausto, perchè egli solo aveva avuto l''anima così **terribilmente** logica da volerlo."
      ],
      "text/plain": [
       "<IPython.core.display.Markdown object>"
      ]
     },
     "metadata": {},
     "output_type": "display_data"
    },
    {
     "data": {
      "text/markdown": [
       "Quale differenzae di Strauss, non gli parve più che ben piccola; altre rivolte gli si accesero in cuore, altri odi lo sollevarono **terribilmente** in alto contro tutte le autorità della terra."
      ],
      "text/plain": [
       "<IPython.core.display.Markdown object>"
      ]
     },
     "metadata": {},
     "output_type": "display_data"
    },
    {
     "data": {
      "text/markdown": [
       "Tutti gl''istinti malvagi della sua natura rifermentavano, mentre la ragione più **terribilmente** limpida ora gli rivelava la falsità di quei quattro anni."
      ],
      "text/plain": [
       "<IPython.core.display.Markdown object>"
      ]
     },
     "metadata": {},
     "output_type": "display_data"
    },
    {
     "data": {
      "text/markdown": [
       "Loris ordinò a Topine di andare innanzi, e rimase in faccia a tutti, guardandoli così **terribilmente** che non osarono attaccarlo."
      ],
      "text/plain": [
       "<IPython.core.display.Markdown object>"
      ]
     },
     "metadata": {},
     "output_type": "display_data"
    },
    {
     "data": {
      "text/markdown": [
       "Ella pareva perplessa; la sua fisonomia diventò **terribilmente** severa."
      ],
      "text/plain": [
       "<IPython.core.display.Markdown object>"
      ]
     },
     "metadata": {},
     "output_type": "display_data"
    },
    {
     "data": {
      "text/markdown": [
       "terrore ripara in un convento; Astolfo, suo successore, si arresta in mezzo a vittorie insperate, colto dallo stesso spavento , sulla via di Roma; e allora Stefano II, sublime di ardimento, viene a minacciarlo sino nel suo castello di Pavia, passasenza le carte, ci pensavo il giorno e la notte, e le vicende del giuoco unite al liquore di Bacco mi agitavano il sonno **terribilmente** ."
      ],
      "text/plain": [
       "<IPython.core.display.Markdown object>"
      ]
     },
     "metadata": {},
     "output_type": "display_data"
    },
    {
     "data": {
      "text/markdown": [
       "già a Pietroburgo, ripresa dal bisogno di vivere e di brillare dopo quella lunga solitudine nel castello, ove si era **terribilmente** annoiata."
      ],
      "text/plain": [
       "<IPython.core.display.Markdown object>"
      ]
     },
     "metadata": {},
     "output_type": "display_data"
    },
    {
     "data": {
      "text/markdown": [
       "E il suo pensiero tornava a Loris, **terribilmente** bello in quella caverna, quando le aveva gettato addosso Topine, e più **terribilmente** cattivo dopo con quel sorriso di scherno."
      ],
      "text/plain": [
       "<IPython.core.display.Markdown object>"
      ]
     },
     "metadata": {},
     "output_type": "display_data"
    },
    {
     "data": {
      "text/markdown": [
       "La figura di Violetta, questa donna, della quale ogni particolare dovrebbe essere supremamente elegante: sempre leggiera anche nelle violenze più inebrianti del senso, o negl''impeti più disperati del sacrifizio: sempre mantenuta anche nel breve idillio coniugale, poichè invece di morire ricacciandosi nella miseria morale della sua vita anteriore, riprende facilmente il corso delle antiche feste: sempre sfarzosa e sempre con un uomo, al quale concede le proprie notti: la figura di Violetta così vera nelle contradizioni e così falsa nell''eroismo, fragile e terribile nella sua effimera prepotenza di grande mondana, spregevole e pietosa nell''ultima lotta col destino, contro al quale non ha mai saputo lottare colle forze del lavoro e le energie della volontà; questa figura composita come i suoi pranzi  mai un collo, nè due spalle più voluttuose, ma il seno abilmente impicciolito dal velo aveva ancora un''ampiezza **terribilmente** lasciva; ma la statura, il portamento, l''imperiale maestà del volto appena appena commosso la facevano un tipocosì ad un giovane, che sposandola per il danaro non le avrebbe certamente creduto."
      ],
      "text/plain": [
       "<IPython.core.display.Markdown object>"
      ]
     },
     "metadata": {},
     "output_type": "display_data"
    },
    {
     "data": {
      "text/markdown": [
       "E il suo pensiero tornava a Loris, **terribilmente** bello in quella caverna, quando le aveva gettato addosso Topine, e più **terribilmente** cattivo dopo con quel sorriso diSi sentiva ancora più inutile che sola, più piccola che inutile, nata in un villaggio, condannata forse a fare la maestra in un villaggio, costeggiando sempre le rive del mondo senza approdarvi, intendendo dei brani di musica, odorando delle folate di profumi, ma senza che nessuno si rivolgesse a guardarla confusa fra le immondizie addensatevi dal riflusso del mare."
      ],
      "text/plain": [
       "<IPython.core.display.Markdown object>"
      ]
     },
     "metadata": {},
     "output_type": "display_data"
    },
    {
     "data": {
      "text/markdown": [
       "L''antica Italia dei guelfi e dei ghibellini, così inesaustamente e **terribilmente** guerriera, non era certo riconoscibile in questa ultima Italia di cavalieri serventi e di eserciti inservibili, ovela propria parte di signore, parve giganteggiare fra le massime figure del tempo, tra i Visconti e gli Scaligeri, così **terribilmente** trionfanti nella storica realtà."
      ],
      "text/plain": [
       "<IPython.core.display.Markdown object>"
      ]
     },
     "metadata": {},
     "output_type": "display_data"
    },
    {
     "data": {
      "text/markdown": [
       "Si è creduto lungamente che Petrarca gli dedicasse una delle sue più belle canzoni;monacale, discendendo nella vita politica, irrompe con due nuovi ordini di frati profondamente originali e **terribilmente** guerrieri."
      ],
      "text/plain": [
       "<IPython.core.display.Markdown object>"
      ]
     },
     "metadata": {},
     "output_type": "display_data"
    },
    {
     "data": {
      "text/markdown": [
       "Come la sua fronte si rivolgeva **terribilmente** bianca!"
      ],
      "text/plain": [
       "<IPython.core.display.Markdown object>"
      ]
     },
     "metadata": {},
     "output_type": "display_data"
    },
    {
     "data": {
      "text/markdown": [
       "La ho vista nuda e la sua nudità era allora **terribilmente** lasciva...; invece calma, gelida mi guardava colle grandi pupille azzurre, inesplicabilmente curiose, mentreQuindi se ne andava a passo lento, e mi ricordo di aver sentito più di una volta dall''appartamento della duchessa la percossa cadenzata delle sue stampelle, che nella notte rimbalzava sino ai vetri delle nostre finestre."
      ],
      "text/plain": [
       "<IPython.core.display.Markdown object>"
      ]
     },
     "metadata": {},
     "output_type": "display_data"
    },
    {
     "data": {
      "text/markdown": [
       "risposta in una di quelle occhiate di alterigia, che le grandi dame e gli uomini superiori trovano così spesso e così **terribilmente** ."
      ],
      "text/plain": [
       "<IPython.core.display.Markdown object>"
      ]
     },
     "metadata": {},
     "output_type": "display_data"
    },
    {
     "data": {
      "text/markdown": [
       "in una ricca vesta da camera bruna a bruni ricami, pallida, mal pettinata, con un cerchio turchino sotto gli occhi così **terribilmente** più vivi."
      ],
      "text/plain": [
       "<IPython.core.display.Markdown object>"
      ]
     },
     "metadata": {},
     "output_type": "display_data"
    },
    {
     "data": {
      "text/markdown": [
       "Però quella carissima attitudine alla lunga doveva stancarle; Mimy, che se ne accorse la prima, si lasciòindarno tante tragedie greche senza accorgersi che ogni cronaca dei nostri comuni era affollata di figure ben più **terribilmente** belle che nelle corti di Tebe e di Atene?"
      ],
      "text/plain": [
       "<IPython.core.display.Markdown object>"
      ]
     },
     "metadata": {},
     "output_type": "display_data"
    },
    {
     "data": {
      "text/markdown": [
       "Margherita, e la speranza rassegnata di Alfredo si esprimono col medesimo canto, mentre sentimento e parole sono così **terribilmente** opposti?"
      ],
      "text/plain": [
       "<IPython.core.display.Markdown object>"
      ]
     },
     "metadata": {},
     "output_type": "display_data"
    },
    {
     "data": {
      "text/markdown": [
       "Stavano sempre nella stessa attitudine, Mimy sulle ginocchia di Elisa, entrambe con un braccio intorno alla cintura: quella vestita di nero colla luce dell''ebbrezza nel volto ancora macilento dalle passioni della notte e, in tale contrasto, stupendo; questa chiusa in una ricca vesta da camera bruna a bruni ricami, pallida, mal pettinata, con un cerchio turchino sotto gli occhi così **terribilmente** più vivi."
      ],
      "text/plain": [
       "<IPython.core.display.Markdown object>"
      ]
     },
     "metadata": {},
     "output_type": "display_data"
    },
    {
     "data": {
      "text/markdown": [
       "per un figlio di pope...  Egli solo forse conservava anche in quel momento tutta l''impassibilità necessaria a tale inintelligibile olocausto, perchè egli solo aveva avuto l''anima così **terribilmente** logica da volerlo."
      ],
      "text/plain": [
       "<IPython.core.display.Markdown object>"
      ]
     },
     "metadata": {},
     "output_type": "display_data"
    },
    {
     "data": {
      "text/markdown": [
       "A poco a poco, i fremiti, le ansie degli antichi leoni congiurati del Quarantotto che si riunivano lì in quel camerone attorno al vecchio Generale, s'erano ridestati in lui a farlo vergognare del suo pianto; le ombre di quei leoni, **terribilmente** sdegnate, gli eran sorte intorno e gli avevan gridato d'accorrere, sì, sì, d'accorrere, pur così vecchio com'era, a impedire con gli altri vecchi superstiti la distruzione della patria."
      ],
      "text/plain": [
       "<IPython.core.display.Markdown object>"
      ]
     },
     "metadata": {},
     "output_type": "display_data"
    },
    {
     "data": {
      "text/markdown": [
       "Questa zuppa scotta; scotta **terribilmente** !"
      ],
      "text/plain": [
       "<IPython.core.display.Markdown object>"
      ]
     },
     "metadata": {},
     "output_type": "display_data"
    },
    {
     "data": {
      "text/markdown": [
       "– Alza gli occhiali incommuovere da nessuna esagerazione, ma colpita, offesa dall''audacia di quella... signora D''Orea, vuol rispondere e **terribilmente** , ma non trova le parole."
      ],
      "text/plain": [
       "<IPython.core.display.Markdown object>"
      ]
     },
     "metadata": {},
     "output_type": "display_data"
    },
    {
     "data": {
      "text/markdown": [
       "Il suo caro amico, monsieur le duc, si era **terribilmente** compromesso!"
      ],
      "text/plain": [
       "<IPython.core.display.Markdown object>"
      ]
     },
     "metadata": {},
     "output_type": "display_data"
    },
    {
     "data": {
      "text/markdown": [
       "mi batte **terribilmente** il cuore... vacillo... aiuto, aiuto!"
      ],
      "text/plain": [
       "<IPython.core.display.Markdown object>"
      ]
     },
     "metadata": {},
     "output_type": "display_data"
    },
    {
     "data": {
      "text/markdown": [
       "il proprio astuccio di sigarette: la voce di sua moglie, il suo entusiasmo pel teatro di Wagner, gli urtano i nervi **terribilmente** ."
      ],
      "text/plain": [
       "<IPython.core.display.Markdown object>"
      ]
     },
     "metadata": {},
     "output_type": "display_data"
    },
    {
     "data": {
      "text/markdown": [
       "Era accompagnata da una copia di decreto del re che cassava la capitolazione, istituiva una Giunta di Stato cheil proprio astuccio di sigarette: la voce di sua moglie, il suo entusiasmo pel teatro di Wagner, gli urtano i nervi **terribilmente** ."
      ],
      "text/plain": [
       "<IPython.core.display.Markdown object>"
      ]
     },
     "metadata": {},
     "output_type": "display_data"
    },
    {
     "data": {
      "text/markdown": [
       "Diego e Cletto accorsi essi pure allo strazio del povero Fuoco, perdettero il lume della ragione, e mugghiando **terribilmente** si precipitarono in mezzo ai nemici."
      ],
      "text/plain": [
       "<IPython.core.display.Markdown object>"
      ]
     },
     "metadata": {},
     "output_type": "display_data"
    },
    {
     "data": {
      "text/markdown": [
       "commuovere da nessuna esagerazione, ma colpita, offesa dall''audacia di quella... signora D''Orea, vuol rispondere e **terribilmente** , ma non trova le parole."
      ],
      "text/plain": [
       "<IPython.core.display.Markdown object>"
      ]
     },
     "metadata": {},
     "output_type": "display_data"
    },
    {
     "data": {
      "text/markdown": [
       "Questa zuppa scotta; scotta **terribilmente** !"
      ],
      "text/plain": [
       "<IPython.core.display.Markdown object>"
      ]
     },
     "metadata": {},
     "output_type": "display_data"
    },
    {
     "data": {
      "text/markdown": [
       "Il suo caro amico, monsieur le duc, si era **terribilmente** compromesso!"
      ],
      "text/plain": [
       "<IPython.core.display.Markdown object>"
      ]
     },
     "metadata": {},
     "output_type": "display_data"
    },
    {
     "data": {
      "text/markdown": [
       "mi batte **terribilmente** il cuore... vacillo... aiuto, aiuto!"
      ],
      "text/plain": [
       "<IPython.core.display.Markdown object>"
      ]
     },
     "metadata": {},
     "output_type": "display_data"
    },
    {
     "data": {
      "text/markdown": [
       "Diego e Cletto accorsi essi pure allo strazio del povero Fuoco, perdettero il lume della ragione, e mugghiando **terribilmente** si precipitarono in mezzo ai nemici."
      ],
      "text/plain": [
       "<IPython.core.display.Markdown object>"
      ]
     },
     "metadata": {},
     "output_type": "display_data"
    },
    {
     "data": {
      "text/markdown": [
       "--Sì, e **terribilmente** ."
      ],
      "text/plain": [
       "<IPython.core.display.Markdown object>"
      ]
     },
     "metadata": {},
     "output_type": "display_data"
    },
    {
     "data": {
      "text/markdown": [
       "\"Ma Notis è forte e tremendo nelle sue ire e nelle sue vendette, e per quanto io ami quell''almea, mi vendicherò, ma ben **terribilmente** ."
      ],
      "text/plain": [
       "<IPython.core.display.Markdown object>"
      ]
     },
     "metadata": {},
     "output_type": "display_data"
    },
    {
     "data": {
      "text/markdown": [
       "Così **terribilmente** l''odiava Notis per seppellirlo in quest''orrida tomba?"
      ],
      "text/plain": [
       "<IPython.core.display.Markdown object>"
      ]
     },
     "metadata": {},
     "output_type": "display_data"
    },
    {
     "data": {
      "text/markdown": [
       "Ti ubriacherai **terribilmente** ."
      ],
      "text/plain": [
       "<IPython.core.display.Markdown object>"
      ]
     },
     "metadata": {},
     "output_type": "display_data"
    },
    {
     "data": {
      "text/markdown": [
       "--L''odiavi ben **terribilmente** , Fathma."
      ],
      "text/plain": [
       "<IPython.core.display.Markdown object>"
      ]
     },
     "metadata": {},
     "output_type": "display_data"
    },
    {
     "data": {
      "text/markdown": [
       "Alcuni barcaiuoli, sfidando il fuoco degli insorti che cresceva **terribilmente** , si slanciarono ai remi, ma caddero a mezzo ponte."
      ],
      "text/plain": [
       "<IPython.core.display.Markdown object>"
      ]
     },
     "metadata": {},
     "output_type": "display_data"
    },
    {
     "data": {
      "text/markdown": [
       "Ad un tratto Fathma impallidì **terribilmente** ."
      ],
      "text/plain": [
       "<IPython.core.display.Markdown object>"
      ]
     },
     "metadata": {},
     "output_type": "display_data"
    },
    {
     "data": {
      "text/markdown": [
       "--, dieci giorni fa la cercava ancora, interrogava i guerrieri che venivano dal Bahr-el-Abiad, giurava di vendicarsi **terribilmente** di questa donna che lo aveva indegnamente tradito, ed invece è qui e ancor viva."
      ],
      "text/plain": [
       "<IPython.core.display.Markdown object>"
      ]
     },
     "metadata": {},
     "output_type": "display_data"
    },
    {
     "data": {
      "text/markdown": [
       "Ti ubriacherai **terribilmente** ."
      ],
      "text/plain": [
       "<IPython.core.display.Markdown object>"
      ]
     },
     "metadata": {},
     "output_type": "display_data"
    },
    {
     "data": {
      "text/markdown": [
       "--L''odiavi ben **terribilmente** , Fathma."
      ],
      "text/plain": [
       "<IPython.core.display.Markdown object>"
      ]
     },
     "metadata": {},
     "output_type": "display_data"
    },
    {
     "data": {
      "text/markdown": [
       "Alcuni barcaiuoli, sfidando il fuoco degli insorti che cresceva **terribilmente** , si slanciarono ai remi, ma caddero a mezzo ponte."
      ],
      "text/plain": [
       "<IPython.core.display.Markdown object>"
      ]
     },
     "metadata": {},
     "output_type": "display_data"
    },
    {
     "data": {
      "text/markdown": [
       "La darnas, abbandonata a sè stessa per la morte del timoniere, girò di, dieci giorni fa la cercava ancora, interrogava i guerrieri che venivano dal Bahr-el-Abiad, giurava di vendicarsi **terribilmente** di questa donna che lo aveva indegnamente tradito, ed invece è qui e ancor viva."
      ],
      "text/plain": [
       "<IPython.core.display.Markdown object>"
      ]
     },
     "metadata": {},
     "output_type": "display_data"
    },
    {
     "data": {
      "text/markdown": [
       "Ad un tratto Fathma impallidì **terribilmente** ."
      ],
      "text/plain": [
       "<IPython.core.display.Markdown object>"
      ]
     },
     "metadata": {},
     "output_type": "display_data"
    },
    {
     "data": {
      "text/markdown": [
       "Così **terribilmente** l''odiava Notis per seppellirlo in quest''orrida tomba?"
      ],
      "text/plain": [
       "<IPython.core.display.Markdown object>"
      ]
     },
     "metadata": {},
     "output_type": "display_data"
    },
    {
     "data": {
      "text/markdown": [
       "--Sì, e **terribilmente** ."
      ],
      "text/plain": [
       "<IPython.core.display.Markdown object>"
      ]
     },
     "metadata": {},
     "output_type": "display_data"
    },
    {
     "data": {
      "text/markdown": [
       "\"Ma Notis è forte e tremendo nelle sue ire e nelle sue vendette, e per quanto io ami quell''almea, mi vendicherò, ma ben **terribilmente** ."
      ],
      "text/plain": [
       "<IPython.core.display.Markdown object>"
      ]
     },
     "metadata": {},
     "output_type": "display_data"
    },
    {
     "data": {
      "text/markdown": [
       "Come vorace fiamma, Poi che tutte afferrò l''aride secce Del vasto campo, il vicin bosco invade; **terribilmente** crepitando esulta Con cento lingue sanguinose a l''etra; Così questi venían dopo a un vessillo Fluttüante a l''avverseInfine quell''andare fu su questa superficie terrestre; la lupa che lo impedì, era bensì un mostro dell''inferno, ma non era nell''inferno, dipartita come era di là, dall''invidia satanica: l''altro viaggio fu sotterra."
      ],
      "text/plain": [
       "<IPython.core.display.Markdown object>"
      ]
     },
     "metadata": {},
     "output_type": "display_data"
    },
    {
     "data": {
      "text/markdown": [
       "acque; a te, padre Di feconde pianure, ove nei cheti Argini la natía possa governi; Padre d''alte rovine, allor che in ira **terribilmente** imperversando abbondi Fuor degli ardui ripari, e fosco, immenso Possiedi i campi, e sugli abissi imperi."
      ],
      "text/plain": [
       "<IPython.core.display.Markdown object>"
      ]
     },
     "metadata": {},
     "output_type": "display_data"
    },
    {
     "data": {
      "text/markdown": [
       "Come vorace fiamma, Poi che tutte afferrò l''aride secce Del vasto campo, il vicin bosco invade; **terribilmente** crepitando esulta Con cento lingue sanguinose a l''etra; Così questi venían dopo a un vessillo Fluttüante a l''avversePur dissento anche da lui."
      ],
      "text/plain": [
       "<IPython.core.display.Markdown object>"
      ]
     },
     "metadata": {},
     "output_type": "display_data"
    },
    {
     "data": {
      "text/markdown": [
       "acque; a te, padre Di feconde pianure, ove nei cheti Argini la natía possa governi; Padre d''alte rovine, allor che in ira **terribilmente** imperversando abbondi Fuor degli ardui ripari, e fosco, immenso Possiedi i campi, e sugli abissi imperi."
      ],
      "text/plain": [
       "<IPython.core.display.Markdown object>"
      ]
     },
     "metadata": {},
     "output_type": "display_data"
    },
    {
     "data": {
      "text/markdown": [
       "Ancor sogno un'aurora che gli occhi miei non videro; desidero, desidero **terribilmente** ancora!..."
      ],
      "text/plain": [
       "<IPython.core.display.Markdown object>"
      ]
     },
     "metadata": {},
     "output_type": "display_data"
    },
    {
     "data": {
      "text/markdown": [
       "Pallida e fredda come un cadavere, Rachele Cabib non aveva vita che negli occhi, i quali guardavano **terribilmente** innanzi a sè."
      ],
      "text/plain": [
       "<IPython.core.display.Markdown object>"
      ]
     },
     "metadata": {},
     "output_type": "display_data"
    },
    {
     "data": {
      "text/markdown": [
       "Il piano organizzato da quell'uomo è stato così magistralmente combinato, è stato tanto **terribilmente** condotto, che io sono chiuso in una rete da cui non arrivo a distrigarmi."
      ],
      "text/plain": [
       "<IPython.core.display.Markdown object>"
      ]
     },
     "metadata": {},
     "output_type": "display_data"
    },
    {
     "data": {
      "text/markdown": [
       "Da parecchie notti mi è impossibile dormire, si è **terribilmente** ingrossato, non sono più dolori, ma spasimi; la natura stessa mi fa sentire il bisogno di aprire una via al male chel''incomoda visita di una dirottissima pioggia."
      ],
      "text/plain": [
       "<IPython.core.display.Markdown object>"
      ]
     },
     "metadata": {},
     "output_type": "display_data"
    },
    {
     "data": {
      "text/markdown": [
       "Da parecchie notti mi è impossibile dormire, si è **terribilmente** ingrossato, non sono più dolori, ma spasimi; la natura stessa mi fa sentire il bisogno di aprire una via al male cheChe, se Alberto Pisani ha dovuto servire alla Nazione, passando sotto i lavorini monarchici della uniforme diplomatica, ha pur sempre permesso a Carlo Dossi il piacere della ribellione, quando risponde alla costituzionalità in questo modo:[66] \"Il re costituzionale può essere paragonato ad una meretrice, che è, per così dire, proprietà di chi lo paga, ossia del ministro al potere."
      ],
      "text/plain": [
       "<IPython.core.display.Markdown object>"
      ]
     },
     "metadata": {},
     "output_type": "display_data"
    },
    {
     "data": {
      "text/markdown": [
       "Pei vasti Adamantini portici solenni Della reggia immortal suonava ancora, **terribilmente** pauroso, l''inno Dell''immensa vittoria; ancor sul nome Del cattolico Iddio scherni possenti Avventavano i demoni,aspri doveri contratti nella vita e i godimenti della fantasia_."
      ],
      "text/plain": [
       "<IPython.core.display.Markdown object>"
      ]
     },
     "metadata": {},
     "output_type": "display_data"
    },
    {
     "data": {
      "text/markdown": [
       "Il signor Antonino non s''era accorto del tempo ch''era passato mentr''egli stava fantasticando, e nonun altro, e, sodisfatto dell''attenzione suscitata, riprese, con tono di solennità nella voce: -- Mi son vendicato, **terribilmente** , senza incorrere nel pericolo d''un processo e nella pettegola pubblicità dei giornali!"
      ],
      "text/plain": [
       "<IPython.core.display.Markdown object>"
      ]
     },
     "metadata": {},
     "output_type": "display_data"
    },
    {
     "data": {
      "text/markdown": [
       "tavolini, egli tendeva l''orecchio, col capo rovesciato sulla spalliera della sedia a braccioli, gli occhi chiusi, **terribilmente** pallido nella toga nera; tendeva l''orecchio per afferrare da lontano una nota di quell''insolito cantare di sua moglieI lavori del D''Annunzio nella traduzione del d''Herelle si sono trovati come a casa loro; il traduttore non ha dovuto penare molto; gli è bastato togliere in prestito a questo o a quello scrittore francese decadente certe forme in voga tra i seguaci della letteratura cosmopolita (or ora mi scappava dalla penna: della massoneria letteraria cosmopolita) e il colpo è riuscito."
      ],
      "text/plain": [
       "<IPython.core.display.Markdown object>"
      ]
     },
     "metadata": {},
     "output_type": "display_data"
    },
    {
     "data": {
      "text/markdown": [
       "Nessun pittore ha mai dipinto un''Ofelia così **terribilmente** vera da poter reggere il paragone di questa fotografia della Beppina."
      ],
      "text/plain": [
       "<IPython.core.display.Markdown object>"
      ]
     },
     "metadata": {},
     "output_type": "display_data"
    },
    {
     "data": {
      "text/markdown": [
       "Nessun pittore ha mai dipinto un''Ofelia così **terribilmente** vera da poter reggere il paragone di questa fotografia della Beppina."
      ],
      "text/plain": [
       "<IPython.core.display.Markdown object>"
      ]
     },
     "metadata": {},
     "output_type": "display_data"
    },
    {
     "data": {
      "text/markdown": [
       "Pei vasti Adamantini portici solenni Della reggia immortal suonava ancora, **terribilmente** pauroso, l''inno Dell''immensa vittoria; ancor sul nome Del cattolico Iddio scherni possenti Avventavano i demoni,a valersi di ogni arma contro la compagna infedele; una moglie impreparata all''onta che le pendeva sul capo; un amante atterrito dalla nuova responsabilità che lo minacciava e impaziente di scuotere un giogo che diveniva troppo pesante; dei figlinel cuore, ella riprovava le angosce dell''amore deluso, le smanie della gelosia, gli stimoli della vendetta, lo sgomento dell''incerto avvenire."
      ],
      "text/plain": [
       "<IPython.core.display.Markdown object>"
      ]
     },
     "metadata": {},
     "output_type": "display_data"
    },
    {
     "data": {
      "text/markdown": [
       "mesi, sotto l''ossessione di quella scena di delusione che aveva offeso il suo amor proprio e il suo amore, e che lo faceva **terribilmente** soffrire notte e giorno, quantunque egli tentasse ogni mezzo di distrarsi, anche perchè colei non potessecontro l''ingegnere, contro il Sindaco.... E degli esperimenti di terracotta neppure una parola!"
      ],
      "text/plain": [
       "<IPython.core.display.Markdown object>"
      ]
     },
     "metadata": {},
     "output_type": "display_data"
    },
    {
     "data": {
      "text/markdown": [
       "In questi ultimi mesi avevo sofferto più **terribilmente** ."
      ],
      "text/plain": [
       "<IPython.core.display.Markdown object>"
      ]
     },
     "metadata": {},
     "output_type": "display_data"
    },
    {
     "data": {
      "text/markdown": [
       "O espiava **terribilmente** il delitto di un istante?..."
      ],
      "text/plain": [
       "<IPython.core.display.Markdown object>"
      ]
     },
     "metadata": {},
     "output_type": "display_data"
    },
    {
     "data": {
      "text/markdown": [
       "-- E per ciò tu.... -- Io, caro Nelli, mi son vendicato più **terribilmente** ; nessuno di voi immagina come."
      ],
      "text/plain": [
       "<IPython.core.display.Markdown object>"
      ]
     },
     "metadata": {},
     "output_type": "display_data"
    },
    {
     "data": {
      "text/markdown": [
       "Quando però le vedeva piangere e **terribilmente** soffrire per le ansietà di un pericolo che le teneva sospese tra la vita e la morte e poteva produrre, tutt''a un tratto,Vi saltava dentro nudo, vi sguazzava spandendosi l''acqua con le mani su la testa--don Liddu lo aveva osservato dal buco della serratura--e, appena asciugatosi, via come il vento, per la campagna: quattro, cinque miglia, quasi avesse il diavolo in corpo."
      ],
      "text/plain": [
       "<IPython.core.display.Markdown object>"
      ]
     },
     "metadata": {},
     "output_type": "display_data"
    },
    {
     "data": {
      "text/markdown": [
       "**terribilmente** odiato...."
      ],
      "text/plain": [
       "<IPython.core.display.Markdown object>"
      ]
     },
     "metadata": {},
     "output_type": "display_data"
    },
    {
     "data": {
      "text/markdown": [
       "che ci fosse voluto tanto a sradicar dalla memoria del giovinotto la mala femmina di cui i di Reana avevano un così grande sgomento ; la ferita era bell''e rimarginata fin dall''arrivo di Guido a Venezia e bisognava pur riconoscere che la sirena nontavolini, egli tendeva l''orecchio, col capo rovesciato sulla spalliera della sedia a braccioli, gli occhi chiusi, **terribilmente** pallido nella toga nera; tendeva l''orecchio per afferrare da lontano una nota di quell''insolito cantare di sua moglieun altro, e, sodisfatto dell''attenzione suscitata, riprese, con tono di solennità nella voce: -- Mi son vendicato, **terribilmente** , senza incorrere nel pericolo d''un processo e nella pettegola pubblicità dei giornali!"
      ],
      "text/plain": [
       "<IPython.core.display.Markdown object>"
      ]
     },
     "metadata": {},
     "output_type": "display_data"
    },
    {
     "data": {
      "text/markdown": [
       "Era livido, con la fisonomia contratta, gli occhi **terribilmente** spalancati."
      ],
      "text/plain": [
       "<IPython.core.display.Markdown object>"
      ]
     },
     "metadata": {},
     "output_type": "display_data"
    },
    {
     "data": {
      "text/markdown": [
       "Le condizioni di Venezia s''aggravavano **terribilmente** ogni giorno."
      ],
      "text/plain": [
       "<IPython.core.display.Markdown object>"
      ]
     },
     "metadata": {},
     "output_type": "display_data"
    },
    {
     "data": {
      "text/markdown": [
       "Le condizioni di Venezia s''aggravavano **terribilmente** ogni giorno."
      ],
      "text/plain": [
       "<IPython.core.display.Markdown object>"
      ]
     },
     "metadata": {},
     "output_type": "display_data"
    },
    {
     "data": {
      "text/markdown": [
       "Quando però le vedeva piangere e **terribilmente** soffrire per le ansietà di un pericolo che le teneva sospese tra la vita e la morte e poteva produrre, tutt''a un tratto,Mai, mai gli era bastata la scienza arida e sola; un caldo alito di simpatia percorreva da cima a fondo tutti i suoi scritti, e nessuno storico sapeva meglio di lui, dai freddi documenti del passato, sprigionar le lacrime delle cose."
      ],
      "text/plain": [
       "<IPython.core.display.Markdown object>"
      ]
     },
     "metadata": {},
     "output_type": "display_data"
    },
    {
     "data": {
      "text/markdown": [
       "**terribilmente** odiato...."
      ],
      "text/plain": [
       "<IPython.core.display.Markdown object>"
      ]
     },
     "metadata": {},
     "output_type": "display_data"
    },
    {
     "data": {
      "text/markdown": [
       "mai levarmi di addosso il funesto dominio del suo filtro, del suo misterioso potere, che forse avrebbe operato più **terribilmente** da lontano.... Infatti, se ella mi avesse detto in quel momento, invece di: Parto!--Domani non spunterà più il sole,di strapparsi le fasce, Hermann e il servo lo afferrarono pei polsi."
      ],
      "text/plain": [
       "<IPython.core.display.Markdown object>"
      ]
     },
     "metadata": {},
     "output_type": "display_data"
    },
    {
     "data": {
      "text/markdown": [
       "Era livido, con la fisonomia contratta, gli occhi **terribilmente** spalancati."
      ],
      "text/plain": [
       "<IPython.core.display.Markdown object>"
      ]
     },
     "metadata": {},
     "output_type": "display_data"
    },
    {
     "data": {
      "text/markdown": [
       "O espiava **terribilmente** il delitto di un istante?..."
      ],
      "text/plain": [
       "<IPython.core.display.Markdown object>"
      ]
     },
     "metadata": {},
     "output_type": "display_data"
    },
    {
     "data": {
      "text/markdown": [
       "-- E per ciò tu.... -- Io, caro Nelli, mi son vendicato più **terribilmente** ; nessuno di voi immagina come."
      ],
      "text/plain": [
       "<IPython.core.display.Markdown object>"
      ]
     },
     "metadata": {},
     "output_type": "display_data"
    },
    {
     "data": {
      "text/markdown": [
       "Chi, in un giorno di battaglia, udì di lontano quel suono cupo e profondo sa che angoscia esso metta negli animi, che pallore sparga sui volti, e come sospenda, per così dire, in quella crudele trepidazione dila chiave di questo affascinante nuovo mondo: \"Il russo--egli dice in _Delitto e Gastigo_--è vasto come la sua patria, **terribilmente** inclinato a tutto quel che è fantastico e disordinato."
      ],
      "text/plain": [
       "<IPython.core.display.Markdown object>"
      ]
     },
     "metadata": {},
     "output_type": "display_data"
    },
    {
     "data": {
      "text/markdown": [
       "Il poeta obbedì e poi scrisse, per supplica, unVi dico anche : Se involontariamente vi danneggerò... se il danno sarà accertato... chi rompe paga...  di una nuova illusione che prendeva il posto dell''altra, che mi avrebbe ingannato come l''altra, che mi avrebbe fatto **terribilmente** soffrire e vanamente, come l''altra?"
      ],
      "text/plain": [
       "<IPython.core.display.Markdown object>"
      ]
     },
     "metadata": {},
     "output_type": "display_data"
    },
    {
     "data": {
      "text/markdown": [
       "Ma tornavola chiave di questo affascinante nuovo mondo: \"Il russo--egli dice in _Delitto e Gastigo_--è vasto come la sua patria, **terribilmente** inclinato a tutto quel che è fantastico e disordinato."
      ],
      "text/plain": [
       "<IPython.core.display.Markdown object>"
      ]
     },
     "metadata": {},
     "output_type": "display_data"
    },
    {
     "data": {
      "text/markdown": [
       "Permai levarmi di addosso il funesto dominio del suo filtro, del suo misterioso potere, che forse avrebbe operato più **terribilmente** da lontano.... Infatti, se ella mi avesse detto in quel momento, invece di: Parto!--Domani non spunterà più il sole,La bimba destava affetti diversi a seconda dell''indole più o meno tollerante, più o meno amorevole dei passeggeri, ma l''esotico personaggio che la accompagnava non riusciva simpatico a nessuno."
      ],
      "text/plain": [
       "<IPython.core.display.Markdown object>"
      ]
     },
     "metadata": {},
     "output_type": "display_data"
    },
    {
     "data": {
      "text/markdown": [
       "In questi ultimi mesi avevo sofferto più **terribilmente** ."
      ],
      "text/plain": [
       "<IPython.core.display.Markdown object>"
      ]
     },
     "metadata": {},
     "output_type": "display_data"
    },
    {
     "data": {
      "text/markdown": [
       "La infelice non poteva pensare, senza raccapriccio , alla continua presenza di quell''insultante testimone della ignominia di lei, di quella menzogna, di quell''ingannomesi, sotto l''ossessione di quella scena di delusione che aveva offeso il suo amor proprio e il suo amore, e che lo faceva **terribilmente** soffrire notte e giorno, quantunque egli tentasse ogni mezzo di distrarsi, anche perchè colei non potessePer poco ella non si persuadeva che suo figlio era un mostro di perversità."
      ],
      "text/plain": [
       "<IPython.core.display.Markdown object>"
      ]
     },
     "metadata": {},
     "output_type": "display_data"
    },
    {
     "data": {
      "text/markdown": [
       "– No, per carità, nessuna dimostrazione.... Me la ricordo quella dell''anno passato.... – Madi una nuova illusione che prendeva il posto dell''altra, che mi avrebbe ingannato come l''altra, che mi avrebbe fatto **terribilmente** soffrire e vanamente, come l''altra?"
      ],
      "text/plain": [
       "<IPython.core.display.Markdown object>"
      ]
     },
     "metadata": {},
     "output_type": "display_data"
    },
    {
     "data": {
      "text/markdown": [
       "Ezio Cami, fu per lunghi mesi, sotto l''ossessione di quella scena di delusione che aveva offeso il suo amor proprio e il suo amore, e che lo faceva **terribilmente** soffrire notte e giorno, quantunque egli tentasse ogni mezzo di distrarsi, anche perchè colei non potesse rallegrarsi degli effetti dell''opera sua, e non lo riputasse sua vittima."
      ],
      "text/plain": [
       "<IPython.core.display.Markdown object>"
      ]
     },
     "metadata": {},
     "output_type": "display_data"
    },
    {
     "data": {
      "text/markdown": [
       "La discesa fu terribile e **terribilmente** lunga."
      ],
      "text/plain": [
       "<IPython.core.display.Markdown object>"
      ]
     },
     "metadata": {},
     "output_type": "display_data"
    },
    {
     "data": {
      "text/markdown": [
       "Provava un malessere inesplicabile, le tempia gli ardevano **terribilmente** , tuttavia nei suoi occhi eravi un''espressione di volontà frenetica, che pareva dovesse tutto piegare a lui dinanzi.decenti\"."
      ],
      "text/plain": [
       "<IPython.core.display.Markdown object>"
      ]
     },
     "metadata": {},
     "output_type": "display_data"
    },
    {
     "data": {
      "text/markdown": [
       "È un puro ariano, dalla nobile faccia socratica che mi ricorda **terribilmente** un mio illustre insegnante di Università, tanto che ancora non riesco a vincere una certa esitanza, quando devoIl Reybaud ha voluto far la satira della borghesia, mettendo un tipo d''imbecille calzettaio in un mare di borghesissime avventure; e di più ha fatto un libro per provare che i calzettai non debbono occuparsi che di calzette: conclusione questa che oltrepassa i limiti onesti e mediocri del borghesismo per entrare in quelli della più ottusa asinità."
      ],
      "text/plain": [
       "<IPython.core.display.Markdown object>"
      ]
     },
     "metadata": {},
     "output_type": "display_data"
    },
    {
     "data": {
      "text/markdown": [
       "È un puro ariano, dalla nobile faccia socratica che mi ricorda **terribilmente** un mio illustre insegnante di Università, tanto che ancora non riesco a vincere una certa esitanza, quando devonella valle del Savio, giù sino a Folcente, per risalir poi verso Montioni e Monte Coronaro."
      ],
      "text/plain": [
       "<IPython.core.display.Markdown object>"
      ]
     },
     "metadata": {},
     "output_type": "display_data"
    },
    {
     "data": {
      "text/markdown": [
       "La discesa fu terribile e **terribilmente** lunga."
      ],
      "text/plain": [
       "<IPython.core.display.Markdown object>"
      ]
     },
     "metadata": {},
     "output_type": "display_data"
    },
    {
     "data": {
      "text/markdown": [
       "Domando io se sono cose da contare a un capitano di cavalleria, che fa vita monastica e rimpiange **terribilmente** l''eterno femminino!"
      ],
      "text/plain": [
       "<IPython.core.display.Markdown object>"
      ]
     },
     "metadata": {},
     "output_type": "display_data"
    },
    {
     "data": {
      "text/markdown": [
       "Provava un malessere inesplicabile, le tempia gli ardevano **terribilmente** , tuttavia nei suoi occhi eravi un''espressione di volontà frenetica, che pareva dovesse tutto piegare a lui dinanzi.Colle gambe per aria da un lato, Colle gambe per aria dall''altro, Cade a terra il meschino soldato Che l''amante al paese lasciò."
      ],
      "text/plain": [
       "<IPython.core.display.Markdown object>"
      ]
     },
     "metadata": {},
     "output_type": "display_data"
    },
    {
     "data": {
      "text/markdown": [
       "Domando io se sono cose da contare a un capitano di cavalleria, che fa vita monastica e rimpiange **terribilmente** l''eterno femminino!"
      ],
      "text/plain": [
       "<IPython.core.display.Markdown object>"
      ]
     },
     "metadata": {},
     "output_type": "display_data"
    },
    {
     "data": {
      "text/markdown": [
       "figlio, immolata la vita di Henri a una apparente infamia di alcune ore, avrebbe da vigliacco, da plebeo, compromessa **terribilmente** la Baronessa."
      ],
      "text/plain": [
       "<IPython.core.display.Markdown object>"
      ]
     },
     "metadata": {},
     "output_type": "display_data"
    },
    {
     "data": {
      "text/markdown": [
       "immorali, che Paolo e Francesca sono immorali, che tutte queste coppie giovani, deliranti, soavi, poetiche peccano **terribilmente** d''immoralità."
      ],
      "text/plain": [
       "<IPython.core.display.Markdown object>"
      ]
     },
     "metadata": {},
     "output_type": "display_data"
    },
    {
     "data": {
      "text/markdown": [
       ", diventa così, senza sforzo, il simbolo di una razza perseguitata e ribelle, e porta a una catastrofe impensata, ma **terribilmente** logica."
      ],
      "text/plain": [
       "<IPython.core.display.Markdown object>"
      ]
     },
     "metadata": {},
     "output_type": "display_data"
    },
    {
     "data": {
      "text/markdown": [
       "Altrimenti ella avrebbe pur detto al fratello che le sue paure erano fantasime vane, che d''esami ne aveva già superati un esercito senza averne mai trovato uno che gli facesseIl senso umano si ribella davanti a questi fatti, la critica generosa e idealizzatrice protesta e proclama che la prima parte dell''Arrigo VI non è di Shakespeare; sarà di Marlowe, sarà di Greene, sarà di Nashe, ma di Shakespeare non è.  immorali, che Paolo e Francesca sono immorali, che tutte queste coppie giovani, deliranti, soavi, poetiche peccano **terribilmente** d''immoralità."
      ],
      "text/plain": [
       "<IPython.core.display.Markdown object>"
      ]
     },
     "metadata": {},
     "output_type": "display_data"
    },
    {
     "data": {
      "text/markdown": [
       "Allora egli segnò qualche ruga sul volto della sua eroina e mise la medaglia di deputato sul petto del suofiglio, immolata la vita di Henri a una apparente infamia di alcune ore, avrebbe da vigliacco, da plebeo, compromessa **terribilmente** la Baronessa."
      ],
      "text/plain": [
       "<IPython.core.display.Markdown object>"
      ]
     },
     "metadata": {},
     "output_type": "display_data"
    },
    {
     "data": {
      "text/markdown": [
       "Fu l'' ansia d''un solo istante; cadde la benda, Leonardo aprì gli occhi, li girò intorno e fissandoli estatico sulla faccia paurosa, diventa così, senza sforzo, il simbolo di una razza perseguitata e ribelle, e porta a una catastrofe impensata, ma **terribilmente** logica."
      ],
      "text/plain": [
       "<IPython.core.display.Markdown object>"
      ]
     },
     "metadata": {},
     "output_type": "display_data"
    },
    {
     "data": {
      "text/markdown": [
       "Il popol gli era grato, Perchè soltanto il popolo--era allora appiccato.riaperta agli eserciti di Radetzky; Milano stessa minacciata; ecco le notizie che dal 25 al 30 luglio giungevano **terribilmente** gravi nella Capitale Lombarda."
      ],
      "text/plain": [
       "<IPython.core.display.Markdown object>"
      ]
     },
     "metadata": {},
     "output_type": "display_data"
    },
    {
     "data": {
      "text/markdown": [
       "riaperta agli eserciti di Radetzky; Milano stessa minacciata; ecco le notizie che dal 25 al 30 luglio giungevano **terribilmente** gravi nella Capitale Lombarda."
      ],
      "text/plain": [
       "<IPython.core.display.Markdown object>"
      ]
     },
     "metadata": {},
     "output_type": "display_data"
    },
    {
     "data": {
      "text/markdown": [
       ", quell''esaltamento lieve che si attinge in un bicchiere di Sciampagna, un''ebbrezza, un esaltamento innocenti, ma **terribilmente** arrischiati."
      ],
      "text/plain": [
       "<IPython.core.display.Markdown object>"
      ]
     },
     "metadata": {},
     "output_type": "display_data"
    },
    {
     "data": {
      "text/markdown": [
       "Marco doveva accorgersi che qualche cosa di **terribilmente** penoso accadeva dentro di me."
      ],
      "text/plain": [
       "<IPython.core.display.Markdown object>"
      ]
     },
     "metadata": {},
     "output_type": "display_data"
    },
    {
     "data": {
      "text/markdown": [
       "Marco doveva accorgersi che qualche cosa di **terribilmente** penoso accadeva dentro di me."
      ],
      "text/plain": [
       "<IPython.core.display.Markdown object>"
      ]
     },
     "metadata": {},
     "output_type": "display_data"
    },
    {
     "data": {
      "text/markdown": [
       "Il sorriso scettico si accentuò **terribilmente** , ed il professore ripresa: --E non v''ha lasciato nulla?"
      ],
      "text/plain": [
       "<IPython.core.display.Markdown object>"
      ]
     },
     "metadata": {},
     "output_type": "display_data"
    },
    {
     "data": {
      "text/markdown": [
       "–Il sexton si mise a ridere; egli gridava:  d''uno degli interminabili discorsi sconclusionati della signora Giuditta, le si vedevano tutti i denti irrompere **terribilmente** fuori dalla bocca; ed ella s''affrettava con ambe le mani a respingerli dentro, e li rimetteva a posto a bocca chiusa, conDue persone che si uniscono senza amore, può darsi che si amino vivendo insieme; ma può anche darsi che non si amino; e mi pare troppo ardito tentare la prova."
      ],
      "text/plain": [
       "<IPython.core.display.Markdown object>"
      ]
     },
     "metadata": {},
     "output_type": "display_data"
    },
    {
     "data": {
      "text/markdown": [
       "Allora s''accostò alE poi è disoccupato, potrebbe stare ad Ameno quanto ti piace....  , quell''esaltamento lieve che si attinge in un bicchiere di Sciampagna, un''ebbrezza, un esaltamento innocenti, ma **terribilmente** arrischiati."
      ],
      "text/plain": [
       "<IPython.core.display.Markdown object>"
      ]
     },
     "metadata": {},
     "output_type": "display_data"
    },
    {
     "data": {
      "text/markdown": [
       "d''uno degli interminabili discorsi sconclusionati della signora Giuditta, le si vedevano tutti i denti irrompere **terribilmente** fuori dalla bocca; ed ella s''affrettava con ambe le mani a respingerli dentro, e li rimetteva a posto a bocca chiusa, conPer questa stretta connessione fra gli atti di volere e gli effetti pantomimici dell''emozione noi dobbiamo nello sviluppo dei processi volitivi considerare come originari, quelli che si risolvono in certi movimenti corporei, che hanno la loro origine nell''antecedente corso di rappresentazioni o sentimenti, e in atti di volere esterni."
      ],
      "text/plain": [
       "<IPython.core.display.Markdown object>"
      ]
     },
     "metadata": {},
     "output_type": "display_data"
    },
    {
     "data": {
      "text/markdown": [
       "Il sorriso scettico si accentuò **terribilmente** , ed il professore ripresa: --E non v''ha lasciato nulla?"
      ],
      "text/plain": [
       "<IPython.core.display.Markdown object>"
      ]
     },
     "metadata": {},
     "output_type": "display_data"
    },
    {
     "data": {
      "text/markdown": [
       "La fronte dell''inventore si corrugò **terribilmente** ."
      ],
      "text/plain": [
       "<IPython.core.display.Markdown object>"
      ]
     },
     "metadata": {},
     "output_type": "display_data"
    },
    {
     "data": {
      "text/markdown": [
       "E non siamo ancora negli anni ultimi, nei quali la crisi economica è **terribilmente** aumentata...... Ancora delle cifre!"
      ],
      "text/plain": [
       "<IPython.core.display.Markdown object>"
      ]
     },
     "metadata": {},
     "output_type": "display_data"
    },
    {
     "data": {
      "text/markdown": [
       "Per ogni cento vendite di mobili e di frutti pendenti, in quelle di valore nonall''udienza del 28 Aprile: Difensore Piccoli: Da che cosa arguisce il teste, che il Fascio di Piana dei Greci fosse così **terribilmente** provocatore?"
      ],
      "text/plain": [
       "<IPython.core.display.Markdown object>"
      ]
     },
     "metadata": {},
     "output_type": "display_data"
    },
    {
     "data": {
      "text/markdown": [
       "Esse accesero l''incendio, ma non credevano che tanta materia vi fosse da farlo divampare **terribilmente** ; si videro sorpassate nelle intenzioni e si spaventarono della lava che minacciava travolgere tutto e tutti."
      ],
      "text/plain": [
       "<IPython.core.display.Markdown object>"
      ]
     },
     "metadata": {},
     "output_type": "display_data"
    },
    {
     "data": {
      "text/markdown": [
       "Ond''è, ci vuole molta ingenuità--o molta malignità--per meravigliarsi o fingere sorpresa che i primi tumulti siano stati **terribilmente** contagiosi."
      ],
      "text/plain": [
       "<IPython.core.display.Markdown object>"
      ]
     },
     "metadata": {},
     "output_type": "display_data"
    },
    {
     "data": {
      "text/markdown": [
       "Ma da due anni in qua i salarî ribassano **terribilmente** e c''è una triste concorrenza nel lavoro che i mietitori di una contrada vanno a fare a quelli di un''altra; concorrenza,qualche volta, esasperato dalla perdita, che per lui è un vero disastro, lo cerca, lo insegue, e se lo trova, lo bastona **terribilmente** ."
      ],
      "text/plain": [
       "<IPython.core.display.Markdown object>"
      ]
     },
     "metadata": {},
     "output_type": "display_data"
    },
    {
     "data": {
      "text/markdown": [
       "[I FASCI NELLE ZONE AGRICOLE] I successi reali i cui risultati economici sono statiqualche volta, esasperato dalla perdita, che per lui è un vero disastro, lo cerca, lo insegue, e se lo trova, lo bastona **terribilmente** ."
      ],
      "text/plain": [
       "<IPython.core.display.Markdown object>"
      ]
     },
     "metadata": {},
     "output_type": "display_data"
    },
    {
     "data": {
      "text/markdown": [
       "Ma da due anni in qua i salarî ribassano **terribilmente** e c''è una triste concorrenza nel lavoro che i mietitori di una contrada vanno a fare a quelli di un''altra; concorrenza,Lo feci sgolare per una diecina di minuti, dopo i quali, come Dio volle, ebbi la gioja di vederlo allontanare non soddisfatto, ma tutto pace e compunzione, ed ottenni così il mio scopo di restarmene solo, lontano dalle distrazioni ed in compagnia delle mie stravaganti illusioni."
      ],
      "text/plain": [
       "<IPython.core.display.Markdown object>"
      ]
     },
     "metadata": {},
     "output_type": "display_data"
    },
    {
     "data": {
      "text/markdown": [
       ", ci vuole molta ingenuità--o molta malignità--per meravigliarsi o fingere sorpresa che i primi tumulti siano stati **terribilmente** contagiosi."
      ],
      "text/plain": [
       "<IPython.core.display.Markdown object>"
      ]
     },
     "metadata": {},
     "output_type": "display_data"
    },
    {
     "data": {
      "text/markdown": [
       "Esse accesero l''incendio, ma non credevano che tanta materia vi fosse da farlo divampare **terribilmente** ; si videro sorpassate nelle intenzioni e si spaventarono della lava che minacciava travolgere tutto e tutti."
      ],
      "text/plain": [
       "<IPython.core.display.Markdown object>"
      ]
     },
     "metadata": {},
     "output_type": "display_data"
    },
    {
     "data": {
      "text/markdown": [
       "La fronte dell''inventore si corrugò **terribilmente** ."
      ],
      "text/plain": [
       "<IPython.core.display.Markdown object>"
      ]
     },
     "metadata": {},
     "output_type": "display_data"
    },
    {
     "data": {
      "text/markdown": [
       "E non siamo ancora negli anni ultimi, nei quali la crisi economica è **terribilmente** aumentata...... Ancora delle cifre!"
      ],
      "text/plain": [
       "<IPython.core.display.Markdown object>"
      ]
     },
     "metadata": {},
     "output_type": "display_data"
    },
    {
     "data": {
      "text/markdown": [
       "all''udienza del 28 Aprile: Difensore Piccoli: Da che cosa arguisce il teste, che il Fascio di Piana dei Greci fosse così **terribilmente** provocatore?"
      ],
      "text/plain": [
       "<IPython.core.display.Markdown object>"
      ]
     },
     "metadata": {},
     "output_type": "display_data"
    },
    {
     "data": {
      "text/markdown": [
       "Il cielo azzurro non era tuttavia lieto e doveva riuscire **terribilmente** feroce, a quanti soffrivano; di tanto in tanto, dei periodi di vento furioso facevano discendere la temperatura, portavano ancora dei brividi, e disordinavano le abitudini di chi aveva gi salutata quella primavera fallace."
      ],
      "text/plain": [
       "<IPython.core.display.Markdown object>"
      ]
     },
     "metadata": {},
     "output_type": "display_data"
    },
    {
     "data": {
      "text/markdown": [
       "**terribilmente** odiato...."
      ],
      "text/plain": [
       "<IPython.core.display.Markdown object>"
      ]
     },
     "metadata": {},
     "output_type": "display_data"
    },
    {
     "data": {
      "text/markdown": [
       "E il giorno dopo, mentre i testimoni facevano le loro deposizioni, mentre gli Avvocati declamavano dinanzi ai Giurati dando colpi di pugno sui tavolini, egli tendeva l'orecchio, col capo rovesciato sulla spalliera della sedia a braccioli, gli occhi chiusi, **terribilmente** pallido nella toga nera; tendeva l'orecchio per afferrare da lontano una nota di quell'insolito cantare di sua moglie nell'assenza di lui: -- Perchè cantava, ella che non aveva cantato mai?..."
      ],
      "text/plain": [
       "<IPython.core.display.Markdown object>"
      ]
     },
     "metadata": {},
     "output_type": "display_data"
    },
    {
     "data": {
      "text/markdown": [
       "-- E per ciò tu.... -- Io, caro Nelli, mi son vendicato più **terribilmente**; nessuno di voi immagina come."
      ],
      "text/plain": [
       "<IPython.core.display.Markdown object>"
      ]
     },
     "metadata": {},
     "output_type": "display_data"
    },
    {
     "data": {
      "text/markdown": [
       "Bozzani, quasi per acuire la curiosità dei suoi amici, prese in mano il bicchiere di birra rimasto intatto davanti a lui, bevve lentamente, ne ordinò un altro, e, sodisfatto dell'attenzione suscitata, riprese, con tono di solennità nella voce: -- Mi son vendicato, **terribilmente**, senza incorrere nel pericolo d'un processo e nella pettegola pubblicità dei giornali!"
      ],
      "text/plain": [
       "<IPython.core.display.Markdown object>"
      ]
     },
     "metadata": {},
     "output_type": "display_data"
    },
    {
     "data": {
      "text/markdown": [
       "O espiava **terribilmente** il delitto di un istante?..."
      ],
      "text/plain": [
       "<IPython.core.display.Markdown object>"
      ]
     },
     "metadata": {},
     "output_type": "display_data"
    },
    {
     "data": {
      "text/markdown": [
       "Ma, sai,per l''abitudine di osservare e di pensare, ma poco addentro nella scienza; per lui povero prete campagnuolo, ciò era **terribilmente** difficile."
      ],
      "text/plain": [
       "<IPython.core.display.Markdown object>"
      ]
     },
     "metadata": {},
     "output_type": "display_data"
    },
    {
     "data": {
      "text/markdown": [
       "Ci aspetterà inper l''abitudine di osservare e di pensare, ma poco addentro nella scienza; per lui povero prete campagnuolo, ciò era **terribilmente** difficile."
      ],
      "text/plain": [
       "<IPython.core.display.Markdown object>"
      ]
     },
     "metadata": {},
     "output_type": "display_data"
    },
    {
     "data": {
      "text/markdown": [
       "Era una scena **terribilmente** dantesca."
      ],
      "text/plain": [
       "<IPython.core.display.Markdown object>"
      ]
     },
     "metadata": {},
     "output_type": "display_data"
    },
    {
     "data": {
      "text/markdown": [
       "Era una scena **terribilmente** dantesca."
      ],
      "text/plain": [
       "<IPython.core.display.Markdown object>"
      ]
     },
     "metadata": {},
     "output_type": "display_data"
    },
    {
     "data": {
      "text/markdown": [
       "Io vi annoio **terribilmente** , lo so.... Ma, non è colpa mia."
      ],
      "text/plain": [
       "<IPython.core.display.Markdown object>"
      ]
     },
     "metadata": {},
     "output_type": "display_data"
    },
    {
     "data": {
      "text/markdown": [
       "Massimiliana, **terribilmente** pallida, con le labbra quasi scomparse, le porse una mano che scottava; e tenendola a quel modo, la accompagnò fino alPosto pure che l''amore o il capriccio del principe per la contessa fosse finito, bastavano la noia ed il fastidio, od anche i malintesi e il disaccordo a spiegare l''omicidio--se un omicidio era stato commesso?"
      ],
      "text/plain": [
       "<IPython.core.display.Markdown object>"
      ]
     },
     "metadata": {},
     "output_type": "display_data"
    },
    {
     "data": {
      "text/markdown": [
       "è tale da farmi impossibile ogni godimento: ogni menomo piacere mi ammazzerebbe\"; e l''infelice trova un''espressione **terribilmente** efficace per dipingere la sua miseria: \"Se non voglio morire, bisogna ch''io non viva....\" Dovendo tornare a Firenzepresso il gramo letto."
      ],
      "text/plain": [
       "<IPython.core.display.Markdown object>"
      ]
     },
     "metadata": {},
     "output_type": "display_data"
    },
    {
     "data": {
      "text/markdown": [
       "\"Lessi una volta che l''amore non è uno solo, e mi parve che lo scrittore mentisse odè tale da farmi impossibile ogni godimento: ogni menomo piacere mi ammazzerebbe\"; e l''infelice trova un''espressione **terribilmente** efficace per dipingere la sua miseria: \"Se non voglio morire, bisogna ch''io non viva....\" Dovendo tornare a FirenzeSuo marito, piuttosto, avrebbe finito per lasciarla; allora ella sarebbe stata libera senza suscitare uno scandalo!"
      ],
      "text/plain": [
       "<IPython.core.display.Markdown object>"
      ]
     },
     "metadata": {},
     "output_type": "display_data"
    },
    {
     "data": {
      "text/markdown": [
       "Io vi annoio **terribilmente** , lo so.... Ma, non è colpa mia."
      ],
      "text/plain": [
       "<IPython.core.display.Markdown object>"
      ]
     },
     "metadata": {},
     "output_type": "display_data"
    },
    {
     "data": {
      "text/markdown": [
       "Singolare speranza davvero, cotesta, di divenir sovrano dell''Italia unita mediante la \"lealtà\" diè contro l''amore, dicono, perchè gli antepone la proprietà, il denaro, il ventre; viceversa l''amore si vendica **terribilmente** , producendo drammi, tragedie, rovine d''ogni sorta e affermando così la propria onnipotenza."
      ],
      "text/plain": [
       "<IPython.core.display.Markdown object>"
      ]
     },
     "metadata": {},
     "output_type": "display_data"
    },
    {
     "data": {
      "text/markdown": [
       "E tutta la sensibilità che ancor viveva in lui, fremeva di sgomento all''idea di essere stato ripreso da quel fascino; non si sentiva più la forza morale per quelle lotte e il risultato nonAl bivio formidabile: di vivere peccando o di.....  bacio la sua bocca ansante, sollevò il corpo su le due braccia tese: gli occhi suoi bruciavano di febbre, il suo viso era **terribilmente** contraffatto, i suoi polsi tremavano."
      ],
      "text/plain": [
       "<IPython.core.display.Markdown object>"
      ]
     },
     "metadata": {},
     "output_type": "display_data"
    },
    {
     "data": {
      "text/markdown": [
       "della conservazione personale, quest''amore che dovrebbe confondersi con l''amor proprio, gli si oppone, invece, **terribilmente** ; ma non sempre: quello che opera sempre, che urla sempre, è il bisogno di nutrire il corpo."
      ],
      "text/plain": [
       "<IPython.core.display.Markdown object>"
      ]
     },
     "metadata": {},
     "output_type": "display_data"
    },
    {
     "data": {
      "text/markdown": [
       "il registro della vocedella conservazione personale, quest''amore che dovrebbe confondersi con l''amor proprio, gli si oppone, invece, **terribilmente** ; ma non sempre: quello che opera sempre, che urla sempre, è il bisogno di nutrire il corpo."
      ],
      "text/plain": [
       "<IPython.core.display.Markdown object>"
      ]
     },
     "metadata": {},
     "output_type": "display_data"
    },
    {
     "data": {
      "text/markdown": [
       "Ma lasciami andare... è giorno chiaro, c'' è già il sole...  è contro l''amore, dicono, perchè gli antepone la proprietà, il denaro, il ventre; viceversa l''amore si vendica **terribilmente** , producendo drammi, tragedie, rovine d''ogni sorta e affermando così la propria onnipotenza."
      ],
      "text/plain": [
       "<IPython.core.display.Markdown object>"
      ]
     },
     "metadata": {},
     "output_type": "display_data"
    },
    {
     "data": {
      "text/markdown": [
       "Questa donna diventa rossa come di fuoco, poi impallidisce **terribilmente** ; poi con voce strozzata, acre, sprezzante, dà a quest''uomo dell''indegno e del vile; e come egli, agghiacciato,idealmente, in secreto, senza confessarlo a sè stessi, si accompagna ordinariamente con un senso d''intimo sgomento , per l''esagerata coscienza della propria inettitudine dinnanzi alla realtà."
      ],
      "text/plain": [
       "<IPython.core.display.Markdown object>"
      ]
     },
     "metadata": {},
     "output_type": "display_data"
    },
    {
     "data": {
      "text/markdown": [
       "Massimiliana, **terribilmente** pallida, con le labbra quasi scomparse, le porse una mano che scottava; e tenendola a quel modo, la accompagnò fino alDove non è riuscito Sella, riuscirà Minghetti, riuscirà Spaventa, riuscirà fors'' anche Bonghi."
      ],
      "text/plain": [
       "<IPython.core.display.Markdown object>"
      ]
     },
     "metadata": {},
     "output_type": "display_data"
    },
    {
     "data": {
      "text/markdown": [
       ", i contrasti, le divagazioni, le schermaglie non potevano far altro che giovare ai nemici: \"Pensate che si va addietro **terribilmente** , che i nostri padroni se ne giovano a riconciliarsi con atti di clemenza in favor di molti, che l''Austria conquista piùIo mi appiglierò ad un altro partito, e forse a questo avrei dovuto appigliarmi senza altrimenti annoiar lei con questo discorso: ma come il partito ch''io dico, è tale, che stante la mia salute, non è verisimile che in breve tempo non vi soccomba, ho temuto che ella avesse a fare un rimprovero alla mia memoria, dell''averlo abbracciato senza prima confidarmi con lei sopra le cose che le ho esposte."
      ],
      "text/plain": [
       "<IPython.core.display.Markdown object>"
      ]
     },
     "metadata": {},
     "output_type": "display_data"
    },
    {
     "data": {
      "text/markdown": [
       "_Une fiche de consolation!_ Le donne avevano però un''arma in loro mano: esse potevano vendicarsi **terribilmente** , distruggendo l''onore d''un uomo, coprendolo di ridicolo per tutta la vita."
      ],
      "text/plain": [
       "<IPython.core.display.Markdown object>"
      ]
     },
     "metadata": {},
     "output_type": "display_data"
    },
    {
     "data": {
      "text/markdown": [
       "– Sai, ero gelosa... **terribilmente** !..."
      ],
      "text/plain": [
       "<IPython.core.display.Markdown object>"
      ]
     },
     "metadata": {},
     "output_type": "display_data"
    },
    {
     "data": {
      "text/markdown": [
       "Ma anche il domani, e gli altri giorni che restava a casa, il babbo non parlava con nessuno, sgridava **terribilmente** le persone di servizio, non rispondeva nemmeno alle carezze delle figliuole."
      ],
      "text/plain": [
       "<IPython.core.display.Markdown object>"
      ]
     },
     "metadata": {},
     "output_type": "display_data"
    },
    {
     "data": {
      "text/markdown": [
       "Quando la nostra automobile si ferma dinanzi al palazzo dei Kaporo-Pendopo sono quasi pentito d’aver accettato l’invito, tanto è **terribilmente** olandese l’atrio della villa e più olandese ancora il salotto nel quale un domestico bianco ci introduce con la classica alterigia dei lacchè di grande casata: poltrone e divani di cuoio color avana, marina d’Amsterdam, e canali d’Utrecht alle pareti, v’è perfino un monumentale camino di «polder» batavo con una collezione di vecchie pipe del Bramante."
      ],
      "text/plain": [
       "<IPython.core.display.Markdown object>"
      ]
     },
     "metadata": {},
     "output_type": "display_data"
    },
    {
     "data": {
      "text/markdown": [
       "I bambù che crescono abbondantemente fra le canne zuccherine ci hanno riempito la biancheria dei loro peletti neri che pizzicano **terribilmente**."
      ],
      "text/plain": [
       "<IPython.core.display.Markdown object>"
      ]
     },
     "metadata": {},
     "output_type": "display_data"
    },
    {
     "data": {
      "text/markdown": [
       "Una vecchia gialla, sdentata, scheletrica, infagottata in un cencio senza colore, s’era fermata contro un lampione a fissarmi con gli occhietti di smalto che era l’unica cosa **terribilmente** viva in quel corpo **terribilmente** morto."
      ],
      "text/plain": [
       "<IPython.core.display.Markdown object>"
      ]
     },
     "metadata": {},
     "output_type": "display_data"
    },
    {
     "data": {
      "text/markdown": [
       "I gesti delle scimmie morenti sono **terribilmente** umani."
      ],
      "text/plain": [
       "<IPython.core.display.Markdown object>"
      ]
     },
     "metadata": {},
     "output_type": "display_data"
    },
    {
     "data": {
      "text/markdown": [
       "Quel grande problema della collaborazione fra Occidente ed Oriente che giustamente appassiona la società moderna pel tragico contrasto fra il pensiero occidentale e le millenarie coscienze asiatiche, problema che in India, in Cina e nel Giappone, si presenta confusamente per la stessa vastità di quei paesi e per le innumerevoli inframmettenze politico-religiose che intorbidano la visione centrale, si mostra nello stesso Annam **terribilmente** chiaro nella sua semplicità."
      ],
      "text/plain": [
       "<IPython.core.display.Markdown object>"
      ]
     },
     "metadata": {},
     "output_type": "display_data"
    },
    {
     "data": {
      "text/markdown": [
       "Sono fiumi capricciosi, d’origine incerta e di corso irregolare, che scorrazzano attraverso i monti e le pianure tonkinesi, a volte imponenti e gonfi d’acqua procellosa, a volte ridotti dalla magra un semplice colaticcio di fango fetente, **terribilmente** rosso, così rosso da sembrare lo spurgo d’un fantastico macello."
      ],
      "text/plain": [
       "<IPython.core.display.Markdown object>"
      ]
     },
     "metadata": {},
     "output_type": "display_data"
    },
    {
     "data": {
      "text/markdown": [
       "Ci si sente in complesso **terribilmente** disgraziati, e dareste tutti i milioni dell’amabile lord e tutti gli ingegnosi brevetti del suo fornitore di tende esotiche per un alito di zeffiro primaverile, per un quarto d’ora di brezza montanina, per una di quelle soavissime ventate d’alpe italica, che scaturiscono dalle profondità cupe di una gola boschiva e vi penetrano in gola con tutti gli aromi umidi della terra fresca."
      ],
      "text/plain": [
       "<IPython.core.display.Markdown object>"
      ]
     },
     "metadata": {},
     "output_type": "display_data"
    },
    {
     "data": {
      "text/markdown": [
       "Di solito innocui quando sono isolati e lasciati in pace, gli ippopotami diventano **terribilmente** aggressivi quando sono attaccati in branco."
      ],
      "text/plain": [
       "<IPython.core.display.Markdown object>"
      ]
     },
     "metadata": {},
     "output_type": "display_data"
    },
    {
     "data": {
      "text/markdown": [
       "Pazzo di dolore l’animale si dibatte **terribilmente** mentre la lama gli dilania le viscere: ogni tanto si rizza sulle zampe scoprendo l’enorme ventre sfondato dal quale escono le interiora."
      ],
      "text/plain": [
       "<IPython.core.display.Markdown object>"
      ]
     },
     "metadata": {},
     "output_type": "display_data"
    },
    {
     "data": {
      "text/markdown": [
       "Però è doloroso, profondamente doloroso per l’unico italiano presente ad Albertville alla cerimonia ufficiale del Comando, come per tutti gli italiani che in patria e fuori dei suoi confini amano la loro terra, è **terribilmente** doloroso che proprio noi che abbiamo tante braccia disponibili, che dobbiamo pagare a prezzo di sudore amaro, in franchi, in dollari e sterline il pane quotidiano dei nostri telai, laminatoi, alti forni, frantatoi, lambicchi, proprio noi dobbiamo venire come potenza coloniale dopo il Belgio, l’Olanda, il Portogallo!"
      ],
      "text/plain": [
       "<IPython.core.display.Markdown object>"
      ]
     },
     "metadata": {},
     "output_type": "display_data"
    },
    {
     "data": {
      "text/markdown": [
       "Siamo ripiegati su noi stessi, malati, **terribilmente** malati."
      ],
      "text/plain": [
       "<IPython.core.display.Markdown object>"
      ]
     },
     "metadata": {},
     "output_type": "display_data"
    },
    {
     "data": {
      "text/markdown": [
       "Prendo il fucile per uccidere, ma… sono umani, così **terribilmente** umani che non so premere il grilletto."
      ],
      "text/plain": [
       "<IPython.core.display.Markdown object>"
      ]
     },
     "metadata": {},
     "output_type": "display_data"
    },
    {
     "data": {
      "text/markdown": [
       "In qual modo debbo provarvi che sono sincero, **terribilmente** sincero?"
      ],
      "text/plain": [
       "<IPython.core.display.Markdown object>"
      ]
     },
     "metadata": {},
     "output_type": "display_data"
    },
    {
     "data": {
      "text/markdown": [
       "Ma anche il domani, e gli altri giorni che restava a casa, il babbo non parlava con nessuno, sgridava **terribilmente** le persone di servizio, non rispondeva nemmeno alle carezze delle figliuole."
      ],
      "text/plain": [
       "<IPython.core.display.Markdown object>"
      ]
     },
     "metadata": {},
     "output_type": "display_data"
    },
    {
     "data": {
      "text/markdown": [
       "– Sai, ero gelosa... **terribilmente** !..."
      ],
      "text/plain": [
       "<IPython.core.display.Markdown object>"
      ]
     },
     "metadata": {},
     "output_type": "display_data"
    },
    {
     "data": {
      "text/markdown": [
       "_Une fiche de consolation!_ Le donne avevano però un''arma in loro mano: esse potevano vendicarsi **terribilmente** , distruggendo l''onore d''un uomo, coprendolo di ridicolo per tutta la vita."
      ],
      "text/plain": [
       "<IPython.core.display.Markdown object>"
      ]
     },
     "metadata": {},
     "output_type": "display_data"
    },
    {
     "data": {
      "text/markdown": [
       "Ella ne conveniva tra sè; apertamente non, i contrasti, le divagazioni, le schermaglie non potevano far altro che giovare ai nemici: \"Pensate che si va addietro **terribilmente** , che i nostri padroni se ne giovano a riconciliarsi con atti di clemenza in favor di molti, che l''Austria conquista più, mescolate a grandi sghignazzamenti, una canzone di voce briaca, un ritornello di fischi e di grida."
      ],
      "text/plain": [
       "<IPython.core.display.Markdown object>"
      ]
     },
     "metadata": {},
     "output_type": "display_data"
    },
    {
     "data": {
      "text/markdown": [
       "Questa donna diventa rossa come di fuoco, poi impallidisce **terribilmente** ; poi con voce strozzata, acre, sprezzante, dà a quest''uomo dell''indegno e del vile; e come egli, agghiacciato,\"Ma via, non lo ripetete; non vi fa più dunque piacere questo potere, che sebbene sia il quarto, incute tanto timore a tutti gli altri?"
      ],
      "text/plain": [
       "<IPython.core.display.Markdown object>"
      ]
     },
     "metadata": {},
     "output_type": "display_data"
    },
    {
     "data": {
      "text/markdown": [
       "bacio la sua bocca ansante, sollevò il corpo su le due braccia tese: gli occhi suoi bruciavano di febbre, il suo viso era **terribilmente** contraffatto, i suoi polsi tremavano."
      ],
      "text/plain": [
       "<IPython.core.display.Markdown object>"
      ]
     },
     "metadata": {},
     "output_type": "display_data"
    },
    {
     "data": {
      "text/markdown": [
       "Ma anche il domani , e gli altri giorni che restava a casa, il babbo non parlava con nessuno, sgridava **terribilmente** le persone di serviziosera.... Ella sorrise, nel fondo dell''anima."
      ],
      "text/plain": [
       "<IPython.core.display.Markdown object>"
      ]
     },
     "metadata": {},
     "output_type": "display_data"
    },
    {
     "data": {
      "text/markdown": [
       "Il cielo azzurro non era tuttavia lieto e doveva riuscire **terribilmente** feroce, a quanti soffrivano; di tanto in tanto, dei periodi di vento furioso facevano discendere la temperatura,--Lei è molto gentile."
      ],
      "text/plain": [
       "<IPython.core.display.Markdown object>"
      ]
     },
     "metadata": {},
     "output_type": "display_data"
    },
    {
     "data": {
      "text/markdown": [
       "Mi sembra di ritrovare in lui un poco della mia infanzia; qualche cosa di così fresco, di così spensieratamente gaio...   Adora i giochi e studia pochissimo; suo padre lo sgrida **terribilmente** ed io cerco di aiutarlo fin dove posso."
      ],
      "text/plain": [
       "<IPython.core.display.Markdown object>"
      ]
     },
     "metadata": {},
     "output_type": "display_data"
    },
    {
     "data": {
      "text/markdown": [
       "È un volto **terribilmente** bello per l'estrema sofferenza che lo affina, per la felicità insostenibile che gli riempie gli occhi di bruciante tenerezza."
      ],
      "text/plain": [
       "<IPython.core.display.Markdown object>"
      ]
     },
     "metadata": {},
     "output_type": "display_data"
    },
    {
     "data": {
      "text/markdown": [
       "Il cielo azzurro non era tuttavia lieto e doveva riuscire **terribilmente** feroce, a quanti soffrivano; di tanto in tanto, dei periodi di vento furioso facevano discendere la temperatura,nella poltrona, coi capelli sparsi, gli occhi chiusi, la faccia pallida, il corpo tutto come piegato da una violenta angoscia ,--pareva la superstite d''una cupa tragedia."
      ],
      "text/plain": [
       "<IPython.core.display.Markdown object>"
      ]
     },
     "metadata": {},
     "output_type": "display_data"
    },
    {
     "data": {
      "text/markdown": [
       "Lei, poverina, non ha colpa, se lo amava.... È sempre così; non si amano che codesti birboni; e di cose molto serie... non c''è da essere in pensiero: ma ciò non toglie che in un modo o nell''altro vi rendete **terribilmente** preziosa... NINÌ (dal fondo) Olgiati!"
      ],
      "text/plain": [
       "<IPython.core.display.Markdown object>"
      ]
     },
     "metadata": {},
     "output_type": "display_data"
    },
    {
     "data": {
      "text/markdown": [
       "; e di cose molto serie... non c''è da essere in pensiero: ma ciò non toglie che in un modo o nell''altro vi rendete **terribilmente** preziosa... NINÌ (dal fondo) Olgiati!"
      ],
      "text/plain": [
       "<IPython.core.display.Markdown object>"
      ]
     },
     "metadata": {},
     "output_type": "display_data"
    },
    {
     "data": {
      "text/markdown": [
       "--in pari tempo: --Sergio è venuto nella certezza della mia colpa in séguito a un fatto molto semplice: io ho ricevuta ieri una lettera, della quale non ho creduto di riferire il senso, perchè non potevo supporre vi si annettesse undiffusa; anch''egli si contentava dei pochi viali fiancheggiati da villini brutti, e s''era avvezzo alle costruzioni **terribilmente** antipatiche di quegli alberghi nei quali si mangiava malissimo e dai quali si vedeva una sfilata di capanne tozze, una."
      ],
      "text/plain": [
       "<IPython.core.display.Markdown object>"
      ]
     },
     "metadata": {},
     "output_type": "display_data"
    },
    {
     "data": {
      "text/markdown": [
       "diffusa; anch''egli si contentava dei pochi viali fiancheggiati da villini brutti, e s''era avvezzo alle costruzioni **terribilmente** antipatiche di quegli alberghi nei quali si mangiava malissimo e dai quali si vedeva una sfilata di capanne tozze, unaFiori, vino, dolci, ed ora anche le scarpe!"
      ],
      "text/plain": [
       "<IPython.core.display.Markdown object>"
      ]
     },
     "metadata": {},
     "output_type": "display_data"
    },
    {
     "data": {
      "text/markdown": [
       "), che io avevosulla mia nuca, il suo odore di fieno nelle narici, incominciai a frugare in tutti gli angoli del mio cervello divenuto **terribilmente** lucido, e credetti di indovinare, di scoprire la verità."
      ],
      "text/plain": [
       "<IPython.core.display.Markdown object>"
      ]
     },
     "metadata": {},
     "output_type": "display_data"
    },
    {
     "data": {
      "text/markdown": [
       "Lo zuccone che soffriva **terribilmente** di gelosia, e sempre, solo a nominargli Andromaco o Ninotto, copriva Egle di sputi, questa volta si contentò di darleE, parrà a voi, che quello dovesse essere il punto logico del giusto sacrificio...  su confini e ad un tratto ci accorgiamo di essere al di là di ogni finzione, al di là di ogni figurazione: soli... ma **terribilmente** soli nella smisurata profondità del niente."
      ],
      "text/plain": [
       "<IPython.core.display.Markdown object>"
      ]
     },
     "metadata": {},
     "output_type": "display_data"
    },
    {
     "data": {
      "text/markdown": [
       "sulla mia nuca, il suo odore di fieno nelle narici, incominciai a frugare in tutti gli angoli del mio cervello divenuto **terribilmente** lucido, e credetti di indovinare, di scoprire la verità."
      ],
      "text/plain": [
       "<IPython.core.display.Markdown object>"
      ]
     },
     "metadata": {},
     "output_type": "display_data"
    },
    {
     "data": {
      "text/markdown": [
       "In me il ricordo di quella giornata è **terribilmente** lucido e angoscioso, come se al solo parlarne la rivivessi intera in ogni suo minuto."
      ],
      "text/plain": [
       "<IPython.core.display.Markdown object>"
      ]
     },
     "metadata": {},
     "output_type": "display_data"
    },
    {
     "data": {
      "text/markdown": [
       "Però come furono **terribilmente** lunghi i giorni trascorsi al buio e in piena solitudine con Suor Costanza!"
      ],
      "text/plain": [
       "<IPython.core.display.Markdown object>"
      ]
     },
     "metadata": {},
     "output_type": "display_data"
    },
    {
     "data": {
      "text/markdown": [
       "Però come furono **terribilmente** lunghi i giorni trascorsi al buio e in piena solitudine con Suor Costanza!"
      ],
      "text/plain": [
       "<IPython.core.display.Markdown object>"
      ]
     },
     "metadata": {},
     "output_type": "display_data"
    },
    {
     "data": {
      "text/markdown": [
       "su confini e ad un tratto ci accorgiamo di essere al di là di ogni finzione, al di là di ogni figurazione: soli... ma **terribilmente** soli nella smisurata profondità del niente."
      ],
      "text/plain": [
       "<IPython.core.display.Markdown object>"
      ]
     },
     "metadata": {},
     "output_type": "display_data"
    },
    {
     "data": {
      "text/markdown": [
       "52  ﻿Mario Appelius Le isole del Raggio Verde   A MIO PADRE TRA CIELO E MARE   I grandi volatori transoceanici che con uno o due salti formidabili balzano da un continente all'altro stanno rimpicciolendo **terribilmente** i viaggi «vecchio stile» per mare."
      ],
      "text/plain": [
       "<IPython.core.display.Markdown object>"
      ]
     },
     "metadata": {},
     "output_type": "display_data"
    },
    {
     "data": {
      "text/markdown": [
       "Ed oggi ancora, dopo aver constatato tutto il vuoto del Congresso, domando sinceramente a me stesso se questi Congressi della Stampa Latina non siano nonostante tutto una cosa seria, assai seria, **terribilmente** seria, precisamente per l'esistenza di questo enorme colossale vuoto dietro il paravento splendente della Latinità!"
      ],
      "text/plain": [
       "<IPython.core.display.Markdown object>"
      ]
     },
     "metadata": {},
     "output_type": "display_data"
    },
    {
     "data": {
      "text/markdown": [
       "Lo zuccone che soffriva **terribilmente** di gelosia, e sempre, solo a nominargli Andromaco o Ninotto, copriva Egle di sputi, questa volta si contentò di darle, gliela accarezzò."
      ],
      "text/plain": [
       "<IPython.core.display.Markdown object>"
      ]
     },
     "metadata": {},
     "output_type": "display_data"
    },
    {
     "data": {
      "text/markdown": [
       "In me il ricordo di quella giornata è **terribilmente** lucido e angoscioso, come se al solo parlarne la rivivessi intera in ogni suo minuto."
      ],
      "text/plain": [
       "<IPython.core.display.Markdown object>"
      ]
     },
     "metadata": {},
     "output_type": "display_data"
    },
    {
     "data": {
      "text/markdown": [
       "Qualcosa di **terribilmente** feroce stava nell''occhio torbido sotto i fasci de'' muscoli cigliari contratti e fermi come se fossero stati di ferro.Venni in città, al mio ritorno se n'' era andata e stamani ho ricevuta questa lettera."
      ],
      "text/plain": [
       "<IPython.core.display.Markdown object>"
      ]
     },
     "metadata": {},
     "output_type": "display_data"
    },
    {
     "data": {
      "text/markdown": [
       "Bevettero il whisky, ma questo non giovò a rimettere a posto i loro nervi **terribilmente** scossi."
      ],
      "text/plain": [
       "<IPython.core.display.Markdown object>"
      ]
     },
     "metadata": {},
     "output_type": "display_data"
    },
    {
     "data": {
      "text/markdown": [
       "Qualcosa di **terribilmente** feroce stava nell''occhio torbido sotto i fasci de'' muscoli cigliari contratti e fermi come se fossero stati di ferro.ed egli le scacciava, si dibatteva sotto le coltri, mandava gemiti e mugolii tra la barba rabbuffata, soffriva orribilmente , perchè gli pareva di dar ascolto a quelle immaginazioni e di perdersi."
      ],
      "text/plain": [
       "<IPython.core.display.Markdown object>"
      ]
     },
     "metadata": {},
     "output_type": "display_data"
    },
    {
     "data": {
      "text/markdown": [
       "Qualcosa di **terribilmente** feroce stava nell''occhio torbido sotto i fasci de'' muscoli cigliari contratti e fermi!"
      ],
      "text/plain": [
       "<IPython.core.display.Markdown object>"
      ]
     },
     "metadata": {},
     "output_type": "display_data"
    },
    {
     "data": {
      "text/markdown": [
       "Perciò, di lontano, Fermo mi appariva come un angelo **terribilmente** bello, posto a custodia di una porta che dei diavoli in maglia rossa o arancio o azzurra si ostinavano a insidiare."
      ],
      "text/plain": [
       "<IPython.core.display.Markdown object>"
      ]
     },
     "metadata": {},
     "output_type": "display_data"
    },
    {
     "data": {
      "text/markdown": [
       "Pure bramava di allontanarsi da quell''uomo, il cui sguardo era sì freddo; che era sì **terribilmente** logico nelle sue delusioni; vicino al quale si sentiva tanto a disagio."
      ],
      "text/plain": [
       "<IPython.core.display.Markdown object>"
      ]
     },
     "metadata": {},
     "output_type": "display_data"
    },
    {
     "data": {
      "text/markdown": [
       "Per quanto tocca in special modo la interdipendenza delle nazioni tra di loro, e della vita e della prosperità di ciascuna da quella delle altre, l'ultima grande guerra ha fornito anche a chi poteva dubitarne una prova **terribilmente** patente e ha lasciato intravedere quanto più larga e più grave conferma preparerebbe una guerra avvenire."
      ],
      "text/plain": [
       "<IPython.core.display.Markdown object>"
      ]
     },
     "metadata": {},
     "output_type": "display_data"
    },
    {
     "data": {
      "text/markdown": [
       "Pure bramava di allontanarsi da quell''uomo, il cui sguardo era sì freddo; che era sì **terribilmente** logico nelle sue delusioni; vicino al quale si sentiva tanto a disagio."
      ],
      "text/plain": [
       "<IPython.core.display.Markdown object>"
      ]
     },
     "metadata": {},
     "output_type": "display_data"
    },
    {
     "data": {
      "text/markdown": [
       "ah come tutto ciò era bello, orribilmente bello, **terribilmente** bello!"
      ],
      "text/plain": [
       "<IPython.core.display.Markdown object>"
      ]
     },
     "metadata": {},
     "output_type": "display_data"
    },
    {
     "data": {
      "text/markdown": [
       "ah come tutto ciò era bello, orribilmente bello, **terribilmente** bello!"
      ],
      "text/plain": [
       "<IPython.core.display.Markdown object>"
      ]
     },
     "metadata": {},
     "output_type": "display_data"
    },
    {
     "data": {
      "text/markdown": [
       "ah come tutto ciò era bello, orribilmente bello, **terribilmente** bello!"
      ],
      "text/plain": [
       "<IPython.core.display.Markdown object>"
      ]
     },
     "metadata": {},
     "output_type": "display_data"
    },
    {
     "data": {
      "text/markdown": [
       "ah come tutto ciò era bello, orribilmente bello, **terribilmente** bello!"
      ],
      "text/plain": [
       "<IPython.core.display.Markdown object>"
      ]
     },
     "metadata": {},
     "output_type": "display_data"
    },
    {
     "data": {
      "text/markdown": [
       "Pensò anche all’avvenire che le si presentava **terribilmente** incerto per lei non giovanissima e con quei due fratelli strambi ed abulici, dai quali sarebbe stato ingenuo sperare appoggio; e alla quarta domanda d’Emilio disse di sì."
      ],
      "text/plain": [
       "<IPython.core.display.Markdown object>"
      ]
     },
     "metadata": {},
     "output_type": "display_data"
    },
    {
     "data": {
      "text/markdown": [
       "Allora Guglielmo, preso da entusiasmo sublime, gett+API- via il cappellaccio, si strapp+API- di dosso il mantello, e agitando lo spadone, maraviglioso di audacia e di forza, url+API- **terribilmente**:   +IBQ- A me, filibustieri della Lumaca+ACE- E voi, soldati di Spagna guardate per l+IBk-ultima volta il Corsaro Giallo+ACEAIQ-... +IBQ-   Tutti allibirono, e caddero in ginocchio, chiedendo piet+AOAAIQ- I pi+APk- morirono di spavento."
      ],
      "text/plain": [
       "<IPython.core.display.Markdown object>"
      ]
     },
     "metadata": {},
     "output_type": "display_data"
    },
    {
     "data": {
      "text/markdown": [
       "Non dubitare: appena avr+API- riconquistato il dominio del mare, ti nominer+API- mio erede universale... E quei cani dei tuoi vili compagni morranno+ACE- Il Corsaro Azzurro sa premiare gli amici fedeli e punire **terribilmente** i traditori... +IBQ-   Intanto sul ponte del vascello il banchetto era cominciato in mezzo all+IBk-entusiasmo generale."
      ],
      "text/plain": [
       "<IPython.core.display.Markdown object>"
      ]
     },
     "metadata": {},
     "output_type": "display_data"
    },
    {
     "data": {
      "text/markdown": [
       "+IBM- fece il brigante, torcendo la bocca +IBM- cotesto gingillo +AOg- **terribilmente** pericoloso, e...   +IBQ- Avreste paura per caso?"
      ],
      "text/plain": [
       "<IPython.core.display.Markdown object>"
      ]
     },
     "metadata": {},
     "output_type": "display_data"
    },
    {
     "data": {
      "text/markdown": [
       "+IBQ- Aj, Dios mio +IBM- sospir+API- l+IBk-uomo della botte +IBM- io soffro **terribilmente** il mal di mare... e questo sballott+AOw-o... mi strazia le viscere...   +IBQ- Dormite, se+APE-or+ACE- +IBM- disse Guglielmo Barbarugo in tono paterno +IBM- non saprei darvi miglior consiglio... Pu+API- succedere che, a furia di sentirvi male, cessiate di soffrire e anzi, che il moto continuo vi faccia bene... +IBQ-   Dopo questo sensato discorso, il prode filibustiere si avvolse una corda intorno alla vita e si leg+API- all+IBk-albero+ADs- poi incroci+API- le braccia sul petto, e stando sempre a cavalcioni della botte, come una bizzarra deit+AOA- delle acque, si pose a sonnecchiare, rivedendo nel dormiveglia le scene strane e terribili delle sue imprese eroiche...   All+IBk-alba la botte-nave o la nave-botte, come volete chiamarla, galleggiava al largo da ogni costa, sopra un mare appena increspato da un vento lieve di Mezzogiorno."
      ],
      "text/plain": [
       "<IPython.core.display.Markdown object>"
      ]
     },
     "metadata": {},
     "output_type": "display_data"
    },
    {
     "data": {
      "text/markdown": [
       "+IBQ- Ve l+IBk-ho detto... vendicarmi **terribilmente**+ACE-...   +IBQ- Tutte queste sciocchezze non ci spiegano in qual modo tu sia riuscito, con i tuoi luridi compagni a seguirci fin qui... nel regno della Gran Luna... nel mio regno+ACE-   +IBQ- Debbo rispondere?"
      ],
      "text/plain": [
       "<IPython.core.display.Markdown object>"
      ]
     },
     "metadata": {},
     "output_type": "display_data"
    },
    {
     "data": {
      "text/markdown": [
       "già detto che inseguiti o eccitati al volo con rumori si scuotono dalla loro pigrizia: è evidente che l''inseguimento li spaventi ; finalmente abbiamo pure accennato che tenuti rinchiusi cominciano subito a capitombolare appena si lascianonecessitano._ Eccoci all''incrocio delle razze della avicoltura, altro argomento pure importantissimo, ma che spesso viene travisato da qualche allevatore principiante e dagli ingenui: costoro, senza possedere la più che minima idealisce, quelle del collo si rizzano smisuratamente, l''occhio dapprima languido di languore orientale diventa **terribilmente** truce, il povero Don Giovanni del pollaio batte le ali e guarda fisso l''avversario."
      ],
      "text/plain": [
       "<IPython.core.display.Markdown object>"
      ]
     },
     "metadata": {},
     "output_type": "display_data"
    },
    {
     "data": {
      "text/markdown": [
       "Le razze della gallina domestica.lisce, quelle del collo si rizzano smisuratamente, l''occhio dapprima languido di languore orientale diventa **terribilmente** truce, il povero Don Giovanni del pollaio batte le ali e guarda fisso l''avversario."
      ],
      "text/plain": [
       "<IPython.core.display.Markdown object>"
      ]
     },
     "metadata": {},
     "output_type": "display_data"
    },
    {
     "data": {
      "text/markdown": [
       "Ella si chinò, si protese verso di me, come per spingermisua colpa solo, meditò di ucciderla per dividere dall''anima quella carne che l''aveva infiammato di desiderio così **terribilmente** e per poter solo quella contaminare di tutte le carezze."
      ],
      "text/plain": [
       "<IPython.core.display.Markdown object>"
      ]
     },
     "metadata": {},
     "output_type": "display_data"
    },
    {
     "data": {
      "text/markdown": [
       "quel che era dietro, nella notte, ora le pareva sogno confuso; s''esalava il fervore del vóto; la volontà, tesa così **terribilmente** fino a quel punto, s''allentava, s''annientava."
      ],
      "text/plain": [
       "<IPython.core.display.Markdown object>"
      ]
     },
     "metadata": {},
     "output_type": "display_data"
    },
    {
     "data": {
      "text/markdown": [
       "il volto contro il volto, ed opprimendolo con tutta la mole delle carni, per un impeto di passione e di gelosia così **terribilmente** incomposto che Passacantando ne rimase atterrito."
      ],
      "text/plain": [
       "<IPython.core.display.Markdown object>"
      ]
     },
     "metadata": {},
     "output_type": "display_data"
    },
    {
     "data": {
      "text/markdown": [
       "Un subitaneo spavento la prese, a mezzo: ella barcollò, agitò le mani, si rivolse verso il letto, mise tre o quattro passi precipitosi,il volto contro il volto, ed opprimendolo con tutta la mole delle carni, per un impeto di passione e di gelosia così **terribilmente** incomposto che Passacantando ne rimase atterrito."
      ],
      "text/plain": [
       "<IPython.core.display.Markdown object>"
      ]
     },
     "metadata": {},
     "output_type": "display_data"
    },
    {
     "data": {
      "text/markdown": [
       ", con parole d''amore tra i singhiozzi, con laceramenti così acuti di voce rotta e con una espressione di dolore così **terribilmente** bestiale che per tutti gli astanti corse un brivido e tutti rivolsero altrove la faccia."
      ],
      "text/plain": [
       "<IPython.core.display.Markdown object>"
      ]
     },
     "metadata": {},
     "output_type": "display_data"
    },
    {
     "data": {
      "text/markdown": [
       "Quando guardo lasua colpa solo, meditò di ucciderla per dividere dall''anima quella carne che l''aveva infiammato di desiderio così **terribilmente** e per poter solo quella contaminare di tutte le carezze."
      ],
      "text/plain": [
       "<IPython.core.display.Markdown object>"
      ]
     },
     "metadata": {},
     "output_type": "display_data"
    },
    {
     "data": {
      "text/markdown": [
       "Come avevo, vivente, potutoil volto contro il volto, ed opprimendolo con tutta la mole delle carni, per un impeto di passione e di gelosia così **terribilmente** incomposto che Passacantando ne rimase atterrito."
      ],
      "text/plain": [
       "<IPython.core.display.Markdown object>"
      ]
     },
     "metadata": {},
     "output_type": "display_data"
    },
    {
     "data": {
      "text/markdown": [
       "Disteso sula mole delle carni, per un impeto di passione e di gelosia così **terribilmente** incomposto che Passacantando ne rimase atterrito ."
      ],
      "text/plain": [
       "<IPython.core.display.Markdown object>"
      ]
     },
     "metadata": {},
     "output_type": "display_data"
    },
    {
     "data": {
      "text/markdown": [
       "Si rialzò a granquel che era dietro, nella notte, ora le pareva sogno confuso; s''esalava il fervore del vóto; la volontà, tesa così **terribilmente** fino a quel punto, s''allentava, s''annientava."
      ],
      "text/plain": [
       "<IPython.core.display.Markdown object>"
      ]
     },
     "metadata": {},
     "output_type": "display_data"
    },
    {
     "data": {
      "text/markdown": [
       "Quando?, con parole d''amore tra i singhiozzi, con laceramenti così acuti di voce rotta e con una espressione di dolore così **terribilmente** comica che per tutti li astanti corse un brivido e tutti rivolsero altrove la faccia."
      ],
      "text/plain": [
       "<IPython.core.display.Markdown object>"
      ]
     },
     "metadata": {},
     "output_type": "display_data"
    },
    {
     "data": {
      "text/markdown": [
       "Ti, con parole d''amore tra i singhiozzi, con laceramenti così acuti di voce rotta e con una espressione di dolore così **terribilmente** comica che per tutti li astanti corse un brivido e tutti rivolsero altrove la faccia."
      ],
      "text/plain": [
       "<IPython.core.display.Markdown object>"
      ]
     },
     "metadata": {},
     "output_type": "display_data"
    },
    {
     "data": {
      "text/markdown": [
       "cuore mio!il volto contro il volto, ed opprimendolo con tutta la mole delle carni, per un impeto di passione e di gelosia così **terribilmente** incomposto che Passacantando ne rimase atterrito."
      ],
      "text/plain": [
       "<IPython.core.display.Markdown object>"
      ]
     },
     "metadata": {},
     "output_type": "display_data"
    },
    {
     "data": {
      "text/markdown": [
       "E perciò non ti sgomentare , amico lettore, se, dopo averne sentito parlare come d''un cefalopodo, adesso, ai primi approcci, te la vedi, con parole d''amore tra i singhiozzi, con laceramenti così acuti di voce rotta e con una espressione di dolore così **terribilmente** bestiale che per tutti gli astanti corse un brivido e tutti rivolsero altrove la faccia."
      ],
      "text/plain": [
       "<IPython.core.display.Markdown object>"
      ]
     },
     "metadata": {},
     "output_type": "display_data"
    },
    {
     "data": {
      "text/markdown": [
       "Quei pittori, quegli architetti di interni, quei critici d’arte, che quando capitavano insieme facevano un gran baccano con le loro discussioni estetiche – e quel che è peggio non compravano nulla – davano **terribilmente** ai nervi ai due proprietarii."
      ],
      "text/plain": [
       "<IPython.core.display.Markdown object>"
      ]
     },
     "metadata": {},
     "output_type": "display_data"
    },
    {
     "data": {
      "text/markdown": [
       "Seciò che non vuole spegnersi:–e più **terribilmente** di noi questi uccisi amavano la vita."
      ],
      "text/plain": [
       "<IPython.core.display.Markdown object>"
      ]
     },
     "metadata": {},
     "output_type": "display_data"
    },
    {
     "data": {
      "text/markdown": [
       "Io non son stata gelosa, finchè ti ebbi: lo diverrò **terribilmente** quando sarai lontano."
      ],
      "text/plain": [
       "<IPython.core.display.Markdown object>"
      ]
     },
     "metadata": {},
     "output_type": "display_data"
    },
    {
     "data": {
      "text/markdown": [
       "Vedrai quelli che assaltarono la rupe del Carso formidabile; quelli che, guadato il fiume, **terribilmente** vissero nell''inferno di Doberdò."
      ],
      "text/plain": [
       "<IPython.core.display.Markdown object>"
      ]
     },
     "metadata": {},
     "output_type": "display_data"
    },
    {
     "data": {
      "text/markdown": [
       "Guardandola, mi ricordavo con una sensazione **terribilmente** chiara il sapore che avevano le sue labbra nei baci d''amore; qualcosa di lei passava traverso le mie vene prodigandomiÈ stata la Bettina a dire: \"Se no te vien, xe prova che no te me voi ben\"."
      ],
      "text/plain": [
       "<IPython.core.display.Markdown object>"
      ]
     },
     "metadata": {},
     "output_type": "display_data"
    },
    {
     "data": {
      "text/markdown": [
       "Io non ero malvagio, ma i miei re erano **terribilmente** feroci, e inesorabili."
      ],
      "text/plain": [
       "<IPython.core.display.Markdown object>"
      ]
     },
     "metadata": {},
     "output_type": "display_data"
    },
    {
     "data": {
      "text/markdown": [
       "l''uomo pallido e trasognato; e più sono grandi e nobili e più uccidono, e non v''è corruzione di vizio che maceri più **terribilmente** ."
      ],
      "text/plain": [
       "<IPython.core.display.Markdown object>"
      ]
     },
     "metadata": {},
     "output_type": "display_data"
    },
    {
     "data": {
      "text/markdown": [
       "di incomparabile potenza e le disperate grida noi non le abbiamo udite, perchè suonava così giocondamente, così **terribilmente** la \"Marsigliese\" che non si potevano udire!"
      ],
      "text/plain": [
       "<IPython.core.display.Markdown object>"
      ]
     },
     "metadata": {},
     "output_type": "display_data"
    },
    {
     "data": {
      "text/markdown": [
       "Madi Dio; o la purità invocata dal cielo era stata invocata invano (il primogenito, già settenne, era un bambino **terribilmente** inclinato a insudiciarsi e a insudiciare); o l''attrito della vita aveva spente o congelate certe gentili fioriturele scene."
      ],
      "text/plain": [
       "<IPython.core.display.Markdown object>"
      ]
     },
     "metadata": {},
     "output_type": "display_data"
    },
    {
     "data": {
      "text/markdown": [
       "– Mi sei piaciuta sùbito, – continuai; – l''altra sera, quando giocavi, provavo **terribilmente** la tentazione di mordere la tua bocca... Ella piegò il mento sul petto; una grande ombra le ravvolse il viso immobile."
      ],
      "text/plain": [
       "<IPython.core.display.Markdown object>"
      ]
     },
     "metadata": {},
     "output_type": "display_data"
    },
    {
     "data": {
      "text/markdown": [
       "è creduto di amare, ad una creatura fragile come l''ambra e pallida come la cera, è mai possibile tenere un discorso così **terribilmente** logico e crudele?"
      ],
      "text/plain": [
       "<IPython.core.display.Markdown object>"
      ]
     },
     "metadata": {},
     "output_type": "display_data"
    },
    {
     "data": {
      "text/markdown": [
       "Ma il figlio del banchiere a Londra pensò **terribilmente** ai milioni della vecchia zia, doña Isabel."
      ],
      "text/plain": [
       "<IPython.core.display.Markdown object>"
      ]
     },
     "metadata": {},
     "output_type": "display_data"
    },
    {
     "data": {
      "text/markdown": [
       "Vedevo il pesante suggello d''ombra sotto il chiarore de'' suoi occhi dorati; ma questo visibile artifizio le stava **terribilmente** bene, rendeva il suo volto meno puro, gli dava uno splendore più torbido, una bellezza più tormentata."
      ],
      "text/plain": [
       "<IPython.core.display.Markdown object>"
      ]
     },
     "metadata": {},
     "output_type": "display_data"
    },
    {
     "data": {
      "text/markdown": [
       "[101] Aderendo alla carboneria i dueeravate veramente un uomo senza cuore, gelido e sciupato, al quale restava negli occhi, forse nell''anima, qualcosa di **terribilmente** lontano, che altre portarono via, qualcosa di aspro, di amaro, d''insensibile... mi piacevate allora, e dopo di allorasuo proprio mantello."
      ],
      "text/plain": [
       "<IPython.core.display.Markdown object>"
      ]
     },
     "metadata": {},
     "output_type": "display_data"
    },
    {
     "data": {
      "text/markdown": [
       "Oggi mi sembrate una superba miss, **terribilmente** inglese, che dietro la sua gelida e splendente bellezza nasconda una specie di sorda ostilità contro il genere umano,–dell''amore democratico: \"Innamorarsi.\""
      ],
      "text/plain": [
       "<IPython.core.display.Markdown object>"
      ]
     },
     "metadata": {},
     "output_type": "display_data"
    },
    {
     "data": {
      "text/markdown": [
       "Oh, non sentite voi come questo verbo sentimentale e proletario somigli **terribilmente** a quelle cartoline illustrate ove sono dipinte viole del pensiero?"
      ],
      "text/plain": [
       "<IPython.core.display.Markdown object>"
      ]
     },
     "metadata": {},
     "output_type": "display_data"
    },
    {
     "data": {
      "text/markdown": [
       "Ma noi, Madlen,–voi ed io, Madlen,–certo non... voleva dire insomma, che per quanto avessi provato a concedergli tutta me stessa, in me c''era un''altra donna che **terribilmente** non voleva... Anzi non dovete maravigliarvi: sono già quattro anni che vivo a questo modo, fra donne che vendono eErano due perfette cortigiane, due creature gloriose di tutto lo sfarzo che può essere nella bellezza umana, ed avevano dato sè stesse al piacere altrui."
      ],
      "text/plain": [
       "<IPython.core.display.Markdown object>"
      ]
     },
     "metadata": {},
     "output_type": "display_data"
    },
    {
     "data": {
      "text/markdown": [
       "Ho atteso **terribilmente** questa grande cosa nuova, che forse è nulla."
      ],
      "text/plain": [
       "<IPython.core.display.Markdown object>"
      ]
     },
     "metadata": {},
     "output_type": "display_data"
    },
    {
     "data": {
      "text/markdown": [
       "Ma invece il suo freddo cuore dormiva nei sensi **terribilmente** innamorati; ella si avvolgeva nel vizio con una specie di opaca ira, voleva essere una dura e splendida cortigiana, perE non pensate voi alla vostra vita, se foste nata una povera donna, Madlen?"
      ],
      "text/plain": [
       "<IPython.core.display.Markdown object>"
      ]
     },
     "metadata": {},
     "output_type": "display_data"
    },
    {
     "data": {
      "text/markdown": [
       "Io non ero malvagio, ma i miei re erano **terribilmente** feroci, e inesorabili."
      ],
      "text/plain": [
       "<IPython.core.display.Markdown object>"
      ]
     },
     "metadata": {},
     "output_type": "display_data"
    },
    {
     "data": {
      "text/markdown": [
       "Il dottore si fece serio, **terribilmente** serio."
      ],
      "text/plain": [
       "<IPython.core.display.Markdown object>"
      ]
     },
     "metadata": {},
     "output_type": "display_data"
    },
    {
     "data": {
      "text/markdown": [
       "eravate veramente un uomo senza cuore, gelido e sciupato, al quale restava negli occhi, forse nell''anima, qualcosa di **terribilmente** lontano, che altre portarono via, qualcosa di amaro, di aspro, d''insensibile... Mi piacevate allora, e dopo di alloraUn uomo che non ha portato il frac, che non ha puntato a un tappeto verde, che non sa far stare allegre le signorine, che cosa è?"
      ],
      "text/plain": [
       "<IPython.core.display.Markdown object>"
      ]
     },
     "metadata": {},
     "output_type": "display_data"
    },
    {
     "data": {
      "text/markdown": [
       "– Se non foste innamorato, Guelfo... – Ma lo sono, lo sono **terribilmente** ... di un pensiero che mi avete fatto nascere voi!"
      ],
      "text/plain": [
       "<IPython.core.display.Markdown object>"
      ]
     },
     "metadata": {},
     "output_type": "display_data"
    },
    {
     "data": {
      "text/markdown": [
       "E prima che potessi rispondere: – Pensa ch''io t''amo ancora **terribilmente** !"
      ],
      "text/plain": [
       "<IPython.core.display.Markdown object>"
      ]
     },
     "metadata": {},
     "output_type": "display_data"
    },
    {
     "data": {
      "text/markdown": [
       "E non si sarebbe offesa di quelle parole e di quei gesti in un momento cosìalla sua fama orribile, si convinse che il gagliardo e bel signore doveva essere, per ragion d''invidia, un uomo **terribilmente** calunniato."
      ],
      "text/plain": [
       "<IPython.core.display.Markdown object>"
      ]
     },
     "metadata": {},
     "output_type": "display_data"
    },
    {
     "data": {
      "text/markdown": [
       "Non credete alle donne straordinarie, che si divertono a parer complicate come il teorema di Pitagora, nè a quelle **terribilmente** fastidiose che ogni e qualsiasi volta rallentano i loro perfidi ginocchi suppongono di essere diventate una secondaForse gli si può fare rimprovero di essere stato il primo; ma è verosimile che fra gli scrittori non sia nemmeno l''ultimo."
      ],
      "text/plain": [
       "<IPython.core.display.Markdown object>"
      ]
     },
     "metadata": {},
     "output_type": "display_data"
    },
    {
     "data": {
      "text/markdown": [
       "Io non ero malvagio, ma i miei re erano **terribilmente** feroci, e inesorabili."
      ],
      "text/plain": [
       "<IPython.core.display.Markdown object>"
      ]
     },
     "metadata": {},
     "output_type": "display_data"
    },
    {
     "data": {
      "text/markdown": [
       "Una voce interiore mi assilla di continui rimproveri, e mi dice: \"Anche tu l''di Dio; o la purità invocata dal cielo era stata invocata invano (il primogenito, già settenne, era un bambino **terribilmente** inclinato a insudiciarsi e a insudiciare); o l''attrito della vita aveva spente o congelate certe gentili fioriturePer questa ragione, dopo aver disegnato sulle labbra un garbato sorriso, il signor Aurelio non esitò a parlare così:  offenderebbe la mia modestia e quella ben più delicata dei miei compagni."
      ],
      "text/plain": [
       "<IPython.core.display.Markdown object>"
      ]
     },
     "metadata": {},
     "output_type": "display_data"
    },
    {
     "data": {
      "text/markdown": [
       "Io, alla vostra età--parlavo con un giovane amico--ero **terribilmente** romantico ed idealista."
      ],
      "text/plain": [
       "<IPython.core.display.Markdown object>"
      ]
     },
     "metadata": {},
     "output_type": "display_data"
    },
    {
     "data": {
      "text/markdown": [
       "Più che nemico degli altri, sono **terribilmente** il mio; gli altri mi fanno pena, laddove di me stesso mi sdegno."
      ],
      "text/plain": [
       "<IPython.core.display.Markdown object>"
      ]
     },
     "metadata": {},
     "output_type": "display_data"
    },
    {
     "data": {
      "text/markdown": [
       "Ma io divago **terribilmente** , o Personaggi della Commedia, e non mi ricordo più che voi soffriate per l''impazienza di conoscere con esattezza chiMa nel suo buon senso di bambino savio e che avea studiato, capì che tutte codeste fantasie aveano una certa parentela con un sentimento brutto che avea persino paura di nominare – la paura!"
      ],
      "text/plain": [
       "<IPython.core.display.Markdown object>"
      ]
     },
     "metadata": {},
     "output_type": "display_data"
    },
    {
     "data": {
      "text/markdown": [
       "volto al volto di Ardea che quasi ha l''aria di baciarlo: certo, almeno, lo bacia con l''intenzione... Ma l''intenzione dà **terribilmente** sui nervi di Mimì che spezza su la tavola il suo bicchiere e, saltata su in piedi, grida: – Scimmia ossigenata, la finisca– esclamò, – come potremo continuare a vivere in questo modo?"
      ],
      "text/plain": [
       "<IPython.core.display.Markdown object>"
      ]
     },
     "metadata": {},
     "output_type": "display_data"
    },
    {
     "data": {
      "text/markdown": [
       "E prima che potessi rispondere: – Pensa ch''io t''amo ancora **terribilmente** !"
      ],
      "text/plain": [
       "<IPython.core.display.Markdown object>"
      ]
     },
     "metadata": {},
     "output_type": "display_data"
    },
    {
     "data": {
      "text/markdown": [
       "Un odore aspro di pescheria, di conchiglieria marina, feriva **terribilmente** l''aria dalle prossime botteghe di pescivendoli chiuse; un dragone, quasi nuotante nelle due fisarmoniche de'' suoiI francesi, quelli vengono giù di certo, faranno come quel tal re che da Susa arrivò sino a Napoli senza sparare un colpo di fucile: come si chiamava già quel re, signorina?"
      ],
      "text/plain": [
       "<IPython.core.display.Markdown object>"
      ]
     },
     "metadata": {},
     "output_type": "display_data"
    },
    {
     "data": {
      "text/markdown": [
       "Tenerci con la mano la mano sembra una cosa innocente, ma è **terribilmente** colpevole; tanto colpevole che a noi sembra talvolta l''infinito amore tutto e solo consistere nel tenersi una mano."
      ],
      "text/plain": [
       "<IPython.core.display.Markdown object>"
      ]
     },
     "metadata": {},
     "output_type": "display_data"
    },
    {
     "data": {
      "text/markdown": [
       "– Se non foste innamorato, Guelfo... – Ma lo sono, lo sono **terribilmente** ... di un pensiero che mi avete fatto nascere voi!"
      ],
      "text/plain": [
       "<IPython.core.display.Markdown object>"
      ]
     },
     "metadata": {},
     "output_type": "display_data"
    },
    {
     "data": {
      "text/markdown": [
       "è creduto di amare, ad una creatura fragile come l''ambra e pallida come la cera, è mai possibile tenere un discorso così **terribilmente** logico e crudele?"
      ],
      "text/plain": [
       "<IPython.core.display.Markdown object>"
      ]
     },
     "metadata": {},
     "output_type": "display_data"
    },
    {
     "data": {
      "text/markdown": [
       "Non credete alle donne straordinarie, che si divertono a parer complicate come il teorema di Pitagora, nè a quelle **terribilmente** fastidiose che ogni e qualsiasi volta rallentano i loro perfidi ginocchi suppongono di essere diventate una seconda, qui cantano col far dell''aprile."
      ],
      "text/plain": [
       "<IPython.core.display.Markdown object>"
      ]
     },
     "metadata": {},
     "output_type": "display_data"
    },
    {
     "data": {
      "text/markdown": [
       "Gli animali, assaliti e paurosi, prendevano **terribilmente** la forma del loro scheletro; gli uomini, allucinati, non parlavano più."
      ],
      "text/plain": [
       "<IPython.core.display.Markdown object>"
      ]
     },
     "metadata": {},
     "output_type": "display_data"
    },
    {
     "data": {
      "text/markdown": [
       "alla sua fama orribile, si convinse che il gagliardo e bel signore doveva essere, per ragion d''invidia, un uomo **terribilmente** calunniato."
      ],
      "text/plain": [
       "<IPython.core.display.Markdown object>"
      ]
     },
     "metadata": {},
     "output_type": "display_data"
    },
    {
     "data": {
      "text/markdown": [
       "Prediletto nella società galante, spendeva senza parsimonia, con aristocratica eleganza: doveva essere **terribilmente** cinico dietro la sua maschera d''impeccabile gran signore."
      ],
      "text/plain": [
       "<IPython.core.display.Markdown object>"
      ]
     },
     "metadata": {},
     "output_type": "display_data"
    },
    {
     "data": {
      "text/markdown": [
       "Più che nemico degli altri, sono **terribilmente** il mio; gli altri mi fanno pena, laddove di me stesso mi sdegno."
      ],
      "text/plain": [
       "<IPython.core.display.Markdown object>"
      ]
     },
     "metadata": {},
     "output_type": "display_data"
    },
    {
     "data": {
      "text/markdown": [
       "E, una sera, poichè Eva apriva con un gesto di malumore una nuova lettera inconcludente del consigliere Faber, Pierino si piantò dinanzi a sua moglie, incastrò nell''occhio la caramella e, tutto d''un fiato, così come si getta in acqua chi ha paura dell''acqua, tenne, velocissimamente, il seguente discorso:  sentimentale, a vederla così disperata, schiantata... Ha tanta pietà e tanta simpatia... E, poichè veder soffrire è spesso una buona occasione per cominciare ad amare, Fiorvante, sollevandola da terra dove s''è rovesciata con le sue lacrime ecolmi di stelle, tutto ciò che porta gli uomini verso il terrestre paradiso, tutto ciò che non vuole spegnersi:–e più **terribilmente** di noi questi uccisi amavano la vita."
      ],
      "text/plain": [
       "<IPython.core.display.Markdown object>"
      ]
     },
     "metadata": {},
     "output_type": "display_data"
    },
    {
     "data": {
      "text/markdown": [
       "Io non pensavo all''amore; pensavo **terribilmente** a lei, a me..."
      ],
      "text/plain": [
       "<IPython.core.display.Markdown object>"
      ]
     },
     "metadata": {},
     "output_type": "display_data"
    },
    {
     "data": {
      "text/markdown": [
       "Voglio la luce, voglio la luce, voglio il sole, il sole._ Abbiamo fatto mettere delle lampade ad arco.via da te, una sera ho chiuso gli occhi, ed ho sentito la sua bocca fredda, la sua bocca pallida... pesare, pesare **terribilmente** su la mia...\" Forse non l''ascoltavo nemmeno più."
      ],
      "text/plain": [
       "<IPython.core.display.Markdown object>"
      ]
     },
     "metadata": {},
     "output_type": "display_data"
    },
    {
     "data": {
      "text/markdown": [
       "Tenerci con la mano la mano sembra una cosa innocente, ma è **terribilmente** colpevole; tanto colpevole che a noi sembra talvolta l''infinito amore tutto e solo consistere nel tenersi una mano."
      ],
      "text/plain": [
       "<IPython.core.display.Markdown object>"
      ]
     },
     "metadata": {},
     "output_type": "display_data"
    },
    {
     "data": {
      "text/markdown": [
       "Più che nemico degli altri, sono **terribilmente** il mio; gli altri mi fanno pena, laddove di me stesso mi sdegno."
      ],
      "text/plain": [
       "<IPython.core.display.Markdown object>"
      ]
     },
     "metadata": {},
     "output_type": "display_data"
    },
    {
     "data": {
      "text/markdown": [
       "eravate veramente un uomo senza cuore, gelido e sciupato, al quale restava negli occhi, forse nell''anima, qualcosa di **terribilmente** lontano, che altre portarono via, qualcosa di amaro, di aspro, d''insensibile... Mi piacevate allora, e dopo di alloramistero incombesse su lei."
      ],
      "text/plain": [
       "<IPython.core.display.Markdown object>"
      ]
     },
     "metadata": {},
     "output_type": "display_data"
    },
    {
     "data": {
      "text/markdown": [
       "Sentivo **terribilmente** il bisogno d''immergere la mia viva bocca nella sua carne bella."
      ],
      "text/plain": [
       "<IPython.core.display.Markdown object>"
      ]
     },
     "metadata": {},
     "output_type": "display_data"
    },
    {
     "data": {
      "text/markdown": [
       "Avevo **terribilmente** voglia, non so perchè, di baciare la sua bocca."
      ],
      "text/plain": [
       "<IPython.core.display.Markdown object>"
      ]
     },
     "metadata": {},
     "output_type": "display_data"
    },
    {
     "data": {
      "text/markdown": [
       "anni, pallida, un poco emaciata, con grandi occhi scuri, troppo fissi, ove la giovinezza era già spenta; gli occhi **terribilmente** lascivi e dolorosi delle pazze in Cristo, gli occhi senza umanità ch''ebbero tutte le allucinate, le portatrici diNon gli pareva possibile che, quando milioni e milioni di suoi connazionali correvano il rischio di pagar con la vita il diritto della loro patria a farsi un po'' più grande, egli potesse cavarsela, beniamino degli dei di guerra, a così buon mercato."
      ],
      "text/plain": [
       "<IPython.core.display.Markdown object>"
      ]
     },
     "metadata": {},
     "output_type": "display_data"
    },
    {
     "data": {
      "text/markdown": [
       "; sul pergamo apparve la figura di un monaco, tetra e smorta, con occhi freddi come l''argento, in una devastata faccia **terribilmente** incisa di drammaticità, che mi fece pensare agli occhi fermi, alla bocca perversa, alle piccole mani crudeli delLe mani di lei non posano mai; raccoglie lo sterpo e lo sterco; accatta il ciottolo; stende il bucato su la siepe; rinforza con spini la siepe, e, quando il sole arde nel meriggio, lava presso la pozza ombrosa o trae con la bava il filo della rocca antica; sottopone al testo le brulle e vi gira la piada, cara a te, Giovanni Pascoli!"
      ],
      "text/plain": [
       "<IPython.core.display.Markdown object>"
      ]
     },
     "metadata": {},
     "output_type": "display_data"
    },
    {
     "data": {
      "text/markdown": [
       "Ma io divago **terribilmente** , o Personaggi della Commedia, e non mi ricordo più che voi soffriate per l''impazienza di conoscere con esattezza chia cassetta suonava imperterrito l''inno di Garibaldi con la cornetta e spaventava i cavalli che, per la pioggia, per lo spavento delle grida, per il gran peso, non volevano andar più avanti."
      ],
      "text/plain": [
       "<IPython.core.display.Markdown object>"
      ]
     },
     "metadata": {},
     "output_type": "display_data"
    },
    {
     "data": {
      "text/markdown": [
       "l''uomo pallido e trasognato; e più sono grandi e nobili e più uccidono, e non v''è corruzione di vizio che maceri più **terribilmente** ."
      ],
      "text/plain": [
       "<IPython.core.display.Markdown object>"
      ]
     },
     "metadata": {},
     "output_type": "display_data"
    },
    {
     "data": {
      "text/markdown": [
       "Un odore aspro di pescheria, di conchiglieria marina, feriva **terribilmente** l''aria dalle prossime botteghe di pescivendoli chiuse; un dragone, quasi nuotante nelle due fisarmoniche de'' suoivolto al volto di Ardea che quasi ha l''aria di baciarlo: certo, almeno, lo bacia con l''intenzione... Ma l''intenzione dà **terribilmente** sui nervi di Mimì che spezza su la tavola il suo bicchiere e, saltata su in piedi, grida: – Scimmia ossigenata, la finisca\" È la frase della mia maestra."
      ],
      "text/plain": [
       "<IPython.core.display.Markdown object>"
      ]
     },
     "metadata": {},
     "output_type": "display_data"
    },
    {
     "data": {
      "text/markdown": [
       "E su la folla dei cristiani **terribilmente** passava la sensazione di Dio."
      ],
      "text/plain": [
       "<IPython.core.display.Markdown object>"
      ]
     },
     "metadata": {},
     "output_type": "display_data"
    },
    {
     "data": {
      "text/markdown": [
       "Gli animali, assaliti e paurosi, prendevano **terribilmente** la forma del loro scheletro; gli uomini, allucinati, non parlavano più."
      ],
      "text/plain": [
       "<IPython.core.display.Markdown object>"
      ]
     },
     "metadata": {},
     "output_type": "display_data"
    },
    {
     "data": {
      "text/markdown": [
       "Vedrai quelli che assaltarono la rupe del Carso formidabile; quelli che, guadato il fiume, **terribilmente** vissero nell''inferno di Doberdò."
      ],
      "text/plain": [
       "<IPython.core.display.Markdown object>"
      ]
     },
     "metadata": {},
     "output_type": "display_data"
    },
    {
     "data": {
      "text/markdown": [
       "Il dottore si fece serio, **terribilmente** serio."
      ],
      "text/plain": [
       "<IPython.core.display.Markdown object>"
      ]
     },
     "metadata": {},
     "output_type": "display_data"
    },
    {
     "data": {
      "text/markdown": [
       "Era una cosa **terribilmente** piena di mortificazione per la signora: quell''uomo, il prof. Marchi, gelido, meccanico, irreprensibile nel vestitoprofeti della \"concordia\" e a parlare così, e a dire che l''Italia non era preparata alla guerra, e che il Lombardo-Veneto sarebbe stato invaso in una settimana, e che si voleva sfasciare in cinque mesi ciò che si era messo insieme in più di cinquant''anni, c''era pericolo, specialmente quando si aveva una moglie di Vienna o di Berlino, di sentirsi dire quello che si sentì dire Pierino da un amico che perdeva la pazienza, e con la pazienza anche le staffe, e con le staffe anche il fiato, nel volerlo persuadere, sino al punto di perdere con molto fiato anche un po'' d''educazione per gridargli: \"Già tu hai per moglie un''austriaca...  E ve l''hanno scritto anche , oggi, su tutte le cantonate, a carbone, a lettere cubitali: Divisi e senza testa, è il valzer della morte."
      ],
      "text/plain": [
       "<IPython.core.display.Markdown object>"
      ]
     },
     "metadata": {},
     "output_type": "display_data"
    },
    {
     "data": {
      "text/markdown": [
       "Io non ero malvagio, ma i miei re erano **terribilmente** feroci, e inesorabili."
      ],
      "text/plain": [
       "<IPython.core.display.Markdown object>"
      ]
     },
     "metadata": {},
     "output_type": "display_data"
    },
    {
     "data": {
      "text/markdown": [
       "d''un bicchiere troppo colmo, nella fuggitiva illusione d''una parola d''amore, l''uomo che saprà d''un tratto farle **terribilmente** male, contorcere fino allo spasimo la sua perduta e bianca nudità."
      ],
      "text/plain": [
       "<IPython.core.display.Markdown object>"
      ]
     },
     "metadata": {},
     "output_type": "display_data"
    },
    {
     "data": {
      "text/markdown": [
       "Allora sarà di lei quello che doveva essere il primoeravate veramente un uomo senza cuore, gelido e sciupato, al quale restava negli occhi, forse nell''anima, qualcosa di **terribilmente** lontano, che altre portarono via, qualcosa di aspro, di amaro, d''insensibile... mi piacevate allora, e dopo di alloraMi fermai tuttavia un altro poco; e mi ricordo che venne a sedere fra noi un vecchietto segaligno e vispo, con un vestitino di cotone e un consunto cappelluccio di paglia che quasi non aveva ala; e raccontava raccontava con una gioia da bambino tutti i vecchi aneddoti di Paganini, il violinista, come fossero stati freschi di ieri, e io lo stavo a sentire per sorprendere se v''era già qualche venatura di toscano nel suo dialetto, quando il vecchierello disse:  \"Io sono corso sino qui come un cane randagio\" pensò."
      ],
      "text/plain": [
       "<IPython.core.display.Markdown object>"
      ]
     },
     "metadata": {},
     "output_type": "display_data"
    },
    {
     "data": {
      "text/markdown": [
       "Oh, non sentite voi come questo verbo sentimentale e proletario somigli **terribilmente** a quelle cartoline illustrate ove sono dipinte viole del pensiero?"
      ],
      "text/plain": [
       "<IPython.core.display.Markdown object>"
      ]
     },
     "metadata": {},
     "output_type": "display_data"
    },
    {
     "data": {
      "text/markdown": [
       "Ma il figlio del banchiere a Londra pensò **terribilmente** ai milioni della vecchia zia, doña Isabel."
      ],
      "text/plain": [
       "<IPython.core.display.Markdown object>"
      ]
     },
     "metadata": {},
     "output_type": "display_data"
    },
    {
     "data": {
      "text/markdown": [
       "Ho atteso **terribilmente** questa grande cosa nuova, che forse è nulla."
      ],
      "text/plain": [
       "<IPython.core.display.Markdown object>"
      ]
     },
     "metadata": {},
     "output_type": "display_data"
    },
    {
     "data": {
      "text/markdown": [
       "Ma invece il suo freddo cuore dormiva nei sensi **terribilmente** innamorati; ella si avvolgeva nel vizio con una specie di opaca ira, voleva essere una dura e splendida cortigiana, perPer quanto io amassi i miei nonni, è certo che Cinzia valeva di più, anche per ragione di età, al mio cospetto."
      ],
      "text/plain": [
       "<IPython.core.display.Markdown object>"
      ]
     },
     "metadata": {},
     "output_type": "display_data"
    },
    {
     "data": {
      "text/markdown": [
       "... voleva dire insomma, che per quanto avessi provato a concedergli tutta me stessa, in me c''era un''altra donna che **terribilmente** non voleva... Anzi non dovete maravigliarvi: sono già quattro anni che vivo a questo modo, fra donne che vendono e, oppressi dal tedio, sbadigliavan o mormoravano tra loro."
      ],
      "text/plain": [
       "<IPython.core.display.Markdown object>"
      ]
     },
     "metadata": {},
     "output_type": "display_data"
    },
    {
     "data": {
      "text/markdown": [
       "Vedevo il pesante suggello d''ombra sotto il chiarore de'' suoi occhi dorati; ma questo visibile artifizio le stava **terribilmente** bene, rendeva il suo volto meno puro, gli dava uno splendore più torbido, una bellezza più tormentata."
      ],
      "text/plain": [
       "<IPython.core.display.Markdown object>"
      ]
     },
     "metadata": {},
     "output_type": "display_data"
    },
    {
     "data": {
      "text/markdown": [
       "Oggi mi sembrate una superba miss, **terribilmente** inglese, che dietro la sua gelida e splendente bellezza nasconda una specie di sorda ostilità contro il genere umano,–a sorridere – un po'' di bontà, un po'' di disprezzo – chè tanto non l''avrebbero riveduto mai più."
      ],
      "text/plain": [
       "<IPython.core.display.Markdown object>"
      ]
     },
     "metadata": {},
     "output_type": "display_data"
    },
    {
     "data": {
      "text/markdown": [
       "Io, alla vostra età--parlavo con un giovane amico--ero **terribilmente** romantico ed idealista."
      ],
      "text/plain": [
       "<IPython.core.display.Markdown object>"
      ]
     },
     "metadata": {},
     "output_type": "display_data"
    },
    {
     "data": {
      "text/markdown": [
       "Era una cosa **terribilmente** piena di mortificazione per la signora: quell''uomo, il prof. Marchi, gelido, meccanico, irreprensibile nel vestito– Senta, Missiroli – gli chiesi –, non ha lei così, per capo, per una specie di intuizione sensitiva dell''epidermide, il terrore di un enorme peso sul collo?"
      ],
      "text/plain": [
       "<IPython.core.display.Markdown object>"
      ]
     },
     "metadata": {},
     "output_type": "display_data"
    },
    {
     "data": {
      "text/markdown": [
       "Prediletto nella società galante, spendeva senza parsimonia, con aristocratica eleganza: doveva essere **terribilmente** cinico dietro la sua maschera d''impeccabile gran signore."
      ],
      "text/plain": [
       "<IPython.core.display.Markdown object>"
      ]
     },
     "metadata": {},
     "output_type": "display_data"
    },
    {
     "data": {
      "text/markdown": [
       "Guardandola, mi ricordavo con una sensazione **terribilmente** chiara il sapore che avevano le sue labbra nei baci d''amore; qualcosa di lei passava traverso le mie vene prodigandomiSo di non essere nelle sue buone grazie e l''ho lasciata in pace."
      ],
      "text/plain": [
       "<IPython.core.display.Markdown object>"
      ]
     },
     "metadata": {},
     "output_type": "display_data"
    },
    {
     "data": {
      "text/markdown": [
       "anni, pallida, un poco emaciata, con grandi occhi scuri, troppo fissi, ove la giovinezza era già spenta; gli occhi **terribilmente** lascivi e dolorosi delle pazze in Cristo, gli occhi senza umanità ch''ebbero tutte le allucinate, le portatrici diNon dobbiamo meravigliarci di questi dubbi, considerando che il signor Aurelio aveva per le altre questioni un colpo d''occhio fulmineo, ma per le piccole operazioni quotidiane era spesso impicciato in una maniera troppo vergognosa per un uomo della sua barba, della sua età."
      ],
      "text/plain": [
       "<IPython.core.display.Markdown object>"
      ]
     },
     "metadata": {},
     "output_type": "display_data"
    },
    {
     "data": {
      "text/markdown": [
       "Avevo **terribilmente** voglia, non so perchè, di baciare la sua bocca."
      ],
      "text/plain": [
       "<IPython.core.display.Markdown object>"
      ]
     },
     "metadata": {},
     "output_type": "display_data"
    },
    {
     "data": {
      "text/markdown": [
       "Le misi un braccio intorno al collo, intorno alla nuca, la sua bella nucavia da te, una sera ho chiuso gli occhi, ed ho sentito la sua bocca fredda, la sua bocca pallida... pesare, pesare **terribilmente** su la mia...\" Forse non l''ascoltavo nemmeno più."
      ],
      "text/plain": [
       "<IPython.core.display.Markdown object>"
      ]
     },
     "metadata": {},
     "output_type": "display_data"
    },
    {
     "data": {
      "text/markdown": [
       "E su la folla dei cristiani **terribilmente** passava la sensazione di Dio."
      ],
      "text/plain": [
       "<IPython.core.display.Markdown object>"
      ]
     },
     "metadata": {},
     "output_type": "display_data"
    },
    {
     "data": {
      "text/markdown": [
       "; sul pergamo apparve la figura di un monaco, tetra e smorta, con occhi freddi come l''argento, in una devastata faccia **terribilmente** incisa di drammaticità, che mi fece pensare agli occhi fermi, alla bocca perversa, alle piccole mani crudeli deldi Sciampagna, il bicchiere che brillava come un fiore di cristallo fra le sue minuscole dita,–e questa fu la cosa molto leggiadra ch''ella fece per quello straniero: gli mandò, prima un sorriso, poi si portò il bicchiere vicino alla bocca,Al congresso di Parigi il Walewski aveva avuto occasione di conoscere il Cavour, quando, difendendo egli i diritti dell''Austria, si sentì rispondere \"con molto foco\" da quel piccolo ministro: \"io vi assicuro che se avessi 180 000 uomini a mia disposizione, farei immediatamente la guerra all''Austria\"."
      ],
      "text/plain": [
       "<IPython.core.display.Markdown object>"
      ]
     },
     "metadata": {},
     "output_type": "display_data"
    },
    {
     "data": {
      "text/markdown": [
       "e disse con voce assai amichevole ed insinuante; – Io sono non spiacente, ma spiacentissimo, tanto per lei come per molti altri che vengono da me quasi che io avessi l''onore di essere la divina provvidenza, e le confesso che certe cose, a udirecolmi di stelle, tutto ciò che porta gli uomini verso il terrestre paradiso, tutto ciò che non vuole spegnersi:–e più **terribilmente** di noi questi uccisi amavano la vita."
      ],
      "text/plain": [
       "<IPython.core.display.Markdown object>"
      ]
     },
     "metadata": {},
     "output_type": "display_data"
    },
    {
     "data": {
      "text/markdown": [
       "Io non pensavo all''amore; pensavo **terribilmente** a lei, a me..."
      ],
      "text/plain": [
       "<IPython.core.display.Markdown object>"
      ]
     },
     "metadata": {},
     "output_type": "display_data"
    },
    {
     "data": {
      "text/markdown": [
       "Si lasciò andare sul divanod''un bicchiere troppo colmo, nella fuggitiva illusione d''una parola d''amore, l''uomo che saprà d''un tratto farle **terribilmente** male, contorcere fino allo spasimo la sua perduta e bianca nudità."
      ],
      "text/plain": [
       "<IPython.core.display.Markdown object>"
      ]
     },
     "metadata": {},
     "output_type": "display_data"
    },
    {
     "data": {
      "text/markdown": [
       "Sentivo **terribilmente** il bisogno d''immergere la mia viva bocca nella sua carne bella."
      ],
      "text/plain": [
       "<IPython.core.display.Markdown object>"
      ]
     },
     "metadata": {},
     "output_type": "display_data"
    },
    {
     "data": {
      "text/markdown": [
       "di incomparabile potenza e le disperate grida noi non le abbiamo udite, perchè suonava così giocondamente, così **terribilmente** la \"Marsigliese\" che non si potevano udire!"
      ],
      "text/plain": [
       "<IPython.core.display.Markdown object>"
      ]
     },
     "metadata": {},
     "output_type": "display_data"
    },
    {
     "data": {
      "text/markdown": [
       "– Mi sei piaciuta sùbito, – continuai; – l''altra sera, quando giocavi, provavo **terribilmente** la tentazione di mordere la tua bocca... Ella piegò il mento sul petto; una grande ombra le ravvolse il viso immobile."
      ],
      "text/plain": [
       "<IPython.core.display.Markdown object>"
      ]
     },
     "metadata": {},
     "output_type": "display_data"
    },
    {
     "data": {
      "text/markdown": [
       "Io non son stata gelosa, finchè ti ebbi: lo diverrò **terribilmente** quando sarai lontano."
      ],
      "text/plain": [
       "<IPython.core.display.Markdown object>"
      ]
     },
     "metadata": {},
     "output_type": "display_data"
    },
    {
     "data": {
      "text/markdown": [
       "Qualche cosa di **terribilmente** vago le faceva presentire che il Giappone non avrebbe portato fortuna al suo Roberto, ma nascondeva la sua ansia perché sentiva che non avrebbe potuto affrontare l'argomento senza turbare la serenità del figlio."
      ],
      "text/plain": [
       "<IPython.core.display.Markdown object>"
      ]
     },
     "metadata": {},
     "output_type": "display_data"
    },
    {
     "data": {
      "text/markdown": [
       "Bianca aveva finito per odiare **terribilmente** la giapponese come solo sa odiare una madre, ma nascondeva per riguardo verso Roberto il suo sentimento sotto un contegno disinvolto, altrettanto freddo che cortese."
      ],
      "text/plain": [
       "<IPython.core.display.Markdown object>"
      ]
     },
     "metadata": {},
     "output_type": "display_data"
    },
    {
     "data": {
      "text/markdown": [
       "Ecco stabilita la superiorità di questo romanzo femminile su tanti romanzi maschili che sono **terribilmente** noiosi.... Il Marzocco (Luigi Tonelli)."
      ],
      "text/plain": [
       "<IPython.core.display.Markdown object>"
      ]
     },
     "metadata": {},
     "output_type": "display_data"
    },
    {
     "data": {
      "text/markdown": [
       "Avevo paura, avevo **terribilmente** paura."
      ],
      "text/plain": [
       "<IPython.core.display.Markdown object>"
      ]
     },
     "metadata": {},
     "output_type": "display_data"
    },
    {
     "data": {
      "text/markdown": [
       "Ecco stabilita la superiorità di questo romanzo femminile su tanti romanzi maschili che sono **terribilmente** noiosi.... Il Marzocco (Luigi Tonelli)."
      ],
      "text/plain": [
       "<IPython.core.display.Markdown object>"
      ]
     },
     "metadata": {},
     "output_type": "display_data"
    },
    {
     "data": {
      "text/markdown": [
       "Ecco stabilita la superiorità di questo romanzo femminile su tanti romanzi maschili che sono **terribilmente** noiosi.... Il Marzocco (Luigi Tonelli)."
      ],
      "text/plain": [
       "<IPython.core.display.Markdown object>"
      ]
     },
     "metadata": {},
     "output_type": "display_data"
    },
    {
     "data": {
      "text/markdown": [
       "Ecco stabilita la superiorità di questo romanzo femminile su tanti romanzi maschili che sono **terribilmente** noiosi.... Il Marzocco (Luigi Tonelli)."
      ],
      "text/plain": [
       "<IPython.core.display.Markdown object>"
      ]
     },
     "metadata": {},
     "output_type": "display_data"
    },
    {
     "data": {
      "text/markdown": [
       "Avevo paura, avevo **terribilmente** paura."
      ],
      "text/plain": [
       "<IPython.core.display.Markdown object>"
      ]
     },
     "metadata": {},
     "output_type": "display_data"
    },
    {
     "data": {
      "text/markdown": [
       "Caterina ( **terribilmente** ) La morte!"
      ],
      "text/plain": [
       "<IPython.core.display.Markdown object>"
      ]
     },
     "metadata": {},
     "output_type": "display_data"
    },
    {
     "data": {
      "text/markdown": [
       "DON FIORENZO (in atto di gettarsi addosso a Barbarello, urla **terribilmente** :) Assassino!"
      ],
      "text/plain": [
       "<IPython.core.display.Markdown object>"
      ]
     },
     "metadata": {},
     "output_type": "display_data"
    },
    {
     "data": {
      "text/markdown": [
       "GRAZIELLA Ci avesse portato... anche.... SALVATORE (sorgendo in piedi, **terribilmente** ) Del danaro?!"
      ],
      "text/plain": [
       "<IPython.core.display.Markdown object>"
      ]
     },
     "metadata": {},
     "output_type": "display_data"
    },
    {
     "data": {
      "text/markdown": [
       "Silvio (tra l'' angoscia , l''orrore e la speranza) Ebbene, giacchè io non so trovarlo questo vostro amante, abbiate voi il coraggio di compiereneppure pensando a quel servo imbecille, che, secondo voi, riconoscendomi per la marchesa di Montefranco, mi avrebbe **terribilmente** compromessa?"
      ],
      "text/plain": [
       "<IPython.core.display.Markdown object>"
      ]
     },
     "metadata": {},
     "output_type": "display_data"
    },
    {
     "data": {
      "text/markdown": [
       "Caterina ( **terribilmente** ) La morte!"
      ],
      "text/plain": [
       "<IPython.core.display.Markdown object>"
      ]
     },
     "metadata": {},
     "output_type": "display_data"
    },
    {
     "data": {
      "text/markdown": [
       "neppure pensando a quel servo imbecille, che, secondo voi, riconoscendomi per la marchesa di Montefranco, mi avrebbe **terribilmente** compromessa?"
      ],
      "text/plain": [
       "<IPython.core.display.Markdown object>"
      ]
     },
     "metadata": {},
     "output_type": "display_data"
    },
    {
     "data": {
      "text/markdown": [
       "Caterina (**terribilmente**) La morte!"
      ],
      "text/plain": [
       "<IPython.core.display.Markdown object>"
      ]
     },
     "metadata": {},
     "output_type": "display_data"
    },
    {
     "data": {
      "text/markdown": [
       "Caterina (**terribilmente**) La morte!"
      ],
      "text/plain": [
       "<IPython.core.display.Markdown object>"
      ]
     },
     "metadata": {},
     "output_type": "display_data"
    },
    {
     "data": {
      "text/markdown": [
       "DON FIORENZO (in atto di gettarsi addosso a Barbarello, urla **terribilmente** :) Assassino!"
      ],
      "text/plain": [
       "<IPython.core.display.Markdown object>"
      ]
     },
     "metadata": {},
     "output_type": "display_data"
    },
    {
     "data": {
      "text/markdown": [
       "GRAZIELLA Ci avesse portato... anche.... SALVATORE (sorgendo in piedi, **terribilmente** ) Del danaro?!"
      ],
      "text/plain": [
       "<IPython.core.display.Markdown object>"
      ]
     },
     "metadata": {},
     "output_type": "display_data"
    },
    {
     "data": {
      "text/markdown": [
       "--Ho paura, dice Bianca, penso che mi farai soffrire, **terribilmente** soffrire."
      ],
      "text/plain": [
       "<IPython.core.display.Markdown object>"
      ]
     },
     "metadata": {},
     "output_type": "display_data"
    },
    {
     "data": {
      "text/markdown": [
       "Non fosti mai--confessalo!-- non fosti mai più **terribilmente** felice!..."
      ],
      "text/plain": [
       "<IPython.core.display.Markdown object>"
      ]
     },
     "metadata": {},
     "output_type": "display_data"
    },
    {
     "data": {
      "text/markdown": [
       "Non fosti mai--confessalo!-- non fosti mai più **terribilmente** felice!..."
      ],
      "text/plain": [
       "<IPython.core.display.Markdown object>"
      ]
     },
     "metadata": {},
     "output_type": "display_data"
    },
    {
     "data": {
      "text/markdown": [
       "Pennacchi crollanti di fumo greve e grassoNatura, prese nei lacci e nelle reti delle formole chimiche e meccaniche, e così asservite all''uomo, si vendicano **terribilmente** , balzandoci alla gola con la selvaggia irruenza dei cani arrabbiati."
      ],
      "text/plain": [
       "<IPython.core.display.Markdown object>"
      ]
     },
     "metadata": {},
     "output_type": "display_data"
    },
    {
     "data": {
      "text/markdown": [
       "Natura, prese nei lacci e nelle reti delle formole chimiche e meccaniche, e così asservite all''uomo, si vendicano **terribilmente** , balzandoci alla gola con la selvaggia irruenza dei cani arrabbiati."
      ],
      "text/plain": [
       "<IPython.core.display.Markdown object>"
      ]
     },
     "metadata": {},
     "output_type": "display_data"
    },
    {
     "data": {
      "text/markdown": [
       "--Ho paura, dice Bianca, penso che mi farai soffrire, **terribilmente** soffrire."
      ],
      "text/plain": [
       "<IPython.core.display.Markdown object>"
      ]
     },
     "metadata": {},
     "output_type": "display_data"
    },
    {
     "data": {
      "text/markdown": [
       "Ai poli, come ho accennato, inutile andare; e poi, io, come esploratore, valgo solo per i climi temperati; odio **terribilmente** il freddo."
      ],
      "text/plain": [
       "<IPython.core.display.Markdown object>"
      ]
     },
     "metadata": {},
     "output_type": "display_data"
    },
    {
     "data": {
      "text/markdown": [
       "Le acque ruggono **terribilmente** sgorgando da ogni parte, invadendo vittoriose le valli: il cielo del color della pece è solcato qua e là da strisce di sangue; all’orizzonte si disegnano i profili dei monti che si sollevano ancora su l’Oceano e su i quali si addensano, vespaio immane, che manda un ronzio assordante di grida altissime, invocante misericordia, i poveri uomini colpiti dall’ira dei numi.... Tutto si agita, tutto precipita."
      ],
      "text/plain": [
       "<IPython.core.display.Markdown object>"
      ]
     },
     "metadata": {},
     "output_type": "display_data"
    },
    {
     "data": {
      "text/markdown": [
       "Gira sempre in traccia di lavoro; passa daloro influenze e delle loro relazioni, lo straniero, che non ha nessuno di questi pesi da mettervi, trova la bilancia **terribilmente** difettosa."
      ],
      "text/plain": [
       "<IPython.core.display.Markdown object>"
      ]
     },
     "metadata": {},
     "output_type": "display_data"
    },
    {
     "data": {
      "text/markdown": [
       "Nelle parrocchie in cui tutto il territorio eraIo voglio dire piuttosto che la decadenza stessa , nel significato che letterariamente si può dare alla parola , ha ancora oggi un compito \" rivoluzionario \" rispetto alle condizioni culturali **terribilmente** arretrate di una borghesia incapace , nella sua grande massa , di vergognarsi ; e che l ' individualismo , in senso non soltanto letterario , o l ' idealismo , in senso ampiamente culturale , hanno ancora , essi pure , un compito rivoluzionario se si accompagnano a una sincera volontà di trasformazione del mondo ."
      ],
      "text/plain": [
       "<IPython.core.display.Markdown object>"
      ]
     },
     "metadata": {},
     "output_type": "display_data"
    },
    {
     "data": {
      "text/markdown": [
       "Ancora una volta gli uomini , per distrarsi , avevano messo creature vive sul palcoscenico della loro romantica fantasia e , diciamo la verità , ci si erano **terribilmente** divertiti ."
      ],
      "text/plain": [
       "<IPython.core.display.Markdown object>"
      ]
     },
     "metadata": {},
     "output_type": "display_data"
    },
    {
     "data": {
      "text/markdown": [
       "Così la città intera vegliò , inconsapevole , sulla mamma e sui tre bambini morti senza sacramento , abbandonati sulle gelide piastrelle in tutta la loro corporale miserialoro influenze e delle loro relazioni, lo straniero, che non ha nessuno di questi pesi da mettervi, trova la bilancia **terribilmente** difettosa."
      ],
      "text/plain": [
       "<IPython.core.display.Markdown object>"
      ]
     },
     "metadata": {},
     "output_type": "display_data"
    },
    {
     "data": {
      "text/markdown": [
       "Il Lewis cerca di arrivare ad immagini lascive , torbide , ma , oltre a tutto , si rivela **terribilmente** goffo e inesperto ."
      ],
      "text/plain": [
       "<IPython.core.display.Markdown object>"
      ]
     },
     "metadata": {},
     "output_type": "display_data"
    },
    {
     "data": {
      "text/markdown": [
       "L ' impresa era **terribilmente** difficile , ma ella ci si provò ."
      ],
      "text/plain": [
       "<IPython.core.display.Markdown object>"
      ]
     },
     "metadata": {},
     "output_type": "display_data"
    },
    {
     "data": {
      "text/markdown": [
       "Era ammalato , **terribilmente** ammalato : e non lo diceva ."
      ],
      "text/plain": [
       "<IPython.core.display.Markdown object>"
      ]
     },
     "metadata": {},
     "output_type": "display_data"
    }
   ],
   "source": [
    "find_sentences_with_keyword(document5, 'terribilmente')"
   ]
  },
  {
   "cell_type": "markdown",
   "id": "a11b5cf5",
   "metadata": {},
   "source": [
    "### Zeitraum 6: 1951-2000"
   ]
  },
  {
   "cell_type": "code",
   "execution_count": 34,
   "id": "97acfbe4",
   "metadata": {},
   "outputs": [],
   "source": [
    "text6 = ''\n",
    "for i in df6.text:\n",
    "    text6 += i"
   ]
  },
  {
   "cell_type": "code",
   "execution_count": 35,
   "id": "6379b0e1",
   "metadata": {},
   "outputs": [],
   "source": [
    "document6 = nltk.sent_tokenize(text6)"
   ]
  },
  {
   "cell_type": "code",
   "execution_count": 36,
   "id": "c899d65e",
   "metadata": {},
   "outputs": [
    {
     "data": {
      "text/markdown": [
       "E un agricoltore : « Ho lasciato su un argine del Po 60 vacche , le ho viste andar giù , muggivano **terribilmente** , bisogna sentire come urlano le bestie che non vogliono morire , bisogna guardarle negli occhi allucinati ."
      ],
      "text/plain": [
       "<IPython.core.display.Markdown object>"
      ]
     },
     "metadata": {},
     "output_type": "display_data"
    },
    {
     "data": {
      "text/markdown": [
       "Perché , a dire la verità , questi grandi personaggi sovietici sono **terribilmente** noiosi : dicono tutti le stesse cose e le dicono nello stesso modo , anzi con le stesse parole ."
      ],
      "text/plain": [
       "<IPython.core.display.Markdown object>"
      ]
     },
     "metadata": {},
     "output_type": "display_data"
    },
    {
     "data": {
      "text/markdown": [
       "Vladimir con un ' intonazione **terribilmente** gutturale , che non aveva più nulla d ' inglese , non solo , ma nemmeno d ' europeo ; tale da sbalordire persino Mr ."
      ],
      "text/plain": [
       "<IPython.core.display.Markdown object>"
      ]
     },
     "metadata": {},
     "output_type": "display_data"
    },
    {
     "data": {
      "text/markdown": [
       "Si sentiva , però , **terribilmente** sveglio ; lo inorridiva il pensiero di trovarsi faccia a faccia col buio e col silenzio che imperano appena spento il lume ."
      ],
      "text/plain": [
       "<IPython.core.display.Markdown object>"
      ]
     },
     "metadata": {},
     "output_type": "display_data"
    },
    {
     "data": {
      "text/markdown": [
       "Allo scopo di sollevare lo sguardo languido verso la faccia di chi gli parlava , il Personaggio davanti al caminetto aveva a poco a poco inclinato all ' indietro la testa , tanto da assumere un ' aria **terribilmente** superba ."
      ],
      "text/plain": [
       "<IPython.core.display.Markdown object>"
      ]
     },
     "metadata": {},
     "output_type": "display_data"
    },
    {
     "data": {
      "text/markdown": [
       "Per Mrs ' Verloc questo appariva chiaro : che il povero ragazzo era **terribilmente** eccitato ."
      ],
      "text/plain": [
       "<IPython.core.display.Markdown object>"
      ]
     },
     "metadata": {},
     "output_type": "display_data"
    },
    {
     "data": {
      "text/markdown": [
       "Introducendo poi , non appena le riuscì , il fratello Stevie nella corrente degli avvenimenti domestici , ella accennò che quel ragazzo era **terribilmente** intristito ."
      ],
      "text/plain": [
       "<IPython.core.display.Markdown object>"
      ]
     },
     "metadata": {},
     "output_type": "display_data"
    },
    {
     "data": {
      "text/markdown": [
       "Era **terribilmente** bizzarra , egli pensò ."
      ],
      "text/plain": [
       "<IPython.core.display.Markdown object>"
      ]
     },
     "metadata": {},
     "output_type": "display_data"
    },
    {
     "data": {
      "text/markdown": [
       "Era ancora **terribilmente** pallido , con due occhi che parevano affondati d ' un mezzo pollice nella faccia tesa ."
      ],
      "text/plain": [
       "<IPython.core.display.Markdown object>"
      ]
     },
     "metadata": {},
     "output_type": "display_data"
    },
    {
     "data": {
      "text/markdown": [
       "Ne ho **terribilmente** bisogno ."
      ],
      "text/plain": [
       "<IPython.core.display.Markdown object>"
      ]
     },
     "metadata": {},
     "output_type": "display_data"
    },
    {
     "data": {
      "text/markdown": [
       "Ma la tesi intestinale del dottor Mauer è **terribilmente** « antiamericana » ."
      ],
      "text/plain": [
       "<IPython.core.display.Markdown object>"
      ]
     },
     "metadata": {},
     "output_type": "display_data"
    },
    {
     "data": {
      "text/markdown": [
       "Era certo che nessuna sarebbe andata a raccontare all ' altra quello che lui aveva rivelato e la sua certezza nasceva dal semplice fatto che le signorine erano **terribilmente** gelose di quello che i loro cuori e le loro orecchie andavano ascoltando da Cena e di quello che , inevitabilmente , finivano per confidargli ."
      ],
      "text/plain": [
       "<IPython.core.display.Markdown object>"
      ]
     },
     "metadata": {},
     "output_type": "display_data"
    },
    {
     "data": {
      "text/markdown": [
       "Margherita si inquietò allora **terribilmente** coi ragazzi  - Da oggi la chiave della cassettina la tengo io !"
      ],
      "text/plain": [
       "<IPython.core.display.Markdown object>"
      ]
     },
     "metadata": {},
     "output_type": "display_data"
    },
    {
     "data": {
      "text/markdown": [
       "Ogni cosa risultava **terribilmente** esatta ."
      ],
      "text/plain": [
       "<IPython.core.display.Markdown object>"
      ]
     },
     "metadata": {},
     "output_type": "display_data"
    },
    {
     "data": {
      "text/markdown": [
       "La scissione fra Cielo e Terra in questa scena avviene in modo completo e irrevocabile, e la musica lo sottolinea con una terribilità angosciosa quasi inumana; come **terribilmente** inumana è la fine di questo atto di una veemenza soffocante."
      ],
      "text/plain": [
       "<IPython.core.display.Markdown object>"
      ]
     },
     "metadata": {},
     "output_type": "display_data"
    },
    {
     "data": {
      "text/markdown": [
       "Wagner stanca **terribilmente** le ugole italiane ; ho memoria di un Parsifal in cui tre Gurnemanz dovettero cedere le armi dopo una sola rappresentazione ."
      ],
      "text/plain": [
       "<IPython.core.display.Markdown object>"
      ]
     },
     "metadata": {},
     "output_type": "display_data"
    },
    {
     "data": {
      "text/markdown": [
       "Oggi Denver è una pulita , nitida e perciò alquanto irreale città americana moderna , con le solite strade che si tagliano ad angolo retto ( ma finiscono , lontano , nel verde della prateria ) , con le solite pubblicità colorate , i soliti quartieri residenziali pieni di case lussuose dove ( ma è un ' impressione del signor X ) la vita sembra dover essere **terribilmente** noiosa ."
      ],
      "text/plain": [
       "<IPython.core.display.Markdown object>"
      ]
     },
     "metadata": {},
     "output_type": "display_data"
    },
    {
     "data": {
      "text/markdown": [
       "Erano uomini , donne e bambini che hanno **terribilmente** sofferto e che ancora soffriranno a lungo le conseguenze di questi giorni di furia devastatrice ."
      ],
      "text/plain": [
       "<IPython.core.display.Markdown object>"
      ]
     },
     "metadata": {},
     "output_type": "display_data"
    },
    {
     "data": {
      "text/markdown": [
       "« Ho sete , **terribilmente** sete ."
      ],
      "text/plain": [
       "<IPython.core.display.Markdown object>"
      ]
     },
     "metadata": {},
     "output_type": "display_data"
    },
    {
     "data": {
      "text/markdown": [
       ", \" già , brutto caso , **terribilmente** complicato \" , \" tutti dobbiamo morire \" , \" ha la mano leggera per spedire uno al Creatore \" ."
      ],
      "text/plain": [
       "<IPython.core.display.Markdown object>"
      ]
     },
     "metadata": {},
     "output_type": "display_data"
    },
    {
     "data": {
      "text/markdown": [
       "Siete tutti **terribilmente** nervosi , stasera ."
      ],
      "text/plain": [
       "<IPython.core.display.Markdown object>"
      ]
     },
     "metadata": {},
     "output_type": "display_data"
    },
    {
     "data": {
      "text/markdown": [
       "In fondo si apriva come una larghissima e piatta fossa , a metà della quale un rotto colonnato , **terribilmente** immobile , formava la facciata esterna dell ' antica reggia ."
      ],
      "text/plain": [
       "<IPython.core.display.Markdown object>"
      ]
     },
     "metadata": {},
     "output_type": "display_data"
    },
    {
     "data": {
      "text/markdown": [
       "Correvano , accidenti se correvano , si sarebbero detti spaventati da qualche avvertimento repentino che li incuriosiva **terribilmente** , togliendo loro la pace della vita ."
      ],
      "text/plain": [
       "<IPython.core.display.Markdown object>"
      ]
     },
     "metadata": {},
     "output_type": "display_data"
    },
    {
     "data": {
      "text/markdown": [
       "Si capiva che erano **terribilmente** stanchi ."
      ],
      "text/plain": [
       "<IPython.core.display.Markdown object>"
      ]
     },
     "metadata": {},
     "output_type": "display_data"
    },
    {
     "data": {
      "text/markdown": [
       "Ciascuno si regola come meglio crede ... Figurati , quest ' anno ci sarà un ambiente **terribilmente** misto ."
      ],
      "text/plain": [
       "<IPython.core.display.Markdown object>"
      ]
     },
     "metadata": {},
     "output_type": "display_data"
    },
    {
     "data": {
      "text/markdown": [
       "Allora gli operai e gli ingegneri sbarcarono dalla corazzata , l ' aria sopra i tre fumaioli cominciò a tremolare , segno che le caldaie erano state accese , opposti pensieri e speranze si combattevano negli animi , la pace sembrava **terribilmente** desiderabile pur nell ' obbrobrio della disfatta ma era anche amaro abbandonare così il bastimento meraviglioso senza aver tentato neppure di combattere ."
      ],
      "text/plain": [
       "<IPython.core.display.Markdown object>"
      ]
     },
     "metadata": {},
     "output_type": "display_data"
    },
    {
     "data": {
      "text/markdown": [
       "Ed ecco la maestosa e quasi paralizzante apparizione del «Rex tremendae majestatis»: i bassi e gli ottoni lo annunziano **terribilmente**, le voci lo ripetono spaurite, quasi senza voce."
      ],
      "text/plain": [
       "<IPython.core.display.Markdown object>"
      ]
     },
     "metadata": {},
     "output_type": "display_data"
    },
    {
     "data": {
      "text/markdown": [
       "Poi m''accorsi che quel silenzio stesso era **terribilmente** singolare."
      ],
      "text/plain": [
       "<IPython.core.display.Markdown object>"
      ]
     },
     "metadata": {},
     "output_type": "display_data"
    },
    {
     "data": {
      "text/markdown": [
       "Poi m''accorsi che quel silenzio stesso era **terribilmente** singolare."
      ],
      "text/plain": [
       "<IPython.core.display.Markdown object>"
      ]
     },
     "metadata": {},
     "output_type": "display_data"
    },
    {
     "data": {
      "text/markdown": [
       "E si vede che fatica **terribilmente** per rendere più veloce senza \" contrarlo \" il ritmo dei passi . \""
      ],
      "text/plain": [
       "<IPython.core.display.Markdown object>"
      ]
     },
     "metadata": {},
     "output_type": "display_data"
    },
    {
     "data": {
      "text/markdown": [
       "In un posto estremamente remoto , **terribilmente** diverso dalla Patria ."
      ],
      "text/plain": [
       "<IPython.core.display.Markdown object>"
      ]
     },
     "metadata": {},
     "output_type": "display_data"
    },
    {
     "data": {
      "text/markdown": [
       "« Nella miseria almeno disporre bene » , enuncia quest ' ometto **terribilmente** efficiente , che continua a girar auree chiavi nelle toppe e a impugnare maniglie istoriate , senza mai smettere di voler far ordine e dar disposizioni : « Quest ' orologio è un po ' di giorni che è lì disteso su quell ' étagère ."
      ],
      "text/plain": [
       "<IPython.core.display.Markdown object>"
      ]
     },
     "metadata": {},
     "output_type": "display_data"
    },
    {
     "data": {
      "text/markdown": [
       "Ma un tentativo d ' interpretazione politica di questo sconcertante personaggio e un esame dei problemi **terribilmente** difficili che egli lascia in eredità ai suoi successori non sono ancora stati fatti ."
      ],
      "text/plain": [
       "<IPython.core.display.Markdown object>"
      ]
     },
     "metadata": {},
     "output_type": "display_data"
    },
    {
     "data": {
      "text/markdown": [
       "Era paralizzato dalle reni in giù , ed aveva le gambe atrofiche , sottili come stecchi ; ma i suoi occhi , persi nel viso triangolare e smunto , saettavano **terribilmente** vivi , pieni di richiesta , di asserzione , della volontà di scatenarsi , di rompere la tomba del mutismo ."
      ],
      "text/plain": [
       "<IPython.core.display.Markdown object>"
      ]
     },
     "metadata": {},
     "output_type": "display_data"
    },
    {
     "data": {
      "text/markdown": [
       "Vero è che sul terreno storico quella persuasione è piuttosto in rapporto con la forza **terribilmente** distruttiva delle armi moderne ; ed è alimentata dall ' orrore che suscita nell ' animo anche solo il pensiero delle distruzioni immani e dei dolori immensi che l ' uso di quelle armi apporterebbe alla famiglia umana ; per cui riesce quasi impossibile pensare che nell ' era atomica la guerra possa essere utilizzata come strumento di giustizia ."
      ],
      "text/plain": [
       "<IPython.core.display.Markdown object>"
      ]
     },
     "metadata": {},
     "output_type": "display_data"
    },
    {
     "data": {
      "text/markdown": [
       "La vita è **terribilmente** facile nel concedere , a chi segua il cammino consueto ."
      ],
      "text/plain": [
       "<IPython.core.display.Markdown object>"
      ]
     },
     "metadata": {},
     "output_type": "display_data"
    },
    {
     "data": {
      "text/markdown": [
       "E di colpo rividi la bambola nel posto dove l ' avevo avvistata un paio di mesi prima ( allora non ci avevo fatto gran caso ma senza che me ne accorgessi mi era rimasta impressa **terribilmente** ) ."
      ],
      "text/plain": [
       "<IPython.core.display.Markdown object>"
      ]
     },
     "metadata": {},
     "output_type": "display_data"
    },
    {
     "data": {
      "text/markdown": [
       "Ridendo insomma tutti lo prendono **terribilmente** sul serio ."
      ],
      "text/plain": [
       "<IPython.core.display.Markdown object>"
      ]
     },
     "metadata": {},
     "output_type": "display_data"
    },
    {
     "data": {
      "text/markdown": [
       "Con tutto il rispetto per i magistrati come uomini , mi preoccupa quest ' assunzione di poteri da parte di un « ordine autonomo » , non soggetto né direttamente né indirettamente a quella ch ' è la volontà , l ' opinione popolare .Ecco alla stazione di Canton il primo interprete di nome Chog , piccolo , garrulo , dalle frequenti alte risatine , la carnagione color tè senza un poro in vista , gli occhi lucenti come bottoni di jais , capace di esprimersi in buon francese ( solo uno sbaglio ogni tanto come quando , lui così **terribilmente** pudico , ridendo annunciò : « Ce soir on couche tous ensemble !"
      ],
      "text/plain": [
       "<IPython.core.display.Markdown object>"
      ]
     },
     "metadata": {},
     "output_type": "display_data"
    },
    {
     "data": {
      "text/markdown": [
       "Affinché la cosa riesca dignitosa e severa , e magari , ove possibile , sublime , bisogna che il giuoco sia condotto sino alla fine nel modo più intransigente con un autore che lo prenda , e che si prenda , **terribilmente** sul serio , e che , a lavoro compiuto , anziché scoprire le carte e gridare ai quattro venti il suo \" Ecco ' r Sonetto \" , continui a rinviare il lettore a un ' opera non fatta , lasciandolo sospeso in un limbo di perfetta ambiguità ."
      ],
      "text/plain": [
       "<IPython.core.display.Markdown object>"
      ]
     },
     "metadata": {},
     "output_type": "display_data"
    },
    {
     "data": {
      "text/markdown": [
       "Perché questo è uno dei posti più belli del Cadore vale a dire del mondo , ma le bellissime montagne di qui , così diritte così avventurose così aguzze , sono vecchie **terribilmente** vecchie e stanche e per un niente si lasciano andare ."
      ],
      "text/plain": [
       "<IPython.core.display.Markdown object>"
      ]
     },
     "metadata": {},
     "output_type": "display_data"
    },
    {
     "data": {
      "text/markdown": [
       "È pallido , ha la barba lunga , un ' espressione **terribilmente** insicura ."
      ],
      "text/plain": [
       "<IPython.core.display.Markdown object>"
      ]
     },
     "metadata": {},
     "output_type": "display_data"
    },
    {
     "data": {
      "text/markdown": [
       "Cantava dalla mattina alla sera, con una voce **terribilmente** stonata, ma mettendoci dentro tutta la sua gioia di vivere."
      ],
      "text/plain": [
       "<IPython.core.display.Markdown object>"
      ]
     },
     "metadata": {},
     "output_type": "display_data"
    },
    {
     "data": {
      "text/markdown": [
       "Temevo **terribilmente** che se ne andasse , perché una occasione così difficilmente mi sarebbe ancora capitata ."
      ],
      "text/plain": [
       "<IPython.core.display.Markdown object>"
      ]
     },
     "metadata": {},
     "output_type": "display_data"
    },
    {
     "data": {
      "text/markdown": [
       "Aveva **terribilmente** sofferto quando sembrava che il pubblico sedotto dalla nuova musica wagneriana , gli voltasse le spalle ."
      ],
      "text/plain": [
       "<IPython.core.display.Markdown object>"
      ]
     },
     "metadata": {},
     "output_type": "display_data"
    },
    {
     "data": {
      "text/markdown": [
       "La tragedia si è consumata in pochi istanti : un bagliore nel cielo , un rogo fulmineo , un pauroso disintegrarsi di tutto in un largo raggio vastissimo , **terribilmente** accidentato , assai difficile da battere palmo a palmo nel disperato tentativo di ricostruire le salme dei 108 passeggeri ( e infatti , fino a questa sera , solo quelle di 14 vittime sono state identificate e dei sette membri del ' equipaggio ."
      ],
      "text/plain": [
       "<IPython.core.display.Markdown object>"
      ]
     },
     "metadata": {},
     "output_type": "display_data"
    },
    {
     "data": {
      "text/markdown": [
       "Molte identificazioni sono **terribilmente** problematiche , ancora stasera : non si può per ora fare conto preciso delle salme , sui documenti , sulle tracce rimaste ."
      ],
      "text/plain": [
       "<IPython.core.display.Markdown object>"
      ]
     },
     "metadata": {},
     "output_type": "display_data"
    },
    {
     "data": {
      "text/markdown": [
       "Non l ' ha certo inventata Buzzati e nemmeno ne aveva bisogno perché anche una sola lacrima di pietà avrebbe reso indecente un libro che è soltanto vero , **terribilmente** vero ."
      ],
      "text/plain": [
       "<IPython.core.display.Markdown object>"
      ]
     },
     "metadata": {},
     "output_type": "display_data"
    },
    {
     "data": {
      "text/markdown": [
       "La tragedia si è consumata in pochi istanti : un bagliore nel cielo , un rogo fulmineo , un pauroso disintegrarsi di tutto in un largo raggio vastissimo , **terribilmente** accidentato , assai difficile da battere palmo a palmo nel disperato tentativo di ricostruire le salme dei 108 passeggeri ( e infatti , fino a questa sera , solo quelle di 14 vittime sono state identificate e dei sette membri del ' equipaggio ."
      ],
      "text/plain": [
       "<IPython.core.display.Markdown object>"
      ]
     },
     "metadata": {},
     "output_type": "display_data"
    },
    {
     "data": {
      "text/markdown": [
       "Molte identificazioni sono **terribilmente** problematiche , ancora stasera : non si può per ora fare conto preciso delle salme , sui documenti , sulle tracce rimaste ."
      ],
      "text/plain": [
       "<IPython.core.display.Markdown object>"
      ]
     },
     "metadata": {},
     "output_type": "display_data"
    },
    {
     "data": {
      "text/markdown": [
       "non ne poteva più, era finita, si reggeva per virtù di ripieghi, con interminabili sedute di toilette, forse soffriva **terribilmente** e nascondeva la sua sofferenza."
      ],
      "text/plain": [
       "<IPython.core.display.Markdown object>"
      ]
     },
     "metadata": {},
     "output_type": "display_data"
    },
    {
     "data": {
      "text/markdown": [
       "so invece quanto essa fosse equilibrata, semplice.... serena, saggia.... – Mio caro non fantasticare più, tu soffri **terribilmente** pover''uomo, senza che nessuno se ne fosse mai accorto, quella creatura semplice, serena, aveva dei pensieri suoi, una– Uno ama ed uno si lascia amare, di tutte quelle picce di cuori, quello che ama è certo di essere amato, quello che si lascia amare è certo di amare."
      ],
      "text/plain": [
       "<IPython.core.display.Markdown object>"
      ]
     },
     "metadata": {},
     "output_type": "display_data"
    },
    {
     "data": {
      "text/markdown": [
       "Micheline che si alzava così presto la mattina, non si faceva vedere che tardi, mai prima delle dieci, si capiva tanto bene che non ne poteva più, era finita, si reggeva per virtù di ripieghi, con interminabili sedute di toilette, forse soffriva **terribilmente** e nascondeva la sua sofferenza."
      ],
      "text/plain": [
       "<IPython.core.display.Markdown object>"
      ]
     },
     "metadata": {},
     "output_type": "display_data"
    },
    {
     "data": {
      "text/markdown": [
       "– No signora, dissero che lonon ne poteva più, era finita, si reggeva per virtù di ripieghi, con interminabili sedute di toilette, forse soffriva **terribilmente** e nascondeva la sua sofferenza."
      ],
      "text/plain": [
       "<IPython.core.display.Markdown object>"
      ]
     },
     "metadata": {},
     "output_type": "display_data"
    },
    {
     "data": {
      "text/markdown": [
       "so invece quanto essa fosse equilibrata, semplice.... serena, saggia.... – Mio caro non fantasticare più, tu soffri **terribilmente** pover''uomo, senza che nessuno se ne fosse mai accorto, quella creatura semplice, serena, aveva dei pensieri suoi, unaprincipessa fu chiamata Geltrude."
      ],
      "text/plain": [
       "<IPython.core.display.Markdown object>"
      ]
     },
     "metadata": {},
     "output_type": "display_data"
    },
    {
     "data": {
      "text/markdown": [
       "Non solo era **terribilmente** nuova : in nessun ' altra opera italiana precedente il contributo dell ' orchestra era stato tanto rilevante ."
      ],
      "text/plain": [
       "<IPython.core.display.Markdown object>"
      ]
     },
     "metadata": {},
     "output_type": "display_data"
    },
    {
     "data": {
      "text/markdown": [
       "Quell'episodio veniva a dare **terribilmente** peso ai pensieri, che, da quand'ero militare e forse anche da prima, si agitavano in me in modo informe, senza che io ne sapessi o ne volessi prendere piena coscienza ."
      ],
      "text/plain": [
       "<IPython.core.display.Markdown object>"
      ]
     },
     "metadata": {},
     "output_type": "display_data"
    },
    {
     "data": {
      "text/markdown": [
       "È **terribilmente** lungo e vorrei anche farvi sentire la nostra sigla musicale che tra l’altro è molto graziosa."
      ],
      "text/plain": [
       "<IPython.core.display.Markdown object>"
      ]
     },
     "metadata": {},
     "output_type": "display_data"
    },
    {
     "data": {
      "text/markdown": [
       "Fino al 1899 , anno  di  nascita della prima auto a guida interna ( una Renault con l' abitacolo simile a un cappello a cilindro ) auto e moto erano ugualmente e **terribilmente** preda delle intemperie : polvere , acqua , fango e neve erano gli irrinunciabili compagni di viaggio degli avventurosi \" sportivi \" dell' epoca ."
      ],
      "text/plain": [
       "<IPython.core.display.Markdown object>"
      ]
     },
     "metadata": {},
     "output_type": "display_data"
    },
    {
     "data": {
      "text/markdown": [
       "Ho preso  **terribilmente**  sul serio le pagelle che sono fiorite in settimana , superando solo ieri un piccolo choc per il titolo della Gazzetta sul mondo che si spacca ."
      ],
      "text/plain": [
       "<IPython.core.display.Markdown object>"
      ]
     },
     "metadata": {},
     "output_type": "display_data"
    },
    {
     "data": {
      "text/markdown": [
       "Vivevo con una donna che era  **terribilmente**  innamorata di me ."
      ],
      "text/plain": [
       "<IPython.core.display.Markdown object>"
      ]
     },
     "metadata": {},
     "output_type": "display_data"
    },
    {
     "data": {
      "text/markdown": [
       "Ci piaceva un po' tutto \" interviene Joel \" ma specialmente i film italiani , i film che erano doppiati  **terribilmente**  ( ci facevamo certe risate ! )"
      ],
      "text/plain": [
       "<IPython.core.display.Markdown object>"
      ]
     },
     "metadata": {},
     "output_type": "display_data"
    },
    {
     "data": {
      "text/markdown": [
       "Vede , il guaio per uno come me che ama cambiare , trovare sempre stimoli nuovi , è che adesso è tutto  **terribilmente**  uguale a prima ."
      ],
      "text/plain": [
       "<IPython.core.display.Markdown object>"
      ]
     },
     "metadata": {},
     "output_type": "display_data"
    },
    {
     "data": {
      "text/markdown": [
       "Ed è vero che il romanzo tratta questioni di vita e di morte , che non vorrei rivelarvi troppo per non scaricare la suspense di cui è ricco il libro , come è vero che subito , dalle prime pagine , esso è irresistibilmente ,  **terribilmente**  comico ."
      ],
      "text/plain": [
       "<IPython.core.display.Markdown object>"
      ]
     },
     "metadata": {},
     "output_type": "display_data"
    },
    {
     "data": {
      "text/markdown": [
       "Sapevo , dunque , che l' andare a Sirolo ( dove si celebra , in un luogo che lui aveva eletto come suo , e di fronte al cimitero dove è sepolto , il ricordo di un regista **terribilmente** aggressivo , e forse  **terribilmente**  improvvisatore , direi **terribilmente** antiborgesiano ) mi avrebbe dato una preziosa cosa in più , e che questa preziosa cosa era una riflessione amara sul teatro , e sul labilmente esistere , e quasi nulla mi avrebbe detto sulla parola del Vangelo ."
      ],
      "text/plain": [
       "<IPython.core.display.Markdown object>"
      ]
     },
     "metadata": {},
     "output_type": "display_data"
    },
    {
     "data": {
      "text/markdown": [
       "In bilico tra una protesta che è , al tempo stesso , molto specifica e  **terribilmente**  totalizzante ."
      ],
      "text/plain": [
       "<IPython.core.display.Markdown object>"
      ]
     },
     "metadata": {},
     "output_type": "display_data"
    },
    {
     "data": {
      "text/markdown": [
       "Ma a loro , come a noi ,  **terribilmente**  vicina ."
      ],
      "text/plain": [
       "<IPython.core.display.Markdown object>"
      ]
     },
     "metadata": {},
     "output_type": "display_data"
    },
    {
     "data": {
      "text/markdown": [
       "Sapevo , dunque , che l' andare a Sirolo ( dove si celebra , in un luogo che lui aveva eletto come suo , e di fronte al cimitero dove è sepolto , il ricordo di un regista **terribilmente** aggressivo , e forse **terribilmente** improvvisatore , direi  **terribilmente**  antiborgesiano ) mi avrebbe dato una preziosa cosa in più , e che questa preziosa cosa era una riflessione amara sul teatro , e sul labilmente esistere , e quasi nulla mi avrebbe detto sulla parola del Vangelo ."
      ],
      "text/plain": [
       "<IPython.core.display.Markdown object>"
      ]
     },
     "metadata": {},
     "output_type": "display_data"
    },
    {
     "data": {
      "text/markdown": [
       "La \" middle class \" , l' arcobaleno dei ceti medi , intermedi , emergenti , rampanti , e anche della buona e sana borghesia laboriosa ( ma un pochino tarda di comprendonio , ma  **terribilmente**  in buona fede ) invade ormai gioiosamente tutto ."
      ],
      "text/plain": [
       "<IPython.core.display.Markdown object>"
      ]
     },
     "metadata": {},
     "output_type": "display_data"
    },
    {
     "data": {
      "text/markdown": [
       "Ti rispondiamo che siamo  **terribilmente**  in ansia ."
      ],
      "text/plain": [
       "<IPython.core.display.Markdown object>"
      ]
     },
     "metadata": {},
     "output_type": "display_data"
    },
    {
     "data": {
      "text/markdown": [
       "Per chi ha stazionato in Cgil fin dalle prime ore del pomeriggio , la tensione di cui parla Del Turco è stata  **terribilmente**  concreta ."
      ],
      "text/plain": [
       "<IPython.core.display.Markdown object>"
      ]
     },
     "metadata": {},
     "output_type": "display_data"
    },
    {
     "data": {
      "text/markdown": [
       "Il mercato azionario è  **terribilmente**  limitato \" , ha spiegato De Benedetti . \""
      ],
      "text/plain": [
       "<IPython.core.display.Markdown object>"
      ]
     },
     "metadata": {},
     "output_type": "display_data"
    },
    {
     "data": {
      "text/markdown": [
       "Un brano facile ma  **terribilmente**  irritante , almeno per alcune future maestre : \" Educazione d' altri tempi \" , si chiama ed è un grido di rimpianto per la scomparsa della vita muliebre morigerata e pudìca ."
      ],
      "text/plain": [
       "<IPython.core.display.Markdown object>"
      ]
     },
     "metadata": {},
     "output_type": "display_data"
    },
    {
     "data": {
      "text/markdown": [
       "Insomma il primo bilancio del campionario offerto del Mystfest '85 sembra  **terribilmente**  chiaro : la morte del cinema passa attraverso la decadenza dei generi ."
      ],
      "text/plain": [
       "<IPython.core.display.Markdown object>"
      ]
     },
     "metadata": {},
     "output_type": "display_data"
    },
    {
     "data": {
      "text/markdown": [
       "Le colture intensive hanno  **terribilmente**  impoverito il suolo riducendo in alcune zone la quantità di sostanze organiche a valori inferiori al due per cento ."
      ],
      "text/plain": [
       "<IPython.core.display.Markdown object>"
      ]
     },
     "metadata": {},
     "output_type": "display_data"
    },
    {
     "data": {
      "text/markdown": [
       "La seconda parte , quella relativa alla non disponibilità di Gerusalemme per le trattative , anche se prevista , complica  **terribilmente**  la situazione ."
      ],
      "text/plain": [
       "<IPython.core.display.Markdown object>"
      ]
     },
     "metadata": {},
     "output_type": "display_data"
    },
    {
     "data": {
      "text/markdown": [
       "Il provvedimento di cassa integrazione a zero ore , per ottomila dipendenti , riporta lo stabilimento ai tempi della più accesa conflittualità ed esaspera  **terribilmente**  i rapporti ."
      ],
      "text/plain": [
       "<IPython.core.display.Markdown object>"
      ]
     },
     "metadata": {},
     "output_type": "display_data"
    },
    {
     "data": {
      "text/markdown": [
       "Lella Setto Fiesole MARMOLADA IN CEMENTO Quest' estate , in Scozia , ho camminato per monti e valli di una bellezza struggente senza imbattermi in più di tre o quattro persone alla ricerca come me di libertà ; mi sono accorta di quanto siano piccole le Dolomiti , che , solo 5 anni fa , tredicenne , mi avevano colpito per la loro imponenza e mi avevano fatto sentire  **terribilmente**  piccola ."
      ],
      "text/plain": [
       "<IPython.core.display.Markdown object>"
      ]
     },
     "metadata": {},
     "output_type": "display_data"
    },
    {
     "data": {
      "text/markdown": [
       "Abita in un piccolo albergo del centro storico , \"  **terribilmente**  inefficiente ma comodissimo per la sua posizione \" , e in questo momento fa svogliatamente colazione con un tè e dei toasts che si stanno raffreddando ."
      ],
      "text/plain": [
       "<IPython.core.display.Markdown object>"
      ]
     },
     "metadata": {},
     "output_type": "display_data"
    },
    {
     "data": {
      "text/markdown": [
       "Alain era molto sicuro di sè ,  **terribilmente**  sicuro \" ."
      ],
      "text/plain": [
       "<IPython.core.display.Markdown object>"
      ]
     },
     "metadata": {},
     "output_type": "display_data"
    },
    {
     "data": {
      "text/markdown": [
       "Lui mi pare molto sicuro di sé ,  **terribilmente**  sicuro \" ."
      ],
      "text/plain": [
       "<IPython.core.display.Markdown object>"
      ]
     },
     "metadata": {},
     "output_type": "display_data"
    },
    {
     "data": {
      "text/markdown": [
       "Fino al 1899 , anno di nascita della prima auto a guida interna ( una Renault con l' abitacolo simile a un cappello a cilindro ) auto e moto erano ugualmente e  **terribilmente**  preda delle intemperie : polvere , acqua , fango e neve erano gli irrinunciabili compagni di viaggio degli avventurosi \" sportivi \" dell' epoca ."
      ],
      "text/plain": [
       "<IPython.core.display.Markdown object>"
      ]
     },
     "metadata": {},
     "output_type": "display_data"
    },
    {
     "data": {
      "text/markdown": [
       "Oggi però la cultura dell' uomo si specializza  **terribilmente**  , non si scrivono più , come nel Medio Evo , delle Summae , bensì delle Enciclopedie ."
      ],
      "text/plain": [
       "<IPython.core.display.Markdown object>"
      ]
     },
     "metadata": {},
     "output_type": "display_data"
    },
    {
     "data": {
      "text/markdown": [
       "Ci mancheranno  **terribilmente**  i compagni dialettici che il partito mandava ai nostri dibattiti ; sempre seduti in terza fila e di fianco , con un che di professorale e di catechistico , dolenti ma in dovere di segnalare al pubblico la nostra \" mancanza di spessore \" o \" l' illuminismo velleitario \" o \" l' illusione neocapitalistica \" ."
      ],
      "text/plain": [
       "<IPython.core.display.Markdown object>"
      ]
     },
     "metadata": {},
     "output_type": "display_data"
    },
    {
     "data": {
      "text/markdown": [
       "Purtroppo , l' uomo può ingannarsi , e ingannarsi  **terribilmente**  , con molto minore stravaganza ."
      ],
      "text/plain": [
       "<IPython.core.display.Markdown object>"
      ]
     },
     "metadata": {},
     "output_type": "display_data"
    },
    {
     "data": {
      "text/markdown": [
       "Ma non c' è fumo senza arrosto : il \" Monde \" rivela che Mitterrand era stato messo al corrente a posteriori per lo meno della missione dei falsi svizzeri e si infuriò  **terribilmente**  , facendo una scena al ministro della Difesa Hernu , il quale ora si limita a dichiarare di aver \" la coscienza tranquilla \" ."
      ],
      "text/plain": [
       "<IPython.core.display.Markdown object>"
      ]
     },
     "metadata": {},
     "output_type": "display_data"
    },
    {
     "data": {
      "text/markdown": [
       "Non ne puoi più di vedere tutti fare gli stessi gesti , le stesse cose a tempi interminabili come nelle vacanze di Monsieur Hulot , prendendosi tutti  **terribilmente**  sul serio , giovani e vecchi , uomini e donne ."
      ],
      "text/plain": [
       "<IPython.core.display.Markdown object>"
      ]
     },
     "metadata": {},
     "output_type": "display_data"
    },
    {
     "data": {
      "text/markdown": [
       "Il circo delle corse credeva di essere splendidamente ricco ma ora sta scoprendo di essere invece  **terribilmente**  povero ."
      ],
      "text/plain": [
       "<IPython.core.display.Markdown object>"
      ]
     },
     "metadata": {},
     "output_type": "display_data"
    },
    {
     "data": {
      "text/markdown": [
       "Sui fianchi della vettura saltano invece all' occhio le pance laterali che si sono  **terribilmente**  allungate : nel loro interno si sono ingranditi e hanno cambiato posizione anche i radiatori ."
      ],
      "text/plain": [
       "<IPython.core.display.Markdown object>"
      ]
     },
     "metadata": {},
     "output_type": "display_data"
    },
    {
     "data": {
      "text/markdown": [
       "La situazione è  **terribilmente**  fluida e complicata ; insomma le cose non precipitano , ma non si vedono soluzioni a portata di mano ."
      ],
      "text/plain": [
       "<IPython.core.display.Markdown object>"
      ]
     },
     "metadata": {},
     "output_type": "display_data"
    },
    {
     "data": {
      "text/markdown": [
       "Una notte , in ospedale , avevo sofferto  **terribilmente**  , attraverso lunghe ore di buio e di solitudine ."
      ],
      "text/plain": [
       "<IPython.core.display.Markdown object>"
      ]
     },
     "metadata": {},
     "output_type": "display_data"
    },
    {
     "data": {
      "text/markdown": [
       "Evidentemente le abitudini sono cambiate , da quando Anatole France ( o chi per lui ) pronunciava quella frase , da quando quelli come me la prendevano  **terribilmente**  sul serio ."
      ],
      "text/plain": [
       "<IPython.core.display.Markdown object>"
      ]
     },
     "metadata": {},
     "output_type": "display_data"
    },
    {
     "data": {
      "text/markdown": [
       "Stamane , invece , Marc Chagall è allegrissimo ; e poi in casa aleggia un odore di pasticcio di carne e di basilico , stanno preparando la colazione : \" Sono  **terribilmente**  goloso ! \""
      ],
      "text/plain": [
       "<IPython.core.display.Markdown object>"
      ]
     },
     "metadata": {},
     "output_type": "display_data"
    },
    {
     "data": {
      "text/markdown": [
       "Qualunque uso se ne faccia deve essere  **terribilmente**  meditato ."
      ],
      "text/plain": [
       "<IPython.core.display.Markdown object>"
      ]
     },
     "metadata": {},
     "output_type": "display_data"
    },
    {
     "data": {
      "text/markdown": [
       "Il re Sole , quando non sapeva come provvedere alle spese di Corte , creava nuove cariche pubbliche e le vendeva al miglior offerente ; i condoni a pagamento per reati commessi contro la pubblica amministrazione rassomigliano  **terribilmente**  a quei metodi di finanza straordinaria e feudale ; certo non è per quella strada che si risana il bilancio dello Stato ."
      ],
      "text/plain": [
       "<IPython.core.display.Markdown object>"
      ]
     },
     "metadata": {},
     "output_type": "display_data"
    },
    {
     "data": {
      "text/markdown": [
       "A quel punto il Pentagono avrebbe potuto avere il suo sedile anche gratis , poiché l' industria militare Usa s' innervosisce  **terribilmente**  quando Washington esamina gli sprechi nel budget della Difesa , questione di cui la toilette dell' Orion costituisce solo il caso più recente ( se n' è parlato a fine gennaio ) ma non certo il più clamoroso ."
      ],
      "text/plain": [
       "<IPython.core.display.Markdown object>"
      ]
     },
     "metadata": {},
     "output_type": "display_data"
    },
    {
     "data": {
      "text/markdown": [
       "Non può fare a meno di uno Stelvio , e di altri passi o colli anche  **terribilmente**  datati ."
      ],
      "text/plain": [
       "<IPython.core.display.Markdown object>"
      ]
     },
     "metadata": {},
     "output_type": "display_data"
    },
    {
     "data": {
      "text/markdown": [
       "Il sistema dei servizi di sicurezza indiani è basato su una cultura che è  **terribilmente**  primitiva nel suo stile e potrebbe deviare pericolosamente nel corso di indagini delicate come quelle su quest' ultimo caso di spionaggio ."
      ],
      "text/plain": [
       "<IPython.core.display.Markdown object>"
      ]
     },
     "metadata": {},
     "output_type": "display_data"
    },
    {
     "data": {
      "text/markdown": [
       "Siamo allarmati , ha poi scritto in un editoriale la \" Voce repubblicana \" , l' iter di molti provvedimenti è  **terribilmente**  lento e costellato da atteggiamenti incongruenti , \" sarebbe necessaria una stretta connessione con la riforma delle autonomie \" . \""
      ],
      "text/plain": [
       "<IPython.core.display.Markdown object>"
      ]
     },
     "metadata": {},
     "output_type": "display_data"
    },
    {
     "data": {
      "text/markdown": [
       "Così raccontata , la trama del Trovatore assomiglia  **terribilmente**  a quella dell' Ernani : è anzi la stessa ."
      ],
      "text/plain": [
       "<IPython.core.display.Markdown object>"
      ]
     },
     "metadata": {},
     "output_type": "display_data"
    },
    {
     "data": {
      "text/markdown": [
       "Qui da noi è tutto  **terribilmente**  diverso ."
      ],
      "text/plain": [
       "<IPython.core.display.Markdown object>"
      ]
     },
     "metadata": {},
     "output_type": "display_data"
    },
    {
     "data": {
      "text/markdown": [
       "E lei si trovava davanti a un' alternativa terribile : lasciarlo morire di sete o dargli da bere dell' acqua che sapeva  **terribilmente**  inquinata ."
      ],
      "text/plain": [
       "<IPython.core.display.Markdown object>"
      ]
     },
     "metadata": {},
     "output_type": "display_data"
    },
    {
     "data": {
      "text/markdown": [
       "Ti rispondiamo che siamo **terribilmente** in  ansia  ."
      ],
      "text/plain": [
       "<IPython.core.display.Markdown object>"
      ]
     },
     "metadata": {},
     "output_type": "display_data"
    },
    {
     "data": {
      "text/markdown": [
       "E per di più c' è l' Uruguay , la squadra meno sudamericana di tutte , che bada  **terribilmente**  al sodo , che s' arrocca in difesa con una zona arcigna , non leziosa , e picchia di brutto ."
      ],
      "text/plain": [
       "<IPython.core.display.Markdown object>"
      ]
     },
     "metadata": {},
     "output_type": "display_data"
    },
    {
     "data": {
      "text/markdown": [
       "Tutti richiedono ai paesi occidentali di accentuare le loro sanzioni contro il regime sanguinario dell' apartheid , mettendo allo stesso temo sul piatto della bilancia il problema delle compensazioni per gli eventuali effetti negativi che le sanzioni contro Pretoria avrebbero sulle loro economie ,  **terribilmente**  dipendenti da quelle del potente ed odiato vicino ."
      ],
      "text/plain": [
       "<IPython.core.display.Markdown object>"
      ]
     },
     "metadata": {},
     "output_type": "display_data"
    },
    {
     "data": {
      "text/markdown": [
       "È un profeta lo scrittore , o la nostra società è così  **terribilmente**  prevedibile , cioè statica ?"
      ],
      "text/plain": [
       "<IPython.core.display.Markdown object>"
      ]
     },
     "metadata": {},
     "output_type": "display_data"
    },
    {
     "data": {
      "text/markdown": [
       "Alla cronaca dei fatti politici che fa  **terribilmente**  difetto , la \" nera \" tenta di sostituirsi in maniera invadente ."
      ],
      "text/plain": [
       "<IPython.core.display.Markdown object>"
      ]
     },
     "metadata": {},
     "output_type": "display_data"
    },
    {
     "data": {
      "text/markdown": [
       "i problemi --  **terribilmente**  \" interessanti \" -- che ci siamo trovati di fronte nel caso della \" Achille Lauro \" e di Sigonella ?"
      ],
      "text/plain": [
       "<IPython.core.display.Markdown object>"
      ]
     },
     "metadata": {},
     "output_type": "display_data"
    },
    {
     "data": {
      "text/markdown": [
       "Ritorna a Napoli precipitosamente , rischiando l' arresto ( che non eviterà in aprile ) , fa finta di essere  **terribilmente**  affranto e consegna cinquanta milioni alla famiglia del ragazzo ."
      ],
      "text/plain": [
       "<IPython.core.display.Markdown object>"
      ]
     },
     "metadata": {},
     "output_type": "display_data"
    },
    {
     "data": {
      "text/markdown": [
       "**terribilmente**  gelosa \" : June Scobee voleva essere insieme a suo marito , il comandante del Challenger , nella missione di ieri . \""
      ],
      "text/plain": [
       "<IPython.core.display.Markdown object>"
      ]
     },
     "metadata": {},
     "output_type": "display_data"
    },
    {
     "data": {
      "text/markdown": [
       "A volte impiego un' intera giornata per scrivere duecento caratteri , eppure mi sento  **terribilmente**  stanco \" ."
      ],
      "text/plain": [
       "<IPython.core.display.Markdown object>"
      ]
     },
     "metadata": {},
     "output_type": "display_data"
    },
    {
     "data": {
      "text/markdown": [
       "Arbore , e più che Arbore , Roberto d' Agostino hanno qui imitatori e seguaci : l' impegno civile è  **terribilmente**  fuori moda , noioso , palloso ."
      ],
      "text/plain": [
       "<IPython.core.display.Markdown object>"
      ]
     },
     "metadata": {},
     "output_type": "display_data"
    },
    {
     "data": {
      "text/markdown": [
       "Che sia stupida , che sia intelligente , i bambini la pubblicità la prendono tutta -- e immediatamente , e  **terribilmente**  -- sul serio ."
      ],
      "text/plain": [
       "<IPython.core.display.Markdown object>"
      ]
     },
     "metadata": {},
     "output_type": "display_data"
    },
    {
     "data": {
      "text/markdown": [
       "I soccorsi sono stati immediati ma le difficoltà di accesso per le frane che ostruivano le strade e per lo straripamento dei fiumi hanno reso tutto  **terribilmente**  complicato ."
      ],
      "text/plain": [
       "<IPython.core.display.Markdown object>"
      ]
     },
     "metadata": {},
     "output_type": "display_data"
    },
    {
     "data": {
      "text/markdown": [
       "Qualcuno lo prese  **terribilmente**  sul serio e compì la stessa impresa battendo il suo record , che record non era , di due ore ."
      ],
      "text/plain": [
       "<IPython.core.display.Markdown object>"
      ]
     },
     "metadata": {},
     "output_type": "display_data"
    },
    {
     "data": {
      "text/markdown": [
       "La lista di attesa è lunghissima e la signora Jean è  **terribilmente**  severa : è lei stessa che deve approvare le credenziali dei soci che debbono essere colti , possibilmente letterati e soprattutto debbono avere ammirazione illimitata nella capacità di Sherlock di risolvere i più intrigati misteri , scoprire l' assassino e umiliare il suo astuto nemico Moriarti ."
      ],
      "text/plain": [
       "<IPython.core.display.Markdown object>"
      ]
     },
     "metadata": {},
     "output_type": "display_data"
    },
    {
     "data": {
      "text/markdown": [
       "Allora sì che sarebbe uno spettacolo unico , inedito , senza il rischio di annoiare  **terribilmente**  il pubblico , stordito da quattro ore a sera di canzoni ."
      ],
      "text/plain": [
       "<IPython.core.display.Markdown object>"
      ]
     },
     "metadata": {},
     "output_type": "display_data"
    },
    {
     "data": {
      "text/markdown": [
       "Non era la coraggiosa allegria del torero di Lorca , ma la voglia di restare com' eri in un calcio che  **terribilmente**  cambiava in campo e soprattutto fuori ."
      ],
      "text/plain": [
       "<IPython.core.display.Markdown object>"
      ]
     },
     "metadata": {},
     "output_type": "display_data"
    },
    {
     "data": {
      "text/markdown": [
       "Certo , sembra davvero un' incongruenza , sembra che si tenda sempre ad aumentare i disagi dello spettatore , la vera vittima di una situazione di malessere diffusa in tutta Italia , situazione che oltre a creare problemi oggi sta complicando  **terribilmente**  anche il domani , cioè i lavori in vista del mondiale . \""
      ],
      "text/plain": [
       "<IPython.core.display.Markdown object>"
      ]
     },
     "metadata": {},
     "output_type": "display_data"
    },
    {
     "data": {
      "text/markdown": [
       "Soffrii **terribilmente** ,  orribilmente  , come un condannato ."
      ],
      "text/plain": [
       "<IPython.core.display.Markdown object>"
      ]
     },
     "metadata": {},
     "output_type": "display_data"
    },
    {
     "data": {
      "text/markdown": [
       "La risposta , oltre che concettualmente ovvia , è suggerita dal fatto che nessuno ne affaccia una diversa , tali e tante , e così  **terribilmente**  gravi , ne sarebbero le implicazioni ."
      ],
      "text/plain": [
       "<IPython.core.display.Markdown object>"
      ]
     },
     "metadata": {},
     "output_type": "display_data"
    },
    {
     "data": {
      "text/markdown": [
       "La bastarda ne soffre  **terribilmente**  ."
      ],
      "text/plain": [
       "<IPython.core.display.Markdown object>"
      ]
     },
     "metadata": {},
     "output_type": "display_data"
    },
    {
     "data": {
      "text/markdown": [
       "Non ne fa parte invece che ci sia una Ferrari sempre perdente e una McLaren Honda sempre  **terribilmente**  vincente ."
      ],
      "text/plain": [
       "<IPython.core.display.Markdown object>"
      ]
     },
     "metadata": {},
     "output_type": "display_data"
    },
    {
     "data": {
      "text/markdown": [
       "TUTTI ne sono convinti , Turgut Ozal è un uomo fortunato ,  **terribilmente**  fortunato ."
      ],
      "text/plain": [
       "<IPython.core.display.Markdown object>"
      ]
     },
     "metadata": {},
     "output_type": "display_data"
    },
    {
     "data": {
      "text/markdown": [
       "Mi sono trovato davanti un pubblico molto partecipe , però  **terribilmente**  serio ."
      ],
      "text/plain": [
       "<IPython.core.display.Markdown object>"
      ]
     },
     "metadata": {},
     "output_type": "display_data"
    },
    {
     "data": {
      "text/markdown": [
       "Dico forse , perché in questi casi è **terribilmente** difficile decidere , e lo stesso direttore del \" Mattino \" , Pasquale Nonno , ha dichiarato di avere scelto ( per la pubblicazione ) \" con \" pietà \" , con dolore e soprattutto con  atterrita  impotenza davanti al grande mistero della vita e della natura \" ."
      ],
      "text/plain": [
       "<IPython.core.display.Markdown object>"
      ]
     },
     "metadata": {},
     "output_type": "display_data"
    },
    {
     "data": {
      "text/markdown": [
       "Solo che , a differenza di alcuni suoi compatrioti , Washington Irving non si prendeva  **terribilmente**  sul serio , né prendeva **terribilmente** sul serio la neonata America : preferiva , con una vena amarognola e uno humour parente un po' di Sterne e un po' di Swift , scegliere la via della satira gentile , o inventare , per la gioia degli psicoanalisti , le sue leggende perversamente antieroiche ."
      ],
      "text/plain": [
       "<IPython.core.display.Markdown object>"
      ]
     },
     "metadata": {},
     "output_type": "display_data"
    },
    {
     "data": {
      "text/markdown": [
       "Che vuol dire sopraffazione , annichilimento , svalutazione da parte degli adulti di un bambino , un essere che è sempre  **terribilmente**  piccolo e impotente ."
      ],
      "text/plain": [
       "<IPython.core.display.Markdown object>"
      ]
     },
     "metadata": {},
     "output_type": "display_data"
    },
    {
     "data": {
      "text/markdown": [
       "Ma adesso , per colpa di ... Platini , tutto si complica  **terribilmente**  anche perché c' è di mezzo l' Inghilterra che a Torino non può , e nemmeno vuole , giocare ( incidenti degli hooligans agli Europei dell' 80 e poi la fresca ferita dell' Heysel ) ."
      ],
      "text/plain": [
       "<IPython.core.display.Markdown object>"
      ]
     },
     "metadata": {},
     "output_type": "display_data"
    },
    {
     "data": {
      "text/markdown": [
       "Se lo si analizza da vicino , il calendario delle sfilate ricorda  **terribilmente**  gli orari che annoiati professori ci ammannivano quando eravamo al liceo : una mattina c' erano due ore di sintassi latina , due di matematica e una di greco ."
      ],
      "text/plain": [
       "<IPython.core.display.Markdown object>"
      ]
     },
     "metadata": {},
     "output_type": "display_data"
    },
    {
     "data": {
      "text/markdown": [
       "Erano pelle e ossa , e faceva **terribilmente** freddo ."
      ],
      "text/plain": [
       "<IPython.core.display.Markdown object>"
      ]
     },
     "metadata": {},
     "output_type": "display_data"
    },
    {
     "data": {
      "text/markdown": [
       "È una scrittura molto bella , ( ben tradotta ) , molto poetica , **terribilmente** densa di pensieri e incrostata di significati ."
      ],
      "text/plain": [
       "<IPython.core.display.Markdown object>"
      ]
     },
     "metadata": {},
     "output_type": "display_data"
    },
    {
     "data": {
      "text/markdown": [
       "Se c' era ancora una possibilità e non è stata                                   Parlando con suor Sandra e con Paolo Onelli , un volontario di 26 anni laureato in Giurisprudenza , che  presto  si sposerà e andrà a vivere con la moglie nella casa famiglia , capisco subito che quasi tutti i bambini                      centrocampo , la difesa ne soffriva **terribilmente** , Liedholm si spaventò e prese provvedimenti ."
      ],
      "text/plain": [
       "<IPython.core.display.Markdown object>"
      ]
     },
     "metadata": {},
     "output_type": "display_data"
    },
    {
     "data": {
      "text/markdown": [
       "È  **terribilmente**  accaldato , Depardieu , tutto in nero , e soffre molto il caldo ."
      ],
      "text/plain": [
       "<IPython.core.display.Markdown object>"
      ]
     },
     "metadata": {},
     "output_type": "display_data"
    },
    {
     "data": {
      "text/markdown": [
       "Per il resto Zenga e Tacconi sono **terribilmente** diversi : e ora anche antagonisti ,  domani  giocheranno un tempo ciascuno contro l' Olanda ( così ha deciso Vicini ) , ma in futuro , vedrete ,                                              gli hanno dato tre o quattro palloni giocabili , certo visto in televisione , con la Juventus , avevo  paura  che mi potesse creare molti più problemi ."
      ],
      "text/plain": [
       "<IPython.core.display.Markdown object>"
      ]
     },
     "metadata": {},
     "output_type": "display_data"
    },
    {
     "data": {
      "text/markdown": [
       "La sceneggiatura è una delle più forti che io abbia mai letto , è come un dramma greco , profondamente umana e con una storia che era necessario raccontare , esilarante a momenti e **terribilmente** deprimente in altri momenti ."
      ],
      "text/plain": [
       "<IPython.core.display.Markdown object>"
      ]
     },
     "metadata": {},
     "output_type": "display_data"
    },
    {
     "data": {
      "text/markdown": [
       "Ma poi penso che anche questo è  **terribilmente**  vecchio , è déjà vu mille volte ."
      ],
      "text/plain": [
       "<IPython.core.display.Markdown object>"
      ]
     },
     "metadata": {},
     "output_type": "display_data"
    },
    {
     "data": {
      "text/markdown": [
       "Eppure i ragazzi continuano a prenderli  **terribilmente**  sul serio questi esami , con tutte le ansie , le veglie notturne , le depressioni , gli scongiuri della vecchia tradizione ."
      ],
      "text/plain": [
       "<IPython.core.display.Markdown object>"
      ]
     },
     "metadata": {},
     "output_type": "display_data"
    },
    {
     "data": {
      "text/markdown": [
       "Una serie di ristampe e numerose manifestazioni organizzate per il bicentenario della nascita di Lamartine offrono tuttavia l' occasione di riesaminare , con sereno distacco , la vita di quest' uomo ad un tempo affascinante e sconcertante , e la sua opera , per certi aspetti geniale , ma  **terribilmente**  discontinua ."
      ],
      "text/plain": [
       "<IPython.core.display.Markdown object>"
      ]
     },
     "metadata": {},
     "output_type": "display_data"
    },
    {
     "data": {
      "text/markdown": [
       "L' astenia le impediva di controllare i movimenti : spesso non poteva tenere la testa dritta : la tensione nervosa calava , l' apatia la risucchiava e la soffocava  **terribilmente**  ."
      ],
      "text/plain": [
       "<IPython.core.display.Markdown object>"
      ]
     },
     "metadata": {},
     "output_type": "display_data"
    },
    {
     "data": {
      "text/markdown": [
       "È una situazione **terribilmente** intricata , quella della Roma : aspettando il verdetto della Caf , c' è questa Coppa europea iniziata nel migliore dei modi ( eliminando il Benfica ) ma adesso diventata improvvisamente qualcosa di  **terribilmente**  pericoloso , perché sconosciuto è il volto di questa nuova Roma ."
      ],
      "text/plain": [
       "<IPython.core.display.Markdown object>"
      ]
     },
     "metadata": {},
     "output_type": "display_data"
    },
    {
     "data": {
      "text/markdown": [
       "Un discorso , questo sulle infinite possibilità di una comunicazione indiretta , a distanza , inesprimibile e alternativa alle forme consolidate e consumate , che  a  Kieslowski sta **terribilmente** a cuore ."
      ],
      "text/plain": [
       "<IPython.core.display.Markdown object>"
      ]
     },
     "metadata": {},
     "output_type": "display_data"
    },
    {
     "data": {
      "text/markdown": [
       "VIPITENO -- Nella Juventus che ripropone gli uomini di ieri per le suggestioni di  oggi  e , forse , per le vittorie di domani , Stefano Tacconi ha deciso di restare **terribilmente** uguale a                                                                                                                                                                                                                                                                                                                                                                                                                                                                                                                                                                                                                                                                                                                                                                      E  sono contento d' averlo fatto ."
      ],
      "text/plain": [
       "<IPython.core.display.Markdown object>"
      ]
     },
     "metadata": {},
     "output_type": "display_data"
    },
    {
     "data": {
      "text/markdown": [
       "QUESTO appuntamento deve essere                                         organismi di partito e del caso-Mezzogiorno , il segretario dice : Vai avanti tu , impegnati pure , da  domani  , con la mia attiva collaborazione , in un' attenta opera di verifica , di iniziativa a partire dal                                                 Juventus che ripropone gli uomini di ieri per le suggestioni di oggi e , forse , per le vittorie di  domani  , Stefano Tacconi ha deciso di restare **terribilmente** uguale a se stesso ."
      ],
      "text/plain": [
       "<IPython.core.display.Markdown object>"
      ]
     },
     "metadata": {},
     "output_type": "display_data"
    },
    {
     "data": {
      "text/markdown": [
       "Egli è oggi profondamente , **terribilmente** solo in un paese nel quale , come minimo , ha fatto germogliare il seme della democrazia ."
      ],
      "text/plain": [
       "<IPython.core.display.Markdown object>"
      ]
     },
     "metadata": {},
     "output_type": "display_data"
    },
    {
     "data": {
      "text/markdown": [
       "Invece Camus si prende  **terribilmente**  sul serio , e l' allestimento , paludandosi di austerità , soffoca ogni germe d' ironia ; ne limita il sollievo anche in Sartre , abolendo la prevista ambientazione kitsch che aveva esaltato Visconti ed è strettamente collegata con la banalità delle storie proposte ."
      ],
      "text/plain": [
       "<IPython.core.display.Markdown object>"
      ]
     },
     "metadata": {},
     "output_type": "display_data"
    },
    {
     "data": {
      "text/markdown": [
       "Gli umori degli industriali privati verso la classe politica restano arcigni e diffidenti ; dalla legge finanziaria la Confindustria non si aspetta niente di buono ; lo scambio di idee con i leader dei maggiori partiti è sì servito ad appurare che la crisi economica italiana è  **terribilmente**  seria , in un comune convenire che serve la famosa \" svolta \" ; ma anche a toccare con mano che la situazione politica è \" imballata \" , con l' aggavante di una crisi di governo che incombe di nuovo , senza peraltro venir dichiarata ."
      ],
      "text/plain": [
       "<IPython.core.display.Markdown object>"
      ]
     },
     "metadata": {},
     "output_type": "display_data"
    },
    {
     "data": {
      "text/markdown": [
       "Gli pesava ancora addosso l' ombra di Viola e i suoi modi , mai condivisibili , ma  **terribilmente**  validi ."
      ],
      "text/plain": [
       "<IPython.core.display.Markdown object>"
      ]
     },
     "metadata": {},
     "output_type": "display_data"
    },
    {
     "data": {
      "text/markdown": [
       "Di stretta pertinenza favolistica , intanto , è la trovata su cui si regge gran parte dell' intreccio : al suo ritorno a Roma , infatti , Angelo non viene riconosciuto da nessuno , neanche dalla madre ( figura  **terribilmente**  oppressiva e di smisurato egoismo ) che , ricoverata in ospedale , morrà prima dell' agnizione finale ."
      ],
      "text/plain": [
       "<IPython.core.display.Markdown object>"
      ]
     },
     "metadata": {},
     "output_type": "display_data"
    },
    {
     "data": {
      "text/markdown": [
       "È il riconoscimento di un potere che a Mosca non ha alternative , di un presidente che non ha più rivali , anche se le sue prospettive sono ancora  **terribilmente**  confuse ."
      ],
      "text/plain": [
       "<IPython.core.display.Markdown object>"
      ]
     },
     "metadata": {},
     "output_type": "display_data"
    },
    {
     "data": {
      "text/markdown": [
       "Fra l' altro , Montanari , così come Baggio , deve fare i conti con due tipetti alti una spanna , ma tecnici e  **terribilmente**  svelti , che trasformano i centimetri in meno in sofferenze garantite a ogni azione ."
      ],
      "text/plain": [
       "<IPython.core.display.Markdown object>"
      ]
     },
     "metadata": {},
     "output_type": "display_data"
    },
    {
     "data": {
      "text/markdown": [
       "**terribilmente**  sincere ."
      ],
      "text/plain": [
       "<IPython.core.display.Markdown object>"
      ]
     },
     "metadata": {},
     "output_type": "display_data"
    },
    {
     "data": {
      "text/markdown": [
       "Walter non vuole studiare , ed è  **terribilmente**  geloso del fratello maggiore e della nuova compagna del padre ."
      ],
      "text/plain": [
       "<IPython.core.display.Markdown object>"
      ]
     },
     "metadata": {},
     "output_type": "display_data"
    },
    {
     "data": {
      "text/markdown": [
       "E dietro alle incertezze di punte , centrocampisti e difensori in ordine **terribilmente** sparso , il più esposto è stato il portiere ."
      ],
      "text/plain": [
       "<IPython.core.display.Markdown object>"
      ]
     },
     "metadata": {},
     "output_type": "display_data"
    },
    {
     "data": {
      "text/markdown": [
       "La sua forza più grande -- aveva detto Holyfield prima del match -- è nel fatto che desidera  **terribilmente**  vincere ' ."
      ],
      "text/plain": [
       "<IPython.core.display.Markdown object>"
      ]
     },
     "metadata": {},
     "output_type": "display_data"
    },
    {
     "data": {
      "text/markdown": [
       "Invece anche qui si fanno paragoni , si mettono a confronto i moduli di Trapattoni e quelli di Sacchi , tutto diventa  **terribilmente**  pesante , conflittuale ."
      ],
      "text/plain": [
       "<IPython.core.display.Markdown object>"
      ]
     },
     "metadata": {},
     "output_type": "display_data"
    },
    {
     "data": {
      "text/markdown": [
       "Lo Zibaldone di Cavour , particolarmente nutrito negli anni dell' educazione sentimentale , restituisce la fatica di vivere d' un giovane inquieto e ombroso , incline a umori saturnini ,  **terribilmente**  complicato , impulsivo negli accessi di passione , affascinato dalle diavolerie del gioco ."
      ],
      "text/plain": [
       "<IPython.core.display.Markdown object>"
      ]
     },
     "metadata": {},
     "output_type": "display_data"
    },
    {
     "data": {
      "text/markdown": [
       "Alcuni di loro sono deputati che avrebbero fatto di tutto per migliorare le relazioni anglo-tedesche ma che si sentono  **terribilmente**  offesi ."
      ],
      "text/plain": [
       "<IPython.core.display.Markdown object>"
      ]
     },
     "metadata": {},
     "output_type": "display_data"
    },
    {
     "data": {
      "text/markdown": [
       "La Francia invece non trova un uomo d' ordine , qualche folata ma  **terribilmente**  velleitaria ."
      ],
      "text/plain": [
       "<IPython.core.display.Markdown object>"
      ]
     },
     "metadata": {},
     "output_type": "display_data"
    },
    {
     "data": {
      "text/markdown": [
       "AMSTERDAM -- Un pareggio sofferto e  **terribilmente**  utile ha regalato all' Ajax l' unica coppa che gli mancava ."
      ],
      "text/plain": [
       "<IPython.core.display.Markdown object>"
      ]
     },
     "metadata": {},
     "output_type": "display_data"
    },
    {
     "data": {
      "text/markdown": [
       "Dall' altra la marea delle critiche che monta ogni giorno di più : Sarah è grassa , è sciatta , è sgraziata , è inadatta al ruolo , è maleducata , si veste male , è incosciente , è pigra , è ignorante , è  **terribilmente**  spendacciona e assetata di soldi ."
      ],
      "text/plain": [
       "<IPython.core.display.Markdown object>"
      ]
     },
     "metadata": {},
     "output_type": "display_data"
    },
    {
     "data": {
      "text/markdown": [
       "Quando è diventato  **terribilmente**  chiaro che i percorsi calcistici suo e di Cruyff erano destinati a non incrociarsi per molto tempo ancora , l' olandese ha cancellato un nome , quel nome , dalla lavagna dei sogni . \""
      ],
      "text/plain": [
       "<IPython.core.display.Markdown object>"
      ]
     },
     "metadata": {},
     "output_type": "display_data"
    },
    {
     "data": {
      "text/markdown": [
       "E tornare indietro adesso è  **terribilmente**  complicato ."
      ],
      "text/plain": [
       "<IPython.core.display.Markdown object>"
      ]
     },
     "metadata": {},
     "output_type": "display_data"
    },
    {
     "data": {
      "text/markdown": [
       "Quando ti ho vista , a Louveciennes , sono rimasto  **terribilmente**  sconvolto da te ."
      ],
      "text/plain": [
       "<IPython.core.display.Markdown object>"
      ]
     },
     "metadata": {},
     "output_type": "display_data"
    },
    {
     "data": {
      "text/markdown": [
       "**terribilmente**  noioso , temo , ma assai piacevole ."
      ],
      "text/plain": [
       "<IPython.core.display.Markdown object>"
      ]
     },
     "metadata": {},
     "output_type": "display_data"
    },
    {
     "data": {
      "text/markdown": [
       ", non certo a Berlusconi ) , però all' altra Roma , quella dei colori biancazzurri , fa  **terribilmente**  scomodo e soprattutto paura : perché ?"
      ],
      "text/plain": [
       "<IPython.core.display.Markdown object>"
      ]
     },
     "metadata": {},
     "output_type": "display_data"
    },
    {
     "data": {
      "text/markdown": [
       "Napoli si scopre oggi -- spiega Piero Craveri --  **terribilmente**  pre-moderna , tutta reclinata su se stessa , sulle sue memorie e bellezze e glorie , egregio condimento della sua vocazione assistenziale e parassitaria ."
      ],
      "text/plain": [
       "<IPython.core.display.Markdown object>"
      ]
     },
     "metadata": {},
     "output_type": "display_data"
    },
    {
     "data": {
      "text/markdown": [
       "Il secondo , forse assai più importante , è che Bassolino raccoglie il consenso di quegli strati sociali che , pur  **terribilmente**  colpiti dalla crisi , del ribellismo senza prospettive non sono prigionieri : è una carta di grande rilievo in una città come questa , una grande isola di saldezza in una Napoli soffocata ."
      ],
      "text/plain": [
       "<IPython.core.display.Markdown object>"
      ]
     },
     "metadata": {},
     "output_type": "display_data"
    },
    {
     "data": {
      "text/markdown": [
       "Sono  **terribilmente**  stanco , ma adesso sarà più facile continuare a lavorare \" ."
      ],
      "text/plain": [
       "<IPython.core.display.Markdown object>"
      ]
     },
     "metadata": {},
     "output_type": "display_data"
    },
    {
     "data": {
      "text/markdown": [
       "Più di altre volte sono  **terribilmente**  difficili e non è un caso che oggi piombi ad Olbia proprio Vincenzo Parisi ."
      ],
      "text/plain": [
       "<IPython.core.display.Markdown object>"
      ]
     },
     "metadata": {},
     "output_type": "display_data"
    },
    {
     "data": {
      "text/markdown": [
       "Temo però che nell' ambito di questo partito , e sottolineo di \" questo \" partito , sarà difficile ormai recuperare una credibilità così  **terribilmente**  scossa \" ."
      ],
      "text/plain": [
       "<IPython.core.display.Markdown object>"
      ]
     },
     "metadata": {},
     "output_type": "display_data"
    },
    {
     "data": {
      "text/markdown": [
       "Suona oggi  **terribilmente**  improponibile , però , stando ai veti incrociati , alle radicate diffidenze , alle rinfocolate ostilità , e anche alla scarsa commensurabilità della rappresentatività di ciascuno ."
      ],
      "text/plain": [
       "<IPython.core.display.Markdown object>"
      ]
     },
     "metadata": {},
     "output_type": "display_data"
    },
    {
     "data": {
      "text/markdown": [
       "Di un uomo dotato d' intelligenza spregiudicata , abile carrierista nel mondo della mafia , eppure  **terribilmente**  grigio con quella spietatezza che quasi sempre ha il segno della gratuità ."
      ],
      "text/plain": [
       "<IPython.core.display.Markdown object>"
      ]
     },
     "metadata": {},
     "output_type": "display_data"
    },
    {
     "data": {
      "text/markdown": [
       "Il secondo , forse assai più importante , è che Bassolino raccoglie il consenso di quegli strati sociali che , pur **terribilmente** colpiti dalla crisi , del ribellismo senza prospettive non sono prigionieri :  è  una carta di grande rilievo in una città come questa , una grande isola di saldezza in una Napoli soffocata .                                                                                                                                                                                                                                                                                                                                                                                                                                                                                                                                                                                                                                                                                                                                                                                                                                                                                                                                                                                                                                                                                                                                                  \""
      ],
      "text/plain": [
       "<IPython.core.display.Markdown object>"
      ]
     },
     "metadata": {},
     "output_type": "display_data"
    },
    {
     "data": {
      "text/markdown": [
       "Da  allora  , in verità , Jackie ha dovuto rallentare **terribilmente** il suo impegno di consulente presso una casa editrice nei cui uffici si lavorava almeno tre giorni alla settimana ."
      ],
      "text/plain": [
       "<IPython.core.display.Markdown object>"
      ]
     },
     "metadata": {},
     "output_type": "display_data"
    },
    {
     "data": {
      "text/markdown": [
       "CORSI di formazione che promettono folgoranti carriere di attrice o fotomodella ; firme strappate a volo per enciclopedie assolutamente inutili e  **terribilmente**  costose ; lauree in medicina conseguite in Italia e rilasciate nello Sri-Lanka ; bollettini somiglianti ai contocorrenti della luce o del gas ma che servono a foraggiare anonime società ."
      ],
      "text/plain": [
       "<IPython.core.display.Markdown object>"
      ]
     },
     "metadata": {},
     "output_type": "display_data"
    },
    {
     "data": {
      "text/markdown": [
       "Come tutti gli stranieri -- scriveva ieri il quotidiano Moskovskij Komsomoletz -- anche questi ' Angeli ' sono  **terribilmente**  ingenui ."
      ],
      "text/plain": [
       "<IPython.core.display.Markdown object>"
      ]
     },
     "metadata": {},
     "output_type": "display_data"
    },
    {
     "data": {
      "text/markdown": [
       "Una musica che , nelle diverse e variegate espressioni , rimane ancora fresca , tutt ' altro che datata e  **terribilmente**  vitale ."
      ],
      "text/plain": [
       "<IPython.core.display.Markdown object>"
      ]
     },
     "metadata": {},
     "output_type": "display_data"
    },
    {
     "data": {
      "text/markdown": [
       "E anche se è stato  **terribilmente**  doloroso , l' ho fatto perché penso che sia doveroso raccontare la morte com' è veramente , non lasciarla all' invenzione , non espellerla dalla vita e dall' esperienza come si tende a fare nella nostra società \" ."
      ],
      "text/plain": [
       "<IPython.core.display.Markdown object>"
      ]
     },
     "metadata": {},
     "output_type": "display_data"
    },
    {
     "data": {
      "text/markdown": [
       "Altrimenti con i tre dietro il gioco è  **terribilmente**  piatto \" dichiara la Commissione Tecnica ."
      ],
      "text/plain": [
       "<IPython.core.display.Markdown object>"
      ]
     },
     "metadata": {},
     "output_type": "display_data"
    },
    {
     "data": {
      "text/markdown": [
       "Berlinguer come Lenin : « L ' unità della lotta per un paradiso in terra che preme più dell ' unità delle opinioni per un paradiso in cielo » .**terribilmente** piccoloUn'avventura **terribilmente** complicataca!"
      ],
      "text/plain": [
       "<IPython.core.display.Markdown object>"
      ]
     },
     "metadata": {},
     "output_type": "display_data"
    },
    {
     "data": {
      "text/markdown": [
       "Di certo non ha mancato di alzare la voce contro i tribalismi , l' oppressione , i razzismi e le intolleranze , e di criticare i governi corrotti locali , ma per quanto riguarda il \" quotidiano \" africano è apparso \"  **terribilmente**  conservatore \" ."
      ],
      "text/plain": [
       "<IPython.core.display.Markdown object>"
      ]
     },
     "metadata": {},
     "output_type": "display_data"
    },
    {
     "data": {
      "text/markdown": [
       "I muscoli sgonfi complicano  **terribilmente**  la metamorfosi tattica in svolgimento , dal collaudatissimo 5 - 3 - 2 al 4 - 3 - 3 ."
      ],
      "text/plain": [
       "<IPython.core.display.Markdown object>"
      ]
     },
     "metadata": {},
     "output_type": "display_data"
    },
    {
     "data": {
      "text/markdown": [
       "Così , proprio nel momento in cui le controversie si fanno più aspre , si divaricano pure i punti di vista , che spesso si presentano come  **terribilmente**  distanti , se non proprio inconciliabili ."
      ],
      "text/plain": [
       "<IPython.core.display.Markdown object>"
      ]
     },
     "metadata": {},
     "output_type": "display_data"
    },
    {
     "data": {
      "text/markdown": [
       "E'  **terribilmente**  vergognoso per il Messico che affiori tanta spazzatura \" , ha sostenuto in proposito il deputato Jesus Zambrano del Partito della rivoluzione democratica ( Prd ) , di sinistra ."
      ],
      "text/plain": [
       "<IPython.core.display.Markdown object>"
      ]
     },
     "metadata": {},
     "output_type": "display_data"
    },
    {
     "data": {
      "text/markdown": [
       "Più l' indice , nel suo complesso , scende ( e scende anche rispetto ai periodi e alle nicchie più disgraziate della gestione Grasso ) e più ' Bibì e Bibò ' , tra via Asiago e Saxa Rubra , si affannano a millantare traguardi che , in un attimo , si svelano  **terribilmente**  fasulli ."
      ],
      "text/plain": [
       "<IPython.core.display.Markdown object>"
      ]
     },
     "metadata": {},
     "output_type": "display_data"
    },
    {
     "data": {
      "text/markdown": [
       "Questo paese è ancora  **terribilmente**  omofobico ."
      ],
      "text/plain": [
       "<IPython.core.display.Markdown object>"
      ]
     },
     "metadata": {},
     "output_type": "display_data"
    },
    {
     "data": {
      "text/markdown": [
       "Occhio anche a non scambiare delle parole inoffensive per delle advances : \" love \" è un vocabolo con cui nel Regno Unito ci si rivolge spesso al gentil sesso , avverte l' autrice , senza percepire di essere  **terribilmente**  irritanti ."
      ],
      "text/plain": [
       "<IPython.core.display.Markdown object>"
      ]
     },
     "metadata": {},
     "output_type": "display_data"
    },
    {
     "data": {
      "text/markdown": [
       "Come dire che il valore della lira , in questi giorni tempestosi , non c' entra nulla con lo stato di salute reale dell' economia italiana , ma risente  **terribilmente**  delle convulsioni della politica , riflette le paure , le incertezze , le delusioni e le speranze del mondo della finanza , degli imprenditori , della buona borghesia che ha dei soldi e non sa più come investirli con un minimo di sicurezza ."
      ],
      "text/plain": [
       "<IPython.core.display.Markdown object>"
      ]
     },
     "metadata": {},
     "output_type": "display_data"
    },
    {
     "data": {
      "text/markdown": [
       "Cheyenne era **terribilmente** depressa già nel 1990 , quando il fratellastro Christian Brando aveva ucciso con un colpo di pistola il fidanzato di lei , Dag Drollet , che pare picchiasse spesso la ragazza  allora  incinta ."
      ],
      "text/plain": [
       "<IPython.core.display.Markdown object>"
      ]
     },
     "metadata": {},
     "output_type": "display_data"
    },
    {
     "data": {
      "text/markdown": [
       "Amo le grandi arterie ma soffro **terribilmente** in città intrappolata nel caos , asfissiata dalle auto , alla ricerca ossessiva di un parcheggio : ne va del mio tempo che , invece ,  ho  scelto di razionalizzare al massimo ."
      ],
      "text/plain": [
       "<IPython.core.display.Markdown object>"
      ]
     },
     "metadata": {},
     "output_type": "display_data"
    },
    {
     "data": {
      "text/markdown": [
       "Del resto , l' Atalanta ha deciso di complicarsi **terribilmente** la vita dopo appena 90 \" : tutti avanti , Montero compreso , e quindi tutti sbilanciati sulla palla lunga lanciata da Desailly ."
      ],
      "text/plain": [
       "<IPython.core.display.Markdown object>"
      ]
     },
     "metadata": {},
     "output_type": "display_data"
    },
    {
     "data": {
      "text/markdown": [
       "Per di più i granata , sempre sprofondati in zona-pericolo , sono  **terribilmente**  ingenui sul gol giallorosso ."
      ],
      "text/plain": [
       "<IPython.core.display.Markdown object>"
      ]
     },
     "metadata": {},
     "output_type": "display_data"
    },
    {
     "data": {
      "text/markdown": [
       "Felici di non essere ricchi ma studenti di college , come nei film della giovane America che corre , un po' retorica e plastificata ma  **terribilmente**  ingenua , simpatica , con un bel cuore fresco ."
      ],
      "text/plain": [
       "<IPython.core.display.Markdown object>"
      ]
     },
     "metadata": {},
     "output_type": "display_data"
    },
    {
     "data": {
      "text/markdown": [
       "Eppure ci sono attività di gioco che sono  **terribilmente**  impegnative e faticose \" ."
      ],
      "text/plain": [
       "<IPython.core.display.Markdown object>"
      ]
     },
     "metadata": {},
     "output_type": "display_data"
    },
    {
     "data": {
      "text/markdown": [
       "Meno solare , ma altrettanto ,  **terribilmente**  efficace è Edgar Davids , cresciuto , come una quantità inesausta di ragazzini olandesi , nel mito Ajax ."
      ],
      "text/plain": [
       "<IPython.core.display.Markdown object>"
      ]
     },
     "metadata": {},
     "output_type": "display_data"
    },
    {
     "data": {
      "text/markdown": [
       "Non riesco a capire come delle persone possano prendersi così  **terribilmente**  sul serio ."
      ],
      "text/plain": [
       "<IPython.core.display.Markdown object>"
      ]
     },
     "metadata": {},
     "output_type": "display_data"
    },
    {
     "data": {
      "text/markdown": [
       "La Roma soffre  **terribilmente**  in difesa , la squadra è allungata e il centrocampo non riesce a fare diga ."
      ],
      "text/plain": [
       "<IPython.core.display.Markdown object>"
      ]
     },
     "metadata": {},
     "output_type": "display_data"
    },
    {
     "data": {
      "text/markdown": [
       "Viste da quaggiù , da Palermo , queste due storie appaiono simili o , per essere più precisi ,  **terribilmente**  uguali ."
      ],
      "text/plain": [
       "<IPython.core.display.Markdown object>"
      ]
     },
     "metadata": {},
     "output_type": "display_data"
    },
    {
     "data": {
      "text/markdown": [
       "Però non  sono  **terribilmente** sorpreso : ho visto passare un sacco di gente che col potere perde la propria identità ."
      ],
      "text/plain": [
       "<IPython.core.display.Markdown object>"
      ]
     },
     "metadata": {},
     "output_type": "display_data"
    },
    {
     "data": {
      "text/markdown": [
       "Anche se sono sempre un po' apocalittico , devo dire che il terzo millennio mi attira  **terribilmente**  \" ."
      ],
      "text/plain": [
       "<IPython.core.display.Markdown object>"
      ]
     },
     "metadata": {},
     "output_type": "display_data"
    },
    {
     "data": {
      "text/markdown": [
       "Un medico mi aveva spiegato che per passare da uno stato psicologico a un altro abbiamo bisogno di sbattere gli occhi , e se ti tengono gli occhi aperti diventi  **terribilmente**  irritabile , quindi una cosa del genere ha un' influenza psicologica su di te ."
      ],
      "text/plain": [
       "<IPython.core.display.Markdown object>"
      ]
     },
     "metadata": {},
     "output_type": "display_data"
    },
    {
     "data": {
      "text/markdown": [
       "IL GIOCO del calcio è tornato  **terribilmente**  di moda in Iran ."
      ],
      "text/plain": [
       "<IPython.core.display.Markdown object>"
      ]
     },
     "metadata": {},
     "output_type": "display_data"
    },
    {
     "data": {
      "text/markdown": [
       "BRESCIA -- Cinico , spietato ,  **terribilmente**  concreto ."
      ],
      "text/plain": [
       "<IPython.core.display.Markdown object>"
      ]
     },
     "metadata": {},
     "output_type": "display_data"
    },
    {
     "data": {
      "text/markdown": [
       "Proprio perché gesto estremo , va specchiato nel quotidiano : deve almeno ,  **terribilmente**  servire , come manifestazione del \" nulla \" , il male del nulla lo chiamava David Maria Turoldo ."
      ],
      "text/plain": [
       "<IPython.core.display.Markdown object>"
      ]
     },
     "metadata": {},
     "output_type": "display_data"
    },
    {
     "data": {
      "text/markdown": [
       "Nel Parma Chiesa si propone nel ruolo di leader che a questa squadra , negli ultimi anni , è  **terribilmente**  mancato ."
      ],
      "text/plain": [
       "<IPython.core.display.Markdown object>"
      ]
     },
     "metadata": {},
     "output_type": "display_data"
    },
    {
     "data": {
      "text/markdown": [
       "Cesar Gaviria , l' ex presidente colombiano che oggi presiede , a Washington , l' Organizzazione degli Stati Americani ( Oas ) , si proclama \"  **terribilmente**  preoccupato \" ."
      ],
      "text/plain": [
       "<IPython.core.display.Markdown object>"
      ]
     },
     "metadata": {},
     "output_type": "display_data"
    },
    {
     "data": {
      "text/markdown": [
       "Se davvero è scivolata su un destino imprevisto , farà bene a rialzarsi contro il Manchester United in una partita **terribilmente** importante e  **terribilmente**  prematura ."
      ],
      "text/plain": [
       "<IPython.core.display.Markdown object>"
      ]
     },
     "metadata": {},
     "output_type": "display_data"
    },
    {
     "data": {
      "text/markdown": [
       "Per quanto riguarda l' aspetto emaciato ,  **terribilmente**  smagrito , Mironov assicura che non c' è da preoccuparsi . \""
      ],
      "text/plain": [
       "<IPython.core.display.Markdown object>"
      ]
     },
     "metadata": {},
     "output_type": "display_data"
    },
    {
     "data": {
      "text/markdown": [
       "Milano è  **terribilmente**  indietro e ieri il presidente della Confindustria , Giorgio Fossa , non ha mancato di sottolinearlo con forza affermando che Piazza Affari è un mercato che , per scambi e numero di società quotate \" è al livello della Borsa di Teheran \" ."
      ],
      "text/plain": [
       "<IPython.core.display.Markdown object>"
      ]
     },
     "metadata": {},
     "output_type": "display_data"
    },
    {
     "data": {
      "text/markdown": [
       "Ma al di là della valanga di critiche ' tecniche ' sollevate dallo stesso Borrelli , dal giudice Mario Almerighi , dal fondatore del nuovo gruppo , il consigliere del Csm Antonio Frasso , la vera protagonista di quest' assemblea gremita come poche è stata l' emotività di una categoria che si sente accerchiata , spinta dal potere politico dentro un recinto normativo che sembra andarle  **terribilmente**  stretto ."
      ],
      "text/plain": [
       "<IPython.core.display.Markdown object>"
      ]
     },
     "metadata": {},
     "output_type": "display_data"
    },
    {
     "data": {
      "text/markdown": [
       "Il nostro è un gioco bello da vedere ma , almeno per adesso  **terribilmente**  faticoso da portare avanti ."
      ],
      "text/plain": [
       "<IPython.core.display.Markdown object>"
      ]
     },
     "metadata": {},
     "output_type": "display_data"
    },
    {
     "data": {
      "text/markdown": [
       "Non poteva sapere  allora  quanto sarebbe stato **terribilmente** vero per lui ."
      ],
      "text/plain": [
       "<IPython.core.display.Markdown object>"
      ]
     },
     "metadata": {},
     "output_type": "display_data"
    },
    {
     "data": {
      "text/markdown": [
       "Scatta la curiosità per questo concetto che ribalta  e  addolcisce le accuse che di consueto vengono fatte ai piccoli felini di casa , di essere cioè poco affezionati ai padroni , troppo indipendenti , **terribilmente** opportunisti ."
      ],
      "text/plain": [
       "<IPython.core.display.Markdown object>"
      ]
     },
     "metadata": {},
     "output_type": "display_data"
    },
    {
     "data": {
      "text/markdown": [
       "Ma Brutti non ha competenze : anche se l' Arma dipende                                                                                                                                                                                                                                                          consigliere del Csm Antonio Frasso , la vera protagonista di quest' assemblea gremita come poche è stata l' emotività di una categoria che si sente accerchiata , spinta dal potere politico dentro un recinto normativo che sembra andarle **terribilmente** stretto ."
      ],
      "text/plain": [
       "<IPython.core.display.Markdown object>"
      ]
     },
     "metadata": {},
     "output_type": "display_data"
    },
    {
     "data": {
      "text/markdown": [
       "Il grande oratore giace sul letto di morte e soffre **terribilmente** ."
      ],
      "text/plain": [
       "<IPython.core.display.Markdown object>"
      ]
     },
     "metadata": {},
     "output_type": "display_data"
    },
    {
     "data": {
      "text/markdown": [
       "Eppure , nella vita di relazione , lei può essere  **terribilmente**  insofferente , distaccato , distratto ."
      ],
      "text/plain": [
       "<IPython.core.display.Markdown object>"
      ]
     },
     "metadata": {},
     "output_type": "display_data"
    },
    {
     "data": {
      "text/markdown": [
       "La Lazio questi spazi glieli nega ed è molto abile a ritagliarseli , con una maniera di giocare che sarà vecchia di vent' anni , come sostengono alcuni addetti ai lavori , ma a me non pare e peraltro in questa primavera '98 è  **terribilmente**  efficace ."
      ],
      "text/plain": [
       "<IPython.core.display.Markdown object>"
      ]
     },
     "metadata": {},
     "output_type": "display_data"
    },
    {
     "data": {
      "text/markdown": [
       "Ma i suoi argomenti sono  **terribilmente**  seri . \""
      ],
      "text/plain": [
       "<IPython.core.display.Markdown object>"
      ]
     },
     "metadata": {},
     "output_type": "display_data"
    },
    {
     "data": {
      "text/markdown": [
       "Il leader dell' Ulster unionist party , David Trimble , finora il più restio ad ammettere la possibilità di un accordo sul futuro assetto costituzionale delle sei contee del Nordirlanda , ieri ha concesso la prima apertura ai cattolici nazionalisti del Sinn Féin : \" Non sono  **terribilmente**  ottimista , ma l' accordo è possibile \" , ha detto Trimble , che rappresenta il partito più votato dai protestanti unionisti ."
      ],
      "text/plain": [
       "<IPython.core.display.Markdown object>"
      ]
     },
     "metadata": {},
     "output_type": "display_data"
    },
    {
     "data": {
      "text/markdown": [
       "E anch' io sono  **terribilmente**  ignorante riguardo all' Italia , che pure è un paese che amo tanto , e in cui ho suonato spesso ."
      ],
      "text/plain": [
       "<IPython.core.display.Markdown object>"
      ]
     },
     "metadata": {},
     "output_type": "display_data"
    },
    {
     "data": {
      "text/markdown": [
       "Il presidente della Rizzoli consiglia di affidare la costruzione delle suddette infrastrutture ai privati ; da qualche parte viene fatto notare che i suddetti privati , per quanto riguarda nuovi investimenti , si sono dimostrati finora  **terribilmente**  avari , ma l' argomento viene liquidato con la semplice constatazione che \" manca la fiducia ed è per questo che non si fanno investimenti sufficienti \" ."
      ],
      "text/plain": [
       "<IPython.core.display.Markdown object>"
      ]
     },
     "metadata": {},
     "output_type": "display_data"
    },
    {
     "data": {
      "text/markdown": [
       "chi crede che Bertinotti sia un comunista si sbaglia di grosso : è un massimalista con forti dosi di narcisismo il che complica  **terribilmente**  le cose ."
      ],
      "text/plain": [
       "<IPython.core.display.Markdown object>"
      ]
     },
     "metadata": {},
     "output_type": "display_data"
    },
    {
     "data": {
      "text/markdown": [
       "Non solo , ma mi spaventa  **terribilmente**  il fatto che circoli molta droga , ormai tutti ci sono in mezzo , qui come a Londra ."
      ],
      "text/plain": [
       "<IPython.core.display.Markdown object>"
      ]
     },
     "metadata": {},
     "output_type": "display_data"
    },
    {
     "data": {
      "text/markdown": [
       "E perfino il poeta Yeats , all' epoca non solidale con i rivoltosi , scrisse dopo le esecuzioni che \" era nato qualcosa di  **terribilmente**  bello \" ."
      ],
      "text/plain": [
       "<IPython.core.display.Markdown object>"
      ]
     },
     "metadata": {},
     "output_type": "display_data"
    },
    {
     "data": {
      "text/markdown": [
       "INTERVENTI UMANITARI di David Rieff \" ... L' intervento umanitario è al tempo stesso un' idea immensamente forte e  **terribilmente**  imprecisa ."
      ],
      "text/plain": [
       "<IPython.core.display.Markdown object>"
      ]
     },
     "metadata": {},
     "output_type": "display_data"
    },
    {
     "data": {
      "text/markdown": [
       "Catastrofi accidentali e catastrofi provocate dai dittatori di tutte le latitudini sono infatti  **terribilmente**  simili ."
      ],
      "text/plain": [
       "<IPython.core.display.Markdown object>"
      ]
     },
     "metadata": {},
     "output_type": "display_data"
    },
    {
     "data": {
      "text/markdown": [
       "E' una vita molto dura che riunisce diverse generazioni di allievi , a cui se ne aggiungeranno altre  **terribilmente**  giovani , con continuo successo sia a casa che nei viaggi per il mondo , da noi assunti come una missione per parlare agli altri e scoprire gli altri ."
      ],
      "text/plain": [
       "<IPython.core.display.Markdown object>"
      ]
     },
     "metadata": {},
     "output_type": "display_data"
    },
    {
     "data": {
      "text/markdown": [
       "Tuttavia , mentre il numero dei nati continua  a  restare **terribilmente** alto , il tasso di fertilità sta lentamente cominciando a scendere ."
      ],
      "text/plain": [
       "<IPython.core.display.Markdown object>"
      ]
     },
     "metadata": {},
     "output_type": "display_data"
    },
    {
     "data": {
      "text/markdown": [
       "Aveva appena 26 anni la Garbo , e soprattutto era  **terribilmente**  più insicura di quanto appariva sullo schermo ."
      ],
      "text/plain": [
       "<IPython.core.display.Markdown object>"
      ]
     },
     "metadata": {},
     "output_type": "display_data"
    },
    {
     "data": {
      "text/markdown": [
       "L' ascesa di Haider mi ha spaventato  **terribilmente**  ."
      ],
      "text/plain": [
       "<IPython.core.display.Markdown object>"
      ]
     },
     "metadata": {},
     "output_type": "display_data"
    },
    {
     "data": {
      "text/markdown": [
       "Liquidati gli scambi del destino e le strade mai percorse dal medesimo , Ancelotti si sforza  **terribilmente**  di tenersi dentro quell' insaccato di emozioni che sarà la sua partita . \""
      ],
      "text/plain": [
       "<IPython.core.display.Markdown object>"
      ]
     },
     "metadata": {},
     "output_type": "display_data"
    },
    {
     "data": {
      "text/markdown": [
       "Mi sei mancato  **terribilmente**  ."
      ],
      "text/plain": [
       "<IPython.core.display.Markdown object>"
      ]
     },
     "metadata": {},
     "output_type": "display_data"
    }
   ],
   "source": [
    "find_sentences_with_keyword(document6, 'terribilmente')"
   ]
  },
  {
   "cell_type": "markdown",
   "id": "f2853f42",
   "metadata": {},
   "source": [
    "### Zeitraum 7: 2001-2021"
   ]
  },
  {
   "cell_type": "code",
   "execution_count": 37,
   "id": "25fd212a",
   "metadata": {},
   "outputs": [],
   "source": [
    "text7 = ''\n",
    "for i in df7.text:\n",
    "    text7 += i"
   ]
  },
  {
   "cell_type": "code",
   "execution_count": 38,
   "id": "05b42fa3",
   "metadata": {},
   "outputs": [],
   "source": [
    "document7 = nltk.sent_tokenize(text7)"
   ]
  },
  {
   "cell_type": "code",
   "execution_count": 39,
   "id": "7c5d7496",
   "metadata": {},
   "outputs": [
    {
     "data": {
      "text/markdown": [
       "Cosìsono **terribilmente** spiacente / ma purtroppo al momento non sono in casa / siete pregati di passaresogno americano al contrario ,RTPRE, un Incubo ,RTPRE, raccontato da una penna così abile che al risveglio risulterà tremendamente vero."
      ],
      "text/plain": [
       "<IPython.core.display.Markdown object>"
      ]
     },
     "metadata": {},
     "output_type": "display_data"
    },
    {
     "data": {
      "text/markdown": [
       "Ma queste sono risposte che nessuno potrà mai dare, e nemmeno la maschera di morte che il suo voltosono **terribilmente** seriooh oh sono **terribilmente** in ritardo le faccio le mie scuse signora ma devo andare avere disturbi del sistema nervoso."
      ],
      "text/plain": [
       "<IPython.core.display.Markdown object>"
      ]
     },
     "metadata": {},
     "output_type": "display_data"
    },
    {
     "data": {
      "text/markdown": [
       "E la riforma della legge sugli stranieri (giugno 2002) rende **terribilmente** complicato il soggiorno legale in Russia, mettendo un gran numero di lavoratori stranieri nell'' illegalità."
      ],
      "text/plain": [
       "<IPython.core.display.Markdown object>"
      ]
     },
     "metadata": {},
     "output_type": "display_data"
    },
    {
     "data": {
      "text/markdown": [
       "La cosa invece si complica **terribilmente** da Ulan Batar a Pechino."
      ],
      "text/plain": [
       "<IPython.core.display.Markdown object>"
      ]
     },
     "metadata": {},
     "output_type": "display_data"
    },
    {
     "data": {
      "text/markdown": [
       "Hiroshima è documento **terribilmente** eloquente e paradigma spaventosamente profetico a questo riguardo."
      ],
      "text/plain": [
       "<IPython.core.display.Markdown object>"
      ]
     },
     "metadata": {},
     "output_type": "display_data"
    },
    {
     "data": {
      "text/markdown": [
       "Sushi \" guarda la scheda Per capire il Sushi-pensiero, quello oscuro e delizioso del secondo album \" Un mondo **terribilmente** volgare \", mi reco direttamente nel cuore di Torino, dove abitano Ale e Otti, rispettivamente tastiere e voce dellacominciò a camminare, misurando la stanza a grandi passi, simile ad una belva in gabbia."
      ],
      "text/plain": [
       "<IPython.core.display.Markdown object>"
      ]
     },
     "metadata": {},
     "output_type": "display_data"
    },
    {
     "data": {
      "text/markdown": [
       "Le pareti in legno gli parvero **terribilmente** vicine, ogni cosa gli sembrava troppo piccola, gli spazi ridotti, come se gli Asi gli avessero tolto la strada che avevae di smarrimento che si prova di fronte a realtà che non si conosce o a evento naturale in se stesso misterioso."
      ],
      "text/plain": [
       "<IPython.core.display.Markdown object>"
      ]
     },
     "metadata": {},
     "output_type": "display_data"
    },
    {
     "data": {
      "text/markdown": [
       "Oppure può essere **terribilmente** brutto."
      ],
      "text/plain": [
       "<IPython.core.display.Markdown object>"
      ]
     },
     "metadata": {},
     "output_type": "display_data"
    },
    {
     "data": {
      "text/markdown": [
       "E anche un film **terribilmente** pessimista sui rapporti umani: la prostituta Aileen, violentata da piccola e i cui sogni di adolescente sono statiil quale ero partito: nel frattempo, però, avevo avuto il buon senso di acquistare il biglietto di ritorno."
      ],
      "text/plain": [
       "<IPython.core.display.Markdown object>"
      ]
     },
     "metadata": {},
     "output_type": "display_data"
    },
    {
     "data": {
      "text/markdown": [
       "Mi sentivo **terribilmente** solo, tutto mi sembrava ostile."
      ],
      "text/plain": [
       "<IPython.core.display.Markdown object>"
      ]
     },
     "metadata": {},
     "output_type": "display_data"
    },
    {
     "data": {
      "text/markdown": [
       "Il ensiero di altri 5 anni di governo Formigoni mi deprime **terribilmente** , mi deprime vedere che vanno decadendo gli ideali di solidarietà che sono stati sempre tanto forti in Lombardia."
      ],
      "text/plain": [
       "<IPython.core.display.Markdown object>"
      ]
     },
     "metadata": {},
     "output_type": "display_data"
    },
    {
     "data": {
      "text/markdown": [
       "Mipotrebbe essere un'' occasione per ripensare a tutto questo, perché ha messo in luce il fatto che i sistemi globali sono **terribilmente** vulnerabili."
      ],
      "text/plain": [
       "<IPython.core.display.Markdown object>"
      ]
     },
     "metadata": {},
     "output_type": "display_data"
    },
    {
     "data": {
      "text/markdown": [
       "Dovevamo sfregarci ben bene anche le mani, perché puzzavano **terribilmente** ."
      ],
      "text/plain": [
       "<IPython.core.display.Markdown object>"
      ]
     },
     "metadata": {},
     "output_type": "display_data"
    },
    {
     "data": {
      "text/markdown": [
       "Ero **terribilmente** spiacente non potendo dar loro alcuna informazione che potesse soddisfare le loro aspettative."
      ],
      "text/plain": [
       "<IPython.core.display.Markdown object>"
      ]
     },
     "metadata": {},
     "output_type": "display_data"
    },
    {
     "data": {
      "text/markdown": [
       "Credo di avere una sensibilità fuori dal comune, questo non mi aiuta molto, sono **terribilmente** sensitiva (sempre in termini pratici) e attratta da tutto ciò che è esoterico, vivo per la musica e per l'' arte, questo lonon suona come qualcosa per cui perdere la testa."
      ],
      "text/plain": [
       "<IPython.core.display.Markdown object>"
      ]
     },
     "metadata": {},
     "output_type": "display_data"
    },
    {
     "data": {
      "text/markdown": [
       "Suona piuttosto come un disco di rock ben suonato e ben scritto, ma **terribilmente** già sentito e **terribilmente** demodé."
      ],
      "text/plain": [
       "<IPython.core.display.Markdown object>"
      ]
     },
     "metadata": {},
     "output_type": "display_data"
    },
    {
     "data": {
      "text/markdown": [
       "Forse è questo che piace agli inglesi â \" dopo il garage rock rivisitato degliOstrogoti ed infine i Longobardi, i quali nel 569 rappresentarono il colpo di grazia inferto ad una terra che era uscita **terribilmente** stremata da questa serie di lotte, con l'' economia rovinata e le sue pianure completamente devastate e spopolate."
      ],
      "text/plain": [
       "<IPython.core.display.Markdown object>"
      ]
     },
     "metadata": {},
     "output_type": "display_data"
    },
    {
     "data": {
      "text/markdown": [
       "Poi è **terribilmente** triste perché suo padre muore da artista incompiuto, perciò parecchia della sua tristezza è proprio per suo padre."
      ],
      "text/plain": [
       "<IPython.core.display.Markdown object>"
      ]
     },
     "metadata": {},
     "output_type": "display_data"
    },
    {
     "data": {
      "text/markdown": [
       "E qundo toccano i diritti umani io mi arrabbio **terribilmente** ."
      ],
      "text/plain": [
       "<IPython.core.display.Markdown object>"
      ]
     },
     "metadata": {},
     "output_type": "display_data"
    },
    {
     "data": {
      "text/markdown": [
       "Il giovane Artù provò orrore a quella prospettiva ... la strega aveva una gobba ad uncino, era **terribilmente** orrenda, aveva un solo dente, puzzava di acqua di fogna e spesso faceva anche dei rumori osceni!"
      ],
      "text/plain": [
       "<IPython.core.display.Markdown object>"
      ]
     },
     "metadata": {},
     "output_type": "display_data"
    },
    {
     "data": {
      "text/markdown": [
       "Wendy non vi ha ricordato **terribilmente** Chloe nella 315 (\" TOW Ross and Rachel Take a Break \")?"
      ],
      "text/plain": [
       "<IPython.core.display.Markdown object>"
      ]
     },
     "metadata": {},
     "output_type": "display_data"
    },
    {
     "data": {
      "text/markdown": [
       "Sicuramente, è una fortuna che Chandler sia più fedele a Monica di... sono saltate le parti, le ideologie e la dialettica ... tutto è ora assorbito dal fattore B. e questo sta impoverendo **terribilmente** la cultura critica e intellettuale del nostro paese."
      ],
      "text/plain": [
       "<IPython.core.display.Markdown object>"
      ]
     },
     "metadata": {},
     "output_type": "display_data"
    },
    {
     "data": {
      "text/markdown": [
       "- Questo, - disse il generale con tono **terribilmente** calmo, - riguarda il passato."
      ],
      "text/plain": [
       "<IPython.core.display.Markdown object>"
      ]
     },
     "metadata": {},
     "output_type": "display_data"
    },
    {
     "data": {
      "text/markdown": [
       "- La guerra è una cosa seria, troppo seria ed è difficile dire sesembra molto più comodo del nostro mandolino, che anni fa provai per 2 mesi a suonare, per poi passare al banjo 5 corde, **terribilmente** più difficile (che poi mi rubarono assieme all'' autoradio in una triste notte pochi mesi dopo)."
      ],
      "text/plain": [
       "<IPython.core.display.Markdown object>"
      ]
     },
     "metadata": {},
     "output_type": "display_data"
    },
    {
     "data": {
      "text/markdown": [
       "Sono stato peròcolloquio con Paul Emery di Nicola Nosengo Ci sono quasi 5 milioni di persone in Italia che soffrono, e spesso soffrono **terribilmente** , per malattie per cui di fatto non esistono cure, e che l'' Unione europea non considera nemmeno tra quelle su cui vale lastà proprio sul ... Bye!"
      ],
      "text/plain": [
       "<IPython.core.display.Markdown object>"
      ]
     },
     "metadata": {},
     "output_type": "display_data"
    },
    {
     "data": {
      "text/markdown": [
       "a volte penso che non può essere così carina e così **terribilmente** scema ... e quindi mi dico \" finge \" ... ma poi la guardo bene e quasi mi commuovo, mischinetta: D smack, eli * by skittishsi presenta davanti ai suoi occhi."
      ],
      "text/plain": [
       "<IPython.core.display.Markdown object>"
      ]
     },
     "metadata": {},
     "output_type": "display_data"
    },
    {
     "data": {
      "text/markdown": [
       "E'' **terribilmente** scioccato ma la sua guida e la sua fede danno speranza."
      ],
      "text/plain": [
       "<IPython.core.display.Markdown object>"
      ]
     },
     "metadata": {},
     "output_type": "display_data"
    },
    {
     "data": {
      "text/markdown": [
       "Non si ritira certodiversa solo per far spazio a un italiano perchè tale, nonostante fossero tutti di qualità, ammettiamolo, **terribilmente** media \"."
      ],
      "text/plain": [
       "<IPython.core.display.Markdown object>"
      ]
     },
     "metadata": {},
     "output_type": "display_data"
    },
    {
     "data": {
      "text/markdown": [
       "I due virgolettati sono, in ordine, di Andrea Martini, presidente della Commissione, e Giulio Mancino, unoamico che in fondo nessuno al mondo è un perfetto umano, ma che Leth, come lui stesso, sono semplicemente degli esseri **terribilmente** limitati che \" capiranno qualcosa forse fra due giorni \"."
      ],
      "text/plain": [
       "<IPython.core.display.Markdown object>"
      ]
     },
     "metadata": {},
     "output_type": "display_data"
    },
    {
     "data": {
      "text/markdown": [
       "inviato il 03.11.2004 09:17:31 strakaliux x lila '' '' Comunque Chirac è un uomo **terribilmente** intelligente, incredibilmente affascinante, ed è nato come uomo di sinistra, peccato che ha già 85 anni '' '' cavolo, se, rituali magici, a riprendere le tematiche di altri capolavori, quali il suo \" Nosferatu \" del 1921, superate però **terribilmente** dalle realtà delle efferatezze naziste perpetrate all'' epoca della prima uscita dei film del maestro Murnau."
      ],
      "text/plain": [
       "<IPython.core.display.Markdown object>"
      ]
     },
     "metadata": {},
     "output_type": "display_data"
    },
    {
     "data": {
      "text/markdown": [
       "Credo che molti giornalisti americani siano **terribilmente** delusi dal comportamento del governo e molto seccati che imponga la propaganda a tutti e scoraggi quelli che cercano dimemoria ogni pensiero problematico."
      ],
      "text/plain": [
       "<IPython.core.display.Markdown object>"
      ]
     },
     "metadata": {},
     "output_type": "display_data"
    },
    {
     "data": {
      "text/markdown": [
       "**terribilmente** innamorato?"
      ],
      "text/plain": [
       "<IPython.core.display.Markdown object>"
      ]
     },
     "metadata": {},
     "output_type": "display_data"
    },
    {
     "data": {
      "text/markdown": [
       "I passi dell'' agente addetto alla consegna sembrano **terribilmente** lenti."
      ],
      "text/plain": [
       "<IPython.core.display.Markdown object>"
      ]
     },
     "metadata": {},
     "output_type": "display_data"
    },
    {
     "data": {
      "text/markdown": [
       "I grandi giornali italiani, purtroppo, lo hanno affrontato con argomentazioni **terribilmente** vecchie \"."
      ],
      "text/plain": [
       "<IPython.core.display.Markdown object>"
      ]
     },
     "metadata": {},
     "output_type": "display_data"
    },
    {
     "data": {
      "text/markdown": [
       "Ma nonostante ciò (anzi, proprio per questo) **terribilmente** pericolosi."
      ],
      "text/plain": [
       "<IPython.core.display.Markdown object>"
      ]
     },
     "metadata": {},
     "output_type": "display_data"
    },
    {
     "data": {
      "text/markdown": [
       "Biagi scrive a Maroni un messaggio amareggiato e **terribilmente** profetico: \" Qualora dovesse accadermi qualcosa desidero si sappia che avevo informato inutilmente le autorità \"."
      ],
      "text/plain": [
       "<IPython.core.display.Markdown object>"
      ]
     },
     "metadata": {},
     "output_type": "display_data"
    },
    {
     "data": {
      "text/markdown": [
       ": 17:24:31 ciao abbiamo visto i tuoi corti \" The Bittel \" e \" The duckling \" e volevamo farti notare che il primo è lento e **terribilmente** noioso, per quanto la storia forse non sia così male, mentre per il secondo, beh ... la storia è facilmente immaginabileogni istante e il non poterlo più sentire per non so quale motivo, mi faceva provare un grande vuoto ... mi sentivo sola, **terribilmente** sola."
      ],
      "text/plain": [
       "<IPython.core.display.Markdown object>"
      ]
     },
     "metadata": {},
     "output_type": "display_data"
    },
    {
     "data": {
      "text/markdown": [
       "Ma furba, **terribilmente** furba, nello sfruttare il sistema dei media."
      ],
      "text/plain": [
       "<IPython.core.display.Markdown object>"
      ]
     },
     "metadata": {},
     "output_type": "display_data"
    },
    {
     "data": {
      "text/markdown": [
       "Nessuna è come lei, e questo disco dimostra che deve ancora arrivare chilatte, le api spontaneamente portavano alle sue labbra il miele e i sacerdoti di Cibele (i CURETI o CORIBANTI) facevano **terribilmente** risuonare armi e scudi, battendoli fra loro con gran forza ogni volta che il piccolo piangeva, perché Cronos non loun cavallo tutto mio, ma voglio un mare di bene ad una cavalla che si chiama Diana."
      ],
      "text/plain": [
       "<IPython.core.display.Markdown object>"
      ]
     },
     "metadata": {},
     "output_type": "display_data"
    },
    {
     "data": {
      "text/markdown": [
       "Lei vive al maneggio che frequento, ed é **terribilmente** dispettosa!"
      ],
      "text/plain": [
       "<IPython.core.display.Markdown object>"
      ]
     },
     "metadata": {},
     "output_type": "display_data"
    },
    {
     "data": {
      "text/markdown": [
       "TESTO 3 Scena X Atto II ° Nosside: La corona splendidissima brillò tra lo stupore di tutti, lanciando lampi **terribilmente** convincenti."
      ],
      "text/plain": [
       "<IPython.core.display.Markdown object>"
      ]
     },
     "metadata": {},
     "output_type": "display_data"
    },
    {
     "data": {
      "text/markdown": [
       "mi annoia **terribilmente** ."
      ],
      "text/plain": [
       "<IPython.core.display.Markdown object>"
      ]
     },
     "metadata": {},
     "output_type": "display_data"
    },
    {
     "data": {
      "text/markdown": [
       "Anche se ai genitori Ashoke e Ashima (Irfan Khan e Tabu) mancano **terribilmente** la cultura e la famiglia che li circondava e li proteggeva in India, essi sono molto fieri delle grandi opportunità che,non abbia idee dello stesso livello di quelle che hanno mosso la serie nei primi capitoli."
      ],
      "text/plain": [
       "<IPython.core.display.Markdown object>"
      ]
     },
     "metadata": {},
     "output_type": "display_data"
    },
    {
     "data": {
      "text/markdown": [
       "Berserk sta diventando **terribilmente** convenzionale."
      ],
      "text/plain": [
       "<IPython.core.display.Markdown object>"
      ]
     },
     "metadata": {},
     "output_type": "display_data"
    },
    {
     "data": {
      "text/markdown": [
       "Pertanto l'' aria che raggiunse l'' estremo nord dell'' Europa non poteva che essere **terribilmente** fredda."
      ],
      "text/plain": [
       "<IPython.core.display.Markdown object>"
      ]
     },
     "metadata": {},
     "output_type": "display_data"
    },
    {
     "data": {
      "text/markdown": [
       "Un film assolutamente senza trama, con inquadrature alla beautiful, effetti orribilmente plastici ed artficiosi, incongruenze storiche, dialoghi banali e scontatissimi (vedi quello **terribilmente**vive da molto tempo in Iraq e possiede cittadinanza irachena \"."
      ],
      "text/plain": [
       "<IPython.core.display.Markdown object>"
      ]
     },
     "metadata": {},
     "output_type": "display_data"
    },
    {
     "data": {
      "text/markdown": [
       "All''inizio si capisce bene che Nexus sarà anche temuto e potente, ma è anche **terribilmente** solo... e lei gli porta tutto l''amore che gli mancava."
      ],
      "text/plain": [
       "<IPython.core.display.Markdown object>"
      ]
     },
     "metadata": {},
     "output_type": "display_data"
    },
    {
     "data": {
      "text/markdown": [
       "di notizie non censurate provenienti dal Vietnam), cosi'' la copertura mediatica sul movimento contro la guerra e'' **terribilmente** scarsa."
      ],
      "text/plain": [
       "<IPython.core.display.Markdown object>"
      ]
     },
     "metadata": {},
     "output_type": "display_data"
    },
    {
     "data": {
      "text/markdown": [
       "Così **terribilmente** bello che anche gli Addams devono rinviare il divertimento."
      ],
      "text/plain": [
       "<IPython.core.display.Markdown object>"
      ]
     },
     "metadata": {},
     "output_type": "display_data"
    },
    {
     "data": {
      "text/markdown": [
       "\", le ho risposto (e sono atea), \"Qualcosa deve essere andato **terribilmente** male\"."
      ],
      "text/plain": [
       "<IPython.core.display.Markdown object>"
      ]
     },
     "metadata": {},
     "output_type": "display_data"
    },
    {
     "data": {
      "text/markdown": [
       "Spesso mi è capitato vedere tante nuove aziende avere buona frutta di partenza e vini **terribilmente** uguali perché anche nell´amaro stil novo ci sono vini e vini."
      ],
      "text/plain": [
       "<IPython.core.display.Markdown object>"
      ]
     },
     "metadata": {},
     "output_type": "display_data"
    },
    {
     "data": {
      "text/markdown": [
       "Se gli anglosassoni, a differenza nostra, bevono aperfino ogni volta che starnutiva, gli veniva il mestolino qualunque notizia sentisse alla radio e si affliggeva **terribilmente** quando guardava tramontare il sole."
      ],
      "text/plain": [
       "<IPython.core.display.Markdown object>"
      ]
     },
     "metadata": {},
     "output_type": "display_data"
    },
    {
     "data": {
      "text/markdown": [
       "Rimane lucido, **terribilmente** lucido."
      ],
      "text/plain": [
       "<IPython.core.display.Markdown object>"
      ]
     },
     "metadata": {},
     "output_type": "display_data"
    },
    {
     "data": {
      "text/markdown": [
       "Mi sentivo **terribilmente** in colpa."
      ],
      "text/plain": [
       "<IPython.core.display.Markdown object>"
      ]
     },
     "metadata": {},
     "output_type": "display_data"
    },
    {
     "data": {
      "text/markdown": [
       "Ho telefonato a mio padre, mandato un messaggio a un amico che mi aveva incoraggiato a tenere duro e ho scrittoe migliaia di industrie di guerra si raccoglie in una bomba di sovraterrena potenza, che mette al bivio: o essere **terribilmente** violenti o essere inferiori sul piano della forza."
      ],
      "text/plain": [
       "<IPython.core.display.Markdown object>"
      ]
     },
     "metadata": {},
     "output_type": "display_data"
    },
    {
     "data": {
      "text/markdown": [
       "Ho avuto uan giornata molto pesante e sono **terribilmente** stanca\"."
      ],
      "text/plain": [
       "<IPython.core.display.Markdown object>"
      ]
     },
     "metadata": {},
     "output_type": "display_data"
    },
    {
     "data": {
      "text/markdown": [
       "Chi sa perché, il vedermi diventare di punto in bianco un marito esemplare, le diede **terribilmente** ai nervi."
      ],
      "text/plain": [
       "<IPython.core.display.Markdown object>"
      ]
     },
     "metadata": {},
     "output_type": "display_data"
    },
    {
     "data": {
      "text/markdown": [
       "Lei, sempre ingrugnata, spinosa, irrequieta; io, paziente, un po'' perche gira a Davos è questa, la strada per \"liberarsi\" del Governatore di via Nazionale è una partita internazionale **terribilmente** complessa."
      ],
      "text/plain": [
       "<IPython.core.display.Markdown object>"
      ]
     },
     "metadata": {},
     "output_type": "display_data"
    },
    {
     "data": {
      "text/markdown": [
       "Un''ultima giornata che non t''da parte le ragioni della sana alimentazione per riflettere invece sul rapporto con la fame nel mondo: questione **terribilmente** complessa, certamente, ma legata anche alle nostre scelte quotidiane, comprese quelle che compiamo a tavola."
      ],
      "text/plain": [
       "<IPython.core.display.Markdown object>"
      ]
     },
     "metadata": {},
     "output_type": "display_data"
    },
    {
     "data": {
      "text/markdown": [
       "Senzavedono solo un agglomerato di mancanze, tanto che alla fine si rimane fermi, pieni di un elenco di difetti altrui e **terribilmente** cinici."
      ],
      "text/plain": [
       "<IPython.core.display.Markdown object>"
      ]
     },
     "metadata": {},
     "output_type": "display_data"
    },
    {
     "data": {
      "text/markdown": [
       "I preti che hanno ottenuto tali riconoscimenti sono così **terribilmente** reazionari e di destra che sono anche negazionisti della Shoah."
      ],
      "text/plain": [
       "<IPython.core.display.Markdown object>"
      ]
     },
     "metadata": {},
     "output_type": "display_data"
    },
    {
     "data": {
      "text/markdown": [
       "In certo modo si potrebbe dire che il movimentoscelta individuale), il \"maestro dell´antiliberalismo\" Jean-Jacques Rousseau, Fichte (con la sua metafisica così **terribilmente** nazionalista e germanica, alla base della successiva funesta storia tedesca), Hegel (la cui coincidenza diultimi, veri \"uomini selvaggi\" del Borneo."
      ],
      "text/plain": [
       "<IPython.core.display.Markdown object>"
      ]
     },
     "metadata": {},
     "output_type": "display_data"
    },
    {
     "data": {
      "text/markdown": [
       "Sono gli Iban, ancora temuti dalle altre tribù d''etnia Dayak, guerrieri **terribilmente** fieri della propria identità culturale, simbolizzata dalle decorazioni dei loro inseparabili parang, una specie dicome sgorga da sotto il vulcano devi andare a Ischia, secondo me un paradiso terrestre."
      ],
      "text/plain": [
       "<IPython.core.display.Markdown object>"
      ]
     },
     "metadata": {},
     "output_type": "display_data"
    },
    {
     "data": {
      "text/markdown": [
       "o anche a saturnia dove puzza **terribilmente** ma godi da morì."
      ],
      "text/plain": [
       "<IPython.core.display.Markdown object>"
      ]
     },
     "metadata": {},
     "output_type": "display_data"
    },
    {
     "data": {
      "text/markdown": [
       "Saluti FB Il Milan invece, non fosse stato per Ibra sul quale mi soffermerò dopo, mi sembra **terribilmente** uguale a se stesso, immutabile nei suoi equivoci, irritante nella sua lentezza, incomprensibile in alcune NON) Titolo: Re: Lucciolii Post di ekinos il 11/04/07 alle ore 19:42:26 \" Nulla mi rifiuterà d''esistere se credo **terribilmente** \" ( Pietro Jahier ) Titolo: Re: Lucciolii Post di digrumante il 12/19/08 alle ore 16:44:17 \"Chi più ama è soccombente\"egli ha donato qualcosa di prezioso e di raro che tutti conserveremo in fondo al cuore, e a me in particolare mancheranno **terribilmente** quelle sue telefonate che invariabilmente concludeva con le parole: \"Ti voglio bene Antonio\" ed io replicavo \"Anchepiccolo..magari pensa che essendo più piccolo qualcuno lo porti via di lì."
      ],
      "text/plain": [
       "<IPython.core.display.Markdown object>"
      ]
     },
     "metadata": {},
     "output_type": "display_data"
    },
    {
     "data": {
      "text/markdown": [
       "Questa deliziosa cagnolina sta soffrendo **terribilmente** la reclusione."
      ],
      "text/plain": [
       "<IPython.core.display.Markdown object>"
      ]
     },
     "metadata": {},
     "output_type": "display_data"
    },
    {
     "data": {
      "text/markdown": [
       "La signora la libera solonostro futuro più prossimo, dando così vita ad un''analisi serrata e per tanti versi catastrofica, ma al tempo stessa **terribilmente** veritiera e ben documentata."
      ],
      "text/plain": [
       "<IPython.core.display.Markdown object>"
      ]
     },
     "metadata": {},
     "output_type": "display_data"
    },
    {
     "data": {
      "text/markdown": [
       "Guadagnavo una miseria, ma mi divertivo **terribilmente** ."
      ],
      "text/plain": [
       "<IPython.core.display.Markdown object>"
      ]
     },
     "metadata": {},
     "output_type": "display_data"
    },
    {
     "data": {
      "text/markdown": [
       "I cinque americani saranno anche rozzi, sgraziati, ruvidi nell´impatto ma suonano **terribilmente** veri e convinti: quindi onore a Loro e alla Loro attitudine invincibile."
      ],
      "text/plain": [
       "<IPython.core.display.Markdown object>"
      ]
     },
     "metadata": {},
     "output_type": "display_data"
    },
    {
     "data": {
      "text/markdown": [
       "Indubitabilmente una maggiore cura nelladella televisione Italiana sia stata partorita iniziativa più insulsa ed inutile, dispendiosa per i contribuenti e **terribilmente** poco educativa, anche sotto l´aspetto dell´intrattenimento... poca roba, riciclare dei presunti vip e raschiare ilsi diventa scultori."
      ],
      "text/plain": [
       "<IPython.core.display.Markdown object>"
      ]
     },
     "metadata": {},
     "output_type": "display_data"
    },
    {
     "data": {
      "text/markdown": [
       "Trovo il passato **terribilmente** doloroso sebbene ci sia legata."
      ],
      "text/plain": [
       "<IPython.core.display.Markdown object>"
      ]
     },
     "metadata": {},
     "output_type": "display_data"
    },
    {
     "data": {
      "text/markdown": [
       "La velocità con cui i mutamenti avvengono è infatti **terribilmente** aumentata ."
      ],
      "text/plain": [
       "<IPython.core.display.Markdown object>"
      ]
     },
     "metadata": {},
     "output_type": "display_data"
    },
    {
     "data": {
      "text/markdown": [
       "In vendita a partire dal prossimo anno la A4 è più arrotondata, più compatta e **terribilmente** simile in molti elementi alla celebre TT (soprattutto in dettagli come il muso, la linea di cintura rialzata e la coda, qual''è il Centro o l''Ospedale maggiormente attrezzato e specializzato in ortopedia."
      ],
      "text/plain": [
       "<IPython.core.display.Markdown object>"
      ]
     },
     "metadata": {},
     "output_type": "display_data"
    },
    {
     "data": {
      "text/markdown": [
       "Mia madre infatti soffre **terribilmente** di dolori alle ginocchia ma i dottori finora interpellati (facendo anche la TAC) si sono limitati a dare cure senzadi difesa psicotici."
      ],
      "text/plain": [
       "<IPython.core.display.Markdown object>"
      ]
     },
     "metadata": {},
     "output_type": "display_data"
    },
    {
     "data": {
      "text/markdown": [
       "Un blog emo Questo blog è diventato **terribilmente** passivo."
      ],
      "text/plain": [
       "<IPython.core.display.Markdown object>"
      ]
     },
     "metadata": {},
     "output_type": "display_data"
    },
    {
     "data": {
      "text/markdown": [
       "E però, \"doveva esser stato **terribilmente** infelice se abitualmente fantasticava su come la vita avrebbe potuto essere se solo non avesse chiuso cosìalla biblioteca - che è aperta solo due pomeriggi alla settimana - è una tal Petronilli [...] una signorina gentile ma **terribilmente** apprensiva, e ogni volta che chiedi in prestito o in visione qualcosa hai l''impressione di levarle il pane di bocca odi una sfumatura più cupa la sua lama."
      ],
      "text/plain": [
       "<IPython.core.display.Markdown object>"
      ]
     },
     "metadata": {},
     "output_type": "display_data"
    },
    {
     "data": {
      "text/markdown": [
       "Gli uomini che il Marchese aveva messo a sua disposizione erano circa un migliaio, **terribilmente** pochi, per lui che conosceva la minaccia da affrontare."
      ],
      "text/plain": [
       "<IPython.core.display.Markdown object>"
      ]
     },
     "metadata": {},
     "output_type": "display_data"
    },
    {
     "data": {
      "text/markdown": [
       "“Non scherzate su queste cose” la voce di Bulgheroni si era fatta **terribilmente** seria."
      ],
      "text/plain": [
       "<IPython.core.display.Markdown object>"
      ]
     },
     "metadata": {},
     "output_type": "display_data"
    },
    {
     "data": {
      "text/markdown": [
       "Secondo Fammoni, quindi, \"la crisi c´è, ed è **terribilmente** reale e bisogna fare di più: non è accettabile affermare che è stato già fatto tutto il possibile."
      ],
      "text/plain": [
       "<IPython.core.display.Markdown object>"
      ]
     },
     "metadata": {},
     "output_type": "display_data"
    },
    {
     "data": {
      "text/markdown": [
       "Immagini che si materializzano davanti a noi come cartoline in bianco e nero di una New York viva, struggente e **terribilmente** affascinante."
      ],
      "text/plain": [
       "<IPython.core.display.Markdown object>"
      ]
     },
     "metadata": {},
     "output_type": "display_data"
    },
    {
     "data": {
      "text/markdown": [
       "E questo - venendo dopo la caduta del Muro di Berlino - ha sconcertato e **terribilmente** intorbidato le acque in cui deve nuotare la cosiddetta \"seconda Repubblica\" Molti riconoscono al primo Craxi valideAsia, è anche Ettore Artioli, vicepresidente di Confindustria per il Mezzogiorno, secondo cui: \"La Cina, paese che ci spaventa , che critichiamo, che condiziona la nostra economia, cresce però a ritmo sostenuto grazie alla sua capacità di, Laureen Bacall e Dan Aykroyd."
      ],
      "text/plain": [
       "<IPython.core.display.Markdown object>"
      ]
     },
     "metadata": {},
     "output_type": "display_data"
    },
    {
     "data": {
      "text/markdown": [
       "Spesso la pena si può tradurre con forme alternative di sanzione, di punizione, che sono giocate molto sull´impegno sociale,25 h. 21.00 e Domenica 29 h. 14.30 ) a firma Nanni Moretti, praticamente la metaforica cronaca, forse poco morettiana ma **terribilmente** incisiva, del dramma privato di un \"alieno\" sullo sfondo di un´Italia a brandelli, dilaniata dagli insaziabilistrutturati (detti volgarmente spazzatura) è pieno di difetti che il Congresso ha cercato di ridurre: è un piano **terribilmente** opaco, per curare una crisi nata proprio dall´opacità."
      ],
      "text/plain": [
       "<IPython.core.display.Markdown object>"
      ]
     },
     "metadata": {},
     "output_type": "display_data"
    },
    {
     "data": {
      "text/markdown": [
       "La seconda parte del film poi è ancora peggiore perché con la sua prevedibilità rende la storia scontata e la pellicola **terribilmente** lenta."
      ],
      "text/plain": [
       "<IPython.core.display.Markdown object>"
      ]
     },
     "metadata": {},
     "output_type": "display_data"
    },
    {
     "data": {
      "text/markdown": [
       "Il risultato è tanto deludente(n) (if (or (= n 1) (= n 2)) 1 (+ (fib (- n 1)) (fib (- n 2))))) che va calcolare più e più volte gli stessi valori in una maniera **terribilmente** inefficiente!"
      ],
      "text/plain": [
       "<IPython.core.display.Markdown object>"
      ]
     },
     "metadata": {},
     "output_type": "display_data"
    },
    {
     "data": {
      "text/markdown": [
       "mi dispiace **terribilmente** per quello che ti è successo, davvero."
      ],
      "text/plain": [
       "<IPython.core.display.Markdown object>"
      ]
     },
     "metadata": {},
     "output_type": "display_data"
    },
    {
     "data": {
      "text/markdown": [
       "puoi perdonare, ma noninsolito per noi, il poggiatesta che faceva le veci del nostro cuscino, e si sarà chiesto se questo non risultasse **terribilmente** scomodo."
      ],
      "text/plain": [
       "<IPython.core.display.Markdown object>"
      ]
     },
     "metadata": {},
     "output_type": "display_data"
    },
    {
     "data": {
      "text/markdown": [
       "La battuta ha un fondo di verità anche perché i libri sono **terribilmente** costosi, rapportati ai miseri salari di qui."
      ],
      "text/plain": [
       "<IPython.core.display.Markdown object>"
      ]
     },
     "metadata": {},
     "output_type": "display_data"
    },
    {
     "data": {
      "text/markdown": [
       "1935.Con una grande varietà di scuole Tandem è presente in tutto il mondo.Con una connessione ISDN il caricamento è pressoché istantaneo.Con una fighetta cosi carina, pochi uomini si lascerebbero pregare.Controllate se ci sono perdite * Se ci sono perdite, svuotate la barrique lasciandola asciugare completamente (per circa un’ora).Controllo Disponibilitï¿½ Sistema online facile & veloce da usare La Cucina del Flavor of Italy Sapori genuini e prelibati..CONTROLLO QUALITà DELLE LAVORAZIONI La verità è semplice ed è sempre dentro di noi..Contro ogni aspettativa la sua salma non fu cremata ma rilasciata, traslata a Berlino e seppellita al vecchio cimitero della cattedrale di Sant'Edvige dopo una messa a requiem pontificale nella chiesa di S. Sebastiano il 16 novembre 1943.Contro tale sentenza ha proposto ricorso per cassazione XX, in base a un motivo, poi illustrato anche con memoria.Contro una squadra ostica come il Barano, la vittoria di misura però non è un \"dramma\" per gli atellani che continuano a guardare tutti dall'alto..Controllate anche questo nel menu.Anche una piccolapiccola.Anche un adulto qualche volta sbaglia, ma è in grado di compensare meglio l'errore.Anche tutti i pacchetti in offerta possono essere regalati come voucher!A conclusione del ciclo di 5 incontri formativi, è stato distribuito un questionario di valutazione complessiva del modulo (bisogni e aspettative; efficacia della formazione; aspetti organizzativi).A conclusione del laboratorio l'organizzazione si riserva la facoltà di presentare al pubblico, all'interno delle giornate di “Scenica 2011”, uno studio sul lavoro svolto.Attiviamo progetti di sviluppo che perseguono un ideale preciso: contribuire alla realizzazione di un contesto sociale, culturale, economico dove trovare una maggior equità e giustizia, più serenità e positività, soddisfazione e gratificazione.Attivazione di PaginaCliente, il monitoraggio in tempo reale delle attività di assistenza ai clienti.Attiva un sostegno ora!Attivare questa opzione se la telecamera deve reagire a tali eventi.A conclusione dei lavori tutto il materiale è stato caricato su una piattaforma webTV dedicata all'evento.Attivare l'opzione Elimina gruppo per i gruppi da cancellare e fare clic su Imposta nella parte inferiore della finestra di dialogo.Attiva lo strumento Testo seleziona un font e scrivi il tuo nome.Attiva lo strumento Testo e scrivi il tuo nome sull'etichetta.Attiva lo strumento Forme Predefinite e scegli Forme simmetriche.E domani sera nel recupero contro il Parma, c'è la possibilità di chiudere definitivamente o quasi il discorso scudetto per poi concentrarsi solo sulla Champions League.Attiva il livello \"Tekst Merry Christmas\".Attiva il livello originale della cornice e cancella la parte di cornice sopra la testa del tube.Attivando i segnali si otterranno informazioni aggiuntive sul luogo sotto forma di immagini e testi o anche di filmati.Allo stesso tempo, vi siete fatti un buon amico!Allo stesso tempo ogni classe sará assistita per un socio del progetto, un’ associazione, un’ autoritá specializzata o per una dita.Affermazione positiva salvezza.Certo la nuvolaglia all'orizzonte non ci ha permesso di godere dello spettacolare panorama che solitamente si può ammirare da qua sopra.Contro gli asili nido - Petizioni Online → “La difficoltà di conciliazione tra famiglia e lavoro continua a rappresentare uno dei principali problemi per le famiglie italiane.CONTROCHIAVE tornerà tra i lotti, le strade, i vicoli e le piazze della GARBATELLA.Controlla la tua WinTV con il pratico Telecomando incluso.Contribuzione per l'organizzazione di corsi di Musica per recupero e costituzione di un corpo bandistico.Contribuite ad ampliare gli skateparks scrivendomi un e-mail.Contribuisci anche tu a mantenere vivo questo sito Dichiaro che quanto sopra è veritiero e corretto, in base alle leggi vigenti che regolano la falsa testimonianza negli Stati Uniti d'America e nello stato della Florida.Contribuisci a difendere questo sito e il suo importante ruolo informativo facendo una una Mi ero segnata Scientology nell'elenco dei possibili argomenti su cui scrivere.Con Traveleurope, portale internet specializzato nella prenotazione alberghiera, abbiamo progettato il primo portale dedicato esclusivamente alla commercializzazione di Residence e Case Vacanze.Contro i monopoli, una novità piacevole per navigare nella rete.Contro la decisione del sindaco del capoluogo piceno si sono schierate anche alcune locali organizzazioni sindacali di categoria, che hanno denunciato una violazione dell?Contro la delibera di non accettazione è ammesso il ricorso all'assemblea generale che decide a maggioranza.Controlla gli accessi verso internet della tua azienda, e difendi la rete locale configurando il modulo Firewall secondo le tue esigenze.Controllai l'orologio, posizionandolo secondo l'indicazione del telegiornale locale.Cervi, pavoni, fiori, danze assumono forme simboliche dai vivaci colori un tempo estratti dal erbe, da bacche e da foglie.Anchor Pins o Bio Pins per assicurare le giunzioni.Attiva il livello \"erba\".Anche Valeria e Stefania che non bevono birra l’ultimo giorno si sono ritrovate con tre boccali di mezze pinte davanti a loro… mi manca **terribilmente**.C'è tanto materiale.C'è un'altro elemento curioso che accomuna le due storie: Corradino D'Ascanio (Vespa) era Ingegnere Aeronautico e Pierluigi Torre (Lambretta) era un Ingegnere in forza al Centro Sperimentale Aeronautico.C'è una madre viva, vecchia e dispotica.150 estrazioni (esempio) e stanno magari ora tardando da 30 e più estrazioni.C’è un capo naturalmente, burbero, diffidente, violento.C'è un forte interesse cinese per l'ingegneria italiana, il design, la moda, ecc."
      ],
      "text/plain": [
       "<IPython.core.display.Markdown object>"
      ]
     },
     "metadata": {},
     "output_type": "display_data"
    },
    {
     "data": {
      "text/markdown": [
       "La stessa cartolina che a noi italiani oggi appare **terribilmente** sbiadita, ma in Russia continua a funzionare."
      ],
      "text/plain": [
       "<IPython.core.display.Markdown object>"
      ]
     },
     "metadata": {},
     "output_type": "display_data"
    },
    {
     "data": {
      "text/markdown": [
       "Comunque sono **terribilmente** snob e formali ma rispetto all''italiano medio si vestono piuttosto male."
      ],
      "text/plain": [
       "<IPython.core.display.Markdown object>"
      ]
     },
     "metadata": {},
     "output_type": "display_data"
    },
    {
     "data": {
      "text/markdown": [
       "Ã ancora grave, ma grazieun gioco \"folle\", (divertente perchè divertito), in ultimo, quanto e come i \"padri nostri\", possano venirci **terribilmente** a mancare."
      ],
      "text/plain": [
       "<IPython.core.display.Markdown object>"
      ]
     },
     "metadata": {},
     "output_type": "display_data"
    },
    {
     "data": {
      "text/markdown": [
       "Dall’atteggiamento degli operai e dalla loro postura curva appariva chiaro che il contenitore era **terribilmente** pesante nonostante le ridotte dimensioni."
      ],
      "text/plain": [
       "<IPython.core.display.Markdown object>"
      ]
     },
     "metadata": {},
     "output_type": "display_data"
    },
    {
     "data": {
      "text/markdown": [
       "non ha nulla da rivendicare e chiedere.La piccola è morta in seguito a una setticemia l´altra notte all´ospedale dei Bambini di Palermo, dove è arrivata in gravi condizioni nella serata di martedì scorso.La piccola è andata in arresto cardiaco, ma è stata rianimata dai sanitari del 118 che sono intervenuti in borgata Bella Vita e, con l'elisoccorso, l'hanno trasportata al Regina Margherita di Torino.L’appello è dunque ad una «normalizzazione» dei rapporti con l’amministrazione pubblica.L'Apple Watch, l'orologio smart che segna l'ingresso di Cupertino nel campo della moda, ha fatto il..La perdita delle culture indigena Oltre ai danni fisici e ambientali, lo sfruttamento della Texaco ha prodotto la perdita della cultura delle comunità indigene che abitano la zona.LaPresse La Nazionale ha mostrato personalità contro i campioni del mondo: Daniele a centrocampo è molto ispirato e il Gallo è ormai il centravanti di questa squadra.LaPresse Colorati e rumorosi: ecco il popolo bianconero allo stadio Brunod di Chatillon.LaPresse Balo con il capellino dei Knicks.LaPresseancora una volta inzaghi — Ma la ripresa è altra cosa.La presidenza propone di procedere ad un dibattito preliminare sul budget di programma in occasione del Consiglio di novembre, come proposto dalla Commissione alla riunione di fine luglio.La presidenza del Consiglio ha anche un canale per i video su YouTube e una galleria continuamente aggiornata di immagini su Flickr.La presidente Dilma Roussef, che era presidente del consiglio di amministrazione di Petrobras nel periodo in cui si sono verificati gli episodi di corruzione, non sarebbe coinvolta nell’inchiesta.LaPresse Sorride l’Udinese, che oggi ha ritrovato in gruppo in un colpo solo Piris, Heurtaux e Wague.LaPresse — Si comincia questo pomeriggio alle 18, stadio Luigi Ferraris di Genova.LaPresse \"Se non è motivato, è inutile trattenerlo\".LaPresseSabato c'è l'Udinese e il clima in casa Roma è davvero sereno.L'approvazione del provvedimento è avvenuta all'unanimità.L'approvazione definitiva - ricorda il Municipio - compete alla Commissione provinciale di vigilanza per il pubblico spettacolo che, soppressa con la Finanziaria nazionale dell'anno scorso, è stata reintrodotta dalla legge di stabilità.L'approccio a questa disinformazione vuole essere quello della condivisione e della trasparenza».L’appoggio ricevuto dal sindaco di Corvallis e da tantissima gente hanno però rincuorato David Lin: «Non me lo sarei mai aspettato.La prassi usuale è che questi parenti/amici dei migranti mandano un \"fax\" a padre Gaspare per sollecitarne la partenza.La pratica di vendita delle polizze Ppi (Payment Protection Insurance) in abbinamento ai mutui è un ricco business per distributori, a cui vengono retrocesse ricche commissioni (si supera il 50% dei premi versati dai consumatori).La Prefettura competente non ritiene necessario dare l'allarme alla cittadinanza per un incendio in una raffineria, a due passi dalle case, che ha impegnato squadre antincendio, forze dell'ordine e protezione civile per 17 ore.La preghiera del MattinoAleppo e la strana “svista” americana «La Germania subirà una mini-recessione ma la sua industria va benissimo.La premessa è più che mai doverosa perché la stagione della Scaligera è stata contraddistinta da una prima parte stellare e da un finale da tragedia.La preghiera del MattinoAleppo e la strana “svista” americana Vita, crimini e resurrezione di John Pridmore, gangster londinese convertito Il racconto dell'ex criminale: «Avevo un attico, donne, auto, e non riuscivo a spendere tutti i soldi che avevo.La preghiera del MattinoAleppo e la strana “svista” americana Un giorno d’estate a Locarno per il Festival del film più chic e snob.La preghiera del MattinoAleppo e la strana “svista” americana Thomas Merton, il genio scapestrato conquistato da un Dio «**terribilmente** solido» Destinato al successo mondano, conobbe la goliardia prima di diventare monaco trappista.La preghiera del MattinoAleppo e la strana “svista” americana Tav, aggressione «quasi terrorista».La preghiera del MattinoAleppo e la strana “svista” americana Sull’alternanza scuola-lavoro la Germania è un modello.La preghiera del MattinoAleppo e la strana “svista” americana Quanto dovranno attendere le paritarie per i fondi statali che (in ritardo) la Lombardia ha iniziato a stanziare?La preghiera del MattinoAleppo e la strana “svista” americana «Poi invaderete Roma, e Allah vi darà la forza per conquistarla» Perché il Califfo vuole proprio Roma e non Parigi o Londra?La preghiera del MattinoAleppo e la strana “svista” americana Le VideoGallery con tag autogol Maradona, Becks e Chilavert.La preghiera del MattinoAleppo e la strana “svista” americana IS avanza in Siria, Al Nusra attacca il Libano.La preghiera dei fedeli si è concentrata sulla Chiesa italiana e non solo.La preghiera del MattinoAleppo e la strana “svista” americana In arrivo nuove serie tv ma non affezionatevi troppo, la loro fine potrebbe essere già scritta Ricomincia la stagione televisiva.La preghiera del MattinoAleppo e la strana “svista” americana Foto erotiche fra adolescenti.La preghiera del MattinoAleppo e la strana “svista” americana Due marò italiani arrestati in India per omicidio.La preghiera del MattinoAleppo e la strana “svista” americana Dossier – L’EUR ieri, oggi, e si spera anche domani Expo 2015, ritardi per la M4?La preghiera del MattinoAleppo e la strana “svista” americana Donare perché il sangue è unico.La preghiera del MattinoAleppo e la strana “svista” americana Derry, ancora ragazzini negli scontri con la polizia Sassi e bottiglie contro le camionette della PSNI.L'approvazione di questa convenzione Notizie/Bolivia-referendum-sul-gas-e-voci-contro-l-immunita-75703 Italia: dal 2 al 4 giugno, mobilit-azioni e bandiere del 2 giugno e l'arrivo di Bush sta riscaldando il clima del mondo per la pace.La riscoperta del patrimonio culinario locale passerà attraverso pici all’agliata, al ragù e ai funghi, “lumacci” in umido, antipasti e contorni e sarà accompagnato da buon vino, musica dal vivo e canti popolari.L’appuntamento alla Casa bianca è venuto in concomitanza di una visita del ministro degli Esteri turco Mevlut Cavusoglu.L'appuntamento con la Convention ha quindi l'obiettivo di ripercorrere il lavoro di ActionAid e l'evoluzione del suo ruolo.Lapresse ROMA, 15 marzo 2009 - Recupero e bagno di folla per la nazionale all'indomani della sconfitta contro il Galles nel quarto turno del Sei Nazioni.LaPresse Ragione e sentimento — \"Date tempo a Seedorf e ne usciremo, non si può criticare un allenatore dopo due mesi.LaPresse — Quei pochi spendibili che ci sono serviranno a rafforzare la difesa.LaPresse — Poco più di tre mesi fa Sassuolo e Livorno si erano giocate la promozione in Serie A."
      ],
      "text/plain": [
       "<IPython.core.display.Markdown object>"
      ]
     },
     "metadata": {},
     "output_type": "display_data"
    },
    {
     "data": {
      "text/markdown": [
       "Garcia?De Thuin aveva annunciato di volere favorire la riflessione, la discussione, il pragmatismo francese: “fare” qualcosa per rilanciare la Francia.Detroit 2015: Chevrolet Bolt EV - TuttosportDetroit 2015: Chevrolet Bolt EVIl brand General Motors ha svelato al NAIAS un prototipo di citycar elettrica con un'autonomia di ben 320 km.Detta da un ufficiale della Difesa israeliana, che è in tensione perenne con i programmi atomici degli altri, la metafora nucleare sull’incitement suona seria.Dettagli irrilevanti per il pubblico del Franchi, che torna a sognare in grande.Detto ciò, nel calcio l'allenatore è sempre legato ai risultati\".Detto ciò, se il parcheggio fosse stato gestito dal comune di Como, siamo sicuri che il costo sarebbe stato inferiore a quello applicato da Montano Lucino?Detto così, non rendo assolutamente giustizia alla loro unicità.Detto dell’attacco e della situazione, in particolare, di Alexis Sanchez, l’ad Beppe Marotta e il ds Fabio Paratici proseguono il lavoro di valutazione che prece- de l’assalto finale al prossi- mo big.Detto fatto: l'Authority sta già valutando se aprire l'istruttoria.Detto in sintesi, la Procura generale non solo chiede alla Cassazione di dare un parere sulla sentenza milanese, ma chiede ai giudici milanesi di sospendere l’esecutività della sentenza in attesa che la Cassazione si pronunci.Devo dar merito alle ragazze, a tutto lo staff e alla federazione, che sta dimostrando di credere nella crescita del calcio femminile\".Devo decidere se farlo giocare dall’inizio o se inventarmi qualcosa di nuovo”.Dice l´avvocato Roberto Tricoli: «Al momento, è importante ribadire che il tribunale del riesame ha accolto la nostra ricostruzione, ridimensionando tutta la vicenda».Diamogli un po' di attenzione.Diamond Dogs: il post punk napoletano entra al museo C'era una volta il Diamond Dogs: le foto di Toty Ruggieri raccontano il..Diamond è l’elemento dai piedi buoni della squadra, pronto con la sua qualità a servire palloni ai giocatori offensivi come Ted Carter e il centravanti Johnny Mason.Diana aveva massacrato i suoi genitori in casa, a bastonate e coltellate.Diana poi incontrò la sua nuova fiamma, Dodi Al Fayed, col quale morì nell’incidente automobilistico del 1997.Diana trova il nodo da sciogliere «Manca soprattutto costanza»Ron Moss salta, ma non abbastanza per fermare il volo dei sardi Si può essere contenti davanti ad una sconfitta?Di antipasto fioroni di zucca, di primo bersani al ragù, di secondo veltroniani allo spiedo con contorno di finocchiaro, per dolce un bel gelato al fior di letta il tutto annaffiato da un bicchiere di D'Alema del '98».Diaz tiene alto lo stendardo della ormai lunga storia del cinema d’autore filippino.Di Battista - Pd, scontro a carte bollate Sport & Malattie RareAffari.Di Battista: \"Salvini sii coerente\" \"Doveva cambiare tutto dopo Formigoni e invece non è stato così\".Di belle sorprese dalla trasferta di Reggio Emilia non se ne attendevano.Devo ringraziare anche gli sponsor, in primis Delio Gallina, da quasi mezzo secolo nel ciclismo, prima come corridore, poi come tecnico e infine come sponsor».Detersione mattina e sera, regolare, è il primo step sempre valido ad ogni stagione.Devo tanto a Milano, la città dove sono cresciuti i miei figli”.De Zerbi ha anche una clausola per la quale se dovessi esonerarlo prenderebbe 500 mila euro\".La prova del nove per capire chi siamo e dove possiamo andare.La prova di laboratorio che suggerisce questo effetto è stata presentata al meeting dell'American Thoracic Society International Conference in corso a San Diego.La prova tv verrà impiegata dalla Uefa per decidere l'entità della squalifica.La Provincia di Ascoli, che gestisce gli edifici delle scuole superiori, intende poi utilizzare la struttura, nei mesi di luglio e agosto, come ostello della gioventù.La Provincia di Cosenza mette in vendita fabbricati e terreni Cosenza, la Polizia Provinciale trova una rara martora, deceduta giovani sposi scatenano un pandemonio, ma è una trovata pubblicitaria di..La “pubblicità progresso” chi la vuole se la paghi.La prossima settimana, come ha annunciato questa mattina in Commissione bilancio il direttore delle entrate Mauro Cammarata, la Commissione aggiudicherà il servizio.La prossima riunione è prevista i prossimi 15 e 16 dicembre.La prossima partita Lunedì 20 ottobre alle ore 21,00 in casa contro Piombino a punteggio pieno dopo 3 giornate come il Pool Firenze.«Attraverso un'azione decisa e condivisa dobbiamo mettere fine alla violenza settaria in Iraq e in Siria» ha scritto ancora il ministro.Attorno a noi ci sono reati consistenti.La prova, concreta, si trova, nel nostro territorio, con un’occhiata alla quantità di saracinesche abbassate anche nei centri più grandi, anche nello stesso centro storico del capoluogo.Attorno frutteti, mentre nel laghetto si fa pesca sportiva.Attraverso il microchip del setter, i militari sono risaliti all’uomo di Properpio.Attraverso il programma, i telespettatori potranno diventare \"Amici dell'UNICEF\" regalando un contributo mensile.Attraverso l'AdnKronos Salute l'esperta si rivolge a Potrebbe passare alla storia diventando il primo ministro della Salute a colmare questa grave lacuna\" che minaccia il sorriso degli italiani.Attraverso l'utilizzo di un'autoscala vengono effettuati anche interventi speciali, come lo smantellamento di comignoli e ringhiere pericolanti.Attraverso nuove prove che la vita pone loro davanti, scoprono sempre nuovi aspetti delle loro personalità e del loro legame.Attraverso sei differenti missioni sarà possibile saperne di più sull'attività finanziate dal World Food Programme.Attraverso una porta sfondata che si affaccia direttamente sulla strada, entriamo in una baracca ricavata nell'atrio della prima palazzina.Attraverso un sapiente e rapido montaggio, appariva ogni tanto la faccia di Berlinguer a riassumere tanta malvagità.La prossima nazione sarà la Scozia.Attribuire il deragliamento alla rottura del fusello è solo un punto di partenza.Attributi che probabilmente le vengono dai geni: Cristiana ha la mamma ebrea.Attraverso 36 presentazioni saranno illustrati quali sono gli stimoli che arrivano dal mercato e che il privato illustrerà alla platea, con l’intenzione di stimolare e rendere partecipe il mondo accademico.La Protezione civile regionale ha elevato ad Allerta 2, quello massimo, lo stato di attenzione per le zone del Tigullio e dello Spezzino.La protesta sembra quindi destinata a continuare, nonostante le notizie giunte dal Ministero sulle due manifestazioni di interesse.La protesta e il lancio di uovaera ospite alla libreria Mondadori di Piazza Garibaldi, nel centro di Padova, per presentare il suo libro \"Secondo Matteo\".Dezi col Perugia, De Laurentis in vacanza non firmaPERUGIA - Domanda: perchè il Perugia non ha ufficializzato l'arrivo di Jacopo Dezi?De Zordo e Grassi: \"Sostegno al Comitato nel ricorso al Tar contro il Mostro del Poggetto\"… giovedì 04 febbraio 2010 ore 18:28 Bosi (Udc): ''Il Pdl rinuncia a vincere''REGIONALI 2010.De Zordo e Pieri: Sulle busvie incremento da € 100.000 a 500.000Bosi (FI): Perche' il Comune non ha partecipato alla ripartizione dei fondi a diretta gestione statale dell'8 per mille?De Zordo: \"Si rilanci la politica culturale dell'Ente\"… lunedì 18 giugno 2012 ore 15:53 L’Università di Firenze celebra Amerigo VespucciCENTENARIO.Diabolus in politica - PanoramaDiabolus in politica Federica Mogherini: in Europa conta poco, per Renzi moltoRappresenta per il presidente del Consiglio ciò che Incitatus era per Caligola: una nomina per mostrare il potere Fitto come Fini?Diagnostica in rete: ridurre le liste di attesa, ottimizzando le risorse Legionella, stamattina incontro con i dipendenti di via Alderotti Scaramuccia: ''Il movimento è salute, a qualsiasi età'' Decesso choc all’ospedale di Pistoia.Diakité, Carbonero e Sala continuano a seguire i rispettivi programmi di recupero.Dialogare, anche perché il problema, **terribilmente** reale, da cui partire è quello del lavoro.La risposta indigena è stata immediata.La Regione, infatti, secondo il pm Fusco aveva sforato i limiti che obbligavano a tagliare del 50% il budget per le collaborazioni esterne.La risposta è stata inappellabile: non vi è mescolamento, le acque vengono solo trasportate sulle stesse condutture..La puntata delle polemiche e gli incidenti hot del reality di Canale 5 registra dati positivi: davanti al video 4.226.000 spettatori pari al 21.87% di share.La prossima settimana confronto con governo e sindacati.La prossima settimana, dal 5 al 13 luglio - ha detto poi all' l'Angelus - parto in Ecuador, Bolivia e Paraguay."
      ],
      "text/plain": [
       "<IPython.core.display.Markdown object>"
      ]
     },
     "metadata": {},
     "output_type": "display_data"
    },
    {
     "data": {
      "text/markdown": [
       "I Guardiani compariranno in Avengers: Infinity War ed è una cosa **terribilmente** eccitante."
      ],
      "text/plain": [
       "<IPython.core.display.Markdown object>"
      ]
     },
     "metadata": {},
     "output_type": "display_data"
    },
    {
     "data": {
      "text/markdown": [
       "(Segue)  Pescara, Oddo: \"Serve una vittoria, ci manca **terribilmente** \"  Il tecnico del Pescara Massimo Oddo commenta così a Sky Sport la gara persa per 3-0 in casa della Juventus: \"È un po'' il."
      ],
      "text/plain": [
       "<IPython.core.display.Markdown object>"
      ]
     },
     "metadata": {},
     "output_type": "display_data"
    },
    {
     "data": {
      "text/markdown": [
       "Il \"regolamento\" del cartello prevedeva sanzioni perprecoce del settore giovanile dell''Ajax, uno dei più importanti e prolifici del mondo, il giocatore assomiglia **terribilmente** al primo Cristiano Ronaldo, capace di ubriacare gli avversari con decine di finte per poi servire l''assist vincente alMena - che le tariffe dei coyotes sono schizzate alle stelle ed è aumentato il numero di decessi lungo i nuovi sentieri **terribilmente** ostici e pericolosi\"."
      ],
      "text/plain": [
       "<IPython.core.display.Markdown object>"
      ]
     },
     "metadata": {},
     "output_type": "display_data"
    },
    {
     "data": {
      "text/markdown": [
       "Senza un tal contrappeso, quella elevazione lo renderebbe orribilmente superbo, oppure quell''abbassamento lo renderebbe **terribilmente** abietto."
      ],
      "text/plain": [
       "<IPython.core.display.Markdown object>"
      ]
     },
     "metadata": {},
     "output_type": "display_data"
    },
    {
     "data": {
      "text/markdown": [
       "Compreso l''impatto olfattivo che si mostra **terribilmente** pronto e tremendamente precoce allo stesso tempo."
      ],
      "text/plain": [
       "<IPython.core.display.Markdown object>"
      ]
     },
     "metadata": {},
     "output_type": "display_data"
    },
    {
     "data": {
      "text/markdown": [
       "Allestimenti davvero curiosi renderanno il tuo soggiorno **terribilmente** indimenticabile!"
      ],
      "text/plain": [
       "<IPython.core.display.Markdown object>"
      ]
     },
     "metadata": {},
     "output_type": "display_data"
    },
    {
     "data": {
      "text/markdown": [
       "Completamente immersi nele riconciliare noi stessi ad essere, che ci piaccia o no, come sono sicuro che ho dovuto fare io se non proprio smokier **terribilmente** più robusto che è lo stesso o peggio, pens...  la subitaneità con la quale il signor Squod, come un genio, lo raggiunge,nessuno."
      ],
      "text/plain": [
       "<IPython.core.display.Markdown object>"
      ]
     },
     "metadata": {},
     "output_type": "display_data"
    },
    {
     "data": {
      "text/markdown": [
       "Ma Gracie Miller non cadde forse nel focolare e non si bruciò **terribilmente** proprio il sabato seguente?"
      ],
      "text/plain": [
       "<IPython.core.display.Markdown object>"
      ]
     },
     "metadata": {},
     "output_type": "display_data"
    },
    {
     "data": {
      "text/markdown": [
       "Io stesso soffro **terribilmente** per la morte di ogni mio animale, e la addebito a me personalmente."
      ],
      "text/plain": [
       "<IPython.core.display.Markdown object>"
      ]
     },
     "metadata": {},
     "output_type": "display_data"
    },
    {
     "data": {
      "text/markdown": [
       "I personaggi non sono recitati ma indagati, scoperti, denudati così da apparire **terribilmente** veri ed autentici, anche con pochissime battute o addirittura solo con pochi gesti."
      ],
      "text/plain": [
       "<IPython.core.display.Markdown object>"
      ]
     },
     "metadata": {},
     "output_type": "display_data"
    },
    {
     "data": {
      "text/markdown": [
       "La storia di Freddie Krueger, un bidello di scuola superiore, uccisore di bambini **terribilmente** sfigurato dal fuoco che torna e caccia i bambini nei loro sogni."
      ],
      "text/plain": [
       "<IPython.core.display.Markdown object>"
      ]
     },
     "metadata": {},
     "output_type": "display_data"
    },
    {
     "data": {
      "text/markdown": [
       "La commistione tra realtà e sogno ha dato il via a un nuovocon Maestro Aemon, ma  di Oldtown: EMMA, una donna che serve al Quill e Tankard, dove le donne sono disposte e il sidro è **terribilmente** forte, Rosey, la figlia, una bambina di cinque e dieci la cui verginità avrà un costo di un drago d''oro, i Archmaestersgalanti e passeggere), e una miriade di personaggi secondari tratteggiati tutti con acume."
      ],
      "text/plain": [
       "<IPython.core.display.Markdown object>"
      ]
     },
     "metadata": {},
     "output_type": "display_data"
    },
    {
     "data": {
      "text/markdown": [
       "Il finale, poi, è **terribilmente** intrigante: Dekas pensa di poter tirare il fiato quando lo raggiunge la notizia della morte violenta della donna consospesi."
      ],
      "text/plain": [
       "<IPython.core.display.Markdown object>"
      ]
     },
     "metadata": {},
     "output_type": "display_data"
    },
    {
     "data": {
      "text/markdown": [
       "La questione non è di parte, è **terribilmente** seria ed impone un'' immediata mobilitazione di istituzioni e associazioni a livello di tutta l''area metropolitana."
      ],
      "text/plain": [
       "<IPython.core.display.Markdown object>"
      ]
     },
     "metadata": {},
     "output_type": "display_data"
    },
    {
     "data": {
      "text/markdown": [
       "Questo perchè piace **terribilmente** alle persone comuni criticare chi è troppo famoso."
      ],
      "text/plain": [
       "<IPython.core.display.Markdown object>"
      ]
     },
     "metadata": {},
     "output_type": "display_data"
    },
    {
     "data": {
      "text/markdown": [
       "Cosa di cui io non mi sento di fargli carico, il problema essendo **terribilmente** intricato esso stesso."
      ],
      "text/plain": [
       "<IPython.core.display.Markdown object>"
      ]
     },
     "metadata": {},
     "output_type": "display_data"
    },
    {
     "data": {
      "text/markdown": [
       "L''umanità di sessosofferenze delle popolazioni coinvolte, a pochi chilometri dalle nostre frontiere ed in terre che assomigliavano **terribilmente** alle nostre."
      ],
      "text/plain": [
       "<IPython.core.display.Markdown object>"
      ]
     },
     "metadata": {},
     "output_type": "display_data"
    },
    {
     "data": {
      "text/markdown": [
       "Amniotico e **terribilmente** inquietante, un racconto di iniziazione ed evoluzione impastato di surrealismo, dolore della nascita, incubi diammonisce di tenersi alla larga da quella zona?"
      ],
      "text/plain": [
       "<IPython.core.display.Markdown object>"
      ]
     },
     "metadata": {},
     "output_type": "display_data"
    },
    {
     "data": {
      "text/markdown": [
       "La risposta sembra essere in uno strano morbo, in grado di indebolire **terribilmente** chi ne viene colpito."
      ],
      "text/plain": [
       "<IPython.core.display.Markdown object>"
      ]
     },
     "metadata": {},
     "output_type": "display_data"
    },
    {
     "data": {
      "text/markdown": [
       "Sfiancato dal male, il Re di Darkwoodconvinto che il contatto con i \"pagani\" contribuirà a \"bruciare il popolo ebraico nel forno dell''esilio\" - parole **terribilmente** profetiche in un libro pubblicato per la prima volta nel 1937 -, solo alla morte del vecchio il bambino torna daiche diventi un soldato!"
      ],
      "text/plain": [
       "<IPython.core.display.Markdown object>"
      ]
     },
     "metadata": {},
     "output_type": "display_data"
    },
    {
     "data": {
      "text/markdown": [
       "Eseguo: mi affido a un nutrizionista, mi trasformo fisicamente, perdo 25 chili, soffro **terribilmente** anche perché siamo sotto Natale e dalle nostre parti... si mangia assai\"."
      ],
      "text/plain": [
       "<IPython.core.display.Markdown object>"
      ]
     },
     "metadata": {},
     "output_type": "display_data"
    },
    {
     "data": {
      "text/markdown": [
       "Non c''è nulla di **terribilmente** nuovo in questo aggiornamento, ma si sono solamente aggiunte delle funzioni richieste da tutti i membri dellae delle istituzioni, con la presenza sul territorio nazionale delle truppe tedesche prepotentemente padrone e **terribilmente** scottate dall''improvviso voltafaccia dell''alleato italiano, l''apparato amministrativo dello Stato non ancoraper il genere umano."
      ],
      "text/plain": [
       "<IPython.core.display.Markdown object>"
      ]
     },
     "metadata": {},
     "output_type": "display_data"
    },
    {
     "data": {
      "text/markdown": [
       "Se un uomo non attribuisce valore alla virtù, è capace di fare ogni genere di cose cattive, il che è **terribilmente** pericoloso per il genere umano."
      ],
      "text/plain": [
       "<IPython.core.display.Markdown object>"
      ]
     },
     "metadata": {},
     "output_type": "display_data"
    },
    {
     "data": {
      "text/markdown": [
       "E dico tutto ciò volendo essere, per una volta, **terribilmente** polemico."
      ],
      "text/plain": [
       "<IPython.core.display.Markdown object>"
      ]
     },
     "metadata": {},
     "output_type": "display_data"
    },
    {
     "data": {
      "text/markdown": [
       "Un''altro problema su cui riflettere sono naturalmente le possibilidi fabbrica per buoni motivi  - Si perdono, per me, gli stessi pesci, non di più  - Si prendono molte più mangiate essendo **terribilmente** affilate, consentendo di allamare anche \"musate\" o tocchi subdoli  - Se per malasorte si piantano in un braccio o mano sigenere diventa un terreno vergine nel quale ogni incontro è possibile, purché sia all''insegna del sottocosto e dello spavento facile; che si tratti di zombie contro formiche assassine, cowboy contro alieni, Dracula contro l''Uomo Lupo, questoa dibattiti e questioni di metodo - dall''esodo alla \"moltitudine\", per intenderci - che appaiono anche essi **terribilmente** \"datati\", non più passato prossimo ma remoto, figlie anch''esse del ventesimo secolo)."
      ],
      "text/plain": [
       "<IPython.core.display.Markdown object>"
      ]
     },
     "metadata": {},
     "output_type": "display_data"
    },
    {
     "data": {
      "text/markdown": [
       "Era tutto **terribilmente** vero?"
      ],
      "text/plain": [
       "<IPython.core.display.Markdown object>"
      ]
     },
     "metadata": {},
     "output_type": "display_data"
    },
    {
     "data": {
      "text/markdown": [
       "È una cosa **terribilmente** dura."
      ],
      "text/plain": [
       "<IPython.core.display.Markdown object>"
      ]
     },
     "metadata": {},
     "output_type": "display_data"
    },
    {
     "data": {
      "text/markdown": [
       "2  14 Pensa a quando imparavi a guidare l''automobile... :''( https://www.youtube.com/watch?feature=player_embedded&v=uFIoHvVFD28 Non so perchè,ma questo video fa **terribilmente** male."
      ],
      "text/plain": [
       "<IPython.core.display.Markdown object>"
      ]
     },
     "metadata": {},
     "output_type": "display_data"
    },
    {
     "data": {
      "text/markdown": [
       "Zayn non riesce neanche a cantare tra un pò,Liam ha gli occhi lucidi,Louis alza gli occhi e sbuffafra Ieniso, il monte Casio e il lago Serbonide, un territorio certo non piccolo se sono almeno tre giorni di cammino, è **terribilmente** desertica e priva d''acqua."
      ],
      "text/plain": [
       "<IPython.core.display.Markdown object>"
      ]
     },
     "metadata": {},
     "output_type": "display_data"
    },
    {
     "data": {
      "text/markdown": [
       "Già la cosa è **terribilmente** sospetta."
      ],
      "text/plain": [
       "<IPython.core.display.Markdown object>"
      ]
     },
     "metadata": {},
     "output_type": "display_data"
    },
    {
     "data": {
      "text/markdown": [
       "Quel sistema di rapporti inquietanti, **terribilmente** inquietanti perché generano tensioni mai dichiarate, mai esplicitate, mai dette, fa in qualche modo da contrappesoA."
      ],
      "text/plain": [
       "<IPython.core.display.Markdown object>"
      ]
     },
     "metadata": {},
     "output_type": "display_data"
    },
    {
     "data": {
      "text/markdown": [
       "I biancocelesti stanno aspettando una risposta, dopo che la pista Rodrigo Caio negli ultimi giorni si è complicata **terribilmente** ."
      ],
      "text/plain": [
       "<IPython.core.display.Markdown object>"
      ]
     },
     "metadata": {},
     "output_type": "display_data"
    },
    {
     "data": {
      "text/markdown": [
       "per unirvi con me, che vi raccomando ogni giorno nella S.  Messa, affinchè niuno di voi resti vittima del colera, che si fa **terribilmente** sentire in parecchi paesi a noi vicini."
      ],
      "text/plain": [
       "<IPython.core.display.Markdown object>"
      ]
     },
     "metadata": {},
     "output_type": "display_data"
    },
    {
     "data": {
      "text/markdown": [
       "A proposito di questo brutto male io consiglierei che quelli che hanno il morborumore di sorta, se togli uno solo....  Qual cosa rompe l''aere silenzioso così forsennatamente squillante, così **terribilmente** selvaggio?"
      ],
      "text/plain": [
       "<IPython.core.display.Markdown object>"
      ]
     },
     "metadata": {},
     "output_type": "display_data"
    },
    {
     "data": {
      "text/markdown": [
       "Quale di madre sul figlio colto da morte improvvisa, vanno quegli stridi al firmamento che si partono da un''te\"  Ryuk - 25 di costituzione per la freccia attiva  Ryuk è ridotto davvero male, ha sangue che gli cola ovunque, mi sento **terribilmente** in colpa per quello che gli ho fatto."
      ],
      "text/plain": [
       "<IPython.core.display.Markdown object>"
      ]
     },
     "metadata": {},
     "output_type": "display_data"
    },
    {
     "data": {
      "text/markdown": [
       "Nonostante ciò, i bambini protagonisti della nostra storia si annoiano **terribilmente** e non vogliono proprio saperne di studiare, ed il giorno in cui si trovano appunto davanti all''ascensore per salireun complotto di imprenditori ai danni di Penati e allora è una vittima che va difesa, oppure la questione sta diventando **terribilmente** seria."
      ],
      "text/plain": [
       "<IPython.core.display.Markdown object>"
      ]
     },
     "metadata": {},
     "output_type": "display_data"
    },
    {
     "data": {
      "text/markdown": [
       "Scartava peraltro **terribilmente** , e subiva tali scossoni, da scombussolare di nuovo lo stomaco del povero Assiano."
      ],
      "text/plain": [
       "<IPython.core.display.Markdown object>"
      ]
     },
     "metadata": {},
     "output_type": "display_data"
    },
    {
     "data": {
      "text/markdown": [
       "Parole **terribilmente** contemporanee che evitano gli orpelli per arrivare diritto come un pugnale al centro del cuore e della mente."
      ],
      "text/plain": [
       "<IPython.core.display.Markdown object>"
      ]
     },
     "metadata": {},
     "output_type": "display_data"
    },
    {
     "data": {
      "text/markdown": [
       "\"Mio, con una intensità, una energia, un fuoco che appena mi allontano dalla Colombiaaffievolisce e si spegne, e mi manca **terribilmente** \"."
      ],
      "text/plain": [
       "<IPython.core.display.Markdown object>"
      ]
     },
     "metadata": {},
     "output_type": "display_data"
    },
    {
     "data": {
      "text/markdown": [
       "S abato 30 novembre alle 18.30 , il filosofo del linguaggio Augusto  Ponzio , nella C hiesa di Santa Maria del Suffragiovedono con una cartina in mano corrono subito per aiutarti, senza che tu chieda niente- il servizio nei locali è spesso **terribilmente** lento ."
      ],
      "text/plain": [
       "<IPython.core.display.Markdown object>"
      ]
     },
     "metadata": {},
     "output_type": "display_data"
    },
    {
     "data": {
      "text/markdown": [
       "Per uno abituatoun buon investimento economico per il terapeuta, un po'' meno per il paziente e alla lunga anche per il terapeuta perché è **terribilmente** frustrante."
      ],
      "text/plain": [
       "<IPython.core.display.Markdown object>"
      ]
     },
     "metadata": {},
     "output_type": "display_data"
    },
    {
     "data": {
      "text/markdown": [
       "Io credo che se assumiamo un altro differente atteggiamento - cioè se consideriamo ovvio e normale (...), non al massimo delle sue possibilità, quindi ancora non posso dirvi nulla :D L''altro è un vero hot pink, un color barbie **terribilmente** acceso, più estivo forse...ma qui c''è una temperatura primaverile, quindi lo proveremo :P  L''unica cosa che mied inquietudine, tanto che, durante un momento di sconforto, afferma che Roma sia una città stupenda, ma \" **terribilmente** inconoscibile."
      ],
      "text/plain": [
       "<IPython.core.display.Markdown object>"
      ]
     },
     "metadata": {},
     "output_type": "display_data"
    },
    {
     "data": {
      "text/markdown": [
       "**terribilmente** ."
      ],
      "text/plain": [
       "<IPython.core.display.Markdown object>"
      ]
     },
     "metadata": {},
     "output_type": "display_data"
    },
    {
     "data": {
      "text/markdown": [
       "Questo può sembrare un bricolage grossolano, ma è **terribilmente** efficace."
      ],
      "text/plain": [
       "<IPython.core.display.Markdown object>"
      ]
     },
     "metadata": {},
     "output_type": "display_data"
    },
    {
     "data": {
      "text/markdown": [
       "Il motore a velocità regolabile permettequale il Commissario Rex), Oliver Hirschbiegel descrive la storia di un vecchietto un po irascibile, molto malato e **terribilmente** gentile con chi gli sta intorno che, invece di battere i pugni sul tavolo, quando si infuria con i propri generali - iDoveva essere un segnale politico, che il Cantone ha fatto suo, per dare importanza all’aeroporto.Dove trovo il tempo con cinque figli?”Dovete parlare con la società, io faccio il mio lavoro, non posso fare altro”.La vicenda va ricostruita dal principio.La vide un’altra volta, in forma privatissima, durante un passaggio a Torino; poi tornò in pellegrinaggio ufficiale nel 1998».La Videx è chiamata a dare continuità alla straordinaria vittoria in rimonta di sette giorni fa contro Montecchio, e davanti al proprio pubblico cerca finalmente di ritrovare quei punti interni che mancano dalla prima giornata.La vigilanza è invece esercitata dai Comuni cui spettano anche i proventi dalle sanzioni amministrative.La verità l'ha detta un ragazzino siriano rifugiato a Budapest Ultimi giorni di Bisanzio Famiglie sempre più povere, padri separati in rivolta, anziani destinati all’indigenza e capitale sociale in via di disgregazione.La verità è che tutti sanno bene che il nuovo centro-destra potrà essere fatto solo da Salvini e dalla Meloni.La verità è che sono tornate le caste.La vera sorpresa del concorso viene dal regista napoletano.La velocità della nave, nonostante il clima caldo-umido, crea una leggera brezza che aiuta a rendere la situazione più sopportabile».La vendetta dei tromboni non si è fatta attendere.La veneta ferma invece il cronometro sull'1'56\"06, precedendo la connazionale Alice Mizzau (1'59\"52).La vicenda, su cui si sarebbe dovuto pronunciare il Tribunale arbitrale dello sport (Tas) di Losanna, è stata definita mediante un accordo tra le parti: la Wada, la procura antidoping della Nado italiana e la pattinatrice.L’Aventador LP 700-4 Pirelli Edition, che celebra la lunga e ininterrotta storia di collaborazione tra la Casa del Toro e la prestigiosa azienda italiana di pneumatici, è presentata per la prima volta in Cina ed esposta al Salone di Shanghai.La vera fatica, il vero sacrificio, è rinunciare anche solo per un giorno intero a chattare, condividere foto sui social forum, consultare internet.La vera forza degli italiani si vedra' alle urne.La vera forza del rapporto tra pubblico e privato non si basa sul fattore di chi ha il potere di controllare ma si sviluppa soprattutto grazie alla capacità di favorire la diversità degli approcci e delle porte d’acceso al sistema dei servizi.La vera incognita riguarda Coly, il più lontano dal recupero: «Per Benevento è sicuramente più no che sì - è ancora l’allenatore del Brescia a parlare -, ma valuteremo nei prossimi giorni con lo staff medico».La vera malattia di George Orwell fu sempre la politica, prima ancora della debolezza polmonare che l'avrebbe ucciso nel gennaio 1950.La vera svolta è una scelta maturata all’interno di una Juve che ora è decisa a tentare l’assalto del giovane centrocampista centrale del Psg senza per questo mostrare crepe attorno alla protezione di Pogba.La verità è che questa è l'ennesima vendetta contro migliaia di lavoratori e contro la Sicilia\".La vera tragedia è che, ancora pochi anni fa, le cose non stavano così.La verità di Adailton è presto detta.La verità è che a questo tizio non avrebbero dovuto dare la patente.La verità è che Borrelli e Di Pietro sono espressione di una minoranza e vogliono tenere in piedi un finto muro.La ventenne vicentina assistita a Thiene ha ammesso di aver conosciuto la quasi coetanea deceduta, di essere stata in contatto con lei sui mezzi di trasporto.La vicenda sembra per alcuni aspetti avere analogie con quella di Oslo.La vicenda, raccontata dal Messaggero Veneto e poi dallo stesso Paolone, è degna di un film stile “Amici miei”.La vicenda nel testo shakespeariano si svolge ad Atene in un tempo indefinito, adatto ad esprimere quel carattere di “indeterminatezza” che appartiene di per sé al Sogno e ai sogni.L’auto, a causa dell’impatto contro il muro, si è ribaltata sul lato.L'auto dai mini-consumi vuole scendere in strada - Il Sole 24 ORE Aggiornato alle 14:54 L'auto dai mini-consumi vuole scendere in strada Questo articolo è stato pubblicato il 09 dicembre 2012 alle ore 13:48.L'auto è quindi uscita fuori strada capovolgendosi e finendo nella adiacente scarpata.L'auto ha percorso solo 180 km Base d'asta di 2,1 milioni di euro per l'unico esemplare di Concept S, barchetta del 206 derivata dalla Gallardo con motore V10.L’auto nel frattempo si era allontanata nel traffico del mattino facendo perdere momentaneamente le tracce.L'autonomia dichiarata è compresa tra i 600 e gli 800 km con un velocità operativa di circa 140 km/h.La vecchia Udinese, quella che era in cerca di autore, sembra essersi ritrovata.La vedremo su strada?La Villa Medicea e le scuderie medicee di POggio a Caiano saranno la destinazione di domenica 30 settembre.La veduta laica e progressista che Spadolini interpretò – ha concluso Giani-, ci ricorda momenti di grande importanza per l'Italia che il suo legame con Firenze contribuirono ad esaltare”.La versione convertibile è stata progettata secondo i più rigorosi standard Land Rover per garantire rigidità strutturale e livelli di sicurezza da primato per la categoria.La versione del governo sostiene infatti che i militari avevano compiuto nelle ultime settimane diversi viaggi in questi due paesi, accusandoli di volere destabilizzare il Burkina Faso” dicono le fonti dell’Agenzia Fides.La versione di \"Heaven\" che circola in radio è un remix presente sul singolo: la \"album\" version è un implacabile descrizione, assai poco rassicurante, della personale impressione del Paradiso.La versione in anteprima non era doppiata, e chissà come sarà tradotto in italiano il primo incontro tra Ben Hur e Gesù, quando quest’ultimo, disturbando un dialogo del principe ebreo con la moglie, raccomanda: «Amate i vostri nemici».La versione italiana in lingua originale di Jesus Christ Superstar compie vent’anni e ha all’attivo numerosi record, tra cui tre diverse edizioni in 84 città italiane.La vertenza del Centro Oli resta una delle più calde.La vertenza finirà alla Regione Lazio con un tavolo previsto tra il primo e il 2 dicembre.La vettura, successivamente sequestrata dalla polizia, era a sua volta il bottino di un furto in abitazione messo a segno il giorno primo a San Miniato.L'avevo detto che non saremmo venuti a difendere il 2-0».“La via verso la società multiculturale – ha detto Anna Romanazzi dell’Ufficio provinciale scolastico – passa attraverso il dialogo interculturale ed interreligioso non è acquisito spontaneamente ma attraverso l’educazione alla interculturalità”.La vicenda della palestra le è stata fatale.La vicenda è quella dei presidi lombardi, vincitori di un concorso che è poi stato annullato dopo la sentenza del Consiglio di Stato di cui tempi.it vi ha parlato Pellegatta che c’entra la Sicilia?La vicenda è quella relativa alla pubblicazione, su alcuni siti Internet riconducibili al movimento No Tav e all’area antagonista, delle targhe di alcuni mezzi pesanti in transito sull’autostrada del Frejus.La vicenda è relativa al ruolo di Gerardi di gestore del Lumino’s, locale a luci rosse alle porte di Bellinzona al centro da tempo di una controversa questione di prostituzione e non solo.La vicenda è strana perché il ricorso al contributo di solidarietà non rientra nei poteri e nell’autonomia decisionale delle Casse autonome.La verità è che ci facciamo un mazzo quadrato per tirare avanti, io a stampare suole di scarpe in fabbrica e lui a lavorare a giornata in campagna: raccoglie cipolle, taglia la legna.L'autista di uno dei due mezzi è rimasto bloccato all'interno dell'abitacolo.La verità è che come sempre la campagna elettorale non è il momento migliore per entrare nel merito dei problemi.La verità è che le persone non vogliono aprire gli occhi e vedere, capire le situazioni che sono davanti a loro.Le cifre vanno prese per quelle che sono.Le cifre calcolate dai militari del Gruppo della Guardia di Finanza sono da capogiro: tra le società dei gruppi Lopresti e Viani “l’ingiusto profitto contributivo, fraudolentemente ottenuto è stato di 404 mila euro”.Lazio-Milan, paura per Alex, in ospedale Lazio: Pioli \"Ora derby per ripartire\" Lazio: Pioli \"Ora derby per ripartire\" GS - Guerin SportivoTuttosport su FacebookTuttosport su TwitterTuttosport su Google PlusTuttosport su TelegramHai già un account?Le chiedo solo: Lei è in grado di citarmi uno solo, ripeto un solo paese dove la democrazia ha significato potere al popolo?Le canzoni mitiche degli anni Sessanta e Settanta presentate ai bambini di oggi dal Piccolo Coro Melograno… giovedì 15 dicembre 2011 ore 14:24 A spasso nel tempo con le autoTAVARNELLE.Le caratteristiche sono simili a quelle del Note 4, che arriva con un display da 5,7 pollici, bordo in alluminio e una serie di optional esclusivi, dalla cover posteriore in cristalli Swarovski al pennino firmato da Montblanc.Le carceri pugliesi sono fra le più sovraffollate in Italia.Le casistiche per la qualificazione sono tante per cui dobbiamo disputare questi 40’ considerando che le ultime due gare del gruppo possono rappresentare due spareggi.Le cause dell'abusivismo - sempre secondo la Cao - possono essere rintracciate anche in un atteggiamento scarsamente collaborativo dei cittadini nel denunciare i falsi professionisti.Lecce o Akragas per i rossoneri ai quarti.Lecco: Brivio un anno dopo si fa festa in piazza - Homepage Lecco I cookie ci aiutano ad offrirti un servizio migliore.Le contropartite tecniche: ''Abbiamo accennato ai giocatori ma solo per parlare della loro qualità.Lecco, cade da impalcatura: muore un giovane muratore - Homepage Lecco I cookie ci aiutano ad offrirti un servizio migliore.Lecco: cassa in deroga Soffre il commercio - Homepage Lecco I cookie ci aiutano ad offrirti un servizio migliore.Lecco, c'è la Madonna di Fatima Una settimana di fede e riflessione - Homepage Lecco I cookie ci aiutano ad offrirti un servizio migliore.Lecco: controlli a tappeto Polizia locale mobilitata - Homepage Lecco I cookie ci aiutano ad offrirti un servizio migliore.Lecco, crolla cavalcavia sulla statale 36 Il poveretto è Claudio Bernini: rimane schiacciato dentro l'Audi su cui crolla la campata del viadotto.Lecco: debutto storico per il liceo musicale - Homepage Lecco I cookie ci aiutano ad offrirti un servizio migliore.Lecco: domani in Lega per l'anticipo col Mantova - Homepage Lecco I cookie ci aiutano ad offrirti un servizio migliore.Lecco, donna ferita sul Pizzo Erna I soccorritori arrivano in funivia - Homepage Lecco I cookie ci aiutano ad offrirti un servizio migliore.Lecco: il generale Gallitelli al comando dei carabinieri - Homepage Lecco I cookie ci aiutano ad offrirti un servizio migliore.Lecco, in un anno a quota 70 punti «Non sono bastati ma non molleremo» - Sport Lecco I cookie ci aiutano ad offrirti un servizio migliore.Lecco: le imprese edili alzano la voce - Homepage Lecco I cookie ci aiutano ad offrirti un servizio migliore.Lecco, mille studenti in corteo contro i tagli alla scuola - Homepage Lecco I cookie ci aiutano ad offrirti un servizio migliore.Lecco: caserma dei pompieri C'è l'area ma non i soldi - Homepage Lecco I cookie ci aiutano ad offrirti un servizio migliore.Le “contro-manifestazioni”, con numeri nettamente inferiori, sono state invece stra-seguite dai media italiani con dirette e addirittura interviste a manifestanti che (guarda che strano) parlavano in italiano.Le consultazione con i leader degli altri partiti, e con esponenti di primo piano del Pd, confermano che la «strada maestra» per il Quirinale passa per quella «larghissima maggioranza» che Bersani si era proposto di realizzare nelle scorse settimane.Le consiglio di leggere il suo libro \"Best Firends, Worst Enemies: Understanding the Social Lives of Children\", sono certa che potrebbe esserle di aiuto.«La verità è che non si può essere sempre in onda.«La verità è che quando è caduto il Muro di Berlino, qui non si è sentita nemmeno l’eco», dice mentre il motoscafo rallenta e si inoltra borbottando in un dedalo di acque salate, calli e campielli.Lazio, le pagelle: Berisha si supera, Lulic eroico Con il contratto in scadenza nel 2018 l’argentino vorrebbe ridiscutere con la la parte dell’ingaggio (1,5 milioni a stagione).Lazio, Matri show: doppietta all'esordioLa sua doppietta servirà forse anche a riavvicinare alla Lazio i tifosi, che hanno lasciato l'Olimpico quasi vuoto.Le due formazioni restano sul 2-2 fino a 3’ dalla palla a due quando T-Mac segna la tripla del 2-5 e Domercant infila un lay up in contropiede servito da T-Mac e si guadagna anche l’aggiuntivo che non sbaglia.Le cifre del biennio 2011-2012 indicano una spesa globale di 4-7 per la riduzione dei gas serra e gli interventi strutturali.Le circoscrizioni così come sono non funzionano ma eliminarle vorrebbe dire rinunciare a quello che rimane il fulcro della partecipazione ai processi decisionali.Le cito alcuni luoghi, che sono in Italia, non negli Stati Uniti.Le classi d’oro della Lazio comprendono la 1995, quella di Keita Balde Diao, un talento da ritrovare.L’Eco-guida ai prodotti elettronici: da Apple a Blackberry È uscita il 22 novembre la diciottesima edizione dell’eco-guida ai prodotti elettronici di Greenpeace.L´ecologismo snob che non vuole l´eolico I parchi eolici non s´han da fare.L’Ecomaratona; da Piazza Marconi attraverso il paesaggio delle Crete senesi e del Chianti, con i borghi di Villa a Sesta e San Gusmè, le ville di Arceno, Pagliarese e Felsina e il castello di Sestaccia.Le compagnie colpite dal blitz sono state indagate per presunti legami economici con il miliardario.Le conclusioni sono affidate all'assessore alla salute Graziano Cioni.Le condizioni del paziente, però, non erano così gravi da farlo rientrare nella casistica che oggi permette l’accesso ai costosissimi farmaci salvavita (oltre 44 mila euro a confezione) forniti dal Servizio sanitario nazionale.Le condizioni di Baudo sarebbero in miglioramento.Le condizioni di Lisignoli, comunque, non sembrano essere preoccupanti, tanto che nell'attesa dell'arrivo dei soccorsi è riuscito anche a chiamare amici per informarli dell'accaduto e rassicurarli sulle sue condizioni di salute.Le condizioni di Ponce sono buone, si lavora per inserirlo nei nostri schemi."
      ],
      "text/plain": [
       "<IPython.core.display.Markdown object>"
      ]
     },
     "metadata": {},
     "output_type": "display_data"
    },
    {
     "data": {
      "text/markdown": [
       "L’avvio delle negoziazioni 2016 è stato per gli USA il peggiore degli ultimi 109 anni.Le Università non hanno un sistema di controllo interno per la gestione dei conti?L’Europa è attraversata dai quattro cavalieri dell’apocalisse: deflazione, stagnazione, disoccupazione, debito.L'Europa è stata la regione, ricorda il giornalista, che più si è opposta alla politica egemonica USA, i più grandi debitori dell'ONU.Le unità produttive sono a Yancheng (Cina), Bologna (VPS), Parma (OT Oil Technology) e Reggio Emilia.Le uniche stelle che brillano in questo panorama desolato sono quelle di Grillo, che nelle elezioni dell’anno prossimo punta alla conquista della Regione.Le uniche certezze sono che lo stesso arcivescovo ha formalizzato la propria rinuncia a proseguire nell'incarico, ma che il papa ha stabilito una proroga, che potrebbe durare fino all'arrivo del pontefice a Milano.Le ulteriori informazioni dovute a norma della legislazione vigente saranno comunicate al mercato non appena definite.Lettera a me stesso.‘Lettera a mia figlia sull’amore’ è tutto quello che da padre vorrei dire ai miei figli, le emozioni che a caldo sono difficili da esprimere.Lettera aperta della sindaca, Lea Savona, ai parenti delle vittime POLITICA – L’ex sindaco di Milano: “Non fatemi parlare”, ma poi precisa “niente di penalmente rilevante”.Lettera in cui Anas si diceva disponibile a contribuire con ulteriori finanziamenti in considerazione dei ventilati maggiori costi dell’intervento».Letteralmente scioccante la sua capacità di pulire lungo gli angoli, gli spigoli anomali, sotto i letti, intorno gambe di tavoli e in tutti gli angoli e le fessure che probabilmente non raggiungereste con una scopa o un aspirapolvere normale.Letto in trasparenza, ma anche in piena luce, il resto dei suoi ragionamenti è invece di una serietà affilata.«L’Europa è divisa e incapace di decidere e questo i mercati lo hanno capito benissimo.L’Europa ha perso la voglia di sostenere o incentivare la propria crescita demografica.L'ex vice-governatore stamani non era comunque in Aula.Le vittime della pedofilia, che soffrono **terribilmente**, non soffrono perche' testimoniano la fede.Le tracce, molto evidenti e fresche, sono state trovate nei giorni scorsi nella zona dei Prati di Caccio, a quasi 900 metri di quota.Le tracce informatiche e la sua voce lo hanno pero' tradito, permettendo agli investigatori, che gia' da tempo erano sulle sue tracce, di individuarlo.Le toghe si dimettono prima del taglio allo stipendio.Le toghe di sinistra si astennero dal votarlo anche se poi, nel 2010, anche Md diede il consenso per la sua rielezione.Letizia Paruscio, ex Ice Club e ora in forza alla Canottieri Aniene, ha vinto il bronzo nei 200 dorso.L'etichetta di pazza appartiene all'Inter per statuto, ma come valutereste una squadra che viene travolta a Lecce e poi tre giorni dopo batte con pieno merito l'Udinese?Le triple di Hawkins e di Poeta mandano le squadre negli spogliatoi sul 46-32.Le troppe leggi rimaste vuote Due anni fa il governo Berlusconi decise d'investire sui prestiti d'onore agli studenti.L’ex sindaco avrebbe preferito ascoltare le parole di Oliverio in piazza e sapere che fine hanno fatto i trasferimenti Pisu, somme che le ditte rossanesi hanno anticipato per lavori pubblici ma che attendono da mesi.L'ex presidente, veterano della politica israeliana, ha 93 anni.L’ex presidente del Fondo monetario internazionale è accusato insieme ad altre 13 persone di sfruttamento della prostituzione.L’ex presidente della Camera ha confessato ai suoi di non volersi far invischiare in paludate trattative da manuale Cencelli dagli alleati.L'ex presidente egiziano Hosni Mubarak è stato assolto dall'accusa di complicità in omicidio plurimo, per le morti durante le manifestazioni della primavera 2011 al Cairo.L'ex presidente iracheno Saddam Hussein sarebbe stato catturato in Iraq.Letta: Non c'è un piano \"b\", vado avanti Letta insiste: Le leggi vanno rispettate.Letta ha stretto i bulloni ma poi serviva una scossa, un cambio di velocità ad un treno che andava lento\".L'ex procuratore capo di Napoli, Giandomenico Lepore.L'ex segretario di Stato Usa ha affidato il compito di illustrare la propria posizione al suo consigliere politico Jake Sullivan, indicato come possibile futuro responsabile per la sicurezza nazionale alla Casa Bianca.Letta ha quindi proseguito: «Qualcuno forse crede che all’Italia serva Babbo Natale, ma io penso che ci voglia solo un buon padre di famiglia che compia scelte equilibrate».L’ex procuratrice sostiene che una misura da intraprendere sarebbe l’identificazione di tutte le persone che vogliono raggiungere queste organizzazioni.Letta attacca Renzi: \"Su Boschi due pesi e due misure\" /VideoBotta e risposta, a distanza, tra Enrico Letta e Matteo Renzi sulla vicenda Banca Etruria.L'ex Roma Heinze allenatore in ArgentinaSiena, Morgia resta prima sceltaIl Real Madrid?Letta: \"Al telefono, anche troppo\" - Repubblica.itCerca su Repubblica.itNavigazione principale Milano, Berlusconi in piedi: giro in corsia, tra sorrisi e battute.L’ex Rosso trova il set ball sulla diagonale del 24-15 e il set si chiude sull’azione seguente con l’invasione di Shaw.Le vittime sono Farhana al-Attar, uccisa da un missile che ha colpito la sua abitazione, e Yasin al-Biltaji e Yahya Abu Daqin, entrambi morti in un raid sul sobborgo di Tuffah, a Gaza City.Le ultime due sono quelle che più di altre sfruttano i sentimenti natalizi e il difficile periodo di crisi economica: la prima è basata su false campagne di beneficienza, ed è secondo gli esperti «una delle truffe più diffuse in ogni periodo natalizio».Le tre conferenze avranno tutte inizio alle 16.00.Leumi trasferirà la sua attività di banca privata con sede in Svizzera a Julius Bär.Le ultime due tappe teniamo duro.L'Europa s'e' fatta due volte, finora.L'Eurotower infatti ha tagliato nuovamente le stime di crescita nella zona euro per il 2013 a -0,6% (contro -0,5%),..L'Eurozona ci proverà, nonostante lo 'shock' post voto di molti leader europei.L'Eurozona, entità da ricostruire di Giacomo Vaciagosito del Corriere della Sera rivedere o riascoltare un altro programma?Le vendite di beni di lusso sono aumentati del 19%, le vendite, per esempio, di gioielli e bigiotteria addirittura del 19,50%.L’evento è stato coordinato dai vigili del fuoco di Como.Le vendite nette dei primi otto mesi 2012 di Interpump sono cresciute del 17,9% a 365 milioni di euro (310 milioni di euro nell’analogo periodo del 2011).Le vendite private sono aumentate del 7,7% a 673 milioni di dollari, come scritto nel documento deposito il 22 gennaio presso la Sec."
      ],
      "text/plain": [
       "<IPython.core.display.Markdown object>"
      ]
     },
     "metadata": {},
     "output_type": "display_data"
    },
    {
     "data": {
      "text/markdown": [
       "sulla destra fa ciò che vuole grazie ad un impreciso e confusionario, detta i ritmi al fianco di un Banega mentre Perisic sulla sinistra si vede solo a tratti.È la SCXV Evo, il risultato del lavoro di un team studentesco del Politecnico di Torino che ha visto coinvolta una settantina di ragazzi e ragazze.È la seconda o terza volta che Prandelli stupisce per la qualità, il livello delle sue osservazioni in un mondo dove le parole in libertà in genere abbondano.È la seconda visita nel giro di una settimana per il presidente del Milan alla formazione guidata da Filippo Inzaghi, che tra due giorni debutterà in campionato ospitando la Lazio a San Siro.E l’impasse che si è creata è davvero un peccato perché si perde altro tempo.Elisa Simoni: “192mila avviamenti in 12 mesi, ma oltre la metà sono contratti di durata inferiore ai 4 mesi e intanto la CIGS raggiunge livelli esponenziali”… giovedì 15 marzo 2012 ore 13:46 Provincia di Firenze, aumenti in arrivo su IPT e TIABILANCIO.Eliseo: “E’ a Sirte” Liberati i 4 giornalisti italiani Guerra a Gheddafi: operazione “Odissea all’alba” La Francia attacca obiettivi libici Sarkozy: a breve posssibili attacchi Libia, Berlusconi: “Non possono colpirci”.È l'odiata eredità che ci lasciano le feste.E Leone, con la medesima, pacata accondiscendenza con la quale ha acconsentito a separarsi dalla moglie, accetta sulle prime di battersi a duello.E le nuvole all'orizzonte promettono ancora peggio, cioé un salvataggio della zona Champions **terribilmente** sofferto.È l’ennesimo naufragio avvenuto nel Canale di Sicilia, dopo la sospensione a novembre del 2014 del programma di pattugliamento del mar Mediterraneo che aveva permesso di soccorrere migliaia di persone, sostituito dalla missione europea Triton.Elenco dei Comuni toscani più virtuosi martedì 02 ottobre 2012 ore 16:28 Città metropolitana: con Firenze anche Arezzo, Pisa, Prato e SienaTOSCANA.Elenchi le prime tre cose che farà se diventa sindaco.Elena Tonnini, Rete, sottolinea che “l’allontanamento di persone con ombre” dalle istituzioni sia “la condizione necessaria per iniziare un percorso che demolisca pezzo per pezzo il meccanismo corruttivo creato ad hoc”.Elena Tonnini, Rete: “Mi soffermo sulla visione che il Piano promuove: una visione che mette al centro non il budget.Elena Tonnini (Rete): “Lo ritiriamo perché sostanzialmente dopo un confronto con maggioranza e governo è stato recepito”.E lì hanno trovato non l’ospitalità di cui parla (citato nel documentario di Seynave), ma indifferenza, sguardi che li attraversano come se non esistessero.Eliminare il carapace dei gamberi e la testa, incidere il dorso e con una pinzetta tecnica tirare l’intestino, il filino nero, prestando attenzione a non romperlo.Elena dalle Donne, Andrea Niccolai, Gabriele Bassoli, Alice Cappelli hanno dipinto il bus con cui si partirà.E l'obiettivo del protocollo d'intesa sottoscritto dal vicepresidente della Fondazione Agnelli, John Elkann, e dal presidente di Atc, Marcello Mazzù.E lì sì che la lacrimuccia scende.E l’Italia reagisce con durezza, minacciando anche di fermare la propria partecipazione alle missioni all’estero.Elkann: «Non abbiamo mai detto che aumenteremo la nostra quota in..Elkann: «Un nuovo capitolo della nostra storia» «Hanno ucciso le persone qui, nella chiesa» La salvezza non riguarda solo lo spirito.È l'obiettivo del Piano regolatore degli acquedotti adottato dalla Giunta regionale, sul quale i Comuni e gli enti interessati possono formulare le osservazioni, dopo la prossima pubblicazione dell'atto sul Bollettino Ufficiale della Regione Marche.E’l’obiettivo del progetto europeo sui sistemi di trasporto intelligenti, partito a marzo, di cui Regione Liguria è partner, in rappresentanza dell’Italia, insieme al Comune di Verona, con un partenariato costituito da altri 10 Paesi UE.È l'obiettivo di Jorge Lorenzo - secondo nel mondiale a 18 punti dal Dottore - alla vigilia del Gp d'Australia, quando mancano tre gare alla fine del Mondiale.Eliminate anche le penalizzazioni sull'assegno per chi esce prima dei 62 anni che sarebbero dovute tornare in vigore nel 2019.E l'obiettivo mi pare sia stato raggiunto\".È l’occasione per una possibilità rinnovata social-democratica ed europeista.«È l'occasione - risponde il Cavaliere - che nella mia buona fede darò a chi voterà.E lo conquisteranno con i loro figli.E lo credo anche io, nulla è perduto».E le ormai non più lontane elezioni per il Quirinale sono tema di discussione anche negli altri partiti.E la Sicilia è l’ultima regione d’Italia per utilizzo di sistemi contraccettivi.E do un milione di euro per la Champions\"L'attaccante spagnolo: \"Allegri mi stima, con Ancelotti a malapena c'era un rapporto.“E dire che non l’ho nemmeno mai visitata.È evidente che una scelta in un senso o nell’altro comunque si ripercuoterebbe sui futuri assetti del centrodestra italiano.È evidente che una convenzione del genere non l’avrei mai firmata: un’azienda deve rimanere estranea alla politica.È evidente che le uscite dell'assessore Esposito sono incompatibili con il suo ruolo.È evidente che il Pp è riuscito ad attrarre il ‘voto utile’, come reazione all’annunciata avanzata che i sondaggi attribuivano a Podemos, raccogliendo così intorno al Pp il voto di centrodestra, a spese di Ciudadanos.E."
      ],
      "text/plain": [
       "<IPython.core.display.Markdown object>"
      ]
     },
     "metadata": {},
     "output_type": "display_data"
    },
    {
     "data": {
      "text/markdown": [
       "A peggiorare **terribilmente** la situazione sono i dolori lancinanti che prova in continuazione."
      ],
      "text/plain": [
       "<IPython.core.display.Markdown object>"
      ]
     },
     "metadata": {},
     "output_type": "display_data"
    },
    {
     "data": {
      "text/markdown": [
       "Inoltre, la scena della colazione a palazzo della regina d''Inghilterra è **terribilmente** spassosa!"
      ],
      "text/plain": [
       "<IPython.core.display.Markdown object>"
      ]
     },
     "metadata": {},
     "output_type": "display_data"
    },
    {
     "data": {
      "text/markdown": [
       "UNA CURIOSITA'': durante i varieconomicamente, a basso indice demografico e deboli dal punto di vista infrastrutturale e dei trasporti, a soffrire **terribilmente** \"."
      ],
      "text/plain": [
       "<IPython.core.display.Markdown object>"
      ]
     },
     "metadata": {},
     "output_type": "display_data"
    },
    {
     "data": {
      "text/markdown": [
       "\"Noi e soprattutto Charlie siamo stati **terribilmente** abbandonati lungo tutto il processo - hanno dichiarato i Gard su Facebook - non ci è stato permesso di scegliere secome se non bastasse, nel tardo pomeriggio di ieri, la neve è tornata a scendere, peggiorando di fatto una situazione di angoscia e paura."
      ],
      "text/plain": [
       "<IPython.core.display.Markdown object>"
      ]
     },
     "metadata": {},
     "output_type": "display_data"
    },
    {
     "data": {
      "text/markdown": [
       "Le cause possono essere molteplici: dall''indolenza endemica del tessuto sociale consolidata da un approccio culturale, ciclisti,  pedoni, genitori o figli, di tentare di porre un freno a questi episodi, che anche nella nostra città sono **terribilmente** ricorrenti."
      ],
      "text/plain": [
       "<IPython.core.display.Markdown object>"
      ]
     },
     "metadata": {},
     "output_type": "display_data"
    },
    {
     "data": {
      "text/markdown": [
       "Fatica **terribilmente** a trovare delle contromisure quando gli avversari affondano."
      ],
      "text/plain": [
       "<IPython.core.display.Markdown object>"
      ]
     },
     "metadata": {},
     "output_type": "display_data"
    },
    {
     "data": {
      "text/markdown": [
       "Allora, non vi dirò che mi dispiace perché mentirei **terribilmente** ."
      ],
      "text/plain": [
       "<IPython.core.display.Markdown object>"
      ]
     },
     "metadata": {},
     "output_type": "display_data"
    },
    {
     "data": {
      "text/markdown": [
       "Ma il suo libro la rende **terribilmente** simpatica  Tegola City, Gabriel Jesus rischia tre mesi di stop  Nelle ultime ore Massimo Moratti ne aveva tessuto le lodie culturale all''inseguimento costante dello spirito del tempo."
      ],
      "text/plain": [
       "<IPython.core.display.Markdown object>"
      ]
     },
     "metadata": {},
     "output_type": "display_data"
    },
    {
     "data": {
      "text/markdown": [
       "I Longo''s boys subiscono altri quattro gol dalla Roma e vedono già **terribilmente** complicarsi il loro percorso verso la salvezza."
      ],
      "text/plain": [
       "<IPython.core.display.Markdown object>"
      ]
     },
     "metadata": {},
     "output_type": "display_data"
    },
    {
     "data": {
      "text/markdown": [
       "la situazione pelo è migliorata!Dopo un po’ di tempo è riuscito a invitare una donna a uscire, senza premeditarlo, ma semplicemente chiacchierandoci.Dopo un periodo di affiancamento di altri due anni viene nominato giudice nazionale.Dopo una lunga e rilassante cena, potete girare tra i bar ed i locali dell quartiere.Dopo un anno o poco più di utilizzo, comunque al secondo-terzo aggiornamento software, gli iPhone diventano un po' più lenti.Dopo una notte agitata, immerso in incubi post sbornia, l’ispettore Borei Gowda viene chiamato sulla scena di un crimine: un avvocato di successo, il dottor Sanjay Rathore, è stato trovato con il cranio sfondato nella sua lussuosa abitazione.Dopo una ottima colazione nella chambre in compagnia di una famiglia americana del Connecticut, iniziamo la nostra giornata dedicata al D-Day.Dopo un apprendistato presso studi professionali, dal 2006 Giulia Beghin e Silvia Parisotto iniziano a collaborare con lo studio e dal 2011 anche Sofia Pettenuzzo.Dopo una ristrutturazione a metà del Settecento il monastero venne trasformato nel 1785 dal Granduca in conservatorio per le fanciulle del secondo ceto e accolse le suore dei soppressi monasteri agostiniani di S. Trinita e S. Matteo.Dopo una settimana di attesa, domani sarà il momento di Palermo – Empoli, uno dei match “clou” della terza giornata di Serie B: con il calcio giocato, torna anche la diretta Facebook sulla pagina ufficiale di Stadionews24, con il commento del direttore …Dopo un periodo di stasi e si serate al pianobar, nel 1997 ricostituisce “I Giganti”.Dopo una settimana, se il piccolo piange, soffre **terribilmente** della mancanza della mamma, smette di mangiare o dormire… forse potrebbe valere la pena riprendere in considerazione l’ipotesi di portarlo in città cercando soluzioni alternative.Dopo un breve combattimento magico riescono a maledire il demone e Melinda, con il ciondolo al collo, torna nell’aldilà!Dopo un breve interludio, la terzina \"Fac me plagis\" si apre con una frase cantabile del tenore cui si aggiunge il soprano al secondo verso \"cruce hac\".Dopo un breve soggiorno a Londra nel 1870, dove si avvicinerà alla ritrattistica inglese del Settecento, nell’ottobre del 1871 si trasferisce definitivamente a Parigi.Dopo un briefing dettagliato sull’uso dell’attrezzatura, insieme con un’ istruttore si andrà a fare un’immersione vera e propria.Dopo un’introduzione a cura della Direzione del Museo storico, interverranno Saul Ciriaco, ricercatore dell’AMP Miramare, e Marco Fantin, biologo e subacqueo del Sistiana Diving.Dopo un’introduzione dell’antropologo delle religioni, Julien Ries, studiosi di diversi paesi presentano, per culture differenti, il senso ed il posto che in esse hanno le montagne sacre.Dopo un paio di settimane tornai a Rapallo con il sindaco di Castelnuovo e si arrivò a tracciare il definitivo progetto.Dopo un bel po’, finalmente un’esternazione: “La causa è l’umidità”.Dotata di 4 Aviatik partecipa il 20 e il 27 marzo alla difesa di Verona da incursioni austriache.Dopo, però, seguirono anni molto meno gloriosi in termini di crescita globale, anni che videro un nuovo ritorno delle disuguaglianze con una forte tendenza ad aumentare.Dopo ottantotto anni è arrivato il momento di aggiornare la disciplina dell’attività di odontotecnico, in vigore dal 1928, un’eternità."
      ],
      "text/plain": [
       "<IPython.core.display.Markdown object>"
      ]
     },
     "metadata": {},
     "output_type": "display_data"
    },
    {
     "data": {
      "text/markdown": [
       "non ha mai rispettato le regole di comportamento e gli orari, con atteggiamenti aggressivi.All’interno del gruppo operavano persone di origini campane e romane.All’interno del Ftse Mib, che ha segnato un +1,38% a 21.151,80 punti, spicca il buon andamento del comparto bancario.«All’interno del documento sono affrontate richieste fatte dai cittadini anche ormai da diversi anni e che non incidono sulla programmazione generale.All’insegna della musica, dell’enogastronomia, ma anche il cabaret d’autore, anche quest’anno l’appuntamento con Restival ha richiamato grande partecipazione di pubblico a Casale sul Sile.Non sembra essere accaduta la stessa cosa però su altre scelte-non scelte dell’attuale governo lariano che, a livello politico al di là dell’emergenza lungolago, presenta un quadro alquanto frastagliato.All'interno della grande aula della prima Corte d'assise d'appello, per lo più avvocati e giornalisti, per quella che è stata sostanzialmente un'udienza tecnica.All’interno di quel quadro, un uomo è morto e un altro è in condizioni critiche, ma in entrambi i casi si tratta di persone anziane: non vi è certezza che sia stato proprio il virus a peggiorare uno stato di salute già precario.All’interno di questi ultimi, i più gettonati dai “ritirati” sono gli artistici, seguiti da Scienze umane e musicale-coreutico.All’interno di questo cast, la realtà e la finzione si sono davvero fuse.Nonostante ciò, Cohfrutsa era riuscita a mantenere il suo status di gruppo certificato Rainforest Alliance Certified.Nonostante ciò pochi decidono di intervenire.All’inizio sembrò perdere: perse la corona dei massimi, perse tre anni di carriera pugilistica.Nonostante ci siano state notevoli sanzioni - si legge nel verbale della commissione - alcuni continuano a tornare per sversare rifiuti.All´inizio stavo a via dei Monti Tiburtini in una stamberga: un alloggio fatiscente all´ultimo piano di un vecchio palazzone e sopra di noi c´era l´antenna della Tim.All'interno ci sono venti panetti di eroina da un chilo ciascuno.All'Inter si sono affrettati a specificare che Domenico Brescia non è un loro dipendente: nessun giocatore e nemmeno l'allenatore risultano indagati.All’interrogatorio di garanzia ha assistito pure il pm Federico Baldo, che aveva già raccolto la testimonianza dell’indagato sabato.All’interno, poi, prosegue Sette, il comando “si sviluppa in lunghezza su un piano molto grande, illuminato da vetrate luminose.All’interno manipoli di senzatetto e sbandati, il più delle volte carburati da alcolici di basso lignaggio, hanno deciso che vale tutto: schiamazzi, insulti ai passanti e apprezzamenti evidenti alle belle ragazze che passano.All’interno, invece, la novità principale è rappresentata dall’approccio, che è molto minimalista.All’interno, durante la perquisizione, i caraninieri hanno trovato oltre a un etto circa tra eroina ed hashish e il classico armamentario per lo spacci,o tra ci un bilancino di precisione e materiale per il confezionamento delle dosi.All’interno di una vicenda che, certo, è più facile da vedersi che da raccontarsi, tanti sono i passaggi che la compongono in un narrativo volutamente e non banalmente smoderato.All’interno di tale sistema è attivo il servizio telematico per l’invio della documentazione in formato elettronico.All’interno di questo dibattito aperto vogliamo portare il nostro know-how prima di tutto in termini di innovazione.Non osa, la Uil, immaginare cosa succederà a febbraio 2017 con l’avvio del nuovo modello di recapito a giorni alterni.Nonostante così si migliori la conservazione, la fermentazione viene bloccata, privando la birra della sua peculiarità.Non ricordo assolutamente quel che le dissi, ma quel che ricordo di certo e' che probabilmente rimpiangero' tutta la vita quanto sia stata breve quella telefonata.«Non riceviamo dall’Asl i rimborsi da quattro mesi, ora non possiamo più andare avanti»: questo l’allarme lanciato da Vincenzo Savarese, presidente della Vopi (Volontari pronto.Non possiamo accettare queste cose!Non possiamo annunziare Gesù Cristo Salvatore perché nel fondo non lo sentiamo.Non possiamo certo venire in bici noi.Non possiamo che amarle, perché a queste donne è rimasto solo il proprio corpo.Non possiamo chiudere le braccia a nessuno.Non possiamo continuare a cedere a questo ricatto - ha scritto Di Maio su Fb - Ma per me nessun bambino con la sua mamma può continuare a stare in mare ostaggio dell'egoismo di tutti gli Stati europei\".Non portare frequentemente a spasso un cane può far sì che questo si annoi **terribilmente**, che non abbia valvole di sfogo e che poi inizi a manifestare la sua insofferenza combinandovi disastri e dispetti continui.Non possiamo dimenticare da questo elenco di novità le Jeep Renegade e Compass 4x4e, spinte dal nuovo powertrain ibrido plug-in e prodotte a Melfi dal 2020.Non proprio; piuttosto perché tendono a difendere le identità locali, a opporsi all’immigrazione incontrollata, allo sradicamento dei valori e delle istituzioni nazionali.Non proprio un servizio d'elite, con buona pace per i catoni della Heritage.Non può chiedere per sé in occidente quello che nega per gli altri in oriente.«Non sappiamo – raccontano – se i dirigenti sono a conoscenza del fatto che talvolta occorre anche un anno per ottenere l’appuntamento.Non sappiamo se è un incidente o se è doloso, sono in corso le indagini\".Non sappiamo se in India c'è l'usanza (italica e non solo) di esonerare gli allenatori ai primi risultati negativi, di sicuro un campanello d'allarme sta suonando.Non procediamo con i se.Non più Wilier, ma Ganna."
      ],
      "text/plain": [
       "<IPython.core.display.Markdown object>"
      ]
     },
     "metadata": {},
     "output_type": "display_data"
    },
    {
     "data": {
      "text/markdown": [
       "un sonnifero.Il 4 e 5 aprile a Bologna è in programma Adworld Experience 2019, evento europeo su Pay Per Clic & Conversion Rate Optimization basato su casi reali di campagne PPC.Il 4% degli elettori si schiera con altri partiti.Burisma è la società ucraina nella quale il figlio di Biden, Hunter, era consigliere di amministrazione.Burger gigante: come fare in casa uno dei panini più gustosi di sempre!Il 5G è noto come la quinta generazione della telefonia mobile cellulare.Il 5 giugno si festeggia la Giornata mondiale dell'ambiente, celebrata in più di 100 Paesi.Il 5 dicembre la gara prosegue con l’ascolto delle altre 6 canzoni.Il 5 dicembre 2019, a chiudere un’anno che vede una forte crescita in questo business, arriva per la prima volta il Netcomm Forum Nord-Est 2019 a Padova.Il 5% della popolazione non risulta ancora coperto e per altro vive sul 15% del territorio.Buon Natale NoTav\" lo slogan dell'iniziativa.Buono ha poi descritto l’ispezione della Gdf col maggiore Oerfanello, il 17 febbraio 2011, e uno spiegamento di forze che lo stupì”.Il 5 aprile in occasione dello spettacolo di arti circensi SCONCERTO D’AMORE ci sarà la FESTA di FINE STAGIONE con merenda gratis per tutti!Il 59% dei consumatori di musica utilizza una piattaforma di video sharing – e di questi il 49% ha scelto YouTube.Buono il terzo posto di di Valerio Mieli (6 voti), un ritorno al cinema molto gradito in redazione.Il 58enne, che ad una prima analisi è morto per cause naturali, viveva assieme all’anziana madre.Il 50enne era stato denunciato il 12 febbraio scorso dagli agenti del nucleo Ambiente del reparto Giudiziaria della Polizia Locale perché scoperto a gestire un’autofficina abusiva nella zona del Campasso a Sampierdarena.Il 28 novembre Spotify nota i Legno e li inserisce con “Sei la mia droga” nella playlist Scuola Indie.Il 2 novembre del 2018 è uscito il suo album d’esordio, “Moriresti per vivere con me?”, anticipato dai singoli “Lady D.”, “Monnalisa” e “M.Contemporaneamente la band svela anche il nuovo attesissimo singolo “, primo estratto dal loro tredicesimo album in studio (dal titolo omonimo), in uscita il su etichetta Reprise/Warner Records.E ha diffuso un comunicato \"parallelo\" a quello della presidenza del Consiglio, in cui rivendica l'inserimento nel pacchetto crescita delle norme per i ristori.E ha invitato il parlamento nazionale ad approvare al piu’ presto il disegno di legge sulle isole minori che prevede incentivi per chi vuole insegnare nelle piccole isole.E hanno detto che hanno messo su Instagram aggressivo dove mi si vedeva con le cuffie e loro hanno detto \"Adesso andiamo a confrontarci con la signora, vediamo che succede.E hanno votato no, almeno per ora, alla Commissione speciale contro l'odio e l'intolleranza in Comune.Il 31% pensa che il vero problema dell'Italia non sia l'evasione, ma la spesa pubblica fuori controllo e il 24% è contrario per questioni di privacy temendo il rischio che i pagamenti elettronici possano limitare la loro libertà.Il 33enne è stato condotto a Borgo San Nicola a disposizione della A.G. competente.E fumogeni e petardi perché \"i Cpr bruceranno ancora\".Il 31 luglio 2007 passa al per circa 5,4 milioni di sterline, ma non riesce a trovare tanto spazio in Inghilterra.Il 31enne pertanto è stato denunciato per ricettazione.Il 31 dicembre Fiorano Modenese vi accoglie già all’alba.Il 2 ottobre è andata in onda l'ultima puntata della quarta stagione di Matrimonio a Prima Vista Italia.Il 30 novembre è il turno di Torino, all’interno della Nital di Moncalieri.E ha parlato anche il figlio del Rabbino Toaff, Ariel: \"La capacità di mio padre è stata quella di creare un ponte tra la comunità ebraica e il mondo circostante, facendo apparire un ebraismo sorridente e non esclusivamente normativo che si isolava.Il 30 maggio 2020 GIANNA NANNINI torna live in Italia con un grande concerto allo Stadio Artemio Franchi di Firenze!Il 31enne, soccorso dai sanitari del 118 e portato all'ospedale di Santa Maria Nuova, ha riportato 30 giorni di prognosi per la frattura scomposta del setto nasale e contusioni al viso.Aperto a tutti, vi aspettiamo numerosi.Aperto anche il Monte di pietà (piazza del Monte di Pietà 16) fu costruito nel 1550.Aperte, dunque, tutte le ipotesi dall’allontanamento volontario, al rapimento per finire a quelle che spaventano più di tutte: il possibile omicidio con occultamento del cadavere o un suicidio.E fra questi tantissimi frequentatori abituali.Aperto fino al 13 gennaio h 9.30-11,30 e 17-18.Al terzo punto si chiede poi la riforma dei regolamenti di Camera e Senato: “La riduzione del numero dei parlamentari implica alcuni interventi sui Regolamenti parlamentari”, si legge.Al terzo posto, però, appare l’urgenza del lavoro, che registra il 51% dei voti in Italia (contro la media europea del 32%); solo a seguire il fenomeno della migrazione (43% contro la media del 38% europea).Accanto a Varane in difesa giocherà Militao.E fummo contenti, perché mica lo capivamo bene, quali erano la destra e la sinistra, e sarebbe costata fatica, farlo davvero.È Fridays for Future, la manifestazione dei giovani per sensibilizzare il governo e l'opinione pubblica sul global warming.E funziona malissimo, hanno rimpiazzato le scritte blu con le scritte nere, oscene :(E fuori dal centrosinistra?Al terzo posto, con il 32%, si riaffaccia l’ex presidente Andrej Kiska, oggi a capo del partito Za ľudí, che a lungo ha primeggiato nella fiducia popolare quando era capo dello Stato.Alla conclusione del progetto i ragazzi hanno imparato ad andare al passo e in qualche caso anche al trotto».Alla chiusura degli scambi Ue, il Wti perde il 2,2% come il Brent.A permetterle di spiccare il volo su una landa di mediocrità e stupide, crudeli maldicenze, : unica, graffiante, sofferta, invidiata.Aperta con un’esecuzione dell’Inno nazionale, la cerimonia è proseguita con la consegna delle pergamene agli insigniti da parte dei sindaci in fascia tricolore dei Comuni di residenza e del vicepresidente della Regione Fabrizio Sala.Alternative che per essere credibili, dovrebbero fondarsi su quattro pilastri: su un approccio contrattualista, sul concetto di responsabilità, sul principio del mutuo vantaggio e sul criterio di opportunità.Ad avanzare questa ipotesi, secondo informazioni verificate, è il quotidiano economico-finanziario Financial Times.Contemporaneamente sono iniziati i lavori di restyling dell’area imbarchi, che continueranno fino al 2021.Il 38,6% delle imprese evidenzia ordini in aumento, mentre il 24,4% in diminuzione.Buongiorno Alessandro, grazie per la disponibilità.Il 3 ottobre 2019 il pm ha chiesto la a 18 anni per i carabinieri Di Bernardo e D’Alessandro, entrambi accusati del pestaggio.Il 3 gennaio, concerto spettacolo di beneficenza con Ciccio Merolla, Cosimo Alberti e Alessia Moio alla Domus Ars di Napoli.Il 3d touch non lo usa più nessuno perchè metterlo in un sondaggio?Il 3 a 0 finale che porterebbe le squadre ai supplementari, sarebbe un’impresa da ben 20 volte e mezzo la posta.Il 35% dei protagonisti non finanziari offre anche servizi non strettamente collegati al proprio core business e diretti a nuovi clienti.E ha causato anche una vera e propria guerra tra le correnti delle toghe e il terremoto che ha di fatto squassato l’Anm.Il 3 ottobre presso la Casa di Riposo Villa Serena di Montaione (Viale Vincenzo da Filicaia, 59), alle ore 9.00, si svolgerà una conferenza sul tema dei maltrattamenti agli anziani, dal titolo \"Per un futuro di buontrattamento\".E ha concluso: “Abbiamo fatto un grande passo avanti per far sì che democrazia diretta e rappresentativa possano integrarsi al meglio nell’interesse del popolo e nel pieno rispetto della centralità del Parlamento.Conte fu il primo leader europeo ad arrivare ad Addis Abeba dopo la storica riconciliazione, tre mesi prima, con l’Eritrea.Conte ha quindi ribadito che “due sono le possibilità.Conte ha rifiutato la Roma, si sente di ringraziarlo visto che il posto poi è stato assegnato a lei?Contemporaneamente, appare sulla scena un buffo personaggio che canta l’inno di Mameli e la risveglia dal sonno in cui era caduta dopo l’incidente.E ha capito chiaramente il suo essere una donna speciale dall’amore incondizionato che nutre per i suoi figli e la sua famiglia.Contemporaneamente in queste ore Sky ha confermato il consolidamento della partnership con il colosso statunitense, lasciando intendere che diventerà il distributore europeo di riferimento delle sue nuove produzioni.Contemporaneamente, gli altri poliziotti procedevano al controllo del 21enne, che tentava di nascondere un pacchetto in un muretto a secco dove, poco prima, si era registrata la cessione della droga.Il 40enne ed il 28enne, dopo aver cenato presso la birreria “Pedavena”, si erano rifiutati di pagare il conto e hanno aggredito, spintonato e schiaffeggiato un cameriere.Il 40enne invece ha reagito rincorrendolo: il ladro ha gettato a terra le chiavi dicendo di essere rimasto in panne e di essere in cerca di aiuto, ma le vittime non gli hanno creduto.Il 40enne, secondo quanto riferito dagli organizzatori, è rimasto qualche minuto nell'ufficio mentre il \"prof\" spiegava e poi - approfittando di un attimo di assenza degli organizzatori - ha guadagnato l'uscita ed è sparito con il bottino.Buon giocatore negli avanti di Taranaki e Hurricanes.Buone sensazioni da Cristiano Ronaldo, in gol per la seconda volta in quattro giorni e tra i pochi apparsi con la giusta voglia.Buone pratiche e soluzioni all’avanguardia certificate, per un’azienda modello che si pone in controtendenza rispetto alla media nazionale relativa agli infortuni nell’ambiente di lavoro.Buone performance per i titoli del settore bancario.Buone notizie per voi!Buone notizie anche per il grande complesso publico del quartiere Lenci, che conta 126 appartamenti.Ad aumentarne la qualità generale il doppiaggio giapponese originale completamente tradotti in (non finiremo mai di fare i complimenti a Bandai Namco per questo) e da musiche degne di una produzione giapponese di qualità.A 20 anni di distanza dal debutto della prima serie, e oltre 4 milioni di unità vendute in Europa di cui 500.000 ibride, la nuova Yaris arriverà in concessionaria il prossimo giugno.E ha condotto la trattativa per il finanziamento russo».Buon inizio dell’anno per la città di Arezzo dal punto di vista dell’inquinamento atmosferico.Buon inizio per la Kioene nel secondo set, con Louati e Torres a spingere verso il provvisorio 8-5.A dispetto di quanto si possa pensare, la fattura elettronica non riguarda solamente professionisti, aziende ed enti della pubblica amministrazione.Aida Yespica pubblica uno scatto in cui è completamente nuda: l’asciugamano non riesce a coprire tutto, Instagram diventa ‘super hot’.Il 439 va come un 625 e consuma di meno quindi considerando che si tratterà di un telefono economico va benissimo!Il 41enne venne denunciato il 3 maggio dal 2019 dalla madre di una 12enne.“Buongiorno amici, grazie per gli ascolti di ieri di Domenica Live!”E ha spazientito anche mister Inzaghi che, capita l'antifona, l''ha richiamato in panchina per far spazio a Caicedo già al 66esimo.Il 20enne è stato arrestato, in quanto responsabile dei reati di di armi clandestine ed alterazione di armi.Il 2020, infatti, si preannuncia un anno densissimo di progettualità e lavori di grande impatto sociale e più di 5 milioni di euro di investimenti complessivi.E dopo l’annuncio che nel cast ci saranno i politici Antonio Razzi e Nunzia De Girolamo, ecco svelato il terzo vip che ha deciso di partecipare al programma condotto da Milly Carlucci.Consapevoli della necessità di garantire la massima operatività di tutto il sistema di Protezione civile, abbiamo deciso di annullare l'evento che riprogrammeremo in una nuova data.Consegnare borracce nelle scuole con un sindaco così premuroso e attento ti fa continuare a credere negli esseri umani.Consapevole del ruolo che vado a ricoprire, lavorero' con dedizione e umilta', con spirito di apertura e di collaborazione nell'interesse della comunita' umbra, ha affermato Tesei nel suo discorso.E, dopo aver registrato alcune Instagram Stories per sua figlia Aurora, la svizzera si rende conto di indossare ancora un fazzoletto al collo.Bronzo alla Lombardia (Borruso, Moccia) con il 147-136 con cui regolano le Marche (Capozucca, Pianesi).E dopo la rottura si è mormorato anche di un presunto flirt tra Emma e Luca Daffrè, noto ex corteggiatore di Uomini e Donne.Brooke, al contrario, incoraggia Hope a far celebrare il matrimonio al più presto.I giorni della Ricerca: Rai e Airc ancora insieme nella campagna di raccolta fondi.I giornali pompano l’ambientalismo, ma nascondono le notizie scomode per i grandi inquinatori.I giochi riprodotti sono in e mentiremmo se vi dicessimo che non si nota.I giocatori vengono da tutta Italia, c’è chi gioca a calcio a 5 ma anche chi milita a buoni livelli a 11”.I giocatori sono tutti in attesa della sestina vincente delle estrazioni del Superenalotto, il cui jackpot è arrivato alla cifra stellare di 99’700’000 euro, quasi 100 milioni.Consegnato il “regalo di Natale” che l’Ordine delle professioni infermieristiche ha voluto fare al centro ippoterapico Bartolomania Ranch di Terontola.“I giorni di gratuità nei musei e nei siti archeologici del Mibac aumentano da 12 a 20 per ogni anno solare”.E dopo quell’amore durato qualche settimana la vita li separò.E dopo aver esultato insieme in campo (dove ha servito l’assist a ) i due compagni già di Under 21 hanno scattato questa simpatica foto sul pullman postandola poi sui social.E dopo 2 anni sono già vecchi nonostante gli oltre 1000 euro.Con riferimento alle imprese, l’indice di fiducia mostra andamenti differenziati nei diversi comparti.Con Rošková è coimputato anche Jozef A., amministratore della società fino al 2016.Consapevole di questo, da editrice, ho sempre creduto e continuo a credere nella poesia, per far scoprire e riscoprire il gusto della scrittura e della lettura anche a coloro che se ne sono dimenticati o non l’hanno ancora coltivato».A partire dalle segnalazioni che passeranno tramite un call center del dipartimento.Alla Breast Unit fa riferimento anche l’Unità Operativa di Senologia Diagnostica la cui mission è la diagnosi precoce del tumore mammario (prevenzione secondaria), che permette di ridurre la mortalità fino al 30 % dei casi.Edoardo Carlo Ceretti06/04/2019 ore 09:38 L'operatore rosso vince il testa a testa con TIM, mentre Wind Tre e Iliad non se la passano molto bene.Edoardo Carlo Ceretti09/02/2019 ore 09:46 Si tratta di uno sterilizzatore LED peso piuma – lanciato su Kickstarter – che si serve della porta USB C/Lightning del vostro smartphone per sbarazzarsi in pochi secondi del 99,9% dei germi che popolano i tasti.Edoardo Carlo Ceretti22/09/2019 ore 11:03rivoluzione digitale ha avuto un enorme impatto anche sullâ€™industria videoludica, causando il progressivo abbandono delle copie fisiche dei giochi.Edoardo Carlo Ceretti28/09/2019 ore 10:21Aggiornato il 28/09/2019 ore 18:19 Nei negozi e online.Edoardo Carlo Ceretti31/08/2019 ore 22:45 continua a spingere per affermarsi come la migliore alternativa per internet di rete fissa nelle aree italiane ancora non coperte da infrastrutture cablate adeguate.Edoardo Pesce ha da sempre unito alla sua attività di attore (ha recentemente vinto un David di Donatello per il suo ruolo in Dogman) alla la musica, scrivendo e suonando con la sua band appassionata di “blues, soul, romanesco” The S.Peter’s Stones.Edoardo Raspelli: \"Avevo 14 anni quando in sei mi violentarono, ero in un collegio\"È d’obbligo il sacco nero e la mascherina che copre solo gli occhi, ovviamente tutta nera.Ed oggi, a distanza di due anni, gli attriti tra i duenon accennano a placarsi.E don Alessandro Fortunati, parroco di Acquasparta, in una lettera pubblicata sui social chiede scusa all’uomo “a nome di tutti”.I giocatori si dovranno sfidare in un testa a testa in Puyo Puyo o Tetris.Con ricostruzioni grafiche e virtuali, si entrerà nella Roma di quegli anni.Brooke ha scoperto che suo marito e il giudice che ha emesso la sentenza nella procedura dell’affidamento del piccolo Will si conoscevano…Questo ha portato la donna ad avvicinarsi a Bill e tra i due c’è stato un bacio.I Giapponesi NON copiano e nonhanno mai copiato nulla, o almeno lo hanno fatto come tutti compresa l'italia.I giovani ruggers a Ligugnana avranno a disposizione due giorni alla settimana, il martedì ed il venerdì (dalle ore 18 alle 20), più un eventuale giorno di recupero in caso di maltempo.Brutte notizie dunque per chi ancora spera in una rinascita di BlackBerry.Brutte notizie per i fans di Beautiful che in questo periodo non andrà in onda.Allacciare le scarpe da tennis e correre è un gioco da ragazzi per introversi: sei solo tu e la strada, e forse musica nei tuoi auricolari.Alla \"Casa dei libri senza prezzo\", in via Ciro da Urbino, a Torpignattara, chiunque può entrare, prendere e portar via fino a 3 libri al giorno.I giovani ne escono doppiamente beffati».I giovani saranno retribuiti con un assegno di 500 euro mensili impegno settimanale di 25 ore.Alla carriera di attore Hart affianca quella di regista, firmando nell’arco di pochi anni, tra il 1914 e il 1920, una sessantina di film.Al termine del periodo di prova verrà addebitato automaticamente il prezzo di abbonamento standard, attualmente pari a 11,99 euro al mese.I giovani alunni saranno impegnati in alcune attività all’interno del parco, assisteranno alla piantumazione degli alberi e al rilascio in natura di un rapace recuperato ferito dalle Guardie Wwf, curato e salvato all’ospedale veterinario Frullone”.I giovani attori porteranno sulla scena dell’Olimpico tre esperienze di teatro classico, dal mito alla tragedia, utilizzando linguaggi scenici adattati alla loro età.E dopo tanto parlare, il blog IlVicolodelleNews.it ha risposto a questo quesito.E dopo, soltanto dopo, capire che quel tizio eccezionale era David Gilmour, in giro a Milano.I governatori hanno fatto il loro, anche quello dell’Emilia Romagna, se qualcuno dei 5 Stelle ha cambiato idea che lo dicano, altrimenti non si capisce questo tirarlo in lungo, visto che hanno detto si’ al referendum”.I Giovani della Lega sulla serata Zanotelli-Lucano: “Quel sindaco non è l’esempio da seguire”Brugnaro ne ha dato notizia con un tweet.Bruna Calegari era stata trovata nell'ufficio in cui lavorava con ferite da taglio.Brunelli (Figc): \"La Reggiana ha fatto la storia del calcio\".I giallorossi seguono da molto tempo il giocatore, ma i viola chiederanno almeno di euro.Brooke aspetta Hope al bar, ma riceve la visita inaspettata di Bill.A bordo dell'auto c'erano anche le sorelle della vittima: anche loro versano in gravi condizioni.Brooke ha però promesso al Forrester di mantenere il riserbo e l’unica cosa che può fare è continuare a star vicina all’ex marito e confortarlo in questo periodo difficile.I giocatori,salvo rare eccezioni,non conoscono nemmeno la data della scoperta dell'America;difficile e sbagliato avventurarsi su temi per loro totalmente sconosciuti.I giovani sospettano che la ragazza nutra un certo interesse per il ragazzo, pertanto, in preda alla gelosia, iniziano a farle una serie di domande.Abbiamo chiesto al braccio destro di se la questione è archiviata: \"La questione è fuori discussione, non pervenuta.Ad attirare l'attenzione sul cucciolo a stelle e strisce è stata la famosa coda che presenta al centro della fronte.Abbiamo alcuni infortuni, vediamo di vincere tutti insieme come una grande famiglia\".Brutta gara dello svizzero, sempre in ritardo sugli avversari e mai lucido fino in fondo.Al termine del match contro il Cile, l’attaccante argentino ha parlato ai microfoni delle tv: “Abbiamo chiuso una Copa America così come doveva essere.Brusco, nome d'arte di Giovanni Miraldi, torna a Milano per una serata all'insegna della musica reggae e dancehall, di cui è uno dei rappresentati di maggior successo in Italia.Bruno Peres, nostalgia di Roma: 'Nella capitale i miei momenti migliori'A i carabinieri del Nas hanno accertato che due genitori avevano presentato alla direzione scolastica una falsa certificazione di avvenuta vaccinazione dei propri figli.Bruno Manganaro, segretario genovese della Fiom, ha appena finito di incontrare i delegati in fabbrica e gli altri sindacalisti.E dopo che ci avrete detto chi ha torto, ci fate il piacere di farci sapere come si chiama?I gol su palla inattiva sono 4, ai quali vanno aggiunti i tre calci di rigore trasformati da Pulgar.Con Revolution l’idea è stata quella di digitalizzare questo contenuto.A partire dall’idea che collezionare sia atto creativo e, assieme, espressione di cura, la mostra avvia un lavoro di interpretazione delle esperienze contenute nella Luciano Benetton Collection.E dire che era in programma la discussione sul decreto sisma.E dire che “hanno una squadra da sogno”… Forse in circostanze del genere le personalità in campo contano addirittura poco.E dire che nel calcio circolano dirigenti strapagati che certe follie non dovrebbero farle ma si salvano con…la fortuna (o altri, come Boban e Maldini, che sono ANCHE un po’ sfigati, oltre agli errori commessi sul mercato, a partire da Giampaolo).E dire «sì», se possibile assieme ad altri europei, soltanto dopo che le necessarie garanzie politiche e di sicurezza saranno state date e sottoscritte dai cinesi.E’ direttamente il sindaco di Osiglia Paola Scarzella ad intervenire, anche alla luce di numerose segnalazioni arrivate da proprietari di terreni e coltivatori impegnati nella produzione e valorizzazione di prodotti tipici locali.Con questo successo il M'Gladbach sale a 25 punti mentre il Werder resta a quota 11.E dire che ci sono nuovi insediamenti per milioni di euro”E dirò loro che credo sia giusto rettificare.È di sinistra dire che “tutti devono essere messi nelle condizioni per poter fare tutto”.E' disponibile la 'Ricerca Regali' con suggerimenti sulla base degli interessi della persona per la quale si sta cercando il regalo e del budget a disposizione.Editoria, Fieg: apprezzamento per le misure urgenti contenute nella Legge di Bilancio.Editoriale sulla prima pagina di all'indomani del 2-2 di Madrid fra Atletico e Juventus.Editoria, Martella: nuova legge dopo l’approvazione della legge di Bilancio; stiamo pensando di introdurre varie cose…E’ diventata definitiva la condanna a 30 anni reclusione per imputata per l’omicidio del figlio Loris, di 8 anni, e per l’occultamento del cadavere del bambino.E, di sicuro, sarà qualcosa che non piacerà ai professori, tanto meno alla produzione che, a questo punto, non sappiamo come reagirà.I genitori hanno lasciato che i problemi delle figlie creassero una distanza anche tra di loro.Con questo stratagemma l'uomo si è fatto consegnare una caparra di ben 900 euro salvo poi far perdere tutti i suoi contatti.I giallorossi, in ripresa, non si fanno mai vedere in avanti e gli altoatesini la sbloccano quasi subito: azione prolungata, Casiraghi si impossessa della sfera e finta su Purro che lo atterra.I genitori possono avere un’influenza in proposito?I genitori hanno lasciato fare.Con questo ultimo delitto, Gugliemo nota un particolare dettaglio che collega la lunga serie di delitti: tutti presentano una macchia nera sull’indice destro.È direttrice spirituale del Center for Spiritual Elightenment a San José, in California, e collabora con il Centro Yoga Stella con sede a Savona, in quanto unita dallo stesso sentiero spirituale.Abbiamo approvato - dice - il provvedimento più importante per la politica economica e sociale dell'Italia.E di Verdi che cosa ne pensa?Con questo punto, i salentini agganciano il Pescara a quota 35, in quarta posizione, mentre il Venezia sale a 26, in dodicesima piazza solitaria.Con questo servizio, le app di Zuckerberg entrano ufficialmente nel mondo dei pagamenti digitali.Con questo soprannome era conosciuto da tante persone in città.I genitori si erano e il giovane si era per due semestri ma poi aveva dovuto interrompere per «una grave operazione allo stomaco».I genitori si separarono quando era ancora bambina e trascorse l'infanzia e l'adolescenza a Milano con la madre e la sorella.I genitori sono islamici, non possono rappresentare la figlia.I genitori sono orgogliosi della loro figliola e sognano ad occhi aperti su cosa potrebbe serbarle il futuro.I gialloblu di Montegiardino non hanno mai perso in questa stagione, chiudendo al primo posto il girone.I gialloblù sono l'unica squadra del campionato a non aver mai segnato con un attaccante.E' di Vittorio Barruffo, un napoletano nato nel 1975, scomparso lo scorso 9 luglio, il smembrato trovato domenica scorsa da un cacciatore nell'Isere, dipartimento francese della regione del Alvernia-Rodano-Alpi.Al termine dell’incontro si è registrata la conferma di un impegno forte da parte dell’Ente Parco, individuato come soggetto coordinatore della gestione della rete sentieristica.I genitori di Luca, ancora **terribilmente** addolorati per la perdita del figlio, non si sono preoccupati di rispondere agli insulti ricevuti dalla 25enne.I genitori dei due bambini hanno parlato poi anche dallo studio del loro avvocato.Al termine dell’incontro con Montanari, scambio di auguri di Natale con l’autore.I genitori del ballerino di Amici sono a Roma per qualche giorno, per stare insieme a lui e Veronica Peparini.I gadget riprendono il percorso intrapreso dai predecessori nel settore dell’health tracking e si dotano di un display sempre acceso che però non ha conseguenze sulla durata della batteria.I funzionari della contea di Maui hanno chiuso circa due miglia di costa, che include i Kamaole Beach Parks.Brocchi: \"Stiamo ricreando amore per il Monza, ora la mentalità vincente\"I funghi, in particolare le colture, sono spesso percepiti come “poveri genitori” della nutrizione.Brighenti probabile titolare in difesa, Ciano titolare al 100%.I funghi, inoltre, possono portare allergia in soggetti predisposti.All’abbattimento del vecchio edificio destinato alla lavorazione delle carni seguirà, nei prossimi mesi, la costruzione della scuola innovativa progettata dallo stesso Piano.Al termine dell'intervento in via Regia, il 27enne Q.G."
      ],
      "text/plain": [
       "<IPython.core.display.Markdown object>"
      ]
     },
     "metadata": {},
     "output_type": "display_data"
    },
    {
     "data": {
      "text/markdown": [
       "Borsani Giuseppe (morto 8/8/1988) un ragazzo di 18 anni che lavorava da 20 giorni con un contratto di \"Cambiano le tradizioni, ma rimane l’attenzione all’ambiente e alla natura.Il tema è sempre lo stesso: squadre **terribilmente** aggressive e, come conseguenza, indisciplinate.“Cambiano la Costituzione, hanno truccato le votazioni per fare la Repubblica sennò votavano la Monarchia e noi non possiamo mettere nella busta 5 simpatici?Il tedesco, che era in testa, paga un errore a 14 giri dalla fine, con pista bagnata.Cambiano gli allenatori, cambiano gli interpreti e cambia il suo minutaggio, ma una verità rimane sempre la stessa: questa Juve non può proprio rinunciare a Gonzalo Higuain.Ai microfoni di IVG.it il primo cittadino savonese spiega: “Non c’è nessuna divergenza con il presidente Toti con cui, all’inizio del nuovo anno, aprirò i primi cantieri per realizzare i lavori finanziati dal fondo strategico regionale.Con un dubbio: Caicedo è sembrato in forma, tra i più pimpanti contro l'Inter.E insieme al fuoco, che scottava solo a guardarlo, nel cielo si sono disegnate sagome scure come uccelli dalle larghe ali che volavano delicatamente sospese nel divampare della fiamma.Con un'esperta che, oltre a svelare tutti gli step di una perfetta skincare routine, ha dispensato consigli «smart» per non sbagliare i regali di Natale destinati a fidanzati, amiche e mamme.In occasione del lancio di Foodicola, sarà inoltre presentato Iltuogiornale.Con undici solisti non fai buona musica, devono esserci 5-6 buoni giocatori, con manovalanza di alto livello.della usica popolare che si tiene in quel periodo nel comune di Montemerano, dove si è sposato."
      ],
      "text/plain": [
       "<IPython.core.display.Markdown object>"
      ]
     },
     "metadata": {},
     "output_type": "display_data"
    },
    {
     "data": {
      "text/markdown": [
       "Non avendo mai visto uno spettro in vita sua, era troppo logico che il povero fantasma ne fosse **terribilmente** spaventato, e dopo un''altra fuggevole occhiata alla paurosa apparizione, fuggì precipitosamente nella propriasolo pensare a chi, estraendo i corpi dal Pozzo, si è trovato davanti ad amici, compagni, familiari così barbaramente e **terribilmente** torturati, uccisi."
      ],
      "text/plain": [
       "<IPython.core.display.Markdown object>"
      ]
     },
     "metadata": {},
     "output_type": "display_data"
    },
    {
     "data": {
      "text/markdown": [
       "Lui, l''alfiere del nazionalismo nero, era anche **terribilmente** bigotto e conservatore quando si trattava di moralità personale."
      ],
      "text/plain": [
       "<IPython.core.display.Markdown object>"
      ]
     },
     "metadata": {},
     "output_type": "display_data"
    },
    {
     "data": {
      "text/markdown": [
       "Malcolmpunte che vi guardano immobili, che si guardano immobili - quelle delle due lineette che ne troncano inesorabilmente, **terribilmente** le cime - quell''arco inferiore, sul quale la lettera oscilla e si dondola sogghignando - e nell''interno quel nero, quelha disputato una buona partita, affondata oltre i propri demeriti: l''obiettivo salvezza resta perseguibile, ma **terribilmente** complicato."
      ],
      "text/plain": [
       "<IPython.core.display.Markdown object>"
      ]
     },
     "metadata": {},
     "output_type": "display_data"
    },
    {
     "data": {
      "text/markdown": [
       "Finanche di quelle nuvole, così eteree eppure **terribilmente** asfissianti."
      ],
      "text/plain": [
       "<IPython.core.display.Markdown object>"
      ]
     },
     "metadata": {},
     "output_type": "display_data"
    },
    {
     "data": {
      "text/markdown": [
       "Con Moldrock si è giocato d''anticipo mostrando subito un cattivo problematico ma allo stesso tempo **terribilmente** forte."
      ],
      "text/plain": [
       "<IPython.core.display.Markdown object>"
      ]
     },
     "metadata": {},
     "output_type": "display_data"
    },
    {
     "data": {
      "text/markdown": [
       "Ma il Lontano **terribilmente** , **terribilmente** continua."
      ],
      "text/plain": [
       "<IPython.core.display.Markdown object>"
      ]
     },
     "metadata": {},
     "output_type": "display_data"
    },
    {
     "data": {
      "text/markdown": [
       "- ma mi sento ancora molto lontano da ciò, ed è **terribilmente** frustrante."
      ],
      "text/plain": [
       "<IPython.core.display.Markdown object>"
      ]
     },
     "metadata": {},
     "output_type": "display_data"
    },
    {
     "data": {
      "text/markdown": [
       "Ritornato a Roma la trovò afflitta da grave pestilenza che **terribilmente** travagliava tutta l''Italia."
      ],
      "text/plain": [
       "<IPython.core.display.Markdown object>"
      ]
     },
     "metadata": {},
     "output_type": "display_data"
    },
    {
     "data": {
      "text/markdown": [
       "Siccome stentavasi a trovare chi volesse andare a servire gli appestati, così egli'' par condicio'' , sbizzarrendosi magari a inventare '' calembour'' più o meno felici, ma resta pur sempre un argomento **terribilmente** serio e decisivo."
      ],
      "text/plain": [
       "<IPython.core.display.Markdown object>"
      ]
     },
     "metadata": {},
     "output_type": "display_data"
    },
    {
     "data": {
      "text/markdown": [
       "Ironica, come nello stile di Serena Dandini e Dario Vergassola, ma - nella sua ironia - **terribilmente** seria."
      ],
      "text/plain": [
       "<IPython.core.display.Markdown object>"
      ]
     },
     "metadata": {},
     "output_type": "display_data"
    },
    {
     "data": {
      "text/markdown": [
       "Ma re Ferdinando gravò **terribilmente** la sua mano sui baroni ribelli, sfogando contro di essi il suo spirito di vendetta."
      ],
      "text/plain": [
       "<IPython.core.display.Markdown object>"
      ]
     },
     "metadata": {},
     "output_type": "display_data"
    },
    {
     "data": {
      "text/markdown": [
       "Possiamo notare anche come il momento o la serie di momenti più importanti della nostra vita siano **terribilmente** trascurati, poiché, in genere, l''anima accetta le concezioni che si trova davanti in maniera irriflessa, frettolosatra la gente perché la testa **terribilmente** mi sudava."
      ],
      "text/plain": [
       "<IPython.core.display.Markdown object>"
      ]
     },
     "metadata": {},
     "output_type": "display_data"
    },
    {
     "data": {
      "text/markdown": [
       "Potete nascondere le mani ed i piedi ma non la testa, e questo mi ha **terribilmente** distrutto."
      ],
      "text/plain": [
       "<IPython.core.display.Markdown object>"
      ]
     },
     "metadata": {},
     "output_type": "display_data"
    },
    {
     "data": {
      "text/markdown": [
       "Disegni che richiamano **terribilmente** quello delle MOSAIC  Poi come al solito a decidere sarà il portafoglio, non il requisito  perdoni l''ignoranza, ma esistecosa che salta alle orecchie è il sound: patinato, perfetto, precisissimo, impeccabile."
      ],
      "text/plain": [
       "<IPython.core.display.Markdown object>"
      ]
     },
     "metadata": {},
     "output_type": "display_data"
    },
    {
     "data": {
      "text/markdown": [
       "Una batteria digitale e **terribilmente** \"finta\", una voce spesso effettata, chitarre compatte come mai lo erano state... insomma, la \"pulizia\" dellosorta di \"Babbo Natale\": portavamo le caramelle, i colori, la musica."
      ],
      "text/plain": [
       "<IPython.core.display.Markdown object>"
      ]
     },
     "metadata": {},
     "output_type": "display_data"
    },
    {
     "data": {
      "text/markdown": [
       "Mi sono affezionata **terribilmente** ai quei piccoli monelli, anche se non ho potuto comunicare con le parole quanto ho voluto loro bene."
      ],
      "text/plain": [
       "<IPython.core.display.Markdown object>"
      ]
     },
     "metadata": {},
     "output_type": "display_data"
    },
    {
     "data": {
      "text/markdown": [
       "\"Un punto dolente secondo molti è il fatto che questo ffx-2 sia **terribilmente** scanzonato...\"  \"... e leggero."
      ],
      "text/plain": [
       "<IPython.core.display.Markdown object>"
      ]
     },
     "metadata": {},
     "output_type": "display_data"
    },
    {
     "data": {
      "text/markdown": [
       "Insomma, l''evocatrice posata e timidona del prequel è diventata una cantante che: Quando voglio rilassarmi un poco, in un''atmosfera familiare,entro in questo sito bello e \"confortevole\" : sono **terribilmente** sola."
      ],
      "text/plain": [
       "<IPython.core.display.Markdown object>"
      ]
     },
     "metadata": {},
     "output_type": "display_data"
    },
    {
     "data": {
      "text/markdown": [
       "-un assassino sconta la sua pena fino alla morte, anche se **terribilmente** pentito di ciò che ha fatto, e certo di aver sprecato 2 vite, quella della vittima e la sua."
      ],
      "text/plain": [
       "<IPython.core.display.Markdown object>"
      ]
     },
     "metadata": {},
     "output_type": "display_data"
    },
    {
     "data": {
      "text/markdown": [
       "Jamison, nota per i suoi studi fondamentali sul disturbo bipolare e il suicidio: \"A meno che qualcuno viva una vita **terribilmente** noiosa, non abbia alcuna speranza che possa essere distrutta, nessun amore che possa essere perduto, o viaggi dallao un coro si alzassero dalle tribune."
      ],
      "text/plain": [
       "<IPython.core.display.Markdown object>"
      ]
     },
     "metadata": {},
     "output_type": "display_data"
    },
    {
     "data": {
      "text/markdown": [
       "Il silenzio surreale che aleggiava nello stadio era per me qualcosa di nuovo e di **terribilmente** sconcertante, quello sport senza cori, striscioni e bandiere non era il calcio a cui sono abituato."
      ],
      "text/plain": [
       "<IPython.core.display.Markdown object>"
      ]
     },
     "metadata": {},
     "output_type": "display_data"
    },
    {
     "data": {
      "text/markdown": [
       "Lui, così freddo, adesso è **terribilmente** emozionato."
      ],
      "text/plain": [
       "<IPython.core.display.Markdown object>"
      ]
     },
     "metadata": {},
     "output_type": "display_data"
    },
    {
     "data": {
      "text/markdown": [
       "Tutto sommato non è statoemergenza di un parto fatto in casa alla bell''e meglio e sotto l''influsso di un''emozione sovrastante, pare minacciare **terribilmente** il suo destino, il suo futuro, magari di immigrata clandestina."
      ],
      "text/plain": [
       "<IPython.core.display.Markdown object>"
      ]
     },
     "metadata": {},
     "output_type": "display_data"
    },
    {
     "data": {
      "text/markdown": [
       "Meno claustrofobico che in passato ma, quel che è peggio, **terribilmente** più lucido è lo scenario sonoro mediante il quale i milanesi constatano la totale rassegnazione, \"aggrappati allacorrisponde a svegliarsi ripetutamente durante la notte o svegliarsi automaticamente nel primo mattino sentendosi **terribilmente** stanchi."
      ],
      "text/plain": [
       "<IPython.core.display.Markdown object>"
      ]
     },
     "metadata": {},
     "output_type": "display_data"
    },
    {
     "data": {
      "text/markdown": [
       "E'' uno spettacolo che ha urgenza di essere gridato, pianto, urlato proprio perché è ildi giocare sapientemente con le scene in modo da trasmetterle rapidamente e in modo interessante, ma la trama è **terribilmente** caotica."
      ],
      "text/plain": [
       "<IPython.core.display.Markdown object>"
      ]
     },
     "metadata": {},
     "output_type": "display_data"
    },
    {
     "data": {
      "text/markdown": [
       "Comunque si, ad Ischia si mangia **terribilmente** bene!"
      ],
      "text/plain": [
       "<IPython.core.display.Markdown object>"
      ]
     },
     "metadata": {},
     "output_type": "display_data"
    },
    {
     "data": {
      "text/markdown": [
       "Cucina verace, che risente gli influssi del mare e del clima mediterraneo, della campagna, dei prodotti della, perché non saranno mai sprecate le parole che verranno usate per ricordare la storia, nonostante questa sia **terribilmente** atroce."
      ],
      "text/plain": [
       "<IPython.core.display.Markdown object>"
      ]
     },
     "metadata": {},
     "output_type": "display_data"
    },
    {
     "data": {
      "text/markdown": [
       "RESTEA - (Lei piange con più forza) Per me è come se fosse **terribilmente** morto."
      ],
      "text/plain": [
       "<IPython.core.display.Markdown object>"
      ]
     },
     "metadata": {},
     "output_type": "display_data"
    },
    {
     "data": {
      "text/markdown": [
       "(Esce)  MISOTRILPO - Qua se c''è qualcuno che ha ancora le idee chiare... (Accusa di colpo forti dolori alla: li c''erano fabbriche con 25.000 operai; adesso ci sono un po'' di call center e tante piccole fabbriche, che stentano **terribilmente** a diventare tessuto, a diventare distretto."
      ],
      "text/plain": [
       "<IPython.core.display.Markdown object>"
      ]
     },
     "metadata": {},
     "output_type": "display_data"
    },
    {
     "data": {
      "text/markdown": [
       "Contro di essa si sentiva **terribilmente** solo: per quanto avesse cercato di spiegare ai grandi la minaccia che gli si presentava così vicina ogni notte, sicon Inter, Fiorentina, Bari e Parma e nonostante la scossa positiva portata dallo strepitoso Frey continua a stentare **terribilmente** ."
      ],
      "text/plain": [
       "<IPython.core.display.Markdown object>"
      ]
     },
     "metadata": {},
     "output_type": "display_data"
    },
    {
     "data": {
      "text/markdown": [
       "Prandelli, confermati i timori sull''evanescenza del proprio attacco non sa più che pesci pigliare e nellache ha il corpo di esplorarli e di ritrasmetterli, di evidenziare quelle caratteristiche che ci rendono tutti così **terribilmente** uguali, tutti immagini diverse di quell''unica natura umana che rende le nostre infinite diversità una grande unità\"."
      ],
      "text/plain": [
       "<IPython.core.display.Markdown object>"
      ]
     },
     "metadata": {},
     "output_type": "display_data"
    },
    {
     "data": {
      "text/markdown": [
       "nella valle di katmandu, non mi sento di consigliarvi di assistere a tali riti a meno non siate di stomaco forte ovvero **terribilmente** interessati alla cultura e alla religione locale."
      ],
      "text/plain": [
       "<IPython.core.display.Markdown object>"
      ]
     },
     "metadata": {},
     "output_type": "display_data"
    },
    {
     "data": {
      "text/markdown": [
       "L''esperienza è molto forte, sarete circondati da migliaia didi vasta portata e di lunga durata; infatti, il messaggio inequivocabile della vicenda è che i Lloyd''s sono **terribilmente** seri nella loro dichiarata volontà di trascinare verso l''alto le prestazioni dell''intero mercato, senza ascoltare ''banali, mi sciolgo in una canzone o in una poesia, ho il culto dell''amicizia come i giovanissimi, sono ancora curiosa e **terribilmente** inquieta , ma diversa da qualche anno fa."
      ],
      "text/plain": [
       "<IPython.core.display.Markdown object>"
      ]
     },
     "metadata": {},
     "output_type": "display_data"
    },
    {
     "data": {
      "text/markdown": [
       "Le sue condizioni di salute si sono stabilizzate ma è ancora **terribilmente** affaticata con attacchi di male al ventre (e qui di nuovo non è possibile fare a meno di notare il collegamento con l''tra le dichiarazioni del fratello: \"La parte più difficile di tutto questo è che Kurt non è più con noi, e ci manca **terribilmente** ."
      ],
      "text/plain": [
       "<IPython.core.display.Markdown object>"
      ]
     },
     "metadata": {},
     "output_type": "display_data"
    },
    {
     "data": {
      "text/markdown": [
       "Era un individuo incredibile che amava tutti quanti e cercava di fare del mondo un posto migliore\" - Chi scriveràfino allo sfinimento i livelli al solo fine di accumularne di extra... è un violentissimo freno al ritmo di gioco che ha **terribilmente** smorzato la mia prova."
      ],
      "text/plain": [
       "<IPython.core.display.Markdown object>"
      ]
     },
     "metadata": {},
     "output_type": "display_data"
    },
    {
     "data": {
      "text/markdown": [
       "Sarà stato qualcosa di **terribilmente** rumoroso!"
      ],
      "text/plain": [
       "<IPython.core.display.Markdown object>"
      ]
     },
     "metadata": {},
     "output_type": "display_data"
    },
    {
     "data": {
      "text/markdown": [
       "marzo alle ore 21 in \"Sala Dante\" a Conselve, si svolgerà un incontro a ricordo di tutte le vittime della mafia: fenomeno **terribilmente** grave e che non interessa solo i territori di origine."
      ],
      "text/plain": [
       "<IPython.core.display.Markdown object>"
      ]
     },
     "metadata": {},
     "output_type": "display_data"
    },
    {
     "data": {
      "text/markdown": [
       "La mafia negli anni si è trasformata camaleonticamente e hasplendido disastro\" (click sul titolo per la mia recensione), ma qui la voce narrante non è più Abby ma il più fascinoso e **terribilmente** dolce bad boy di tutti i tempi: Travis, Maddog, Maddox."
      ],
      "text/plain": [
       "<IPython.core.display.Markdown object>"
      ]
     },
     "metadata": {},
     "output_type": "display_data"
    },
    {
     "data": {
      "text/markdown": [
       "Il catalogo degli orrori dei due giornalisti milanesi (l''uno de La Repubblica, l''altro del Corriere della Sera) è spaventosamente ricco di nomi e cognomi, e descrive un paese che, dalla Lombardia alla Sicilia, non ha risparmiato all''Università ilcolpiva era la normalità di Eichmann, che non appariva come un mostro sanguinario ma come una persona \"**terribilmente** e spaventosamente normale\"."
      ],
      "text/plain": [
       "<IPython.core.display.Markdown object>"
      ]
     },
     "metadata": {},
     "output_type": "display_data"
    },
    {
     "data": {
      "text/markdown": [
       "E a soffrire **terribilmente** non sarebbero solo i produttori americani, ma anche le economie degli Stati più deboli."
      ],
      "text/plain": [
       "<IPython.core.display.Markdown object>"
      ]
     },
     "metadata": {},
     "output_type": "display_data"
    },
    {
     "data": {
      "text/markdown": [
       "La ''BBC'' ha raccolto poi alcune dichiarazioni di un portavoce deo Tottenham: \"Abbiamo supportato Jan e la sua famiglia in questo periodo **terribilmente** traumatico."
      ],
      "text/plain": [
       "<IPython.core.display.Markdown object>"
      ]
     },
     "metadata": {},
     "output_type": "display_data"
    }
   ],
   "source": [
    "find_sentences_with_keyword(document7, 'terribilmente')"
   ]
  }
 ],
 "metadata": {
  "kernelspec": {
   "display_name": "Python 3 (ipykernel)",
   "language": "python",
   "name": "python3"
  },
  "language_info": {
   "codemirror_mode": {
    "name": "ipython",
    "version": 3
   },
   "file_extension": ".py",
   "mimetype": "text/x-python",
   "name": "python",
   "nbconvert_exporter": "python",
   "pygments_lexer": "ipython3",
   "version": "3.7.11"
  }
 },
 "nbformat": 4,
 "nbformat_minor": 5
}
