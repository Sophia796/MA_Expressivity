{
 "cells": [
  {
   "cell_type": "markdown",
   "id": "94241e01",
   "metadata": {},
   "source": [
    "# Kandidaten"
   ]
  },
  {
   "cell_type": "code",
   "execution_count": 1,
   "id": "f2a92e58",
   "metadata": {},
   "outputs": [],
   "source": [
    "import codecs\n",
    "from collections import Counter\n",
    "from IPython.display import Markdown, display\n",
    "import nltk\n",
    "import numpy as np\n",
    "import os\n",
    "import pandas as pd\n",
    "import re\n",
    "import scipy\n",
    "import spacy"
   ]
  },
  {
   "cell_type": "markdown",
   "id": "ff5e1734",
   "metadata": {},
   "source": [
    "### Anzahl der Kandidaten im lemmatisierten, normalisierten Korpus (Trainingskorpus für die Embeddings)"
   ]
  },
  {
   "cell_type": "code",
   "execution_count": 2,
   "id": "2171d7a8",
   "metadata": {},
   "outputs": [],
   "source": [
    "df = pd.read_csv('Korpus/corpus_lemmatized.csv', sep=',', encoding='utf-8')"
   ]
  },
  {
   "cell_type": "code",
   "execution_count": 3,
   "id": "ed122676",
   "metadata": {},
   "outputs": [
    {
     "data": {
      "text/html": [
       "<div>\n",
       "<style scoped>\n",
       "    .dataframe tbody tr th:only-of-type {\n",
       "        vertical-align: middle;\n",
       "    }\n",
       "\n",
       "    .dataframe tbody tr th {\n",
       "        vertical-align: top;\n",
       "    }\n",
       "\n",
       "    .dataframe thead th {\n",
       "        text-align: right;\n",
       "    }\n",
       "</style>\n",
       "<table border=\"1\" class=\"dataframe\">\n",
       "  <thead>\n",
       "    <tr style=\"text-align: right;\">\n",
       "      <th></th>\n",
       "      <th>doc</th>\n",
       "      <th>source</th>\n",
       "      <th>author</th>\n",
       "      <th>title</th>\n",
       "      <th>year</th>\n",
       "      <th>period</th>\n",
       "      <th>text_type</th>\n",
       "      <th>text</th>\n",
       "      <th>words</th>\n",
       "      <th>lemmatized_text</th>\n",
       "    </tr>\n",
       "  </thead>\n",
       "  <tbody>\n",
       "    <tr>\n",
       "      <th>0</th>\n",
       "      <td>Poesia.IV.11.Testo.txt</td>\n",
       "      <td>MIDIA</td>\n",
       "      <td>Giambattista Felice Zappi</td>\n",
       "      <td>Poesie</td>\n",
       "      <td>1700.0</td>\n",
       "      <td>1700-1750</td>\n",
       "      <td>poesia</td>\n",
       "      <td>IV. 11. Rime degli arcadi: Tirsi Leucasio (Gio...</td>\n",
       "      <td>6113.0</td>\n",
       "      <td>iv . 11 . rima del arcade : tirsi leucasio ( g...</td>\n",
       "    </tr>\n",
       "    <tr>\n",
       "      <th>1</th>\n",
       "      <td>Personali.IV.5.Testo.txt</td>\n",
       "      <td>MIDIA</td>\n",
       "      <td>Lorenzo Magalotti</td>\n",
       "      <td>Lettere odorose (1693-1705)</td>\n",
       "      <td>1700.0</td>\n",
       "      <td>1700-1750</td>\n",
       "      <td>personale</td>\n",
       "      <td>IV. 5. Lorenzo Magalotti, Lettere odorose (169...</td>\n",
       "      <td>8374.0</td>\n",
       "      <td>iv . 5 . Lorenzo magalotti , lettere odoroso (...</td>\n",
       "    </tr>\n",
       "    <tr>\n",
       "      <th>2</th>\n",
       "      <td>Espositivi.IV.4.Testo.txt</td>\n",
       "      <td>MIDIA</td>\n",
       "      <td>Ludovico Antonio Muratori</td>\n",
       "      <td>Antichità italiane</td>\n",
       "      <td>1700.0</td>\n",
       "      <td>1700-1750</td>\n",
       "      <td>espositivo</td>\n",
       "      <td>﻿IV. 4. Ludovico Antonio Muratori, Antichità i...</td>\n",
       "      <td>8990.0</td>\n",
       "      <td>﻿iv . 4 . Ludovico Antonio muratori , antichit...</td>\n",
       "    </tr>\n",
       "    <tr>\n",
       "      <th>3</th>\n",
       "      <td>Personali.IV.15.Testo.txt</td>\n",
       "      <td>MIDIA</td>\n",
       "      <td>Pietro Giannone</td>\n",
       "      <td>Vita scritta da lui medesimo</td>\n",
       "      <td>1700.0</td>\n",
       "      <td>1700-1750</td>\n",
       "      <td>personale</td>\n",
       "      <td>[Proemio]\\nPrendo a scrivere la mia vita e qua...</td>\n",
       "      <td>10118.0</td>\n",
       "      <td>[ proemio ] \\n prendere a scrivere il mio vita...</td>\n",
       "    </tr>\n",
       "    <tr>\n",
       "      <th>4</th>\n",
       "      <td>Personali.IV.4.Testo.txt</td>\n",
       "      <td>MIDIA</td>\n",
       "      <td>Vincenzo da Filicaia</td>\n",
       "      <td>Lettere inedite a Lorenzo Magalotti</td>\n",
       "      <td>1700.0</td>\n",
       "      <td>1700-1750</td>\n",
       "      <td>personale</td>\n",
       "      <td>IV. 4. Vincenzo da Filicaia, Lettere inedite a...</td>\n",
       "      <td>10073.0</td>\n",
       "      <td>iv . 4 . Vincenzo da filicaia , lettere inedit...</td>\n",
       "    </tr>\n",
       "  </tbody>\n",
       "</table>\n",
       "</div>"
      ],
      "text/plain": [
       "                         doc source                      author  \\\n",
       "0     Poesia.IV.11.Testo.txt  MIDIA   Giambattista Felice Zappi   \n",
       "1   Personali.IV.5.Testo.txt  MIDIA           Lorenzo Magalotti   \n",
       "2  Espositivi.IV.4.Testo.txt  MIDIA  Ludovico Antonio Muratori    \n",
       "3  Personali.IV.15.Testo.txt  MIDIA             Pietro Giannone   \n",
       "4   Personali.IV.4.Testo.txt  MIDIA        Vincenzo da Filicaia   \n",
       "\n",
       "                                 title    year     period   text_type  \\\n",
       "0                               Poesie  1700.0  1700-1750      poesia   \n",
       "1          Lettere odorose (1693-1705)  1700.0  1700-1750   personale   \n",
       "2                   Antichità italiane  1700.0  1700-1750  espositivo   \n",
       "3         Vita scritta da lui medesimo  1700.0  1700-1750   personale   \n",
       "4  Lettere inedite a Lorenzo Magalotti  1700.0  1700-1750   personale   \n",
       "\n",
       "                                                text    words  \\\n",
       "0  IV. 11. Rime degli arcadi: Tirsi Leucasio (Gio...   6113.0   \n",
       "1  IV. 5. Lorenzo Magalotti, Lettere odorose (169...   8374.0   \n",
       "2  ﻿IV. 4. Ludovico Antonio Muratori, Antichità i...   8990.0   \n",
       "3  [Proemio]\\nPrendo a scrivere la mia vita e qua...  10118.0   \n",
       "4  IV. 4. Vincenzo da Filicaia, Lettere inedite a...  10073.0   \n",
       "\n",
       "                                     lemmatized_text  \n",
       "0  iv . 11 . rima del arcade : tirsi leucasio ( g...  \n",
       "1  iv . 5 . Lorenzo magalotti , lettere odoroso (...  \n",
       "2  ﻿iv . 4 . Ludovico Antonio muratori , antichit...  \n",
       "3  [ proemio ] \\n prendere a scrivere il mio vita...  \n",
       "4  iv . 4 . Vincenzo da filicaia , lettere inedit...  "
      ]
     },
     "execution_count": 3,
     "metadata": {},
     "output_type": "execute_result"
    }
   ],
   "source": [
    "df.head()"
   ]
  },
  {
   "cell_type": "code",
   "execution_count": 4,
   "id": "da8051c8",
   "metadata": {},
   "outputs": [
    {
     "data": {
      "text/plain": [
       "(304129, 10)"
      ]
     },
     "execution_count": 4,
     "metadata": {},
     "output_type": "execute_result"
    }
   ],
   "source": [
    "df.shape"
   ]
  },
  {
   "cell_type": "code",
   "execution_count": 5,
   "id": "515a1157",
   "metadata": {},
   "outputs": [],
   "source": [
    "df.text = df.text.fillna('')\n",
    "df.lemmatized_text = df.lemmatized_text.fillna('')"
   ]
  },
  {
   "cell_type": "code",
   "execution_count": 6,
   "id": "1c3cc584",
   "metadata": {},
   "outputs": [],
   "source": [
    "# Teilframes pro Zeitraum erstellen\n",
    "\n",
    "period_frames = []\n",
    "periods = list(df['period'].unique())\n",
    "df_periods = dict(tuple(df.groupby(by='period')))\n",
    "\n",
    "for df, period in zip(df_periods, periods):\n",
    "    df_period = df_periods[period]\n",
    "    period_frames.append(df_period)"
   ]
  },
  {
   "cell_type": "code",
   "execution_count": 7,
   "id": "55abe7b3",
   "metadata": {},
   "outputs": [],
   "source": [
    "# Funktion, die bestimmte Wörter zählt (im lemmatisierten Text)\n",
    "\n",
    "def count_keywords(df, keywords):\n",
    "    keyword_dict = {w:w.replace(' ', '_') for w in keywords}\n",
    "\n",
    "    corpus = ' '.join(df.lemmatized_text).lower()\n",
    "    for w,w2 in keyword_dict.items():\n",
    "        corpus = corpus.replace(w,w2)\n",
    "\n",
    "    all_counts = Counter(corpus.split())\n",
    "    final_counts = {w:all_counts[w2] for w,w2 in keyword_dict.items()}\n",
    "    return final_counts"
   ]
  },
  {
   "cell_type": "code",
   "execution_count": 8,
   "id": "847f3f93",
   "metadata": {},
   "outputs": [],
   "source": [
    "# mögliche Kandidaten\n",
    "\n",
    "keywords = ['atrocemente', 'formidabilmente', 'mostruosamente', 'orrendamente', \n",
    "            'orribilmente', 'spaventosamente', 'terribilmente', 'tremendamente', \n",
    "            'molto', 'angoscia', 'angosciare', 'ansia', 'atterrire', 'panico', \n",
    "            'paura', 'raccapricciare', 'raccapriccio', 'schifo', 'sgomentare', \n",
    "            'sgomento', 'spaventare', 'spavento', 'terrore', 'domani', 'finora', \n",
    "            'ieri', 'oggi', 'presto', 'raramente', 'sempre', 'spesso']"
   ]
  },
  {
   "cell_type": "code",
   "execution_count": 9,
   "id": "48ea6679",
   "metadata": {},
   "outputs": [],
   "source": [
    "candidates = {}\n",
    "\n",
    "for df, period in zip(period_frames, periods):\n",
    "    res = count_keywords(df, keywords)\n",
    "    candidates[period] = res"
   ]
  },
  {
   "cell_type": "code",
   "execution_count": 10,
   "id": "7ea39edb",
   "metadata": {},
   "outputs": [
    {
     "data": {
      "text/plain": [
       "{'1700-1750': {'atrocemente': 2,\n",
       "  'formidabilmente': 0,\n",
       "  'mostruosamente': 2,\n",
       "  'orrendamente': 1,\n",
       "  'orribilmente': 28,\n",
       "  'spaventosamente': 11,\n",
       "  'terribilmente': 18,\n",
       "  'tremendamente': 0,\n",
       "  'molto': 15326,\n",
       "  'angoscia': 26,\n",
       "  'angosciare': 0,\n",
       "  'ansia': 1,\n",
       "  'atterrire': 136,\n",
       "  'panico': 16,\n",
       "  'paura': 247,\n",
       "  'raccapricciare': 12,\n",
       "  'raccapriccio': 1,\n",
       "  'schifo': 17,\n",
       "  'sgomentare': 83,\n",
       "  'sgomento': 8,\n",
       "  'spaventare': 96,\n",
       "  'spavento': 297,\n",
       "  'terrore': 200,\n",
       "  'domani': 44,\n",
       "  'finora': 336,\n",
       "  'ieri': 39,\n",
       "  'oggi': 784,\n",
       "  'presto': 361,\n",
       "  'raramente': 11,\n",
       "  'sempre': 2953,\n",
       "  'spesso': 743},\n",
       " '1751-1800': {'atrocemente': 4,\n",
       "  'formidabilmente': 0,\n",
       "  'mostruosamente': 0,\n",
       "  'orrendamente': 1,\n",
       "  'orribilmente': 30,\n",
       "  'spaventosamente': 1,\n",
       "  'terribilmente': 15,\n",
       "  'tremendamente': 0,\n",
       "  'molto': 18796,\n",
       "  'angoscia': 81,\n",
       "  'angosciare': 0,\n",
       "  'ansia': 3,\n",
       "  'atterrire': 87,\n",
       "  'panico': 11,\n",
       "  'paura': 265,\n",
       "  'raccapricciare': 3,\n",
       "  'raccapriccio': 11,\n",
       "  'schifo': 38,\n",
       "  'sgomentare': 19,\n",
       "  'sgomento': 4,\n",
       "  'spaventare': 92,\n",
       "  'spavento': 128,\n",
       "  'terrore': 174,\n",
       "  'domani': 202,\n",
       "  'finora': 303,\n",
       "  'ieri': 111,\n",
       "  'oggi': 723,\n",
       "  'presto': 688,\n",
       "  'raramente': 103,\n",
       "  'sempre': 3731,\n",
       "  'spesso': 1068},\n",
       " '1801-1825': {'atrocemente': 4,\n",
       "  'formidabilmente': 0,\n",
       "  'mostruosamente': 2,\n",
       "  'orrendamente': 14,\n",
       "  'orribilmente': 42,\n",
       "  'spaventosamente': 3,\n",
       "  'terribilmente': 16,\n",
       "  'tremendamente': 2,\n",
       "  'molto': 16968,\n",
       "  'angoscia': 147,\n",
       "  'angosciare': 13,\n",
       "  'ansia': 9,\n",
       "  'atterrire': 99,\n",
       "  'panico': 3,\n",
       "  'paura': 255,\n",
       "  'raccapricciare': 10,\n",
       "  'raccapriccio': 11,\n",
       "  'schifo': 7,\n",
       "  'sgomentare': 15,\n",
       "  'sgomento': 6,\n",
       "  'spaventare': 163,\n",
       "  'spavento': 144,\n",
       "  'terrore': 224,\n",
       "  'domani': 372,\n",
       "  'finora': 150,\n",
       "  'ieri': 501,\n",
       "  'oggi': 1872,\n",
       "  'presto': 727,\n",
       "  'raramente': 38,\n",
       "  'sempre': 4375,\n",
       "  'spesso': 1027},\n",
       " '1826-1850': {'atrocemente': 21,\n",
       "  'formidabilmente': 0,\n",
       "  'mostruosamente': 0,\n",
       "  'orrendamente': 7,\n",
       "  'orribilmente': 49,\n",
       "  'spaventosamente': 2,\n",
       "  'terribilmente': 39,\n",
       "  'tremendamente': 0,\n",
       "  'molto': 12033,\n",
       "  'angoscia': 147,\n",
       "  'angosciare': 17,\n",
       "  'ansia': 59,\n",
       "  'atterrire': 179,\n",
       "  'panico': 36,\n",
       "  'paura': 359,\n",
       "  'raccapricciare': 14,\n",
       "  'raccapriccio': 18,\n",
       "  'schifo': 27,\n",
       "  'sgomentare': 117,\n",
       "  'sgomento': 36,\n",
       "  'spaventare': 232,\n",
       "  'spavento': 318,\n",
       "  'terrore': 368,\n",
       "  'domani': 171,\n",
       "  'finora': 176,\n",
       "  'ieri': 145,\n",
       "  'oggi': 839,\n",
       "  'presto': 646,\n",
       "  'raramente': 27,\n",
       "  'sempre': 2953,\n",
       "  'spesso': 704},\n",
       " '1851-1875': {'atrocemente': 35,\n",
       "  'formidabilmente': 2,\n",
       "  'mostruosamente': 11,\n",
       "  'orrendamente': 13,\n",
       "  'orribilmente': 118,\n",
       "  'spaventosamente': 13,\n",
       "  'terribilmente': 80,\n",
       "  'tremendamente': 25,\n",
       "  'molto': 14770,\n",
       "  'angoscia': 214,\n",
       "  'angosciare': 29,\n",
       "  'ansia': 147,\n",
       "  'atterrire': 150,\n",
       "  'panico': 20,\n",
       "  'paura': 667,\n",
       "  'raccapricciare': 33,\n",
       "  'raccapriccio': 101,\n",
       "  'schifo': 67,\n",
       "  'sgomentare': 144,\n",
       "  'sgomento': 181,\n",
       "  'spaventare': 254,\n",
       "  'spavento': 237,\n",
       "  'terrore': 339,\n",
       "  'domani': 629,\n",
       "  'finora': 199,\n",
       "  'ieri': 277,\n",
       "  'oggi': 1210,\n",
       "  'presto': 946,\n",
       "  'raramente': 60,\n",
       "  'sempre': 3949,\n",
       "  'spesso': 811},\n",
       " '1876-1900': {'atrocemente': 63,\n",
       "  'formidabilmente': 13,\n",
       "  'mostruosamente': 7,\n",
       "  'orrendamente': 34,\n",
       "  'orribilmente': 141,\n",
       "  'spaventosamente': 31,\n",
       "  'terribilmente': 87,\n",
       "  'tremendamente': 33,\n",
       "  'molto': 14523,\n",
       "  'angoscia': 240,\n",
       "  'angosciare': 20,\n",
       "  'ansia': 168,\n",
       "  'atterrire': 102,\n",
       "  'panico': 50,\n",
       "  'paura': 1010,\n",
       "  'raccapricciare': 49,\n",
       "  'raccapriccio': 104,\n",
       "  'schifo': 123,\n",
       "  'sgomentare': 182,\n",
       "  'sgomento': 188,\n",
       "  'spaventare': 331,\n",
       "  'spavento': 285,\n",
       "  'terrore': 295,\n",
       "  'domani': 711,\n",
       "  'finora': 216,\n",
       "  'ieri': 390,\n",
       "  'oggi': 968,\n",
       "  'presto': 835,\n",
       "  'raramente': 164,\n",
       "  'sempre': 4156,\n",
       "  'spesso': 870},\n",
       " '1901-1925': {'atrocemente': 83,\n",
       "  'formidabilmente': 19,\n",
       "  'mostruosamente': 42,\n",
       "  'orrendamente': 42,\n",
       "  'orribilmente': 173,\n",
       "  'spaventosamente': 129,\n",
       "  'terribilmente': 238,\n",
       "  'tremendamente': 38,\n",
       "  'molto': 16820,\n",
       "  'angoscia': 458,\n",
       "  'angosciare': 50,\n",
       "  'ansia': 425,\n",
       "  'atterrire': 206,\n",
       "  'panico': 93,\n",
       "  'paura': 1166,\n",
       "  'raccapricciare': 57,\n",
       "  'raccapriccio': 175,\n",
       "  'schifo': 187,\n",
       "  'sgomentare': 262,\n",
       "  'sgomento': 512,\n",
       "  'spaventare': 448,\n",
       "  'spavento': 340,\n",
       "  'terrore': 455,\n",
       "  'domani': 1060,\n",
       "  'finora': 360,\n",
       "  'ieri': 717,\n",
       "  'oggi': 1532,\n",
       "  'presto': 1040,\n",
       "  'raramente': 313,\n",
       "  'sempre': 4786,\n",
       "  'spesso': 1177},\n",
       " '1926-1950': {'atrocemente': 68,\n",
       "  'formidabilmente': 12,\n",
       "  'mostruosamente': 33,\n",
       "  'orrendamente': 36,\n",
       "  'orribilmente': 232,\n",
       "  'spaventosamente': 121,\n",
       "  'terribilmente': 281,\n",
       "  'tremendamente': 46,\n",
       "  'molto': 16462,\n",
       "  'angoscia': 424,\n",
       "  'angosciare': 36,\n",
       "  'ansia': 567,\n",
       "  'atterrire': 164,\n",
       "  'panico': 82,\n",
       "  'paura': 932,\n",
       "  'raccapricciare': 26,\n",
       "  'raccapriccio': 132,\n",
       "  'schifo': 193,\n",
       "  'sgomentare': 146,\n",
       "  'sgomento': 326,\n",
       "  'spaventare': 294,\n",
       "  'spavento': 271,\n",
       "  'terrore': 481,\n",
       "  'domani': 1006,\n",
       "  'finora': 310,\n",
       "  'ieri': 728,\n",
       "  'oggi': 1767,\n",
       "  'presto': 708,\n",
       "  'raramente': 314,\n",
       "  'sempre': 4089,\n",
       "  'spesso': 890},\n",
       " '1951-1985': {'atrocemente': 38,\n",
       "  'formidabilmente': 4,\n",
       "  'mostruosamente': 16,\n",
       "  'orrendamente': 35,\n",
       "  'orribilmente': 69,\n",
       "  'spaventosamente': 65,\n",
       "  'terribilmente': 176,\n",
       "  'tremendamente': 46,\n",
       "  'molto': 18413,\n",
       "  'angoscia': 548,\n",
       "  'angosciare': 40,\n",
       "  'ansia': 531,\n",
       "  'atterrire': 38,\n",
       "  'panico': 360,\n",
       "  'paura': 853,\n",
       "  'raccapricciare': 5,\n",
       "  'raccapriccio': 48,\n",
       "  'schifo': 88,\n",
       "  'sgomentare': 86,\n",
       "  'sgomento': 209,\n",
       "  'spaventare': 338,\n",
       "  'spavento': 161,\n",
       "  'terrore': 551,\n",
       "  'domani': 1049,\n",
       "  'finora': 882,\n",
       "  'ieri': 1565,\n",
       "  'oggi': 2878,\n",
       "  'presto': 1153,\n",
       "  'raramente': 428,\n",
       "  'sempre': 4753,\n",
       "  'spesso': 1955},\n",
       " '1986-2000': {'atrocemente': 101,\n",
       "  'formidabilmente': 6,\n",
       "  'mostruosamente': 94,\n",
       "  'orrendamente': 105,\n",
       "  'orribilmente': 93,\n",
       "  'spaventosamente': 101,\n",
       "  'terribilmente': 122,\n",
       "  'tremendamente': 106,\n",
       "  'molto': 17584,\n",
       "  'angoscia': 303,\n",
       "  'angosciare': 78,\n",
       "  'ansia': 283,\n",
       "  'atterrire': 72,\n",
       "  'panico': 245,\n",
       "  'paura': 795,\n",
       "  'raccapricciare': 7,\n",
       "  'raccapriccio': 158,\n",
       "  'schifo': 243,\n",
       "  'sgomentare': 91,\n",
       "  'sgomento': 337,\n",
       "  'spaventare': 245,\n",
       "  'spavento': 217,\n",
       "  'terrore': 303,\n",
       "  'domani': 936,\n",
       "  'finora': 826,\n",
       "  'ieri': 3642,\n",
       "  'oggi': 3394,\n",
       "  'presto': 864,\n",
       "  'raramente': 515,\n",
       "  'sempre': 3944,\n",
       "  'spesso': 1273},\n",
       " '2001-2021': {'atrocemente': 100,\n",
       "  'formidabilmente': 95,\n",
       "  'mostruosamente': 104,\n",
       "  'orrendamente': 101,\n",
       "  'orribilmente': 98,\n",
       "  'spaventosamente': 98,\n",
       "  'terribilmente': 107,\n",
       "  'tremendamente': 110,\n",
       "  'molto': 14615,\n",
       "  'angoscia': 128,\n",
       "  'angosciare': 47,\n",
       "  'ansia': 176,\n",
       "  'atterrire': 89,\n",
       "  'panico': 172,\n",
       "  'paura': 625,\n",
       "  'raccapricciare': 16,\n",
       "  'raccapriccio': 131,\n",
       "  'schifo': 142,\n",
       "  'sgomentare': 78,\n",
       "  'sgomento': 109,\n",
       "  'spaventare': 182,\n",
       "  'spavento': 109,\n",
       "  'terrore': 194,\n",
       "  'domani': 915,\n",
       "  'finora': 357,\n",
       "  'ieri': 1605,\n",
       "  'oggi': 2868,\n",
       "  'presto': 491,\n",
       "  'raramente': 129,\n",
       "  'sempre': 3726,\n",
       "  'spesso': 850}}"
      ]
     },
     "execution_count": 10,
     "metadata": {},
     "output_type": "execute_result"
    }
   ],
   "source": [
    "candidates"
   ]
  },
  {
   "cell_type": "code",
   "execution_count": 11,
   "id": "5e83ca66",
   "metadata": {},
   "outputs": [
    {
     "data": {
      "text/html": [
       "<div>\n",
       "<style scoped>\n",
       "    .dataframe tbody tr th:only-of-type {\n",
       "        vertical-align: middle;\n",
       "    }\n",
       "\n",
       "    .dataframe tbody tr th {\n",
       "        vertical-align: top;\n",
       "    }\n",
       "\n",
       "    .dataframe thead th {\n",
       "        text-align: right;\n",
       "    }\n",
       "</style>\n",
       "<table border=\"1\" class=\"dataframe\">\n",
       "  <thead>\n",
       "    <tr style=\"text-align: right;\">\n",
       "      <th></th>\n",
       "      <th>atrocemente</th>\n",
       "      <th>formidabilmente</th>\n",
       "      <th>mostruosamente</th>\n",
       "      <th>orrendamente</th>\n",
       "      <th>orribilmente</th>\n",
       "      <th>spaventosamente</th>\n",
       "      <th>terribilmente</th>\n",
       "      <th>tremendamente</th>\n",
       "      <th>molto</th>\n",
       "      <th>angoscia</th>\n",
       "      <th>...</th>\n",
       "      <th>spavento</th>\n",
       "      <th>terrore</th>\n",
       "      <th>domani</th>\n",
       "      <th>finora</th>\n",
       "      <th>ieri</th>\n",
       "      <th>oggi</th>\n",
       "      <th>presto</th>\n",
       "      <th>raramente</th>\n",
       "      <th>sempre</th>\n",
       "      <th>spesso</th>\n",
       "    </tr>\n",
       "  </thead>\n",
       "  <tbody>\n",
       "    <tr>\n",
       "      <th>1700-1750</th>\n",
       "      <td>2</td>\n",
       "      <td>0</td>\n",
       "      <td>2</td>\n",
       "      <td>1</td>\n",
       "      <td>28</td>\n",
       "      <td>11</td>\n",
       "      <td>18</td>\n",
       "      <td>0</td>\n",
       "      <td>15326</td>\n",
       "      <td>26</td>\n",
       "      <td>...</td>\n",
       "      <td>297</td>\n",
       "      <td>200</td>\n",
       "      <td>44</td>\n",
       "      <td>336</td>\n",
       "      <td>39</td>\n",
       "      <td>784</td>\n",
       "      <td>361</td>\n",
       "      <td>11</td>\n",
       "      <td>2953</td>\n",
       "      <td>743</td>\n",
       "    </tr>\n",
       "    <tr>\n",
       "      <th>1751-1800</th>\n",
       "      <td>4</td>\n",
       "      <td>0</td>\n",
       "      <td>0</td>\n",
       "      <td>1</td>\n",
       "      <td>30</td>\n",
       "      <td>1</td>\n",
       "      <td>15</td>\n",
       "      <td>0</td>\n",
       "      <td>18796</td>\n",
       "      <td>81</td>\n",
       "      <td>...</td>\n",
       "      <td>128</td>\n",
       "      <td>174</td>\n",
       "      <td>202</td>\n",
       "      <td>303</td>\n",
       "      <td>111</td>\n",
       "      <td>723</td>\n",
       "      <td>688</td>\n",
       "      <td>103</td>\n",
       "      <td>3731</td>\n",
       "      <td>1068</td>\n",
       "    </tr>\n",
       "    <tr>\n",
       "      <th>1801-1825</th>\n",
       "      <td>4</td>\n",
       "      <td>0</td>\n",
       "      <td>2</td>\n",
       "      <td>14</td>\n",
       "      <td>42</td>\n",
       "      <td>3</td>\n",
       "      <td>16</td>\n",
       "      <td>2</td>\n",
       "      <td>16968</td>\n",
       "      <td>147</td>\n",
       "      <td>...</td>\n",
       "      <td>144</td>\n",
       "      <td>224</td>\n",
       "      <td>372</td>\n",
       "      <td>150</td>\n",
       "      <td>501</td>\n",
       "      <td>1872</td>\n",
       "      <td>727</td>\n",
       "      <td>38</td>\n",
       "      <td>4375</td>\n",
       "      <td>1027</td>\n",
       "    </tr>\n",
       "    <tr>\n",
       "      <th>1826-1850</th>\n",
       "      <td>21</td>\n",
       "      <td>0</td>\n",
       "      <td>0</td>\n",
       "      <td>7</td>\n",
       "      <td>49</td>\n",
       "      <td>2</td>\n",
       "      <td>39</td>\n",
       "      <td>0</td>\n",
       "      <td>12033</td>\n",
       "      <td>147</td>\n",
       "      <td>...</td>\n",
       "      <td>318</td>\n",
       "      <td>368</td>\n",
       "      <td>171</td>\n",
       "      <td>176</td>\n",
       "      <td>145</td>\n",
       "      <td>839</td>\n",
       "      <td>646</td>\n",
       "      <td>27</td>\n",
       "      <td>2953</td>\n",
       "      <td>704</td>\n",
       "    </tr>\n",
       "    <tr>\n",
       "      <th>1851-1875</th>\n",
       "      <td>35</td>\n",
       "      <td>2</td>\n",
       "      <td>11</td>\n",
       "      <td>13</td>\n",
       "      <td>118</td>\n",
       "      <td>13</td>\n",
       "      <td>80</td>\n",
       "      <td>25</td>\n",
       "      <td>14770</td>\n",
       "      <td>214</td>\n",
       "      <td>...</td>\n",
       "      <td>237</td>\n",
       "      <td>339</td>\n",
       "      <td>629</td>\n",
       "      <td>199</td>\n",
       "      <td>277</td>\n",
       "      <td>1210</td>\n",
       "      <td>946</td>\n",
       "      <td>60</td>\n",
       "      <td>3949</td>\n",
       "      <td>811</td>\n",
       "    </tr>\n",
       "    <tr>\n",
       "      <th>1876-1900</th>\n",
       "      <td>63</td>\n",
       "      <td>13</td>\n",
       "      <td>7</td>\n",
       "      <td>34</td>\n",
       "      <td>141</td>\n",
       "      <td>31</td>\n",
       "      <td>87</td>\n",
       "      <td>33</td>\n",
       "      <td>14523</td>\n",
       "      <td>240</td>\n",
       "      <td>...</td>\n",
       "      <td>285</td>\n",
       "      <td>295</td>\n",
       "      <td>711</td>\n",
       "      <td>216</td>\n",
       "      <td>390</td>\n",
       "      <td>968</td>\n",
       "      <td>835</td>\n",
       "      <td>164</td>\n",
       "      <td>4156</td>\n",
       "      <td>870</td>\n",
       "    </tr>\n",
       "    <tr>\n",
       "      <th>1901-1925</th>\n",
       "      <td>83</td>\n",
       "      <td>19</td>\n",
       "      <td>42</td>\n",
       "      <td>42</td>\n",
       "      <td>173</td>\n",
       "      <td>129</td>\n",
       "      <td>238</td>\n",
       "      <td>38</td>\n",
       "      <td>16820</td>\n",
       "      <td>458</td>\n",
       "      <td>...</td>\n",
       "      <td>340</td>\n",
       "      <td>455</td>\n",
       "      <td>1060</td>\n",
       "      <td>360</td>\n",
       "      <td>717</td>\n",
       "      <td>1532</td>\n",
       "      <td>1040</td>\n",
       "      <td>313</td>\n",
       "      <td>4786</td>\n",
       "      <td>1177</td>\n",
       "    </tr>\n",
       "    <tr>\n",
       "      <th>1926-1950</th>\n",
       "      <td>68</td>\n",
       "      <td>12</td>\n",
       "      <td>33</td>\n",
       "      <td>36</td>\n",
       "      <td>232</td>\n",
       "      <td>121</td>\n",
       "      <td>281</td>\n",
       "      <td>46</td>\n",
       "      <td>16462</td>\n",
       "      <td>424</td>\n",
       "      <td>...</td>\n",
       "      <td>271</td>\n",
       "      <td>481</td>\n",
       "      <td>1006</td>\n",
       "      <td>310</td>\n",
       "      <td>728</td>\n",
       "      <td>1767</td>\n",
       "      <td>708</td>\n",
       "      <td>314</td>\n",
       "      <td>4089</td>\n",
       "      <td>890</td>\n",
       "    </tr>\n",
       "    <tr>\n",
       "      <th>1951-1985</th>\n",
       "      <td>38</td>\n",
       "      <td>4</td>\n",
       "      <td>16</td>\n",
       "      <td>35</td>\n",
       "      <td>69</td>\n",
       "      <td>65</td>\n",
       "      <td>176</td>\n",
       "      <td>46</td>\n",
       "      <td>18413</td>\n",
       "      <td>548</td>\n",
       "      <td>...</td>\n",
       "      <td>161</td>\n",
       "      <td>551</td>\n",
       "      <td>1049</td>\n",
       "      <td>882</td>\n",
       "      <td>1565</td>\n",
       "      <td>2878</td>\n",
       "      <td>1153</td>\n",
       "      <td>428</td>\n",
       "      <td>4753</td>\n",
       "      <td>1955</td>\n",
       "    </tr>\n",
       "    <tr>\n",
       "      <th>1986-2000</th>\n",
       "      <td>101</td>\n",
       "      <td>6</td>\n",
       "      <td>94</td>\n",
       "      <td>105</td>\n",
       "      <td>93</td>\n",
       "      <td>101</td>\n",
       "      <td>122</td>\n",
       "      <td>106</td>\n",
       "      <td>17584</td>\n",
       "      <td>303</td>\n",
       "      <td>...</td>\n",
       "      <td>217</td>\n",
       "      <td>303</td>\n",
       "      <td>936</td>\n",
       "      <td>826</td>\n",
       "      <td>3642</td>\n",
       "      <td>3394</td>\n",
       "      <td>864</td>\n",
       "      <td>515</td>\n",
       "      <td>3944</td>\n",
       "      <td>1273</td>\n",
       "    </tr>\n",
       "    <tr>\n",
       "      <th>2001-2021</th>\n",
       "      <td>100</td>\n",
       "      <td>95</td>\n",
       "      <td>104</td>\n",
       "      <td>101</td>\n",
       "      <td>98</td>\n",
       "      <td>98</td>\n",
       "      <td>107</td>\n",
       "      <td>110</td>\n",
       "      <td>14615</td>\n",
       "      <td>128</td>\n",
       "      <td>...</td>\n",
       "      <td>109</td>\n",
       "      <td>194</td>\n",
       "      <td>915</td>\n",
       "      <td>357</td>\n",
       "      <td>1605</td>\n",
       "      <td>2868</td>\n",
       "      <td>491</td>\n",
       "      <td>129</td>\n",
       "      <td>3726</td>\n",
       "      <td>850</td>\n",
       "    </tr>\n",
       "  </tbody>\n",
       "</table>\n",
       "<p>11 rows × 31 columns</p>\n",
       "</div>"
      ],
      "text/plain": [
       "           atrocemente  formidabilmente  mostruosamente  orrendamente  \\\n",
       "1700-1750            2                0               2             1   \n",
       "1751-1800            4                0               0             1   \n",
       "1801-1825            4                0               2            14   \n",
       "1826-1850           21                0               0             7   \n",
       "1851-1875           35                2              11            13   \n",
       "1876-1900           63               13               7            34   \n",
       "1901-1925           83               19              42            42   \n",
       "1926-1950           68               12              33            36   \n",
       "1951-1985           38                4              16            35   \n",
       "1986-2000          101                6              94           105   \n",
       "2001-2021          100               95             104           101   \n",
       "\n",
       "           orribilmente  spaventosamente  terribilmente  tremendamente  molto  \\\n",
       "1700-1750            28               11             18              0  15326   \n",
       "1751-1800            30                1             15              0  18796   \n",
       "1801-1825            42                3             16              2  16968   \n",
       "1826-1850            49                2             39              0  12033   \n",
       "1851-1875           118               13             80             25  14770   \n",
       "1876-1900           141               31             87             33  14523   \n",
       "1901-1925           173              129            238             38  16820   \n",
       "1926-1950           232              121            281             46  16462   \n",
       "1951-1985            69               65            176             46  18413   \n",
       "1986-2000            93              101            122            106  17584   \n",
       "2001-2021            98               98            107            110  14615   \n",
       "\n",
       "           angoscia  ...  spavento  terrore  domani  finora  ieri  oggi  \\\n",
       "1700-1750        26  ...       297      200      44     336    39   784   \n",
       "1751-1800        81  ...       128      174     202     303   111   723   \n",
       "1801-1825       147  ...       144      224     372     150   501  1872   \n",
       "1826-1850       147  ...       318      368     171     176   145   839   \n",
       "1851-1875       214  ...       237      339     629     199   277  1210   \n",
       "1876-1900       240  ...       285      295     711     216   390   968   \n",
       "1901-1925       458  ...       340      455    1060     360   717  1532   \n",
       "1926-1950       424  ...       271      481    1006     310   728  1767   \n",
       "1951-1985       548  ...       161      551    1049     882  1565  2878   \n",
       "1986-2000       303  ...       217      303     936     826  3642  3394   \n",
       "2001-2021       128  ...       109      194     915     357  1605  2868   \n",
       "\n",
       "           presto  raramente  sempre  spesso  \n",
       "1700-1750     361         11    2953     743  \n",
       "1751-1800     688        103    3731    1068  \n",
       "1801-1825     727         38    4375    1027  \n",
       "1826-1850     646         27    2953     704  \n",
       "1851-1875     946         60    3949     811  \n",
       "1876-1900     835        164    4156     870  \n",
       "1901-1925    1040        313    4786    1177  \n",
       "1926-1950     708        314    4089     890  \n",
       "1951-1985    1153        428    4753    1955  \n",
       "1986-2000     864        515    3944    1273  \n",
       "2001-2021     491        129    3726     850  \n",
       "\n",
       "[11 rows x 31 columns]"
      ]
     },
     "execution_count": 11,
     "metadata": {},
     "output_type": "execute_result"
    }
   ],
   "source": [
    "table = pd.DataFrame.from_dict(candidates, orient='index')\n",
    "table"
   ]
  },
  {
   "cell_type": "code",
   "execution_count": 12,
   "id": "abc9ea5f",
   "metadata": {},
   "outputs": [],
   "source": [
    "table.to_csv('Korpus/candidates_after_lemmatization.csv', sep=';')"
   ]
  },
  {
   "cell_type": "markdown",
   "id": "48e34653",
   "metadata": {},
   "source": [
    "### Kandidaten im rohen Korpus "
   ]
  },
  {
   "cell_type": "code",
   "execution_count": 2,
   "id": "2e4956aa",
   "metadata": {},
   "outputs": [],
   "source": [
    "df = pd.read_csv('Korpus/corpus_complete.csv', sep=',', encoding='utf-8')"
   ]
  },
  {
   "cell_type": "code",
   "execution_count": 3,
   "id": "d8e69b6e",
   "metadata": {},
   "outputs": [
    {
     "data": {
      "text/html": [
       "<div>\n",
       "<style scoped>\n",
       "    .dataframe tbody tr th:only-of-type {\n",
       "        vertical-align: middle;\n",
       "    }\n",
       "\n",
       "    .dataframe tbody tr th {\n",
       "        vertical-align: top;\n",
       "    }\n",
       "\n",
       "    .dataframe thead th {\n",
       "        text-align: right;\n",
       "    }\n",
       "</style>\n",
       "<table border=\"1\" class=\"dataframe\">\n",
       "  <thead>\n",
       "    <tr style=\"text-align: right;\">\n",
       "      <th></th>\n",
       "      <th>doc</th>\n",
       "      <th>source</th>\n",
       "      <th>author</th>\n",
       "      <th>title</th>\n",
       "      <th>year</th>\n",
       "      <th>period</th>\n",
       "      <th>text_type</th>\n",
       "      <th>text</th>\n",
       "      <th>words</th>\n",
       "    </tr>\n",
       "  </thead>\n",
       "  <tbody>\n",
       "    <tr>\n",
       "      <th>0</th>\n",
       "      <td>Poesia.IV.11.Testo.txt</td>\n",
       "      <td>MIDIA</td>\n",
       "      <td>Giambattista Felice Zappi</td>\n",
       "      <td>Poesie</td>\n",
       "      <td>1700.0</td>\n",
       "      <td>1700-1750</td>\n",
       "      <td>poesia</td>\n",
       "      <td>IV. 11. Rime degli arcadi: Tirsi Leucasio (Gio...</td>\n",
       "      <td>6113.0</td>\n",
       "    </tr>\n",
       "    <tr>\n",
       "      <th>1</th>\n",
       "      <td>Personali.IV.5.Testo.txt</td>\n",
       "      <td>MIDIA</td>\n",
       "      <td>Lorenzo Magalotti</td>\n",
       "      <td>Lettere odorose (1693-1705)</td>\n",
       "      <td>1700.0</td>\n",
       "      <td>1700-1750</td>\n",
       "      <td>personale</td>\n",
       "      <td>IV. 5. Lorenzo Magalotti, Lettere odorose (169...</td>\n",
       "      <td>8374.0</td>\n",
       "    </tr>\n",
       "    <tr>\n",
       "      <th>2</th>\n",
       "      <td>Espositivi.IV.4.Testo.txt</td>\n",
       "      <td>MIDIA</td>\n",
       "      <td>Ludovico Antonio Muratori</td>\n",
       "      <td>Antichità italiane</td>\n",
       "      <td>1700.0</td>\n",
       "      <td>1700-1750</td>\n",
       "      <td>espositivo</td>\n",
       "      <td>﻿IV. 4. Ludovico Antonio Muratori, Antichità i...</td>\n",
       "      <td>8990.0</td>\n",
       "    </tr>\n",
       "    <tr>\n",
       "      <th>3</th>\n",
       "      <td>Personali.IV.15.Testo.txt</td>\n",
       "      <td>MIDIA</td>\n",
       "      <td>Pietro Giannone</td>\n",
       "      <td>Vita scritta da lui medesimo</td>\n",
       "      <td>1700.0</td>\n",
       "      <td>1700-1750</td>\n",
       "      <td>personale</td>\n",
       "      <td>[Proemio]\\nPrendo a scrivere la mia vita e qua...</td>\n",
       "      <td>10118.0</td>\n",
       "    </tr>\n",
       "    <tr>\n",
       "      <th>4</th>\n",
       "      <td>Personali.IV.4.Testo.txt</td>\n",
       "      <td>MIDIA</td>\n",
       "      <td>Vincenzo da Filicaia</td>\n",
       "      <td>Lettere inedite a Lorenzo Magalotti</td>\n",
       "      <td>1700.0</td>\n",
       "      <td>1700-1750</td>\n",
       "      <td>personale</td>\n",
       "      <td>IV. 4. Vincenzo da Filicaia, Lettere inedite a...</td>\n",
       "      <td>10073.0</td>\n",
       "    </tr>\n",
       "  </tbody>\n",
       "</table>\n",
       "</div>"
      ],
      "text/plain": [
       "                         doc source                      author  \\\n",
       "0     Poesia.IV.11.Testo.txt  MIDIA   Giambattista Felice Zappi   \n",
       "1   Personali.IV.5.Testo.txt  MIDIA           Lorenzo Magalotti   \n",
       "2  Espositivi.IV.4.Testo.txt  MIDIA  Ludovico Antonio Muratori    \n",
       "3  Personali.IV.15.Testo.txt  MIDIA             Pietro Giannone   \n",
       "4   Personali.IV.4.Testo.txt  MIDIA        Vincenzo da Filicaia   \n",
       "\n",
       "                                 title    year     period   text_type  \\\n",
       "0                               Poesie  1700.0  1700-1750      poesia   \n",
       "1          Lettere odorose (1693-1705)  1700.0  1700-1750   personale   \n",
       "2                   Antichità italiane  1700.0  1700-1750  espositivo   \n",
       "3         Vita scritta da lui medesimo  1700.0  1700-1750   personale   \n",
       "4  Lettere inedite a Lorenzo Magalotti  1700.0  1700-1750   personale   \n",
       "\n",
       "                                                text    words  \n",
       "0  IV. 11. Rime degli arcadi: Tirsi Leucasio (Gio...   6113.0  \n",
       "1  IV. 5. Lorenzo Magalotti, Lettere odorose (169...   8374.0  \n",
       "2  ﻿IV. 4. Ludovico Antonio Muratori, Antichità i...   8990.0  \n",
       "3  [Proemio]\\nPrendo a scrivere la mia vita e qua...  10118.0  \n",
       "4  IV. 4. Vincenzo da Filicaia, Lettere inedite a...  10073.0  "
      ]
     },
     "execution_count": 3,
     "metadata": {},
     "output_type": "execute_result"
    }
   ],
   "source": [
    "df.head()"
   ]
  },
  {
   "cell_type": "code",
   "execution_count": 4,
   "id": "3dc8822a",
   "metadata": {},
   "outputs": [
    {
     "data": {
      "text/plain": [
       "(305285, 9)"
      ]
     },
     "execution_count": 4,
     "metadata": {},
     "output_type": "execute_result"
    }
   ],
   "source": [
    "df.shape"
   ]
  },
  {
   "cell_type": "code",
   "execution_count": 5,
   "id": "214e4913",
   "metadata": {},
   "outputs": [],
   "source": [
    "df.text = df.text.fillna('')"
   ]
  },
  {
   "cell_type": "code",
   "execution_count": 6,
   "id": "d1312c9a",
   "metadata": {},
   "outputs": [],
   "source": [
    "# Teilframes pro Zeitraum erstellen\n",
    "\n",
    "df_periods = dict(tuple(df.groupby(by='period')))\n",
    "\n",
    "df1 = df_periods['1700-1750']\n",
    "df2 = df_periods['1751-1800']\n",
    "df3 = df_periods['1801-1825']\n",
    "df4 = df_periods['1826-1850']\n",
    "df5 = df_periods['1851-1875']\n",
    "df6 = df_periods['1876-1900']\n",
    "df7 = df_periods['1901-1925']\n",
    "df8 = df_periods['1926-1950']\n",
    "df9 = df_periods['1951-1985']\n",
    "df10 = df_periods['1986-2000']\n",
    "df11 = df_periods['2001-2021']"
   ]
  },
  {
   "cell_type": "code",
   "execution_count": 7,
   "id": "43d0fe6c",
   "metadata": {},
   "outputs": [],
   "source": [
    "# Funktion, die die Sätze ausgibt, in der ein bestimmtes Wort vorkommt\n",
    "\n",
    "def find_sentences_with_keyword(document, keyword):\n",
    "    \n",
    "    sentlist = []\n",
    "    \n",
    "    for sentence in document:\n",
    "        \n",
    "        if keyword.lower() in sentence.lower():\n",
    "            sentence = re.sub('\\n', ' ', sentence)\n",
    "            sentence = re.sub(f\"{keyword}\", f\"**{keyword}**\", sentence, flags=re.IGNORECASE)            \n",
    "            sentlist.append(sentence)\n",
    "            \n",
    "    result = list(set(sentlist))\n",
    "    for sentence in result: \n",
    "        display(Markdown(sentence))\n",
    "    \n",
    "    #return result"
   ]
  },
  {
   "cell_type": "markdown",
   "id": "15597e51",
   "metadata": {},
   "source": [
    "### Zeitraum 1: 1700-1750"
   ]
  },
  {
   "cell_type": "code",
   "execution_count": 8,
   "id": "3c0097aa",
   "metadata": {},
   "outputs": [],
   "source": [
    "text1 = ''\n",
    "for i in df1.text:\n",
    "    text1 += i"
   ]
  },
  {
   "cell_type": "code",
   "execution_count": 9,
   "id": "83567899",
   "metadata": {},
   "outputs": [],
   "source": [
    "document1 = nltk.sent_tokenize(text1)"
   ]
  },
  {
   "cell_type": "code",
   "execution_count": 10,
   "id": "625a2461",
   "metadata": {},
   "outputs": [
    {
     "data": {
      "text/markdown": [
       "Così, poich'ebbe tracannato a iosa Cento gran' giare e cento, tombolando Di qua, di là, senza trovar mai posa, Sdraiato alfine e di sé tutto in bando, Ei s'addormì, coll'ampia abbominosa Bocca **terribilmente** rimugghiando."
      ],
      "text/plain": [
       "<IPython.core.display.Markdown object>"
      ]
     },
     "metadata": {},
     "output_type": "display_data"
    },
    {
     "data": {
      "text/markdown": [
       "Giocarono in questo conflitto **terribilmente** le artiglierie d''ambe le parti, facendo squarci grandi nelle schiere opposte; le sciabole e baionette non istetteroGermanico il mandò a Pompejopoli, città della Cilicia, non tanto per far cosa grata ad Artabano, quanto per far dispetto a Pisone, che il proteggeva non poco a cagion de'' regali e della servitù che ne ricavava Plancina sua moglie."
      ],
      "text/plain": [
       "<IPython.core.display.Markdown object>"
      ]
     },
     "metadata": {},
     "output_type": "display_data"
    },
    {
     "data": {
      "text/markdown": [
       ", dov''egli passava, lasciava la micidial infezione secondo il suo costume, di modo che cominciò a sentirsi **terribilmente** anche in Roma."
      ],
      "text/plain": [
       "<IPython.core.display.Markdown object>"
      ]
     },
     "metadata": {},
     "output_type": "display_data"
    },
    {
     "data": {
      "text/markdown": [
       "Abbiamo da san Girolamo che **terribilmente** infierì nella Soria e Cicilia la carestia colla mortalità d''innumerabili persone."
      ],
      "text/plain": [
       "<IPython.core.display.Markdown object>"
      ]
     },
     "metadata": {},
     "output_type": "display_data"
    },
    {
     "data": {
      "text/markdown": [
       "Dai quali con uno strattagemma sono **terribilmente** sconfitti, 22."
      ],
      "text/plain": [
       "<IPython.core.display.Markdown object>"
      ]
     },
     "metadata": {},
     "output_type": "display_data"
    },
    {
     "data": {
      "text/markdown": [
       ", per testimonianza di Teofane[2594], da un secondo furioso tremuoto, che nel dì 29 di novembre per un''ora continua sì **terribilmente** scosse la città d''Antiochia, che tutto quanto era rimasto in piedi nel precedente anno 526, e quanto era statopapa Gregorio IX, 1128."
      ],
      "text/plain": [
       "<IPython.core.display.Markdown object>"
      ]
     },
     "metadata": {},
     "output_type": "display_data"
    },
    {
     "data": {
      "text/markdown": [
       "Giocarono in questo conflitto **terribilmente** le artiglierie d''ambe le parti, facendo squarci grandi nelle schiere opposte; le sciabole e baionette non istetteroQuanto a me, vo sospettando che fosse uno spettacolo pubblico, in cui si rappresentava Federigo imperadore coi Pavesi e Reggiani, e col patriarca, suoi aderenti, forse non con molto onore."
      ],
      "text/plain": [
       "<IPython.core.display.Markdown object>"
      ]
     },
     "metadata": {},
     "output_type": "display_data"
    },
    {
     "data": {
      "text/markdown": [
       "Ma si trovò **terribilmente** gonfio esso mare con pioggia e tuoni; lo stesso Tevere era in tempesta; però convenne prendere terra."
      ],
      "text/plain": [
       "<IPython.core.display.Markdown object>"
      ]
     },
     "metadata": {},
     "output_type": "display_data"
    },
    {
     "data": {
      "text/markdown": [
       "Di questa orrida fame, che, dov''egli passava, lasciava la micidial infezione secondo il suo costume, di modo che cominciò a sentirsi **terribilmente** anche in Roma."
      ],
      "text/plain": [
       "<IPython.core.display.Markdown object>"
      ]
     },
     "metadata": {},
     "output_type": "display_data"
    },
    {
     "data": {
      "text/markdown": [
       ", per testimonianza di Teofane[2594], da un secondo furioso tremuoto, che nel dì 29 di novembre per un''ora continua sì **terribilmente** scosse la città d''Antiochia, che tutto quanto era rimasto in piedi nel precedente anno 526, e quanto era statoin una casa privata, e la seguente mane imbarcatosi con tutti i suoi in due galee, pel Tevere discese al mare."
      ],
      "text/plain": [
       "<IPython.core.display.Markdown object>"
      ]
     },
     "metadata": {},
     "output_type": "display_data"
    }
   ],
   "source": [
    "find_sentences_with_keyword(document1, 'terribilmente')"
   ]
  },
  {
   "cell_type": "markdown",
   "id": "3659d417",
   "metadata": {},
   "source": [
    "### Zeitraum 2: 1751-1800"
   ]
  },
  {
   "cell_type": "code",
   "execution_count": 11,
   "id": "e819d3b3",
   "metadata": {},
   "outputs": [],
   "source": [
    "text2 = ''\n",
    "for i in df2.text:\n",
    "    text2 += i"
   ]
  },
  {
   "cell_type": "code",
   "execution_count": 12,
   "id": "4d33afa8",
   "metadata": {},
   "outputs": [],
   "source": [
    "document2 = nltk.sent_tokenize(text2)"
   ]
  },
  {
   "cell_type": "code",
   "execution_count": 13,
   "id": "e552ab62",
   "metadata": {},
   "outputs": [
    {
     "data": {
      "text/markdown": [
       "è una cosa, che mi muove la bile **terribilmente**."
      ],
      "text/plain": [
       "<IPython.core.display.Markdown object>"
      ]
     },
     "metadata": {},
     "output_type": "display_data"
    },
    {
     "data": {
      "text/markdown": [
       "L'industria viene corrosa nella sua radice, e la nazione non ricever mai spinta ad accrescere l'annua riproduzione, perch fischia il flagello delle leggi **terribilmente** sul capo degli uomini riproduttori avviliti e scoraggiti."
      ],
      "text/plain": [
       "<IPython.core.display.Markdown object>"
      ]
     },
     "metadata": {},
     "output_type": "display_data"
    },
    {
     "data": {
      "text/markdown": [
       "Si trovarono però **terribilmente** angustiati dai passaggi che traggono da Eginardo, da Teofane e dagli antichi Annali Laureshamenses, Fuldenses,I, p. 57-70), era per altro celebre anche ai tempi di S.  D. 685 n. 3, 4), ed anche l''oscura istoria del patriarca Giovanni Marone (Assemani Biblioth."
      ],
      "text/plain": [
       "<IPython.core.display.Markdown object>"
      ]
     },
     "metadata": {},
     "output_type": "display_data"
    },
    {
     "data": {
      "text/markdown": [
       "Oh sì, per questo, ten scongiuro io forte, Largo mio pianto, per Giocasta madre, Per l'orror di que' giorni onde mi lasci **terribilmente** in preda, per l'amore D'Antigon tua."
      ],
      "text/plain": [
       "<IPython.core.display.Markdown object>"
      ]
     },
     "metadata": {},
     "output_type": "display_data"
    },
    {
     "data": {
      "text/markdown": [
       "Giace poi sopra un suolo **terribilmente** sterile, coperto di piccole roccie simili al basalto."
      ],
      "text/plain": [
       "<IPython.core.display.Markdown object>"
      ]
     },
     "metadata": {},
     "output_type": "display_data"
    },
    {
     "data": {
      "text/markdown": [
       "Ma il tuono e il vento e l'onda **terribilmente** agita tutti e batte; Nè le vele contratte Nè da la doppia sponda Il forte remigar, l'urto che abbonda Vince nè frena."
      ],
      "text/plain": [
       "<IPython.core.display.Markdown object>"
      ]
     },
     "metadata": {},
     "output_type": "display_data"
    },
    {
     "data": {
      "text/markdown": [
       "Dettò poscia questa lettera **terribilmente** laconica: \"In nome del Dio misericordioso, Haroun-al-Rashid comandante dei fedeli, a Niceforo, cane Romano."
      ],
      "text/plain": [
       "<IPython.core.display.Markdown object>"
      ]
     },
     "metadata": {},
     "output_type": "display_data"
    },
    {
     "data": {
      "text/markdown": [
       "Si trovarono però **terribilmente** angustiati dai passaggi che traggono da Eginardo, da Teofane e dagli antichi Annali Laureshamenses, Fuldenses,, e conseguenze che da ciò derivarono 20 Incendio di Roma sotto il regno di Nerone 25 I Cristiani accusati di esso e **terribilmente** puniti 27 Passo di Tacito a tale proposito 27 Osservazioni sovra questo passo 29 I Cristiani ed i Giudei egualmentePerò e il Cavaliere parla con disprezzo di coloro che pensavano alla ritirata, e il monaco loda que'' suoi compatriotti che erano risoluti di morire coll''armi alla mano."
      ],
      "text/plain": [
       "<IPython.core.display.Markdown object>"
      ]
     },
     "metadata": {},
     "output_type": "display_data"
    },
    {
     "data": {
      "text/markdown": [
       "Noi abbiamo prese d''assalto le case e le Fortezze delle famiglie potenti, e soprattutto de'', e conseguenze che da ciò derivarono 20 Incendio di Roma sotto il regno di Nerone 25 I Cristiani accusati di esso e **terribilmente** puniti 27 Passo di Tacito a tale proposito 27 Osservazioni sovra questo passo 29 I Cristiani ed i Giudei egualmenteDal tempo di Commodo fino al regno di Costantino, potrebbero contarsi cento Governatori, che con vario successo innalzarono la bandiera della ribellione; e quantunque troppo spesso venisser sacrificati degl''innocenti, si potevano alle volte anche prevenire de'' colpevoli dalla sospettosa crudeltà del lor Signore[311]."
      ],
      "text/plain": [
       "<IPython.core.display.Markdown object>"
      ]
     },
     "metadata": {},
     "output_type": "display_data"
    },
    {
     "data": {
      "text/markdown": [
       "I Cristiani accusati dell''incendio di Roma sotto Nerone e **terribilmente** puniti, t. III, p. 27."
      ],
      "text/plain": [
       "<IPython.core.display.Markdown object>"
      ]
     },
     "metadata": {},
     "output_type": "display_data"
    }
   ],
   "source": [
    "find_sentences_with_keyword(document2, 'terribilmente')"
   ]
  },
  {
   "cell_type": "markdown",
   "id": "56ee1adf",
   "metadata": {},
   "source": [
    "### Zeitraum 3: 1801-1825"
   ]
  },
  {
   "cell_type": "code",
   "execution_count": 14,
   "id": "937ddac7",
   "metadata": {},
   "outputs": [],
   "source": [
    "text3 = ''\n",
    "for i in df3.text:\n",
    "    text3 += i"
   ]
  },
  {
   "cell_type": "code",
   "execution_count": 15,
   "id": "985880c5",
   "metadata": {},
   "outputs": [],
   "source": [
    "document3 = nltk.sent_tokenize(text3)"
   ]
  },
  {
   "cell_type": "code",
   "execution_count": 16,
   "id": "6ff4625e",
   "metadata": {},
   "outputs": [
    {
     "data": {
      "text/markdown": [
       "La Bignami è a Bologna e s' annoia **terribilmente**."
      ],
      "text/plain": [
       "<IPython.core.display.Markdown object>"
      ]
     },
     "metadata": {},
     "output_type": "display_data"
    },
    {
     "data": {
      "text/markdown": [
       "– Finalmente, dati questi caratteri e queste passioni, l'autore deve nel breve spazio dal principio alla fine della sua azione far nascere tali accidenti che, quantunque naturalissimi e quasi minimi, ridestino quelle antiche passioni, le facciano operare fortemente in que' forti caratteri, e sciolgano pietosamente e **terribilmente** l'azione."
      ],
      "text/plain": [
       "<IPython.core.display.Markdown object>"
      ]
     },
     "metadata": {},
     "output_type": "display_data"
    },
    {
     "data": {
      "text/markdown": [
       "se tu sapessi come oltre l'infermità, e la povertà, e l'esilio imminente, e l'incertezza della mia vita, anche il pericolo quotidiano di mio fratello che ora è all'esercito sul Mincio mi affligge; come lo stato di mia Madre mi amareggia **terribilmente** l'anima e me la prostra!"
      ],
      "text/plain": [
       "<IPython.core.display.Markdown object>"
      ]
     },
     "metadata": {},
     "output_type": "display_data"
    },
    {
     "data": {
      "text/markdown": [
       "Guardo tutto intorno a me il monte, le campagne, le alpi lontane, il lago, tutto tutto bianco di neve; gelato; **terribilmente** muta ogni cosa — eppur mi consolo!"
      ],
      "text/plain": [
       "<IPython.core.display.Markdown object>"
      ]
     },
     "metadata": {},
     "output_type": "display_data"
    },
    {
     "data": {
      "text/markdown": [
       "Uscendo mezz'ora dopo dalla stanza dove mi parlavano, entrai nella bottega de'libri e mi s'affacciò Castelli, il quale malgrado l'impudenza della quale esso è **terribilmente** dotato ed armato, si fece sì pallido che i garzoni della bottega se ne accorsero tutti."
      ],
      "text/plain": [
       "<IPython.core.display.Markdown object>"
      ]
     },
     "metadata": {},
     "output_type": "display_data"
    },
    {
     "data": {
      "text/markdown": [
       "Ma si scosse **terribilmente** quando pot avere un punto d'appoggio sullo straniero, come vedremo in seguito."
      ],
      "text/plain": [
       "<IPython.core.display.Markdown object>"
      ]
     },
     "metadata": {},
     "output_type": "display_data"
    },
    {
     "data": {
      "text/markdown": [
       "Intanto l'iracondo Durvasas, uno degli uomini santi dell'India, a cui la povera Sacontala, occupata da tutt'altri pensieri, trascur di far le dovute accoglienze, grida **terribilmente**: - E che?"
      ],
      "text/plain": [
       "<IPython.core.display.Markdown object>"
      ]
     },
     "metadata": {},
     "output_type": "display_data"
    },
    {
     "data": {
      "text/markdown": [
       "Però il giorno dopo le scrissi un biglietto passionatissimo e risentito; le mostrai quanta e velenosissima piaga aveva aperto nelle mie viscere: a che gelosia, a che disprezzo per lei e per me m'aveva oramai abbandonato, e a che pericoli essa esponeva il suo nome, se passioni così terribili e sì **terribilmente** istigate avessero un dì o l'altro fatto uno scoppio; e scongiurandola che tacesse, le diceva addio."
      ],
      "text/plain": [
       "<IPython.core.display.Markdown object>"
      ]
     },
     "metadata": {},
     "output_type": "display_data"
    },
    {
     "data": {
      "text/markdown": [
       "Assentirei all'uso delle elastiche se non vi fosse l'autorità del Pajola nostro il quale raccomanda in visceribus quelle di cera; e d'altra parte i Francesi, che soli ne fanno, hanno il vizio di dar loro la forma conica, quando a me che ho il malanno oltre il collo quasi della vescica bisognerebbero affatto cilindriche, e poi non ne trovo di grosse; e quelle che ho sperimentate mi fanno gran male, perchè si dibattono con la loro troppa elasticità nel canale, ed irritano **terribilmente**."
      ],
      "text/plain": [
       "<IPython.core.display.Markdown object>"
      ]
     },
     "metadata": {},
     "output_type": "display_data"
    },
    {
     "data": {
      "text/markdown": [
       "Il non trovarla scritta, il non conoscerla noi, nemmeno per tradizione, può lasciar supporre che fosse una legge di fatto, sommamente arbitraria ed estesa nella sua applicazione, e a un tempo **terribilmente** semplice nel suo principio."
      ],
      "text/plain": [
       "<IPython.core.display.Markdown object>"
      ]
     },
     "metadata": {},
     "output_type": "display_data"
    },
    {
     "data": {
      "text/markdown": [
       "Quando si dice adunque che gl'Italiani avevano la loro legge, non s'intenda che ella fosse il limite della loro obbedienza, e una tutela della loro libertà; ma si ritenga che, oltre quella, ne avevano un'altra, imposta da una parte interessata: il non trovarla scritta, il non conoscerla noi nemmeno per tradizione, può lasciar supporre che fosse una legge di fatto, sommamente arbitraria ed estesa nella sua applicazione, e ad un tempo **terribilmente** semplice nel suo principio."
      ],
      "text/plain": [
       "<IPython.core.display.Markdown object>"
      ]
     },
     "metadata": {},
     "output_type": "display_data"
    },
    {
     "data": {
      "text/markdown": [
       "— Un lampo non iscopre più **terribilmente** all'occhio del viandante il precipizio sul quale le tenebre della notte lo aveano condotto."
      ],
      "text/plain": [
       "<IPython.core.display.Markdown object>"
      ]
     },
     "metadata": {},
     "output_type": "display_data"
    }
   ],
   "source": [
    "find_sentences_with_keyword(document3, 'terribilmente')"
   ]
  },
  {
   "cell_type": "markdown",
   "id": "776fb7de",
   "metadata": {},
   "source": [
    "### Zeitraum 4: 1826-1850"
   ]
  },
  {
   "cell_type": "code",
   "execution_count": 17,
   "id": "39aa962d",
   "metadata": {},
   "outputs": [],
   "source": [
    "text4 = ''\n",
    "for i in df4.text:\n",
    "    text4 += i"
   ]
  },
  {
   "cell_type": "code",
   "execution_count": 18,
   "id": "fe5cbd4a",
   "metadata": {},
   "outputs": [],
   "source": [
    "document4 = nltk.sent_tokenize(text4)"
   ]
  },
  {
   "cell_type": "code",
   "execution_count": 19,
   "id": "12929ec9",
   "metadata": {},
   "outputs": [
    {
     "data": {
      "text/markdown": [
       "orrido pei mucchj dei cadaveri, massimamente più verso la sua foce nel Po, perchè quivi nel passare furono i Francesi **terribilmente** bersagliati dalle artiglierìe di Melas."
      ],
      "text/plain": [
       "<IPython.core.display.Markdown object>"
      ]
     },
     "metadata": {},
     "output_type": "display_data"
    },
    {
     "data": {
      "text/markdown": [
       "Passeggiando concitatamente innanzi indietro per il mio studio, come una belva feroce nella gabbia di ferro, gridai: S, s, deve essere in questo modo, anzi : ecco il vero concetto: non aveva trovata lespressione, ma il pensiero mi bolliva **terribilmente** nel cervello."
      ],
      "text/plain": [
       "<IPython.core.display.Markdown object>"
      ]
     },
     "metadata": {},
     "output_type": "display_data"
    },
    {
     "data": {
      "text/markdown": [
       "Medici si diede a fulminare **terribilmente** da' suoi legni esso pure, e mentre i Ducali trovavansi in grave confusione perch molte delle loro barche venivano fracassate dalle palle mussiane contro il lido stesso presso cui erano, Gabriele, Falco e Sarbelloni alla testa delle loro schiere presero terra, istruiti di quanto avessero ad operare, lasciando nelle navi i soli bombardieri, che trattisi al largo, continuarono, siccome il Brigantino, a sostenere il fuoco contro i Ducali."
      ],
      "text/plain": [
       "<IPython.core.display.Markdown object>"
      ]
     },
     "metadata": {},
     "output_type": "display_data"
    },
    {
     "data": {
      "text/markdown": [
       "Dei repubblicani in quelle tre giornate fu uno scempio di circa sei mila, e con la presenza animato i suoi soldati, che le grida di viva la repubblica fila per fila risuonando si mescolavano **terribilmente** col rimbombo dei cannoni, e con l''eco delle vicine montagne."
      ],
      "text/plain": [
       "<IPython.core.display.Markdown object>"
      ]
     },
     "metadata": {},
     "output_type": "display_data"
    },
    {
     "data": {
      "text/markdown": [
       "V. trapassando le distanze sociali, ha voluto, uomo compassionevole, recar conforto ad un uomo **terribilmente** visitato da Dio, sappia che ha fatto il bene che s'era proposto, e che le Sue parole, come mi rappresentano al vivo quello che pur troppo sento, così mi danno animo e lume a sentir come debbo."
      ],
      "text/plain": [
       "<IPython.core.display.Markdown object>"
      ]
     },
     "metadata": {},
     "output_type": "display_data"
    },
    {
     "data": {
      "text/markdown": [
       "Medici si diede a fulminare **terribilmente** da'' suoi legni esso pure, e mentre i Ducali trovavansi in grave confusione perchè molte delle loro barche venivanoe si videro solinghe sotto quella ristretta volta dentro un antico disabitato bosco, furono assalite altresì da un terrore che aveva più antica origine nei loro cuori."
      ],
      "text/plain": [
       "<IPython.core.display.Markdown object>"
      ]
     },
     "metadata": {},
     "output_type": "display_data"
    },
    {
     "data": {
      "text/markdown": [
       "Quell'aggiunta sulla dottrina luterana e calviniana della giustificazione per la sola fede, e la quale mi pareva costì non dover richiedere che un cenno, e poche nude citazioni, mi s'è allungata **terribilmente**, non tanto per quello che m'è riuscito di scrivere, quanto per quello che ho dovuto leggere, cioè mi s'è allungata in quanto al tempo da spenderci, molto più che in quanto alla sua estensione."
      ],
      "text/plain": [
       "<IPython.core.display.Markdown object>"
      ]
     },
     "metadata": {},
     "output_type": "display_data"
    },
    {
     "data": {
      "text/markdown": [
       "Gonfiò molto **terribilmente** , e si alzò oltre trenta piedi sopra l''usato livello."
      ],
      "text/plain": [
       "<IPython.core.display.Markdown object>"
      ]
     },
     "metadata": {},
     "output_type": "display_data"
    },
    {
     "data": {
      "text/markdown": [
       "Ma ciò posto ed eccettuato francamente, ed eccettuate forse alcune vendette personali **terribilmente** fatte con sue parole immortali, Dante e il poema suo restan pure l'uomo e il libro incontrastabilmente piú virili ed austeri della nostra letteratura: virile l'uomo, nel saper sopportare le pubbliche, le segrete miserie dell'esiglio, nel non saper sopportare né le insolenti protezioni delle corti né le insolentissime grazie di sua cittá, nel sapere dalla vita attiva, che pur anteponeva ma gli era negata, passare alacre alla letteraria e farvisi grande: virile poi ed austero il poema in amore, in costumi, in politica, in istile, e per quella stessa accumulazione di pensieri che fa del leggerlo una fatica, ma la piú virile, la piú sana fra le esercitazioni somministrate dalle lettere nazionali ai molli animi italiani."
      ],
      "text/plain": [
       "<IPython.core.display.Markdown object>"
      ]
     },
     "metadata": {},
     "output_type": "display_data"
    },
    {
     "data": {
      "text/markdown": [
       "Ne prendo il primo esempio che mi s'affaccia alla mente: quello d'un uomo eternamente celebre, non già per delle qualità straordinarie, ma per la parte tristamente e **terribilmente** principale, che fece in un periodo di quella rivoluzione: Robespierre."
      ],
      "text/plain": [
       "<IPython.core.display.Markdown object>"
      ]
     },
     "metadata": {},
     "output_type": "display_data"
    },
    {
     "data": {
      "text/markdown": [
       "Menò egli sì **terribilmente** le mani, che non solo il Russo piegava, ma ancora i Francesi, preso nuovo ardire, assaltavano Schweicuschi con tantaorrido pei mucchj dei cadaveri, massimamente più verso la sua foce nel Po, perchè quivi nel passare furono i Francesi **terribilmente** bersagliati dalle artiglierìe di Melas."
      ],
      "text/plain": [
       "<IPython.core.display.Markdown object>"
      ]
     },
     "metadata": {},
     "output_type": "display_data"
    },
    {
     "data": {
      "text/markdown": [
       "(dico unora, perch le famiglie del mezzogiorno quando fanno inviti, diventano **terribilmente** aristocratiche, e sono capaci di aspettare fino alla una), dunque bisogner tralasciare di far colazione: e poi, che si fa tutto il resto della giornata?"
      ],
      "text/plain": [
       "<IPython.core.display.Markdown object>"
      ]
     },
     "metadata": {},
     "output_type": "display_data"
    },
    {
     "data": {
      "text/markdown": [
       "Menò egli sì **terribilmente** le mani, che non solo il Russo piegava, ma ancora i Francesi, preso nuovo ardire, assaltavano Schweicuschi con tantaE'' ci deve pur essere un fine alle nazionali disputazioni, il quale malamente taluno sperar potrebbe nel giudizio della plebe, cui i più audaci, i più perduti uomini impressionano meglio, che i buoni ed i prudenti; e la domestica fame necessita a pigliar i bocconi dai malvagi."
      ],
      "text/plain": [
       "<IPython.core.display.Markdown object>"
      ]
     },
     "metadata": {},
     "output_type": "display_data"
    },
    {
     "data": {
      "text/markdown": [
       "forse, se non chi lo prova, può intendere, – dalla potenza che gli fremeva dentro e rimanevasi, per disconforto dell'' Oggi , inoperosa al di fuori, CARLO BINI tra l''esser frainteso o profanato nell''espressione del suo pensiero, scelse il– ora cantava in una lingua e in una musica affatto nuova; – ora s''incrociava le mani sul petto, nascondendosi le pupille **terribilmente** sotto le ciglia."
      ],
      "text/plain": [
       "<IPython.core.display.Markdown object>"
      ]
     },
     "metadata": {},
     "output_type": "display_data"
    },
    {
     "data": {
      "text/markdown": [
       "Fulminava soprattutto **terribilmente** colla sua nave il Formidabile, e colle due sue seconde il Namur, ed il Duca, tutte e tre di novanta cannoni, l''ammiragliogli accidenti sanguinosi d''Italia; che questa provincia libera dalla guerra esterna, era straziata dalla guerra civile; che le esortazioni del direttorio della repubblica Francese non avevano potuto frenar popolazioni pronte a correre alla discordia, ed al sangue le une contro le altre; che l''esercito Francese cinto da ogni parte da congiure e da guerre civili, aveva dovuto mettersi in guardia; che in tutto questo si vedeva chiaramente l''opera dei perfidi Inglesi, che con ogni delitto, e pur troppo spesso ancora con usare le generose passioni stesse intendevano continuamente a turbare la quiete del mondo; che vedeva la repubblica i suoi nemici, che vedeva ancora in compagnìa loro amici traviati; che voleva torre ai primi la facoltà di nuocere, tornare i secondi ad un quieto e felice vivere; che aveva il re di Sardegna, alleato della repubblica, ad instanza formale del direttorio, perdonato intieramente agli autori delle ultime turbazioni, e per la sicura fede delle sue promesse posto in mano di un presidio Francese la cittadella di Torino; che per tale modo dovevansi spegnere tutte le faci della civil guerra  Le provincie tumultuano contro i Francesi, Napoli stessa si muove a furia di popolo contro di loro."
      ],
      "text/plain": [
       "<IPython.core.display.Markdown object>"
      ]
     },
     "metadata": {},
     "output_type": "display_data"
    },
    {
     "data": {
      "text/markdown": [
       "persone di qualità della detta città d''Arras, ed altre persone di minor conto; e vennero talmente angustiate e così **terribilmente** tormentate, che gli uni confessarono essere loro accaduto tal caso, come abbiamo detto, e molti di più confessarono d''veduti i signori avere la parte loro de'' prodotti del delitto."
      ],
      "text/plain": [
       "<IPython.core.display.Markdown object>"
      ]
     },
     "metadata": {},
     "output_type": "display_data"
    },
    {
     "data": {
      "text/markdown": [
       "Medici si diede a fulminare **terribilmente** da'' suoi legni esso pure, e mentre i Ducali trovavansi in grave confusione perchè molte delle loro barche venivanoSedetevi qui: partiremo quando verrà dato il secondo segnale; intanto riscaldatevi e bevete, che fa d''uopo scacciare per tempo il gelo dalle ossa per fare una buona giornata."
      ],
      "text/plain": [
       "<IPython.core.display.Markdown object>"
      ]
     },
     "metadata": {},
     "output_type": "display_data"
    },
    {
     "data": {
      "text/markdown": [
       "E dico un inganno divenuto più caro e prezioso che mai; giacchè, se prima il riconoscerli innocenti era per que' giudici un perder l'occasione di condannare, ormai sarebbe stato un trovarsi **terribilmente** colpevoli; e le frodi, le violazioni della legge, che sapevano d'aver commesse, ma che volevan creder giustificate dalla scoperta di così empi e funesti malfattori, non solo sarebbero ricomparse nel loro nudo e laido aspetto di frodi e di violazioni della legge, ma sarebbero comparse come produttrici d'un orrendo assassinio."
      ],
      "text/plain": [
       "<IPython.core.display.Markdown object>"
      ]
     },
     "metadata": {},
     "output_type": "display_data"
    },
    {
     "data": {
      "text/markdown": [
       "Comecchè messi in confusione, e **terribilmente** maltrattati, i Francesi, con la celerità d''una truppa ben disciplinata, ed esperimentata, furono in un subitoNon evvi al certo da far le meraviglie se alcuni dei ministri dell''altare abusano qualche volta del loro ministero, poichè i membri di quella corporazione al clero inferiore appartenenti generalmente in Italia molto rispettabili, sono tenuti in uno stato ben vicino all''indigenza, ed i prelati, vescovi, e cardinali tutte le ricchezze della chiesa ingordamente assorbono, quindi non è da stupirsi se abbagliati dall''oro che sono così poco usi a possedere, e gli viene in abbondanza offerto, alcuni di essi a danno di cattolici penitenti trafficano del sagramento in favore della corona!......"
      ],
      "text/plain": [
       "<IPython.core.display.Markdown object>"
      ]
     },
     "metadata": {},
     "output_type": "display_data"
    },
    {
     "data": {
      "text/markdown": [
       "Il loro tradimento spianò aipersone di qualità della detta città d''Arras, ed altre persone di minor conto; e vennero talmente angustiate e così **terribilmente** tormentate, che gli uni confessarono essere loro accaduto tal caso, come abbiamo detto, e molti di più confessarono d''combinazioni."
      ],
      "text/plain": [
       "<IPython.core.display.Markdown object>"
      ]
     },
     "metadata": {},
     "output_type": "display_data"
    },
    {
     "data": {
      "text/markdown": [
       "– ora cantava in una lingua e in una musica affatto nuova; – ora s''incrociava le mani sul petto, nascondendosi le pupille **terribilmente** sotto le ciglia."
      ],
      "text/plain": [
       "<IPython.core.display.Markdown object>"
      ]
     },
     "metadata": {},
     "output_type": "display_data"
    },
    {
     "data": {
      "text/markdown": [
       "dell''India, a cui la povera Sacontala, occupata da tutt''altri pensieri, trascurò di far le dovute accoglienze, grida **terribilmente** :--E che?"
      ],
      "text/plain": [
       "<IPython.core.display.Markdown object>"
      ]
     },
     "metadata": {},
     "output_type": "display_data"
    },
    {
     "data": {
      "text/markdown": [
       "Comecchè messi in confusione, e **terribilmente** maltrattati, i Francesi, con la celerità d''una truppa ben disciplinata, ed esperimentata, furono in un subitoalla pag."
      ],
      "text/plain": [
       "<IPython.core.display.Markdown object>"
      ]
     },
     "metadata": {},
     "output_type": "display_data"
    },
    {
     "data": {
      "text/markdown": [
       "\" Seria **terribilmente** , perchè il cavaliere ed io....... \" \" Quand''è così, vi prego tralasciar di contarmela affatto."
      ],
      "text/plain": [
       "<IPython.core.display.Markdown object>"
      ]
     },
     "metadata": {},
     "output_type": "display_data"
    },
    {
     "data": {
      "text/markdown": [
       "Come vorreste ch''io avessi un''aria ilare e gaia, s''io mi sento malinconico, e **terribilmente** malinconico? \""
      ],
      "text/plain": [
       "<IPython.core.display.Markdown object>"
      ]
     },
     "metadata": {},
     "output_type": "display_data"
    },
    {
     "data": {
      "text/markdown": [
       "Pur troppo, l'uomo può ingannarsi, e ingannarsi **terribilmente**, con molto minore stravaganza."
      ],
      "text/plain": [
       "<IPython.core.display.Markdown object>"
      ]
     },
     "metadata": {},
     "output_type": "display_data"
    },
    {
     "data": {
      "text/markdown": [
       ", e con la presenza animato i suoi soldati, che le grida di viva la repubblica fila per fila risuonando si mescolavano **terribilmente** col rimbombo dei cannoni, e con l''eco delle vicine montagne."
      ],
      "text/plain": [
       "<IPython.core.display.Markdown object>"
      ]
     },
     "metadata": {},
     "output_type": "display_data"
    },
    {
     "data": {
      "text/markdown": [
       "Fulminava soprattutto **terribilmente** colla sua nave il Formidabile, e colle due sue seconde il Namur, ed il Duca, tutte e tre di novanta cannoni, l''ammiraglioNe seguiva una guerra altrettanto crudele, quanto era inutile, ed a niun altro fine tendeva, che a vieppiù accendere ed inasprire gli animi da una parte e dall''altra."
      ],
      "text/plain": [
       "<IPython.core.display.Markdown object>"
      ]
     },
     "metadata": {},
     "output_type": "display_data"
    }
   ],
   "source": [
    "find_sentences_with_keyword(document4, 'terribilmente')"
   ]
  },
  {
   "cell_type": "markdown",
   "id": "a8e16410",
   "metadata": {},
   "source": [
    "### Zeitraum 5: 1851-1875"
   ]
  },
  {
   "cell_type": "code",
   "execution_count": 20,
   "id": "bacf81b2",
   "metadata": {},
   "outputs": [],
   "source": [
    "text5 = ''\n",
    "for i in df5.text:\n",
    "    text5 += i"
   ]
  },
  {
   "cell_type": "code",
   "execution_count": 21,
   "id": "b773ad24",
   "metadata": {},
   "outputs": [],
   "source": [
    "document5 = nltk.sent_tokenize(text5)"
   ]
  },
  {
   "cell_type": "code",
   "execution_count": 22,
   "id": "d45922f1",
   "metadata": {},
   "outputs": [
    {
     "data": {
      "text/markdown": [
       "I sopravvegnenti, trovando la distruzione dove avrebbero volutoa porsi a canto una parete, tenendo colla destra il cane e il grilletto, colla sinistra la canna d''una sua carabina, **terribilmente** famosa al pari di lui."
      ],
      "text/plain": [
       "<IPython.core.display.Markdown object>"
      ]
     },
     "metadata": {},
     "output_type": "display_data"
    },
    {
     "data": {
      "text/markdown": [
       "Acute grida s''alzavano al cielo, gemiti di disperazione erompevano da cuori spezzatiVenuto a parlamento con S.  , ci fu il marito della zia Sara.... Ah, sembrava un uomo tanto ammodo quando Sarina lo sposò, e finì col truffare il babbo **terribilmente** , sicchè fu costretto a ipotecare la sua casa di Via Alta, e da ultimo a cederla!..."
      ],
      "text/plain": [
       "<IPython.core.display.Markdown object>"
      ]
     },
     "metadata": {},
     "output_type": "display_data"
    },
    {
     "data": {
      "text/markdown": [
       "La contessa aveva la testa abbandonata sul guanciale, e di traverso fissava uno sguardo lento e profondo in volto al Baroggi, che, tenendo il labbro sulla mano di lei, la fissava **terribilmente** immoto."
      ],
      "text/plain": [
       "<IPython.core.display.Markdown object>"
      ]
     },
     "metadata": {},
     "output_type": "display_data"
    },
    {
     "data": {
      "text/markdown": [
       "La sventura che aveva colpito iche vi guardano immobili, che si guardano immobili--quelle delle due lineette che ne troncano inesorabilmente, **terribilmente** le cime--quell''arco inferiore, sul quale la lettera oscilla e si dondola sogghignando--e nell''interno quel nero,."
      ],
      "text/plain": [
       "<IPython.core.display.Markdown object>"
      ]
     },
     "metadata": {},
     "output_type": "display_data"
    },
    {
     "data": {
      "text/markdown": [
       ", trassero fuori delle tasche il bowieknife, ovvero _coltello piegatoio_, che gli americani maneggiano con maestria **terribilmente** celebre: non era tempo di gingillarsi cotesto; però Filippo e Curio, recatesi in mano le rivoltelle a sei colpi, leSignora sì: quando aveva 20 anni mi pareva essere bello, e, a dirgliela nell''orecchio, pareva anche ad altri; ma di qui a quei tempi ci è che ire."
      ],
      "text/plain": [
       "<IPython.core.display.Markdown object>"
      ]
     },
     "metadata": {},
     "output_type": "display_data"
    },
    {
     "data": {
      "text/markdown": [
       "Diede in un grido ed accompagnata dai vicini che le facevano visita, si avanzò verso il Rabbì che mi parve **terribilmente** preoccupato."
      ],
      "text/plain": [
       "<IPython.core.display.Markdown object>"
      ]
     },
     "metadata": {},
     "output_type": "display_data"
    },
    {
     "data": {
      "text/markdown": [
       "Le nozze imminenti le richiamavano le prime, poi le seconde che s''erano tanto **terribilmente** interrotte; gl''insistenti rimorsi, come da lontano, facevano sentire la loro voce; il timore del Lautrec tornava aaveva udito, si mosse di slancio ed entrò nella sala d''armi, ciascuno si sentì quasi forzato a seguirlo, ma con quell'' ansia paurosa onde si andrebbe a contemplar lo spettacolo d''una belva che bramosa si gettasse su chi non ha difesa."
      ],
      "text/plain": [
       "<IPython.core.display.Markdown object>"
      ]
     },
     "metadata": {},
     "output_type": "display_data"
    },
    {
     "data": {
      "text/markdown": [
       "dignità di assioma nella scienza ha voluto aggravare la tassa del caffè, del tè, e degli spiriti, e tre vide percossa **terribilmente** questa rendita della finanza; nella sola Irlanda scapitò l''erario centodiciassette milioni, eLuisa piegata la faccia conobbe essere Angiolina, la quale a rispettosa distanza genuflessa aveva giunto le manine al suo pargolo, e quelle levate con le proprie verso il cielo plorando pregava."
      ],
      "text/plain": [
       "<IPython.core.display.Markdown object>"
      ]
     },
     "metadata": {},
     "output_type": "display_data"
    },
    {
     "data": {
      "text/markdown": [
       "Là su213 quel vertice, benchè il fiato gli uscisse affannoso dal petto e le tempie e i polsi gli battessero **terribilmente**, Altobello volse gli occhi dintorno per contemplare lo spettacolo che gli si parava davanti."
      ],
      "text/plain": [
       "<IPython.core.display.Markdown object>"
      ]
     },
     "metadata": {},
     "output_type": "display_data"
    },
    {
     "data": {
      "text/markdown": [
       "Una cosa mi conforta e mi inorgoglisce, il sentimento della mia freddezza- perché il mio cuore è freddo, **terribilmente** freddo."
      ],
      "text/plain": [
       "<IPython.core.display.Markdown object>"
      ]
     },
     "metadata": {},
     "output_type": "display_data"
    },
    {
     "data": {
      "text/markdown": [
       "L'uomo vestito di velluto avea il braccio e le reni solidi come bronzo, e molta abilità in questa maniera di scherma, ciò che gli faceva menar colpi che calavano giù rombando **terribilmente**; il giovane però, se non avea la forza muscolare del suo avversario, lo vinceva nell'elasticità e sveltezza dei movimenti e nel sangue freddo inalterabile, che in lui era uno strano effetto della collera, con cui aggiustava i suoi colpi e parava quelli che gli venivano."
      ],
      "text/plain": [
       "<IPython.core.display.Markdown object>"
      ]
     },
     "metadata": {},
     "output_type": "display_data"
    },
    {
     "data": {
      "text/markdown": [
       "sempre grondante sangue cagliato, con le chiome grommose; ma poi mutata vicenda toccò al capo di Tuda comparire **terribilmente** miserabile, mentre la testa del prete Guercino si affacciava ora con la sua bella chierica candida come fiore di latte,al nostro occhio morente a guisa di nuvola, finchè appressandoci sveli al nostro sguardo le sue palme e i suoi fiori."
      ],
      "text/plain": [
       "<IPython.core.display.Markdown object>"
      ]
     },
     "metadata": {},
     "output_type": "display_data"
    },
    {
     "data": {
      "text/markdown": [
       "La barbarie dilaga **terribilmente** e ci trascina tutti senza che quasi ce ne accorgiamo."
      ],
      "text/plain": [
       "<IPython.core.display.Markdown object>"
      ]
     },
     "metadata": {},
     "output_type": "display_data"
    },
    {
     "data": {
      "text/markdown": [
       "Egli morde **terribilmente** all'amo e fa delle vere prodezze."
      ],
      "text/plain": [
       "<IPython.core.display.Markdown object>"
      ]
     },
     "metadata": {},
     "output_type": "display_data"
    },
    {
     "data": {
      "text/markdown": [
       "Ma la mia gioia fu presto scemata, vedendo l'aspetto di Fantasio **terribilmente** cambiato."
      ],
      "text/plain": [
       "<IPython.core.display.Markdown object>"
      ]
     },
     "metadata": {},
     "output_type": "display_data"
    },
    {
     "data": {
      "text/markdown": [
       "E per giunta una persona così **terribilmente** virtuosa, che tutti sono in obbligo d''idolatrarla, ammirarla e servirla."
      ],
      "text/plain": [
       "<IPython.core.display.Markdown object>"
      ]
     },
     "metadata": {},
     "output_type": "display_data"
    },
    {
     "data": {
      "text/markdown": [
       "Né qui è tutto - continuò il vecchio corrugando **terribilmente** la fronte; - quel demonio trasse fuori di tasca una funicella e colla fredda e spietata tranquillità del carnefice che applica la tortura assicurò alle verdi piante le membra della vittima a cui intanto ripeteva: \"Vedi Alba!"
      ],
      "text/plain": [
       "<IPython.core.display.Markdown object>"
      ]
     },
     "metadata": {},
     "output_type": "display_data"
    },
    {
     "data": {
      "text/markdown": [
       "Il Malumbra, dopo l''incontro avuto coll''Alberigo Fossano, comprendendo assai bene d''esser venuto in odio all''universale, e che la società all''indifferenza aveva aggiunta anche l''offesa, anche egli sentì il bisogno di agguerrirsi più validamente per riuscire a star forte, solo com''era, incontro all''urto di tutti quanti; e presto l''anima gli si venne guastando di tal guisa, che se prima operava il male per un fine, per il guadagno, per la vita dei figli, allora avrebbe operato il male, come suol dirsi, per il male medesimo, per assaporare la vendetta, e l''esclusiva voluttà del martoriare gli altri; il veleno della sua trista natura più mortale che mai non fosse stato  odioso, che ad arrovesciargli l''animo non v''era cosa più pronta che nominargli quel Ma l''anno 1512 fu per lui ben più **terribilmente** memorabile."
      ],
      "text/plain": [
       "<IPython.core.display.Markdown object>"
      ]
     },
     "metadata": {},
     "output_type": "display_data"
    },
    {
     "data": {
      "text/markdown": [
       "Gli si erano allividite e contratte vieppi le sue guancie, e il suo sguardo non aveva potuto reggere a quello avvampante di Gina; ma il furore in lui non era stato tardo a sovraggiungere, si slanci su di lei, la afferr alle braccia, le serr i polsi e scuotendola senza un riguardo, rugg, accostando a quello di lei il suo volto **terribilmente** impresso dall'ira: - Sciagurata!"
      ],
      "text/plain": [
       "<IPython.core.display.Markdown object>"
      ]
     },
     "metadata": {},
     "output_type": "display_data"
    },
    {
     "data": {
      "text/markdown": [
       "Ogni gioconda esaltazione era in lei cessata; le parole di Manfredo la percossero **terribilmente** , quantunque non le potesse comprendere."
      ],
      "text/plain": [
       "<IPython.core.display.Markdown object>"
      ]
     },
     "metadata": {},
     "output_type": "display_data"
    },
    {
     "data": {
      "text/markdown": [
       "– Io non ho da servirla; cotesto è l''ufficiomuoversi; l''avvicinarsi di quell''ora desiderata prima con tanta smania, ora le metteva in cuore un indefinibile terrore , sentiva farsele più rapido il batter de'' polsi, mille sospetti, mille paure le si affollavano nella fantasia, oraun momento a guardarci con curiosità; io, s''intende, non ne facevo caso, ma la mia dama sembrava credere che ne fossi **terribilmente** mortificato, e, passate alfine tutte quante, ha rilodato il mio \"spirito di cortesia\": sua espressione favorita."
      ],
      "text/plain": [
       "<IPython.core.display.Markdown object>"
      ]
     },
     "metadata": {},
     "output_type": "display_data"
    },
    {
     "data": {
      "text/markdown": [
       "– Al contrario, ne ho sofferto **terribilmente** !"
      ],
      "text/plain": [
       "<IPython.core.display.Markdown object>"
      ]
     },
     "metadata": {},
     "output_type": "display_data"
    },
    {
     "data": {
      "text/markdown": [
       "È fama che la duchessa, non sazia affatto di tanto spargimento di sangue, più che mai inviperita contro il duca suo marito, contro il capitano Cosimo de'' Pazzi e contro Vincenzio Carlini, supposti da lei ministri de'' suoi amori, havesse concetto di far avvelenar quello, et uccidere questi, et egli ne vivesse lungo tempo in gran sospetto, e con estrema cura e diligenza s''assicurò d''ogni mal incontro; e gli altri due, cioè il Pazzi et il Carlini, avvertiti dal duca della cattiva intenzione della duchessa  volentieri il lettore al suo volume, se questo storico, e per essere di soverchio prolisso e per lo stile che adopera, spesso intricato ed oscuro, non riuscisse a cui lo legga sazievole; difetti però che non devono in tutto ascriversi allo; che sguazzarlo mentre lo cavalcava un ponte parve inonorato; adesso lo arieno fatto più che volentieri, ma lo videro **terribilmente** gonfio, nè minacciatore di morte meno sicura, che il ponte; e il tempo a deliberare stringeva; perchè dai parapetticreature di Dio?"
      ],
      "text/plain": [
       "<IPython.core.display.Markdown object>"
      ]
     },
     "metadata": {},
     "output_type": "display_data"
    },
    {
     "data": {
      "text/markdown": [
       "I delitti che avevano disonorato il procelloso tribunato di Shaftesbury, erano stati **terribilmente** espiati."
      ],
      "text/plain": [
       "<IPython.core.display.Markdown object>"
      ]
     },
     "metadata": {},
     "output_type": "display_data"
    },
    {
     "data": {
      "text/markdown": [
       "Era **terribilmente** in forse di Fermo: Agnese non le aveva potuto dire se non quello ch''ella stessa sapeva confusamente; che Fermo, cioè,di farsi udire le trombe che avevan sonata la partenza d''un reggimento, un nuovo squillo dall''altra parte annunziava **terribilmente** l''arrivo di altra simile, anzi peggiore brigata."
      ],
      "text/plain": [
       "<IPython.core.display.Markdown object>"
      ]
     },
     "metadata": {},
     "output_type": "display_data"
    },
    {
     "data": {
      "text/markdown": [
       "Il suo naso **terribilmente** rosso - diventava un carbone infiammato per beatitudine."
      ],
      "text/plain": [
       "<IPython.core.display.Markdown object>"
      ]
     },
     "metadata": {},
     "output_type": "display_data"
    },
    {
     "data": {
      "text/markdown": [
       "Davvero desolazione; che sguazzarlo mentre lo cavalcava un ponte parve inonorato; adesso lo arieno fatto più che volentieri, ma lo videro **terribilmente** gonfio, nè minacciatore di morte meno sicura, che il ponte; e il tempo a deliberare stringeva; perchè dai parapetti\"Divo Cesare, non è venuto."
      ],
      "text/plain": [
       "<IPython.core.display.Markdown object>"
      ]
     },
     "metadata": {},
     "output_type": "display_data"
    },
    {
     "data": {
      "text/markdown": [
       "ella si rizzò, prese risoluta un foglio, e scrisse con una febbrile rapidità che mostrava come profondamente, e quasi **terribilmente** , fosse scossa in tutto il suo essere, anima e corpo, e si piegasse, vacillasse sotto il peso delle speranze, delle ansiela scoprirono qua e là."
      ],
      "text/plain": [
       "<IPython.core.display.Markdown object>"
      ]
     },
     "metadata": {},
     "output_type": "display_data"
    },
    {
     "data": {
      "text/markdown": [
       "dignità di assioma nella scienza ha voluto aggravare la tassa del caffè, del tè, e degli spiriti, e tre vide percossa **terribilmente** questa rendita della finanza; nella sola Irlanda scapitò l''erario centodiciassette milioni, ePoco dopo mi visitarono i signori Generale Zannetti e Colonnello Nespoli, il quale mi consigliò a mettermi in salvo, offrendomi mandare una compagnia di Guardia Nazionale per tutelarmi, andando alla Via ferrata Leopolda, ed io ricusai le offerte rispondendo non avere alcun timore, ed essermi legato di aspettare fino a sera."
      ],
      "text/plain": [
       "<IPython.core.display.Markdown object>"
      ]
     },
     "metadata": {},
     "output_type": "display_data"
    },
    {
     "data": {
      "text/markdown": [
       "le domandòodioso, che ad arrovesciargli l''animo non v''era cosa più pronta che nominargli quel Ma l''anno 1512 fu per lui ben più **terribilmente** memorabile."
      ],
      "text/plain": [
       "<IPython.core.display.Markdown object>"
      ]
     },
     "metadata": {},
     "output_type": "display_data"
    },
    {
     "data": {
      "text/markdown": [
       "Il Lautrec era **terribilmente** abbattuto."
      ],
      "text/plain": [
       "<IPython.core.display.Markdown object>"
      ]
     },
     "metadata": {},
     "output_type": "display_data"
    },
    {
     "data": {
      "text/markdown": [
       "Quell'aggiunta sulla dottrina luterana e calviniana della giustificazione per la sola fede, e la quale ini pareva costi non dover richiedere che un cenno, e poche nude citazioni, mi s'è allungata **terribilmente**, non tanto per quello che m'è riuscito di scrivere, quanto per quello che ho dovuto leggere, cioè mi s'è allungata in quanto al tempo da spenderci, molto più che in quanto alla sda estensione."
      ],
      "text/plain": [
       "<IPython.core.display.Markdown object>"
      ]
     },
     "metadata": {},
     "output_type": "display_data"
    },
    {
     "data": {
      "text/markdown": [
       "In quella entrava il vecchio rigattiere ebreo, la faccia **terribilmente** sconvolta; stampata entro la mente l'immagine del volto di sua figlia annegata che aveva visto poc'anzi."
      ],
      "text/plain": [
       "<IPython.core.display.Markdown object>"
      ]
     },
     "metadata": {},
     "output_type": "display_data"
    },
    {
     "data": {
      "text/markdown": [
       "Quando il suo liberto spagnuolo venne ad annunziargli che sua moglie toccava le mura di Gerusalemme, Pilato era **terribilmente** occupato."
      ],
      "text/plain": [
       "<IPython.core.display.Markdown object>"
      ]
     },
     "metadata": {},
     "output_type": "display_data"
    },
    {
     "data": {
      "text/markdown": [
       "sempre grondante sangue cagliato, con le chiome grommose; ma poi mutata vicenda toccò al capo di Tuda comparire **terribilmente** miserabile, mentre la testa del prete Guercino si affacciava ora con la sua bella chierica candida come fiore di latte,La vanità contratta con l''avvilimento, e la miseria e l''avarizia fanno da mezzane.--Non lo prendete a male, Biagio; ma voi quando date un soldo compiacete a voi stesso, e non vi muove la carità del prossimo."
      ],
      "text/plain": [
       "<IPython.core.display.Markdown object>"
      ]
     },
     "metadata": {},
     "output_type": "display_data"
    },
    {
     "data": {
      "text/markdown": [
       "che lo traggono a disperare, e l''altro che gli arresta la mano; tutta quella notte infine offrono un tal che di sì **terribilmente** vero, misterioso e solenne, che a noi sembra poco il dire che negli altri lavori di simil genere non v''ha brano che possache non credeva di poter più attenere, dove aveva tante volte fantasticato un avvenire, divenuto ora impossibile."
      ],
      "text/plain": [
       "<IPython.core.display.Markdown object>"
      ]
     },
     "metadata": {},
     "output_type": "display_data"
    },
    {
     "data": {
      "text/markdown": [
       "Una cosa mi conforta e mi inorgoglisce, il sentimento della mia freddezza — perché il mio cuore è freddo, **terribilmente** freddo."
      ],
      "text/plain": [
       "<IPython.core.display.Markdown object>"
      ]
     },
     "metadata": {},
     "output_type": "display_data"
    },
    {
     "data": {
      "text/markdown": [
       "Ma, almeno per variet, trovatene delle nuove, che ve n'avverto,  **terribilmente** monotono il vostro partito."
      ],
      "text/plain": [
       "<IPython.core.display.Markdown object>"
      ]
     },
     "metadata": {},
     "output_type": "display_data"
    },
    {
     "data": {
      "text/markdown": [
       "Basta, lo sciagurato è morto, e nonchiederlo a Bella, ma non c''è stato caso che mi desse retta; quando è occupata delle sue gale, non conosce altro.... Oh, è **terribilmente** egoista."
      ],
      "text/plain": [
       "<IPython.core.display.Markdown object>"
      ]
     },
     "metadata": {},
     "output_type": "display_data"
    },
    {
     "data": {
      "text/markdown": [
       "Ah se il mondo fosse come io vorrei; se fosse vero che, siccome talora fantastico, la virtù potesse essere un prodotto della volontà costante di chi la sente e la vede; e fosse errore il credere, darsi nature così **terribilmente** guaste da tornare impossibile il placarle pur sotto i più beneficj influssi... che consolazione sarebbe!..."
      ],
      "text/plain": [
       "<IPython.core.display.Markdown object>"
      ]
     },
     "metadata": {},
     "output_type": "display_data"
    },
    {
     "data": {
      "text/markdown": [
       "V''era tuttavia chi non sapeva ancora indursi a credere quanto si raccontava, quando il corriere spedito in tuttae di congiungerla al Palavicino, tanto la prima che questa volta fece nascere in lei delle vaghe speranze, Ella era così **terribilmente** oppressa, così insopportabile era la ragione di sua vita, che non le parea vero non volesse Iddio prepararle untrabalzamento, perduto al tutto l''equilibrio, potei difendermi, e caddi addosso a lui."
      ],
      "text/plain": [
       "<IPython.core.display.Markdown object>"
      ]
     },
     "metadata": {},
     "output_type": "display_data"
    },
    {
     "data": {
      "text/markdown": [
       "Rossini ha un faccione sì paffuto e lucente, che non si sa capire come abbia potuto far piangere Desdemona a quel modo, e dar tinte così **terribilmente** tragiche a tutto il terzo atto dell'Otello."
      ],
      "text/plain": [
       "<IPython.core.display.Markdown object>"
      ]
     },
     "metadata": {},
     "output_type": "display_data"
    },
    {
     "data": {
      "text/markdown": [
       "La solennità dell''ora, la voce **terribilmente** arcana delle acque, anche quando addormentate respirano, la distesa dei cieli, la dimostrazione parlante, continuasotto, ma egli invelenito si difende a morsi, a calci, e non lascia presa."
      ],
      "text/plain": [
       "<IPython.core.display.Markdown object>"
      ]
     },
     "metadata": {},
     "output_type": "display_data"
    },
    {
     "data": {
      "text/markdown": [
       ", ci fu il marito della zia Sara.... Ah, sembrava un uomo tanto ammodo quando Sarina lo sposò, e finì col truffare il babbo **terribilmente** , sicchè fu costretto a ipotecare la sua casa di Via Alta, e da ultimo a cederla!..."
      ],
      "text/plain": [
       "<IPython.core.display.Markdown object>"
      ]
     },
     "metadata": {},
     "output_type": "display_data"
    },
    {
     "data": {
      "text/markdown": [
       "Il colloquio adunque fu sospeso, e per più di un'ora il conte dovette adattarsi a parlar di cose, che deviandolo dal suo pensiero fisso, lo annojavano **terribilmente**."
      ],
      "text/plain": [
       "<IPython.core.display.Markdown object>"
      ]
     },
     "metadata": {},
     "output_type": "display_data"
    },
    {
     "data": {
      "text/markdown": [
       "che lo traggono a disperare, e l''altro che gli arresta la mano; tutta quella notte infine offrono un tal che di sì **terribilmente** vero, misterioso e solenne, che a noi sembra poco il dire che negli altri lavori di simil genere non v''ha brano che possail tuo sangue?\""
      ],
      "text/plain": [
       "<IPython.core.display.Markdown object>"
      ]
     },
     "metadata": {},
     "output_type": "display_data"
    },
    {
     "data": {
      "text/markdown": [
       "Sì, aveva cominciato, e sebbene spesso le fallisse il piede, sebbene talvolta la pazienza le venisse meno nell''angusta via, ed ella ne uscisse per rallentareun momento a guardarci con curiosità; io, s''intende, non ne facevo caso, ma la mia dama sembrava credere che ne fossi **terribilmente** mortificato, e, passate alfine tutte quante, ha rilodato il mio \"spirito di cortesia\": sua espressione favorita."
      ],
      "text/plain": [
       "<IPython.core.display.Markdown object>"
      ]
     },
     "metadata": {},
     "output_type": "display_data"
    },
    {
     "data": {
      "text/markdown": [
       "Non mai s'era veduta tanta severità contro una conventicola che per tanti anni era stata, se non permessa, tollerata; onde pareva che tutto in que' giorni volesse piegar **terribilmente** al peggio."
      ],
      "text/plain": [
       "<IPython.core.display.Markdown object>"
      ]
     },
     "metadata": {},
     "output_type": "display_data"
    },
    {
     "data": {
      "text/markdown": [
       "Qui la risposta è **terribilmente** facile e pronta: può perchè può."
      ],
      "text/plain": [
       "<IPython.core.display.Markdown object>"
      ]
     },
     "metadata": {},
     "output_type": "display_data"
    },
    {
     "data": {
      "text/markdown": [
       "Alla fine liberano da morte sicura la Bianca, **terribilmente** malconcia; aveva gli occhi fuori come gatto arrabbiato; le impronte sanguigne intorno al collo le durarono più di unIn quanto a virtù, se la disposizione dell''animo a bene operare è mossa da desiderio, o da speranza di premio, tu giudicala traffico, non virtù, e ti apporrai."
      ],
      "text/plain": [
       "<IPython.core.display.Markdown object>"
      ]
     },
     "metadata": {},
     "output_type": "display_data"
    },
    {
     "data": {
      "text/markdown": [
       "Era **terribilmente** in forse di Fermo: Agnese non le aveva potuto dire se non quello ch''ella stessa sapeva confusamente; che Fermo, cioè,Non posso por fine a questa nota senza ricordare gli epitaffi, o epigrammi, nel vero significato della parola (dacchè per epigrammi intendevano gli antichi le iscrizioni funerarie piene di contumelie composte pei vivi), che si ricambiarono Paolo Giovio e Pietro Aretino."
      ],
      "text/plain": [
       "<IPython.core.display.Markdown object>"
      ]
     },
     "metadata": {},
     "output_type": "display_data"
    },
    {
     "data": {
      "text/markdown": [
       "Quell'uomo era il nembo che si condensa per esplodere **terribilmente**."
      ],
      "text/plain": [
       "<IPython.core.display.Markdown object>"
      ]
     },
     "metadata": {},
     "output_type": "display_data"
    },
    {
     "data": {
      "text/markdown": [
       "Sappiate però che i dolori più crudeli sono stati quelli del sentimento: sì, del sentimento, ch''è la parte piùella si rizzò, prese risoluta un foglio, e scrisse con una febbrile rapidità che mostrava come profondamente, e quasi **terribilmente** , fosse scossa in tutto il suo essere, anima e corpo, e si piegasse, vacillasse sotto il peso delle speranze, delle ansieSpero che se mai mi marito, – esclamò la ragazza – non sarà con uno che abbia una figlia cieca!"
      ],
      "text/plain": [
       "<IPython.core.display.Markdown object>"
      ]
     },
     "metadata": {},
     "output_type": "display_data"
    },
    {
     "data": {
      "text/markdown": [
       "– La notte è fredda, **terribilmente** .... Che vi sentireste in cuore se domattina la trovassero morta gelata sulla soglia della vostra casa?"
      ],
      "text/plain": [
       "<IPython.core.display.Markdown object>"
      ]
     },
     "metadata": {},
     "output_type": "display_data"
    },
    {
     "data": {
      "text/markdown": [
       "E quello del medico, corrucciato prima **terribilmente** , poscia d''un subito rassegnato: \"Pur troppo!\""
      ],
      "text/plain": [
       "<IPython.core.display.Markdown object>"
      ]
     },
     "metadata": {},
     "output_type": "display_data"
    },
    {
     "data": {
      "text/markdown": [
       "Un fischio, un salto alla soglia, una sguardata, una mira, uno scoppio, il bargello per terra,contegno sentiva talvolta orrore e disprezzo, ne riceveva una specie di scandalo; ma questi sentimenti ricadevano **terribilmente** su la sua coscienza, perchè ad ogni volta Geltrude era costretta a ricordarsi che dessa era quella che aveva fatto fararmi, lo abbandonarono mendico a tapinare su la pubblica via."
      ],
      "text/plain": [
       "<IPython.core.display.Markdown object>"
      ]
     },
     "metadata": {},
     "output_type": "display_data"
    },
    {
     "data": {
      "text/markdown": [
       "Tutto volge ad un punto, e pare che gli ostacoli cadano l''un dopo l''altroe di congiungerla al Palavicino, tanto la prima che questa volta fece nascere in lei delle vaghe speranze, Ella era così **terribilmente** oppressa, così insopportabile era la ragione di sua vita, che non le parea vero non volesse Iddio prepararle uni capelli di sotto alla celata."
      ],
      "text/plain": [
       "<IPython.core.display.Markdown object>"
      ]
     },
     "metadata": {},
     "output_type": "display_data"
    },
    {
     "data": {
      "text/markdown": [
       "Ed anco qui nel conto non entrò il lupo, perchè il signor Clemente cheto cheto, presi seco duecento uomini, aveva passato il Golo sul ponte del Lago Benedetto, e colà messo su in fretta alcune trincere faceva mostra di finire quanti si attentassero di avventurarci il piede: e poichè nei Francesi non è per certo l'ardire quello che manca, ci si provarono, e non una volta, nè due: però toccarono troppi morti per non invilirsi; al fiume non avevano avvertito molto; che sguazzarlo mentre lo cavalcava un ponte parve inonorato; adesso lo arieno fatto più che volentieri, ma lo videro **terribilmente** gonfio, nè minacciatore di morte meno sicura, che il ponte; e il tempo a deliberare stringeva; perchè dai parapetti côrsi fioccavano moschettate fitte come grandine."
      ],
      "text/plain": [
       "<IPython.core.display.Markdown object>"
      ]
     },
     "metadata": {},
     "output_type": "display_data"
    },
    {
     "data": {
      "text/markdown": [
       "Alzando il capo, vidi nel vano della porta Pilato in piedi, gli occhi fissi e divaricati, **terribilmente** pallido, immobile."
      ],
      "text/plain": [
       "<IPython.core.display.Markdown object>"
      ]
     },
     "metadata": {},
     "output_type": "display_data"
    },
    {
     "data": {
      "text/markdown": [
       "che vi guardano immobili, che si guardano immobili--quelle delle due lineette che ne troncano inesorabilmente, **terribilmente** le cime--quell''arco inferiore, sul quale la lettera oscilla e si dondola sogghignando--e nell''interno quel nero,Sono a vostra disposizione [disposione], rispose Rosen."
      ],
      "text/plain": [
       "<IPython.core.display.Markdown object>"
      ]
     },
     "metadata": {},
     "output_type": "display_data"
    },
    {
     "data": {
      "text/markdown": [
       "Datemi un giorno solo del mio bollor giovanile, perché possa scrivere a caratteri di fuoco una maledizione che abbruci gli occhi di quelli che oseranno leggerla, e rimanga **terribilmente** famosa fra i posteri, come il Mane Tecel Fares del convito di Baldassare!"
      ],
      "text/plain": [
       "<IPython.core.display.Markdown object>"
      ]
     },
     "metadata": {},
     "output_type": "display_data"
    },
    {
     "data": {
      "text/markdown": [
       "Il Nencioni, il Verga, la Serao, se per caso cadranno loro sotto glitardi questo essere stato astuto consiglio per ispossarmi: cessato che io mi ebbi di parlare, ella, ineccitabile, a me **terribilmente** palpitante rispose in questi accenti: – Arria non ha potuto resistere alla voce che le venne dal paradiso diSi racconta che l''orazione di Martino piacesse tanto a Federigo, che sceso da cavallo glielo offrisse in dono, per lo che Bulgaro con un bisticcio latino dicesse--_Amisi equum, propter æquum_ (perdei il cavallo per difendere il giusto)."
      ],
      "text/plain": [
       "<IPython.core.display.Markdown object>"
      ]
     },
     "metadata": {},
     "output_type": "display_data"
    },
    {
     "data": {
      "text/markdown": [
       "L''Austria, a cedere in Italia, teme umiliazione che la abbassi nel cospetto del mondo;; quell''intimazione del termine perentorio di tre dì, cui a tutta prima non aveva posto mente, ora le sconvolse l''animo **terribilmente** , ora che, misurate le distanze gli parve essere difficile che in tre giorni, senza una gran sollecitudine, ildeve tenersi conto di essa, perchè pare che principalmente abbia influito sull''esito di un simil fatto."
      ],
      "text/plain": [
       "<IPython.core.display.Markdown object>"
      ]
     },
     "metadata": {},
     "output_type": "display_data"
    },
    {
     "data": {
      "text/markdown": [
       "Il Nencioni, il Verga, la Serao, se per caso cadranno loro sotto glitardi questo essere stato astuto consiglio per ispossarmi: cessato che io mi ebbi di parlare, ella, ineccitabile, a me **terribilmente** palpitante rispose in questi accenti: – Arria non ha potuto resistere alla voce che le venne dal paradiso di, e, senza punto fermarcisi, quinci sul lido, dove agitata prese a fare la lionessa."
      ],
      "text/plain": [
       "<IPython.core.display.Markdown object>"
      ]
     },
     "metadata": {},
     "output_type": "display_data"
    },
    {
     "data": {
      "text/markdown": [
       "Iddio nel Cielo puòrumore di sorte, se togli uno solo..... Qual cosa rompe l''aere silenzioso così forsennatamente squillante, così **terribilmente** selvaggio?"
      ],
      "text/plain": [
       "<IPython.core.display.Markdown object>"
      ]
     },
     "metadata": {},
     "output_type": "display_data"
    },
    {
     "data": {
      "text/markdown": [
       "Era vero--bisognava crederlo--era **terribilmente** vero!"
      ],
      "text/plain": [
       "<IPython.core.display.Markdown object>"
      ]
     },
     "metadata": {},
     "output_type": "display_data"
    },
    {
     "data": {
      "text/markdown": [
       "- Avendo esso, al primo interrogatorio, per le sue buone ragioni, confessato il fatto senza titubanza, e in conseguenza di ciò, essendo stato inviato, benchè in carrozza, perchè pagata da lui, al palazzo del capitano di giustizia, quando colà ebbe a subire il secondo interrogatorio, la sua condizione si venne **terribilmente** peggiorando."
      ],
      "text/plain": [
       "<IPython.core.display.Markdown object>"
      ]
     },
     "metadata": {},
     "output_type": "display_data"
    },
    {
     "data": {
      "text/markdown": [
       ", l''innominato pensò subito a rispondere a questa che s''era fatta lui stesso, o piuttosto quel nuovo lui, che cresciuto **terribilmente** a un tratto, sorgeva come a giudicare l''antico."
      ],
      "text/plain": [
       "<IPython.core.display.Markdown object>"
      ]
     },
     "metadata": {},
     "output_type": "display_data"
    },
    {
     "data": {
      "text/markdown": [
       ", e colà messo su in fretta alcune trincere faceva mostra di finire quanti si attentassero di avventurarci il piede: e poichè nei Francesi non è per certo l''ardire quello che manca, ci si provarono, e non una volta, nè due: però toccarono troppi morti per non invilirsi; al fiume non avevano avvertito molto; che sguazzarlo mentre lo cavalcava un ponte parve inonorato; adesso lo arieno fatto più che volentieri, ma lo videro **terribilmente** gonfio, nè minacciatore di morte meno sicura, che il ponte; e il tempo a deliberare stringeva; perchè dai parapetti côrsi fioccavano moschettate fitte come grandine."
      ],
      "text/plain": [
       "<IPython.core.display.Markdown object>"
      ]
     },
     "metadata": {},
     "output_type": "display_data"
    },
    {
     "data": {
      "text/markdown": [
       "Appena cessarono di farsi udire le trombe che avevan sonata la partenza d''un reggimento, un nuovo squillo dall''altra parte annunziava **terribilmente** l''arrivo di altra simile, anzi peggiore brigata."
      ],
      "text/plain": [
       "<IPython.core.display.Markdown object>"
      ]
     },
     "metadata": {},
     "output_type": "display_data"
    },
    {
     "data": {
      "text/markdown": [
       "Egli era piantato male, ed aveva fatto un passo falso, e una passione gli lavorava **terribilmente** di dentro; una passione di cui non aveva mai subìto il dominio in tutta la sua vita."
      ],
      "text/plain": [
       "<IPython.core.display.Markdown object>"
      ]
     },
     "metadata": {},
     "output_type": "display_data"
    },
    {
     "data": {
      "text/markdown": [
       "Ma ciò posto ed eccettuato francamente, ed eccettuate forse alcune vendette personali **terribilmente** fatte con sue parole immortali, Dante e il poema suo restan pure l''uomo e il libro incontrastabilmente piú virili edTra le cose che mi diedero maggior pena nella mia vita, rispetto a tante altre non disgraziata, ella fu questa."
      ],
      "text/plain": [
       "<IPython.core.display.Markdown object>"
      ]
     },
     "metadata": {},
     "output_type": "display_data"
    },
    {
     "data": {
      "text/markdown": [
       "Le cronache non raccontano con chiarezza il fatto; ma tra il Palavicino e il nipote del governatoreQuasi nel mezzo dei lago d''Orta il più tranquillo, il più silenzioso, il più malinconico lago di Lombardia, è l''isoletta di San Giulio, assai rinomata per la vigorosa difesa che Uilla, moglie di Berengario, vi fece nel secolo X.  ; quell''intimazione del termine perentorio di tre dì, cui a tutta prima non aveva posto mente, ora le sconvolse l''animo **terribilmente** , ora che, misurate le distanze gli parve essere difficile che in tre giorni, senza una gran sollecitudine, ile ch''era stato condotto via dal conte Galeazzo."
      ],
      "text/plain": [
       "<IPython.core.display.Markdown object>"
      ]
     },
     "metadata": {},
     "output_type": "display_data"
    },
    {
     "data": {
      "text/markdown": [
       "La soluzione da taluni proposta concilia molte contrarietà, che la guerra non potrebbe se non più **terribilmente** aggravare."
      ],
      "text/plain": [
       "<IPython.core.display.Markdown object>"
      ]
     },
     "metadata": {},
     "output_type": "display_data"
    },
    {
     "data": {
      "text/markdown": [
       "Ma ciò posto ed eccettuato francamente, ed eccettuate forse alcune vendette personali **terribilmente** fatte con sue parole immortali, Dante e il poema suo restan pure l''uomo e il libro incontrastabilmente piú virili edNoi non celammo l''error politico di Dante, che fu di lasciare la propria parte buona e nazionale perché si guastava in esagerata, straniera e sciocca, di rivolgersi per ira alla parte contraria ed essenzialmente straniera; ed aggiungeremo qui ch''ei pose il colmo a tale errore, protestando di continuar nella moderazione, affettando comune disprezzo alle due parti, mentre rivolgevasi a propugnare l''imperio, e nel poema, e in quel suo libro, del resto mediocre, Della monarchia."
      ],
      "text/plain": [
       "<IPython.core.display.Markdown object>"
      ]
     },
     "metadata": {},
     "output_type": "display_data"
    },
    {
     "data": {
      "text/markdown": [
       "abbassate la spada, ascoltatemi per l''amore di Dio, in nome dei nostri morti genitori!--Non rammentarli, mi risponde **terribilmente** Berardo, tu ne sei diventato indegno dal momento che ti facesti traditore.--Traditore io!"
      ],
      "text/plain": [
       "<IPython.core.display.Markdown object>"
      ]
     },
     "metadata": {},
     "output_type": "display_data"
    },
    {
     "data": {
      "text/markdown": [
       "La vanit timida lavorava **terribilmente** in me il giorno che pubblicai il Fieramosca."
      ],
      "text/plain": [
       "<IPython.core.display.Markdown object>"
      ]
     },
     "metadata": {},
     "output_type": "display_data"
    },
    {
     "data": {
      "text/markdown": [
       "che il fato della sventurata fanciulla era irrevocabile; e guardando con pietà l''afflitto padre, pensando con terrore ch''io ero l''agente immediato in quell''opera di distruzione, sentivo ch''egli non poteva maledirmi più fieramente dichiederlo a Bella, ma non c''è stato caso che mi desse retta; quando è occupata delle sue gale, non conosce altro.... Oh, è **terribilmente** egoista."
      ],
      "text/plain": [
       "<IPython.core.display.Markdown object>"
      ]
     },
     "metadata": {},
     "output_type": "display_data"
    },
    {
     "data": {
      "text/markdown": [
       "rumore di sorte, se togli uno solo..... Qual cosa rompe l''aere silenzioso così forsennatamente squillante, così **terribilmente** selvaggio?"
      ],
      "text/plain": [
       "<IPython.core.display.Markdown object>"
      ]
     },
     "metadata": {},
     "output_type": "display_data"
    },
    {
     "data": {
      "text/markdown": [
       "La sera stessa, l'arciprete di Revigliasco, certo don Rinaldi, molto domestico di casa, mi trasse in disparte e mi disse che mio padre era **terribilmente** in collera, che non mi faceva degno della sua presenza; e che, come parroco del luogo, doveva avvertirmi essere io incorso nella scomunica, perch qui percutiet clericum, suadente diabolo ecc."
      ],
      "text/plain": [
       "<IPython.core.display.Markdown object>"
      ]
     },
     "metadata": {},
     "output_type": "display_data"
    },
    {
     "data": {
      "text/markdown": [
       "Era s **terribilmente** turbato che Lisa comprese di botto una suprema sciagura essere avvenuta; venne innanzi al padre bianca pi che cadavere, le labbra illividite, e senza potere articolar parola fiss con ansia il volto del capitano, ponendogli la destra sopra il braccio."
      ],
      "text/plain": [
       "<IPython.core.display.Markdown object>"
      ]
     },
     "metadata": {},
     "output_type": "display_data"
    },
    {
     "data": {
      "text/markdown": [
       "Uno mostra con aria addolorata la guancia, che poco innanzi era sanissima, **terribilmente** gonfiata per un mal di denti; un altro si è slogata una congiuntura e la mostra orribilmente contratta; un terzo alza l'indice della mano destra fasciato di cenci, e dice d'esserselo tagliato fino all'osso; altri infine sostengono audacemente d'aver già consegnato il componimento e che deve essere smarrito, e vanno attorno cercandolo."
      ],
      "text/plain": [
       "<IPython.core.display.Markdown object>"
      ]
     },
     "metadata": {},
     "output_type": "display_data"
    },
    {
     "data": {
      "text/markdown": [
       "A un miglio dalle mura, pensò bene di liberarnelo, ma ebbe a sgomentarsi **terribilmente** , vedendo ch''esso era livido e non dava parole."
      ],
      "text/plain": [
       "<IPython.core.display.Markdown object>"
      ]
     },
     "metadata": {},
     "output_type": "display_data"
    },
    {
     "data": {
      "text/markdown": [
       "La solennità dell''ora, la voce **terribilmente** arcana delle acque, anche quando addormentate respirano, la distesa dei cieli, la dimostrazione parlante, continua, trassero fuori delle tasche il bowieknife, ovvero _coltello piegatoio_, che gli americani maneggiano con maestria **terribilmente** celebre: non era tempo di gingillarsi cotesto; però Filippo e Curio, recatesi in mano le rivoltelle a sei colpi, lesotto, ma egli invelenito si difende a morsi, a calci, e non lascia presa."
      ],
      "text/plain": [
       "<IPython.core.display.Markdown object>"
      ]
     },
     "metadata": {},
     "output_type": "display_data"
    },
    {
     "data": {
      "text/markdown": [
       "Alla fine liberano da morte sicura la Bianca, **terribilmente** malconcia; aveva gli occhi fuori come gatto arrabbiato; le impronte sanguigne intorno al collo le durarono più di unL''amicizia procede diversa: si ama per questa con furore, ma non a cagione di forma leggiadra, ma senza desio di diletto; sta con tutte le buone passioni, e tutte pel suo influsso diventano migliori; la donna privata di sentimento sublime sente amore o nulla; lo affetto pe'' genitori, pe'' fratelli, per i parenti, non può paragonarsi con questo; quali la Natura o il caso gli ha dati, sono i genitori e i parenti: gli amici, quali il cuore gli ha scelti; quando i capelli diventano canuti, e tutte le cose si affacciano alla mente come immagine  Carlo con le braccia sotto le ascelle si mise a percorrere da poppa a prua; nè, per quanto i suoi passi fossero fragorosi, che per antica usanza soleva sempre portare l''arme, nè per fermarsi all''improvviso dinanzi al timoniere, nè per battere con impazienza del piede sopra lo intavolato, pervenne mai a fargli alzare la testa."
      ],
      "text/plain": [
       "<IPython.core.display.Markdown object>"
      ]
     },
     "metadata": {},
     "output_type": "display_data"
    },
    {
     "data": {
      "text/markdown": [
       "Le nozze imminenti le richiamavano le prime, poi le seconde che s''erano tanto **terribilmente** interrotte; gl''insistenti rimorsi, come da lontano, facevano sentire la loro voce; il timore del Lautrec tornava aluna intanto, placida e indifferente come il mondo che segue in suo viaggio, rischiarava quelle due pallide figure."
      ],
      "text/plain": [
       "<IPython.core.display.Markdown object>"
      ]
     },
     "metadata": {},
     "output_type": "display_data"
    },
    {
     "data": {
      "text/markdown": [
       "Chiamavasi il primo Laviron capitano di stato maggiore presso il Garibaldi, il quale un dì avvampante di sdegno per le spesse morti cagionate dai Cacciatori di Vincennes salta sul parapetto, e additando la croce della legione di onore, che gli, l''innominato pensò subito a rispondere a questa che s''era fatta lui stesso, o piuttosto quel nuovo lui, che cresciuto **terribilmente** a un tratto, sorgeva come a giudicare l''antico."
      ],
      "text/plain": [
       "<IPython.core.display.Markdown object>"
      ]
     },
     "metadata": {},
     "output_type": "display_data"
    },
    {
     "data": {
      "text/markdown": [
       "Là su quel vertice, benchè il fiato gli uscisse affannoso dal petto e le tempie e i polsi gli battessero **terribilmente** , Altobello volse gli occhi dintorno per contemplare lo spettacolo che gli si parava davanti."
      ],
      "text/plain": [
       "<IPython.core.display.Markdown object>"
      ]
     },
     "metadata": {},
     "output_type": "display_data"
    },
    {
     "data": {
      "text/markdown": [
       "Il governo austriaco infatti ne fu **terribilmente** colpito."
      ],
      "text/plain": [
       "<IPython.core.display.Markdown object>"
      ]
     },
     "metadata": {},
     "output_type": "display_data"
    },
    {
     "data": {
      "text/markdown": [
       "Batte **terribilmente** il Messo della Giustizia, più **terribilmente** il mio cuore."
      ],
      "text/plain": [
       "<IPython.core.display.Markdown object>"
      ]
     },
     "metadata": {},
     "output_type": "display_data"
    },
    {
     "data": {
      "text/markdown": [
       "Ma se l'espressione era comica, conteneva nella sostanza qualche cosa di **terribilmente** profetico, che potea dar da riflettere agli uomini serj."
      ],
      "text/plain": [
       "<IPython.core.display.Markdown object>"
      ]
     },
     "metadata": {},
     "output_type": "display_data"
    },
    {
     "data": {
      "text/markdown": [
       "Il Dal Poggio a quest'intimazione si sentí montar il sangue alla testa, e alzando **terribilmente** la voce, corse all'insulto: - Siete un miserabile furfante, - gridò - Questo vi valga come uno schiaffo sul viso."
      ],
      "text/plain": [
       "<IPython.core.display.Markdown object>"
      ]
     },
     "metadata": {},
     "output_type": "display_data"
    },
    {
     "data": {
      "text/markdown": [
       "Naldo prese a favellare meco e mi trattiene indietro, narrandomi alcuni fatti d''arme avvenuti tra glicontegno sentiva talvolta orrore e disprezzo, ne riceveva una specie di scandalo; ma questi sentimenti ricadevano **terribilmente** su la sua coscienza, perchè ad ogni volta Geltrude era costretta a ricordarsi che dessa era quella che aveva fatto fardi farsi udire le trombe che avevan sonata la partenza d''un reggimento, un nuovo squillo dall''altra parte annunziava **terribilmente** l''arrivo di altra simile, anzi peggiore brigata."
      ],
      "text/plain": [
       "<IPython.core.display.Markdown object>"
      ]
     },
     "metadata": {},
     "output_type": "display_data"
    }
   ],
   "source": [
    "find_sentences_with_keyword(document5, 'terribilmente')"
   ]
  },
  {
   "cell_type": "markdown",
   "id": "a11b5cf5",
   "metadata": {},
   "source": [
    "### Zeitraum 6: 1876-1900"
   ]
  },
  {
   "cell_type": "code",
   "execution_count": 23,
   "id": "97acfbe4",
   "metadata": {},
   "outputs": [],
   "source": [
    "text6 = ''\n",
    "for i in df6.text:\n",
    "    text6 += i"
   ]
  },
  {
   "cell_type": "code",
   "execution_count": 24,
   "id": "6379b0e1",
   "metadata": {},
   "outputs": [],
   "source": [
    "document6 = nltk.sent_tokenize(text6)"
   ]
  },
  {
   "cell_type": "code",
   "execution_count": 25,
   "id": "c899d65e",
   "metadata": {},
   "outputs": [
    {
     "data": {
      "text/markdown": [
       "E mentre la gentile figura d ' Elvira gli sorrideva pietosamente nella fantasia , come una bella visione inondata di mite luce argentea , ecco l ' altra , quella di Giacinta , che gli si piantava di faccia , muta , senza un gesto , **terribilmente** irta di rimproveri & \u0014 Che colpa n ' aveva lui ?"
      ],
      "text/plain": [
       "<IPython.core.display.Markdown object>"
      ]
     },
     "metadata": {},
     "output_type": "display_data"
    },
    {
     "data": {
      "text/markdown": [
       "Io lessi l''agonia supremacredevasi, era sulle mosse per ritornarsene a Roma, quando un fatto per sé stesso non grave cambiò d''improvviso e **terribilmente** la condizione delle cose."
      ],
      "text/plain": [
       "<IPython.core.display.Markdown object>"
      ]
     },
     "metadata": {},
     "output_type": "display_data"
    },
    {
     "data": {
      "text/markdown": [
       "Incontravo sui margini delle strade dei gruppi di giovani, che ritornavano dall''esercito, laceri, dimagriti, **terribilmente** consumati dalla febbre, tremanti sotto un sole pesante, denso, giallastro, che divorava tutto ciò che toccava,!"
      ],
      "text/plain": [
       "<IPython.core.display.Markdown object>"
      ]
     },
     "metadata": {},
     "output_type": "display_data"
    },
    {
     "data": {
      "text/markdown": [
       "In quella entrava il vecchio rigattiere ebreo, la faccia **terribilmente** sconvolta; stampata entro la mente l''immagine del volto di sua figlia annegata che aveva visto poc''anzi."
      ],
      "text/plain": [
       "<IPython.core.display.Markdown object>"
      ]
     },
     "metadata": {},
     "output_type": "display_data"
    },
    {
     "data": {
      "text/markdown": [
       "Infelicissimo, **terribilmente** doloroso il primo."
      ],
      "text/plain": [
       "<IPython.core.display.Markdown object>"
      ]
     },
     "metadata": {},
     "output_type": "display_data"
    },
    {
     "data": {
      "text/markdown": [
       "Diede in un grido ed accompagnata dai vicini che le facevano visita, si avanzò verso il Rabbì che mi parve **terribilmente** preoccupato."
      ],
      "text/plain": [
       "<IPython.core.display.Markdown object>"
      ]
     },
     "metadata": {},
     "output_type": "display_data"
    },
    {
     "data": {
      "text/markdown": [
       "Essi erano già stati **terribilmente** trattati al Concilio di Reims (1148), in cui S. Bernardo, divinamente feroce, aveva fatto condannare Gilberto de la, egli la evita con una promessa o una professione di fede di liberalismo generale."
      ],
      "text/plain": [
       "<IPython.core.display.Markdown object>"
      ]
     },
     "metadata": {},
     "output_type": "display_data"
    },
    {
     "data": {
      "text/markdown": [
       "Era riserbato al bonapartismo di oscurare tutti i predecessori, e di illustrare così **terribilmente** alla democrazia l''effetto a due tagli del suffragio universale, che il ministro repubblicano Carnot dovè confessareQuell''elevato intelletto, la cui potenza e penetrazione e sicurezza sopravanzavano di tanto la misura dell''umano, non ha mai condotto lo sguardo nell''intimità misteriosa dell''esistenza, non ha mai sospettato, che l''essenza dell''uomo sia ben altro che una macchina ben ordinata, che un popolo anche sotto una rigida amministrazione e con finanze irreprensibili e soldati agguerriti possa sentirsi infelice fino alla disperazione."
      ],
      "text/plain": [
       "<IPython.core.display.Markdown object>"
      ]
     },
     "metadata": {},
     "output_type": "display_data"
    },
    {
     "data": {
      "text/markdown": [
       "Qualche volta mi sedevo al margine d''nella sua camera, quelle robe di lei le stavano lì negli occhi come un vivente rimorso, e le facevano passare le notti **terribilmente** insonni."
      ],
      "text/plain": [
       "<IPython.core.display.Markdown object>"
      ]
     },
     "metadata": {},
     "output_type": "display_data"
    },
    {
     "data": {
      "text/markdown": [
       "Essi non ignoravano i rumori che correvano sull''assassinio della contessa, gli ordini di Francesco IV sì **terribilmente** motivati."
      ],
      "text/plain": [
       "<IPython.core.display.Markdown object>"
      ]
     },
     "metadata": {},
     "output_type": "display_data"
    },
    {
     "data": {
      "text/markdown": [
       "Ma i sentimenti e le passioni personali se hanno ispirato il poeta e resa **terribilmente** ingegnosa la sua fantasia, non penetrano nella rappresentazione."
      ],
      "text/plain": [
       "<IPython.core.display.Markdown object>"
      ]
     },
     "metadata": {},
     "output_type": "display_data"
    },
    {
     "data": {
      "text/markdown": [
       "La furia della guerra, cantata nella Georgica di Virgilio in modo così **terribilmente** bello, imperversò ancora sulla terra dopo la morte di Cesare; poi il tempio di Giano chiuse le porte per molto tempo., fu condotta a termine sotto il Consolato."
      ],
      "text/plain": [
       "<IPython.core.display.Markdown object>"
      ]
     },
     "metadata": {},
     "output_type": "display_data"
    },
    {
     "data": {
      "text/markdown": [
       "quando mio marito moribondo minella sua camera, quelle robe di lei le stavano lì negli occhi come un vivente rimorso, e le facevano passare le notti **terribilmente** insonni."
      ],
      "text/plain": [
       "<IPython.core.display.Markdown object>"
      ]
     },
     "metadata": {},
     "output_type": "display_data"
    },
    {
     "data": {
      "text/markdown": [
       "il cronometro del sergente è **terribilmente** in ritardo."
      ],
      "text/plain": [
       "<IPython.core.display.Markdown object>"
      ]
     },
     "metadata": {},
     "output_type": "display_data"
    },
    {
     "data": {
      "text/markdown": [
       "Io lo so bene, tuo padre ti eleggerà ben presto uno sposo fra i giovani e il primo dei ricchi aspiranti; allora, quando tu andrai sposa al focolare di lui, oh lasciamidi cose durò fino all''anno 1455, nel quale gli abati, sino allora arbitri della forza e giurisdizione feudale, e di essa **terribilmente** armati, perdettero anche questo diritto."
      ],
      "text/plain": [
       "<IPython.core.display.Markdown object>"
      ]
     },
     "metadata": {},
     "output_type": "display_data"
    },
    {
     "data": {
      "text/markdown": [
       "Io vi annoio **terribilmente**, lo so.... Ma, non  colpa mia."
      ],
      "text/plain": [
       "<IPython.core.display.Markdown object>"
      ]
     },
     "metadata": {},
     "output_type": "display_data"
    },
    {
     "data": {
      "text/markdown": [
       "Alla sera di quel giorno memorabile , il signor Damelli , **terribilmente** imbrogliato e coll ' aria d ' un cane che ha lasciata scappar la lepre , si presentò al cospetto del signor Duca ."
      ],
      "text/plain": [
       "<IPython.core.display.Markdown object>"
      ]
     },
     "metadata": {},
     "output_type": "display_data"
    },
    {
     "data": {
      "text/markdown": [
       "Udendo queste parole , lo Spettro mise un altro strido e così **terribilmente** fece suonar la catena nel silenzio della notte , che la guardia avrebbe avuto ragione di multarlo come disturbatore notturno ."
      ],
      "text/plain": [
       "<IPython.core.display.Markdown object>"
      ]
     },
     "metadata": {},
     "output_type": "display_data"
    },
    {
     "data": {
      "text/markdown": [
       "Poich tutto vuoi sapere, ti dir tutto; e giudicherai se la mia posizione non sia **terribilmente** dolorosa, se io non m'abbia ragione d'essere stanco della vita!"
      ],
      "text/plain": [
       "<IPython.core.display.Markdown object>"
      ]
     },
     "metadata": {},
     "output_type": "display_data"
    },
    {
     "data": {
      "text/markdown": [
       "Era sì **terribilmente** turbato che Lisa comprese di botto una suprema sciagura essere avvenuta; venne innanzi al padre bianca più cheuna presa di tabacco."
      ],
      "text/plain": [
       "<IPython.core.display.Markdown object>"
      ]
     },
     "metadata": {},
     "output_type": "display_data"
    },
    {
     "data": {
      "text/markdown": [
       "Lì, una siepe spessa, **terribilmente** irta di ronchi, mi concesse un ricovero."
      ],
      "text/plain": [
       "<IPython.core.display.Markdown object>"
      ]
     },
     "metadata": {},
     "output_type": "display_data"
    },
    {
     "data": {
      "text/markdown": [
       "--Egli ha molto da fare; è sempre occupato... --Vuol dire adunque che ha fattola afferrò alle braccia, le serrò i polsi e scuotendola senza un riguardo, ruggì, accostando a quello di lei il suo volto **terribilmente** impresso dall''ira: --Sciagurata!"
      ],
      "text/plain": [
       "<IPython.core.display.Markdown object>"
      ]
     },
     "metadata": {},
     "output_type": "display_data"
    },
    {
     "data": {
      "text/markdown": [
       "\"La giornata, dice egli, era **terribilmente** calda, e nello attraversare i boschi ogni cosa era immobile, tranne le grandi e splendide farfalle che svolazzavanoV."
      ],
      "text/plain": [
       "<IPython.core.display.Markdown object>"
      ]
     },
     "metadata": {},
     "output_type": "display_data"
    },
    {
     "data": {
      "text/markdown": [
       "Lo squassa **terribilmente** ."
      ],
      "text/plain": [
       "<IPython.core.display.Markdown object>"
      ]
     },
     "metadata": {},
     "output_type": "display_data"
    },
    {
     "data": {
      "text/markdown": [
       "La lettera mi lasciò sconcertata e disgustata, così mi parve volgare; ma poi, nel tornarvi su, a poco a poco mi persuasi che il tono in cui era scritta fosse affettatamente leggiero e gaio, e che l'amante avesse fatto un crudele, ma nobilissimo sforzo nel contenere l'impeto del suo cuore, tanto per non gettare nuova esca nella mia passione, che era già un incendio, e per quietarmi un poco l'animo, ch'egli sapeva **terribilmente** ansioso."
      ],
      "text/plain": [
       "<IPython.core.display.Markdown object>"
      ]
     },
     "metadata": {},
     "output_type": "display_data"
    },
    {
     "data": {
      "text/markdown": [
       "Ma egli era **terribilmente** , dolorosamente geloso di quanti accostassero la ragazza e paressero non tornarle sgraditi."
      ],
      "text/plain": [
       "<IPython.core.display.Markdown object>"
      ]
     },
     "metadata": {},
     "output_type": "display_data"
    },
    {
     "data": {
      "text/markdown": [
       "Ora , la semplicità nella donna , era cosa affatto nuova per Giuliano ; egli la confondeva facilmente colla povertà e mentre trovava che l ' amore d ' una cara e ingenua donnina era pur qualcosa di **terribilmente** elementare , non gli veniva mai la voglia o la curiosità di studiare le profondità possibili e i probabili congegni di questo sentimento elementare ."
      ],
      "text/plain": [
       "<IPython.core.display.Markdown object>"
      ]
     },
     "metadata": {},
     "output_type": "display_data"
    },
    {
     "data": {
      "text/markdown": [
       "Quando il suo liberto spagnuolo venne ad annunziargli che sua moglie toccava le mura di Gerusalemme, Pilato era **terribilmente** occupato."
      ],
      "text/plain": [
       "<IPython.core.display.Markdown object>"
      ]
     },
     "metadata": {},
     "output_type": "display_data"
    },
    {
     "data": {
      "text/markdown": [
       "De Medici, deplorando le vittorie de'' Turchi, la perdita dell''Ungheria, i pericoli d''Italia e Francia quando **terribilmente** armavansi quei nemici, intanto che i Cristiani compiaceansi della ruina uno dell''altro."
      ],
      "text/plain": [
       "<IPython.core.display.Markdown object>"
      ]
     },
     "metadata": {},
     "output_type": "display_data"
    },
    {
     "data": {
      "text/markdown": [
       "Eravamo scossi **terribilmente** ."
      ],
      "text/plain": [
       "<IPython.core.display.Markdown object>"
      ]
     },
     "metadata": {},
     "output_type": "display_data"
    },
    {
     "data": {
      "text/markdown": [
       "Il prete pigliò la lettera, la guardò; le dita gli bruciavano, le mani gli tremavano; una visione **terribilmente** allettevole di donna mezza nuda gli passò nella fantasia, e gli parve di udire nelle orecchie l'eco seducente e paurosa di una voce che bisbigliasse: Datemi il vostro amore, Don Giuseppe, il vostro amore!"
      ],
      "text/plain": [
       "<IPython.core.display.Markdown object>"
      ]
     },
     "metadata": {},
     "output_type": "display_data"
    },
    {
     "data": {
      "text/markdown": [
       "Ma suo padre giura più **terribilmente** di prima che non acconsentirà mai a fare il comodo loro... Sua figlia lo scongiura di desistere perché anche a lui, quando arrivano di queste notizie, è come se gli pigliasse un colpo apoplettico... Veramente, è un po' troppo!..."
      ],
      "text/plain": [
       "<IPython.core.display.Markdown object>"
      ]
     },
     "metadata": {},
     "output_type": "display_data"
    },
    {
     "data": {
      "text/markdown": [
       "Ma la corda penetrava nella carne ai polsi e martorizzava **terribilmente** le cavicchie."
      ],
      "text/plain": [
       "<IPython.core.display.Markdown object>"
      ]
     },
     "metadata": {},
     "output_type": "display_data"
    },
    {
     "data": {
      "text/markdown": [
       "Cercando di ridurmi a mente gli oggetti che contenevano le carte sequestrate, fui **terribilmente** addolorato quando mi sovvenne che in Roma nel 1848, quando successero gli sconvolgimenti di Vienna, io d''accordo conqualunque ordine contro di essa emanato, e sapendosi che l''Italia contava da 300 mila carbonari."
      ],
      "text/plain": [
       "<IPython.core.display.Markdown object>"
      ]
     },
     "metadata": {},
     "output_type": "display_data"
    },
    {
     "data": {
      "text/markdown": [
       "Lottava dentro di sé , **terribilmente** ."
      ],
      "text/plain": [
       "<IPython.core.display.Markdown object>"
      ]
     },
     "metadata": {},
     "output_type": "display_data"
    },
    {
     "data": {
      "text/markdown": [
       "– E così è tolta via anche l'obiezione **terribilmente** speciosa, mossa contro il positivismo dai metafisici; i quali argomentano dal principio, che all'atto morale è essenziale il carattere della responsabilità."
      ],
      "text/plain": [
       "<IPython.core.display.Markdown object>"
      ]
     },
     "metadata": {},
     "output_type": "display_data"
    },
    {
     "data": {
      "text/markdown": [
       "StuttgardGualteruzzi il 20 marzo 1544 come desiderasse ritirarsi dal vescovado, \"oltre che tutti i disegni e desiderj miei son oggi più che mai fossero, allontanati dalle cure di queste cose e mareggi nostri mondani e volti allo studio eDe Medici, deplorando le vittorie de'' Turchi, la perdita dell''Ungheria, i pericoli d''Italia e Francia quando **terribilmente** armavansi quei nemici, intanto che i Cristiani compiaceansi della ruina uno dell''altro."
      ],
      "text/plain": [
       "<IPython.core.display.Markdown object>"
      ]
     },
     "metadata": {},
     "output_type": "display_data"
    },
    {
     "data": {
      "text/markdown": [
       "E udii storie pietose di domestici lutti incredibili e ignorati, perchè la mano di Ferdinando II arrivava **terribilmente** ove l''occhio sempre non arrivava."
      ],
      "text/plain": [
       "<IPython.core.display.Markdown object>"
      ]
     },
     "metadata": {},
     "output_type": "display_data"
    },
    {
     "data": {
      "text/markdown": [
       "Aveva in piedi le sue scarpettine scollate e portava la testa ritta e impalata, perch il fazzoletto da collo, moltissimo inamidato, gli segava **terribilmente** la gola."
      ],
      "text/plain": [
       "<IPython.core.display.Markdown object>"
      ]
     },
     "metadata": {},
     "output_type": "display_data"
    },
    {
     "data": {
      "text/markdown": [
       "Incontravo sui margini delle strade dei gruppi di giovani, che ritornavano dall''esercito, laceri, dimagriti, **terribilmente** consumati dalla febbre, tremanti sotto un sole pesante, denso, giallastro, che divorava tutto ciò che toccava,Siccome le perdite della donna sono minori di quelle dell''uomo, così essa può ripetere il coito più volte, ma però è bene se ne astenga, perchè è provato che quelle che ne abusano vanno soggette alle tristi affezioni delle ovaie, della matrice, qualche volta anche al cancro."
      ],
      "text/plain": [
       "<IPython.core.display.Markdown object>"
      ]
     },
     "metadata": {},
     "output_type": "display_data"
    },
    {
     "data": {
      "text/markdown": [
       "Ciò non ostante, nessuno è autorizzato a dire a vanto di Napoleone, che l''opera della sua vita sia stata sistematica.più risibile della storia francese, a spazzare adunque gli ultimi rottami del secondo impero: sotto i nostri occhi si è **terribilmente** adempiuta la parola ammonitrice, che francesi di alto animo avevano da anni rivolta ai propri compatrioti: la Franciaagli esempi dei tempi di Guizot."
      ],
      "text/plain": [
       "<IPython.core.display.Markdown object>"
      ]
     },
     "metadata": {},
     "output_type": "display_data"
    },
    {
     "data": {
      "text/markdown": [
       "Questa donna diventa rossa come di fuoco, poi impallidisce **terribilmente**; poi con voce strozzata, acre, sprezzante, dà a quest’uomo dell’indegno e del vile; e come egli, agghiacciato, petrificato dall’imprevedibile accoglienza, balbetta qualche parola per tentare di giustificarsi, ella non lo lascia dire: raccoglie il mantello ed i guanti, e domanda imperiosamente la carrozza."
      ],
      "text/plain": [
       "<IPython.core.display.Markdown object>"
      ]
     },
     "metadata": {},
     "output_type": "display_data"
    },
    {
     "data": {
      "text/markdown": [
       "No, non li accusai – o raramente soltanto, e me ne pentii subito, e chiesi perdono io stesso dell''accusa a quel Dio, a cui mi fu sollievo un tempola afferrò alle braccia, le serrò i polsi e scuotendola senza un riguardo, ruggì, accostando a quello di lei il suo volto **terribilmente** impresso dall''ira: --Sciagurata!"
      ],
      "text/plain": [
       "<IPython.core.display.Markdown object>"
      ]
     },
     "metadata": {},
     "output_type": "display_data"
    },
    {
     "data": {
      "text/markdown": [
       "— È l'angelo buono — mormorò, e questo pensiero gli richiamò nella fantasia con la rapidità del fulmine l'angelo cattivo, il demonio **terribilmente** bello: allora, scoperto dal drappo verde sdruscito il volto sanguinoso del Cristo che teneva sotto l'ascella, gli impresse un bacio disperato, come se invocasse da quel legno la propria salvezza."
      ],
      "text/plain": [
       "<IPython.core.display.Markdown object>"
      ]
     },
     "metadata": {},
     "output_type": "display_data"
    },
    {
     "data": {
      "text/markdown": [
       "Trovatili, e fatto loro in succinto ilcredevasi, era sulle mosse per ritornarsene a Roma, quando un fatto per sé stesso non grave cambiò d''improvviso e **terribilmente** la condizione delle cose."
      ],
      "text/plain": [
       "<IPython.core.display.Markdown object>"
      ]
     },
     "metadata": {},
     "output_type": "display_data"
    },
    {
     "data": {
      "text/markdown": [
       "Io era **terribilmente** triste."
      ],
      "text/plain": [
       "<IPython.core.display.Markdown object>"
      ]
     },
     "metadata": {},
     "output_type": "display_data"
    },
    {
     "data": {
      "text/markdown": [
       "Incontravo sui margini delle strade dei gruppi di giovani, che ritornavano dall''esercito, laceri,, a sua volta, anch''essa in furore, si metteva in moto di un sol pezzo, di un sol tratto, brontolava sordamente e poi **terribilmente** , si screpolava, si fiaccava, e delle montagne, sollevate dalle onde, portate sul loro dorso, solcavano lo spazio,di suo marito."
      ],
      "text/plain": [
       "<IPython.core.display.Markdown object>"
      ]
     },
     "metadata": {},
     "output_type": "display_data"
    },
    {
     "data": {
      "text/markdown": [
       "\"Il prete si curvò sul letto delun testo, sul proprio cuore dei giuranti come legge un altro; e dopo aver tutte in un fascio strette le mani ai discepoli, **terribilmente** prorompe con quella spaventosa imprecazione con cui i leviti sulla montagna di Ebal dovevano la vendetta di DioL''accoglimento che le era stato fatto e le dolci parole dettele in casa della buona signora Teresa l''avevano alquanto riconfortata, più ancora le avevano recato del bene la presenza nel suo tugurio di quei due angeli di carità, che erano le signorine Maria Benda e Virginia di Castelletto, i soccorsi recatile onde i bambini suoi avevano potuto aver cibo, e i denari lasciatile per cui potevasi dalla miserrima famiglia pagare l''affitto al padrone di casa ed avere ancora tanto in serbo da campar tutti per parecchi giorni."
      ],
      "text/plain": [
       "<IPython.core.display.Markdown object>"
      ]
     },
     "metadata": {},
     "output_type": "display_data"
    },
    {
     "data": {
      "text/markdown": [
       "urlò **terribilmente** , o ch''io non mi trattengo più, e lo schiaccio come un verme."
      ],
      "text/plain": [
       "<IPython.core.display.Markdown object>"
      ]
     },
     "metadata": {},
     "output_type": "display_data"
    },
    {
     "data": {
      "text/markdown": [
       "Dopo aver **terribilmente** chiusi i denti fino a smussarli, egli aperse la bocca come un antro."
      ],
      "text/plain": [
       "<IPython.core.display.Markdown object>"
      ]
     },
     "metadata": {},
     "output_type": "display_data"
    },
    {
     "data": {
      "text/markdown": [
       "Sergio la seguì degli occhi, aggrottando **terribilmente** le sopracciglia, e sclamò lentamente: --Se avessi potuto dubitare ancora, questa parola sarebbe bastata per, e te pure, e ci avrebbe esentati dalle imposte per venti anni, eh!"
      ],
      "text/plain": [
       "<IPython.core.display.Markdown object>"
      ]
     },
     "metadata": {},
     "output_type": "display_data"
    },
    {
     "data": {
      "text/markdown": [
       "Sì; aprirono strade, ma per gettarsiun testo, sul proprio cuore dei giuranti come legge un altro; e dopo aver tutte in un fascio strette le mani ai discepoli, **terribilmente** prorompe con quella spaventosa imprecazione con cui i leviti sulla montagna di Ebal dovevano la vendetta di Dioocchi dei popoli vinti."
      ],
      "text/plain": [
       "<IPython.core.display.Markdown object>"
      ]
     },
     "metadata": {},
     "output_type": "display_data"
    },
    {
     "data": {
      "text/markdown": [
       "Alzando il capo, vidi nel vano della porta Pilato in piedi, gli occhi fissi e divaricati, **terribilmente** pallido, immobile."
      ],
      "text/plain": [
       "<IPython.core.display.Markdown object>"
      ]
     },
     "metadata": {},
     "output_type": "display_data"
    },
    {
     "data": {
      "text/markdown": [
       "Certo, la era **terribilmente** pallida ed il solo vederla avrebbe provato come il suo cuore fosse ormai familiare ad ogni maniera di affanno."
      ],
      "text/plain": [
       "<IPython.core.display.Markdown object>"
      ]
     },
     "metadata": {},
     "output_type": "display_data"
    },
    {
     "data": {
      "text/markdown": [
       "La leonessa ferita ruggì **terribilmente** , e tutta l''assemblea mascolina n''ebbe terrore."
      ],
      "text/plain": [
       "<IPython.core.display.Markdown object>"
      ]
     },
     "metadata": {},
     "output_type": "display_data"
    },
    {
     "data": {
      "text/markdown": [
       "» E quello del medico , corrucciato prima **terribilmente** , poscia d ' un subito rassegnato : « Pur troppo !"
      ],
      "text/plain": [
       "<IPython.core.display.Markdown object>"
      ]
     },
     "metadata": {},
     "output_type": "display_data"
    },
    {
     "data": {
      "text/markdown": [
       "Quell''uomo era il nembo che si condensa per esplodere **terribilmente** ."
      ],
      "text/plain": [
       "<IPython.core.display.Markdown object>"
      ]
     },
     "metadata": {},
     "output_type": "display_data"
    },
    {
     "data": {
      "text/markdown": [
       "Ma io lo so bene: era il mio proprio pensiero, poichè tanto mi disse mio fratellodi cose durò fino all''anno 1455, nel quale gli abati, sino allora arbitri della forza e giurisdizione feudale, e di essa **terribilmente** armati, perdettero anche questo diritto."
      ],
      "text/plain": [
       "<IPython.core.display.Markdown object>"
      ]
     },
     "metadata": {},
     "output_type": "display_data"
    },
    {
     "data": {
      "text/markdown": [
       "Anzi il nostro Scrooge , che per verità il triste evento non aveva fatto **terribilmente** spasimare , si mostrò sottile uomo d ' affari il giorno stesso dei funerali e lo solennizzò con un negozio co ' fiocchi ."
      ],
      "text/plain": [
       "<IPython.core.display.Markdown object>"
      ]
     },
     "metadata": {},
     "output_type": "display_data"
    },
    {
     "data": {
      "text/markdown": [
       "Quando però le vedeva piangere e **terribilmente** soffrire per le ansietà di un pericolo che le teneva sospese tra la vita e la morte e poteva produrre, tutt'a un tratto, una terribile catastrofe da coinvolgere nella rovina parecchie persone — marito, figli, parenti — allora non poteva più ostinarsi a non credere."
      ],
      "text/plain": [
       "<IPython.core.display.Markdown object>"
      ]
     },
     "metadata": {},
     "output_type": "display_data"
    },
    {
     "data": {
      "text/markdown": [
       "Essi erano già stati **terribilmente** trattati al Concilio di Reims (1148), in cui S. Bernardo, divinamente feroce, aveva fatto condannare Gilberto de laimpongono."
      ],
      "text/plain": [
       "<IPython.core.display.Markdown object>"
      ]
     },
     "metadata": {},
     "output_type": "display_data"
    },
    {
     "data": {
      "text/markdown": [
       "Alla generosa apologia tace R. Iosè, ma Simone favella, anzi Simone rugge, Simone tuona e come **terribilmente** !"
      ],
      "text/plain": [
       "<IPython.core.display.Markdown object>"
      ]
     },
     "metadata": {},
     "output_type": "display_data"
    },
    {
     "data": {
      "text/markdown": [
       "Cercando di ridurmi a mente gli oggetti che contenevano le carte sequestrate, fui **terribilmente** addolorato quando mi sovvenne che in Roma nel 1848, quando successero gli sconvolgimenti di Vienna, io d''accordo conne avevano fatto un eroe agli occhi dei rivoluzionari francesi e dei carbonari italiani; ma la sua memoria cadde presto in oblio."
      ],
      "text/plain": [
       "<IPython.core.display.Markdown object>"
      ]
     },
     "metadata": {},
     "output_type": "display_data"
    },
    {
     "data": {
      "text/markdown": [
       "Era riserbato al bonapartismo di oscurare tutti i predecessori, e di illustrare così **terribilmente** alla democrazia l''effetto a due tagli del suffragio universale, che il ministro repubblicano Carnot dovè confessare."
      ],
      "text/plain": [
       "<IPython.core.display.Markdown object>"
      ]
     },
     "metadata": {},
     "output_type": "display_data"
    },
    {
     "data": {
      "text/markdown": [
       "Indietreggiò dal terrore , perché la scena era mutata ed ei toccava quasi un letto , un letto nudo , senza cortinaggio , sul quale , sotto un lenzuolo sdrucito , giaceva qualche cosa d ' avviluppato , il cui silenzio stesso parlava **terribilmente** ."
      ],
      "text/plain": [
       "<IPython.core.display.Markdown object>"
      ]
     },
     "metadata": {},
     "output_type": "display_data"
    },
    {
     "data": {
      "text/markdown": [
       "Era sì **terribilmente** turbato che Lisa comprese di botto una suprema sciagura essere avvenuta; venne innanzi al padre bianca più chein esso per una scala interna a chiocciola."
      ],
      "text/plain": [
       "<IPython.core.display.Markdown object>"
      ]
     },
     "metadata": {},
     "output_type": "display_data"
    },
    {
     "data": {
      "text/markdown": [
       "Non li straziò oggi il saracino?--imprecò **terribilmente** Ugo."
      ],
      "text/plain": [
       "<IPython.core.display.Markdown object>"
      ]
     },
     "metadata": {},
     "output_type": "display_data"
    },
    {
     "data": {
      "text/markdown": [
       "La leonessa ferita rugg **terribilmente**, e tutta l'assemblea mascolina n'ebbe terrore."
      ],
      "text/plain": [
       "<IPython.core.display.Markdown object>"
      ]
     },
     "metadata": {},
     "output_type": "display_data"
    },
    {
     "data": {
      "text/markdown": [
       "\" **terribilmente** feroce!\""
      ],
      "text/plain": [
       "<IPython.core.display.Markdown object>"
      ]
     },
     "metadata": {},
     "output_type": "display_data"
    },
    {
     "data": {
      "text/markdown": [
       "La sua fanciullezza abbandonata le si aggravava sul cuore **terribilmente** , coi piú vivi particolari , rimescolandola tutta ."
      ],
      "text/plain": [
       "<IPython.core.display.Markdown object>"
      ]
     },
     "metadata": {},
     "output_type": "display_data"
    },
    {
     "data": {
      "text/markdown": [
       "Né qui è tutto--continuò il vecchio corrugando **terribilmente** la fronte;--quel demonio trasse fuori di tasca una funicella e colla fredda e spietata tranquillità del carnefice chegrondanti di pioggia: \"Con questo corpo, e non so come, io mi lanciai contro quella porta, che andò in frantumi, più presto che se l''avesse colpita il fulmine."
      ],
      "text/plain": [
       "<IPython.core.display.Markdown object>"
      ]
     },
     "metadata": {},
     "output_type": "display_data"
    },
    {
     "data": {
      "text/markdown": [
       "La sola religione potè indurre questa a non negarle soccorso; ma era uno sforzo di virtù, a cui il cuore **terribilmente** ripugnava, e il beneficio stesso, fatto senza affetto, senza nessuna compassione, diveniva tanto amaro, che parevaQuella missione mi procurò la conoscenza delle condizioni della città anche nei luoghi lontani dal centro – chiuse la gran parte delle botteghe; la popolazione a capannelli, ma scarsa; regnava ovunque la desolazione o lo spavento."
      ],
      "text/plain": [
       "<IPython.core.display.Markdown object>"
      ]
     },
     "metadata": {},
     "output_type": "display_data"
    },
    {
     "data": {
      "text/markdown": [
       "Milla era **terribilmente** impacciata nella sua lunghissima gonnella di amazzone , e non sapeva raccapezzarsi in nulla ."
      ],
      "text/plain": [
       "<IPython.core.display.Markdown object>"
      ]
     },
     "metadata": {},
     "output_type": "display_data"
    },
    {
     "data": {
      "text/markdown": [
       "Sergio la seguì degli occhi, aggrottando **terribilmente** le sopracciglia, e sclamò lentamente: --Se avessi potuto dubitare ancora, questa parola sarebbe bastata per, non osava consultare i vicini, nè chiamare un medico, paventando di rischiarare un delitto."
      ],
      "text/plain": [
       "<IPython.core.display.Markdown object>"
      ]
     },
     "metadata": {},
     "output_type": "display_data"
    },
    {
     "data": {
      "text/markdown": [
       "Il suo naso **terribilmente** rosso--diventava un carbone infiammato per beatitudine."
      ],
      "text/plain": [
       "<IPython.core.display.Markdown object>"
      ]
     },
     "metadata": {},
     "output_type": "display_data"
    },
    {
     "data": {
      "text/markdown": [
       "La sola religione potè indurre questa a non negarle soccorso; ma era uno sforzo di virtù, a cui il cuore **terribilmente** ripugnava, e il beneficio stesso, fatto senza affetto, senza nessuna compassione, diveniva tanto amaro, che parevatradita!"
      ],
      "text/plain": [
       "<IPython.core.display.Markdown object>"
      ]
     },
     "metadata": {},
     "output_type": "display_data"
    },
    {
     "data": {
      "text/markdown": [
       "Io la vidi spasimar sotto l''acqua, aggrapparsi alla sabbia, mordere i rettili, a sua volta, anch''essa in furore, si metteva in moto di un sol pezzo, di un sol tratto, brontolava sordamente e poi **terribilmente** , si screpolava, si fiaccava, e delle montagne, sollevate dalle onde, portate sul loro dorso, solcavano lo spazio,era debole, essendo ammalata ed incinta."
      ],
      "text/plain": [
       "<IPython.core.display.Markdown object>"
      ]
     },
     "metadata": {},
     "output_type": "display_data"
    },
    {
     "data": {
      "text/markdown": [
       "E Machiavelli, non che voglia palliare, qui è **terribilmente** ignudo, scopre senza pietà quel putridume."
      ],
      "text/plain": [
       "<IPython.core.display.Markdown object>"
      ]
     },
     "metadata": {},
     "output_type": "display_data"
    },
    {
     "data": {
      "text/markdown": [
       "OTELLO [ergendosi e rivolto alla folla, **terribilmente**]  Fuggite!"
      ],
      "text/plain": [
       "<IPython.core.display.Markdown object>"
      ]
     },
     "metadata": {},
     "output_type": "display_data"
    },
    {
     "data": {
      "text/markdown": [
       "Arrivavano dunque **terribilmente** affamati ed esasperati da un digiuno di due mesi."
      ],
      "text/plain": [
       "<IPython.core.display.Markdown object>"
      ]
     },
     "metadata": {},
     "output_type": "display_data"
    },
    {
     "data": {
      "text/markdown": [
       "La furia della guerra, cantata nella Georgica di Virgilio in modo così **terribilmente** bello, imperversò ancora sulla terra dopo la morte di Cesare; poi il tempio di Giano chiuse le porte per molto tempo.le nuove nette linee stradali avevano sventrato allora il vecchio reticolo di vie muffite, vorrà consentire che molte città mancano affatto di aria, di luce, di libero respiro."
      ],
      "text/plain": [
       "<IPython.core.display.Markdown object>"
      ]
     },
     "metadata": {},
     "output_type": "display_data"
    },
    {
     "data": {
      "text/markdown": [
       "\"La giornata, dice egli, era **terribilmente** calda, e nello attraversare i boschi ogni cosa era immobile, tranne le grandi e splendide farfalle che svolazzavanosuo cavallo venti volte ed egli rimaner ritto diciannove."
      ],
      "text/plain": [
       "<IPython.core.display.Markdown object>"
      ]
     },
     "metadata": {},
     "output_type": "display_data"
    },
    {
     "data": {
      "text/markdown": [
       "Solo la fantasia, poco abituata alla chiarezza, del Mezzogiorno menò gran giubilo: immaginò,più risibile della storia francese, a spazzare adunque gli ultimi rottami del secondo impero: sotto i nostri occhi si è **terribilmente** adempiuta la parola ammonitrice, che francesi di alto animo avevano da anni rivolta ai propri compatrioti: la FranciaSeguì il misterioso soggiorno a Parigi, durante il quale il principe iniziò la trama di una congiura, almeno a quanto afferma solennemente il duca d''Aumale; e ne prese conoscenza e animo per avere a vile la debolezza del nuovo regime."
      ],
      "text/plain": [
       "<IPython.core.display.Markdown object>"
      ]
     },
     "metadata": {},
     "output_type": "display_data"
    },
    {
     "data": {
      "text/markdown": [
       "Ma si scosse **terribilmente** quando poté avere un punto d''appoggio sullo straniero, come vedremo in seguito."
      ],
      "text/plain": [
       "<IPython.core.display.Markdown object>"
      ]
     },
     "metadata": {},
     "output_type": "display_data"
    },
    {
     "data": {
      "text/markdown": [
       "Né qui è tutto--continuò il vecchio corrugando **terribilmente** la fronte;--quel demonio trasse fuori di tasca una funicella e colla fredda e spietata tranquillità del carnefice che."
      ],
      "text/plain": [
       "<IPython.core.display.Markdown object>"
      ]
     },
     "metadata": {},
     "output_type": "display_data"
    },
    {
     "data": {
      "text/markdown": [
       "Poichè tutto vuoi sapere, ti dirò tutto; e giudicherai se la mia posizione non sia **terribilmente** dolorosa, se io non m''abbia ragione d''essere stanco della vita!"
      ],
      "text/plain": [
       "<IPython.core.display.Markdown object>"
      ]
     },
     "metadata": {},
     "output_type": "display_data"
    }
   ],
   "source": [
    "find_sentences_with_keyword(document6, 'terribilmente')"
   ]
  },
  {
   "cell_type": "markdown",
   "id": "f2853f42",
   "metadata": {},
   "source": [
    "### Zeitraum 7: 1901-1925"
   ]
  },
  {
   "cell_type": "code",
   "execution_count": 26,
   "id": "25fd212a",
   "metadata": {},
   "outputs": [],
   "source": [
    "text7 = ''\n",
    "for i in df7.text:\n",
    "    text7 += i"
   ]
  },
  {
   "cell_type": "code",
   "execution_count": 27,
   "id": "05b42fa3",
   "metadata": {},
   "outputs": [],
   "source": [
    "document7 = nltk.sent_tokenize(text7)"
   ]
  },
  {
   "cell_type": "code",
   "execution_count": 28,
   "id": "7c5d7496",
   "metadata": {},
   "outputs": [
    {
     "data": {
      "text/markdown": [
       "immorali, che Paolo e Francesca sono immorali, che tutte queste coppie giovani, deliranti, soavi, poetiche peccano **terribilmente** d''immoralità."
      ],
      "text/plain": [
       "<IPython.core.display.Markdown object>"
      ]
     },
     "metadata": {},
     "output_type": "display_data"
    },
    {
     "data": {
      "text/markdown": [
       "\"Ma Notis è forte e tremendo nelle sue ire e nelle sue vendette, e per quanto io ami quell''almea, mi vendicherò, ma ben **terribilmente** ."
      ],
      "text/plain": [
       "<IPython.core.display.Markdown object>"
      ]
     },
     "metadata": {},
     "output_type": "display_data"
    },
    {
     "data": {
      "text/markdown": [
       "È un puro ariano, dalla nobile faccia socratica che mi ricorda **terribilmente** un mio illustre insegnante di Università, tanto che ancora non riesco a vincere una certa esitanza, quando devoXX, p. 340."
      ],
      "text/plain": [
       "<IPython.core.display.Markdown object>"
      ]
     },
     "metadata": {},
     "output_type": "display_data"
    },
    {
     "data": {
      "text/markdown": [
       "E il giorno dopo, mentre i testimoni facevano le loro deposizioni, mentre gli Avvocati declamavano dinanzi ai Giurati dando colpi di pugno sui tavolini, egli tendeva l'orecchio, col capo rovesciato sulla spalliera della sedia a braccioli, gli occhi chiusi, **terribilmente** pallido nella toga nera; tendeva l'orecchio per afferrare da lontano una nota di quell'insolito cantare di sua moglie nell'assenza di lui: -- Perchè cantava, ella che non aveva cantato mai?..."
      ],
      "text/plain": [
       "<IPython.core.display.Markdown object>"
      ]
     },
     "metadata": {},
     "output_type": "display_data"
    },
    {
     "data": {
      "text/markdown": [
       "Bozzani, quasi per acuire la curiosità dei suoi amici, prese in mano il bicchiere di birra rimasto intatto davanti a lui, bevve lentamente, ne ordinò un altro, e, sodisfatto dell'attenzione suscitata, riprese, con tono di solennità nella voce: -- Mi son vendicato, **terribilmente**, senza incorrere nel pericolo d'un processo e nella pettegola pubblicità dei giornali!"
      ],
      "text/plain": [
       "<IPython.core.display.Markdown object>"
      ]
     },
     "metadata": {},
     "output_type": "display_data"
    },
    {
     "data": {
      "text/markdown": [
       "Loreta, ricordevole sempre del tempo passato come maestra in istituti di quel genere, si compiaceva di cooperare anche da parte sua con qualcheall''udienza del 28 Aprile: Difensore Piccoli: Da che cosa arguisce il teste, che il Fascio di Piana dei Greci fosse così **terribilmente** provocatore?"
      ],
      "text/plain": [
       "<IPython.core.display.Markdown object>"
      ]
     },
     "metadata": {},
     "output_type": "display_data"
    },
    {
     "data": {
      "text/markdown": [
       "Il sorriso scettico si accentuò **terribilmente** , ed il professore ripresa: --E non v''ha lasciato nulla?"
      ],
      "text/plain": [
       "<IPython.core.display.Markdown object>"
      ]
     },
     "metadata": {},
     "output_type": "display_data"
    },
    {
     "data": {
      "text/markdown": [
       "E il suo pensiero tornava a Loris, **terribilmente** bello in quella caverna, quando le aveva gettato addosso Topine, e più **terribilmente** cattivo dopo con quel sorriso di scherno."
      ],
      "text/plain": [
       "<IPython.core.display.Markdown object>"
      ]
     },
     "metadata": {},
     "output_type": "display_data"
    },
    {
     "data": {
      "text/markdown": [
       "il proprio astuccio di sigarette: la voce di sua moglie, il suo entusiasmo pel teatro di Wagner, gli urtano i nervi **terribilmente** ."
      ],
      "text/plain": [
       "<IPython.core.display.Markdown object>"
      ]
     },
     "metadata": {},
     "output_type": "display_data"
    },
    {
     "data": {
      "text/markdown": [
       "commuovere da nessuna esagerazione, ma colpita, offesa dall''audacia di quella... signora D''Orea, vuol rispondere e **terribilmente** , ma non trova le parole."
      ],
      "text/plain": [
       "<IPython.core.display.Markdown object>"
      ]
     },
     "metadata": {},
     "output_type": "display_data"
    },
    {
     "data": {
      "text/markdown": [
       "Il principe non era che un vecchio bisbetico, generoso dele di Strauss, non gli parve più che ben piccola; altre rivolte gli si accesero in cuore, altri odi lo sollevarono **terribilmente** in alto contro tutte le autorità della terra."
      ],
      "text/plain": [
       "<IPython.core.display.Markdown object>"
      ]
     },
     "metadata": {},
     "output_type": "display_data"
    },
    {
     "data": {
      "text/markdown": [
       "per lui il prestigio delle sante figure muliebri cui la virtù pone una aureola di raggi luminosi intorno al capo, lo sgomentavano , ma tanto per isfogare il suo dolore, il suo pentimento, prese la penna e si mise a scrivere a Maria, gettando poi nel, diventa così, senza sforzo, il simbolo di una razza perseguitata e ribelle, e porta a una catastrofe impensata, ma **terribilmente** logica."
      ],
      "text/plain": [
       "<IPython.core.display.Markdown object>"
      ]
     },
     "metadata": {},
     "output_type": "display_data"
    },
    {
     "data": {
      "text/markdown": [
       "Ma doveva essere **terribilmente** tragica la condizione del forte negli ultimi giorni, quando già erano stati costretti a levar via la più parte deiEcco perchè ho detto ieri a Biancolina che molto probabilmente sarei venuta a far colazione da lei."
      ],
      "text/plain": [
       "<IPython.core.display.Markdown object>"
      ]
     },
     "metadata": {},
     "output_type": "display_data"
    },
    {
     "data": {
      "text/markdown": [
       "O espiava **terribilmente** il delitto di un istante?..."
      ],
      "text/plain": [
       "<IPython.core.display.Markdown object>"
      ]
     },
     "metadata": {},
     "output_type": "display_data"
    },
    {
     "data": {
      "text/markdown": [
       "-- E per ciò tu.... -- Io, caro Nelli, mi son vendicato più **terribilmente** ; nessuno di voi immagina come."
      ],
      "text/plain": [
       "<IPython.core.display.Markdown object>"
      ]
     },
     "metadata": {},
     "output_type": "display_data"
    },
    {
     "data": {
      "text/markdown": [
       "Provava un malessere inesplicabile, le tempia gli ardevano **terribilmente** , tuttavia nei suoi occhi eravi un''espressione di volontà frenetica, che pareva dovesse tutto piegare a lui dinanzi.Colle gambe per aria da un lato, Colle gambe per aria dall''altro, Cade a terra il meschino soldato Che l''amante al paese lasciò."
      ],
      "text/plain": [
       "<IPython.core.display.Markdown object>"
      ]
     },
     "metadata": {},
     "output_type": "display_data"
    },
    {
     "data": {
      "text/markdown": [
       "Ma da due anni in qua i salarî ribassano **terribilmente** e c''è una triste concorrenza nel lavoro che i mietitori di una contrada vanno a fare a quelli di un''altra; concorrenza,C''erano poi soldati, carabinieri, questurini, delegati, scaglionati da per tutto nelle vicinanze del Palazzo e si sentiva subito, anche da chi l''ignorava, che in esso si perpetrava qualcosa d''inusitato e di contrario alla libertà, di inviso al popolo e che premeva molto al governo che si compisse a malgrado di tutto e contro tutti."
      ],
      "text/plain": [
       "<IPython.core.display.Markdown object>"
      ]
     },
     "metadata": {},
     "output_type": "display_data"
    },
    {
     "data": {
      "text/markdown": [
       "di una nuova illusione che prendeva il posto dell''altra, che mi avrebbe ingannato come l''altra, che mi avrebbe fatto **terribilmente** soffrire e vanamente, come l''altra?"
      ],
      "text/plain": [
       "<IPython.core.display.Markdown object>"
      ]
     },
     "metadata": {},
     "output_type": "display_data"
    },
    {
     "data": {
      "text/markdown": [
       "– Alza gli occhiali incommuovere da nessuna esagerazione, ma colpita, offesa dall''audacia di quella... signora D''Orea, vuol rispondere e **terribilmente** , ma non trova le parole."
      ],
      "text/plain": [
       "<IPython.core.display.Markdown object>"
      ]
     },
     "metadata": {},
     "output_type": "display_data"
    },
    {
     "data": {
      "text/markdown": [
       "mai levarmi di addosso il funesto dominio del suo filtro, del suo misterioso potere, che forse avrebbe operato più **terribilmente** da lontano.... Infatti, se ella mi avesse detto in quel momento, invece di: Parto!--Domani non spunterà più il sole,la chiave di questo affascinante nuovo mondo: \"Il russo--egli dice in _Delitto e Gastigo_--è vasto come la sua patria, **terribilmente** inclinato a tutto quel che è fantastico e disordinato."
      ],
      "text/plain": [
       "<IPython.core.display.Markdown object>"
      ]
     },
     "metadata": {},
     "output_type": "display_data"
    },
    {
     "data": {
      "text/markdown": [
       "L''antica Italia dei guelfi e dei ghibellini, così inesaustamente e **terribilmente** guerriera, non era certo riconoscibile in questa ultima Italia di cavalieri serventi e di eserciti inservibili, ove, del Sacro Collegio, dei Palazzi Apostolici, delle guardie, ecc., ecc.\"."
      ],
      "text/plain": [
       "<IPython.core.display.Markdown object>"
      ]
     },
     "metadata": {},
     "output_type": "display_data"
    },
    {
     "data": {
      "text/markdown": [
       "mai levarmi di addosso il funesto dominio del suo filtro, del suo misterioso potere, che forse avrebbe operato più **terribilmente** da lontano.... Infatti, se ella mi avesse detto in quel momento, invece di: Parto!--Domani non spunterà più il sole,di strapparsi le fasce, Hermann e il servo lo afferrarono pei polsi."
      ],
      "text/plain": [
       "<IPython.core.display.Markdown object>"
      ]
     },
     "metadata": {},
     "output_type": "display_data"
    },
    {
     "data": {
      "text/markdown": [
       "risposta in una di quelle occhiate di alterigia, che le grandi dame e gli uomini superiori trovano così spesso e così **terribilmente** ."
      ],
      "text/plain": [
       "<IPython.core.display.Markdown object>"
      ]
     },
     "metadata": {},
     "output_type": "display_data"
    },
    {
     "data": {
      "text/markdown": [
       "in una ricca vesta da camera bruna a bruni ricami, pallida, mal pettinata, con un cerchio turchino sotto gli occhi così **terribilmente** più vivi."
      ],
      "text/plain": [
       "<IPython.core.display.Markdown object>"
      ]
     },
     "metadata": {},
     "output_type": "display_data"
    },
    {
     "data": {
      "text/markdown": [
       "Le condizioni di Venezia s''aggravavano **terribilmente** ogni giorno."
      ],
      "text/plain": [
       "<IPython.core.display.Markdown object>"
      ]
     },
     "metadata": {},
     "output_type": "display_data"
    },
    {
     "data": {
      "text/markdown": [
       "La figura del suo Principe **terribilmente** sinistra, impassibile e serena, ha sulla fronte i vapori luminosi di un sogno--costituire uno Stato nazionale,Intorno a lui la vita ordinaria seguitava a gorgogliare come l''acqua di un torrente, nel quale tutti pescano ed arraffano, mentre collo spirito teso al di là della morte egli doveva sopportare le importunità dei pochi che lo amavano, e degli altri sempre increduli per saggezza e di coloro, nei quali il riso è simile al gracidare delle rane."
      ],
      "text/plain": [
       "<IPython.core.display.Markdown object>"
      ]
     },
     "metadata": {},
     "output_type": "display_data"
    },
    {
     "data": {
      "text/markdown": [
       "acque; a te, padre Di feconde pianure, ove nei cheti Argini la natía possa governi; Padre d''alte rovine, allor che in ira **terribilmente** imperversando abbondi Fuor degli ardui ripari, e fosco, immenso Possiedi i campi, e sugli abissi imperi."
      ],
      "text/plain": [
       "<IPython.core.display.Markdown object>"
      ]
     },
     "metadata": {},
     "output_type": "display_data"
    },
    {
     "data": {
      "text/markdown": [
       "Ad un tratto Fathma impallidì **terribilmente** ."
      ],
      "text/plain": [
       "<IPython.core.display.Markdown object>"
      ]
     },
     "metadata": {},
     "output_type": "display_data"
    },
    {
     "data": {
      "text/markdown": [
       "Pei vasti Adamantini portici solenni Della reggia immortal suonava ancora, **terribilmente** pauroso, l''inno Dell''immensa vittoria; ancor sul nome Del cattolico Iddio scherni possenti Avventavano i demoni,Un giorno ella mostrò il desiderio di voler raccontata, con tutti i particolari, la storia di Jela."
      ],
      "text/plain": [
       "<IPython.core.display.Markdown object>"
      ]
     },
     "metadata": {},
     "output_type": "display_data"
    },
    {
     "data": {
      "text/markdown": [
       "Il cielo azzurro non era tuttavia lieto e doveva riuscire **terribilmente** feroce, a quanti soffrivano; di tanto in tanto, dei periodi di vento furioso facevano discendere la temperatura, portavano ancora dei brividi, e disordinavano le abitudini di chi aveva gi salutata quella primavera fallace."
      ],
      "text/plain": [
       "<IPython.core.display.Markdown object>"
      ]
     },
     "metadata": {},
     "output_type": "display_data"
    },
    {
     "data": {
      "text/markdown": [
       "Il cavaliere Alberto Cencetti--non soltanto è **terribilmente** miope--ma professore di matematiche e dei migliori, senz''altro."
      ],
      "text/plain": [
       "<IPython.core.display.Markdown object>"
      ]
     },
     "metadata": {},
     "output_type": "display_data"
    },
    {
     "data": {
      "text/markdown": [
       "tutta l''impassibilità necessaria a tale inintelligibile olocausto, perchè egli solo aveva avuto l''anima così **terribilmente** logica da volerlo."
      ],
      "text/plain": [
       "<IPython.core.display.Markdown object>"
      ]
     },
     "metadata": {},
     "output_type": "display_data"
    },
    {
     "data": {
      "text/markdown": [
       "la propria parte di signore, parve giganteggiare fra le massime figure del tempo, tra i Visconti e gli Scaligeri, così **terribilmente** trionfanti nella storica realtà."
      ],
      "text/plain": [
       "<IPython.core.display.Markdown object>"
      ]
     },
     "metadata": {},
     "output_type": "display_data"
    },
    {
     "data": {
      "text/markdown": [
       "mesi, sotto l''ossessione di quella scena di delusione che aveva offeso il suo amor proprio e il suo amore, e che lo faceva **terribilmente** soffrire notte e giorno, quantunque egli tentasse ogni mezzo di distrarsi, anche perchè colei non potesse, preludi di un''altra fase di tortura.... Sì, di un''altra fase di tortura."
      ],
      "text/plain": [
       "<IPython.core.display.Markdown object>"
      ]
     },
     "metadata": {},
     "output_type": "display_data"
    },
    {
     "data": {
      "text/markdown": [
       "La fronte dell''inventore si corrugò **terribilmente** ."
      ],
      "text/plain": [
       "<IPython.core.display.Markdown object>"
      ]
     },
     "metadata": {},
     "output_type": "display_data"
    },
    {
     "data": {
      "text/markdown": [
       "E il suo pensiero tornava a Loris, **terribilmente** bello in quella caverna, quando le aveva gettato addosso Topine, e più **terribilmente** cattivo dopo con quel sorriso dirisposta in una di quelle occhiate di alterigia, che le grandi dame e gli uomini superiori trovano così spesso e così **terribilmente** ."
      ],
      "text/plain": [
       "<IPython.core.display.Markdown object>"
      ]
     },
     "metadata": {},
     "output_type": "display_data"
    },
    {
     "data": {
      "text/markdown": [
       "Gli Austriaci danno di volta; ma, dividendosi, scoprono nuovi battaglioni, **terribilmente** compatti, che rovesciano sugli assalitori una tempesta di palle."
      ],
      "text/plain": [
       "<IPython.core.display.Markdown object>"
      ]
     },
     "metadata": {},
     "output_type": "display_data"
    },
    {
     "data": {
      "text/markdown": [
       "[I FASCI NELLE ZONE AGRICOLE] I successi reali i cui risultati economici sono statiqualche volta, esasperato dalla perdita, che per lui è un vero disastro, lo cerca, lo insegue, e se lo trova, lo bastona **terribilmente** ."
      ],
      "text/plain": [
       "<IPython.core.display.Markdown object>"
      ]
     },
     "metadata": {},
     "output_type": "display_data"
    },
    {
     "data": {
      "text/markdown": [
       "Ma come è drammatico ed interessante l''incontro, nella scuola di Atene, di questi due giovani, destinati a diventare **terribilmente** nemici l''uno dell''altro, e che già si spiavano a vicenda con quell''acume che dà l''odio istintivo."
      ],
      "text/plain": [
       "<IPython.core.display.Markdown object>"
      ]
     },
     "metadata": {},
     "output_type": "display_data"
    },
    {
     "data": {
      "text/markdown": [
       "Ma la tradizione ecclesiastica gli è stata **terribilmente** nemica; gli ha impresso il marchio dell''apostata e, con questa qualifica, lo ha condannato all''abbominio ed all''Ma, talvolta, nella vita, le contraddizioni s''impongono e diventa impossibile il sottrarvisi; in quel momento supremo della vita di Giuliano, l''imperatore ed il filosofo venivano ad urtarsi, e la forza delle cose voleva che l''imperatore facesse tacere il filosofo."
      ],
      "text/plain": [
       "<IPython.core.display.Markdown object>"
      ]
     },
     "metadata": {},
     "output_type": "display_data"
    },
    {
     "data": {
      "text/markdown": [
       "Dipenderà forse da me, di causarne gli attacchi; ma seperchè i francesi non avessero pensato molto tempo prima a costruire un forte sulla cima di quel monte che dominava così **terribilmente** Pinerolo; perchè è certo che del forte di Santa Brigida non c''era ancora segno nell''aprile del 1692, e che i lavori non."
      ],
      "text/plain": [
       "<IPython.core.display.Markdown object>"
      ]
     },
     "metadata": {},
     "output_type": "display_data"
    },
    {
     "data": {
      "text/markdown": [
       "L''antica Italia dei guelfi e dei ghibellini, così inesaustamente e **terribilmente** guerriera, non era certo riconoscibile in questa ultima Italia di cavalieri serventi e di eserciti inservibili, oveAllora le due donne si osservarono mutamente, poichè quella scena subitanea era stata un enigma per tutte e tre, incontratesi come a caso nel trivio soleggiato d''un affetto cristiano."
      ],
      "text/plain": [
       "<IPython.core.display.Markdown object>"
      ]
     },
     "metadata": {},
     "output_type": "display_data"
    },
    {
     "data": {
      "text/markdown": [
       "--, dieci giorni fa la cercava ancora, interrogava i guerrieri che venivano dal Bahr-el-Abiad, giurava di vendicarsi **terribilmente** di questa donna che lo aveva indegnamente tradito, ed invece è qui e ancor viva."
      ],
      "text/plain": [
       "<IPython.core.display.Markdown object>"
      ]
     },
     "metadata": {},
     "output_type": "display_data"
    },
    {
     "data": {
      "text/markdown": [
       "ci avevano accompagnati alle porte, e quegli applausi e quelle grida ci scendevano nel cuore e gli davan delle strette **terribilmente** dolorose.--Oh tacete!--dicevamo dentro di noi--tacete, siamo soldati, e il nostro povero cuore si spezza!-- Seguìdisse ad alta voce dello stato infelicissimo in cui versava la città,--erano i giorni in cui il colèra infieriva più **terribilmente** ,--degli ospedali che difettavano d''infermieri, del debito che incombe ad ogni buon cittadino di prestar l''opera suaNon gli aveva chiesto nulla; ma quella sera stessa, chiamando a sè con qualche pretesto gli amici comuni dei due gentiluomini, era venuta a capo di stabilire un buon servizio di esplorazione."
      ],
      "text/plain": [
       "<IPython.core.display.Markdown object>"
      ]
     },
     "metadata": {},
     "output_type": "display_data"
    },
    {
     "data": {
      "text/markdown": [
       "Così **terribilmente** l''odiava Notis per seppellirlo in quest''orrida tomba?"
      ],
      "text/plain": [
       "<IPython.core.display.Markdown object>"
      ]
     },
     "metadata": {},
     "output_type": "display_data"
    },
    {
     "data": {
      "text/markdown": [
       "cavalieri, condotti dal vecchio Abu Ben Gileli, il caid delle cinquanta bastonate, il quale mi lancia uno sguardo **terribilmente** espressivo rasente la schiena."
      ],
      "text/plain": [
       "<IPython.core.display.Markdown object>"
      ]
     },
     "metadata": {},
     "output_type": "display_data"
    },
    {
     "data": {
      "text/markdown": [
       "Si servivano anche **terribilmente** delle pietre, facendole franare dai monti; pochi uomini robusti, appoggiando le spalle e i gomiti alla roccia, e\" ma non si poteva chiamare ancora \"un grand''uomo\"; bisognava aspettare dell''altro."
      ],
      "text/plain": [
       "<IPython.core.display.Markdown object>"
      ]
     },
     "metadata": {},
     "output_type": "display_data"
    },
    {
     "data": {
      "text/markdown": [
       "Se la vita era naturalmente infelice, tanto peggio per essa; ma perchè eratutta l''impassibilità necessaria a tale inintelligibile olocausto, perchè egli solo aveva avuto l''anima così **terribilmente** logica da volerlo."
      ],
      "text/plain": [
       "<IPython.core.display.Markdown object>"
      ]
     },
     "metadata": {},
     "output_type": "display_data"
    },
    {
     "data": {
      "text/markdown": [
       "Così apparivano **terribilmente** belli i colossi di pietra sul limitare dei templi; così, mirabilmente severe, lungo le pareti babilonesi, le immagini--Non è necessario di andar lontano;--risposi.--Qui nel giardino, è più presto fatto."
      ],
      "text/plain": [
       "<IPython.core.display.Markdown object>"
      ]
     },
     "metadata": {},
     "output_type": "display_data"
    },
    {
     "data": {
      "text/markdown": [
       "Quando però le vedeva piangere e **terribilmente** soffrire per le ansietà di un pericolo che le teneva sospese tra la vita e la morte e poteva produrre, tutt''a un tratto,bene?"
      ],
      "text/plain": [
       "<IPython.core.display.Markdown object>"
      ]
     },
     "metadata": {},
     "output_type": "display_data"
    },
    {
     "data": {
      "text/markdown": [
       "le piaghe che paion vere piaghe, il color della pelle, la contrazione del viso, l''atteggiamento, lo sguardo, ogni cosa **terribilmente** vera; direste che a toccarlo si deve sentire il tremito delle membra e il calor del sangue; vi par che le sue labbra siIl principe Umberto pose di sua mano accanto all''altare una delle due bandiere portate in dono dalla guardia nazionale di Milano; quindi si mosse per fare il giro del presbiterio, accompagnato da tutto il suo seguito."
      ],
      "text/plain": [
       "<IPython.core.display.Markdown object>"
      ]
     },
     "metadata": {},
     "output_type": "display_data"
    },
    {
     "data": {
      "text/markdown": [
       "La discesa fu terribile e **terribilmente** lunga."
      ],
      "text/plain": [
       "<IPython.core.display.Markdown object>"
      ]
     },
     "metadata": {},
     "output_type": "display_data"
    },
    {
     "data": {
      "text/markdown": [
       "Come vorace fiamma, Poi che tutte afferrò l''aride secce Del vasto campo, il vicin bosco invade; **terribilmente** crepitando esulta Con cento lingue sanguinose a l''etra; Così questi venían dopo a un vessillo Fluttüante a l''avverseDi lei era stato breve uso; dunque anche ella era stata una vanità."
      ],
      "text/plain": [
       "<IPython.core.display.Markdown object>"
      ]
     },
     "metadata": {},
     "output_type": "display_data"
    },
    {
     "data": {
      "text/markdown": [
       "Per questo, egli odiava il Cristianesimo il quale voleva, è vero, usufruire della sua eredità, edonnipotente gerarchia, è diventata la negazione di sè stessa, ed ha data al mondo quella società feroce, selvaggia, **terribilmente** appassionata, senza pietà e senza amore, di cui la Divina Commedia e i drammi di Shakespeare ci presentano il quadroper gli dei e per quello stesso affetto che a te mi lega, sull''istante fuggirono tutti i miei dolori, e la febbre, quasi atterrita dall''invitta presenza del salvatore, tosto scomparve."
      ],
      "text/plain": [
       "<IPython.core.display.Markdown object>"
      ]
     },
     "metadata": {},
     "output_type": "display_data"
    },
    {
     "data": {
      "text/markdown": [
       "Ezio Cami, fu per lunghi mesi, sotto l''ossessione di quella scena di delusione che aveva offeso il suo amor proprio e il suo amore, e che lo faceva **terribilmente** soffrire notte e giorno, quantunque egli tentasse ogni mezzo di distrarsi, anche perchè colei non potesse rallegrarsi degli effetti dell''opera sua, e non lo riputasse sua vittima."
      ],
      "text/plain": [
       "<IPython.core.display.Markdown object>"
      ]
     },
     "metadata": {},
     "output_type": "display_data"
    },
    {
     "data": {
      "text/markdown": [
       "La figura del suo Principe **terribilmente** sinistra, impassibile e serena, ha sulla fronte i vapori luminosi di un sogno--costituire uno Stato nazionale,Gabriele d''Annunzio tradusse il sogno di Nietzsche in qualche figura, sforzandosi a darle sembianza di vita coll''imitazione di antichi disegni, intendendo a rovescio Leonardo da Vinci, ingannandosi ed ingannando colla malia di una bellezza letteraria formata cogli echi e coi riflessi di ogni bellezza passata."
      ],
      "text/plain": [
       "<IPython.core.display.Markdown object>"
      ]
     },
     "metadata": {},
     "output_type": "display_data"
    },
    {
     "data": {
      "text/markdown": [
       "Esse accesero l''incendio, ma non credevano che tanta materia vi fosse da farlo divampare **terribilmente** ; si videro sorpassate nelle intenzioni e si spaventarono della lava che minacciava travolgere tutto e tutti."
      ],
      "text/plain": [
       "<IPython.core.display.Markdown object>"
      ]
     },
     "metadata": {},
     "output_type": "display_data"
    },
    {
     "data": {
      "text/markdown": [
       "-- E per ciò tu.... -- Io, caro Nelli, mi son vendicato più **terribilmente**; nessuno di voi immagina come."
      ],
      "text/plain": [
       "<IPython.core.display.Markdown object>"
      ]
     },
     "metadata": {},
     "output_type": "display_data"
    },
    {
     "data": {
      "text/markdown": [
       "Ella pareva perplessa; la sua fisonomia diventò **terribilmente** severa."
      ],
      "text/plain": [
       "<IPython.core.display.Markdown object>"
      ]
     },
     "metadata": {},
     "output_type": "display_data"
    },
    {
     "data": {
      "text/markdown": [
       "Era livido, con la fisonomia contratta, gli occhi **terribilmente** spalancati."
      ],
      "text/plain": [
       "<IPython.core.display.Markdown object>"
      ]
     },
     "metadata": {},
     "output_type": "display_data"
    },
    {
     "data": {
      "text/markdown": [
       "Come vorace fiamma, Poi che tutte afferrò l''aride secce Del vasto campo, il vicin bosco invade; **terribilmente** crepitando esulta Con cento lingue sanguinose a l''etra; Così questi venían dopo a un vessillo Fluttüante a l''avverseNell''antinferno è prima la difficultas, seconda l''ignorantia, originali; nella antidite prima l''infirmitas, seconda l''ignorantia, attuali: nell''antipurgatorio, prima quella che risponde all''ignoranza originale e attuale nella proporzione in cui sta uno scomunicato pentito a un miscredente e a un non battezzato, seconda quella che risponde all''infermità o negligenza o viltà attuale nella proporzione in cui un Belacqua e anche un principe negligente sta a un non mai vivo che corre e a un re che grufola."
      ],
      "text/plain": [
       "<IPython.core.display.Markdown object>"
      ]
     },
     "metadata": {},
     "output_type": "display_data"
    },
    {
     "data": {
      "text/markdown": [
       "È un puro ariano, dalla nobile faccia socratica che mi ricorda **terribilmente** un mio illustre insegnante di Università, tanto che ancora non riesco a vincere una certa esitanza, quando devonella valle del Savio, giù sino a Folcente, per risalir poi verso Montioni e Monte Coronaro."
      ],
      "text/plain": [
       "<IPython.core.display.Markdown object>"
      ]
     },
     "metadata": {},
     "output_type": "display_data"
    },
    {
     "data": {
      "text/markdown": [
       "In questi ultimi mesi avevo sofferto più **terribilmente** ."
      ],
      "text/plain": [
       "<IPython.core.display.Markdown object>"
      ]
     },
     "metadata": {},
     "output_type": "display_data"
    },
    {
     "data": {
      "text/markdown": [
       "E non siamo ancora negli anni ultimi, nei quali la crisi economica è **terribilmente** aumentata...... Ancora delle cifre!"
      ],
      "text/plain": [
       "<IPython.core.display.Markdown object>"
      ]
     },
     "metadata": {},
     "output_type": "display_data"
    },
    {
     "data": {
      "text/markdown": [
       "--L''odiavi ben **terribilmente** , Fathma."
      ],
      "text/plain": [
       "<IPython.core.display.Markdown object>"
      ]
     },
     "metadata": {},
     "output_type": "display_data"
    },
    {
     "data": {
      "text/markdown": [
       ", quell''esaltamento lieve che si attinge in un bicchiere di Sciampagna, un''ebbrezza, un esaltamento innocenti, ma **terribilmente** arrischiati."
      ],
      "text/plain": [
       "<IPython.core.display.Markdown object>"
      ]
     },
     "metadata": {},
     "output_type": "display_data"
    },
    {
     "data": {
      "text/markdown": [
       "Il suo volto era **terribilmente** livido; ella balzò in piedi arretrando e questo atto la tradì."
      ],
      "text/plain": [
       "<IPython.core.display.Markdown object>"
      ]
     },
     "metadata": {},
     "output_type": "display_data"
    },
    {
     "data": {
      "text/markdown": [
       "L''Austria, rappresentante dell''assolutismo e del più eteroclito impero europeo, venivaassurde e di combinazioni impossibili, di reticenze perfide e di sottintesi indicibili, mentre Mazzini sempre **terribilmente** limpido guidava il battaglione sacro delle idee e delle poche forze rivoluzionarie su per l''erta di una nuova epocadella patria."
      ],
      "text/plain": [
       "<IPython.core.display.Markdown object>"
      ]
     },
     "metadata": {},
     "output_type": "display_data"
    },
    {
     "data": {
      "text/markdown": [
       "Oreste rimarrebbe **terribilmente** sconcertato da quel buco nel cielo."
      ],
      "text/plain": [
       "<IPython.core.display.Markdown object>"
      ]
     },
     "metadata": {},
     "output_type": "display_data"
    },
    {
     "data": {
      "text/markdown": [
       "Il desiderio acuto, che l''aveva dominata da prima, di fuggire, di gittare tra lei e quell''uomo, tra lei e ilqualche volta, esasperato dalla perdita, che per lui è un vero disastro, lo cerca, lo insegue, e se lo trova, lo bastona **terribilmente** ."
      ],
      "text/plain": [
       "<IPython.core.display.Markdown object>"
      ]
     },
     "metadata": {},
     "output_type": "display_data"
    },
    {
     "data": {
      "text/markdown": [
       "Alcuni barcaiuoli, sfidando il fuoco degli insorti che cresceva **terribilmente** , si slanciarono ai remi, ma caddero a mezzo ponte."
      ],
      "text/plain": [
       "<IPython.core.display.Markdown object>"
      ]
     },
     "metadata": {},
     "output_type": "display_data"
    },
    {
     "data": {
      "text/markdown": [
       "Il piano organizzato da quell'uomo è stato così magistralmente combinato, è stato tanto **terribilmente** condotto, che io sono chiuso in una rete da cui non arrivo a distrigarmi."
      ],
      "text/plain": [
       "<IPython.core.display.Markdown object>"
      ]
     },
     "metadata": {},
     "output_type": "display_data"
    },
    {
     "data": {
      "text/markdown": [
       "riaperta agli eserciti di Radetzky; Milano stessa minacciata; ecco le notizie che dal 25 al 30 luglio giungevano **terribilmente** gravi nella Capitale Lombarda."
      ],
      "text/plain": [
       "<IPython.core.display.Markdown object>"
      ]
     },
     "metadata": {},
     "output_type": "display_data"
    },
    {
     "data": {
      "text/markdown": [
       "mai un collo, nè due spalle più voluttuose, ma il seno abilmente impicciolito dal velo aveva ancora un''ampiezza **terribilmente** lasciva; ma la statura, il portamento, l''imperiale maestà del volto appena appena commosso la facevano un tipoAllora anch''egli vedeva attraverso i muri, come se si trovasse nella sala; i palchi erano pieni, le signore si sporgevano dai parapetti, metà della platea era in piedi: un''onda di teste rimbalzava e cadeva quasi giù dall''orlo del loggione pieno di urla, l''orchestra era muta, e i suonatori cogl''istrumenti in mano guardavano dentro il palcoscenico, illuminato come il palazzo di un sogno, ricco come la reggia di un imperatore immaginario."
      ],
      "text/plain": [
       "<IPython.core.display.Markdown object>"
      ]
     },
     "metadata": {},
     "output_type": "display_data"
    },
    {
     "data": {
      "text/markdown": [
       "Con un impeto irresistibile Sandokan s'era gettato in mezzo alle file sciabolandole **terribilmente** e scompaginandole."
      ],
      "text/plain": [
       "<IPython.core.display.Markdown object>"
      ]
     },
     "metadata": {},
     "output_type": "display_data"
    },
    {
     "data": {
      "text/markdown": [
       "Così apparivano **terribilmente** belli i colossi di pietra sul limitare dei templi; così, mirabilmente severe, lungo le pareti babilonesi, le immaginiE come lo suppone senza conforti, così non sa rendersi ragione del come e del perchè possano esistere nel cuor vostro de'' sentimenti che ve lo facciano parer leggiero, che ve lo facciano compiere lietamente, e considerarlo come un dovere, e ricordarlo, dopo fatto, come una gloria."
      ],
      "text/plain": [
       "<IPython.core.display.Markdown object>"
      ]
     },
     "metadata": {},
     "output_type": "display_data"
    },
    {
     "data": {
      "text/markdown": [
       "Loris rosso, grondante di sudore, colla lanterna, che gli riverberava sul volto, le parve **terribilmente** sinistro."
      ],
      "text/plain": [
       "<IPython.core.display.Markdown object>"
      ]
     },
     "metadata": {},
     "output_type": "display_data"
    },
    {
     "data": {
      "text/markdown": [
       "que'' tempi; che, veramente, più tardi la divozione andava scemando per gradi; più raramente il nodo era disfatto; più raramente aperto lo scatolino elegante; poi dimenticato del tutto in un angolo del conscio cassetto, dove talvolta rovistandole piaghe che paion vere piaghe, il color della pelle, la contrazione del viso, l''atteggiamento, lo sguardo, ogni cosa **terribilmente** vera; direste che a toccarlo si deve sentire il tremito delle membra e il calor del sangue; vi par che le sue labbra sidei Rotschild."
      ],
      "text/plain": [
       "<IPython.core.display.Markdown object>"
      ]
     },
     "metadata": {},
     "output_type": "display_data"
    },
    {
     "data": {
      "text/markdown": [
       "Ancor sogno un'aurora che gli occhi miei non videro; desidero, desidero **terribilmente** ancora!..."
      ],
      "text/plain": [
       "<IPython.core.display.Markdown object>"
      ]
     },
     "metadata": {},
     "output_type": "display_data"
    },
    {
     "data": {
      "text/markdown": [
       "Pallida e fredda come un cadavere, Rachele Cabib non aveva vita che negli occhi, i quali guardavano **terribilmente** innanzi a sè."
      ],
      "text/plain": [
       "<IPython.core.display.Markdown object>"
      ]
     },
     "metadata": {},
     "output_type": "display_data"
    },
    {
     "data": {
      "text/markdown": [
       "Pei vasti Adamantini portici solenni Della reggia immortal suonava ancora, **terribilmente** pauroso, l''inno Dell''immensa vittoria; ancor sul nome Del cattolico Iddio scherni possenti Avventavano i demoni,E se fosse dipeso da lei non avrebbe esitato un momento ad accogliere le offerte di Gabrio che, avvezzo a maneggiar dei milioni e liberale per indole, sarebbe venuto volentieri in aiuto del fratello."
      ],
      "text/plain": [
       "<IPython.core.display.Markdown object>"
      ]
     },
     "metadata": {},
     "output_type": "display_data"
    },
    {
     "data": {
      "text/markdown": [
       "Se Gregorio fuonnipotente gerarchia, è diventata la negazione di sè stessa, ed ha data al mondo quella società feroce, selvaggia, **terribilmente** appassionata, senza pietà e senza amore, di cui la Divina Commedia e i drammi di Shakespeare ci presentano il quadro, sebbene inclinasse ai monarchiani, trovò una formola di conciliazione che non accontentò i partiti rivali, ma che, **terribilmente** oscura e tutta composta di frasi contradditorie, pose il mistero e l''incomprensibile come elementi essenziali dellasuo fondatore, era la pura espressione di un sentimento morale, l''aspirazione ad un ideale di giustizia, una protesta **terribilmente** eloquente nella sua mitezza contro le iniquità del mondo."
      ],
      "text/plain": [
       "<IPython.core.display.Markdown object>"
      ]
     },
     "metadata": {},
     "output_type": "display_data"
    },
    {
     "data": {
      "text/markdown": [
       "Loris ordinò a Topine di andare innanzi, e rimase in faccia a tutti, guardandoli così **terribilmente** che non osarono attaccarlo."
      ],
      "text/plain": [
       "<IPython.core.display.Markdown object>"
      ]
     },
     "metadata": {},
     "output_type": "display_data"
    },
    {
     "data": {
      "text/markdown": [
       "mi batte **terribilmente** il cuore... vacillo... aiuto, aiuto!"
      ],
      "text/plain": [
       "<IPython.core.display.Markdown object>"
      ]
     },
     "metadata": {},
     "output_type": "display_data"
    },
    {
     "data": {
      "text/markdown": [
       "A un tratto, la contessa si fece **terribilmente** pallida."
      ],
      "text/plain": [
       "<IPython.core.display.Markdown object>"
      ]
     },
     "metadata": {},
     "output_type": "display_data"
    },
    {
     "data": {
      "text/markdown": [
       "mesi, sotto l''ossessione di quella scena di delusione che aveva offeso il suo amor proprio e il suo amore, e che lo faceva **terribilmente** soffrire notte e giorno, quantunque egli tentasse ogni mezzo di distrarsi, anche perchè colei non potessePer me chi sparla della scuola ove fu allevato è tutt''uno con chi percuote il seno che lo nutrì."
      ],
      "text/plain": [
       "<IPython.core.display.Markdown object>"
      ]
     },
     "metadata": {},
     "output_type": "display_data"
    },
    {
     "data": {
      "text/markdown": [
       "Ma la tradizione ecclesiastica gli è stata **terribilmente** nemica; gli ha impresso il marchio dell''apostata e, con questa qualifica, lo ha condannato all''abbominio ed all''., 604, 10 sg."
      ],
      "text/plain": [
       "<IPython.core.display.Markdown object>"
      ]
     },
     "metadata": {},
     "output_type": "display_data"
    },
    {
     "data": {
      "text/markdown": [
       "Questa zuppa scotta; scotta **terribilmente** !"
      ],
      "text/plain": [
       "<IPython.core.display.Markdown object>"
      ]
     },
     "metadata": {},
     "output_type": "display_data"
    },
    {
     "data": {
      "text/markdown": [
       "e di Strauss, non gli parve più che ben piccola; altre rivolte gli si accesero in cuore, altri odi lo sollevarono **terribilmente** in alto contro tutte le autorità della terra."
      ],
      "text/plain": [
       "<IPython.core.display.Markdown object>"
      ]
     },
     "metadata": {},
     "output_type": "display_data"
    },
    {
     "data": {
      "text/markdown": [
       "Quella mattina mia moglie sitavolini, egli tendeva l''orecchio, col capo rovesciato sulla spalliera della sedia a braccioli, gli occhi chiusi, **terribilmente** pallido nella toga nera; tendeva l''orecchio per afferrare da lontano una nota di quell''insolito cantare di sua moglieche ci fosse voluto tanto a sradicar dalla memoria del giovinotto la mala femmina di cui i di Reana avevano un così grande sgomento ; la ferita era bell''e rimarginata fin dall''arrivo di Guido a Venezia e bisognava pur riconoscere che la sirena non\"Ho pensato subito a voi, – lesse il dottore con accento commosso, – e dissi ad Ugo: – E i miei genitori?"
      ],
      "text/plain": [
       "<IPython.core.display.Markdown object>"
      ]
     },
     "metadata": {},
     "output_type": "display_data"
    },
    {
     "data": {
      "text/markdown": [
       "senza le carte, ci pensavo il giorno e la notte, e le vicende del giuoco unite al liquore di Bacco mi agitavano il sonno **terribilmente** ."
      ],
      "text/plain": [
       "<IPython.core.display.Markdown object>"
      ]
     },
     "metadata": {},
     "output_type": "display_data"
    },
    {
     "data": {
      "text/markdown": [
       "Questa è legge diaveva rada, breve ed incolta, e, per farla finita col ritratto, dirò che una bella elegante, di quelle che so io, avrebbe raccapricciato a vederselo tra i piedi, e un cagnolino di buon gusto, come sono in generale tutti i cagnolini da salotto, gli avrebbeci avevano accompagnati alle porte, e quegli applausi e quelle grida ci scendevano nel cuore e gli davan delle strette **terribilmente** dolorose.--Oh tacete!--dicevamo dentro di noi--tacete, siamo soldati, e il nostro povero cuore si spezza!-- Seguìdisse ad alta voce dello stato infelicissimo in cui versava la città,--erano i giorni in cui il colèra infieriva più **terribilmente** ,--degli ospedali che difettavano d''infermieri, del debito che incombe ad ogni buon cittadino di prestar l''opera suaV''è un consiglio d''amministrazione, un presidente, un vice-presidente, un segretario, un cassiere, un economo, un esattore, un bibliotecario, un censore, un consigliere, e tutti fanno il loro dovere e nessuno è pagato."
      ],
      "text/plain": [
       "<IPython.core.display.Markdown object>"
      ]
     },
     "metadata": {},
     "output_type": "display_data"
    },
    {
     "data": {
      "text/markdown": [
       "Egli vedeva sempre il principe, ritto colla faccia gialla di malato **terribilmente** immobile, girare uno sguardo su tutti quegli invitati contandoli; quanti erano?"
      ],
      "text/plain": [
       "<IPython.core.display.Markdown object>"
      ]
     },
     "metadata": {},
     "output_type": "display_data"
    },
    {
     "data": {
      "text/markdown": [
       "A poco a poco, i fremiti, le ansie degli antichi leoni congiurati del Quarantotto che si riunivano lì in quel camerone attorno al vecchio Generale, s'erano ridestati in lui a farlo vergognare del suo pianto; le ombre di quei leoni, **terribilmente** sdegnate, gli eran sorte intorno e gli avevan gridato d'accorrere, sì, sì, d'accorrere, pur così vecchio com'era, a impedire con gli altri vecchi superstiti la distruzione della patria."
      ],
      "text/plain": [
       "<IPython.core.display.Markdown object>"
      ]
     },
     "metadata": {},
     "output_type": "display_data"
    },
    {
     "data": {
      "text/markdown": [
       "Allora egli segnò qualche ruga sul volto della sua eroina e mise la medaglia di deputato sul petto del suofiglio, immolata la vita di Henri a una apparente infamia di alcune ore, avrebbe da vigliacco, da plebeo, compromessa **terribilmente** la Baronessa."
      ],
      "text/plain": [
       "<IPython.core.display.Markdown object>"
      ]
     },
     "metadata": {},
     "output_type": "display_data"
    },
    {
     "data": {
      "text/markdown": [
       "d''uno degli interminabili discorsi sconclusionati della signora Giuditta, le si vedevano tutti i denti irrompere **terribilmente** fuori dalla bocca; ed ella s''affrettava con ambe le mani a respingerli dentro, e li rimetteva a posto a bocca chiusa, conIl sexton si mise a ridere; egli gridava:  gioia!"
      ],
      "text/plain": [
       "<IPython.core.display.Markdown object>"
      ]
     },
     "metadata": {},
     "output_type": "display_data"
    },
    {
     "data": {
      "text/markdown": [
       "Perdi una nuova illusione che prendeva il posto dell''altra, che mi avrebbe ingannato come l''altra, che mi avrebbe fatto **terribilmente** soffrire e vanamente, come l''altra?"
      ],
      "text/plain": [
       "<IPython.core.display.Markdown object>"
      ]
     },
     "metadata": {},
     "output_type": "display_data"
    },
    {
     "data": {
      "text/markdown": [
       "La ho vista nuda e la sua nudità era allora **terribilmente** lasciva...; invece calma, gelida mi guardava colle grandi pupille azzurre, inesplicabilmente curiose, mentrenel panneggiamento di troppi sistemi storici e filosofici, si veniva sbrogliando coll''aiuto delle idee francesi più **terribilmente** logiche e chiare."
      ],
      "text/plain": [
       "<IPython.core.display.Markdown object>"
      ]
     },
     "metadata": {},
     "output_type": "display_data"
    },
    {
     "data": {
      "text/markdown": [
       "Stavano sempre nella stessa attitudine, Mimy sulle ginocchia di Elisa, entrambe con un braccio intorno alla cintura: quella vestita di nero colla luce dell''ebbrezza nel volto ancora macilento dalle passioni della notte e, in tale contrasto, stupendo; questa chiusa in una ricca vesta da camera bruna a bruni ricami, pallida, mal pettinata, con un cerchio turchino sotto gli occhi così **terribilmente** più vivi."
      ],
      "text/plain": [
       "<IPython.core.display.Markdown object>"
      ]
     },
     "metadata": {},
     "output_type": "display_data"
    },
    {
     "data": {
      "text/markdown": [
       "Da parecchie notti mi è impossibile dormire, si è **terribilmente** ingrossato, non sono più dolori, ma spasimi; la natura stessa mi fa sentire il bisogno di aprire una via al male chel''incomoda visita di una dirottissima pioggia."
      ],
      "text/plain": [
       "<IPython.core.display.Markdown object>"
      ]
     },
     "metadata": {},
     "output_type": "display_data"
    },
    {
     "data": {
      "text/markdown": [
       "indarno tante tragedie greche senza accorgersi che ogni cronaca dei nostri comuni era affollata di figure ben più **terribilmente** belle che nelle corti di Tebe e di Atene?"
      ],
      "text/plain": [
       "<IPython.core.display.Markdown object>"
      ]
     },
     "metadata": {},
     "output_type": "display_data"
    },
    {
     "data": {
      "text/markdown": [
       "E il suo pensiero tornava a Loris, **terribilmente** bello in quella caverna, quando le aveva gettato addosso Topine, e più **terribilmente** cattivo dopo con quel sorriso diE il suo pensiero tornava a Loris, **terribilmente** bello in quella caverna, quando le aveva gettato addosso Topine, e più **terribilmente** cattivo dopo con quel sorriso di scherno."
      ],
      "text/plain": [
       "<IPython.core.display.Markdown object>"
      ]
     },
     "metadata": {},
     "output_type": "display_data"
    },
    {
     "data": {
      "text/markdown": [
       "La poesia italiana del Cinquecento perì nella scuola sotto il peso della nuovamai un collo, nè due spalle più voluttuose, ma il seno abilmente impicciolito dal velo aveva ancora un''ampiezza **terribilmente** lasciva; ma la statura, il portamento, l''imperiale maestà del volto appena appena commosso la facevano un tipoLa rivoluzione dell''Italia centrale aveva lasciato nei patriotti un fermento, del quale Mazzini fu pronto a profittare."
      ],
      "text/plain": [
       "<IPython.core.display.Markdown object>"
      ]
     },
     "metadata": {},
     "output_type": "display_data"
    },
    {
     "data": {
      "text/markdown": [
       "Una luce quasi fumida ondeggiò sugli occhi del principe.già a Pietroburgo, ripresa dal bisogno di vivere e di brillare dopo quella lunga solitudine nel castello, ove si era **terribilmente** annoiata."
      ],
      "text/plain": [
       "<IPython.core.display.Markdown object>"
      ]
     },
     "metadata": {},
     "output_type": "display_data"
    },
    {
     "data": {
      "text/markdown": [
       "La predicazione di Gesù, tanto originale pel soffiociviltà ellenica, egli voleva impedirne la rovina, considerava come un supremo dovere il difenderla dai pericoli che **terribilmente** la premevano."
      ],
      "text/plain": [
       "<IPython.core.display.Markdown object>"
      ]
     },
     "metadata": {},
     "output_type": "display_data"
    },
    {
     "data": {
      "text/markdown": [
       "Il popol gli era grato, Perchè soltanto il popolo--era allora appiccato.riaperta agli eserciti di Radetzky; Milano stessa minacciata; ecco le notizie che dal 25 al 30 luglio giungevano **terribilmente** gravi nella Capitale Lombarda."
      ],
      "text/plain": [
       "<IPython.core.display.Markdown object>"
      ]
     },
     "metadata": {},
     "output_type": "display_data"
    },
    {
     "data": {
      "text/markdown": [
       "– Ma la signorina lo rimbeccava **terribilmente** ."
      ],
      "text/plain": [
       "<IPython.core.display.Markdown object>"
      ]
     },
     "metadata": {},
     "output_type": "display_data"
    },
    {
     "data": {
      "text/markdown": [
       "Invece in Iberia, la men felice delle tre novelle, quanto più l''autore accumula e fa grandi le immagini, tantoimmorali, che Paolo e Francesca sono immorali, che tutte queste coppie giovani, deliranti, soavi, poetiche peccano **terribilmente** d''immoralità."
      ],
      "text/plain": [
       "<IPython.core.display.Markdown object>"
      ]
     },
     "metadata": {},
     "output_type": "display_data"
    },
    {
     "data": {
      "text/markdown": [
       "Ma Paolina, ferma al posto, pallida di commozione svolgeva in quel momento nel segreto del cuore una questione **terribilmente** importante per lei."
      ],
      "text/plain": [
       "<IPython.core.display.Markdown object>"
      ]
     },
     "metadata": {},
     "output_type": "display_data"
    },
    {
     "data": {
      "text/markdown": [
       "– Ma la signorina lo rimbeccava **terribilmente**."
      ],
      "text/plain": [
       "<IPython.core.display.Markdown object>"
      ]
     },
     "metadata": {},
     "output_type": "display_data"
    },
    {
     "data": {
      "text/markdown": [
       "Il nome e la cosa in fatto di proprietà collettiva oggi non dovrebbero più spaventare , dopo che un progetto di legge che mira a conseguire tale risultato venne presentato da deputati conservatori eall''udienza del 28 Aprile: Difensore Piccoli: Da che cosa arguisce il teste, che il Fascio di Piana dei Greci fosse così **terribilmente** provocatore?"
      ],
      "text/plain": [
       "<IPython.core.display.Markdown object>"
      ]
     },
     "metadata": {},
     "output_type": "display_data"
    },
    {
     "data": {
      "text/markdown": [
       "Domando io se sono cose da contare a un capitano di cavalleria, che fa vita monastica e rimpiange **terribilmente** l''eterno femminino!"
      ],
      "text/plain": [
       "<IPython.core.display.Markdown object>"
      ]
     },
     "metadata": {},
     "output_type": "display_data"
    },
    {
     "data": {
      "text/markdown": [
       ", ci vuole molta ingenuità--o molta malignità--per meravigliarsi o fingere sorpresa che i primi tumulti siano stati **terribilmente** contagiosi."
      ],
      "text/plain": [
       "<IPython.core.display.Markdown object>"
      ]
     },
     "metadata": {},
     "output_type": "display_data"
    },
    {
     "data": {
      "text/markdown": [
       "Perchè questo fatale convenzionalismo, che deforma la bellezza e mutila l''arte: perchè, essendo grandi,indarno tante tragedie greche senza accorgersi che ogni cronaca dei nostri comuni era affollata di figure ben più **terribilmente** belle che nelle corti di Tebe e di Atene?"
      ],
      "text/plain": [
       "<IPython.core.display.Markdown object>"
      ]
     },
     "metadata": {},
     "output_type": "display_data"
    },
    {
     "data": {
      "text/markdown": [
       "Era una scena **terribilmente** dantesca."
      ],
      "text/plain": [
       "<IPython.core.display.Markdown object>"
      ]
     },
     "metadata": {},
     "output_type": "display_data"
    },
    {
     "data": {
      "text/markdown": [
       "Non ci perdiamo nel vestibolo d''onore, detto del ponte di Jena;Si servivano anche **terribilmente** delle pietre, facendole franare dai monti; pochi uomini robusti, appoggiando le spalle e i gomiti alla roccia, e facendo forza coi piedi o con le leve, smovevano, cacciavan giù dei pietroni enormi, che precipitando si rompevano, davan la mossa ad altri pietroni, squarciavan le colonne, spezzavano dei soldati in due, e portavan via braccia e gambe e file intere, sparpagliandosi come scariche di mitraglia, a cui l''angustia dei luoghi rendeva impossibile di sfuggire."
      ],
      "text/plain": [
       "<IPython.core.display.Markdown object>"
      ]
     },
     "metadata": {},
     "output_type": "display_data"
    },
    {
     "data": {
      "text/markdown": [
       "la chiave di questo affascinante nuovo mondo: \"Il russo--egli dice in _Delitto e Gastigo_--è vasto come la sua patria, **terribilmente** inclinato a tutto quel che è fantastico e disordinato."
      ],
      "text/plain": [
       "<IPython.core.display.Markdown object>"
      ]
     },
     "metadata": {},
     "output_type": "display_data"
    },
    {
     "data": {
      "text/markdown": [
       "Camminavano per una strada abbastanza comoda sulMargherita, e la speranza rassegnata di Alfredo si esprimono col medesimo canto, mentre sentimento e parole sono così **terribilmente** opposti?"
      ],
      "text/plain": [
       "<IPython.core.display.Markdown object>"
      ]
     },
     "metadata": {},
     "output_type": "display_data"
    },
    {
     "data": {
      "text/markdown": [
       "È stata una colpa; ma l''ho espiata con lunghi dolori; la espio **terribilmente** adesso, nella vergogna che mi assale e mi ricopre davanti a voi."
      ],
      "text/plain": [
       "<IPython.core.display.Markdown object>"
      ]
     },
     "metadata": {},
     "output_type": "display_data"
    },
    {
     "data": {
      "text/markdown": [
       "Ti ubriacherai **terribilmente** ."
      ],
      "text/plain": [
       "<IPython.core.display.Markdown object>"
      ]
     },
     "metadata": {},
     "output_type": "display_data"
    },
    {
     "data": {
      "text/markdown": [
       "Provava un malessere inesplicabile, le tempia gli ardevano **terribilmente** , tuttavia nei suoi occhi eravi un''espressione di volontà frenetica, che pareva dovesse tutto piegare a lui dinanzi.Il conto non fu fatto bene, e chi salì la gogna non fu l''accusato."
      ],
      "text/plain": [
       "<IPython.core.display.Markdown object>"
      ]
     },
     "metadata": {},
     "output_type": "display_data"
    },
    {
     "data": {
      "text/markdown": [
       "monacale, discendendo nella vita politica, irrompe con due nuovi ordini di frati profondamente originali e **terribilmente** guerrieri."
      ],
      "text/plain": [
       "<IPython.core.display.Markdown object>"
      ]
     },
     "metadata": {},
     "output_type": "display_data"
    },
    {
     "data": {
      "text/markdown": [
       "Il suo caro amico, monsieur le duc, si era **terribilmente** compromesso!"
      ],
      "text/plain": [
       "<IPython.core.display.Markdown object>"
      ]
     },
     "metadata": {},
     "output_type": "display_data"
    },
    {
     "data": {
      "text/markdown": [
       "Ma doveva essere **terribilmente** tragica la condizione del forte negli ultimi giorni, quando già erano stati costretti a levar via la più parte dei."
      ],
      "text/plain": [
       "<IPython.core.display.Markdown object>"
      ]
     },
     "metadata": {},
     "output_type": "display_data"
    },
    {
     "data": {
      "text/markdown": [
       "I capricci, sopra le tendine, sono di forma indescrivibile, e fanno **terribilmente** a pugni con tutto il resto."
      ],
      "text/plain": [
       "<IPython.core.display.Markdown object>"
      ]
     },
     "metadata": {},
     "output_type": "display_data"
    },
    {
     "data": {
      "text/markdown": [
       "Margherita, e la speranza rassegnata di Alfredo si esprimono col medesimo canto, mentre sentimento e parole sono così **terribilmente** opposti?"
      ],
      "text/plain": [
       "<IPython.core.display.Markdown object>"
      ]
     },
     "metadata": {},
     "output_type": "display_data"
    },
    {
     "data": {
      "text/markdown": [
       "Da parecchie notti mi è impossibile dormire, si è **terribilmente** ingrossato, non sono più dolori, ma spasimi; la natura stessa mi fa sentire il bisogno di aprire una via al male cheChe, se Alberto Pisani ha dovuto servire alla Nazione, passando sotto i lavorini monarchici della uniforme diplomatica, ha pur sempre permesso a Carlo Dossi il piacere della ribellione, quando risponde alla costituzionalità in questo modo:[66] \"Il re costituzionale può essere paragonato ad una meretrice, che è, per così dire, proprietà di chi lo paga, ossia del ministro al potere."
      ],
      "text/plain": [
       "<IPython.core.display.Markdown object>"
      ]
     },
     "metadata": {},
     "output_type": "display_data"
    },
    {
     "data": {
      "text/markdown": [
       "Come la sua fronte si rivolgeva **terribilmente** bianca!"
      ],
      "text/plain": [
       "<IPython.core.display.Markdown object>"
      ]
     },
     "metadata": {},
     "output_type": "display_data"
    },
    {
     "data": {
      "text/markdown": [
       "Eroi della miseria, i francescani protestano colla moltitudine cenciosa contro la nuova privilegiatala propria parte di signore, parve giganteggiare fra le massime figure del tempo, tra i Visconti e gli Scaligeri, così **terribilmente** trionfanti nella storica realtà."
      ],
      "text/plain": [
       "<IPython.core.display.Markdown object>"
      ]
     },
     "metadata": {},
     "output_type": "display_data"
    },
    {
     "data": {
      "text/markdown": [
       ", dieci giorni fa la cercava ancora, interrogava i guerrieri che venivano dal Bahr-el-Abiad, giurava di vendicarsi **terribilmente** di questa donna che lo aveva indegnamente tradito, ed invece è qui e ancor viva."
      ],
      "text/plain": [
       "<IPython.core.display.Markdown object>"
      ]
     },
     "metadata": {},
     "output_type": "display_data"
    },
    {
     "data": {
      "text/markdown": [
       "**terribilmente** odiato...."
      ],
      "text/plain": [
       "<IPython.core.display.Markdown object>"
      ]
     },
     "metadata": {},
     "output_type": "display_data"
    },
    {
     "data": {
      "text/markdown": [
       "Ma qui avviene un fatto strano, impreveduto, un fatto **terribilmente** funesto che basterebbe, anche solo, a provare come fosse poco equilibrata la mente di quel giovane geniale."
      ],
      "text/plain": [
       "<IPython.core.display.Markdown object>"
      ]
     },
     "metadata": {},
     "output_type": "display_data"
    },
    {
     "data": {
      "text/markdown": [
       "un altro, e, sodisfatto dell''attenzione suscitata, riprese, con tono di solennità nella voce: -- Mi son vendicato, **terribilmente** , senza incorrere nel pericolo d''un processo e nella pettegola pubblicità dei giornali!"
      ],
      "text/plain": [
       "<IPython.core.display.Markdown object>"
      ]
     },
     "metadata": {},
     "output_type": "display_data"
    },
    {
     "data": {
      "text/markdown": [
       "Finalmente dietro l''Austria stava l''Europa monarchica vigile ed ostile ad ogni mena di rivoluzione, **terribilmente** armata e pronta a qualunque eccesso."
      ],
      "text/plain": [
       "<IPython.core.display.Markdown object>"
      ]
     },
     "metadata": {},
     "output_type": "display_data"
    },
    {
     "data": {
      "text/markdown": [
       "Tutti gl''istinti malvagi della sua natura rifermentavano, mentre la ragione più **terribilmente** limpida ora gli rivelava la falsità di quei quattro anni."
      ],
      "text/plain": [
       "<IPython.core.display.Markdown object>"
      ]
     },
     "metadata": {},
     "output_type": "display_data"
    },
    {
     "data": {
      "text/markdown": [
       "Diego e Cletto accorsi essi pure allo strazio del povero Fuoco, perdettero il lume della ragione, e mugghiando **terribilmente** si precipitarono in mezzo ai nemici."
      ],
      "text/plain": [
       "<IPython.core.display.Markdown object>"
      ]
     },
     "metadata": {},
     "output_type": "display_data"
    },
    {
     "data": {
      "text/markdown": [
       "per un figlio di pope...  Egli solo forse conservava anche in quel momento tutta l''impassibilità necessaria a tale inintelligibile olocausto, perchè egli solo aveva avuto l''anima così **terribilmente** logica da volerlo."
      ],
      "text/plain": [
       "<IPython.core.display.Markdown object>"
      ]
     },
     "metadata": {},
     "output_type": "display_data"
    },
    {
     "data": {
      "text/markdown": [
       "Ma, sai,per l''abitudine di osservare e di pensare, ma poco addentro nella scienza; per lui povero prete campagnuolo, ciò era **terribilmente** difficile."
      ],
      "text/plain": [
       "<IPython.core.display.Markdown object>"
      ]
     },
     "metadata": {},
     "output_type": "display_data"
    },
    {
     "data": {
      "text/markdown": [
       "Approvo anchio, per quanto una colazione fatta insieme renda **terribilmente** borghese linizio di unamicizia come la nostra... Sar un incontro molto savio e molto poco romantico: quale certo non avrebbero sognato due poeti del secolo addietro: ma Voi non siete George Sand ed io non sono Alfred De Musset."
      ],
      "text/plain": [
       "<IPython.core.display.Markdown object>"
      ]
     },
     "metadata": {},
     "output_type": "display_data"
    },
    {
     "data": {
      "text/markdown": [
       "perchè i francesi non avessero pensato molto tempo prima a costruire un forte sulla cima di quel monte che dominava così **terribilmente** Pinerolo; perchè è certo che del forte di Santa Brigida non c''era ancora segno nell''aprile del 1692, e che i lavori nonIn verità sarebbe curiosa che noi, uomini provati al fuoco delle passioni, facessimo oggi una sconcia caduta!"
      ],
      "text/plain": [
       "<IPython.core.display.Markdown object>"
      ]
     },
     "metadata": {},
     "output_type": "display_data"
    },
    {
     "data": {
      "text/markdown": [
       ", diventa così, senza sforzo, il simbolo di una razza perseguitata e ribelle, e porta a una catastrofe impensata, ma **terribilmente** logica."
      ],
      "text/plain": [
       "<IPython.core.display.Markdown object>"
      ]
     },
     "metadata": {},
     "output_type": "display_data"
    },
    {
     "data": {
      "text/markdown": [
       "Loris salvo, ella sarebbe morta per lui, **terribilmente** bella nella gloria di quell''attentato non riuscito, e nel silenzio sui propri complici, su lui, che la vendicherebbe.Geltrude invece, sperando di rifare il suo bel bambino, per dispetto del marito ne parlava assiduamente, massime a pranzo; così che l''altro, malgrado una qualche bestemmia, dovea pure andarne battuto, avendo piegato la prima volta il capo a quel matrimonio con una donna inferiore, e non avendolo più rialzato, vergognoso della propria debolezza, che gli alterchi avrebbero reso anche più ridicola."
      ],
      "text/plain": [
       "<IPython.core.display.Markdown object>"
      ]
     },
     "metadata": {},
     "output_type": "display_data"
    },
    {
     "data": {
      "text/markdown": [
       "nel panneggiamento di troppi sistemi storici e filosofici, si veniva sbrogliando coll''aiuto delle idee francesi più **terribilmente** logiche e chiare."
      ],
      "text/plain": [
       "<IPython.core.display.Markdown object>"
      ]
     },
     "metadata": {},
     "output_type": "display_data"
    },
    {
     "data": {
      "text/markdown": [
       "--Sì, e **terribilmente** ."
      ],
      "text/plain": [
       "<IPython.core.display.Markdown object>"
      ]
     },
     "metadata": {},
     "output_type": "display_data"
    },
    {
     "data": {
      "text/markdown": [
       "Nessun pittore ha mai dipinto un''Ofelia così **terribilmente** vera da poter reggere il paragone di questa fotografia della Beppina."
      ],
      "text/plain": [
       "<IPython.core.display.Markdown object>"
      ]
     },
     "metadata": {},
     "output_type": "display_data"
    },
    {
     "data": {
      "text/markdown": [
       "–  assurde e di combinazioni impossibili, di reticenze perfide e di sottintesi indicibili, mentre Mazzini sempre **terribilmente** limpido guidava il battaglione sacro delle idee e delle poche forze rivoluzionarie su per l''erta di una nuova epocadella patria."
      ],
      "text/plain": [
       "<IPython.core.display.Markdown object>"
      ]
     },
     "metadata": {},
     "output_type": "display_data"
    },
    {
     "data": {
      "text/markdown": [
       "tavolini, egli tendeva l''orecchio, col capo rovesciato sulla spalliera della sedia a braccioli, gli occhi chiusi, **terribilmente** pallido nella toga nera; tendeva l''orecchio per afferrare da lontano una nota di quell''insolito cantare di sua moglie--Non ho paura di nessuno--rispose alteramente il signor Kyllea.--Sono suddito inglese!..."
      ],
      "text/plain": [
       "<IPython.core.display.Markdown object>"
      ]
     },
     "metadata": {},
     "output_type": "display_data"
    },
    {
     "data": {
      "text/markdown": [
       "Loris salvo, ella sarebbe morta per lui, **terribilmente** bella nella gloria di quell''attentato non riuscito, e nel silenzio sui propri complici, su lui, che la vendicherebbe.condizione in faccia al principe."
      ],
      "text/plain": [
       "<IPython.core.display.Markdown object>"
      ]
     },
     "metadata": {},
     "output_type": "display_data"
    },
    {
     "data": {
      "text/markdown": [
       "La ho vista nuda e la sua nudità era allora **terribilmente** lasciva...; invece calma, gelida mi guardava colle grandi pupille azzurre, inesplicabilmente curiose, mentrein fondo all''orizzonte."
      ],
      "text/plain": [
       "<IPython.core.display.Markdown object>"
      ]
     },
     "metadata": {},
     "output_type": "display_data"
    },
    {
     "data": {
      "text/markdown": [
       "Tu nonsenza le carte, ci pensavo il giorno e la notte, e le vicende del giuoco unite al liquore di Bacco mi agitavano il sonno **terribilmente** ."
      ],
      "text/plain": [
       "<IPython.core.display.Markdown object>"
      ]
     },
     "metadata": {},
     "output_type": "display_data"
    },
    {
     "data": {
      "text/markdown": [
       "Era accompagnata da una copia di decreto del re che cassava la capitolazione, istituiva una Giunta di Stato cheil proprio astuccio di sigarette: la voce di sua moglie, il suo entusiasmo pel teatro di Wagner, gli urtano i nervi **terribilmente** ."
      ],
      "text/plain": [
       "<IPython.core.display.Markdown object>"
      ]
     },
     "metadata": {},
     "output_type": "display_data"
    },
    {
     "data": {
      "text/markdown": [
       "Ma egli sentiva l''inutilità del suo ardore; e una stanchezza mortale, uno sfiduciamento scettico s''per l''abitudine di osservare e di pensare, ma poco addentro nella scienza; per lui povero prete campagnuolo, ciò era **terribilmente** difficile."
      ],
      "text/plain": [
       "<IPython.core.display.Markdown object>"
      ]
     },
     "metadata": {},
     "output_type": "display_data"
    },
    {
     "data": {
      "text/markdown": [
       "il nome della contessa Savina come la cosa più naturale del mondo... ne sono rimasto colpito... e mi hai fatto **terribilmente** soffrire.... Ora che è passata, ti prego di dirmi, come mai ti è entrata in testa una simile dabbenaggine!..."
      ],
      "text/plain": [
       "<IPython.core.display.Markdown object>"
      ]
     },
     "metadata": {},
     "output_type": "display_data"
    },
    {
     "data": {
      "text/markdown": [
       ", sebbene inclinasse ai monarchiani, trovò una formola di conciliazione che non accontentò i partiti rivali, ma che, **terribilmente** oscura e tutta composta di frasi contradditorie, pose il mistero e l''incomprensibile come elementi essenziali dellasuo fondatore, era la pura espressione di un sentimento morale, l''aspirazione ad un ideale di giustizia, una protesta **terribilmente** eloquente nella sua mitezza contro le iniquità del mondo."
      ],
      "text/plain": [
       "<IPython.core.display.Markdown object>"
      ]
     },
     "metadata": {},
     "output_type": "display_data"
    },
    {
     "data": {
      "text/markdown": [
       "aggrappati a sporgenze rocciose quasi impercettibili, sospesi a mezza costa con un abisso sul capo ed uno ai piedi, **terribilmente** pittoreschi, dei quali l''estate nasconde il miserrimo aspetto e l''inverno rivela l''esistenza sempre pericolante., con voci umane di preghiera e di lamento, con grida umane di gioia, con bassi accenti umani di rimprovero e acuti di angoscia , esprimendo, compendiando, commentando le precoci torture della mia adolescenza, le mie caldezze d''amore e leOra, vecchio, non faceva più nulla; all''albergo pensava la figliuola, la quale, nata quando già il padre prosperava, era chiamata mademoiselle dai forestieri, e soura Gin [signora Giovannina] da quelli di casa; mentre al padrone, venuto su dal nulla, il nome di Pèro [Pietro] non s''era mai potuto nobilitare con un sour, ed era somma grazia se negli ultimi anni, più la pancia che la dignità, lo avevano fatto chiamare Barba Gris [zio grigio]."
      ],
      "text/plain": [
       "<IPython.core.display.Markdown object>"
      ]
     },
     "metadata": {},
     "output_type": "display_data"
    },
    {
     "data": {
      "text/markdown": [
       "Quando però le vedeva piangere e **terribilmente** soffrire per le ansietà di un pericolo che le teneva sospese tra la vita e la morte e poteva produrre, tutt''a un tratto,--Non sarà necessario di farne un minatore--risponde con gravità Roberto--ma sarà necessario, a ogni modo, di farne un uomo che affronti coraggiosamente le difficoltà della vita."
      ],
      "text/plain": [
       "<IPython.core.display.Markdown object>"
      ]
     },
     "metadata": {},
     "output_type": "display_data"
    },
    {
     "data": {
      "text/markdown": [
       "aggrappati a sporgenze rocciose quasi impercettibili, sospesi a mezza costa con un abisso sul capo ed uno ai piedi, **terribilmente** pittoreschi, dei quali l''estate nasconde il miserrimo aspetto e l''inverno rivela l''esistenza sempre pericolante.Ma poi pensando d'' aver qualche cosa di più interessante pel capo, ripigliò ridendo:  --No, non voglio avere ancora danaro da te, se non me lo sarò meritato."
      ],
      "text/plain": [
       "<IPython.core.display.Markdown object>"
      ]
     },
     "metadata": {},
     "output_type": "display_data"
    },
    {
     "data": {
      "text/markdown": [
       "Dio ècavalieri, condotti dal vecchio Abu Ben Gileli, il caid delle cinquanta bastonate, il quale mi lancia uno sguardo **terribilmente** espressivo rasente la schiena."
      ],
      "text/plain": [
       "<IPython.core.display.Markdown object>"
      ]
     },
     "metadata": {},
     "output_type": "display_data"
    },
    {
     "data": {
      "text/markdown": [
       "Marco doveva accorgersi che qualche cosa di **terribilmente** penoso accadeva dentro di me."
      ],
      "text/plain": [
       "<IPython.core.display.Markdown object>"
      ]
     },
     "metadata": {},
     "output_type": "display_data"
    },
    {
     "data": {
      "text/markdown": [
       "d''uno degli interminabili discorsi sconclusionati della signora Giuditta, le si vedevano tutti i denti irrompere **terribilmente** fuori dalla bocca; ed ella s''affrettava con ambe le mani a respingerli dentro, e li rimetteva a posto a bocca chiusa, conQuesto avviene se il soggetto è preparato a diversi movimenti di reazione, ad es., a un movimento colla mano destra o sinistra, oppure con una qualsiasi delle dieci dita, ma deve compiere ogni singolo movimento solo quando agisca un''impressione di una certa qualità, che per quel singolo movimento è stabilito valga di motivo; ad es., l''impressione bleu per il movimento a destra, rossa per quello a sinistra."
      ],
      "text/plain": [
       "<IPython.core.display.Markdown object>"
      ]
     },
     "metadata": {},
     "output_type": "display_data"
    },
    {
     "data": {
      "text/markdown": [
       "già a Pietroburgo, ripresa dal bisogno di vivere e di brillare dopo quella lunga solitudine nel castello, ove si era **terribilmente** annoiata."
      ],
      "text/plain": [
       "<IPython.core.display.Markdown object>"
      ]
     },
     "metadata": {},
     "output_type": "display_data"
    },
    {
     "data": {
      "text/markdown": [
       "Ma da due anni in qua i salarî ribassano **terribilmente** e c''è una triste concorrenza nel lavoro che i mietitori di una contrada vanno a fare a quelli di un''altra; concorrenza,, ci vuole molta ingenuità--o molta malignità--per meravigliarsi o fingere sorpresa che i primi tumulti siano stati **terribilmente** contagiosi."
      ],
      "text/plain": [
       "<IPython.core.display.Markdown object>"
      ]
     },
     "metadata": {},
     "output_type": "display_data"
    }
   ],
   "source": [
    "find_sentences_with_keyword(document7, 'terribilmente')"
   ]
  },
  {
   "cell_type": "markdown",
   "id": "9456f010",
   "metadata": {},
   "source": [
    "### Zeitraum 8: 1926-1950"
   ]
  },
  {
   "cell_type": "code",
   "execution_count": 29,
   "id": "da7e8bbd",
   "metadata": {},
   "outputs": [],
   "source": [
    "text8 = ''\n",
    "for i in df8.text:\n",
    "    text8 += i"
   ]
  },
  {
   "cell_type": "code",
   "execution_count": 30,
   "id": "3626f944",
   "metadata": {},
   "outputs": [],
   "source": [
    "document8 = nltk.sent_tokenize(text8)"
   ]
  },
  {
   "cell_type": "code",
   "execution_count": 31,
   "id": "33b1b211",
   "metadata": {},
   "outputs": [
    {
     "data": {
      "text/markdown": [
       "; e di cose molto serie... non c''è da essere in pensiero: ma ciò non toglie che in un modo o nell''altro vi rendete **terribilmente** preziosa... NINÌ (dal fondo) Olgiati!"
      ],
      "text/plain": [
       "<IPython.core.display.Markdown object>"
      ]
     },
     "metadata": {},
     "output_type": "display_data"
    },
    {
     "data": {
      "text/markdown": [
       "Io non ero malvagio, ma i miei re erano **terribilmente** feroci, e inesorabili."
      ],
      "text/plain": [
       "<IPython.core.display.Markdown object>"
      ]
     },
     "metadata": {},
     "output_type": "display_data"
    },
    {
     "data": {
      "text/markdown": [
       "E tutta la sensibilità che ancor viveva in lui, fremeva di sgomento all''idea di essere stato ripreso da quel fascino; non si sentiva più la forza morale per quelle lotte e il risultato nonAl bivio formidabile: di vivere peccando o di.....  bacio la sua bocca ansante, sollevò il corpo su le due braccia tese: gli occhi suoi bruciavano di febbre, il suo viso era **terribilmente** contraffatto, i suoi polsi tremavano."
      ],
      "text/plain": [
       "<IPython.core.display.Markdown object>"
      ]
     },
     "metadata": {},
     "output_type": "display_data"
    },
    {
     "data": {
      "text/markdown": [
       "Gli animali, assaliti e paurosi, prendevano **terribilmente** la forma del loro scheletro; gli uomini, allucinati, non parlavano più."
      ],
      "text/plain": [
       "<IPython.core.display.Markdown object>"
      ]
     },
     "metadata": {},
     "output_type": "display_data"
    },
    {
     "data": {
      "text/markdown": [
       "Massimiliana, **terribilmente** pallida, con le labbra quasi scomparse, le porse una mano che scottava; e tenendola a quel modo, la accompagnò fino alil passato e creava l''avvenire."
      ],
      "text/plain": [
       "<IPython.core.display.Markdown object>"
      ]
     },
     "metadata": {},
     "output_type": "display_data"
    },
    {
     "data": {
      "text/markdown": [
       "bacio la sua bocca ansante, sollevò il corpo su le due braccia tese: gli occhi suoi bruciavano di febbre, il suo viso era **terribilmente** contraffatto, i suoi polsi tremavano."
      ],
      "text/plain": [
       "<IPython.core.display.Markdown object>"
      ]
     },
     "metadata": {},
     "output_type": "display_data"
    },
    {
     "data": {
      "text/markdown": [
       "Il cielo azzurro non era tuttavia lieto e doveva riuscire **terribilmente** feroce, a quanti soffrivano; di tanto in tanto, dei periodi di vento furioso facevano discendere la temperatura,Queste cose vanno sempre a finir male; e se l''avventura è come si racconta, Flopi ha perduto la testa davvero."
      ],
      "text/plain": [
       "<IPython.core.display.Markdown object>"
      ]
     },
     "metadata": {},
     "output_type": "display_data"
    },
    {
     "data": {
      "text/markdown": [
       "Era ammalato , **terribilmente** ammalato : e non lo diceva ."
      ],
      "text/plain": [
       "<IPython.core.display.Markdown object>"
      ]
     },
     "metadata": {},
     "output_type": "display_data"
    },
    {
     "data": {
      "text/markdown": [
       "+IBQ- Aj, Dios mio +IBM- sospir+API- l+IBk-uomo della botte +IBM- io soffro **terribilmente** il mal di mare... e questo sballott+AOw-o... mi strazia le viscere...   +IBQ- Dormite, se+APE-or+ACE- +IBM- disse Guglielmo Barbarugo in tono paterno +IBM- non saprei darvi miglior consiglio... Pu+API- succedere che, a furia di sentirvi male, cessiate di soffrire e anzi, che il moto continuo vi faccia bene... +IBQ-   Dopo questo sensato discorso, il prode filibustiere si avvolse una corda intorno alla vita e si leg+API- all+IBk-albero+ADs- poi incroci+API- le braccia sul petto, e stando sempre a cavalcioni della botte, come una bizzarra deit+AOA- delle acque, si pose a sonnecchiare, rivedendo nel dormiveglia le scene strane e terribili delle sue imprese eroiche...   All+IBk-alba la botte-nave o la nave-botte, come volete chiamarla, galleggiava al largo da ogni costa, sopra un mare appena increspato da un vento lieve di Mezzogiorno."
      ],
      "text/plain": [
       "<IPython.core.display.Markdown object>"
      ]
     },
     "metadata": {},
     "output_type": "display_data"
    },
    {
     "data": {
      "text/markdown": [
       "È un volto **terribilmente** bello per l'estrema sofferenza che lo affina, per la felicità insostenibile che gli riempie gli occhi di bruciante tenerezza."
      ],
      "text/plain": [
       "<IPython.core.display.Markdown object>"
      ]
     },
     "metadata": {},
     "output_type": "display_data"
    },
    {
     "data": {
      "text/markdown": [
       "Pensò anche all’avvenire che le si presentava **terribilmente** incerto per lei non giovanissima e con quei due fratelli strambi ed abulici, dai quali sarebbe stato ingenuo sperare appoggio; e alla quarta domanda d’Emilio disse di sì."
      ],
      "text/plain": [
       "<IPython.core.display.Markdown object>"
      ]
     },
     "metadata": {},
     "output_type": "display_data"
    },
    {
     "data": {
      "text/markdown": [
       "In me il ricordo di quella giornata è **terribilmente** lucido e angoscioso, come se al solo parlarne la rivivessi intera in ogni suo minuto."
      ],
      "text/plain": [
       "<IPython.core.display.Markdown object>"
      ]
     },
     "metadata": {},
     "output_type": "display_data"
    },
    {
     "data": {
      "text/markdown": [
       "Guardandola, mi ricordavo con una sensazione **terribilmente** chiara il sapore che avevano le sue labbra nei baci d''amore; qualcosa di lei passava traverso le mie vene prodigandomistate udite da tutti."
      ],
      "text/plain": [
       "<IPython.core.display.Markdown object>"
      ]
     },
     "metadata": {},
     "output_type": "display_data"
    },
    {
     "data": {
      "text/markdown": [
       "Caterina ( **terribilmente** ) La morte!"
      ],
      "text/plain": [
       "<IPython.core.display.Markdown object>"
      ]
     },
     "metadata": {},
     "output_type": "display_data"
    },
    {
     "data": {
      "text/markdown": [
       "Ma ora, il desiderio di conoscere come vivi e dirticiò che non vuole spegnersi:–e più **terribilmente** di noi questi uccisi amavano la vita."
      ],
      "text/plain": [
       "<IPython.core.display.Markdown object>"
      ]
     },
     "metadata": {},
     "output_type": "display_data"
    },
    {
     "data": {
      "text/markdown": [
       "Io, alla vostra età--parlavo con un giovane amico--ero **terribilmente** romantico ed idealista."
      ],
      "text/plain": [
       "<IPython.core.display.Markdown object>"
      ]
     },
     "metadata": {},
     "output_type": "display_data"
    },
    {
     "data": {
      "text/markdown": [
       "di incomparabile potenza e le disperate grida noi non le abbiamo udite, perchè suonava così giocondamente, così **terribilmente** la \"Marsigliese\" che non si potevano udire!"
      ],
      "text/plain": [
       "<IPython.core.display.Markdown object>"
      ]
     },
     "metadata": {},
     "output_type": "display_data"
    },
    {
     "data": {
      "text/markdown": [
       "Ha cappello da convesso-ombelicato spianato-depresso o quasi imbutiforme, col margine da prima rivolto verso le lamelle e bianco-pruinato, viscoso, di color ranciato-vinoso, poi ranciato-auroreo con macchie verde-rame, a zone più marcate che spariscono con l''età; lamelle spesse, sottili verso il gambo, attaccate e leggermente scorrenti sullo stesso, di color roseo, carnicino o violaceo-livido, volgenti al ranciato nel fungo adulto e macchiate di verde; gambo pieno o raramente cavo, attenuato verso la base, rosso-sanguigno o roseo, poi del colore del cappello, da prima coperto d''una pruina bianca, sovente a fossette con tinta più forte e colle medesime macchie verde-rame del cappello e delle lamelle,  A Trento si trova sotto gli ippocastani al passeggio del Fersina e nei viali ai giardini della Stazione, dal Seminario al ponte di S.  ; e di cose molto serie... non c''è da essere in pensiero: ma ciò non toglie che in un modo o nell''altro vi rendete **terribilmente** preziosa... NINÌ (dal fondo) Olgiati!"
      ],
      "text/plain": [
       "<IPython.core.display.Markdown object>"
      ]
     },
     "metadata": {},
     "output_type": "display_data"
    },
    {
     "data": {
      "text/markdown": [
       ", con parole d''amore tra i singhiozzi, con laceramenti così acuti di voce rotta e con una espressione di dolore così **terribilmente** bestiale che per tutti gli astanti corse un brivido e tutti rivolsero altrove la faccia."
      ],
      "text/plain": [
       "<IPython.core.display.Markdown object>"
      ]
     },
     "metadata": {},
     "output_type": "display_data"
    },
    {
     "data": {
      "text/markdown": [
       "Il cielo azzurro non era tuttavia lieto e doveva riuscire **terribilmente** feroce, a quanti soffrivano; di tanto in tanto, dei periodi di vento furioso facevano discendere la temperatura,più volte agli occhi di Nicla, interrogativi e solleciti."
      ],
      "text/plain": [
       "<IPython.core.display.Markdown object>"
      ]
     },
     "metadata": {},
     "output_type": "display_data"
    },
    {
     "data": {
      "text/markdown": [
       "loro influenze e delle loro relazioni, lo straniero, che non ha nessuno di questi pesi da mettervi, trova la bilancia **terribilmente** difettosa."
      ],
      "text/plain": [
       "<IPython.core.display.Markdown object>"
      ]
     },
     "metadata": {},
     "output_type": "display_data"
    },
    {
     "data": {
      "text/markdown": [
       "Vedevo il pesante suggello d''ombra sotto il chiarore de'' suoi occhi dorati; ma questo visibile artifizio le stava **terribilmente** bene, rendeva il suo volto meno puro, gli dava uno splendore più torbido, una bellezza più tormentata."
      ],
      "text/plain": [
       "<IPython.core.display.Markdown object>"
      ]
     },
     "metadata": {},
     "output_type": "display_data"
    },
    {
     "data": {
      "text/markdown": [
       "Quei pittori, quegli architetti di interni, quei critici d’arte, che quando capitavano insieme facevano un gran baccano con le loro discussioni estetiche – e quel che è peggio non compravano nulla – davano **terribilmente** ai nervi ai due proprietarii."
      ],
      "text/plain": [
       "<IPython.core.display.Markdown object>"
      ]
     },
     "metadata": {},
     "output_type": "display_data"
    },
    {
     "data": {
      "text/markdown": [
       "Per quanto tocca in special modo la interdipendenza delle nazioni tra di loro, e della vita e della prosperità di ciascuna da quella delle altre, l'ultima grande guerra ha fornito anche a chi poteva dubitarne una prova **terribilmente** patente e ha lasciato intravedere quanto più larga e più grave conferma preparerebbe una guerra avvenire."
      ],
      "text/plain": [
       "<IPython.core.display.Markdown object>"
      ]
     },
     "metadata": {},
     "output_type": "display_data"
    },
    {
     "data": {
      "text/markdown": [
       "Però è doloroso, profondamente doloroso per l’unico italiano presente ad Albertville alla cerimonia ufficiale del Comando, come per tutti gli italiani che in patria e fuori dei suoi confini amano la loro terra, è **terribilmente** doloroso che proprio noi che abbiamo tante braccia disponibili, che dobbiamo pagare a prezzo di sudore amaro, in franchi, in dollari e sterline il pane quotidiano dei nostri telai, laminatoi, alti forni, frantatoi, lambicchi, proprio noi dobbiamo venire come potenza coloniale dopo il Belgio, l’Olanda, il Portogallo!"
      ],
      "text/plain": [
       "<IPython.core.display.Markdown object>"
      ]
     },
     "metadata": {},
     "output_type": "display_data"
    },
    {
     "data": {
      "text/markdown": [
       "--Ho paura, dice Bianca, penso che mi farai soffrire, **terribilmente** soffrire."
      ],
      "text/plain": [
       "<IPython.core.display.Markdown object>"
      ]
     },
     "metadata": {},
     "output_type": "display_data"
    },
    {
     "data": {
      "text/markdown": [
       "Io non son stata gelosa, finchè ti ebbi: lo diverrò **terribilmente** quando sarai lontano."
      ],
      "text/plain": [
       "<IPython.core.display.Markdown object>"
      ]
     },
     "metadata": {},
     "output_type": "display_data"
    },
    {
     "data": {
      "text/markdown": [
       "Ma il figlio del banchiere a Londra pensò **terribilmente** ai milioni della vecchia zia, doña Isabel."
      ],
      "text/plain": [
       "<IPython.core.display.Markdown object>"
      ]
     },
     "metadata": {},
     "output_type": "display_data"
    },
    {
     "data": {
      "text/markdown": [
       "d''un bicchiere troppo colmo, nella fuggitiva illusione d''una parola d''amore, l''uomo che saprà d''un tratto farle **terribilmente** male, contorcere fino allo spasimo la sua perduta e bianca nudità."
      ],
      "text/plain": [
       "<IPython.core.display.Markdown object>"
      ]
     },
     "metadata": {},
     "output_type": "display_data"
    },
    {
     "data": {
      "text/markdown": [
       "Non credete alle donne straordinarie, che si divertono a parer complicate come il teorema di Pitagora, nè a quelle **terribilmente** fastidiose che ogni e qualsiasi volta rallentano i loro perfidi ginocchi suppongono di essere diventate una secondaForse gli si può fare rimprovero di essere stato il primo; ma è verosimile che fra gli scrittori non sia nemmeno l''ultimo."
      ],
      "text/plain": [
       "<IPython.core.display.Markdown object>"
      ]
     },
     "metadata": {},
     "output_type": "display_data"
    },
    {
     "data": {
      "text/markdown": [
       "Bianca aveva finito per odiare **terribilmente** la giapponese come solo sa odiare una madre, ma nascondeva per riguardo verso Roberto il suo sentimento sotto un contegno disinvolto, altrettanto freddo che cortese."
      ],
      "text/plain": [
       "<IPython.core.display.Markdown object>"
      ]
     },
     "metadata": {},
     "output_type": "display_data"
    },
    {
     "data": {
      "text/markdown": [
       "eravate veramente un uomo senza cuore, gelido e sciupato, al quale restava negli occhi, forse nell''anima, qualcosa di **terribilmente** lontano, che altre portarono via, qualcosa di amaro, di aspro, d''insensibile... Mi piacevate allora, e dopo di alloraEgli era allora re più di tutti i re, egli era imperatore più di tutti gli imperatori, egli era, in quel giorno, il popolo, era la rivoluzione."
      ],
      "text/plain": [
       "<IPython.core.display.Markdown object>"
      ]
     },
     "metadata": {},
     "output_type": "display_data"
    },
    {
     "data": {
      "text/markdown": [
       "Ma invece il suo freddo cuore dormiva nei sensi **terribilmente** innamorati; ella si avvolgeva nel vizio con una specie di opaca ira, voleva essere una dura e splendida cortigiana, perE non pensate voi alla vostra vita, se foste nata una povera donna, Madlen?"
      ],
      "text/plain": [
       "<IPython.core.display.Markdown object>"
      ]
     },
     "metadata": {},
     "output_type": "display_data"
    },
    {
     "data": {
      "text/markdown": [
       "Ella ne conveniva tra sè; apertamente non, i contrasti, le divagazioni, le schermaglie non potevano far altro che giovare ai nemici: \"Pensate che si va addietro **terribilmente** , che i nostri padroni se ne giovano a riconciliarsi con atti di clemenza in favor di molti, che l''Austria conquista più, mescolate a grandi sghignazzamenti, una canzone di voce briaca, un ritornello di fischi e di grida."
      ],
      "text/plain": [
       "<IPython.core.display.Markdown object>"
      ]
     },
     "metadata": {},
     "output_type": "display_data"
    },
    {
     "data": {
      "text/markdown": [
       "Il tuo padrigno, in una condizione tanto difficile, non poteva mostrare più tatto, piùquel che era dietro, nella notte, ora le pareva sogno confuso; s''esalava il fervore del vóto; la volontà, tesa così **terribilmente** fino a quel punto, s''allentava, s''annientava."
      ],
      "text/plain": [
       "<IPython.core.display.Markdown object>"
      ]
     },
     "metadata": {},
     "output_type": "display_data"
    },
    {
     "data": {
      "text/markdown": [
       "– Conoscimi – ella diceva – conoscimi, prima che io mi separi da te, prima che tu mi, con parole d''amore tra i singhiozzi, con laceramenti così acuti di voce rotta e con una espressione di dolore così **terribilmente** comica che per tutti li astanti corse un brivido e tutti rivolsero altrove la faccia."
      ],
      "text/plain": [
       "<IPython.core.display.Markdown object>"
      ]
     },
     "metadata": {},
     "output_type": "display_data"
    },
    {
     "data": {
      "text/markdown": [
       "Non dubitare: appena avr+API- riconquistato il dominio del mare, ti nominer+API- mio erede universale... E quei cani dei tuoi vili compagni morranno+ACE- Il Corsaro Azzurro sa premiare gli amici fedeli e punire **terribilmente** i traditori... +IBQ-   Intanto sul ponte del vascello il banchetto era cominciato in mezzo all+IBk-entusiasmo generale."
      ],
      "text/plain": [
       "<IPython.core.display.Markdown object>"
      ]
     },
     "metadata": {},
     "output_type": "display_data"
    },
    {
     "data": {
      "text/markdown": [
       "Ma noi, Madlen,–voi ed io, Madlen,–certo non... voleva dire insomma, che per quanto avessi provato a concedergli tutta me stessa, in me c''era un''altra donna che **terribilmente** non voleva... Anzi non dovete maravigliarvi: sono già quattro anni che vivo a questo modo, fra donne che vendono eErano due perfette cortigiane, due creature gloriose di tutto lo sfarzo che può essere nella bellezza umana, ed avevano dato sè stesse al piacere altrui."
      ],
      "text/plain": [
       "<IPython.core.display.Markdown object>"
      ]
     },
     "metadata": {},
     "output_type": "display_data"
    },
    {
     "data": {
      "text/markdown": [
       "Qualcosa di **terribilmente** feroce stava nell''occhio torbido sotto i fasci de'' muscoli cigliari contratti e fermi come se fossero stati di ferro.–Dov'' è questo giardino?"
      ],
      "text/plain": [
       "<IPython.core.display.Markdown object>"
      ]
     },
     "metadata": {},
     "output_type": "display_data"
    },
    {
     "data": {
      "text/markdown": [
       "Guardandola, mi ricordavo con una sensazione **terribilmente** chiara il sapore che avevano le sue labbra nei baci d''amore; qualcosa di lei passava traverso le mie vene prodigandomiÈ stata la Bettina a dire: \"Se no te vien, xe prova che no te me voi ben\"."
      ],
      "text/plain": [
       "<IPython.core.display.Markdown object>"
      ]
     },
     "metadata": {},
     "output_type": "display_data"
    },
    {
     "data": {
      "text/markdown": [
       "Lo zuccone che soffriva **terribilmente** di gelosia, e sempre, solo a nominargli Andromaco o Ninotto, copriva Egle di sputi, questa volta si contentò di darlesulla mia nuca, il suo odore di fieno nelle narici, incominciai a frugare in tutti gli angoli del mio cervello divenuto **terribilmente** lucido, e credetti di indovinare, di scoprire la verità."
      ],
      "text/plain": [
       "<IPython.core.display.Markdown object>"
      ]
     },
     "metadata": {},
     "output_type": "display_data"
    },
    {
     "data": {
      "text/markdown": [
       "I bambù che crescono abbondantemente fra le canne zuccherine ci hanno riempito la biancheria dei loro peletti neri che pizzicano **terribilmente**."
      ],
      "text/plain": [
       "<IPython.core.display.Markdown object>"
      ]
     },
     "metadata": {},
     "output_type": "display_data"
    },
    {
     "data": {
      "text/markdown": [
       "Sono fiumi capricciosi, d’origine incerta e di corso irregolare, che scorrazzano attraverso i monti e le pianure tonkinesi, a volte imponenti e gonfi d’acqua procellosa, a volte ridotti dalla magra un semplice colaticcio di fango fetente, **terribilmente** rosso, così rosso da sembrare lo spurgo d’un fantastico macello."
      ],
      "text/plain": [
       "<IPython.core.display.Markdown object>"
      ]
     },
     "metadata": {},
     "output_type": "display_data"
    },
    {
     "data": {
      "text/markdown": [
       "Oggi mi sembrate una superba miss, **terribilmente** inglese, che dietro la sua gelida e splendente bellezza nasconda una specie di sorda ostilità contro il genere umano,–dell''amore democratico: \"Innamorarsi.\""
      ],
      "text/plain": [
       "<IPython.core.display.Markdown object>"
      ]
     },
     "metadata": {},
     "output_type": "display_data"
    },
    {
     "data": {
      "text/markdown": [
       "Non fosti mai--confessalo!-- non fosti mai più **terribilmente** felice!..."
      ],
      "text/plain": [
       "<IPython.core.display.Markdown object>"
      ]
     },
     "metadata": {},
     "output_type": "display_data"
    },
    {
     "data": {
      "text/markdown": [
       "Gira sempre in traccia di lavoro; passa daloro influenze e delle loro relazioni, lo straniero, che non ha nessuno di questi pesi da mettervi, trova la bilancia **terribilmente** difettosa."
      ],
      "text/plain": [
       "<IPython.core.display.Markdown object>"
      ]
     },
     "metadata": {},
     "output_type": "display_data"
    },
    {
     "data": {
      "text/markdown": [
       "Ne'' miei sensi traboccava la memoria di altre cose infinite, cose daanni, pallida, un poco emaciata, con grandi occhi scuri, troppo fissi, ove la giovinezza era già spenta; gli occhi **terribilmente** lascivi e dolorosi delle pazze in Cristo, gli occhi senza umanità ch''ebbero tutte le allucinate, le portatrici diPoi fu tutta una danza serpentina, circoscritta nel raggio di pochi metri, l''uomo fra le corna del toro, di qua, di là, da tergo, di fianco, di fronte,–fantastica ridda e maravigliosa: il toro con tutta la sua forza, l''uomo con tutta la sua temerità."
      ],
      "text/plain": [
       "<IPython.core.display.Markdown object>"
      ]
     },
     "metadata": {},
     "output_type": "display_data"
    },
    {
     "data": {
      "text/markdown": [
       "E, una sera, poichè Eva apriva con un gesto di malumore una nuova lettera inconcludente del consigliere Faber, Pierino si piantò dinanzi a sua moglie, incastrò nell''occhio la caramella e, tutto d''un fiato, così come si getta in acqua chi ha paura dell''acqua, tenne, velocissimamente, il seguente discorso:  sentimentale, a vederla così disperata, schiantata... Ha tanta pietà e tanta simpatia... E, poichè veder soffrire è spesso una buona occasione per cominciare ad amare, Fiorvante, sollevandola da terra dove s''è rovesciata con le sue lacrime ecolmi di stelle, tutto ciò che porta gli uomini verso il terrestre paradiso, tutto ciò che non vuole spegnersi:–e più **terribilmente** di noi questi uccisi amavano la vita."
      ],
      "text/plain": [
       "<IPython.core.display.Markdown object>"
      ]
     },
     "metadata": {},
     "output_type": "display_data"
    },
    {
     "data": {
      "text/markdown": [
       "è creduto di amare, ad una creatura fragile come l''ambra e pallida come la cera, è mai possibile tenere un discorso così **terribilmente** logico e crudele?"
      ],
      "text/plain": [
       "<IPython.core.display.Markdown object>"
      ]
     },
     "metadata": {},
     "output_type": "display_data"
    },
    {
     "data": {
      "text/markdown": [
       "Ci si sente in complesso **terribilmente** disgraziati, e dareste tutti i milioni dell’amabile lord e tutti gli ingegnosi brevetti del suo fornitore di tende esotiche per un alito di zeffiro primaverile, per un quarto d’ora di brezza montanina, per una di quelle soavissime ventate d’alpe italica, che scaturiscono dalle profondità cupe di una gola boschiva e vi penetrano in gola con tutti gli aromi umidi della terra fresca."
      ],
      "text/plain": [
       "<IPython.core.display.Markdown object>"
      ]
     },
     "metadata": {},
     "output_type": "display_data"
    },
    {
     "data": {
      "text/markdown": [
       "--in pari tempo: --Sergio è venuto nella certezza della mia colpa in séguito a un fatto molto semplice: io ho ricevuta ieri una lettera, della quale non ho creduto di riferire il senso, perchè non potevo supporre vi si annettesse undiffusa; anch''egli si contentava dei pochi viali fiancheggiati da villini brutti, e s''era avvezzo alle costruzioni **terribilmente** antipatiche di quegli alberghi nei quali si mangiava malissimo e dai quali si vedeva una sfilata di capanne tozze, una."
      ],
      "text/plain": [
       "<IPython.core.display.Markdown object>"
      ]
     },
     "metadata": {},
     "output_type": "display_data"
    },
    {
     "data": {
      "text/markdown": [
       "Lo zuccone che soffriva **terribilmente** di gelosia, e sempre, solo a nominargli Andromaco o Ninotto, copriva Egle di sputi, questa volta si contentò di darlequando l''incubo ci desta improvvisamente in piena notte e il buio e la solitudine sono come un baratro che ci riempie di spavento , o quando, malati, la febbre suscita sinistri fantasmi da ogni angolo della stanza, la nostra fantasia scopre trattiCon un gesto rapido, violento, strappò dal suo collo la collana con lo smeraldo e la scagliò dinnanzi a sè gridando:--E io ti odio!"
      ],
      "text/plain": [
       "<IPython.core.display.Markdown object>"
      ]
     },
     "metadata": {},
     "output_type": "display_data"
    },
    {
     "data": {
      "text/markdown": [
       "Di solito innocui quando sono isolati e lasciati in pace, gli ippopotami diventano **terribilmente** aggressivi quando sono attaccati in branco."
      ],
      "text/plain": [
       "<IPython.core.display.Markdown object>"
      ]
     },
     "metadata": {},
     "output_type": "display_data"
    },
    {
     "data": {
      "text/markdown": [
       "52  ﻿Mario Appelius Le isole del Raggio Verde   A MIO PADRE TRA CIELO E MARE   I grandi volatori transoceanici che con uno o due salti formidabili balzano da un continente all'altro stanno rimpicciolendo **terribilmente** i viaggi «vecchio stile» per mare."
      ],
      "text/plain": [
       "<IPython.core.display.Markdown object>"
      ]
     },
     "metadata": {},
     "output_type": "display_data"
    },
    {
     "data": {
      "text/markdown": [
       "Massimiliana, **terribilmente** pallida, con le labbra quasi scomparse, le porse una mano che scottava; e tenendola a quel modo, la accompagnò fino alDove non è riuscito Sella, riuscirà Minghetti, riuscirà Spaventa, riuscirà fors'' anche Bonghi."
      ],
      "text/plain": [
       "<IPython.core.display.Markdown object>"
      ]
     },
     "metadata": {},
     "output_type": "display_data"
    },
    {
     "data": {
      "text/markdown": [
       "Ecco stabilita la superiorità di questo romanzo femminile su tanti romanzi maschili che sono **terribilmente** noiosi.... Il Marzocco (Luigi Tonelli)."
      ],
      "text/plain": [
       "<IPython.core.display.Markdown object>"
      ]
     },
     "metadata": {},
     "output_type": "display_data"
    },
    {
     "data": {
      "text/markdown": [
       "Egli s''inginocchiava in mezzo alla mole delle carni, per un impeto di passione e di gelosia così **terribilmente** incomposto che Passacantando ne rimase atterrito ."
      ],
      "text/plain": [
       "<IPython.core.display.Markdown object>"
      ]
     },
     "metadata": {},
     "output_type": "display_data"
    },
    {
     "data": {
      "text/markdown": [
       "di Dio; o la purità invocata dal cielo era stata invocata invano (il primogenito, già settenne, era un bambino **terribilmente** inclinato a insudiciarsi e a insudiciare); o l''attrito della vita aveva spente o congelate certe gentili fioriturecontratti, a fissar quella sua creatura che moriva."
      ],
      "text/plain": [
       "<IPython.core.display.Markdown object>"
      ]
     },
     "metadata": {},
     "output_type": "display_data"
    },
    {
     "data": {
      "text/markdown": [
       "via da te, una sera ho chiuso gli occhi, ed ho sentito la sua bocca fredda, la sua bocca pallida... pesare, pesare **terribilmente** su la mia...\" Forse non l''ascoltavo nemmeno più."
      ],
      "text/plain": [
       "<IPython.core.display.Markdown object>"
      ]
     },
     "metadata": {},
     "output_type": "display_data"
    },
    {
     "data": {
      "text/markdown": [
       "Questa donna diventa rossa come di fuoco, poi impallidisce **terribilmente** ; poi con voce strozzata, acre, sprezzante, dà a quest''uomo dell''indegno e del vile; e come egli, agghiacciato,perfino dinanzi a donne di sessant''anni o con la gobba; ma, ripeto, Dastri mi pareva, fino a ieri, troppo assoluto."
      ],
      "text/plain": [
       "<IPython.core.display.Markdown object>"
      ]
     },
     "metadata": {},
     "output_type": "display_data"
    },
    {
     "data": {
      "text/markdown": [
       "Il dottore si fece serio, **terribilmente** serio."
      ],
      "text/plain": [
       "<IPython.core.display.Markdown object>"
      ]
     },
     "metadata": {},
     "output_type": "display_data"
    },
    {
     "data": {
      "text/markdown": [
       "DON FIORENZO (in atto di gettarsi addosso a Barbarello, urla **terribilmente** :) Assassino!"
      ],
      "text/plain": [
       "<IPython.core.display.Markdown object>"
      ]
     },
     "metadata": {},
     "output_type": "display_data"
    },
    {
     "data": {
      "text/markdown": [
       "– Se non foste innamorato, Guelfo... – Ma lo sono, lo sono **terribilmente** ... di un pensiero che mi avete fatto nascere voi!"
      ],
      "text/plain": [
       "<IPython.core.display.Markdown object>"
      ]
     },
     "metadata": {},
     "output_type": "display_data"
    },
    {
     "data": {
      "text/markdown": [
       "La carnagione è un po'' rossastra, di una tinta sgradita che, in alcuni giorni, diventa color mattone; ma i suoidella conservazione personale, quest''amore che dovrebbe confondersi con l''amor proprio, gli si oppone, invece, **terribilmente** ; ma non sempre: quello che opera sempre, che urla sempre, è il bisogno di nutrire il corpo."
      ],
      "text/plain": [
       "<IPython.core.display.Markdown object>"
      ]
     },
     "metadata": {},
     "output_type": "display_data"
    },
    {
     "data": {
      "text/markdown": [
       "E su la folla dei cristiani **terribilmente** passava la sensazione di Dio."
      ],
      "text/plain": [
       "<IPython.core.display.Markdown object>"
      ]
     },
     "metadata": {},
     "output_type": "display_data"
    },
    {
     "data": {
      "text/markdown": [
       "Il Lewis cerca di arrivare ad immagini lascive , torbide , ma , oltre a tutto , si rivela **terribilmente** goffo e inesperto ."
      ],
      "text/plain": [
       "<IPython.core.display.Markdown object>"
      ]
     },
     "metadata": {},
     "output_type": "display_data"
    },
    {
     "data": {
      "text/markdown": [
       "A unè contro l''amore, dicono, perchè gli antepone la proprietà, il denaro, il ventre; viceversa l''amore si vendica **terribilmente** , producendo drammi, tragedie, rovine d''ogni sorta e affermando così la propria onnipotenza."
      ],
      "text/plain": [
       "<IPython.core.display.Markdown object>"
      ]
     },
     "metadata": {},
     "output_type": "display_data"
    },
    {
     "data": {
      "text/markdown": [
       "Perciò, di lontano, Fermo mi appariva come un angelo **terribilmente** bello, posto a custodia di una porta che dei diavoli in maglia rossa o arancio o azzurra si ostinavano a insidiare."
      ],
      "text/plain": [
       "<IPython.core.display.Markdown object>"
      ]
     },
     "metadata": {},
     "output_type": "display_data"
    },
    {
     "data": {
      "text/markdown": [
       "Oggi mi sembrate una superba miss, **terribilmente** inglese, che dietro la sua gelida e splendente bellezza nasconda una specie di sorda ostilità contro il genere umano,–... voleva dire insomma, che per quanto avessi provato a concedergli tutta me stessa, in me c''era un''altra donna che **terribilmente** non voleva... Anzi non dovete maravigliarvi: sono già quattro anni che vivo a questo modo, fra donne che vendono e, oppressi dal tedio, sbadigliavan o mormoravano tra loro."
      ],
      "text/plain": [
       "<IPython.core.display.Markdown object>"
      ]
     },
     "metadata": {},
     "output_type": "display_data"
    },
    {
     "data": {
      "text/markdown": [
       "Qualcosa di **terribilmente** feroce stava nell''occhio torbido sotto i fasci de'' muscoli cigliari contratti e fermi!"
      ],
      "text/plain": [
       "<IPython.core.display.Markdown object>"
      ]
     },
     "metadata": {},
     "output_type": "display_data"
    },
    {
     "data": {
      "text/markdown": [
       "Talvolta può succedere però che con un solo incrocio si hanno allievi che non presentano mai i pericoli di riversione, questo almeno secondo Boitard e Corbiè che, come dice Darwin, assicurano questo strano fatto; dico strano perchè quanto i suddetti asseriscono su questo soggetto non può avere la sanzione ufficiale degli allevatori; io per lo meno trovo che sia esagerato quanto segue:  lisce, quelle del collo si rizzano smisuratamente, l''occhio dapprima languido di languore orientale diventa **terribilmente** truce, il povero Don Giovanni del pollaio batte le ali e guarda fisso l''avversario."
      ],
      "text/plain": [
       "<IPython.core.display.Markdown object>"
      ]
     },
     "metadata": {},
     "output_type": "display_data"
    },
    {
     "data": {
      "text/markdown": [
       "eravate veramente un uomo senza cuore, gelido e sciupato, al quale restava negli occhi, forse nell''anima, qualcosa di **terribilmente** lontano, che altre portarono via, qualcosa di amaro, di aspro, d''insensibile... Mi piacevate allora, e dopo di allora– Non è inverosimile, – confermò il dottorino con una calma esasperante; eppure la calma era fra le virtù più pregiate da Fulai.  \""
      ],
      "text/plain": [
       "<IPython.core.display.Markdown object>"
      ]
     },
     "metadata": {},
     "output_type": "display_data"
    },
    {
     "data": {
      "text/markdown": [
       "Singolare speranza davvero, cotesta, di divenir sovrano dell''Italia unita mediante la \"lealtà\" diè contro l''amore, dicono, perchè gli antepone la proprietà, il denaro, il ventre; viceversa l''amore si vendica **terribilmente** , producendo drammi, tragedie, rovine d''ogni sorta e affermando così la propria onnipotenza."
      ],
      "text/plain": [
       "<IPython.core.display.Markdown object>"
      ]
     },
     "metadata": {},
     "output_type": "display_data"
    },
    {
     "data": {
      "text/markdown": [
       "Quando la nostra automobile si ferma dinanzi al palazzo dei Kaporo-Pendopo sono quasi pentito d’aver accettato l’invito, tanto è **terribilmente** olandese l’atrio della villa e più olandese ancora il salotto nel quale un domestico bianco ci introduce con la classica alterigia dei lacchè di grande casata: poltrone e divani di cuoio color avana, marina d’Amsterdam, e canali d’Utrecht alle pareti, v’è perfino un monumentale camino di «polder» batavo con una collezione di vecchie pipe del Bramante."
      ],
      "text/plain": [
       "<IPython.core.display.Markdown object>"
      ]
     },
     "metadata": {},
     "output_type": "display_data"
    },
    {
     "data": {
      "text/markdown": [
       "E, sentendo così vicina a me la sua angoscia, sentendomiil volto contro il volto, ed opprimendolo con tutta la mole delle carni, per un impeto di passione e di gelosia così **terribilmente** incomposto che Passacantando ne rimase atterrito."
      ],
      "text/plain": [
       "<IPython.core.display.Markdown object>"
      ]
     },
     "metadata": {},
     "output_type": "display_data"
    },
    {
     "data": {
      "text/markdown": [
       "Le acque ruggono **terribilmente** sgorgando da ogni parte, invadendo vittoriose le valli: il cielo del color della pece è solcato qua e là da strisce di sangue; all’orizzonte si disegnano i profili dei monti che si sollevano ancora su l’Oceano e su i quali si addensano, vespaio immane, che manda un ronzio assordante di grida altissime, invocante misericordia, i poveri uomini colpiti dall’ira dei numi.... Tutto si agita, tutto precipita."
      ],
      "text/plain": [
       "<IPython.core.display.Markdown object>"
      ]
     },
     "metadata": {},
     "output_type": "display_data"
    },
    {
     "data": {
      "text/markdown": [
       "E non si sarebbe offesa di quelle parole e di quei gesti in un momento cosìalla sua fama orribile, si convinse che il gagliardo e bel signore doveva essere, per ragion d''invidia, un uomo **terribilmente** calunniato."
      ],
      "text/plain": [
       "<IPython.core.display.Markdown object>"
      ]
     },
     "metadata": {},
     "output_type": "display_data"
    },
    {
     "data": {
      "text/markdown": [
       "il registro della vocedella conservazione personale, quest''amore che dovrebbe confondersi con l''amor proprio, gli si oppone, invece, **terribilmente** ; ma non sempre: quello che opera sempre, che urla sempre, è il bisogno di nutrire il corpo."
      ],
      "text/plain": [
       "<IPython.core.display.Markdown object>"
      ]
     },
     "metadata": {},
     "output_type": "display_data"
    },
    {
     "data": {
      "text/markdown": [
       "l''uomo pallido e trasognato; e più sono grandi e nobili e più uccidono, e non v''è corruzione di vizio che maceri più **terribilmente** ."
      ],
      "text/plain": [
       "<IPython.core.display.Markdown object>"
      ]
     },
     "metadata": {},
     "output_type": "display_data"
    },
    {
     "data": {
      "text/markdown": [
       "– Sai, ero gelosa... **terribilmente** !..."
      ],
      "text/plain": [
       "<IPython.core.display.Markdown object>"
      ]
     },
     "metadata": {},
     "output_type": "display_data"
    },
    {
     "data": {
      "text/markdown": [
       "Era una cosa **terribilmente** piena di mortificazione per la signora: quell''uomo, il prof. Marchi, gelido, meccanico, irreprensibile nel vestitoprofeti della \"concordia\" e a parlare così, e a dire che l''Italia non era preparata alla guerra, e che il Lombardo-Veneto sarebbe stato invaso in una settimana, e che si voleva sfasciare in cinque mesi ciò che si era messo insieme in più di cinquant''anni, c''era pericolo, specialmente quando si aveva una moglie di Vienna o di Berlino, di sentirsi dire quello che si sentì dire Pierino da un amico che perdeva la pazienza, e con la pazienza anche le staffe, e con le staffe anche il fiato, nel volerlo persuadere, sino al punto di perdere con molto fiato anche un po'' d''educazione per gridargli: \"Già tu hai per moglie un''austriaca...  E ve l''hanno scritto anche , oggi, su tutte le cantonate, a carbone, a lettere cubitali: Divisi e senza testa, è il valzer della morte."
      ],
      "text/plain": [
       "<IPython.core.display.Markdown object>"
      ]
     },
     "metadata": {},
     "output_type": "display_data"
    },
    {
     "data": {
      "text/markdown": [
       "neppure pensando a quel servo imbecille, che, secondo voi, riconoscendomi per la marchesa di Montefranco, mi avrebbe **terribilmente** compromessa?"
      ],
      "text/plain": [
       "<IPython.core.display.Markdown object>"
      ]
     },
     "metadata": {},
     "output_type": "display_data"
    },
    {
     "data": {
      "text/markdown": [
       "Ma invece il suo freddo cuore dormiva nei sensi **terribilmente** innamorati; ella si avvolgeva nel vizio con una specie di opaca ira, voleva essere una dura e splendida cortigiana, perEra giunto lassù, poco dopo mezzogiorno, dopo una lunga marcia a piedi che durava dall''alba."
      ],
      "text/plain": [
       "<IPython.core.display.Markdown object>"
      ]
     },
     "metadata": {},
     "output_type": "display_data"
    },
    {
     "data": {
      "text/markdown": [
       "Io vi annoio **terribilmente** , lo so.... Ma, non è colpa mia."
      ],
      "text/plain": [
       "<IPython.core.display.Markdown object>"
      ]
     },
     "metadata": {},
     "output_type": "display_data"
    },
    {
     "data": {
      "text/markdown": [
       "il volto contro il volto, ed opprimendolo con tutta la mole delle carni, per un impeto di passione e di gelosia così **terribilmente** incomposto che Passacantando ne rimase atterrito."
      ],
      "text/plain": [
       "<IPython.core.display.Markdown object>"
      ]
     },
     "metadata": {},
     "output_type": "display_data"
    },
    {
     "data": {
      "text/markdown": [
       "Però questo parallelismo è lontano dall''essere completo; poichèlisce, quelle del collo si rizzano smisuratamente, l''occhio dapprima languido di languore orientale diventa **terribilmente** truce, il povero Don Giovanni del pollaio batte le ali e guarda fisso l''avversario."
      ],
      "text/plain": [
       "<IPython.core.display.Markdown object>"
      ]
     },
     "metadata": {},
     "output_type": "display_data"
    },
    {
     "data": {
      "text/markdown": [
       "Sentivo **terribilmente** il bisogno d''immergere la mia viva bocca nella sua carne bella."
      ],
      "text/plain": [
       "<IPython.core.display.Markdown object>"
      ]
     },
     "metadata": {},
     "output_type": "display_data"
    },
    {
     "data": {
      "text/markdown": [
       "Si lasciò andare sul divanocolmi di stelle, tutto ciò che porta gli uomini verso il terrestre paradiso, tutto ciò che non vuole spegnersi:–e più **terribilmente** di noi questi uccisi amavano la vita."
      ],
      "text/plain": [
       "<IPython.core.display.Markdown object>"
      ]
     },
     "metadata": {},
     "output_type": "display_data"
    },
    {
     "data": {
      "text/markdown": [
       "Ed oggi ancora, dopo aver constatato tutto il vuoto del Congresso, domando sinceramente a me stesso se questi Congressi della Stampa Latina non siano nonostante tutto una cosa seria, assai seria, **terribilmente** seria, precisamente per l'esistenza di questo enorme colossale vuoto dietro il paravento splendente della Latinità!"
      ],
      "text/plain": [
       "<IPython.core.display.Markdown object>"
      ]
     },
     "metadata": {},
     "output_type": "display_data"
    },
    {
     "data": {
      "text/markdown": [
       "Ma io divago **terribilmente** , o Personaggi della Commedia, e non mi ricordo più che voi soffriate per l''impazienza di conoscere con esattezza chioffenderebbe la mia modestia e quella ben più delicata dei miei compagni."
      ],
      "text/plain": [
       "<IPython.core.display.Markdown object>"
      ]
     },
     "metadata": {},
     "output_type": "display_data"
    },
    {
     "data": {
      "text/markdown": [
       "Ogni breve fermata era per lui un nuovoanni, pallida, un poco emaciata, con grandi occhi scuri, troppo fissi, ove la giovinezza era già spenta; gli occhi **terribilmente** lascivi e dolorosi delle pazze in Cristo, gli occhi senza umanità ch''ebbero tutte le allucinate, le portatrici diNon gli pareva possibile che, quando milioni e milioni di suoi connazionali correvano il rischio di pagar con la vita il diritto della loro patria a farsi un po'' più grande, egli potesse cavarsela, beniamino degli dei di guerra, a così buon mercato."
      ],
      "text/plain": [
       "<IPython.core.display.Markdown object>"
      ]
     },
     "metadata": {},
     "output_type": "display_data"
    },
    {
     "data": {
      "text/markdown": [
       "Qualcosa di **terribilmente** feroce stava nell''occhio torbido sotto i fasci de'' muscoli cigliari contratti e fermi come se fossero stati di ferro.uno, ed il languore degli altri formavano uno strano contrasto che non sfuggì all''occhio di Ermanno–Poveri fiori!"
      ],
      "text/plain": [
       "<IPython.core.display.Markdown object>"
      ]
     },
     "metadata": {},
     "output_type": "display_data"
    },
    {
     "data": {
      "text/markdown": [
       "Allora Guglielmo, preso da entusiasmo sublime, gett+API- via il cappellaccio, si strapp+API- di dosso il mantello, e agitando lo spadone, maraviglioso di audacia e di forza, url+API- **terribilmente**:   +IBQ- A me, filibustieri della Lumaca+ACE- E voi, soldati di Spagna guardate per l+IBk-ultima volta il Corsaro Giallo+ACEAIQ-... +IBQ-   Tutti allibirono, e caddero in ginocchio, chiedendo piet+AOAAIQ- I pi+APk- morirono di spavento."
      ],
      "text/plain": [
       "<IPython.core.display.Markdown object>"
      ]
     },
     "metadata": {},
     "output_type": "display_data"
    },
    {
     "data": {
      "text/markdown": [
       "I gesti delle scimmie morenti sono **terribilmente** umani."
      ],
      "text/plain": [
       "<IPython.core.display.Markdown object>"
      ]
     },
     "metadata": {},
     "output_type": "display_data"
    },
    {
     "data": {
      "text/markdown": [
       "volto al volto di Ardea che quasi ha l''aria di baciarlo: certo, almeno, lo bacia con l''intenzione... Ma l''intenzione dà **terribilmente** sui nervi di Mimì che spezza su la tavola il suo bicchiere e, saltata su in piedi, grida: – Scimmia ossigenata, la finisca– esclamò, – come potremo continuare a vivere in questo modo?"
      ],
      "text/plain": [
       "<IPython.core.display.Markdown object>"
      ]
     },
     "metadata": {},
     "output_type": "display_data"
    },
    {
     "data": {
      "text/markdown": [
       "su confini e ad un tratto ci accorgiamo di essere al di là di ogni finzione, al di là di ogni figurazione: soli... ma **terribilmente** soli nella smisurata profondità del niente."
      ],
      "text/plain": [
       "<IPython.core.display.Markdown object>"
      ]
     },
     "metadata": {},
     "output_type": "display_data"
    },
    {
     "data": {
      "text/markdown": [
       "diffusa; anch''egli si contentava dei pochi viali fiancheggiati da villini brutti, e s''era avvezzo alle costruzioni **terribilmente** antipatiche di quegli alberghi nei quali si mangiava malissimo e dai quali si vedeva una sfilata di capanne tozze, unai maligni."
      ],
      "text/plain": [
       "<IPython.core.display.Markdown object>"
      ]
     },
     "metadata": {},
     "output_type": "display_data"
    },
    {
     "data": {
      "text/markdown": [
       "+IBM- fece il brigante, torcendo la bocca +IBM- cotesto gingillo +AOg- **terribilmente** pericoloso, e...   +IBQ- Avreste paura per caso?"
      ],
      "text/plain": [
       "<IPython.core.display.Markdown object>"
      ]
     },
     "metadata": {},
     "output_type": "display_data"
    },
    {
     "data": {
      "text/markdown": [
       "Oh, non sentite voi come questo verbo sentimentale e proletario somigli **terribilmente** a quelle cartoline illustrate ove sono dipinte viole del pensiero?"
      ],
      "text/plain": [
       "<IPython.core.display.Markdown object>"
      ]
     },
     "metadata": {},
     "output_type": "display_data"
    },
    {
     "data": {
      "text/markdown": [
       "; sul pergamo apparve la figura di un monaco, tetra e smorta, con occhi freddi come l''argento, in una devastata faccia **terribilmente** incisa di drammaticità, che mi fece pensare agli occhi fermi, alla bocca perversa, alle piccole mani crudeli deldi Sciampagna, il bicchiere che brillava come un fiore di cristallo fra le sue minuscole dita,–e questa fu la cosa molto leggiadra ch''ella fece per quello straniero: gli mandò, prima un sorriso, poi si portò il bicchiere vicino alla bocca,[309] Ed è quello che fece appunto il Buol."
      ],
      "text/plain": [
       "<IPython.core.display.Markdown object>"
      ]
     },
     "metadata": {},
     "output_type": "display_data"
    },
    {
     "data": {
      "text/markdown": [
       "Bevettero il whisky, ma questo non giovò a rimettere a posto i loro nervi **terribilmente** scossi."
      ],
      "text/plain": [
       "<IPython.core.display.Markdown object>"
      ]
     },
     "metadata": {},
     "output_type": "display_data"
    },
    {
     "data": {
      "text/markdown": [
       "Il terzo giorno feci da Giuseppe aprire quell''il volto contro il volto, ed opprimendolo con tutta la mole delle carni, per un impeto di passione e di gelosia così **terribilmente** incomposto che Passacantando ne rimase atterrito."
      ],
      "text/plain": [
       "<IPython.core.display.Markdown object>"
      ]
     },
     "metadata": {},
     "output_type": "display_data"
    },
    {
     "data": {
      "text/markdown": [
       "è tale da farmi impossibile ogni godimento: ogni menomo piacere mi ammazzerebbe\"; e l''infelice trova un''espressione **terribilmente** efficace per dipingere la sua miseria: \"Se non voglio morire, bisogna ch''io non viva....\" Dovendo tornare a Firenzepresso il gramo letto."
      ],
      "text/plain": [
       "<IPython.core.display.Markdown object>"
      ]
     },
     "metadata": {},
     "output_type": "display_data"
    },
    {
     "data": {
      "text/markdown": [
       "Mi ricordai che ogni mattina, da molto tempo ormai, quando misulla mia nuca, il suo odore di fieno nelle narici, incominciai a frugare in tutti gli angoli del mio cervello divenuto **terribilmente** lucido, e credetti di indovinare, di scoprire la verità."
      ],
      "text/plain": [
       "<IPython.core.display.Markdown object>"
      ]
     },
     "metadata": {},
     "output_type": "display_data"
    },
    {
     "data": {
      "text/markdown": [
       "Quel grande problema della collaborazione fra Occidente ed Oriente che giustamente appassiona la società moderna pel tragico contrasto fra il pensiero occidentale e le millenarie coscienze asiatiche, problema che in India, in Cina e nel Giappone, si presenta confusamente per la stessa vastità di quei paesi e per le innumerevoli inframmettenze politico-religiose che intorbidano la visione centrale, si mostra nello stesso Annam **terribilmente** chiaro nella sua semplicità."
      ],
      "text/plain": [
       "<IPython.core.display.Markdown object>"
      ]
     },
     "metadata": {},
     "output_type": "display_data"
    },
    {
     "data": {
      "text/markdown": [
       "Ho atteso **terribilmente** questa grande cosa nuova, che forse è nulla."
      ],
      "text/plain": [
       "<IPython.core.display.Markdown object>"
      ]
     },
     "metadata": {},
     "output_type": "display_data"
    },
    {
     "data": {
      "text/markdown": [
       "Pazzo di dolore l’animale si dibatte **terribilmente** mentre la lama gli dilania le viscere: ogni tanto si rizza sulle zampe scoprendo l’enorme ventre sfondato dal quale escono le interiora."
      ],
      "text/plain": [
       "<IPython.core.display.Markdown object>"
      ]
     },
     "metadata": {},
     "output_type": "display_data"
    },
    {
     "data": {
      "text/markdown": [
       "Avevo paura, avevo **terribilmente** paura."
      ],
      "text/plain": [
       "<IPython.core.display.Markdown object>"
      ]
     },
     "metadata": {},
     "output_type": "display_data"
    },
    {
     "data": {
      "text/markdown": [
       "Prendo il fucile per uccidere, ma… sono umani, così **terribilmente** umani che non so premere il grilletto."
      ],
      "text/plain": [
       "<IPython.core.display.Markdown object>"
      ]
     },
     "metadata": {},
     "output_type": "display_data"
    },
    {
     "data": {
      "text/markdown": [
       "Io me ne infischio... Del resto, se ti fa tanto schifo , porto via la zuccheriera... _(Si alza con fare stanco, prende la zuccheriera e va a riporla nella credenza)_. LEI (alNatura, prese nei lacci e nelle reti delle formole chimiche e meccaniche, e così asservite all''uomo, si vendicano **terribilmente** , balzandoci alla gola con la selvaggia irruenza dei cani arrabbiati."
      ],
      "text/plain": [
       "<IPython.core.display.Markdown object>"
      ]
     },
     "metadata": {},
     "output_type": "display_data"
    },
    {
     "data": {
      "text/markdown": [
       "+IBQ- Ve l+IBk-ho detto... vendicarmi **terribilmente**+ACE-...   +IBQ- Tutte queste sciocchezze non ci spiegano in qual modo tu sia riuscito, con i tuoi luridi compagni a seguirci fin qui... nel regno della Gran Luna... nel mio regno+ACE-   +IBQ- Debbo rispondere?"
      ],
      "text/plain": [
       "<IPython.core.display.Markdown object>"
      ]
     },
     "metadata": {},
     "output_type": "display_data"
    },
    {
     "data": {
      "text/markdown": [
       "sua colpa solo, meditò di ucciderla per dividere dall''anima quella carne che l''aveva infiammato di desiderio così **terribilmente** e per poter solo quella contaminare di tutte le carezze."
      ],
      "text/plain": [
       "<IPython.core.display.Markdown object>"
      ]
     },
     "metadata": {},
     "output_type": "display_data"
    },
    {
     "data": {
      "text/markdown": [
       "Voglio la luce, voglio la luce, voglio il sole, il sole._ Abbiamo fatto mettere delle lampade ad arco.via da te, una sera ho chiuso gli occhi, ed ho sentito la sua bocca fredda, la sua bocca pallida... pesare, pesare **terribilmente** su la mia...\" Forse non l''ascoltavo nemmeno più."
      ],
      "text/plain": [
       "<IPython.core.display.Markdown object>"
      ]
     },
     "metadata": {},
     "output_type": "display_data"
    },
    {
     "data": {
      "text/markdown": [
       "Allora sarà di lei quello che doveva essere il primoeravate veramente un uomo senza cuore, gelido e sciupato, al quale restava negli occhi, forse nell''anima, qualcosa di **terribilmente** lontano, che altre portarono via, qualcosa di aspro, di amaro, d''insensibile... mi piacevate allora, e dopo di alloraMi fermai tuttavia un altro poco; e mi ricordo che venne a sedere fra noi un vecchietto segaligno e vispo, con un vestitino di cotone e un consunto cappelluccio di paglia che quasi non aveva ala; e raccontava raccontava con una gioia da bambino tutti i vecchi aneddoti di Paganini, il violinista, come fossero stati freschi di ieri, e io lo stavo a sentire per sorprendere se v''era già qualche venatura di toscano nel suo dialetto, quando il vecchierello disse:  Io trovai dunque Modena meritevole di quegli epiteti di \"ben costruita\" e \"felice\" che Senofonte nell''\"Anabasi\" regala a tutte le città dell''Asia Minore; le sue contrade sono armoniche anche senza il geometrico, antipatico rettifilo moderno; decorose senza ostentazione di fasto architettonico; silenziose senza tristezza (e questa ultima qualità non può essere apprezzata al suo giusto valore se non da chi esce da una città come Milano, dove è necessario possedere un sistema nervoso fabbricato appositamente)."
      ],
      "text/plain": [
       "<IPython.core.display.Markdown object>"
      ]
     },
     "metadata": {},
     "output_type": "display_data"
    },
    {
     "data": {
      "text/markdown": [
       "Si rialzò a granquel che era dietro, nella notte, ora le pareva sogno confuso; s''esalava il fervore del vóto; la volontà, tesa così **terribilmente** fino a quel punto, s''allentava, s''annientava."
      ],
      "text/plain": [
       "<IPython.core.display.Markdown object>"
      ]
     },
     "metadata": {},
     "output_type": "display_data"
    },
    {
     "data": {
      "text/markdown": [
       "Però come furono **terribilmente** lunghi i giorni trascorsi al buio e in piena solitudine con Suor Costanza!"
      ],
      "text/plain": [
       "<IPython.core.display.Markdown object>"
      ]
     },
     "metadata": {},
     "output_type": "display_data"
    },
    {
     "data": {
      "text/markdown": [
       "Mi sembra di ritrovare in lui un poco della mia infanzia; qualche cosa di così fresco, di così spensieratamente gaio...   Adora i giochi e studia pochissimo; suo padre lo sgrida **terribilmente** ed io cerco di aiutarlo fin dove posso."
      ],
      "text/plain": [
       "<IPython.core.display.Markdown object>"
      ]
     },
     "metadata": {},
     "output_type": "display_data"
    },
    {
     "data": {
      "text/markdown": [
       "Io non pensavo all''amore; pensavo **terribilmente** a lei, a me..."
      ],
      "text/plain": [
       "<IPython.core.display.Markdown object>"
      ]
     },
     "metadata": {},
     "output_type": "display_data"
    },
    {
     "data": {
      "text/markdown": [
       "Una vecchia gialla, sdentata, scheletrica, infagottata in un cencio senza colore, s’era fermata contro un lampione a fissarmi con gli occhietti di smalto che era l’unica cosa **terribilmente** viva in quel corpo **terribilmente** morto."
      ],
      "text/plain": [
       "<IPython.core.display.Markdown object>"
      ]
     },
     "metadata": {},
     "output_type": "display_data"
    },
    {
     "data": {
      "text/markdown": [
       "Pure bramava di allontanarsi da quell''uomo, il cui sguardo era sì freddo; che era sì **terribilmente** logico nelle sue delusioni; vicino al quale si sentiva tanto a disagio."
      ],
      "text/plain": [
       "<IPython.core.display.Markdown object>"
      ]
     },
     "metadata": {},
     "output_type": "display_data"
    },
    {
     "data": {
      "text/markdown": [
       "ah come tutto ciò era bello, orribilmente bello, **terribilmente** bello!"
      ],
      "text/plain": [
       "<IPython.core.display.Markdown object>"
      ]
     },
     "metadata": {},
     "output_type": "display_data"
    },
    {
     "data": {
      "text/markdown": [
       "– Mi sei piaciuta sùbito, – continuai; – l''altra sera, quando giocavi, provavo **terribilmente** la tentazione di mordere la tua bocca... Ella piegò il mento sul petto; una grande ombra le ravvolse il viso immobile."
      ],
      "text/plain": [
       "<IPython.core.display.Markdown object>"
      ]
     },
     "metadata": {},
     "output_type": "display_data"
    },
    {
     "data": {
      "text/markdown": [
       "GRAZIELLA Ci avesse portato... anche.... SALVATORE (sorgendo in piedi, **terribilmente** ) Del danaro?!"
      ],
      "text/plain": [
       "<IPython.core.display.Markdown object>"
      ]
     },
     "metadata": {},
     "output_type": "display_data"
    },
    {
     "data": {
      "text/markdown": [
       "Lentamente, sotto l'' angoscia di quello spettacolo, i suoi occhi di color mutevole, come due magnifici scarabei, si erano fatti grandi e fermi,di Dio; o la purità invocata dal cielo era stata invocata invano (il primogenito, già settenne, era un bambino **terribilmente** inclinato a insudiciarsi e a insudiciare); o l''attrito della vita aveva spente o congelate certe gentili fioriture– Niente, Mimì; ma per cantare le bellezze e anche le bruttezze del creato, occòrrono volti terrìbili e facce barbute."
      ],
      "text/plain": [
       "<IPython.core.display.Markdown object>"
      ]
     },
     "metadata": {},
     "output_type": "display_data"
    },
    {
     "data": {
      "text/markdown": [
       "_Une fiche de consolation!_ Le donne avevano però un''arma in loro mano: esse potevano vendicarsi **terribilmente** , distruggendo l''onore d''un uomo, coprendolo di ridicolo per tutta la vita."
      ],
      "text/plain": [
       "<IPython.core.display.Markdown object>"
      ]
     },
     "metadata": {},
     "output_type": "display_data"
    },
    {
     "data": {
      "text/markdown": [
       "Ma anche il domani , e gli altri giorni che restava a casa, il babbo non parlava con nessuno, sgridava **terribilmente** le persone di serviziosera.... Ella sorrise, nel fondo dell''anima."
      ],
      "text/plain": [
       "<IPython.core.display.Markdown object>"
      ]
     },
     "metadata": {},
     "output_type": "display_data"
    },
    {
     "data": {
      "text/markdown": [
       "è tale da farmi impossibile ogni godimento: ogni menomo piacere mi ammazzerebbe\"; e l''infelice trova un''espressione **terribilmente** efficace per dipingere la sua miseria: \"Se non voglio morire, bisogna ch''io non viva....\" Dovendo tornare a FirenzeSe dalla materia inerte all''uomo c''è un abisso; se l''uomo, per la coscienza, è tanto superiore ai bruti, si deve credere che egli sia il termine ultimo dell''evoluzione?"
      ],
      "text/plain": [
       "<IPython.core.display.Markdown object>"
      ]
     },
     "metadata": {},
     "output_type": "display_data"
    },
    {
     "data": {
      "text/markdown": [
       "Qualche cosa di **terribilmente** vago le faceva presentire che il Giappone non avrebbe portato fortuna al suo Roberto, ma nascondeva la sua ansia perché sentiva che non avrebbe potuto affrontare l'argomento senza turbare la serenità del figlio."
      ],
      "text/plain": [
       "<IPython.core.display.Markdown object>"
      ]
     },
     "metadata": {},
     "output_type": "display_data"
    },
    {
     "data": {
      "text/markdown": [
       "Ma anche il domani, e gli altri giorni che restava a casa, il babbo non parlava con nessuno, sgridava **terribilmente** le persone di servizio, non rispondeva nemmeno alle carezze delle figliuole."
      ],
      "text/plain": [
       "<IPython.core.display.Markdown object>"
      ]
     },
     "metadata": {},
     "output_type": "display_data"
    },
    {
     "data": {
      "text/markdown": [
       "E prima che potessi rispondere: – Pensa ch''io t''amo ancora **terribilmente** !"
      ],
      "text/plain": [
       "<IPython.core.display.Markdown object>"
      ]
     },
     "metadata": {},
     "output_type": "display_data"
    },
    {
     "data": {
      "text/markdown": [
       "Ai poli, come ho accennato, inutile andare; e poi, io, come esploratore, valgo solo per i climi temperati; odio **terribilmente** il freddo."
      ],
      "text/plain": [
       "<IPython.core.display.Markdown object>"
      ]
     },
     "metadata": {},
     "output_type": "display_data"
    },
    {
     "data": {
      "text/markdown": [
       "Caterina (**terribilmente**) La morte!"
      ],
      "text/plain": [
       "<IPython.core.display.Markdown object>"
      ]
     },
     "metadata": {},
     "output_type": "display_data"
    },
    {
     "data": {
      "text/markdown": [
       "Scacciò da sé, con parole d''amore tra i singhiozzi, con laceramenti così acuti di voce rotta e con una espressione di dolore così **terribilmente** comica che per tutti li astanti corse un brivido e tutti rivolsero altrove la faccia."
      ],
      "text/plain": [
       "<IPython.core.display.Markdown object>"
      ]
     },
     "metadata": {},
     "output_type": "display_data"
    },
    {
     "data": {
      "text/markdown": [
       "Un odore aspro di pescheria, di conchiglieria marina, feriva **terribilmente** l''aria dalle prossime botteghe di pescivendoli chiuse; un dragone, quasi nuotante nelle due fisarmoniche de'' suoivolto al volto di Ardea che quasi ha l''aria di baciarlo: certo, almeno, lo bacia con l''intenzione... Ma l''intenzione dà **terribilmente** sui nervi di Mimì che spezza su la tavola il suo bicchiere e, saltata su in piedi, grida: – Scimmia ossigenata, la finisca: occorrono altre nevicate."
      ],
      "text/plain": [
       "<IPython.core.display.Markdown object>"
      ]
     },
     "metadata": {},
     "output_type": "display_data"
    },
    {
     "data": {
      "text/markdown": [
       "Siamo ripiegati su noi stessi, malati, **terribilmente** malati."
      ],
      "text/plain": [
       "<IPython.core.display.Markdown object>"
      ]
     },
     "metadata": {},
     "output_type": "display_data"
    },
    {
     "data": {
      "text/markdown": [
       "Un odore aspro di pescheria, di conchiglieria marina, feriva **terribilmente** l''aria dalle prossime botteghe di pescivendoli chiuse; un dragone, quasi nuotante nelle due fisarmoniche de'' suoiI francesi, quelli vengono giù di certo, faranno come quel tal re che da Susa arrivò sino a Napoli senza sparare un colpo di fucile: come si chiamava già quel re, signorina?"
      ],
      "text/plain": [
       "<IPython.core.display.Markdown object>"
      ]
     },
     "metadata": {},
     "output_type": "display_data"
    },
    {
     "data": {
      "text/markdown": [
       ", i contrasti, le divagazioni, le schermaglie non potevano far altro che giovare ai nemici: \"Pensate che si va addietro **terribilmente** , che i nostri padroni se ne giovano a riconciliarsi con atti di clemenza in favor di molti, che l''Austria conquista piùIo mi appiglierò ad un altro partito, e forse a questo avrei dovuto appigliarmi senza altrimenti annoiar lei con questo discorso: ma come il partito ch''io dico, è tale, che stante la mia salute, non è verisimile che in breve tempo non vi soccomba, ho temuto che ella avesse a fare un rimprovero alla mia memoria, dell''averlo abbracciato senza prima confidarmi con lei sopra le cose che le ho esposte."
      ],
      "text/plain": [
       "<IPython.core.display.Markdown object>"
      ]
     },
     "metadata": {},
     "output_type": "display_data"
    },
    {
     "data": {
      "text/markdown": [
       "Tenerci con la mano la mano sembra una cosa innocente, ma è **terribilmente** colpevole; tanto colpevole che a noi sembra talvolta l''infinito amore tutto e solo consistere nel tenersi una mano."
      ],
      "text/plain": [
       "<IPython.core.display.Markdown object>"
      ]
     },
     "metadata": {},
     "output_type": "display_data"
    },
    {
     "data": {
      "text/markdown": [
       "Questa donna diventa rossa come di fuoco, poi impallidisce **terribilmente** ; poi con voce strozzata, acre, sprezzante, dà a quest''uomo dell''indegno e del vile; e come egli, agghiacciato,\"Ma via, non lo ripetete; non vi fa più dunque piacere questo potere, che sebbene sia il quarto, incute tanto timore a tutti gli altri?"
      ],
      "text/plain": [
       "<IPython.core.display.Markdown object>"
      ]
     },
     "metadata": {},
     "output_type": "display_data"
    },
    {
     "data": {
      "text/markdown": [
       "Prediletto nella società galante, spendeva senza parsimonia, con aristocratica eleganza: doveva essere **terribilmente** cinico dietro la sua maschera d''impeccabile gran signore."
      ],
      "text/plain": [
       "<IPython.core.display.Markdown object>"
      ]
     },
     "metadata": {},
     "output_type": "display_data"
    },
    {
     "data": {
      "text/markdown": [
       "Più che nemico degli altri, sono **terribilmente** il mio; gli altri mi fanno pena, laddove di me stesso mi sdegno."
      ],
      "text/plain": [
       "<IPython.core.display.Markdown object>"
      ]
     },
     "metadata": {},
     "output_type": "display_data"
    },
    {
     "data": {
      "text/markdown": [
       "Ella durava fatica a rattenere l'' ansia del respiro; poichè ora il suo stato, con una terribilità incalzante, le si ripresentava dinanzi e schiacciava tuttisua colpa solo, meditò di ucciderla per dividere dall''anima quella carne che l''aveva infiammato di desiderio così **terribilmente** e per poter solo quella contaminare di tutte le carezze."
      ],
      "text/plain": [
       "<IPython.core.display.Markdown object>"
      ]
     },
     "metadata": {},
     "output_type": "display_data"
    },
    {
     "data": {
      "text/markdown": [
       "[101] Aderendo alla carboneria i dueeravate veramente un uomo senza cuore, gelido e sciupato, al quale restava negli occhi, forse nell''anima, qualcosa di **terribilmente** lontano, che altre portarono via, qualcosa di aspro, di amaro, d''insensibile... mi piacevate allora, e dopo di allorasuo proprio mantello."
      ],
      "text/plain": [
       "<IPython.core.display.Markdown object>"
      ]
     },
     "metadata": {},
     "output_type": "display_data"
    },
    {
     "data": {
      "text/markdown": [
       "Vedrai quelli che assaltarono la rupe del Carso formidabile; quelli che, guadato il fiume, **terribilmente** vissero nell''inferno di Doberdò."
      ],
      "text/plain": [
       "<IPython.core.display.Markdown object>"
      ]
     },
     "metadata": {},
     "output_type": "display_data"
    },
    {
     "data": {
      "text/markdown": [
       "L ' impresa era **terribilmente** difficile , ma ella ci si provò ."
      ],
      "text/plain": [
       "<IPython.core.display.Markdown object>"
      ]
     },
     "metadata": {},
     "output_type": "display_data"
    },
    {
     "data": {
      "text/markdown": [
       "Anzi egli laalla sua fama orribile, si convinse che il gagliardo e bel signore doveva essere, per ragion d''invidia, un uomo **terribilmente** calunniato."
      ],
      "text/plain": [
       "<IPython.core.display.Markdown object>"
      ]
     },
     "metadata": {},
     "output_type": "display_data"
    },
    {
     "data": {
      "text/markdown": [
       "Ma io divago **terribilmente** , o Personaggi della Commedia, e non mi ricordo più che voi soffriate per l''impazienza di conoscere con esattezza chiMa nel suo buon senso di bambino savio e che avea studiato, capì che tutte codeste fantasie aveano una certa parentela con un sentimento brutto che avea persino paura di nominare – la paura!"
      ],
      "text/plain": [
       "<IPython.core.display.Markdown object>"
      ]
     },
     "metadata": {},
     "output_type": "display_data"
    },
    {
     "data": {
      "text/markdown": [
       "Vi darò un consiglioNatura, prese nei lacci e nelle reti delle formole chimiche e meccaniche, e così asservite all''uomo, si vendicano **terribilmente** , balzandoci alla gola con la selvaggia irruenza dei cani arrabbiati."
      ],
      "text/plain": [
       "<IPython.core.display.Markdown object>"
      ]
     },
     "metadata": {},
     "output_type": "display_data"
    },
    {
     "data": {
      "text/markdown": [
       "Avevo **terribilmente** voglia, non so perchè, di baciare la sua bocca."
      ],
      "text/plain": [
       "<IPython.core.display.Markdown object>"
      ]
     },
     "metadata": {},
     "output_type": "display_data"
    },
    {
     "data": {
      "text/markdown": [
       "; sul pergamo apparve la figura di un monaco, tetra e smorta, con occhi freddi come l''argento, in una devastata faccia **terribilmente** incisa di drammaticità, che mi fece pensare agli occhi fermi, alla bocca perversa, alle piccole mani crudeli delLe mani di lei non posano mai; raccoglie lo sterpo e lo sterco; accatta il ciottolo; stende il bucato su la siepe; rinforza con spini la siepe, e, quando il sole arde nel meriggio, lava presso la pozza ombrosa o trae con la bava il filo della rocca antica; sottopone al testo le brulle e vi gira la piada, cara a te, Giovanni Pascoli!"
      ],
      "text/plain": [
       "<IPython.core.display.Markdown object>"
      ]
     },
     "metadata": {},
     "output_type": "display_data"
    },
    {
     "data": {
      "text/markdown": [
       "In qual modo debbo provarvi che sono sincero, **terribilmente** sincero?"
      ],
      "text/plain": [
       "<IPython.core.display.Markdown object>"
      ]
     },
     "metadata": {},
     "output_type": "display_data"
    },
    {
     "data": {
      "text/markdown": [
       "Era una cosa **terribilmente** piena di mortificazione per la signora: quell''uomo, il prof. Marchi, gelido, meccanico, irreprensibile nel vestito– Senta, Missiroli – gli chiesi –, non ha lei così, per capo, per una specie di intuizione sensitiva dell''epidermide, il terrore di un enorme peso sul collo?"
      ],
      "text/plain": [
       "<IPython.core.display.Markdown object>"
      ]
     },
     "metadata": {},
     "output_type": "display_data"
    },
    {
     "data": {
      "text/markdown": [
       "Certo le dita di mio fratello vacillavano, e il suo petto era senzail volto contro il volto, ed opprimendolo con tutta la mole delle carni, per un impeto di passione e di gelosia così **terribilmente** incomposto che Passacantando ne rimase atterrito."
      ],
      "text/plain": [
       "<IPython.core.display.Markdown object>"
      ]
     },
     "metadata": {},
     "output_type": "display_data"
    },
    {
     "data": {
      "text/markdown": [
       "25  25  Io voglio dire piuttosto che la decadenza stessa , nel significato che letterariamente si può dare alla parola , ha ancora oggi un compito \" rivoluzionario \" rispetto alle condizioni culturali **terribilmente** arretrate di una borghesia incapace , nella sua grande massa , di vergognarsi ; e che l ' individualismo , in senso non soltanto letterario , o l ' idealismo , in senso ampiamente culturale , hanno ancora , essi pure , un compito rivoluzionario se si accompagnano a una sincera volontà di trasformazione del mondo ."
      ],
      "text/plain": [
       "<IPython.core.display.Markdown object>"
      ]
     },
     "metadata": {},
     "output_type": "display_data"
    },
    {
     "data": {
      "text/markdown": [
       "Ancora una volta gli uomini , per distrarsi , avevano messo creature vive sul palcoscenico della loro romantica fantasia e , diciamo la verità , ci si erano **terribilmente** divertiti ."
      ],
      "text/plain": [
       "<IPython.core.display.Markdown object>"
      ]
     },
     "metadata": {},
     "output_type": "display_data"
    },
    {
     "data": {
      "text/markdown": [
       "Non credete alle donne straordinarie, che si divertono a parer complicate come il teorema di Pitagora, nè a quelle **terribilmente** fastidiose che ogni e qualsiasi volta rallentano i loro perfidi ginocchi suppongono di essere diventate una seconda, qui cantano col far dell''aprile."
      ],
      "text/plain": [
       "<IPython.core.display.Markdown object>"
      ]
     },
     "metadata": {},
     "output_type": "display_data"
    }
   ],
   "source": [
    "find_sentences_with_keyword(document8, 'terribilmente')"
   ]
  },
  {
   "cell_type": "markdown",
   "id": "58745e81",
   "metadata": {},
   "source": [
    "### Zeitraum 9: 1951-1985"
   ]
  },
  {
   "cell_type": "code",
   "execution_count": 32,
   "id": "6b06a4ed",
   "metadata": {},
   "outputs": [],
   "source": [
    "text9 = ''\n",
    "for i in df9.text:\n",
    "    text9 += i"
   ]
  },
  {
   "cell_type": "code",
   "execution_count": 33,
   "id": "2b5d7b2c",
   "metadata": {},
   "outputs": [],
   "source": [
    "document9 = nltk.sent_tokenize(text9)"
   ]
  },
  {
   "cell_type": "code",
   "execution_count": 34,
   "id": "f4d4fcc4",
   "metadata": {},
   "outputs": [
    {
     "data": {
      "text/markdown": [
       "« Nella miseria almeno disporre bene » , enuncia quest ' ometto **terribilmente** efficiente , che continua a girar auree chiavi nelle toppe e a impugnare maniglie istoriate , senza mai smettere di voler far ordine e dar disposizioni : « Quest ' orologio è un po ' di giorni che è lì disteso su quell ' étagère ."
      ],
      "text/plain": [
       "<IPython.core.display.Markdown object>"
      ]
     },
     "metadata": {},
     "output_type": "display_data"
    },
    {
     "data": {
      "text/markdown": [
       "non ne poteva più, era finita, si reggeva per virtù di ripieghi, con interminabili sedute di toilette, forse soffriva **terribilmente** e nascondeva la sua sofferenza."
      ],
      "text/plain": [
       "<IPython.core.display.Markdown object>"
      ]
     },
     "metadata": {},
     "output_type": "display_data"
    },
    {
     "data": {
      "text/markdown": [
       "Oggi Denver è una pulita , nitida e perciò alquanto irreale città americana moderna , con le solite strade che si tagliano ad angolo retto ( ma finiscono , lontano , nel verde della prateria ) , con le solite pubblicità colorate , i soliti quartieri residenziali pieni di case lussuose dove ( ma è un ' impressione del signor X ) la vita sembra dover essere **terribilmente** noiosa ."
      ],
      "text/plain": [
       "<IPython.core.display.Markdown object>"
      ]
     },
     "metadata": {},
     "output_type": "display_data"
    },
    {
     "data": {
      "text/markdown": [
       "E per di più c' è l' Uruguay , la squadra meno sudamericana di tutte , che bada  **terribilmente**  al sodo , che s' arrocca in difesa con una zona arcigna , non leziosa , e picchia di brutto ."
      ],
      "text/plain": [
       "<IPython.core.display.Markdown object>"
      ]
     },
     "metadata": {},
     "output_type": "display_data"
    },
    {
     "data": {
      "text/markdown": [
       "Ma a loro , come a noi ,  **terribilmente**  vicina ."
      ],
      "text/plain": [
       "<IPython.core.display.Markdown object>"
      ]
     },
     "metadata": {},
     "output_type": "display_data"
    },
    {
     "data": {
      "text/markdown": [
       "Qui da noi è tutto  **terribilmente**  diverso ."
      ],
      "text/plain": [
       "<IPython.core.display.Markdown object>"
      ]
     },
     "metadata": {},
     "output_type": "display_data"
    },
    {
     "data": {
      "text/markdown": [
       "Affinché la cosa riesca dignitosa e severa , e magari , ove possibile , sublime , bisogna che il giuoco sia condotto sino alla fine nel modo più intransigente con un autore che lo prenda , e che si prenda , **terribilmente** sul serio , e che , a lavoro compiuto , anziché scoprire le carte e gridare ai quattro venti il suo \" Ecco ' r Sonetto \" , continui a rinviare il lettore a un ' opera non fatta , lasciandolo sospeso in un limbo di perfetta ambiguità ."
      ],
      "text/plain": [
       "<IPython.core.display.Markdown object>"
      ]
     },
     "metadata": {},
     "output_type": "display_data"
    },
    {
     "data": {
      "text/markdown": [
       "Non può fare a meno di uno Stelvio , e di altri passi o colli anche  **terribilmente**  datati ."
      ],
      "text/plain": [
       "<IPython.core.display.Markdown object>"
      ]
     },
     "metadata": {},
     "output_type": "display_data"
    },
    {
     "data": {
      "text/markdown": [
       "Vero è che sul terreno storico quella persuasione è piuttosto in rapporto con la forza **terribilmente** distruttiva delle armi moderne ; ed è alimentata dall ' orrore che suscita nell ' animo anche solo il pensiero delle distruzioni immani e dei dolori immensi che l ' uso di quelle armi apporterebbe alla famiglia umana ; per cui riesce quasi impossibile pensare che nell ' era atomica la guerra possa essere utilizzata come strumento di giustizia ."
      ],
      "text/plain": [
       "<IPython.core.display.Markdown object>"
      ]
     },
     "metadata": {},
     "output_type": "display_data"
    },
    {
     "data": {
      "text/markdown": [
       "Il mercato azionario è  **terribilmente**  limitato \" , ha spiegato De Benedetti . \""
      ],
      "text/plain": [
       "<IPython.core.display.Markdown object>"
      ]
     },
     "metadata": {},
     "output_type": "display_data"
    },
    {
     "data": {
      "text/markdown": [
       "Una notte , in ospedale , avevo sofferto  **terribilmente**  , attraverso lunghe ore di buio e di solitudine ."
      ],
      "text/plain": [
       "<IPython.core.display.Markdown object>"
      ]
     },
     "metadata": {},
     "output_type": "display_data"
    },
    {
     "data": {
      "text/markdown": [
       "Ma un tentativo d ' interpretazione politica di questo sconcertante personaggio e un esame dei problemi **terribilmente** difficili che egli lascia in eredità ai suoi successori non sono ancora stati fatti ."
      ],
      "text/plain": [
       "<IPython.core.display.Markdown object>"
      ]
     },
     "metadata": {},
     "output_type": "display_data"
    },
    {
     "data": {
      "text/markdown": [
       "Un brano facile ma  **terribilmente**  irritante , almeno per alcune future maestre : \" Educazione d' altri tempi \" , si chiama ed è un grido di rimpianto per la scomparsa della vita muliebre morigerata e pudìca ."
      ],
      "text/plain": [
       "<IPython.core.display.Markdown object>"
      ]
     },
     "metadata": {},
     "output_type": "display_data"
    },
    {
     "data": {
      "text/markdown": [
       "Abita in un piccolo albergo del centro storico , \"  **terribilmente**  inefficiente ma comodissimo per la sua posizione \" , e in questo momento fa svogliatamente colazione con un tè e dei toasts che si stanno raffreddando ."
      ],
      "text/plain": [
       "<IPython.core.display.Markdown object>"
      ]
     },
     "metadata": {},
     "output_type": "display_data"
    },
    {
     "data": {
      "text/markdown": [
       "Vede , il guaio per uno come me che ama cambiare , trovare sempre stimoli nuovi , è che adesso è tutto  **terribilmente**  uguale a prima ."
      ],
      "text/plain": [
       "<IPython.core.display.Markdown object>"
      ]
     },
     "metadata": {},
     "output_type": "display_data"
    },
    {
     "data": {
      "text/markdown": [
       "Allora gli operai e gli ingegneri sbarcarono dalla corazzata , l ' aria sopra i tre fumaioli cominciò a tremolare , segno che le caldaie erano state accese , opposti pensieri e speranze si combattevano negli animi , la pace sembrava **terribilmente** desiderabile pur nell ' obbrobrio della disfatta ma era anche amaro abbandonare così il bastimento meraviglioso senza aver tentato neppure di combattere ."
      ],
      "text/plain": [
       "<IPython.core.display.Markdown object>"
      ]
     },
     "metadata": {},
     "output_type": "display_data"
    },
    {
     "data": {
      "text/markdown": [
       "Ogni cosa risultava **terribilmente** esatta ."
      ],
      "text/plain": [
       "<IPython.core.display.Markdown object>"
      ]
     },
     "metadata": {},
     "output_type": "display_data"
    },
    {
     "data": {
      "text/markdown": [
       "La scissione fra Cielo e Terra in questa scena avviene in modo completo e irrevocabile, e la musica lo sottolinea con una terribilità angosciosa quasi inumana; come **terribilmente** inumana è la fine di questo atto di una veemenza soffocante."
      ],
      "text/plain": [
       "<IPython.core.display.Markdown object>"
      ]
     },
     "metadata": {},
     "output_type": "display_data"
    },
    {
     "data": {
      "text/markdown": [
       "Siamo allarmati , ha poi scritto in un editoriale la \" Voce repubblicana \" , l' iter di molti provvedimenti è  **terribilmente**  lento e costellato da atteggiamenti incongruenti , \" sarebbe necessaria una stretta connessione con la riforma delle autonomie \" . \""
      ],
      "text/plain": [
       "<IPython.core.display.Markdown object>"
      ]
     },
     "metadata": {},
     "output_type": "display_data"
    },
    {
     "data": {
      "text/markdown": [
       "Il circo delle corse credeva di essere splendidamente ricco ma ora sta scoprendo di essere invece  **terribilmente**  povero ."
      ],
      "text/plain": [
       "<IPython.core.display.Markdown object>"
      ]
     },
     "metadata": {},
     "output_type": "display_data"
    },
    {
     "data": {
      "text/markdown": [
       "« Ho sete , **terribilmente** sete ."
      ],
      "text/plain": [
       "<IPython.core.display.Markdown object>"
      ]
     },
     "metadata": {},
     "output_type": "display_data"
    },
    {
     "data": {
      "text/markdown": [
       "Era ancora **terribilmente** pallido , con due occhi che parevano affondati d ' un mezzo pollice nella faccia tesa ."
      ],
      "text/plain": [
       "<IPython.core.display.Markdown object>"
      ]
     },
     "metadata": {},
     "output_type": "display_data"
    },
    {
     "data": {
      "text/markdown": [
       "so invece quanto essa fosse equilibrata, semplice.... serena, saggia.... – Mio caro non fantasticare più, tu soffri **terribilmente** pover''uomo, senza che nessuno se ne fosse mai accorto, quella creatura semplice, serena, aveva dei pensieri suoi, unanon ne poteva più, era finita, si reggeva per virtù di ripieghi, con interminabili sedute di toilette, forse soffriva **terribilmente** e nascondeva la sua sofferenza."
      ],
      "text/plain": [
       "<IPython.core.display.Markdown object>"
      ]
     },
     "metadata": {},
     "output_type": "display_data"
    },
    {
     "data": {
      "text/markdown": [
       "Ti rispondiamo che siamo  **terribilmente**  in ansia ."
      ],
      "text/plain": [
       "<IPython.core.display.Markdown object>"
      ]
     },
     "metadata": {},
     "output_type": "display_data"
    },
    {
     "data": {
      "text/markdown": [
       "Temevo **terribilmente** che se ne andasse , perché una occasione così difficilmente mi sarebbe ancora capitata ."
      ],
      "text/plain": [
       "<IPython.core.display.Markdown object>"
      ]
     },
     "metadata": {},
     "output_type": "display_data"
    },
    {
     "data": {
      "text/markdown": [
       "Per Mrs ' Verloc questo appariva chiaro : che il povero ragazzo era **terribilmente** eccitato ."
      ],
      "text/plain": [
       "<IPython.core.display.Markdown object>"
      ]
     },
     "metadata": {},
     "output_type": "display_data"
    },
    {
     "data": {
      "text/markdown": [
       "Stamane , invece , Marc Chagall è allegrissimo ; e poi in casa aleggia un odore di pasticcio di carne e di basilico , stanno preparando la colazione : \" Sono  **terribilmente**  goloso ! \""
      ],
      "text/plain": [
       "<IPython.core.display.Markdown object>"
      ]
     },
     "metadata": {},
     "output_type": "display_data"
    },
    {
     "data": {
      "text/markdown": [
       "Vivevo con una donna che era  **terribilmente**  innamorata di me ."
      ],
      "text/plain": [
       "<IPython.core.display.Markdown object>"
      ]
     },
     "metadata": {},
     "output_type": "display_data"
    },
    {
     "data": {
      "text/markdown": [
       "La situazione è  **terribilmente**  fluida e complicata ; insomma le cose non precipitano , ma non si vedono soluzioni a portata di mano ."
      ],
      "text/plain": [
       "<IPython.core.display.Markdown object>"
      ]
     },
     "metadata": {},
     "output_type": "display_data"
    },
    {
     "data": {
      "text/markdown": [
       "Alain era molto sicuro di sè ,  **terribilmente**  sicuro \" ."
      ],
      "text/plain": [
       "<IPython.core.display.Markdown object>"
      ]
     },
     "metadata": {},
     "output_type": "display_data"
    },
    {
     "data": {
      "text/markdown": [
       "Ne ho **terribilmente** bisogno ."
      ],
      "text/plain": [
       "<IPython.core.display.Markdown object>"
      ]
     },
     "metadata": {},
     "output_type": "display_data"
    },
    {
     "data": {
      "text/markdown": [
       "Molte identificazioni sono **terribilmente** problematiche , ancora stasera : non si può per ora fare conto preciso delle salme , sui documenti , sulle tracce rimaste ."
      ],
      "text/plain": [
       "<IPython.core.display.Markdown object>"
      ]
     },
     "metadata": {},
     "output_type": "display_data"
    },
    {
     "data": {
      "text/markdown": [
       "E si vede che fatica **terribilmente** per rendere più veloce senza \" contrarlo \" il ritmo dei passi . \""
      ],
      "text/plain": [
       "<IPython.core.display.Markdown object>"
      ]
     },
     "metadata": {},
     "output_type": "display_data"
    },
    {
     "data": {
      "text/markdown": [
       "Tutti richiedono ai paesi occidentali di accentuare le loro sanzioni contro il regime sanguinario dell' apartheid , mettendo allo stesso temo sul piatto della bilancia il problema delle compensazioni per gli eventuali effetti negativi che le sanzioni contro Pretoria avrebbero sulle loro economie ,  **terribilmente**  dipendenti da quelle del potente ed odiato vicino ."
      ],
      "text/plain": [
       "<IPython.core.display.Markdown object>"
      ]
     },
     "metadata": {},
     "output_type": "display_data"
    },
    {
     "data": {
      "text/markdown": [
       "Ed è vero che il romanzo tratta questioni di vita e di morte , che non vorrei rivelarvi troppo per non scaricare la suspense di cui è ricco il libro , come è vero che subito , dalle prime pagine , esso è irresistibilmente ,  **terribilmente**  comico ."
      ],
      "text/plain": [
       "<IPython.core.display.Markdown object>"
      ]
     },
     "metadata": {},
     "output_type": "display_data"
    },
    {
     "data": {
      "text/markdown": [
       "Correvano , accidenti se correvano , si sarebbero detti spaventati da qualche avvertimento repentino che li incuriosiva **terribilmente** , togliendo loro la pace della vita ."
      ],
      "text/plain": [
       "<IPython.core.display.Markdown object>"
      ]
     },
     "metadata": {},
     "output_type": "display_data"
    },
    {
     "data": {
      "text/markdown": [
       "Siete tutti **terribilmente** nervosi , stasera ."
      ],
      "text/plain": [
       "<IPython.core.display.Markdown object>"
      ]
     },
     "metadata": {},
     "output_type": "display_data"
    },
    {
     "data": {
      "text/markdown": [
       "Era certo che nessuna sarebbe andata a raccontare all ' altra quello che lui aveva rivelato e la sua certezza nasceva dal semplice fatto che le signorine erano **terribilmente** gelose di quello che i loro cuori e le loro orecchie andavano ascoltando da Cena e di quello che , inevitabilmente , finivano per confidargli ."
      ],
      "text/plain": [
       "<IPython.core.display.Markdown object>"
      ]
     },
     "metadata": {},
     "output_type": "display_data"
    },
    {
     "data": {
      "text/markdown": [
       "È pallido , ha la barba lunga , un ' espressione **terribilmente** insicura ."
      ],
      "text/plain": [
       "<IPython.core.display.Markdown object>"
      ]
     },
     "metadata": {},
     "output_type": "display_data"
    },
    {
     "data": {
      "text/markdown": [
       "A quel punto il Pentagono avrebbe potuto avere il suo sedile anche gratis , poiché l' industria militare Usa s' innervosisce  **terribilmente**  quando Washington esamina gli sprechi nel budget della Difesa , questione di cui la toilette dell' Orion costituisce solo il caso più recente ( se n' è parlato a fine gennaio ) ma non certo il più clamoroso ."
      ],
      "text/plain": [
       "<IPython.core.display.Markdown object>"
      ]
     },
     "metadata": {},
     "output_type": "display_data"
    },
    {
     "data": {
      "text/markdown": [
       "Si capiva che erano **terribilmente** stanchi ."
      ],
      "text/plain": [
       "<IPython.core.display.Markdown object>"
      ]
     },
     "metadata": {},
     "output_type": "display_data"
    },
    {
     "data": {
      "text/markdown": [
       "Cantava dalla mattina alla sera, con una voce **terribilmente** stonata, ma mettendoci dentro tutta la sua gioia di vivere."
      ],
      "text/plain": [
       "<IPython.core.display.Markdown object>"
      ]
     },
     "metadata": {},
     "output_type": "display_data"
    },
    {
     "data": {
      "text/markdown": [
       "Lella Setto Fiesole MARMOLADA IN CEMENTO Quest' estate , in Scozia , ho camminato per monti e valli di una bellezza struggente senza imbattermi in più di tre o quattro persone alla ricerca come me di libertà ; mi sono accorta di quanto siano piccole le Dolomiti , che , solo 5 anni fa , tredicenne , mi avevano colpito per la loro imponenza e mi avevano fatto sentire  **terribilmente**  piccola ."
      ],
      "text/plain": [
       "<IPython.core.display.Markdown object>"
      ]
     },
     "metadata": {},
     "output_type": "display_data"
    },
    {
     "data": {
      "text/markdown": [
       "In bilico tra una protesta che è , al tempo stesso , molto specifica e  **terribilmente**  totalizzante ."
      ],
      "text/plain": [
       "<IPython.core.display.Markdown object>"
      ]
     },
     "metadata": {},
     "output_type": "display_data"
    },
    {
     "data": {
      "text/markdown": [
       "La tragedia si è consumata in pochi istanti : un bagliore nel cielo , un rogo fulmineo , un pauroso disintegrarsi di tutto in un largo raggio vastissimo , **terribilmente** accidentato , assai difficile da battere palmo a palmo nel disperato tentativo di ricostruire le salme dei 108 passeggeri ( e infatti , fino a questa sera , solo quelle di 14 vittime sono state identificate e dei sette membri del ' equipaggio ."
      ],
      "text/plain": [
       "<IPython.core.display.Markdown object>"
      ]
     },
     "metadata": {},
     "output_type": "display_data"
    },
    {
     "data": {
      "text/markdown": [
       "Vladimir con un ' intonazione **terribilmente** gutturale , che non aveva più nulla d ' inglese , non solo , ma nemmeno d ' europeo ; tale da sbalordire persino Mr ."
      ],
      "text/plain": [
       "<IPython.core.display.Markdown object>"
      ]
     },
     "metadata": {},
     "output_type": "display_data"
    },
    {
     "data": {
      "text/markdown": [
       "Micheline che si alzava così presto la mattina, non si faceva vedere che tardi, mai prima delle dieci, si capiva tanto bene che non ne poteva più, era finita, si reggeva per virtù di ripieghi, con interminabili sedute di toilette, forse soffriva **terribilmente** e nascondeva la sua sofferenza."
      ],
      "text/plain": [
       "<IPython.core.display.Markdown object>"
      ]
     },
     "metadata": {},
     "output_type": "display_data"
    },
    {
     "data": {
      "text/markdown": [
       "Il sistema dei servizi di sicurezza indiani è basato su una cultura che è  **terribilmente**  primitiva nel suo stile e potrebbe deviare pericolosamente nel corso di indagini delicate come quelle su quest' ultimo caso di spionaggio ."
      ],
      "text/plain": [
       "<IPython.core.display.Markdown object>"
      ]
     },
     "metadata": {},
     "output_type": "display_data"
    },
    {
     "data": {
      "text/markdown": [
       "Ma non c' è fumo senza arrosto : il \" Monde \" rivela che Mitterrand era stato messo al corrente a posteriori per lo meno della missione dei falsi svizzeri e si infuriò  **terribilmente**  , facendo una scena al ministro della Difesa Hernu , il quale ora si limita a dichiarare di aver \" la coscienza tranquilla \" ."
      ],
      "text/plain": [
       "<IPython.core.display.Markdown object>"
      ]
     },
     "metadata": {},
     "output_type": "display_data"
    },
    {
     "data": {
      "text/markdown": [
       "Le colture intensive hanno  **terribilmente**  impoverito il suolo riducendo in alcune zone la quantità di sostanze organiche a valori inferiori al due per cento ."
      ],
      "text/plain": [
       "<IPython.core.display.Markdown object>"
      ]
     },
     "metadata": {},
     "output_type": "display_data"
    },
    {
     "data": {
      "text/markdown": [
       "Ed ecco la maestosa e quasi paralizzante apparizione del «Rex tremendae majestatis»: i bassi e gli ottoni lo annunziano **terribilmente**, le voci lo ripetono spaurite, quasi senza voce."
      ],
      "text/plain": [
       "<IPython.core.display.Markdown object>"
      ]
     },
     "metadata": {},
     "output_type": "display_data"
    },
    {
     "data": {
      "text/markdown": [
       "Ritorna a Napoli precipitosamente , rischiando l' arresto ( che non eviterà in aprile ) , fa finta di essere  **terribilmente**  affranto e consegna cinquanta milioni alla famiglia del ragazzo ."
      ],
      "text/plain": [
       "<IPython.core.display.Markdown object>"
      ]
     },
     "metadata": {},
     "output_type": "display_data"
    },
    {
     "data": {
      "text/markdown": [
       "Ti rispondiamo che siamo **terribilmente** in  ansia  ."
      ],
      "text/plain": [
       "<IPython.core.display.Markdown object>"
      ]
     },
     "metadata": {},
     "output_type": "display_data"
    },
    {
     "data": {
      "text/markdown": [
       "Ma la tesi intestinale del dottor Mauer è **terribilmente** « antiamericana » ."
      ],
      "text/plain": [
       "<IPython.core.display.Markdown object>"
      ]
     },
     "metadata": {},
     "output_type": "display_data"
    },
    {
     "data": {
      "text/markdown": [
       "Wagner stanca **terribilmente** le ugole italiane ; ho memoria di un Parsifal in cui tre Gurnemanz dovettero cedere le armi dopo una sola rappresentazione ."
      ],
      "text/plain": [
       "<IPython.core.display.Markdown object>"
      ]
     },
     "metadata": {},
     "output_type": "display_data"
    },
    {
     "data": {
      "text/markdown": [
       "Quell'episodio veniva a dare **terribilmente** peso ai pensieri, che, da quand'ero militare e forse anche da prima, si agitavano in me in modo informe, senza che io ne sapessi o ne volessi prendere piena coscienza ."
      ],
      "text/plain": [
       "<IPython.core.display.Markdown object>"
      ]
     },
     "metadata": {},
     "output_type": "display_data"
    },
    {
     "data": {
      "text/markdown": [
       "Qualunque uso se ne faccia deve essere  **terribilmente**  meditato ."
      ],
      "text/plain": [
       "<IPython.core.display.Markdown object>"
      ]
     },
     "metadata": {},
     "output_type": "display_data"
    },
    {
     "data": {
      "text/markdown": [
       "Sui fianchi della vettura saltano invece all' occhio le pance laterali che si sono  **terribilmente**  allungate : nel loro interno si sono ingranditi e hanno cambiato posizione anche i radiatori ."
      ],
      "text/plain": [
       "<IPython.core.display.Markdown object>"
      ]
     },
     "metadata": {},
     "output_type": "display_data"
    },
    {
     "data": {
      "text/markdown": [
       "La vita è **terribilmente** facile nel concedere , a chi segua il cammino consueto ."
      ],
      "text/plain": [
       "<IPython.core.display.Markdown object>"
      ]
     },
     "metadata": {},
     "output_type": "display_data"
    },
    {
     "data": {
      "text/markdown": [
       "Così raccontata , la trama del Trovatore assomiglia  **terribilmente**  a quella dell' Ernani : è anzi la stessa ."
      ],
      "text/plain": [
       "<IPython.core.display.Markdown object>"
      ]
     },
     "metadata": {},
     "output_type": "display_data"
    },
    {
     "data": {
      "text/markdown": [
       "Ci piaceva un po' tutto \" interviene Joel \" ma specialmente i film italiani , i film che erano doppiati  **terribilmente**  ( ci facevamo certe risate ! )"
      ],
      "text/plain": [
       "<IPython.core.display.Markdown object>"
      ]
     },
     "metadata": {},
     "output_type": "display_data"
    },
    {
     "data": {
      "text/markdown": [
       "so invece quanto essa fosse equilibrata, semplice.... serena, saggia.... – Mio caro non fantasticare più, tu soffri **terribilmente** pover''uomo, senza che nessuno se ne fosse mai accorto, quella creatura semplice, serena, aveva dei pensieri suoi, unaMi spingono in mezzo a loro sballottandomi, cantano in coro come forsennate il più osceno girotondo a gambe spalancate, e gridano sconciamente inebriate: – Fatti sotto fatti sotto!"
      ],
      "text/plain": [
       "<IPython.core.display.Markdown object>"
      ]
     },
     "metadata": {},
     "output_type": "display_data"
    },
    {
     "data": {
      "text/markdown": [
       "Purtroppo , l' uomo può ingannarsi , e ingannarsi  **terribilmente**  , con molto minore stravaganza ."
      ],
      "text/plain": [
       "<IPython.core.display.Markdown object>"
      ]
     },
     "metadata": {},
     "output_type": "display_data"
    },
    {
     "data": {
      "text/markdown": [
       "Poi m''accorsi che quel silenzio stesso era **terribilmente** singolare."
      ],
      "text/plain": [
       "<IPython.core.display.Markdown object>"
      ]
     },
     "metadata": {},
     "output_type": "display_data"
    },
    {
     "data": {
      "text/markdown": [
       "Lui mi pare molto sicuro di sé ,  **terribilmente**  sicuro \" ."
      ],
      "text/plain": [
       "<IPython.core.display.Markdown object>"
      ]
     },
     "metadata": {},
     "output_type": "display_data"
    },
    {
     "data": {
      "text/markdown": [
       "Evidentemente le abitudini sono cambiate , da quando Anatole France ( o chi per lui ) pronunciava quella frase , da quando quelli come me la prendevano  **terribilmente**  sul serio ."
      ],
      "text/plain": [
       "<IPython.core.display.Markdown object>"
      ]
     },
     "metadata": {},
     "output_type": "display_data"
    },
    {
     "data": {
      "text/markdown": [
       "Non solo era **terribilmente** nuova : in nessun ' altra opera italiana precedente il contributo dell ' orchestra era stato tanto rilevante ."
      ],
      "text/plain": [
       "<IPython.core.display.Markdown object>"
      ]
     },
     "metadata": {},
     "output_type": "display_data"
    },
    {
     "data": {
      "text/markdown": [
       "Aveva **terribilmente** sofferto quando sembrava che il pubblico sedotto dalla nuova musica wagneriana , gli voltasse le spalle ."
      ],
      "text/plain": [
       "<IPython.core.display.Markdown object>"
      ]
     },
     "metadata": {},
     "output_type": "display_data"
    },
    {
     "data": {
      "text/markdown": [
       "Perché , a dire la verità , questi grandi personaggi sovietici sono **terribilmente** noiosi : dicono tutti le stesse cose e le dicono nello stesso modo , anzi con le stesse parole ."
      ],
      "text/plain": [
       "<IPython.core.display.Markdown object>"
      ]
     },
     "metadata": {},
     "output_type": "display_data"
    },
    {
     "data": {
      "text/markdown": [
       "È **terribilmente** lungo e vorrei anche farvi sentire la nostra sigla musicale che tra l’altro è molto graziosa."
      ],
      "text/plain": [
       "<IPython.core.display.Markdown object>"
      ]
     },
     "metadata": {},
     "output_type": "display_data"
    },
    {
     "data": {
      "text/markdown": [
       "Non ne puoi più di vedere tutti fare gli stessi gesti , le stesse cose a tempi interminabili come nelle vacanze di Monsieur Hulot , prendendosi tutti  **terribilmente**  sul serio , giovani e vecchi , uomini e donne ."
      ],
      "text/plain": [
       "<IPython.core.display.Markdown object>"
      ]
     },
     "metadata": {},
     "output_type": "display_data"
    },
    {
     "data": {
      "text/markdown": [
       "Sapevo , dunque , che l' andare a Sirolo ( dove si celebra , in un luogo che lui aveva eletto come suo , e di fronte al cimitero dove è sepolto , il ricordo di un regista **terribilmente** aggressivo , e forse **terribilmente** improvvisatore , direi  **terribilmente**  antiborgesiano ) mi avrebbe dato una preziosa cosa in più , e che questa preziosa cosa era una riflessione amara sul teatro , e sul labilmente esistere , e quasi nulla mi avrebbe detto sulla parola del Vangelo ."
      ],
      "text/plain": [
       "<IPython.core.display.Markdown object>"
      ]
     },
     "metadata": {},
     "output_type": "display_data"
    },
    {
     "data": {
      "text/markdown": [
       "Ho preso  **terribilmente**  sul serio le pagelle che sono fiorite in settimana , superando solo ieri un piccolo choc per il titolo della Gazzetta sul mondo che si spacca ."
      ],
      "text/plain": [
       "<IPython.core.display.Markdown object>"
      ]
     },
     "metadata": {},
     "output_type": "display_data"
    },
    {
     "data": {
      "text/markdown": [
       "E un agricoltore : « Ho lasciato su un argine del Po 60 vacche , le ho viste andar giù , muggivano **terribilmente** , bisogna sentire come urlano le bestie che non vogliono morire , bisogna guardarle negli occhi allucinati ."
      ],
      "text/plain": [
       "<IPython.core.display.Markdown object>"
      ]
     },
     "metadata": {},
     "output_type": "display_data"
    },
    {
     "data": {
      "text/markdown": [
       "Non l ' ha certo inventata Buzzati e nemmeno ne aveva bisogno perché anche una sola lacrima di pietà avrebbe reso indecente un libro che è soltanto vero , **terribilmente** vero ."
      ],
      "text/plain": [
       "<IPython.core.display.Markdown object>"
      ]
     },
     "metadata": {},
     "output_type": "display_data"
    },
    {
     "data": {
      "text/markdown": [
       "Sapevo , dunque , che l' andare a Sirolo ( dove si celebra , in un luogo che lui aveva eletto come suo , e di fronte al cimitero dove è sepolto , il ricordo di un regista **terribilmente** aggressivo , e forse  **terribilmente**  improvvisatore , direi **terribilmente** antiborgesiano ) mi avrebbe dato una preziosa cosa in più , e che questa preziosa cosa era una riflessione amara sul teatro , e sul labilmente esistere , e quasi nulla mi avrebbe detto sulla parola del Vangelo ."
      ],
      "text/plain": [
       "<IPython.core.display.Markdown object>"
      ]
     },
     "metadata": {},
     "output_type": "display_data"
    },
    {
     "data": {
      "text/markdown": [
       "In un posto estremamente remoto , **terribilmente** diverso dalla Patria ."
      ],
      "text/plain": [
       "<IPython.core.display.Markdown object>"
      ]
     },
     "metadata": {},
     "output_type": "display_data"
    },
    {
     "data": {
      "text/markdown": [
       "È un profeta lo scrittore , o la nostra società è così  **terribilmente**  prevedibile , cioè statica ?"
      ],
      "text/plain": [
       "<IPython.core.display.Markdown object>"
      ]
     },
     "metadata": {},
     "output_type": "display_data"
    },
    {
     "data": {
      "text/markdown": [
       "Oggi però la cultura dell' uomo si specializza  **terribilmente**  , non si scrivono più , come nel Medio Evo , delle Summae , bensì delle Enciclopedie ."
      ],
      "text/plain": [
       "<IPython.core.display.Markdown object>"
      ]
     },
     "metadata": {},
     "output_type": "display_data"
    },
    {
     "data": {
      "text/markdown": [
       "In fondo si apriva come una larghissima e piatta fossa , a metà della quale un rotto colonnato , **terribilmente** immobile , formava la facciata esterna dell ' antica reggia ."
      ],
      "text/plain": [
       "<IPython.core.display.Markdown object>"
      ]
     },
     "metadata": {},
     "output_type": "display_data"
    },
    {
     "data": {
      "text/markdown": [
       "E di colpo rividi la bambola nel posto dove l ' avevo avvistata un paio di mesi prima ( allora non ci avevo fatto gran caso ma senza che me ne accorgessi mi era rimasta impressa **terribilmente** ) ."
      ],
      "text/plain": [
       "<IPython.core.display.Markdown object>"
      ]
     },
     "metadata": {},
     "output_type": "display_data"
    },
    {
     "data": {
      "text/markdown": [
       "Ciascuno si regola come meglio crede ... Figurati , quest ' anno ci sarà un ambiente **terribilmente** misto ."
      ],
      "text/plain": [
       "<IPython.core.display.Markdown object>"
      ]
     },
     "metadata": {},
     "output_type": "display_data"
    },
    {
     "data": {
      "text/markdown": [
       "E lei si trovava davanti a un' alternativa terribile : lasciarlo morire di sete o dargli da bere dell' acqua che sapeva  **terribilmente**  inquinata ."
      ],
      "text/plain": [
       "<IPython.core.display.Markdown object>"
      ]
     },
     "metadata": {},
     "output_type": "display_data"
    },
    {
     "data": {
      "text/markdown": [
       "Il re Sole , quando non sapeva come provvedere alle spese di Corte , creava nuove cariche pubbliche e le vendeva al miglior offerente ; i condoni a pagamento per reati commessi contro la pubblica amministrazione rassomigliano  **terribilmente**  a quei metodi di finanza straordinaria e feudale ; certo non è per quella strada che si risana il bilancio dello Stato ."
      ],
      "text/plain": [
       "<IPython.core.display.Markdown object>"
      ]
     },
     "metadata": {},
     "output_type": "display_data"
    },
    {
     "data": {
      "text/markdown": [
       "Era **terribilmente** bizzarra , egli pensò ."
      ],
      "text/plain": [
       "<IPython.core.display.Markdown object>"
      ]
     },
     "metadata": {},
     "output_type": "display_data"
    },
    {
     "data": {
      "text/markdown": [
       "La \" middle class \" , l' arcobaleno dei ceti medi , intermedi , emergenti , rampanti , e anche della buona e sana borghesia laboriosa ( ma un pochino tarda di comprendonio , ma  **terribilmente**  in buona fede ) invade ormai gioiosamente tutto ."
      ],
      "text/plain": [
       "<IPython.core.display.Markdown object>"
      ]
     },
     "metadata": {},
     "output_type": "display_data"
    },
    {
     "data": {
      "text/markdown": [
       "Ridendo insomma tutti lo prendono **terribilmente** sul serio ."
      ],
      "text/plain": [
       "<IPython.core.display.Markdown object>"
      ]
     },
     "metadata": {},
     "output_type": "display_data"
    },
    {
     "data": {
      "text/markdown": [
       "Si sentiva , però , **terribilmente** sveglio ; lo inorridiva il pensiero di trovarsi faccia a faccia col buio e col silenzio che imperano appena spento il lume ."
      ],
      "text/plain": [
       "<IPython.core.display.Markdown object>"
      ]
     },
     "metadata": {},
     "output_type": "display_data"
    },
    {
     "data": {
      "text/markdown": [
       ", \" già , brutto caso , **terribilmente** complicato \" , \" tutti dobbiamo morire \" , \" ha la mano leggera per spedire uno al Creatore \" ."
      ],
      "text/plain": [
       "<IPython.core.display.Markdown object>"
      ]
     },
     "metadata": {},
     "output_type": "display_data"
    },
    {
     "data": {
      "text/markdown": [
       "Fino al 1899 , anno  di  nascita della prima auto a guida interna ( una Renault con l' abitacolo simile a un cappello a cilindro ) auto e moto erano ugualmente e **terribilmente** preda delle intemperie : polvere , acqua , fango e neve erano gli irrinunciabili compagni di viaggio degli avventurosi \" sportivi \" dell' epoca ."
      ],
      "text/plain": [
       "<IPython.core.display.Markdown object>"
      ]
     },
     "metadata": {},
     "output_type": "display_data"
    },
    {
     "data": {
      "text/markdown": [
       "Erano uomini , donne e bambini che hanno **terribilmente** sofferto e che ancora soffriranno a lungo le conseguenze di questi giorni di furia devastatrice ."
      ],
      "text/plain": [
       "<IPython.core.display.Markdown object>"
      ]
     },
     "metadata": {},
     "output_type": "display_data"
    },
    {
     "data": {
      "text/markdown": [
       "Perché questo è uno dei posti più belli del Cadore vale a dire del mondo , ma le bellissime montagne di qui , così diritte così avventurose così aguzze , sono vecchie **terribilmente** vecchie e stanche e per un niente si lasciano andare ."
      ],
      "text/plain": [
       "<IPython.core.display.Markdown object>"
      ]
     },
     "metadata": {},
     "output_type": "display_data"
    },
    {
     "data": {
      "text/markdown": [
       "Introducendo poi , non appena le riuscì , il fratello Stevie nella corrente degli avvenimenti domestici , ella accennò che quel ragazzo era **terribilmente** intristito ."
      ],
      "text/plain": [
       "<IPython.core.display.Markdown object>"
      ]
     },
     "metadata": {},
     "output_type": "display_data"
    },
    {
     "data": {
      "text/markdown": [
       "Con tutto il rispetto per i magistrati come uomini , mi preoccupa quest ' assunzione di poteri da parte di un « ordine autonomo » , non soggetto né direttamente né indirettamente a quella ch ' è la volontà , l ' opinione popolare .Ecco alla stazione di Canton il primo interprete di nome Chog , piccolo , garrulo , dalle frequenti alte risatine , la carnagione color tè senza un poro in vista , gli occhi lucenti come bottoni di jais , capace di esprimersi in buon francese ( solo uno sbaglio ogni tanto come quando , lui così **terribilmente** pudico , ridendo annunciò : « Ce soir on couche tous ensemble !"
      ],
      "text/plain": [
       "<IPython.core.display.Markdown object>"
      ]
     },
     "metadata": {},
     "output_type": "display_data"
    },
    {
     "data": {
      "text/markdown": [
       "Il provvedimento di cassa integrazione a zero ore , per ottomila dipendenti , riporta lo stabilimento ai tempi della più accesa conflittualità ed esaspera  **terribilmente**  i rapporti ."
      ],
      "text/plain": [
       "<IPython.core.display.Markdown object>"
      ]
     },
     "metadata": {},
     "output_type": "display_data"
    },
    {
     "data": {
      "text/markdown": [
       "Insomma il primo bilancio del campionario offerto del Mystfest '85 sembra  **terribilmente**  chiaro : la morte del cinema passa attraverso la decadenza dei generi ."
      ],
      "text/plain": [
       "<IPython.core.display.Markdown object>"
      ]
     },
     "metadata": {},
     "output_type": "display_data"
    },
    {
     "data": {
      "text/markdown": [
       "Alla cronaca dei fatti politici che fa  **terribilmente**  difetto , la \" nera \" tenta di sostituirsi in maniera invadente ."
      ],
      "text/plain": [
       "<IPython.core.display.Markdown object>"
      ]
     },
     "metadata": {},
     "output_type": "display_data"
    },
    {
     "data": {
      "text/markdown": [
       "Fino al 1899 , anno di nascita della prima auto a guida interna ( una Renault con l' abitacolo simile a un cappello a cilindro ) auto e moto erano ugualmente e  **terribilmente**  preda delle intemperie : polvere , acqua , fango e neve erano gli irrinunciabili compagni di viaggio degli avventurosi \" sportivi \" dell' epoca ."
      ],
      "text/plain": [
       "<IPython.core.display.Markdown object>"
      ]
     },
     "metadata": {},
     "output_type": "display_data"
    },
    {
     "data": {
      "text/markdown": [
       "Allo scopo di sollevare lo sguardo languido verso la faccia di chi gli parlava , il Personaggio davanti al caminetto aveva a poco a poco inclinato all ' indietro la testa , tanto da assumere un ' aria **terribilmente** superba ."
      ],
      "text/plain": [
       "<IPython.core.display.Markdown object>"
      ]
     },
     "metadata": {},
     "output_type": "display_data"
    },
    {
     "data": {
      "text/markdown": [
       "i problemi --  **terribilmente**  \" interessanti \" -- che ci siamo trovati di fronte nel caso della \" Achille Lauro \" e di Sigonella ?"
      ],
      "text/plain": [
       "<IPython.core.display.Markdown object>"
      ]
     },
     "metadata": {},
     "output_type": "display_data"
    },
    {
     "data": {
      "text/markdown": [
       "Per chi ha stazionato in Cgil fin dalle prime ore del pomeriggio , la tensione di cui parla Del Turco è stata  **terribilmente**  concreta ."
      ],
      "text/plain": [
       "<IPython.core.display.Markdown object>"
      ]
     },
     "metadata": {},
     "output_type": "display_data"
    },
    {
     "data": {
      "text/markdown": [
       "Era paralizzato dalle reni in giù , ed aveva le gambe atrofiche , sottili come stecchi ; ma i suoi occhi , persi nel viso triangolare e smunto , saettavano **terribilmente** vivi , pieni di richiesta , di asserzione , della volontà di scatenarsi , di rompere la tomba del mutismo ."
      ],
      "text/plain": [
       "<IPython.core.display.Markdown object>"
      ]
     },
     "metadata": {},
     "output_type": "display_data"
    },
    {
     "data": {
      "text/markdown": [
       "La seconda parte , quella relativa alla non disponibilità di Gerusalemme per le trattative , anche se prevista , complica  **terribilmente**  la situazione ."
      ],
      "text/plain": [
       "<IPython.core.display.Markdown object>"
      ]
     },
     "metadata": {},
     "output_type": "display_data"
    },
    {
     "data": {
      "text/markdown": [
       "Margherita si inquietò allora **terribilmente** coi ragazzi  - Da oggi la chiave della cassettina la tengo io !"
      ],
      "text/plain": [
       "<IPython.core.display.Markdown object>"
      ]
     },
     "metadata": {},
     "output_type": "display_data"
    },
    {
     "data": {
      "text/markdown": [
       "Ci mancheranno  **terribilmente**  i compagni dialettici che il partito mandava ai nostri dibattiti ; sempre seduti in terza fila e di fianco , con un che di professorale e di catechistico , dolenti ma in dovere di segnalare al pubblico la nostra \" mancanza di spessore \" o \" l' illuminismo velleitario \" o \" l' illusione neocapitalistica \" ."
      ],
      "text/plain": [
       "<IPython.core.display.Markdown object>"
      ]
     },
     "metadata": {},
     "output_type": "display_data"
    }
   ],
   "source": [
    "find_sentences_with_keyword(document9, 'terribilmente')"
   ]
  },
  {
   "cell_type": "markdown",
   "id": "17587fce",
   "metadata": {},
   "source": [
    "### Zeitraum 10: 1986-2000"
   ]
  },
  {
   "cell_type": "code",
   "execution_count": 35,
   "id": "385db3e0",
   "metadata": {},
   "outputs": [],
   "source": [
    "text10 = ''\n",
    "for i in df10.text:\n",
    "    text10 += i"
   ]
  },
  {
   "cell_type": "code",
   "execution_count": 36,
   "id": "87e78b44",
   "metadata": {},
   "outputs": [],
   "source": [
    "document10 = nltk.sent_tokenize(text10)"
   ]
  },
  {
   "cell_type": "code",
   "execution_count": 37,
   "id": "3bf76049",
   "metadata": {},
   "outputs": [
    {
     "data": {
      "text/markdown": [
       "E' una vita molto dura che riunisce diverse generazioni di allievi , a cui se ne aggiungeranno altre  **terribilmente**  giovani , con continuo successo sia a casa che nei viaggi per il mondo , da noi assunti come una missione per parlare agli altri e scoprire gli altri ."
      ],
      "text/plain": [
       "<IPython.core.display.Markdown object>"
      ]
     },
     "metadata": {},
     "output_type": "display_data"
    },
    {
     "data": {
      "text/markdown": [
       "La Lazio questi spazi glieli nega ed è molto abile a ritagliarseli , con una maniera di giocare che sarà vecchia di vent' anni , come sostengono alcuni addetti ai lavori , ma a me non pare e peraltro in questa primavera '98 è  **terribilmente**  efficace ."
      ],
      "text/plain": [
       "<IPython.core.display.Markdown object>"
      ]
     },
     "metadata": {},
     "output_type": "display_data"
    },
    {
     "data": {
      "text/markdown": [
       "Suona oggi  **terribilmente**  improponibile , però , stando ai veti incrociati , alle radicate diffidenze , alle rinfocolate ostilità , e anche alla scarsa commensurabilità della rappresentatività di ciascuno ."
      ],
      "text/plain": [
       "<IPython.core.display.Markdown object>"
      ]
     },
     "metadata": {},
     "output_type": "display_data"
    },
    {
     "data": {
      "text/markdown": [
       "Se c' era ancora una possibilità e non è stata                                   Parlando con suor Sandra e con Paolo Onelli , un volontario di 26 anni laureato in Giurisprudenza , che  presto  si sposerà e andrà a vivere con la moglie nella casa famiglia , capisco subito che quasi tutti i bambini                      centrocampo , la difesa ne soffriva **terribilmente** , Liedholm si spaventò e prese provvedimenti ."
      ],
      "text/plain": [
       "<IPython.core.display.Markdown object>"
      ]
     },
     "metadata": {},
     "output_type": "display_data"
    },
    {
     "data": {
      "text/markdown": [
       "VIPITENO -- Nella Juventus che ripropone gli uomini di ieri per le suggestioni di  oggi  e , forse , per le vittorie di domani , Stefano Tacconi ha deciso di restare **terribilmente** uguale a                                                                                                                                                                                                                                                                                                                                                                                                                                                                                                                                                                                                                                                                                                                                                                      E  sono contento d' averlo fatto ."
      ],
      "text/plain": [
       "<IPython.core.display.Markdown object>"
      ]
     },
     "metadata": {},
     "output_type": "display_data"
    },
    {
     "data": {
      "text/markdown": [
       "Che vuol dire sopraffazione , annichilimento , svalutazione da parte degli adulti di un bambino , un essere che è sempre  **terribilmente**  piccolo e impotente ."
      ],
      "text/plain": [
       "<IPython.core.display.Markdown object>"
      ]
     },
     "metadata": {},
     "output_type": "display_data"
    },
    {
     "data": {
      "text/markdown": [
       "chi crede che Bertinotti sia un comunista si sbaglia di grosso : è un massimalista con forti dosi di narcisismo il che complica  **terribilmente**  le cose ."
      ],
      "text/plain": [
       "<IPython.core.display.Markdown object>"
      ]
     },
     "metadata": {},
     "output_type": "display_data"
    },
    {
     "data": {
      "text/markdown": [
       "Del resto , l' Atalanta ha deciso di complicarsi **terribilmente** la vita dopo appena 90 \" : tutti avanti , Montero compreso , e quindi tutti sbilanciati sulla palla lunga lanciata da Desailly ."
      ],
      "text/plain": [
       "<IPython.core.display.Markdown object>"
      ]
     },
     "metadata": {},
     "output_type": "display_data"
    },
    {
     "data": {
      "text/markdown": [
       "Una musica che , nelle diverse e variegate espressioni , rimane ancora fresca , tutt ' altro che datata e  **terribilmente**  vitale ."
      ],
      "text/plain": [
       "<IPython.core.display.Markdown object>"
      ]
     },
     "metadata": {},
     "output_type": "display_data"
    },
    {
     "data": {
      "text/markdown": [
       "Catastrofi accidentali e catastrofi provocate dai dittatori di tutte le latitudini sono infatti  **terribilmente**  simili ."
      ],
      "text/plain": [
       "<IPython.core.display.Markdown object>"
      ]
     },
     "metadata": {},
     "output_type": "display_data"
    },
    {
     "data": {
      "text/markdown": [
       "È  **terribilmente**  accaldato , Depardieu , tutto in nero , e soffre molto il caldo ."
      ],
      "text/plain": [
       "<IPython.core.display.Markdown object>"
      ]
     },
     "metadata": {},
     "output_type": "display_data"
    },
    {
     "data": {
      "text/markdown": [
       "Come tutti gli stranieri -- scriveva ieri il quotidiano Moskovskij Komsomoletz -- anche questi ' Angeli ' sono  **terribilmente**  ingenui ."
      ],
      "text/plain": [
       "<IPython.core.display.Markdown object>"
      ]
     },
     "metadata": {},
     "output_type": "display_data"
    },
    {
     "data": {
      "text/markdown": [
       "Dall' altra la marea delle critiche che monta ogni giorno di più : Sarah è grassa , è sciatta , è sgraziata , è inadatta al ruolo , è maleducata , si veste male , è incosciente , è pigra , è ignorante , è  **terribilmente**  spendacciona e assetata di soldi ."
      ],
      "text/plain": [
       "<IPython.core.display.Markdown object>"
      ]
     },
     "metadata": {},
     "output_type": "display_data"
    },
    {
     "data": {
      "text/markdown": [
       "Berlinguer come Lenin : « L ' unità della lotta per un paradiso in terra che preme più dell ' unità delle opinioni per un paradiso in cielo » .**terribilmente** piccoloUn'avventura **terribilmente** complicataca!"
      ],
      "text/plain": [
       "<IPython.core.display.Markdown object>"
      ]
     },
     "metadata": {},
     "output_type": "display_data"
    },
    {
     "data": {
      "text/markdown": [
       "Un medico mi aveva spiegato che per passare da uno stato psicologico a un altro abbiamo bisogno di sbattere gli occhi , e se ti tengono gli occhi aperti diventi  **terribilmente**  irritabile , quindi una cosa del genere ha un' influenza psicologica su di te ."
      ],
      "text/plain": [
       "<IPython.core.display.Markdown object>"
      ]
     },
     "metadata": {},
     "output_type": "display_data"
    },
    {
     "data": {
      "text/markdown": [
       "Temo però che nell' ambito di questo partito , e sottolineo di \" questo \" partito , sarà difficile ormai recuperare una credibilità così  **terribilmente**  scossa \" ."
      ],
      "text/plain": [
       "<IPython.core.display.Markdown object>"
      ]
     },
     "metadata": {},
     "output_type": "display_data"
    },
    {
     "data": {
      "text/markdown": [
       "Più di altre volte sono  **terribilmente**  difficili e non è un caso che oggi piombi ad Olbia proprio Vincenzo Parisi ."
      ],
      "text/plain": [
       "<IPython.core.display.Markdown object>"
      ]
     },
     "metadata": {},
     "output_type": "display_data"
    },
    {
     "data": {
      "text/markdown": [
       "Soffrii **terribilmente** ,  orribilmente  , come un condannato ."
      ],
      "text/plain": [
       "<IPython.core.display.Markdown object>"
      ]
     },
     "metadata": {},
     "output_type": "display_data"
    },
    {
     "data": {
      "text/markdown": [
       "Amo le grandi arterie ma soffro **terribilmente** in città intrappolata nel caos , asfissiata dalle auto , alla ricerca ossessiva di un parcheggio : ne va del mio tempo che , invece ,  ho  scelto di razionalizzare al massimo ."
      ],
      "text/plain": [
       "<IPython.core.display.Markdown object>"
      ]
     },
     "metadata": {},
     "output_type": "display_data"
    },
    {
     "data": {
      "text/markdown": [
       "Il grande oratore giace sul letto di morte e soffre **terribilmente** ."
      ],
      "text/plain": [
       "<IPython.core.display.Markdown object>"
      ]
     },
     "metadata": {},
     "output_type": "display_data"
    },
    {
     "data": {
      "text/markdown": [
       "Qualcuno lo prese  **terribilmente**  sul serio e compì la stessa impresa battendo il suo record , che record non era , di due ore ."
      ],
      "text/plain": [
       "<IPython.core.display.Markdown object>"
      ]
     },
     "metadata": {},
     "output_type": "display_data"
    },
    {
     "data": {
      "text/markdown": [
       "Fra l' altro , Montanari , così come Baggio , deve fare i conti con due tipetti alti una spanna , ma tecnici e  **terribilmente**  svelti , che trasformano i centimetri in meno in sofferenze garantite a ogni azione ."
      ],
      "text/plain": [
       "<IPython.core.display.Markdown object>"
      ]
     },
     "metadata": {},
     "output_type": "display_data"
    },
    {
     "data": {
      "text/markdown": [
       "Gli umori degli industriali privati verso la classe politica restano arcigni e diffidenti ; dalla legge finanziaria la Confindustria non si aspetta niente di buono ; lo scambio di idee con i leader dei maggiori partiti è sì servito ad appurare che la crisi economica italiana è  **terribilmente**  seria , in un comune convenire che serve la famosa \" svolta \" ; ma anche a toccare con mano che la situazione politica è \" imballata \" , con l' aggavante di una crisi di governo che incombe di nuovo , senza peraltro venir dichiarata ."
      ],
      "text/plain": [
       "<IPython.core.display.Markdown object>"
      ]
     },
     "metadata": {},
     "output_type": "display_data"
    },
    {
     "data": {
      "text/markdown": [
       "Viste da quaggiù , da Palermo , queste due storie appaiono simili o , per essere più precisi ,  **terribilmente**  uguali ."
      ],
      "text/plain": [
       "<IPython.core.display.Markdown object>"
      ]
     },
     "metadata": {},
     "output_type": "display_data"
    },
    {
     "data": {
      "text/markdown": [
       "Certo , sembra davvero un' incongruenza , sembra che si tenda sempre ad aumentare i disagi dello spettatore , la vera vittima di una situazione di malessere diffusa in tutta Italia , situazione che oltre a creare problemi oggi sta complicando  **terribilmente**  anche il domani , cioè i lavori in vista del mondiale . \""
      ],
      "text/plain": [
       "<IPython.core.display.Markdown object>"
      ]
     },
     "metadata": {},
     "output_type": "display_data"
    },
    {
     "data": {
      "text/markdown": [
       "Altrimenti con i tre dietro il gioco è  **terribilmente**  piatto \" dichiara la Commissione Tecnica ."
      ],
      "text/plain": [
       "<IPython.core.display.Markdown object>"
      ]
     },
     "metadata": {},
     "output_type": "display_data"
    },
    {
     "data": {
      "text/markdown": [
       "Allora sì che sarebbe uno spettacolo unico , inedito , senza il rischio di annoiare  **terribilmente**  il pubblico , stordito da quattro ore a sera di canzoni ."
      ],
      "text/plain": [
       "<IPython.core.display.Markdown object>"
      ]
     },
     "metadata": {},
     "output_type": "display_data"
    },
    {
     "data": {
      "text/markdown": [
       "Tuttavia , mentre il numero dei nati continua  a  restare **terribilmente** alto , il tasso di fertilità sta lentamente cominciando a scendere ."
      ],
      "text/plain": [
       "<IPython.core.display.Markdown object>"
      ]
     },
     "metadata": {},
     "output_type": "display_data"
    },
    {
     "data": {
      "text/markdown": [
       "Il nostro è un gioco bello da vedere ma , almeno per adesso  **terribilmente**  faticoso da portare avanti ."
      ],
      "text/plain": [
       "<IPython.core.display.Markdown object>"
      ]
     },
     "metadata": {},
     "output_type": "display_data"
    },
    {
     "data": {
      "text/markdown": [
       "Se davvero è scivolata su un destino imprevisto , farà bene a rialzarsi contro il Manchester United in una partita **terribilmente** importante e  **terribilmente**  prematura ."
      ],
      "text/plain": [
       "<IPython.core.display.Markdown object>"
      ]
     },
     "metadata": {},
     "output_type": "display_data"
    },
    {
     "data": {
      "text/markdown": [
       "Arbore , e più che Arbore , Roberto d' Agostino hanno qui imitatori e seguaci : l' impegno civile è  **terribilmente**  fuori moda , noioso , palloso ."
      ],
      "text/plain": [
       "<IPython.core.display.Markdown object>"
      ]
     },
     "metadata": {},
     "output_type": "display_data"
    },
    {
     "data": {
      "text/markdown": [
       "Gli pesava ancora addosso l' ombra di Viola e i suoi modi , mai condivisibili , ma  **terribilmente**  validi ."
      ],
      "text/plain": [
       "<IPython.core.display.Markdown object>"
      ]
     },
     "metadata": {},
     "output_type": "display_data"
    },
    {
     "data": {
      "text/markdown": [
       "Ma i suoi argomenti sono  **terribilmente**  seri . \""
      ],
      "text/plain": [
       "<IPython.core.display.Markdown object>"
      ]
     },
     "metadata": {},
     "output_type": "display_data"
    },
    {
     "data": {
      "text/markdown": [
       "Per quanto riguarda l' aspetto emaciato ,  **terribilmente**  smagrito , Mironov assicura che non c' è da preoccuparsi . \""
      ],
      "text/plain": [
       "<IPython.core.display.Markdown object>"
      ]
     },
     "metadata": {},
     "output_type": "display_data"
    },
    {
     "data": {
      "text/markdown": [
       "Così , proprio nel momento in cui le controversie si fanno più aspre , si divaricano pure i punti di vista , che spesso si presentano come  **terribilmente**  distanti , se non proprio inconciliabili ."
      ],
      "text/plain": [
       "<IPython.core.display.Markdown object>"
      ]
     },
     "metadata": {},
     "output_type": "display_data"
    },
    {
     "data": {
      "text/markdown": [
       "La Roma soffre  **terribilmente**  in difesa , la squadra è allungata e il centrocampo non riesce a fare diga ."
      ],
      "text/plain": [
       "<IPython.core.display.Markdown object>"
      ]
     },
     "metadata": {},
     "output_type": "display_data"
    },
    {
     "data": {
      "text/markdown": [
       "Solo che , a differenza di alcuni suoi compatrioti , Washington Irving non si prendeva  **terribilmente**  sul serio , né prendeva **terribilmente** sul serio la neonata America : preferiva , con una vena amarognola e uno humour parente un po' di Sterne e un po' di Swift , scegliere la via della satira gentile , o inventare , per la gioia degli psicoanalisti , le sue leggende perversamente antieroiche ."
      ],
      "text/plain": [
       "<IPython.core.display.Markdown object>"
      ]
     },
     "metadata": {},
     "output_type": "display_data"
    },
    {
     "data": {
      "text/markdown": [
       "Invece anche qui si fanno paragoni , si mettono a confronto i moduli di Trapattoni e quelli di Sacchi , tutto diventa  **terribilmente**  pesante , conflittuale ."
      ],
      "text/plain": [
       "<IPython.core.display.Markdown object>"
      ]
     },
     "metadata": {},
     "output_type": "display_data"
    },
    {
     "data": {
      "text/markdown": [
       "Sono  **terribilmente**  stanco , ma adesso sarà più facile continuare a lavorare \" ."
      ],
      "text/plain": [
       "<IPython.core.display.Markdown object>"
      ]
     },
     "metadata": {},
     "output_type": "display_data"
    },
    {
     "data": {
      "text/markdown": [
       "Di certo non ha mancato di alzare la voce contro i tribalismi , l' oppressione , i razzismi e le intolleranze , e di criticare i governi corrotti locali , ma per quanto riguarda il \" quotidiano \" africano è apparso \"  **terribilmente**  conservatore \" ."
      ],
      "text/plain": [
       "<IPython.core.display.Markdown object>"
      ]
     },
     "metadata": {},
     "output_type": "display_data"
    },
    {
     "data": {
      "text/markdown": [
       "L' ascesa di Haider mi ha spaventato  **terribilmente**  ."
      ],
      "text/plain": [
       "<IPython.core.display.Markdown object>"
      ]
     },
     "metadata": {},
     "output_type": "display_data"
    },
    {
     "data": {
      "text/markdown": [
       "Per il resto Zenga e Tacconi sono **terribilmente** diversi : e ora anche antagonisti ,  domani  giocheranno un tempo ciascuno contro l' Olanda ( così ha deciso Vicini ) , ma in futuro , vedrete ,                                              gli hanno dato tre o quattro palloni giocabili , certo visto in televisione , con la Juventus , avevo  paura  che mi potesse creare molti più problemi ."
      ],
      "text/plain": [
       "<IPython.core.display.Markdown object>"
      ]
     },
     "metadata": {},
     "output_type": "display_data"
    },
    {
     "data": {
      "text/markdown": [
       "Il presidente della Rizzoli consiglia di affidare la costruzione delle suddette infrastrutture ai privati ; da qualche parte viene fatto notare che i suddetti privati , per quanto riguarda nuovi investimenti , si sono dimostrati finora  **terribilmente**  avari , ma l' argomento viene liquidato con la semplice constatazione che \" manca la fiducia ed è per questo che non si fanno investimenti sufficienti \" ."
      ],
      "text/plain": [
       "<IPython.core.display.Markdown object>"
      ]
     },
     "metadata": {},
     "output_type": "display_data"
    },
    {
     "data": {
      "text/markdown": [
       "**terribilmente**  noioso , temo , ma assai piacevole ."
      ],
      "text/plain": [
       "<IPython.core.display.Markdown object>"
      ]
     },
     "metadata": {},
     "output_type": "display_data"
    },
    {
     "data": {
      "text/markdown": [
       "Da  allora  , in verità , Jackie ha dovuto rallentare **terribilmente** il suo impegno di consulente presso una casa editrice nei cui uffici si lavorava almeno tre giorni alla settimana ."
      ],
      "text/plain": [
       "<IPython.core.display.Markdown object>"
      ]
     },
     "metadata": {},
     "output_type": "display_data"
    },
    {
     "data": {
      "text/markdown": [
       "Felici di non essere ricchi ma studenti di college , come nei film della giovane America che corre , un po' retorica e plastificata ma  **terribilmente**  ingenua , simpatica , con un bel cuore fresco ."
      ],
      "text/plain": [
       "<IPython.core.display.Markdown object>"
      ]
     },
     "metadata": {},
     "output_type": "display_data"
    },
    {
     "data": {
      "text/markdown": [
       "Milano è  **terribilmente**  indietro e ieri il presidente della Confindustria , Giorgio Fossa , non ha mancato di sottolinearlo con forza affermando che Piazza Affari è un mercato che , per scambi e numero di società quotate \" è al livello della Borsa di Teheran \" ."
      ],
      "text/plain": [
       "<IPython.core.display.Markdown object>"
      ]
     },
     "metadata": {},
     "output_type": "display_data"
    },
    {
     "data": {
      "text/markdown": [
       "Una serie di ristampe e numerose manifestazioni organizzate per il bicentenario della nascita di Lamartine offrono tuttavia l' occasione di riesaminare , con sereno distacco , la vita di quest' uomo ad un tempo affascinante e sconcertante , e la sua opera , per certi aspetti geniale , ma  **terribilmente**  discontinua ."
      ],
      "text/plain": [
       "<IPython.core.display.Markdown object>"
      ]
     },
     "metadata": {},
     "output_type": "display_data"
    },
    {
     "data": {
      "text/markdown": [
       "Proprio perché gesto estremo , va specchiato nel quotidiano : deve almeno ,  **terribilmente**  servire , come manifestazione del \" nulla \" , il male del nulla lo chiamava David Maria Turoldo ."
      ],
      "text/plain": [
       "<IPython.core.display.Markdown object>"
      ]
     },
     "metadata": {},
     "output_type": "display_data"
    },
    {
     "data": {
      "text/markdown": [
       "consigliere del Csm Antonio Frasso , la vera protagonista di quest' assemblea gremita come poche è stata l' emotività di una categoria che si sente accerchiata , spinta dal potere politico dentro un recinto normativo che sembra andarle **terribilmente** stretto ."
      ],
      "text/plain": [
       "<IPython.core.display.Markdown object>"
      ]
     },
     "metadata": {},
     "output_type": "display_data"
    },
    {
     "data": {
      "text/markdown": [
       "A volte impiego un' intera giornata per scrivere duecento caratteri , eppure mi sento  **terribilmente**  stanco \" ."
      ],
      "text/plain": [
       "<IPython.core.display.Markdown object>"
      ]
     },
     "metadata": {},
     "output_type": "display_data"
    },
    {
     "data": {
      "text/markdown": [
       "Eppure i ragazzi continuano a prenderli  **terribilmente**  sul serio questi esami , con tutte le ansie , le veglie notturne , le depressioni , gli scongiuri della vecchia tradizione ."
      ],
      "text/plain": [
       "<IPython.core.display.Markdown object>"
      ]
     },
     "metadata": {},
     "output_type": "display_data"
    },
    {
     "data": {
      "text/markdown": [
       "INTERVENTI UMANITARI di David Rieff \" ... L' intervento umanitario è al tempo stesso un' idea immensamente forte e  **terribilmente**  imprecisa ."
      ],
      "text/plain": [
       "<IPython.core.display.Markdown object>"
      ]
     },
     "metadata": {},
     "output_type": "display_data"
    },
    {
     "data": {
      "text/markdown": [
       "Ma adesso , per colpa di ... Platini , tutto si complica  **terribilmente**  anche perché c' è di mezzo l' Inghilterra che a Torino non può , e nemmeno vuole , giocare ( incidenti degli hooligans agli Europei dell' 80 e poi la fresca ferita dell' Heysel ) ."
      ],
      "text/plain": [
       "<IPython.core.display.Markdown object>"
      ]
     },
     "metadata": {},
     "output_type": "display_data"
    },
    {
     "data": {
      "text/markdown": [
       "Lo Zibaldone di Cavour , particolarmente nutrito negli anni dell' educazione sentimentale , restituisce la fatica di vivere d' un giovane inquieto e ombroso , incline a umori saturnini ,  **terribilmente**  complicato , impulsivo negli accessi di passione , affascinato dalle diavolerie del gioco ."
      ],
      "text/plain": [
       "<IPython.core.display.Markdown object>"
      ]
     },
     "metadata": {},
     "output_type": "display_data"
    },
    {
     "data": {
      "text/markdown": [
       "Eppure ci sono attività di gioco che sono  **terribilmente**  impegnative e faticose \" ."
      ],
      "text/plain": [
       "<IPython.core.display.Markdown object>"
      ]
     },
     "metadata": {},
     "output_type": "display_data"
    },
    {
     "data": {
      "text/markdown": [
       "Walter non vuole studiare , ed è  **terribilmente**  geloso del fratello maggiore e della nuova compagna del padre ."
      ],
      "text/plain": [
       "<IPython.core.display.Markdown object>"
      ]
     },
     "metadata": {},
     "output_type": "display_data"
    },
    {
     "data": {
      "text/markdown": [
       "È il riconoscimento di un potere che a Mosca non ha alternative , di un presidente che non ha più rivali , anche se le sue prospettive sono ancora  **terribilmente**  confuse ."
      ],
      "text/plain": [
       "<IPython.core.display.Markdown object>"
      ]
     },
     "metadata": {},
     "output_type": "display_data"
    },
    {
     "data": {
      "text/markdown": [
       "La bastarda ne soffre  **terribilmente**  ."
      ],
      "text/plain": [
       "<IPython.core.display.Markdown object>"
      ]
     },
     "metadata": {},
     "output_type": "display_data"
    },
    {
     "data": {
      "text/markdown": [
       "Meno solare , ma altrettanto ,  **terribilmente**  efficace è Edgar Davids , cresciuto , come una quantità inesausta di ragazzini olandesi , nel mito Ajax ."
      ],
      "text/plain": [
       "<IPython.core.display.Markdown object>"
      ]
     },
     "metadata": {},
     "output_type": "display_data"
    },
    {
     "data": {
      "text/markdown": [
       "E anch' io sono  **terribilmente**  ignorante riguardo all' Italia , che pure è un paese che amo tanto , e in cui ho suonato spesso ."
      ],
      "text/plain": [
       "<IPython.core.display.Markdown object>"
      ]
     },
     "metadata": {},
     "output_type": "display_data"
    },
    {
     "data": {
      "text/markdown": [
       "I muscoli sgonfi complicano  **terribilmente**  la metamorfosi tattica in svolgimento , dal collaudatissimo 5 - 3 - 2 al 4 - 3 - 3 ."
      ],
      "text/plain": [
       "<IPython.core.display.Markdown object>"
      ]
     },
     "metadata": {},
     "output_type": "display_data"
    },
    {
     "data": {
      "text/markdown": [
       "E anche se è stato  **terribilmente**  doloroso , l' ho fatto perché penso che sia doveroso raccontare la morte com' è veramente , non lasciarla all' invenzione , non espellerla dalla vita e dall' esperienza come si tende a fare nella nostra società \" ."
      ],
      "text/plain": [
       "<IPython.core.display.Markdown object>"
      ]
     },
     "metadata": {},
     "output_type": "display_data"
    },
    {
     "data": {
      "text/markdown": [
       "La sua forza più grande -- aveva detto Holyfield prima del match -- è nel fatto che desidera  **terribilmente**  vincere ' ."
      ],
      "text/plain": [
       "<IPython.core.display.Markdown object>"
      ]
     },
     "metadata": {},
     "output_type": "display_data"
    },
    {
     "data": {
      "text/markdown": [
       "Erano pelle e ossa , e faceva **terribilmente** freddo ."
      ],
      "text/plain": [
       "<IPython.core.display.Markdown object>"
      ]
     },
     "metadata": {},
     "output_type": "display_data"
    },
    {
     "data": {
      "text/markdown": [
       "È una scrittura molto bella , ( ben tradotta ) , molto poetica , **terribilmente** densa di pensieri e incrostata di significati ."
      ],
      "text/plain": [
       "<IPython.core.display.Markdown object>"
      ]
     },
     "metadata": {},
     "output_type": "display_data"
    },
    {
     "data": {
      "text/markdown": [
       "Non poteva sapere  allora  quanto sarebbe stato **terribilmente** vero per lui ."
      ],
      "text/plain": [
       "<IPython.core.display.Markdown object>"
      ]
     },
     "metadata": {},
     "output_type": "display_data"
    },
    {
     "data": {
      "text/markdown": [
       "Di un uomo dotato d' intelligenza spregiudicata , abile carrierista nel mondo della mafia , eppure  **terribilmente**  grigio con quella spietatezza che quasi sempre ha il segno della gratuità ."
      ],
      "text/plain": [
       "<IPython.core.display.Markdown object>"
      ]
     },
     "metadata": {},
     "output_type": "display_data"
    },
    {
     "data": {
      "text/markdown": [
       "Liquidati gli scambi del destino e le strade mai percorse dal medesimo , Ancelotti si sforza  **terribilmente**  di tenersi dentro quell' insaccato di emozioni che sarà la sua partita . \""
      ],
      "text/plain": [
       "<IPython.core.display.Markdown object>"
      ]
     },
     "metadata": {},
     "output_type": "display_data"
    },
    {
     "data": {
      "text/markdown": [
       "Egli è oggi profondamente , **terribilmente** solo in un paese nel quale , come minimo , ha fatto germogliare il seme della democrazia ."
      ],
      "text/plain": [
       "<IPython.core.display.Markdown object>"
      ]
     },
     "metadata": {},
     "output_type": "display_data"
    },
    {
     "data": {
      "text/markdown": [
       "Però non  sono  **terribilmente** sorpreso : ho visto passare un sacco di gente che col potere perde la propria identità ."
      ],
      "text/plain": [
       "<IPython.core.display.Markdown object>"
      ]
     },
     "metadata": {},
     "output_type": "display_data"
    },
    {
     "data": {
      "text/markdown": [
       "Ma al di là della valanga di critiche ' tecniche ' sollevate dallo stesso Borrelli , dal giudice Mario Almerighi , dal fondatore del nuovo gruppo , il consigliere del Csm Antonio Frasso , la vera protagonista di quest' assemblea gremita come poche è stata l' emotività di una categoria che si sente accerchiata , spinta dal potere politico dentro un recinto normativo che sembra andarle  **terribilmente**  stretto ."
      ],
      "text/plain": [
       "<IPython.core.display.Markdown object>"
      ]
     },
     "metadata": {},
     "output_type": "display_data"
    },
    {
     "data": {
      "text/markdown": [
       "CORSI di formazione che promettono folgoranti carriere di attrice o fotomodella ; firme strappate a volo per enciclopedie assolutamente inutili e  **terribilmente**  costose ; lauree in medicina conseguite in Italia e rilasciate nello Sri-Lanka ; bollettini somiglianti ai contocorrenti della luce o del gas ma che servono a foraggiare anonime società ."
      ],
      "text/plain": [
       "<IPython.core.display.Markdown object>"
      ]
     },
     "metadata": {},
     "output_type": "display_data"
    },
    {
     "data": {
      "text/markdown": [
       "Questo paese è ancora  **terribilmente**  omofobico ."
      ],
      "text/plain": [
       "<IPython.core.display.Markdown object>"
      ]
     },
     "metadata": {},
     "output_type": "display_data"
    },
    {
     "data": {
      "text/markdown": [
       "Occhio anche a non scambiare delle parole inoffensive per delle advances : \" love \" è un vocabolo con cui nel Regno Unito ci si rivolge spesso al gentil sesso , avverte l' autrice , senza percepire di essere  **terribilmente**  irritanti ."
      ],
      "text/plain": [
       "<IPython.core.display.Markdown object>"
      ]
     },
     "metadata": {},
     "output_type": "display_data"
    },
    {
     "data": {
      "text/markdown": [
       "AMSTERDAM -- Un pareggio sofferto e  **terribilmente**  utile ha regalato all' Ajax l' unica coppa che gli mancava ."
      ],
      "text/plain": [
       "<IPython.core.display.Markdown object>"
      ]
     },
     "metadata": {},
     "output_type": "display_data"
    },
    {
     "data": {
      "text/markdown": [
       "Aveva appena 26 anni la Garbo , e soprattutto era  **terribilmente**  più insicura di quanto appariva sullo schermo ."
      ],
      "text/plain": [
       "<IPython.core.display.Markdown object>"
      ]
     },
     "metadata": {},
     "output_type": "display_data"
    },
    {
     "data": {
      "text/markdown": [
       "E perfino il poeta Yeats , all' epoca non solidale con i rivoltosi , scrisse dopo le esecuzioni che \" era nato qualcosa di  **terribilmente**  bello \" ."
      ],
      "text/plain": [
       "<IPython.core.display.Markdown object>"
      ]
     },
     "metadata": {},
     "output_type": "display_data"
    },
    {
     "data": {
      "text/markdown": [
       "Il secondo , forse assai più importante , è che Bassolino raccoglie il consenso di quegli strati sociali che , pur  **terribilmente**  colpiti dalla crisi , del ribellismo senza prospettive non sono prigionieri : è una carta di grande rilievo in una città come questa , una grande isola di saldezza in una Napoli soffocata ."
      ],
      "text/plain": [
       "<IPython.core.display.Markdown object>"
      ]
     },
     "metadata": {},
     "output_type": "display_data"
    },
    {
     "data": {
      "text/markdown": [
       "**terribilmente**  gelosa \" : June Scobee voleva essere insieme a suo marito , il comandante del Challenger , nella missione di ieri . \""
      ],
      "text/plain": [
       "<IPython.core.display.Markdown object>"
      ]
     },
     "metadata": {},
     "output_type": "display_data"
    },
    {
     "data": {
      "text/markdown": [
       "Il leader dell' Ulster unionist party , David Trimble , finora il più restio ad ammettere la possibilità di un accordo sul futuro assetto costituzionale delle sei contee del Nordirlanda , ieri ha concesso la prima apertura ai cattolici nazionalisti del Sinn Féin : \" Non sono  **terribilmente**  ottimista , ma l' accordo è possibile \" , ha detto Trimble , che rappresenta il partito più votato dai protestanti unionisti ."
      ],
      "text/plain": [
       "<IPython.core.display.Markdown object>"
      ]
     },
     "metadata": {},
     "output_type": "display_data"
    },
    {
     "data": {
      "text/markdown": [
       "Scatta la curiosità per questo concetto che ribalta  e  addolcisce le accuse che di consueto vengono fatte ai piccoli felini di casa , di essere cioè poco affezionati ai padroni , troppo indipendenti , **terribilmente** opportunisti ."
      ],
      "text/plain": [
       "<IPython.core.display.Markdown object>"
      ]
     },
     "metadata": {},
     "output_type": "display_data"
    },
    {
     "data": {
      "text/markdown": [
       "Dico forse , perché in questi casi è **terribilmente** difficile decidere , e lo stesso direttore del \" Mattino \" , Pasquale Nonno , ha dichiarato di avere scelto ( per la pubblicazione ) \" con \" pietà \" , con dolore e soprattutto con  atterrita  impotenza davanti al grande mistero della vita e della natura \" ."
      ],
      "text/plain": [
       "<IPython.core.display.Markdown object>"
      ]
     },
     "metadata": {},
     "output_type": "display_data"
    },
    {
     "data": {
      "text/markdown": [
       "La risposta , oltre che concettualmente ovvia , è suggerita dal fatto che nessuno ne affaccia una diversa , tali e tante , e così  **terribilmente**  gravi , ne sarebbero le implicazioni ."
      ],
      "text/plain": [
       "<IPython.core.display.Markdown object>"
      ]
     },
     "metadata": {},
     "output_type": "display_data"
    },
    {
     "data": {
      "text/markdown": [
       "**terribilmente**  sincere ."
      ],
      "text/plain": [
       "<IPython.core.display.Markdown object>"
      ]
     },
     "metadata": {},
     "output_type": "display_data"
    },
    {
     "data": {
      "text/markdown": [
       "IL GIOCO del calcio è tornato  **terribilmente**  di moda in Iran ."
      ],
      "text/plain": [
       "<IPython.core.display.Markdown object>"
      ]
     },
     "metadata": {},
     "output_type": "display_data"
    },
    {
     "data": {
      "text/markdown": [
       "Come dire che il valore della lira , in questi giorni tempestosi , non c' entra nulla con lo stato di salute reale dell' economia italiana , ma risente  **terribilmente**  delle convulsioni della politica , riflette le paure , le incertezze , le delusioni e le speranze del mondo della finanza , degli imprenditori , della buona borghesia che ha dei soldi e non sa più come investirli con un minimo di sicurezza ."
      ],
      "text/plain": [
       "<IPython.core.display.Markdown object>"
      ]
     },
     "metadata": {},
     "output_type": "display_data"
    },
    {
     "data": {
      "text/markdown": [
       "Se lo si analizza da vicino , il calendario delle sfilate ricorda  **terribilmente**  gli orari che annoiati professori ci ammannivano quando eravamo al liceo : una mattina c' erano due ore di sintassi latina , due di matematica e una di greco ."
      ],
      "text/plain": [
       "<IPython.core.display.Markdown object>"
      ]
     },
     "metadata": {},
     "output_type": "display_data"
    },
    {
     "data": {
      "text/markdown": [
       "Anche se sono sempre un po' apocalittico , devo dire che il terzo millennio mi attira  **terribilmente**  \" ."
      ],
      "text/plain": [
       "<IPython.core.display.Markdown object>"
      ]
     },
     "metadata": {},
     "output_type": "display_data"
    },
    {
     "data": {
      "text/markdown": [
       "La sceneggiatura è una delle più forti che io abbia mai letto , è come un dramma greco , profondamente umana e con una storia che era necessario raccontare , esilarante a momenti e **terribilmente** deprimente in altri momenti ."
      ],
      "text/plain": [
       "<IPython.core.display.Markdown object>"
      ]
     },
     "metadata": {},
     "output_type": "display_data"
    },
    {
     "data": {
      "text/markdown": [
       "Non solo , ma mi spaventa  **terribilmente**  il fatto che circoli molta droga , ormai tutti ci sono in mezzo , qui come a Londra ."
      ],
      "text/plain": [
       "<IPython.core.display.Markdown object>"
      ]
     },
     "metadata": {},
     "output_type": "display_data"
    },
    {
     "data": {
      "text/markdown": [
       "I soccorsi sono stati immediati ma le difficoltà di accesso per le frane che ostruivano le strade e per lo straripamento dei fiumi hanno reso tutto  **terribilmente**  complicato ."
      ],
      "text/plain": [
       "<IPython.core.display.Markdown object>"
      ]
     },
     "metadata": {},
     "output_type": "display_data"
    },
    {
     "data": {
      "text/markdown": [
       "L' astenia le impediva di controllare i movimenti : spesso non poteva tenere la testa dritta : la tensione nervosa calava , l' apatia la risucchiava e la soffocava  **terribilmente**  ."
      ],
      "text/plain": [
       "<IPython.core.display.Markdown object>"
      ]
     },
     "metadata": {},
     "output_type": "display_data"
    },
    {
     "data": {
      "text/markdown": [
       "Eppure , nella vita di relazione , lei può essere  **terribilmente**  insofferente , distaccato , distratto ."
      ],
      "text/plain": [
       "<IPython.core.display.Markdown object>"
      ]
     },
     "metadata": {},
     "output_type": "display_data"
    },
    {
     "data": {
      "text/markdown": [
       "Che sia stupida , che sia intelligente , i bambini la pubblicità la prendono tutta -- e immediatamente , e  **terribilmente**  -- sul serio ."
      ],
      "text/plain": [
       "<IPython.core.display.Markdown object>"
      ]
     },
     "metadata": {},
     "output_type": "display_data"
    },
    {
     "data": {
      "text/markdown": [
       "TUTTI ne sono convinti , Turgut Ozal è un uomo fortunato ,  **terribilmente**  fortunato ."
      ],
      "text/plain": [
       "<IPython.core.display.Markdown object>"
      ]
     },
     "metadata": {},
     "output_type": "display_data"
    },
    {
     "data": {
      "text/markdown": [
       "Non riesco a capire come delle persone possano prendersi così  **terribilmente**  sul serio ."
      ],
      "text/plain": [
       "<IPython.core.display.Markdown object>"
      ]
     },
     "metadata": {},
     "output_type": "display_data"
    },
    {
     "data": {
      "text/markdown": [
       "Di stretta pertinenza favolistica , intanto , è la trovata su cui si regge gran parte dell' intreccio : al suo ritorno a Roma , infatti , Angelo non viene riconosciuto da nessuno , neanche dalla madre ( figura  **terribilmente**  oppressiva e di smisurato egoismo ) che , ricoverata in ospedale , morrà prima dell' agnizione finale ."
      ],
      "text/plain": [
       "<IPython.core.display.Markdown object>"
      ]
     },
     "metadata": {},
     "output_type": "display_data"
    },
    {
     "data": {
      "text/markdown": [
       "È una situazione **terribilmente** intricata , quella della Roma : aspettando il verdetto della Caf , c' è questa Coppa europea iniziata nel migliore dei modi ( eliminando il Benfica ) ma adesso diventata improvvisamente qualcosa di  **terribilmente**  pericoloso , perché sconosciuto è il volto di questa nuova Roma ."
      ],
      "text/plain": [
       "<IPython.core.display.Markdown object>"
      ]
     },
     "metadata": {},
     "output_type": "display_data"
    },
    {
     "data": {
      "text/markdown": [
       "Per di più i granata , sempre sprofondati in zona-pericolo , sono  **terribilmente**  ingenui sul gol giallorosso ."
      ],
      "text/plain": [
       "<IPython.core.display.Markdown object>"
      ]
     },
     "metadata": {},
     "output_type": "display_data"
    },
    {
     "data": {
      "text/markdown": [
       "Invece Camus si prende  **terribilmente**  sul serio , e l' allestimento , paludandosi di austerità , soffoca ogni germe d' ironia ; ne limita il sollievo anche in Sartre , abolendo la prevista ambientazione kitsch che aveva esaltato Visconti ed è strettamente collegata con la banalità delle storie proposte ."
      ],
      "text/plain": [
       "<IPython.core.display.Markdown object>"
      ]
     },
     "metadata": {},
     "output_type": "display_data"
    },
    {
     "data": {
      "text/markdown": [
       "Cesar Gaviria , l' ex presidente colombiano che oggi presiede , a Washington , l' Organizzazione degli Stati Americani ( Oas ) , si proclama \"  **terribilmente**  preoccupato \" ."
      ],
      "text/plain": [
       "<IPython.core.display.Markdown object>"
      ]
     },
     "metadata": {},
     "output_type": "display_data"
    },
    {
     "data": {
      "text/markdown": [
       "E'  **terribilmente**  vergognoso per il Messico che affiori tanta spazzatura \" , ha sostenuto in proposito il deputato Jesus Zambrano del Partito della rivoluzione democratica ( Prd ) , di sinistra ."
      ],
      "text/plain": [
       "<IPython.core.display.Markdown object>"
      ]
     },
     "metadata": {},
     "output_type": "display_data"
    },
    {
     "data": {
      "text/markdown": [
       "Non ne fa parte invece che ci sia una Ferrari sempre perdente e una McLaren Honda sempre  **terribilmente**  vincente ."
      ],
      "text/plain": [
       "<IPython.core.display.Markdown object>"
      ]
     },
     "metadata": {},
     "output_type": "display_data"
    },
    {
     "data": {
      "text/markdown": [
       "Ma poi penso che anche questo è  **terribilmente**  vecchio , è déjà vu mille volte ."
      ],
      "text/plain": [
       "<IPython.core.display.Markdown object>"
      ]
     },
     "metadata": {},
     "output_type": "display_data"
    },
    {
     "data": {
      "text/markdown": [
       "Nel Parma Chiesa si propone nel ruolo di leader che a questa squadra , negli ultimi anni , è  **terribilmente**  mancato ."
      ],
      "text/plain": [
       "<IPython.core.display.Markdown object>"
      ]
     },
     "metadata": {},
     "output_type": "display_data"
    },
    {
     "data": {
      "text/markdown": [
       "E dietro alle incertezze di punte , centrocampisti e difensori in ordine **terribilmente** sparso , il più esposto è stato il portiere ."
      ],
      "text/plain": [
       "<IPython.core.display.Markdown object>"
      ]
     },
     "metadata": {},
     "output_type": "display_data"
    },
    {
     "data": {
      "text/markdown": [
       "Il secondo , forse assai più importante , è che Bassolino raccoglie il consenso di quegli strati sociali che , pur **terribilmente** colpiti dalla crisi , del ribellismo senza prospettive non sono prigionieri :  è  una carta di grande rilievo in una città come questa , una grande isola di saldezza in una Napoli soffocata .                                                                                                                                                                                                                                                                                                                                                                                                                                                                                                                                                                                                                                                                                                                                                                                                                                                                                                                                                                                                                                                                                                                                                  \""
      ],
      "text/plain": [
       "<IPython.core.display.Markdown object>"
      ]
     },
     "metadata": {},
     "output_type": "display_data"
    },
    {
     "data": {
      "text/markdown": [
       "Un discorso , questo sulle infinite possibilità di una comunicazione indiretta , a distanza , inesprimibile e alternativa alle forme consolidate e consumate , che  a  Kieslowski sta **terribilmente** a cuore ."
      ],
      "text/plain": [
       "<IPython.core.display.Markdown object>"
      ]
     },
     "metadata": {},
     "output_type": "display_data"
    },
    {
     "data": {
      "text/markdown": [
       "Cheyenne era **terribilmente** depressa già nel 1990 , quando il fratellastro Christian Brando aveva ucciso con un colpo di pistola il fidanzato di lei , Dag Drollet , che pare picchiasse spesso la ragazza  allora  incinta ."
      ],
      "text/plain": [
       "<IPython.core.display.Markdown object>"
      ]
     },
     "metadata": {},
     "output_type": "display_data"
    },
    {
     "data": {
      "text/markdown": [
       ", non certo a Berlusconi ) , però all' altra Roma , quella dei colori biancazzurri , fa  **terribilmente**  scomodo e soprattutto paura : perché ?"
      ],
      "text/plain": [
       "<IPython.core.display.Markdown object>"
      ]
     },
     "metadata": {},
     "output_type": "display_data"
    },
    {
     "data": {
      "text/markdown": [
       "Quando ti ho vista , a Louveciennes , sono rimasto  **terribilmente**  sconvolto da te ."
      ],
      "text/plain": [
       "<IPython.core.display.Markdown object>"
      ]
     },
     "metadata": {},
     "output_type": "display_data"
    },
    {
     "data": {
      "text/markdown": [
       "Da tre giorni sindacalisti e tranvieri                                         Juventus che ripropone gli uomini di ieri per le suggestioni di oggi e , forse , per le vittorie di  domani  , Stefano Tacconi ha deciso di restare **terribilmente** uguale a se stesso ."
      ],
      "text/plain": [
       "<IPython.core.display.Markdown object>"
      ]
     },
     "metadata": {},
     "output_type": "display_data"
    },
    {
     "data": {
      "text/markdown": [
       "La Francia invece non trova un uomo d' ordine , qualche folata ma  **terribilmente**  velleitaria ."
      ],
      "text/plain": [
       "<IPython.core.display.Markdown object>"
      ]
     },
     "metadata": {},
     "output_type": "display_data"
    },
    {
     "data": {
      "text/markdown": [
       "Più l' indice , nel suo complesso , scende ( e scende anche rispetto ai periodi e alle nicchie più disgraziate della gestione Grasso ) e più ' Bibì e Bibò ' , tra via Asiago e Saxa Rubra , si affannano a millantare traguardi che , in un attimo , si svelano  **terribilmente**  fasulli ."
      ],
      "text/plain": [
       "<IPython.core.display.Markdown object>"
      ]
     },
     "metadata": {},
     "output_type": "display_data"
    },
    {
     "data": {
      "text/markdown": [
       "Napoli si scopre oggi -- spiega Piero Craveri --  **terribilmente**  pre-moderna , tutta reclinata su se stessa , sulle sue memorie e bellezze e glorie , egregio condimento della sua vocazione assistenziale e parassitaria ."
      ],
      "text/plain": [
       "<IPython.core.display.Markdown object>"
      ]
     },
     "metadata": {},
     "output_type": "display_data"
    },
    {
     "data": {
      "text/markdown": [
       "Non era la coraggiosa allegria del torero di Lorca , ma la voglia di restare com' eri in un calcio che  **terribilmente**  cambiava in campo e soprattutto fuori ."
      ],
      "text/plain": [
       "<IPython.core.display.Markdown object>"
      ]
     },
     "metadata": {},
     "output_type": "display_data"
    },
    {
     "data": {
      "text/markdown": [
       "Mi sei mancato  **terribilmente**  ."
      ],
      "text/plain": [
       "<IPython.core.display.Markdown object>"
      ]
     },
     "metadata": {},
     "output_type": "display_data"
    },
    {
     "data": {
      "text/markdown": [
       "La lista di attesa è lunghissima e la signora Jean è  **terribilmente**  severa : è lei stessa che deve approvare le credenziali dei soci che debbono essere colti , possibilmente letterati e soprattutto debbono avere ammirazione illimitata nella capacità di Sherlock di risolvere i più intrigati misteri , scoprire l' assassino e umiliare il suo astuto nemico Moriarti ."
      ],
      "text/plain": [
       "<IPython.core.display.Markdown object>"
      ]
     },
     "metadata": {},
     "output_type": "display_data"
    },
    {
     "data": {
      "text/markdown": [
       "Quando è diventato  **terribilmente**  chiaro che i percorsi calcistici suo e di Cruyff erano destinati a non incrociarsi per molto tempo ancora , l' olandese ha cancellato un nome , quel nome , dalla lavagna dei sogni . \""
      ],
      "text/plain": [
       "<IPython.core.display.Markdown object>"
      ]
     },
     "metadata": {},
     "output_type": "display_data"
    },
    {
     "data": {
      "text/markdown": [
       "BRESCIA -- Cinico , spietato ,  **terribilmente**  concreto ."
      ],
      "text/plain": [
       "<IPython.core.display.Markdown object>"
      ]
     },
     "metadata": {},
     "output_type": "display_data"
    },
    {
     "data": {
      "text/markdown": [
       "Mi sono trovato davanti un pubblico molto partecipe , però  **terribilmente**  serio ."
      ],
      "text/plain": [
       "<IPython.core.display.Markdown object>"
      ]
     },
     "metadata": {},
     "output_type": "display_data"
    },
    {
     "data": {
      "text/markdown": [
       "Alcuni di loro sono deputati che avrebbero fatto di tutto per migliorare le relazioni anglo-tedesche ma che si sentono  **terribilmente**  offesi ."
      ],
      "text/plain": [
       "<IPython.core.display.Markdown object>"
      ]
     },
     "metadata": {},
     "output_type": "display_data"
    },
    {
     "data": {
      "text/markdown": [
       "E tornare indietro adesso è  **terribilmente**  complicato ."
      ],
      "text/plain": [
       "<IPython.core.display.Markdown object>"
      ]
     },
     "metadata": {},
     "output_type": "display_data"
    }
   ],
   "source": [
    "find_sentences_with_keyword(document10, 'terribilmente')"
   ]
  },
  {
   "cell_type": "markdown",
   "id": "34a3e3c0",
   "metadata": {},
   "source": [
    "### Zeitraum 11: 2001-2021"
   ]
  },
  {
   "cell_type": "code",
   "execution_count": 38,
   "id": "f7444b2d",
   "metadata": {},
   "outputs": [],
   "source": [
    "text11 = ''\n",
    "for i in df11.text:\n",
    "    text11 += i"
   ]
  },
  {
   "cell_type": "code",
   "execution_count": 39,
   "id": "17feea87",
   "metadata": {},
   "outputs": [],
   "source": [
    "document11 = nltk.sent_tokenize(text11)"
   ]
  },
  {
   "cell_type": "code",
   "execution_count": 40,
   "id": "33af80a9",
   "metadata": {},
   "outputs": [
    {
     "data": {
      "text/markdown": [
       "Trovo il passato **terribilmente** doloroso sebbene ci sia legata."
      ],
      "text/plain": [
       "<IPython.core.display.Markdown object>"
      ]
     },
     "metadata": {},
     "output_type": "display_data"
    },
    {
     "data": {
      "text/markdown": [
       "- La guerra è una cosa seria, troppo seria ed è difficile dire se... sono saltate le parti, le ideologie e la dialettica ... tutto è ora assorbito dal fattore B. e questo sta impoverendo **terribilmente** la cultura critica e intellettuale del nostro paese."
      ],
      "text/plain": [
       "<IPython.core.display.Markdown object>"
      ]
     },
     "metadata": {},
     "output_type": "display_data"
    },
    {
     "data": {
      "text/markdown": [
       "Il giovane Artù provò orrore a quella prospettiva ... la strega aveva una gobba ad uncino, era **terribilmente** orrenda, aveva un solo dente, puzzava di acqua di fogna e spesso faceva anche dei rumori osceni!"
      ],
      "text/plain": [
       "<IPython.core.display.Markdown object>"
      ]
     },
     "metadata": {},
     "output_type": "display_data"
    },
    {
     "data": {
      "text/markdown": [
       "Potete nascondere le mani ed i piedi ma non la testa, e questo mi ha **terribilmente** distrutto."
      ],
      "text/plain": [
       "<IPython.core.display.Markdown object>"
      ]
     },
     "metadata": {},
     "output_type": "display_data"
    },
    {
     "data": {
      "text/markdown": [
       "“Non scherzate su queste cose” la voce di Bulgheroni si era fatta **terribilmente** seria."
      ],
      "text/plain": [
       "<IPython.core.display.Markdown object>"
      ]
     },
     "metadata": {},
     "output_type": "display_data"
    },
    {
     "data": {
      "text/markdown": [
       "Il timore principale ormai è un altro: che anche quei 70025 h. 21.00 e Domenica 29 h. 14.30 ) a firma Nanni Moretti, praticamente la metaforica cronaca, forse poco morettiana ma **terribilmente** incisiva, del dramma privato di un \"alieno\" sullo sfondo di un´Italia a brandelli, dilaniata dagli insaziabiliuna sorta di punizione per il suo anticomunismo."
      ],
      "text/plain": [
       "<IPython.core.display.Markdown object>"
      ]
     },
     "metadata": {},
     "output_type": "display_data"
    },
    {
     "data": {
      "text/markdown": [
       "Quel sistema di rapporti inquietanti, **terribilmente** inquietanti perché generano tensioni mai dichiarate, mai esplicitate, mai dette, fa in qualche modo da contrappeso."
      ],
      "text/plain": [
       "<IPython.core.display.Markdown object>"
      ]
     },
     "metadata": {},
     "output_type": "display_data"
    },
    {
     "data": {
      "text/markdown": [
       "Le pareti in legno gli parvero **terribilmente** vicine, ogni cosa gli sembrava troppo piccola, gli spazi ridotti, come se gli Asi gli avessero tolto la strada che avevasembra molto più comodo del nostro mandolino, che anni fa provai per 2 mesi a suonare, per poi passare al banjo 5 corde, **terribilmente** più difficile (che poi mi rubarono assieme all'' autoradio in una triste notte pochi mesi dopo)."
      ],
      "text/plain": [
       "<IPython.core.display.Markdown object>"
      ]
     },
     "metadata": {},
     "output_type": "display_data"
    },
    {
     "data": {
      "text/markdown": [
       "Maybach & Rolls-Royce L' Travelclass di HEBUX Executive Il viaggio e HEBUX Class Limousine Service per Amburgo / Limousine Service Berlino ci sono i furgoni disponibili che possono ospitare fino a 8 persone.Atti del III Convegno Internazionale di Studi, Roma 17-18 maggio 1969.Controllare l'aspetto estetico e comunicativo del prodotto, degli oggetti e dei manufatti della vita quotidiana.Attivare questa opzione se la telecamera deve reagire a tali eventi.Contribuite ad ampliare gli skateparks scrivendomi un e-mail.Attiva il livello della cornice superiore.Allo spazio Makenoise di Roma si inaugura lo \"Sri Lanka stories\"Anche tramite la fotografia si puï¿½ educare: soprattutto alla collaborazione, alla comunicazione, allï¿½apertura mentale, al mettersi in relazione..Continuando per la Traversa Nazionale interna, giungerete in via dell'Anfiteatro, dove ammirare l'Anfiteatro romano.Continuare la cottura a fuoco vivace finchè il sugo si restringe.Alcuni dei suoi componenti hanno lasciato - nel recente passato - un'impronta nella storia dello sviluppo agricolo della Puglia, nella produzione e commercio dei grani duri, nella produzione di vini pregiati e d'olio d'oliva di qualitï¿½.Si avvicina un carabiniere: «Non possiamo salvare niente.Nel corso della prossima settimana saranno esitate altre due gare, che impegnano oltre 11 milioni di euro.Certamente le prossime elezioni amministrative sono un test politico?Certamente non con farmaci tradizionali come la betaistina o altri che hanno molta meno efficacia di come sia descritto da chi li \"spinge\".Certamente si: l'assoluta necessità e volontà di volere lavorare su progetti seri ed interessanti scientificamente e tecnologicamente, con finalità ben individuate e collocate adeguatamente sulla scala dei tempi esecutivi.Anche se, spesse volte, con ritardo a causa delle condizioni meteorologiche sfavorevoli, sempre si fa costruire accanto all’albergo anche la Chiesa di ghiaccio, inaugurata, di solito, alla vigilia della Befana.Continua su: AllSlots Casino Recensione Poker Titan: non solo web Poker..Affascinati dal SOUL e dal R&Bï¿½ï¿½sarï¿½ questa la loro musica!Anche se vi guarderà con occhi pietosi, ed elemosinerà cibo, non abituatelo a ricevere avanzi e altro fuori pasto.Anche tenere il bimbo nella fascia aiuta, dal momento che in questo modo siete entrambi più facilmente sincronizzati.Affamato di vita recido con un taglio netto una manciata di pensieri d'autenticare.Anche se ti piacerebbe una bocchinara per dei gran bocchini che ti spolpano il cazzo con la quale fare delle grandi inculate.Certificato di garanzia Compila on line il certificato di garanzia.Continuano gli sbarchi a Lampedusa, nella notte sono stati registrati due nuovi arrivi, la prima barca approdata alle 22.00 conteneva 84 extracomunitari (tra cui una donna) mentre la seconda imbarcazione giunta all?Certamente, una società è formata da esseri sociali.Allo stesso modo, delle notizie, immagini o commenti qui riportate da altre testate, libri o siti internet, sarà sempre citata la fonte d'origine.Allo stesso modo, date voce al buon gusto che vi contraddistingue; regalate uno dei nostri cesti alimentari, i quali, a richiesta, possono essere preparati seguendo scrupolosamente le indicazioni del cliente che li ordina.All´osservatore ricordano delle \"pantere in miniatura\", che appaiono in colore blu.Infatti, le microcar non sono automobili vere e proprie, ma una via di mezzo tra una vettura ed uno scooter.Contribuisci anche tu a mantenere vivo questo sito Dichiaro che quanto sopra è veritiero e corretto, in base alle leggi vigenti che regolano la falsa testimonianza negli Stati Uniti d'America e nello stato della Florida.Contribuisci a difendere questo sito e il suo importante ruolo informativo facendo una una Mi ero segnata Scientology nell'elenco dei possibili argomenti su cui scrivere.Con Traveleurope, portale internet specializzato nella prenotazione alberghiera, abbiamo progettato il primo portale dedicato esclusivamente alla commercializzazione di Residence e Case Vacanze.C'è tanto materiale.Controllate se ci sono perdite * Se ci sono perdite, svuotate la barrique lasciandola asciugare completamente (per circa un’ora).Controllate anche questo nel menu.273.000 risultati, la lettura della nuova serp ha portato molti alla depressione.Controlla la tua WinTV con il pratico Telecomando incluso.Controlla gli accessi verso internet della tua azienda, e difendi la rete locale configurando il modulo Firewall secondo le tue esigenze.A conclusione del laboratorio l'organizzazione si riserva la facoltà di presentare al pubblico, all'interno delle giornate di “Scenica 2011”, uno studio sul lavoro svolto.Pena sanzioni per il sindacato, con tagli su permessi e contributi, e finanche per il lavoratore, suscettibile di licenziamento.Anche una piccolapiccola.Anche un gigante della moda low cost come H&M non è rimasto alla finestra a guardare e nel solco della tradizione inaugurata recentemente con la linea BIB (Big is Beautiful) ha lanciato una serie di costumi per taglie forti di grande charme ed eleganza.Ad affermarlo è la \"Gazzetta di Parma\": solo al termine del campionato si saprà il perché.Allo stesso tempo, però, getta uno sguardo tenero sulle promesse di felicità che ogni vita porta con sè, e che nel caso di Claudiu Crulic sono stare così crudelmente disattese.Allo stesso tempo si adoperava sempre per attenuare le sofferenze degli ebrei, dei serbi e degli sloveni come anche delle altre vittime di persecuzione e salvo molte vite..Alcuni di voi ci hanno inviato i progetti realizzati per comunicare, imparando, il messaggio promozionale dei 5 colori del benessere.In gennaio, la compagnia americana ha affermato che i conti privati di alcunisuoi clienti, dissidenti cinesi e attivisti dei gruppi per i diritti umani, erano stati attaccati da pirati e che gli attacchi provenivano dalla Cina.La procura oggi ha notificato all'ex sindaco anche il reato di \"induzione e tentata induzione a non rendere dichiarazioni o rendere dichiarazioni mendaci all'autorità giudiziaria\".Anche un adulto qualche volta sbaglia, ma è in grado di compensare meglio l'errore.Anche tutti i pacchetti in offerta possono essere regalati come voucher!E' stato operato e la fase riabilitativa è andata come previsto, e domenica Jorge sarà regolarmente al via in condizioni atletiche all'altezza della situazione.Anche Valeria e Stefania che non bevono birra l’ultimo giorno si sono ritrovate con tre boccali di mezze pinte davanti a loro… mi manca **terribilmente**.Anche Zapatero ha annunciato una non melgio identificata “tassa sulla ricchezza” e in Inghilterra le società non se la passano benissimo.Anchor Pins o Bio Pins per assicurare le giunzioni.Controllo Disponibilitï¿½ Sistema online facile & veloce da usare La Cucina del Flavor of Italy Sapori genuini e prelibati..Continuiamo a monitorare la corretta applicazione della norma da parte delle varie aziende, e vi preghiamo di segnalarci eventuali difformi applicazioni della legge.Contro ogni aspettativa la sua salma non fu cremata ma rilasciata, traslata a Berlino e seppellita al vecchio cimitero della cattedrale di Sant'Edvige dopo una messa a requiem pontificale nella chiesa di S. Sebastiano il 16 novembre 1943.Con tutto il rispetto, dissento blondeinside: Che cos’è un tumblr?C'è spazio solo per le tue onde e per gli dei che si sono risvegliati all'improvviso dal loro sonno.C'è sempre un po di luce nei tuoi bui.C'è sempre un amico che ti da una mano.C'è sempre comunque la possibilità di tornare all'HOME PAGE o alla MAPPA DEL SITO.Cesare si considerava figlio di Venere, e quando lui stesso fu fatto dio, Venere divenne conseguentemente madre di dio.Cervi, pavoni, fiori, danze assumono forme simboliche dai vivaci colori un tempo estratti dal erbe, da bacche e da foglie.Cervello in due pezzi con sezione frontale, lobi temporali con cervelletto e tronco encefalico.Certo, possiamo prendere giornalisti in erba come quelli con i quali è iniziato il tg multietnico, che in due anni e mezzo sono diventati davvero molto bravi..Certo, offriamo tutto quello che ha 2 ruote a pedali, bici corsa, mtb, city bike, bici da bambino e bici elettriche ma è importante sottolineare che comunque tutti i prodotti sono scelti in base alla qualità come requisito primario.Certo è che proporre il lavoro di Stravinskij e Ramuz in forma scenica, richiede da parte del regista ed interprete una preparazione soprattutto musicale, per consentire una fusione tra voce e orchestra.Contribuzione per l'organizzazione di corsi di Musica per recupero e costituzione di un corpo bandistico.Attivare l'opzione Elimina gruppo per i gruppi da cancellare e fare clic su Imposta nella parte inferiore della finestra di dialogo.Contro erano i cattivi profani del tutto, i deboli, ai quali manca una propria energia.Controllai l'orologio, posizionandolo secondo l'indicazione del telegiornale locale.Con un ampia scelta di servizi specializzati vogliamo garantire soggiorni piacevoli e divertenti alla scoperta di luoghi genuini tra terra e mare, affiancati da uno staff pronto a soddisfare ogni vostra necessitï¿½.Con una mongolfiera o un dirigibile personalizzato con il vostro marchio possiamo volare in qualsiasi parte del Paese e partecipare a Raduni Internazionali.Con una media di oltre dieci anni di esperienza come insegnanti ed amministratori nel campo di ESL sappiamo esattamente cosa cerchi in un corso di lingua inglese!Con una introduzione sulla Pittura Riminese, Una Guida degli Affreschi Conservati in Rimini, E un Repertorio illustrato delle Pitture non esposte:: Rimini, Stabilimento Tipografico Garattoni."
      ],
      "text/plain": [
       "<IPython.core.display.Markdown object>"
      ]
     },
     "metadata": {},
     "output_type": "display_data"
    },
    {
     "data": {
      "text/markdown": [
       "* * *insolito per noi, il poggiatesta che faceva le veci del nostro cuscino, e si sarà chiesto se questo non risultasse **terribilmente** scomodo."
      ],
      "text/plain": [
       "<IPython.core.display.Markdown object>"
      ]
     },
     "metadata": {},
     "output_type": "display_data"
    },
    {
     "data": {
      "text/markdown": [
       "Meno claustrofobico che in passato ma, quel che è peggio, **terribilmente** più lucido è lo scenario sonoro mediante il quale i milanesi constatano la totale rassegnazione, \"aggrappati alladella Santa Sede sul Regno di Napoli."
      ],
      "text/plain": [
       "<IPython.core.display.Markdown object>"
      ]
     },
     "metadata": {},
     "output_type": "display_data"
    },
    {
     "data": {
      "text/markdown": [
       "Una batteria digitale e **terribilmente** \"finta\", una voce spesso effettata, chitarre compatte come mai lo erano state... insomma, la \"pulizia\" dellocileno che tutto è tranne che quello di un OPV puro, ma più quello previsto per le Minerva."
      ],
      "text/plain": [
       "<IPython.core.display.Markdown object>"
      ]
     },
     "metadata": {},
     "output_type": "display_data"
    },
    {
     "data": {
      "text/markdown": [
       "Inoltre, la scena della colazione a palazzo della regina d''Inghilterra è **terribilmente** spassosa!"
      ],
      "text/plain": [
       "<IPython.core.display.Markdown object>"
      ]
     },
     "metadata": {},
     "output_type": "display_data"
    },
    {
     "data": {
      "text/markdown": [
       "La cosa invece si complica **terribilmente** da Ulan Batar a Pechino."
      ],
      "text/plain": [
       "<IPython.core.display.Markdown object>"
      ]
     },
     "metadata": {},
     "output_type": "display_data"
    },
    {
     "data": {
      "text/markdown": [
       "Il lettore sa qualcosa che Pikappaha disputato una buona partita, affondata oltre i propri demeriti: l''obiettivo salvezza resta perseguibile, ma **terribilmente** complicato."
      ],
      "text/plain": [
       "<IPython.core.display.Markdown object>"
      ]
     },
     "metadata": {},
     "output_type": "display_data"
    },
    {
     "data": {
      "text/markdown": [
       "Nonostante ciò, i bambini protagonisti della nostra storia si annoiano **terribilmente** e non vogliono proprio saperne di studiare, ed il giorno in cui si trovano appunto davanti all''ascensore per saliree rimbalzando, fra quel caos di montagne d''acqua, meglio di una palla di gomma su un selciato."
      ],
      "text/plain": [
       "<IPython.core.display.Markdown object>"
      ]
     },
     "metadata": {},
     "output_type": "display_data"
    },
    {
     "data": {
      "text/markdown": [
       "-un assassino sconta la sua pena fino alla morte, anche se **terribilmente** pentito di ciò che ha fatto, e certo di aver sprecato 2 vite, quella della vittima e la sua."
      ],
      "text/plain": [
       "<IPython.core.display.Markdown object>"
      ]
     },
     "metadata": {},
     "output_type": "display_data"
    },
    {
     "data": {
      "text/markdown": [
       "E questo - venendo dopo la caduta del Muro di Berlino - ha sconcertato e **terribilmente** intorbidato le acque in cui deve nuotare la cosiddetta \"seconda Repubblica\" Molti riconoscono al primo Craxi validenormale."
      ],
      "text/plain": [
       "<IPython.core.display.Markdown object>"
      ]
     },
     "metadata": {},
     "output_type": "display_data"
    },
    {
     "data": {
      "text/markdown": [
       "Non posso nemmeno dire di non aver avuto le mie belle esperienze negative con le ASL e con l''Ospedale ma devo Si sarebbe tentati di dire di sì, per sentirci meglio e per distinguerci dalle \"bestie\", dai \"mostri\" che emergono spesso dalla cronaca nera quotidiana, ma forse le cose non sono poi così semplici come appaiono  Se ci sia o non ci sia un limiterumore di sorta, se togli uno solo....  Qual cosa rompe l''aere silenzioso così forsennatamente squillante, così **terribilmente** selvaggio?"
      ],
      "text/plain": [
       "<IPython.core.display.Markdown object>"
      ]
     },
     "metadata": {},
     "output_type": "display_data"
    },
    {
     "data": {
      "text/markdown": [
       "422462\tInoltre, “il prelievo è stato eseguito in un aliquota unica rendendo impossibile una revisione d’analisi.Inoltre, il monopolio delle concessionarie, messo in discussione dal crollo del ponte a Genova e il nuovo corso politico del ministro Danilo Toninelli, hanno creato condizioni che possono favorire le nostre richieste».Inoltre, il film conclusivo di ogni mese sarà scelto direttamente dal pubblico in base a un elenco di preferenze.Inoltre il consigliere di minoranza Giacomo Masala, ha presentato una mozione scritta per ritirare il punto all’ordine del giorno e riparametrare equamente le tariffe.Inoltre il bagagliaio (350 litri) non è certo tra i più spaziosi della categoria.Inoltre, i firmatari hanno generalmente favorito la fornitura di legno e prodotti in legno tramite canali locali.Inoltre ha un vantaggio inestimabile: prima o poi porta ad un infarto cardiaco che abbrevia la vita del fumatore tanto da risparmiargli di morire di cancro ai polmoni!Inoltre, ha fatto impennare il lavoro dei funzionari governativi in tutta l'area\".Inoltre e' stato stabilito di diffondere opuscoli in piu' lingue (soprattutto tedesco), un audio-messaggio di 30 secondi da mandare in onda sulle radio e un video intitolato \"Per un'estate sicura al mare\".In parallelo gli hanno pure contestato di impalcare un piano di rientro (debiti per 60 milioni di euro) solido come una costruzione della Lego in combutta con alcuni manager infedeli di Unicredit.Inoltre è stata annunciata l’apertura della caserma dei carabinieri Forestali all’interno della pineta: gli ex uffici del X municipio verranno così messi a disposizione dei militari per garantire ulteriori controlli preventivi e monitoraggi costanti.Inoltre, entrerà in scena anche un nuovo giovane “guerriero”: il napoletano Valerio.In oltre dodici anni sono così usciti dalle casse dell'ente tre milioni e mezzo.«Inoltre – dicono i sindaci – lo stipendio medio lordo di un dipendente Iren è circa 40.000 euro e il compenso dell’ad nel 2017 è stato di 382.000 euro.Inoltre dal mondo i food truck della Grecia con la Pita Gyros, la Paella Catalana, le Tapas e altre specialità dal Venezuela.Inoltre crolla anche la cassa integrazione in deroga, la quale nei prossimi mesi sarà sempre meno finanziata a causa del difficile reperimento di risorse.Inoltre, come le ingerenze dei vicini Ruanda e Uganda abbiano continuato ad influenzare negativamente l'evoluzione della situazione nella provincia.Inoltre coinciderà con le Romerie di Maggio, la tradizionale festa holghinera ch mette in evidenza le più autentiche espressioni della cultura cubana.Inoltre c'è una contestazione interna che dura da molto prima di queste elezioni.Inoltre, bisogna ridurre l'apporto di sale nella dieta dei bambini, ma anche il consumo di fruttosio contenuto in particolare nelle bevande zuccherate, come tè e succhi di frutta.«Inoltre avremo una reunion stile Blues Bother: la storica Orchestra Spettacolo di mio padre di nuovo sul palco dopo 36 anni», rivela Mirko Casadei, figlio di Raoul e pronipote del grande Secondo Casadei.Inoltre, avevano denunciato le decisioni dei tribunali britannici «come un'interferenza iniqua e sproporzionata nei loro diritti genitoriali».Inoltre, a partire dal 2012, il ministero delle Finanze ha richiesto che il fondo sanitario copra tutti gli ammortamenti, che in Toscana assommano a 137 milioni.Inoltre la primavera piovosa ha favorito gli attacchi fungini, abbassando la qualità del prodotto dove non si sono effettuati i trattamenti adeguati.Inoltre l’area, acquisirà tutte le caratteristiche necessarie per rientrate nelle segnalazioni delle guide turistiche».In oltre la metà delle isole abitate la popolazione è aumentata in modo consistente.Inoltre, le migliorie tecnologiche per l’ambiente sugli impianti saranno più celeri di prima.Inoltre l'amore è alla base della scelta esistenziale.Inoltre, grazie a un nuovo esame, la biopsia liquida che scova il Dna tumorale nel sangue, gli studiosi sono riusciti a valutare in anticipo quando il paziente avrebbe sviluppato la resistenza alla terapia.Il sisma, di magnitudo 6.0, è stato registrato in piena notte, alle 3:36 del mattino.Il sistema 4Motion funge quindi da trazione integrale permanente: la ripartizione delle forze di trazione su tutte e quattro le ruote risulta infatti già attiva prima che inizi lo slittamento.Il sistema a controllo “familiare” ha aiutato a tenere fuori gli investitori internazionali, compromettendo l’efficienza aziendale.In pratica, considerata la volumetria occupata dalla scuola, i tecnici comunali e provinciali avevano dichiarato fattibile la realizzazione del chiosco.In pochi minuti gran parte degli ospiti sono riusciti a uscire dalla casa.In pochi minuti era già al pronto soccorso e poi trasferito in reparto in prognosi riservata.In pochi mesi, in centro hanno chiuso 17 negozi e altri sono in enorme difficoltà.In pochi istanti si è passati dallo stupore per quanto stava avvenendo al terrore che l’autobus potesse diventare un ariete - killer in grado di travolgere tutto e tutti.In pochi giorni, sulla piattaforma online crowdfunding Kickstarter hanno già raccolto 9 mila euro su 15 mila, cifra necessaria per la produzione pilota.In poche parole, Emotet impiega per i suoi moduli la stessa strategia dei malware file-less.In più forniremo il supporto tecnico-operativo per promuovere le iniziative messe in campo”.In poche ore hanno colpito l’ennesima scuola e altri luoghi pubblici, sempre in cintura sud.In più, viene impiegato soltanto legno certificato Pefc e Fsc, proveniente da foreste di pino controllate e soggette a costante rimboschimento.In più sarà aumentata la vigilanza nelle metro contro i borseggiatori\".In più, per non permettere alla vittima di vedere cosa stesse accadendo, il ventiseienne aveva oscurato il videocitofono di casa della ragazza, chiaramente terrorizzata e impaurita.In più non si è calcolato il fattore rischio: l’opera potrebbe causare pericolo al traffico veicolare.In più non penso che la mia famiglia sia sotto attacco: qui è tutto abusivo, anche la mia, che però è stata condonata.In più, la squadra di Malone ha pagato forse la stanchezza del “road trip”, concedendo già nel primo tempo 18 punti in contropiede (saranno 29 alla fine) e 42 punti su 55 in area, con Howard già in doppia doppia a metà gara (17 punti e 10 rimbalzi).In più, la legge dice che i commissari devono essere sammarinesi, solo salvo cause motivate, possono essere professionisti non sammarinesi.In più, l’aggressore, che coltivava in una serra artigianale costruita in casa, nascondeva oltre mezzo chilo di droga, piantine, semi, e bilancini di precisione.In più, la crisi porterà a costi più limitati che in passato.In più il Karawankenhof, l’hotel annesso alle terme, ha subito perdite per un milione.In più, il governo nominerà una commissione di esperti esterni per le riforme costituzionali che sarà presieduta dal Premier\".In più, Hollis, Fattori e Sergio sono lunghi che possono alternarsi sul perimetro dilatando gli spazi.«In particolare ad attirare il pubblico sono i prodotti gastronomici: dolci e biscotti sono stati venduti tutti già alle 14 di ieri».«In partenza dal 1° binario, anzi no»In parallelo il sindaco con le sue strutture dirigenziali e tecniche ha quasi messo a punto il calendario di tutti gli altri lavori collegati a questo di via Renon.Inoltre, la porta-finestra del primo piano era aperta.Inoltre l’Ensemble ha registrato le musiche di scena, scritte da Andrea Nicolini, di numerosi spettacoli per il Teatro Stabile di Genova e altre compagnie di prosa italiane.In Pakistan più di cento scuole dedicate alla memoria delle vittime di Peshawar - Internazionalehttp://intern.In Pakistan due cristiani, marito e moglie, sono stati accusati ingiustamente di blasfemia e condannati a morte.Il tema principale riguarda, come ho già accennato, la modernità e Sainte-Beuve indica quali sono stati gli scrittori, i filosofi, gli artisti che hanno molto contribuito alla modernizzazione.Il tema sarà oggetto di seminari nelle scuole.Il tempestivo invito del ministro nei giorni scorsi è stato accolto da molti ed ha innescato un effetto a catena che coinvolgerà domani gran parte delle istituzioni culturali del Paese.Il tempo avvolge tutto.Il tempo delle chiacchiere è finito, se non si cambiano marcia e registro è la fine», osserva, «sono necessarie risorse per il credito e per lo sviluppo delle piccole e micro imprese».Il tempo pare sarà bello e quindi nessun problema con il meteo per uno degli appuntamenti più attesi dalla bergamasca.Il tempo passa e per i lavoratori della Sider Vasto la serenità è ancora lontana.Il tempo passa inesorabilmente ed i lavoratori vedono sempre più remota la possibilità di riuscire a portare a casa le proprie spettanze».Il tempo sta per subire un profondo cambiamento, a causa dell’avvicinamento di un ciclone di origine scandinava che farà arrivare in anticipo l’autunno in Italia.Il tennista brasiliano ha mancato il suo sesto titolo singolare in carriera nel circuito ITF e la personale doppietta, visto che sabato si era aggiudicato il doppio in coppia con l’italiano Marco Bortolotti.Il tentativo in una sala giochi di via Francesco Gai.Il tema è caldo e questa presa di posizione ne è la dimostrazione più alta.Il tentato furto si è così trasformato in una rapina, che è stata denunciata ai carabinieri di Ferrara Intervenuti sul posto per le immediate ricerche.Il termine era stato fissato dal Mise di Luigi Di Maio a metà luglio, quando le Fs avevano individuato Atlantia come potenziale «quarto socio» del consorzio per il salvataggio della compagnia.Il termine ultimo per rinforzarsi è il 2 settembre.Il terremoto dello scorso maggio, nel territorio reggiano si era accanito soprattutto sulle chiese.Il terreno arido ed il vento rendono le operazioni di spegnimento molto impegnative.Il territorio affidato al Vescovo Padilla comprendeva tutta la Mongolia: due milioni e mezzo di persone, nella Prefettura Apostolica di Ulaanbaatar.Il territorio amministrato dal sindaco Fiorenza Da Canal si è poi unito, di recente e inaspettatamente a Lentiai e Mel per quella che un domani potrebbe essere una fusione a tre, ma per Alano, o per Quero Vas, non sembrano esserci gli stessi presupposti.Il terrore in questi mesi al Baobab c'è stato ogni giorno.Il terzino belga affronta la Champions League con l' con il contratto in scadenza nel 2020.Il terzino destro non vive un bel periodo.Il terzino ha rimediato una distorsione alla caviglia contro la Triestina e domenica scorsa ha giocato sotto infiltrazioni.Il terzo fattore di successo è stato l'impegno personale e la capacità dei dirigenti della scuola.«Benedini, come capolista, ha il suo pensiero, ma la posizione del Comune è quella del programma di mandato.Il tema è: come sviluppare le «soft skills»?Il tema centrale é il rischio di una recessione mondiale, le diseguaglianze e le emergenze ambientali.Il tema non riguarda soltanto una questione di concorrenza sleale tra chi è in regola e chi non lo è, ma anche il monitoraggio del territorio e della sicurezza dei cittadini.Il tema è sempre lo stesso: squadre **terribilmente** aggressive e, come conseguenza, indisciplinate.Il tema è di assoluta rilevanza – insiste Rosato –.Il tentativo di rapina è avvenuto lunedì nella periferia di Pagazzano.In Pakistan, a caccia di permafrost sul \"trono dei giganti\"In ottobre l’indice si era attestato a -4,5 punti.I nostri successi internazionali?I nostri obiettivi prioritari di politica ambientale sono la riduzione delle emissioni di gas serra e la riduzione dei consumi\", continua Andreas Tschulik.«I nostri mobili sono rovinati perché messi in locali allagati e non sorvegliati»: tuonano le famiglie sgomberate da quasi un mese dagli appartamenti di viale Manfredi.«I nostri bambini vanno già a scuola a Villa Santina – fa notare il vicesindaco – usufruiscono della mensa scolastica, del trasporto con lo scuolabus del comune di Lauco, dove peraltro vanno tre dei nostri scolari.I nostri avversari sono forti, quadrati, concreti, ma faremo di tutto per rendere la partita complessa anche a loro».Inoltre sono previsti spettacoli di intrattenimento musicale e attrazioni per i più giovani.Inoltre, sempre nell'area \"Fumetti e Follie\", sarà presente uno stand interamente dedicato ai videogames.Inoltre rivolge un pensiero circa questo ed altri gesti violenti e di intolleranza.Inoltre “richiedenti asilo minori nei centri federali di accoglienza hanno continuato a vedersi negato l’accesso all’istruzione”.Inoltre riafferma la necessità d’eliminare il blocco nella sua attualità, come elemento essenziale per avanzare verso la normalità delle relazioni bilaterali.Inoltre Q Venture dispone di cinturini intercambiabili per dare modo di personalizzare lo smartwatch secondo il proprio stile.Il Sinodo della Chiesa Greco-Melkita, riunitosi dal 16 al 21 giugno 2014 ad Aïn-Traz in Libano, lo ha designato alla Sede arcieparchiale di Tiro dei Greco-Melkiti (Libano).Inoltre questo trasferimento dalla Toscana all’Emilia-Romagna ha permesso un avvicinamento a casa per Michael e la sua famiglia, che ricordiamo sono di San Marino.Inoltre Putin combatte da sempre gli Illuminati, che hanno fondato l'Europa e fatto cadere Berlusconi, proprio perchè questi voleva farci uscire dall'UE.Inoltre più osserviamo e studiamo la storia dell’Europa più constatiamo come una tensione religiosa sia sempre stata presente, anche lungo tutto il XIX secolo.Inoltre per fortuna nei parcheggi adiacenti non è stata colpita nessuna auto in sosta».Inoltre, non vengono garantite le stesse condizioni economiche: la società includeva in busta paga l'indennità Codivilla, che il nuovo datore di lavoro dubito riconfermerà, non essendo parte del contratto.Inoltre, non va dimenticato neppure che gli interessi del Bfp Renditalia non sono predeterminati e possono variare nel tempo, visto che sono indicizzati a quelli del Buoni dl Tesoro a 6 mesi.Inoltre non possiamo dimenticare le centinaia di migliaia di persone che ogni anno affollano i saloni della Fiera di Rimini».Inoltre, non essendo pervenute smentite e non essendoci dichiarazioni da parte degli altri membri della giunta, se confermate, le dichiarazioni rappresenterebbero il pensiero di tutta la Giunta e non di un solo componente».Inoltre non era in possesso nemmeno della licenza fiscale per la somministrazione delle bevande alcoliche.Inoltre, mentre le assunzioni scatteranno chissà quando, gli esodi incentivati – che riguardano soprattutto i portalettere – sono già in corso, con un aggravio del carico di lavoro di chi resta.Inoltre, l’oggi 45enne napoletano, già peraltro noto alle forze dell’ordine, aveva pure sottratto al capotreno il blocco dei verbali, minacciandolo di morte, prima di cercare di allontanarsi dalla stazione.In Italia vinciamo perché gli altri si scansano, ma in Europa non succede e non succederà\".«In Italia sono ancora pochi gli edifici a sviluppo verticale.Basket, l’Orasì vince in un Pala De André da record.Inoltre questa scelta potrebbe salvare la faccia a Ignazio Visco, perché non si tratterebbe di una sfiducia nel lavoro fatto da Banca d'Italia in questi anni e soprattutto sul dossier banche.In effetti è proprio il portato delle sue elaborazioni su tela e su altri supporti a dare, a lanciare un corpus assiologico di tal fatta per offrirne le risultanze sotto un manto grafico e cromatico che con esso però fa tutt’uno.In effetti già ai primi del Novecento dove oggi c’è il ristorante Italia, sulla via che costeggia il Tanaro, c’era una stazione per il cambio cavalli.In effetti, nell’arco di 20 anni, i giovani Edoardo e Chiara si incontrano appena cinque volte, si prendono e si lasciano, o forse non si prendono mai.Il Zinga annaspa sempre più mentre Renzi gli tiene il fiato sul collo.Infatti, in questi schemi, i finanziamenti pubblici “seguono” la volontà dei donatori privati (che spesso sono anche spettatori fedeli all’istituzione) e non viceversa.Infatti, il Ministero delle Politiche agricole, alimentari e forestali ha avviato formale richiesta di estensione della durata degli aiuti per compensare i danni causati alle imprese del settore agricolo che comporta modifica al regime di aiuto.Infatti, il contrario richiama dialetticamente il proprio contrario, soprattutto quando i mali spirituali sono giunti al limite, come oggi.Infatti, ha aggiunto, «la perdita della sua posizione di privilegio e la riduzione a una vita povera e di nascondimento non lo rattristarono, ma lo resero sereno e perfino gioioso, perché si manteneva fedele alle promesse del battesimo».Infatti finì 3-0 per la Mps, senza troppa storia.Infatti, all’estremità della torre si sono insediati funghi che pian piano decompongono il materiale cartaceo.Inevitabile poi per l'allenatore del Borgaro spendere due battute anche sul Varese: Si tratta di una realtà che non ha nulla a che fare con il nostro mondo dei dilettanti.I neutrini non vanno più veloci della luce.In Europa si utilizzano per lo più forme miste di finanziamento (pubblico e privato).In estate passa a Houston da free agent: dimostra di essere da Nba, ma non tocca mai più le punte da fenomeno mostrate a New York.In essi viene elaborata quell’etica della decisione che, ispirata dalle letture di Søren Kierkegaard e di Carlo Michelstaedter, di lì a poco diventerà uno dei temi principali della filosofia europea tra le due guerre.In esposizione le opere di sei giovani artisti comaschi, talenti talvolta poco conosciuti, che meritano grande attenzione e che offriranno una percezione inedita dell'attuale panorama artistico locale.Inesistente o quasi: rispetto al 2007, la dispersione idrica è addirittura aumentata in ben 56 citta'!Infatti quel tipo di organizzazione del lavoro lasciava emergere spesso e volentieri il bambino che è in noi, generava un approccio mentale al lavoro con abbondanti tratti infantili.Infatti, rispetto al 2014, le cessazioni diminuiscono del 10% per questa fascia d’età e dell’8% nella fascia di età compresa tra i 25 e 34 anni.Infatti sarebbe stata messo sul tavolo un ampliamento del contratto di solidarietà oltre alla chiusura delle redazioni di Bologna e Firenze.Infatti, secondo quanto stabilito dal Decreto fiscale, l'ultima parola sulla sanatoria spetta al Comune.Infine l’esperienza ad Olbia, prima in D, con la promozione ottenuta tramite ripescaggio dopo il playoff vinti e poi fino allo scorso marzo in Lega Pro.Infine, le banche.Il tutto inserito all’interno di una nuova dinner-show concepita in un unico tempo, con meno comicità e più spettacolarità.Infine, la rumorosità degli impianti sarà quindi controllata dagli organi competenti comportando, con ogni probabilità, prescrizioni tecniche che il titolare dovrà osservare per proseguire l’attività.Infine, la mossa sembra mettere fretta ad Assad, per renderlo più disponibile.Infine, la giunta di Palazzo Vecchio deciderà di posticipare al 2009 il pagamento della TIA.Infine, il primo cittadino sottolinea che \"non si paga a tutti i costi\", perché \"si può entrare facilmente anche senza pagare se si spiega la motivazione\", ad esempio fare visita a una persona che abita nel centro storico.Infine il curatore di /ti’tano/ little constellation Alessandro Castiglioni.Infine il capitolo portiere.Infatti io ho detto: prendiamo atto che esiste la legge, esiste questa pillola, ho grosse perplessità rispetto al suo uso, verificheremo fino a che punto potremo esercitare la nostra autonomia in materia sanitaria.Infine il 2,2% ha chiesto un prestito per poter pagare le vacanze.Infatti la decisione di Lula ancora non è stata ufficialmente comunicata al Supremo Tribunale Federale.Infatti l'attore ha festeggiato il suo 52esimo compleanno in un ristorante asiatico della cittadina tedesca di Wernigerode, in Sassonia-Anhalt.Il vantaggio iniziale è la logica di questo dominio.Il Vaticano è sempre più verde: ad accrescere il parco auto in uso al Governatorato sono arrivate mercoledì 24 luglio due smart EQ forfour.Il Vaticano stava avvertendo i primi segni concreti di disgelo nei rapporti con l’Italia, dopo il 1870.Il velivolo si è nuovamente levato in volo dirigendosi all’ospedale Brotzu di Cagliari, dove i coniugi sono stati ricoverati.Il Veneto è la prima regione italiana con 85 aziende termali.Il Veneto vede confermate le bandiere dell'anno scorso e così la costa veneziana si tinge di blu senza più \"macchie\".Il ventottenne comasco ha terminato con il 19° posto assoluto confermando di essere un grande passista di questi raid.Il Verbo fatto bambino ci aiuta a comprendere il modo di agire di Dio, affinché siamo capaci di lasciarci sempre più trasformare dalla sua bontà e dalla sua infinita misericordia”.«Il Verbo si è fatto carne», cioè si è fatto compagnia, amicizia.Il verdetto questa mattina, a conclusione dell’ultima puntata.Il vulnus quando la Gregoraci stava parlando di Fabrizio Frizzi.Il Verona è una squadra di grande qualità, ma siamo stati noi ad abbassarci nella fase centrale del match”.Il vero spirito ultrà, di solito non attacca, ma supporta, specie nei momenti più difficili della squadra».Il vulcano del titolo sono io - ha detto Clementino - e il mio fuoco sono le rime.Infine la spinge sul materassino e le dà una botta in testa.Il XII Morelli p atteso dal Carpineti, avversario decisamente difficile e che nel girone di ritorno ha perso solo due volte e in trasferta (una a Sant’Agostino, che aveva vinto nettamente anche all’andata) sulle quattro sconfitte totali.Infatti i voti espressi attraverso i siti internet dei giornali, in totale, sono stati quasi 15.000.Infatti prima di Delhi, solo altri tre “big” ci sono riusciti: Stati Uniti, Russia (ex Unione Sovietica) e Cina.Infatti, per quanto riguarda la trasmissione telematica delle informazioni gli amministratori si rivolgono a professionisti e Caf: tale aggravio di spese sarà a carico dei condomini».Infatti per il sesto anno consecutivo non si sono registrati decessi.Infatti «parlare di virtù significa afferamre che la scelta del bene coinvolge e impegna tutta la persona; non è una questione “cosmetica”, un abbellimento esteriore».Infatti, oltre alle devastazioni delle terre e dei villaggi dati alle fiamme, tutti i generali dell’esercito governativo ritenuti responsabili delle violenze sono ancora al loro posto.Infatti nel quadro mondiale del dopo 1989 la difesa italiana non è più ristretta alla \"linea di Gorizia\"; un attacco all'Italia può avvenire ad esempio dal mare, lungo una costa che è lunga varie migliaia di km.Infatti nella stessa zona un altro pino era caduto nel 2015 distruggendo alcune auto che transitavano, fortunatamente senza ferire nessuno.Infatti, lo si sente subito dopo che la televisione annuncia un ennesimo naufragio.Infatti, l'età della donna è il primo ostacolo alla maternità.Infatti, l'elemento chiave per un piano nazionale contro la demenza è il sostegno a chi si prende cura di persone affette da questa malattia.Infatti la spessa coltre nevosa deve aver complicato la loro corsa verso la salvezza, agevolando così il branco di lupi, evidentemente affamati».Il vero valore tuttavia non è l’oro.Infine, focus sulla serata del venerdì 27 dove saranno presenti anche in degustazione i produttori del “Paniere del Parco”.Infine, è arrivata la conferma da Roberta Monti Country Manager Italia che Brussels Airlines sarà il vettore ufficiale del Ferrara Buskers Festival 2015.Alcune applicazione suggeriscono non solo il percorso più veloce, ma anche quello più sicuro in base alla destinazione.Infine, si dovrebbe investire in nuove tecnologie per la salute.Alcune cose mi sembravano giuste, altre profondamente ingiuste.Alcune delle persone scappate da Tal Afar — comunica Christian — sono riuscite ad arrivare nel centro sanitario di Badush, a circa sessanta chilometri a est dalla città.«Alcune di loro abitano molto lontano.«Alcune idee sono nostre – conferma Zouhair – mentre altre le abbiamo prese da un movimento globale in cui le persone vogliono aiutare gli altri».Alcune imbarcazioni trovarono riparo alle e divennero, quei passeggeri, i primi abitatori delle Isole.Alcune lettere non avremmo mai dovuto scriverle e spedirle; altre sostano in perenne bozza mentale; altre ancora sono state già scritte in nostra vece.Alcune limitazioni, però, non dipendono da Roma ma da Trieste: «È un discorso di grandezza dei laboratori e qualità del servizio - dice Vianelli -."
      ],
      "text/plain": [
       "<IPython.core.display.Markdown object>"
      ]
     },
     "metadata": {},
     "output_type": "display_data"
    },
    {
     "data": {
      "text/markdown": [
       "La seconda parte del film poi è ancora peggiore perché con la sua prevedibilità rende la storia scontata e la pellicola **terribilmente** lenta."
      ],
      "text/plain": [
       "<IPython.core.display.Markdown object>"
      ]
     },
     "metadata": {},
     "output_type": "display_data"
    },
    {
     "data": {
      "text/markdown": [
       "Ironica, come nello stile di Serena Dandini e Dario Vergassola, ma - nella sua ironia - **terribilmente** seria."
      ],
      "text/plain": [
       "<IPython.core.display.Markdown object>"
      ]
     },
     "metadata": {},
     "output_type": "display_data"
    },
    {
     "data": {
      "text/markdown": [
       "E la riforma della legge sugli stranieri (giugno 2002) rende **terribilmente** complicato il soggiorno legale in Russia, mettendo un gran numero di lavoratori stranieri nell'' illegalità."
      ],
      "text/plain": [
       "<IPython.core.display.Markdown object>"
      ]
     },
     "metadata": {},
     "output_type": "display_data"
    },
    {
     "data": {
      "text/markdown": [
       "È una cosa **terribilmente** dura."
      ],
      "text/plain": [
       "<IPython.core.display.Markdown object>"
      ]
     },
     "metadata": {},
     "output_type": "display_data"
    },
    {
     "data": {
      "text/markdown": [
       "Immagini che si materializzano davanti a noi come cartoline in bianco e nero di una New York viva, struggente e **terribilmente** affascinante."
      ],
      "text/plain": [
       "<IPython.core.display.Markdown object>"
      ]
     },
     "metadata": {},
     "output_type": "display_data"
    },
    {
     "data": {
      "text/markdown": [
       "Ero **terribilmente** spiacente non potendo dar loro alcuna informazione che potesse soddisfare le loro aspettative."
      ],
      "text/plain": [
       "<IPython.core.display.Markdown object>"
      ]
     },
     "metadata": {},
     "output_type": "display_data"
    },
    {
     "data": {
      "text/markdown": [
       "E qundo toccano i diritti umani io mi arrabbio **terribilmente** ."
      ],
      "text/plain": [
       "<IPython.core.display.Markdown object>"
      ]
     },
     "metadata": {},
     "output_type": "display_data"
    },
    {
     "data": {
      "text/markdown": [
       "Dovevamo sfregarci ben bene anche le mani, perché puzzavano **terribilmente** ."
      ],
      "text/plain": [
       "<IPython.core.display.Markdown object>"
      ]
     },
     "metadata": {},
     "output_type": "display_data"
    },
    {
     "data": {
      "text/markdown": [
       "mi dispiace **terribilmente** per quello che ti è successo, davvero."
      ],
      "text/plain": [
       "<IPython.core.display.Markdown object>"
      ]
     },
     "metadata": {},
     "output_type": "display_data"
    },
    {
     "data": {
      "text/markdown": [
       "Mi sentivo **terribilmente** solo, tutto mi sembrava ostile."
      ],
      "text/plain": [
       "<IPython.core.display.Markdown object>"
      ]
     },
     "metadata": {},
     "output_type": "display_data"
    },
    {
     "data": {
      "text/markdown": [
       "Lui, così freddo, adesso è **terribilmente** emozionato."
      ],
      "text/plain": [
       "<IPython.core.display.Markdown object>"
      ]
     },
     "metadata": {},
     "output_type": "display_data"
    },
    {
     "data": {
      "text/markdown": [
       "Sushi \" guarda la scheda Per capire il Sushi-pensiero, quello oscuro e delizioso del secondo album \" Un mondo **terribilmente** volgare \", mi reco direttamente nel cuore di Torino, dove abitano Ale e Otti, rispettivamente tastiere e voce dellastà proprio sul ... Bye!"
      ],
      "text/plain": [
       "<IPython.core.display.Markdown object>"
      ]
     },
     "metadata": {},
     "output_type": "display_data"
    },
    {
     "data": {
      "text/markdown": [
       "Il risultato è tanto deludentestrutturati (detti volgarmente spazzatura) è pieno di difetti che il Congresso ha cercato di ridurre: è un piano **terribilmente** opaco, per curare una crisi nata proprio dall´opacità."
      ],
      "text/plain": [
       "<IPython.core.display.Markdown object>"
      ]
     },
     "metadata": {},
     "output_type": "display_data"
    },
    {
     "data": {
      "text/markdown": [
       "Oppure può essere **terribilmente** brutto."
      ],
      "text/plain": [
       "<IPython.core.display.Markdown object>"
      ]
     },
     "metadata": {},
     "output_type": "display_data"
    },
    {
     "data": {
      "text/markdown": [
       "Possiamo notare anche come il momento o la serie di momenti più importanti della nostra vita siano **terribilmente** trascurati, poiché, in genere, l''anima accetta le concezioni che si trova davanti in maniera irriflessa, frettolosa, tingendosi persino di elementi etno-tribali."
      ],
      "text/plain": [
       "<IPython.core.display.Markdown object>"
      ]
     },
     "metadata": {},
     "output_type": "display_data"
    },
    {
     "data": {
      "text/markdown": [
       "a volte penso che non può essere così carina e così **terribilmente** scema ... e quindi mi dico \" finge \" ... ma poi la guardo bene e quasi mi commuovo, mischinetta: D smack, eli * by skittishcominciò a camminare, misurando la stanza a grandi passi, simile ad una belva in gabbia."
      ],
      "text/plain": [
       "<IPython.core.display.Markdown object>"
      ]
     },
     "metadata": {},
     "output_type": "display_data"
    },
    {
     "data": {
      "text/markdown": [
       "Wendy non vi ha ricordato **terribilmente** Chloe nella 315 (\" TOW Ross and Rachel Take a Break \")?"
      ],
      "text/plain": [
       "<IPython.core.display.Markdown object>"
      ]
     },
     "metadata": {},
     "output_type": "display_data"
    },
    {
     "data": {
      "text/markdown": [
       "Quando i camion arrivavano nei pressi di Bog Meadows per lavare le strade e mettere il disinfettante nelle fognature,potrebbe essere un'' occasione per ripensare a tutto questo, perché ha messo in luce il fatto che i sistemi globali sono **terribilmente** vulnerabili."
      ],
      "text/plain": [
       "<IPython.core.display.Markdown object>"
      ]
     },
     "metadata": {},
     "output_type": "display_data"
    },
    {
     "data": {
      "text/markdown": [
       "Il silenzio surreale che aleggiava nello stadio era per me qualcosa di nuovo e di **terribilmente** sconcertante, quello sport senza cori, striscioni e bandiere non era il calcio a cui sono abituato."
      ],
      "text/plain": [
       "<IPython.core.display.Markdown object>"
      ]
     },
     "metadata": {},
     "output_type": "display_data"
    },
    {
     "data": {
      "text/markdown": [
       "Era tutto **terribilmente** vero?"
      ],
      "text/plain": [
       "<IPython.core.display.Markdown object>"
      ]
     },
     "metadata": {},
     "output_type": "display_data"
    },
    {
     "data": {
      "text/markdown": [
       "Ostrogoti ed infine i Longobardi, i quali nel 569 rappresentarono il colpo di grazia inferto ad una terra che era uscita **terribilmente** stremata da questa serie di lotte, con l'' economia rovinata e le sue pianure completamente devastate e spopolate."
      ],
      "text/plain": [
       "<IPython.core.display.Markdown object>"
      ]
     },
     "metadata": {},
     "output_type": "display_data"
    },
    {
     "data": {
      "text/markdown": [
       "691226\tNon pongo limiti, gli italiani mi hanno sorpreso positivamente tante volte\".Non portare frequentemente a spasso un cane può far sì che questo si annoi **terribilmente**, che non abbia valvole di sfogo e che poi inizi a manifestare la sua insofferenza combinandovi disastri e dispetti continui.Non possiamo annunziare Gesù Cristo Salvatore perché nel fondo non lo sentiamo.Non possiamo che amarle, perché a queste donne è rimasto solo il proprio corpo.Non possiamo continuare a cedere a questo ricatto - ha scritto Di Maio su Fb - Ma per me nessun bambino con la sua mamma può continuare a stare in mare ostaggio dell'egoismo di tutti gli Stati europei\".Non posso più immaginare la vita o il lavoro senza i social.Non possiamo dimenticare da questo elenco di novità le Jeep Renegade e Compass 4x4e, spinte dal nuovo powertrain ibrido plug-in e prodotte a Melfi dal 2020.Non possiamo e non dobbiamo nasconderci dietro un ideale religioso per seminare caos e versare sangue.Non possiamo limitarci a dire “questo non è il mio basket”.Non possiamo però fare paragoni con il mese di maggio dell’anno scorso, anche perché le festività cosiddette tedesche sono spostate a giugno quest’anno».Non possiamo però nasconderci che diversi problemi continuano ad attanagliare la società odierna, impedendo di dare spazio al desiderio di tanti giovani di sposarsi e formare una famiglia per le condizioni sfavorevoli in cui vivono.Non possiamo, pertanto, esprimerci in merito all’età».«Non posso ancora dire quali saranno le ipotesi percorribili.Non posso credere che questi sforzi non siano stati riconosciuti dalla scuola.Non posso dire di essere felice - ha detto Debora Lulli, madre di Ismaele - ma almeno mio figlio riposerà in pace.Non posso insultare e provocare una persona continuamente perché rischio di farla arrabbiare, rischio di ricevere una reazione non giusta.Non posso permettermi un anno sabbatico” ha aggiunto.Non sono nè \"migranti\" nè \"immigrati\" SONO CLANDESTINI e, dal momento che sono scappati, pure criminali!«Ogni anno cerchiamo di fare meglio.Non sono pentito, ma non parlare con parti sociali da subito non ha aiutatoNuovo sindaco del paese Claudia Corradin di Merlara bene comune con il 38,89% delle preferenze.Attimi di grande preoccupazione, nel tardo pomeriggio di domenica 10 novembre in Piazza Borsa a Treviso.Occorre diminuire il nostro consumo di carne e minimizzare il consumo di suolo per la produzione di agro-energia.Occorre che le persone che non accettano le regole del profitto e che vogliono intraprendere la strada del gratuito s’incontrino per dare vita a 'mondi alternativi' fondati su un sistema di relazioni interpersonali basate sul gratuito.Notari in Germania con il suo libro Su questo sito utilizziamo cookie tecnici e, previo tuo consenso, cookie di profilazione, nostri e di terze parti, per proporti pubblicità in linea con le tue preferenze.Nosiglia: preghiera in Comune, ma per tutti Questo sito usa cookie di terze parti (anche di profilazione) e cookie tecnici.NO sente il dovere morale di dimettersi il buffone da bettole malfamate?No, Santità, non ci sono zeri.Norme di sicurezza violate: vietato usare il campo di Gron Su questo sito utilizziamo cookie tecnici e, previo tuo consenso, cookie di profilazione, nostri e di terze parti, per proporti pubblicità in linea con le tue preferenze.Norman Atlantic: 11 vittime, tre gli italianiQuesto sito usa cookie di terze parti (anche di profilazione) e cookie tecnici.Norbu, che ha 15 anni, ha partecipato ieri a Lhasa a una cerimonia di offerta di una sciarpa bianca a una statua di Buddha; poi ha offerto dei nastri rossi ai monaci.Nora, moglie e madre perfetta, sempre un po’ snobbata dalle altre per via della sua grigia “normalità”, ha deciso di rivelare alle amiche un segreto che dal passato sta per tornare a sconvolgere la sua vita.No, più lunga dell’ quello no, ma per fortuna allora eravamo troppo piccoli per capire di cosa si trattasse.Non votano 36 mila valdostani Su questo sito utilizziamo cookie tecnici e, previo tuo consenso, cookie di profilazione, nostri e di terze parti, per proporti pubblicità in linea con le tue preferenze.Non vorrei proprio che, riformata la Costituzione e ridotto il numero dei parlamentari, ci si “dimentichi” di fare anche una nuova legge elettorale.Non volevo vivere quella che non era una vita, a meno che non fosse assolutamente necessario.Non voglio rincorrere le ipotesi: io sono candidato e vado avanti, gli altri non so."
      ],
      "text/plain": [
       "<IPython.core.display.Markdown object>"
      ]
     },
     "metadata": {},
     "output_type": "display_data"
    },
    {
     "data": {
      "text/markdown": [
       "**terribilmente** ."
      ],
      "text/plain": [
       "<IPython.core.display.Markdown object>"
      ]
     },
     "metadata": {},
     "output_type": "display_data"
    },
    {
     "data": {
      "text/markdown": [
       "ed inquietudine, tanto che, durante un momento di sconforto, afferma che Roma sia una città stupenda, ma \" **terribilmente** inconoscibile."
      ],
      "text/plain": [
       "<IPython.core.display.Markdown object>"
      ]
     },
     "metadata": {},
     "output_type": "display_data"
    },
    {
     "data": {
      "text/markdown": [
       "Poi è **terribilmente** triste perché suo padre muore da artista incompiuto, perciò parecchia della sua tristezza è proprio per suo padre."
      ],
      "text/plain": [
       "<IPython.core.display.Markdown object>"
      ]
     },
     "metadata": {},
     "output_type": "display_data"
    },
    {
     "data": {
      "text/markdown": [
       "Non può farsi cogliere impreparato all'ultimo minuto.De Rossi: \"Sceneggiata\" - La Gazzetta dello SportConferma cambio località Usa le credenziali di Gazzetta.itHai dimenticato la password o username?De Rossi e Zeman fanno discutere http://video.De Rossi e Di Natale alla festa per l'inaugurazione della Dacia Arena Mascherano-Suarez, scaramucce in allenamento Il video straziante della Policia Nacional: ecco il sopravvissuto appena salvatoScorretto o geniale?La soluzione è il fallimento - Affaritaliani.it Fondatore e direttore Sport & Malattie RareAffari.La solitudine di un magistrato che si è messo in testa di cambiare la giustizia italianaLa bolla ideologica del Nord omertoso e del Sud liberato dalle associazioni antiracketGli sgomberi “guidati” dai residenti.«La solidarietà deve camminare di pari passo con l’equità – ha sottolineato nel suo intervento Rosa Maria Di Giorgi, coordinatrice della consulta scuola di Anci Toscana - e questo obiettivo lo si persegue personalizzando le tariffe».De Mistura, da parte sua ha voluto sottolineare che sul caso dei due fucilieri «fa testo quello che deciderà la il prossimo 3 febbraio, non le indiscrezioni».De Mauro, per chi ha votato ieri?De Magistris, via alla mini-giunta sono in pole gli assessori uscenti Il vento che spira tra Napoli e Bruxelles Piazza Municipio festa Luigi De Magistris De Laurentiis: «Contento per de Magistris, ora pensiamo al San..De Luca ha poi raccontato ai filosofi presenti in sala il suo rapporto con la : “Sono stato molto attratto dalle teorie dei presocratici, che si ispiravano alla meraviglia del mondo, cercando di trovarvi spiegazioni.Diamantini e un’invasione ospite portano il Volley Potentino sul 20-18.Diamogli il Centro Sperimentale in mano e vedrete cosa saprà fare.Diamond è l’elemento dai piedi buoni della squadra, pronto con la sua qualità a servire palloni ai giocatori offensivi come Ted Carter e il centravanti Johnny Mason.Diana aveva massacrato i suoi genitori in casa, a bastonate e coltellate.Di Battista: \"Salvini sii coerente\" \"Doveva cambiare tutto dopo Formigoni e invece non è stato così\".Di belle sorprese dalla trasferta di Reggio Emilia non se ne attendevano.Di Biagio corre ai ripari, toglie Boateng e mette Calabria del Milan, un difensore.Di buon mattino, la deputata imolese a 5 stelle Mara Mucci diceva invece che \"oggi è il giorno dell'analisi e dell'autocritica.A suscitare la presa di posizione del leghista sono i dati statistici relativi alle \"lodi\" dell'ultima tornata della maturità, concentrate prevalentemente nelle regioni meridionali.A Tacloban, sotto l'acqua, non hanno perso il sorriso.Atalanta-Inter, due autoreti e Handa show — Roberto Mancini torna all’antico adagio: mescolare le carte per rimettere tutti sulla linea della tensione positiva.Atalanta in vetta, poi Juve e Milan; Napoli Atalanta in vetta, poi Juve e Milan; Napoli indietro: la classifica delle ultime 10Guarda la versione integrale sul sito Festa Atalanta dopo il gol di Masiello.A tornare in libertà saranno quanti non sono colpevoli di omicidio, o di violenza domestica, ma neppure di abusi sessuali o reati contro lo Stato.A Torino erano in tutto 27 i presidi per protestare \"contro la crisi, per un fisco più equo, in difesa del diritto di cittadinanza per i migranti e per dire no alla legge di controriforma sull'articolo 18\".Atmosfera rilassata, lavoro di scarico in palestra con i giocatori in campo solo per un po' di calcio tennis e torello.ATM è sana ed efficiente, deve continuare a crescere nei fattori produttivi migliorando ancora tutte le sue performance.Atletica, raduni regionali Ci sono 17 comaschi - Sport Como I cookie ci aiutano ad offrirti un servizio migliore.A Tivoli è esondato il fiume Aniene.A titolo esemplare, il sostantivo \"minaccia\" (\"threat\") viene reiterato in modo quasi ossessivo e sottintende una preoccupazione, sovente ingiustificata ed esagerata, concernente la sicurezza interna.A Tirana in Albania vogliono copiare il modello di Verona per la raccolta dei rifiuti e la gestione della pulizia urbana.A Thiago piacerebbe molto il ritorno in nerazzurro: a questo punto, dopo la panchina di ieri col Psg la situazione può subìre delle accelerazioni già nelle prossime ore.A Testaccio c’è stata una “carbonara di pace” che ha riunito azzurri e giallorossi in trattoria.Di Calabresi si riparlerà sicuramente a partire dal 7/8 gennaio prossimi, in concomitanza con la fiction trasmessa in due puntate in prima serata da Rai Due, nella quale Emilio Solfrizzi interpreta la figura del Commissario romano.A terra stanno operando squadre di volontari del Coordinamento volontariato toscano (Cvt), insieme ai vigili del fuoco del distaccamento di Figline Valdarno.Atene riconosce i passaporti kosovari Da questa settimana i cittadini kosovari muniti del nuovo passaporto possono viaggiare anche in Grecia, anche se Atene non ha ancora riconosciuto l’indipendenza del Kosovo.Dialogare, anche perché il problema, **terribilmente** reale, da cui partire è quello del lavoro.Devo tanto a Milano, la città dove sono cresciuti i miei figli”.Diagnostica in rete: ridurre le liste di attesa, ottimizzando le risorse Legionella, stamattina incontro con i dipendenti di via Alderotti Scaramuccia: ''Il movimento è salute, a qualsiasi età'' Decesso choc all’ospedale di Pistoia.De Zordo: \"Si rilanci la politica culturale dell'Ente\"… lunedì 18 giugno 2012 ore 15:53 L’Università di Firenze celebra Amerigo VespucciCENTENARIO.La situazione resta da bollino nero, con code in entrambe le direzioni, ma almeno stamattina non si sono registrati gli incastri nelle gallerie dei tir che sono la situazione più temuta e che causa i disagi peggiori al traffico.Del Seicento egli fu protagonista, non testimone o semplice comprimario, ma protagonista.Del resto, questo corso è stato studiato proprio per rispondere ad un'esigenza espressa dal territorio.La speranza era che Cariboni fosse in fondo alla pista ad aspettare i suoi amici.La speranza e' per Renzino.La speranza del Papa era chiara: “Vorrei che ogni persona visitando quei meravigliosi padiglioni, riuscisse a percepire la presenza di tanti volti.La speciale altalena sarà presentata domenica a Parco Uditore, dove sono in corso i lavori di installazione.La Spd in Germania «ha pagato un prezzo esagerato», argomenta l'ex premier danese, però «in Portogallo e Norvegia abbiamo vinto, e ora mi aspetto un'affermazione greca.La spada con cui lo scrittore Yukio Mishima si suicidò, facendosi decapitare, dopo il fallimento della sua protesta armata contro la resa del Giappone alla modernità occidentale.“La sottovalutazione proseguì al punto che nel 1999 si individuarono 57 siti inquinati di interesse nazionale, soprattutto ex aree industriali come Porto Marghera, Gela, Taranto o Orbetello”.“La sostenibilità – precisa l’assessore Giachi – non è soltanto quella ambientale collegata ad acqua, aria e verde.La sosta \"per pochi minuti\" e \"devo solo ritirare un pacco\", magari pure con le 4 frecce, è un fenomeno tipico dei paesi sottosviluppati.Delrio assicura: ''Il Paese è pronto'' Convegno alla Camera, Boldrini: ''meglio se il testo sarà basato sullo ius soli.La Sampdoria festeggia il 2-1 di Diakitè La gioia dei blucerchiati dopo il vantaggio Il momento del gol di Diakitè che vale la vittoria della Samp sulla Lazio.La serata, oltre all’approvazione del bilancio consuntivo del 2014 (in positivo) era dedicata alla premiazione di atleti, dirigenti e allenatore in luce nello scorso anno e alla consegna dei discoboli d’oro al merito.La saga di Dampyr nata in casa Bonelli ha senz'altro il merito d'aver imboccato un filone con convinzione e sincerità che sono stati premiati dai lettori.A supervisionare l'intera macchina sarà il centro di gestione per la sicurezza della questura dove affluiranno anche le immagini inviate dalle telecamere montate sull'elicottero della polizia che sorvolerà la città.A suo tempo sono stati inquisiti e tutta l’Italia ha potuto sapere in che mani era la nostra salute.A suo tempo l'avevo scritto che avrebbe tentato di far distruggere gli USA e il resto dell'occidente prima che finisse la sua presidenza.A suo carico è stato eseguito un ordine di carcerazione disposto dalla procura generale di Napoli.A Stramaccioni do un voto molto buono."
      ],
      "text/plain": [
       "<IPython.core.display.Markdown object>"
      ]
     },
     "metadata": {},
     "output_type": "display_data"
    },
    {
     "data": {
      "text/markdown": [
       "Per uno abituato, con una intensità, una energia, un fuoco che appena mi allontano dalla Colombiaaffievolisce e si spegne, e mi manca **terribilmente** \"."
      ],
      "text/plain": [
       "<IPython.core.display.Markdown object>"
      ]
     },
     "metadata": {},
     "output_type": "display_data"
    },
    {
     "data": {
      "text/markdown": [
       "Excursus storico culturale  Uso il termine \"comunicare\" perché è curioso notare come i sogni siano spesso percepiti come \"altro da noi\", per cui l''unico rapporto possibile con loro passa attraverso l''attività comunicativaemergenza di un parto fatto in casa alla bell''e meglio e sotto l''influsso di un''emozione sovrastante, pare minacciare **terribilmente** il suo destino, il suo futuro, magari di immigrata clandestina."
      ],
      "text/plain": [
       "<IPython.core.display.Markdown object>"
      ]
     },
     "metadata": {},
     "output_type": "display_data"
    },
    {
     "data": {
      "text/markdown": [
       "I cinque americani saranno anche rozzi, sgraziati, ruvidi nell´impatto ma suonano **terribilmente** veri e convinti: quindi onore a Loro e alla Loro attitudine invincibile."
      ],
      "text/plain": [
       "<IPython.core.display.Markdown object>"
      ]
     },
     "metadata": {},
     "output_type": "display_data"
    },
    {
     "data": {
      "text/markdown": [
       "Sono gli Iban, ancora temuti dalle altre tribù d''etnia Dayak, guerrieri **terribilmente** fieri della propria identità culturale, simbolizzata dalle decorazioni dei loro inseparabili parang, una specie diTutti e quattro i film di ALIEN sono stati rimasterizzati per garantire esperienza visiva senza precedenti attraverso il formato ad alta definizione Blu-ray.Tuttavia - ha avvertito - il condizionale è d'obbligo, perché tutto dipende dalla situazione meteo.Inoltre il livello di integrazione sarebbe direttamente correlato alla percentuale di immigrati rispetto alla popolazione residente.SACE (rating Aa2 di Moody’s) è un gruppo assicurativo-finanziario attivo nell’assicurazione del credito, nel credito all’esportazione, nella protezione degli investimenti, nelle garanzie finanziarie, nelle cauzioni e nel factoring.Con stati d’animo differenti: il sindaco di Roma sa di avere la vittoria in tasca, Orsoni è consapevole di essere stato battuto.Erano così legati l’uno all’altro, Freda e Ventura, che è quasi impossibile parlare dell’uno senza citare l’altro.Nel 2008 sono state più di tremila le persone che sono ricorse alle cure di servizi pubblici e privati della regione.E la linea comune sull'Iran - Senza contare che gli Stati Uniti, inoltre, stanno attualmente cercando di convincere la Cina ad appoggiare nuove sanzioni contro l'Iran per il suo controverso programma nucleare.La donna abitava in un paesino in provincia di Mantova.Inutile il gol di Almiron.Non partiamo con i favori del pronostico, ma siamo abituati allo scetticismo.Il Fidenza Village ha ospitato il casting del primo reality sul Running, organizzato dalla Gazzetta dello Sport.La liberalizzazione dei prezzi della benzina ha scatenato le proteste del partito nazionalista induista all'opposizione, che ha indetto un grande scioper nazionale per domani.Roma, 17 gen. (Apcom) - \"Bettino Craxi aveva difetti come tutti ma certamente amava la nostra Patria e ha fatto tutto quello che poteva per aiutarla\".In lombardia si aspetta 100 giorni mentre in Emilia romagna(imola x l'esattezza) 150gg prima di parlare è SEMPRE meglio informarsi,prego!Italia, fotografia desolante?Mi complimento per l´ottimo russo (Spasibo Tovarish!)"
      ],
      "text/plain": [
       "<IPython.core.display.Markdown object>"
      ]
     },
     "metadata": {},
     "output_type": "display_data"
    },
    {
     "data": {
      "text/markdown": [
       "E'' un paesaggiodella televisione Italiana sia stata partorita iniziativa più insulsa ed inutile, dispendiosa per i contribuenti e **terribilmente** poco educativa, anche sotto l´aspetto dell´intrattenimento... poca roba, riciclare dei presunti vip e raschiare ilun senso di angoscia costante."
      ],
      "text/plain": [
       "<IPython.core.display.Markdown object>"
      ]
     },
     "metadata": {},
     "output_type": "display_data"
    },
    {
     "data": {
      "text/markdown": [
       "I biancocelesti stanno aspettando una risposta, dopo che la pista Rodrigo Caio negli ultimi giorni si è complicata **terribilmente** ."
      ],
      "text/plain": [
       "<IPython.core.display.Markdown object>"
      ]
     },
     "metadata": {},
     "output_type": "display_data"
    },
    {
     "data": {
      "text/markdown": [
       "E anche un film **terribilmente** pessimista sui rapporti umani: la prostituta Aileen, violentata da piccola e i cui sogni di adolescente sono statigrande regista, può avere una sceneggiatura perfetta, può essere nell'' insieme un lavoro completo."
      ],
      "text/plain": [
       "<IPython.core.display.Markdown object>"
      ]
     },
     "metadata": {},
     "output_type": "display_data"
    },
    {
     "data": {
      "text/markdown": [
       "o anche a saturnia dove puzza **terribilmente** ma godi da morì."
      ],
      "text/plain": [
       "<IPython.core.display.Markdown object>"
      ]
     },
     "metadata": {},
     "output_type": "display_data"
    },
    {
     "data": {
      "text/markdown": [
       "Senza un tal contrappeso, quella elevazione lo renderebbe orribilmente superbo, oppure quell''abbassamento lo renderebbe **terribilmente** abietto."
      ],
      "text/plain": [
       "<IPython.core.display.Markdown object>"
      ]
     },
     "metadata": {},
     "output_type": "display_data"
    },
    {
     "data": {
      "text/markdown": [
       "Jamison, nota per i suoi studi fondamentali sul disturbo bipolare e il suicidio: \"A meno che qualcuno viva una vita **terribilmente** noiosa, non abbia alcuna speranza che possa essere distrutta, nessun amore che possa essere perduto, o viaggi dallapiù."
      ],
      "text/plain": [
       "<IPython.core.display.Markdown object>"
      ]
     },
     "metadata": {},
     "output_type": "display_data"
    },
    {
     "data": {
      "text/markdown": [
       "– Che laddove si riconoscesse non averne le proprietà essenziali la fiera che da quattro mesi forma il terrore di queste contrade , ciò potrebbe crescere l''animo in coloro che potrebbero affrontarla e viceversa richiamarequale il Commissario Rex), Oliver Hirschbiegel descrive la storia di un vecchietto un po irascibile, molto malato e **terribilmente** gentile con chi gli sta intorno che, invece di battere i pugni sul tavolo, quando si infuria con i propri generali - i, gli trasmetteva ansia e angoscia."
      ],
      "text/plain": [
       "<IPython.core.display.Markdown object>"
      ]
     },
     "metadata": {},
     "output_type": "display_data"
    },
    {
     "data": {
      "text/markdown": [
       "Credo di avere una sensibilità fuori dal comune, questo non mi aiuta molto, sono **terribilmente** sensitiva (sempre in termini pratici) e attratta da tutto ciò che è esoterico, vivo per la musica e per l'' arte, questo loattendono di essere restituiti alla libertà, e porrai in sesto le stadere e i pesi, evitando le frodi, ed incutendo il terrore nei rivenditori delle piazze e nei macellai."
      ],
      "text/plain": [
       "<IPython.core.display.Markdown object>"
      ]
     },
     "metadata": {},
     "output_type": "display_data"
    },
    {
     "data": {
      "text/markdown": [
       "Allora fuggiva precipitosate\"  Ryuk - 25 di costituzione per la freccia attiva  Ryuk è ridotto davvero male, ha sangue che gli cola ovunque, mi sento **terribilmente** in colpa per quello che gli ho fatto."
      ],
      "text/plain": [
       "<IPython.core.display.Markdown object>"
      ]
     },
     "metadata": {},
     "output_type": "display_data"
    },
    {
     "data": {
      "text/markdown": [
       "Il ensiero di altri 5 anni di governo Formigoni mi deprime **terribilmente** , mi deprime vedere che vanno decadendo gli ideali di solidarietà che sono stati sempre tanto forti in Lombardia."
      ],
      "text/plain": [
       "<IPython.core.display.Markdown object>"
      ]
     },
     "metadata": {},
     "output_type": "display_data"
    },
    {
     "data": {
      "text/markdown": [
       "Disegni di Luzzati , monografie kafkiane, discografia kletzmer,nostro futuro più prossimo, dando così vita ad un''analisi serrata e per tanti versi catastrofica, ma al tempo stessa **terribilmente** veritiera e ben documentata."
      ],
      "text/plain": [
       "<IPython.core.display.Markdown object>"
      ]
     },
     "metadata": {},
     "output_type": "display_data"
    },
    {
     "data": {
      "text/markdown": [
       "I Longo''s boys subiscono altri quattro gol dalla Roma e vedono già **terribilmente** complicarsi il loro percorso verso la salvezza."
      ],
      "text/plain": [
       "<IPython.core.display.Markdown object>"
      ]
     },
     "metadata": {},
     "output_type": "display_data"
    },
    {
     "data": {
      "text/markdown": [
       "- Questo, - disse il generale con tono **terribilmente** calmo, - riguarda il passato."
      ],
      "text/plain": [
       "<IPython.core.display.Markdown object>"
      ]
     },
     "metadata": {},
     "output_type": "display_data"
    },
    {
     "data": {
      "text/markdown": [
       "Ogni... :''( https://www.youtube.com/watch?feature=player_embedded&v=uFIoHvVFD28 Non so perchè,ma questo video fa **terribilmente** male."
      ],
      "text/plain": [
       "<IPython.core.display.Markdown object>"
      ]
     },
     "metadata": {},
     "output_type": "display_data"
    },
    {
     "data": {
      "text/markdown": [
       "Insomma, l''evocatrice posata e timidona del prequel è diventata una cantante che: Quando voglio rilassarmi un poco, in un''atmosfera familiare,entro in questo sito bello e \"confortevole\" : sono **terribilmente** sola."
      ],
      "text/plain": [
       "<IPython.core.display.Markdown object>"
      ]
     },
     "metadata": {},
     "output_type": "display_data"
    },
    {
     "data": {
      "text/markdown": [
       "\"Ma e'' il Frosinone all''inizio del secondo tempo a sfiorare il raddoppio con Lodi.Quasi un anno fa (era il 28 ottobre 2008) il tecnico di Sarmede, per nascondere il deficitario rendimento della squadra, si presentò in sala stampa con numeri e statistiche in sua difesa.SI è messo in mezzo il governo nigerino, per questo siamo ancora ostaggio delle Fars.La modesta crescita della produttività del settore manufatturiero, spiega l'Istat, si è tradotta in un relativo aumento del costo del lavoro per unità di prodotto (pur in assenza di rilevanti spinte sulle retribuzioni).E' possibile creare fino 32.000 gruppi e 1.024 livelli.Il candidato presidente del centrosinistra Fabio Melilli sarà presente in entrambe le occasioni.Per quanto timido e introverso nella vita reale, su internet il gioco funzionò a meraviglia.Ma Giovanni continua a prendere quattro.Allattuale squadra, in ogni modo, non risparmia critiche: \"Non è stata in grado di battere lAvellino, al San Paolo, nella finale dandata.La gente ha bisogno di relazionarsi.Cosa si nasconde dietro una strage di poliziotti che indagano su una misteriosa cerchia di potere occulto?Fini ha inoltre sottolineato che \"se mancheranno i voti della maggioranza ci saranno quelli dell'opposizione\" a sostegno del provvedimento del provvedimento di legge sul rifinanziamento della missione.Levento si aprirà il 17 settembre con \"Crisalide\", linstallazione umana di Kyrahm a piazza dellOrologio.Nel comparto delle energie alternative, ha un buon andamento a tre anni la gestione Mliif new energy, di Black Rock Merrill Lynch, con un risultato del 94,77%.In chissà quale dei tanti taglia-incolla di questa folle Finanziaria che cambia di ora per ora gettando nello scompiglio un po tutti.Visto che ha messo fine alla sua carriera contestare la sanzione non ha più senso, ha dichiarato Mario Widmer.Almeno fino ad oggi.A tal proposito, ai miei ragazzi, ai quali vanno i complimenti per la bella prestazione offerta, devo muovere un appunto: dobbiamo essere più cinici sotto porta.Anche Emma Bonino e Marco Pannella hanno fatto appello, con una lettera a Pro­di, nel mantenere il testo inte­grale.Qual e' il metodo che egli mette in pratica nella sua opera?Alla seduta del Comitato Direttivo provinciale che lo ha eletto hanno partecipato anche Franco Martini, segretario generale nazionale FILCAMS, e Renato Losio, segretario generale regionale della stessa categoria.Tremonti ha sottolineato anche come non ci sia nessun acquirente disposto a farsi carico delle passività e ha lanciato accuse al governo Prodi: \"Il prestito ponte è stato frutto di 22 mesi di inerzia\" ha detto.Reti: nel pt, 22' Nonda, 37' Zigic; nel st, 32' Purovic, 41' Zigic.In campo, poi, la funzione di tutor è stata assolta da Bellucci.In un'intervista rilasciata al Sunday Times, ricorda come, il giorno della scoperta del corpo trucidato della giovane studentessa inglese, l'unica amica che non mostr alcun segno di emozione fu Amanda Knox.La storia inizia dopo.In particolare proprio su quest'ultima regione sono attesi i temporali più intensi, che potrebbero provocare situazioni di rischio.L'agguato si era materializzato su di una strada poco frequentata di San Martino di Finita, solitamente utilizzata dalle giovani coppie del circondario per appartarsi.Andiamo comunque con ordine.Sono presenti un'entrata stereo per la connessione di altri dispositivi audio, ed un uscita video per interfacciare il sistema ad una TV, sfruttando le capacità video degli iPod di quinta generazione.Tale lacuna rende non semplice individuare il regime giuridico cui sottoporre, sul piano penale, le condotte che li riguardano e che riguardano gli apparati destinati alla loro utilizzazione.Come sempre Parolario riserverà una sezione anche agli appuntamenti musicali, tra le novità l&rsquo;importante collaborazione tra Parolario e il Teatro Sociale-Aslico.Nel tardo pomeriggio, quando prende la parola al dibattito della fondazione «I Gracchi», Veltroni parla dell'Internazionale Socialista: al di là dei sostantivi, sono i verbi a far capire l'idea.Cose inaudite sono venute fuori dalle sue mani!Muntari 5.5 - Non passa una buona domenica.Queste persone non capiscono di calcio.Credo che possa saltare Donadoni.Ma il Milan ha anche varie contropartite tecniche da mettere sulla bilancia.Inizialmente mi sono messa in contatto con Jacquire perché aveva fatto da ingegnere del suono su uno dei miei dischi preferiti di tutti i tempi, Mule Variations di Tom Waits.A questo punto necessario prestare attenzione per non sbagliare.FAENZA (Ravenna), 25 marzo 2008 - Del ciclismo gli piacciono le corse, i finali delle corse e il Giro dItalia.Le dolci colline fra Vignale e Camino saranno infatti, nel prossimo fine settimana, lo scenario della manifestazione enogastronomica Golosaria ideata dal giornalista Paolo Massobrio.Da domani comincia l'Europa vera.Si risveglia il lusso capeggiato da Bulgari (+1,81 in testa allo Spmib parimerito con l'inarrestabile Prysmian, distanziando il competitor Luxottica (+0,95%).Ci entri e ci rimani per un po&rsquo;, andando avanti e indietro e sistemandoti dove ti pare, scoprendo i rapporti tra camere e corridoio, e come il mondo esterno viene alterato se lo si guarda da queste finestre\".Non ci sono attese per l'avvio di una applicazione.I due uomini stavano allontanandosi a piedi quando vengono fermati dai Carabinieri nei pressi della Rotonda Salvo D´Acquisto.Da applausi a scena aperta.Seppure quasi con gli stessi spari: 7-6 nei gol per lo juventino.Ma chi la mangia questa trippa?Venerd ci sar un incontro promosso dal presidente della Provincia per definire in anticipo il calendario degli eventi 2009.La verità è che, pure se fosse già tutto concluso, né lui né la Roma potrebbero annunciarlo.Più recentemente ha fatto scalpore un sondaggio che interrogava gli utenti sull'opportunità o meno di uccidere Barack Obama.Tre sono nuovi acquisti, uno, Paloschi, s'è conquistato sul campo la stima di tecnico e dirigenti.Sullargomento Complanare avrei gi detto e gi dato e inoltre le ultime argomentazioni dellamministrazione comunale, sul tema, sono talmente stentoree, traballanti e banali da sentirsi esentati dal parlarne.Prendono la via del rialzo anche le principali borse europee.E al 119' l'Italia passa con Grosso che, da destra, risolve con un gran tiro una mischia in area di rigore.Ma intanto inizia la discesa, dovuta alla crisi economica che provoca una contrazione delle committenze.sono **terribilmente** seriooh oh sono **terribilmente** in ritardo le faccio le mie scuse signora ma devo andare sono **terribilmente** spiacente / ma purtroppo al momento non sono in casa / siete pregati di passarePacifico in 5 serate non è riuscito ad intonare correttamente 10 note di seguito, che Piotta è diventato triste dentro e tremendamente antico all'' impatto, che Meneguzzi passa più tempo al trucco che davanti al microfono e forse è un bene, che se sei figlioLe condizioni di salute del senatore appaiono stazionarie e non sembrano destare preoccupazione.Tutto, a questo punto, sembrava andare per il meglio.Massaro risultò essere la prima dei non eletti nel 2004, nell'ambito della lista \"Per crescere in libertà\" che supportò la vittoria di Pietro Palma.A rendere ancor più spettacolare la parata storica sarà lesibizione della squadra di sbandieratori e musici Torri Metelliane di Cava de Tirreni.Ora esamineremo la perizia e tutte le altre risultanze istruttorie e poi vedremo quali problematiche si affacciano per la difesa.Più che dimezzato dal picco dei 147 dollari.Oppure a qualcuno che ha paura di perdere profitti e potere?Mammoliti ha marciato per tutto il percorso al fianco dell'italocanadese, assieme a lui anche il deputato federale Judy Sgro e il capo della York Regional Police Armand LaBarge.La sorpresa, per chi scrive, arriva quando avviciniamo Nunzio di Dio che ci gela: \"Su quale giornale scrivi?Ci attende molto lavoro nelle prossime ore\".Gli esercizi iniziali, che lasciano intravedere le influenze venete, crearono il genere anedottico: giochi, scene con strumenti musicali, conversazioni e capricci femminili.Pare addirittura che con DAlema stiano organizzando un viaggio in Ecuador, con la scusa di studiare anche il traffico della capitale Quito.Problemi di motore, come detto, hanno eliminato dalla gara l'idolo locale Fernando Alonso.Raccomando inoltre di rivolgersi ai medici di famiglia evitando di affollare le sale d&rsquo;aspetto degli ospedali.Abbiamo censito 184 progetti per costruirne di nuove.Per modo dire, però, perché la superficie sfornata è piuttosto ruvida e ci vogliono un sacco di giorni di lavoro per smerigliarla e renderla liscia.La Direzione Sanitaria dell'ospedale, inoltre, ha riferito che \"non ci sono elementi che fanno ritenere che, a Trieste, ci sia un'epidemia in corso\".«Niente rancori inutili pensando al passato.Ma ci occorre un altro 1,5 milioni per pagare gli stipendi del personale ospedaliero\".IL VOTO - Dopo l'intervento di Prodi, le dichiarazioni di voto sulla fiducia al governo e il voto finale.Così è scritto su un cartello non lontano dal lungo fiume (la torbida Miliacka) dove nel 1914 Gavrilo Princip sparò all&rsquo;arciduca Francesco Ferdinando innescando la miccia della prima guerra mondiale.Ma è la sintesi tra le mie due culture».Campioni di ritorno - In generale, i primi passi della post-season hanno evidenziato le difficoltà di molte grandi firme nell'entrare nel ritmo giusto con i playoff, e col conseguente innalzamento del livello generale del gioco.Gachechiladze ha chiesto ai suoi supporter di riunirsi in strada a Tbilisi alle 14 (le 11 in Italia).A carico dell'uomo altre denunce - Agli agenti della Squadra mobile la bimba ha così raccontato di aver incontrato questo amico, Gaetano, spiegando cosa le era accaduto.Chi aveva tentato di occupare il Festival ha dovuto tirarsi indietro\".Ma mi dica lei però chi ci avrebbe salvato dall’accusa di omissione di atti d’ufficio per non aver fatto ottenere al paese quello che la legge gli concede».Per tutte le altre imprese, escluse dall'aumento dell' anno scorso, sarà al 3,9%, e sono confermate le agevolazioni precedenti.Insomma: da una parte i contanti e gli assegni sono criminalizzati.Gomez è fiero di suo figlio, «pronto al massimo sacrificio per la difesa del valore più prezioso, quello della libertà».Da nerazzurro non trovo niente da ridire sulla vittoria della Juve.Dai primi riscontri, i risultati sembravano rassicuranti: il numero delle attività commerciali e imprenditoriali in regola appariva infatti largamente superiore a quello delle attività bocciate.Il cancello è distante una decina di metri da casa, quindi non c'è problema per uscire dall'abitazione ma in ogni caso il settandaduenne si è trovato con una montagna di neve da dover scalare o aggirare.Bologna-Firenze, 24 euro in seconda classe invece dei 18,10 euro del vecchio tariffario; 26 euro in prima, contro i 24,70 precedenti.Il Chievo non sarà un ostacolo facile per i giallorossi che già pregustano il rientro di Totti.Mi riferisco alla riforma dellAlleanza in sé e alla riformulazione del concetto di sicurezza in riferimento ai vicini di Nord Est e Sud Est della Romania, includendo anche la Moldova, affinché siano integrati nella struttura di sicurezza della Nato.E si perché l'ultima redditizia trovata è quella di costruire in aree che vantano la \"certificazione\" dell'organizzazione e poi rivendere incrementando il prezzo.Perché sulla società di via Olgettina pende ancora la spada di Damocle dell'annessione ad Aem in vista della fusione con l'Asm di Brescia.Ricordiamo che Boston ha un parziale di 5 vittorie e nessuna sconfitta contro gli Yankees e che al momento una sola lunghezza separa le due squadre.Concetti che ribadisce subito dopo in una conferenza stampa.Vediamo, non è che siamo disposti a fare spese fuori dalla ragione in un momento come quello che stiamo attraversando di un'economia difficile.Un passaggio che s’intreccia con l’aumento della spesa e degli investimenti governativi, finanziati con il debito pubblico, a compensazione della spesa e degli investimenti privati depotenziati dalla necessità di rientro dall’eccesso di debito.I preparativi sono già in corso.Eppoi, mica era solo!Insomma, un doppio notabilato.In passato il ministro del Tesoro ha preso le distanze da Blair sul fronte delleuro, dichiarando pubblicamente le sue perplessità sulladozione delle moneta unica, ma i distinguo tra lui e Blair paiono aumentare, seppure in maniera sottile e implicita.C'e' poco da aggiungere\".Con un muro, con una barriera di cemento lunga due mila chilometri dalle coste del Pacifico a San Diego fino al Golfo del Messico e al Texas, alla maniera di Berlino o della Palestina.Al successivo riavvio di Logic, se non viene prima spenta l'Ensemble, nuovamente nelle preferenze non apparirà nulla, ma il remote, \"sembrerebbe\" funzionare ugualmente.D&rsquo;altronde sono pochissime, al di fuori di quella City fittizia e rapace, a potersi permettere di scialacquare tutti quei soldi nel guardaroba.Oggi è invece la volta del ministro degli Esteri Frattini, il quale ha osservato che 'Schulz è il capo di un partito politico della sinistra.Intel ha anche predisposto tre differenti tipi di dispositivi, con differenti caratteristiche a seconda del mercato.Nella tv pubblica - spiega - ci sono diverse persone di potere che non mi fanno lavorare in Rai perché dicono che sono troppo vicino al Presidente, e magari sono le stesse persone che conoscono il Presidente da più anni di me.Da un lato ci sono le minacce di Gheddafi allItalia e le recriminazioni contro il governo Berlusconi, dallaltra i toni estremi di Diliberto contro lAmerica.Farooqi era coinvolto nel sequestro e nellomicidio del giornalista americano Daniel Pearl, ucciso a Karachi, la città portuale del sud, nel 2002, ed era in contatto con numerosi gruppi militanti islamici pakistani con gli stessi obiettivi di Bin Laden.I loro destino dipende da chi sfoglia le pagine.E fa ancora più sensazione pensare che l'impresa del Siviglia arrivi senza molti possibili titolari in campo: assenti Adriano, Escudé, Puerta e Javi Navarro.Come ho scritto la scorsa settimana, aver vinto contro la Roma più svogliata e ferma della stagione con mezzo tiro su punizione non autorizza a sperare nel secondo posto.La partita comunque continua a vedere un monologo bianconero ma al 27' Bellucci gela l'Olimpico quando, tenuto in gioco da Zebina, si presenta a tu per tu con Buffon depositando la palla in rete per l'1-0 del Bologna.Torniamo agli standard della Costituzione.Non mi risulta che (per le cisterne adibite al trasporto di Gpl) vengano richieste specifiche per gli urti esterni.L'uomo ha dichiarato di aver perso 60 chili.Questo garantisce tempi e qualità di realizzazione certi\";.Da questa consapevolezza nasce Assenze/Presenze il ciclo ideato dal Museo Marino Marini di Firenze e il cui primo appuntamento è stato inaugurato mercoledì 2 aprile.Lo ricordiamo scherzare e sorridere quando fu investito della carica di presidente della giuria della \"caccavella d'argento\", una gara culinaria tra amici della parrocchia di San Domenico.Mina vagante nell´ordine dei Geologi dell´Umbria, sogna di fare un concerto ad Atlantide.E la sosta arriva assai opportuna.Se vogliamo aiutare davvero la gente di Gaza dobbiamo agire insieme.Tutte le partenze e arrivi sono dall&rsquo;Autostazione di Arezzo.Si è innamorato anche lui - fatalmente - della divina Lady Heather (Lo scrigno di Lady Heather, terza stagione, è qualcosa di indimenticabile).Faccio il giornalista, non il portavoce di D'Alema e nemmeno l'autore del Grande Fratello e del Ristorante, dunque non sono intruppato in alcun partito o schieramento.Respinti anche i reclami presentati da dirigenti e tesserati coinvolti nella vicenda.Allardyce, ora al Newcastle, viene tirato in ballo per il conflitto di interessi con suo figlio, e suo ex procuratore Craig, e con il Bolton Wonderers.Dunque \"che il sistema debba essere migliorato è cosa condivisa\", anche se \"ho sempre avuto fiducia nei giudici e sono sempre stato convinto che c'è un giudice a berlino, tanto che sono sempre stato assolto, alla fine\".Di contro, le risorse finanziarie che saranno raccolte con la quotazione potranno dare all'azienda la possibilità di rafforzare il processo di diversificazione appena iniziato.In Rete compravendita di organi - Oltre alla Colombia, anche in India la compravendita di organi viaggia sempre di più via Internet.A lui si affiancherà Vittoriano Guareschi, già collaudatore Ducati, che ricoprirà il ruolo di team manager.Non sarebbe una cosa molto intelligente per i cellulari \"a conchiglia\": o guardi fuori o guardi dentro, non ha senso attivarli entrambi.Questo è un grosso problema.Quando i disposti legislativi mancano di chiarezza, o forse anche di non completa conoscenza professionale nella stesura di chi legifera, spesso si finisce per non dare disposizioni chiare e corrette e quindi a volte inapplicabili.E il pensiero dell'allenatore rossoblu va ai 1.500 tifosi dati in partenza dall'Abruzzo: il Riviera, orfano dello zoccolo duro della Curva Nord, saprà contrastare l'entusiasmo pescarese?Il primo lotto di mille Vespa parte nel dicembre 1951.Di conseguenza il pm della procura di Trani Michele Ruggiero ha posto sotto sequestro larea.Un passo indietro ad entrambi, suggerito per consentire una terza e unica candidatura, quella di un commerciante super partes che metta d&rsquo;accordo tutti e consenta un periodo di pacificazione.L'indice Nikkei ha corso meno delle principali piazze finanziarie, perché è stato influenzato negativamente dalla crescita inferiore alle attese dei consumi interni.Io a Manhattan abito in un appartamento al dodicesimo piano, il tredicesimo non esiste, così come non esiste la tredicesima fila sugli aerei: negli Stati Uniti la religione ha uninfluenza fortissima su tutto.Al secondo posto si piazza Nicole Kidman che nel 2005 ha girato il thriller The interpreter, con il 49%.Il cantiere avanza, i programmi si completeranno come previsto a metà del 2009.Un bilancio provvisorio di unottantina di morti è destinato ad aggravarsi, persone annegate, altre decedute in incidenti causati dal maltempo, con smottamenti e frane dovuti alle forti precipitazioni.Non dire gatto se non ce lhai nel sacco.Questa volta il problema è proprio la piccola Lisbeth: è in ospedale con una pallottola nel cranio, e se qualcuno riuscisse a scavare nel suo cervello potenti organismi segreti crollerebbero come castelli di carta.Il secondo periodo si chiude a reti bianche con i due goalie ad ergersi a protagonisti.Insieme abbiamo costruito questa federazione ma anche, come più volte ribadito, un sindacato che vive nelle città, al fianco non solo delle lavoratrici e dei lavoratori iscritti, ma dei cittadini tutti\".Ma ogni volta che si vota sulla guerra, i voti critici sulla gestione Bush sembrano aumentare.Sia Cavani a Palermo che Sculli a Genoa hanno dimostrato come si deve agire quando si è sotto di un gol.PASADENA - Cambiano le panchine, ma il gusto di Carlo Ancelotti di battere l'Inter non cambia.Ci troviamo di fronte a una strategia del terrore che deve essere combattuta, e per farlo occorre essere uniti\".La cosa più importante, secondo me, è quindi riprendere questi controlli».Quest'ultima decisione ha riaperto le polemiche nel Pd, dopo che la senatrice Dorina Bianchi, capogruppo del partito nella Commissione sanita', ha deciso di dimettersi dal ruolo di correlatrice sul testo delle normative che dovrebbero regolare la Ru486.A sentire quello che si dice, sembra quasi che al Bernabeu o perdiamo, o perdiamo.I Guardiani della rivoluzione, fedelissimi della Guida suprema, ayatollah Ali Khamenei, e dalle cui file proviene lo stesso presidente, hanno affermato in un comunicato che l'attentato e' stato compiuto da \"mercenari\" al servizio dell'\"arroganza globale\".Ricordo che quella sera la D'Addario restò perché voleva parlare al presidente di una questione privata.«Sì, quello cantato in \"Il mondo che vorrei\".E poi in questi giorni sta girando a Sulmona il suo film The American..Molto preoccupato si dice il presidente Matteo Cavalieri: \"L'ultimo caso omofobico si inserisce in un clima di generale violenza che sembra contraddistinguere questi ultimi mesi.Il Nordisk Teaterlaboratorium è sovvenzionato dal ministero della cultura danese come istituto di ricerca e dal Comune di Holstebro come teatro regionale.MENO GOL - Rispetto a un anno fa (6 centri), Cambiasso segna molto meno...Barrichello, tuttavia, non polemizza direttamente con il team per l'andamento del Gp di Barcellona e, almeno per il momento, è costretto a fidarsi delle spiegazioni avute da Brawn.Nella zona del parcheggio dell&rsquo;hotel la superficie era ghiacciata e un signore non riusciva a spostare la sua vettura.Home Sport Derby senza scosse: 1 a 1 tra Como e Varese!Migliorato oltre le attese a febbraio l'indice ZEW tedesco, che si é attestato a -5,8 punti, rispetto ai -31 del mese precedente, le aspettative indicavano un livello a -25 punti.Avevamo indicato di vendere il titolo FIAT per le ragioni che poi si sono verificate, al momento timidamente sulle quotazioni, della poca capacità ai prezzi attuali di incorporare altre sorprese positive sul titolo.L’ex brigatista soffrirebbe di una grave depressione e, secondo le parole del presidente Nicolas Sarkozy, si è trattato di una scelta obbligata per salvarle la vita.Da qui, il forte debito di gennaio.Il portoghese è quasi pronto: \"Sto meglio, ho solo qualche fastidio muscolare.Tema che investe sia i Ds che la Margherita.Come tutti i prodotti della gamma ViaMichelin Navigation, l’X-960 è equipaggiato con la Guida Verde e la Guida Michelin in grado di fornire agli automobilisti preziose informazioni aggiornate su alberghi e ristoranti.Altre tre persone sorprese in zona sono state denunciate, mentre tutta larea è stata completamente ripulita.In Campania, ad esempio, la situazione non è migliore.L'assalitore, un uomo bianco, secondo alcuni testimoni, aveva in mano due armi da fuoco.Con la protesta di chi in cinque anni le poteva abbassare.Lanatra è un volatile simpatico: dal quale peraltro si ricavano ottimi sughi - su gustoblog una ricetta sul ragù danatra, potenzialmente deliziosa.Che risponde picche: \"La dignità non ha prezzo\".Ai lavoratori è stato inoltre garantito il pagamento degli stipendi di giugno, della quattordicesima e il mantenimento dei livelli occupazionali.L'accordo è stato raggiunto per i prossimi 4 anni con un ingaggio di $52 milioni.Il compito di custodire la memoria è importante, specie per i più giovani.Dietro ogni tiro c'è una spaziatura che garantisce un'esecuzione pulita.Palo di Amoruso dopo un movimento da perfetto centravanti.Intanto, per la squadra Grigia, ieri è stata presentata la maglia ufficiale.Detto fatto i cittadini - alcuni entusiasti, altri mugugnando - si sono adeguati alla richiesta per poi scoprire che non era la primavera ma una sola rondine.Anche la donna ha bisogno della redenzione di Gesù.In agenda: fiscalità di vantaggio, ponte sullo Stretto, piena applicazione dello Statuto siciliano per quello che riguarda la permanenza in Sicilia delle tasse pagate dalle imprese.La Juventus ha grande storia e deve ripartire come si deve.Dal primo momento erano stati scontri e liti con il figlio, che le contestava di spillare soldi al padre e di \"andare a Milano a fare la p tra i molti insulti che le rivolgeva abitualmente.È soprattutto la destra a protestare di fronte alla \"chimera\" che in due laboratori inglesi, la Newcastle University e il King's College, si preparano a \"creare\" dopo un ulteriore via libera dell'Hfea atteso entro novembre.Secondo Cadena Ser il club madridista avrebbe gia'' ottenuto maxi prestito di 70 milioni di euro dal Banco de Santander necessari per l''acquisto della stella portoghese del Manchester United.E riflette l'umore di parte della stampa spagnola.Anche sotto questo profilo la sentenza americana costituisce un esempio di incisività ed efficienza.Da sempre la saga di FF si fa pioniera di nuovi standard videoludici: pare che la magia si ripeterà.Si trattava, però, del primo rapimento politico a scopo di omicidio, quello di Giacomo Matteotti, compiuto dalla \"Ceka\" fascista (ad imitazione di quella russa), compiuto da Mussolini a capo del governo, ai danni di un deputato dell´opposizione.Anche se le prime avvisaglie le abbiamo avute alla fine del 2008, adesso dobbiamo constatare il perdurare delle difficoltà, che colpisce imprese grandi e piccole».Costanzo, dalle pagine di Tv Sorrisi e canzoni, aveva definito Mike \"l'ultimo rapito\" da Sky, accusandolo di \"impiparsene degli antichi rapporti\".La Roma ha qualche assenza, come puo'' succedere in un momento cosi'' concentrato di partite, ma sa che ha nelle sue possibilita'' di provare a vincere le partite al di la'' degli assenti.Non hai mai paura che possa succederti qualcosa?Ma Pechino ritiene che le sue imprese finanziarie non sono in grado di competere con quelle estere e che una pi rapida rivalutazione monetaria danneggerebbe le sue esportazioni.Un dossier che dimostra come dal punto di vista occupazionale i risultati, dopo vent'anni di petrolio, siano molto scadenti.Una volta regolati sedile e volante, anche gli alti trovano tutti i comandi naturalmente a portata di mano (e di piedi) e l´impressione, ancora prima di premere lo start, è di immediata confidenza.Si muore maledicendo l'ospedale della vergogna, a San Bartolomeo in Galdo, nel beneventano.«Il comparto dei trasporti e della logistica - proseguono i Segretari Generali di Filt Fit e Uilt nella nota - è sempre più importante per l'economia del Paese e per la sua crescita.Ha detto l'assessore Enrico Fusi: «Con l'agenzia che si occupa nella di organizzare l'evento abbiamo ragionato sulle modifiche di tipo logistico.Non dovremmo vederla, perché è coperta dal disco solare.Ma, a sorpresa, alcuni giorni fa, dopo aver annunciato il nuovo giro di vite, il sindaco aveva trovato il dissenso del segretario della Lega Nord del Friuli Venezia Giulia, Pietro Fontanini.In apertura lavori, un'altra presenza d'eccezione: Peter Gabriel, che ricever dagli stessi Nobel il titolo di \"Man of Peace 2006\" e la \"Dafne della pace\", in segno di riconoscimento dell'impegno in favore della pace e dei diritti umani.In base al numero di connessioni in rete fatte ogni mese, abbiamo calcolato quali sono le tariffe per la telefonia fissa più convenienti.Jay Triano viene espulso nel corso dellultimo quarto per proteste, poi c spazio anche per Marcus Banks (4 punti con 2/6 in 12) e infine loccasione per il primo canestro nella nba del centro australiano Jawai.I magistrati - ha aggiunto - sono liberissimi di potermi chiedere tutto quello che vogliono, quando lo riterranno opportuno; io penso di dover fare una vita assolutamente serena\".Ieri anche Paolo Bonaiuti, sottosegretario alla presidenza del Consiglio e portavoce del premier Silvio Berlusconi, aveva replicato a Prodi in tono analogo: \"Prodi sta cercando di scappare.Spetterà alla società convincere i giocatori e ai calciatori fare le necessarie valutazioni.Sarebbe molto bello il prossimo anno vedere le facce degli avversari, di ragazzi abituati alla serie B che all’improvviso un bel giorno si trovano a cercare di murare il mito.Oltre trentamila seggi, tre giorni di tempo per votare e cinque milioni di voti attesi: sono questi i numeri principali del referendum che si apre oggi 8 ottobre sull'accordo sul welfare firmato il 23 luglio da Governo e parti sociali.Non credo fosse loro intenzione contestare i tutori dellordine (due dei quali arrivati via mare con le fiammanti Yamaha 1000 Fx da circa 17.000 euro cadauna, presentate lo scorso giugno), ma piuttosto il modo con cui loperazione è stata svolta.Nascono i comitati civici contro le moschee e si uniscono per una lotta comune.Non è escluso che nel corso della riunione si sia pure parlato delle varie ipotesi investigative per tentare di risolvere un caso, che come si diceva si presenta di difficile soluzione.Mentre loperazione è allesame di Bruxelles, la risposta allo studio sarebbe quella di sondare il terreno per un´alleanza con il gruppo scandinavo.Il &ldquo;contrasto politico era entrato anche nella vita dei monasteri\";; le &ldquo;tensioni nazionalistiche\"; non ci acquietarono e nel 778 pensò di dare le dimissioni e riparò con alcuni monaci franchi a Spoleto, sotto la protezione di Carlo Magno.Seppellirli di alibi non ne fa degli uomini ma dei manichini che poi non si sa come dovrebbero ritrovare una spina dorsale allapprossimarsi dei 18 anni.Raffaelli ha spiegato: «La pace si fa con i nemici.Crede che i toni e le azioni di una certa classe politica possano aver alimentato lestremismo brigatista?A Francoforte in evidenza il tecnologico Infineon (+10%), seguito dai finanziari Deutsche Bank (+6%) dopo che il numero uno Josef Ackerman ha ribadito che il gruppo non ricorrerà agli aiuti di stato, Deutsche Post (+10,4%) e Postbank (+6,2%).Ancora sulle WiFi cittadine.Per ovviare al traffico e alla mancanza di parcheggi, è stato avviato in via sperimentale nel 2005, con 10 autovetture e 6 aree di sosta disponibili, il servizio di Car sharing.Alle strette finali sono le vicende interne alla Margherita che però insiste nel voler pesare in giunta.Per questo, dicevo, il referendum del 12 e 13 giugno è un banco di prova: se il referendum fosse bocciato (e la trovata astensionistica del cardinal Ruini ne aumenta le probabilità), i settori clericali più oltranzisti troverebbero nuova forza.Dal Bari con la formula della compartecipazione arriva l'attaccante Daniele Vantaggiato, lo scorso anno al Pescara.Travaglio smentisce, conferma le estati siciliane in cui ha incontrato Ciuro, promette di ritrovare le ricevute di pagamento degli alberghi, giura di non aver mai conosciuto Aiello.FELICE - \"Sono ovviamente molto felice- sono le prime parole di Buemi, nella nota del team- Essere un pilota di F.1 è sempre stato il mio obiettivo dal momento che ho iniziato a correre.Spazio poi agli alunni della 3ª B, della stessa scuola, che cantano Sinde, brano scritto e musicato dall´insegnante Rita Spaletra.La medaglia d'oro per la rivoluzione deve essere assegnata a Paola da Verona, eroica sia lei che suo marito.Non è più il \"luogo del dibattito etico\", ma il posto dove si esibiscono i muscoli della nuova ideologia anti-occidentale, prendendo come pretesto il caso di Israele.Tutte le razze, tutti diversi, tutti insieme per mettere a posto l'economia, i cambiamenti climatici e contrastare l'islam intollerante.Su quest'ultimo colloquio non sono trapelate indiscrezioni.Oltre 250 le pubblicazioni, numerosi i riconoscimenti ottenuti in campo nazionale ed internazionale.Ciò non significa che il G8 non abbia più un ruolo.Ora le fattucchiere operano e colpiscono anche on line: quanto meno per farsi pagare prestazioni e filtri magici.Oltre alle foto, che potete scorgere in questa notizia, il sito va a confermare le caratteristiche tecniche precedentemente trapelate dalla sempre celere penna di Dailytech.La base elettorale dell'Akp è la nuova borghesia imprenditoriale venuta dall'est che si contrappone alle tradizionali elite laiche e nazionaliste della burocrazia e delle imprese pubbliche.Riattaccherò il numero sulla schiena e potrò riprovare quelle sensazioni che mi sono mancate così tanto\".Le pubbliche amministrazioni non possono erogare compensi per lavoro straordinario se non previa attivazione dei sistemi di rilevazione automatica delle presenze.L&rsquo;amministrazione comunale del sindaco Genduso ha detto seccamente no al progetto e fatto anche ricorso al Tar.Anche Audi e BMW con il loro brand di lusso attingono a piene mani alle loro banche organi, pero’ almeno i “vesititini” sono decisamente diversi ed esclusivi.Votiamo dunque, votiamo tutti e votiamo bene, per l&rsquo;Italia, per noi e per il nostro comune futuro.E avanti di questo passo."
      ],
      "text/plain": [
       "<IPython.core.display.Markdown object>"
      ]
     },
     "metadata": {},
     "output_type": "display_data"
    },
    {
     "data": {
      "text/markdown": [
       "Scartava peraltro **terribilmente** , e subiva tali scossoni, da scombussolare di nuovo lo stomaco del povero Assiano."
      ],
      "text/plain": [
       "<IPython.core.display.Markdown object>"
      ]
     },
     "metadata": {},
     "output_type": "display_data"
    },
    {
     "data": {
      "text/markdown": [
       "Ritornato a Roma la trovò afflitta da grave pestilenza che **terribilmente** travagliava tutta l''Italia."
      ],
      "text/plain": [
       "<IPython.core.display.Markdown object>"
      ]
     },
     "metadata": {},
     "output_type": "display_data"
    },
    {
     "data": {
      "text/markdown": [
       "Saluti FB Il Milan invece, non fosse stato per Ibra sul quale mi soffermerò dopo, mi sembra **terribilmente** uguale a se stesso, immutabile nei suoi equivoci, irritante nella sua lentezza, incomprensibile in alcune NONiracheni, esasperati e indeboliti dalla disoccupazione, dai black-out continui, dallincertezza del futuro e dal terrore degli attentati, Saddam Hussein non è più lodiato dittatore della cui rimozione forzata bisognerà esser grati income sgorga da sotto il vulcano devi andare a Ischia, secondo me un paradiso terrestre."
      ],
      "text/plain": [
       "<IPython.core.display.Markdown object>"
      ]
     },
     "metadata": {},
     "output_type": "display_data"
    },
    {
     "data": {
      "text/markdown": [
       "Guadagnavo una miseria, ma mi divertivo **terribilmente** ."
      ],
      "text/plain": [
       "<IPython.core.display.Markdown object>"
      ]
     },
     "metadata": {},
     "output_type": "display_data"
    },
    {
     "data": {
      "text/markdown": [
       "Io credo che se assumiamo un altro differente atteggiamento - cioè se consideriamo ovvio e normale (...)vedono con una cartina in mano corrono subito per aiutarti, senza che tu chieda niente- il servizio nei locali è spesso **terribilmente** lento ."
      ],
      "text/plain": [
       "<IPython.core.display.Markdown object>"
      ]
     },
     "metadata": {},
     "output_type": "display_data"
    },
    {
     "data": {
      "text/markdown": [
       "puoi perdonare, ma non(n) (if (or (= n 1) (= n 2)) 1 (+ (fib (- n 1)) (fib (- n 2))))) che va calcolare più e più volte gli stessi valori in una maniera **terribilmente** inefficiente!"
      ],
      "text/plain": [
       "<IPython.core.display.Markdown object>"
      ]
     },
     "metadata": {},
     "output_type": "display_data"
    },
    {
     "data": {
      "text/markdown": [
       "Un inno all''orgoglio Rai, quella televisione di stato che sa produrre materiali di qualità e che non ha paura di'' par condicio'' , sbizzarrendosi magari a inventare '' calembour'' più o meno felici, ma resta pur sempre un argomento **terribilmente** serio e decisivo."
      ],
      "text/plain": [
       "<IPython.core.display.Markdown object>"
      ]
     },
     "metadata": {},
     "output_type": "display_data"
    },
    {
     "data": {
      "text/markdown": [
       "Ma il Lontano **terribilmente** , **terribilmente** continua."
      ],
      "text/plain": [
       "<IPython.core.display.Markdown object>"
      ]
     },
     "metadata": {},
     "output_type": "display_data"
    },
    {
     "data": {
      "text/markdown": [
       "Ilprecoce del settore giovanile dell''Ajax, uno dei più importanti e prolifici del mondo, il giocatore assomiglia **terribilmente** al primo Cristiano Ronaldo, capace di ubriacare gli avversari con decine di finte per poi servire l''assist vincente alchiusa con un martirio che avrebbe motivato la sua beatificazione, tra duecentottanta opere, tra i suoi studiosi che spesso sono veri e propri fans: per evitarlo, prendiamo in considerazione solo due aspetti del beato Raimondo Lullo."
      ],
      "text/plain": [
       "<IPython.core.display.Markdown object>"
      ]
     },
     "metadata": {},
     "output_type": "display_data"
    },
    {
     "data": {
      "text/markdown": [
       "Con Moldrock si è giocato d''anticipo mostrando subito un cattivo problematico ma allo stesso tempo **terribilmente** forte."
      ],
      "text/plain": [
       "<IPython.core.display.Markdown object>"
      ]
     },
     "metadata": {},
     "output_type": "display_data"
    },
    {
     "data": {
      "text/markdown": [
       "Gli uomini che il Marchese aveva messo a sua disposizione erano circa un migliaio, **terribilmente** pochi, per lui che conosceva la minaccia da affrontare."
      ],
      "text/plain": [
       "<IPython.core.display.Markdown object>"
      ]
     },
     "metadata": {},
     "output_type": "display_data"
    },
    {
     "data": {
      "text/markdown": [
       "- ma mi sento ancora molto lontano da ciò, ed è **terribilmente** frustrante."
      ],
      "text/plain": [
       "<IPython.core.display.Markdown object>"
      ]
     },
     "metadata": {},
     "output_type": "display_data"
    },
    {
     "data": {
      "text/markdown": [
       "La signora la libera soloegli ha donato qualcosa di prezioso e di raro che tutti conserveremo in fondo al cuore, e a me in particolare mancheranno **terribilmente** quelle sue telefonate che invariabilmente concludeva con le parole: \"Ti voglio bene Antonio\" ed io replicavo \"Anche) Titolo: Re: Lucciolii Post di ekinos il 11/04/07 alle ore 19:42:26 \" Nulla mi rifiuterà d''esistere se credo **terribilmente** \" ( Pietro Jahier ) Titolo: Re: Lucciolii Post di digrumante il 12/19/08 alle ore 16:44:17 \"Chi più ama è soccombente\"completamente."
      ],
      "text/plain": [
       "<IPython.core.display.Markdown object>"
      ]
     },
     "metadata": {},
     "output_type": "display_data"
    },
    {
     "data": {
      "text/markdown": [
       "Dall’atteggiamento degli operai e dalla loro postura curva appariva chiaro che il contenitore era **terribilmente** pesante nonostante le ridotte dimensioni."
      ],
      "text/plain": [
       "<IPython.core.display.Markdown object>"
      ]
     },
     "metadata": {},
     "output_type": "display_data"
    },
    {
     "data": {
      "text/markdown": [
       "Questa deliziosa cagnolina sta soffrendo **terribilmente** la reclusione."
      ],
      "text/plain": [
       "<IPython.core.display.Markdown object>"
      ]
     },
     "metadata": {},
     "output_type": "display_data"
    },
    {
     "data": {
      "text/markdown": [
       "Ma re Ferdinando gravò **terribilmente** la sua mano sui baroni ribelli, sfogando contro di essi il suo spirito di vendetta."
      ],
      "text/plain": [
       "<IPython.core.display.Markdown object>"
      ]
     },
     "metadata": {},
     "output_type": "display_data"
    },
    {
     "data": {
      "text/markdown": [
       "Secondo Fammoni, quindi, \"la crisi c´è, ed è **terribilmente** reale e bisogna fare di più: non è accettabile affermare che è stato già fatto tutto il possibile."
      ],
      "text/plain": [
       "<IPython.core.display.Markdown object>"
      ]
     },
     "metadata": {},
     "output_type": "display_data"
    },
    {
     "data": {
      "text/markdown": [
       "Parole **terribilmente** contemporanee che evitano gli orpelli per arrivare diritto come un pugnale al centro del cuore e della mente."
      ],
      "text/plain": [
       "<IPython.core.display.Markdown object>"
      ]
     },
     "metadata": {},
     "output_type": "display_data"
    },
    {
     "data": {
      "text/markdown": [
       "Lo avevo visto un paio di giorni fa ed ora non c''è più\", \"r.i.p, ciclisti,  pedoni, genitori o figli, di tentare di porre un freno a questi episodi, che anche nella nostra città sono **terribilmente** ricorrenti."
      ],
      "text/plain": [
       "<IPython.core.display.Markdown object>"
      ]
     },
     "metadata": {},
     "output_type": "display_data"
    },
    {
     "data": {
      "text/markdown": [
       "Ilcolloquio con Paul Emery di Nicola Nosengo Ci sono quasi 5 milioni di persone in Italia che soffrono, e spesso soffrono **terribilmente** , per malattie per cui di fatto non esistono cure, e che l'' Unione europea non considera nemmeno tra quelle su cui vale la, un gesto degno, per avere poi qualcosa di cui esser fiero."
      ],
      "text/plain": [
       "<IPython.core.display.Markdown object>"
      ]
     },
     "metadata": {},
     "output_type": "display_data"
    },
    {
     "data": {
      "text/markdown": [
       "Quale di madre sul figlio colto da morte improvvisa, vanno quegli stridi al firmamento che si partono da un''per unirvi con me, che vi raccomando ogni giorno nella S.  Messa, affinchè niuno di voi resti vittima del colera, che si fa **terribilmente** sentire in parecchi paesi a noi vicini."
      ],
      "text/plain": [
       "<IPython.core.display.Markdown object>"
      ]
     },
     "metadata": {},
     "output_type": "display_data"
    },
    {
     "data": {
      "text/markdown": [
       "Finanche di quelle nuvole, così eteree eppure **terribilmente** asfissianti."
      ],
      "text/plain": [
       "<IPython.core.display.Markdown object>"
      ]
     },
     "metadata": {},
     "output_type": "display_data"
    },
    {
     "data": {
      "text/markdown": [
       "\"Un punto dolente secondo molti è il fatto che questo ffx-2 sia **terribilmente** scanzonato...\"  \"... e leggero."
      ],
      "text/plain": [
       "<IPython.core.display.Markdown object>"
      ]
     },
     "metadata": {},
     "output_type": "display_data"
    },
    {
     "data": {
      "text/markdown": [
       "Sei infra Ieniso, il monte Casio e il lago Serbonide, un territorio certo non piccolo se sono almeno tre giorni di cammino, è **terribilmente** desertica e priva d''acqua."
      ],
      "text/plain": [
       "<IPython.core.display.Markdown object>"
      ]
     },
     "metadata": {},
     "output_type": "display_data"
    },
    {
     "data": {
      "text/markdown": [
       "E'', non al massimo delle sue possibilità, quindi ancora non posso dirvi nulla :D L''altro è un vero hot pink, un color barbie **terribilmente** acceso, più estivo forse...ma qui c''è una temperatura primaverile, quindi lo proveremo :P  L''unica cosa che miun buon investimento economico per il terapeuta, un po'' meno per il paziente e alla lunga anche per il terapeuta perché è **terribilmente** frustrante."
      ],
      "text/plain": [
       "<IPython.core.display.Markdown object>"
      ]
     },
     "metadata": {},
     "output_type": "display_data"
    },
    {
     "data": {
      "text/markdown": [
       "E a soffrire **terribilmente** non sarebbero solo i produttori americani, ma anche le economie degli Stati più deboli."
      ],
      "text/plain": [
       "<IPython.core.display.Markdown object>"
      ]
     },
     "metadata": {},
     "output_type": "display_data"
    },
    {
     "data": {
      "text/markdown": [
       "La battuta ha un fondo di verità anche perché i libri sono **terribilmente** costosi, rapportati ai miseri salari di qui."
      ],
      "text/plain": [
       "<IPython.core.display.Markdown object>"
      ]
     },
     "metadata": {},
     "output_type": "display_data"
    },
    {
     "data": {
      "text/markdown": [
       "Firmato: i leoni delun complotto di imprenditori ai danni di Penati e allora è una vittima che va difesa, oppure la questione sta diventando **terribilmente** seria."
      ],
      "text/plain": [
       "<IPython.core.display.Markdown object>"
      ]
     },
     "metadata": {},
     "output_type": "display_data"
    },
    {
     "data": {
      "text/markdown": [
       "Già la cosa è **terribilmente** sospetta."
      ],
      "text/plain": [
       "<IPython.core.display.Markdown object>"
      ]
     },
     "metadata": {},
     "output_type": "display_data"
    },
    {
     "data": {
      "text/markdown": [
       "Disegni che richiamano **terribilmente** quello delle MOSAIC  Poi come al solito a decidere sarà il portafoglio, non il requisito  perdoni l''ignoranza, ma esistetra la gente perché la testa **terribilmente** mi sudava."
      ],
      "text/plain": [
       "<IPython.core.display.Markdown object>"
      ]
     },
     "metadata": {},
     "output_type": "display_data"
    },
    {
     "data": {
      "text/markdown": [
       "Sarà un lungo campionato...  Quando proprio non vuole entrare, quando l''assedio è totale ma sterile, quando tutto non gira comeeconomicamente, a basso indice demografico e deboli dal punto di vista infrastrutturale e dei trasporti, a soffrire **terribilmente** \"."
      ],
      "text/plain": [
       "<IPython.core.display.Markdown object>"
      ]
     },
     "metadata": {},
     "output_type": "display_data"
    },
    {
     "data": {
      "text/markdown": [
       "Mi sono affezionata **terribilmente** ai quei piccoli monelli, anche se non ho potuto comunicare con le parole quanto ho voluto loro bene."
      ],
      "text/plain": [
       "<IPython.core.display.Markdown object>"
      ]
     },
     "metadata": {},
     "output_type": "display_data"
    },
    {
     "data": {
      "text/markdown": [
       "Ma il suo libro la rende **terribilmente** simpatica  Tegola City, Gabriel Jesus rischia tre mesi di stop  Nelle ultime ore Massimo Moratti ne aveva tessuto le lodisulla gestione dei cambi."
      ],
      "text/plain": [
       "<IPython.core.display.Markdown object>"
      ]
     },
     "metadata": {},
     "output_type": "display_data"
    },
    {
     "data": {
      "text/markdown": [
       "Questo può sembrare un bricolage grossolano, ma è **terribilmente** efficace."
      ],
      "text/plain": [
       "<IPython.core.display.Markdown object>"
      ]
     },
     "metadata": {},
     "output_type": "display_data"
    }
   ],
   "source": [
    "find_sentences_with_keyword(document11, 'terribilmente')"
   ]
  },
  {
   "cell_type": "code",
   "execution_count": null,
   "id": "48e25da4",
   "metadata": {},
   "outputs": [],
   "source": []
  }
 ],
 "metadata": {
  "kernelspec": {
   "display_name": "Python 3 (ipykernel)",
   "language": "python",
   "name": "python3"
  },
  "language_info": {
   "codemirror_mode": {
    "name": "ipython",
    "version": 3
   },
   "file_extension": ".py",
   "mimetype": "text/x-python",
   "name": "python",
   "nbconvert_exporter": "python",
   "pygments_lexer": "ipython3",
   "version": "3.7.11"
  }
 },
 "nbformat": 4,
 "nbformat_minor": 5
}
