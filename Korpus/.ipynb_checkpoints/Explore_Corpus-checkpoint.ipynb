{
 "cells": [
  {
   "cell_type": "markdown",
   "id": "bf07efd5",
   "metadata": {},
   "source": [
    "# Exploration des Korpus & Visualisierungen"
   ]
  },
  {
   "cell_type": "code",
   "execution_count": 1,
   "id": "d9b84ded",
   "metadata": {},
   "outputs": [],
   "source": [
    "from collections import Counter\n",
    "from lexicalrichness import LexicalRichness\n",
    "from matplotlib import pyplot as plt\n",
    "from matplotlib import ticker\n",
    "import glob\n",
    "import math\n",
    "import numpy as np\n",
    "import os\n",
    "import pandas as pd\n",
    "import re\n",
    "import seaborn as sns"
   ]
  },
  {
   "cell_type": "code",
   "execution_count": 2,
   "id": "3cf9633b",
   "metadata": {},
   "outputs": [],
   "source": [
    "# großes DF einlesen \n",
    "\n",
    "df_bigger = pd.read_csv('Korpus/corpus_complete.csv', sep=',', encoding='utf-8')"
   ]
  },
  {
   "cell_type": "code",
   "execution_count": 3,
   "id": "032fa0a8",
   "metadata": {},
   "outputs": [
    {
     "data": {
      "text/html": [
       "<div>\n",
       "<style scoped>\n",
       "    .dataframe tbody tr th:only-of-type {\n",
       "        vertical-align: middle;\n",
       "    }\n",
       "\n",
       "    .dataframe tbody tr th {\n",
       "        vertical-align: top;\n",
       "    }\n",
       "\n",
       "    .dataframe thead th {\n",
       "        text-align: right;\n",
       "    }\n",
       "</style>\n",
       "<table border=\"1\" class=\"dataframe\">\n",
       "  <thead>\n",
       "    <tr style=\"text-align: right;\">\n",
       "      <th></th>\n",
       "      <th>doc</th>\n",
       "      <th>source</th>\n",
       "      <th>author</th>\n",
       "      <th>title</th>\n",
       "      <th>year</th>\n",
       "      <th>period</th>\n",
       "      <th>text_type</th>\n",
       "      <th>text</th>\n",
       "      <th>words</th>\n",
       "    </tr>\n",
       "  </thead>\n",
       "  <tbody>\n",
       "    <tr>\n",
       "      <th>0</th>\n",
       "      <td>Poesia.IV.4.Testo.txt</td>\n",
       "      <td>MIDIA</td>\n",
       "      <td>Faustina Maratti Zappi</td>\n",
       "      <td>Poesie</td>\n",
       "      <td>1700.0</td>\n",
       "      <td>1700-1750</td>\n",
       "      <td>poesia</td>\n",
       "      <td>IV. 4. Rime degli Arcadi: Aglauro Cidonia (Fau...</td>\n",
       "      <td>3184.0</td>\n",
       "    </tr>\n",
       "    <tr>\n",
       "      <th>1</th>\n",
       "      <td>Poesia.IV.11.Testo.txt</td>\n",
       "      <td>MIDIA</td>\n",
       "      <td>Giambattista Felice Zappi</td>\n",
       "      <td>Poesie</td>\n",
       "      <td>1700.0</td>\n",
       "      <td>1700-1750</td>\n",
       "      <td>poesia</td>\n",
       "      <td>IV. 11. Rime degli arcadi: Tirsi Leucasio (Gio...</td>\n",
       "      <td>6113.0</td>\n",
       "    </tr>\n",
       "    <tr>\n",
       "      <th>2</th>\n",
       "      <td>Poesia.IV.1.Testo.txt</td>\n",
       "      <td>MIDIA</td>\n",
       "      <td>Giuseppe Paolucci (Alessi Cillenio)</td>\n",
       "      <td>Poesie</td>\n",
       "      <td>1700.0</td>\n",
       "      <td>1700-1750</td>\n",
       "      <td>poesia</td>\n",
       "      <td>IV. 1. Rime degli Arcadi: Alessi Cillenio (Giu...</td>\n",
       "      <td>10862.0</td>\n",
       "    </tr>\n",
       "    <tr>\n",
       "      <th>3</th>\n",
       "      <td>Personali.IV.5.Testo.txt</td>\n",
       "      <td>MIDIA</td>\n",
       "      <td>Lorenzo Magalotti</td>\n",
       "      <td>Lettere odorose (1693-1705)</td>\n",
       "      <td>1700.0</td>\n",
       "      <td>1700-1750</td>\n",
       "      <td>personale</td>\n",
       "      <td>IV. 5. Lorenzo Magalotti, Lettere odorose (169...</td>\n",
       "      <td>8374.0</td>\n",
       "    </tr>\n",
       "    <tr>\n",
       "      <th>4</th>\n",
       "      <td>Espositivi.IV.4.Testo.txt</td>\n",
       "      <td>MIDIA</td>\n",
       "      <td>Ludovico Antonio Muratori</td>\n",
       "      <td>Antichità italiane</td>\n",
       "      <td>1700.0</td>\n",
       "      <td>1700-1750</td>\n",
       "      <td>espositivo</td>\n",
       "      <td>﻿IV. 4. Ludovico Antonio Muratori, Antichità i...</td>\n",
       "      <td>8990.0</td>\n",
       "    </tr>\n",
       "  </tbody>\n",
       "</table>\n",
       "</div>"
      ],
      "text/plain": [
       "                         doc source                               author  \\\n",
       "0      Poesia.IV.4.Testo.txt  MIDIA               Faustina Maratti Zappi   \n",
       "1     Poesia.IV.11.Testo.txt  MIDIA            Giambattista Felice Zappi   \n",
       "2      Poesia.IV.1.Testo.txt  MIDIA  Giuseppe Paolucci (Alessi Cillenio)   \n",
       "3   Personali.IV.5.Testo.txt  MIDIA                    Lorenzo Magalotti   \n",
       "4  Espositivi.IV.4.Testo.txt  MIDIA           Ludovico Antonio Muratori    \n",
       "\n",
       "                         title    year     period   text_type  \\\n",
       "0                       Poesie  1700.0  1700-1750      poesia   \n",
       "1                       Poesie  1700.0  1700-1750      poesia   \n",
       "2                       Poesie  1700.0  1700-1750      poesia   \n",
       "3  Lettere odorose (1693-1705)  1700.0  1700-1750   personale   \n",
       "4           Antichità italiane  1700.0  1700-1750  espositivo   \n",
       "\n",
       "                                                text    words  \n",
       "0  IV. 4. Rime degli Arcadi: Aglauro Cidonia (Fau...   3184.0  \n",
       "1  IV. 11. Rime degli arcadi: Tirsi Leucasio (Gio...   6113.0  \n",
       "2  IV. 1. Rime degli Arcadi: Alessi Cillenio (Giu...  10862.0  \n",
       "3  IV. 5. Lorenzo Magalotti, Lettere odorose (169...   8374.0  \n",
       "4  ﻿IV. 4. Ludovico Antonio Muratori, Antichità i...   8990.0  "
      ]
     },
     "execution_count": 3,
     "metadata": {},
     "output_type": "execute_result"
    }
   ],
   "source": [
    "df_bigger.head()"
   ]
  },
  {
   "cell_type": "code",
   "execution_count": 4,
   "id": "5edfb173",
   "metadata": {},
   "outputs": [
    {
     "data": {
      "text/plain": [
       "(237926, 9)"
      ]
     },
     "execution_count": 4,
     "metadata": {},
     "output_type": "execute_result"
    }
   ],
   "source": [
    "df_bigger.shape"
   ]
  },
  {
   "cell_type": "markdown",
   "id": "bf143639",
   "metadata": {},
   "source": [
    "### Anzahl der Texte pro Zeitraum"
   ]
  },
  {
   "cell_type": "code",
   "execution_count": 5,
   "id": "925a1e9a",
   "metadata": {},
   "outputs": [
    {
     "data": {
      "text/plain": [
       "{'1700-1750': 6675,\n",
       " '1751-1800': 1855,\n",
       " '1801-1825': 792,\n",
       " '1826-1850': 4537,\n",
       " '1851-1875': 11481,\n",
       " '1876-1900': 13913,\n",
       " '1901-1925': 23826,\n",
       " '1926-1950': 10259,\n",
       " '1951-1980': 1366,\n",
       " '1981-2000': 44836,\n",
       " '2001-2021': 118386}"
      ]
     },
     "execution_count": 5,
     "metadata": {},
     "output_type": "execute_result"
    }
   ],
   "source": [
    "periods = list(df_bigger['period'].unique())\n",
    "per_len ={i: len(df_bigger[df_bigger['period']==i]) for i in periods}\n",
    "per_len"
   ]
  },
  {
   "cell_type": "code",
   "execution_count": 6,
   "id": "5b2fbc18",
   "metadata": {},
   "outputs": [
    {
     "data": {
      "image/png": "[encoded data removed]",
      "text/plain": [
       "<Figure size 1008x504 with 1 Axes>"
      ]
     },
     "metadata": {
      "needs_background": "light"
     },
     "output_type": "display_data"
    }
   ],
   "source": [
    "plt.figure(figsize=[14, 7])\n",
    "plt.style.use('seaborn-whitegrid')\n",
    "\n",
    "x_indexes = np.arange(len(periods))\n",
    "plt.bar(x_indexes, per_len.values(), label='Textanzahl', width=0.8, color='b')\n",
    "plt.xticks(ticks = x_indexes, labels = per_len.keys(), rotation=45, horizontalalignment='right', fontsize='small')\n",
    "plt.xlabel('Zeiträume')\n",
    "plt.ylabel('Textanzahl')\n",
    "\n",
    "#plt.ticklabel_format(axis='y', style='sci', scilimits=(0,0))\n",
    "plt.tight_layout()\n",
    "plt.margins(0.2, 0.15)\n",
    "\n",
    "for i, j in zip(x_indexes, per_len.values()):\n",
    "       plt.annotate(j, xy=(i,j), xycoords='data', verticalalignment='bottom', horizontalalignment='center', \n",
    "                    fontweight='demi', fontsize='small')\n",
    "\n",
    "#plt.savefig('Plots/corpusbig_textanzahl.png')\n",
    "plt.show()"
   ]
  },
  {
   "cell_type": "markdown",
   "id": "844f9e00",
   "metadata": {},
   "source": [
    "### Anzahl der Tokens pro Zeitraum"
   ]
  },
  {
   "cell_type": "code",
   "execution_count": 7,
   "id": "bb2c883a",
   "metadata": {},
   "outputs": [
    {
     "data": {
      "text/plain": [
       "{'1700-1750': 2208509,\n",
       " '1751-1800': 2567325,\n",
       " '1801-1825': 2076318,\n",
       " '1826-1850': 2753419,\n",
       " '1851-1875': 6337077,\n",
       " '1876-1900': 3708596,\n",
       " '1901-1925': 2946611,\n",
       " '1926-1950': 2217161,\n",
       " '1951-1980': 1784770,\n",
       " '1981-2000': 2988503,\n",
       " '2001-2021': 3026928}"
      ]
     },
     "execution_count": 7,
     "metadata": {},
     "output_type": "execute_result"
    }
   ],
   "source": [
    "sum_words = {i: math.trunc(sum(df_bigger[df_bigger['period']==i].words)) for i in periods}\n",
    "sum_words"
   ]
  },
  {
   "cell_type": "code",
   "execution_count": 8,
   "id": "22c08ac4",
   "metadata": {},
   "outputs": [
    {
     "data": {
      "image/png": "[encoded data removed]",
      "text/plain": [
       "<Figure size 1008x504 with 1 Axes>"
      ]
     },
     "metadata": {},
     "output_type": "display_data"
    }
   ],
   "source": [
    "plt.figure(figsize=[14,7])\n",
    "plt.style.use('seaborn-whitegrid')\n",
    "\n",
    "x_indexes = np.arange(len(sum_words))\n",
    "plt.bar(x_indexes, sum_words.values(), label='Tokenanzahl', width=0.8, color='b')\n",
    "plt.xticks(ticks = x_indexes, labels = sum_words.keys(), rotation=45, horizontalalignment='right', fontsize='small')\n",
    "plt.xlabel('Zeiträume')\n",
    "plt.ylabel('Tokenanzahl')\n",
    "plt.ticklabel_format(axis='y', style='sci', scilimits=(0,0))\n",
    "\n",
    "plt.tight_layout()\n",
    "plt.margins(0.2, 0.15)\n",
    "\n",
    "for i, j in zip(x_indexes, sum_words.values()):\n",
    "       plt.annotate(j, xy=(i,j), xycoords='data', verticalalignment='bottom', horizontalalignment='center', \n",
    "                    fontweight='demi', fontsize='small')\n",
    "        \n",
    "#plt.savefig('Plots/corpusbig_tokenanzahl.png')\n",
    "plt.show()"
   ]
  },
  {
   "cell_type": "markdown",
   "id": "37f2232e",
   "metadata": {},
   "source": [
    "### Durchschnittslänge der Texte pro Zeitraum"
   ]
  },
  {
   "cell_type": "code",
   "execution_count": 9,
   "id": "464b81d1",
   "metadata": {},
   "outputs": [
    {
     "data": {
      "text/plain": [
       "{'1700-1750': 330.9,\n",
       " '1751-1800': 1384.0,\n",
       " '1801-1825': 2621.6,\n",
       " '1826-1850': 606.9,\n",
       " '1851-1875': 552.0,\n",
       " '1876-1900': 266.6,\n",
       " '1901-1925': 123.7,\n",
       " '1926-1950': 216.1,\n",
       " '1951-1980': 1306.6,\n",
       " '1981-2000': 66.7,\n",
       " '2001-2021': 25.6}"
      ]
     },
     "execution_count": 9,
     "metadata": {},
     "output_type": "execute_result"
    }
   ],
   "source": [
    "# gerundet auf 1 Nachkommastelle\n",
    "\n",
    "mean_words = {i: round(df_bigger[df_bigger['period']==i].words.mean(), 1) for i in periods}\n",
    "mean_words"
   ]
  },
  {
   "cell_type": "code",
   "execution_count": 10,
   "id": "7838e7a0",
   "metadata": {},
   "outputs": [
    {
     "data": {
      "image/png": "[encoded data removed]",
      "text/plain": [
       "<Figure size 1008x504 with 1 Axes>"
      ]
     },
     "metadata": {},
     "output_type": "display_data"
    }
   ],
   "source": [
    "# Verteilung der durchschnittlichen Textlänge auf die Zeiträume\n",
    "\n",
    "plt.figure(figsize=[14,7])\n",
    "plt.style.use('seaborn-whitegrid')\n",
    "\n",
    "x_indexes = np.arange(len(periods))\n",
    "plt.bar(x_indexes, mean_words.values(), label='Textlänge', width=0.8, color='b')\n",
    "plt.xticks(ticks=x_indexes, labels=mean_words.keys(), rotation=45, horizontalalignment='right', fontsize='small')\n",
    "plt.xlabel('Zeiträume')\n",
    "plt.ylabel('durchschnittl. Textlänge (Token)')\n",
    "\n",
    "plt.tight_layout()\n",
    "plt.margins(0.2, 0.15)\n",
    "\n",
    "for i, j in zip(x_indexes, mean_words.values()):\n",
    "       plt.annotate(j, xy=(i,j), xycoords='data', verticalalignment='bottom', horizontalalignment='center', \n",
    "                    fontweight='demi', fontsize='small')\n",
    "        \n",
    "#plt.savefig('Plots/corpusbig_durchschn_tokenanzahl.png')\n",
    "plt.show()"
   ]
  },
  {
   "cell_type": "markdown",
   "id": "5809c5a4",
   "metadata": {},
   "source": [
    "### Verteilung der Texttypen auf die Zeiträume"
   ]
  },
  {
   "cell_type": "code",
   "execution_count": 11,
   "id": "27d392bf",
   "metadata": {},
   "outputs": [],
   "source": [
    "period_frames = []"
   ]
  },
  {
   "cell_type": "code",
   "execution_count": 12,
   "id": "07f19836",
   "metadata": {},
   "outputs": [],
   "source": [
    "# Teilframes pro Zeitraum erstellen\n",
    "\n",
    "df_periods = dict(tuple(df_bigger.groupby(by='period')))\n",
    "\n",
    "for df, period in zip(df_periods, periods):\n",
    "    df_period = df_periods[period]\n",
    "    period_frames.append(df_period)"
   ]
  },
  {
   "cell_type": "code",
   "execution_count": 13,
   "id": "bc34967d",
   "metadata": {},
   "outputs": [],
   "source": [
    "periods_texttypes = {}"
   ]
  },
  {
   "cell_type": "code",
   "execution_count": 14,
   "id": "b46bacdd",
   "metadata": {},
   "outputs": [],
   "source": [
    "# Anzahl der Texte pro Texttyp pro Zeitraum\n",
    "\n",
    "for df, period in zip(period_frames, periods):\n",
    "    texttypes = df.groupby(by='text_type')\n",
    "    types = texttypes.groups\n",
    "    \n",
    "    periods_texttypes[period] = {key : len(value) for key, value in types.items()}"
   ]
  },
  {
   "cell_type": "code",
   "execution_count": 15,
   "id": "ee3a22f6",
   "metadata": {},
   "outputs": [
    {
     "data": {
      "text/plain": [
       "{'1700-1750': {'espositivo': 15,\n",
       "  'personale': 19,\n",
       "  'poesia': 13,\n",
       "  'prosa letteraria': 6603,\n",
       "  'teatro': 25},\n",
       " '1751-1800': {'espositivo': 33,\n",
       "  'personale': 16,\n",
       "  'poesia': 21,\n",
       "  'prosa letteraria': 1739,\n",
       "  'teatro': 46},\n",
       " '1801-1825': {'espositivo': 57,\n",
       "  'personale': 25,\n",
       "  'poesia': 31,\n",
       "  'prosa letteraria': 671,\n",
       "  'teatro': 8},\n",
       " '1826-1850': {'espositivo': 34,\n",
       "  'personale': 12,\n",
       "  'poesia': 11,\n",
       "  'prosa letteraria': 4474,\n",
       "  'teatro': 6},\n",
       " '1851-1875': {'espositivo': 34,\n",
       "  'personale': 14,\n",
       "  'poesia': 10,\n",
       "  'prosa letteraria': 11414,\n",
       "  'stampa': 4,\n",
       "  'teatro': 5},\n",
       " '1876-1900': {'espositivo': 18,\n",
       "  'personale': 5,\n",
       "  'poesia': 14,\n",
       "  'prosa letteraria': 13855,\n",
       "  'stampa': 11,\n",
       "  'teatro': 10},\n",
       " '1901-1925': {'espositivo': 26,\n",
       "  'personale': 6,\n",
       "  'poesia': 13,\n",
       "  'prosa letteraria': 23757,\n",
       "  'stampa': 16,\n",
       "  'teatro': 8},\n",
       " '1926-1950': {'espositivo': 31,\n",
       "  'personale': 6,\n",
       "  'poesia': 3,\n",
       "  'prosa letteraria': 10166,\n",
       "  'stampa': 47,\n",
       "  'teatro': 6},\n",
       " '1951-1975': {'dialogo': 4,\n",
       "  'espositivo': 17,\n",
       "  'prosa letteraria': 726,\n",
       "  'stampa': 608},\n",
       " '1976-2000': {'dialogo': 3,\n",
       "  'espositivo': 8,\n",
       "  'prosa letteraria': 7,\n",
       "  'stampa': 50440},\n",
       " '2001-2021': {'dialogo': 4,\n",
       "  'prosa letteraria': 6,\n",
       "  'stampa': 92920,\n",
       "  'web': 25456}}"
      ]
     },
     "execution_count": 15,
     "metadata": {},
     "output_type": "execute_result"
    }
   ],
   "source": [
    "periods_texttypes"
   ]
  },
  {
   "cell_type": "code",
   "execution_count": 16,
   "id": "38effe6c",
   "metadata": {},
   "outputs": [],
   "source": [
    "periods_texttypes_token = {}"
   ]
  },
  {
   "cell_type": "code",
   "execution_count": 17,
   "id": "e6745481",
   "metadata": {},
   "outputs": [],
   "source": [
    "# Anzahl der Tokens pro Texttyp pro Zeitraum\n",
    "\n",
    "for df, period in zip(period_frames, periods):\n",
    "    words = {i: math.trunc(sum(df[df['text_type']==i].words)) for i in list(df['text_type'].unique())}\n",
    "    periods_texttypes_token[period] = words"
   ]
  },
  {
   "cell_type": "code",
   "execution_count": 18,
   "id": "ab026155",
   "metadata": {},
   "outputs": [
    {
     "data": {
      "text/plain": [
       "{'1700-1750': {'poesia': 512572,\n",
       "  'personale': 236165,\n",
       "  'espositivo': 877862,\n",
       "  'prosa letteraria': 330533,\n",
       "  'teatro': 251377},\n",
       " '1751-1800': {'espositivo': 1347425,\n",
       "  'personale': 392092,\n",
       "  'teatro': 474435,\n",
       "  'poesia': 198675,\n",
       "  'prosa letteraria': 154698},\n",
       " '1801-1825': {'poesia': 169653,\n",
       "  'espositivo': 666818,\n",
       "  'personale': 964186,\n",
       "  'prosa letteraria': 191452,\n",
       "  'teatro': 84209},\n",
       " '1826-1850': {'personale': 266103,\n",
       "  'teatro': 39936,\n",
       "  'poesia': 256355,\n",
       "  'espositivo': 1407810,\n",
       "  'prosa letteraria': 783215},\n",
       " '1851-1875': {'prosa letteraria': 4039233,\n",
       "  'personale': 739473,\n",
       "  'espositivo': 1376156,\n",
       "  'poesia': 101698,\n",
       "  'teatro': 51125,\n",
       "  'stampa': 29392},\n",
       " '1876-1900': {'prosa letteraria': 2860353,\n",
       "  'poesia': 119215,\n",
       "  'espositivo': 598479,\n",
       "  'personale': 38992,\n",
       "  'stampa': 7625,\n",
       "  'teatro': 83932},\n",
       " '1901-1925': {'prosa letteraria': 2207147,\n",
       "  'espositivo': 417891,\n",
       "  'poesia': 137089,\n",
       "  'personale': 114027,\n",
       "  'teatro': 68063,\n",
       "  'stampa': 2394},\n",
       " '1926-1950': {'prosa letteraria': 1254511,\n",
       "  'personale': 210866,\n",
       "  'espositivo': 674258,\n",
       "  'stampa': 26708,\n",
       "  'teatro': 38471,\n",
       "  'poesia': 12347},\n",
       " '1951-1975': {'prosa letteraria': 870124,\n",
       "  'stampa': 792495,\n",
       "  'espositivo': 85132,\n",
       "  'dialogo': 14983},\n",
       " '1976-2000': {'stampa': 3307222,\n",
       "  'prosa letteraria': 95652,\n",
       "  'dialogo': 25,\n",
       "  'espositivo': 34230},\n",
       " '2001-2021': {'stampa': 2049578,\n",
       "  'prosa letteraria': 247200,\n",
       "  'dialogo': 3783,\n",
       "  'web': 726367}}"
      ]
     },
     "execution_count": 18,
     "metadata": {},
     "output_type": "execute_result"
    }
   ],
   "source": [
    "periods_texttypes_token"
   ]
  },
  {
   "cell_type": "code",
   "execution_count": 19,
   "id": "eec493ee",
   "metadata": {},
   "outputs": [],
   "source": [
    "espositivo = []\n",
    "dialogo = []\n",
    "poesia = []\n",
    "personale = []\n",
    "prosa_lett = []\n",
    "stampa = []\n",
    "teatro = []\n",
    "web = []"
   ]
  },
  {
   "cell_type": "code",
   "execution_count": 20,
   "id": "5e247d7c",
   "metadata": {},
   "outputs": [],
   "source": [
    "# Werte des Texttyps rausziehen und in Liste speichern \n",
    "\n",
    "for i in periods_texttypes_token:\n",
    "    \n",
    "    esp = periods_texttypes_token.get(i, {}).get('espositivo')\n",
    "    espositivo.append(esp)\n",
    "    \n",
    "    di = periods_texttypes_token.get(i, {}).get('dialogo')\n",
    "    dialogo.append(di)\n",
    "    \n",
    "    po = periods_texttypes_token.get(i, {}).get('poesia')\n",
    "    poesia.append(po)\n",
    "    \n",
    "    per = periods_texttypes_token.get(i, {}).get('personale')\n",
    "    personale.append(per)\n",
    "    \n",
    "    prolet = periods_texttypes_token.get(i, {}).get('prosa letteraria')\n",
    "    prosa_lett.append(prolet)\n",
    "    \n",
    "    st = periods_texttypes_token.get(i, {}).get('stampa')\n",
    "    stampa.append(st)\n",
    "    \n",
    "    tea = periods_texttypes_token.get(i, {}).get('teatro')\n",
    "    teatro.append(tea)\n",
    "    \n",
    "    w = periods_texttypes_token.get(i, {}).get('web')\n",
    "    web.append(w)"
   ]
  },
  {
   "cell_type": "code",
   "execution_count": 21,
   "id": "1f845eb0",
   "metadata": {},
   "outputs": [],
   "source": [
    "# None mit 0 ersetzen\n",
    "\n",
    "espositivo = [0 if v is None else v for v in espositivo]\n",
    "dialogo = [0 if v is None else v for v in dialogo]\n",
    "poesia = [0 if v is None else v for v in poesia]\n",
    "personale = [0 if v is None else v for v in personale]\n",
    "prosa_lett = [0 if v is None else v for v in prosa_lett]\n",
    "stampa = [0 if v is None else v for v in stampa]\n",
    "teatro = [0 if v is None else v for v in teatro]\n",
    "web = [0 if v is None else v for v in web]"
   ]
  },
  {
   "cell_type": "code",
   "execution_count": 22,
   "id": "cab25b34",
   "metadata": {},
   "outputs": [
    {
     "name": "stdout",
     "output_type": "stream",
     "text": [
      "[877862, 1347425, 666818, 1407810, 1376156, 598479, 417891, 674258, 85132, 34230, 0]\n",
      "[0, 0, 0, 0, 0, 0, 0, 0, 14983, 25, 3783]\n",
      "[236165, 392092, 964186, 266103, 739473, 38992, 114027, 210866, 0, 0, 0]\n",
      "[512572, 198675, 169653, 256355, 101698, 119215, 137089, 12347, 0, 0, 0]\n",
      "[330533, 154698, 191452, 783215, 4039233, 2860353, 2207147, 1254511, 870124, 95652, 247200]\n",
      "[0, 0, 0, 0, 29392, 7625, 2394, 26708, 792495, 3307222, 2049578]\n",
      "[251377, 474435, 84209, 39936, 51125, 83932, 68063, 38471, 0, 0, 0]\n",
      "[0, 0, 0, 0, 0, 0, 0, 0, 0, 0, 726367]\n"
     ]
    }
   ],
   "source": [
    "print(espositivo)\n",
    "print(dialogo)\n",
    "print(personale)\n",
    "print(poesia)\n",
    "print(prosa_lett)\n",
    "print(stampa)\n",
    "print(teatro)\n",
    "print(web)"
   ]
  },
  {
   "cell_type": "code",
   "execution_count": 23,
   "id": "ef63155a",
   "metadata": {},
   "outputs": [
    {
     "data": {
      "image/png": "[encoded data removed]",
      "text/plain": [
       "<Figure size 1008x504 with 1 Axes>"
      ]
     },
     "metadata": {},
     "output_type": "display_data"
    }
   ],
   "source": [
    "# Verteilung der Texttypen auf die Zeiträume\n",
    "\n",
    "plt.figure(figsize=[14,7])\n",
    "plt.style.use('seaborn-whitegrid')\n",
    "\n",
    "data = np.array([espositivo, dialogo, personale, poesia, prosa_lett, stampa, teatro, web])\n",
    "labels = ['espositivo', 'dialogo', 'personale', 'poesia', 'prosa letteraria', 'stampa', 'teatro', 'web']\n",
    "colors = ['#00004d','#380474', '#000099', '#0000FF', '#008fcc', '#0BB5FF', '#80dfff', '#BFEFFF']\n",
    "\n",
    "X = np.arange(data.shape[1])\n",
    "for i in range(data.shape[0]):\n",
    "    plt.bar(X, data[i],bottom = np.sum(data[:i], axis=0),label=labels[i % len(labels)], color=colors[i % len(colors)])\n",
    "\n",
    "x_indexes = np.arange(len(periods))\n",
    "plt.xticks(ticks=x_indexes, labels=periods, rotation=45, horizontalalignment='right', fontsize='small')\n",
    "plt.xlabel('Zeiträume')\n",
    "plt.ylabel('Tokenanzahl')\n",
    "plt.ylim(0,7000000)\n",
    "plt.ticklabel_format(axis='y', style='sci', scilimits=(0,0))\n",
    "plt.legend(loc='upper left', fontsize='small')\n",
    "\n",
    "plt.tight_layout()\n",
    "plt.margins(0.2, 0.15)\n",
    "\n",
    "for i, j in zip(x_indexes, sum_words.values()):\n",
    "       plt.annotate(j, xy=(i,j), xycoords='data', verticalalignment='bottom', horizontalalignment='center', \n",
    "                    fontweight='demi', fontsize='small')\n",
    "\n",
    "#plt.savefig('Plots/corpusbig_tokenanzahl_texttypes.png')\n",
    "plt.show()"
   ]
  },
  {
   "cell_type": "markdown",
   "id": "23fd9841",
   "metadata": {},
   "source": [
    "### Lexikalische Vielfalt: Mean Segmental Type Token Ratio"
   ]
  },
  {
   "cell_type": "code",
   "execution_count": 24,
   "id": "0dabf93a",
   "metadata": {},
   "outputs": [],
   "source": [
    "df_periods = dict(tuple(df_bigger.groupby(by='period')))"
   ]
  },
  {
   "cell_type": "code",
   "execution_count": 25,
   "id": "f8ba3e4e",
   "metadata": {},
   "outputs": [],
   "source": [
    "df1 = df_periods['1700-1750']\n",
    "df2 = df_periods['1751-1800']\n",
    "df3 = df_periods['1801-1825']\n",
    "df4 = df_periods['1826-1850']\n",
    "df5 = df_periods['1851-1875']\n",
    "df6 = df_periods['1876-1900']\n",
    "df7 = df_periods['1901-1925']\n",
    "df8 = df_periods['1926-1950']\n",
    "df9 = df_periods['1951-1975']\n",
    "df10 = df_periods['1976-2000']\n",
    "df11 = df_periods['2001-2021']"
   ]
  },
  {
   "cell_type": "code",
   "execution_count": 26,
   "id": "9809542f",
   "metadata": {},
   "outputs": [],
   "source": [
    "dfs = [df1, df2, df3, df4, df5, df6, df7, df8, df9, df10, df11]"
   ]
  },
  {
   "cell_type": "code",
   "execution_count": 27,
   "id": "4bf5cf1e",
   "metadata": {},
   "outputs": [],
   "source": [
    "periods = ['1700-1750', '1751-1800', '1801-1825', '1826-1850', '1851-1875', '1876-1900', '1901-1925', \n",
    "          '1926-1950', '1951-1975', '1976-2000', '2001-2021']"
   ]
  },
  {
   "cell_type": "code",
   "execution_count": 63,
   "id": "4ebd4317",
   "metadata": {},
   "outputs": [],
   "source": [
    "msttrs = {}\n",
    "\n",
    "for df, period in zip(dfs, periods):\n",
    "    text = ''\n",
    "    for i in df.text:\n",
    "        text += i\n",
    "    filtered = re.sub('[^A-Za-z_àÀèÈìÌòÒùÙáÁéÉíÍóÓúÚ]',' ', text).lower() \n",
    "    lex = LexicalRichness(filtered)\n",
    "    msttr = lex.msttr(segment_window=1000)               # TTR für Segmente mit 1000 Wörtern berechnen und Durchschnitt nehmen\n",
    "    msttrs.update({period : msttr})"
   ]
  },
  {
   "cell_type": "code",
   "execution_count": 64,
   "id": "a45d2387",
   "metadata": {},
   "outputs": [
    {
     "data": {
      "text/plain": [
       "{'1700-1750': 0.5178980804387575,\n",
       " '1751-1800': 0.49865591820684235,\n",
       " '1801-1825': 0.5066934306569334,\n",
       " '1826-1850': 0.5238410041841011,\n",
       " '1851-1875': 0.5199423351866557,\n",
       " '1876-1900': 0.5119429502852485,\n",
       " '1901-1925': 0.5122341296928321,\n",
       " '1926-1950': 0.5166142339075238,\n",
       " '1951-1975': 0.5138416523235807,\n",
       " '1976-2000': 0.5639252387448831,\n",
       " '2001-2021': 0.5749017282277183}"
      ]
     },
     "execution_count": 64,
     "metadata": {},
     "output_type": "execute_result"
    }
   ],
   "source": [
    "msttrs"
   ]
  },
  {
   "cell_type": "code",
   "execution_count": 65,
   "id": "3a0174de",
   "metadata": {},
   "outputs": [],
   "source": [
    "msttr_values = []\n",
    "\n",
    "for i in msttrs.values():\n",
    "    v = round(i, 3)\n",
    "    msttr_values.append(v)"
   ]
  },
  {
   "cell_type": "code",
   "execution_count": 66,
   "id": "b72216bb",
   "metadata": {},
   "outputs": [
    {
     "data": {
      "image/png": "[encoded data removed]",
      "text/plain": [
       "<Figure size 1120x560 with 1 Axes>"
      ]
     },
     "metadata": {},
     "output_type": "display_data"
    }
   ],
   "source": [
    "plt.figure(figsize=[14, 7])\n",
    "plt.style.use('seaborn-whitegrid')\n",
    "\n",
    "labels = periods\n",
    "x_indexes = np.arange(len(periods))\n",
    "plt.xticks(ticks=x_indexes, labels=periods, rotation=45, horizontalalignment='right', fontsize='small')\n",
    "plt.xlabel('Zeiträume')\n",
    "plt.ylabel('MSTTR')\n",
    "plt.bar(x_indexes, msttr_values, label='MSTTR', width=0.8, color='b')\n",
    "\n",
    "plt.tight_layout()\n",
    "plt.margins(0.2, 0.15)\n",
    "\n",
    "for i, j in zip(x_indexes, msttr_values):\n",
    "       plt.annotate(j, xy=(i,j), xycoords='data', verticalalignment='bottom', horizontalalignment='center', \n",
    "                    fontweight='demi', fontsize='small')\n",
    "\n",
    "#plt.savefig('Plots/corpusbig_msttrs.png')\n",
    "\n",
    "plt.show()"
   ]
  },
  {
   "cell_type": "code",
   "execution_count": null,
   "id": "f5690e9e",
   "metadata": {},
   "outputs": [],
   "source": []
  }
 ],
 "metadata": {
  "kernelspec": {
   "display_name": "Python 3 (ipykernel)",
   "language": "python",
   "name": "python3"
  },
  "language_info": {
   "codemirror_mode": {
    "name": "ipython",
    "version": 3
   },
   "file_extension": ".py",
   "mimetype": "text/x-python",
   "name": "python",
   "nbconvert_exporter": "python",
   "pygments_lexer": "ipython3",
   "version": "3.7.11"
  }
 },
 "nbformat": 4,
 "nbformat_minor": 5
}
