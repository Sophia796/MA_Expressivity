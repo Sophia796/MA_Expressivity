{
 "cells": [
  {
   "cell_type": "markdown",
   "id": "d2af6c8d",
   "metadata": {},
   "source": [
    "# Vorbereitung des Korpus"
   ]
  },
  {
   "cell_type": "code",
   "execution_count": 1,
   "id": "38aefbd0",
   "metadata": {},
   "outputs": [],
   "source": [
    "import codecs\n",
    "import nltk\n",
    "import numpy as np\n",
    "import os\n",
    "import pandas as pd\n",
    "import re\n",
    "import scipy\n",
    "import spacy"
   ]
  },
  {
   "cell_type": "code",
   "execution_count": 2,
   "id": "51925a0f",
   "metadata": {},
   "outputs": [],
   "source": [
    "# vortrainierte Pipeline für das Italienische\n",
    "nlp = spacy.load('it_core_news_lg')"
   ]
  },
  {
   "cell_type": "code",
   "execution_count": 3,
   "id": "b60c0f96",
   "metadata": {},
   "outputs": [],
   "source": [
    "lemmatizer = nlp.get_pipe('lemmatizer')"
   ]
  },
  {
   "cell_type": "code",
   "execution_count": 4,
   "id": "e5c7d81a",
   "metadata": {},
   "outputs": [],
   "source": [
    "df = pd.read_csv('Korpus/corpus_complete.csv', sep=',', encoding='utf-8')"
   ]
  },
  {
   "cell_type": "code",
   "execution_count": 5,
   "id": "697ee471",
   "metadata": {},
   "outputs": [
    {
     "data": {
      "text/html": [
       "<div>\n",
       "<style scoped>\n",
       "    .dataframe tbody tr th:only-of-type {\n",
       "        vertical-align: middle;\n",
       "    }\n",
       "\n",
       "    .dataframe tbody tr th {\n",
       "        vertical-align: top;\n",
       "    }\n",
       "\n",
       "    .dataframe thead th {\n",
       "        text-align: right;\n",
       "    }\n",
       "</style>\n",
       "<table border=\"1\" class=\"dataframe\">\n",
       "  <thead>\n",
       "    <tr style=\"text-align: right;\">\n",
       "      <th></th>\n",
       "      <th>doc</th>\n",
       "      <th>source</th>\n",
       "      <th>author</th>\n",
       "      <th>title</th>\n",
       "      <th>year</th>\n",
       "      <th>period</th>\n",
       "      <th>text_type</th>\n",
       "      <th>text</th>\n",
       "      <th>words</th>\n",
       "    </tr>\n",
       "  </thead>\n",
       "  <tbody>\n",
       "    <tr>\n",
       "      <th>0</th>\n",
       "      <td>Poesia.IV.11.Testo.txt</td>\n",
       "      <td>MIDIA</td>\n",
       "      <td>Giambattista Felice Zappi</td>\n",
       "      <td>Poesie</td>\n",
       "      <td>1700.0</td>\n",
       "      <td>1700-1750</td>\n",
       "      <td>poesia</td>\n",
       "      <td>IV. 11. Rime degli arcadi: Tirsi Leucasio (Gio...</td>\n",
       "      <td>6113.0</td>\n",
       "    </tr>\n",
       "    <tr>\n",
       "      <th>1</th>\n",
       "      <td>Personali.IV.5.Testo.txt</td>\n",
       "      <td>MIDIA</td>\n",
       "      <td>Lorenzo Magalotti</td>\n",
       "      <td>Lettere odorose (1693-1705)</td>\n",
       "      <td>1700.0</td>\n",
       "      <td>1700-1750</td>\n",
       "      <td>personale</td>\n",
       "      <td>IV. 5. Lorenzo Magalotti, Lettere odorose (169...</td>\n",
       "      <td>8374.0</td>\n",
       "    </tr>\n",
       "    <tr>\n",
       "      <th>2</th>\n",
       "      <td>Espositivi.IV.4.Testo.txt</td>\n",
       "      <td>MIDIA</td>\n",
       "      <td>Ludovico Antonio Muratori</td>\n",
       "      <td>Antichità italiane</td>\n",
       "      <td>1700.0</td>\n",
       "      <td>1700-1750</td>\n",
       "      <td>espositivo</td>\n",
       "      <td>﻿IV. 4. Ludovico Antonio Muratori, Antichità i...</td>\n",
       "      <td>8990.0</td>\n",
       "    </tr>\n",
       "    <tr>\n",
       "      <th>3</th>\n",
       "      <td>Personali.IV.15.Testo.txt</td>\n",
       "      <td>MIDIA</td>\n",
       "      <td>Pietro Giannone</td>\n",
       "      <td>Vita scritta da lui medesimo</td>\n",
       "      <td>1700.0</td>\n",
       "      <td>1700-1750</td>\n",
       "      <td>personale</td>\n",
       "      <td>[Proemio]\\nPrendo a scrivere la mia vita e qua...</td>\n",
       "      <td>10118.0</td>\n",
       "    </tr>\n",
       "    <tr>\n",
       "      <th>4</th>\n",
       "      <td>Personali.IV.4.Testo.txt</td>\n",
       "      <td>MIDIA</td>\n",
       "      <td>Vincenzo da Filicaia</td>\n",
       "      <td>Lettere inedite a Lorenzo Magalotti</td>\n",
       "      <td>1700.0</td>\n",
       "      <td>1700-1750</td>\n",
       "      <td>personale</td>\n",
       "      <td>IV. 4. Vincenzo da Filicaia, Lettere inedite a...</td>\n",
       "      <td>10073.0</td>\n",
       "    </tr>\n",
       "  </tbody>\n",
       "</table>\n",
       "</div>"
      ],
      "text/plain": [
       "                         doc source                      author  \\\n",
       "0     Poesia.IV.11.Testo.txt  MIDIA   Giambattista Felice Zappi   \n",
       "1   Personali.IV.5.Testo.txt  MIDIA           Lorenzo Magalotti   \n",
       "2  Espositivi.IV.4.Testo.txt  MIDIA  Ludovico Antonio Muratori    \n",
       "3  Personali.IV.15.Testo.txt  MIDIA             Pietro Giannone   \n",
       "4   Personali.IV.4.Testo.txt  MIDIA        Vincenzo da Filicaia   \n",
       "\n",
       "                                 title    year     period   text_type  \\\n",
       "0                               Poesie  1700.0  1700-1750      poesia   \n",
       "1          Lettere odorose (1693-1705)  1700.0  1700-1750   personale   \n",
       "2                   Antichità italiane  1700.0  1700-1750  espositivo   \n",
       "3         Vita scritta da lui medesimo  1700.0  1700-1750   personale   \n",
       "4  Lettere inedite a Lorenzo Magalotti  1700.0  1700-1750   personale   \n",
       "\n",
       "                                                text    words  \n",
       "0  IV. 11. Rime degli arcadi: Tirsi Leucasio (Gio...   6113.0  \n",
       "1  IV. 5. Lorenzo Magalotti, Lettere odorose (169...   8374.0  \n",
       "2  ﻿IV. 4. Ludovico Antonio Muratori, Antichità i...   8990.0  \n",
       "3  [Proemio]\\nPrendo a scrivere la mia vita e qua...  10118.0  \n",
       "4  IV. 4. Vincenzo da Filicaia, Lettere inedite a...  10073.0  "
      ]
     },
     "execution_count": 5,
     "metadata": {},
     "output_type": "execute_result"
    }
   ],
   "source": [
    "df.head()"
   ]
  },
  {
   "cell_type": "code",
   "execution_count": 6,
   "id": "c2eb550a",
   "metadata": {},
   "outputs": [
    {
     "data": {
      "text/plain": [
       "(304129, 9)"
      ]
     },
     "execution_count": 6,
     "metadata": {},
     "output_type": "execute_result"
    }
   ],
   "source": [
    "df.shape"
   ]
  },
  {
   "cell_type": "code",
   "execution_count": 7,
   "id": "63dd6d55",
   "metadata": {},
   "outputs": [],
   "source": [
    "df.text = df.text.fillna('')"
   ]
  },
  {
   "cell_type": "markdown",
   "id": "494498b2",
   "metadata": {},
   "source": [
    "### Lemmatisierung"
   ]
  },
  {
   "cell_type": "code",
   "execution_count": 8,
   "id": "4c705166",
   "metadata": {},
   "outputs": [],
   "source": [
    "def lemmatize_text(raw_text):\n",
    "    \"\"\"\n",
    "    lemmatizes the text\n",
    "    \"\"\"\n",
    "    text = ''\n",
    "    doc = nlp(raw_text)\n",
    "    lemmas = ' '.join([x.lemma_ for x in doc])\n",
    "    text = text + lemmas\n",
    "    return text"
   ]
  },
  {
   "cell_type": "code",
   "execution_count": 9,
   "id": "550aa4e0",
   "metadata": {},
   "outputs": [],
   "source": [
    "nlp.max_length = 100000000000000            # Wert erhöhen, weil sehr großes Korpus..."
   ]
  },
  {
   "cell_type": "code",
   "execution_count": 10,
   "id": "3f01a8cb",
   "metadata": {},
   "outputs": [
    {
     "name": "stdout",
     "output_type": "stream",
     "text": [
      "Wall time: 4h 38min 41s\n"
     ]
    }
   ],
   "source": [
    "%%time \n",
    "df['lemmatized_text'] = df['text'].apply(lemmatize_text)               "
   ]
  },
  {
   "cell_type": "code",
   "execution_count": 11,
   "id": "3bcd7017",
   "metadata": {},
   "outputs": [],
   "source": [
    "# zwischenspeichern\n",
    "\n",
    "df.to_csv('Korpus/corpus_lemmatized.csv', encoding='utf-8', index=False)"
   ]
  },
  {
   "cell_type": "code",
   "execution_count": 12,
   "id": "54251eaa",
   "metadata": {},
   "outputs": [],
   "source": [
    "# neu laden \n",
    "\n",
    "df = pd.read_csv('Korpus/corpus_lemmatized.csv', sep=',', encoding='utf-8')"
   ]
  },
  {
   "cell_type": "code",
   "execution_count": 13,
   "id": "42261e40",
   "metadata": {},
   "outputs": [
    {
     "data": {
      "text/html": [
       "<div>\n",
       "<style scoped>\n",
       "    .dataframe tbody tr th:only-of-type {\n",
       "        vertical-align: middle;\n",
       "    }\n",
       "\n",
       "    .dataframe tbody tr th {\n",
       "        vertical-align: top;\n",
       "    }\n",
       "\n",
       "    .dataframe thead th {\n",
       "        text-align: right;\n",
       "    }\n",
       "</style>\n",
       "<table border=\"1\" class=\"dataframe\">\n",
       "  <thead>\n",
       "    <tr style=\"text-align: right;\">\n",
       "      <th></th>\n",
       "      <th>doc</th>\n",
       "      <th>source</th>\n",
       "      <th>author</th>\n",
       "      <th>title</th>\n",
       "      <th>year</th>\n",
       "      <th>period</th>\n",
       "      <th>text_type</th>\n",
       "      <th>text</th>\n",
       "      <th>words</th>\n",
       "      <th>lemmatized_text</th>\n",
       "    </tr>\n",
       "  </thead>\n",
       "  <tbody>\n",
       "    <tr>\n",
       "      <th>0</th>\n",
       "      <td>Poesia.IV.11.Testo.txt</td>\n",
       "      <td>MIDIA</td>\n",
       "      <td>Giambattista Felice Zappi</td>\n",
       "      <td>Poesie</td>\n",
       "      <td>1700.0</td>\n",
       "      <td>1700-1750</td>\n",
       "      <td>poesia</td>\n",
       "      <td>IV. 11. Rime degli arcadi: Tirsi Leucasio (Gio...</td>\n",
       "      <td>6113.0</td>\n",
       "      <td>iv . 11 . rima del arcade : tirsi leucasio ( g...</td>\n",
       "    </tr>\n",
       "    <tr>\n",
       "      <th>1</th>\n",
       "      <td>Personali.IV.5.Testo.txt</td>\n",
       "      <td>MIDIA</td>\n",
       "      <td>Lorenzo Magalotti</td>\n",
       "      <td>Lettere odorose (1693-1705)</td>\n",
       "      <td>1700.0</td>\n",
       "      <td>1700-1750</td>\n",
       "      <td>personale</td>\n",
       "      <td>IV. 5. Lorenzo Magalotti, Lettere odorose (169...</td>\n",
       "      <td>8374.0</td>\n",
       "      <td>iv . 5 . Lorenzo magalotti , lettere odoroso (...</td>\n",
       "    </tr>\n",
       "    <tr>\n",
       "      <th>2</th>\n",
       "      <td>Espositivi.IV.4.Testo.txt</td>\n",
       "      <td>MIDIA</td>\n",
       "      <td>Ludovico Antonio Muratori</td>\n",
       "      <td>Antichità italiane</td>\n",
       "      <td>1700.0</td>\n",
       "      <td>1700-1750</td>\n",
       "      <td>espositivo</td>\n",
       "      <td>﻿IV. 4. Ludovico Antonio Muratori, Antichità i...</td>\n",
       "      <td>8990.0</td>\n",
       "      <td>﻿iv . 4 . Ludovico Antonio muratori , antichit...</td>\n",
       "    </tr>\n",
       "    <tr>\n",
       "      <th>3</th>\n",
       "      <td>Personali.IV.15.Testo.txt</td>\n",
       "      <td>MIDIA</td>\n",
       "      <td>Pietro Giannone</td>\n",
       "      <td>Vita scritta da lui medesimo</td>\n",
       "      <td>1700.0</td>\n",
       "      <td>1700-1750</td>\n",
       "      <td>personale</td>\n",
       "      <td>[Proemio]\\nPrendo a scrivere la mia vita e qua...</td>\n",
       "      <td>10118.0</td>\n",
       "      <td>[ proemio ] \\n prendere a scrivere il mio vita...</td>\n",
       "    </tr>\n",
       "    <tr>\n",
       "      <th>4</th>\n",
       "      <td>Personali.IV.4.Testo.txt</td>\n",
       "      <td>MIDIA</td>\n",
       "      <td>Vincenzo da Filicaia</td>\n",
       "      <td>Lettere inedite a Lorenzo Magalotti</td>\n",
       "      <td>1700.0</td>\n",
       "      <td>1700-1750</td>\n",
       "      <td>personale</td>\n",
       "      <td>IV. 4. Vincenzo da Filicaia, Lettere inedite a...</td>\n",
       "      <td>10073.0</td>\n",
       "      <td>iv . 4 . Vincenzo da filicaia , lettere inedit...</td>\n",
       "    </tr>\n",
       "  </tbody>\n",
       "</table>\n",
       "</div>"
      ],
      "text/plain": [
       "                         doc source                      author  \\\n",
       "0     Poesia.IV.11.Testo.txt  MIDIA   Giambattista Felice Zappi   \n",
       "1   Personali.IV.5.Testo.txt  MIDIA           Lorenzo Magalotti   \n",
       "2  Espositivi.IV.4.Testo.txt  MIDIA  Ludovico Antonio Muratori    \n",
       "3  Personali.IV.15.Testo.txt  MIDIA             Pietro Giannone   \n",
       "4   Personali.IV.4.Testo.txt  MIDIA        Vincenzo da Filicaia   \n",
       "\n",
       "                                 title    year     period   text_type  \\\n",
       "0                               Poesie  1700.0  1700-1750      poesia   \n",
       "1          Lettere odorose (1693-1705)  1700.0  1700-1750   personale   \n",
       "2                   Antichità italiane  1700.0  1700-1750  espositivo   \n",
       "3         Vita scritta da lui medesimo  1700.0  1700-1750   personale   \n",
       "4  Lettere inedite a Lorenzo Magalotti  1700.0  1700-1750   personale   \n",
       "\n",
       "                                                text    words  \\\n",
       "0  IV. 11. Rime degli arcadi: Tirsi Leucasio (Gio...   6113.0   \n",
       "1  IV. 5. Lorenzo Magalotti, Lettere odorose (169...   8374.0   \n",
       "2  ﻿IV. 4. Ludovico Antonio Muratori, Antichità i...   8990.0   \n",
       "3  [Proemio]\\nPrendo a scrivere la mia vita e qua...  10118.0   \n",
       "4  IV. 4. Vincenzo da Filicaia, Lettere inedite a...  10073.0   \n",
       "\n",
       "                                     lemmatized_text  \n",
       "0  iv . 11 . rima del arcade : tirsi leucasio ( g...  \n",
       "1  iv . 5 . Lorenzo magalotti , lettere odoroso (...  \n",
       "2  ﻿iv . 4 . Ludovico Antonio muratori , antichit...  \n",
       "3  [ proemio ] \\n prendere a scrivere il mio vita...  \n",
       "4  iv . 4 . Vincenzo da filicaia , lettere inedit...  "
      ]
     },
     "execution_count": 13,
     "metadata": {},
     "output_type": "execute_result"
    }
   ],
   "source": [
    "df.head()"
   ]
  },
  {
   "cell_type": "code",
   "execution_count": 14,
   "id": "9935ccf6",
   "metadata": {},
   "outputs": [
    {
     "data": {
      "text/plain": [
       "'Allora mi parve nuovamente che il Lucchino Visconti dovesse aprirmi la strada a lucrosi guadagni, che mi avrebbero permesso un giorno di acquistare uno di quei deliziosi villini e di condurvi la contessa Savina.  '"
      ]
     },
     "execution_count": 14,
     "metadata": {},
     "output_type": "execute_result"
    }
   ],
   "source": [
    "df['text'].iloc[60000]"
   ]
  },
  {
   "cell_type": "code",
   "execution_count": 15,
   "id": "4fc21767",
   "metadata": {},
   "outputs": [
    {
     "data": {
      "text/plain": [
       "'allora mi parere nuovamente che il lucchino Visconti dovere aprire il strada a lucroso guadagno , che mi avere permettere uno giorno di acquistare uno di quello delizioso villino e di condurvi il contessa savina .  '"
      ]
     },
     "execution_count": 15,
     "metadata": {},
     "output_type": "execute_result"
    }
   ],
   "source": [
    "df['lemmatized_text'].iloc[60000]"
   ]
  },
  {
   "cell_type": "code",
   "execution_count": 16,
   "id": "74fa3fed",
   "metadata": {},
   "outputs": [
    {
     "data": {
      "text/plain": [
       "'Ma mettiamo da parte la correttezza istituzionale e la coerenza personale, che è materia indisponibile nel presidente del Consiglio.'"
      ]
     },
     "execution_count": 16,
     "metadata": {},
     "output_type": "execute_result"
    }
   ],
   "source": [
    "df['text'].iloc[200000]"
   ]
  },
  {
   "cell_type": "code",
   "execution_count": 17,
   "id": "9fa49234",
   "metadata": {},
   "outputs": [
    {
     "data": {
      "text/plain": [
       "'ma mettere da parte il correttezza istituzionale e il coerenza personale , che essere materia indisponibile nel presidente del consiglio .'"
      ]
     },
     "execution_count": 17,
     "metadata": {},
     "output_type": "execute_result"
    }
   ],
   "source": [
    "df['lemmatized_text'].iloc[200000]"
   ]
  },
  {
   "cell_type": "code",
   "execution_count": 18,
   "id": "6686aba9",
   "metadata": {},
   "outputs": [
    {
     "data": {
      "text/plain": [
       "'Catania - Bologna è la madre di tutte le speranze di salvezza per la squadra di De Canio, concentrazione e fiducia caratterizzano la vigilia vissuta a Torre del Grifo.'"
      ]
     },
     "execution_count": 18,
     "metadata": {},
     "output_type": "execute_result"
    }
   ],
   "source": [
    "df['text'].iloc[220000]"
   ]
  },
  {
   "cell_type": "code",
   "execution_count": 19,
   "id": "1f55c089",
   "metadata": {},
   "outputs": [
    {
     "data": {
      "text/plain": [
       "'Catania - Bologna essere il madre di tutto il speranza di salvezza per il squadra di De Canio , concentrazione e fiducia caratterizzare il vigilia vivere a Torre del grifo .'"
      ]
     },
     "execution_count": 19,
     "metadata": {},
     "output_type": "execute_result"
    }
   ],
   "source": [
    "df['lemmatized_text'].iloc[220000]"
   ]
  },
  {
   "cell_type": "code",
   "execution_count": null,
   "id": "93633144",
   "metadata": {},
   "outputs": [],
   "source": []
  }
 ],
 "metadata": {
  "kernelspec": {
   "display_name": "Python 3 (ipykernel)",
   "language": "python",
   "name": "python3"
  },
  "language_info": {
   "codemirror_mode": {
    "name": "ipython",
    "version": 3
   },
   "file_extension": ".py",
   "mimetype": "text/x-python",
   "name": "python",
   "nbconvert_exporter": "python",
   "pygments_lexer": "ipython3",
   "version": "3.7.11"
  }
 },
 "nbformat": 4,
 "nbformat_minor": 5
}
