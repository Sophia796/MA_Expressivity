{
 "cells": [
  {
   "cell_type": "markdown",
   "id": "4c97e624",
   "metadata": {},
   "source": [
    "# Vorbereitung des Korpus"
   ]
  },
  {
   "cell_type": "code",
   "execution_count": 1,
   "id": "d57ed586",
   "metadata": {},
   "outputs": [],
   "source": [
    "import codecs\n",
    "import nltk\n",
    "import numpy as np\n",
    "import os\n",
    "import pandas as pd\n",
    "import re\n",
    "import scipy\n",
    "import spacy\n",
    "\n",
    "from gensim.models.phrases import Phraser, Phrases\n",
    "from joblib import Parallel, delayed  \n",
    "from nltk.corpus import stopwords\n",
    "from tabulate import tabulate"
   ]
  },
  {
   "cell_type": "code",
   "execution_count": 2,
   "id": "86ed22bd",
   "metadata": {},
   "outputs": [],
   "source": [
    "# vortrainierte Pipeline für das Italienische\n",
    "nlp = spacy.load('it_core_news_lg')"
   ]
  },
  {
   "cell_type": "code",
   "execution_count": 3,
   "id": "e8fd6655",
   "metadata": {},
   "outputs": [],
   "source": [
    "lemmatizer = nlp.get_pipe('lemmatizer')\n",
    "stopwords = stopwords.words('italian')\n",
    "tokenizer = nltk.data.load('tokenizers/punkt/italian.pickle')"
   ]
  },
  {
   "cell_type": "code",
   "execution_count": 4,
   "id": "9a56a730",
   "metadata": {},
   "outputs": [],
   "source": [
    "df = pd.read_csv('Korpus/corpus_norm.csv', sep=',', encoding='utf-8')"
   ]
  },
  {
   "cell_type": "code",
   "execution_count": 5,
   "id": "6c74e7f7",
   "metadata": {},
   "outputs": [
    {
     "data": {
      "text/html": [
       "<div>\n",
       "<style scoped>\n",
       "    .dataframe tbody tr th:only-of-type {\n",
       "        vertical-align: middle;\n",
       "    }\n",
       "\n",
       "    .dataframe tbody tr th {\n",
       "        vertical-align: top;\n",
       "    }\n",
       "\n",
       "    .dataframe thead th {\n",
       "        text-align: right;\n",
       "    }\n",
       "</style>\n",
       "<table border=\"1\" class=\"dataframe\">\n",
       "  <thead>\n",
       "    <tr style=\"text-align: right;\">\n",
       "      <th></th>\n",
       "      <th>doc</th>\n",
       "      <th>source</th>\n",
       "      <th>author</th>\n",
       "      <th>title</th>\n",
       "      <th>year</th>\n",
       "      <th>period</th>\n",
       "      <th>text type</th>\n",
       "      <th>text</th>\n",
       "      <th>words</th>\n",
       "    </tr>\n",
       "  </thead>\n",
       "  <tbody>\n",
       "    <tr>\n",
       "      <th>0</th>\n",
       "      <td>Espositivi.IV.4.Testo.txt</td>\n",
       "      <td>MIDIA</td>\n",
       "      <td>Ludovico Antonio Muratori</td>\n",
       "      <td>Antichità italiane</td>\n",
       "      <td>1700.0</td>\n",
       "      <td>1700-1750</td>\n",
       "      <td>espositivo</td>\n",
       "      <td>﻿IV. 4. Ludovico Antonio Muratori, Antichità i...</td>\n",
       "      <td>8990.0</td>\n",
       "    </tr>\n",
       "    <tr>\n",
       "      <th>1</th>\n",
       "      <td>Poesia.IV.1.Testo.txt</td>\n",
       "      <td>MIDIA</td>\n",
       "      <td>Giuseppe Paolucci (Alessi Cillenio)</td>\n",
       "      <td>Poesie</td>\n",
       "      <td>1700.0</td>\n",
       "      <td>1700-1750</td>\n",
       "      <td>poesia</td>\n",
       "      <td>IV. 1. Rime degli Arcadi: Alessi Cillenio (Giu...</td>\n",
       "      <td>10862.0</td>\n",
       "    </tr>\n",
       "    <tr>\n",
       "      <th>2</th>\n",
       "      <td>Personali.IV.4.Testo.txt</td>\n",
       "      <td>MIDIA</td>\n",
       "      <td>Vincenzo da Filicaia</td>\n",
       "      <td>Lettere inedite a Lorenzo Magalotti</td>\n",
       "      <td>1700.0</td>\n",
       "      <td>1700-1750</td>\n",
       "      <td>personale</td>\n",
       "      <td>IV. 4. Vincenzo da Filicaia, Lettere inedite a...</td>\n",
       "      <td>10073.0</td>\n",
       "    </tr>\n",
       "    <tr>\n",
       "      <th>3</th>\n",
       "      <td>Personali.IV.5.Testo.txt</td>\n",
       "      <td>MIDIA</td>\n",
       "      <td>Lorenzo Magalotti</td>\n",
       "      <td>Lettere odorose (1693-1705)</td>\n",
       "      <td>1700.0</td>\n",
       "      <td>1700-1750</td>\n",
       "      <td>personale</td>\n",
       "      <td>IV. 5. Lorenzo Magalotti, Lettere odorose (169...</td>\n",
       "      <td>8374.0</td>\n",
       "    </tr>\n",
       "    <tr>\n",
       "      <th>4</th>\n",
       "      <td>Poesia.IV.4.Testo.txt</td>\n",
       "      <td>MIDIA</td>\n",
       "      <td>Faustina Maratti Zappi</td>\n",
       "      <td>Poesie</td>\n",
       "      <td>1700.0</td>\n",
       "      <td>1700-1750</td>\n",
       "      <td>poesia</td>\n",
       "      <td>IV. 4. Rime degli Arcadi: Aglauro Cidonia (Fau...</td>\n",
       "      <td>3184.0</td>\n",
       "    </tr>\n",
       "  </tbody>\n",
       "</table>\n",
       "</div>"
      ],
      "text/plain": [
       "                         doc source                               author  \\\n",
       "0  Espositivi.IV.4.Testo.txt  MIDIA           Ludovico Antonio Muratori    \n",
       "1      Poesia.IV.1.Testo.txt  MIDIA  Giuseppe Paolucci (Alessi Cillenio)   \n",
       "2   Personali.IV.4.Testo.txt  MIDIA                 Vincenzo da Filicaia   \n",
       "3   Personali.IV.5.Testo.txt  MIDIA                    Lorenzo Magalotti   \n",
       "4      Poesia.IV.4.Testo.txt  MIDIA               Faustina Maratti Zappi   \n",
       "\n",
       "                                 title    year     period   text type  \\\n",
       "0                   Antichità italiane  1700.0  1700-1750  espositivo   \n",
       "1                               Poesie  1700.0  1700-1750      poesia   \n",
       "2  Lettere inedite a Lorenzo Magalotti  1700.0  1700-1750   personale   \n",
       "3          Lettere odorose (1693-1705)  1700.0  1700-1750   personale   \n",
       "4                               Poesie  1700.0  1700-1750      poesia   \n",
       "\n",
       "                                                text    words  \n",
       "0  ﻿IV. 4. Ludovico Antonio Muratori, Antichità i...   8990.0  \n",
       "1  IV. 1. Rime degli Arcadi: Alessi Cillenio (Giu...  10862.0  \n",
       "2  IV. 4. Vincenzo da Filicaia, Lettere inedite a...  10073.0  \n",
       "3  IV. 5. Lorenzo Magalotti, Lettere odorose (169...   8374.0  \n",
       "4  IV. 4. Rime degli Arcadi: Aglauro Cidonia (Fau...   3184.0  "
      ]
     },
     "execution_count": 5,
     "metadata": {},
     "output_type": "execute_result"
    }
   ],
   "source": [
    "df.head()"
   ]
  },
  {
   "cell_type": "code",
   "execution_count": 6,
   "id": "7f69512f",
   "metadata": {},
   "outputs": [
    {
     "data": {
      "text/plain": [
       "(710231, 9)"
      ]
     },
     "execution_count": 6,
     "metadata": {},
     "output_type": "execute_result"
    }
   ],
   "source": [
    "df.shape"
   ]
  },
  {
   "cell_type": "code",
   "execution_count": 8,
   "id": "0f18bb98",
   "metadata": {},
   "outputs": [],
   "source": [
    "df.text = df.text.fillna('')"
   ]
  },
  {
   "cell_type": "markdown",
   "id": "73015880",
   "metadata": {},
   "source": [
    "### Lemmatisierung"
   ]
  },
  {
   "cell_type": "code",
   "execution_count": 9,
   "id": "29aa88ac",
   "metadata": {},
   "outputs": [],
   "source": [
    "def lemmatize_text(raw_text):\n",
    "    \"\"\"\n",
    "    lemmatizes the text\n",
    "    \"\"\"\n",
    "    text = ''\n",
    "    doc = nlp(raw_text)\n",
    "    lemmas = ' '.join([x.lemma_ for x in doc])\n",
    "    text = text + lemmas\n",
    "    return text"
   ]
  },
  {
   "cell_type": "code",
   "execution_count": 5,
   "id": "0537e6ee",
   "metadata": {},
   "outputs": [],
   "source": [
    "nlp.max_length = 10000000000000            # Wert erhöhen, weil sehr großes Korpus..."
   ]
  },
  {
   "cell_type": "code",
   "execution_count": 14,
   "id": "f41851b8",
   "metadata": {},
   "outputs": [
    {
     "name": "stdout",
     "output_type": "stream",
     "text": [
      "Wall time: 10h 22min 15s\n"
     ]
    }
   ],
   "source": [
    "%%time \n",
    "df['lemmatized_text'] = df['text'].apply(lemmatize_text)               "
   ]
  },
  {
   "cell_type": "code",
   "execution_count": 15,
   "id": "2247d02a",
   "metadata": {},
   "outputs": [],
   "source": [
    "# zwischenspeichern\n",
    "\n",
    "df.to_csv('Korpus/corpus_lemmatized.csv', encoding='utf-8', index=False)"
   ]
  },
  {
   "cell_type": "code",
   "execution_count": 6,
   "id": "f7286400",
   "metadata": {},
   "outputs": [],
   "source": [
    "# neu laden \n",
    "\n",
    "df = pd.read_csv('Korpus/corpus_lemmatized.csv', sep=',', encoding='utf-8')"
   ]
  },
  {
   "cell_type": "code",
   "execution_count": 24,
   "id": "f7b35e9c",
   "metadata": {},
   "outputs": [
    {
     "data": {
      "text/html": [
       "<div>\n",
       "<style scoped>\n",
       "    .dataframe tbody tr th:only-of-type {\n",
       "        vertical-align: middle;\n",
       "    }\n",
       "\n",
       "    .dataframe tbody tr th {\n",
       "        vertical-align: top;\n",
       "    }\n",
       "\n",
       "    .dataframe thead th {\n",
       "        text-align: right;\n",
       "    }\n",
       "</style>\n",
       "<table border=\"1\" class=\"dataframe\">\n",
       "  <thead>\n",
       "    <tr style=\"text-align: right;\">\n",
       "      <th></th>\n",
       "      <th>doc</th>\n",
       "      <th>source</th>\n",
       "      <th>author</th>\n",
       "      <th>title</th>\n",
       "      <th>year</th>\n",
       "      <th>period</th>\n",
       "      <th>text type</th>\n",
       "      <th>text</th>\n",
       "      <th>words</th>\n",
       "      <th>lemmatized text</th>\n",
       "    </tr>\n",
       "  </thead>\n",
       "  <tbody>\n",
       "    <tr>\n",
       "      <th>0</th>\n",
       "      <td>Espositivi.IV.4.Testo.txt</td>\n",
       "      <td>MIDIA</td>\n",
       "      <td>Ludovico Antonio Muratori</td>\n",
       "      <td>Antichità italiane</td>\n",
       "      <td>1700.0</td>\n",
       "      <td>1700-1750</td>\n",
       "      <td>espositivo</td>\n",
       "      <td>﻿IV. 4. Ludovico Antonio Muratori, Antichità i...</td>\n",
       "      <td>8990.0</td>\n",
       "      <td>﻿iv . 4 . Ludovico Antonio muratori , antichit...</td>\n",
       "    </tr>\n",
       "    <tr>\n",
       "      <th>1</th>\n",
       "      <td>Poesia.IV.1.Testo.txt</td>\n",
       "      <td>MIDIA</td>\n",
       "      <td>Giuseppe Paolucci (Alessi Cillenio)</td>\n",
       "      <td>Poesie</td>\n",
       "      <td>1700.0</td>\n",
       "      <td>1700-1750</td>\n",
       "      <td>poesia</td>\n",
       "      <td>IV. 1. Rime degli Arcadi: Alessi Cillenio (Giu...</td>\n",
       "      <td>10862.0</td>\n",
       "      <td>iv . 1 . rima del arcadi : alessi cillenio ( G...</td>\n",
       "    </tr>\n",
       "    <tr>\n",
       "      <th>2</th>\n",
       "      <td>Personali.IV.4.Testo.txt</td>\n",
       "      <td>MIDIA</td>\n",
       "      <td>Vincenzo da Filicaia</td>\n",
       "      <td>Lettere inedite a Lorenzo Magalotti</td>\n",
       "      <td>1700.0</td>\n",
       "      <td>1700-1750</td>\n",
       "      <td>personale</td>\n",
       "      <td>IV. 4. Vincenzo da Filicaia, Lettere inedite a...</td>\n",
       "      <td>10073.0</td>\n",
       "      <td>iv . 4 . Vincenzo da filicaia , lettere inedit...</td>\n",
       "    </tr>\n",
       "    <tr>\n",
       "      <th>3</th>\n",
       "      <td>Personali.IV.5.Testo.txt</td>\n",
       "      <td>MIDIA</td>\n",
       "      <td>Lorenzo Magalotti</td>\n",
       "      <td>Lettere odorose (1693-1705)</td>\n",
       "      <td>1700.0</td>\n",
       "      <td>1700-1750</td>\n",
       "      <td>personale</td>\n",
       "      <td>IV. 5. Lorenzo Magalotti, Lettere odorose (169...</td>\n",
       "      <td>8374.0</td>\n",
       "      <td>iv . 5 . Lorenzo magalotti , lettere odoroso (...</td>\n",
       "    </tr>\n",
       "    <tr>\n",
       "      <th>4</th>\n",
       "      <td>Poesia.IV.4.Testo.txt</td>\n",
       "      <td>MIDIA</td>\n",
       "      <td>Faustina Maratti Zappi</td>\n",
       "      <td>Poesie</td>\n",
       "      <td>1700.0</td>\n",
       "      <td>1700-1750</td>\n",
       "      <td>poesia</td>\n",
       "      <td>IV. 4. Rime degli Arcadi: Aglauro Cidonia (Fau...</td>\n",
       "      <td>3184.0</td>\n",
       "      <td>iv . 4 . rima del arcadi : aglauro cidonia ( f...</td>\n",
       "    </tr>\n",
       "  </tbody>\n",
       "</table>\n",
       "</div>"
      ],
      "text/plain": [
       "                         doc source                               author  \\\n",
       "0  Espositivi.IV.4.Testo.txt  MIDIA           Ludovico Antonio Muratori    \n",
       "1      Poesia.IV.1.Testo.txt  MIDIA  Giuseppe Paolucci (Alessi Cillenio)   \n",
       "2   Personali.IV.4.Testo.txt  MIDIA                 Vincenzo da Filicaia   \n",
       "3   Personali.IV.5.Testo.txt  MIDIA                    Lorenzo Magalotti   \n",
       "4      Poesia.IV.4.Testo.txt  MIDIA               Faustina Maratti Zappi   \n",
       "\n",
       "                                 title    year     period   text type  \\\n",
       "0                   Antichità italiane  1700.0  1700-1750  espositivo   \n",
       "1                               Poesie  1700.0  1700-1750      poesia   \n",
       "2  Lettere inedite a Lorenzo Magalotti  1700.0  1700-1750   personale   \n",
       "3          Lettere odorose (1693-1705)  1700.0  1700-1750   personale   \n",
       "4                               Poesie  1700.0  1700-1750      poesia   \n",
       "\n",
       "                                                text    words  \\\n",
       "0  ﻿IV. 4. Ludovico Antonio Muratori, Antichità i...   8990.0   \n",
       "1  IV. 1. Rime degli Arcadi: Alessi Cillenio (Giu...  10862.0   \n",
       "2  IV. 4. Vincenzo da Filicaia, Lettere inedite a...  10073.0   \n",
       "3  IV. 5. Lorenzo Magalotti, Lettere odorose (169...   8374.0   \n",
       "4  IV. 4. Rime degli Arcadi: Aglauro Cidonia (Fau...   3184.0   \n",
       "\n",
       "                                     lemmatized text  \n",
       "0  ﻿iv . 4 . Ludovico Antonio muratori , antichit...  \n",
       "1  iv . 1 . rima del arcadi : alessi cillenio ( G...  \n",
       "2  iv . 4 . Vincenzo da filicaia , lettere inedit...  \n",
       "3  iv . 5 . Lorenzo magalotti , lettere odoroso (...  \n",
       "4  iv . 4 . rima del arcadi : aglauro cidonia ( f...  "
      ]
     },
     "execution_count": 24,
     "metadata": {},
     "output_type": "execute_result"
    }
   ],
   "source": [
    "df.head()"
   ]
  },
  {
   "cell_type": "code",
   "execution_count": 25,
   "id": "5fbc9ca7",
   "metadata": {},
   "outputs": [
    {
     "data": {
      "text/plain": [
       "'nera dello tsar di Russia, e dietro l\\'\\'aquila usurpata e infame dello tsar di Parigi. Di\\'\\'.... Rispondi.... Che sei oggi ? \"Schiava invilita tolleri l\\'\\'onta di un re di Napoli che la storia ricorderà col soprannome di Bomba, il quale flagella'"
      ]
     },
     "execution_count": 25,
     "metadata": {},
     "output_type": "execute_result"
    }
   ],
   "source": [
    "df['text'].iloc[60000]"
   ]
  },
  {
   "cell_type": "code",
   "execution_count": 26,
   "id": "f22c680b",
   "metadata": {},
   "outputs": [
    {
     "data": {
      "text/plain": [
       "'nero del tsar di Russia , e dietro l\\'\\'aquila usurpare e infame del tsar di Parigi . di \\'\\' .... rispondi .... che essere oggi ? \" schiava invilire tollerare l\\'\\'onta di uno re di Napoli che il storia ricordare col soprannome di bomba , il quale flagellare'"
      ]
     },
     "execution_count": 26,
     "metadata": {},
     "output_type": "execute_result"
    }
   ],
   "source": [
    "df['lemmatized_text'].iloc[60000]"
   ]
  },
  {
   "cell_type": "code",
   "execution_count": 39,
   "id": "2d580371",
   "metadata": {},
   "outputs": [
    {
     "data": {
      "text/plain": [
       "\"In ogni circostanza porta con se un ombrello che cambia colore quando piove o c'è il sole.\""
      ]
     },
     "execution_count": 39,
     "metadata": {},
     "output_type": "execute_result"
    }
   ],
   "source": [
    "df['text'].iloc[697240]"
   ]
  },
  {
   "cell_type": "code",
   "execution_count": 40,
   "id": "526498a6",
   "metadata": {},
   "outputs": [
    {
     "data": {
      "text/plain": [
       "\"in ogni circostanza portare con se uno ombrello che cambiare colore quando piovere o c' essere il sole .\""
      ]
     },
     "execution_count": 40,
     "metadata": {},
     "output_type": "execute_result"
    }
   ],
   "source": [
    "df['lemmatized_text'].iloc[697240]"
   ]
  },
  {
   "cell_type": "markdown",
   "id": "5103e084",
   "metadata": {},
   "source": [
    "### Bereinigung und Tokenisierung"
   ]
  },
  {
   "cell_type": "code",
   "execution_count": null,
   "id": "d82f0e6d",
   "metadata": {},
   "outputs": [],
   "source": [
    "def sentence_to_wordlist(raw:str):\n",
    "    \"\"\"\n",
    "    cleans and tokenizes the sentences\n",
    "    \"\"\"\n",
    "    text = re.sub('[^A-Za-z_àÀèÈìÌòÒùÙáÁéÉíÍóÓúÚ]',' ', raw).split()        # Diakritika ans Italienische anpassen                    \n",
    "    filtered_text = [word for word in text if word not in stopwords]        # Stopwörter löschen\n",
    "    return filtered_text\n",
    "\n",
    "\n",
    "def tokenize_text(raw_text):\n",
    "    \"\"\"\n",
    "    returns a list of lowercase tokenized sentences \n",
    "    \"\"\"\n",
    "    raw_sentences = tokenizer.tokenize(str(raw_text).lower())    \n",
    "    tokenized_sentences = Parallel(n_jobs=-1)(delayed(sentence_to_wordlist)(raw_sentence) for raw_sentence in raw_sentences)\n",
    "    phrases = Phrases(tokenized_sentences)\n",
    "    bigram = Phraser(phrases)\n",
    "    sentences = list(bigram[tokenized_sentences])\n",
    "    return sentences"
   ]
  },
  {
   "cell_type": "code",
   "execution_count": 41,
   "id": "8ee097b4",
   "metadata": {},
   "outputs": [
    {
     "name": "stdout",
     "output_type": "stream",
     "text": [
      "Wall time: 1h 55min 13s\n"
     ]
    }
   ],
   "source": [
    "%%time \n",
    "df['cleaned_tokenized_text'] = df['lemmatized_text'].apply(tokenize_text)           "
   ]
  },
  {
   "cell_type": "code",
   "execution_count": 42,
   "id": "2745596c",
   "metadata": {},
   "outputs": [
    {
     "data": {
      "text/html": [
       "<div>\n",
       "<style scoped>\n",
       "    .dataframe tbody tr th:only-of-type {\n",
       "        vertical-align: middle;\n",
       "    }\n",
       "\n",
       "    .dataframe tbody tr th {\n",
       "        vertical-align: top;\n",
       "    }\n",
       "\n",
       "    .dataframe thead th {\n",
       "        text-align: right;\n",
       "    }\n",
       "</style>\n",
       "<table border=\"1\" class=\"dataframe\">\n",
       "  <thead>\n",
       "    <tr style=\"text-align: right;\">\n",
       "      <th></th>\n",
       "      <th>doc</th>\n",
       "      <th>source</th>\n",
       "      <th>author</th>\n",
       "      <th>title</th>\n",
       "      <th>year</th>\n",
       "      <th>period</th>\n",
       "      <th>text type</th>\n",
       "      <th>text</th>\n",
       "      <th>words</th>\n",
       "      <th>lemmatized text</th>\n",
       "      <th>cleaned tokenized text</th>\n",
       "    </tr>\n",
       "  </thead>\n",
       "  <tbody>\n",
       "    <tr>\n",
       "      <th>0</th>\n",
       "      <td>Espositivi.IV.4.Testo.txt</td>\n",
       "      <td>MIDIA</td>\n",
       "      <td>Ludovico Antonio Muratori</td>\n",
       "      <td>Antichità italiane</td>\n",
       "      <td>1700.0</td>\n",
       "      <td>1700-1750</td>\n",
       "      <td>espositivo</td>\n",
       "      <td>﻿IV. 4. Ludovico Antonio Muratori, Antichità i...</td>\n",
       "      <td>8990.0</td>\n",
       "      <td>﻿iv . 4 . Ludovico Antonio muratori , antichit...</td>\n",
       "      <td>[[iv], [], [ludovico, antonio, muratori, antic...</td>\n",
       "    </tr>\n",
       "    <tr>\n",
       "      <th>1</th>\n",
       "      <td>Poesia.IV.1.Testo.txt</td>\n",
       "      <td>MIDIA</td>\n",
       "      <td>Giuseppe Paolucci (Alessi Cillenio)</td>\n",
       "      <td>Poesie</td>\n",
       "      <td>1700.0</td>\n",
       "      <td>1700-1750</td>\n",
       "      <td>poesia</td>\n",
       "      <td>IV. 1. Rime degli Arcadi: Alessi Cillenio (Giu...</td>\n",
       "      <td>10862.0</td>\n",
       "      <td>iv . 1 . rima del arcadi : alessi cillenio ( G...</td>\n",
       "      <td>[[iv], [], [rima, arcadi, alessi, cillenio, gi...</td>\n",
       "    </tr>\n",
       "    <tr>\n",
       "      <th>2</th>\n",
       "      <td>Personali.IV.4.Testo.txt</td>\n",
       "      <td>MIDIA</td>\n",
       "      <td>Vincenzo da Filicaia</td>\n",
       "      <td>Lettere inedite a Lorenzo Magalotti</td>\n",
       "      <td>1700.0</td>\n",
       "      <td>1700-1750</td>\n",
       "      <td>personale</td>\n",
       "      <td>IV. 4. Vincenzo da Filicaia, Lettere inedite a...</td>\n",
       "      <td>10073.0</td>\n",
       "      <td>iv . 4 . Vincenzo da filicaia , lettere inedit...</td>\n",
       "      <td>[[iv], [], [vincenzo, filicaia, lettere, inedi...</td>\n",
       "    </tr>\n",
       "    <tr>\n",
       "      <th>3</th>\n",
       "      <td>Personali.IV.5.Testo.txt</td>\n",
       "      <td>MIDIA</td>\n",
       "      <td>Lorenzo Magalotti</td>\n",
       "      <td>Lettere odorose (1693-1705)</td>\n",
       "      <td>1700.0</td>\n",
       "      <td>1700-1750</td>\n",
       "      <td>personale</td>\n",
       "      <td>IV. 5. Lorenzo Magalotti, Lettere odorose (169...</td>\n",
       "      <td>8374.0</td>\n",
       "      <td>iv . 5 . Lorenzo magalotti , lettere odoroso (...</td>\n",
       "      <td>[[iv], [], [lorenzo, magalotti, lettere, odoro...</td>\n",
       "    </tr>\n",
       "    <tr>\n",
       "      <th>4</th>\n",
       "      <td>Poesia.IV.4.Testo.txt</td>\n",
       "      <td>MIDIA</td>\n",
       "      <td>Faustina Maratti Zappi</td>\n",
       "      <td>Poesie</td>\n",
       "      <td>1700.0</td>\n",
       "      <td>1700-1750</td>\n",
       "      <td>poesia</td>\n",
       "      <td>IV. 4. Rime degli Arcadi: Aglauro Cidonia (Fau...</td>\n",
       "      <td>3184.0</td>\n",
       "      <td>iv . 4 . rima del arcadi : aglauro cidonia ( f...</td>\n",
       "      <td>[[iv], [], [rima, arcadi, aglauro, cidonia, fa...</td>\n",
       "    </tr>\n",
       "  </tbody>\n",
       "</table>\n",
       "</div>"
      ],
      "text/plain": [
       "                         doc source                               author  \\\n",
       "0  Espositivi.IV.4.Testo.txt  MIDIA           Ludovico Antonio Muratori    \n",
       "1      Poesia.IV.1.Testo.txt  MIDIA  Giuseppe Paolucci (Alessi Cillenio)   \n",
       "2   Personali.IV.4.Testo.txt  MIDIA                 Vincenzo da Filicaia   \n",
       "3   Personali.IV.5.Testo.txt  MIDIA                    Lorenzo Magalotti   \n",
       "4      Poesia.IV.4.Testo.txt  MIDIA               Faustina Maratti Zappi   \n",
       "\n",
       "                                 title    year     period   text type  \\\n",
       "0                   Antichità italiane  1700.0  1700-1750  espositivo   \n",
       "1                               Poesie  1700.0  1700-1750      poesia   \n",
       "2  Lettere inedite a Lorenzo Magalotti  1700.0  1700-1750   personale   \n",
       "3          Lettere odorose (1693-1705)  1700.0  1700-1750   personale   \n",
       "4                               Poesie  1700.0  1700-1750      poesia   \n",
       "\n",
       "                                                text    words  \\\n",
       "0  ﻿IV. 4. Ludovico Antonio Muratori, Antichità i...   8990.0   \n",
       "1  IV. 1. Rime degli Arcadi: Alessi Cillenio (Giu...  10862.0   \n",
       "2  IV. 4. Vincenzo da Filicaia, Lettere inedite a...  10073.0   \n",
       "3  IV. 5. Lorenzo Magalotti, Lettere odorose (169...   8374.0   \n",
       "4  IV. 4. Rime degli Arcadi: Aglauro Cidonia (Fau...   3184.0   \n",
       "\n",
       "                                     lemmatized text  \\\n",
       "0  ﻿iv . 4 . Ludovico Antonio muratori , antichit...   \n",
       "1  iv . 1 . rima del arcadi : alessi cillenio ( G...   \n",
       "2  iv . 4 . Vincenzo da filicaia , lettere inedit...   \n",
       "3  iv . 5 . Lorenzo magalotti , lettere odoroso (...   \n",
       "4  iv . 4 . rima del arcadi : aglauro cidonia ( f...   \n",
       "\n",
       "                              cleaned tokenized text  \n",
       "0  [[iv], [], [ludovico, antonio, muratori, antic...  \n",
       "1  [[iv], [], [rima, arcadi, alessi, cillenio, gi...  \n",
       "2  [[iv], [], [vincenzo, filicaia, lettere, inedi...  \n",
       "3  [[iv], [], [lorenzo, magalotti, lettere, odoro...  \n",
       "4  [[iv], [], [rima, arcadi, aglauro, cidonia, fa...  "
      ]
     },
     "execution_count": 42,
     "metadata": {},
     "output_type": "execute_result"
    }
   ],
   "source": [
    "df.head()"
   ]
  },
  {
   "cell_type": "code",
   "execution_count": 43,
   "id": "a4df7dd0",
   "metadata": {},
   "outputs": [
    {
     "data": {
      "text/plain": [
       "[['nero',\n",
       "  'tsar',\n",
       "  'russia',\n",
       "  'dietro',\n",
       "  'aquila',\n",
       "  'usurpare',\n",
       "  'infame',\n",
       "  'tsar',\n",
       "  'parigi'],\n",
       " ['rispondi', 'essere', 'oggi'],\n",
       " ['schiava',\n",
       "  'invilire',\n",
       "  'tollerare',\n",
       "  'onta',\n",
       "  're',\n",
       "  'napoli',\n",
       "  'storia',\n",
       "  'ricordare',\n",
       "  'soprannome',\n",
       "  'bomba',\n",
       "  'flagellare']]"
      ]
     },
     "execution_count": 43,
     "metadata": {},
     "output_type": "execute_result"
    }
   ],
   "source": [
    "df['cleaned_tokenized_text'].iloc[60000]"
   ]
  },
  {
   "cell_type": "code",
   "execution_count": 44,
   "id": "abc3adf2",
   "metadata": {},
   "outputs": [
    {
     "data": {
      "text/plain": [
       "[['ogni',\n",
       "  'circostanza',\n",
       "  'portare',\n",
       "  'ombrello',\n",
       "  'cambiare',\n",
       "  'colore',\n",
       "  'quando',\n",
       "  'piovere',\n",
       "  'essere',\n",
       "  'sole']]"
      ]
     },
     "execution_count": 44,
     "metadata": {},
     "output_type": "execute_result"
    }
   ],
   "source": [
    "df['cleaned_tokenized_text'].iloc[697240]"
   ]
  },
  {
   "cell_type": "code",
   "execution_count": 45,
   "id": "3546f271",
   "metadata": {},
   "outputs": [],
   "source": [
    "# speichern\n",
    "\n",
    "df.to_csv('Korpus/corpus_final.csv', encoding='utf-8', index=False)"
   ]
  },
  {
   "cell_type": "code",
   "execution_count": null,
   "id": "47c0ec5b",
   "metadata": {},
   "outputs": [],
   "source": []
  }
 ],
 "metadata": {
  "kernelspec": {
   "display_name": "Python 3 (ipykernel)",
   "language": "python",
   "name": "python3"
  },
  "language_info": {
   "codemirror_mode": {
    "name": "ipython",
    "version": 3
   },
   "file_extension": ".py",
   "mimetype": "text/x-python",
   "name": "python",
   "nbconvert_exporter": "python",
   "pygments_lexer": "ipython3",
   "version": "3.7.11"
  }
 },
 "nbformat": 4,
 "nbformat_minor": 5
}
