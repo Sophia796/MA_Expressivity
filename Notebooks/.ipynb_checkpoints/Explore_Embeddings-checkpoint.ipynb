{
 "cells": [
  {
   "cell_type": "markdown",
   "id": "37d9f299",
   "metadata": {},
   "source": [
    "# Exploration der Embeddings"
   ]
  },
  {
   "cell_type": "code",
   "execution_count": null,
   "id": "3b5598d3",
   "metadata": {},
   "outputs": [],
   "source": [
    "import codecs\n",
    "import matplotlib.pyplot as plt\n",
    "import nltk\n",
    "import numpy as np\n",
    "import os\n",
    "import pandas as pd\n",
    "import re\n",
    "import seaborn as sns\n",
    "import scipy\n",
    "import spacy\n",
    "import statistics \n",
    "\n",
    "from gensim.models import KeyedVectors\n",
    "from gensim.models import Word2Vec\n",
    "from sklearn.manifold import TSNE\n",
    "from tabulate import tabulate"
   ]
  },
  {
   "cell_type": "code",
   "execution_count": null,
   "id": "4425da0a",
   "metadata": {},
   "outputs": [],
   "source": [
    "# trainierte Modelle laden\n",
    "\n",
    "w2v1 = Word2Vec.load(os.path.join('../trained_models', 'w2v1.model'))\n",
    "w2v2 = Word2Vec.load(os.path.join('../trained_models', 'w2v2.model'))\n",
    "w2v3 = Word2Vec.load(os.path.join('../trained_models', 'w2v3.model'))\n",
    "w2v4 = Word2Vec.load(os.path.join('../trained_models', 'w2v4.model'))\n",
    "w2v5 = Word2Vec.load(os.path.join('../trained_models', 'w2v5.model'))\n",
    "w2v6 = Word2Vec.load(os.path.join('../trained_models', 'w2v6.model'))\n",
    "w2v7 = Word2Vec.load(os.path.join('../trained_models', 'w2v7.model'))\n",
    "w2v8 = Word2Vec.load(os.path.join('../trained_models', 'w2v8.model'))\n",
    "w2v9 = Word2Vec.load(os.path.join('../trained_models', 'w2v9.model'))\n",
    "w2v10 = Word2Vec.load(os.path.join('../trained_models', 'w2v10.model'))\n",
    "w2v11 = Word2Vec.load(os.path.join('../trained_models', 'w2v11.model'))\n",
    "w2v12 = Word2Vec.load(os.path.join('../trained_models', 'w2v12.model'))\n",
    "w2v13 = Word2Vec.load(os.path.join('../trained_models', 'w2v13.model'))"
   ]
  },
  {
   "cell_type": "code",
   "execution_count": null,
   "id": "89bc3f7e",
   "metadata": {},
   "outputs": [],
   "source": [
    "w2v1.wv.most_similar(positive=['terrore'], topn=20)"
   ]
  }
 ],
 "metadata": {
  "kernelspec": {
   "display_name": "Python 3 (ipykernel)",
   "language": "python",
   "name": "python3"
  },
  "language_info": {
   "codemirror_mode": {
    "name": "ipython",
    "version": 3
   },
   "file_extension": ".py",
   "mimetype": "text/x-python",
   "name": "python",
   "nbconvert_exporter": "python",
   "pygments_lexer": "ipython3",
   "version": "3.7.11"
  }
 },
 "nbformat": 4,
 "nbformat_minor": 5
}
