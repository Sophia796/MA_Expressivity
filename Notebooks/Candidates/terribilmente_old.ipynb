{
 "cells": [
  {
   "cell_type": "markdown",
   "id": "d072854e",
   "metadata": {},
   "source": [
    "# Manuelle Auswertung der Kandidaten"
   ]
  },
  {
   "cell_type": "markdown",
   "id": "8b76ac58",
   "metadata": {},
   "source": [
    "## terribilmente"
   ]
  },
  {
   "cell_type": "code",
   "execution_count": 1,
   "id": "c964a566",
   "metadata": {},
   "outputs": [],
   "source": [
    "import codecs\n",
    "from collections import Counter\n",
    "from IPython.display import Markdown, display\n",
    "import nltk\n",
    "import numpy as np\n",
    "import os\n",
    "import pandas as pd\n",
    "import re\n",
    "import scipy\n",
    "import spacy"
   ]
  },
  {
   "cell_type": "code",
   "execution_count": 2,
   "id": "d05033e3",
   "metadata": {},
   "outputs": [],
   "source": [
    "df = pd.read_csv('../../Korpus/Korpus/corpus_norm.csv', sep=',', encoding='utf-8')"
   ]
  },
  {
   "cell_type": "code",
   "execution_count": 3,
   "id": "b80a3358",
   "metadata": {},
   "outputs": [
    {
     "data": {
      "text/html": [
       "<div>\n",
       "<style scoped>\n",
       "    .dataframe tbody tr th:only-of-type {\n",
       "        vertical-align: middle;\n",
       "    }\n",
       "\n",
       "    .dataframe tbody tr th {\n",
       "        vertical-align: top;\n",
       "    }\n",
       "\n",
       "    .dataframe thead th {\n",
       "        text-align: right;\n",
       "    }\n",
       "</style>\n",
       "<table border=\"1\" class=\"dataframe\">\n",
       "  <thead>\n",
       "    <tr style=\"text-align: right;\">\n",
       "      <th></th>\n",
       "      <th>doc</th>\n",
       "      <th>source</th>\n",
       "      <th>author</th>\n",
       "      <th>title</th>\n",
       "      <th>year</th>\n",
       "      <th>period</th>\n",
       "      <th>text_type</th>\n",
       "      <th>words</th>\n",
       "      <th>text</th>\n",
       "      <th>cleaned_text</th>\n",
       "      <th>lemmatized_text</th>\n",
       "    </tr>\n",
       "  </thead>\n",
       "  <tbody>\n",
       "    <tr>\n",
       "      <th>0</th>\n",
       "      <td>Personali.IV.4.Testo.txt</td>\n",
       "      <td>MIDIA</td>\n",
       "      <td>Vincenzo da Filicaia</td>\n",
       "      <td>Lettere inedite a Lorenzo Magalotti</td>\n",
       "      <td>1700.0</td>\n",
       "      <td>1700-1750</td>\n",
       "      <td>personale</td>\n",
       "      <td>10073.0</td>\n",
       "      <td>IV. 4. Vincenzo da Filicaia, Lettere inedite a...</td>\n",
       "      <td>iv.  . vincenzo da filicaia, lettere inedite a...</td>\n",
       "      <td>iv . 4 . Vincenzo da filicaia , lettere inedit...</td>\n",
       "    </tr>\n",
       "    <tr>\n",
       "      <th>1</th>\n",
       "      <td>Personali.IV.15.Testo.txt</td>\n",
       "      <td>MIDIA</td>\n",
       "      <td>Pietro Giannone</td>\n",
       "      <td>Vita scritta da lui medesimo</td>\n",
       "      <td>1700.0</td>\n",
       "      <td>1700-1750</td>\n",
       "      <td>personale</td>\n",
       "      <td>10118.0</td>\n",
       "      <td>[Proemio]\\nPrendo a scrivere la mia vita e qua...</td>\n",
       "      <td>proemio  prendo a scrivere la mia vita e quan...</td>\n",
       "      <td>[ proemio ] \\n prendere a scrivere il mio vita...</td>\n",
       "    </tr>\n",
       "    <tr>\n",
       "      <th>2</th>\n",
       "      <td>Espositivi.IV.4.Testo.txt</td>\n",
       "      <td>MIDIA</td>\n",
       "      <td>Ludovico Antonio Muratori</td>\n",
       "      <td>Antichità italiane</td>\n",
       "      <td>1700.0</td>\n",
       "      <td>1700-1750</td>\n",
       "      <td>espositivo</td>\n",
       "      <td>8990.0</td>\n",
       "      <td>﻿IV. 4. Ludovico Antonio Muratori, Antichità i...</td>\n",
       "      <td>iv.  . ludovico antonio muratori, antichità i...</td>\n",
       "      <td>﻿iv . 4 . Ludovico Antonio muratori , antichit...</td>\n",
       "    </tr>\n",
       "    <tr>\n",
       "      <th>3</th>\n",
       "      <td>Personali.IV.5.Testo.txt</td>\n",
       "      <td>MIDIA</td>\n",
       "      <td>Lorenzo Magalotti</td>\n",
       "      <td>Lettere odorose (1693-1705)</td>\n",
       "      <td>1700.0</td>\n",
       "      <td>1700-1750</td>\n",
       "      <td>personale</td>\n",
       "      <td>8374.0</td>\n",
       "      <td>IV. 5. Lorenzo Magalotti, Lettere odorose (169...</td>\n",
       "      <td>iv.  . lorenzo magalotti, lettere odorose     ...</td>\n",
       "      <td>iv . 5 . Lorenzo magalotti , lettere odoroso (...</td>\n",
       "    </tr>\n",
       "    <tr>\n",
       "      <th>4</th>\n",
       "      <td>Poesia.IV.1.Testo.txt</td>\n",
       "      <td>MIDIA</td>\n",
       "      <td>Giuseppe Paolucci (Alessi Cillenio)</td>\n",
       "      <td>Poesie</td>\n",
       "      <td>1700.0</td>\n",
       "      <td>1700-1750</td>\n",
       "      <td>poesia</td>\n",
       "      <td>10862.0</td>\n",
       "      <td>IV. 1. Rime degli Arcadi: Alessi Cillenio (Giu...</td>\n",
       "      <td>iv.  . rime degli arcadi: alessi cillenio  giu...</td>\n",
       "      <td>iv . 1 . rima del arcadi : alessi cillenio ( G...</td>\n",
       "    </tr>\n",
       "  </tbody>\n",
       "</table>\n",
       "</div>"
      ],
      "text/plain": [
       "                         doc source                               author  \\\n",
       "0   Personali.IV.4.Testo.txt  MIDIA                 Vincenzo da Filicaia   \n",
       "1  Personali.IV.15.Testo.txt  MIDIA                      Pietro Giannone   \n",
       "2  Espositivi.IV.4.Testo.txt  MIDIA           Ludovico Antonio Muratori    \n",
       "3   Personali.IV.5.Testo.txt  MIDIA                    Lorenzo Magalotti   \n",
       "4      Poesia.IV.1.Testo.txt  MIDIA  Giuseppe Paolucci (Alessi Cillenio)   \n",
       "\n",
       "                                 title    year     period   text_type  \\\n",
       "0  Lettere inedite a Lorenzo Magalotti  1700.0  1700-1750   personale   \n",
       "1         Vita scritta da lui medesimo  1700.0  1700-1750   personale   \n",
       "2                   Antichità italiane  1700.0  1700-1750  espositivo   \n",
       "3          Lettere odorose (1693-1705)  1700.0  1700-1750   personale   \n",
       "4                               Poesie  1700.0  1700-1750      poesia   \n",
       "\n",
       "     words                                               text  \\\n",
       "0  10073.0  IV. 4. Vincenzo da Filicaia, Lettere inedite a...   \n",
       "1  10118.0  [Proemio]\\nPrendo a scrivere la mia vita e qua...   \n",
       "2   8990.0  ﻿IV. 4. Ludovico Antonio Muratori, Antichità i...   \n",
       "3   8374.0  IV. 5. Lorenzo Magalotti, Lettere odorose (169...   \n",
       "4  10862.0  IV. 1. Rime degli Arcadi: Alessi Cillenio (Giu...   \n",
       "\n",
       "                                        cleaned_text  \\\n",
       "0  iv.  . vincenzo da filicaia, lettere inedite a...   \n",
       "1   proemio  prendo a scrivere la mia vita e quan...   \n",
       "2   iv.  . ludovico antonio muratori, antichità i...   \n",
       "3  iv.  . lorenzo magalotti, lettere odorose     ...   \n",
       "4  iv.  . rime degli arcadi: alessi cillenio  giu...   \n",
       "\n",
       "                                     lemmatized_text  \n",
       "0  iv . 4 . Vincenzo da filicaia , lettere inedit...  \n",
       "1  [ proemio ] \\n prendere a scrivere il mio vita...  \n",
       "2  ﻿iv . 4 . Ludovico Antonio muratori , antichit...  \n",
       "3  iv . 5 . Lorenzo magalotti , lettere odoroso (...  \n",
       "4  iv . 1 . rima del arcadi : alessi cillenio ( G...  "
      ]
     },
     "execution_count": 3,
     "metadata": {},
     "output_type": "execute_result"
    }
   ],
   "source": [
    "df.head()"
   ]
  },
  {
   "cell_type": "code",
   "execution_count": 4,
   "id": "77cea7a4",
   "metadata": {},
   "outputs": [
    {
     "data": {
      "text/plain": [
       "(134168, 11)"
      ]
     },
     "execution_count": 4,
     "metadata": {},
     "output_type": "execute_result"
    }
   ],
   "source": [
    "df.shape"
   ]
  },
  {
   "cell_type": "code",
   "execution_count": 5,
   "id": "0e575338",
   "metadata": {},
   "outputs": [],
   "source": [
    "df.text = df.text.fillna('')\n",
    "df.lemmatized_text = df.lemmatized_text.fillna('')\n",
    "df.cleaned_text = df.cleaned_text.fillna('')"
   ]
  },
  {
   "cell_type": "code",
   "execution_count": 6,
   "id": "2c24a686",
   "metadata": {},
   "outputs": [],
   "source": [
    "# Einzeldataframes für die Zeiträume\n",
    "\n",
    "df_periods = dict(tuple(df.groupby(by='period')))"
   ]
  },
  {
   "cell_type": "code",
   "execution_count": 7,
   "id": "0557b6a2",
   "metadata": {},
   "outputs": [],
   "source": [
    "df1 = df_periods['1700-1750']\n",
    "df2 = df_periods['1751-1800']\n",
    "df3 = df_periods['1801-1850']\n",
    "df4 = df_periods['1851-1900']\n",
    "df5 = df_periods['1901-1950']\n",
    "df6 = df_periods['1951-2000']\n",
    "df7 = df_periods['2001-2021']"
   ]
  },
  {
   "cell_type": "code",
   "execution_count": 14,
   "id": "8abe695b",
   "metadata": {},
   "outputs": [],
   "source": [
    "# Funktion, die die Sätze ausgibt, in der ein bestimmtes Wort vorkommt\n",
    "\n",
    "def find_sentences_with_keyword(document, keyword):\n",
    "    \n",
    "    sentlist = []\n",
    "    marked_sentlist = []\n",
    "    \n",
    "    for sentence in document:\n",
    "        \n",
    "        if keyword.lower() in sentence.lower():\n",
    "            sentence = re.sub('\\n', ' ', sentence)\n",
    "            marked_sentence = re.sub(f\"{keyword}\", f\"**{keyword}**\", sentence, flags=re.IGNORECASE)            \n",
    "            sentlist.append(sentence)\n",
    "            marked_sentlist.append(marked_sentence)\n",
    "                         \n",
    "    resultlist = list(sentlist)\n",
    "    markedlist = list(marked_sentlist)\n",
    "    \n",
    "    for sentence in markedlist: \n",
    "        display(Markdown(sentence))\n",
    "    \n",
    "    resultdf = pd.DataFrame(resultlist, columns = ['sentence'])\n",
    "    \n",
    "    return resultdf"
   ]
  },
  {
   "cell_type": "markdown",
   "id": "bcfb0c98",
   "metadata": {},
   "source": [
    "### Zeitraum 1: 1700-1750"
   ]
  },
  {
   "cell_type": "code",
   "execution_count": 15,
   "id": "12da5ce5",
   "metadata": {},
   "outputs": [],
   "source": [
    "text1 = ''\n",
    "for i in df1.cleaned_text:\n",
    "    text1 += i"
   ]
  },
  {
   "cell_type": "code",
   "execution_count": 16,
   "id": "50685bcf",
   "metadata": {},
   "outputs": [],
   "source": [
    "document1 = nltk.sent_tokenize(text1)"
   ]
  },
  {
   "cell_type": "code",
   "execution_count": 17,
   "id": "201a0bb8",
   "metadata": {},
   "outputs": [
    {
     "data": {
      "text/markdown": [
       "così, poich ebbe tracannato a iosa cento gran  giare e cento, tombolando di qua, di là, senza trovar mai posa, sdraiato alfine e di sé tutto in bando, ei s addormì, coll ampia abbominosa bocca **terribilmente** rimugghiando."
      ],
      "text/plain": [
       "<IPython.core.display.Markdown object>"
      ]
     },
     "metadata": {},
     "output_type": "display_data"
    },
    {
     "data": {
      "text/markdown": [
       "dai quali con uno strattagemma sono **terribilmente** sconfitti,   ."
      ],
      "text/plain": [
       "<IPython.core.display.Markdown object>"
      ]
     },
     "metadata": {},
     "output_type": "display_data"
    },
    {
     "data": {
      "text/markdown": [
       "prendono per signore carlo i re di, per testimonianza di teofane      , da un secondo furioso tremuoto, che nel dì    di novembre per un  ora continua sì **terribilmente** scosse la città d  antiochia, che tutto quanto era rimasto in piedi nel precedente anno    , e quanto era statoa dar gli ordini opportuni, trovandosi coraggiosamente in mezzo ai maggiori pericoli."
      ],
      "text/plain": [
       "<IPython.core.display.Markdown object>"
      ]
     },
     "metadata": {},
     "output_type": "display_data"
    },
    {
     "data": {
      "text/markdown": [
       "giocarono in questo conflitto **terribilmente** le artiglierie d  ambe le parti, facendo squarci grandi nelle schiere opposte; le sciabole e baionette non istetteroin una casa privata, e la seguente mane imbarcatosi con tutti i suoi in due galee, pel tevere discese al mare."
      ],
      "text/plain": [
       "<IPython.core.display.Markdown object>"
      ]
     },
     "metadata": {},
     "output_type": "display_data"
    },
    {
     "data": {
      "text/markdown": [
       "ma si trovò **terribilmente** gonfio esso mare con pioggia e tuoni; lo stesso tevere era in tempesta; però convenne prendere terra."
      ],
      "text/plain": [
       "<IPython.core.display.Markdown object>"
      ]
     },
     "metadata": {},
     "output_type": "display_data"
    },
    {
     "data": {
      "text/markdown": [
       "ugo cardinale d  , dov  egli passava, lasciava la micidial infezione secondo il suo costume, di modo che cominciò a sentirsi **terribilmente** anche in roma."
      ],
      "text/plain": [
       "<IPython.core.display.Markdown object>"
      ]
     },
     "metadata": {},
     "output_type": "display_data"
    },
    {
     "data": {
      "text/markdown": [
       "abbiamo da san girolamo che **terribilmente** infierì nella soria e cicilia la carestia colla mortalità d  innumerabili persone."
      ],
      "text/plain": [
       "<IPython.core.display.Markdown object>"
      ]
     },
     "metadata": {},
     "output_type": "display_data"
    }
   ],
   "source": [
    "res1 = find_sentences_with_keyword(document1, 'terribilmente')"
   ]
  },
  {
   "cell_type": "code",
   "execution_count": 18,
   "id": "8a7484d8",
   "metadata": {},
   "outputs": [
    {
     "data": {
      "text/html": [
       "<div>\n",
       "<style scoped>\n",
       "    .dataframe tbody tr th:only-of-type {\n",
       "        vertical-align: middle;\n",
       "    }\n",
       "\n",
       "    .dataframe tbody tr th {\n",
       "        vertical-align: top;\n",
       "    }\n",
       "\n",
       "    .dataframe thead th {\n",
       "        text-align: right;\n",
       "    }\n",
       "</style>\n",
       "<table border=\"1\" class=\"dataframe\">\n",
       "  <thead>\n",
       "    <tr style=\"text-align: right;\">\n",
       "      <th></th>\n",
       "      <th>sentences</th>\n",
       "    </tr>\n",
       "  </thead>\n",
       "  <tbody>\n",
       "    <tr>\n",
       "      <th>0</th>\n",
       "      <td>così, poich ebbe tracannato a iosa cento gran ...</td>\n",
       "    </tr>\n",
       "    <tr>\n",
       "      <th>1</th>\n",
       "      <td>dai quali con uno strattagemma sono terribilme...</td>\n",
       "    </tr>\n",
       "    <tr>\n",
       "      <th>2</th>\n",
       "      <td>prendono per signore carlo i re di, per testim...</td>\n",
       "    </tr>\n",
       "    <tr>\n",
       "      <th>3</th>\n",
       "      <td>giocarono in questo conflitto terribilmente le...</td>\n",
       "    </tr>\n",
       "    <tr>\n",
       "      <th>4</th>\n",
       "      <td>ma si trovò terribilmente gonfio esso mare con...</td>\n",
       "    </tr>\n",
       "    <tr>\n",
       "      <th>5</th>\n",
       "      <td>ugo cardinale d  , dov  egli passava, lasciava...</td>\n",
       "    </tr>\n",
       "    <tr>\n",
       "      <th>6</th>\n",
       "      <td>abbiamo da san girolamo che terribilmente infi...</td>\n",
       "    </tr>\n",
       "  </tbody>\n",
       "</table>\n",
       "</div>"
      ],
      "text/plain": [
       "                                           sentences\n",
       "0  così, poich ebbe tracannato a iosa cento gran ...\n",
       "1  dai quali con uno strattagemma sono terribilme...\n",
       "2  prendono per signore carlo i re di, per testim...\n",
       "3  giocarono in questo conflitto terribilmente le...\n",
       "4  ma si trovò terribilmente gonfio esso mare con...\n",
       "5  ugo cardinale d  , dov  egli passava, lasciava...\n",
       "6  abbiamo da san girolamo che terribilmente infi..."
      ]
     },
     "execution_count": 18,
     "metadata": {},
     "output_type": "execute_result"
    }
   ],
   "source": [
    "res1"
   ]
  },
  {
   "cell_type": "markdown",
   "id": "2a222457",
   "metadata": {},
   "source": [
    "### Zeitraum 2: 1751-1800"
   ]
  },
  {
   "cell_type": "code",
   "execution_count": 19,
   "id": "7f5c71ca",
   "metadata": {},
   "outputs": [],
   "source": [
    "text2 = ''\n",
    "for i in df2.cleaned_text:\n",
    "    text2 += i"
   ]
  },
  {
   "cell_type": "code",
   "execution_count": 20,
   "id": "1be84df6",
   "metadata": {},
   "outputs": [],
   "source": [
    "document2 = nltk.sent_tokenize(text2)"
   ]
  },
  {
   "cell_type": "code",
   "execution_count": 21,
   "id": "04251e9e",
   "metadata": {},
   "outputs": [
    {
     "data": {
      "text/markdown": [
       "ma il tuono e il vento e l onda **terribilmente** agita tutti e batte; nè le vele contratte nè da la doppia sponda il forte remigar, l urto che abbonda vince nè frena."
      ],
      "text/plain": [
       "<IPython.core.display.Markdown object>"
      ]
     },
     "metadata": {},
     "output_type": "display_data"
    },
    {
     "data": {
      "text/markdown": [
       "l industria viene corrosa nella sua radice, e la nazione non ricever mai spinta ad accrescere l annua riproduzione, perch fischia il flagello delle leggi **terribilmente** sul capo degli uomini riproduttori avviliti e scoraggiti."
      ],
      "text/plain": [
       "<IPython.core.display.Markdown object>"
      ]
     },
     "metadata": {},
     "output_type": "display_data"
    },
    {
     "data": {
      "text/markdown": [
       "i cristiani accusati dell  incendio di roma sotto nerone e **terribilmente** puniti, t. iii, p.   ."
      ],
      "text/plain": [
       "<IPython.core.display.Markdown object>"
      ]
     },
     "metadata": {},
     "output_type": "display_data"
    },
    {
     "data": {
      "text/markdown": [
       "i, e conseguenze che da ciò derivarono    incendio di roma sotto il regno di nerone    i cristiani accusati di esso e **terribilmente** puniti    passo di tacito a tale proposito    osservazioni sovra questo passo    i cristiani ed i giudei egualmentedi childerico, ma dando un contorno ai fatti per salvare l  independenza della corona."
      ],
      "text/plain": [
       "<IPython.core.display.Markdown object>"
      ]
     },
     "metadata": {},
     "output_type": "display_data"
    },
    {
     "data": {
      "text/markdown": [
       "si trovarono però **terribilmente** angustiati dai passaggi che traggono da eginardo, da teofane e dagli antichi annali laureshamenses, fuldenses,storia e della favola, troncò le deboli armi dei greci senza smuzzare il taglio della sua."
      ],
      "text/plain": [
       "<IPython.core.display.Markdown object>"
      ]
     },
     "metadata": {},
     "output_type": "display_data"
    },
    {
     "data": {
      "text/markdown": [
       "dettò poscia questa lettera **terribilmente** laconica:  in nome del dio misericordioso, haroun al rashid comandante dei fedeli, a niceforo, cane romano."
      ],
      "text/plain": [
       "<IPython.core.display.Markdown object>"
      ]
     },
     "metadata": {},
     "output_type": "display_data"
    },
    {
     "data": {
      "text/markdown": [
       "oh sì, per questo, ten scongiuro io forte, largo mio pianto, per giocasta madre, per l orror di que  giorni onde mi lasci **terribilmente** in preda, per l amore d antigon tua."
      ],
      "text/plain": [
       "<IPython.core.display.Markdown object>"
      ]
     },
     "metadata": {},
     "output_type": "display_data"
    },
    {
     "data": {
      "text/markdown": [
       "giace poi sopra un suolo **terribilmente** sterile, coperto di piccole roccie simili al basalto."
      ],
      "text/plain": [
       "<IPython.core.display.Markdown object>"
      ]
     },
     "metadata": {},
     "output_type": "display_data"
    }
   ],
   "source": [
    "res2 = find_sentences_with_keyword(document2, 'terribilmente')"
   ]
  },
  {
   "cell_type": "code",
   "execution_count": 22,
   "id": "b945e10c",
   "metadata": {},
   "outputs": [
    {
     "data": {
      "text/html": [
       "<div>\n",
       "<style scoped>\n",
       "    .dataframe tbody tr th:only-of-type {\n",
       "        vertical-align: middle;\n",
       "    }\n",
       "\n",
       "    .dataframe tbody tr th {\n",
       "        vertical-align: top;\n",
       "    }\n",
       "\n",
       "    .dataframe thead th {\n",
       "        text-align: right;\n",
       "    }\n",
       "</style>\n",
       "<table border=\"1\" class=\"dataframe\">\n",
       "  <thead>\n",
       "    <tr style=\"text-align: right;\">\n",
       "      <th></th>\n",
       "      <th>sentences</th>\n",
       "    </tr>\n",
       "  </thead>\n",
       "  <tbody>\n",
       "    <tr>\n",
       "      <th>0</th>\n",
       "      <td>ma il tuono e il vento e l onda terribilmente ...</td>\n",
       "    </tr>\n",
       "    <tr>\n",
       "      <th>1</th>\n",
       "      <td>l industria viene corrosa nella sua radice, e ...</td>\n",
       "    </tr>\n",
       "    <tr>\n",
       "      <th>2</th>\n",
       "      <td>i cristiani accusati dell  incendio di roma so...</td>\n",
       "    </tr>\n",
       "    <tr>\n",
       "      <th>3</th>\n",
       "      <td>i, e conseguenze che da ciò derivarono    ince...</td>\n",
       "    </tr>\n",
       "    <tr>\n",
       "      <th>4</th>\n",
       "      <td>si trovarono però terribilmente angustiati dai...</td>\n",
       "    </tr>\n",
       "    <tr>\n",
       "      <th>5</th>\n",
       "      <td>dettò poscia questa lettera terribilmente laco...</td>\n",
       "    </tr>\n",
       "    <tr>\n",
       "      <th>6</th>\n",
       "      <td>oh sì, per questo, ten scongiuro io forte, lar...</td>\n",
       "    </tr>\n",
       "    <tr>\n",
       "      <th>7</th>\n",
       "      <td>giace poi sopra un suolo terribilmente sterile...</td>\n",
       "    </tr>\n",
       "  </tbody>\n",
       "</table>\n",
       "</div>"
      ],
      "text/plain": [
       "                                           sentences\n",
       "0  ma il tuono e il vento e l onda terribilmente ...\n",
       "1  l industria viene corrosa nella sua radice, e ...\n",
       "2  i cristiani accusati dell  incendio di roma so...\n",
       "3  i, e conseguenze che da ciò derivarono    ince...\n",
       "4  si trovarono però terribilmente angustiati dai...\n",
       "5  dettò poscia questa lettera terribilmente laco...\n",
       "6  oh sì, per questo, ten scongiuro io forte, lar...\n",
       "7  giace poi sopra un suolo terribilmente sterile..."
      ]
     },
     "execution_count": 22,
     "metadata": {},
     "output_type": "execute_result"
    }
   ],
   "source": [
    "res2"
   ]
  },
  {
   "cell_type": "markdown",
   "id": "0478b668",
   "metadata": {},
   "source": [
    "### Zeitraum 3: 1801-1850"
   ]
  },
  {
   "cell_type": "code",
   "execution_count": 23,
   "id": "b38bff16",
   "metadata": {},
   "outputs": [],
   "source": [
    "text3 = ''\n",
    "for i in df3.cleaned_text:\n",
    "    text3 += i"
   ]
  },
  {
   "cell_type": "code",
   "execution_count": 24,
   "id": "dc4ede09",
   "metadata": {},
   "outputs": [],
   "source": [
    "document3 = nltk.sent_tokenize(text3)"
   ]
  },
  {
   "cell_type": "code",
   "execution_count": 25,
   "id": "f208a69f",
   "metadata": {},
   "outputs": [
    {
     "data": {
      "text/markdown": [
       "un lampo non iscopre più **terribilmente** all occhio del viandante il precipizio sul quale le tenebre della notte lo aveano condotto."
      ],
      "text/plain": [
       "<IPython.core.display.Markdown object>"
      ]
     },
     "metadata": {},
     "output_type": "display_data"
    },
    {
     "data": {
      "text/markdown": [
       "assentirei all uso delle elastiche se non vi fosse l autorità del pajola nostro il quale raccomanda in visceribus quelle di cera; e d altra parte i francesi, che soli ne fanno, hanno il vizio di dar loro la forma conica, quando a me che ho il malanno oltre il collo quasi della vescica bisognerebbero affatto cilindriche, e poi non ne trovo di grosse; e quelle che ho sperimentate mi fanno gran male, perchè si dibattono con la loro troppa elasticità nel canale, ed irritano **terribilmente**."
      ],
      "text/plain": [
       "<IPython.core.display.Markdown object>"
      ]
     },
     "metadata": {},
     "output_type": "display_data"
    },
    {
     "data": {
      "text/markdown": [
       "finalmente, dati questi caratteri e queste passioni, l autore deve nel breve spazio dal principio alla fine della sua azione far nascere tali accidenti che, quantunque naturalissimi e quasi minimi, ridestino quelle antiche passioni, le facciano operare fortemente in que  forti caratteri, e sciolgano pietosamente e **terribilmente** l azione."
      ],
      "text/plain": [
       "<IPython.core.display.Markdown object>"
      ]
     },
     "metadata": {},
     "output_type": "display_data"
    },
    {
     "data": {
      "text/markdown": [
       "se tu sapessi come oltre l infermità, e la povertà, e l esilio imminente, e l incertezza della mia vita, anche il pericolo quotidiano di mio fratello che ora è all esercito sul mincio mi affligge; come lo stato di mia madre mi amareggia **terribilmente** l anima e me la prostra!"
      ],
      "text/plain": [
       "<IPython.core.display.Markdown object>"
      ]
     },
     "metadata": {},
     "output_type": "display_data"
    },
    {
     "data": {
      "text/markdown": [
       "la bignami è a bologna e s  annoia **terribilmente**."
      ],
      "text/plain": [
       "<IPython.core.display.Markdown object>"
      ]
     },
     "metadata": {},
     "output_type": "display_data"
    },
    {
     "data": {
      "text/markdown": [
       "guardo tutto intorno a me il monte, le campagne, le alpi lontane, il lago, tutto tutto bianco di neve; gelato; **terribilmente** muta ogni cosa   eppur mi consolo!"
      ],
      "text/plain": [
       "<IPython.core.display.Markdown object>"
      ]
     },
     "metadata": {},
     "output_type": "display_data"
    },
    {
     "data": {
      "text/markdown": [
       "uscendo mezz ora dopo dalla stanza dove mi parlavano, entrai nella bottega de libri e mi s affacciò castelli, il quale malgrado l impudenza della quale esso è **terribilmente** dotato ed armato, si fece sì pallido che i garzoni della bottega se ne accorsero tutti."
      ],
      "text/plain": [
       "<IPython.core.display.Markdown object>"
      ]
     },
     "metadata": {},
     "output_type": "display_data"
    },
    {
     "data": {
      "text/markdown": [
       "però il giorno dopo le scrissi un biglietto passionatissimo e risentito; le mostrai quanta e velenosissima piaga aveva aperto nelle mie viscere: a che gelosia, a che disprezzo per lei e per me m aveva oramai abbandonato, e a che pericoli essa esponeva il suo nome, se passioni così terribili e sì **terribilmente** istigate avessero un dì o l altro fatto uno scoppio; e scongiurandola che tacesse, le diceva addio."
      ],
      "text/plain": [
       "<IPython.core.display.Markdown object>"
      ]
     },
     "metadata": {},
     "output_type": "display_data"
    },
    {
     "data": {
      "text/markdown": [
       "quando si dice adunque che gl italiani avevano la loro legge, non s intenda che ella fosse il limite della loro obbedienza, e una tutela della loro libertà; ma si ritenga che, oltre quella, ne avevano un altra, imposta da una parte interessata: il non trovarla scritta, il non conoscerla noi nemmeno per tradizione, può lasciar supporre che fosse una legge di fatto, sommamente arbitraria ed estesa nella sua applicazione, e ad un tempo **terribilmente** semplice nel suo principio."
      ],
      "text/plain": [
       "<IPython.core.display.Markdown object>"
      ]
     },
     "metadata": {},
     "output_type": "display_data"
    },
    {
     "data": {
      "text/markdown": [
       "il non trovarla scritta, il non conoscerla noi, nemmeno per tradizione, può lasciar supporre che fosse una legge di fatto, sommamente arbitraria ed estesa nella sua applicazione, e a un tempo **terribilmente** semplice nel suo principio."
      ],
      "text/plain": [
       "<IPython.core.display.Markdown object>"
      ]
     },
     "metadata": {},
     "output_type": "display_data"
    },
    {
     "data": {
      "text/markdown": [
       "ma si scosse **terribilmente** quando pot avere un punto d appoggio sullo straniero, come vedremo in seguito."
      ],
      "text/plain": [
       "<IPython.core.display.Markdown object>"
      ]
     },
     "metadata": {},
     "output_type": "display_data"
    },
    {
     "data": {
      "text/markdown": [
       "medici si diede a fulminare **terribilmente** da  suoi legni esso pure, e mentre i ducali trovavansi in grave confusione perch molte delle loro barche venivano fracassate dalle palle mussiane contro il lido stesso presso cui erano, gabriele, falco e sarbelloni alla testa delle loro schiere presero terra, istruiti di quanto avessero ad operare, lasciando nelle navi i soli bombardieri, che trattisi al largo, continuarono, siccome il brigantino, a sostenere il fuoco contro i ducali."
      ],
      "text/plain": [
       "<IPython.core.display.Markdown object>"
      ]
     },
     "metadata": {},
     "output_type": "display_data"
    },
    {
     "data": {
      "text/markdown": [
       "come vorreste ch  io avessi un  aria ilare e gaia, s  io mi sento malinconico, e **terribilmente** malinconico?"
      ],
      "text/plain": [
       "<IPython.core.display.Markdown object>"
      ]
     },
     "metadata": {},
     "output_type": "display_data"
    },
    {
     "data": {
      "text/markdown": [
       "seria **terribilmente** , perchè il cavaliere ed io."
      ],
      "text/plain": [
       "<IPython.core.display.Markdown object>"
      ]
     },
     "metadata": {},
     "output_type": "display_data"
    },
    {
     "data": {
      "text/markdown": [
       "quanto a me in particolare, poichè l a. v. trapassando le distanze sociali, ha voluto, uomo compassionevole, recar conforto ad un uomo **terribilmente** visitato da dio, sappia che ha fatto il bene che s era proposto, e che le sue parole, come mi rappresentano al vivo quello che pur troppo sento, così mi danno animo e lume a sentir come debbo."
      ],
      "text/plain": [
       "<IPython.core.display.Markdown object>"
      ]
     },
     "metadata": {},
     "output_type": "display_data"
    },
    {
     "data": {
      "text/markdown": [
       "infatti si vede che la guerra mette spesso in fondo i più potenti, i più gloriosi reami, mentre quelli che alla ragione di stato prudentemente si conformano,orrido pei mucchj dei cadaveri, massimamente più verso la sua foce nel po, perchè quivi nel passare furono i francesi **terribilmente** bersagliati dalle artiglierìe di melas."
      ],
      "text/plain": [
       "<IPython.core.display.Markdown object>"
      ]
     },
     "metadata": {},
     "output_type": "display_data"
    },
    {
     "data": {
      "text/markdown": [
       "dei repubblicani in quelle tre giornate fu uno scempio di circa sei mila, e con la presenza animato i suoi soldati, che le grida di viva la repubblica fila per fila risuonando si mescolavano **terribilmente** col rimbombo dei cannoni, e con l  eco delle vicine montagne."
      ],
      "text/plain": [
       "<IPython.core.display.Markdown object>"
      ]
     },
     "metadata": {},
     "output_type": "display_data"
    },
    {
     "data": {
      "text/markdown": [
       "menò egli sì **terribilmente** le mani, che non solo il russo piegava, ma ancora i francesi, preso nuovo ardire, assaltavano schweicuschi con tantaad altri lidi."
      ],
      "text/plain": [
       "<IPython.core.display.Markdown object>"
      ]
     },
     "metadata": {},
     "output_type": "display_data"
    },
    {
     "data": {
      "text/markdown": [
       "gonfiò molto **terribilmente** , e si alzò oltre trenta piedi sopra l  usato livello."
      ],
      "text/plain": [
       "<IPython.core.display.Markdown object>"
      ]
     },
     "metadata": {},
     "output_type": "display_data"
    },
    {
     "data": {
      "text/markdown": [
       "fulminava soprattutto **terribilmente** colla sua nave il formidabile, e colle due sue seconde il namur, ed il duca, tutte e tre di novanta cannoni, l  ammiraglioi tedeschi; ma i più nol credevano, ed incominciavano a trepidar dell  avvenire."
      ],
      "text/plain": [
       "<IPython.core.display.Markdown object>"
      ]
     },
     "metadata": {},
     "output_type": "display_data"
    },
    {
     "data": {
      "text/markdown": [
       "pur troppo, l uomo può ingannarsi, e ingannarsi **terribilmente**, con molto minore stravaganza."
      ],
      "text/plain": [
       "<IPython.core.display.Markdown object>"
      ]
     },
     "metadata": {},
     "output_type": "display_data"
    },
    {
     "data": {
      "text/markdown": [
       "e dico un inganno divenuto più caro e prezioso che mai; giacchè, se prima il riconoscerli innocenti era per que  giudici un perder l occasione di condannare, ormai sarebbe stato un trovarsi **terribilmente** colpevoli; e le frodi, le violazioni della legge, che sapevano d aver commesse, ma che volevan creder giustificate dalla scoperta di così empi e funesti malfattori, non solo sarebbero ricomparse nel loro nudo e laido aspetto di frodi e di violazioni della legge, ma sarebbero comparse come produttrici d un orrendo assassinio."
      ],
      "text/plain": [
       "<IPython.core.display.Markdown object>"
      ]
     },
     "metadata": {},
     "output_type": "display_data"
    },
    {
     "data": {
      "text/markdown": [
       "solo questo guerriero veterano; ricevette le felicitazioni del senato e del popolo di roma; ed ispirò abbastanza di spavento al papa per farlo acconsentire ad entrare in trattati co   suoi ministri     : in conseguenza de   quali il papapersone di qualità della detta città d  arras, ed altre persone di minor conto; e vennero talmente angustiate e così **terribilmente** tormentate, che gli uni confessarono essere loro accaduto tal caso, come abbiamo detto, e molti di più confessarono d    ora cantava in una lingua e in una musica affatto nuova;   ora s  incrociava le mani sul petto, nascondendosi le pupille **terribilmente** sotto le ciglia."
      ],
      "text/plain": [
       "<IPython.core.display.Markdown object>"
      ]
     },
     "metadata": {},
     "output_type": "display_data"
    },
    {
     "data": {
      "text/markdown": [
       "comecchè messi in confusione, e **terribilmente** maltrattati, i francesi, con la celerità d  una truppa ben disciplinata, ed esperimentata, furono in un subitosi ricusi."
      ],
      "text/plain": [
       "<IPython.core.display.Markdown object>"
      ]
     },
     "metadata": {},
     "output_type": "display_data"
    },
    {
     "data": {
      "text/markdown": [
       "ma ciò posto ed eccettuato francamente, ed eccettuate forse alcune vendette personali **terribilmente** fatte con sue parole immortali, dante e il poema suo restan pure l uomo e il libro incontrastabilmente piú virili ed austeri della nostra letteratura: virile l uomo, nel saper sopportare le pubbliche, le segrete miserie dell esiglio, nel non saper sopportare né le insolenti protezioni delle corti né le insolentissime grazie di sua cittá, nel sapere dalla vita attiva, che pur anteponeva ma gli era negata, passare alacre alla letteraria e farvisi grande: virile poi ed austero il poema in amore, in costumi, in politica, in istile, e per quella stessa accumulazione di pensieri che fa del leggerlo una fatica, ma la piú virile, la piú sana fra le esercitazioni somministrate dalle lettere nazionali ai molli animi italiani."
      ],
      "text/plain": [
       "<IPython.core.display.Markdown object>"
      ]
     },
     "metadata": {},
     "output_type": "display_data"
    },
    {
     "data": {
      "text/markdown": [
       "medici si diede a fulminare **terribilmente** da   suoi legni esso pure, e mentre i ducali trovavansi in grave confusione perchè molte delle loro barche venivanopregiudicato presero quasi il carattere d  una spaventevole certezza."
      ],
      "text/plain": [
       "<IPython.core.display.Markdown object>"
      ]
     },
     "metadata": {},
     "output_type": "display_data"
    },
    {
     "data": {
      "text/markdown": [
       "dell  india, a cui la povera sacontala, occupata da tutt  altri pensieri, trascurò di far le dovute accoglienze, grida **terribilmente** :  e che?"
      ],
      "text/plain": [
       "<IPython.core.display.Markdown object>"
      ]
     },
     "metadata": {},
     "output_type": "display_data"
    },
    {
     "data": {
      "text/markdown": [
       "ne prendo il primo esempio che mi s affaccia alla mente: quello d un uomo eternamente celebre, non già per delle qualità straordinarie, ma per la parte tristamente e **terribilmente** principale, che fece in un periodo di quella rivoluzione: robespierre."
      ],
      "text/plain": [
       "<IPython.core.display.Markdown object>"
      ]
     },
     "metadata": {},
     "output_type": "display_data"
    },
    {
     "data": {
      "text/markdown": [
       "passeggiando concitatamente innanzi indietro per il mio studio, come una belva feroce nella gabbia di ferro, gridai: s, s, deve essere in questo modo, anzi : ecco il vero concetto: non aveva trovata lespressione, ma il pensiero mi bolliva **terribilmente** nel cervello."
      ],
      "text/plain": [
       "<IPython.core.display.Markdown object>"
      ]
     },
     "metadata": {},
     "output_type": "display_data"
    },
    {
     "data": {
      "text/markdown": [
       "dico unora, perch le famiglie del mezzogiorno quando fanno inviti, diventano **terribilmente** aristocratiche, e sono capaci di aspettare fino alla una , dunque bisogner tralasciare di far colazione: e poi, che si fa tutto il resto della giornata?"
      ],
      "text/plain": [
       "<IPython.core.display.Markdown object>"
      ]
     },
     "metadata": {},
     "output_type": "display_data"
    }
   ],
   "source": [
    "res3 = find_sentences_with_keyword(document3, 'terribilmente')"
   ]
  },
  {
   "cell_type": "code",
   "execution_count": 26,
   "id": "0b202cbd",
   "metadata": {},
   "outputs": [
    {
     "data": {
      "text/html": [
       "<div>\n",
       "<style scoped>\n",
       "    .dataframe tbody tr th:only-of-type {\n",
       "        vertical-align: middle;\n",
       "    }\n",
       "\n",
       "    .dataframe tbody tr th {\n",
       "        vertical-align: top;\n",
       "    }\n",
       "\n",
       "    .dataframe thead th {\n",
       "        text-align: right;\n",
       "    }\n",
       "</style>\n",
       "<table border=\"1\" class=\"dataframe\">\n",
       "  <thead>\n",
       "    <tr style=\"text-align: right;\">\n",
       "      <th></th>\n",
       "      <th>sentences</th>\n",
       "    </tr>\n",
       "  </thead>\n",
       "  <tbody>\n",
       "    <tr>\n",
       "      <th>0</th>\n",
       "      <td>un lampo non iscopre più terribilmente all occ...</td>\n",
       "    </tr>\n",
       "    <tr>\n",
       "      <th>1</th>\n",
       "      <td>assentirei all uso delle elastiche se non vi f...</td>\n",
       "    </tr>\n",
       "    <tr>\n",
       "      <th>2</th>\n",
       "      <td>finalmente, dati questi caratteri e queste pas...</td>\n",
       "    </tr>\n",
       "    <tr>\n",
       "      <th>3</th>\n",
       "      <td>se tu sapessi come oltre l infermità, e la pov...</td>\n",
       "    </tr>\n",
       "    <tr>\n",
       "      <th>4</th>\n",
       "      <td>la bignami è a bologna e s  annoia terribilmente.</td>\n",
       "    </tr>\n",
       "    <tr>\n",
       "      <th>5</th>\n",
       "      <td>guardo tutto intorno a me il monte, le campagn...</td>\n",
       "    </tr>\n",
       "    <tr>\n",
       "      <th>6</th>\n",
       "      <td>uscendo mezz ora dopo dalla stanza dove mi par...</td>\n",
       "    </tr>\n",
       "    <tr>\n",
       "      <th>7</th>\n",
       "      <td>però il giorno dopo le scrissi un biglietto pa...</td>\n",
       "    </tr>\n",
       "    <tr>\n",
       "      <th>8</th>\n",
       "      <td>quando si dice adunque che gl italiani avevano...</td>\n",
       "    </tr>\n",
       "    <tr>\n",
       "      <th>9</th>\n",
       "      <td>il non trovarla scritta, il non conoscerla noi...</td>\n",
       "    </tr>\n",
       "    <tr>\n",
       "      <th>10</th>\n",
       "      <td>ma si scosse terribilmente quando pot avere un...</td>\n",
       "    </tr>\n",
       "    <tr>\n",
       "      <th>11</th>\n",
       "      <td>medici si diede a fulminare terribilmente da  ...</td>\n",
       "    </tr>\n",
       "    <tr>\n",
       "      <th>12</th>\n",
       "      <td>come vorreste ch  io avessi un  aria ilare e g...</td>\n",
       "    </tr>\n",
       "    <tr>\n",
       "      <th>13</th>\n",
       "      <td>seria terribilmente , perchè il cavaliere ed io.</td>\n",
       "    </tr>\n",
       "    <tr>\n",
       "      <th>14</th>\n",
       "      <td>quanto a me in particolare, poichè l a. v. tra...</td>\n",
       "    </tr>\n",
       "    <tr>\n",
       "      <th>15</th>\n",
       "      <td>infatti si vede che la guerra mette spesso in ...</td>\n",
       "    </tr>\n",
       "    <tr>\n",
       "      <th>16</th>\n",
       "      <td>dei repubblicani in quelle tre giornate fu uno...</td>\n",
       "    </tr>\n",
       "    <tr>\n",
       "      <th>17</th>\n",
       "      <td>menò egli sì terribilmente le mani, che non so...</td>\n",
       "    </tr>\n",
       "    <tr>\n",
       "      <th>18</th>\n",
       "      <td>gonfiò molto terribilmente , e si alzò oltre t...</td>\n",
       "    </tr>\n",
       "    <tr>\n",
       "      <th>19</th>\n",
       "      <td>fulminava soprattutto terribilmente colla sua ...</td>\n",
       "    </tr>\n",
       "    <tr>\n",
       "      <th>20</th>\n",
       "      <td>pur troppo, l uomo può ingannarsi, e ingannars...</td>\n",
       "    </tr>\n",
       "    <tr>\n",
       "      <th>21</th>\n",
       "      <td>e dico un inganno divenuto più caro e prezioso...</td>\n",
       "    </tr>\n",
       "    <tr>\n",
       "      <th>22</th>\n",
       "      <td>solo questo guerriero veterano; ricevette le f...</td>\n",
       "    </tr>\n",
       "    <tr>\n",
       "      <th>23</th>\n",
       "      <td>comecchè messi in confusione, e terribilmente ...</td>\n",
       "    </tr>\n",
       "    <tr>\n",
       "      <th>24</th>\n",
       "      <td>ma ciò posto ed eccettuato francamente, ed ecc...</td>\n",
       "    </tr>\n",
       "    <tr>\n",
       "      <th>25</th>\n",
       "      <td>medici si diede a fulminare terribilmente da  ...</td>\n",
       "    </tr>\n",
       "    <tr>\n",
       "      <th>26</th>\n",
       "      <td>dell  india, a cui la povera sacontala, occupa...</td>\n",
       "    </tr>\n",
       "    <tr>\n",
       "      <th>27</th>\n",
       "      <td>ne prendo il primo esempio che mi s affaccia a...</td>\n",
       "    </tr>\n",
       "    <tr>\n",
       "      <th>28</th>\n",
       "      <td>passeggiando concitatamente innanzi indietro p...</td>\n",
       "    </tr>\n",
       "    <tr>\n",
       "      <th>29</th>\n",
       "      <td>dico unora, perch le famiglie del mezzogiorno ...</td>\n",
       "    </tr>\n",
       "  </tbody>\n",
       "</table>\n",
       "</div>"
      ],
      "text/plain": [
       "                                            sentences\n",
       "0   un lampo non iscopre più terribilmente all occ...\n",
       "1   assentirei all uso delle elastiche se non vi f...\n",
       "2   finalmente, dati questi caratteri e queste pas...\n",
       "3   se tu sapessi come oltre l infermità, e la pov...\n",
       "4   la bignami è a bologna e s  annoia terribilmente.\n",
       "5   guardo tutto intorno a me il monte, le campagn...\n",
       "6   uscendo mezz ora dopo dalla stanza dove mi par...\n",
       "7   però il giorno dopo le scrissi un biglietto pa...\n",
       "8   quando si dice adunque che gl italiani avevano...\n",
       "9   il non trovarla scritta, il non conoscerla noi...\n",
       "10  ma si scosse terribilmente quando pot avere un...\n",
       "11  medici si diede a fulminare terribilmente da  ...\n",
       "12  come vorreste ch  io avessi un  aria ilare e g...\n",
       "13   seria terribilmente , perchè il cavaliere ed io.\n",
       "14  quanto a me in particolare, poichè l a. v. tra...\n",
       "15  infatti si vede che la guerra mette spesso in ...\n",
       "16  dei repubblicani in quelle tre giornate fu uno...\n",
       "17  menò egli sì terribilmente le mani, che non so...\n",
       "18  gonfiò molto terribilmente , e si alzò oltre t...\n",
       "19  fulminava soprattutto terribilmente colla sua ...\n",
       "20  pur troppo, l uomo può ingannarsi, e ingannars...\n",
       "21  e dico un inganno divenuto più caro e prezioso...\n",
       "22  solo questo guerriero veterano; ricevette le f...\n",
       "23  comecchè messi in confusione, e terribilmente ...\n",
       "24  ma ciò posto ed eccettuato francamente, ed ecc...\n",
       "25  medici si diede a fulminare terribilmente da  ...\n",
       "26  dell  india, a cui la povera sacontala, occupa...\n",
       "27  ne prendo il primo esempio che mi s affaccia a...\n",
       "28  passeggiando concitatamente innanzi indietro p...\n",
       "29  dico unora, perch le famiglie del mezzogiorno ..."
      ]
     },
     "execution_count": 26,
     "metadata": {},
     "output_type": "execute_result"
    }
   ],
   "source": [
    "res3"
   ]
  },
  {
   "cell_type": "markdown",
   "id": "de807b01",
   "metadata": {},
   "source": [
    "### Zeitraum 4: 1851-1900"
   ]
  },
  {
   "cell_type": "code",
   "execution_count": 27,
   "id": "b63350f8",
   "metadata": {},
   "outputs": [],
   "source": [
    "text4 = ''\n",
    "for i in df4.cleaned_text:\n",
    "    text4 += i"
   ]
  },
  {
   "cell_type": "code",
   "execution_count": 28,
   "id": "04c049c8",
   "metadata": {},
   "outputs": [],
   "source": [
    "document4 = nltk.sent_tokenize(text4)"
   ]
  },
  {
   "cell_type": "code",
   "execution_count": 29,
   "id": "e4608bdc",
   "metadata": {},
   "outputs": [
    {
     "data": {
      "text/markdown": [
       "ma ciò posto ed eccettuato francamente, ed eccettuate forse alcune vendette personali **terribilmente** fatte con sue parole immortali, dante e il poema suo restan pure l  uomo e il libro incontrastabilmente piú virili ede quindi in breve, per emulazione, per quell  imitazione, che, a malgrado le inimicizie de   governi, trae sovente ad imitarsi e seguirsi i popoli connazionali, i pisani e massime i genovesi fecero pure stabilimenti orientali; e cosí fu acquistata tutta questa via al commercio italiano, il quale, caduti gli arabi, giá praticava le altre due; e cosí tra le tre incominciò il secondo primato nostro nel mediterraneo; cosí ricominciò questo ad esser lago italiano."
      ],
      "text/plain": [
       "<IPython.core.display.Markdown object>"
      ]
     },
     "metadata": {},
     "output_type": "display_data"
    },
    {
     "data": {
      "text/markdown": [
       "uno mostra con aria addolorata la guancia, che poco innanzi era sanissima, **terribilmente** gonfiata per un mal di denti; un altro si è slogata una congiuntura e la mostra orribilmente contratta; un terzo alza l indice della mano destra fasciato di cenci, e dice d esserselo tagliato fino all osso; altri infine sostengono audacemente d aver già consegnato il componimento e che deve essere smarrito, e vanno attorno cercandolo."
      ],
      "text/plain": [
       "<IPython.core.display.Markdown object>"
      ]
     },
     "metadata": {},
     "output_type": "display_data"
    },
    {
     "data": {
      "text/markdown": [
       "ma la mia gioia fu presto scemata, vedendo l aspetto di fantasio **terribilmente** cambiato."
      ],
      "text/plain": [
       "<IPython.core.display.Markdown object>"
      ]
     },
     "metadata": {},
     "output_type": "display_data"
    },
    {
     "data": {
      "text/markdown": [
       "egli morde **terribilmente** all amo e fa delle vere prodezze."
      ],
      "text/plain": [
       "<IPython.core.display.Markdown object>"
      ]
     },
     "metadata": {},
     "output_type": "display_data"
    },
    {
     "data": {
      "text/markdown": [
       "i delitti che avevano disonorato il procelloso tribunato di shaftesbury, erano stati **terribilmente** espiati."
      ],
      "text/plain": [
       "<IPython.core.display.Markdown object>"
      ]
     },
     "metadata": {},
     "output_type": "display_data"
    },
    {
     "data": {
      "text/markdown": [
       "quell uomo era il nembo che si condensa per esplodere **terribilmente**."
      ],
      "text/plain": [
       "<IPython.core.display.Markdown object>"
      ]
     },
     "metadata": {},
     "output_type": "display_data"
    },
    {
     "data": {
      "text/markdown": [
       "il governo austriaco infatti ne fu **terribilmente** colpito."
      ],
      "text/plain": [
       "<IPython.core.display.Markdown object>"
      ]
     },
     "metadata": {},
     "output_type": "display_data"
    },
    {
     "data": {
      "text/markdown": [
       "il dal poggio a quest intimazione si sentí montar il sangue alla testa, e alzando **terribilmente** la voce, corse all insulto:   siete un miserabile furfante,   gridò   questo vi valga come uno schiaffo sul viso."
      ],
      "text/plain": [
       "<IPython.core.display.Markdown object>"
      ]
     },
     "metadata": {},
     "output_type": "display_data"
    },
    {
     "data": {
      "text/markdown": [
       "il suo naso **terribilmente** rosso   diventava un carbone infiammato per beatitudine."
      ],
      "text/plain": [
       "<IPython.core.display.Markdown object>"
      ]
     },
     "metadata": {},
     "output_type": "display_data"
    },
    {
     "data": {
      "text/markdown": [
       "ah, sembrava un uomo tanto ammodo quando sarina lo sposò, e finì col truffare il babbo **terribilmente** , sicchè fu costretto a ipotecare la sua casa di via alta, e da ultimo a cederla!"
      ],
      "text/plain": [
       "<IPython.core.display.Markdown object>"
      ]
     },
     "metadata": {},
     "output_type": "display_data"
    },
    {
     "data": {
      "text/markdown": [
       "al contrario, ne ho sofferto **terribilmente** !"
      ],
      "text/plain": [
       "<IPython.core.display.Markdown object>"
      ]
     },
     "metadata": {},
     "output_type": "display_data"
    },
    {
     "data": {
      "text/markdown": [
       "sappiate però che i dolori più crudeli sono stati quelli del sentimento: sì, del sentimento, ch  è la parte piùella si rizzò, prese risoluta un foglio, e scrisse con una febbrile rapidità che mostrava come profondamente, e quasi **terribilmente** , fosse scossa in tutto il suo essere, anima e corpo, e si piegasse, vacillasse sotto il peso delle speranze, delle ansiechiederlo a bella, ma non c  è stato caso che mi desse retta; quando è occupata delle sue gale, non conosce altro."
      ],
      "text/plain": [
       "<IPython.core.display.Markdown object>"
      ]
     },
     "metadata": {},
     "output_type": "display_data"
    },
    {
     "data": {
      "text/markdown": [
       "oh, è **terribilmente** egoista."
      ],
      "text/plain": [
       "<IPython.core.display.Markdown object>"
      ]
     },
     "metadata": {},
     "output_type": "display_data"
    },
    {
     "data": {
      "text/markdown": [
       ".un momento a guardarci con curiosità; io, s  intende, non ne facevo caso, ma la mia dama sembrava credere che ne fossi **terribilmente** mortificato, e, passate alfine tutte quante, ha rilodato il mio  spirito di cortesia : sua espressione favorita."
      ],
      "text/plain": [
       "<IPython.core.display.Markdown object>"
      ]
     },
     "metadata": {},
     "output_type": "display_data"
    },
    {
     "data": {
      "text/markdown": [
       "la notte è fredda, **terribilmente** ."
      ],
      "text/plain": [
       "<IPython.core.display.Markdown object>"
      ]
     },
     "metadata": {},
     "output_type": "display_data"
    },
    {
     "data": {
      "text/markdown": [
       "e per giunta una persona così **terribilmente** virtuosa, che tutti sono in obbligo d  idolatrarla, ammirarla e servirla."
      ],
      "text/plain": [
       "<IPython.core.display.Markdown object>"
      ]
     },
     "metadata": {},
     "output_type": "display_data"
    },
    {
     "data": {
      "text/markdown": [
       "era vero  bisognava crederlo  era **terribilmente** vero!"
      ],
      "text/plain": [
       "<IPython.core.display.Markdown object>"
      ]
     },
     "metadata": {},
     "output_type": "display_data"
    },
    {
     "data": {
      "text/markdown": [
       "gli si erano allividite e contratte vieppi le sue guancie, e il suo sguardo non aveva potuto reggere a quello avvampante di gina; ma il furore in lui non era stato tardo a sovraggiungere, si slanci su di lei, la afferr alle braccia, le serr i polsi e scuotendola senza un riguardo, rugg, accostando a quello di lei il suo volto **terribilmente** impresso dall ira:   sciagurata!"
      ],
      "text/plain": [
       "<IPython.core.display.Markdown object>"
      ]
     },
     "metadata": {},
     "output_type": "display_data"
    },
    {
     "data": {
      "text/markdown": [
       "era s **terribilmente** turbato che lisa comprese di botto una suprema sciagura essere avvenuta; venne innanzi al padre bianca pi che cadavere, le labbra illividite, e senza potere articolar parola fiss con ansia il volto del capitano, ponendogli la destra sopra il braccio."
      ],
      "text/plain": [
       "<IPython.core.display.Markdown object>"
      ]
     },
     "metadata": {},
     "output_type": "display_data"
    },
    {
     "data": {
      "text/markdown": [
       "allora vedo uno di essi che punta il fucile, affretto il passo e balzo  come le ferite ponno permettermi che vi guardano immobili, che si guardano immobili  quelle delle due lineette che ne troncano inesorabilmente, **terribilmente** le cime  quell  arco inferiore, sul quale la lettera oscilla e si dondola sogghignando  e nell  interno quel nero,verso la fine del quattrocento grande era il disordine in cui s   aggirava il concetto della lingua nostra e delle lettere , che da un lato erano declinanti , dall   altro sentivano se stesse per anche non bene mature ."
      ],
      "text/plain": [
       "<IPython.core.display.Markdown object>"
      ]
     },
     "metadata": {},
     "output_type": "display_data"
    },
    {
     "data": {
      "text/markdown": [
       "una cosa mi conforta e mi inorgoglisce, il sentimento della mia freddezza   perché il mio cuore è freddo, **terribilmente** freddo."
      ],
      "text/plain": [
       "<IPython.core.display.Markdown object>"
      ]
     },
     "metadata": {},
     "output_type": "display_data"
    },
    {
     "data": {
      "text/markdown": [
       "una cosa mi conforta e mi inorgoglisce, il sentimento della mia freddezza  perché il mio cuore è freddo, **terribilmente** freddo."
      ],
      "text/plain": [
       "<IPython.core.display.Markdown object>"
      ]
     },
     "metadata": {},
     "output_type": "display_data"
    },
    {
     "data": {
      "text/markdown": [
       "né qui è tutto   continuò il vecchio corrugando **terribilmente** la fronte;   quel demonio trasse fuori di tasca una funicella e colla fredda e spietata tranquillità del carnefice che applica la tortura assicurò alle verdi piante le membra della vittima a cui intanto ripeteva:  vedi alba!"
      ],
      "text/plain": [
       "<IPython.core.display.Markdown object>"
      ]
     },
     "metadata": {},
     "output_type": "display_data"
    },
    {
     "data": {
      "text/markdown": [
       ", e colà messo su in fretta alcune trincere faceva mostra di finire quanti si attentassero di avventurarci il piede: e poichè nei francesi non è per certo l  ardire quello che manca, ci si provarono, e non una volta, nè due: però toccarono troppi morti per non invilirsi; al fiume non avevano avvertito molto; che sguazzarlo mentre lo cavalcava un ponte parve inonorato; adesso lo arieno fatto più che volentieri, ma lo videro **terribilmente** gonfio, nè minacciatore di morte meno sicura, che il ponte; e il tempo a deliberare stringeva; perchè dai parapetti c rsi fioccavano moschettate fitte come grandine."
      ],
      "text/plain": [
       "<IPython.core.display.Markdown object>"
      ]
     },
     "metadata": {},
     "output_type": "display_data"
    },
    {
     "data": {
      "text/markdown": [
       "batte **terribilmente** il messo della giustizia, più **terribilmente** il mio cuore."
      ],
      "text/plain": [
       "<IPython.core.display.Markdown object>"
      ]
     },
     "metadata": {},
     "output_type": "display_data"
    },
    {
     "data": {
      "text/markdown": [
       "la barbarie dilaga **terribilmente** e ci trascina tutti senza che quasi ce ne accorgiamo."
      ],
      "text/plain": [
       "<IPython.core.display.Markdown object>"
      ]
     },
     "metadata": {},
     "output_type": "display_data"
    },
    {
     "data": {
      "text/markdown": [
       "là su quel vertice, benchè il fiato gli uscisse affannoso dal petto e le tempie e i polsi gli battessero **terribilmente** , altobello volse gli occhi dintorno per contemplare lo spettacolo che gli si parava davanti."
      ],
      "text/plain": [
       "<IPython.core.display.Markdown object>"
      ]
     },
     "metadata": {},
     "output_type": "display_data"
    },
    {
     "data": {
      "text/markdown": [
       "davvero desolazionedignità di assioma nella scienza ha voluto aggravare la tassa del caffè, del tè, e degli spiriti, e tre vide percossa **terribilmente** questa rendita della finanza; nella sola irlanda scapitò l  erario centodiciassette milioni, eabbassate la spada, ascoltatemi per l  amore di dio, in nome dei nostri morti genitori!"
      ],
      "text/plain": [
       "<IPython.core.display.Markdown object>"
      ]
     },
     "metadata": {},
     "output_type": "display_data"
    },
    {
     "data": {
      "text/markdown": [
       "non rammentarli, mi risponde **terribilmente** berardo, tu ne sei diventato indegno dal momento che ti facesti traditore."
      ],
      "text/plain": [
       "<IPython.core.display.Markdown object>"
      ]
     },
     "metadata": {},
     "output_type": "display_data"
    },
    {
     "data": {
      "text/markdown": [
       "berardo, sospendete un; che sguazzarlo mentre lo cavalcava un ponte parve inonorato; adesso lo arieno fatto più che volentieri, ma lo videro **terribilmente** gonfio, nè minacciatore di morte meno sicura, che il ponte; e il tempo a deliberare stringeva; perchè dai parapettisempre grondante sangue cagliato, con le chiome grommose; ma poi mutata vicenda toccò al capo di tuda comparire **terribilmente** miserabile, mentre la testa del prete guercino si affacciava ora con la sua bella chierica candida come fiore di latte,, e, senza punto fermarcisi, quinci sul lido, dove agitata prese a fare la lionessa."
      ],
      "text/plain": [
       "<IPython.core.display.Markdown object>"
      ]
     },
     "metadata": {},
     "output_type": "display_data"
    },
    {
     "data": {
      "text/markdown": [
       "la solennità dell  ora, la voce **terribilmente** arcana delle acque, anche quando addormentate respirano, la distesa dei cieli, la dimostrazione parlante, continua, trassero fuori delle tasche il bowieknife, ovvero _coltello piegatoio_, che gli americani maneggiano con maestria **terribilmente** celebre: non era tempo di gingillarsi cotesto; però filippo e curio, recatesi in mano le rivoltelle a sei colpi, lesotto, ma egli invelenito si difende a morsi, a calci, e non lascia presa."
      ],
      "text/plain": [
       "<IPython.core.display.Markdown object>"
      ]
     },
     "metadata": {},
     "output_type": "display_data"
    },
    {
     "data": {
      "text/markdown": [
       "alla fine liberano da morte sicura la bianca, **terribilmente** malconcia; aveva gli occhi fuori come gatto arrabbiato; le impronte sanguigne intorno al collo le durarono più di untardi questo essere stato astuto consiglio per ispossarmi: cessato che io mi ebbi di parlare, ella, ineccitabile, a me **terribilmente** palpitante rispose in questi accenti:   arria non ha potuto resistere alla voce che le venne dal paradiso diappena cessarono di farsi udire le trombe che avevan sonata la partenza d  un reggimento, un nuovo squillo dall  altra parte annunziava **terribilmente** l  arrivo di altra simile, anzi peggiore brigata."
      ],
      "text/plain": [
       "<IPython.core.display.Markdown object>"
      ]
     },
     "metadata": {},
     "output_type": "display_data"
    },
    {
     "data": {
      "text/markdown": [
       ", l  innominato pensò subito a rispondere a questa che s  era fatta lui stesso, o piuttosto quel nuovo lui, che cresciuto **terribilmente** a un tratto, sorgeva come a giudicare l  antico."
      ],
      "text/plain": [
       "<IPython.core.display.Markdown object>"
      ]
     },
     "metadata": {},
     "output_type": "display_data"
    },
    {
     "data": {
      "text/markdown": [
       "andava dunque cercando le ragioni per cui, prima quasi d  esser pregatoa porsi a canto una parete, tenendo colla destra il cane e il grilletto, colla sinistra la canna d  una sua carabina, **terribilmente** famosa al pari di lui."
      ],
      "text/plain": [
       "<IPython.core.display.Markdown object>"
      ]
     },
     "metadata": {},
     "output_type": "display_data"
    },
    {
     "data": {
      "text/markdown": [
       "batte **terribilmente** il messo della giustizia, più **terribilmente** il mio cuore."
      ],
      "text/plain": [
       "<IPython.core.display.Markdown object>"
      ]
     },
     "metadata": {},
     "output_type": "display_data"
    },
    {
     "data": {
      "text/markdown": [
       "qual cosa rompe l  aere silenzioso così forsennatamente squillante, così **terribilmente** selvaggio?"
      ],
      "text/plain": [
       "<IPython.core.display.Markdown object>"
      ]
     },
     "metadata": {},
     "output_type": "display_data"
    },
    {
     "data": {
      "text/markdown": [
       "quale di madre sul figlio colto da morte improvvisa, vanno quegli stridi al firmamento che si partono da un  che lo traggono a disperare, e l  altro che gli arresta la mano; tutta quella notte infine offrono un tal che di sì **terribilmente** vero, misterioso e solenne, che a noi sembra poco il dire che negli altri lavori di simil genere non v  ha brano che possache non credeva di poter più attenere, dove aveva tante volte fantasticato un avvenire, divenuto ora impossibile."
      ],
      "text/plain": [
       "<IPython.core.display.Markdown object>"
      ]
     },
     "metadata": {},
     "output_type": "display_data"
    },
    {
     "data": {
      "text/markdown": [
       "era **terribilmente** in forse di fermo: agnese non le aveva potuto dire se non quello ch  ella stessa sapeva confusamente; che fermo, cioè,di farsi udire le trombe che avevan sonata la partenza d  un reggimento, un nuovo squillo dall  altra parte annunziava **terribilmente** l  arrivo di altra simile, anzi peggiore brigata."
      ],
      "text/plain": [
       "<IPython.core.display.Markdown object>"
      ]
     },
     "metadata": {},
     "output_type": "display_data"
    },
    {
     "data": {
      "text/markdown": [
       "i sopravvegnenti, trovando la distruzione dove avrebbero volutocontegno sentiva talvolta orrore e disprezzo, ne riceveva una specie di scandalo; ma questi sentimenti ricadevano **terribilmente** su la sua coscienza, perchè ad ogni volta geltrude era costretta a ricordarsi che dessa era quella che aveva fatto far    urlò la duchessa."
      ],
      "text/plain": [
       "<IPython.core.display.Markdown object>"
      ]
     },
     "metadata": {},
     "output_type": "display_data"
    },
    {
     "data": {
      "text/markdown": [
       "qui la risposta è **terribilmente** facile e pronta: può perchè può."
      ],
      "text/plain": [
       "<IPython.core.display.Markdown object>"
      ]
     },
     "metadata": {},
     "output_type": "display_data"
    },
    {
     "data": {
      "text/markdown": [
       "la soluzione da taluni proposta concilia molte contrarietà, che la guerra non potrebbe se non più **terribilmente** aggravare."
      ],
      "text/plain": [
       "<IPython.core.display.Markdown object>"
      ]
     },
     "metadata": {},
     "output_type": "display_data"
    },
    {
     "data": {
      "text/markdown": [
       "; quell  intimazione del termine perentorio di tre dì, cui a tutta prima non aveva posto mente, ora le sconvolse l  animo **terribilmente** , ora che, misurate le distanze gli parve essere difficile che in tre giorni, senza una gran sollecitudine, ilse poi avesse saputo che il fossano era il marito di valenzia, che per lui era stato supplantato, che di presente trovavasi a venezia sulle traccie di quella ch  egli pure aveva potuto amare, chi può sapere fin dove mai sarebbe arrivato il suo sdegno?"
      ],
      "text/plain": [
       "<IPython.core.display.Markdown object>"
      ]
     },
     "metadata": {},
     "output_type": "display_data"
    },
    {
     "data": {
      "text/markdown": [
       "e di congiungerla al palavicino, tanto la prima che questa volta fece nascere in lei delle vaghe speranze, ella era così **terribilmente** oppressa, così insopportabile era la ragione di sua vita, che non le parea vero non volesse iddio prepararle unegli era, senza misura, assai più infelice."
      ],
      "text/plain": [
       "<IPython.core.display.Markdown object>"
      ]
     },
     "metadata": {},
     "output_type": "display_data"
    },
    {
     "data": {
      "text/markdown": [
       "il lautrec era **terribilmente** abbattuto."
      ],
      "text/plain": [
       "<IPython.core.display.Markdown object>"
      ]
     },
     "metadata": {},
     "output_type": "display_data"
    },
    {
     "data": {
      "text/markdown": [
       "ogni gioconda esaltazione era in lei cessata; le parole di manfredo la percossero **terribilmente** , quantunque non le potesse comprendere."
      ],
      "text/plain": [
       "<IPython.core.display.Markdown object>"
      ]
     },
     "metadata": {},
     "output_type": "display_data"
    },
    {
     "data": {
      "text/markdown": [
       "a un miglio dalle mura, pensò bene di liberarnelo, ma ebbe a sgomentarsi **terribilmente** , vedendo ch  esso era livido e non dava parole."
      ],
      "text/plain": [
       "<IPython.core.display.Markdown object>"
      ]
     },
     "metadata": {},
     "output_type": "display_data"
    },
    {
     "data": {
      "text/markdown": [
       "a poco a poco però rinvenne con indicibile contentezza del conteodioso, che ad arrovesciargli l  animo non v  era cosa più pronta che nominargli quel ma l  anno      fu per lui ben più **terribilmente** memorabile."
      ],
      "text/plain": [
       "<IPython.core.display.Markdown object>"
      ]
     },
     "metadata": {},
     "output_type": "display_data"
    },
    {
     "data": {
      "text/markdown": [
       "le nozze imminenti le richiamavano le prime, poi le seconde che s  erano tanto **terribilmente** interrotte; gl  insistenti rimorsi, come da lontano, facevano sentire la loro voce; il timore del lautrec tornava adimenticherò mai."
      ],
      "text/plain": [
       "<IPython.core.display.Markdown object>"
      ]
     },
     "metadata": {},
     "output_type": "display_data"
    },
    {
     "data": {
      "text/markdown": [
       "e quello del medico, corrucciato prima **terribilmente** , poscia d  un subito rassegnato:  pur troppo!"
      ],
      "text/plain": [
       "<IPython.core.display.Markdown object>"
      ]
     },
     "metadata": {},
     "output_type": "display_data"
    },
    {
     "data": {
      "text/markdown": [
       "poich tutto vuoi sapere, ti dir tutto; e giudicherai se la mia posizione non sia **terribilmente** dolorosa, se io non m abbia ragione d essere stanco della vita!"
      ],
      "text/plain": [
       "<IPython.core.display.Markdown object>"
      ]
     },
     "metadata": {},
     "output_type": "display_data"
    },
    {
     "data": {
      "text/markdown": [
       "infelicissimo, **terribilmente** doloroso il primo."
      ],
      "text/plain": [
       "<IPython.core.display.Markdown object>"
      ]
     },
     "metadata": {},
     "output_type": "display_data"
    },
    {
     "data": {
      "text/markdown": [
       "lo squassa **terribilmente** ."
      ],
      "text/plain": [
       "<IPython.core.display.Markdown object>"
      ]
     },
     "metadata": {},
     "output_type": "display_data"
    },
    {
     "data": {
      "text/markdown": [
       "imprecò **terribilmente** ugo."
      ],
      "text/plain": [
       "<IPython.core.display.Markdown object>"
      ]
     },
     "metadata": {},
     "output_type": "display_data"
    },
    {
     "data": {
      "text/markdown": [
       "ma si scosse **terribilmente** quando poté avere un punto d  appoggio sullo straniero, come vedremo in seguito."
      ],
      "text/plain": [
       "<IPython.core.display.Markdown object>"
      ]
     },
     "metadata": {},
     "output_type": "display_data"
    },
    {
     "data": {
      "text/markdown": [
       "cercando di ridurmi a mente gli oggetti che contenevano le carte sequestrate, fui **terribilmente** addolorato quando mi sovvenne che in roma nel     , quando successero gli sconvolgimenti di vienna, io d  accordo conavvelenatore fu inforcato sul discendente di mida, che esaltato dal chiasso della moltitudine si accinse a ragliare spaventosamente ad edificazione e divertimento massimo dei monelli, che per compire l  opera regalavano il prete con tomatesi, radicicredevasi, era sulle mosse per ritornarsene a roma, quando un fatto per sé stesso non grave cambiò d  improvviso e **terribilmente** la condizione delle cose."
      ],
      "text/plain": [
       "<IPython.core.display.Markdown object>"
      ]
     },
     "metadata": {},
     "output_type": "display_data"
    },
    {
     "data": {
      "text/markdown": [
       "né qui è tutto  continuò il vecchio corrugando **terribilmente** la fronte;  quel demonio trasse fuori di tasca una funicella e colla fredda e spietata tranquillità del carnefice che!"
      ],
      "text/plain": [
       "<IPython.core.display.Markdown object>"
      ]
     },
     "metadata": {},
     "output_type": "display_data"
    },
    {
     "data": {
      "text/markdown": [
       "e quello del medico , corrucciato prima **terribilmente** , poscia d   un subito rassegnato :   pur troppo !"
      ],
      "text/plain": [
       "<IPython.core.display.Markdown object>"
      ]
     },
     "metadata": {},
     "output_type": "display_data"
    },
    {
     "data": {
      "text/markdown": [
       "e udii storie pietose di domestici lutti incredibili e ignorati, perchè la mano di ferdinando ii arrivava **terribilmente** ove l  occhio sempre non arrivava."
      ],
      "text/plain": [
       "<IPython.core.display.Markdown object>"
      ]
     },
     "metadata": {},
     "output_type": "display_data"
    },
    {
     "data": {
      "text/markdown": [
       "la lettera mi lasciò sconcertata e disgustata, così mi parve volgare; ma poi, nel tornarvi su, a poco a poco mi persuasi che il tono in cui era scritta fosse affettatamente leggiero e gaio, e che l amante avesse fatto un crudele, ma nobilissimo sforzo nel contenere l impeto del suo cuore, tanto per non gettare nuova esca nella mia passione, che era già un incendio, e per quietarmi un poco l animo, ch egli sapeva **terribilmente** ansioso."
      ],
      "text/plain": [
       "<IPython.core.display.Markdown object>"
      ]
     },
     "metadata": {},
     "output_type": "display_data"
    },
    {
     "data": {
      "text/markdown": [
       "il prete pigliò la lettera, la guardò; le dita gli bruciavano, le mani gli tremavano; una visione **terribilmente** allettevole di donna mezza nuda gli passò nella fantasia, e gli parve di udire nelle orecchie l eco seducente e paurosa di una voce che bisbigliasse: datemi il vostro amore, don giuseppe, il vostro amore!"
      ],
      "text/plain": [
       "<IPython.core.display.Markdown object>"
      ]
     },
     "metadata": {},
     "output_type": "display_data"
    },
    {
     "data": {
      "text/markdown": [
       "è l angelo buono   mormorò, e questo pensiero gli richiamò nella fantasia con la rapidità del fulmine l angelo cattivo, il demonio **terribilmente** bello: allora, scoperto dal drappo verde sdruscito il volto sanguinoso del cristo che teneva sotto l ascella, gli impresse un bacio disperato, come se invocasse da quel legno la propria salvezza."
      ],
      "text/plain": [
       "<IPython.core.display.Markdown object>"
      ]
     },
     "metadata": {},
     "output_type": "display_data"
    },
    {
     "data": {
      "text/markdown": [
       "la lettera mi lasciò sconcertata e disgustata, così mi parve volgare; ma poi, nel tornarvi su, a poco a poco mi persuasi che il tono in cui era scritta fosse affettatamente leggiero e gaio, e che l amante avesse fatto un crudele, ma nobilissimo sforzo nel contenere l impeto del suo cuore, tanto per non gettare nuova esca nella mia passione, che era già un incendio, e per quietarmi un poco l animo, ch egli sapeva **terribilmente** ansioso."
      ],
      "text/plain": [
       "<IPython.core.display.Markdown object>"
      ]
     },
     "metadata": {},
     "output_type": "display_data"
    },
    {
     "data": {
      "text/markdown": [
       "alla sera di quel giorno memorabile , il signor damelli , **terribilmente** imbrogliato e coll   aria d   un cane che ha lasciata scappar la lepre , si presentò al cospetto del signor duca ."
      ],
      "text/plain": [
       "<IPython.core.display.Markdown object>"
      ]
     },
     "metadata": {},
     "output_type": "display_data"
    },
    {
     "data": {
      "text/markdown": [
       "ora , la semplicità nella donna , era cosa affatto nuova per giuliano ; egli la confondeva facilmente colla povertà e mentre trovava che l   amore d   una cara e ingenua donnina era pur qualcosa di **terribilmente** elementare , non gli veniva mai la voglia o la curiosità di studiare le profondità possibili e i probabili congegni di questo sentimento elementare ."
      ],
      "text/plain": [
       "<IPython.core.display.Markdown object>"
      ]
     },
     "metadata": {},
     "output_type": "display_data"
    },
    {
     "data": {
      "text/markdown": [
       "milla era **terribilmente** impacciata nella sua lunghissima gonnella di amazzone , e non sapeva raccapezzarsi in nulla ."
      ],
      "text/plain": [
       "<IPython.core.display.Markdown object>"
      ]
     },
     "metadata": {},
     "output_type": "display_data"
    },
    {
     "data": {
      "text/markdown": [
       "aveva in piedi le sue scarpettine scollate e portava la testa ritta e impalata, perch il fazzoletto da collo, moltissimo inamidato, gli segava **terribilmente** la gola."
      ],
      "text/plain": [
       "<IPython.core.display.Markdown object>"
      ]
     },
     "metadata": {},
     "output_type": "display_data"
    },
    {
     "data": {
      "text/markdown": [
       "la sola religione potè indurre questa a non negarle soccorso; ma era uno sforzo di virtù, a cui il cuore **terribilmente** ripugnava, e il beneficio stesso, fatto senza affetto, senza nessuna compassione, diveniva tanto amaro, che parevanella sua camera, quelle robe di lei le stavano lì negli occhi come un vivente rimorso, e le facevano passare le notti **terribilmente** insonni."
      ],
      "text/plain": [
       "<IPython.core.display.Markdown object>"
      ]
     },
     "metadata": {},
     "output_type": "display_data"
    },
    {
     "data": {
      "text/markdown": [
       "certo, la era **terribilmente** pallida ed il solo vederla avrebbe provato come il suo cuore fosse ormai familiare ad ogni maniera di affanno."
      ],
      "text/plain": [
       "<IPython.core.display.Markdown object>"
      ]
     },
     "metadata": {},
     "output_type": "display_data"
    },
    {
     "data": {
      "text/markdown": [
       "otello  ergendosi e rivolto alla folla, **terribilmente**   fuggite!"
      ],
      "text/plain": [
       "<IPython.core.display.Markdown object>"
      ]
     },
     "metadata": {},
     "output_type": "display_data"
    },
    {
     "data": {
      "text/markdown": [
       "anzi il nostro scrooge , che per verità il triste evento non aveva fatto **terribilmente** spasimare , si mostrò sottile uomo d   affari il giorno stesso dei funerali e lo solennizzò con un negozio co   fiocchi ."
      ],
      "text/plain": [
       "<IPython.core.display.Markdown object>"
      ]
     },
     "metadata": {},
     "output_type": "display_data"
    },
    {
     "data": {
      "text/markdown": [
       "udendo queste parole , lo spettro mise un altro strido e così **terribilmente** fece suonar la catena nel silenzio della notte , che la guardia avrebbe avuto ragione di multarlo come disturbatore notturno ."
      ],
      "text/plain": [
       "<IPython.core.display.Markdown object>"
      ]
     },
     "metadata": {},
     "output_type": "display_data"
    },
    {
     "data": {
      "text/markdown": [
       "indietreggiò dal terrore , perché la scena era mutata ed ei toccava quasi un letto , un letto nudo , senza cortinaggio , sul quale , sotto un lenzuolo sdrucito , giaceva qualche cosa d   avviluppato , il cui silenzio stesso parlava **terribilmente** ."
      ],
      "text/plain": [
       "<IPython.core.display.Markdown object>"
      ]
     },
     "metadata": {},
     "output_type": "display_data"
    },
    {
     "data": {
      "text/markdown": [
       "io era **terribilmente** triste."
      ],
      "text/plain": [
       "<IPython.core.display.Markdown object>"
      ]
     },
     "metadata": {},
     "output_type": "display_data"
    },
    {
     "data": {
      "text/markdown": [
       "ma la corda penetrava nella carne ai polsi e martorizzava **terribilmente** le cavicchie."
      ],
      "text/plain": [
       "<IPython.core.display.Markdown object>"
      ]
     },
     "metadata": {},
     "output_type": "display_data"
    },
    {
     "data": {
      "text/markdown": [
       "dopo aver **terribilmente** chiusi i denti fino a smussarli, egli aperse la bocca come un antro."
      ],
      "text/plain": [
       "<IPython.core.display.Markdown object>"
      ]
     },
     "metadata": {},
     "output_type": "display_data"
    },
    {
     "data": {
      "text/markdown": [
       "sergio la seguì degli occhi, aggrottando **terribilmente** le sopracciglia, e sclamò lentamente:   se avessi potuto dubitare ancora, questa parola sarebbe bastata peranzitutto."
      ],
      "text/plain": [
       "<IPython.core.display.Markdown object>"
      ]
     },
     "metadata": {},
     "output_type": "display_data"
    },
    {
     "data": {
      "text/markdown": [
       "essi non ignoravano i rumori che correvano sull  assassinio della contessa, gli ordini di francesco iv sì **terribilmente** motivati."
      ],
      "text/plain": [
       "<IPython.core.display.Markdown object>"
      ]
     },
     "metadata": {},
     "output_type": "display_data"
    },
    {
     "data": {
      "text/markdown": [
       "diede in un grido ed accompagnata dai vicini che le facevano visita, si avanzò verso il rabbì che mi parve **terribilmente** preoccupato."
      ],
      "text/plain": [
       "<IPython.core.display.Markdown object>"
      ]
     },
     "metadata": {},
     "output_type": "display_data"
    },
    {
     "data": {
      "text/markdown": [
       "incontravo sui margini delle strade dei gruppi di giovani, che ritornavano dall  esercito, laceri, dimagriti, **terribilmente** consumati dalla febbre, tremanti sotto un sole pesante, denso, giallastro, che divorava tutto ciò che toccava,cacciatore li avesse stanati e non uccisi."
      ],
      "text/plain": [
       "<IPython.core.display.Markdown object>"
      ]
     },
     "metadata": {},
     "output_type": "display_data"
    },
    {
     "data": {
      "text/markdown": [
       "arrivavano dunque **terribilmente** affamati ed esasperati da un digiuno di due mesi."
      ],
      "text/plain": [
       "<IPython.core.display.Markdown object>"
      ]
     },
     "metadata": {},
     "output_type": "display_data"
    },
    {
     "data": {
      "text/markdown": [
       "la sua fanciullezza abbandonata le si aggravava sul cuore **terribilmente** , coi piú vivi particolari , rimescolandola tutta ."
      ],
      "text/plain": [
       "<IPython.core.display.Markdown object>"
      ]
     },
     "metadata": {},
     "output_type": "display_data"
    },
    {
     "data": {
      "text/markdown": [
       "lottava dentro di sé , **terribilmente** ."
      ],
      "text/plain": [
       "<IPython.core.display.Markdown object>"
      ]
     },
     "metadata": {},
     "output_type": "display_data"
    },
    {
     "data": {
      "text/markdown": [
       "e mentre la gentile figura d   elvira gli sorrideva pietosamente nella fantasia , come una bella visione inondata di mite luce argentea , ecco l   altra , quella di giacinta , che gli si piantava di faccia , muta , senza un gesto , **terribilmente** irta di rimproveri     che colpa n   aveva lui ?"
      ],
      "text/plain": [
       "<IPython.core.display.Markdown object>"
      ]
     },
     "metadata": {},
     "output_type": "display_data"
    },
    {
     "data": {
      "text/markdown": [
       "alzando il capo, vidi nel vano della porta pilato in piedi, gli occhi fissi e divaricati, **terribilmente** pallido, immobile."
      ],
      "text/plain": [
       "<IPython.core.display.Markdown object>"
      ]
     },
     "metadata": {},
     "output_type": "display_data"
    },
    {
     "data": {
      "text/markdown": [
       "quando il suo liberto spagnuolo venne ad annunziargli che sua moglie toccava le mura di gerusalemme, pilato era **terribilmente** occupato."
      ],
      "text/plain": [
       "<IPython.core.display.Markdown object>"
      ]
     },
     "metadata": {},
     "output_type": "display_data"
    },
    {
     "data": {
      "text/markdown": [
       "eravamo scossi **terribilmente** ."
      ],
      "text/plain": [
       "<IPython.core.display.Markdown object>"
      ]
     },
     "metadata": {},
     "output_type": "display_data"
    },
    {
     "data": {
      "text/markdown": [
       "il suo naso **terribilmente** rosso  diventava un carbone infiammato per beatitudine."
      ],
      "text/plain": [
       "<IPython.core.display.Markdown object>"
      ]
     },
     "metadata": {},
     "output_type": "display_data"
    },
    {
     "data": {
      "text/markdown": [
       "essi erano già stati **terribilmente** trattati al concilio di reims       , in cui s. bernardo, divinamente feroce, aveva fatto condannare gilberto de lail dottor nubo entrò allora nel salone e venne a salutare il duca."
      ],
      "text/plain": [
       "<IPython.core.display.Markdown object>"
      ]
     },
     "metadata": {},
     "output_type": "display_data"
    },
    {
     "data": {
      "text/markdown": [
       ", a sua volta, anch  essa in furore, si metteva in moto di un sol pezzo, di un sol tratto, brontolava sordamente e poi **terribilmente** , si screpolava, si fiaccava, e delle montagne, sollevate dalle onde, portate sul loro dorso, solcavano lo spazio,seguì fra lei e suo marito dopo la mia partenza, mi disse, che da quella sera pilato era divenuto invisibile e sembrava orribilmente triste."
      ],
      "text/plain": [
       "<IPython.core.display.Markdown object>"
      ]
     },
     "metadata": {},
     "output_type": "display_data"
    },
    {
     "data": {
      "text/markdown": [
       "lì, una siepe spessa, **terribilmente** irta di ronchi, mi concesse un ricovero."
      ],
      "text/plain": [
       "<IPython.core.display.Markdown object>"
      ]
     },
     "metadata": {},
     "output_type": "display_data"
    },
    {
     "data": {
      "text/markdown": [
       "il cronometro del sergente è **terribilmente** in ritardo."
      ],
      "text/plain": [
       "<IPython.core.display.Markdown object>"
      ]
     },
     "metadata": {},
     "output_type": "display_data"
    },
    {
     "data": {
      "text/markdown": [
       "nota per l edizione elettronica manuzio  di cose durò fino all  anno     , nel quale gli abati, sino allora arbitri della forza e giurisdizione feudale, e di essa **terribilmente** armati, perdettero anche questo diritto."
      ],
      "text/plain": [
       "<IPython.core.display.Markdown object>"
      ]
     },
     "metadata": {},
     "output_type": "display_data"
    },
    {
     "data": {
      "text/markdown": [
       "quell  uomo era il nembo che si condensa per esplodere **terribilmente** ."
      ],
      "text/plain": [
       "<IPython.core.display.Markdown object>"
      ]
     },
     "metadata": {},
     "output_type": "display_data"
    },
    {
     "data": {
      "text/markdown": [
       "poichè tutto vuoi sapere, ti dirò tutto; e giudicherai se la mia posizione non sia **terribilmente** dolorosa, se io non m  abbia ragione d  essere stanco della vita!"
      ],
      "text/plain": [
       "<IPython.core.display.Markdown object>"
      ]
     },
     "metadata": {},
     "output_type": "display_data"
    },
    {
     "data": {
      "text/markdown": [
       "e così è tolta via anche l obiezione **terribilmente** speciosa, mossa contro il positivismo dai metafisici; i quali argomentano dal principio, che all atto morale è essenziale il carattere della responsabilità."
      ],
      "text/plain": [
       "<IPython.core.display.Markdown object>"
      ]
     },
     "metadata": {},
     "output_type": "display_data"
    },
    {
     "data": {
      "text/markdown": [
       "la leonessa ferita ruggì **terribilmente** , e tutta l  assemblea mascolina n  ebbe terrore."
      ],
      "text/plain": [
       "<IPython.core.display.Markdown object>"
      ]
     },
     "metadata": {},
     "output_type": "display_data"
    },
    {
     "data": {
      "text/markdown": [
       "la giornata, dice egli, era **terribilmente** calda, e nello attraversare i boschi ogni cosa era immobile, tranne le grandi e splendide farfalle che svolazzavanoil quale, lieto di essere stato così bene compreso, continuava:  sì, ma qui s  avrà a fare con volpi vecchie: gente da toga e da spada, scaltriti a segno da negare i fatti più evidenti."
      ],
      "text/plain": [
       "<IPython.core.display.Markdown object>"
      ]
     },
     "metadata": {},
     "output_type": "display_data"
    },
    {
     "data": {
      "text/markdown": [
       "de medici, deplorando le vittorie de   turchi, la perdita dell  ungheria, i pericoli d  italia e francia quando **terribilmente** armavansi quei nemici, intanto che i cristiani compiaceansi della ruina uno dell  altro."
      ],
      "text/plain": [
       "<IPython.core.display.Markdown object>"
      ]
     },
     "metadata": {},
     "output_type": "display_data"
    },
    {
     "data": {
      "text/markdown": [
       "la furia della guerra, cantata nella georgica di virgilio in modo così **terribilmente** bello, imperversò ancora sulla terra dopo la morte di cesare; poi il tempio di giano chiuse le porte per molto tempo.rivoluzionarie."
      ],
      "text/plain": [
       "<IPython.core.display.Markdown object>"
      ]
     },
     "metadata": {},
     "output_type": "display_data"
    },
    {
     "data": {
      "text/markdown": [
       "era riserbato al bonapartismo di oscurare tutti i predecessori, e di illustrare così **terribilmente** alla democrazia l  effetto a due tagli del suffragio universale, che il ministro repubblicano carnot dovè confessarecontro al secolo, il secolo ha vinto ."
      ],
      "text/plain": [
       "<IPython.core.display.Markdown object>"
      ]
     },
     "metadata": {},
     "output_type": "display_data"
    },
    {
     "data": {
      "text/markdown": [
       "dalla onesta indignazione della nessuna libertà dello stato; dalla brama inarrestabilepiù risibile della storia francese, a spazzare adunque gli ultimi rottami del secondo impero: sotto i nostri occhi si è **terribilmente** adempiuta la parola ammonitrice, che francesi di alto animo avevano da anni rivolta ai propri compatrioti: la francia,  disse il cappellaio,  che la regina proruppe furiosa,   egli sta assassinando il tempo!"
      ],
      "text/plain": [
       "<IPython.core.display.Markdown object>"
      ]
     },
     "metadata": {},
     "output_type": "display_data"
    },
    {
     "data": {
      "text/markdown": [
       "**terribilmente** feroce!"
      ],
      "text/plain": [
       "<IPython.core.display.Markdown object>"
      ]
     },
     "metadata": {},
     "output_type": "display_data"
    },
    {
     "data": {
      "text/markdown": [
       "quando però le vedeva piangere e **terribilmente** soffrire per le ansietà di un pericolo che le teneva sospese tra la vita e la morte e poteva produrre, tutt a un tratto, una terribile catastrofe da coinvolgere nella rovina parecchie persone   marito, figli, parenti   allora non poteva più ostinarsi a non credere."
      ],
      "text/plain": [
       "<IPython.core.display.Markdown object>"
      ]
     },
     "metadata": {},
     "output_type": "display_data"
    },
    {
     "data": {
      "text/markdown": [
       "no, no: si affrettò a gridare l  la afferrò alle braccia, le serrò i polsi e scuotendola senza un riguardo, ruggì, accostando a quello di lei il suo volto **terribilmente** impresso dall  ira:   sciagurata!"
      ],
      "text/plain": [
       "<IPython.core.display.Markdown object>"
      ]
     },
     "metadata": {},
     "output_type": "display_data"
    },
    {
     "data": {
      "text/markdown": [
       "urlò **terribilmente** , o ch  io non mi trattengo più, e lo schiaccio come un verme."
      ],
      "text/plain": [
       "<IPython.core.display.Markdown object>"
      ]
     },
     "metadata": {},
     "output_type": "display_data"
    },
    {
     "data": {
      "text/markdown": [
       "ma egli era **terribilmente** , dolorosamente geloso di quanti accostassero la ragazza e paressero non tornarle sgraditi."
      ],
      "text/plain": [
       "<IPython.core.display.Markdown object>"
      ]
     },
     "metadata": {},
     "output_type": "display_data"
    },
    {
     "data": {
      "text/markdown": [
       "era sì **terribilmente** turbato che lisa comprese di botto una suprema sciagura essere avvenuta; venne innanzi al padre bianca più chepochi giorni soltanto, e poi potrò agire: lo sento, lo voglio."
      ],
      "text/plain": [
       "<IPython.core.display.Markdown object>"
      ]
     },
     "metadata": {},
     "output_type": "display_data"
    },
    {
     "data": {
      "text/markdown": [
       "in quella entrava il vecchio rigattiere ebreo, la faccia **terribilmente** sconvolta; stampata entro la mente l  immagine del volto di sua figlia annegata che aveva visto poc  anzi."
      ],
      "text/plain": [
       "<IPython.core.display.Markdown object>"
      ]
     },
     "metadata": {},
     "output_type": "display_data"
    },
    {
     "data": {
      "text/markdown": [
       "barnabaun testo, sul proprio cuore dei giuranti come legge un altro; e dopo aver tutte in un fascio strette le mani ai discepoli, **terribilmente** prorompe con quella spaventosa imprecazione con cui i leviti sulla montagna di ebal dovevano la vendetta di dioocchi dei popoli vinti."
      ],
      "text/plain": [
       "<IPython.core.display.Markdown object>"
      ]
     },
     "metadata": {},
     "output_type": "display_data"
    },
    {
     "data": {
      "text/markdown": [
       "alla generosa apologia tace r. iosè, ma simone favella, anzi simone rugge, simone tuona e come **terribilmente** !"
      ],
      "text/plain": [
       "<IPython.core.display.Markdown object>"
      ]
     },
     "metadata": {},
     "output_type": "display_data"
    }
   ],
   "source": [
    "res4 = find_sentences_with_keyword(document4, 'terribilmente')"
   ]
  },
  {
   "cell_type": "code",
   "execution_count": 30,
   "id": "ca5fce19",
   "metadata": {},
   "outputs": [
    {
     "data": {
      "text/html": [
       "<div>\n",
       "<style scoped>\n",
       "    .dataframe tbody tr th:only-of-type {\n",
       "        vertical-align: middle;\n",
       "    }\n",
       "\n",
       "    .dataframe tbody tr th {\n",
       "        vertical-align: top;\n",
       "    }\n",
       "\n",
       "    .dataframe thead th {\n",
       "        text-align: right;\n",
       "    }\n",
       "</style>\n",
       "<table border=\"1\" class=\"dataframe\">\n",
       "  <thead>\n",
       "    <tr style=\"text-align: right;\">\n",
       "      <th></th>\n",
       "      <th>sentences</th>\n",
       "    </tr>\n",
       "  </thead>\n",
       "  <tbody>\n",
       "    <tr>\n",
       "      <th>0</th>\n",
       "      <td>ma ciò posto ed eccettuato francamente, ed ecc...</td>\n",
       "    </tr>\n",
       "    <tr>\n",
       "      <th>1</th>\n",
       "      <td>uno mostra con aria addolorata la guancia, che...</td>\n",
       "    </tr>\n",
       "    <tr>\n",
       "      <th>2</th>\n",
       "      <td>ma la mia gioia fu presto scemata, vedendo l a...</td>\n",
       "    </tr>\n",
       "    <tr>\n",
       "      <th>3</th>\n",
       "      <td>egli morde terribilmente all amo e fa delle ve...</td>\n",
       "    </tr>\n",
       "    <tr>\n",
       "      <th>4</th>\n",
       "      <td>i delitti che avevano disonorato il procelloso...</td>\n",
       "    </tr>\n",
       "  </tbody>\n",
       "</table>\n",
       "</div>"
      ],
      "text/plain": [
       "                                           sentences\n",
       "0  ma ciò posto ed eccettuato francamente, ed ecc...\n",
       "1  uno mostra con aria addolorata la guancia, che...\n",
       "2  ma la mia gioia fu presto scemata, vedendo l a...\n",
       "3  egli morde terribilmente all amo e fa delle ve...\n",
       "4  i delitti che avevano disonorato il procelloso..."
      ]
     },
     "execution_count": 30,
     "metadata": {},
     "output_type": "execute_result"
    }
   ],
   "source": [
    "res4.head()"
   ]
  },
  {
   "cell_type": "code",
   "execution_count": 32,
   "id": "39f095db",
   "metadata": {},
   "outputs": [
    {
     "data": {
      "text/plain": [
       "(110, 1)"
      ]
     },
     "execution_count": 32,
     "metadata": {},
     "output_type": "execute_result"
    }
   ],
   "source": [
    "res4.shape"
   ]
  },
  {
   "cell_type": "markdown",
   "id": "498bc5a6",
   "metadata": {},
   "source": [
    "### Zeitraum 5: 1901-1950"
   ]
  },
  {
   "cell_type": "code",
   "execution_count": 33,
   "id": "db609ce8",
   "metadata": {},
   "outputs": [],
   "source": [
    "text5 = ''\n",
    "for i in df5.cleaned_text:\n",
    "    text5 += i"
   ]
  },
  {
   "cell_type": "code",
   "execution_count": 34,
   "id": "ac5570fd",
   "metadata": {},
   "outputs": [],
   "source": [
    "document5 = nltk.sent_tokenize(text5)"
   ]
  },
  {
   "cell_type": "code",
   "execution_count": 35,
   "id": "60a199df",
   "metadata": {},
   "outputs": [
    {
     "data": {
      "text/markdown": [
       ", sebbene inclinasse ai monarchiani, trovò una formola di conciliazione che non accontentò i partiti rivali, ma che, **terribilmente** oscura e tutta composta di frasi contradditorie, pose il mistero e l  incomprensibile come elementi essenziali dellaintiera la figura enigmatica di giuliano e di rappresentarla sotto i suoi vari aspetti, finora non esiste ."
      ],
      "text/plain": [
       "<IPython.core.display.Markdown object>"
      ]
     },
     "metadata": {},
     "output_type": "display_data"
    },
    {
     "data": {
      "text/markdown": [
       "nel suo fantastico pensiero ognisuo fondatore, era la pura espressione di un sentimento morale, l  aspirazione ad un ideale di giustizia, una protesta **terribilmente** eloquente nella sua mitezza contro le iniquità del mondo."
      ],
      "text/plain": [
       "<IPython.core.display.Markdown object>"
      ]
     },
     "metadata": {},
     "output_type": "display_data"
    },
    {
     "data": {
      "text/markdown": [
       "ma come è drammatico ed interessante l  incontro, nella scuola di atene, di questi due giovani, destinati a diventare **terribilmente** nemici l  uno dell  altro, e che già si spiavano a vicenda con quell  acume che dà l  odio istintivo."
      ],
      "text/plain": [
       "<IPython.core.display.Markdown object>"
      ]
     },
     "metadata": {},
     "output_type": "display_data"
    },
    {
     "data": {
      "text/markdown": [
       "approvo anchio, per quanto una colazione fatta insieme renda **terribilmente** borghese linizio di unamicizia come la nostra."
      ],
      "text/plain": [
       "<IPython.core.display.Markdown object>"
      ]
     },
     "metadata": {},
     "output_type": "display_data"
    },
    {
     "data": {
      "text/markdown": [
       "oreste rimarrebbe **terribilmente** sconcertato da quel buco nel cielo."
      ],
      "text/plain": [
       "<IPython.core.display.Markdown object>"
      ]
     },
     "metadata": {},
     "output_type": "display_data"
    },
    {
     "data": {
      "text/markdown": [
       "a un tratto, la contessa si fece **terribilmente** pallida."
      ],
      "text/plain": [
       "<IPython.core.display.Markdown object>"
      ]
     },
     "metadata": {},
     "output_type": "display_data"
    },
    {
     "data": {
      "text/markdown": [
       "i capricci, sopra le tendine, sono di forma indescrivibile, e fanno **terribilmente** a pugni con tutto il resto."
      ],
      "text/plain": [
       "<IPython.core.display.Markdown object>"
      ]
     },
     "metadata": {},
     "output_type": "display_data"
    },
    {
     "data": {
      "text/markdown": [
       "aggrappati a sporgenze rocciose quasi impercettibili, sospesi a mezza costa con un abisso sul capo ed uno ai piedi, **terribilmente** pittoreschi, dei quali l  estate nasconde il miserrimo aspetto e l  inverno rivela l  esistenza sempre pericolante.madama blanche, che aveva mangiata subito la foglia, accettava quella corte di ripiego con molta ironía."
      ],
      "text/plain": [
       "<IPython.core.display.Markdown object>"
      ]
     },
     "metadata": {},
     "output_type": "display_data"
    },
    {
     "data": {
      "text/markdown": [
       "ma doveva essere **terribilmente** tragica la condizione del forte negli ultimi giorni, quando già erano stati costretti a levar via la più parte dei  cavalli!"
      ],
      "text/plain": [
       "<IPython.core.display.Markdown object>"
      ]
     },
     "metadata": {},
     "output_type": "display_data"
    },
    {
     "data": {
      "text/markdown": [
       "con un impeto irresistibile sandokan s era gettato in mezzo alle file sciabolandole **terribilmente** e scompaginandole."
      ],
      "text/plain": [
       "<IPython.core.display.Markdown object>"
      ]
     },
     "metadata": {},
     "output_type": "display_data"
    },
    {
     "data": {
      "text/markdown": [
       "cavalieri, condotti dal vecchio abu ben gileli, il caid delle cinquanta bastonate, il quale mi lancia uno sguardo **terribilmente** espressivo rasente la schiena."
      ],
      "text/plain": [
       "<IPython.core.display.Markdown object>"
      ]
     },
     "metadata": {},
     "output_type": "display_data"
    },
    {
     "data": {
      "text/markdown": [
       "ma la signorina lo rimbeccava **terribilmente** ."
      ],
      "text/plain": [
       "<IPython.core.display.Markdown object>"
      ]
     },
     "metadata": {},
     "output_type": "display_data"
    },
    {
     "data": {
      "text/markdown": [
       "si servivano anche **terribilmente** delle pietre, facendole franare dai monti; pochi uomini robusti, appoggiando le spalle e i gomiti alla roccia, eoggi sono andato fuori, la prima volta dopo tanti giorni, per far qualche visita; lento, a piccoli passi, col mio bastoncino di città, rinunziando alle mie mazze babilonesi di ridicola e dolorosa memoria, facendomi più debole di quello che veramente io non sia, e fermandomi volentieri ad ogni svolta della strada campestre."
      ],
      "text/plain": [
       "<IPython.core.display.Markdown object>"
      ]
     },
     "metadata": {},
     "output_type": "display_data"
    },
    {
     "data": {
      "text/markdown": [
       "è stata una colpa; ma l  ho espiata con lunghi dolori; la espio **terribilmente** adesso, nella vergogna che mi assale e mi ricopre davanti a voi."
      ],
      "text/plain": [
       "<IPython.core.display.Markdown object>"
      ]
     },
     "metadata": {},
     "output_type": "display_data"
    },
    {
     "data": {
      "text/markdown": [
       "e il suo pensiero tornava a loris, **terribilmente** bello in quella caverna, quando le aveva gettato addosso topine, e più **terribilmente** cattivo dopo con quel sorriso die così fu: dalla commedia di boulanger al dramma di dreyfus sino alla farsa di deroulède, ogni tentativo fini egualmente nel ridicolo: i pretendenti apparivano anche minori dei propri partigiani, e in questi la passione dell  avventura non bastava più ad improvvisare il coraggio della ribellione e la fede della propaganda."
      ],
      "text/plain": [
       "<IPython.core.display.Markdown object>"
      ]
     },
     "metadata": {},
     "output_type": "display_data"
    },
    {
     "data": {
      "text/markdown": [
       "uscite, lee il suo pensiero tornava a loris, **terribilmente** bello in quella caverna, quando le aveva gettato addosso topine, e più **terribilmente** cattivo dopo con quel sorriso di scherno."
      ],
      "text/plain": [
       "<IPython.core.display.Markdown object>"
      ]
     },
     "metadata": {},
     "output_type": "display_data"
    },
    {
     "data": {
      "text/markdown": [
       "la propria parte di signore, parve giganteggiare fra le massime figure del tempo, tra i visconti e gli scaligeri, così **terribilmente** trionfanti nella storica realtà."
      ],
      "text/plain": [
       "<IPython.core.display.Markdown object>"
      ]
     },
     "metadata": {},
     "output_type": "display_data"
    },
    {
     "data": {
      "text/markdown": [
       "l  antica italia dei guelfi e dei ghibellini, così inesaustamente e **terribilmente** guerriera, non era certo riconoscibile in questa ultima italia di cavalieri serventi e di eserciti inservibili, ovela pubblica opinione giudicò che tutta la colpa fosse sua, ma non seppe di essere corsa sino alla guerra se non quando il pericolo ne fu passato."
      ],
      "text/plain": [
       "<IPython.core.display.Markdown object>"
      ]
     },
     "metadata": {},
     "output_type": "display_data"
    },
    {
     "data": {
      "text/markdown": [
       "già a pietroburgo, ripresa dal bisogno di vivere e di brillare dopo quella lunga solitudine nel castello, ove si era **terribilmente** annoiata."
      ],
      "text/plain": [
       "<IPython.core.display.Markdown object>"
      ]
     },
     "metadata": {},
     "output_type": "display_data"
    },
    {
     "data": {
      "text/markdown": [
       "finalmente dietro l  austria stava l  europa monarchica vigile ed ostile ad ogni mena di rivoluzione, **terribilmente** armata e pronta a qualunque eccesso."
      ],
      "text/plain": [
       "<IPython.core.display.Markdown object>"
      ]
     },
     "metadata": {},
     "output_type": "display_data"
    },
    {
     "data": {
      "text/markdown": [
       "egli vedeva sempre il principe, ritto colla faccia gialla di malato **terribilmente** immobile, girare uno sguardo su tutti quegli invitati contandoli; quanti erano?"
      ],
      "text/plain": [
       "<IPython.core.display.Markdown object>"
      ]
     },
     "metadata": {},
     "output_type": "display_data"
    },
    {
     "data": {
      "text/markdown": [
       "il suo volto era **terribilmente** livido; ella balzò in piedi arretrando e questo atto la tradì."
      ],
      "text/plain": [
       "<IPython.core.display.Markdown object>"
      ]
     },
     "metadata": {},
     "output_type": "display_data"
    },
    {
     "data": {
      "text/markdown": [
       "loris rosso, grondante di sudore, colla lanterna, che gli riverberava sul volto, le parve **terribilmente** sinistro."
      ],
      "text/plain": [
       "<IPython.core.display.Markdown object>"
      ]
     },
     "metadata": {},
     "output_type": "display_data"
    },
    {
     "data": {
      "text/markdown": [
       "la figura del suo principe **terribilmente** sinistra, impassibile e serena, ha sulla fronte i vapori luminosi di un sogno  costituire uno stato nazionale,  ha voluto proprio disturbarsi a fare questa gita."
      ],
      "text/plain": [
       "<IPython.core.display.Markdown object>"
      ]
     },
     "metadata": {},
     "output_type": "display_data"
    },
    {
     "data": {
      "text/markdown": [
       "mai un collo, nè due spalle più voluttuose, ma il seno abilmente impicciolito dal velo aveva ancora un  ampiezza **terribilmente** lasciva; ma la statura, il portamento, l  imperiale maestà del volto appena appena commosso la facevano un tipopalchetto, fosse entrata per arrestarla, ora che loris era fuori al sicuro?"
      ],
      "text/plain": [
       "<IPython.core.display.Markdown object>"
      ]
     },
     "metadata": {},
     "output_type": "display_data"
    },
    {
     "data": {
      "text/markdown": [
       "loris salvo, ella sarebbe morta per lui, **terribilmente** bella nella gloria di quell  attentato non riuscito, e nel silenzio sui propri complici, su lui, che la vendicherebbe.una pescivendola fra le rovine del foro romano."
      ],
      "text/plain": [
       "<IPython.core.display.Markdown object>"
      ]
     },
     "metadata": {},
     "output_type": "display_data"
    },
    {
     "data": {
      "text/markdown": [
       "la ho vista nuda e la sua nudità era allora **terribilmente** lasciva."
      ],
      "text/plain": [
       "<IPython.core.display.Markdown object>"
      ]
     },
     "metadata": {},
     "output_type": "display_data"
    },
    {
     "data": {
      "text/markdown": [
       "stavano sempre nella stessa attitudine, mimy sulle ginocchia di elisa, entrambe con un braccio intorno alla cintura: quella vestita di nero colla luce dell  ebbrezza nel volto ancora macilento dalle passioni della notte e, in tale contrasto, stupendo; questa chiusa in una ricca vesta da camera bruna a bruni ricami, pallida, mal pettinata, con un cerchio turchino sotto gli occhi così **terribilmente** più vivi."
      ],
      "text/plain": [
       "<IPython.core.display.Markdown object>"
      ]
     },
     "metadata": {},
     "output_type": "display_data"
    },
    {
     "data": {
      "text/markdown": [
       "loris ordinò a topine di andare innanzi, e rimase in faccia a tutti, guardandoli così **terribilmente** che non osarono attaccarlo."
      ],
      "text/plain": [
       "<IPython.core.display.Markdown object>"
      ]
     },
     "metadata": {},
     "output_type": "display_data"
    },
    {
     "data": {
      "text/markdown": [
       "assurde e di combinazioni impossibili, di reticenze perfide e di sottintesi indicibili, mentre mazzini sempre **terribilmente** limpido guidava il battaglione sacro delle idee e delle poche forze rivoluzionarie su per l  erta di una nuova epocail moto, provocato dal ricci vescovo di pistoia, erasi piuttosto allentato che estinto: degola, palmieri, zola, tamburini, gauthier, vailna, combattevano ancora per simile dottrina; alcuni vescovi italiani, come il solaro di novi, parlavano perfino di aderire al concilio parigino."
      ],
      "text/plain": [
       "<IPython.core.display.Markdown object>"
      ]
     },
     "metadata": {},
     "output_type": "display_data"
    },
    {
     "data": {
      "text/markdown": [
       "non eraindarno tante tragedie greche senza accorgersi che ogni cronaca dei nostri comuni era affollata di figure ben più **terribilmente** belle che nelle corti di tebe e di atene?"
      ],
      "text/plain": [
       "<IPython.core.display.Markdown object>"
      ]
     },
     "metadata": {},
     "output_type": "display_data"
    },
    {
     "data": {
      "text/markdown": [
       "egli solo forse conservava anche in quel momento tutta l  impassibilità necessaria a tale inintelligibile olocausto, perchè egli solo aveva avuto l  anima così **terribilmente** logica da volerlo."
      ],
      "text/plain": [
       "<IPython.core.display.Markdown object>"
      ]
     },
     "metadata": {},
     "output_type": "display_data"
    },
    {
     "data": {
      "text/markdown": [
       "e mi hai fatto **terribilmente** soffrire."
      ],
      "text/plain": [
       "<IPython.core.display.Markdown object>"
      ]
     },
     "metadata": {},
     "output_type": "display_data"
    },
    {
     "data": {
      "text/markdown": [
       "a poco a poco, i fremiti, le ansie degli antichi leoni congiurati del quarantotto che si riunivano lì in quel camerone attorno al vecchio generale, s erano ridestati in lui a farlo vergognare del suo pianto; le ombre di quei leoni, **terribilmente** sdegnate, gli eran sorte intorno e gli avevan gridato d accorrere, sì, sì, d accorrere, pur così vecchio com era, a impedire con gli altri vecchi superstiti la distruzione della patria."
      ],
      "text/plain": [
       "<IPython.core.display.Markdown object>"
      ]
     },
     "metadata": {},
     "output_type": "display_data"
    },
    {
     "data": {
      "text/markdown": [
       "questa zuppa scotta; scotta **terribilmente** !"
      ],
      "text/plain": [
       "<IPython.core.display.Markdown object>"
      ]
     },
     "metadata": {},
     "output_type": "display_data"
    },
    {
     "data": {
      "text/markdown": [
       "il suo caro amico, monsieur le duc, si era **terribilmente** compromesso!"
      ],
      "text/plain": [
       "<IPython.core.display.Markdown object>"
      ]
     },
     "metadata": {},
     "output_type": "display_data"
    },
    {
     "data": {
      "text/markdown": [
       "mi batte **terribilmente** il cuore."
      ],
      "text/plain": [
       "<IPython.core.display.Markdown object>"
      ]
     },
     "metadata": {},
     "output_type": "display_data"
    },
    {
     "data": {
      "text/markdown": [
       "alcuni barcaiuoli, sfidando il fuoco degli insorti che cresceva **terribilmente** , si slanciarono ai remi, ma caddero a mezzo ponte."
      ],
      "text/plain": [
       "<IPython.core.display.Markdown object>"
      ]
     },
     "metadata": {},
     "output_type": "display_data"
    },
    {
     "data": {
      "text/markdown": [
       "sì, e **terribilmente** ."
      ],
      "text/plain": [
       "<IPython.core.display.Markdown object>"
      ]
     },
     "metadata": {},
     "output_type": "display_data"
    },
    {
     "data": {
      "text/markdown": [
       "l  odiavi ben **terribilmente** , fathma."
      ],
      "text/plain": [
       "<IPython.core.display.Markdown object>"
      ]
     },
     "metadata": {},
     "output_type": "display_data"
    },
    {
     "data": {
      "text/markdown": [
       "sono lo scièk abù el nèmr, dieci giorni fa la cercava ancora, interrogava i guerrieri che venivano dal bahr el abiad, giurava di vendicarsi **terribilmente** di questa donna che lo aveva indegnamente tradito, ed invece è qui e ancor viva."
      ],
      "text/plain": [
       "<IPython.core.display.Markdown object>"
      ]
     },
     "metadata": {},
     "output_type": "display_data"
    },
    {
     "data": {
      "text/markdown": [
       "pallida e fredda come un cadavere, rachele cabib non aveva vita che negli occhi, i quali guardavano **terribilmente** innanzi a sè."
      ],
      "text/plain": [
       "<IPython.core.display.Markdown object>"
      ]
     },
     "metadata": {},
     "output_type": "display_data"
    },
    {
     "data": {
      "text/markdown": [
       "il piano organizzato da quell uomo è stato così magistralmente combinato, è stato tanto **terribilmente** condotto, che io sono chiuso in una rete da cui non arrivo a distrigarmi."
      ],
      "text/plain": [
       "<IPython.core.display.Markdown object>"
      ]
     },
     "metadata": {},
     "output_type": "display_data"
    },
    {
     "data": {
      "text/markdown": [
       "da parecchie notti mi è impossibile dormire, si è **terribilmente** ingrossato, non sono più dolori, ma spasimi; la natura stessa mi fa sentire il bisogno di aprire una via al male checarlo dossi è di questa razza; e non solo dubita, ma condanna lo stato:  lo stato!"
      ],
      "text/plain": [
       "<IPython.core.display.Markdown object>"
      ]
     },
     "metadata": {},
     "output_type": "display_data"
    },
    {
     "data": {
      "text/markdown": [
       "grabba sembrano degli agitati, dei malati che non scorgono più la realtà delle cose e dei sentimenti; ma la veggono mostruosamente sviluppata per qualche infiammazione che, dopo avere alterato i loro organi visivi, si sia comunicata alle loro mentidi una nuova illusione che prendeva il posto dell  altra, che mi avrebbe ingannato come l  altra, che mi avrebbe fatto **terribilmente** soffrire e vanamente, come l  altra?"
      ],
      "text/plain": [
       "<IPython.core.display.Markdown object>"
      ]
     },
     "metadata": {},
     "output_type": "display_data"
    },
    {
     "data": {
      "text/markdown": [
       "ma tornavomesi, sotto l  ossessione di quella scena di delusione che aveva offeso il suo amor proprio e il suo amore, e che lo faceva **terribilmente** soffrire notte e giorno, quantunque egli tentasse ogni mezzo di distrarsi, anche perchè colei non potessesenza dubbio le nostre tribolazioni le abbiamo avute anche lì."
      ],
      "text/plain": [
       "<IPython.core.display.Markdown object>"
      ]
     },
     "metadata": {},
     "output_type": "display_data"
    },
    {
     "data": {
      "text/markdown": [
       "era livido, con la fisonomia contratta, gli occhi **terribilmente** spalancati."
      ],
      "text/plain": [
       "<IPython.core.display.Markdown object>"
      ]
     },
     "metadata": {},
     "output_type": "display_data"
    },
    {
     "data": {
      "text/markdown": [
       "ezio cami, fu per lunghi mesi, sotto l  ossessione di quella scena di delusione che aveva offeso il suo amor proprio e il suo amore, e che lo faceva **terribilmente** soffrire notte e giorno, quantunque egli tentasse ogni mezzo di distrarsi, anche perchè colei non potesse rallegrarsi degli effetti dell  opera sua, e non lo riputasse sua vittima."
      ],
      "text/plain": [
       "<IPython.core.display.Markdown object>"
      ]
     },
     "metadata": {},
     "output_type": "display_data"
    },
    {
     "data": {
      "text/markdown": [
       "io, caro nelli, mi son vendicato più **terribilmente** ; nessuno di voi immagina come."
      ],
      "text/plain": [
       "<IPython.core.display.Markdown object>"
      ]
     },
     "metadata": {},
     "output_type": "display_data"
    },
    {
     "data": {
      "text/markdown": [
       "quando però le vedeva piangere e **terribilmente** soffrire per le ansietà di un pericolo che le teneva sospese tra la vita e la morte e poteva produrre, tutt  a un tratto,no, a nulla avrebbero approdato le sue ammonizioni; no, quand   anche bardelli non avesse detto tutto ciò che aveva nell  animo, la condizione delle cose non sarebbe stata diversa, e l  incendio nascosto non sarebbe stato meno pericoloso."
      ],
      "text/plain": [
       "<IPython.core.display.Markdown object>"
      ]
     },
     "metadata": {},
     "output_type": "display_data"
    },
    {
     "data": {
      "text/markdown": [
       "domando io se sono cose da contare a un capitano di cavalleria, che fa vita monastica e rimpiange **terribilmente** l  eterno femminino!"
      ],
      "text/plain": [
       "<IPython.core.display.Markdown object>"
      ]
     },
     "metadata": {},
     "output_type": "display_data"
    },
    {
     "data": {
      "text/markdown": [
       "la discesa fu terribile e **terribilmente** lunga."
      ],
      "text/plain": [
       "<IPython.core.display.Markdown object>"
      ]
     },
     "metadata": {},
     "output_type": "display_data"
    },
    {
     "data": {
      "text/markdown": [
       "figlio, immolata la vita di henri a una apparente infamia di alcune ore, avrebbe da vigliacco, da plebeo, compromessa **terribilmente** la baronessa."
      ],
      "text/plain": [
       "<IPython.core.display.Markdown object>"
      ]
     },
     "metadata": {},
     "output_type": "display_data"
    },
    {
     "data": {
      "text/markdown": [
       "tutto è combinato nell  atto terzo dei bons villageois con profonda sapienza, e la critica non puòimmorali, che paolo e francesca sono immorali, che tutte queste coppie giovani, deliranti, soavi, poetiche peccano **terribilmente** d  immoralità."
      ],
      "text/plain": [
       "<IPython.core.display.Markdown object>"
      ]
     },
     "metadata": {},
     "output_type": "display_data"
    },
    {
     "data": {
      "text/markdown": [
       "riaperta agli eserciti di radetzky; milano stessa minacciata; ecco le notizie che dal    al    luglio giungevano **terribilmente** gravi nella capitale lombarda."
      ],
      "text/plain": [
       "<IPython.core.display.Markdown object>"
      ]
     },
     "metadata": {},
     "output_type": "display_data"
    },
    {
     "data": {
      "text/markdown": [
       "ch  egli era venuto al mondo in un, quell  esaltamento lieve che si attinge in un bicchiere di sciampagna, un  ebbrezza, un esaltamento innocenti, ma **terribilmente** arrischiati."
      ],
      "text/plain": [
       "<IPython.core.display.Markdown object>"
      ]
     },
     "metadata": {},
     "output_type": "display_data"
    },
    {
     "data": {
      "text/markdown": [
       "marco doveva accorgersi che qualche cosa di **terribilmente** penoso accadeva dentro di me."
      ],
      "text/plain": [
       "<IPython.core.display.Markdown object>"
      ]
     },
     "metadata": {},
     "output_type": "display_data"
    },
    {
     "data": {
      "text/markdown": [
       "il cielo azzurro non era tuttavia lieto e doveva riuscire **terribilmente** feroce, a quanti soffrivano; di tanto in tanto, dei periodi di vento furioso facevano discendere la temperatura, portavano ancora dei brividi, e disordinavano le abitudini di chi aveva gi salutata quella primavera fallace."
      ],
      "text/plain": [
       "<IPython.core.display.Markdown object>"
      ]
     },
     "metadata": {},
     "output_type": "display_data"
    },
    {
     "data": {
      "text/markdown": [
       "qualche volta, esasperato dalla perdita, che per lui è un vero disastro, lo cerca, lo insegue, e se lo trova, lo bastona **terribilmente** ."
      ],
      "text/plain": [
       "<IPython.core.display.Markdown object>"
      ]
     },
     "metadata": {},
     "output_type": "display_data"
    },
    {
     "data": {
      "text/markdown": [
       "non poche volte sorse fiera contesa con brave coltellate tra l  antico picconiere derubato e il nuovo con cui è andato a, ci vuole molta ingenuità  o molta malignità  per meravigliarsi o fingere sorpresa che i primi tumulti siano stati **terribilmente** contagiosi."
      ],
      "text/plain": [
       "<IPython.core.display.Markdown object>"
      ]
     },
     "metadata": {},
     "output_type": "display_data"
    },
    {
     "data": {
      "text/markdown": [
       "ma da due anni in qua i salar  ribassano **terribilmente** e c  è una triste concorrenza nel lavoro che i mietitori di una contrada vanno a fare a quelli di un  altra; concorrenza,alvise, senz   essere bello, aveva in sè una singolare attraenza, la quale accrescevasi a mano a mano che si contraeva con lui qualche dimestichezza."
      ],
      "text/plain": [
       "<IPython.core.display.Markdown object>"
      ]
     },
     "metadata": {},
     "output_type": "display_data"
    },
    {
     "data": {
      "text/markdown": [
       "la fronte dell  inventore si corrugò **terribilmente** ."
      ],
      "text/plain": [
       "<IPython.core.display.Markdown object>"
      ]
     },
     "metadata": {},
     "output_type": "display_data"
    },
    {
     "data": {
      "text/markdown": [
       "esse accesero l  incendio, ma non credevano che tanta materia vi fosse da farlo divampare **terribilmente** ; si videro sorpassate nelle intenzioni e si spaventarono della lava che minacciava travolgere tutto e tutti."
      ],
      "text/plain": [
       "<IPython.core.display.Markdown object>"
      ]
     },
     "metadata": {},
     "output_type": "display_data"
    },
    {
     "data": {
      "text/markdown": [
       "**terribilmente** odiato."
      ],
      "text/plain": [
       "<IPython.core.display.Markdown object>"
      ]
     },
     "metadata": {},
     "output_type": "display_data"
    },
    {
     "data": {
      "text/markdown": [
       "o espiava **terribilmente** il delitto di un istante?"
      ],
      "text/plain": [
       "<IPython.core.display.Markdown object>"
      ]
     },
     "metadata": {},
     "output_type": "display_data"
    },
    {
     "data": {
      "text/markdown": [
       "era una scena **terribilmente** dantesca."
      ],
      "text/plain": [
       "<IPython.core.display.Markdown object>"
      ]
     },
     "metadata": {},
     "output_type": "display_data"
    },
    {
     "data": {
      "text/markdown": [
       "**terribilmente** !"
      ],
      "text/plain": [
       "<IPython.core.display.Markdown object>"
      ]
     },
     "metadata": {},
     "output_type": "display_data"
    },
    {
     "data": {
      "text/markdown": [
       "quando la nostra automobile si ferma dinanzi al palazzo dei kaporo pendopo sono quasi pentito d aver accettato l invito, tanto è **terribilmente** olandese l atrio della villa e più olandese ancora il salotto nel quale un domestico bianco ci introduce con la classica alterigia dei lacchè di grande casata: poltrone e divani di cuoio color avana, marina d amsterdam, e canali d utrecht alle pareti, v è perfino un monumentale camino di  polder  batavo con una collezione di vecchie pipe del bramante."
      ],
      "text/plain": [
       "<IPython.core.display.Markdown object>"
      ]
     },
     "metadata": {},
     "output_type": "display_data"
    },
    {
     "data": {
      "text/markdown": [
       "i bambù che crescono abbondantemente fra le canne zuccherine ci hanno riempito la biancheria dei loro peletti neri che pizzicano **terribilmente**."
      ],
      "text/plain": [
       "<IPython.core.display.Markdown object>"
      ]
     },
     "metadata": {},
     "output_type": "display_data"
    },
    {
     "data": {
      "text/markdown": [
       "una vecchia gialla, sdentata, scheletrica, infagottata in un cencio senza colore, s era fermata contro un lampione a fissarmi con gli occhietti di smalto che era l unica cosa **terribilmente** viva in quel corpo **terribilmente** morto."
      ],
      "text/plain": [
       "<IPython.core.display.Markdown object>"
      ]
     },
     "metadata": {},
     "output_type": "display_data"
    },
    {
     "data": {
      "text/markdown": [
       "i gesti delle scimmie morenti sono **terribilmente** umani."
      ],
      "text/plain": [
       "<IPython.core.display.Markdown object>"
      ]
     },
     "metadata": {},
     "output_type": "display_data"
    },
    {
     "data": {
      "text/markdown": [
       "quel grande problema della collaborazione fra occidente ed oriente che giustamente appassiona la società moderna pel tragico contrasto fra il pensiero occidentale e le millenarie coscienze asiatiche, problema che in india, in cina e nel giappone, si presenta confusamente per la stessa vastità di quei paesi e per le innumerevoli inframmettenze politico religiose che intorbidano la visione centrale, si mostra nello stesso annam **terribilmente** chiaro nella sua semplicità."
      ],
      "text/plain": [
       "<IPython.core.display.Markdown object>"
      ]
     },
     "metadata": {},
     "output_type": "display_data"
    },
    {
     "data": {
      "text/markdown": [
       "sono fiumi capricciosi, d origine incerta e di corso irregolare, che scorrazzano attraverso i monti e le pianure tonkinesi, a volte imponenti e gonfi d acqua procellosa, a volte ridotti dalla magra un semplice colaticcio di fango fetente, **terribilmente** rosso, così rosso da sembrare lo spurgo d un fantastico macello."
      ],
      "text/plain": [
       "<IPython.core.display.Markdown object>"
      ]
     },
     "metadata": {},
     "output_type": "display_data"
    },
    {
     "data": {
      "text/markdown": [
       "in qual modo debbo provarvi che sono sincero, **terribilmente** sincero?"
      ],
      "text/plain": [
       "<IPython.core.display.Markdown object>"
      ]
     },
     "metadata": {},
     "output_type": "display_data"
    },
    {
     "data": {
      "text/markdown": [
       "ma anche il domani , e gli altri giorni che restava a casa, il babbo non parlava con nessuno, sgridava **terribilmente** le persone di serviziovia che ha un  aria così aristocratica di giorno e così paurosa la notte."
      ],
      "text/plain": [
       "<IPython.core.display.Markdown object>"
      ]
     },
     "metadata": {},
     "output_type": "display_data"
    },
    {
     "data": {
      "text/markdown": [
       "massimiliana, **terribilmente** pallida, con le labbra quasi scomparse, le porse una mano che scottava; e tenendola a quel modo, la accompagnò fino alè tale da farmi impossibile ogni godimento: ogni menomo piacere mi ammazzerebbe ; e l  infelice trova un  espressione **terribilmente** efficace per dipingere la sua miseria:  se non voglio morire, bisogna ch  io non viva."
      ],
      "text/plain": [
       "<IPython.core.display.Markdown object>"
      ]
     },
     "metadata": {},
     "output_type": "display_data"
    },
    {
     "data": {
      "text/markdown": [
       ", i contrasti, le divagazioni, le schermaglie non potevano far altro che giovare ai nemici:  pensate che si va addietro **terribilmente** , che i nostri padroni se ne giovano a riconciliarsi con atti di clemenza in favor di molti, che l  austria conquista piùora, il largo finestrone della sudicia cucina dava sul cortiletto del palazzo marinelli e si trovava di fronte al pianerottolo della scaletta: si vedeva la prima rampa di scale che conduceva alla casa abitata dalla famiglia bevilacqua, e la seconda che conduceva a quella abitata dall  avvocato de gasperis."
      ],
      "text/plain": [
       "<IPython.core.display.Markdown object>"
      ]
     },
     "metadata": {},
     "output_type": "display_data"
    },
    {
     "data": {
      "text/markdown": [
       "poi non rimase a discuter oltre; tornò dentro frettolosa, gridando ancora una volta:  è contro l  amore, dicono, perchè gli antepone la proprietà, il denaro, il ventre; viceversa l  amore si vendica **terribilmente** , producendo drammi, tragedie, rovine d  ogni sorta e affermando così la propria onnipotenza."
      ],
      "text/plain": [
       "<IPython.core.display.Markdown object>"
      ]
     },
     "metadata": {},
     "output_type": "display_data"
    },
    {
     "data": {
      "text/markdown": [
       "ci si sente in complesso **terribilmente** disgraziati, e dareste tutti i milioni dell amabile lord e tutti gli ingegnosi brevetti del suo fornitore di tende esotiche per un alito di zeffiro primaverile, per un quarto d ora di brezza montanina, per una di quelle soavissime ventate d alpe italica, che scaturiscono dalle profondità cupe di una gola boschiva e vi penetrano in gola con tutti gli aromi umidi della terra fresca."
      ],
      "text/plain": [
       "<IPython.core.display.Markdown object>"
      ]
     },
     "metadata": {},
     "output_type": "display_data"
    },
    {
     "data": {
      "text/markdown": [
       "di solito innocui quando sono isolati e lasciati in pace, gli ippopotami diventano **terribilmente** aggressivi quando sono attaccati in branco."
      ],
      "text/plain": [
       "<IPython.core.display.Markdown object>"
      ]
     },
     "metadata": {},
     "output_type": "display_data"
    },
    {
     "data": {
      "text/markdown": [
       "pazzo di dolore l animale si dibatte **terribilmente** mentre la lama gli dilania le viscere: ogni tanto si rizza sulle zampe scoprendo l enorme ventre sfondato dal quale escono le interiora."
      ],
      "text/plain": [
       "<IPython.core.display.Markdown object>"
      ]
     },
     "metadata": {},
     "output_type": "display_data"
    },
    {
     "data": {
      "text/markdown": [
       "però è doloroso, profondamente doloroso per l unico italiano presente ad albertville alla cerimonia ufficiale del comando, come per tutti gli italiani che in patria e fuori dei suoi confini amano la loro terra, è **terribilmente** doloroso che proprio noi che abbiamo tante braccia disponibili, che dobbiamo pagare a prezzo di sudore amaro, in franchi, in dollari e sterline il pane quotidiano dei nostri telai, laminatoi, alti forni, frantatoi, lambicchi, proprio noi dobbiamo venire come potenza coloniale dopo il belgio, l olanda, il portogallo!"
      ],
      "text/plain": [
       "<IPython.core.display.Markdown object>"
      ]
     },
     "metadata": {},
     "output_type": "display_data"
    },
    {
     "data": {
      "text/markdown": [
       "siamo ripiegati su noi stessi, malati, **terribilmente** malati."
      ],
      "text/plain": [
       "<IPython.core.display.Markdown object>"
      ]
     },
     "metadata": {},
     "output_type": "display_data"
    },
    {
     "data": {
      "text/markdown": [
       "prendo il fucile per uccidere, ma  sono umani, così **terribilmente** umani che non so premere il grilletto."
      ],
      "text/plain": [
       "<IPython.core.display.Markdown object>"
      ]
     },
     "metadata": {},
     "output_type": "display_data"
    },
    {
     "data": {
      "text/markdown": [
       "adora i giochi e studia pochissimo; suo padre lo sgrida **terribilmente** ed io cerco di aiutarlo fin dove posso."
      ],
      "text/plain": [
       "<IPython.core.display.Markdown object>"
      ]
     },
     "metadata": {},
     "output_type": "display_data"
    },
    {
     "data": {
      "text/markdown": [
       "è un volto **terribilmente** bello per l estrema sofferenza che lo affina, per la felicità insostenibile che gli riempie gli occhi di bruciante tenerezza."
      ],
      "text/plain": [
       "<IPython.core.display.Markdown object>"
      ]
     },
     "metadata": {},
     "output_type": "display_data"
    },
    {
     "data": {
      "text/markdown": [
       "berto la vide subito impallidire spaventosamente ; avvicinatale una poltrona, la fece sedere, le si mise a ginocchi innanzi, e loredana rimase un istante così, bianca indiffusa; anch  egli si contentava dei pochi viali fiancheggiati da villini brutti, e s  era avvezzo alle costruzioni **terribilmente** antipatiche di quegli alberghi nei quali si mangiava malissimo e dai quali si vedeva una sfilata di capanne tozze, una."
      ],
      "text/plain": [
       "<IPython.core.display.Markdown object>"
      ]
     },
     "metadata": {},
     "output_type": "display_data"
    },
    {
     "data": {
      "text/markdown": [
       "mario appelius le isole del raggio verde   a mio padre tra cielo e mare   i grandi volatori transoceanici che con uno o due salti formidabili balzano da un continente all altro stanno rimpicciolendo **terribilmente** i viaggi  vecchio stile  per mare."
      ],
      "text/plain": [
       "<IPython.core.display.Markdown object>"
      ]
     },
     "metadata": {},
     "output_type": "display_data"
    },
    {
     "data": {
      "text/markdown": [
       "ed oggi ancora, dopo aver constatato tutto il vuoto del congresso, domando sinceramente a me stesso se questi congressi della stampa latina non siano nonostante tutto una cosa seria, assai seria, **terribilmente** seria, precisamente per l esistenza di questo enorme colossale vuoto dietro il paravento splendente della latinità!"
      ],
      "text/plain": [
       "<IPython.core.display.Markdown object>"
      ]
     },
     "metadata": {},
     "output_type": "display_data"
    },
    {
     "data": {
      "text/markdown": [
       "lo zuccone che soffriva **terribilmente** di gelosia, e sempre, solo a nominargli andromaco o ninotto, copriva egle di sputi, questa volta si contentò di darle."
      ],
      "text/plain": [
       "<IPython.core.display.Markdown object>"
      ]
     },
     "metadata": {},
     "output_type": "display_data"
    },
    {
     "data": {
      "text/markdown": [
       "bevettero il whisky, ma questo non giovò a rimettere a posto i loro nervi **terribilmente** scossi."
      ],
      "text/plain": [
       "<IPython.core.display.Markdown object>"
      ]
     },
     "metadata": {},
     "output_type": "display_data"
    },
    {
     "data": {
      "text/markdown": [
       "qualcosa di **terribilmente** feroce stava nell  occhio torbido sotto i fasci de   muscoli cigliari contratti e fermicittà di brescia."
      ],
      "text/plain": [
       "<IPython.core.display.Markdown object>"
      ]
     },
     "metadata": {},
     "output_type": "display_data"
    },
    {
     "data": {
      "text/markdown": [
       "perciò, di lontano, fermo mi appariva come un angelo **terribilmente** bello, posto a custodia di una porta che dei diavoli in maglia rossa o arancio o azzurra si ostinavano a insidiare."
      ],
      "text/plain": [
       "<IPython.core.display.Markdown object>"
      ]
     },
     "metadata": {},
     "output_type": "display_data"
    },
    {
     "data": {
      "text/markdown": [
       "ah come tutto ciò era bello, orribilmente bello, **terribilmente** bello!"
      ],
      "text/plain": [
       "<IPython.core.display.Markdown object>"
      ]
     },
     "metadata": {},
     "output_type": "display_data"
    },
    {
     "data": {
      "text/markdown": [
       "ah come tutto ciò era bello, orribilmente bello, **terribilmente** bello!"
      ],
      "text/plain": [
       "<IPython.core.display.Markdown object>"
      ]
     },
     "metadata": {},
     "output_type": "display_data"
    },
    {
     "data": {
      "text/markdown": [
       "sempre potuto osservare che quelli a ciuffo ampio e sferico erano ordinariamente perfetti nel resto del corpo, mentre spesso vidi allievi a ciuffo difettoso essere imperfetti anche nel manto: nelle grandi razze asiatiche ho sempre osservatolisce, quelle del collo si rizzano smisuratamente, l  occhio dapprima languido di languore orientale diventa **terribilmente** truce, il povero don giovanni del pollaio batte le ali e guarda fisso l  avversario."
      ],
      "text/plain": [
       "<IPython.core.display.Markdown object>"
      ]
     },
     "metadata": {},
     "output_type": "display_data"
    },
    {
     "data": {
      "text/markdown": [
       "allora guglielmo, preso da entusiasmo sublime, gett api  via il cappellaccio, si strapp api  di dosso il mantello, e agitando lo spadone, maraviglioso di audacia e di forza, url api  **terribilmente**:    ibq  a me, filibustieri della lumaca ace  e voi, soldati di spagna guardate per l ibk ultima volta il corsaro giallo aceaiq ."
      ],
      "text/plain": [
       "<IPython.core.display.Markdown object>"
      ]
     },
     "metadata": {},
     "output_type": "display_data"
    },
    {
     "data": {
      "text/markdown": [
       "e quei cani dei tuoi vili compagni morranno ace  il corsaro azzurro sa premiare gli amici fedeli e punire **terribilmente** i traditori."
      ],
      "text/plain": [
       "<IPython.core.display.Markdown object>"
      ]
     },
     "metadata": {},
     "output_type": "display_data"
    },
    {
     "data": {
      "text/markdown": [
       "ibm  fece il brigante, torcendo la bocca  ibm  cotesto gingillo  aog  **terribilmente** pericoloso, e. ."
      ],
      "text/plain": [
       "<IPython.core.display.Markdown object>"
      ]
     },
     "metadata": {},
     "output_type": "display_data"
    },
    {
     "data": {
      "text/markdown": [
       "ibq  aj, dios mio  ibm  sospir api  l ibk uomo della botte  ibm  io soffro **terribilmente** il mal di mare."
      ],
      "text/plain": [
       "<IPython.core.display.Markdown object>"
      ]
     },
     "metadata": {},
     "output_type": "display_data"
    },
    {
     "data": {
      "text/markdown": [
       "vendicarmi **terribilmente** ace ."
      ],
      "text/plain": [
       "<IPython.core.display.Markdown object>"
      ]
     },
     "metadata": {},
     "output_type": "display_data"
    },
    {
     "data": {
      "text/markdown": [
       "e juana fin aow  su lo stesso tono: dall ibk istmo di panama al titacaca questi sono gli eroi della lumaca ace          la mole delle carni, per un impeto di passione e di gelosia così **terribilmente** incomposto che passacantando ne rimase atterrito ."
      ],
      "text/plain": [
       "<IPython.core.display.Markdown object>"
      ]
     },
     "metadata": {},
     "output_type": "display_data"
    },
    {
     "data": {
      "text/markdown": [
       ", con parole d  amore tra i singhiozzi, con laceramenti così acuti di voce rotta e con una espressione di dolore così **terribilmente** bestiale che per tutti gli astanti corse un brivido e tutti rivolsero altrove la faccia."
      ],
      "text/plain": [
       "<IPython.core.display.Markdown object>"
      ]
     },
     "metadata": {},
     "output_type": "display_data"
    },
    {
     "data": {
      "text/markdown": [
       "il volto contro il volto, ed opprimendolo con tutta la mole delle carni, per un impeto di passione e di gelosia così **terribilmente** incomposto che passacantando ne rimase atterrito."
      ],
      "text/plain": [
       "<IPython.core.display.Markdown object>"
      ]
     },
     "metadata": {},
     "output_type": "display_data"
    },
    {
     "data": {
      "text/markdown": [
       "quei pittori, quegli architetti di interni, quei critici d arte, che quando capitavano insieme facevano un gran baccano con le loro discussioni estetiche   e quel che è peggio non compravano nulla   davano **terribilmente** ai nervi ai due proprietarii."
      ],
      "text/plain": [
       "<IPython.core.display.Markdown object>"
      ]
     },
     "metadata": {},
     "output_type": "display_data"
    },
    {
     "data": {
      "text/markdown": [
       ", con parole d  amore tra i singhiozzi, con laceramenti così acuti di voce rotta e con una espressione di dolore così **terribilmente** comica che per tutti li astanti corse un brivido e tutti rivolsero altrove la faccia."
      ],
      "text/plain": [
       "<IPython.core.display.Markdown object>"
      ]
     },
     "metadata": {},
     "output_type": "display_data"
    },
    {
     "data": {
      "text/markdown": [
       "io non ero malvagio, ma i miei re erano **terribilmente** feroci, e inesorabili."
      ],
      "text/plain": [
       "<IPython.core.display.Markdown object>"
      ]
     },
     "metadata": {},
     "output_type": "display_data"
    },
    {
     "data": {
      "text/markdown": [
       "noi oggi sorridiamo di quei monacali e tragici riti; ci paiono assurde le speranze concepite dai carbonari del      e del      o,di dio; o la purità invocata dal cielo era stata invocata invano  il primogenito, già settenne, era un bambino **terribilmente** inclinato a insudiciarsi e a insudiciare ; o l  attrito della vita aveva spente o congelate certe gentili fiorituredeserto, la via del guébli calamitoso, la via della terra che non beve mai."
      ],
      "text/plain": [
       "<IPython.core.display.Markdown object>"
      ]
     },
     "metadata": {},
     "output_type": "display_data"
    },
    {
     "data": {
      "text/markdown": [
       "gli animali, assaliti e paurosi, prendevano **terribilmente** la forma del loro scheletro; gli uomini, allucinati, non parlavano più."
      ],
      "text/plain": [
       "<IPython.core.display.Markdown object>"
      ]
     },
     "metadata": {},
     "output_type": "display_data"
    },
    {
     "data": {
      "text/markdown": [
       "tenerci con la mano la mano sembra una cosa innocente, ma è **terribilmente** colpevole; tanto colpevole che a noi sembra talvolta l  infinito amore tutto e solo consistere nel tenersi una mano."
      ],
      "text/plain": [
       "<IPython.core.display.Markdown object>"
      ]
     },
     "metadata": {},
     "output_type": "display_data"
    },
    {
     "data": {
      "text/markdown": [
       "ciò che non vuole spegnersi: e più **terribilmente** di noi questi uccisi amavano la vita."
      ],
      "text/plain": [
       "<IPython.core.display.Markdown object>"
      ]
     },
     "metadata": {},
     "output_type": "display_data"
    },
    {
     "data": {
      "text/markdown": [
       "più che nemico degli altri, sono **terribilmente** il mio; gli altri mi fanno pena, laddove di me stesso mi sdegno."
      ],
      "text/plain": [
       "<IPython.core.display.Markdown object>"
      ]
     },
     "metadata": {},
     "output_type": "display_data"
    },
    {
     "data": {
      "text/markdown": [
       "quandoeravate veramente un uomo senza cuore, gelido e sciupato, al quale restava negli occhi, forse nell  anima, qualcosa di **terribilmente** lontano, che altre portarono via, qualcosa di amaro, di aspro, d  insensibile."
      ],
      "text/plain": [
       "<IPython.core.display.Markdown object>"
      ]
     },
     "metadata": {},
     "output_type": "display_data"
    },
    {
     "data": {
      "text/markdown": [
       "ma io divago **terribilmente** , o personaggi della commedia, e non mi ricordo più che voi soffriate per l  impazienza di conoscere con esattezza chil  uomo pallido e trasognato; e più sono grandi e nobili e più uccidono, e non v  è corruzione di vizio che maceri più **terribilmente** ."
      ],
      "text/plain": [
       "<IPython.core.display.Markdown object>"
      ]
     },
     "metadata": {},
     "output_type": "display_data"
    },
    {
     "data": {
      "text/markdown": [
       "ho atteso **terribilmente** questa grande cosa nuova, che forse è nulla."
      ],
      "text/plain": [
       "<IPython.core.display.Markdown object>"
      ]
     },
     "metadata": {},
     "output_type": "display_data"
    },
    {
     "data": {
      "text/markdown": [
       "e su la folla dei cristiani **terribilmente** passava la sensazione di dio."
      ],
      "text/plain": [
       "<IPython.core.display.Markdown object>"
      ]
     },
     "metadata": {},
     "output_type": "display_data"
    },
    {
     "data": {
      "text/markdown": [
       "voleva dire insomma, che per quanto avessi provato a concedergli tutta me stessa, in me c  era un  altra donna che **terribilmente** non voleva."
      ],
      "text/plain": [
       "<IPython.core.display.Markdown object>"
      ]
     },
     "metadata": {},
     "output_type": "display_data"
    },
    {
     "data": {
      "text/markdown": [
       "io, alla vostra età  parlavo con un giovane amico  ero **terribilmente** romantico ed idealista."
      ],
      "text/plain": [
       "<IPython.core.display.Markdown object>"
      ]
     },
     "metadata": {},
     "output_type": "display_data"
    },
    {
     "data": {
      "text/markdown": [
       "; sul pergamo apparve la figura di un monaco, tetra e smorta, con occhi freddi come l  argento, in una devastata faccia **terribilmente** incisa di drammaticità, che mi fece pensare agli occhi fermi, alla bocca perversa, alle piccole mani crudeli deli vent  anni, profumate come il vizio, voluttuose come l  odor del cínnamo ne   cálici gonfi d  estate, donne sepolte per sempre nel mio cuore di navigante, la muraglia bianca del claustro mi dividerà dai vostri caldi tálami, e il vento notturnoper fortuna, a disimpegnarlo un po  , c  era quella testolina sentimentale di giovane donna con la quale conversava quasi alla buona."
      ],
      "text/plain": [
       "<IPython.core.display.Markdown object>"
      ]
     },
     "metadata": {},
     "output_type": "display_data"
    },
    {
     "data": {
      "text/markdown": [
       "capace, nella spedizione delle merci, dialla sua fama orribile, si convinse che il gagliardo e bel signore doveva essere, per ragion d  invidia, un uomo **terribilmente** calunniato."
      ],
      "text/plain": [
       "<IPython.core.display.Markdown object>"
      ]
     },
     "metadata": {},
     "output_type": "display_data"
    },
    {
     "data": {
      "text/markdown": [
       "pesare, pesare **terribilmente** su la mia."
      ],
      "text/plain": [
       "<IPython.core.display.Markdown object>"
      ]
     },
     "metadata": {},
     "output_type": "display_data"
    },
    {
     "data": {
      "text/markdown": [
       "era una cosa **terribilmente** piena di mortificazione per la signora: quell  uomo, il prof. marchi, gelido, meccanico, irreprensibile nel vestitoun lungo randello, per tempestarlo di colpi se questo piegava sui garretti o per costringerlo a sostenere la cornata se atterrito retrocedeva."
      ],
      "text/plain": [
       "<IPython.core.display.Markdown object>"
      ]
     },
     "metadata": {},
     "output_type": "display_data"
    },
    {
     "data": {
      "text/markdown": [
       "il toro vi andò contro con tanta forza, che, nonostante il colpo di lancia infittogli nella groppa, uno ded  un bicchiere troppo colmo, nella fuggitiva illusione d  una parola d  amore, l  uomo che saprà d  un tratto farle **terribilmente** male, contorcere fino allo spasimo la sua perduta e bianca nudità."
      ],
      "text/plain": [
       "<IPython.core.display.Markdown object>"
      ]
     },
     "metadata": {},
     "output_type": "display_data"
    },
    {
     "data": {
      "text/markdown": [
       "allora sarà di lei quello che doveva essere il primoeravate veramente un uomo senza cuore, gelido e sciupato, al quale restava negli occhi, forse nell  anima, qualcosa di **terribilmente** lontano, che altre portarono via, qualcosa di aspro, di amaro, d  insensibile."
      ],
      "text/plain": [
       "<IPython.core.display.Markdown object>"
      ]
     },
     "metadata": {},
     "output_type": "display_data"
    },
    {
     "data": {
      "text/markdown": [
       "io non pensavo all  amore; pensavo **terribilmente** a lei, a me."
      ],
      "text/plain": [
       "<IPython.core.display.Markdown object>"
      ]
     },
     "metadata": {},
     "output_type": "display_data"
    },
    {
     "data": {
      "text/markdown": [
       "io non ero malvagio, ma i miei re erano **terribilmente** feroci, e inesorabili."
      ],
      "text/plain": [
       "<IPython.core.display.Markdown object>"
      ]
     },
     "metadata": {},
     "output_type": "display_data"
    },
    {
     "data": {
      "text/markdown": [
       "ed io non potevo più resistere a quel fuoco, talchè a un dato punto per il dolore abbandonai la stella eanni, pallida, un poco emaciata, con grandi occhi scuri, troppo fissi, ove la giovinezza era già spenta; gli occhi **terribilmente** lascivi e dolorosi delle pazze in cristo, gli occhi senza umanità ch  ebbero tutte le allucinate, le portatrici dimistero incombesse su lei."
      ],
      "text/plain": [
       "<IPython.core.display.Markdown object>"
      ]
     },
     "metadata": {},
     "output_type": "display_data"
    },
    {
     "data": {
      "text/markdown": [
       "di incomparabile potenza e le disperate grida noi non le abbiamo udite, perchè suonava così giocondamente, così **terribilmente** la  marsigliese  che non si potevano udire!"
      ],
      "text/plain": [
       "<IPython.core.display.Markdown object>"
      ]
     },
     "metadata": {},
     "output_type": "display_data"
    },
    {
     "data": {
      "text/markdown": [
       "qualche cosa di **terribilmente** vago le faceva presentire che il giappone non avrebbe portato fortuna al suo roberto, ma nascondeva la sua ansia perché sentiva che non avrebbe potuto affrontare l argomento senza turbare la serenità del figlio."
      ],
      "text/plain": [
       "<IPython.core.display.Markdown object>"
      ]
     },
     "metadata": {},
     "output_type": "display_data"
    },
    {
     "data": {
      "text/markdown": [
       "bianca aveva finito per odiare **terribilmente** la giapponese come solo sa odiare una madre, ma nascondeva per riguardo verso roberto il suo sentimento sotto un contegno disinvolto, altrettanto freddo che cortese."
      ],
      "text/plain": [
       "<IPython.core.display.Markdown object>"
      ]
     },
     "metadata": {},
     "output_type": "display_data"
    },
    {
     "data": {
      "text/markdown": [
       "ecco stabilita la superiorità di questo romanzo femminile su tanti romanzi maschili che sono **terribilmente** noiosi."
      ],
      "text/plain": [
       "<IPython.core.display.Markdown object>"
      ]
     },
     "metadata": {},
     "output_type": "display_data"
    },
    {
     "data": {
      "text/markdown": [
       "ecco stabilita la superiorità di questo romanzo femminile su tanti romanzi maschili che sono **terribilmente** noiosi."
      ],
      "text/plain": [
       "<IPython.core.display.Markdown object>"
      ]
     },
     "metadata": {},
     "output_type": "display_data"
    },
    {
     "data": {
      "text/markdown": [
       "don fiorenzo  in atto di gettarsi addosso a barbarello, urla **terribilmente** :  assassino!"
      ],
      "text/plain": [
       "<IPython.core.display.Markdown object>"
      ]
     },
     "metadata": {},
     "output_type": "display_data"
    },
    {
     "data": {
      "text/markdown": [
       "caterina  **terribilmente**  la morte!"
      ],
      "text/plain": [
       "<IPython.core.display.Markdown object>"
      ]
     },
     "metadata": {},
     "output_type": "display_data"
    },
    {
     "data": {
      "text/markdown": [
       "come si capisce allora lo sforzo patetico che fondatori di religioni , poeti , artisti fanno per gettare un ponte di là dallo scenario lercio e scavalcare questo cielo senza stelle , renderlo valicabile , riempirlo di costruzioni ideali , più belle sì e più ricche , ma fatte a imitazione tuttavia dello scenario di carta e travicelli in mezzo al quale noi siamo vissuti .natura, prese nei lacci e nelle reti delle formole chimiche e meccaniche, e così asservite all  uomo, si vendicano **terribilmente** , balzandoci alla gola con la selvaggia irruenza dei cani arrabbiati."
      ],
      "text/plain": [
       "<IPython.core.display.Markdown object>"
      ]
     },
     "metadata": {},
     "output_type": "display_data"
    },
    {
     "data": {
      "text/markdown": [
       "non fosti mai più **terribilmente** felice!"
      ],
      "text/plain": [
       "<IPython.core.display.Markdown object>"
      ]
     },
     "metadata": {},
     "output_type": "display_data"
    },
    {
     "data": {
      "text/markdown": [
       "ai poli, come ho accennato, inutile andare; e poi, io, come esploratore, valgo solo per i climi temperati; odio **terribilmente** il freddo."
      ],
      "text/plain": [
       "<IPython.core.display.Markdown object>"
      ]
     },
     "metadata": {},
     "output_type": "display_data"
    },
    {
     "data": {
      "text/markdown": [
       "le acque ruggono **terribilmente** sgorgando da ogni parte, invadendo vittoriose le valli: il cielo del color della pece è solcato qua e là da strisce di sangue; all orizzonte si disegnano i profili dei monti che si sollevano ancora su l oceano e su i quali si addensano, vespaio immane, che manda un ronzio assordante di grida altissime, invocante misericordia, i poveri uomini colpiti dall ira dei numi."
      ],
      "text/plain": [
       "<IPython.core.display.Markdown object>"
      ]
     },
     "metadata": {},
     "output_type": "display_data"
    },
    {
     "data": {
      "text/markdown": [
       "loro influenze e delle loro relazioni, lo straniero, che non ha nessuno di questi pesi da mettervi, trova la bilancia **terribilmente** difettosa."
      ],
      "text/plain": [
       "<IPython.core.display.Markdown object>"
      ]
     },
     "metadata": {},
     "output_type": "display_data"
    },
    {
     "data": {
      "text/markdown": [
       "l   impresa era **terribilmente** difficile , ma ella ci si provò ."
      ],
      "text/plain": [
       "<IPython.core.display.Markdown object>"
      ]
     },
     "metadata": {},
     "output_type": "display_data"
    },
    {
     "data": {
      "text/markdown": [
       "era ammalato , **terribilmente** ammalato : e non lo diceva ."
      ],
      "text/plain": [
       "<IPython.core.display.Markdown object>"
      ]
     },
     "metadata": {},
     "output_type": "display_data"
    }
   ],
   "source": [
    "res5 = find_sentences_with_keyword(document5, 'terribilmente')"
   ]
  },
  {
   "cell_type": "code",
   "execution_count": 37,
   "id": "9fd73d93",
   "metadata": {},
   "outputs": [
    {
     "data": {
      "text/html": [
       "<div>\n",
       "<style scoped>\n",
       "    .dataframe tbody tr th:only-of-type {\n",
       "        vertical-align: middle;\n",
       "    }\n",
       "\n",
       "    .dataframe tbody tr th {\n",
       "        vertical-align: top;\n",
       "    }\n",
       "\n",
       "    .dataframe thead th {\n",
       "        text-align: right;\n",
       "    }\n",
       "</style>\n",
       "<table border=\"1\" class=\"dataframe\">\n",
       "  <thead>\n",
       "    <tr style=\"text-align: right;\">\n",
       "      <th></th>\n",
       "      <th>sentences</th>\n",
       "    </tr>\n",
       "  </thead>\n",
       "  <tbody>\n",
       "    <tr>\n",
       "      <th>0</th>\n",
       "      <td>, sebbene inclinasse ai monarchiani, trovò una...</td>\n",
       "    </tr>\n",
       "    <tr>\n",
       "      <th>1</th>\n",
       "      <td>nel suo fantastico pensiero ognisuo fondatore,...</td>\n",
       "    </tr>\n",
       "    <tr>\n",
       "      <th>2</th>\n",
       "      <td>ma come è drammatico ed interessante l  incont...</td>\n",
       "    </tr>\n",
       "    <tr>\n",
       "      <th>3</th>\n",
       "      <td>approvo anchio, per quanto una colazione fatta...</td>\n",
       "    </tr>\n",
       "    <tr>\n",
       "      <th>4</th>\n",
       "      <td>oreste rimarrebbe terribilmente sconcertato da...</td>\n",
       "    </tr>\n",
       "  </tbody>\n",
       "</table>\n",
       "</div>"
      ],
      "text/plain": [
       "                                           sentences\n",
       "0  , sebbene inclinasse ai monarchiani, trovò una...\n",
       "1  nel suo fantastico pensiero ognisuo fondatore,...\n",
       "2  ma come è drammatico ed interessante l  incont...\n",
       "3  approvo anchio, per quanto una colazione fatta...\n",
       "4  oreste rimarrebbe terribilmente sconcertato da..."
      ]
     },
     "execution_count": 37,
     "metadata": {},
     "output_type": "execute_result"
    }
   ],
   "source": [
    "res5.head()"
   ]
  },
  {
   "cell_type": "markdown",
   "id": "b314ff36",
   "metadata": {},
   "source": [
    "### Zeitraum 6: 1951-2000"
   ]
  },
  {
   "cell_type": "code",
   "execution_count": 38,
   "id": "60785d28",
   "metadata": {},
   "outputs": [],
   "source": [
    "text6 = ''\n",
    "for i in df6.cleaned_text:\n",
    "    text6 += i"
   ]
  },
  {
   "cell_type": "code",
   "execution_count": 39,
   "id": "d9b719cf",
   "metadata": {},
   "outputs": [],
   "source": [
    "document6 = nltk.sent_tokenize(text6)"
   ]
  },
  {
   "cell_type": "code",
   "execution_count": 40,
   "id": "539ef4a0",
   "metadata": {},
   "outputs": [
    {
     "data": {
      "text/markdown": [
       "vladimir con un   intonazione **terribilmente** gutturale , che non aveva più nulla d   inglese , non solo , ma nemmeno d   europeo ; tale da sbalordire persino mr ."
      ],
      "text/plain": [
       "<IPython.core.display.Markdown object>"
      ]
     },
     "metadata": {},
     "output_type": "display_data"
    },
    {
     "data": {
      "text/markdown": [
       "si sentiva , però , **terribilmente** sveglio ; lo inorridiva il pensiero di trovarsi faccia a faccia col buio e col silenzio che imperano appena spento il lume ."
      ],
      "text/plain": [
       "<IPython.core.display.Markdown object>"
      ]
     },
     "metadata": {},
     "output_type": "display_data"
    },
    {
     "data": {
      "text/markdown": [
       "allo scopo di sollevare lo sguardo languido verso la faccia di chi gli parlava , il personaggio davanti al caminetto aveva a poco a poco inclinato all   indietro la testa , tanto da assumere un   aria **terribilmente** superba ."
      ],
      "text/plain": [
       "<IPython.core.display.Markdown object>"
      ]
     },
     "metadata": {},
     "output_type": "display_data"
    },
    {
     "data": {
      "text/markdown": [
       "per mrs   verloc questo appariva chiaro : che il povero ragazzo era **terribilmente** eccitato ."
      ],
      "text/plain": [
       "<IPython.core.display.Markdown object>"
      ]
     },
     "metadata": {},
     "output_type": "display_data"
    },
    {
     "data": {
      "text/markdown": [
       "introducendo poi , non appena le riuscì , il fratello stevie nella corrente degli avvenimenti domestici , ella accennò che quel ragazzo era **terribilmente** intristito ."
      ],
      "text/plain": [
       "<IPython.core.display.Markdown object>"
      ]
     },
     "metadata": {},
     "output_type": "display_data"
    },
    {
     "data": {
      "text/markdown": [
       "era **terribilmente** bizzarra , egli pensò ."
      ],
      "text/plain": [
       "<IPython.core.display.Markdown object>"
      ]
     },
     "metadata": {},
     "output_type": "display_data"
    },
    {
     "data": {
      "text/markdown": [
       "era ancora **terribilmente** pallido , con due occhi che parevano affondati d   un mezzo pollice nella faccia tesa ."
      ],
      "text/plain": [
       "<IPython.core.display.Markdown object>"
      ]
     },
     "metadata": {},
     "output_type": "display_data"
    },
    {
     "data": {
      "text/markdown": [
       "ne ho **terribilmente** bisogno ."
      ],
      "text/plain": [
       "<IPython.core.display.Markdown object>"
      ]
     },
     "metadata": {},
     "output_type": "display_data"
    },
    {
     "data": {
      "text/markdown": [
       "la scissione fra cielo e terra in questa scena avviene in modo completo e irrevocabile, e la musica lo sottolinea con una terribilità angosciosa quasi inumana; come **terribilmente** inumana è la fine di questo atto di una veemenza soffocante."
      ],
      "text/plain": [
       "<IPython.core.display.Markdown object>"
      ]
     },
     "metadata": {},
     "output_type": "display_data"
    },
    {
     "data": {
      "text/markdown": [
       "margherita si inquietò allora **terribilmente** coi ragazzi    da oggi la chiave della cassettina la tengo io !"
      ],
      "text/plain": [
       "<IPython.core.display.Markdown object>"
      ]
     },
     "metadata": {},
     "output_type": "display_data"
    },
    {
     "data": {
      "text/markdown": [
       "ogni cosa risultava **terribilmente** esatta ."
      ],
      "text/plain": [
       "<IPython.core.display.Markdown object>"
      ]
     },
     "metadata": {},
     "output_type": "display_data"
    },
    {
     "data": {
      "text/markdown": [
       "wagner stanca **terribilmente** le ugole italiane ; ho memoria di un parsifal in cui tre gurnemanz dovettero cedere le armi dopo una sola rappresentazione ."
      ],
      "text/plain": [
       "<IPython.core.display.Markdown object>"
      ]
     },
     "metadata": {},
     "output_type": "display_data"
    },
    {
     "data": {
      "text/markdown": [
       "erano uomini , donne e bambini che hanno **terribilmente** sofferto e che ancora soffriranno a lungo le conseguenze di questi giorni di furia devastatrice ."
      ],
      "text/plain": [
       "<IPython.core.display.Markdown object>"
      ]
     },
     "metadata": {},
     "output_type": "display_data"
    },
    {
     "data": {
      "text/markdown": [
       "siete tutti **terribilmente** nervosi , stasera ."
      ],
      "text/plain": [
       "<IPython.core.display.Markdown object>"
      ]
     },
     "metadata": {},
     "output_type": "display_data"
    },
    {
     "data": {
      "text/markdown": [
       "in fondo si apriva come una larghissima e piatta fossa , a metà della quale un rotto colonnato , **terribilmente** immobile , formava la facciata esterna dell   antica reggia ."
      ],
      "text/plain": [
       "<IPython.core.display.Markdown object>"
      ]
     },
     "metadata": {},
     "output_type": "display_data"
    },
    {
     "data": {
      "text/markdown": [
       "correvano , accidenti se correvano , si sarebbero detti spaventati da qualche avvertimento repentino che li incuriosiva **terribilmente** , togliendo loro la pace della vita ."
      ],
      "text/plain": [
       "<IPython.core.display.Markdown object>"
      ]
     },
     "metadata": {},
     "output_type": "display_data"
    },
    {
     "data": {
      "text/markdown": [
       "si capiva che erano **terribilmente** stanchi ."
      ],
      "text/plain": [
       "<IPython.core.display.Markdown object>"
      ]
     },
     "metadata": {},
     "output_type": "display_data"
    },
    {
     "data": {
      "text/markdown": [
       "figurati , quest   anno ci sarà un ambiente **terribilmente** misto ."
      ],
      "text/plain": [
       "<IPython.core.display.Markdown object>"
      ]
     },
     "metadata": {},
     "output_type": "display_data"
    },
    {
     "data": {
      "text/markdown": [
       "allora gli operai e gli ingegneri sbarcarono dalla corazzata , l   aria sopra i tre fumaioli cominciò a tremolare , segno che le caldaie erano state accese , opposti pensieri e speranze si combattevano negli animi , la pace sembrava **terribilmente** desiderabile pur nell   obbrobrio della disfatta ma era anche amaro abbandonare così il bastimento meraviglioso senza aver tentato neppure di combattere ."
      ],
      "text/plain": [
       "<IPython.core.display.Markdown object>"
      ]
     },
     "metadata": {},
     "output_type": "display_data"
    },
    {
     "data": {
      "text/markdown": [
       "e si vede che fatica **terribilmente** per rendere più veloce senza   contrarlo   il ritmo dei passi ."
      ],
      "text/plain": [
       "<IPython.core.display.Markdown object>"
      ]
     },
     "metadata": {},
     "output_type": "display_data"
    },
    {
     "data": {
      "text/markdown": [
       "nella miseria almeno disporre bene   , enuncia quest   ometto **terribilmente** efficiente , che continua a girar auree chiavi nelle toppe e a impugnare maniglie istoriate , senza mai smettere di voler far ordine e dar disposizioni :   quest   orologio è un po   di giorni che è lì disteso su quell   étagère ."
      ],
      "text/plain": [
       "<IPython.core.display.Markdown object>"
      ]
     },
     "metadata": {},
     "output_type": "display_data"
    },
    {
     "data": {
      "text/markdown": [
       "in un posto estremamente remoto , **terribilmente** diverso dalla patria ."
      ],
      "text/plain": [
       "<IPython.core.display.Markdown object>"
      ]
     },
     "metadata": {},
     "output_type": "display_data"
    },
    {
     "data": {
      "text/markdown": [
       "ma un tentativo d   interpretazione politica di questo sconcertante personaggio e un esame dei problemi **terribilmente** difficili che egli lascia in eredità ai suoi successori non sono ancora stati fatti ."
      ],
      "text/plain": [
       "<IPython.core.display.Markdown object>"
      ]
     },
     "metadata": {},
     "output_type": "display_data"
    },
    {
     "data": {
      "text/markdown": [
       "vero è che sul terreno storico quella persuasione è piuttosto in rapporto con la forza **terribilmente** distruttiva delle armi moderne ; ed è alimentata dall   orrore che suscita nell   animo anche solo il pensiero delle distruzioni immani e dei dolori immensi che l   uso di quelle armi apporterebbe alla famiglia umana ; per cui riesce quasi impossibile pensare che nell   era atomica la guerra possa essere utilizzata come strumento di giustizia ."
      ],
      "text/plain": [
       "<IPython.core.display.Markdown object>"
      ]
     },
     "metadata": {},
     "output_type": "display_data"
    },
    {
     "data": {
      "text/markdown": [
       "la vita è **terribilmente** facile nel concedere , a chi segua il cammino consueto ."
      ],
      "text/plain": [
       "<IPython.core.display.Markdown object>"
      ]
     },
     "metadata": {},
     "output_type": "display_data"
    },
    {
     "data": {
      "text/markdown": [
       "e di colpo rividi la bambola nel posto dove l   avevo avvistata un paio di mesi prima   allora non ci avevo fatto gran caso ma senza che me ne accorgessi mi era rimasta impressa **terribilmente**   ."
      ],
      "text/plain": [
       "<IPython.core.display.Markdown object>"
      ]
     },
     "metadata": {},
     "output_type": "display_data"
    },
    {
     "data": {
      "text/markdown": [
       "affinché la cosa riesca dignitosa e severa , e magari , ove possibile , sublime , bisogna che il giuoco sia condotto sino alla fine nel modo più intransigente con un autore che lo prenda , e che si prenda , **terribilmente** sul serio , e che , a lavoro compiuto , anziché scoprire le carte e gridare ai quattro venti il suo   ecco   r sonetto   , continui a rinviare il lettore a un   opera non fatta , lasciandolo sospeso in un limbo di perfetta ambiguità ."
      ],
      "text/plain": [
       "<IPython.core.display.Markdown object>"
      ]
     },
     "metadata": {},
     "output_type": "display_data"
    },
    {
     "data": {
      "text/markdown": [
       "ridendo insomma tutti lo prendono **terribilmente** sul serio ."
      ],
      "text/plain": [
       "<IPython.core.display.Markdown object>"
      ]
     },
     "metadata": {},
     "output_type": "display_data"
    },
    {
     "data": {
      "text/markdown": [
       "non l   ha certo inventata buzzati e nemmeno ne aveva bisogno perché anche una sola lacrima di pietà avrebbe reso indecente un libro che è soltanto vero , **terribilmente** vero ."
      ],
      "text/plain": [
       "<IPython.core.display.Markdown object>"
      ]
     },
     "metadata": {},
     "output_type": "display_data"
    },
    {
     "data": {
      "text/markdown": [
       "la tragedia si è consumata in pochi istanti : un bagliore nel cielo , un rogo fulmineo , un pauroso disintegrarsi di tutto in un largo raggio vastissimo , **terribilmente** accidentato , assai difficile da battere palmo a palmo nel disperato tentativo di ricostruire le salme dei     passeggeri   e infatti , fino a questa sera , solo quelle di    vittime sono state identificate e dei sette membri del   equipaggio ."
      ],
      "text/plain": [
       "<IPython.core.display.Markdown object>"
      ]
     },
     "metadata": {},
     "output_type": "display_data"
    },
    {
     "data": {
      "text/markdown": [
       "molte identificazioni sono **terribilmente** problematiche , ancora stasera : non si può per ora fare conto preciso delle salme , sui documenti , sulle tracce rimaste ."
      ],
      "text/plain": [
       "<IPython.core.display.Markdown object>"
      ]
     },
     "metadata": {},
     "output_type": "display_data"
    },
    {
     "data": {
      "text/markdown": [
       "la tragedia si è consumata in pochi istanti : un bagliore nel cielo , un rogo fulmineo , un pauroso disintegrarsi di tutto in un largo raggio vastissimo , **terribilmente** accidentato , assai difficile da battere palmo a palmo nel disperato tentativo di ricostruire le salme dei     passeggeri   e infatti , fino a questa sera , solo quelle di    vittime sono state identificate e dei sette membri del   equipaggio ."
      ],
      "text/plain": [
       "<IPython.core.display.Markdown object>"
      ]
     },
     "metadata": {},
     "output_type": "display_data"
    },
    {
     "data": {
      "text/markdown": [
       "molte identificazioni sono **terribilmente** problematiche , ancora stasera : non si può per ora fare conto preciso delle salme , sui documenti , sulle tracce rimaste ."
      ],
      "text/plain": [
       "<IPython.core.display.Markdown object>"
      ]
     },
     "metadata": {},
     "output_type": "display_data"
    },
    {
     "data": {
      "text/markdown": [
       "mio caro non fantasticare più, tu soffri **terribilmente** pover  uomo, senza che nessuno se ne fosse mai accorto, quella creatura semplice, serena, aveva dei pensieri suoi, unanon ne poteva più, era finita, si reggeva per virtù di ripieghi, con interminabili sedute di toilette, forse soffriva **terribilmente** e nascondeva la sua sofferenza."
      ],
      "text/plain": [
       "<IPython.core.display.Markdown object>"
      ]
     },
     "metadata": {},
     "output_type": "display_data"
    },
    {
     "data": {
      "text/markdown": [
       "non solo era **terribilmente** nuova : in nessun   altra opera italiana precedente il contributo dell   orchestra era stato tanto rilevante ."
      ],
      "text/plain": [
       "<IPython.core.display.Markdown object>"
      ]
     },
     "metadata": {},
     "output_type": "display_data"
    },
    {
     "data": {
      "text/markdown": [
       "è **terribilmente** lungo e vorrei anche farvi sentire la nostra sigla musicale che tra l altro è molto graziosa."
      ],
      "text/plain": [
       "<IPython.core.display.Markdown object>"
      ]
     },
     "metadata": {},
     "output_type": "display_data"
    },
    {
     "data": {
      "text/markdown": [
       "a quel punto il pentagono avrebbe potuto avere il suo sedile anche gratis , poiché l  industria militare usa s  innervosisce  **terribilmente**  quando washington esamina gli sprechi nel budget della difesa , questione di cui la toilette dell  orion costituisce solo il caso più recente   se n  è parlato a fine gennaio   ma non certo il più clamoroso ."
      ],
      "text/plain": [
       "<IPython.core.display.Markdown object>"
      ]
     },
     "metadata": {},
     "output_type": "display_data"
    },
    {
     "data": {
      "text/markdown": [
       "lella setto fiesole marmolada in cemento quest  estate , in scozia , ho camminato per monti e valli di una bellezza struggente senza imbattermi in più di tre o quattro persone alla ricerca come me di libertà ; mi sono accorta di quanto siano piccole le dolomiti , che , solo   anni fa , tredicenne , mi avevano colpito per la loro imponenza e mi avevano fatto sentire  **terribilmente**  piccola ."
      ],
      "text/plain": [
       "<IPython.core.display.Markdown object>"
      ]
     },
     "metadata": {},
     "output_type": "display_data"
    },
    {
     "data": {
      "text/markdown": [
       "così raccontata , la trama del trovatore assomiglia  **terribilmente**  a quella dell  ernani : è anzi la stessa ."
      ],
      "text/plain": [
       "<IPython.core.display.Markdown object>"
      ]
     },
     "metadata": {},
     "output_type": "display_data"
    },
    {
     "data": {
      "text/markdown": [
       "ed è vero che il romanzo tratta questioni di vita e di morte , che non vorrei rivelarvi troppo per non scaricare la suspense di cui è ricco il libro , come è vero che subito , dalle prime pagine , esso è irresistibilmente ,  **terribilmente**  comico ."
      ],
      "text/plain": [
       "<IPython.core.display.Markdown object>"
      ]
     },
     "metadata": {},
     "output_type": "display_data"
    },
    {
     "data": {
      "text/markdown": [
       "banco roma svizzero alla                                                                                                                                                                                                                                                                                                                                                                                                                                                                                                                                                                                                                                                                               fino al      , anno  di  nascita della prima auto a guida interna   una renault con l  abitacolo simile a un cappello a cilindro   auto e moto erano ugualmente e **terribilmente** preda delle intemperie : polvere , acqua , fango e neve erano gli irrinunciabili compagni di viaggio degli avventurosi   sportivi   dell  epoca ."
      ],
      "text/plain": [
       "<IPython.core.display.Markdown object>"
      ]
     },
     "metadata": {},
     "output_type": "display_data"
    },
    {
     "data": {
      "text/markdown": [
       "ho preso  **terribilmente**  sul serio le pagelle che sono fiorite in settimana , superando solo ieri un piccolo choc per il titolo della gazzetta sul mondo che si spacca ."
      ],
      "text/plain": [
       "<IPython.core.display.Markdown object>"
      ]
     },
     "metadata": {},
     "output_type": "display_data"
    },
    {
     "data": {
      "text/markdown": [
       "purtroppo , l  uomo può ingannarsi , e ingannarsi  **terribilmente**  , con molto minore stravaganza ."
      ],
      "text/plain": [
       "<IPython.core.display.Markdown object>"
      ]
     },
     "metadata": {},
     "output_type": "display_data"
    },
    {
     "data": {
      "text/markdown": [
       "insomma il primo bilancio del campionario offerto del mystfest     sembra  **terribilmente**  chiaro : la morte del cinema passa attraverso la decadenza dei generi ."
      ],
      "text/plain": [
       "<IPython.core.display.Markdown object>"
      ]
     },
     "metadata": {},
     "output_type": "display_data"
    },
    {
     "data": {
      "text/markdown": [
       "e lei si trovava davanti a un  alternativa terribile : lasciarlo morire di sete o dargli da bere dell  acqua che sapeva  **terribilmente**  inquinata ."
      ],
      "text/plain": [
       "<IPython.core.display.Markdown object>"
      ]
     },
     "metadata": {},
     "output_type": "display_data"
    },
    {
     "data": {
      "text/markdown": [
       "vivevo con una donna che era  **terribilmente**  innamorata di me ."
      ],
      "text/plain": [
       "<IPython.core.display.Markdown object>"
      ]
     },
     "metadata": {},
     "output_type": "display_data"
    },
    {
     "data": {
      "text/markdown": [
       "il mercato azionario è  **terribilmente**  limitato   , ha spiegato de benedetti ."
      ],
      "text/plain": [
       "<IPython.core.display.Markdown object>"
      ]
     },
     "metadata": {},
     "output_type": "display_data"
    },
    {
     "data": {
      "text/markdown": [
       "i problemi     **terribilmente**    interessanti      che ci siamo trovati di fronte nel caso della   achille lauro   e di sigonella ?"
      ],
      "text/plain": [
       "<IPython.core.display.Markdown object>"
      ]
     },
     "metadata": {},
     "output_type": "display_data"
    },
    {
     "data": {
      "text/markdown": [
       "ritorna a napoli precipitosamente , rischiando l  arresto   che non eviterà in aprile   , fa finta di essere  **terribilmente**  affranto e consegna cinquanta milioni alla famiglia del ragazzo ."
      ],
      "text/plain": [
       "<IPython.core.display.Markdown object>"
      ]
     },
     "metadata": {},
     "output_type": "display_data"
    },
    {
     "data": {
      "text/markdown": [
       "lui mi pare molto sicuro di sé ,  **terribilmente**  sicuro   ."
      ],
      "text/plain": [
       "<IPython.core.display.Markdown object>"
      ]
     },
     "metadata": {},
     "output_type": "display_data"
    },
    {
     "data": {
      "text/markdown": [
       "oggi però la cultura dell  uomo si specializza  **terribilmente**  , non si scrivono più , come nel medio evo , delle summae , bensì delle enciclopedie ."
      ],
      "text/plain": [
       "<IPython.core.display.Markdown object>"
      ]
     },
     "metadata": {},
     "output_type": "display_data"
    },
    {
     "data": {
      "text/markdown": [
       "le colture intensive hanno  **terribilmente**  impoverito il suolo riducendo in alcune zone la quantità di sostanze organiche a valori inferiori al due per cento ."
      ],
      "text/plain": [
       "<IPython.core.display.Markdown object>"
      ]
     },
     "metadata": {},
     "output_type": "display_data"
    },
    {
     "data": {
      "text/markdown": [
       "stamane , invece , marc chagall è allegrissimo ; e poi in casa aleggia un odore di pasticcio di carne e di basilico , stanno preparando la colazione :   sono  **terribilmente**  goloso !"
      ],
      "text/plain": [
       "<IPython.core.display.Markdown object>"
      ]
     },
     "metadata": {},
     "output_type": "display_data"
    },
    {
     "data": {
      "text/markdown": [
       "alain era molto sicuro di sè ,  **terribilmente**  sicuro   ."
      ],
      "text/plain": [
       "<IPython.core.display.Markdown object>"
      ]
     },
     "metadata": {},
     "output_type": "display_data"
    },
    {
     "data": {
      "text/markdown": [
       "la   middle class   , l  arcobaleno dei ceti medi , intermedi , emergenti , rampanti , e anche della buona e sana borghesia laboriosa   ma un pochino tarda di comprendonio , ma  **terribilmente**  in buona fede   invade ormai gioiosamente tutto ."
      ],
      "text/plain": [
       "<IPython.core.display.Markdown object>"
      ]
     },
     "metadata": {},
     "output_type": "display_data"
    },
    {
     "data": {
      "text/markdown": [
       "ma non c  è fumo senza arrosto : il   monde   rivela che mitterrand era stato messo al corrente a posteriori per lo meno della missione dei falsi svizzeri e si infuriò  **terribilmente**  , facendo una scena al ministro della difesa hernu , il quale ora si limita a dichiarare di aver   la coscienza tranquilla   ."
      ],
      "text/plain": [
       "<IPython.core.display.Markdown object>"
      ]
     },
     "metadata": {},
     "output_type": "display_data"
    },
    {
     "data": {
      "text/markdown": [
       "in bilico tra una protesta che è , al tempo stesso , molto specifica e  **terribilmente**  totalizzante ."
      ],
      "text/plain": [
       "<IPython.core.display.Markdown object>"
      ]
     },
     "metadata": {},
     "output_type": "display_data"
    },
    {
     "data": {
      "text/markdown": [
       "per chi ha stazionato in cgil fin dalle prime ore del pomeriggio , la tensione di cui parla del turco è stata  **terribilmente**  concreta ."
      ],
      "text/plain": [
       "<IPython.core.display.Markdown object>"
      ]
     },
     "metadata": {},
     "output_type": "display_data"
    },
    {
     "data": {
      "text/markdown": [
       "vede , il guaio per uno come me che ama cambiare , trovare sempre stimoli nuovi , è che adesso è tutto  **terribilmente**  uguale a prima ."
      ],
      "text/plain": [
       "<IPython.core.display.Markdown object>"
      ]
     },
     "metadata": {},
     "output_type": "display_data"
    },
    {
     "data": {
      "text/markdown": [
       "sapevo , dunque , che l  andare a sirolo   dove si celebra , in un luogo che lui aveva eletto come suo , e di fronte al cimitero dove è sepolto , il ricordo di un regista **terribilmente** aggressivo , e forse **terribilmente** improvvisatore , direi  **terribilmente**  antiborgesiano   mi avrebbe dato una preziosa cosa in più , e che questa preziosa cosa era una riflessione amara sul teatro , e sul labilmente esistere , e quasi nulla mi avrebbe detto sulla parola del vangelo ."
      ],
      "text/plain": [
       "<IPython.core.display.Markdown object>"
      ]
     },
     "metadata": {},
     "output_type": "display_data"
    },
    {
     "data": {
      "text/markdown": [
       "qualunque uso se ne faccia deve essere  **terribilmente**  meditato ."
      ],
      "text/plain": [
       "<IPython.core.display.Markdown object>"
      ]
     },
     "metadata": {},
     "output_type": "display_data"
    },
    {
     "data": {
      "text/markdown": [
       "sui fianchi della vettura saltano invece all  occhio le pance laterali che si sono  **terribilmente**  allungate : nel loro interno si sono ingranditi e hanno cambiato posizione anche i radiatori ."
      ],
      "text/plain": [
       "<IPython.core.display.Markdown object>"
      ]
     },
     "metadata": {},
     "output_type": "display_data"
    },
    {
     "data": {
      "text/markdown": [
       "tutti richiedono ai paesi occidentali di accentuare le loro sanzioni contro il regime sanguinario dell  apartheid , mettendo allo stesso temo sul piatto della bilancia il problema delle compensazioni per gli eventuali effetti negativi che le sanzioni contro pretoria avrebbero sulle loro economie ,  **terribilmente**  dipendenti da quelle del potente ed odiato vicino ."
      ],
      "text/plain": [
       "<IPython.core.display.Markdown object>"
      ]
     },
     "metadata": {},
     "output_type": "display_data"
    },
    {
     "data": {
      "text/markdown": [
       "sapevo , dunque , che l  andare a sirolo   dove si celebra , in un luogo che lui aveva eletto come suo , e di fronte al cimitero dove è sepolto , il ricordo di un regista **terribilmente** aggressivo , e forse  **terribilmente**  improvvisatore , direi **terribilmente** antiborgesiano   mi avrebbe dato una preziosa cosa in più , e che questa preziosa cosa era una riflessione amara sul teatro , e sul labilmente esistere , e quasi nulla mi avrebbe detto sulla parola del vangelo ."
      ],
      "text/plain": [
       "<IPython.core.display.Markdown object>"
      ]
     },
     "metadata": {},
     "output_type": "display_data"
    },
    {
     "data": {
      "text/markdown": [
       "a volte impiego un  intera giornata per scrivere duecento caratteri , eppure mi sento  **terribilmente**  stanco   ."
      ],
      "text/plain": [
       "<IPython.core.display.Markdown object>"
      ]
     },
     "metadata": {},
     "output_type": "display_data"
    },
    {
     "data": {
      "text/markdown": [
       "allora sì che sarebbe uno spettacolo unico , inedito , senza il rischio di annoiare  **terribilmente**  il pubblico , stordito da quattro ore a sera di canzoni ."
      ],
      "text/plain": [
       "<IPython.core.display.Markdown object>"
      ]
     },
     "metadata": {},
     "output_type": "display_data"
    },
    {
     "data": {
      "text/markdown": [
       "la lista di attesa è lunghissima e la signora jean è  **terribilmente**  severa : è lei stessa che deve approvare le credenziali dei soci che debbono essere colti , possibilmente letterati e soprattutto debbono avere ammirazione illimitata nella capacità di sherlock di risolvere i più intrigati misteri , scoprire l  assassino e umiliare il suo astuto nemico moriarti ."
      ],
      "text/plain": [
       "<IPython.core.display.Markdown object>"
      ]
     },
     "metadata": {},
     "output_type": "display_data"
    },
    {
     "data": {
      "text/markdown": [
       "tutti ne sono convinti , turgut ozal è un uomo fortunato ,  **terribilmente**  fortunato ."
      ],
      "text/plain": [
       "<IPython.core.display.Markdown object>"
      ]
     },
     "metadata": {},
     "output_type": "display_data"
    },
    {
     "data": {
      "text/markdown": [
       "mi sono trovato davanti un pubblico molto partecipe , però  **terribilmente**  serio ."
      ],
      "text/plain": [
       "<IPython.core.display.Markdown object>"
      ]
     },
     "metadata": {},
     "output_type": "display_data"
    },
    {
     "data": {
      "text/markdown": [
       "la risposta , oltre che concettualmente ovvia , è suggerita dal fatto che nessuno ne affaccia una diversa , tali e tante , e così  **terribilmente**  gravi , ne sarebbero le implicazioni ."
      ],
      "text/plain": [
       "<IPython.core.display.Markdown object>"
      ]
     },
     "metadata": {},
     "output_type": "display_data"
    },
    {
     "data": {
      "text/markdown": [
       "soffrii **terribilmente** ,  orribilmente  , come un condannato ."
      ],
      "text/plain": [
       "<IPython.core.display.Markdown object>"
      ]
     },
     "metadata": {},
     "output_type": "display_data"
    },
    {
     "data": {
      "text/markdown": [
       "dico forse , perché in questi casi è **terribilmente** difficile decidere , e lo stesso direttore del   mattino   , pasquale nonno , ha dichiarato di avere scelto   per la pubblicazione     con   pietà   , con dolore e soprattutto con  atterrita  impotenza davanti al grande mistero della vita e della natura   ."
      ],
      "text/plain": [
       "<IPython.core.display.Markdown object>"
      ]
     },
     "metadata": {},
     "output_type": "display_data"
    },
    {
     "data": {
      "text/markdown": [
       "la bastarda ne soffre  **terribilmente**  ."
      ],
      "text/plain": [
       "<IPython.core.display.Markdown object>"
      ]
     },
     "metadata": {},
     "output_type": "display_data"
    },
    {
     "data": {
      "text/markdown": [
       "è  **terribilmente**  accaldato , depardieu , tutto in nero , e soffre molto il caldo ."
      ],
      "text/plain": [
       "<IPython.core.display.Markdown object>"
      ]
     },
     "metadata": {},
     "output_type": "display_data"
    },
    {
     "data": {
      "text/markdown": [
       "centrocampo , la difesa ne soffriva **terribilmente** , liedholm si spaventò e prese provvedimenti ."
      ],
      "text/plain": [
       "<IPython.core.display.Markdown object>"
      ]
     },
     "metadata": {},
     "output_type": "display_data"
    },
    {
     "data": {
      "text/markdown": [
       "se lo si analizza da vicino , il calendario delle sfilate ricorda  **terribilmente**  gli orari che annoiati professori ci ammannivano quando eravamo al liceo : una mattina c  erano due ore di sintassi latina , due di matematica e una di greco ."
      ],
      "text/plain": [
       "<IPython.core.display.Markdown object>"
      ]
     },
     "metadata": {},
     "output_type": "display_data"
    },
    {
     "data": {
      "text/markdown": [
       "erano pelle e ossa , e faceva **terribilmente** freddo ."
      ],
      "text/plain": [
       "<IPython.core.display.Markdown object>"
      ]
     },
     "metadata": {},
     "output_type": "display_data"
    },
    {
     "data": {
      "text/markdown": [
       "è una scrittura molto bella ,   ben tradotta   , molto poetica , **terribilmente** densa di pensieri e incrostata di significati ."
      ],
      "text/plain": [
       "<IPython.core.display.Markdown object>"
      ]
     },
     "metadata": {},
     "output_type": "display_data"
    },
    {
     "data": {
      "text/markdown": [
       "solo che , a differenza di alcuni suoi compatrioti , washington irving non si prendeva  **terribilmente**  sul serio , né prendeva **terribilmente** sul serio la neonata america : preferiva , con una vena amarognola e uno humour parente un po  di sterne e un po  di swift , scegliere la via della satira gentile , o inventare , per la gioia degli psicoanalisti , le sue leggende perversamente antieroiche ."
      ],
      "text/plain": [
       "<IPython.core.display.Markdown object>"
      ]
     },
     "metadata": {},
     "output_type": "display_data"
    },
    {
     "data": {
      "text/markdown": [
       "la sceneggiatura è una delle più forti che io abbia mai letto , è come un dramma greco , profondamente umana e con una storia che era necessario raccontare , esilarante a momenti e **terribilmente** deprimente in altri momenti ."
      ],
      "text/plain": [
       "<IPython.core.display.Markdown object>"
      ]
     },
     "metadata": {},
     "output_type": "display_data"
    },
    {
     "data": {
      "text/markdown": [
       "l  astenia le impediva di controllare i movimenti : spesso non poteva tenere la testa dritta : la tensione nervosa calava , l  apatia la risucchiava e la soffocava  **terribilmente**  ."
      ],
      "text/plain": [
       "<IPython.core.display.Markdown object>"
      ]
     },
     "metadata": {},
     "output_type": "display_data"
    },
    {
     "data": {
      "text/markdown": [
       "è una situazione **terribilmente** intricata , quella della roma : aspettando il verdetto della caf , c  è questa coppa europea iniziata nel migliore dei modi   eliminando il benfica   ma adesso diventata improvvisamente qualcosa di  **terribilmente**  pericoloso , perché sconosciuto è il volto di questa nuova roma ."
      ],
      "text/plain": [
       "<IPython.core.display.Markdown object>"
      ]
     },
     "metadata": {},
     "output_type": "display_data"
    },
    {
     "data": {
      "text/markdown": [
       "eppure i ragazzi continuano a prenderli  **terribilmente**  sul serio questi esami , con tutte le ansie , le veglie notturne , le depressioni , gli scongiuri della vecchia tradizione ."
      ],
      "text/plain": [
       "<IPython.core.display.Markdown object>"
      ]
     },
     "metadata": {},
     "output_type": "display_data"
    },
    {
     "data": {
      "text/markdown": [
       "per il resto zenga e tacconi sono **terribilmente** diversi : e ora anche antagonisti ,  domani  giocheranno un tempo ciascuno contro l  olanda   così ha deciso vicini   , ma in futuro , vedrete ,                                                                                                                                                                                                                                                                                                                                                                                                                                                                                                                                                                                                   ora l  ex beatle è tornato in giappone per una lunga tournée , mettendo una pietra sul passato e  anche  sul fumo ."
      ],
      "text/plain": [
       "<IPython.core.display.Markdown object>"
      ]
     },
     "metadata": {},
     "output_type": "display_data"
    },
    {
     "data": {
      "text/markdown": [
       "invece camus si prende  **terribilmente**  sul serio , e l  allestimento , paludandosi di austerità , soffoca ogni germe d  ironia ; ne limita il sollievo anche in sartre , abolendo la prevista ambientazione kitsch che aveva esaltato visconti ed è strettamente collegata con la banalità delle storie proposte ."
      ],
      "text/plain": [
       "<IPython.core.display.Markdown object>"
      ]
     },
     "metadata": {},
     "output_type": "display_data"
    },
    {
     "data": {
      "text/markdown": [
       "di stretta pertinenza favolistica , intanto , è la trovata su cui si regge gran parte dell  intreccio : al suo ritorno a roma , infatti , angelo non viene riconosciuto da nessuno , neanche dalla madre   figura  **terribilmente**  oppressiva e di smisurato egoismo   che , ricoverata in ospedale , morrà prima dell  agnizione finale ."
      ],
      "text/plain": [
       "<IPython.core.display.Markdown object>"
      ]
     },
     "metadata": {},
     "output_type": "display_data"
    },
    {
     "data": {
      "text/markdown": [
       "gli pesava ancora addosso l  ombra di viola e i suoi modi , mai condivisibili , ma  **terribilmente**  validi ."
      ],
      "text/plain": [
       "<IPython.core.display.Markdown object>"
      ]
     },
     "metadata": {},
     "output_type": "display_data"
    },
    {
     "data": {
      "text/markdown": [
       "egli è oggi profondamente , **terribilmente** solo in un paese nel quale , come minimo , ha fatto germogliare il seme della democrazia ."
      ],
      "text/plain": [
       "<IPython.core.display.Markdown object>"
      ]
     },
     "metadata": {},
     "output_type": "display_data"
    },
    {
     "data": {
      "text/markdown": [
       "walter non vuole studiare , ed è  **terribilmente**  geloso del fratello maggiore e della nuova compagna del padre ."
      ],
      "text/plain": [
       "<IPython.core.display.Markdown object>"
      ]
     },
     "metadata": {},
     "output_type": "display_data"
    },
    {
     "data": {
      "text/markdown": [
       "gli umori degli industriali privati verso la classe politica restano arcigni e diffidenti ; dalla legge finanziaria la confindustria non si aspetta niente di buono ; lo scambio di idee con i leader dei maggiori partiti è sì servito ad appurare che la crisi economica italiana è  **terribilmente**  seria , in un comune convenire che serve la famosa   svolta   ; ma anche a toccare con mano che la situazione politica è   imballata   , con l  aggavante di una crisi di governo che incombe di nuovo , senza peraltro venir dichiarata ."
      ],
      "text/plain": [
       "<IPython.core.display.Markdown object>"
      ]
     },
     "metadata": {},
     "output_type": "display_data"
    },
    {
     "data": {
      "text/markdown": [
       "fra l  altro , montanari , così come baggio , deve fare i conti con due tipetti alti una spanna , ma tecnici e  **terribilmente**  svelti , che trasformano i centimetri in meno in sofferenze garantite a ogni azione ."
      ],
      "text/plain": [
       "<IPython.core.display.Markdown object>"
      ]
     },
     "metadata": {},
     "output_type": "display_data"
    },
    {
     "data": {
      "text/markdown": [
       "vipiteno    nella juventus che ripropone gli uomini di ieri per le suggestioni di  oggi  e , forse , per le vittorie di domani , stefano tacconi ha deciso di restare **terribilmente** uguale a                                                                                                                                                                                                                                                                                                                                                                                                                                                                                                                                                                            il sottosegretario al ministero dell  agricoltura romeo ricciuti , intervenendo alla camera per rispondere ad una serie  di  interpellanze e interrogazioni parlamentari , ha infatti affermato di essere sicuro che   l  intero attivo della federconsorzi sarà liquidato , con le procedure e i criteri stabiliti dal tribunale fallimentare   ."
      ],
      "text/plain": [
       "<IPython.core.display.Markdown object>"
      ]
     },
     "metadata": {},
     "output_type": "display_data"
    },
    {
     "data": {
      "text/markdown": [
       "**terribilmente**  sincere ."
      ],
      "text/plain": [
       "<IPython.core.display.Markdown object>"
      ]
     },
     "metadata": {},
     "output_type": "display_data"
    },
    {
     "data": {
      "text/markdown": [
       "invece anche qui si fanno paragoni , si mettono a confronto i moduli di trapattoni e quelli di sacchi , tutto diventa  **terribilmente**  pesante , conflittuale ."
      ],
      "text/plain": [
       "<IPython.core.display.Markdown object>"
      ]
     },
     "metadata": {},
     "output_type": "display_data"
    },
    {
     "data": {
      "text/markdown": [
       "la francia invece non trova un uomo d  ordine , qualche folata ma  **terribilmente**  velleitaria ."
      ],
      "text/plain": [
       "<IPython.core.display.Markdown object>"
      ]
     },
     "metadata": {},
     "output_type": "display_data"
    },
    {
     "data": {
      "text/markdown": [
       "dall  altra la marea delle critiche che monta ogni giorno di più : sarah è grassa , è sciatta , è sgraziata , è inadatta al ruolo , è maleducata , si veste male , è incosciente , è pigra , è ignorante , è  **terribilmente**  spendacciona e assetata di soldi ."
      ],
      "text/plain": [
       "<IPython.core.display.Markdown object>"
      ]
     },
     "metadata": {},
     "output_type": "display_data"
    },
    {
     "data": {
      "text/markdown": [
       "napoli si scopre oggi    spiega piero craveri     **terribilmente**  pre moderna , tutta reclinata su se stessa , sulle sue memorie e bellezze e glorie , egregio condimento della sua vocazione assistenziale e parassitaria ."
      ],
      "text/plain": [
       "<IPython.core.display.Markdown object>"
      ]
     },
     "metadata": {},
     "output_type": "display_data"
    },
    {
     "data": {
      "text/markdown": [
       "suona oggi  **terribilmente**  improponibile , però , stando ai veti incrociati , alle radicate diffidenze , alle rinfocolate ostilità , e anche alla scarsa commensurabilità della rappresentatività di ciascuno ."
      ],
      "text/plain": [
       "<IPython.core.display.Markdown object>"
      ]
     },
     "metadata": {},
     "output_type": "display_data"
    },
    {
     "data": {
      "text/markdown": [
       "il secondo , forse assai più importante , è che bassolino raccoglie il consenso di quegli strati sociali che , pur **terribilmente** colpiti dalla crisi , del ribellismo senza prospettive non sono prigionieri :  è  una carta di grande rilievo in una città come questa , una grande isola di saldezza in una napoli soffocata ."
      ],
      "text/plain": [
       "<IPython.core.display.Markdown object>"
      ]
     },
     "metadata": {},
     "output_type": "display_data"
    },
    {
     "data": {
      "text/markdown": [
       "**terribilmente**  noioso , temo , ma assai piacevole ."
      ],
      "text/plain": [
       "<IPython.core.display.Markdown object>"
      ]
     },
     "metadata": {},
     "output_type": "display_data"
    },
    {
     "data": {
      "text/markdown": [
       "altrimenti con i tre dietro il gioco è  **terribilmente**  piatto   dichiara la commissione tecnica ."
      ],
      "text/plain": [
       "<IPython.core.display.Markdown object>"
      ]
     },
     "metadata": {},
     "output_type": "display_data"
    },
    {
     "data": {
      "text/markdown": [
       "e anche se è stato  **terribilmente**  doloroso , l  ho fatto perché penso che sia doveroso raccontare la morte com  è veramente , non lasciarla all  invenzione , non espellerla dalla vita e dall  esperienza come si tende a fare nella nostra società   ."
      ],
      "text/plain": [
       "<IPython.core.display.Markdown object>"
      ]
     },
     "metadata": {},
     "output_type": "display_data"
    },
    {
     "data": {
      "text/markdown": [
       "corsi di formazione che promettono folgoranti carriere di attrice o fotomodella ; firme strappate a volo per enciclopedie assolutamente inutili e  **terribilmente**  costose ; lauree in medicina conseguite in italia e rilasciate nello sri lanka ; bollettini somiglianti ai contocorrenti della luce o del gas ma che servono a foraggiare anonime società ."
      ],
      "text/plain": [
       "<IPython.core.display.Markdown object>"
      ]
     },
     "metadata": {},
     "output_type": "display_data"
    },
    {
     "data": {
      "text/markdown": [
       "cheyenne era **terribilmente** depressa già nel      , quando il fratellastro christian brando aveva ucciso con un colpo di pistola il fidanzato di lei , dag drollet , che pare picchiasse spesso la ragazza  allora  incinta ."
      ],
      "text/plain": [
       "<IPython.core.display.Markdown object>"
      ]
     },
     "metadata": {},
     "output_type": "display_data"
    },
    {
     "data": {
      "text/markdown": [
       "**terribilmente** piccolo                                                                                                                                                                                                                                                                                                                                                                                                                                                                                                                                                                                                                       vi  è  poi un  altra ipotesi di trattamento diseguale che può essere censurata , e cioè quella in cui la mancata concessione di determinati benefici ad un lavoratore sia dovuta a intenti discriminatori : il lavoratore che svolga attività sindacale e che per questo motivo sia l  unico a non ricevere un premio aziendale , potrà sicuramente agire in giudizio per chiedere la condanna di un trattamento , appunto , discriminatorio , ed ottenere un trattamento pari agli altri ."
      ],
      "text/plain": [
       "<IPython.core.display.Markdown object>"
      ]
     },
     "metadata": {},
     "output_type": "display_data"
    },
    {
     "data": {
      "text/markdown": [
       "di certo non ha mancato di alzare la voce contro i tribalismi , l  oppressione , i razzismi e le intolleranze , e di criticare i governi corrotti locali , ma per quanto riguarda il   quotidiano   africano è apparso    **terribilmente**  conservatore   ."
      ],
      "text/plain": [
       "<IPython.core.display.Markdown object>"
      ]
     },
     "metadata": {},
     "output_type": "display_data"
    },
    {
     "data": {
      "text/markdown": [
       "questo paese è ancora  **terribilmente**  omofobico ."
      ],
      "text/plain": [
       "<IPython.core.display.Markdown object>"
      ]
     },
     "metadata": {},
     "output_type": "display_data"
    },
    {
     "data": {
      "text/markdown": [
       "più l  indice , nel suo complesso , scende   e scende anche rispetto ai periodi e alle nicchie più disgraziate della gestione grasso   e più   bibì e bibò   , tra via asiago e saxa rubra , si affannano a millantare traguardi che , in un attimo , si svelano  **terribilmente**  fasulli ."
      ],
      "text/plain": [
       "<IPython.core.display.Markdown object>"
      ]
     },
     "metadata": {},
     "output_type": "display_data"
    },
    {
     "data": {
      "text/markdown": [
       "un avventura **terribilmente** complicataca!"
      ],
      "text/plain": [
       "<IPython.core.display.Markdown object>"
      ]
     },
     "metadata": {},
     "output_type": "display_data"
    },
    {
     "data": {
      "text/markdown": [
       "viste da quaggiù , da palermo , queste due storie appaiono simili o , per essere più precisi ,  **terribilmente**  uguali ."
      ],
      "text/plain": [
       "<IPython.core.display.Markdown object>"
      ]
     },
     "metadata": {},
     "output_type": "display_data"
    },
    {
     "data": {
      "text/markdown": [
       "del resto , l  atalanta ha deciso di complicarsi **terribilmente** la vita dopo appena      : tutti avanti , montero compreso , e quindi tutti sbilanciati sulla palla lunga lanciata da desailly ."
      ],
      "text/plain": [
       "<IPython.core.display.Markdown object>"
      ]
     },
     "metadata": {},
     "output_type": "display_data"
    },
    {
     "data": {
      "text/markdown": [
       "da questo momento                                                                                                                                                                                                                                                                                                                                                                                                                                                                                                                                                                                                                                                                                     però non  sono  **terribilmente** sorpreso : ho visto passare un sacco di gente che col potere perde la propria identità ."
      ],
      "text/plain": [
       "<IPython.core.display.Markdown object>"
      ]
     },
     "metadata": {},
     "output_type": "display_data"
    },
    {
     "data": {
      "text/markdown": [
       "non riesco a capire come delle persone possano prendersi così  **terribilmente**  sul serio ."
      ],
      "text/plain": [
       "<IPython.core.display.Markdown object>"
      ]
     },
     "metadata": {},
     "output_type": "display_data"
    },
    {
     "data": {
      "text/markdown": [
       "felici di non essere ricchi ma studenti di college , come nei film della giovane america che corre , un po  retorica e plastificata ma  **terribilmente**  ingenua , simpatica , con un bel cuore fresco ."
      ],
      "text/plain": [
       "<IPython.core.display.Markdown object>"
      ]
     },
     "metadata": {},
     "output_type": "display_data"
    },
    {
     "data": {
      "text/markdown": [
       "amo le grandi arterie ma soffro **terribilmente** in città intrappolata nel caos , asfissiata dalle auto , alla ricerca ossessiva di un parcheggio : ne va del mio tempo che , invece ,  ho  scelto di razionalizzare al massimo ."
      ],
      "text/plain": [
       "<IPython.core.display.Markdown object>"
      ]
     },
     "metadata": {},
     "output_type": "display_data"
    },
    {
     "data": {
      "text/markdown": [
       "la roma soffre  **terribilmente**  in difesa , la squadra è allungata e il centrocampo non riesce a fare diga ."
      ],
      "text/plain": [
       "<IPython.core.display.Markdown object>"
      ]
     },
     "metadata": {},
     "output_type": "display_data"
    },
    {
     "data": {
      "text/markdown": [
       "per di più i granata , sempre sprofondati in zona pericolo , sono  **terribilmente**  ingenui sul gol giallorosso ."
      ],
      "text/plain": [
       "<IPython.core.display.Markdown object>"
      ]
     },
     "metadata": {},
     "output_type": "display_data"
    },
    {
     "data": {
      "text/markdown": [
       "se davvero è scivolata su un destino imprevisto , farà bene a rialzarsi contro il manchester united in una partita **terribilmente** importante e  **terribilmente**  prematura ."
      ],
      "text/plain": [
       "<IPython.core.display.Markdown object>"
      ]
     },
     "metadata": {},
     "output_type": "display_data"
    },
    {
     "data": {
      "text/markdown": [
       "milano è  **terribilmente**  indietro e ieri il presidente della confindustria , giorgio fossa , non ha mancato di sottolinearlo con forza affermando che piazza affari è un mercato che , per scambi e numero di società quotate   è al livello della borsa di teheran   ."
      ],
      "text/plain": [
       "<IPython.core.display.Markdown object>"
      ]
     },
     "metadata": {},
     "output_type": "display_data"
    },
    {
     "data": {
      "text/markdown": [
       "brescia    cinico , spietato ,  **terribilmente**  concreto ."
      ],
      "text/plain": [
       "<IPython.core.display.Markdown object>"
      ]
     },
     "metadata": {},
     "output_type": "display_data"
    },
    {
     "data": {
      "text/markdown": [
       "cesar gaviria , l  ex presidente colombiano che oggi presiede , a washington , l  organizzazione degli stati americani   oas   , si proclama    **terribilmente**  preoccupato   ."
      ],
      "text/plain": [
       "<IPython.core.display.Markdown object>"
      ]
     },
     "metadata": {},
     "output_type": "display_data"
    },
    {
     "data": {
      "text/markdown": [
       "il nostro è un gioco bello da vedere ma , almeno per adesso  **terribilmente**  faticoso da portare avanti ."
      ],
      "text/plain": [
       "<IPython.core.display.Markdown object>"
      ]
     },
     "metadata": {},
     "output_type": "display_data"
    },
    {
     "data": {
      "text/markdown": [
       "scatta la curiosità per questo concetto che ribalta  e  addolcisce le accuse che di consueto vengono fatte ai piccoli felini di casa , di essere cioè poco affezionati ai padroni , troppo indipendenti , **terribilmente** opportunisti ."
      ],
      "text/plain": [
       "<IPython.core.display.Markdown object>"
      ]
     },
     "metadata": {},
     "output_type": "display_data"
    },
    {
     "data": {
      "text/markdown": [
       "ma al di là della valanga di critiche   tecniche   sollevate dallo stesso borrelli , dal giudice mario almerighi , dal fondatore del nuovo gruppo , il consigliere del csm antonio frasso , la vera protagonista di quest  assemblea gremita come poche è stata l  emotività di una categoria che si sente accerchiata , spinta dal potere politico dentro un recinto normativo che sembra andarle  **terribilmente**  stretto ."
      ],
      "text/plain": [
       "<IPython.core.display.Markdown object>"
      ]
     },
     "metadata": {},
     "output_type": "display_data"
    },
    {
     "data": {
      "text/markdown": [
       "proprio perché gesto estremo , va specchiato nel quotidiano : deve almeno ,  **terribilmente**  servire , come manifestazione del   nulla   , il male del nulla lo chiamava david maria turoldo ."
      ],
      "text/plain": [
       "<IPython.core.display.Markdown object>"
      ]
     },
     "metadata": {},
     "output_type": "display_data"
    },
    {
     "data": {
      "text/markdown": [
       "anche se sono sempre un po  apocalittico , devo dire che il terzo millennio mi attira  **terribilmente**    ."
      ],
      "text/plain": [
       "<IPython.core.display.Markdown object>"
      ]
     },
     "metadata": {},
     "output_type": "display_data"
    },
    {
     "data": {
      "text/markdown": [
       "non poteva sapere  allora  quanto sarebbe stato **terribilmente** vero per lui ."
      ],
      "text/plain": [
       "<IPython.core.display.Markdown object>"
      ]
     },
     "metadata": {},
     "output_type": "display_data"
    },
    {
     "data": {
      "text/markdown": [
       "ma i suoi argomenti sono  **terribilmente**  seri ."
      ],
      "text/plain": [
       "<IPython.core.display.Markdown object>"
      ]
     },
     "metadata": {},
     "output_type": "display_data"
    },
    {
     "data": {
      "text/markdown": [
       "il leader dell  ulster unionist party , david trimble , finora il più restio ad ammettere la possibilità di un accordo sul futuro assetto costituzionale delle sei contee del nordirlanda , ieri ha concesso la prima apertura ai cattolici nazionalisti del sinn féin :   non sono  **terribilmente**  ottimista , ma l  accordo è possibile   , ha detto trimble , che rappresenta il partito più votato dai protestanti unionisti ."
      ],
      "text/plain": [
       "<IPython.core.display.Markdown object>"
      ]
     },
     "metadata": {},
     "output_type": "display_data"
    },
    {
     "data": {
      "text/markdown": [
       "chi crede che bertinotti sia un comunista si sbaglia di grosso : è un massimalista con forti dosi di narcisismo il che complica  **terribilmente**  le cose ."
      ],
      "text/plain": [
       "<IPython.core.display.Markdown object>"
      ]
     },
     "metadata": {},
     "output_type": "display_data"
    },
    {
     "data": {
      "text/markdown": [
       "eppure , nella vita di relazione , lei può essere  **terribilmente**  insofferente , distaccato , distratto ."
      ],
      "text/plain": [
       "<IPython.core.display.Markdown object>"
      ]
     },
     "metadata": {},
     "output_type": "display_data"
    },
    {
     "data": {
      "text/markdown": [
       "e perfino il poeta yeats , all  epoca non solidale con i rivoltosi , scrisse dopo le esecuzioni che   era nato qualcosa di  **terribilmente**  bello   ."
      ],
      "text/plain": [
       "<IPython.core.display.Markdown object>"
      ]
     },
     "metadata": {},
     "output_type": "display_data"
    },
    {
     "data": {
      "text/markdown": [
       "e  una vita molto dura che riunisce diverse generazioni di allievi , a cui se ne aggiungeranno altre  **terribilmente**  giovani , con continuo successo sia a casa che nei viaggi per il mondo , da noi assunti come una missione per parlare agli altri e scoprire gli altri ."
      ],
      "text/plain": [
       "<IPython.core.display.Markdown object>"
      ]
     },
     "metadata": {},
     "output_type": "display_data"
    },
    {
     "data": {
      "text/markdown": [
       "catastrofi accidentali e catastrofi provocate dai dittatori di tutte le latitudini sono infatti  **terribilmente**  simili ."
      ],
      "text/plain": [
       "<IPython.core.display.Markdown object>"
      ]
     },
     "metadata": {},
     "output_type": "display_data"
    },
    {
     "data": {
      "text/markdown": [
       "l  intervento umanitario è al tempo stesso un  idea immensamente forte e  **terribilmente**  imprecisa ."
      ],
      "text/plain": [
       "<IPython.core.display.Markdown object>"
      ]
     },
     "metadata": {},
     "output_type": "display_data"
    },
    {
     "data": {
      "text/markdown": [
       "mi sei mancato  **terribilmente**  ."
      ],
      "text/plain": [
       "<IPython.core.display.Markdown object>"
      ]
     },
     "metadata": {},
     "output_type": "display_data"
    },
    {
     "data": {
      "text/markdown": [
       "l  ascesa di haider mi ha spaventato  **terribilmente**  ."
      ],
      "text/plain": [
       "<IPython.core.display.Markdown object>"
      ]
     },
     "metadata": {},
     "output_type": "display_data"
    }
   ],
   "source": [
    "res6 = find_sentences_with_keyword(document6, 'terribilmente')"
   ]
  },
  {
   "cell_type": "code",
   "execution_count": 41,
   "id": "38479abc",
   "metadata": {},
   "outputs": [
    {
     "data": {
      "text/html": [
       "<div>\n",
       "<style scoped>\n",
       "    .dataframe tbody tr th:only-of-type {\n",
       "        vertical-align: middle;\n",
       "    }\n",
       "\n",
       "    .dataframe tbody tr th {\n",
       "        vertical-align: top;\n",
       "    }\n",
       "\n",
       "    .dataframe thead th {\n",
       "        text-align: right;\n",
       "    }\n",
       "</style>\n",
       "<table border=\"1\" class=\"dataframe\">\n",
       "  <thead>\n",
       "    <tr style=\"text-align: right;\">\n",
       "      <th></th>\n",
       "      <th>sentences</th>\n",
       "    </tr>\n",
       "  </thead>\n",
       "  <tbody>\n",
       "    <tr>\n",
       "      <th>0</th>\n",
       "      <td>vladimir con un   intonazione terribilmente gu...</td>\n",
       "    </tr>\n",
       "    <tr>\n",
       "      <th>1</th>\n",
       "      <td>si sentiva , però , terribilmente sveglio ; lo...</td>\n",
       "    </tr>\n",
       "    <tr>\n",
       "      <th>2</th>\n",
       "      <td>allo scopo di sollevare lo sguardo languido ve...</td>\n",
       "    </tr>\n",
       "    <tr>\n",
       "      <th>3</th>\n",
       "      <td>per mrs   verloc questo appariva chiaro : che ...</td>\n",
       "    </tr>\n",
       "    <tr>\n",
       "      <th>4</th>\n",
       "      <td>introducendo poi , non appena le riuscì , il f...</td>\n",
       "    </tr>\n",
       "  </tbody>\n",
       "</table>\n",
       "</div>"
      ],
      "text/plain": [
       "                                           sentences\n",
       "0  vladimir con un   intonazione terribilmente gu...\n",
       "1  si sentiva , però , terribilmente sveglio ; lo...\n",
       "2  allo scopo di sollevare lo sguardo languido ve...\n",
       "3  per mrs   verloc questo appariva chiaro : che ...\n",
       "4  introducendo poi , non appena le riuscì , il f..."
      ]
     },
     "execution_count": 41,
     "metadata": {},
     "output_type": "execute_result"
    }
   ],
   "source": [
    "res6.head()"
   ]
  },
  {
   "cell_type": "markdown",
   "id": "d964bc82",
   "metadata": {},
   "source": [
    "### Zeitraum 7: 2001-2021"
   ]
  },
  {
   "cell_type": "code",
   "execution_count": 42,
   "id": "2aff3e31",
   "metadata": {},
   "outputs": [],
   "source": [
    "text7 = ''\n",
    "for i in df7.cleaned_text:\n",
    "    text7 += i"
   ]
  },
  {
   "cell_type": "code",
   "execution_count": 43,
   "id": "0f26b097",
   "metadata": {},
   "outputs": [],
   "source": [
    "document7 = nltk.sent_tokenize(text7)"
   ]
  },
  {
   "cell_type": "code",
   "execution_count": 44,
   "id": "edb673ec",
   "metadata": {},
   "outputs": [
    {
     "data": {
      "text/markdown": [
       "i grandi giornali italiani, purtroppo, lo hanno affrontato con argomentazioni **terribilmente** vecchie  ."
      ],
      "text/plain": [
       "<IPython.core.display.Markdown object>"
      ]
     },
     "metadata": {},
     "output_type": "display_data"
    },
    {
     "data": {
      "text/markdown": [
       "e qundo toccano i diritti umani io mi arrabbio **terribilmente** ."
      ],
      "text/plain": [
       "<IPython.core.display.Markdown object>"
      ]
     },
     "metadata": {},
     "output_type": "display_data"
    },
    {
     "data": {
      "text/markdown": [
       "suona piuttosto come un disco di rock ben suonato e ben scritto, ma **terribilmente** già sentito e **terribilmente** demodé."
      ],
      "text/plain": [
       "<IPython.core.display.Markdown object>"
      ]
     },
     "metadata": {},
     "output_type": "display_data"
    },
    {
     "data": {
      "text/markdown": [
       "biagi scrive a maroni un messaggio amareggiato e **terribilmente** profetico:   qualora dovesse accadermi qualcosa desidero si sappia che avevo informato inutilmente le autorità  ."
      ],
      "text/plain": [
       "<IPython.core.display.Markdown object>"
      ]
     },
     "metadata": {},
     "output_type": "display_data"
    },
    {
     "data": {
      "text/markdown": [
       "berserk sta diventando **terribilmente** convenzionale."
      ],
      "text/plain": [
       "<IPython.core.display.Markdown object>"
      ]
     },
     "metadata": {},
     "output_type": "display_data"
    },
    {
     "data": {
      "text/markdown": [
       "dovevamo sfregarci ben bene anche le mani, perché puzzavano **terribilmente** ."
      ],
      "text/plain": [
       "<IPython.core.display.Markdown object>"
      ]
     },
     "metadata": {},
     "output_type": "display_data"
    },
    {
     "data": {
      "text/markdown": [
       "in particolarenel dicembre      la hs distribuzione di salorno  bolzano  venne pizzicata dalla guardia di finanza durante un operazione anti pirateria., coloro a cui la possibilità veniva offerta, e cioè gli individui in cui il comandante del lager o i suoi delegati  che spesso erano buoni psicologi  intravedevano la potenzialità del collaboratore: rei comuni tratti dalle carceri, a cui lapotrebbe essere un   occasione per ripensare a tutto questo, perché ha messo in luce il fatto che i sistemi globali sono **terribilmente** vulnerabili."
      ],
      "text/plain": [
       "<IPython.core.display.Markdown object>"
      ]
     },
     "metadata": {},
     "output_type": "display_data"
    },
    {
     "data": {
      "text/markdown": [
       "hiroshima è documento **terribilmente** eloquente e paradigma spaventosamente profetico a questo riguardo."
      ],
      "text/plain": [
       "<IPython.core.display.Markdown object>"
      ]
     },
     "metadata": {},
     "output_type": "display_data"
    },
    {
     "data": {
      "text/markdown": [
       "pertanto l   aria che raggiunse l   estremo nord dell   europa non poteva che essere **terribilmente** fredda."
      ],
      "text/plain": [
       "<IPython.core.display.Markdown object>"
      ]
     },
     "metadata": {},
     "output_type": "display_data"
    },
    {
     "data": {
      "text/markdown": [
       "**terribilmente** innamorato?"
      ],
      "text/plain": [
       "<IPython.core.display.Markdown object>"
      ]
     },
     "metadata": {},
     "output_type": "display_data"
    },
    {
     "data": {
      "text/markdown": [
       "mi sentivo **terribilmente** solo, tutto mi sembrava ostile."
      ],
      "text/plain": [
       "<IPython.core.display.Markdown object>"
      ]
     },
     "metadata": {},
     "output_type": "display_data"
    },
    {
     "data": {
      "text/markdown": [
       "tutto è ora assorbito dal fattore b. e questo sta impoverendo **terribilmente** la cultura critica e intellettuale del nostro paese."
      ],
      "text/plain": [
       "<IPython.core.display.Markdown object>"
      ]
     },
     "metadata": {},
     "output_type": "display_data"
    },
    {
     "data": {
      "text/markdown": [
       "in quantola gente alla mtm si impegnano al massimo per noi, e noi ci impegniamo al massimo per loro, questa si chiama partnership!gli analisti di morgan stanley hanno alzato a  ,  euro per azione il target price sullistituto guidato da alessandro profumo.in quella metà di campionato disputa    presenze segnando   gol.sono **terribilmente** spiacente   ma purtroppo al momento non sono in casa   siete pregati di passareci dispiace dover far fronte a una tale opposizione  ."
      ],
      "text/plain": [
       "<IPython.core.display.Markdown object>"
      ]
     },
     "metadata": {},
     "output_type": "display_data"
    },
    {
     "data": {
      "text/markdown": [
       "sushi   guarda la scheda per capire il sushi pensiero, quello oscuro e delizioso del secondo album   un mondo **terribilmente** volgare  , mi reco direttamente nel cuore di torino, dove abitano ale e otti, rispettivamente tastiere e voce dellaun tatticismo che perde credibilità per questo, un minuto dopo la soluzione del rapimento di mastrogiacomo, quello stesso dovere della verità dovrà essere onorato per spiegare il senso della nostra presenza in afghanistan.oh oh sono **terribilmente** in ritardo le faccio le mie scuse signora ma devo andare l ingresso ne ospita la biografia, la camera ritaglia uno spazio destinato a raccogliere i sogni degli utenti.,    febbraio      comunicato stampa del            un convegno dedicato al futuro della zootecnia maremmana domani , a spergolaia di alberese, alle  ,  ."
      ],
      "text/plain": [
       "<IPython.core.display.Markdown object>"
      ]
     },
     "metadata": {},
     "output_type": "display_data"
    },
    {
     "data": {
      "text/markdown": [
       "poi è **terribilmente** triste perché suo padre muore da artista incompiuto, perciò parecchia della sua tristezza è proprio per suo padre."
      ],
      "text/plain": [
       "<IPython.core.display.Markdown object>"
      ]
     },
     "metadata": {},
     "output_type": "display_data"
    },
    {
     "data": {
      "text/markdown": [
       "testo   scena x atto ii   nosside: la corona splendidissima brillò tra lo stupore di tutti, lanciando lampi **terribilmente** convincenti."
      ],
      "text/plain": [
       "<IPython.core.display.Markdown object>"
      ]
     },
     "metadata": {},
     "output_type": "display_data"
    },
    {
     "data": {
      "text/markdown": [
       "anche se ai genitori ashoke e ashima  irfan khan e tabu  mancano **terribilmente** la cultura e la famiglia che li circondava e li proteggeva in india, essi sono molto fieri delle grandi opportunità che,che non è di per sé né minaccioso né pericoloso, ma sicuramente impegnativo e di lunga durata."
      ],
      "text/plain": [
       "<IPython.core.display.Markdown object>"
      ]
     },
     "metadata": {},
     "output_type": "display_data"
    },
    {
     "data": {
      "text/markdown": [
       "ma nonostante ciò  anzi, proprio per questo  **terribilmente** pericolosi."
      ],
      "text/plain": [
       "<IPython.core.display.Markdown object>"
      ]
     },
     "metadata": {},
     "output_type": "display_data"
    },
    {
     "data": {
      "text/markdown": [
       "un suzuki professore di   filosofia buddhista   riproduce senza raccapriccio nel suo e nostro secolo, o almeno senza esprimere ragionevoli dubbi, le citate confessioni di questi martìri gratuiticon il minimo sforzo il modena supera il messina e resta agganciato al treno promozione.un americano, la cui identità non è stata diffusa per motivi di privacy, non aveva tuttavia pensato ad un dettaglio assai importante: la sensibilità emotiva della propria fidanzata.amico che in fondo nessuno al mondo è un perfetto umano, ma che leth, come lui stesso, sono semplicemente degli esseri **terribilmente** limitati che   capiranno qualcosa forse fra due giorni  ."
      ],
      "text/plain": [
       "<IPython.core.display.Markdown object>"
      ]
     },
     "metadata": {},
     "output_type": "display_data"
    },
    {
     "data": {
      "text/markdown": [
       "mi sentivo sola, **terribilmente** sola."
      ],
      "text/plain": [
       "<IPython.core.display.Markdown object>"
      ]
     },
     "metadata": {},
     "output_type": "display_data"
    },
    {
     "data": {
      "text/markdown": [
       "e quando stavo a piangere perché realizzavo quello che avevo perduto, non potendo fare niente per rimediare a nonil disco è un balzo indietro nel tempo.da sempre la saga di ff si fa pioniera di nuovi standard videoludici: pare che la magia si ripeterà.ostrogoti ed infine i longobardi, i quali nel     rappresentarono il colpo di grazia inferto ad una terra che era uscita **terribilmente** stremata da questa serie di lotte, con l   economia rovinata e le sue pianure completamente devastate e spopolate."
      ],
      "text/plain": [
       "<IPython.core.display.Markdown object>"
      ]
     },
     "metadata": {},
     "output_type": "display_data"
    },
    {
     "data": {
      "text/markdown": [
       "credo che molti giornalisti americani siano **terribilmente** delusi dal comportamento del governo e molto seccati che imponga la propaganda a tutti e scoraggi quelli che cercano dicon l   aiuto delle parole di disegnarne i contorni, di ritrovarlo, quando tutto intorno era magma, era fretta, era panico e cazzate."
      ],
      "text/plain": [
       "<IPython.core.display.Markdown object>"
      ]
     },
     "metadata": {},
     "output_type": "display_data"
    },
    {
     "data": {
      "text/markdown": [
       "un film assolutamente senza trama, con inquadrature alla beautiful, effetti orribilmente plastici ed artficiosi, incongruenze storiche, dialoghi banali e scontatissimi  vedi quello **terribilmente**il difensore rossonero non verrà convocato per la sfi da di coppa uefa, per lui due giorni di riposo totale.linizio dei lavori è previsto per settembre, in concomitanza con la partenza della nuova stagione calcistica.fino ad ulan batar è facile che troviate i biglietti anche il giorno stesso alla stazione."
      ],
      "text/plain": [
       "<IPython.core.display.Markdown object>"
      ]
     },
     "metadata": {},
     "output_type": "display_data"
    },
    {
     "data": {
      "text/markdown": [
       "la cosa invece si complica **terribilmente** da ulan batar a pechino."
      ],
      "text/plain": [
       "<IPython.core.display.Markdown object>"
      ]
     },
     "metadata": {},
     "output_type": "display_data"
    },
    {
     "data": {
      "text/markdown": [
       "il ensiero di altri   anni di governo formigoni mi deprime **terribilmente** , mi deprime vedere che vanno decadendo gli ideali di solidarietà che sono stati sempre tanto forti in lombardia."
      ],
      "text/plain": [
       "<IPython.core.display.Markdown object>"
      ]
     },
     "metadata": {},
     "output_type": "display_data"
    },
    {
     "data": {
      "text/markdown": [
       ":  :   strakaliux x lila       comunque chirac è un uomo **terribilmente** intelligente, incredibilmente affascinante, ed è nato come uomo di sinistra, peccato che ha già    anni       cavolo, sel accordo è stato raggiunto per i prossimi   anni con un ingaggio di     milioni.e la cancellazione di  ballaròlho detto.latte, le api spontaneamente portavano alle sue labbra il miele e i sacerdoti di cibele  i cureti o coribanti  facevano **terribilmente** risuonare armi e scudi, battendoli fra loro con gran forza ogni volta che il piccolo piangeva, perché cronos non loanche carles puyol e   convinto che il barca non potra   permettersi di sbagliare nulla: i blaugrana vogliono dare dimostrazione di maturita  il milan ha la miglior difesa al mondo, con giocatori che hanno esperienza.i morti sono     e oltre  ."
      ],
      "text/plain": [
       "<IPython.core.display.Markdown object>"
      ]
     },
     "metadata": {},
     "output_type": "display_data"
    },
    {
     "data": {
      "text/markdown": [
       "i passi dell   agente addetto alla consegna sembrano **terribilmente** lenti."
      ],
      "text/plain": [
       "<IPython.core.display.Markdown object>"
      ]
     },
     "metadata": {},
     "output_type": "display_data"
    },
    {
     "data": {
      "text/markdown": [
       "lel ex punta dell inter ha voglia di rimanere in italia e di giocare in un club che punta a conquistare il posto in europa, ecco perché il raggio di azione si è ristretto a due squadre: lazio e napoli.ci prova foglini imbeccato da castellano, la conclusione è alta.non possiamo ancora ignorare l impatto dell effetto serra sugli uomini e questo e  quindi un richiamo ai negoziatori per riuscire a raggiungere l accordo piu  ambizioso possibile .diversa solo per far spazio a un italiano perchè tale, nonostante fossero tutti di qualità, ammettiamolo, **terribilmente** media  ."
      ],
      "text/plain": [
       "<IPython.core.display.Markdown object>"
      ]
     },
     "metadata": {},
     "output_type": "display_data"
    },
    {
     "data": {
      "text/markdown": [
       "la strega aveva una gobba ad uncino, era **terribilmente** orrenda, aveva un solo dente, puzzava di acqua di fogna e spesso faceva anche dei rumori osceni!"
      ],
      "text/plain": [
       "<IPython.core.display.Markdown object>"
      ]
     },
     "metadata": {},
     "output_type": "display_data"
    },
    {
     "data": {
      "text/markdown": [
       "ero **terribilmente** spiacente non potendo dar loro alcuna informazione che potesse soddisfare le loro aspettative."
      ],
      "text/plain": [
       "<IPython.core.display.Markdown object>"
      ]
     },
     "metadata": {},
     "output_type": "display_data"
    },
    {
     "data": {
      "text/markdown": [
       "ma furba, **terribilmente** furba, nello sfruttare il sistema dei media."
      ],
      "text/plain": [
       "<IPython.core.display.Markdown object>"
      ]
     },
     "metadata": {},
     "output_type": "display_data"
    },
    {
     "data": {
      "text/markdown": [
       "chi sa perché, il vedermi diventare di punto in bianco un marito esemplare, le diede **terribilmente** ai nervi."
      ],
      "text/plain": [
       "<IPython.core.display.Markdown object>"
      ]
     },
     "metadata": {},
     "output_type": "display_data"
    },
    {
     "data": {
      "text/markdown": [
       "i preti che hanno ottenuto tali riconoscimenti sono così **terribilmente** reazionari e di destra che sono anche negazionisti della shoah."
      ],
      "text/plain": [
       "<IPython.core.display.Markdown object>"
      ]
     },
     "metadata": {},
     "output_type": "display_data"
    },
    {
     "data": {
      "text/markdown": [
       "andremo avanti a governare con una fiducia che ci verrà data al senato   dichiara il presidente del consiglio   e che penso ci verrà data anche alla camera.ogni città stabilisce i criteri di apertura domenicale e festiva nel rispetto della disciplina del commercio nota come decreto bersani.un flusso ininterrotto di visitatori, oltre    mila quelli che si sono lasciati travolgere da scoperte ed innovazioni scientifiche  toccate con mano  attraverso laboratori, giochi, seminari e mostre con visite guidate.negli ultimi anni i nuovi ipod sono stati sempre presentati a settembre, di solito nella prima settimana del mese, e sono arrivati nei negozi poco dopo, per preparare il terreno alla stagione dei regali natalizi.sanremo: clerici, faro  una sexy sorpresa al festival   yahoo!la paura sembra dunque il fattore chiave per la fuga dall azionario.merita di aspirare a qualunque ruolo .la cina vuole accrescere la sua statura nel contesto dell ordine multilaterale.lallarme ha una sua funzione informativa corretta ed utile in chiave costruttiva, lallarmismo ha una connotazione fortemente negativa.solo nel finale si assiste a un risveglio delle due compagini, che cercano il  colpò da tre punti.ceci è caduto anch egli due volte, fortunatamente senza conseguenze, dopo di che ha preferito evitare altri sorpassi che sarebbero stati troppo pericolosi.comitato di cascina sopra e parrocchia di san macario  quella lombarda  hanno deciso di devolvere tutto il ricavato della manifestazione dell epifania alla parrocchia di san macario al piano.che valore può avere la vita, se non soffro, se non amo?due mete, invece, sono state  completate  da piri weepu.che gira a davos è questa, la strada per  liberarsi  del governatore di via nazionale è una partita internazionale **terribilmente** complessa."
      ],
      "text/plain": [
       "<IPython.core.display.Markdown object>"
      ]
     },
     "metadata": {},
     "output_type": "display_data"
    },
    {
     "data": {
      "text/markdown": [
       "mi dispiace **terribilmente** per quello che ti è successo, davvero."
      ],
      "text/plain": [
       "<IPython.core.display.Markdown object>"
      ]
     },
     "metadata": {},
     "output_type": "display_data"
    },
    {
     "data": {
      "text/markdown": [
       "immagini che si materializzano davanti a noi come cartoline in bianco e nero di una new york viva, struggente e **terribilmente** affascinante."
      ],
      "text/plain": [
       "<IPython.core.display.Markdown object>"
      ]
     },
     "metadata": {},
     "output_type": "display_data"
    },
    {
     "data": {
      "text/markdown": [
       ".via marche attende la sentenza, ma intanto dopo giorni di nuvole e pioggia, è spuntato il sole.nelle immagini successive, si vede arrighi avvicinarsi al cadavere, portando con sè dei sacchi della spazzatura, e poi estrarre dalla cintura della vittima una pistola, che brambilla porta sempre con sè.gli aggressori si sarebbero accaniti con particolare ferocia sulle dita delle sue mani.e il ministero continua a posticipare l erogazione dei finanziamenti, cosicché le scuole sono davvero alla fame.i rosanero hanno attaccanti molto mobili come miccoli e cavani, ma anche pastore va tenuto d occhio..  la seconda parte del film poi è ancora peggiore perché con la sua prevedibilità rende la storia scontata e la pellicola **terribilmente** lenta."
      ],
      "text/plain": [
       "<IPython.core.display.Markdown object>"
      ]
     },
     "metadata": {},
     "output_type": "display_data"
    },
    {
     "data": {
      "text/markdown": [
       "mi sentivo **terribilmente** in colpa."
      ],
      "text/plain": [
       "<IPython.core.display.Markdown object>"
      ]
     },
     "metadata": {},
     "output_type": "display_data"
    },
    {
     "data": {
      "text/markdown": [
       "ho telefonato a mio padre, mandato un messaggio a un amico che mi aveva incoraggiato a tenere duro e ho scrittoil cammino della carpisa yamamay è stato tortuoso, con tre sconfitte iniziali che hanno preceduto le vittoria contro bogliasco e chiavari.roma,    gen   avvio in rialzo alla borsa di londra.il passaggio al senato americano rappresenta un primo passo verso la ratifica di questo accordo.che cosa     il wifi?solamente a tali condizioni, ha avvertito il pontefice,  ldquo; il passaggio epocale che stiamo attraversando può rivelarsi ricco e fecondo di nuove opportunità.lo ha comunicato la mortgage bankers association.e migliaia di industrie di guerra si raccoglie in una bomba di sovraterrena potenza, che mette al bivio: o essere **terribilmente** violenti o essere inferiori sul piano della forza."
      ],
      "text/plain": [
       "<IPython.core.display.Markdown object>"
      ]
     },
     "metadata": {},
     "output_type": "display_data"
    },
    {
     "data": {
      "text/markdown": [
       "titolo: re: lucciolii post di ekinos il          alle ore   :  :     nulla mi rifiuterà d  esistere se credo **terribilmente**     pietro jahier   titolo: re: lucciolii post di digrumante il          alle ore   :  :    chi più ama è soccombente memphis,    feb   sono la russa maria sharapova e la svedese sofia arvidsson le protagoniste della finale del torneo wta di memphis.dall  edificio di via libertà italiana sono stati sgomberati tutti gli abitanti.nel classico verrà introdotto l rsquo; insegnamento di una lingua straniera per l rsquo; intero quinquennio, potenziando anche l rsquo; area scientifica e matematica.dalla pedana del blindato ha sferrato un calcio verso un vicequestore e ha colpito un collega .sono circa  ."
      ],
      "text/plain": [
       "<IPython.core.display.Markdown object>"
      ]
     },
     "metadata": {},
     "output_type": "display_data"
    },
    {
     "data": {
      "text/markdown": [
       ", le ho risposto  e sono atea ,  qualcosa deve essere andato **terribilmente** male ."
      ],
      "text/plain": [
       "<IPython.core.display.Markdown object>"
      ]
     },
     "metadata": {},
     "output_type": "display_data"
    },
    {
     "data": {
      "text/markdown": [
       "furono armando cossutta e leoluca orlando a dire:mette assieme un gruppo di giovani volontarie disposte ad insegnare senza paga e così dà inizio al primo nucleo delle suore di san giuseppe del sacro cuore di gesù, dette brevemente giuseppine.ci sono i titoli di stato, a scadenza lunga.della televisione italiana sia stata partorita iniziativa più insulsa ed inutile, dispendiosa per i contribuenti e **terribilmente** poco educativa, anche sotto l aspetto dell intrattenimento."
      ],
      "text/plain": [
       "<IPython.core.display.Markdown object>"
      ]
     },
     "metadata": {},
     "output_type": "display_data"
    },
    {
     "data": {
      "text/markdown": [
       "questa deliziosa cagnolina sta soffrendo **terribilmente** la reclusione."
      ],
      "text/plain": [
       "<IPython.core.display.Markdown object>"
      ]
     },
     "metadata": {},
     "output_type": "display_data"
    },
    {
     "data": {
      "text/markdown": [
       "un blog emo questo blog è diventato **terribilmente** passivo."
      ],
      "text/plain": [
       "<IPython.core.display.Markdown object>"
      ]
     },
     "metadata": {},
     "output_type": "display_data"
    },
    {
     "data": {
      "text/markdown": [
       "gli uomini che il marchese aveva messo a sua disposizione erano circa un migliaio, **terribilmente** pochi, per lui che conosceva la minaccia da affrontare."
      ],
      "text/plain": [
       "<IPython.core.display.Markdown object>"
      ]
     },
     "metadata": {},
     "output_type": "display_data"
    },
    {
     "data": {
      "text/markdown": [
       "non scherzate su queste cose  la voce di bulgheroni si era fatta **terribilmente** seria."
      ],
      "text/plain": [
       "<IPython.core.display.Markdown object>"
      ]
     },
     "metadata": {},
     "output_type": "display_data"
    },
    {
     "data": {
      "text/markdown": [
       "saluti fb il milan invece, non fosse stato per ibra sul quale mi soffermerò dopo, mi sembra **terribilmente** uguale a se stesso, immutabile nei suoi equivoci, irritante nella sua lentezza, incomprensibile in alcune non ."
      ],
      "text/plain": [
       "<IPython.core.display.Markdown object>"
      ]
     },
     "metadata": {},
     "output_type": "display_data"
    },
    {
     "data": {
      "text/markdown": [
       "all  inizio si capisce bene che nexus sarà anche temuto e potente, ma è anche **terribilmente** solo."
      ],
      "text/plain": [
       "<IPython.core.display.Markdown object>"
      ]
     },
     "metadata": {},
     "output_type": "display_data"
    },
    {
     "data": {
      "text/markdown": [
       "il modena f. c. ricorda che potranno acquistare i biglietti del settore  curva ospiti  esclusivamente i possessori della tessera del tifoso.persino un semplice coordinamento delle strategie nazionali sarebbe un passo necessario, per quanto non sufficiente, nella buona direzione.la settimana scorsa, proprio da stoccolma, aveva preannunciato la pubblicazione di altri   mila documenti  entro un paio di settimane .simile richiesta viene spesso ribadita nel forlivese, con l elettrodotto che attraversa anche la città di forlì.perfino ogni volta che starnutiva, gli veniva il mestolino qualunque notizia sentisse alla radio e si affliggeva **terribilmente** quando guardava tramontare il sole."
      ],
      "text/plain": [
       "<IPython.core.display.Markdown object>"
      ]
     },
     "metadata": {},
     "output_type": "display_data"
    },
    {
     "data": {
      "text/markdown": [
       "n   if  or    n       n           fib    n      fib    n        che va calcolare più e più volte gli stessi valori in una maniera **terribilmente** inefficiente!"
      ],
      "text/plain": [
       "<IPython.core.display.Markdown object>"
      ]
     },
     "metadata": {},
     "output_type": "display_data"
    },
    {
     "data": {
      "text/markdown": [
       "rimane lucido, **terribilmente** lucido."
      ],
      "text/plain": [
       "<IPython.core.display.Markdown object>"
      ]
     },
     "metadata": {},
     "output_type": "display_data"
    },
    {
     "data": {
      "text/markdown": [
       "mia madre infatti soffre **terribilmente** di dolori alle ginocchia ma i dottori finora interpellati  facendo anche la tac  si sono limitati a dare cure senzail problema è che le loro decisioni di nuovo investimento sono tardate dall ambiguità sul regime fiscale dei prossimi anni.nonostante l impressionante crescita anno su anno del   ,   registrata nel corso del secondo trimestre del     , il mercato globale pc sta iniziando ad abbracciare una visione di maggior cautela rispetto all atteggiamento dell inizio dell anno.inviato da cauz."
      ],
      "text/plain": [
       "<IPython.core.display.Markdown object>"
      ]
     },
     "metadata": {},
     "output_type": "display_data"
    },
    {
     "data": {
      "text/markdown": [
       "la battuta ha un fondo di verità anche perché i libri sono **terribilmente** costosi, rapportati ai miseri salari di qui."
      ],
      "text/plain": [
       "<IPython.core.display.Markdown object>"
      ]
     },
     "metadata": {},
     "output_type": "display_data"
    },
    {
     "data": {
      "text/markdown": [
       "trovo il passato **terribilmente** doloroso sebbene ci sia legata."
      ],
      "text/plain": [
       "<IPython.core.display.Markdown object>"
      ]
     },
     "metadata": {},
     "output_type": "display_data"
    },
    {
     "data": {
      "text/markdown": [
       "o anche a saturnia dove puzza **terribilmente** ma godi da morì."
      ],
      "text/plain": [
       "<IPython.core.display.Markdown object>"
      ]
     },
     "metadata": {},
     "output_type": "display_data"
    },
    {
     "data": {
      "text/markdown": [
       "e questo   venendo dopo la caduta del muro di berlino   ha sconcertato e **terribilmente** intorbidato le acque in cui deve nuotare la cosiddetta  seconda repubblica  molti riconoscono al primo craxi validespirito che può consentire, ha detto il senatore a vita, di raggiungere traguardi ulteriori.nel complesso, risultato giusto: vero, il guizzo di riise giunto nel recupero può spostare i giudizi, ma la roma ha mostrato di essere molto più squadra.melita toniolo, la   enne  diavolita  ed concorrente del  grande fratello , fotografata in mare e sulla spiaggia di formentera mentre si diverte con alcuni amici e che immortala con la sua macchina digitale.allora, e tanto meno mi convince adesso."
      ],
      "text/plain": [
       "<IPython.core.display.Markdown object>"
      ]
     },
     "metadata": {},
     "output_type": "display_data"
    },
    {
     "data": {
      "text/markdown": [
       "che d  alema come ministro sta facendo bene, nonostante gli sciocchi esibizionismi delil cavaliere è salito al colle nelle vesti di ministro dello sviluppo ad interim, ma l rsquo; occasione è servita anche per fare il punto sulla manovra economica.tocca a kawashima finire dietro la lavagna.su questa nuova lista però gravano diversi interrogativi.il lavoro di  d realms è stato concluso da gearbox software.strutturati  detti volgarmente spazzatura  è pieno di difetti che il congresso ha cercato di ridurre: è un piano **terribilmente** opaco, per curare una crisi nata proprio dall opacità."
      ],
      "text/plain": [
       "<IPython.core.display.Markdown object>"
      ]
     },
     "metadata": {},
     "output_type": "display_data"
    },
    {
     "data": {
      "text/markdown": [
       "il suo compagno montolivo lo colpisce con una tachettata ed è costretto a mettersi un turbante che certamente non lo facilita nella sua prestazione.è giusto che ci siano i parenti delle vittime.l iniziativa sara  accompagnata dalla sfilata del complesso bandistico  città di alassio .dal punto di vista dell autonomia, questo modello è provvisto di una generosa batteria agli ioni di litio con capacità di     mah la quale garantisce un operatività di     ore in standby o   ore in conversazione.lui è stato fermo perché colpito da una sanzione che il giudice ha però definito illegittima.in questa ottica mi auguro   ha evidenziato   che appartengono soltanto a un brutto ricordo del passato, anche recente, alcune esaltazioni di personaggi criminali veramente inaspettate e fuori luogo.tutto è partito da una conference call che la bce ha tenuto venerdì mattina con le principali banche commerciali dell eurosistema riunite nel money market contact group.nostro futuro più prossimo, dando così vita ad un  analisi serrata e per tanti versi catastrofica, ma al tempo stessa **terribilmente** veritiera e ben documentata."
      ],
      "text/plain": [
       "<IPython.core.display.Markdown object>"
      ]
     },
     "metadata": {},
     "output_type": "display_data"
    },
    {
     "data": {
      "text/markdown": [
       "in più occasioni e nei momenti di lucidità lui ripeteva spesso che se la sua famiglia fosse venuta a conoscenza di quella situazione, lui piuttosto di affrontarla si sarebbela gente la convinci facendo le riforme.insolito per noi, il poggiatesta che faceva le veci del nostro cuscino, e si sarà chiesto se questo non risultasse **terribilmente** scomodo."
      ],
      "text/plain": [
       "<IPython.core.display.Markdown object>"
      ]
     },
     "metadata": {},
     "output_type": "display_data"
    },
    {
     "data": {
      "text/markdown": [
       "la velocità con cui i mutamenti avvengono è infatti **terribilmente** aumentata  ."
      ],
      "text/plain": [
       "<IPython.core.display.Markdown object>"
      ]
     },
     "metadata": {},
     "output_type": "display_data"
    },
    {
     "data": {
      "text/markdown": [
       "la stessa cartolina che a noi italiani oggi appare **terribilmente** sbiadita, ma in russia continua a funzionare."
      ],
      "text/plain": [
       "<IPython.core.display.Markdown object>"
      ]
     },
     "metadata": {},
     "output_type": "display_data"
    },
    {
     "data": {
      "text/markdown": [
       "comunque sono **terribilmente** snob e formali ma rispetto all  italiano medio si vestono piuttosto male."
      ],
      "text/plain": [
       "<IPython.core.display.Markdown object>"
      ]
     },
     "metadata": {},
     "output_type": "display_data"
    },
    {
     "data": {
      "text/markdown": [
       "dall atteggiamento degli operai e dalla loro postura curva appariva chiaro che il contenitore era **terribilmente** pesante nonostante le ridotte dimensioni."
      ],
      "text/plain": [
       "<IPython.core.display.Markdown object>"
      ]
     },
     "metadata": {},
     "output_type": "display_data"
    },
    {
     "data": {
      "text/markdown": [
       "ithai dimenticato la password o username?noi proviamo a fare il massimo.combattente straordinario, ferito dalle parole di pietrangeli, fausto si scatena, annulla otto match point, vince l incontro e nello stringere la mano all avversario gli sussurra:  la pasta la butto io .io farei dare un preavviso con tre squilli di tromba e poi fuoco, solo chi era a casa sua, potrà dire: io non c entravo.credo di dover essere giudicato come persona , ha detto casalino presentandosi ai suoi potenziali elettori con un rispetto a tredici anni fa, casalino si dice cambiato.un gioco  folle ,  divertente perchè divertito , in ultimo, quanto e come i  padri nostri , possano venirci **terribilmente** a mancare."
      ],
      "text/plain": [
       "<IPython.core.display.Markdown object>"
      ]
     },
     "metadata": {},
     "output_type": "display_data"
    },
    {
     "data": {
      "text/markdown": [
       "se un uomo non attribuisce valore alla virtù, è capace di fare ogni genere di cose cattive, il che è **terribilmente** pericoloso per il genere umano."
      ],
      "text/plain": [
       "<IPython.core.display.Markdown object>"
      ]
     },
     "metadata": {},
     "output_type": "display_data"
    },
    {
     "data": {
      "text/markdown": [
       "ma gracie miller non cadde forse nel focolare e non si bruciò **terribilmente** proprio il sabato seguente?"
      ],
      "text/plain": [
       "<IPython.core.display.Markdown object>"
      ]
     },
     "metadata": {},
     "output_type": "display_data"
    },
    {
     "data": {
      "text/markdown": [
       "vi sembrerà incredibile ma così miil pm gli contesta le telefonate con l assessore da cui si trae  che l indagato abbia partecipato col ruolo di consigliere, o comunque, suggeritore, alle questioni inerenti l affidamento dei lavori  .convinto che il contatto con i  pagani  contribuirà a  bruciare il popolo ebraico nel forno dell  esilio    parole **terribilmente** profetiche in un libro pubblicato per la prima volta nel       , solo alla morte del vecchio il bambino torna dai lavoro    mesi l anno per pagare le tasse e lo stato che fa?la squadra è solida, anche con questo sistema dobbiamo migliorare la qualità del nostro gioco .il cadavere adesso è all obitorio del policlinico in attesa dell autopsia.è allarmata la preside dell alberghiero vespucci, maria teresa corea:  ho chiamato già lunedì mattina per far venire i tecnici della città metropolitana.l ultima tappa di questo percorso è, in parte, ancora da scrivere.e manca una scala mobile almeno per accedere al sotto passo dall ingresso.borini ha anche fallito un occasione da gol al    , quando il sunderland era già sotto di un gol.l amministrazione obama continuerà a fare pressione  fino all ultimo momento  per avere il numero maggiore possibile di voti, ha chiosato con la cnn il segretario di stato usa, john kerry.in alcuni casi, dove si andrà al ballottaggio per il sindaco, si dovrà aspettare fino alla seconda domenica di maggio per scrivere la parole fine a questa avventura.il friuli   week end con  pagella non solo rock  a udineiscriviti alla nostra newsletter per ricevere in anteprima le notizie regionali.e per non essere vinti non basta abbaiare!aumenta peso tariffe su famiglie confesercenti.in questo modo le grandi aziende avranno man forte nello stabilire le relazioni contrattuali, non considerando le esigenze ed i problemi di un paese basato sulla piccola impresa.altrettanti bus hanno cambiato percorso per tentare di garantire il servizio sulle fette di territorio che altrimenti sarebbero rimaste scoperte.il tasso di sovraffollamento è pertanto del    ,  .la preghiera del mattinoaleppo e la strana  svista  americana  poi invaderete roma, e allah vi darà la forza per conquistarla  perché il califfo vuole proprio roma e non parigi o londra?e tanto vale allora avere dei bravi militari e un po  d ordine.la ricerca per il tag ha prodotto   risultati trump e quel debole per ana ivanovic:  la donna più bella mai vista  tennis, us open: stagione finita per la ivanovic, tornerà nel      wimbledon, williams avanti.a quel punto i rivali, armati di coltello, hanno colpito due dei ragazzi italiani.assemblea annuale anci che si è aperta oggi a firenze alla presenza del presidente della repubblica giorgio napolitano.arriveranno in gran numero soprattutto nella mattinata di sabato.i risultati della   a giornata di serie a raccontati da gasparrimaurizio gasparri racconta a un giorno da pecora i risultati della   a giornata di serie a con un inedito poemetto in rima.isis, la nuova punizione per i comandanti inadempienti: sbranati vivi dai cani se non rispettano gli ordini isis, il nuovo metodo di esecuzione per i prigionieri:  schiacciare il nemico  il regime del terrore continua a seminare paura e morte.l asl di firenze allestirà stand sull influenza aviaria, sul mondo dei funghi e sulla medicina del lavoro.giornata da dimenticare, invece, per il vespa, costretto a cedere sul proprio terreno agli arrembaggi di un aggressivo e quotato quistello.la questione è stata discussa ieri in consiglio comunale dopo un interpellanza del consigliere."
      ],
      "text/plain": [
       "<IPython.core.display.Markdown object>"
      ]
     },
     "metadata": {},
     "output_type": "display_data"
    },
    {
     "data": {
      "text/markdown": [
       ".a testimoniarlo antonella leardi, mamma di ciro e fondatrice di ciro vive, che ha fortemente voluto questa partita ed è convinta che  si può giocare insieme .ma, come sempre accade nelle coppie legate per la vita e per la morte, anche qui non sarà possibile, e neanche legittimo, distinguere il vincitore dal vinto.anche a casa del mio nuovo compagno.davis era molto avaro di complimenti e non è un caso che nella sua ridottissima lista di preferiti ci fossero jimi hendrix e sly stone, due artisti legati a doppio filo al piccolo, immenso musicista di minneapolis.la mercedes benz arena  capienza    mila posti  è pronta a colorarsi nuovamente di gialloblù, dopo la finale per il    posto che alle    vedrà di fronte vitoria e lokomotiv kuban.un complotto di imprenditori ai danni di penati e allora è una vittima che va difesa, oppure la questione sta diventando **terribilmente** seria."
      ],
      "text/plain": [
       "<IPython.core.display.Markdown object>"
      ]
     },
     "metadata": {},
     "output_type": "display_data"
    },
    {
     "data": {
      "text/markdown": [
       "la risposta sembra essere in uno strano morbo, in grado di indebolire **terribilmente** chi ne viene colpito."
      ],
      "text/plain": [
       "<IPython.core.display.Markdown object>"
      ]
     },
     "metadata": {},
     "output_type": "display_data"
    },
    {
     "data": {
      "text/markdown": [
       "sfiancato dal male, il re di darkwoodil principio   quello che ci sia un meccanismo di tutela dei comuni più poveri   può essere condivisibile.l avvio però è stato tutto per la tedesca che saliva     prima di subire cinque giochi consecutivi della polacca, abile a muoversi come una farfalla sull immenso centre court.e la juve ora ci prova   la gazzetta dello sporthttp:  static .e  qui che bisogna agire in modo determinato e autorevole.bisogna voltare pagina, è stata comunque una bella esperienza.l uomo, terrorizzato, ha urlato e imprecato  molto    come si legge su  metro.lo scrutinio delle schede inizierà subito dopo.su samsung galaxy note    edge, a questo punto  si susseguono senza criterio e quindi potrebbe anche darsi che domani ci troveremo qui a smentire tutto: non si tratta di rumor inverosimili, però, ed è per questo che abbiamo volutogli acquirenti sono prevalentemente famiglie alla ricerca di trilocali ma, sul mercato della zona, ci sono anche numerosi bilocali ricavati da operazioni di frazionamento e che sono acquistati soprattutto da investitori.ed inquietudine, tanto che, durante un momento di sconforto, afferma che roma sia una città stupenda, ma   **terribilmente** inconoscibile."
      ],
      "text/plain": [
       "<IPython.core.display.Markdown object>"
      ]
     },
     "metadata": {},
     "output_type": "display_data"
    },
    {
     "data": {
      "text/markdown": [
       "io stesso soffro **terribilmente** per la morte di ogni mio animale, e la addebito a me personalmente."
      ],
      "text/plain": [
       "<IPython.core.display.Markdown object>"
      ]
     },
     "metadata": {},
     "output_type": "display_data"
    },
    {
     "data": {
      "text/markdown": [
       "amniotico e **terribilmente** inquietante, un racconto di iniziazione ed evoluzione impastato di surrealismo, dolore della nascita, incubi diil fondo e il tappo vengono tagliati e le bottiglie vengono inserite nei buchi del pannello.colpa della bellezza di carlà sarkozy in ribasso nei sondaggi?chiedo: quale governo che sia interessato nel mantenere un livello accettabile di benessere e proteggere la sicurezza per i propri cittadini  e contribuenti  non farebbe saggiamente come quello austriaco?il regista napoletano paolo sorrentino di giorno, maestosa tra colonne di pietra bianca sotto un cielo più blu del blu; un canto sacro, turisti rapiti da un silenzio contemplativo.freud consumò tutta la sua vita per capire solo alcuni momenti della complessa personalità dell uomo.inter, banega dietro a icardi bonucci salta il chievo.dopo il congresso farete un ticket?la seconda gara di serie a  e a  fa tappa al mandela forum sabato    marzo  venerdì    marzo      ore   :   inizia la stagione dei guelfi agli ordini di jeff scurranfootball, a .dopo un po  si e  avvicinato un ragazzo di colore che mi ha aiutato a tirare su lo scooter.dialogare, anche perché il problema, **terribilmente** reale, da cui partire è quello del lavoro.a viareggio, stessa ora, va invece di scena il big maych fra roma e juventus  la vincitrice delle ultime tre edizioni della coppa carnevale .esame del progetto di legge  tutela e conservazione del patrimonio documentario e archivistico della repubblica , approvato con   favorevoli e   astenuti.lui insiste e di punto in bianco la blocca, la obbliga a fare quel che vuole.certi ideali sono rimasti legati alla visione che poteva avere la gente appartenente allo scorso secolo, ma nel      tutto è lecito e permesso, altrimenti o sei un bigotto o sei un vecchio dentro.agenzia fides   america peru    l eucaristia, nutrimento per la missione : nel quadro della grande missione in atto nell arcidiocesi di lima, il mese di giugno è dedicato al sacramento dell eucaristia.il sistema fieristico è essenziale per la crescita della politica industriale del paese.all ex presidente di unipol, giovanni consorte, sono stati comminati   anni di reclusione, così come il suo vice, ivano sacchetti.le cose che ci raccontiamo è il nuovo progetto discografico dei perturbazione in concerto: venerdì   alle officine giovani di prato, in piazza dei macelli    tel."
      ],
      "text/plain": [
       "<IPython.core.display.Markdown object>"
      ]
     },
     "metadata": {},
     "output_type": "display_data"
    },
    {
     "data": {
      "text/markdown": [
       "questo perchè piace **terribilmente** alle persone comuni criticare chi è troppo famoso."
      ],
      "text/plain": [
       "<IPython.core.display.Markdown object>"
      ]
     },
     "metadata": {},
     "output_type": "display_data"
    },
    {
     "data": {
      "text/markdown": [
       "quel sistema di rapporti inquietanti, **terribilmente** inquietanti perché generano tensioni mai dichiarate, mai esplicitate, mai dette, fa in qualche modo da contrappesoe qui la sala s infuria: ma nooooooo.la presidente dilma roussef, che era presidente del consiglio di amministrazione di petrobras nel periodo in cui si sono verificati gli episodi di corruzione, non sarebbe coinvolta nell inchiesta.il diavolo batte i campioni trofeo tim: sorpresa sassuolo.a differenza di altre chat, l opzione va però attivata manualmente volta per volta.ladri in azione anche in via paleocapa nel quartiere di oregina.ancora un video di berlusconiè appena arrivato un nuovo video di berlusconi, simile a quello di qualche giorno fa in cui il premier annunciava il suo fidanzamento, poi rimasto misterioso.esistono però grandi passi avanti che potremmo fare: cose scontate, forse, ma delle quali l italia ha discusso per anni senza mai venirne a capo .il bilancio potrebbe però aggravarsi.e questo non vale solo per l antiberlusconismo.in generale per la tutela della  grande bellezza  del nostro paese, è importante che ogni cittadino faccia costantemente la sua parte .le relazioni usa cuba sono qualcosa che nel      fa sorridere.la data prefissata è quella del    marzo prossimo.laguna di venezia: il sito più a rischio in europagiorgio lambrinopulosla grande alluvione del      ha dimostrato a tutto il mondo la gravità e la complessità del problema della conservazione di venezia.e le indagini proseguono ripartendo dalle analisi genetiche sulle tracce trovate sugli abiti della vittima, circa   mila i dna prelevati e analizzati da carabinieri e polizia che lavorano fianco a fianco nell inchiesta.il referendum va usato per cacciare con il no questo governo incapace di fare gli interessi dei cittadini, anti italiano e terzomondista.dei guardiani in infinity war, dichiarando:  ."
      ],
      "text/plain": [
       "<IPython.core.display.Markdown object>"
      ]
     },
     "metadata": {},
     "output_type": "display_data"
    },
    {
     "data": {
      "text/markdown": [
       "i guardiani compariranno in avengers: infinity war ed è una cosa **terribilmente** eccitante."
      ],
      "text/plain": [
       "<IPython.core.display.Markdown object>"
      ]
     },
     "metadata": {},
     "output_type": "display_data"
    },
    {
     "data": {
      "text/markdown": [
       ".la preghiera del mattinoaleppo e la strana  svista  americana thomas merton, il genio scapestrato conquistato da un dio  **terribilmente** solido  destinato al successo mondano, conobbe la goliardia prima di diventare monaco trappista.digne regala la palla a pochi metri dalla sua area, hernandez gliela ruba, la consegna a calhanoglu e sullo scatto brucia de rossi  ovvio , infine r diger tiene in gioco il chicharito quando riceve la palla di ritorno dal suo compagno turco.barbarossa e ramazzotti si sono inseriti nella discussione e sono volate parole pesanti.lei è tra le artiste più internazionali che abbiamo: com è suonare in altri paesi?comunicato che, però, non è mai arrivato.anche in quel caso, le fiamme nel giro di pochi minuti hanno distrutto l abitacolo.golf, caiolo incorona i campioni provinciali   homepage caiolo i cookie ci aiutano ad offrirti un servizio migliore."
      ],
      "text/plain": [
       "<IPython.core.display.Markdown object>"
      ]
     },
     "metadata": {},
     "output_type": "display_data"
    },
    {
     "data": {
      "text/markdown": [
       "questo può sembrare un bricolage grossolano, ma è **terribilmente** efficace."
      ],
      "text/plain": [
       "<IPython.core.display.Markdown object>"
      ]
     },
     "metadata": {},
     "output_type": "display_data"
    },
    {
     "data": {
      "text/markdown": [
       "e dico tutto ciò volendo essere, per una volta, **terribilmente** polemico."
      ],
      "text/plain": [
       "<IPython.core.display.Markdown object>"
      ]
     },
     "metadata": {},
     "output_type": "display_data"
    },
    {
     "data": {
      "text/markdown": [
       "la storia di freddie krueger, un bidello di scuola superiore, uccisore di bambini **terribilmente** sfigurato dal fuoco che torna e caccia i bambini nei loro sogni."
      ],
      "text/plain": [
       "<IPython.core.display.Markdown object>"
      ]
     },
     "metadata": {},
     "output_type": "display_data"
    },
    {
     "data": {
      "text/markdown": [
       "allestimenti davvero curiosi renderanno il tuo soggiorno **terribilmente** indimenticabile!"
      ],
      "text/plain": [
       "<IPython.core.display.Markdown object>"
      ]
     },
     "metadata": {},
     "output_type": "display_data"
    },
    {
     "data": {
      "text/markdown": [
       "nel primo trimestre del      , infatti, a fronte di aumento del pil delloè stato lui a consigliarmi di attraversare il deserto e partire dalla libia, arrivare nel sud dell italia,  dove poco importa , e muoversi verso roma.così si risparmia sulle supplenze affidate ai precari, certo.attualmente, la maggior parte dei miliziani siriani anti regime si trova a combattere su due fronti: contro damasco e contro lo stato islamico.in anteprima su altro che moda editoriale passeggera.in una intercettazione, perotti spiega che le sue società hanno ricevuto in    anni lavori per    miliardi di euro.cadeo ribadisce quindi che per la fase   del progetto  i soldi ci saranno e l impegno sarà onorato perché il bike sharing è un fiore all occhiello e andremo avanti come deciso dalla giunta.dal    marzo      aspettiamo queste elezioni, allora furono sei mesi di vittoria sicura, già si spartivano i posti e le poltrone, ed è finita con una sconfitta.te   ryuk      di costituzione per la freccia attiva  ryuk è ridotto davvero male, ha sangue che gli cola ovunque, mi sento **terribilmente** in colpa per quello che gli ho fatto."
      ],
      "text/plain": [
       "<IPython.core.display.Markdown object>"
      ]
     },
     "metadata": {},
     "output_type": "display_data"
    },
    {
     "data": {
      "text/markdown": [
       "eseguo: mi affido a un nutrizionista, mi trasformo fisicamente, perdo    chili, soffro **terribilmente** anche perché siamo sotto natale e dalle nostre parti."
      ],
      "text/plain": [
       "<IPython.core.display.Markdown object>"
      ]
     },
     "metadata": {},
     "output_type": "display_data"
    },
    {
     "data": {
      "text/markdown": [
       ".un buon investimento economico per il terapeuta, un po   meno per il paziente e alla lunga anche per il terapeuta perché è **terribilmente** frustrante."
      ],
      "text/plain": [
       "<IPython.core.display.Markdown object>"
      ]
     },
     "metadata": {},
     "output_type": "display_data"
    },
    {
     "data": {
      "text/markdown": [
       "la questione non è di parte, è **terribilmente** seria ed impone un   immediata mobilitazione di istituzioni e associazioni a livello di tutta l  area metropolitana."
      ],
      "text/plain": [
       "<IPython.core.display.Markdown object>"
      ]
     },
     "metadata": {},
     "output_type": "display_data"
    },
    {
     "data": {
      "text/markdown": [
       "il declassamento dei titoli di stato dell  italia da parte di standard poor  s  ormai spaventosamente vicino al livello  spazzatura   e la pubblicazione dell  annuale rapporto censis che sembra quasi la pietra tombaleanche i giudici della prima sezione penale, evidentemente, con il verdetto di oggi hanno condiviso le sue tesi.quale il commissario rex , oliver hirschbiegel descrive la storia di un vecchietto un po irascibile, molto malato e **terribilmente** gentile con chi gli sta intorno che, invece di battere i pugni sul tavolo, quando si infuria con i propri generali   ikerry: dal regime crimini contro umanità il presidente colombiano santos riceve il nobel per la pace mcdonald s, vantaggi fiscali in lussemburgo?all isola di smeraldo, per quanto fascinosa, preferisco quella dei cipressi sul lago di pusiano.juncker:  è normale che la commissione lavori con qualunque governo   non siamo ancora in contatto con le autorità greche, perché non sono ancora in funzione e lo saranno più tardi in giornata.gran numero di vidal, che si libera con un tacco di medel e serve a tevez un pallone solo da spingere in rete."
      ],
      "text/plain": [
       "<IPython.core.display.Markdown object>"
      ]
     },
     "metadata": {},
     "output_type": "display_data"
    },
    {
     "data": {
      "text/markdown": [
       "mentre chi più chi meno vorrebbe abolireieri mattina nel parlatorio del carcere della spezia c è stato un colloquio di un ora fra il legale sarzanese e il suo assistito.a prima vista questa affermazione sembra inverosimile, perché gesù è morto in croce.dalle prime ore del mattino, i volontari milanesi hanno distribuito vestiti e cibo ai profughi non più nel mezzanino all interno dello scalo, ma al piano terra della centrale, nella galleria delle carrozze.fermati tre giornalisti di al jazeera per il drone che ha volato su parigitre giornalisti di al jazeera sono stati fermati e interrogati dalla polizia francese per aver fatto volare un drone sul bois de boulogne a parigi.e riconciliare noi stessi ad essere, che ci piaccia o no, come sono sicuro che ho dovuto fare io se non proprio smokier **terribilmente** più robusto che è lo stesso o peggio, pens."
      ],
      "text/plain": [
       "<IPython.core.display.Markdown object>"
      ]
     },
     "metadata": {},
     "output_type": "display_data"
    },
    {
     "data": {
      "text/markdown": [
       "potreiford, ken block al volante della focus rs nel rallycrossdearborn   ken block non è solo un pilota: è una star del volante, uno stuntman un eclettico personaggio che anima il mondo dei motori.e  sempre molto importante  montella:  kucka?all uscita i gruppi potranno anche visitare il museo fondazione romano  l antico cenacolo di santo spirito , in collaborazione con il servizio musei comunali e con la sezione volontariato dell associazione guide turistiche della toscana.il cadavere del leader libico muammar gheddafi è stato portato nella moschea della citta  di misurata dai miliziani del consiglio nazionale transitorio  cnt .legge approvata durante il governo berlusconi .d altro canto, si sono moltiplicati i cosiddetti  esperti , che hanno occupato il ruolo dei genitori anche negli aspetti più intimi dell educazione.dal      ci furono per lui   stagioni a ferrara e, successivamente, dal      al     , tre stagioni a modena.fra ieniso, il monte casio e il lago serbonide, un territorio certo non piccolo se sono almeno tre giorni di cammino, è **terribilmente** desertica e priva d  acqua."
      ],
      "text/plain": [
       "<IPython.core.display.Markdown object>"
      ]
     },
     "metadata": {},
     "output_type": "display_data"
    },
    {
     "data": {
      "text/markdown": [
       "na barbara che cosa fa nella vita.mena   che le tariffe dei coyotes sono schizzate alle stelle ed è aumentato il numero di decessi lungo i nuovi sentieri **terribilmente** ostici e pericolosi ."
      ],
      "text/plain": [
       "<IPython.core.display.Markdown object>"
      ]
     },
     "metadata": {},
     "output_type": "display_data"
    },
    {
     "data": {
      "text/markdown": [
       "essi, hanno constatato come i risultati di studi condotti in molte parti del mondo evidenziano spesso pesanti effetti negativi degli impianti eolici su comunità ornitichel ultima realizzata in ordine di tempo è quella all ingresso di tirano, all altezza del bivio che porta alla zona industriale.ad affermarlo è stato stefano fassina, responsabile economia del pd, sottolineando come  in questesettimane vengano al pettine i tanti nodi dell industria siderurgica italiana.l inchiesta, avvolta nel più stretto riserbo, è coordinata dal procuratore pubblico andrea pagani.sofferenze delle popolazioni coinvolte, a pochi chilometri dalle nostre frontiere ed in terre che assomigliavano **terribilmente** alle nostre."
      ],
      "text/plain": [
       "<IPython.core.display.Markdown object>"
      ]
     },
     "metadata": {},
     "output_type": "display_data"
    },
    {
     "data": {
      "text/markdown": [
       "era tutto **terribilmente** vero?"
      ],
      "text/plain": [
       "<IPython.core.display.Markdown object>"
      ]
     },
     "metadata": {},
     "output_type": "display_data"
    },
    {
     "data": {
      "text/markdown": [
       "le strutture sommarie del passato cedono il passo ogni giorno a grafiche più dettagliatefino a quando esisteranno dei farabutti estremisti non sara  possibile in nessun luogo.a parte toni e pazzini c è anche tanta altra gente di qualità.il traditore che merita la gogna.e delle istituzioni, con la presenza sul territorio nazionale delle truppe tedesche prepotentemente padrone e **terribilmente** scottate dall  improvviso voltafaccia dell  alleato italiano, l  apparato amministrativo dello stato non ancoraalle imprese si aggiungono gli autonomi e le pim  a cui si riconosce un taglio dell irap generico, e non sul lavoro .c è poi il desiderio, sentito fortemente sia dai coreani del nord che da quelli del sud, di vivere nella propria terra d origine.il pensiero del sindaco è quello di una intera comunità, che si è stretta intorno ai genitori filippo, piccolo imprenditore agricolo, e giuseppina   originaria della vicina cacciano   privati da un brutale destino del loro unico figlio.fse: i bilanci partecipativi per rinnovare la democrazia europea democrazia assente dall attuale processo di redazione della costituzione dell unione europea.la capolista cantalice conquista un punto, contro il s. angelo romano, mantenendo così la vetta.berlusconi: piccoli partiti aiutati da napolitano in sardegna prima uscita di berlusconi insieme a giovanni toti.e ha sottolineato come  la sfida più bella dipende dalla capacità di creare un mondo più giusto, che combatta la povertà, gli squilibri e le ingiustizie.alla famiglia le condoglianze della redazione del corriere dello sport.la reazione scomposta di molti baroni di stato fa pensare che grillo abbia colto nel segno  assurdità?gli azzurri cercano la terza rete con le accelerazioni ma insigne non ce la fa più.e una fede senza ragione è impossibile, perché l atto di fede è un atto ragionevole .la vita di tutti è fatta di amicizie, conoscenti, favori, regali  quasi nessuno fa nulla per nulla, quasi tutti chiediamo aiuto a conoscenti ed amici.ma i costi extra per queste emergenze, secondo il presidente della commissione, valgono solo lo  ,   del pil."
      ],
      "text/plain": [
       "<IPython.core.display.Markdown object>"
      ]
     },
     "metadata": {},
     "output_type": "display_data"
    },
    {
     "data": {
      "text/markdown": [
       "il finale, poi, è **terribilmente** intrigante: dekas pensa di poter tirare il fiato quando lo raggiunge la notizia della morte violenta della donna concalzature a fiera milano con themicam, tra voglia di rilancio e criticità   affaritaliani."
      ],
      "text/plain": [
       "<IPython.core.display.Markdown object>"
      ]
     },
     "metadata": {},
     "output_type": "display_data"
    },
    {
     "data": {
      "text/markdown": [
       "senza un tal contrappeso, quella elevazione lo renderebbe orribilmente superbo, oppure quell  abbassamento lo renderebbe **terribilmente** abietto."
      ],
      "text/plain": [
       "<IPython.core.display.Markdown object>"
      ]
     },
     "metadata": {},
     "output_type": "display_data"
    },
    {
     "data": {
      "text/markdown": [
       "marcello è statoeconomicamente, a basso indice demografico e deboli dal punto di vista infrastrutturale e dei trasporti, a soffrire **terribilmente**  ."
      ],
      "text/plain": [
       "<IPython.core.display.Markdown object>"
      ]
     },
     "metadata": {},
     "output_type": "display_data"
    },
    {
     "data": {
      "text/markdown": [
       "noi e soprattutto charlie siamo stati **terribilmente** abbandonati lungo tutto il processo   hanno dichiarato i gard su facebook   non ci è stato permesso di scegliere seripulire le sue acque."
      ],
      "text/plain": [
       "<IPython.core.display.Markdown object>"
      ]
     },
     "metadata": {},
     "output_type": "display_data"
    },
    {
     "data": {
      "text/markdown": [
       "si tratta dell ottavo album del cantante senigalliese:afferma che le aziende committenti raramente dichiarano il numero e il nome delle agenzie coinvolte, e altrettanto raramente comunicano i criteri di valutazione degli output di gara  su questo punto va leggermente meglio per le agenzie, ciclisti,  pedoni, genitori o figli, di tentare di porre un freno a questi episodi, che anche nella nostra città sono **terribilmente** ricorrenti."
      ],
      "text/plain": [
       "<IPython.core.display.Markdown object>"
      ]
     },
     "metadata": {},
     "output_type": "display_data"
    },
    {
     "data": {
      "text/markdown": [
       "a peggiorare **terribilmente** la situazione sono i dolori lancinanti che prova in continuazione."
      ],
      "text/plain": [
       "<IPython.core.display.Markdown object>"
      ]
     },
     "metadata": {},
     "output_type": "display_data"
    },
    {
     "data": {
      "text/markdown": [
       "inoltre, la scena della colazione a palazzo della regina d  inghilterra è **terribilmente** spassosa!"
      ],
      "text/plain": [
       "<IPython.core.display.Markdown object>"
      ]
     },
     "metadata": {},
     "output_type": "display_data"
    },
    {
     "data": {
      "text/markdown": [
       "fatica **terribilmente** a trovare delle contromisure quando gli avversari affondano."
      ],
      "text/plain": [
       "<IPython.core.display.Markdown object>"
      ]
     },
     "metadata": {},
     "output_type": "display_data"
    },
    {
     "data": {
      "text/markdown": [
       "finora, comunque, in base a tutto quello che si sa sull isis e sulla sua capacità militare, non rischiamo la distruzione di massa.constatato il buono stato di salute dell animale, ribattezzato   , è stato organizzato il rilascio   in collaborazione con il motopeschereccio e la capitaneria di porto di cesenatico   a tre miglia e mezzo dalla costa.e  consigliabile, infatti, non acquistare gomme che abbiano più di   anni di età; per questo motivo è necessario controllare il dot  la data di produzione di uno pneumatico  se questo non viene riportato nelle schede tecniche delle gomme.perché è una figura religiosa saggia , ha detto widodo ieri sera.jfk aveva    anni quando fu ucciso.a questo punto che senso aveva presentare l inventario delle proprie opere su una tappezzeria piatta?è loro la responsabilità politica di quel che è successo ieri.con forza italia dovrebbe correre : stasera il leader della lega nord concluderà proprio con una cena a olbia il suo minitour in sardegna cominciato stamane a cagliari, fra manifestazioni di protesta e cariche della polizia.i genitori di luca, ancora **terribilmente** addolorati per la perdita del figlio, non si sono preoccupati di rispondere agli insulti ricevuti dalla   enne.e  necessario quindi strutturare programmi di intervento sulla popolazione giovanile dal momento che ridurre la diffusione del tabagismo fra i giovani viene considerato un obiettivo prioritario di salute pubblica.e  una squadra composta per lo più da dipendenti di trenitalia che per la prima volta si affacciavano alle competizioni fitet.è contrario a ogni verosimiglianza che trecento re di diverse famiglie si siano succedute regolarmente per così lunga serie di secoli.in attacco stepinski, meggiorini e pellissier si contendono due maglie.dall era mitologica ha sempre fatto riposare il suo corpo, fino al giorno in cui conquisterà la terra.lo ha affermato il presidente dell acri, giuseppe guzzetti, secondo cui  abbiamo assecondato in questi anni lo sviluppo della cdp, che oggi è un ente di sviluppo dell economia del paese.insieme a loro finirono i loro giorni per la spagnola il presidente del brasile, il primo ministro del sud africa e la regina delle isole tonga.forte è anche l impegno sul versante della prevenzione del rischio idrogeologico, per opere strutturali, attività di cura e manutenzione di versanti, fiumi e opere di difesa della costa.ma con il maltempo sono poco efficaci .come si diventa volontari e perché?le rocce sono finite all interno dell alveo del torrente torreggio, ma fortunatamente senza creare alcuno sbarramento al corso dell acqua.gli esami hanno rilevato uno stato di alterazione, forse dovuto all assunzione di sostanze stupefacenti.insomma, una garanzia."
      ],
      "text/plain": [
       "<IPython.core.display.Markdown object>"
      ]
     },
     "metadata": {},
     "output_type": "display_data"
    },
    {
     "data": {
      "text/markdown": [
       "aziende per   ,  milioni di euro.altre volte, come in questo caso, si tratta: di persone che tendono trappole e vanno via.l aria del paese è ancora antica, strade polverose tra case di sassi e argilla, ma popolate da tantissimi stranieri che affollano i piccoli negozi di artigianato.la strada ha problemi di staticità   spiega il candidato pd   il canale sarà scoperto, ne faremo i navigli di bologna.ma se la prospettiva si allarga, ne esce una foto dai colori meno foschi per i progressisti mantovani.non mi occupo di casi singoli, ma di casi che purtroppo fanno discutere ce ne sono tanti, sia a napoli, a salerno e caserta .divenuto presidente de l unione nel      e indicato alla guida della coalizione di centrosinistra dalle primarie dell ottobre     , è stato capolista dell ulivo alle elezioni politiche del   e    aprile     .il bando regionale infatti mette a disposizione    mila euro che dovranno essere raddoppiati dal comune, più    mila euro per la tosap per gli esercizi penalizzati da lavori più lunghi di    mesi.il tema è sempre lo stesso: squadre **terribilmente** aggressive e, come conseguenza, indisciplinate.la ricerca del centro studi continental, pubblicata solo pochi giorni fa, non fa che confermare il primato del capoluogo.martedì pomeriggio gli agenti della squadra mobile di milano hanno arrestato tre persone   un ventottenne albanese, un austriaca di ventisette anni e un tedesco trentatreenne   e hanno sequestrato dieci chili e mezzo di cocaina e    mila euro in contanti.in casi drammatici del giorno d oggi, come quelli che riguardano donne dei paesi musulmani, saverio la ruina sente l eco delle donne della sua terra."
      ],
      "text/plain": [
       "<IPython.core.display.Markdown object>"
      ]
     },
     "metadata": {},
     "output_type": "display_data"
    },
    {
     "data": {
      "text/markdown": [
       "come confesercenti sosteniamo, ormai da molti anni, che una data di inizio, delle vendite di fine stagione, così ravvicinata alle festività natalizie sia penalizzante per le imprese del settore; inoltre, è necessario un cambiamento della durata.da ieri mattina è tornato agli arresti domiciliari.il futuro sempre più corto, ed è un mistero.cosa c è in effetti di più genuino del consumare prodotti locali circondati da queste magnifiche montagne?aggiungi alla panna del latticello o dello yogurt naturale, nella proporzione di    ml ogni     ml di panna.al termine dell escursione, si effettuerà una pulizia delle antiche fontane del re per poter restituire loro la dignità d un tempo.con l innesto di maurizio in panchina non cambia la musica, e la dirigenza progetta i prossimi colpi di per il futuro.non va dimenticato che ci sono articoli della costituzione da rispettare: l articolo  , che difende il diritto alla dignità umana; l articolo   , che sancisce il diritto alla libertà personale; l articolo   , che protegge il diritto alla salute.interventi alla ex fabbrica di colori.e la missione non può essere concepita, oggi, in termini meramente geografici.ma io sono fiducioso che farà bene .datuowei si descrive come  riflessivo, pronto a leggere le situazioni di gioco, ma capace di imprimere la giusta energia .emad era inconsolabile, volle che il letto di ibrahim restasse sempre preparato e di notte parlava con lui, anche se sapeva che non poteva sentirlo.le opere lignee di fra  giovanni da verona in santa maria in organo , un percorso per incontrare fra  giovanni, vissuto tra la fine del xv secolo e l inizio del xvi.la direzione è quella della  formazione permanente alla corresponsabilità economica  da diffondere tra fedeli e sacerdoti.napolitano è stato invitato a s. anna nel    mo anniversario dell entrata in vigore della costituzione.cosa c entra l assistenza con il supporto sw?bene l azione a tutela dei risparmiatori liguri e italiani e bene il miliardo e mezzo stanziato in manovra per gli altri cittadini truffati .il dissesto climatico è la punta dell iceberg tra gli effetti delle due rivoluzioni permanenti che stanno cambiando  la faccia della terra : quella industriale e quella capitalistica.da quali punti partirebbe?e per questi legionari, troppo infiammati per gesù, un governatore escogitò la punizione del ghiaccio  suggerendo, forse, a dante la pena per i traditori .bastava che un auto o una persona fosse nelle vicinanze per assistere a una nuova tragedia.mi sono sempre stati vicini, non mi sono mai sentito solo e grazie a loro se sono qui.al vincitore andrà un premio di      euro e l esecuzione del brano a settembre      nell ambito della prossima edizione di anima mundi.cellino non si accontenta di comprare e vendere calciatori, è passato ormai direttamente alla compravendita dei club.al culmine dell ultima discussione, le coltellate, inferte con un coltello da cucina, che non hanno lasciato scampo all anziana donna.che disastro le grandi città.con una parola inizia la scrittura che si fa mezzo e mediazione tra passato e presente.i vincitori sono stati selezionati grazie al casting che s è svolo nel pomeriggio di domenica    gennaio all hotel ristorante settecento di presezzo.con il  passato , ha buttato via anche il futuro.dopo una settimana, se il piccolo piange, soffre **terribilmente** della mancanza della mamma, smette di mangiare o dormire  forse potrebbe valere la pena riprendere in considerazione l ipotesi di portarlo in città cercando soluzioni alternative.grazie a questo concetto potete essere certi che il vostro scarificatore eliet manterrà la stessa alta efficienza dal primo all ultimo istante della sua vita.con scolarest, addio mensa e benvenuto al nuovo ristorante scolastico!andrea fumagalli è il nuovo sindaco di inzago dopo le elezioni del   giugno     .ma per mosca, che sostiene la regione separatista, ce n era abbastanza per rinforzare il contingente militare russo che sorveglia il confine tra abkazia e georgia.inizia la salita all , caratterizzata dal suo tratto di sterrato, e vuole attaccare proprio qui, lui che il percorso lo conosce bene, così, terminato il suo compito, rallenta la sua corsa e si lascia raggiungere e sorpassare dal compagno di squadra.la più particolare è di sicuro la cyclette acquatica che viene utilizzata per il in piscina.brolo giovani rientra nelle politiche del comune di brolo in favore dei giovani, attraverso servizi e progetti promossi e coordinati dall assessorato comunale alle politiche giovanili.il sacerdote condivide il moto secondo cui  per essere missionari, bisogna essere testimoni di gesù  e per questo è necessario  andare direttamente a dio, pregando e seguendo la sua opera .per canale   fu un successo straordinario e quella fu l ultima apparizione televisiva di celentano.iniziamo a girovagare per le vie cittadine ammirando gli angoli della città ed i principali monumenti come l alcazar, le sinagoghe e la splendida cattedrale.donato non ha mai visto un film in vita sua e non ne ha mai nominato uno.la prova è stata più ostica del previsto, specialmente il    ."
      ],
      "text/plain": [
       "<IPython.core.display.Markdown object>"
      ]
     },
     "metadata": {},
     "output_type": "display_data"
    },
    {
     "data": {
      "text/markdown": [
       "comunque si, ad ischia si mangia **terribilmente** bene!"
      ],
      "text/plain": [
       "<IPython.core.display.Markdown object>"
      ]
     },
     "metadata": {},
     "output_type": "display_data"
    },
    {
     "data": {
      "text/markdown": [
       "non avendo mai visto uno spettro in vita sua, era troppo logico che il povero fantasma ne fosse **terribilmente** spaventato, e dopo un  altra fuggevole occhiata alla paurosa apparizione, fuggì precipitosamente nella proprial amministrazione comunale, nell ottica di agevolare il cittadino e di mettere a disposizione dello stesso strumenti adeguati e in linea con i nostri tempi, ha fatto realizzare un app gratuita e scaricabile su smartphone.muoiono altri due uomini: uno dei due corrieri e un figlio dello sceicco.dai disordini emergono due aspetti da non sottovalutare.perché una volta che vincerà il sì, come credo, è importante che possiamo avere una nuova legge per il senato .proprio a torino contro la juve: finì     per i campioni d italia.cristina marino, fidanzata di luca argentero, pronta a sposarsi dopo la nascita della figlia nina speranza:  e  nei nostri piani , dice l attore.in questo modo la società ligure riceverà  ,  milioni di euro.l automobile con la famiglia tedesca a bordo era appena uscita dal portale sud della galleria di san giacomo e viaggiava in direzione di laives perché, a quanto pare, la famiglia era diretta in trentino per fare visita ai parenti.comandava un battaglione di  ."
      ],
      "text/plain": [
       "<IPython.core.display.Markdown object>"
      ]
     },
     "metadata": {},
     "output_type": "display_data"
    },
    {
     "data": {
      "text/markdown": [
       "l uomo al momento è in buone condizioni di salute, in isolamento nel reparto di malattie infettive dell ospedale di pistoia.questo sistema di prospezione, altamente lesivo per la fauna marina, potrebbe presto diventare un reato.conte ha ricordato l impegno del governo per sopperire a queste difficoltà  ma siamo anche consapevoli che non si può nell arco di qualche mese eliminare il digital divide che caratterizza il nostro territorio .della distesa sono rimaste in piedi solo le travi di legno della copertura e la porta di legno, ancora chiusa con il lucchetto, mentre il tendone e l arredo  costituito da sei tavolini e una ventina di sedie  sono stati bruciati.consiglio di sicurezza dell onu nel considerare nuove misure nei confronti della corea del nord.di giocare sapientemente con le scene in modo da trasmetterle rapidamente e in modo interessante, ma la trama è **terribilmente** caotica."
      ],
      "text/plain": [
       "<IPython.core.display.Markdown object>"
      ]
     },
     "metadata": {},
     "output_type": "display_data"
    },
    {
     "data": {
      "text/markdown": [
       "un assassino sconta la sua pena fino alla morte, anche se **terribilmente** pentito di ciò che ha fatto, e certo di aver sprecato   vite, quella della vittima e la sua."
      ],
      "text/plain": [
       "<IPython.core.display.Markdown object>"
      ]
     },
     "metadata": {},
     "output_type": "display_data"
    },
    {
     "data": {
      "text/markdown": [
       "ma mi sento ancora molto lontano da ciò, ed è **terribilmente** frustrante."
      ],
      "text/plain": [
       "<IPython.core.display.Markdown object>"
      ]
     },
     "metadata": {},
     "output_type": "display_data"
    },
    {
     "data": {
      "text/markdown": [
       "sarà stato qualcosa di **terribilmente** rumoroso!"
      ],
      "text/plain": [
       "<IPython.core.display.Markdown object>"
      ]
     },
     "metadata": {},
     "output_type": "display_data"
    },
    {
     "data": {
      "text/markdown": [
       "il dipartimento di stato usa si prepara ad elevare a quattro, il livello massimo, l allerta per tutti i viaggi internazionali a causa del coronavirus.ha disputato una buona partita, affondata oltre i propri demeriti: l  obiettivo salvezza resta perseguibile, ma **terribilmente** complicato."
      ],
      "text/plain": [
       "<IPython.core.display.Markdown object>"
      ]
     },
     "metadata": {},
     "output_type": "display_data"
    },
    {
     "data": {
      "text/markdown": [
       "ci prendiamo qualche giorno per riflettere  spiega fornari.e  spirato al pronto soccorso del santa maria nuova di reggio dove era stato portato, in gravissime condizioni, a bordo di un ambulanza.il milan rompe l equilibrio nella ripresa correndo di più e mettendo in mostra le qualità individuali che troppo spesso, in mancanza di gioco e continuità, risolvono le sue partite.madonna esulta sui social:  finalmente avrò la ricostruzione della mia cartilagine .e invece fanno audience e al pubblico, verosimilmente, piaciono!la neve non è del tutto archiviata, anzi: le previsioni di arpae ne indicano un rapido ritorno.deve ancora abituarsi ad alzarsi nelle prime ore del giorno, al cibo svizzero e al tedesco, la lingua che sta cercando di imparare.e  infatti assolutamente falso che l appartenenza dell italia alla nato preveda l obbligo di partecipare ad azioni di bombardamento in libia, che scatta solo se una nazione della nato venisse attaccata militarmente.tra le dichiarazioni del fratello:  la parte più difficile di tutto questo è che kurt non è più con noi, e ci manca **terribilmente** ."
      ],
      "text/plain": [
       "<IPython.core.display.Markdown object>"
      ]
     },
     "metadata": {},
     "output_type": "display_data"
    },
    {
     "data": {
      "text/markdown": [
       "montessori  per conoscere la terra a telgate nasce l  agrinido che ha il corpo di esplorarli e di ritrasmetterli, di evidenziare quelle caratteristiche che ci rendono tutti così **terribilmente** uguali, tutti immagini diverse di quell  unica natura umana che rende le nostre infinite diversità una grande unità ."
      ],
      "text/plain": [
       "<IPython.core.display.Markdown object>"
      ]
     },
     "metadata": {},
     "output_type": "display_data"
    },
    {
     "data": {
      "text/markdown": [
       "lui, l  alfiere del nazionalismo nero, era anche **terribilmente** bigotto e conservatore quando si trattava di moralità personale."
      ],
      "text/plain": [
       "<IPython.core.display.Markdown object>"
      ]
     },
     "metadata": {},
     "output_type": "display_data"
    },
    {
     "data": {
      "text/markdown": [
       ": quando voglio rilassarmi un poco, in un  atmosfera familiare, entro in questo sito bello e  confortevole  : sono **terribilmente** sola."
      ],
      "text/plain": [
       "<IPython.core.display.Markdown object>"
      ]
     },
     "metadata": {},
     "output_type": "display_data"
    },
    {
     "data": {
      "text/markdown": [
       "operai; adesso ci sono un po   di call center e tante piccole fabbriche, che stentano **terribilmente** a diventare tessuto, a diventare distretto."
      ],
      "text/plain": [
       "<IPython.core.display.Markdown object>"
      ]
     },
     "metadata": {},
     "output_type": "display_data"
    },
    {
     "data": {
      "text/markdown": [
       "disegni che richiamano **terribilmente** quello delle mosaic  poi come al solito a decidere sarà il portafoglio, non il requisito  perdoni l  ignoranza, ma esistei governi devono, infine, sviluppare sistemi di assistenza a lungo termine che possano ridurre l uso improprio dei servizi sanitari e garantire alle persone che vivono i loro ultimi anni di farlo con dignità.muntari ha lavorato con il gruppo, mentre abate ha effettuato corsa sui     più    metri.quanto alla scelta dei dinosauri, irresistibile attrazione per grandi e soprattutto piccoli, viene ricondotta dal regista al  senso di mistero  che ispirano.da dove arriva il nuovo coronavirus?il prezzo, appunto.anche malagò è amareggiato:   nessuno poteva immaginare una situazione del genere, l anno scorso leclerc vinceva a monza.per i lavoratori dello spettacolo e altre categorie l indennità viene rifinanziata sempre per due mesi ma resta a     euro.c è poi albosaggia,  capitale  dello sci alpinismo, da tenere in debita considerazione.le due cose non sono separate.il cds  credit default swap  usd a   anni, una proxy per il rischio di default, è sceso da     punti base a     punti base.gli ha fatto eco roberto malattia:  il premio è cresciuto e si è rafforzato grazie alle sinergie messe in atto   ovvero per l apertura alle collaborazioni   e alla specializzazione scelta nel rivolgersi alla poesia non in lingua italiana .il processo inizierà martedì prossimo, come ha confermato il tribunale superiore di los angeles.buoni spesa per i poveri grazie al sostegno rotary su questo sito utilizziamo cookie tecnici e, previo tuo consenso, cookie di profilazione, nostri e di terze parti, per proporti pubblicità in linea con le tue preferenze.prevale l ipotesi dell incendio accidentale, scaturito dal probabile malfunzionamento di una canna fumaria.prachanda ha riferito che la leadership del prossimo governo sarà affidata al presidente del congresso nepalese sher bahadur deuba.ecco, ma adesso come sono le sue condizioni?il presidente della casa della carità di milano: chi fa politica non usi la paura per costruire consenso.intanto continuano le azioni di  contact tracing  per tracciare i contatti.invocazione di aiuto che hanno richiamato i vicini, i quali hanno subito chiesto l intervento della polizia.e poi la passione, il direttore non finisce di chiedere quali siano i percorsi da seguire, gli studi che occorre fare.il rapporto tra positivi e tamponi fatti è sceso sotto il   , che è considerata una soglia cruciale; ciò significa che i tamponi sono sufficienti e il numero dei positivi è contenuto.e continueranno ad essere presenti e ad agire finché gli antifascisti non si uniranno e si organizzeranno meglio tra loro.la frequenza del glaucoma, pur non essendo una malattia esclusiva dell anziano, aumenta infatti progressivamente con l avanzare dell età.l export è il motore di crescita, e la fiera aiuta l export.e misure d aiuto per i familiari delle persone che necessitano assistenza.la guardia di finanza di napoli ne ha aproffittato per convocarlo in caserma in relazione di un atto emesso a suo tempo dal tribunale di napoli riguardante un evasione fiscale pari a    milioni di euro.i pedinamenti del   enne hanno condotto gli investigatori al rintraccio del complice.in aggiunta la supervisione che l autorità di controllo ha prestato al sistema ha evitato che le situazioni più critiche ricadessero sui correntisti che avrebbe minato irrimediabilmente la fiducia.il tutto prevede una veste grafica realizzata da un professionista del settore che, di volta in volta, realizza le locandine digitali   nel linguaggio tecnico, glie e flyers   degli eventi.il capitano lionese spiega:  quello che fa la juventus in italia è sempre speciale e penso che vincerà lo scudetto.è stato preziosissimo l aiuto della dr. ssa d urbino, magistrata e giudice del tribunale per i minorenni di brescia, che mi ha spiegato come dovrebbero effettivamente funzionare le cose.c è un prima coronavirus e ci sarà un dopo.eppure ieri, venerdì    giugno, è stato il compleanno di sammy.ma il tradimento brucia troppo, demi si è sentita umiliata dalle corna che il i fedifrago ashton, quindici anni meno della moore, le ha messo tra l altro nei giorni del loro sesto anniversario di matrimonio.la action cam consente anche di regolare il valore di esposizione per ottenere i migliori risultati in ogni condizione di luce.con cori contro il presidente della provincia fugatti, contro i trentini, definiti  assassini , e contro i cacciatori, gli animalisti hanno esposto le loro ragioni circa il destino dell orsa jj , che ritengono volesse solo proteggere i cuccioli.abbà,    anni, militante anarchico, nel      era caduto da un traliccio a chiomonte, su cui era salito per protestare contro l apertura del cantiere, restando folgorato dalla corrente.anna viganò è fra le personalità che hanno saputo emergere in questa zona e, allo stesso tempo, prenderne quelle giuste distanze per elaborare un proprio percorso artistico.è presidente dell associazione  la società della ragione  e ha scritto numerosi saggi e articoli sui temi della giustizia, dei diritti, del carcere e sulla politica delle droghe.il grande spavento, il dolore fisico, due grossi lividi all altezza del collo e il dolore interno, quello di aver perso un caro e pure prezioso ricordo del marito.e poi, non basta investire soldi."
      ],
      "text/plain": [
       "<IPython.core.display.Markdown object>"
      ]
     },
     "metadata": {},
     "output_type": "display_data"
    },
    {
     "data": {
      "text/markdown": [
       "par condicio   , sbizzarrendosi magari a inventare    calembour   più o meno felici, ma resta pur sempre un argomento **terribilmente** serio e decisivo."
      ],
      "text/plain": [
       "<IPython.core.display.Markdown object>"
      ]
     },
     "metadata": {},
     "output_type": "display_data"
    },
    {
     "data": {
      "text/markdown": [
       "credo l organizzazione, ma non vorrei essere troppo ampio.caina è una  trovacadaveri : il suo compito è quello di raccogliere tutti i corpi annegati degli extracomunitari che dall africa cercano di arrivare in italia e che il mare riversa sulla riva.cagliari però è casa mia, qui ho vissuto i momenti più belli e brutti.al termine della l uomo si è dileguato.allo sloveno infatti piace molto ricevere sui piedi: tecnicamente e nell uno contro uno probabilmente è superiore.ovviamente non devi sottovalutare neanche gli ambienti esterni, come balconi, terrazzi o patii.giusto per info, ho nel cassetto i  famosi  apple  g, un  s e  s, quest ultimi ottimi fermi carte.mettiamoci tutti un adesivo, un etichetta, un bottone con uno slogan contro la guerra sulla giacca.come può essere quella della nascita di un figlio, e lo è ancor di più se nello stesso giorno c è anche un altro compleanno in casa da festeggiare.marzo alle ore    in  sala dante  a conselve, si svolgerà un incontro a ricordo di tutte le vittime della mafia: fenomeno **terribilmente** grave e che non interessa solo i territori di origine."
      ],
      "text/plain": [
       "<IPython.core.display.Markdown object>"
      ]
     },
     "metadata": {},
     "output_type": "display_data"
    },
    {
     "data": {
      "text/markdown": [
       "e a soffrire **terribilmente** non sarebbero solo i produttori americani, ma anche le economie degli stati più deboli."
      ],
      "text/plain": [
       "<IPython.core.display.Markdown object>"
      ]
     },
     "metadata": {},
     "output_type": "display_data"
    },
    {
     "data": {
      "text/markdown": [
       "ironica, come nello stile di serena dandini e dario vergassola, ma   nella sua ironia   **terribilmente** seria."
      ],
      "text/plain": [
       "<IPython.core.display.Markdown object>"
      ]
     },
     "metadata": {},
     "output_type": "display_data"
    },
    {
     "data": {
      "text/markdown": [
       "le sue condizioni di salute si sono stabilizzate ma è ancora **terribilmente** affaticata con attacchi di male al ventre  e qui di nuovo non è possibile fare a meno di notare il collegamento con l  i primi ad arrivare in mattinata alla continassa sono stati pirlo e chiellini: allenatore e capitano hanno dato l esempio.ha frequentato da adolescente svariati corsi di arrampicata sportiva, di introduzione all alpinismo e di sci alpinismo  ribaldone      .la prima esperienza tra i professionisti risale a due stagioni fa, quando ha disputato un campionato nel portogruaro con    presenze, mentre l anno scorso una buona stagione nelle fila del venezia     presenze e   gol  in lega pro.il programma della cerimonia nella casa bianca ha incluso anche un discorso di obama, in occasione del     anniversario dell iniziativa per l eccellenza educativa degli ispanici.in maniera del tutto spontanea, in questi anni venturi e roli hanno raccolto fotografie e cartoline del territorio castelvetrese, attingendo da fondi e perlustrando letteralmente le abitazioni dei cittadini alla ricerca di immagini e racconti.la squadra che vince non si cambia, si dice."
      ],
      "text/plain": [
       "<IPython.core.display.Markdown object>"
      ]
     },
     "metadata": {},
     "output_type": "display_data"
    },
    {
     "data": {
      "text/markdown": [
       "la   bbc   ha raccolto poi alcune dichiarazioni di un portavoce deo tottenham:  abbiamo supportato jan e la sua famiglia in questo periodo **terribilmente** traumatico."
      ],
      "text/plain": [
       "<IPython.core.display.Markdown object>"
      ]
     },
     "metadata": {},
     "output_type": "display_data"
    },
    {
     "data": {
      "text/markdown": [
       "lui, così freddo, adesso è **terribilmente** emozionato."
      ],
      "text/plain": [
       "<IPython.core.display.Markdown object>"
      ]
     },
     "metadata": {},
     "output_type": "display_data"
    },
    {
     "data": {
      "text/markdown": [
       "meno claustrofobico che in passato ma, quel che è peggio, **terribilmente** più lucido è lo scenario sonoro mediante il quale i milanesi constatano la totale rassegnazione,  aggrappati alladonna di    anni denuncia il padre:  mi stupra da quando ne avevo nove, ho avuto quattro figli da lui donna di    anni denuncia il padre:  mi stupra da quando ne avevo nove, ho avuto quattro figli da lui i carabinieri identificano gli aggressori di un   enne per futili motivi.è possibile comunque che   almeno inizialmente   huawei card sarà disponibile solo nel mercato di casa, la cina.impara a parlare, la trasmissione di merda tua e di quell altro mongoloide l ho sentita trenta volte.alla fine, ieri, lo sciopero dei medici di base non c è stato.il tribunale del riesame di taranto ha infatti accolto il ricorso   presentato dai legali dell acciaieria   contro il decreto del gip danila todisco.il psg insiste nell azione offensiva e trova il vantaggio; al     la sblocca marquinhos che con uno stacco imperioso di testa mette la palla dentro sul secondo palo.la maglia rosa tra le blu chip va a a a dopo l annuncio ieri della salita al   ,   di edipower.assistita dai servizi sociali, per ovviare alle lungaggini dell iter di assegnazione delle abitazioni decide di costruirsi una casa da sé.il presidente convoca d urgenza l ex difensore.il fuoco amico dei ricordi  di alessandro piperno  mondadori, pp."
      ],
      "text/plain": [
       "<IPython.core.display.Markdown object>"
      ]
     },
     "metadata": {},
     "output_type": "display_data"
    },
    {
     "data": {
      "text/markdown": [
       "restea    lei piange con più forza  per me è come se fosse **terribilmente** morto."
      ],
      "text/plain": [
       "<IPython.core.display.Markdown object>"
      ]
     },
     "metadata": {},
     "output_type": "display_data"
    },
    {
     "data": {
      "text/markdown": [
       "su base annua.la generosità del pubblico   scrive tardelli   va ripagata con l esempio .riscosso un successo clamoroso, e pertanto non stupisce che santa monica studio sia al lavoro sul seguito della prima avventura di kratos e atreus; ciò che lascia di stucco è la rapidità con cui il progetto dovrebbe essere portato nelle case di noii fanno però notare che  nell  analisi non siamo stati in grado di tenere conto delle diverse relative alla riapertura della che sono state adottate da alcuni paesi .a quanto pare, è venuta a mancare la sua cara nonna, e l uomo ha voluto manifestare i suoi sentimenti, colmi di dolore e mancanza.detto fatto, per i mesi di marzo aprile e maggio lavoriamo al     delle giornate e così anche per i primi    giorni di giugno.di vasta portata e di lunga durata; infatti, il messaggio inequivocabile della vicenda è che i lloyd  s sono **terribilmente** seri nella loro dichiarata volontà di trascinare verso l  alto le prestazioni dell  intero mercato, senza ascoltare    forniremo presto altre forniture mediche, tra cui mascherine, termometri digitali a infrarossi e indumenti protettivi .quattro sono i militari israeliani feriti quando la jeep su cui viaggiavano è stata centrata da un razzo anticarro.a reggio emilia   dopo una prestazione che aveva dato segnali positivi con il crema, almeno sul piano della reazione   il pavia non ha saputo ripetersi, a parte il risultato negativo      .anzi, è un pezzo molto lungo, e non se ne fanno più, e c è anche un bell assolo di chitarra .dentro l abitabilità è eccezionale, ma la vettura è grande quindi ce lo si aspetta.gli spettatori sotto lo schermo fulldome che li avvolgerà e sul quale verrà proiettata la volta celeste, potranno osservare lo stesso cielo che guardarono i re magi.in base a quanto riportato dal quotidiano, i test rapidi presenterebbero però una minore precisione.brian si è ripreso ma la donna non ce l ha fatta.la richiesta avanzata dall assemblea dei sindaci e nel documento inviato alla fine del mese di giugno a milano, per confermare l attuale delimitazione territoriale è caduta nel vuoto.il finanziamento prevede     milioni di euro annui per città e regione.beirut, arrestato il direttore del porto.i nomi dovranno essere ratificati dal parteiausschuss, come tutto il pacchetto di   candidature ancora aperte.gli olandesi vanno sul     grazie a moreno, ma torres pareggia.in calo, ma stime poco attendibiliindia,    mila bambini morti nel     .il cantante era ricoverato in un ospedale di burbank, in california.inizierà il   marzo prossimo al tribunale di como, infatti, il processo civile per cercare di accertare eventuali responsabilità.le indagini sono svolte dai carabinieri della compagnia di jerzu.e la santa messa del papa trasmessa tutte le mattine per me è stato nutrimento di felicità, mi ha dato una forza e un intensità enorme e mi ha consentito l adorazione eucaristica visto che anche qui le chiese cattoliche erano chiuse.il presidente del consiglio giuseppe conte firma il nuovo decreto con le misure per il contenimento del contagio, consigliando il mantenimento nei contatti sociali di una distanza interpersonale di almeno un metro, evitando abbracci e strette di mano.l arrestato aveva tentato di impedire ad una ditta edile.il ministro della salute roberto speranza ha disposto che da    paesi non si può più arrivare in italia per il rischio covid.e non ci sentiamo neanche di escludere che   non nel brevissimo periodo   possa nascere una sorta di alleanza, il cui passo successivo  corriamo troppo?"
      ],
      "text/plain": [
       "<IPython.core.display.Markdown object>"
      ]
     },
     "metadata": {},
     "output_type": "display_data"
    },
    {
     "data": {
      "text/markdown": [
       "abbandonati come fanciulli, disillusi comeda qualche giorno invece gli operai sono tornati all opera, con la differenza che oggi chi vive nei palazzi sulla strada non ha altra scelta se non quella di lavorare o studiare con i tappi per le orecchie.è il secondo campo per migranti a essere messo in quarantena dopo quello di ritsona.diana,    anni, vigile del fuoco e  befana :  evento bagnato   ha commentato   evento fortunato emergenza di un parto fatto in casa alla bell  e meglio e sotto l  influsso di un  emozione sovrastante, pare minacciare **terribilmente** il suo destino, il suo futuro, magari di immigrata clandestina."
      ],
      "text/plain": [
       "<IPython.core.display.Markdown object>"
      ]
     },
     "metadata": {},
     "output_type": "display_data"
    },
    {
     "data": {
      "text/markdown": [
       "lo scarabeo d  oro  the gold bug           la lettera rubata  the purloined letter         i racconti del terrore   metzengerstein  metzengerstein           perdita di fiato  loss of breath           manoscritto trovato in unachristian vieri e la pancetta che non ti aspetti dall ex giocatore dell inter: .oggi mancano all appello circa   mila specialisti e al      la desertificazione è destinata ad allargarsi.nel caso in cui i pallet fossero destinati alla realizzazione di mobili e complementi da posizionare all esterno è fondamentale utilizzare le finiture adatte a resistere agli agenti climatici.con inter, fiorentina, bari e parma e nonostante la scossa positiva portata dallo strepitoso frey continua a stentare **terribilmente** ."
      ],
      "text/plain": [
       "<IPython.core.display.Markdown object>"
      ]
     },
     "metadata": {},
     "output_type": "display_data"
    },
    {
     "data": {
      "text/markdown": [
       "con moldrock si è giocato d  anticipo mostrando subito un cattivo problematico ma allo stesso tempo **terribilmente** forte."
      ],
      "text/plain": [
       "<IPython.core.display.Markdown object>"
      ]
     },
     "metadata": {},
     "output_type": "display_data"
    },
    {
     "data": {
      "text/markdown": [
       "finanche di quelle nuvole, così eteree eppure **terribilmente** asfissianti."
      ],
      "text/plain": [
       "<IPython.core.display.Markdown object>"
      ]
     },
     "metadata": {},
     "output_type": "display_data"
    },
    {
     "data": {
      "text/markdown": [
       "com, che conterrà tutte le foto pubblicate su instagram.poco dopo la riunione si è allargata con quasi tutti i membri del governo che erano presenti a montecitorio per il voto sul rendiconto.loro vivono in paesi ricchissimi eppure sono le persone più povere del mondo grazie a noi, il resto del mondo, l europa, l america, la cina.però per la corporazione degli scribi, dominata da personaggi ineffabili, conviene tacere; chi parla e dice la verità certificata, come me, va punito.il como è risalito, ha cambiato padroni e facce, è arrivato sino alla b, ed è fallito ancora.il fronte professionale richiede invece più pazienza, ma non manca lo spazio per avviare nuovi progetti.con una nota ufficiale, in questi minuti, la ha comunicato buone notizie in merito all esito dei nuovi test per i giocatori che erano stati trovati positivi al coronavirus nel gruppo viola, ovvero vlahovic, pezzella e cutrone.c era una volta il marabù: l ex discoteca di reggio emilia ora è ridotta così su questo sito utilizziamo cookie tecnici e, previo tuo consenso, cookie di profilazione, nostri e di terze parti, per proporti pubblicità in linea con le tue preferenze.il ciclismo, però, offre anche squarci d azzurro, con rebellin secondo alle olimpiadi, ballan e il nostro cunego primo e secondo al mondiale, nel giorno dell addio di bettini.beirut, l esplosione distrugge la sala parto, bimbo nasce sano e salvo grazie., perché non saranno mai sprecate le parole che verranno usate per ricordare la storia, nonostante questa sia **terribilmente** atroce."
      ],
      "text/plain": [
       "<IPython.core.display.Markdown object>"
      ]
     },
     "metadata": {},
     "output_type": "display_data"
    },
    {
     "data": {
      "text/markdown": [
       "ma re ferdinando gravò **terribilmente** la sua mano sui baroni ribelli, sfogando contro di essi il suo spirito di vendetta."
      ],
      "text/plain": [
       "<IPython.core.display.Markdown object>"
      ]
     },
     "metadata": {},
     "output_type": "display_data"
    },
    {
     "data": {
      "text/markdown": [
       "possiamo notare anche come il momento o la serie di momenti più importanti della nostra vita siano **terribilmente** trascurati, poiché, in genere, l  anima accetta le concezioni che si trova davanti in maniera irriflessa, frettolosae così quello che è stato classificato il paese più felice di tutta l asia potrebbe diventare presto anche il migliore al mondo per i quattrozampe.in    comuni potrebbe essere necessario un secondo round, se nessuno dei candidati sindaci arriverà al primo turno di domani oltre il    per cento dei voti.hong kong è stata restituita alla cina dalla gran bretagna nel     , in virtù di un accordo che avrebbe dovuto tutelare alcune libertà per almeno    anni.appena ieri ha definito la riforma della prescrizione come  un obbrobrio , e minacciando ancora una volta gli alleati.dei    campioni ad oggi analizzati sulle torri di raffreddamento di   aziende nei comuni di montichiari, carpenedolo e calvisano,   sono risultati positivi alla legionella.continuiamo a stare a casa ma e  importante sapere che siamo impegnati per vincere anche questa sfida.r."
      ],
      "text/plain": [
       "<IPython.core.display.Markdown object>"
      ]
     },
     "metadata": {},
     "output_type": "display_data"
    },
    {
     "data": {
      "text/markdown": [
       "jamison, nota per i suoi studi fondamentali sul disturbo bipolare e il suicidio:  a meno che qualcuno viva una vita **terribilmente** noiosa, non abbia alcuna speranza che possa essere distrutta, nessun amore che possa essere perduto, o viaggi dalladopo aver portato la piccola nina a sanremo con sè, sarcinasta trascorrendo con lei tutto il tempo libero che ha a disposizione.il ritorno della bandiera biancorossa sulla panchina del mantova dopo la clamorosa salvezza del         almeno per questa stagione non si concretizzerà.ecco preghi per quelli che hanno perso tutto nella banca etruria.l evidenza scientifica sulle proprietà farmacologiche e terapeutiche della radice masticata fin dai tempi antichi in calabria, è pubblicata dalla rivista americana nella formula  open access , completamente accessibile al pubblico.eppure c è ancora molto da fare e al riguardo i capigruppo hanno avanzato delle proposte per le quali si cercherà trovare un attuazione in tempi brevi .il principe e l ex attrice americana di nuovo al lavoro.poi al quarantesimo hanno un ottima occasione con un gran tiro al volo di milenkovic che colpisce il palo alla destra di musso."
      ],
      "text/plain": [
       "<IPython.core.display.Markdown object>"
      ]
     },
     "metadata": {},
     "output_type": "display_data"
    },
    {
     "data": {
      "text/markdown": [
       "tuttavia ci sono raccontinon saranno quindi solo i bellissimi carri allegorici del carnevale di viareggio e delle sue maschere più originali, a dare spettacolo.non avere nulla a che fare con le amministrazioni passate è uno dei punti  forti  delle liste che sostengono contini e salomoni.e alla fine qualcuno dovrebbe pagare per tutto questo fango .dopo manolo gabbiadini oggi la sampdoria ha ufficializzato la positività di altro quattro giocatori  omar colley, albin ekdal, antonino la gumina, morten thorsby  e del dottor amedeo baldari, tutti con lievi sintomi e in buone condizioni di salute.poi, quando abbiamo ripetuto la richiesta in commissione finanze, hanno risposto ancora no, sostenendo che si tratta di dati riservati , racconta la deputata.perché comunque lo si voglia leggere, l esito del referendum è un segnale preciso che arriva a roma da una buona fetta di quel nord laborioso che si riscopre inquieto e invoca una maggiore giustizia negli squilibri economici del paese.colpiva era la normalità di eichmann, che non appariva come un mostro sanguinario ma come una persona  **terribilmente** e spaventosamente normale ."
      ],
      "text/plain": [
       "<IPython.core.display.Markdown object>"
      ]
     },
     "metadata": {},
     "output_type": "display_data"
    },
    {
     "data": {
      "text/markdown": [
       "ma il lontano **terribilmente** , **terribilmente** continua."
      ],
      "text/plain": [
       "<IPython.core.display.Markdown object>"
      ]
     },
     "metadata": {},
     "output_type": "display_data"
    },
    {
     "data": {
      "text/markdown": [
       "stop atra la gente perché la testa **terribilmente** mi sudava."
      ],
      "text/plain": [
       "<IPython.core.display.Markdown object>"
      ]
     },
     "metadata": {},
     "output_type": "display_data"
    },
    {
     "data": {
      "text/markdown": [
       "potete nascondere le mani ed i piedi ma non la testa, e questo mi ha **terribilmente** distrutto."
      ],
      "text/plain": [
       "<IPython.core.display.Markdown object>"
      ]
     },
     "metadata": {},
     "output_type": "display_data"
    },
    {
     "data": {
      "text/markdown": [
       "il karma è la molla irreversibile che,non ha senso fare costosi impianti ovunque con tutta la relativa tecnologia.e  quanto afferma l assessore regionale alla salute, luca coletto, in merito alle disposizioni adottate per il contrasto e la prevenzione del nuovo virus.i nostri ragionamenti, ad oggi, rimangono gli stessi e riguardano tanto il tema del consumo di suolo, della sostenibilità, quanto i nodi della viabilità.dopodiché voglio leggere e studiare con attenzione il regolamento contrattuale che condiziona l erogazione delle somme.lo hanno fatto sapere i carabinieri e il comune di zibido san giacomo, paese di  mila abitanti.anche se la fiorentina si sta interrogando sull eventuale futuro del campionato.il rapporto, antico, di lealtà che, nonostante le difficoltà, ancora lega i leader locali del centro nord con il partito nazionale, nel mezzogiorno non esiste quasi.del rogo si stanno occupando i carabinieri e anche se ancora non c è una conferma ufficiale è molto probabile che sia di origine dolosa.fin dal      a padova è attiva presso la clinica chirurgica ii una biobanca che quitidianamente conserva e gestisce campioni biologici neoplastici.per la diagnosi occorrerà aspettare l esame dei campioni prelevati nel corso del riscontro diagnostico effettuato nella mattinata, destinati per la tipizzazione al centro di riferimento regionale del policlinico di milano.le chitarre un po  gitane e un po  western sostenute da un elettropop di grana grossa sembrano fatte apposta per puntare all airplay radiofonico.a piangerlo, oltre ai familiari, i tanti amici che ne apprezzavano la disponibilità, il suo sorriso, la sua preparazione:  con lui se ne va un grande amico, una persona a cui era impossibile non voler bene .cose che davamo per scontate fino a pochi mesi fa dubitiamo possano tornare mai più, oppure diventano improvvisamente emozionanti  ri conquiste.e  stato fatto il punto della situazione in vista del mercato di gennaio.quest anno, sulla borsa di tokyo potrebbe infatti presentarsi una matricola che ha tutti i presupposti per battere quella del gruppo cinese alibaba, considerata la più grande del mondo nella storia.e mi pare di vederlo, ogni volta che vado a urbino e mi soffermo davanti al beato.anche per il suo avvenire.dai classici mattoncini al  d: lego lancia un nuovo concept di costruzioni.e se l amicizia è multirazziale, l amore è ancora bianco al bianco, nero al nero.metterla era fondamentale, ma pensavo che avrebbe creato più divisioni.l economia circolare invece usa l energia solare, nelle sue forme dirette e indirette  come l energia eolica e idroelettrica , che è abbondante, inesauribile e ben distribuita.la fila restante sarà dirottata nei pressi di piazza matteotti.anses raccomanda di evitare di indossare questi braccialetti da neonati e bambini piccoli.insomma di tutto per uscire dalla routine, dal truman show!be wizard, un evento dedicato al web marketing.questi due mondi, ricerca e impresa   che solitamente dialogano poco a livello regionale   nel territorio provinciale sembra che dialoghino più intensamente.bella e in perfetta forma, la ex bond girl è praticamente uguale a diciotto anni fa, quando nel      aveva girato una delle scene iconiche del film con protagonista l agente segreto più famoso del mondo.anche questa attività è stata sequestrata e sospesa per   giorni.dall amazzonia all india, dal mozambico all italia, chi uccide il pianeta.alzheimer,  la nonna sul pianeta blu ci sono poi questioni spinose riguardo alla libera espressione, ma come non diamo ad al qaeda o isis tempo televisivo per diffondere i loro messaggi, non siamo costretti a consentire lo facciano su una piattaforma on line, senza restrizioni .l igiene si trasforma in un gioco a suon di filastrocche per scoprire le nostre mani.le certezze sul futuro sono poche, ma l analisi della storia passata del salone del libro fatta ieri su repubblica dall ex direttore ernesto ferrero, riapre una ferita aperta.la violenza, il mito e il razzismo sono i pilastri della storia americana, un grande  non detto  che aleggia come un fantasma nella coscienza di molti dei suoi abitanti.per tale ragione, fino ad allora, non ci sarebbe l intenzione di dare input ai mercati senza che i dettagli siano del tutto chiariti.per le richieste di concessione suolo pubblico per ponteggi, cantieri e traslochi dovrà essere utilizzata la procedura on line.dietro gli spari contro stranieri a  non c è un solo colpevole, ci sono tante persone che hanno fatto meno il loro dovere .corrisponde a svegliarsi ripetutamente durante la notte o svegliarsi automaticamente nel primo mattino sentendosi **terribilmente** stanchi."
      ],
      "text/plain": [
       "<IPython.core.display.Markdown object>"
      ]
     },
     "metadata": {},
     "output_type": "display_data"
    },
    {
     "data": {
      "text/markdown": [
       ".punte che vi guardano immobili, che si guardano immobili   quelle delle due lineette che ne troncano inesorabilmente, **terribilmente** le cime   quell  arco inferiore, sul quale la lettera oscilla e si dondola sogghignando   e nell  interno quel nero, quele  un po  difficile però stabilire il rapporto preciso con l infezione sottostante perché in molti bambini ad esempio i tamponi non sono stati eseguiti.il negozio è  difeso  da un vigilante non armato, tipo portierato sociale, che per legge può al massimo controllare che i clienti non rubino, ma non può intervenire in questo tipo di situazioni."
      ],
      "text/plain": [
       "<IPython.core.display.Markdown object>"
      ]
     },
     "metadata": {},
     "output_type": "display_data"
    },
    {
     "data": {
      "text/markdown": [
       "è un violentissimo freno al ritmo di gioco che ha **terribilmente** smorzato la mia prova."
      ],
      "text/plain": [
       "<IPython.core.display.Markdown object>"
      ]
     },
     "metadata": {},
     "output_type": "display_data"
    }
   ],
   "source": [
    "res7 = find_sentences_with_keyword(document7, 'terribilmente')"
   ]
  },
  {
   "cell_type": "code",
   "execution_count": 45,
   "id": "e7d80ba4",
   "metadata": {},
   "outputs": [
    {
     "data": {
      "text/html": [
       "<div>\n",
       "<style scoped>\n",
       "    .dataframe tbody tr th:only-of-type {\n",
       "        vertical-align: middle;\n",
       "    }\n",
       "\n",
       "    .dataframe tbody tr th {\n",
       "        vertical-align: top;\n",
       "    }\n",
       "\n",
       "    .dataframe thead th {\n",
       "        text-align: right;\n",
       "    }\n",
       "</style>\n",
       "<table border=\"1\" class=\"dataframe\">\n",
       "  <thead>\n",
       "    <tr style=\"text-align: right;\">\n",
       "      <th></th>\n",
       "      <th>sentences</th>\n",
       "    </tr>\n",
       "  </thead>\n",
       "  <tbody>\n",
       "    <tr>\n",
       "      <th>0</th>\n",
       "      <td>i grandi giornali italiani, purtroppo, lo hann...</td>\n",
       "    </tr>\n",
       "    <tr>\n",
       "      <th>1</th>\n",
       "      <td>e qundo toccano i diritti umani io mi arrabbio...</td>\n",
       "    </tr>\n",
       "    <tr>\n",
       "      <th>2</th>\n",
       "      <td>suona piuttosto come un disco di rock ben suon...</td>\n",
       "    </tr>\n",
       "    <tr>\n",
       "      <th>3</th>\n",
       "      <td>biagi scrive a maroni un messaggio amareggiato...</td>\n",
       "    </tr>\n",
       "    <tr>\n",
       "      <th>4</th>\n",
       "      <td>berserk sta diventando terribilmente convenzio...</td>\n",
       "    </tr>\n",
       "  </tbody>\n",
       "</table>\n",
       "</div>"
      ],
      "text/plain": [
       "                                           sentences\n",
       "0  i grandi giornali italiani, purtroppo, lo hann...\n",
       "1  e qundo toccano i diritti umani io mi arrabbio...\n",
       "2  suona piuttosto come un disco di rock ben suon...\n",
       "3  biagi scrive a maroni un messaggio amareggiato...\n",
       "4  berserk sta diventando terribilmente convenzio..."
      ]
     },
     "execution_count": 45,
     "metadata": {},
     "output_type": "execute_result"
    }
   ],
   "source": [
    "res7.head()"
   ]
  },
  {
   "cell_type": "markdown",
   "id": "727ff2af",
   "metadata": {},
   "source": [
    "### Zusammenfügen und Speichern"
   ]
  },
  {
   "cell_type": "code",
   "execution_count": 48,
   "id": "ea8c49fa",
   "metadata": {},
   "outputs": [],
   "source": [
    "res4_new = res4.sample(n=100 , random_state=1)\n",
    "res5_new = res5.sample(n=100 , random_state=1)\n",
    "res6_new = res6.sample(n=100 , random_state=1)\n",
    "res7_new = res7.sample(n=100 , random_state=1)"
   ]
  },
  {
   "cell_type": "code",
   "execution_count": 49,
   "id": "712c43ed",
   "metadata": {},
   "outputs": [],
   "source": [
    "res = pd.concat([res1, res2, res3, res4_new, res5_new, res6_new, res7_new], \n",
    "                keys=['1700-1750', '1751-1800', '1801-1850', '1851-1900', '1901-1950', '1951-2000', '2001-2021'])"
   ]
  },
  {
   "cell_type": "code",
   "execution_count": 50,
   "id": "6bcd0893",
   "metadata": {},
   "outputs": [
    {
     "data": {
      "text/html": [
       "<div>\n",
       "<style scoped>\n",
       "    .dataframe tbody tr th:only-of-type {\n",
       "        vertical-align: middle;\n",
       "    }\n",
       "\n",
       "    .dataframe tbody tr th {\n",
       "        vertical-align: top;\n",
       "    }\n",
       "\n",
       "    .dataframe thead th {\n",
       "        text-align: right;\n",
       "    }\n",
       "</style>\n",
       "<table border=\"1\" class=\"dataframe\">\n",
       "  <thead>\n",
       "    <tr style=\"text-align: right;\">\n",
       "      <th></th>\n",
       "      <th></th>\n",
       "      <th>sentences</th>\n",
       "    </tr>\n",
       "  </thead>\n",
       "  <tbody>\n",
       "    <tr>\n",
       "      <th rowspan=\"5\" valign=\"top\">1700-1750</th>\n",
       "      <th>0</th>\n",
       "      <td>così, poich ebbe tracannato a iosa cento gran ...</td>\n",
       "    </tr>\n",
       "    <tr>\n",
       "      <th>1</th>\n",
       "      <td>dai quali con uno strattagemma sono terribilme...</td>\n",
       "    </tr>\n",
       "    <tr>\n",
       "      <th>2</th>\n",
       "      <td>prendono per signore carlo i re di, per testim...</td>\n",
       "    </tr>\n",
       "    <tr>\n",
       "      <th>3</th>\n",
       "      <td>giocarono in questo conflitto terribilmente le...</td>\n",
       "    </tr>\n",
       "    <tr>\n",
       "      <th>4</th>\n",
       "      <td>ma si trovò terribilmente gonfio esso mare con...</td>\n",
       "    </tr>\n",
       "    <tr>\n",
       "      <th>...</th>\n",
       "      <th>...</th>\n",
       "      <td>...</td>\n",
       "    </tr>\n",
       "    <tr>\n",
       "      <th rowspan=\"5\" valign=\"top\">2001-2021</th>\n",
       "      <th>100</th>\n",
       "      <td>aziende per   ,  milioni di euro.altre volte, ...</td>\n",
       "    </tr>\n",
       "    <tr>\n",
       "      <th>112</th>\n",
       "      <td>: quando voglio rilassarmi un poco, in un  atm...</td>\n",
       "    </tr>\n",
       "    <tr>\n",
       "      <th>49</th>\n",
       "      <td>n   if  or    n       n           fib    n    ...</td>\n",
       "    </tr>\n",
       "    <tr>\n",
       "      <th>21</th>\n",
       "      <td>credo che molti giornalisti americani siano te...</td>\n",
       "    </tr>\n",
       "    <tr>\n",
       "      <th>70</th>\n",
       "      <td>io stesso soffro terribilmente per la morte di...</td>\n",
       "    </tr>\n",
       "  </tbody>\n",
       "</table>\n",
       "<p>445 rows × 1 columns</p>\n",
       "</div>"
      ],
      "text/plain": [
       "                                                       sentences\n",
       "1700-1750 0    così, poich ebbe tracannato a iosa cento gran ...\n",
       "          1    dai quali con uno strattagemma sono terribilme...\n",
       "          2    prendono per signore carlo i re di, per testim...\n",
       "          3    giocarono in questo conflitto terribilmente le...\n",
       "          4    ma si trovò terribilmente gonfio esso mare con...\n",
       "...                                                          ...\n",
       "2001-2021 100  aziende per   ,  milioni di euro.altre volte, ...\n",
       "          112  : quando voglio rilassarmi un poco, in un  atm...\n",
       "          49   n   if  or    n       n           fib    n    ...\n",
       "          21   credo che molti giornalisti americani siano te...\n",
       "          70   io stesso soffro terribilmente per la morte di...\n",
       "\n",
       "[445 rows x 1 columns]"
      ]
     },
     "execution_count": 50,
     "metadata": {},
     "output_type": "execute_result"
    }
   ],
   "source": [
    "res"
   ]
  },
  {
   "cell_type": "code",
   "execution_count": null,
   "id": "d655d033",
   "metadata": {},
   "outputs": [],
   "source": []
  }
 ],
 "metadata": {
  "kernelspec": {
   "display_name": "Python 3 (ipykernel)",
   "language": "python",
   "name": "python3"
  },
  "language_info": {
   "codemirror_mode": {
    "name": "ipython",
    "version": 3
   },
   "file_extension": ".py",
   "mimetype": "text/x-python",
   "name": "python",
   "nbconvert_exporter": "python",
   "pygments_lexer": "ipython3",
   "version": "3.7.11"
  }
 },
 "nbformat": 4,
 "nbformat_minor": 5
}
