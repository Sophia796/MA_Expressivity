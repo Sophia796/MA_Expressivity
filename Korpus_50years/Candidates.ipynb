{
 "cells": [
  {
   "cell_type": "markdown",
   "id": "94241e01",
   "metadata": {},
   "source": [
    "# Kandidaten"
   ]
  },
  {
   "cell_type": "code",
   "execution_count": 1,
   "id": "f2a92e58",
   "metadata": {},
   "outputs": [],
   "source": [
    "import codecs\n",
    "from collections import Counter\n",
    "from IPython.display import Markdown, display\n",
    "import nltk\n",
    "import numpy as np\n",
    "import os\n",
    "import pandas as pd\n",
    "import re\n",
    "import scipy\n",
    "import spacy"
   ]
  },
  {
   "cell_type": "markdown",
   "id": "ff5e1734",
   "metadata": {},
   "source": [
    "### Anzahl der Kandidaten im lemmatisierten, normalisierten Korpus (Trainingskorpus für die Embeddings)"
   ]
  },
  {
   "cell_type": "code",
   "execution_count": 2,
   "id": "2171d7a8",
   "metadata": {},
   "outputs": [],
   "source": [
    "df = pd.read_csv('Korpus/corpus_lemmatized.csv', sep=',', encoding='utf-8')"
   ]
  },
  {
   "cell_type": "code",
   "execution_count": 3,
   "id": "ed122676",
   "metadata": {},
   "outputs": [
    {
     "data": {
      "text/html": [
       "<div>\n",
       "<style scoped>\n",
       "    .dataframe tbody tr th:only-of-type {\n",
       "        vertical-align: middle;\n",
       "    }\n",
       "\n",
       "    .dataframe tbody tr th {\n",
       "        vertical-align: top;\n",
       "    }\n",
       "\n",
       "    .dataframe thead th {\n",
       "        text-align: right;\n",
       "    }\n",
       "</style>\n",
       "<table border=\"1\" class=\"dataframe\">\n",
       "  <thead>\n",
       "    <tr style=\"text-align: right;\">\n",
       "      <th></th>\n",
       "      <th>doc</th>\n",
       "      <th>source</th>\n",
       "      <th>author</th>\n",
       "      <th>title</th>\n",
       "      <th>year</th>\n",
       "      <th>period</th>\n",
       "      <th>text_type</th>\n",
       "      <th>text</th>\n",
       "      <th>words</th>\n",
       "      <th>filtered_text</th>\n",
       "      <th>weight</th>\n",
       "      <th>lemmatized_text</th>\n",
       "    </tr>\n",
       "  </thead>\n",
       "  <tbody>\n",
       "    <tr>\n",
       "      <th>0</th>\n",
       "      <td>Poesia.IV.4.Testo.txt</td>\n",
       "      <td>MIDIA</td>\n",
       "      <td>Faustina Maratti Zappi</td>\n",
       "      <td>Poesie</td>\n",
       "      <td>1700.0</td>\n",
       "      <td>1700-1750</td>\n",
       "      <td>poesia</td>\n",
       "      <td>IV. 4. Rime degli Arcadi: Aglauro Cidonia (Fau...</td>\n",
       "      <td>3184.0</td>\n",
       "      <td>iv     rime degli arcadi  aglauro cidonia  fau...</td>\n",
       "      <td>0.5</td>\n",
       "      <td>iv . 4 . rima del arcadi : aglauro cidonia ( f...</td>\n",
       "    </tr>\n",
       "    <tr>\n",
       "      <th>1</th>\n",
       "      <td>Poesia.IV.11.Testo.txt</td>\n",
       "      <td>MIDIA</td>\n",
       "      <td>Giambattista Felice Zappi</td>\n",
       "      <td>Poesie</td>\n",
       "      <td>1700.0</td>\n",
       "      <td>1700-1750</td>\n",
       "      <td>poesia</td>\n",
       "      <td>IV. 11. Rime degli arcadi: Tirsi Leucasio (Gio...</td>\n",
       "      <td>6113.0</td>\n",
       "      <td>iv      rime degli arcadi  tirsi leucasio  gio...</td>\n",
       "      <td>0.8</td>\n",
       "      <td>iv . 11 . rima del arcade : tirsi leucasio ( g...</td>\n",
       "    </tr>\n",
       "    <tr>\n",
       "      <th>2</th>\n",
       "      <td>Poesia.IV.1.Testo.txt</td>\n",
       "      <td>MIDIA</td>\n",
       "      <td>Giuseppe Paolucci (Alessi Cillenio)</td>\n",
       "      <td>Poesie</td>\n",
       "      <td>1700.0</td>\n",
       "      <td>1700-1750</td>\n",
       "      <td>poesia</td>\n",
       "      <td>IV. 1. Rime degli Arcadi: Alessi Cillenio (Giu...</td>\n",
       "      <td>10862.0</td>\n",
       "      <td>iv     rime degli arcadi  alessi cillenio  giu...</td>\n",
       "      <td>0.8</td>\n",
       "      <td>iv . 1 . rima del arcadi : alessi cillenio ( G...</td>\n",
       "    </tr>\n",
       "    <tr>\n",
       "      <th>3</th>\n",
       "      <td>Personali.IV.5.Testo.txt</td>\n",
       "      <td>MIDIA</td>\n",
       "      <td>Lorenzo Magalotti</td>\n",
       "      <td>Lettere odorose (1693-1705)</td>\n",
       "      <td>1700.0</td>\n",
       "      <td>1700-1750</td>\n",
       "      <td>personale</td>\n",
       "      <td>IV. 5. Lorenzo Magalotti, Lettere odorose (169...</td>\n",
       "      <td>8374.0</td>\n",
       "      <td>iv     lorenzo magalotti  lettere odorose     ...</td>\n",
       "      <td>0.8</td>\n",
       "      <td>iv . 5 . Lorenzo magalotti , lettere odoroso (...</td>\n",
       "    </tr>\n",
       "    <tr>\n",
       "      <th>4</th>\n",
       "      <td>Espositivi.IV.4.Testo.txt</td>\n",
       "      <td>MIDIA</td>\n",
       "      <td>Ludovico Antonio Muratori</td>\n",
       "      <td>Antichità italiane</td>\n",
       "      <td>1700.0</td>\n",
       "      <td>1700-1750</td>\n",
       "      <td>espositivo</td>\n",
       "      <td>﻿IV. 4. Ludovico Antonio Muratori, Antichità i...</td>\n",
       "      <td>8990.0</td>\n",
       "      <td>iv     ludovico antonio muratori  antichità i...</td>\n",
       "      <td>0.5</td>\n",
       "      <td>﻿iv . 4 . Ludovico Antonio muratori , antichit...</td>\n",
       "    </tr>\n",
       "  </tbody>\n",
       "</table>\n",
       "</div>"
      ],
      "text/plain": [
       "                         doc source                               author  \\\n",
       "0      Poesia.IV.4.Testo.txt  MIDIA               Faustina Maratti Zappi   \n",
       "1     Poesia.IV.11.Testo.txt  MIDIA            Giambattista Felice Zappi   \n",
       "2      Poesia.IV.1.Testo.txt  MIDIA  Giuseppe Paolucci (Alessi Cillenio)   \n",
       "3   Personali.IV.5.Testo.txt  MIDIA                    Lorenzo Magalotti   \n",
       "4  Espositivi.IV.4.Testo.txt  MIDIA           Ludovico Antonio Muratori    \n",
       "\n",
       "                         title    year     period   text_type  \\\n",
       "0                       Poesie  1700.0  1700-1750      poesia   \n",
       "1                       Poesie  1700.0  1700-1750      poesia   \n",
       "2                       Poesie  1700.0  1700-1750      poesia   \n",
       "3  Lettere odorose (1693-1705)  1700.0  1700-1750   personale   \n",
       "4           Antichità italiane  1700.0  1700-1750  espositivo   \n",
       "\n",
       "                                                text    words  \\\n",
       "0  IV. 4. Rime degli Arcadi: Aglauro Cidonia (Fau...   3184.0   \n",
       "1  IV. 11. Rime degli arcadi: Tirsi Leucasio (Gio...   6113.0   \n",
       "2  IV. 1. Rime degli Arcadi: Alessi Cillenio (Giu...  10862.0   \n",
       "3  IV. 5. Lorenzo Magalotti, Lettere odorose (169...   8374.0   \n",
       "4  ﻿IV. 4. Ludovico Antonio Muratori, Antichità i...   8990.0   \n",
       "\n",
       "                                       filtered_text  weight  \\\n",
       "0  iv     rime degli arcadi  aglauro cidonia  fau...     0.5   \n",
       "1  iv      rime degli arcadi  tirsi leucasio  gio...     0.8   \n",
       "2  iv     rime degli arcadi  alessi cillenio  giu...     0.8   \n",
       "3  iv     lorenzo magalotti  lettere odorose     ...     0.8   \n",
       "4   iv     ludovico antonio muratori  antichità i...     0.5   \n",
       "\n",
       "                                     lemmatized_text  \n",
       "0  iv . 4 . rima del arcadi : aglauro cidonia ( f...  \n",
       "1  iv . 11 . rima del arcade : tirsi leucasio ( g...  \n",
       "2  iv . 1 . rima del arcadi : alessi cillenio ( G...  \n",
       "3  iv . 5 . Lorenzo magalotti , lettere odoroso (...  \n",
       "4  ﻿iv . 4 . Ludovico Antonio muratori , antichit...  "
      ]
     },
     "execution_count": 3,
     "metadata": {},
     "output_type": "execute_result"
    }
   ],
   "source": [
    "df.head()"
   ]
  },
  {
   "cell_type": "code",
   "execution_count": 4,
   "id": "da8051c8",
   "metadata": {},
   "outputs": [
    {
     "data": {
      "text/plain": [
       "(155605, 12)"
      ]
     },
     "execution_count": 4,
     "metadata": {},
     "output_type": "execute_result"
    }
   ],
   "source": [
    "df.shape"
   ]
  },
  {
   "cell_type": "code",
   "execution_count": 5,
   "id": "515a1157",
   "metadata": {},
   "outputs": [],
   "source": [
    "df.text = df.text.fillna('')\n",
    "df.lemmatized_text = df.lemmatized_text.fillna('')"
   ]
  },
  {
   "cell_type": "code",
   "execution_count": 6,
   "id": "1c3cc584",
   "metadata": {},
   "outputs": [],
   "source": [
    "# Teilframes pro Zeitraum erstellen\n",
    "\n",
    "period_frames = []\n",
    "periods = list(df['period'].unique())\n",
    "df_periods = dict(tuple(df.groupby(by='period')))\n",
    "\n",
    "for df, period in zip(df_periods, periods):\n",
    "    df_period = df_periods[period]\n",
    "    period_frames.append(df_period)"
   ]
  },
  {
   "cell_type": "code",
   "execution_count": 7,
   "id": "55abe7b3",
   "metadata": {},
   "outputs": [],
   "source": [
    "# Funktion, die bestimmte Wörter zählt (im lemmatisierten Text)\n",
    "\n",
    "def count_keywords(df, keywords):\n",
    "    keyword_dict = {w:w.replace(' ', '_') for w in keywords}\n",
    "\n",
    "    corpus = ' '.join(df.lemmatized_text).lower()\n",
    "    for w,w2 in keyword_dict.items():\n",
    "        corpus = corpus.replace(w,w2)\n",
    "\n",
    "    all_counts = Counter(corpus.split())\n",
    "    final_counts = {w:all_counts[w2] for w,w2 in keyword_dict.items()}\n",
    "    return final_counts"
   ]
  },
  {
   "cell_type": "code",
   "execution_count": 8,
   "id": "847f3f93",
   "metadata": {},
   "outputs": [],
   "source": [
    "# mögliche Kandidaten\n",
    "\n",
    "keywords = ['atrocemente', 'formidabilmente', 'mostruosamente', 'orrendamente', \n",
    "            'orribilmente', 'spaventosamente', 'terribilmente', 'tremendamente', \n",
    "            'molto', 'angoscia', 'angosciare', 'ansia', 'atterrire', 'panico', \n",
    "            'paura', 'raccapricciare', 'raccapriccio', 'schifo', 'sgomentare', \n",
    "            'sgomento', 'spaventare', 'spavento', 'terrore', 'domani', 'finora', \n",
    "            'ieri', 'oggi', 'presto', 'raramente', 'sempre', 'spesso']"
   ]
  },
  {
   "cell_type": "code",
   "execution_count": 9,
   "id": "48ea6679",
   "metadata": {},
   "outputs": [],
   "source": [
    "candidates = {}\n",
    "\n",
    "for df, period in zip(period_frames, periods):\n",
    "    res = count_keywords(df, keywords)\n",
    "    candidates[period] = res"
   ]
  },
  {
   "cell_type": "code",
   "execution_count": 10,
   "id": "7ea39edb",
   "metadata": {},
   "outputs": [
    {
     "data": {
      "text/plain": [
       "{'1700-1750': {'atrocemente': 2,\n",
       "  'formidabilmente': 0,\n",
       "  'mostruosamente': 2,\n",
       "  'orrendamente': 1,\n",
       "  'orribilmente': 20,\n",
       "  'spaventosamente': 9,\n",
       "  'terribilmente': 13,\n",
       "  'tremendamente': 0,\n",
       "  'molto': 10683,\n",
       "  'angoscia': 18,\n",
       "  'angosciare': 0,\n",
       "  'ansia': 1,\n",
       "  'atterrire': 100,\n",
       "  'panico': 11,\n",
       "  'paura': 177,\n",
       "  'raccapricciare': 7,\n",
       "  'raccapriccio': 1,\n",
       "  'schifo': 11,\n",
       "  'sgomentare': 57,\n",
       "  'sgomento': 6,\n",
       "  'spaventare': 70,\n",
       "  'spavento': 224,\n",
       "  'terrore': 143,\n",
       "  'domani': 33,\n",
       "  'finora': 237,\n",
       "  'ieri': 25,\n",
       "  'oggi': 602,\n",
       "  'presto': 275,\n",
       "  'raramente': 9,\n",
       "  'sempre': 1998,\n",
       "  'spesso': 534},\n",
       " '1751-1800': {'atrocemente': 2,\n",
       "  'formidabilmente': 0,\n",
       "  'mostruosamente': 0,\n",
       "  'orrendamente': 1,\n",
       "  'orribilmente': 22,\n",
       "  'spaventosamente': 0,\n",
       "  'terribilmente': 12,\n",
       "  'tremendamente': 0,\n",
       "  'molto': 13671,\n",
       "  'angoscia': 60,\n",
       "  'angosciare': 0,\n",
       "  'ansia': 2,\n",
       "  'atterrire': 53,\n",
       "  'panico': 9,\n",
       "  'paura': 197,\n",
       "  'raccapricciare': 1,\n",
       "  'raccapriccio': 8,\n",
       "  'schifo': 30,\n",
       "  'sgomentare': 12,\n",
       "  'sgomento': 3,\n",
       "  'spaventare': 56,\n",
       "  'spavento': 83,\n",
       "  'terrore': 126,\n",
       "  'domani': 173,\n",
       "  'finora': 218,\n",
       "  'ieri': 94,\n",
       "  'oggi': 537,\n",
       "  'presto': 501,\n",
       "  'raramente': 53,\n",
       "  'sempre': 2692,\n",
       "  'spesso': 665},\n",
       " '1801-1850': {'atrocemente': 11,\n",
       "  'formidabilmente': 0,\n",
       "  'mostruosamente': 1,\n",
       "  'orrendamente': 5,\n",
       "  'orribilmente': 31,\n",
       "  'spaventosamente': 2,\n",
       "  'terribilmente': 18,\n",
       "  'tremendamente': 0,\n",
       "  'molto': 10129,\n",
       "  'angoscia': 119,\n",
       "  'angosciare': 16,\n",
       "  'ansia': 38,\n",
       "  'atterrire': 75,\n",
       "  'panico': 14,\n",
       "  'paura': 243,\n",
       "  'raccapricciare': 9,\n",
       "  'raccapriccio': 18,\n",
       "  'schifo': 14,\n",
       "  'sgomentare': 40,\n",
       "  'sgomento': 16,\n",
       "  'spaventare': 154,\n",
       "  'spavento': 157,\n",
       "  'terrore': 216,\n",
       "  'domani': 198,\n",
       "  'finora': 108,\n",
       "  'ieri': 233,\n",
       "  'oggi': 854,\n",
       "  'presto': 482,\n",
       "  'raramente': 19,\n",
       "  'sempre': 2665,\n",
       "  'spesso': 631},\n",
       " '1851-1900': {'atrocemente': 42,\n",
       "  'formidabilmente': 8,\n",
       "  'mostruosamente': 13,\n",
       "  'orrendamente': 21,\n",
       "  'orribilmente': 116,\n",
       "  'spaventosamente': 23,\n",
       "  'terribilmente': 63,\n",
       "  'tremendamente': 28,\n",
       "  'molto': 10602,\n",
       "  'angoscia': 230,\n",
       "  'angosciare': 14,\n",
       "  'ansia': 117,\n",
       "  'atterrire': 81,\n",
       "  'panico': 19,\n",
       "  'paura': 651,\n",
       "  'raccapricciare': 26,\n",
       "  'raccapriccio': 96,\n",
       "  'schifo': 58,\n",
       "  'sgomentare': 81,\n",
       "  'sgomento': 129,\n",
       "  'spaventare': 221,\n",
       "  'spavento': 181,\n",
       "  'terrore': 240,\n",
       "  'domani': 427,\n",
       "  'finora': 146,\n",
       "  'ieri': 219,\n",
       "  'oggi': 651,\n",
       "  'presto': 582,\n",
       "  'raramente': 54,\n",
       "  'sempre': 3074,\n",
       "  'spesso': 574},\n",
       " '1901-1950': {'atrocemente': 67,\n",
       "  'formidabilmente': 13,\n",
       "  'mostruosamente': 35,\n",
       "  'orrendamente': 35,\n",
       "  'orribilmente': 171,\n",
       "  'spaventosamente': 106,\n",
       "  'terribilmente': 225,\n",
       "  'tremendamente': 41,\n",
       "  'molto': 11979,\n",
       "  'angoscia': 343,\n",
       "  'angosciare': 31,\n",
       "  'ansia': 379,\n",
       "  'atterrire': 112,\n",
       "  'panico': 61,\n",
       "  'paura': 838,\n",
       "  'raccapricciare': 32,\n",
       "  'raccapriccio': 113,\n",
       "  'schifo': 140,\n",
       "  'sgomentare': 122,\n",
       "  'sgomento': 310,\n",
       "  'spaventare': 269,\n",
       "  'spavento': 260,\n",
       "  'terrore': 357,\n",
       "  'domani': 674,\n",
       "  'finora': 229,\n",
       "  'ieri': 402,\n",
       "  'oggi': 1089,\n",
       "  'presto': 608,\n",
       "  'raramente': 164,\n",
       "  'sempre': 3043,\n",
       "  'spesso': 718},\n",
       " '1951-2000': {'atrocemente': 79,\n",
       "  'formidabilmente': 5,\n",
       "  'mostruosamente': 72,\n",
       "  'orrendamente': 75,\n",
       "  'orribilmente': 89,\n",
       "  'spaventosamente': 91,\n",
       "  'terribilmente': 141,\n",
       "  'tremendamente': 86,\n",
       "  'molto': 13782,\n",
       "  'angoscia': 357,\n",
       "  'angosciare': 60,\n",
       "  'ansia': 330,\n",
       "  'atterrire': 36,\n",
       "  'panico': 263,\n",
       "  'paura': 723,\n",
       "  'raccapricciare': 4,\n",
       "  'raccapriccio': 101,\n",
       "  'schifo': 171,\n",
       "  'sgomentare': 52,\n",
       "  'sgomento': 251,\n",
       "  'spaventare': 203,\n",
       "  'spavento': 167,\n",
       "  'terrore': 377,\n",
       "  'domani': 651,\n",
       "  'finora': 572,\n",
       "  'ieri': 1811,\n",
       "  'oggi': 2198,\n",
       "  'presto': 708,\n",
       "  'raramente': 296,\n",
       "  'sempre': 3187,\n",
       "  'spesso': 1126},\n",
       " '2001-2021': {'atrocemente': 125,\n",
       "  'formidabilmente': 101,\n",
       "  'mostruosamente': 125,\n",
       "  'orrendamente': 131,\n",
       "  'orribilmente': 121,\n",
       "  'spaventosamente': 123,\n",
       "  'terribilmente': 133,\n",
       "  'tremendamente': 126,\n",
       "  'molto': 10943,\n",
       "  'angoscia': 152,\n",
       "  'angosciare': 37,\n",
       "  'ansia': 174,\n",
       "  'atterrire': 61,\n",
       "  'panico': 190,\n",
       "  'paura': 649,\n",
       "  'raccapricciare': 16,\n",
       "  'raccapriccio': 111,\n",
       "  'schifo': 138,\n",
       "  'sgomentare': 51,\n",
       "  'sgomento': 113,\n",
       "  'spaventare': 150,\n",
       "  'spavento': 116,\n",
       "  'terrore': 192,\n",
       "  'domani': 674,\n",
       "  'finora': 255,\n",
       "  'ieri': 1243,\n",
       "  'oggi': 2212,\n",
       "  'presto': 383,\n",
       "  'raramente': 87,\n",
       "  'sempre': 2737,\n",
       "  'spesso': 641}}"
      ]
     },
     "execution_count": 10,
     "metadata": {},
     "output_type": "execute_result"
    }
   ],
   "source": [
    "candidates"
   ]
  },
  {
   "cell_type": "code",
   "execution_count": 11,
   "id": "5e83ca66",
   "metadata": {},
   "outputs": [
    {
     "data": {
      "text/html": [
       "<div>\n",
       "<style scoped>\n",
       "    .dataframe tbody tr th:only-of-type {\n",
       "        vertical-align: middle;\n",
       "    }\n",
       "\n",
       "    .dataframe tbody tr th {\n",
       "        vertical-align: top;\n",
       "    }\n",
       "\n",
       "    .dataframe thead th {\n",
       "        text-align: right;\n",
       "    }\n",
       "</style>\n",
       "<table border=\"1\" class=\"dataframe\">\n",
       "  <thead>\n",
       "    <tr style=\"text-align: right;\">\n",
       "      <th></th>\n",
       "      <th>atrocemente</th>\n",
       "      <th>formidabilmente</th>\n",
       "      <th>mostruosamente</th>\n",
       "      <th>orrendamente</th>\n",
       "      <th>orribilmente</th>\n",
       "      <th>spaventosamente</th>\n",
       "      <th>terribilmente</th>\n",
       "      <th>tremendamente</th>\n",
       "      <th>molto</th>\n",
       "      <th>angoscia</th>\n",
       "      <th>...</th>\n",
       "      <th>spavento</th>\n",
       "      <th>terrore</th>\n",
       "      <th>domani</th>\n",
       "      <th>finora</th>\n",
       "      <th>ieri</th>\n",
       "      <th>oggi</th>\n",
       "      <th>presto</th>\n",
       "      <th>raramente</th>\n",
       "      <th>sempre</th>\n",
       "      <th>spesso</th>\n",
       "    </tr>\n",
       "  </thead>\n",
       "  <tbody>\n",
       "    <tr>\n",
       "      <th>1700-1750</th>\n",
       "      <td>2</td>\n",
       "      <td>0</td>\n",
       "      <td>2</td>\n",
       "      <td>1</td>\n",
       "      <td>20</td>\n",
       "      <td>9</td>\n",
       "      <td>13</td>\n",
       "      <td>0</td>\n",
       "      <td>10683</td>\n",
       "      <td>18</td>\n",
       "      <td>...</td>\n",
       "      <td>224</td>\n",
       "      <td>143</td>\n",
       "      <td>33</td>\n",
       "      <td>237</td>\n",
       "      <td>25</td>\n",
       "      <td>602</td>\n",
       "      <td>275</td>\n",
       "      <td>9</td>\n",
       "      <td>1998</td>\n",
       "      <td>534</td>\n",
       "    </tr>\n",
       "    <tr>\n",
       "      <th>1751-1800</th>\n",
       "      <td>2</td>\n",
       "      <td>0</td>\n",
       "      <td>0</td>\n",
       "      <td>1</td>\n",
       "      <td>22</td>\n",
       "      <td>0</td>\n",
       "      <td>12</td>\n",
       "      <td>0</td>\n",
       "      <td>13671</td>\n",
       "      <td>60</td>\n",
       "      <td>...</td>\n",
       "      <td>83</td>\n",
       "      <td>126</td>\n",
       "      <td>173</td>\n",
       "      <td>218</td>\n",
       "      <td>94</td>\n",
       "      <td>537</td>\n",
       "      <td>501</td>\n",
       "      <td>53</td>\n",
       "      <td>2692</td>\n",
       "      <td>665</td>\n",
       "    </tr>\n",
       "    <tr>\n",
       "      <th>1801-1850</th>\n",
       "      <td>11</td>\n",
       "      <td>0</td>\n",
       "      <td>1</td>\n",
       "      <td>5</td>\n",
       "      <td>31</td>\n",
       "      <td>2</td>\n",
       "      <td>18</td>\n",
       "      <td>0</td>\n",
       "      <td>10129</td>\n",
       "      <td>119</td>\n",
       "      <td>...</td>\n",
       "      <td>157</td>\n",
       "      <td>216</td>\n",
       "      <td>198</td>\n",
       "      <td>108</td>\n",
       "      <td>233</td>\n",
       "      <td>854</td>\n",
       "      <td>482</td>\n",
       "      <td>19</td>\n",
       "      <td>2665</td>\n",
       "      <td>631</td>\n",
       "    </tr>\n",
       "    <tr>\n",
       "      <th>1851-1900</th>\n",
       "      <td>42</td>\n",
       "      <td>8</td>\n",
       "      <td>13</td>\n",
       "      <td>21</td>\n",
       "      <td>116</td>\n",
       "      <td>23</td>\n",
       "      <td>63</td>\n",
       "      <td>28</td>\n",
       "      <td>10602</td>\n",
       "      <td>230</td>\n",
       "      <td>...</td>\n",
       "      <td>181</td>\n",
       "      <td>240</td>\n",
       "      <td>427</td>\n",
       "      <td>146</td>\n",
       "      <td>219</td>\n",
       "      <td>651</td>\n",
       "      <td>582</td>\n",
       "      <td>54</td>\n",
       "      <td>3074</td>\n",
       "      <td>574</td>\n",
       "    </tr>\n",
       "    <tr>\n",
       "      <th>1901-1950</th>\n",
       "      <td>67</td>\n",
       "      <td>13</td>\n",
       "      <td>35</td>\n",
       "      <td>35</td>\n",
       "      <td>171</td>\n",
       "      <td>106</td>\n",
       "      <td>225</td>\n",
       "      <td>41</td>\n",
       "      <td>11979</td>\n",
       "      <td>343</td>\n",
       "      <td>...</td>\n",
       "      <td>260</td>\n",
       "      <td>357</td>\n",
       "      <td>674</td>\n",
       "      <td>229</td>\n",
       "      <td>402</td>\n",
       "      <td>1089</td>\n",
       "      <td>608</td>\n",
       "      <td>164</td>\n",
       "      <td>3043</td>\n",
       "      <td>718</td>\n",
       "    </tr>\n",
       "    <tr>\n",
       "      <th>1951-2000</th>\n",
       "      <td>79</td>\n",
       "      <td>5</td>\n",
       "      <td>72</td>\n",
       "      <td>75</td>\n",
       "      <td>89</td>\n",
       "      <td>91</td>\n",
       "      <td>141</td>\n",
       "      <td>86</td>\n",
       "      <td>13782</td>\n",
       "      <td>357</td>\n",
       "      <td>...</td>\n",
       "      <td>167</td>\n",
       "      <td>377</td>\n",
       "      <td>651</td>\n",
       "      <td>572</td>\n",
       "      <td>1811</td>\n",
       "      <td>2198</td>\n",
       "      <td>708</td>\n",
       "      <td>296</td>\n",
       "      <td>3187</td>\n",
       "      <td>1126</td>\n",
       "    </tr>\n",
       "    <tr>\n",
       "      <th>2001-2021</th>\n",
       "      <td>125</td>\n",
       "      <td>101</td>\n",
       "      <td>125</td>\n",
       "      <td>131</td>\n",
       "      <td>121</td>\n",
       "      <td>123</td>\n",
       "      <td>133</td>\n",
       "      <td>126</td>\n",
       "      <td>10943</td>\n",
       "      <td>152</td>\n",
       "      <td>...</td>\n",
       "      <td>116</td>\n",
       "      <td>192</td>\n",
       "      <td>674</td>\n",
       "      <td>255</td>\n",
       "      <td>1243</td>\n",
       "      <td>2212</td>\n",
       "      <td>383</td>\n",
       "      <td>87</td>\n",
       "      <td>2737</td>\n",
       "      <td>641</td>\n",
       "    </tr>\n",
       "  </tbody>\n",
       "</table>\n",
       "<p>7 rows × 31 columns</p>\n",
       "</div>"
      ],
      "text/plain": [
       "           atrocemente  formidabilmente  mostruosamente  orrendamente  \\\n",
       "1700-1750            2                0               2             1   \n",
       "1751-1800            2                0               0             1   \n",
       "1801-1850           11                0               1             5   \n",
       "1851-1900           42                8              13            21   \n",
       "1901-1950           67               13              35            35   \n",
       "1951-2000           79                5              72            75   \n",
       "2001-2021          125              101             125           131   \n",
       "\n",
       "           orribilmente  spaventosamente  terribilmente  tremendamente  molto  \\\n",
       "1700-1750            20                9             13              0  10683   \n",
       "1751-1800            22                0             12              0  13671   \n",
       "1801-1850            31                2             18              0  10129   \n",
       "1851-1900           116               23             63             28  10602   \n",
       "1901-1950           171              106            225             41  11979   \n",
       "1951-2000            89               91            141             86  13782   \n",
       "2001-2021           121              123            133            126  10943   \n",
       "\n",
       "           angoscia  ...  spavento  terrore  domani  finora  ieri  oggi  \\\n",
       "1700-1750        18  ...       224      143      33     237    25   602   \n",
       "1751-1800        60  ...        83      126     173     218    94   537   \n",
       "1801-1850       119  ...       157      216     198     108   233   854   \n",
       "1851-1900       230  ...       181      240     427     146   219   651   \n",
       "1901-1950       343  ...       260      357     674     229   402  1089   \n",
       "1951-2000       357  ...       167      377     651     572  1811  2198   \n",
       "2001-2021       152  ...       116      192     674     255  1243  2212   \n",
       "\n",
       "           presto  raramente  sempre  spesso  \n",
       "1700-1750     275          9    1998     534  \n",
       "1751-1800     501         53    2692     665  \n",
       "1801-1850     482         19    2665     631  \n",
       "1851-1900     582         54    3074     574  \n",
       "1901-1950     608        164    3043     718  \n",
       "1951-2000     708        296    3187    1126  \n",
       "2001-2021     383         87    2737     641  \n",
       "\n",
       "[7 rows x 31 columns]"
      ]
     },
     "execution_count": 11,
     "metadata": {},
     "output_type": "execute_result"
    }
   ],
   "source": [
    "table = pd.DataFrame.from_dict(candidates, orient='index')\n",
    "table"
   ]
  },
  {
   "cell_type": "code",
   "execution_count": 12,
   "id": "abc9ea5f",
   "metadata": {},
   "outputs": [],
   "source": [
    "table.to_csv('Korpus/candidates_after_lemmatization.csv', sep=';')"
   ]
  },
  {
   "cell_type": "markdown",
   "id": "48e34653",
   "metadata": {},
   "source": [
    "### Kandidaten im rohen Korpus "
   ]
  },
  {
   "cell_type": "code",
   "execution_count": 13,
   "id": "2e4956aa",
   "metadata": {},
   "outputs": [],
   "source": [
    "df = pd.read_csv('Korpus/corpus_complete.csv', sep=',', encoding='utf-8')"
   ]
  },
  {
   "cell_type": "code",
   "execution_count": 14,
   "id": "d8e69b6e",
   "metadata": {},
   "outputs": [
    {
     "data": {
      "text/html": [
       "<div>\n",
       "<style scoped>\n",
       "    .dataframe tbody tr th:only-of-type {\n",
       "        vertical-align: middle;\n",
       "    }\n",
       "\n",
       "    .dataframe tbody tr th {\n",
       "        vertical-align: top;\n",
       "    }\n",
       "\n",
       "    .dataframe thead th {\n",
       "        text-align: right;\n",
       "    }\n",
       "</style>\n",
       "<table border=\"1\" class=\"dataframe\">\n",
       "  <thead>\n",
       "    <tr style=\"text-align: right;\">\n",
       "      <th></th>\n",
       "      <th>doc</th>\n",
       "      <th>source</th>\n",
       "      <th>author</th>\n",
       "      <th>title</th>\n",
       "      <th>year</th>\n",
       "      <th>period</th>\n",
       "      <th>text_type</th>\n",
       "      <th>text</th>\n",
       "      <th>words</th>\n",
       "    </tr>\n",
       "  </thead>\n",
       "  <tbody>\n",
       "    <tr>\n",
       "      <th>0</th>\n",
       "      <td>Poesia.IV.4.Testo.txt</td>\n",
       "      <td>MIDIA</td>\n",
       "      <td>Faustina Maratti Zappi</td>\n",
       "      <td>Poesie</td>\n",
       "      <td>1700.0</td>\n",
       "      <td>1700-1750</td>\n",
       "      <td>poesia</td>\n",
       "      <td>IV. 4. Rime degli Arcadi: Aglauro Cidonia (Fau...</td>\n",
       "      <td>3184.0</td>\n",
       "    </tr>\n",
       "    <tr>\n",
       "      <th>1</th>\n",
       "      <td>Poesia.IV.11.Testo.txt</td>\n",
       "      <td>MIDIA</td>\n",
       "      <td>Giambattista Felice Zappi</td>\n",
       "      <td>Poesie</td>\n",
       "      <td>1700.0</td>\n",
       "      <td>1700-1750</td>\n",
       "      <td>poesia</td>\n",
       "      <td>IV. 11. Rime degli arcadi: Tirsi Leucasio (Gio...</td>\n",
       "      <td>6113.0</td>\n",
       "    </tr>\n",
       "    <tr>\n",
       "      <th>2</th>\n",
       "      <td>Poesia.IV.1.Testo.txt</td>\n",
       "      <td>MIDIA</td>\n",
       "      <td>Giuseppe Paolucci (Alessi Cillenio)</td>\n",
       "      <td>Poesie</td>\n",
       "      <td>1700.0</td>\n",
       "      <td>1700-1750</td>\n",
       "      <td>poesia</td>\n",
       "      <td>IV. 1. Rime degli Arcadi: Alessi Cillenio (Giu...</td>\n",
       "      <td>10862.0</td>\n",
       "    </tr>\n",
       "    <tr>\n",
       "      <th>3</th>\n",
       "      <td>Personali.IV.5.Testo.txt</td>\n",
       "      <td>MIDIA</td>\n",
       "      <td>Lorenzo Magalotti</td>\n",
       "      <td>Lettere odorose (1693-1705)</td>\n",
       "      <td>1700.0</td>\n",
       "      <td>1700-1750</td>\n",
       "      <td>personale</td>\n",
       "      <td>IV. 5. Lorenzo Magalotti, Lettere odorose (169...</td>\n",
       "      <td>8374.0</td>\n",
       "    </tr>\n",
       "    <tr>\n",
       "      <th>4</th>\n",
       "      <td>Espositivi.IV.4.Testo.txt</td>\n",
       "      <td>MIDIA</td>\n",
       "      <td>Ludovico Antonio Muratori</td>\n",
       "      <td>Antichità italiane</td>\n",
       "      <td>1700.0</td>\n",
       "      <td>1700-1750</td>\n",
       "      <td>espositivo</td>\n",
       "      <td>﻿IV. 4. Ludovico Antonio Muratori, Antichità i...</td>\n",
       "      <td>8990.0</td>\n",
       "    </tr>\n",
       "  </tbody>\n",
       "</table>\n",
       "</div>"
      ],
      "text/plain": [
       "                         doc source                               author  \\\n",
       "0      Poesia.IV.4.Testo.txt  MIDIA               Faustina Maratti Zappi   \n",
       "1     Poesia.IV.11.Testo.txt  MIDIA            Giambattista Felice Zappi   \n",
       "2      Poesia.IV.1.Testo.txt  MIDIA  Giuseppe Paolucci (Alessi Cillenio)   \n",
       "3   Personali.IV.5.Testo.txt  MIDIA                    Lorenzo Magalotti   \n",
       "4  Espositivi.IV.4.Testo.txt  MIDIA           Ludovico Antonio Muratori    \n",
       "\n",
       "                         title    year     period   text_type  \\\n",
       "0                       Poesie  1700.0  1700-1750      poesia   \n",
       "1                       Poesie  1700.0  1700-1750      poesia   \n",
       "2                       Poesie  1700.0  1700-1750      poesia   \n",
       "3  Lettere odorose (1693-1705)  1700.0  1700-1750   personale   \n",
       "4           Antichità italiane  1700.0  1700-1750  espositivo   \n",
       "\n",
       "                                                text    words  \n",
       "0  IV. 4. Rime degli Arcadi: Aglauro Cidonia (Fau...   3184.0  \n",
       "1  IV. 11. Rime degli arcadi: Tirsi Leucasio (Gio...   6113.0  \n",
       "2  IV. 1. Rime degli Arcadi: Alessi Cillenio (Giu...  10862.0  \n",
       "3  IV. 5. Lorenzo Magalotti, Lettere odorose (169...   8374.0  \n",
       "4  ﻿IV. 4. Ludovico Antonio Muratori, Antichità i...   8990.0  "
      ]
     },
     "execution_count": 14,
     "metadata": {},
     "output_type": "execute_result"
    }
   ],
   "source": [
    "df.head()"
   ]
  },
  {
   "cell_type": "code",
   "execution_count": 15,
   "id": "3dc8822a",
   "metadata": {},
   "outputs": [
    {
     "data": {
      "text/plain": [
       "(431959, 9)"
      ]
     },
     "execution_count": 15,
     "metadata": {},
     "output_type": "execute_result"
    }
   ],
   "source": [
    "df.shape"
   ]
  },
  {
   "cell_type": "code",
   "execution_count": 16,
   "id": "214e4913",
   "metadata": {},
   "outputs": [],
   "source": [
    "df.text = df.text.fillna('')"
   ]
  },
  {
   "cell_type": "code",
   "execution_count": 17,
   "id": "d1312c9a",
   "metadata": {},
   "outputs": [],
   "source": [
    "# Teilframes pro Zeitraum erstellen\n",
    "\n",
    "df_periods = dict(tuple(df.groupby(by='period')))\n",
    "\n",
    "df1 = df_periods['1700-1750']\n",
    "df2 = df_periods['1751-1800']\n",
    "df3 = df_periods['1801-1850']\n",
    "df4 = df_periods['1851-1900']\n",
    "df5 = df_periods['1901-1950']\n",
    "df6 = df_periods['1951-2000']\n",
    "df7 = df_periods['2001-2021']"
   ]
  },
  {
   "cell_type": "code",
   "execution_count": 18,
   "id": "43d0fe6c",
   "metadata": {},
   "outputs": [],
   "source": [
    "# Funktion, die die Sätze ausgibt, in der ein bestimmtes Wort vorkommt\n",
    "\n",
    "def find_sentences_with_keyword(document, keyword):\n",
    "    \n",
    "    sentlist = []\n",
    "    \n",
    "    for sentence in document:\n",
    "        \n",
    "        if keyword.lower() in sentence.lower():\n",
    "            sentence = re.sub('\\n', ' ', sentence)\n",
    "            sentence = re.sub(f\"{keyword}\", f\"**{keyword}**\", sentence, flags=re.IGNORECASE)            \n",
    "            sentlist.append(sentence)\n",
    "            \n",
    "    result = list(set(sentlist))\n",
    "    for sentence in result: \n",
    "        display(Markdown(sentence))\n",
    "    \n",
    "    #return result"
   ]
  },
  {
   "cell_type": "markdown",
   "id": "15597e51",
   "metadata": {},
   "source": [
    "### Zeitraum 1: 1700-1750"
   ]
  },
  {
   "cell_type": "code",
   "execution_count": 19,
   "id": "3c0097aa",
   "metadata": {},
   "outputs": [],
   "source": [
    "text1 = ''\n",
    "for i in df1.text:\n",
    "    text1 += i"
   ]
  },
  {
   "cell_type": "code",
   "execution_count": 20,
   "id": "83567899",
   "metadata": {},
   "outputs": [],
   "source": [
    "document1 = nltk.sent_tokenize(text1)"
   ]
  },
  {
   "cell_type": "code",
   "execution_count": 21,
   "id": "625a2461",
   "metadata": {},
   "outputs": [
    {
     "data": {
      "text/markdown": [
       "Di questa orrida fame, che, dov''egli passava, lasciava la micidial infezione secondo il suo costume, di modo che cominciò a sentirsi **terribilmente** anche in Roma."
      ],
      "text/plain": [
       "<IPython.core.display.Markdown object>"
      ]
     },
     "metadata": {},
     "output_type": "display_data"
    },
    {
     "data": {
      "text/markdown": [
       "Giocarono in questo conflitto **terribilmente** le artiglierie d''ambe le parti, facendo squarci grandi nelle schiere opposte; le sciabole e baionette non istetteroQuanto a me, vo sospettando che fosse uno spettacolo pubblico, in cui si rappresentava Federigo imperadore coi Pavesi e Reggiani, e col patriarca, suoi aderenti, forse non con molto onore."
      ],
      "text/plain": [
       "<IPython.core.display.Markdown object>"
      ]
     },
     "metadata": {},
     "output_type": "display_data"
    },
    {
     "data": {
      "text/markdown": [
       "Giocarono in questo conflitto **terribilmente** le artiglierie d''ambe le parti, facendo squarci grandi nelle schiere opposte; le sciabole e baionette non istetteroProbabilmente non vi perì tanta gente; contuttociò fu questa una delle maggiori calamità che mai toccassero a quel regno."
      ],
      "text/plain": [
       "<IPython.core.display.Markdown object>"
      ]
     },
     "metadata": {},
     "output_type": "display_data"
    },
    {
     "data": {
      "text/markdown": [
       ", per testimonianza di Teofane[2594], da un secondo furioso tremuoto, che nel dì 29 di novembre per un''ora continua sì **terribilmente** scosse la città d''Antiochia, che tutto quanto era rimasto in piedi nel precedente anno 526, e quanto era statopapa Gregorio IX, 1128."
      ],
      "text/plain": [
       "<IPython.core.display.Markdown object>"
      ]
     },
     "metadata": {},
     "output_type": "display_data"
    },
    {
     "data": {
      "text/markdown": [
       "Dai quali con uno strattagemma sono **terribilmente** sconfitti, 22."
      ],
      "text/plain": [
       "<IPython.core.display.Markdown object>"
      ]
     },
     "metadata": {},
     "output_type": "display_data"
    },
    {
     "data": {
      "text/markdown": [
       ", per testimonianza di Teofane[2594], da un secondo furioso tremuoto, che nel dì 29 di novembre per un''ora continua sì **terribilmente** scosse la città d''Antiochia, che tutto quanto era rimasto in piedi nel precedente anno 526, e quanto era statoin una casa privata, e la seguente mane imbarcatosi con tutti i suoi in due galee, pel Tevere discese al mare."
      ],
      "text/plain": [
       "<IPython.core.display.Markdown object>"
      ]
     },
     "metadata": {},
     "output_type": "display_data"
    },
    {
     "data": {
      "text/markdown": [
       "Così, poich'ebbe tracannato a iosa Cento gran' giare e cento, tombolando Di qua, di là, senza trovar mai posa, Sdraiato alfine e di sé tutto in bando, Ei s'addormì, coll'ampia abbominosa Bocca **terribilmente** rimugghiando."
      ],
      "text/plain": [
       "<IPython.core.display.Markdown object>"
      ]
     },
     "metadata": {},
     "output_type": "display_data"
    },
    {
     "data": {
      "text/markdown": [
       "Abbiamo da san Girolamo che **terribilmente** infierì nella Soria e Cicilia la carestia colla mortalità d''innumerabili persone."
      ],
      "text/plain": [
       "<IPython.core.display.Markdown object>"
      ]
     },
     "metadata": {},
     "output_type": "display_data"
    },
    {
     "data": {
      "text/markdown": [
       ", dov''egli passava, lasciava la micidial infezione secondo il suo costume, di modo che cominciò a sentirsi **terribilmente** anche in Roma."
      ],
      "text/plain": [
       "<IPython.core.display.Markdown object>"
      ]
     },
     "metadata": {},
     "output_type": "display_data"
    },
    {
     "data": {
      "text/markdown": [
       "Ma si trovò **terribilmente** gonfio esso mare con pioggia e tuoni; lo stesso Tevere era in tempesta; però convenne prendere terra."
      ],
      "text/plain": [
       "<IPython.core.display.Markdown object>"
      ]
     },
     "metadata": {},
     "output_type": "display_data"
    }
   ],
   "source": [
    "find_sentences_with_keyword(document1, 'terribilmente')"
   ]
  },
  {
   "cell_type": "markdown",
   "id": "3659d417",
   "metadata": {},
   "source": [
    "### Zeitraum 2: 1751-1800"
   ]
  },
  {
   "cell_type": "code",
   "execution_count": 22,
   "id": "e819d3b3",
   "metadata": {},
   "outputs": [],
   "source": [
    "text2 = ''\n",
    "for i in df2.text:\n",
    "    text2 += i"
   ]
  },
  {
   "cell_type": "code",
   "execution_count": 24,
   "id": "4d33afa8",
   "metadata": {},
   "outputs": [],
   "source": [
    "document2 = nltk.sent_tokenize(text2)"
   ]
  },
  {
   "cell_type": "code",
   "execution_count": 25,
   "id": "e552ab62",
   "metadata": {},
   "outputs": [
    {
     "data": {
      "text/markdown": [
       "L'industria viene corrosa nella sua radice, e la nazione non ricever mai spinta ad accrescere l'annua riproduzione, perch fischia il flagello delle leggi **terribilmente** sul capo degli uomini riproduttori avviliti e scoraggiti."
      ],
      "text/plain": [
       "<IPython.core.display.Markdown object>"
      ]
     },
     "metadata": {},
     "output_type": "display_data"
    },
    {
     "data": {
      "text/markdown": [
       "I Cristiani accusati dell''incendio di Roma sotto Nerone e **terribilmente** puniti, t. III, p. 27."
      ],
      "text/plain": [
       "<IPython.core.display.Markdown object>"
      ]
     },
     "metadata": {},
     "output_type": "display_data"
    },
    {
     "data": {
      "text/markdown": [
       "Si trovarono però **terribilmente** angustiati dai passaggi che traggono da Eginardo, da Teofane e dagli antichi Annali Laureshamenses, Fuldenses,storia e della favola, troncò le deboli armi dei Greci senza smuzzare il taglio della sua."
      ],
      "text/plain": [
       "<IPython.core.display.Markdown object>"
      ]
     },
     "metadata": {},
     "output_type": "display_data"
    },
    {
     "data": {
      "text/markdown": [
       ", e conseguenze che da ciò derivarono 20 Incendio di Roma sotto il regno di Nerone 25 I Cristiani accusati di esso e **terribilmente** puniti 27 Passo di Tacito a tale proposito 27 Osservazioni sovra questo passo 29 I Cristiani ed i Giudei egualmente, e alla vostra coronazione."
      ],
      "text/plain": [
       "<IPython.core.display.Markdown object>"
      ]
     },
     "metadata": {},
     "output_type": "display_data"
    },
    {
     "data": {
      "text/markdown": [
       "Oh sì, per questo, ten scongiuro io forte, Largo mio pianto, per Giocasta madre, Per l'orror di que' giorni onde mi lasci **terribilmente** in preda, per l'amore D'Antigon tua."
      ],
      "text/plain": [
       "<IPython.core.display.Markdown object>"
      ]
     },
     "metadata": {},
     "output_type": "display_data"
    },
    {
     "data": {
      "text/markdown": [
       "Ma il tuono e il vento e l'onda **terribilmente** agita tutti e batte; Nè le vele contratte Nè da la doppia sponda Il forte remigar, l'urto che abbonda Vince nè frena."
      ],
      "text/plain": [
       "<IPython.core.display.Markdown object>"
      ]
     },
     "metadata": {},
     "output_type": "display_data"
    },
    {
     "data": {
      "text/markdown": [
       "Giace poi sopra un suolo **terribilmente** sterile, coperto di piccole roccie simili al basalto."
      ],
      "text/plain": [
       "<IPython.core.display.Markdown object>"
      ]
     },
     "metadata": {},
     "output_type": "display_data"
    },
    {
     "data": {
      "text/markdown": [
       "è una cosa, che mi muove la bile **terribilmente**."
      ],
      "text/plain": [
       "<IPython.core.display.Markdown object>"
      ]
     },
     "metadata": {},
     "output_type": "display_data"
    },
    {
     "data": {
      "text/markdown": [
       "Si trovarono però **terribilmente** angustiati dai passaggi che traggono da Eginardo, da Teofane e dagli antichi Annali Laureshamenses, Fuldenses,, e conseguenze che da ciò derivarono 20 Incendio di Roma sotto il regno di Nerone 25 I Cristiani accusati di esso e **terribilmente** puniti 27 Passo di Tacito a tale proposito 27 Osservazioni sovra questo passo 29 I Cristiani ed i Giudei egualmentePerò e il Cavaliere parla con disprezzo di coloro che pensavano alla ritirata, e il monaco loda que'' suoi compatriotti che erano risoluti di morire coll''armi alla mano."
      ],
      "text/plain": [
       "<IPython.core.display.Markdown object>"
      ]
     },
     "metadata": {},
     "output_type": "display_data"
    },
    {
     "data": {
      "text/markdown": [
       "Dettò poscia questa lettera **terribilmente** laconica: \"In nome del Dio misericordioso, Haroun-al-Rashid comandante dei fedeli, a Niceforo, cane Romano."
      ],
      "text/plain": [
       "<IPython.core.display.Markdown object>"
      ]
     },
     "metadata": {},
     "output_type": "display_data"
    }
   ],
   "source": [
    "find_sentences_with_keyword(document2, 'terribilmente')"
   ]
  },
  {
   "cell_type": "markdown",
   "id": "56ee1adf",
   "metadata": {},
   "source": [
    "### Zeitraum 3: 1801-1850"
   ]
  },
  {
   "cell_type": "code",
   "execution_count": 26,
   "id": "937ddac7",
   "metadata": {},
   "outputs": [],
   "source": [
    "text3 = ''\n",
    "for i in df3.text:\n",
    "    text3 += i"
   ]
  },
  {
   "cell_type": "code",
   "execution_count": 27,
   "id": "985880c5",
   "metadata": {},
   "outputs": [],
   "source": [
    "document3 = nltk.sent_tokenize(text3)"
   ]
  },
  {
   "cell_type": "code",
   "execution_count": 28,
   "id": "6ff4625e",
   "metadata": {},
   "outputs": [
    {
     "data": {
      "text/markdown": [
       "Come vorreste ch''io avessi un''aria ilare e gaia, s''io mi sento malinconico, e **terribilmente** malinconico? \""
      ],
      "text/plain": [
       "<IPython.core.display.Markdown object>"
      ]
     },
     "metadata": {},
     "output_type": "display_data"
    },
    {
     "data": {
      "text/markdown": [
       "Il non trovarla scritta, il non conoscerla noi, nemmeno per tradizione, può lasciar supporre che fosse una legge di fatto, sommamente arbitraria ed estesa nella sua applicazione, e a un tempo **terribilmente** semplice nel suo principio."
      ],
      "text/plain": [
       "<IPython.core.display.Markdown object>"
      ]
     },
     "metadata": {},
     "output_type": "display_data"
    },
    {
     "data": {
      "text/markdown": [
       "La Bignami è a Bologna e s' annoia **terribilmente**."
      ],
      "text/plain": [
       "<IPython.core.display.Markdown object>"
      ]
     },
     "metadata": {},
     "output_type": "display_data"
    },
    {
     "data": {
      "text/markdown": [
       "Comecchè messi in confusione, e **terribilmente** maltrattati, i Francesi, con la celerità d''una truppa ben disciplinata, ed esperimentata, furono in un subitoIl dovere di queste congreghe, ed assemblee una volta costituite, sarà di far giurare i capitoli della lega a tutti gl''Italiani ben disposti in favor della patria; di fomentare in ogni modo lo spirito publico, e quegli Italiani propensi alla guerra d''insurrezione ammettere alla taglia; dare l''impulso alle masse; far sorgere bande in ogni parte, e provvederle del bisognevole; in somma fare in segreto tutto quanto verrà nel capitolo del governo provvisionale da noi proposto, e sarà possibile nella loro critica posizione, di ben eseguire."
      ],
      "text/plain": [
       "<IPython.core.display.Markdown object>"
      ]
     },
     "metadata": {},
     "output_type": "display_data"
    },
    {
     "data": {
      "text/markdown": [
       "V. trapassando le distanze sociali, ha voluto, uomo compassionevole, recar conforto ad un uomo **terribilmente** visitato da Dio, sappia che ha fatto il bene che s'era proposto, e che le Sue parole, come mi rappresentano al vivo quello che pur troppo sento, così mi danno animo e lume a sentir come debbo."
      ],
      "text/plain": [
       "<IPython.core.display.Markdown object>"
      ]
     },
     "metadata": {},
     "output_type": "display_data"
    },
    {
     "data": {
      "text/markdown": [
       "Fulminava soprattutto **terribilmente** colla sua nave il Formidabile, e colle due sue seconde il Namur, ed il Duca, tutte e tre di novanta cannoni, l''ammiraglioFu accusato il governo Piemontese, per questo caso, di studiata barbarie; perciocchè diedero veramente a pensare l''ora insolita dei supplizj, e la tardità della staffetta apportatrice a Casale dell''ordinato soprastamento: soffermossi nove ore in Trino."
      ],
      "text/plain": [
       "<IPython.core.display.Markdown object>"
      ]
     },
     "metadata": {},
     "output_type": "display_data"
    },
    {
     "data": {
      "text/markdown": [
       "Intanto l'iracondo Durvasas, uno degli uomini santi dell'India, a cui la povera Sacontala, occupata da tutt'altri pensieri, trascur di far le dovute accoglienze, grida **terribilmente**: - E che?"
      ],
      "text/plain": [
       "<IPython.core.display.Markdown object>"
      ]
     },
     "metadata": {},
     "output_type": "display_data"
    },
    {
     "data": {
      "text/markdown": [
       "Comecchè messi in confusione, e **terribilmente** maltrattati, i Francesi, con la celerità d''una truppa ben disciplinata, ed esperimentata, furono in un subitoMa nessuno finora, fece quel gran segreto abbastanza chiaramente palese; molti lo lasciano travedere, ma scorgonsi da considerazioni personali trattenuti, epperciò, che il tradimento la principale cagione sia della rotta non puossi in coscienza conchiudere; perciocchè attribuire al tradimento una catastrofe così importante pell''Europa, e quello non bene spiegare, e chiaramente provare, lo stesso sarebbe, come se il destino si calunniasse; male si appongono coloro, che alla cattiva direzione di Napoleone l''attribuiscono, perchè tutti i migliori tattici vanno nell''asserire d''accordo, che meglio di quello che fù non poteva essere stata diretta, e che le male disposizioni erano realmente quelle date dal generale inglese, che fù quindi egli stesso abbastanza giusto, per commendare il talento dimostrato dal capitano avversario non meno, che la precisione dei movimenti, e la giustezza delle operazioni, a che dunque dovrassi questa terribile disfatta principalmente attribuire, se non a quel difetto inerente a tutti gli eserciti, quantunque composti di truppe vecchie ed agguerrite,  Finalmente un condottiero supremo, con quattro condottieri principali di provincia, venti di cantone, duecento di distretto, sarà il regolatore delle operazioni generali della guerra."
      ],
      "text/plain": [
       "<IPython.core.display.Markdown object>"
      ]
     },
     "metadata": {},
     "output_type": "display_data"
    },
    {
     "data": {
      "text/markdown": [
       "E dico un inganno divenuto più caro e prezioso che mai; giacchè, se prima il riconoscerli innocenti era per que' giudici un perder l'occasione di condannare, ormai sarebbe stato un trovarsi **terribilmente** colpevoli; e le frodi, le violazioni della legge, che sapevano d'aver commesse, ma che volevan creder giustificate dalla scoperta di così empi e funesti malfattori, non solo sarebbero ricomparse nel loro nudo e laido aspetto di frodi e di violazioni della legge, ma sarebbero comparse come produttrici d'un orrendo assassinio."
      ],
      "text/plain": [
       "<IPython.core.display.Markdown object>"
      ]
     },
     "metadata": {},
     "output_type": "display_data"
    },
    {
     "data": {
      "text/markdown": [
       "se tu sapessi come oltre l'infermità, e la povertà, e l'esilio imminente, e l'incertezza della mia vita, anche il pericolo quotidiano di mio fratello che ora è all'esercito sul Mincio mi affligge; come lo stato di mia Madre mi amareggia **terribilmente** l'anima e me la prostra!"
      ],
      "text/plain": [
       "<IPython.core.display.Markdown object>"
      ]
     },
     "metadata": {},
     "output_type": "display_data"
    },
    {
     "data": {
      "text/markdown": [
       "– ora cantava in una lingua e in una musica affatto nuova; – ora s''incrociava le mani sul petto, nascondendosi le pupille **terribilmente** sotto le ciglia."
      ],
      "text/plain": [
       "<IPython.core.display.Markdown object>"
      ]
     },
     "metadata": {},
     "output_type": "display_data"
    },
    {
     "data": {
      "text/markdown": [
       "Quando si dice adunque che gl'Italiani avevano la loro legge, non s'intenda che ella fosse il limite della loro obbedienza, e una tutela della loro libertà; ma si ritenga che, oltre quella, ne avevano un'altra, imposta da una parte interessata: il non trovarla scritta, il non conoscerla noi nemmeno per tradizione, può lasciar supporre che fosse una legge di fatto, sommamente arbitraria ed estesa nella sua applicazione, e ad un tempo **terribilmente** semplice nel suo principio."
      ],
      "text/plain": [
       "<IPython.core.display.Markdown object>"
      ]
     },
     "metadata": {},
     "output_type": "display_data"
    },
    {
     "data": {
      "text/markdown": [
       "Fulminava soprattutto **terribilmente** colla sua nave il Formidabile, e colle due sue seconde il Namur, ed il Duca, tutte e tre di novanta cannoni, l''ammiraglioNe seguiva una guerra altrettanto crudele, quanto era inutile, ed a niun altro fine tendeva, che a vieppiù accendere ed inasprire gli animi da una parte e dall''altra."
      ],
      "text/plain": [
       "<IPython.core.display.Markdown object>"
      ]
     },
     "metadata": {},
     "output_type": "display_data"
    },
    {
     "data": {
      "text/markdown": [
       "Il loro tradimento spianò aie Mont''Albano, fortezze poste alla foce dell''Adige o ai confini del padovano, eransi arrese senza combattere, atterrite dalla rotta di Chiozza; che Loredo e Torre delle Bebe erano state prese pochi giorni dopo; e finalmente che il fortepersone di qualità della detta città d''Arras, ed altre persone di minor conto; e vennero talmente angustiate e così **terribilmente** tormentate, che gli uni confessarono essere loro accaduto tal caso, come abbiamo detto, e molti di più confessarono d''In conseguenza vi commettiamo ed ordiniamo colle presenti, di ordinare ed ingiungere agli ufficiali secolari della città di Brescia, di dare esecuzione ai processi che voi avrete giudicati, senza appello e senza che siano altrimenti riveduti, nel termine di sei giorni dopo esserne stati legittimamente richiesti, sotto pena di scomunica, e di tutte le censure ecclesiastiche, che incorreranno per la sola disubbidienza, senza nuova promulgazione[425]."
      ],
      "text/plain": [
       "<IPython.core.display.Markdown object>"
      ]
     },
     "metadata": {},
     "output_type": "display_data"
    },
    {
     "data": {
      "text/markdown": [
       "Ne prendo il primo esempio che mi s'affaccia alla mente: quello d'un uomo eternamente celebre, non già per delle qualità straordinarie, ma per la parte tristamente e **terribilmente** principale, che fece in un periodo di quella rivoluzione: Robespierre."
      ],
      "text/plain": [
       "<IPython.core.display.Markdown object>"
      ]
     },
     "metadata": {},
     "output_type": "display_data"
    },
    {
     "data": {
      "text/markdown": [
       "Menò egli sì **terribilmente** le mani, che non solo il Russo piegava, ma ancora i Francesi, preso nuovo ardire, assaltavano Schweicuschi con tantaE'' ci deve pur essere un fine alle nazionali disputazioni, il quale malamente taluno sperar potrebbe nel giudizio della plebe, cui i più audaci, i più perduti uomini impressionano meglio, che i buoni ed i prudenti; e la domestica fame necessita a pigliar i bocconi dai malvagi."
      ],
      "text/plain": [
       "<IPython.core.display.Markdown object>"
      ]
     },
     "metadata": {},
     "output_type": "display_data"
    },
    {
     "data": {
      "text/markdown": [
       "Assentirei all'uso delle elastiche se non vi fosse l'autorità del Pajola nostro il quale raccomanda in visceribus quelle di cera; e d'altra parte i Francesi, che soli ne fanno, hanno il vizio di dar loro la forma conica, quando a me che ho il malanno oltre il collo quasi della vescica bisognerebbero affatto cilindriche, e poi non ne trovo di grosse; e quelle che ho sperimentate mi fanno gran male, perchè si dibattono con la loro troppa elasticità nel canale, ed irritano **terribilmente**."
      ],
      "text/plain": [
       "<IPython.core.display.Markdown object>"
      ]
     },
     "metadata": {},
     "output_type": "display_data"
    },
    {
     "data": {
      "text/markdown": [
       "Ed hai tuttavia paura de'' morti, odell''India, a cui la povera Sacontala, occupata da tutt''altri pensieri, trascurò di far le dovute accoglienze, grida **terribilmente** :--E che?"
      ],
      "text/plain": [
       "<IPython.core.display.Markdown object>"
      ]
     },
     "metadata": {},
     "output_type": "display_data"
    },
    {
     "data": {
      "text/markdown": [
       "Menò egli sì **terribilmente** le mani, che non solo il Russo piegava, ma ancora i Francesi, preso nuovo ardire, assaltavano Schweicuschi con tantaorrido pei mucchj dei cadaveri, massimamente più verso la sua foce nel Po, perchè quivi nel passare furono i Francesi **terribilmente** bersagliati dalle artiglierìe di Melas."
      ],
      "text/plain": [
       "<IPython.core.display.Markdown object>"
      ]
     },
     "metadata": {},
     "output_type": "display_data"
    },
    {
     "data": {
      "text/markdown": [
       "Passeggiando concitatamente innanzi indietro per il mio studio, come una belva feroce nella gabbia di ferro, gridai: S, s, deve essere in questo modo, anzi : ecco il vero concetto: non aveva trovata lespressione, ma il pensiero mi bolliva **terribilmente** nel cervello."
      ],
      "text/plain": [
       "<IPython.core.display.Markdown object>"
      ]
     },
     "metadata": {},
     "output_type": "display_data"
    },
    {
     "data": {
      "text/markdown": [
       "forse, se non chi lo prova, può intendere, – dalla potenza che gli fremeva dentro e rimanevasi, per disconforto dell'' Oggi , inoperosa al di fuori, CARLO BINI tra l''esser frainteso o profanato nell''espressione del suo pensiero, scelse il– ora cantava in una lingua e in una musica affatto nuova; – ora s''incrociava le mani sul petto, nascondendosi le pupille **terribilmente** sotto le ciglia."
      ],
      "text/plain": [
       "<IPython.core.display.Markdown object>"
      ]
     },
     "metadata": {},
     "output_type": "display_data"
    },
    {
     "data": {
      "text/markdown": [
       "Quell'aggiunta sulla dottrina luterana e calviniana della giustificazione per la sola fede, e la quale mi pareva costì non dover richiedere che un cenno, e poche nude citazioni, mi s'è allungata **terribilmente**, non tanto per quello che m'è riuscito di scrivere, quanto per quello che ho dovuto leggere, cioè mi s'è allungata in quanto al tempo da spenderci, molto più che in quanto alla sua estensione."
      ],
      "text/plain": [
       "<IPython.core.display.Markdown object>"
      ]
     },
     "metadata": {},
     "output_type": "display_data"
    },
    {
     "data": {
      "text/markdown": [
       "Medici si diede a fulminare **terribilmente** da'' suoi legni esso pure, e mentre i Ducali trovavansi in grave confusione perchè molte delle loro barche venivanoSedetevi qui: partiremo quando verrà dato il secondo segnale; intanto riscaldatevi e bevete, che fa d''uopo scacciare per tempo il gelo dalle ossa per fare una buona giornata."
      ],
      "text/plain": [
       "<IPython.core.display.Markdown object>"
      ]
     },
     "metadata": {},
     "output_type": "display_data"
    },
    {
     "data": {
      "text/markdown": [
       "Uscendo mezz'ora dopo dalla stanza dove mi parlavano, entrai nella bottega de'libri e mi s'affacciò Castelli, il quale malgrado l'impudenza della quale esso è **terribilmente** dotato ed armato, si fece sì pallido che i garzoni della bottega se ne accorsero tutti."
      ],
      "text/plain": [
       "<IPython.core.display.Markdown object>"
      ]
     },
     "metadata": {},
     "output_type": "display_data"
    },
    {
     "data": {
      "text/markdown": [
       "Medici si diede a fulminare **terribilmente** da' suoi legni esso pure, e mentre i Ducali trovavansi in grave confusione perch molte delle loro barche venivano fracassate dalle palle mussiane contro il lido stesso presso cui erano, Gabriele, Falco e Sarbelloni alla testa delle loro schiere presero terra, istruiti di quanto avessero ad operare, lasciando nelle navi i soli bombardieri, che trattisi al largo, continuarono, siccome il Brigantino, a sostenere il fuoco contro i Ducali."
      ],
      "text/plain": [
       "<IPython.core.display.Markdown object>"
      ]
     },
     "metadata": {},
     "output_type": "display_data"
    },
    {
     "data": {
      "text/markdown": [
       "Ma ciò posto ed eccettuato francamente, ed eccettuate forse alcune vendette personali **terribilmente** fatte con sue parole immortali, Dante e il poema suo restan pure l'uomo e il libro incontrastabilmente piú virili ed austeri della nostra letteratura: virile l'uomo, nel saper sopportare le pubbliche, le segrete miserie dell'esiglio, nel non saper sopportare né le insolenti protezioni delle corti né le insolentissime grazie di sua cittá, nel sapere dalla vita attiva, che pur anteponeva ma gli era negata, passare alacre alla letteraria e farvisi grande: virile poi ed austero il poema in amore, in costumi, in politica, in istile, e per quella stessa accumulazione di pensieri che fa del leggerlo una fatica, ma la piú virile, la piú sana fra le esercitazioni somministrate dalle lettere nazionali ai molli animi italiani."
      ],
      "text/plain": [
       "<IPython.core.display.Markdown object>"
      ]
     },
     "metadata": {},
     "output_type": "display_data"
    },
    {
     "data": {
      "text/markdown": [
       "– Finalmente, dati questi caratteri e queste passioni, l'autore deve nel breve spazio dal principio alla fine della sua azione far nascere tali accidenti che, quantunque naturalissimi e quasi minimi, ridestino quelle antiche passioni, le facciano operare fortemente in que' forti caratteri, e sciolgano pietosamente e **terribilmente** l'azione."
      ],
      "text/plain": [
       "<IPython.core.display.Markdown object>"
      ]
     },
     "metadata": {},
     "output_type": "display_data"
    },
    {
     "data": {
      "text/markdown": [
       "Pur troppo, l'uomo può ingannarsi, e ingannarsi **terribilmente**, con molto minore stravaganza."
      ],
      "text/plain": [
       "<IPython.core.display.Markdown object>"
      ]
     },
     "metadata": {},
     "output_type": "display_data"
    },
    {
     "data": {
      "text/markdown": [
       "(dico unora, perch le famiglie del mezzogiorno quando fanno inviti, diventano **terribilmente** aristocratiche, e sono capaci di aspettare fino alla una), dunque bisogner tralasciare di far colazione: e poi, che si fa tutto il resto della giornata?"
      ],
      "text/plain": [
       "<IPython.core.display.Markdown object>"
      ]
     },
     "metadata": {},
     "output_type": "display_data"
    },
    {
     "data": {
      "text/markdown": [
       "\" Seria **terribilmente** , perchè il cavaliere ed io....... \" \" Quand''è così, vi prego tralasciar di contarmela affatto."
      ],
      "text/plain": [
       "<IPython.core.display.Markdown object>"
      ]
     },
     "metadata": {},
     "output_type": "display_data"
    },
    {
     "data": {
      "text/markdown": [
       "Guardo tutto intorno a me il monte, le campagne, le alpi lontane, il lago, tutto tutto bianco di neve; gelato; **terribilmente** muta ogni cosa — eppur mi consolo!"
      ],
      "text/plain": [
       "<IPython.core.display.Markdown object>"
      ]
     },
     "metadata": {},
     "output_type": "display_data"
    },
    {
     "data": {
      "text/markdown": [
       ", e con la presenza animato i suoi soldati, che le grida di viva la repubblica fila per fila risuonando si mescolavano **terribilmente** col rimbombo dei cannoni, e con l''eco delle vicine montagne."
      ],
      "text/plain": [
       "<IPython.core.display.Markdown object>"
      ]
     },
     "metadata": {},
     "output_type": "display_data"
    },
    {
     "data": {
      "text/markdown": [
       "— Un lampo non iscopre più **terribilmente** all'occhio del viandante il precipizio sul quale le tenebre della notte lo aveano condotto."
      ],
      "text/plain": [
       "<IPython.core.display.Markdown object>"
      ]
     },
     "metadata": {},
     "output_type": "display_data"
    },
    {
     "data": {
      "text/markdown": [
       "Ma il signor Leoni l''hadell''India, a cui la povera Sacontala, occupata da tutt''altri pensieri, trascurò di far le dovute accoglienze, grida **terribilmente** :--E che?"
      ],
      "text/plain": [
       "<IPython.core.display.Markdown object>"
      ]
     },
     "metadata": {},
     "output_type": "display_data"
    },
    {
     "data": {
      "text/markdown": [
       "persone di qualità della detta città d''Arras, ed altre persone di minor conto; e vennero talmente angustiate e così **terribilmente** tormentate, che gli uni confessarono essere loro accaduto tal caso, come abbiamo detto, e molti di più confessarono d''veduti i signori avere la parte loro de'' prodotti del delitto."
      ],
      "text/plain": [
       "<IPython.core.display.Markdown object>"
      ]
     },
     "metadata": {},
     "output_type": "display_data"
    },
    {
     "data": {
      "text/markdown": [
       "Però il giorno dopo le scrissi un biglietto passionatissimo e risentito; le mostrai quanta e velenosissima piaga aveva aperto nelle mie viscere: a che gelosia, a che disprezzo per lei e per me m'aveva oramai abbandonato, e a che pericoli essa esponeva il suo nome, se passioni così terribili e sì **terribilmente** istigate avessero un dì o l'altro fatto uno scoppio; e scongiurandola che tacesse, le diceva addio."
      ],
      "text/plain": [
       "<IPython.core.display.Markdown object>"
      ]
     },
     "metadata": {},
     "output_type": "display_data"
    },
    {
     "data": {
      "text/markdown": [
       "Medici si diede a fulminare **terribilmente** da'' suoi legni esso pure, e mentre i Ducali trovavansi in grave confusione perchè molte delle loro barche venivanoDopo avere parlato a lungo e ripetute più volte le stesse cose?"
      ],
      "text/plain": [
       "<IPython.core.display.Markdown object>"
      ]
     },
     "metadata": {},
     "output_type": "display_data"
    },
    {
     "data": {
      "text/markdown": [
       "orrido pei mucchj dei cadaveri, massimamente più verso la sua foce nel Po, perchè quivi nel passare furono i Francesi **terribilmente** bersagliati dalle artiglierìe di Melas."
      ],
      "text/plain": [
       "<IPython.core.display.Markdown object>"
      ]
     },
     "metadata": {},
     "output_type": "display_data"
    },
    {
     "data": {
      "text/markdown": [
       "Gonfiò molto **terribilmente** , e si alzò oltre trenta piedi sopra l''usato livello."
      ],
      "text/plain": [
       "<IPython.core.display.Markdown object>"
      ]
     },
     "metadata": {},
     "output_type": "display_data"
    },
    {
     "data": {
      "text/markdown": [
       "Ma si scosse **terribilmente** quando pot avere un punto d'appoggio sullo straniero, come vedremo in seguito."
      ],
      "text/plain": [
       "<IPython.core.display.Markdown object>"
      ]
     },
     "metadata": {},
     "output_type": "display_data"
    }
   ],
   "source": [
    "find_sentences_with_keyword(document3, 'terribilmente')"
   ]
  },
  {
   "cell_type": "markdown",
   "id": "776fb7de",
   "metadata": {},
   "source": [
    "### Zeitraum 4: 1851-1900"
   ]
  },
  {
   "cell_type": "code",
   "execution_count": 29,
   "id": "39aa962d",
   "metadata": {},
   "outputs": [],
   "source": [
    "text4 = ''\n",
    "for i in df4.text:\n",
    "    text4 += i"
   ]
  },
  {
   "cell_type": "code",
   "execution_count": 30,
   "id": "fe5cbd4a",
   "metadata": {},
   "outputs": [],
   "source": [
    "document4 = nltk.sent_tokenize(text4)"
   ]
  },
  {
   "cell_type": "code",
   "execution_count": 31,
   "id": "12929ec9",
   "metadata": {},
   "outputs": [
    {
     "data": {
      "text/markdown": [
       "Non mai s'era veduta tanta severità contro una conventicola che per tanti anni era stata, se non permessa, tollerata; onde pareva che tutto in que' giorni volesse piegar **terribilmente** al peggio."
      ],
      "text/plain": [
       "<IPython.core.display.Markdown object>"
      ]
     },
     "metadata": {},
     "output_type": "display_data"
    },
    {
     "data": {
      "text/markdown": [
       "Batte **terribilmente** il Messo della Giustizia, più **terribilmente** il mio cuore."
      ],
      "text/plain": [
       "<IPython.core.display.Markdown object>"
      ]
     },
     "metadata": {},
     "output_type": "display_data"
    },
    {
     "data": {
      "text/markdown": [
       "La vanit timida lavorava **terribilmente** in me il giorno che pubblicai il Fieramosca."
      ],
      "text/plain": [
       "<IPython.core.display.Markdown object>"
      ]
     },
     "metadata": {},
     "output_type": "display_data"
    },
    {
     "data": {
      "text/markdown": [
       "Certo, la era **terribilmente** pallida ed il solo vederla avrebbe provato come il suo cuore fosse ormai familiare ad ogni maniera di affanno."
      ],
      "text/plain": [
       "<IPython.core.display.Markdown object>"
      ]
     },
     "metadata": {},
     "output_type": "display_data"
    },
    {
     "data": {
      "text/markdown": [
       "Dei casi del marchesecontegno sentiva talvolta orrore e disprezzo, ne riceveva una specie di scandalo; ma questi sentimenti ricadevano **terribilmente** su la sua coscienza, perchè ad ogni volta Geltrude era costretta a ricordarsi che dessa era quella che aveva fatto farche lo traggono a disperare, e l''altro che gli arresta la mano; tutta quella notte infine offrono un tal che di sì **terribilmente** vero, misterioso e solenne, che a noi sembra poco il dire che negli altri lavori di simil genere non v''ha brano che possache non credeva di poter più attenere, dove aveva tante volte fantasticato un avvenire, divenuto ora impossibile."
      ],
      "text/plain": [
       "<IPython.core.display.Markdown object>"
      ]
     },
     "metadata": {},
     "output_type": "display_data"
    },
    {
     "data": {
      "text/markdown": [
       "Era riserbato al bonapartismo di oscurare tutti i predecessori, e di illustrare così **terribilmente** alla democrazia l''effetto a due tagli del suffragio universale, che il ministro repubblicano Carnot dovè confessarefino a che non la propria forza dei francesi ma la spada germanica venne a detronizzare il tiranno."
      ],
      "text/plain": [
       "<IPython.core.display.Markdown object>"
      ]
     },
     "metadata": {},
     "output_type": "display_data"
    },
    {
     "data": {
      "text/markdown": [
       "dignità di assioma nella scienza ha voluto aggravare la tassa del caffè, del tè, e degli spiriti, e tre vide percossa **terribilmente** questa rendita della finanza; nella sola Irlanda scapitò l''erario centodiciassette milioni, eLuisa piegata la faccia conobbe essere Angiolina, la quale a rispettosa distanza genuflessa aveva giunto le manine al suo pargolo, e quelle levate con le proprie verso il cielo plorando pregava."
      ],
      "text/plain": [
       "<IPython.core.display.Markdown object>"
      ]
     },
     "metadata": {},
     "output_type": "display_data"
    },
    {
     "data": {
      "text/markdown": [
       "--Oh, ecco Fanfulla!--Ben levato Fra Bombarda!--Dove si va così perun momento a guardarci con curiosità; io, s''intende, non ne facevo caso, ma la mia dama sembrava credere che ne fossi **terribilmente** mortificato, e, passate alfine tutte quante, ha rilodato il mio \"spirito di cortesia\": sua espressione favorita."
      ],
      "text/plain": [
       "<IPython.core.display.Markdown object>"
      ]
     },
     "metadata": {},
     "output_type": "display_data"
    },
    {
     "data": {
      "text/markdown": [
       "Non li straziò oggi il saracino?--imprecò **terribilmente** Ugo."
      ],
      "text/plain": [
       "<IPython.core.display.Markdown object>"
      ]
     },
     "metadata": {},
     "output_type": "display_data"
    },
    {
     "data": {
      "text/markdown": [
       "Ma si scosse **terribilmente** quando poté avere un punto d''appoggio sullo straniero, come vedremo in seguito."
      ],
      "text/plain": [
       "<IPython.core.display.Markdown object>"
      ]
     },
     "metadata": {},
     "output_type": "display_data"
    },
    {
     "data": {
      "text/markdown": [
       "E udii storie pietose di domestici lutti incredibili e ignorati, perchè la mano di Ferdinando II arrivava **terribilmente** ove l''occhio sempre non arrivava."
      ],
      "text/plain": [
       "<IPython.core.display.Markdown object>"
      ]
     },
     "metadata": {},
     "output_type": "display_data"
    },
    {
     "data": {
      "text/markdown": [
       ", e colà messo su in fretta alcune trincere faceva mostra di finire quanti si attentassero di avventurarci il piede: e poichè nei Francesi non è per certo l''ardire quello che manca, ci si provarono, e non una volta, nè due: però toccarono troppi morti per non invilirsi; al fiume non avevano avvertito molto; che sguazzarlo mentre lo cavalcava un ponte parve inonorato; adesso lo arieno fatto più che volentieri, ma lo videro **terribilmente** gonfio, nè minacciatore di morte meno sicura, che il ponte; e il tempo a deliberare stringeva; perchè dai parapetti côrsi fioccavano moschettate fitte come grandine."
      ],
      "text/plain": [
       "<IPython.core.display.Markdown object>"
      ]
     },
     "metadata": {},
     "output_type": "display_data"
    },
    {
     "data": {
      "text/markdown": [
       "Il suo naso **terribilmente** rosso--diventava un carbone infiammato per beatitudine."
      ],
      "text/plain": [
       "<IPython.core.display.Markdown object>"
      ]
     },
     "metadata": {},
     "output_type": "display_data"
    },
    {
     "data": {
      "text/markdown": [
       "Era sì **terribilmente** turbato che Lisa comprese di botto una suprema sciagura essere avvenuta; venne innanzi al padre bianca più chesempre una suggezione cui non poteva vincere quando si trovava sotto il raggio di quei limpidi occhî."
      ],
      "text/plain": [
       "<IPython.core.display.Markdown object>"
      ]
     },
     "metadata": {},
     "output_type": "display_data"
    },
    {
     "data": {
      "text/markdown": [
       "Egli morde **terribilmente** all'amo e fa delle vere prodezze."
      ],
      "text/plain": [
       "<IPython.core.display.Markdown object>"
      ]
     },
     "metadata": {},
     "output_type": "display_data"
    },
    {
     "data": {
      "text/markdown": [
       "E quello del medico, corrucciato prima **terribilmente** , poscia d''un subito rassegnato: \"Pur troppo!\""
      ],
      "text/plain": [
       "<IPython.core.display.Markdown object>"
      ]
     },
     "metadata": {},
     "output_type": "display_data"
    },
    {
     "data": {
      "text/markdown": [
       "E per giunta una persona così **terribilmente** virtuosa, che tutti sono in obbligo d''idolatrarla, ammirarla e servirla."
      ],
      "text/plain": [
       "<IPython.core.display.Markdown object>"
      ]
     },
     "metadata": {},
     "output_type": "display_data"
    },
    {
     "data": {
      "text/markdown": [
       "Ma se l'espressione era comica, conteneva nella sostanza qualche cosa di **terribilmente** profetico, che potea dar da riflettere agli uomini serj."
      ],
      "text/plain": [
       "<IPython.core.display.Markdown object>"
      ]
     },
     "metadata": {},
     "output_type": "display_data"
    },
    {
     "data": {
      "text/markdown": [
       "– E così è tolta via anche l'obiezione **terribilmente** speciosa, mossa contro il positivismo dai metafisici; i quali argomentano dal principio, che all'atto morale è essenziale il carattere della responsabilità."
      ],
      "text/plain": [
       "<IPython.core.display.Markdown object>"
      ]
     },
     "metadata": {},
     "output_type": "display_data"
    },
    {
     "data": {
      "text/markdown": [
       ", l''innominato pensò subito a rispondere a questa che s''era fatta lui stesso, o piuttosto quel nuovo lui, che cresciuto **terribilmente** a un tratto, sorgeva come a giudicare l''antico."
      ],
      "text/plain": [
       "<IPython.core.display.Markdown object>"
      ]
     },
     "metadata": {},
     "output_type": "display_data"
    },
    {
     "data": {
      "text/markdown": [
       "Sergio la seguì degli occhi, aggrottando **terribilmente** le sopracciglia, e sclamò lentamente: --Se avessi potuto dubitare ancora, questa parola sarebbe bastata perla mia parte, il meglio che avevo potuto; ma non nasconderò che il mio cuore andava al galoppo e che tutto mi sembrava orribilmente nero."
      ],
      "text/plain": [
       "<IPython.core.display.Markdown object>"
      ]
     },
     "metadata": {},
     "output_type": "display_data"
    },
    {
     "data": {
      "text/markdown": [
       "odioso, che ad arrovesciargli l''animo non v''era cosa più pronta che nominargli quel Ma l''anno 1512 fu per lui ben più **terribilmente** memorabile."
      ],
      "text/plain": [
       "<IPython.core.display.Markdown object>"
      ]
     },
     "metadata": {},
     "output_type": "display_data"
    },
    {
     "data": {
      "text/markdown": [
       "Aveva in piedi le sue scarpettine scollate e portava la testa ritta e impalata, perch il fazzoletto da collo, moltissimo inamidato, gli segava **terribilmente** la gola."
      ],
      "text/plain": [
       "<IPython.core.display.Markdown object>"
      ]
     },
     "metadata": {},
     "output_type": "display_data"
    },
    {
     "data": {
      "text/markdown": [
       "Esso non avea provveduto a; quell''intimazione del termine perentorio di tre dì, cui a tutta prima non aveva posto mente, ora le sconvolse l''animo **terribilmente** , ora che, misurate le distanze gli parve essere difficile che in tre giorni, senza una gran sollecitudine, il\"Questo bel paesello è suo; e le picche che fanno la guardia alla porta del castello, servono a lui, e l''oste che ci dà a pranzare, paga i balzelli a lui....  E per questa circostanza verrebbe a scemarsi la colpa della bella contessa, alla quale, se fosse mai trapelato com''era la cosa veramente, sarebbesi sforzata a rintuzzare fin dal suo primo nascere quella malaugurata passione che sentì per Fossano, e certo vi sarebbe riuscita."
      ],
      "text/plain": [
       "<IPython.core.display.Markdown object>"
      ]
     },
     "metadata": {},
     "output_type": "display_data"
    },
    {
     "data": {
      "text/markdown": [
       "Incontravo sui margini delle strade dei gruppi di giovani, che ritornavano dall''esercito, laceri, dimagriti, **terribilmente** consumati dalla febbre, tremanti sotto un sole pesante, denso, giallastro, che divorava tutto ciò che toccava,Diego, principiò a diventar rosso, poi purpureo, poi violetto, poi azzurro, poi color di piombo, poi nero."
      ],
      "text/plain": [
       "<IPython.core.display.Markdown object>"
      ]
     },
     "metadata": {},
     "output_type": "display_data"
    },
    {
     "data": {
      "text/markdown": [
       "più risibile della storia francese, a spazzare adunque gli ultimi rottami del secondo impero: sotto i nostri occhi si è **terribilmente** adempiuta la parola ammonitrice, che francesi di alto animo avevano da anni rivolta ai propri compatrioti: la Francia Anche in quelle provincie del mezzogiorno che un tempo avevano oltraggiato l''imperatore fuggiasco, la gente del popolo non poté resistere a lungo alla propaganda dei veterani: era, in verità, gloria della Francia quella di cui i vecchi narravano i fasti, e il principe della guerra con tutti i suoi delitti era un eroe non meno nazionale del re degli emigrati."
      ],
      "text/plain": [
       "<IPython.core.display.Markdown object>"
      ]
     },
     "metadata": {},
     "output_type": "display_data"
    },
    {
     "data": {
      "text/markdown": [
       "Ogni gioconda esaltazione era in lei cessata; le parole di Manfredo la percossero **terribilmente** , quantunque non le potesse comprendere."
      ],
      "text/plain": [
       "<IPython.core.display.Markdown object>"
      ]
     },
     "metadata": {},
     "output_type": "display_data"
    },
    {
     "data": {
      "text/markdown": [
       "Una cosa mi conforta e mi inorgoglisce, il sentimento della mia freddezza- perché il mio cuore è freddo, **terribilmente** freddo."
      ],
      "text/plain": [
       "<IPython.core.display.Markdown object>"
      ]
     },
     "metadata": {},
     "output_type": "display_data"
    },
    {
     "data": {
      "text/markdown": [
       "Aggiustò i virgulti della, a sua volta, anch''essa in furore, si metteva in moto di un sol pezzo, di un sol tratto, brontolava sordamente e poi **terribilmente** , si screpolava, si fiaccava, e delle montagne, sollevate dalle onde, portate sul loro dorso, solcavano lo spazio,come un deserto: rare yurte a destra, montagne separate da valli paludose di forma ondulata."
      ],
      "text/plain": [
       "<IPython.core.display.Markdown object>"
      ]
     },
     "metadata": {},
     "output_type": "display_data"
    },
    {
     "data": {
      "text/markdown": [
       "Quell'aggiunta sulla dottrina luterana e calviniana della giustificazione per la sola fede, e la quale ini pareva costi non dover richiedere che un cenno, e poche nude citazioni, mi s'è allungata **terribilmente**, non tanto per quello che m'è riuscito di scrivere, quanto per quello che ho dovuto leggere, cioè mi s'è allungata in quanto al tempo da spenderci, molto più che in quanto alla sda estensione."
      ],
      "text/plain": [
       "<IPython.core.display.Markdown object>"
      ]
     },
     "metadata": {},
     "output_type": "display_data"
    },
    {
     "data": {
      "text/markdown": [
       "Indietreggiò dal terrore , perché la scena era mutata ed ei toccava quasi un letto , un letto nudo , senza cortinaggio , sul quale , sotto un lenzuolo sdrucito , giaceva qualche cosa d ' avviluppato , il cui silenzio stesso parlava **terribilmente** ."
      ],
      "text/plain": [
       "<IPython.core.display.Markdown object>"
      ]
     },
     "metadata": {},
     "output_type": "display_data"
    },
    {
     "data": {
      "text/markdown": [
       "La solennità dell''ora, la voce **terribilmente** arcana delle acque, anche quando addormentate respirano, la distesa dei cieli, la dimostrazione parlante, continuaOra giudicate voi quali fossero la mia meraviglia e il mio spavento, quando nel giorno appresso, verso l''un''ora di notte, venni chiamato in Palazzo, dove mi fu detto essere aspettato al carcere di Tordinona dal marchese don Luca mio padrone, il quale prima di andare a morte desiderava parteciparmi i suoi ultimi comandi!"
      ],
      "text/plain": [
       "<IPython.core.display.Markdown object>"
      ]
     },
     "metadata": {},
     "output_type": "display_data"
    },
    {
     "data": {
      "text/markdown": [
       "Ora , la semplicità nella donna , era cosa affatto nuova per Giuliano ; egli la confondeva facilmente colla povertà e mentre trovava che l ' amore d ' una cara e ingenua donnina era pur qualcosa di **terribilmente** elementare , non gli veniva mai la voglia o la curiosità di studiare le profondità possibili e i probabili congegni di questo sentimento elementare ."
      ],
      "text/plain": [
       "<IPython.core.display.Markdown object>"
      ]
     },
     "metadata": {},
     "output_type": "display_data"
    },
    {
     "data": {
      "text/markdown": [
       "Alla fine liberano da morte sicura la Bianca, **terribilmente** malconcia; aveva gli occhi fuori come gatto arrabbiato; le impronte sanguigne intorno al collo le durarono più di un, trassero fuori delle tasche il bowieknife, ovvero _coltello piegatoio_, che gli americani maneggiano con maestria **terribilmente** celebre: non era tempo di gingillarsi cotesto; però Filippo e Curio, recatesi in mano le rivoltelle a sei colpi, le, e, senza punto fermarcisi, quinci sul lido, dove agitata prese a fare la lionessa."
      ],
      "text/plain": [
       "<IPython.core.display.Markdown object>"
      ]
     },
     "metadata": {},
     "output_type": "display_data"
    },
    {
     "data": {
      "text/markdown": [
       "Là su quel vertice, benchè il fiato gli uscisse affannoso dal petto e le tempie e i polsi gli battessero **terribilmente** , Altobello volse gli occhi dintorno per contemplare lo spettacolo che gli si parava davanti."
      ],
      "text/plain": [
       "<IPython.core.display.Markdown object>"
      ]
     },
     "metadata": {},
     "output_type": "display_data"
    },
    {
     "data": {
      "text/markdown": [
       "Ed anco qui nel conto non entrò il lupo, perchè il signor Clemente cheto cheto, presi seco duecento uomini, aveva passato il Golo sul ponte del Lago Benedetto, e colà messo su in fretta alcune trincere faceva mostra di finire quanti si attentassero di avventurarci il piede: e poichè nei Francesi non è per certo l'ardire quello che manca, ci si provarono, e non una volta, nè due: però toccarono troppi morti per non invilirsi; al fiume non avevano avvertito molto; che sguazzarlo mentre lo cavalcava un ponte parve inonorato; adesso lo arieno fatto più che volentieri, ma lo videro **terribilmente** gonfio, nè minacciatore di morte meno sicura, che il ponte; e il tempo a deliberare stringeva; perchè dai parapetti côrsi fioccavano moschettate fitte come grandine."
      ],
      "text/plain": [
       "<IPython.core.display.Markdown object>"
      ]
     },
     "metadata": {},
     "output_type": "display_data"
    },
    {
     "data": {
      "text/markdown": [
       "Sergio la seguì degli occhi, aggrottando **terribilmente** le sopracciglia, e sclamò lentamente: --Se avessi potuto dubitare ancora, questa parola sarebbe bastata per, non osava consultare i vicini, nè chiamare un medico, paventando di rischiarare un delitto."
      ],
      "text/plain": [
       "<IPython.core.display.Markdown object>"
      ]
     },
     "metadata": {},
     "output_type": "display_data"
    },
    {
     "data": {
      "text/markdown": [
       "Quell''uomo era il nembo che si condensa per esplodere **terribilmente** ."
      ],
      "text/plain": [
       "<IPython.core.display.Markdown object>"
      ]
     },
     "metadata": {},
     "output_type": "display_data"
    },
    {
     "data": {
      "text/markdown": [
       "Arrivavano dunque **terribilmente** affamati ed esasperati da un digiuno di due mesi."
      ],
      "text/plain": [
       "<IPython.core.display.Markdown object>"
      ]
     },
     "metadata": {},
     "output_type": "display_data"
    },
    {
     "data": {
      "text/markdown": [
       "tardi questo essere stato astuto consiglio per ispossarmi: cessato che io mi ebbi di parlare, ella, ineccitabile, a me **terribilmente** palpitante rispose in questi accenti: – Arria non ha potuto resistere alla voce che le venne dal paradiso disotto, ma egli invelenito si difende a morsi, a calci, e non lascia presa."
      ],
      "text/plain": [
       "<IPython.core.display.Markdown object>"
      ]
     },
     "metadata": {},
     "output_type": "display_data"
    },
    {
     "data": {
      "text/markdown": [
       "Il figliuolo di messere Bono Boni appena conobbe che il danaro comprava il vino e la meretrice, non volle aspettare laa porsi a canto una parete, tenendo colla destra il cane e il grilletto, colla sinistra la canna d''una sua carabina, **terribilmente** famosa al pari di lui."
      ],
      "text/plain": [
       "<IPython.core.display.Markdown object>"
      ]
     },
     "metadata": {},
     "output_type": "display_data"
    },
    {
     "data": {
      "text/markdown": [
       "abbassate la spada, ascoltatemi per l''amore di Dio, in nome dei nostri morti genitori!--Non rammentarli, mi risponde **terribilmente** Berardo, tu ne sei diventato indegno dal momento che ti facesti traditore.--Traditore io!"
      ],
      "text/plain": [
       "<IPython.core.display.Markdown object>"
      ]
     },
     "metadata": {},
     "output_type": "display_data"
    },
    {
     "data": {
      "text/markdown": [
       "I delitti che avevano disonorato il procelloso tribunato di Shaftesbury, erano stati **terribilmente** espiati."
      ],
      "text/plain": [
       "<IPython.core.display.Markdown object>"
      ]
     },
     "metadata": {},
     "output_type": "display_data"
    },
    {
     "data": {
      "text/markdown": [
       "urlò **terribilmente** , o ch''io non mi trattengo più, e lo schiaccio come un verme."
      ],
      "text/plain": [
       "<IPython.core.display.Markdown object>"
      ]
     },
     "metadata": {},
     "output_type": "display_data"
    },
    {
     "data": {
      "text/markdown": [
       "; che sguazzarlo mentre lo cavalcava un ponte parve inonorato; adesso lo arieno fatto più che volentieri, ma lo videro **terribilmente** gonfio, nè minacciatore di morte meno sicura, che il ponte; e il tempo a deliberare stringeva; perchè dai parapetti\"Divo Cesare, non è venuto."
      ],
      "text/plain": [
       "<IPython.core.display.Markdown object>"
      ]
     },
     "metadata": {},
     "output_type": "display_data"
    },
    {
     "data": {
      "text/markdown": [
       "Il Nencioni, il Verga, la Serao, se per caso cadranno loro sotto glitardi questo essere stato astuto consiglio per ispossarmi: cessato che io mi ebbi di parlare, ella, ineccitabile, a me **terribilmente** palpitante rispose in questi accenti: – Arria non ha potuto resistere alla voce che le venne dal paradiso di– Or bè, don Antonio, voi cominciando da domani udrete la mia confessione generale, perchè tra quindici giorni a questa ora precisa io morirò; e se possibile fosse io mi vorrei acconciare dell''anima."
      ],
      "text/plain": [
       "<IPython.core.display.Markdown object>"
      ]
     },
     "metadata": {},
     "output_type": "display_data"
    },
    {
     "data": {
      "text/markdown": [
       "Infelicissimo, **terribilmente** doloroso il primo."
      ],
      "text/plain": [
       "<IPython.core.display.Markdown object>"
      ]
     },
     "metadata": {},
     "output_type": "display_data"
    },
    {
     "data": {
      "text/markdown": [
       "In quella entrava il vecchio rigattiere ebreo, la faccia **terribilmente** sconvolta; stampata entro la mente l''immagine del volto di sua figlia annegata che aveva visto poc''anzi."
      ],
      "text/plain": [
       "<IPython.core.display.Markdown object>"
      ]
     },
     "metadata": {},
     "output_type": "display_data"
    },
    {
     "data": {
      "text/markdown": [
       "Ma ciò posto ed eccettuato francamente, ed eccettuate forse alcune vendette personali **terribilmente** fatte con sue parole immortali, Dante e il poema suo restan pure l''uomo e il libro incontrastabilmente piú virili edma a sè stessi; e quando loro è chiesta una spiegazione, danno invece una bugia; e invece d''una correzione una bussa o una paura ."
      ],
      "text/plain": [
       "<IPython.core.display.Markdown object>"
      ]
     },
     "metadata": {},
     "output_type": "display_data"
    },
    {
     "data": {
      "text/markdown": [
       "— È l'angelo buono — mormorò, e questo pensiero gli richiamò nella fantasia con la rapidità del fulmine l'angelo cattivo, il demonio **terribilmente** bello: allora, scoperto dal drappo verde sdruscito il volto sanguinoso del Cristo che teneva sotto l'ascella, gli impresse un bacio disperato, come se invocasse da quel legno la propria salvezza."
      ],
      "text/plain": [
       "<IPython.core.display.Markdown object>"
      ]
     },
     "metadata": {},
     "output_type": "display_data"
    },
    {
     "data": {
      "text/markdown": [
       "Io vi annoio **terribilmente**, lo so.... Ma, non  colpa mia."
      ],
      "text/plain": [
       "<IPython.core.display.Markdown object>"
      ]
     },
     "metadata": {},
     "output_type": "display_data"
    },
    {
     "data": {
      "text/markdown": [
       "\" **terribilmente** feroce!\""
      ],
      "text/plain": [
       "<IPython.core.display.Markdown object>"
      ]
     },
     "metadata": {},
     "output_type": "display_data"
    },
    {
     "data": {
      "text/markdown": [
       "A questo punto, rizzatosi, aperse l''involto, e trattane una catena d''oro, poi alcune carte, che eran benserviti tutti in sua lode, di Filippino e d''Andrea Doria, ed una tratta di cambio per la taglia del conte d''Aguilar che aveva fatto prigione nella battaglia di Salerno, tenne la spada e le carte in mano un momento, poi gettando a terra ogni cosa, disse, scrollando il capo con un sorriso sinistro che fece agghiacciar Laudomia:  , ci fu il marito della zia Sara.... Ah, sembrava un uomo tanto ammodo quando Sarina lo sposò, e finì col truffare il babbo **terribilmente** , sicchè fu costretto a ipotecare la sua casa di Via Alta, e da ultimo a cederla!..."
      ],
      "text/plain": [
       "<IPython.core.display.Markdown object>"
      ]
     },
     "metadata": {},
     "output_type": "display_data"
    },
    {
     "data": {
      "text/markdown": [
       "Essi non ignoravano i rumori che correvano sull''assassinio della contessa, gli ordini di Francesco IV sì **terribilmente** motivati."
      ],
      "text/plain": [
       "<IPython.core.display.Markdown object>"
      ]
     },
     "metadata": {},
     "output_type": "display_data"
    },
    {
     "data": {
      "text/markdown": [
       "Quell'uomo era il nembo che si condensa per esplodere **terribilmente**."
      ],
      "text/plain": [
       "<IPython.core.display.Markdown object>"
      ]
     },
     "metadata": {},
     "output_type": "display_data"
    },
    {
     "data": {
      "text/markdown": [
       "Sì; aprirono strade, ma per gettarsiun testo, sul proprio cuore dei giuranti come legge un altro; e dopo aver tutte in un fascio strette le mani ai discepoli, **terribilmente** prorompe con quella spaventosa imprecazione con cui i leviti sulla montagna di Ebal dovevano la vendetta di Diopochi giorni soltanto, e poi potrò agire: lo sento, lo voglio."
      ],
      "text/plain": [
       "<IPython.core.display.Markdown object>"
      ]
     },
     "metadata": {},
     "output_type": "display_data"
    },
    {
     "data": {
      "text/markdown": [
       "– Al contrario, ne ho sofferto **terribilmente** !"
      ],
      "text/plain": [
       "<IPython.core.display.Markdown object>"
      ]
     },
     "metadata": {},
     "output_type": "display_data"
    },
    {
     "data": {
      "text/markdown": [
       "Poichè tutto vuoi sapere, ti dirò tutto; e giudicherai se la mia posizione non sia **terribilmente** dolorosa, se io non m''abbia ragione d''essere stanco della vita!"
      ],
      "text/plain": [
       "<IPython.core.display.Markdown object>"
      ]
     },
     "metadata": {},
     "output_type": "display_data"
    },
    {
     "data": {
      "text/markdown": [
       "Ma la mia gioia fu presto scemata, vedendo l'aspetto di Fantasio **terribilmente** cambiato."
      ],
      "text/plain": [
       "<IPython.core.display.Markdown object>"
      ]
     },
     "metadata": {},
     "output_type": "display_data"
    },
    {
     "data": {
      "text/markdown": [
       "Chiamavasi il primo Laviron capitano di stato maggiore presso il Garibaldi, il quale un dì avvampante di sdegno per le spesse morti cagionate dai Cacciatori di Vincennes salta sul parapetto, e additando la croce della legione di onore, che gli, l''innominato pensò subito a rispondere a questa che s''era fatta lui stesso, o piuttosto quel nuovo lui, che cresciuto **terribilmente** a un tratto, sorgeva come a giudicare l''antico."
      ],
      "text/plain": [
       "<IPython.core.display.Markdown object>"
      ]
     },
     "metadata": {},
     "output_type": "display_data"
    },
    {
     "data": {
      "text/markdown": [
       "Né qui è tutto--continuò il vecchio corrugando **terribilmente** la fronte;--quel demonio trasse fuori di tasca una funicella e colla fredda e spietata tranquillità del carnefice cheMa il comune dettato che il diavolo le insegna fare ma non conduce a buon porto, e che una le paga tutte, parve che fosse noto anche allora."
      ],
      "text/plain": [
       "<IPython.core.display.Markdown object>"
      ]
     },
     "metadata": {},
     "output_type": "display_data"
    },
    {
     "data": {
      "text/markdown": [
       "Ma i sentimenti e le passioni personali se hanno ispirato il poeta e resa **terribilmente** ingegnosa la sua fantasia, non penetrano nella rappresentazione."
      ],
      "text/plain": [
       "<IPython.core.display.Markdown object>"
      ]
     },
     "metadata": {},
     "output_type": "display_data"
    },
    {
     "data": {
      "text/markdown": [
       "Egli era piantato male, ed aveva fatto un passo falso, e una passione gli lavorava **terribilmente** di dentro; una passione di cui non aveva mai subìto il dominio in tutta la sua vita."
      ],
      "text/plain": [
       "<IPython.core.display.Markdown object>"
      ]
     },
     "metadata": {},
     "output_type": "display_data"
    },
    {
     "data": {
      "text/markdown": [
       "Era s **terribilmente** turbato che Lisa comprese di botto una suprema sciagura essere avvenuta; venne innanzi al padre bianca pi che cadavere, le labbra illividite, e senza potere articolar parola fiss con ansia il volto del capitano, ponendogli la destra sopra il braccio."
      ],
      "text/plain": [
       "<IPython.core.display.Markdown object>"
      ]
     },
     "metadata": {},
     "output_type": "display_data"
    },
    {
     "data": {
      "text/markdown": [
       "I sopravvegnenti, trovando la distruzione dove avrebbero volutoa porsi a canto una parete, tenendo colla destra il cane e il grilletto, colla sinistra la canna d''una sua carabina, **terribilmente** famosa al pari di lui."
      ],
      "text/plain": [
       "<IPython.core.display.Markdown object>"
      ]
     },
     "metadata": {},
     "output_type": "display_data"
    },
    {
     "data": {
      "text/markdown": [
       "Lo Imperatore trema della riforma presagendone diminuzione al suo assoluto dominio, e se ne serve per domare il Papa; il Papa all''opposto aborre dalla riforma, e l''aizza contro lo Imperatore: quietata alquanto la paura il Papa si accosta di nuovo a Francesco I. di Francia, il quale a sua posta in odio a Carlo promuove i riformati in Germania, e li sovviene con ogni maniera sussidi; in Francia gli arde.--Il Langravio Filippo di Assia con sagacia pari alla virtù, ed alla fortuna si approfitta di simili insidie, ripone in casa il duca di Vittemberg, e conduce Ferdinando di Austria alla pace di Kadan: la riforma, in grazia di questa pace fatta sicura, allaga la Danimarca, la Pomerania, la Marca brandeburghese, il Palatinato, la Sassonia  volentieri il lettore al suo volume, se questo storico, e per essere di soverchio prolisso e per lo stile che adopera, spesso intricato ed oscuro, non riuscisse a cui lo legga sazievole; difetti però che non devono in tutto ascriversi allo; che sguazzarlo mentre lo cavalcava un ponte parve inonorato; adesso lo arieno fatto più che volentieri, ma lo videro **terribilmente** gonfio, nè minacciatore di morte meno sicura, che il ponte; e il tempo a deliberare stringeva; perchè dai parapetticreature di Dio?"
      ],
      "text/plain": [
       "<IPython.core.display.Markdown object>"
      ]
     },
     "metadata": {},
     "output_type": "display_data"
    },
    {
     "data": {
      "text/markdown": [
       "Lottava dentro di sé , **terribilmente** ."
      ],
      "text/plain": [
       "<IPython.core.display.Markdown object>"
      ]
     },
     "metadata": {},
     "output_type": "display_data"
    },
    {
     "data": {
      "text/markdown": [
       "Una cosa mi conforta e mi inorgoglisce, il sentimento della mia freddezza — perché il mio cuore è freddo, **terribilmente** freddo."
      ],
      "text/plain": [
       "<IPython.core.display.Markdown object>"
      ]
     },
     "metadata": {},
     "output_type": "display_data"
    },
    {
     "data": {
      "text/markdown": [
       "La leonessa ferita ruggì **terribilmente** , e tutta l''assemblea mascolina n''ebbe terrore."
      ],
      "text/plain": [
       "<IPython.core.display.Markdown object>"
      ]
     },
     "metadata": {},
     "output_type": "display_data"
    },
    {
     "data": {
      "text/markdown": [
       "La sola religione potè indurre questa a non negarle soccorso; ma era uno sforzo di virtù, a cui il cuore **terribilmente** ripugnava, e il beneficio stesso, fatto senza affetto, senza nessuna compassione, diveniva tanto amaro, che parevatradita!"
      ],
      "text/plain": [
       "<IPython.core.display.Markdown object>"
      ]
     },
     "metadata": {},
     "output_type": "display_data"
    },
    {
     "data": {
      "text/markdown": [
       "La furia della guerra, cantata nella Georgica di Virgilio in modo così **terribilmente** bello, imperversò ancora sulla terra dopo la morte di Cesare; poi il tempio di Giano chiuse le porte per molto tempo.Per gli altri quattro partiti, legittimisti e orleanisti, repubblicani e socialisti, sorgeva irrefutabile la questione: era lecito disprezzare l''ambizione di quell''uomo, il quale aveva sotto di sé il potere esecutivo, e aveva alle spalle la forza morale di cinque milioni e mezzo di suffragi?"
      ],
      "text/plain": [
       "<IPython.core.display.Markdown object>"
      ]
     },
     "metadata": {},
     "output_type": "display_data"
    },
    {
     "data": {
      "text/markdown": [
       "e di congiungerla al Palavicino, tanto la prima che questa volta fece nascere in lei delle vaghe speranze, Ella era così **terribilmente** oppressa, così insopportabile era la ragione di sua vita, che non le parea vero non volesse Iddio prepararle uni capelli di sotto alla celata."
      ],
      "text/plain": [
       "<IPython.core.display.Markdown object>"
      ]
     },
     "metadata": {},
     "output_type": "display_data"
    },
    {
     "data": {
      "text/markdown": [
       "Cercando di ridurmi a mente gli oggetti che contenevano le carte sequestrate, fui **terribilmente** addolorato quando mi sovvenne che in Roma nel 1848, quando successero gli sconvolgimenti di Vienna, io d''accordo conqualunque ordine contro di essa emanato, e sapendosi che l''Italia contava da 300 mila carbonari."
      ],
      "text/plain": [
       "<IPython.core.display.Markdown object>"
      ]
     },
     "metadata": {},
     "output_type": "display_data"
    },
    {
     "data": {
      "text/markdown": [
       ", a sua volta, anch''essa in furore, si metteva in moto di un sol pezzo, di un sol tratto, brontolava sordamente e poi **terribilmente** , si screpolava, si fiaccava, e delle montagne, sollevate dalle onde, portate sul loro dorso, solcavano lo spazio,e Calabria, compare?"
      ],
      "text/plain": [
       "<IPython.core.display.Markdown object>"
      ]
     },
     "metadata": {},
     "output_type": "display_data"
    },
    {
     "data": {
      "text/markdown": [
       "Rossini ha un faccione sì paffuto e lucente, che non si sa capire come abbia potuto far piangere Desdemona a quel modo, e dar tinte così **terribilmente** tragiche a tutto il terzo atto dell'Otello."
      ],
      "text/plain": [
       "<IPython.core.display.Markdown object>"
      ]
     },
     "metadata": {},
     "output_type": "display_data"
    },
    {
     "data": {
      "text/markdown": [
       "La soluzione da taluni proposta concilia molte contrarietà, che la guerra non potrebbe se non più **terribilmente** aggravare."
      ],
      "text/plain": [
       "<IPython.core.display.Markdown object>"
      ]
     },
     "metadata": {},
     "output_type": "display_data"
    },
    {
     "data": {
      "text/markdown": [
       "Udendo queste parole , lo Spettro mise un altro strido e così **terribilmente** fece suonar la catena nel silenzio della notte , che la guardia avrebbe avuto ragione di multarlo come disturbatore notturno ."
      ],
      "text/plain": [
       "<IPython.core.display.Markdown object>"
      ]
     },
     "metadata": {},
     "output_type": "display_data"
    },
    {
     "data": {
      "text/markdown": [
       "\"La giornata, dice egli, era **terribilmente** calda, e nello attraversare i boschi ogni cosa era immobile, tranne le grandi e splendide farfalle che svolazzavanoIl suo volto era attraversato da due larghe striscie trasversali; una tinta di un bel rosso brillante andava da un orecchio all''altro inchiudendo il labbro superiore; l''altra, bianca di calce, si estendeva sopra e parallelamente alla prima, per cui anche le sue palpebre erano in tal modo colorite."
      ],
      "text/plain": [
       "<IPython.core.display.Markdown object>"
      ]
     },
     "metadata": {},
     "output_type": "display_data"
    },
    {
     "data": {
      "text/markdown": [
       "Era sì **terribilmente** turbato che Lisa comprese di botto una suprema sciagura essere avvenuta; venne innanzi al padre bianca più chein esso per una scala interna a chiocciola."
      ],
      "text/plain": [
       "<IPython.core.display.Markdown object>"
      ]
     },
     "metadata": {},
     "output_type": "display_data"
    },
    {
     "data": {
      "text/markdown": [
       "Quando però le vedeva piangere e **terribilmente** soffrire per le ansietà di un pericolo che le teneva sospese tra la vita e la morte e poteva produrre, tutt'a un tratto, una terribile catastrofe da coinvolgere nella rovina parecchie persone — marito, figli, parenti — allora non poteva più ostinarsi a non credere."
      ],
      "text/plain": [
       "<IPython.core.display.Markdown object>"
      ]
     },
     "metadata": {},
     "output_type": "display_data"
    },
    {
     "data": {
      "text/markdown": [
       "Il Dal Poggio a quest'intimazione si sentí montar il sangue alla testa, e alzando **terribilmente** la voce, corse all'insulto: - Siete un miserabile furfante, - gridò - Questo vi valga come uno schiaffo sul viso."
      ],
      "text/plain": [
       "<IPython.core.display.Markdown object>"
      ]
     },
     "metadata": {},
     "output_type": "display_data"
    },
    {
     "data": {
      "text/markdown": [
       "; quell''intimazione del termine perentorio di tre dì, cui a tutta prima non aveva posto mente, ora le sconvolse l''animo **terribilmente** , ora che, misurate le distanze gli parve essere difficile che in tre giorni, senza una gran sollecitudine, ilChe util cosa sarebbe che la fortuna mandasse tra noi qualche novello Busiride e, se fosse possibile, qualche cosa di peggio!"
      ],
      "text/plain": [
       "<IPython.core.display.Markdown object>"
      ]
     },
     "metadata": {},
     "output_type": "display_data"
    },
    {
     "data": {
      "text/markdown": [
       "–, ci fu il marito della zia Sara.... Ah, sembrava un uomo tanto ammodo quando Sarina lo sposò, e finì col truffare il babbo **terribilmente** , sicchè fu costretto a ipotecare la sua casa di Via Alta, e da ultimo a cederla!..."
      ],
      "text/plain": [
       "<IPython.core.display.Markdown object>"
      ]
     },
     "metadata": {},
     "output_type": "display_data"
    },
    {
     "data": {
      "text/markdown": [
       "L'uomo vestito di velluto avea il braccio e le reni solidi come bronzo, e molta abilità in questa maniera di scherma, ciò che gli faceva menar colpi che calavano giù rombando **terribilmente**; il giovane però, se non avea la forza muscolare del suo avversario, lo vinceva nell'elasticità e sveltezza dei movimenti e nel sangue freddo inalterabile, che in lui era uno strano effetto della collera, con cui aggiustava i suoi colpi e parava quelli che gli venivano."
      ],
      "text/plain": [
       "<IPython.core.display.Markdown object>"
      ]
     },
     "metadata": {},
     "output_type": "display_data"
    },
    {
     "data": {
      "text/markdown": [
       "Lo squassa **terribilmente** ."
      ],
      "text/plain": [
       "<IPython.core.display.Markdown object>"
      ]
     },
     "metadata": {},
     "output_type": "display_data"
    },
    {
     "data": {
      "text/markdown": [
       "Era **terribilmente** in forse di Fermo: Agnese non le aveva potuto dire se non quello ch''ella stessa sapeva confusamente; che Fermo, cioè,di farsi udire le trombe che avevan sonata la partenza d''un reggimento, un nuovo squillo dall''altra parte annunziava **terribilmente** l''arrivo di altra simile, anzi peggiore brigata."
      ],
      "text/plain": [
       "<IPython.core.display.Markdown object>"
      ]
     },
     "metadata": {},
     "output_type": "display_data"
    },
    {
     "data": {
      "text/markdown": [
       "Alla fine liberano da morte sicura la Bianca, **terribilmente** malconcia; aveva gli occhi fuori come gatto arrabbiato; le impronte sanguigne intorno al collo le durarono più di un, però che togliendola al popolo, il quale si trova sempre presente, l''aveva messa in mano ad uno imperatore lontano, spesso troppo impacciato in casa, per istare a canna badata fuori; ma venuti i barbari, massime i Goti, in Italia si erano toltiMa Cosimo, logoro per lo smodato esercizio di tutte le passioni, essendo venuto a morte non bene ancora maturo, Lelio, giovanetto di leggiadre maniere e di forme venuste, piacque a donna Isabella figlia di Cosimo, duchessa di Bracciano, la quale ottenne che il bel paggio si acconciasse al servizio di lei."
      ],
      "text/plain": [
       "<IPython.core.display.Markdown object>"
      ]
     },
     "metadata": {},
     "output_type": "display_data"
    },
    {
     "data": {
      "text/markdown": [
       "Questa donna diventa rossa come di fuoco, poi impallidisce **terribilmente**; poi con voce strozzata, acre, sprezzante, dà a quest’uomo dell’indegno e del vile; e come egli, agghiacciato, petrificato dall’imprevedibile accoglienza, balbetta qualche parola per tentare di giustificarsi, ella non lo lascia dire: raccoglie il mantello ed i guanti, e domanda imperiosamente la carrozza."
      ],
      "text/plain": [
       "<IPython.core.display.Markdown object>"
      ]
     },
     "metadata": {},
     "output_type": "display_data"
    },
    {
     "data": {
      "text/markdown": [
       "La chiesa erasi chiusa al popolo, e fu solo per mezzo dell''Orlando se a me venne fatto di mettervi il piedeodioso, che ad arrovesciargli l''animo non v''era cosa più pronta che nominargli quel Ma l''anno 1512 fu per lui ben più **terribilmente** memorabile."
      ],
      "text/plain": [
       "<IPython.core.display.Markdown object>"
      ]
     },
     "metadata": {},
     "output_type": "display_data"
    },
    {
     "data": {
      "text/markdown": [
       "Né qui è tutto - continuò il vecchio corrugando **terribilmente** la fronte; - quel demonio trasse fuori di tasca una funicella e colla fredda e spietata tranquillità del carnefice che applica la tortura assicurò alle verdi piante le membra della vittima a cui intanto ripeteva: \"Vedi Alba!"
      ],
      "text/plain": [
       "<IPython.core.display.Markdown object>"
      ]
     },
     "metadata": {},
     "output_type": "display_data"
    },
    {
     "data": {
      "text/markdown": [
       "E Machiavelli, non che voglia palliare, qui è **terribilmente** ignudo, scopre senza pietà quel putridume."
      ],
      "text/plain": [
       "<IPython.core.display.Markdown object>"
      ]
     },
     "metadata": {},
     "output_type": "display_data"
    },
    {
     "data": {
      "text/markdown": [
       "Essi erano già stati **terribilmente** trattati al Concilio di Reims (1148), in cui S. Bernardo, divinamente feroce, aveva fatto condannare Gilberto de la, egli la evita con una promessa o una professione di fede di liberalismo generale."
      ],
      "text/plain": [
       "<IPython.core.display.Markdown object>"
      ]
     },
     "metadata": {},
     "output_type": "display_data"
    },
    {
     "data": {
      "text/markdown": [
       "– La notte è fredda, **terribilmente** .... Che vi sentireste in cuore se domattina la trovassero morta gelata sulla soglia della vostra casa?"
      ],
      "text/plain": [
       "<IPython.core.display.Markdown object>"
      ]
     },
     "metadata": {},
     "output_type": "display_data"
    },
    {
     "data": {
      "text/markdown": [
       "Il Lautrec era **terribilmente** abbattuto."
      ],
      "text/plain": [
       "<IPython.core.display.Markdown object>"
      ]
     },
     "metadata": {},
     "output_type": "display_data"
    },
    {
     "data": {
      "text/markdown": [
       "Ma suo padre giura più **terribilmente** di prima che non acconsentirà mai a fare il comodo loro... Sua figlia lo scongiura di desistere perché anche a lui, quando arrivano di queste notizie, è come se gli pigliasse un colpo apoplettico... Veramente, è un po' troppo!..."
      ],
      "text/plain": [
       "<IPython.core.display.Markdown object>"
      ]
     },
     "metadata": {},
     "output_type": "display_data"
    },
    {
     "data": {
      "text/markdown": [
       "La furia della guerra, cantata nella Georgica di Virgilio in modo così **terribilmente** bello, imperversò ancora sulla terra dopo la morte di Cesare; poi il tempio di Giano chiuse le porte per molto tempo.Ognuno sa quanto si operò di notevole nei primi anni dell''impero per elevare l''efficienza bellica dell''esercito, quanto romore suscitarono sui campi di Lombardia i nuovi cannoni rigati, quanto a lungo il campo di Mourmelon fu ammirato come l''alta scuola della tattica, e come l''imperatore intendesse di risollevare anche la figliastra di questa armata, la cavalleria, con l''introduzione dei piccoli e focosi cavalli algerini."
      ],
      "text/plain": [
       "<IPython.core.display.Markdown object>"
      ]
     },
     "metadata": {},
     "output_type": "display_data"
    },
    {
     "data": {
      "text/markdown": [
       "Dopo aver **terribilmente** chiusi i denti fino a smussarli, egli aperse la bocca come un antro."
      ],
      "text/plain": [
       "<IPython.core.display.Markdown object>"
      ]
     },
     "metadata": {},
     "output_type": "display_data"
    },
    {
     "data": {
      "text/markdown": [
       "Sì; aprirono strade, ma per gettarsiun testo, sul proprio cuore dei giuranti come legge un altro; e dopo aver tutte in un fascio strette le mani ai discepoli, **terribilmente** prorompe con quella spaventosa imprecazione con cui i leviti sulla montagna di Ebal dovevano la vendetta di Dioancor rimane, mio padre la vuol sacrificare anch''essa.\""
      ],
      "text/plain": [
       "<IPython.core.display.Markdown object>"
      ]
     },
     "metadata": {},
     "output_type": "display_data"
    },
    {
     "data": {
      "text/markdown": [
       "– Io non ho da servirla; cotesto è l''ufficiomuoversi; l''avvicinarsi di quell''ora desiderata prima con tanta smania, ora le metteva in cuore un indefinibile terrore , sentiva farsele più rapido il batter de'' polsi, mille sospetti, mille paure le si affollavano nella fantasia, orachiederlo a Bella, ma non c''è stato caso che mi desse retta; quando è occupata delle sue gale, non conosce altro.... Oh, è **terribilmente** egoista."
      ],
      "text/plain": [
       "<IPython.core.display.Markdown object>"
      ]
     },
     "metadata": {},
     "output_type": "display_data"
    },
    {
     "data": {
      "text/markdown": [
       "Lì, una siepe spessa, **terribilmente** irta di ronchi, mi concesse un ricovero."
      ],
      "text/plain": [
       "<IPython.core.display.Markdown object>"
      ]
     },
     "metadata": {},
     "output_type": "display_data"
    },
    {
     "data": {
      "text/markdown": [
       "Iddio nel Cielo puòrumore di sorte, se togli uno solo..... Qual cosa rompe l''aere silenzioso così forsennatamente squillante, così **terribilmente** selvaggio?"
      ],
      "text/plain": [
       "<IPython.core.display.Markdown object>"
      ]
     },
     "metadata": {},
     "output_type": "display_data"
    },
    {
     "data": {
      "text/markdown": [
       "Sappiate però che i dolori più crudeli sono stati quelli del sentimento: sì, del sentimento, ch''è la parte piùella si rizzò, prese risoluta un foglio, e scrisse con una febbrile rapidità che mostrava come profondamente, e quasi **terribilmente** , fosse scossa in tutto il suo essere, anima e corpo, e si piegasse, vacillasse sotto il peso delle speranze, delle ansieSpero che se mai mi marito, – esclamò la ragazza – non sarà con uno che abbia una figlia cieca!"
      ],
      "text/plain": [
       "<IPython.core.display.Markdown object>"
      ]
     },
     "metadata": {},
     "output_type": "display_data"
    },
    {
     "data": {
      "text/markdown": [
       "Ma egli era **terribilmente** , dolorosamente geloso di quanti accostassero la ragazza e paressero non tornarle sgraditi."
      ],
      "text/plain": [
       "<IPython.core.display.Markdown object>"
      ]
     },
     "metadata": {},
     "output_type": "display_data"
    },
    {
     "data": {
      "text/markdown": [
       "che lo traggono a disperare, e l''altro che gli arresta la mano; tutta quella notte infine offrono un tal che di sì **terribilmente** vero, misterioso e solenne, che a noi sembra poco il dire che negli altri lavori di simil genere non v''ha brano che possache non credeva di poter più attenere, dove aveva tante volte fantasticato un avvenire, divenuto ora impossibile."
      ],
      "text/plain": [
       "<IPython.core.display.Markdown object>"
      ]
     },
     "metadata": {},
     "output_type": "display_data"
    },
    {
     "data": {
      "text/markdown": [
       "Quando il suo liberto spagnuolo venne ad annunziargli che sua moglie toccava le mura di Gerusalemme, Pilato era **terribilmente** occupato."
      ],
      "text/plain": [
       "<IPython.core.display.Markdown object>"
      ]
     },
     "metadata": {},
     "output_type": "display_data"
    },
    {
     "data": {
      "text/markdown": [
       "sempre grondante sangue cagliato, con le chiome grommose; ma poi mutata vicenda toccò al capo di Tuda comparire **terribilmente** miserabile, mentre la testa del prete Guercino si affacciava ora con la sua bella chierica candida come fiore di latte,al nostro occhio morente a guisa di nuvola, finchè appressandoci sveli al nostro sguardo le sue palme e i suoi fiori."
      ],
      "text/plain": [
       "<IPython.core.display.Markdown object>"
      ]
     },
     "metadata": {},
     "output_type": "display_data"
    },
    {
     "data": {
      "text/markdown": [
       "La barbarie dilaga **terribilmente** e ci trascina tutti senza che quasi ce ne accorgiamo."
      ],
      "text/plain": [
       "<IPython.core.display.Markdown object>"
      ]
     },
     "metadata": {},
     "output_type": "display_data"
    },
    {
     "data": {
      "text/markdown": [
       "di cose durò fino all''anno 1455, nel quale gli abati, sino allora arbitri della forza e giurisdizione feudale, e di essa **terribilmente** armati, perdettero anche questo diritto."
      ],
      "text/plain": [
       "<IPython.core.display.Markdown object>"
      ]
     },
     "metadata": {},
     "output_type": "display_data"
    },
    {
     "data": {
      "text/markdown": [
       "Era riserbato al bonapartismo di oscurare tutti i predecessori, e di illustrare così **terribilmente** alla democrazia l''effetto a due tagli del suffragio universale, che il ministro repubblicano Carnot dovè confessarepiù risibile della storia francese, a spazzare adunque gli ultimi rottami del secondo impero: sotto i nostri occhi si è **terribilmente** adempiuta la parola ammonitrice, che francesi di alto animo avevano da anni rivolta ai propri compatrioti: la Francia, vivere pure con la precisione di un povero computista per la pratica del momento, come se non ci fosse mai un domani ."
      ],
      "text/plain": [
       "<IPython.core.display.Markdown object>"
      ]
     },
     "metadata": {},
     "output_type": "display_data"
    },
    {
     "data": {
      "text/markdown": [
       "Un fischio, un salto alla soglia, una sguardata, una mira, uno scoppio, il bargello per terra,contegno sentiva talvolta orrore e disprezzo, ne riceveva una specie di scandalo; ma questi sentimenti ricadevano **terribilmente** su la sua coscienza, perchè ad ogni volta Geltrude era costretta a ricordarsi che dessa era quella che aveva fatto fararmi, lo abbandonarono mendico a tapinare su la pubblica via."
      ],
      "text/plain": [
       "<IPython.core.display.Markdown object>"
      ]
     },
     "metadata": {},
     "output_type": "display_data"
    },
    {
     "data": {
      "text/markdown": [
       "Poich tutto vuoi sapere, ti dir tutto; e giudicherai se la mia posizione non sia **terribilmente** dolorosa, se io non m'abbia ragione d'essere stanco della vita!"
      ],
      "text/plain": [
       "<IPython.core.display.Markdown object>"
      ]
     },
     "metadata": {},
     "output_type": "display_data"
    },
    {
     "data": {
      "text/markdown": [
       "Diede in un grido ed accompagnata dai vicini che le facevano visita, si avanzò verso il Rabbì che mi parve **terribilmente** preoccupato."
      ],
      "text/plain": [
       "<IPython.core.display.Markdown object>"
      ]
     },
     "metadata": {},
     "output_type": "display_data"
    },
    {
     "data": {
      "text/markdown": [
       "Le nozze imminenti le richiamavano le prime, poi le seconde che s''erano tanto **terribilmente** interrotte; gl''insistenti rimorsi, come da lontano, facevano sentire la loro voce; il timore del Lautrec tornava asia la mala notte per colui, e per l''ammiraglio che gli vuol bene.\""
      ],
      "text/plain": [
       "<IPython.core.display.Markdown object>"
      ]
     },
     "metadata": {},
     "output_type": "display_data"
    },
    {
     "data": {
      "text/markdown": [
       "Eravamo scossi **terribilmente** ."
      ],
      "text/plain": [
       "<IPython.core.display.Markdown object>"
      ]
     },
     "metadata": {},
     "output_type": "display_data"
    },
    {
     "data": {
      "text/markdown": [
       "Essi erano già stati **terribilmente** trattati al Concilio di Reims (1148), in cui S. Bernardo, divinamente feroce, aveva fatto condannare Gilberto de laimpongono."
      ],
      "text/plain": [
       "<IPython.core.display.Markdown object>"
      ]
     },
     "metadata": {},
     "output_type": "display_data"
    },
    {
     "data": {
      "text/markdown": [
       "- Avendo esso, al primo interrogatorio, per le sue buone ragioni, confessato il fatto senza titubanza, e in conseguenza di ciò, essendo stato inviato, benchè in carrozza, perchè pagata da lui, al palazzo del capitano di giustizia, quando colà ebbe a subire il secondo interrogatorio, la sua condizione si venne **terribilmente** peggiorando."
      ],
      "text/plain": [
       "<IPython.core.display.Markdown object>"
      ]
     },
     "metadata": {},
     "output_type": "display_data"
    },
    {
     "data": {
      "text/markdown": [
       "che vi guardano immobili, che si guardano immobili--quelle delle due lineette che ne troncano inesorabilmente, **terribilmente** le cime--quell''arco inferiore, sul quale la lettera oscilla e si dondola sogghignando--e nell''interno quel nero,un paese dove la povertà è disprezzata?"
      ],
      "text/plain": [
       "<IPython.core.display.Markdown object>"
      ]
     },
     "metadata": {},
     "output_type": "display_data"
    },
    {
     "data": {
      "text/markdown": [
       "Ma ciò posto ed eccettuato francamente, ed eccettuate forse alcune vendette personali **terribilmente** fatte con sue parole immortali, Dante e il poema suo restan pure l''uomo e il libro incontrastabilmente piú virili edNoi non celammo l''error politico di Dante, che fu di lasciare la propria parte buona e nazionale perché si guastava in esagerata, straniera e sciocca, di rivolgersi per ira alla parte contraria ed essenzialmente straniera; ed aggiungeremo qui ch''ei pose il colmo a tale errore, protestando di continuar nella moderazione, affettando comune disprezzo alle due parti, mentre rivolgevasi a propugnare l''imperio, e nel poema, e in quel suo libro, del resto mediocre, Della monarchia."
      ],
      "text/plain": [
       "<IPython.core.display.Markdown object>"
      ]
     },
     "metadata": {},
     "output_type": "display_data"
    },
    {
     "data": {
      "text/markdown": [
       "Là su213 quel vertice, benchè il fiato gli uscisse affannoso dal petto e le tempie e i polsi gli battessero **terribilmente**, Altobello volse gli occhi dintorno per contemplare lo spettacolo che gli si parava davanti."
      ],
      "text/plain": [
       "<IPython.core.display.Markdown object>"
      ]
     },
     "metadata": {},
     "output_type": "display_data"
    },
    {
     "data": {
      "text/markdown": [
       "Qui la risposta è **terribilmente** facile e pronta: può perchè può."
      ],
      "text/plain": [
       "<IPython.core.display.Markdown object>"
      ]
     },
     "metadata": {},
     "output_type": "display_data"
    },
    {
     "data": {
      "text/markdown": [
       "chiederlo a Bella, ma non c''è stato caso che mi desse retta; quando è occupata delle sue gale, non conosce altro.... Oh, è **terribilmente** egoista."
      ],
      "text/plain": [
       "<IPython.core.display.Markdown object>"
      ]
     },
     "metadata": {},
     "output_type": "display_data"
    },
    {
     "data": {
      "text/markdown": [
       "La lettera mi lasciò sconcertata e disgustata, così mi parve volgare; ma poi, nel tornarvi su, a poco a poco mi persuasi che il tono in cui era scritta fosse affettatamente leggiero e gaio, e che l'amante avesse fatto un crudele, ma nobilissimo sforzo nel contenere l'impeto del suo cuore, tanto per non gettare nuova esca nella mia passione, che era già un incendio, e per quietarmi un poco l'animo, ch'egli sapeva **terribilmente** ansioso."
      ],
      "text/plain": [
       "<IPython.core.display.Markdown object>"
      ]
     },
     "metadata": {},
     "output_type": "display_data"
    },
    {
     "data": {
      "text/markdown": [
       "Alla sera di quel giorno memorabile , il signor Damelli , **terribilmente** imbrogliato e coll ' aria d ' un cane che ha lasciata scappar la lepre , si presentò al cospetto del signor Duca ."
      ],
      "text/plain": [
       "<IPython.core.display.Markdown object>"
      ]
     },
     "metadata": {},
     "output_type": "display_data"
    },
    {
     "data": {
      "text/markdown": [
       "Uno mostra con aria addolorata la guancia, che poco innanzi era sanissima, **terribilmente** gonfiata per un mal di denti; un altro si è slogata una congiuntura e la mostra orribilmente contratta; un terzo alza l'indice della mano destra fasciato di cenci, e dice d'esserselo tagliato fino all'osso; altri infine sostengono audacemente d'aver già consegnato il componimento e che deve essere smarrito, e vanno attorno cercandolo."
      ],
      "text/plain": [
       "<IPython.core.display.Markdown object>"
      ]
     },
     "metadata": {},
     "output_type": "display_data"
    },
    {
     "data": {
      "text/markdown": [
       "quando mio marito moribondo minella sua camera, quelle robe di lei le stavano lì negli occhi come un vivente rimorso, e le facevano passare le notti **terribilmente** insonni."
      ],
      "text/plain": [
       "<IPython.core.display.Markdown object>"
      ]
     },
     "metadata": {},
     "output_type": "display_data"
    },
    {
     "data": {
      "text/markdown": [
       "Incontravo sui margini delle strade dei gruppi di giovani, che ritornavano dall''esercito, laceri, dimagriti, **terribilmente** consumati dalla febbre, tremanti sotto un sole pesante, denso, giallastro, che divorava tutto ciò che toccava,!"
      ],
      "text/plain": [
       "<IPython.core.display.Markdown object>"
      ]
     },
     "metadata": {},
     "output_type": "display_data"
    },
    {
     "data": {
      "text/markdown": [
       "» E quello del medico , corrucciato prima **terribilmente** , poscia d ' un subito rassegnato : « Pur troppo !"
      ],
      "text/plain": [
       "<IPython.core.display.Markdown object>"
      ]
     },
     "metadata": {},
     "output_type": "display_data"
    },
    {
     "data": {
      "text/markdown": [
       "Datemi un giorno solo del mio bollor giovanile, perché possa scrivere a caratteri di fuoco una maledizione che abbruci gli occhi di quelli che oseranno leggerla, e rimanga **terribilmente** famosa fra i posteri, come il Mane Tecel Fares del convito di Baldassare!"
      ],
      "text/plain": [
       "<IPython.core.display.Markdown object>"
      ]
     },
     "metadata": {},
     "output_type": "display_data"
    },
    {
     "data": {
      "text/markdown": [
       "Cercando di ridurmi a mente gli oggetti che contenevano le carte sequestrate, fui **terribilmente** addolorato quando mi sovvenne che in Roma nel 1848, quando successero gli sconvolgimenti di Vienna, io d''accordo conne avevano fatto un eroe agli occhi dei rivoluzionari francesi e dei carbonari italiani; ma la sua memoria cadde presto in oblio."
      ],
      "text/plain": [
       "<IPython.core.display.Markdown object>"
      ]
     },
     "metadata": {},
     "output_type": "display_data"
    },
    {
     "data": {
      "text/markdown": [
       "La solennità dell''ora, la voce **terribilmente** arcana delle acque, anche quando addormentate respirano, la distesa dei cieli, la dimostrazione parlante, continuaDi questo prete tra poco."
      ],
      "text/plain": [
       "<IPython.core.display.Markdown object>"
      ]
     },
     "metadata": {},
     "output_type": "display_data"
    },
    {
     "data": {
      "text/markdown": [
       "Gli si erano allividite e contratte vieppi le sue guancie, e il suo sguardo non aveva potuto reggere a quello avvampante di Gina; ma il furore in lui non era stato tardo a sovraggiungere, si slanci su di lei, la afferr alle braccia, le serr i polsi e scuotendola senza un riguardo, rugg, accostando a quello di lei il suo volto **terribilmente** impresso dall'ira: - Sciagurata!"
      ],
      "text/plain": [
       "<IPython.core.display.Markdown object>"
      ]
     },
     "metadata": {},
     "output_type": "display_data"
    },
    {
     "data": {
      "text/markdown": [
       "sempre grondante sangue cagliato, con le chiome grommose; ma poi mutata vicenda toccò al capo di Tuda comparire **terribilmente** miserabile, mentre la testa del prete Guercino si affacciava ora con la sua bella chierica candida come fiore di latte,La vanità contratta con l''avvilimento, e la miseria e l''avarizia fanno da mezzane.--Non lo prendete a male, Biagio; ma voi quando date un soldo compiacete a voi stesso, e non vi muove la carità del prossimo."
      ],
      "text/plain": [
       "<IPython.core.display.Markdown object>"
      ]
     },
     "metadata": {},
     "output_type": "display_data"
    },
    {
     "data": {
      "text/markdown": [
       "La sola religione potè indurre questa a non negarle soccorso; ma era uno sforzo di virtù, a cui il cuore **terribilmente** ripugnava, e il beneficio stesso, fatto senza affetto, senza nessuna compassione, diveniva tanto amaro, che parevaQuella missione mi procurò la conoscenza delle condizioni della città anche nei luoghi lontani dal centro – chiuse la gran parte delle botteghe; la popolazione a capannelli, ma scarsa; regnava ovunque la desolazione o lo spavento."
      ],
      "text/plain": [
       "<IPython.core.display.Markdown object>"
      ]
     },
     "metadata": {},
     "output_type": "display_data"
    },
    {
     "data": {
      "text/markdown": [
       "\"La giornata, dice egli, era **terribilmente** calda, e nello attraversare i boschi ogni cosa era immobile, tranne le grandi e splendide farfalle che svolazzavanoogni grande accrescimento di numero è evidentemente impossibile e deve essere arrestato in qualche modo."
      ],
      "text/plain": [
       "<IPython.core.display.Markdown object>"
      ]
     },
     "metadata": {},
     "output_type": "display_data"
    },
    {
     "data": {
      "text/markdown": [
       "– Fra quelle angoscie spunta il mattino; se il tempo ha sensibilmente scemata la debolezza fisica, vieppiù ha aumentata l''agitazioneche vi guardano immobili, che si guardano immobili--quelle delle due lineette che ne troncano inesorabilmente, **terribilmente** le cime--quell''arco inferiore, sul quale la lettera oscilla e si dondola sogghignando--e nell''interno quel nero,Guardate, il morto è un francese, è un guascone, e si sono battuti per una costoletta; c''è qui il suo collega Pirolet a confermarlo; non bisogna permettere che questo marrano d''inglese se ne vada via liscio liscio: facciamo le cose per bene, conduciamolo al Commissario di polizia."
      ],
      "text/plain": [
       "<IPython.core.display.Markdown object>"
      ]
     },
     "metadata": {},
     "output_type": "display_data"
    },
    {
     "data": {
      "text/markdown": [
       "Alla generosa apologia tace R. Iosè, ma Simone favella, anzi Simone rugge, Simone tuona e come **terribilmente** !"
      ],
      "text/plain": [
       "<IPython.core.display.Markdown object>"
      ]
     },
     "metadata": {},
     "output_type": "display_data"
    },
    {
     "data": {
      "text/markdown": [
       "In quella entrava il vecchio rigattiere ebreo, la faccia **terribilmente** sconvolta; stampata entro la mente l'immagine del volto di sua figlia annegata che aveva visto poc'anzi."
      ],
      "text/plain": [
       "<IPython.core.display.Markdown object>"
      ]
     },
     "metadata": {},
     "output_type": "display_data"
    },
    {
     "data": {
      "text/markdown": [
       "La sera stessa, l'arciprete di Revigliasco, certo don Rinaldi, molto domestico di casa, mi trasse in disparte e mi disse che mio padre era **terribilmente** in collera, che non mi faceva degno della sua presenza; e che, come parroco del luogo, doveva avvertirmi essere io incorso nella scomunica, perch qui percutiet clericum, suadente diabolo ecc."
      ],
      "text/plain": [
       "<IPython.core.display.Markdown object>"
      ]
     },
     "metadata": {},
     "output_type": "display_data"
    },
    {
     "data": {
      "text/markdown": [
       "lasciammoe di congiungerla al Palavicino, tanto la prima che questa volta fece nascere in lei delle vaghe speranze, Ella era così **terribilmente** oppressa, così insopportabile era la ragione di sua vita, che non le parea vero non volesse Iddio prepararle une scosso a quello parole inaspettate, Ella se ne accorse, e continuò: --Io so tutto, Manfredo, e da lei stessa lo so."
      ],
      "text/plain": [
       "<IPython.core.display.Markdown object>"
      ]
     },
     "metadata": {},
     "output_type": "display_data"
    },
    {
     "data": {
      "text/markdown": [
       "Francesca Domenica compita l''opera pregò il piovano, il dottore e gli amici di casa a portare, senza mettere tempo di mezzo, il cadavere nella tomba degli Alando e a dargli sepoltura; ai servi ordinò andassero con loro, ella basterebbe sola a confortare Serena...  Appena cessarono di farsi udire le trombe che avevan sonata la partenza d''un reggimento, un nuovo squillo dall''altra parte annunziava **terribilmente** l''arrivo di altra simile, anzi peggiore brigata."
      ],
      "text/plain": [
       "<IPython.core.display.Markdown object>"
      ]
     },
     "metadata": {},
     "output_type": "display_data"
    },
    {
     "data": {
      "text/markdown": [
       "Le nozze imminenti le richiamavano le prime, poi le seconde che s''erano tanto **terribilmente** interrotte; gl''insistenti rimorsi, come da lontano, facevano sentire la loro voce; il timore del Lautrec tornava ad''onore e di virtù, e per sua parte fu tanto maravigliato dai modi affabili e sinceri dell''illustre ammiraglio, che presto nacque tra loro una stretta amicizia."
      ],
      "text/plain": [
       "<IPython.core.display.Markdown object>"
      ]
     },
     "metadata": {},
     "output_type": "display_data"
    },
    {
     "data": {
      "text/markdown": [
       "Gualteruzzi il 20 marzo 1544 come desiderasse ritirarsi dal vescovado, \"oltre che tutti i disegni e desiderj miei son oggi più che mai fossero, allontanati dalle cure di queste cose e mareggi nostri mondani e volti allo studio eDe Medici, deplorando le vittorie de'' Turchi, la perdita dell''Ungheria, i pericoli d''Italia e Francia quando **terribilmente** armavansi quei nemici, intanto che i Cristiani compiaceansi della ruina uno dell''altro."
      ],
      "text/plain": [
       "<IPython.core.display.Markdown object>"
      ]
     },
     "metadata": {},
     "output_type": "display_data"
    },
    {
     "data": {
      "text/markdown": [
       "Ma la corda penetrava nella carne ai polsi e martorizzava **terribilmente** le cavicchie."
      ],
      "text/plain": [
       "<IPython.core.display.Markdown object>"
      ]
     },
     "metadata": {},
     "output_type": "display_data"
    },
    {
     "data": {
      "text/markdown": [
       "Solo per la molta stima che avevan per l''Adimari, degno erede di quel Bellincion Berti, figlio di Berto Adimari e padre della bellacredevasi, era sulle mosse per ritornarsene a Roma, quando un fatto per sé stesso non grave cambiò d''improvviso e **terribilmente** la condizione delle cose."
      ],
      "text/plain": [
       "<IPython.core.display.Markdown object>"
      ]
     },
     "metadata": {},
     "output_type": "display_data"
    },
    {
     "data": {
      "text/markdown": [
       "Trovatili, e fatto loro in succinto ilcredevasi, era sulle mosse per ritornarsene a Roma, quando un fatto per sé stesso non grave cambiò d''improvviso e **terribilmente** la condizione delle cose."
      ],
      "text/plain": [
       "<IPython.core.display.Markdown object>"
      ]
     },
     "metadata": {},
     "output_type": "display_data"
    },
    {
     "data": {
      "text/markdown": [
       "La contessa aveva la testa abbandonata sul guanciale, e di traverso fissava uno sguardo lento e profondo in volto al Baroggi, che, tenendo il labbro sulla mano di lei, la fissava **terribilmente** immoto."
      ],
      "text/plain": [
       "<IPython.core.display.Markdown object>"
      ]
     },
     "metadata": {},
     "output_type": "display_data"
    },
    {
     "data": {
      "text/markdown": [
       "Né qui è tutto--continuò il vecchio corrugando **terribilmente** la fronte;--quel demonio trasse fuori di tasca una funicella e colla fredda e spietata tranquillità del carnefice cheMaddalena, e giunsi a calla Francese, a ponente dell''isola – ove m''aspettavano Basso ed il capitano Cuneo – con uno schifo ed un marinaro – M''imbarcai, ed attraversammo in sei lo stretto che divide la Maddalena dalla Sardegna – Giunti sulal coperto – Nella stessa parte trovavasi una pianta di lentisco che copriva quasi intieramente il minuto schifo – dimodocchè i miei regi guardiani non avean potuto scoprirlo – Giovanni, un giovane Sardo, custode della Goletta –scoli delle Paludi Pontine."
      ],
      "text/plain": [
       "<IPython.core.display.Markdown object>"
      ]
     },
     "metadata": {},
     "output_type": "display_data"
    },
    {
     "data": {
      "text/markdown": [
       "Il prete pigliò la lettera, la guardò; le dita gli bruciavano, le mani gli tremavano; una visione **terribilmente** allettevole di donna mezza nuda gli passò nella fantasia, e gli parve di udire nelle orecchie l'eco seducente e paurosa di una voce che bisbigliasse: Datemi il vostro amore, Don Giuseppe, il vostro amore!"
      ],
      "text/plain": [
       "<IPython.core.display.Markdown object>"
      ]
     },
     "metadata": {},
     "output_type": "display_data"
    },
    {
     "data": {
      "text/markdown": [
       "OTELLO [ergendosi e rivolto alla folla, **terribilmente**]  Fuggite!"
      ],
      "text/plain": [
       "<IPython.core.display.Markdown object>"
      ]
     },
     "metadata": {},
     "output_type": "display_data"
    },
    {
     "data": {
      "text/markdown": [
       "Il colloquio adunque fu sospeso, e per più di un'ora il conte dovette adattarsi a parlar di cose, che deviandolo dal suo pensiero fisso, lo annojavano **terribilmente**."
      ],
      "text/plain": [
       "<IPython.core.display.Markdown object>"
      ]
     },
     "metadata": {},
     "output_type": "display_data"
    },
    {
     "data": {
      "text/markdown": [
       "dignità di assioma nella scienza ha voluto aggravare la tassa del caffè, del tè, e degli spiriti, e tre vide percossa **terribilmente** questa rendita della finanza; nella sola Irlanda scapitò l''erario centodiciassette milioni, e– Oh!"
      ],
      "text/plain": [
       "<IPython.core.display.Markdown object>"
      ]
     },
     "metadata": {},
     "output_type": "display_data"
    },
    {
     "data": {
      "text/markdown": [
       "--Egli ha molto da fare; è sempre occupato... --Vuol dire adunque che ha fattola afferrò alle braccia, le serrò i polsi e scuotendola senza un riguardo, ruggì, accostando a quello di lei il suo volto **terribilmente** impresso dall''ira: --Sciagurata!"
      ],
      "text/plain": [
       "<IPython.core.display.Markdown object>"
      ]
     },
     "metadata": {},
     "output_type": "display_data"
    },
    {
     "data": {
      "text/markdown": [
       "Anzi il nostro Scrooge , che per verità il triste evento non aveva fatto **terribilmente** spasimare , si mostrò sottile uomo d ' affari il giorno stesso dei funerali e lo solennizzò con un negozio co ' fiocchi ."
      ],
      "text/plain": [
       "<IPython.core.display.Markdown object>"
      ]
     },
     "metadata": {},
     "output_type": "display_data"
    },
    {
     "data": {
      "text/markdown": [
       "Sceglie da sè.... Ma essa ha molto buon gusto, e io, invece, punto....un momento a guardarci con curiosità; io, s''intende, non ne facevo caso, ma la mia dama sembrava credere che ne fossi **terribilmente** mortificato, e, passate alfine tutte quante, ha rilodato il mio \"spirito di cortesia\": sua espressione favorita."
      ],
      "text/plain": [
       "<IPython.core.display.Markdown object>"
      ]
     },
     "metadata": {},
     "output_type": "display_data"
    },
    {
     "data": {
      "text/markdown": [
       "Qualche volta mi sedevo al margine d''nella sua camera, quelle robe di lei le stavano lì negli occhi come un vivente rimorso, e le facevano passare le notti **terribilmente** insonni."
      ],
      "text/plain": [
       "<IPython.core.display.Markdown object>"
      ]
     },
     "metadata": {},
     "output_type": "display_data"
    },
    {
     "data": {
      "text/markdown": [
       "Ma, almeno per variet, trovatene delle nuove, che ve n'avverto,  **terribilmente** monotono il vostro partito."
      ],
      "text/plain": [
       "<IPython.core.display.Markdown object>"
      ]
     },
     "metadata": {},
     "output_type": "display_data"
    },
    {
     "data": {
      "text/markdown": [
       "La sua fanciullezza abbandonata le si aggravava sul cuore **terribilmente** , coi piú vivi particolari , rimescolandola tutta ."
      ],
      "text/plain": [
       "<IPython.core.display.Markdown object>"
      ]
     },
     "metadata": {},
     "output_type": "display_data"
    },
    {
     "data": {
      "text/markdown": [
       "(alle Donzelle) A voi Grazie, a voi, che, reggendo il fianco infermo, Pago feste l''amor ch'' oggi mi prese Di circondarmi ancor di queste aperte Aure, ch''io prime respirai, del Mella; Sotto il mio cielo di sedermi, e, trassero fuori delle tasche il bowieknife, ovvero _coltello piegatoio_, che gli americani maneggiano con maestria **terribilmente** celebre: non era tempo di gingillarsi cotesto; però Filippo e Curio, recatesi in mano le rivoltelle a sei colpi, lerispondente al concetto, nè terso, molto meno elegante, perchè dallo idioma sincero della Italia un dì appartati, e nè oggi vogliosi cultori di quello, come coloro, che intendono e vogliono impiombarci nella lingua il parlare proprio."
      ],
      "text/plain": [
       "<IPython.core.display.Markdown object>"
      ]
     },
     "metadata": {},
     "output_type": "display_data"
    },
    {
     "data": {
      "text/markdown": [
       "E mentre la gentile figura d ' Elvira gli sorrideva pietosamente nella fantasia , come una bella visione inondata di mite luce argentea , ecco l ' altra , quella di Giacinta , che gli si piantava di faccia , muta , senza un gesto , **terribilmente** irta di rimproveri & \u0014 Che colpa n ' aveva lui ?"
      ],
      "text/plain": [
       "<IPython.core.display.Markdown object>"
      ]
     },
     "metadata": {},
     "output_type": "display_data"
    },
    {
     "data": {
      "text/markdown": [
       "La leonessa ferita rugg **terribilmente**, e tutta l'assemblea mascolina n'ebbe terrore."
      ],
      "text/plain": [
       "<IPython.core.display.Markdown object>"
      ]
     },
     "metadata": {},
     "output_type": "display_data"
    },
    {
     "data": {
      "text/markdown": [
       "A un miglio dalle mura, pensò bene di liberarnelo, ma ebbe a sgomentarsi **terribilmente** , vedendo ch''esso era livido e non dava parole."
      ],
      "text/plain": [
       "<IPython.core.display.Markdown object>"
      ]
     },
     "metadata": {},
     "output_type": "display_data"
    },
    {
     "data": {
      "text/markdown": [
       "il cronometro del sergente è **terribilmente** in ritardo."
      ],
      "text/plain": [
       "<IPython.core.display.Markdown object>"
      ]
     },
     "metadata": {},
     "output_type": "display_data"
    },
    {
     "data": {
      "text/markdown": [
       "ella si rizzò, prese risoluta un foglio, e scrisse con una febbrile rapidità che mostrava come profondamente, e quasi **terribilmente** , fosse scossa in tutto il suo essere, anima e corpo, e si piegasse, vacillasse sotto il peso delle speranze, delle ansielasciati rivedere.-- Lamberto prese verso S. Marco; e dove poco prima il domandar di sua madre gli metteva si può dir terrore , adesso invece tutto mutato per le parole di Niccolò, non vedeva l''ora di trovarsi con chi gli parlasse di lei e potesse– Calmatevi, figliuola mia, – fece amorevolmente il dottore – io non volevo spaventarvi."
      ],
      "text/plain": [
       "<IPython.core.display.Markdown object>"
      ]
     },
     "metadata": {},
     "output_type": "display_data"
    },
    {
     "data": {
      "text/markdown": [
       "Il governo austriaco infatti ne fu **terribilmente** colpito."
      ],
      "text/plain": [
       "<IPython.core.display.Markdown object>"
      ]
     },
     "metadata": {},
     "output_type": "display_data"
    },
    {
     "data": {
      "text/markdown": [
       "Il suo naso **terribilmente** rosso - diventava un carbone infiammato per beatitudine."
      ],
      "text/plain": [
       "<IPython.core.display.Markdown object>"
      ]
     },
     "metadata": {},
     "output_type": "display_data"
    },
    {
     "data": {
      "text/markdown": [
       "Ah se il mondo fosse come io vorrei; se fosse vero che, siccome talora fantastico, la virtù potesse essere un prodotto della volontà costante di chi la sente e la vede; e fosse errore il credere, darsi nature così **terribilmente** guaste da tornare impossibile il placarle pur sotto i più beneficj influssi... che consolazione sarebbe!..."
      ],
      "text/plain": [
       "<IPython.core.display.Markdown object>"
      ]
     },
     "metadata": {},
     "output_type": "display_data"
    },
    {
     "data": {
      "text/markdown": [
       "Alzando il capo, vidi nel vano della porta Pilato in piedi, gli occhi fissi e divaricati, **terribilmente** pallido, immobile."
      ],
      "text/plain": [
       "<IPython.core.display.Markdown object>"
      ]
     },
     "metadata": {},
     "output_type": "display_data"
    },
    {
     "data": {
      "text/markdown": [
       "Io era **terribilmente** triste."
      ],
      "text/plain": [
       "<IPython.core.display.Markdown object>"
      ]
     },
     "metadata": {},
     "output_type": "display_data"
    },
    {
     "data": {
      "text/markdown": [
       "Milla era **terribilmente** impacciata nella sua lunghissima gonnella di amazzone , e non sapeva raccapezzarsi in nulla ."
      ],
      "text/plain": [
       "<IPython.core.display.Markdown object>"
      ]
     },
     "metadata": {},
     "output_type": "display_data"
    },
    {
     "data": {
      "text/markdown": [
       "Era vero--bisognava crederlo--era **terribilmente** vero!"
      ],
      "text/plain": [
       "<IPython.core.display.Markdown object>"
      ]
     },
     "metadata": {},
     "output_type": "display_data"
    },
    {
     "data": {
      "text/markdown": [
       "De Medici, deplorando le vittorie de'' Turchi, la perdita dell''Ungheria, i pericoli d''Italia e Francia quando **terribilmente** armavansi quei nemici, intanto che i Cristiani compiaceansi della ruina uno dell''altro."
      ],
      "text/plain": [
       "<IPython.core.display.Markdown object>"
      ]
     },
     "metadata": {},
     "output_type": "display_data"
    }
   ],
   "source": [
    "find_sentences_with_keyword(document4, 'terribilmente')"
   ]
  },
  {
   "cell_type": "markdown",
   "id": "a8e16410",
   "metadata": {},
   "source": [
    "### Zeitraum 5: 1901-1950"
   ]
  },
  {
   "cell_type": "code",
   "execution_count": 32,
   "id": "bacf81b2",
   "metadata": {},
   "outputs": [],
   "source": [
    "text5 = ''\n",
    "for i in df5.text:\n",
    "    text5 += i"
   ]
  },
  {
   "cell_type": "code",
   "execution_count": 33,
   "id": "b773ad24",
   "metadata": {},
   "outputs": [],
   "source": [
    "document5 = nltk.sent_tokenize(text5)"
   ]
  },
  {
   "cell_type": "code",
   "execution_count": 34,
   "id": "d45922f1",
   "metadata": {},
   "outputs": [
    {
     "data": {
      "text/markdown": [
       "eravate veramente un uomo senza cuore, gelido e sciupato, al quale restava negli occhi, forse nell''anima, qualcosa di **terribilmente** lontano, che altre portarono via, qualcosa di amaro, di aspro, d''insensibile... Mi piacevate allora, e dopo di alloraUn uomo che non ha portato il frac, che non ha puntato a un tappeto verde, che non sa far stare allegre le signorine, che cosa è?"
      ],
      "text/plain": [
       "<IPython.core.display.Markdown object>"
      ]
     },
     "metadata": {},
     "output_type": "display_data"
    },
    {
     "data": {
      "text/markdown": [
       "E non si sarebbe offesa di quelle parole e di quei gesti in un momento cosìalla sua fama orribile, si convinse che il gagliardo e bel signore doveva essere, per ragion d''invidia, un uomo **terribilmente** calunniato."
      ],
      "text/plain": [
       "<IPython.core.display.Markdown object>"
      ]
     },
     "metadata": {},
     "output_type": "display_data"
    },
    {
     "data": {
      "text/markdown": [
       "sulla mia nuca, il suo odore di fieno nelle narici, incominciai a frugare in tutti gli angoli del mio cervello divenuto **terribilmente** lucido, e credetti di indovinare, di scoprire la verità."
      ],
      "text/plain": [
       "<IPython.core.display.Markdown object>"
      ]
     },
     "metadata": {},
     "output_type": "display_data"
    },
    {
     "data": {
      "text/markdown": [
       "Prediletto nella società galante, spendeva senza parsimonia, con aristocratica eleganza: doveva essere **terribilmente** cinico dietro la sua maschera d''impeccabile gran signore."
      ],
      "text/plain": [
       "<IPython.core.display.Markdown object>"
      ]
     },
     "metadata": {},
     "output_type": "display_data"
    },
    {
     "data": {
      "text/markdown": [
       "Bozzani, quasi per acuire la curiosità dei suoi amici, prese in mano il bicchiere di birra rimasto intatto davanti a lui, bevve lentamente, ne ordinò un altro, e, sodisfatto dell'attenzione suscitata, riprese, con tono di solennità nella voce: -- Mi son vendicato, **terribilmente**, senza incorrere nel pericolo d'un processo e nella pettegola pubblicità dei giornali!"
      ],
      "text/plain": [
       "<IPython.core.display.Markdown object>"
      ]
     },
     "metadata": {},
     "output_type": "display_data"
    },
    {
     "data": {
      "text/markdown": [
       "Quello della libertàassurde e di combinazioni impossibili, di reticenze perfide e di sottintesi indicibili, mentre Mazzini sempre **terribilmente** limpido guidava il battaglione sacro delle idee e delle poche forze rivoluzionarie su per l''erta di una nuova epocaNon dormivo più, benchè nella casa potessi bere quanto volevo: mi davano anche del vino buono."
      ],
      "text/plain": [
       "<IPython.core.display.Markdown object>"
      ]
     },
     "metadata": {},
     "output_type": "display_data"
    },
    {
     "data": {
      "text/markdown": [
       "Mi sembra di ritrovare in lui un poco della mia infanzia; qualche cosa di così fresco, di così spensieratamente gaio...   Adora i giochi e studia pochissimo; suo padre lo sgrida **terribilmente** ed io cerco di aiutarlo fin dove posso."
      ],
      "text/plain": [
       "<IPython.core.display.Markdown object>"
      ]
     },
     "metadata": {},
     "output_type": "display_data"
    },
    {
     "data": {
      "text/markdown": [
       "E prima che potessi rispondere: – Pensa ch''io t''amo ancora **terribilmente** !"
      ],
      "text/plain": [
       "<IPython.core.display.Markdown object>"
      ]
     },
     "metadata": {},
     "output_type": "display_data"
    },
    {
     "data": {
      "text/markdown": [
       "I capricci, sopra le tendine, sono di forma indescrivibile, e fanno **terribilmente** a pugni con tutto il resto."
      ],
      "text/plain": [
       "<IPython.core.display.Markdown object>"
      ]
     },
     "metadata": {},
     "output_type": "display_data"
    },
    {
     "data": {
      "text/markdown": [
       "Ma anche il domani, e gli altri giorni che restava a casa, il babbo non parlava con nessuno, sgridava **terribilmente** le persone di servizio, non rispondeva nemmeno alle carezze delle figliuole."
      ],
      "text/plain": [
       "<IPython.core.display.Markdown object>"
      ]
     },
     "metadata": {},
     "output_type": "display_data"
    },
    {
     "data": {
      "text/markdown": [
       "su confini e ad un tratto ci accorgiamo di essere al di là di ogni finzione, al di là di ogni figurazione: soli... ma **terribilmente** soli nella smisurata profondità del niente."
      ],
      "text/plain": [
       "<IPython.core.display.Markdown object>"
      ]
     },
     "metadata": {},
     "output_type": "display_data"
    },
    {
     "data": {
      "text/markdown": [
       "Approvo anchio, per quanto una colazione fatta insieme renda **terribilmente** borghese linizio di unamicizia come la nostra... Sar un incontro molto savio e molto poco romantico: quale certo non avrebbero sognato due poeti del secolo addietro: ma Voi non siete George Sand ed io non sono Alfred De Musset."
      ],
      "text/plain": [
       "<IPython.core.display.Markdown object>"
      ]
     },
     "metadata": {},
     "output_type": "display_data"
    },
    {
     "data": {
      "text/markdown": [
       "I bambù che crescono abbondantemente fra le canne zuccherine ci hanno riempito la biancheria dei loro peletti neri che pizzicano **terribilmente**."
      ],
      "text/plain": [
       "<IPython.core.display.Markdown object>"
      ]
     },
     "metadata": {},
     "output_type": "display_data"
    },
    {
     "data": {
      "text/markdown": [
       "commuovere da nessuna esagerazione, ma colpita, offesa dall''audacia di quella... signora D''Orea, vuol rispondere e **terribilmente** , ma non trova le parole."
      ],
      "text/plain": [
       "<IPython.core.display.Markdown object>"
      ]
     },
     "metadata": {},
     "output_type": "display_data"
    },
    {
     "data": {
      "text/markdown": [
       "E il suo pensiero tornava a Loris, **terribilmente** bello in quella caverna, quando le aveva gettato addosso Topine, e più **terribilmente** cattivo dopo con quel sorriso dimio salvatore: senza di lui mi avrebbero ucciso e rubato il sacchetto."
      ],
      "text/plain": [
       "<IPython.core.display.Markdown object>"
      ]
     },
     "metadata": {},
     "output_type": "display_data"
    },
    {
     "data": {
      "text/markdown": [
       "Marco doveva accorgersi che qualche cosa di **terribilmente** penoso accadeva dentro di me."
      ],
      "text/plain": [
       "<IPython.core.display.Markdown object>"
      ]
     },
     "metadata": {},
     "output_type": "display_data"
    },
    {
     "data": {
      "text/markdown": [
       "\"Ma Notis è forte e tremendo nelle sue ire e nelle sue vendette, e per quanto io ami quell''almea, mi vendicherò, ma ben **terribilmente** ."
      ],
      "text/plain": [
       "<IPython.core.display.Markdown object>"
      ]
     },
     "metadata": {},
     "output_type": "display_data"
    },
    {
     "data": {
      "text/markdown": [
       "Qualcosa di **terribilmente** feroce stava nell''occhio torbido sotto i fasci de'' muscoli cigliari contratti e fermi come se fossero stati di ferro.ed egli le scacciava, si dibatteva sotto le coltri, mandava gemiti e mugolii tra la barba rabbuffata, soffriva orribilmente , perchè gli pareva di dar ascolto a quelle immaginazioni e di perdersi."
      ],
      "text/plain": [
       "<IPython.core.display.Markdown object>"
      ]
     },
     "metadata": {},
     "output_type": "display_data"
    },
    {
     "data": {
      "text/markdown": [
       "– Alza gli occhiali incommuovere da nessuna esagerazione, ma colpita, offesa dall''audacia di quella... signora D''Orea, vuol rispondere e **terribilmente** , ma non trova le parole."
      ],
      "text/plain": [
       "<IPython.core.display.Markdown object>"
      ]
     },
     "metadata": {},
     "output_type": "display_data"
    },
    {
     "data": {
      "text/markdown": [
       "Pure bramava di allontanarsi da quell''uomo, il cui sguardo era sì freddo; che era sì **terribilmente** logico nelle sue delusioni; vicino al quale si sentiva tanto a disagio."
      ],
      "text/plain": [
       "<IPython.core.display.Markdown object>"
      ]
     },
     "metadata": {},
     "output_type": "display_data"
    },
    {
     "data": {
      "text/markdown": [
       "... voleva dire insomma, che per quanto avessi provato a concedergli tutta me stessa, in me c''era un''altra donna che **terribilmente** non voleva... Anzi non dovete maravigliarvi: sono già quattro anni che vivo a questo modo, fra donne che vendono e, oppressi dal tedio, sbadigliavan o mormoravano tra loro."
      ],
      "text/plain": [
       "<IPython.core.display.Markdown object>"
      ]
     },
     "metadata": {},
     "output_type": "display_data"
    },
    {
     "data": {
      "text/markdown": [
       "Tu nonsenza le carte, ci pensavo il giorno e la notte, e le vicende del giuoco unite al liquore di Bacco mi agitavano il sonno **terribilmente** ."
      ],
      "text/plain": [
       "<IPython.core.display.Markdown object>"
      ]
     },
     "metadata": {},
     "output_type": "display_data"
    },
    {
     "data": {
      "text/markdown": [
       "-- E per ciò tu.... -- Io, caro Nelli, mi son vendicato più **terribilmente**; nessuno di voi immagina come."
      ],
      "text/plain": [
       "<IPython.core.display.Markdown object>"
      ]
     },
     "metadata": {},
     "output_type": "display_data"
    },
    {
     "data": {
      "text/markdown": [
       "Pennacchi crollanti di fumo greve e grassoNatura, prese nei lacci e nelle reti delle formole chimiche e meccaniche, e così asservite all''uomo, si vendicano **terribilmente** , balzandoci alla gola con la selvaggia irruenza dei cani arrabbiati."
      ],
      "text/plain": [
       "<IPython.core.display.Markdown object>"
      ]
     },
     "metadata": {},
     "output_type": "display_data"
    },
    {
     "data": {
      "text/markdown": [
       "Si lasciò andare sul divanod''un bicchiere troppo colmo, nella fuggitiva illusione d''una parola d''amore, l''uomo che saprà d''un tratto farle **terribilmente** male, contorcere fino allo spasimo la sua perduta e bianca nudità."
      ],
      "text/plain": [
       "<IPython.core.display.Markdown object>"
      ]
     },
     "metadata": {},
     "output_type": "display_data"
    },
    {
     "data": {
      "text/markdown": [
       "; sul pergamo apparve la figura di un monaco, tetra e smorta, con occhi freddi come l''argento, in una devastata faccia **terribilmente** incisa di drammaticità, che mi fece pensare agli occhi fermi, alla bocca perversa, alle piccole mani crudeli deldi Sciampagna, il bicchiere che brillava come un fiore di cristallo fra le sue minuscole dita,–e questa fu la cosa molto leggiadra ch''ella fece per quello straniero: gli mandò, prima un sorriso, poi si portò il bicchiere vicino alla bocca,Al congresso di Parigi il Walewski aveva avuto occasione di conoscere il Cavour, quando, difendendo egli i diritti dell''Austria, si sentì rispondere \"con molto foco\" da quel piccolo ministro: \"io vi assicuro che se avessi 180 000 uomini a mia disposizione, farei immediatamente la guerra all''Austria\"."
      ],
      "text/plain": [
       "<IPython.core.display.Markdown object>"
      ]
     },
     "metadata": {},
     "output_type": "display_data"
    },
    {
     "data": {
      "text/markdown": [
       "quel che era dietro, nella notte, ora le pareva sogno confuso; s''esalava il fervore del vóto; la volontà, tesa così **terribilmente** fino a quel punto, s''allentava, s''annientava."
      ],
      "text/plain": [
       "<IPython.core.display.Markdown object>"
      ]
     },
     "metadata": {},
     "output_type": "display_data"
    },
    {
     "data": {
      "text/markdown": [
       "Siamo ripiegati su noi stessi, malati, **terribilmente** malati."
      ],
      "text/plain": [
       "<IPython.core.display.Markdown object>"
      ]
     },
     "metadata": {},
     "output_type": "display_data"
    },
    {
     "data": {
      "text/markdown": [
       "Ma poi pensando d'' aver qualche cosa di più interessante pel capo, ripigliò ridendo:  aggrappati a sporgenze rocciose quasi impercettibili, sospesi a mezza costa con un abisso sul capo ed uno ai piedi, **terribilmente** pittoreschi, dei quali l''estate nasconde il miserrimo aspetto e l''inverno rivela l''esistenza sempre pericolante.Sono arrivato di buon mattino, ho viaggiato tutta notte... non saprei neanche dove avrei potuto averla sentita."
      ],
      "text/plain": [
       "<IPython.core.display.Markdown object>"
      ]
     },
     "metadata": {},
     "output_type": "display_data"
    },
    {
     "data": {
      "text/markdown": [
       "Prendo il fucile per uccidere, ma… sono umani, così **terribilmente** umani che non so premere il grilletto."
      ],
      "text/plain": [
       "<IPython.core.display.Markdown object>"
      ]
     },
     "metadata": {},
     "output_type": "display_data"
    },
    {
     "data": {
      "text/markdown": [
       "La poesia italiana del Cinquecento perì nella scuola sotto il peso della nuovaMargherita, e la speranza rassegnata di Alfredo si esprimono col medesimo canto, mentre sentimento e parole sono così **terribilmente** opposti?"
      ],
      "text/plain": [
       "<IPython.core.display.Markdown object>"
      ]
     },
     "metadata": {},
     "output_type": "display_data"
    },
    {
     "data": {
      "text/markdown": [
       "Più che nemico degli altri, sono **terribilmente** il mio; gli altri mi fanno pena, laddove di me stesso mi sdegno."
      ],
      "text/plain": [
       "<IPython.core.display.Markdown object>"
      ]
     },
     "metadata": {},
     "output_type": "display_data"
    },
    {
     "data": {
      "text/markdown": [
       "Il cielo azzurro non era tuttavia lieto e doveva riuscire **terribilmente** feroce, a quanti soffrivano; di tanto in tanto, dei periodi di vento furioso facevano discendere la temperatura,--Lei è molto gentile."
      ],
      "text/plain": [
       "<IPython.core.display.Markdown object>"
      ]
     },
     "metadata": {},
     "output_type": "display_data"
    },
    {
     "data": {
      "text/markdown": [
       "Ancora una volta gli uomini , per distrarsi , avevano messo creature vive sul palcoscenico della loro romantica fantasia e , diciamo la verità , ci si erano **terribilmente** divertiti ."
      ],
      "text/plain": [
       "<IPython.core.display.Markdown object>"
      ]
     },
     "metadata": {},
     "output_type": "display_data"
    },
    {
     "data": {
      "text/markdown": [
       "Pallida e fredda come un cadavere, Rachele Cabib non aveva vita che negli occhi, i quali guardavano **terribilmente** innanzi a sè."
      ],
      "text/plain": [
       "<IPython.core.display.Markdown object>"
      ]
     },
     "metadata": {},
     "output_type": "display_data"
    },
    {
     "data": {
      "text/markdown": [
       "+IBM- fece il brigante, torcendo la bocca +IBM- cotesto gingillo +AOg- **terribilmente** pericoloso, e...   +IBQ- Avreste paura per caso?"
      ],
      "text/plain": [
       "<IPython.core.display.Markdown object>"
      ]
     },
     "metadata": {},
     "output_type": "display_data"
    },
    {
     "data": {
      "text/markdown": [
       "Disteso sula mole delle carni, per un impeto di passione e di gelosia così **terribilmente** incomposto che Passacantando ne rimase atterrito ."
      ],
      "text/plain": [
       "<IPython.core.display.Markdown object>"
      ]
     },
     "metadata": {},
     "output_type": "display_data"
    },
    {
     "data": {
      "text/markdown": [
       "Era una cosa **terribilmente** piena di mortificazione per la signora: quell''uomo, il prof. Marchi, gelido, meccanico, irreprensibile nel vestito– Senta, Missiroli – gli chiesi –, non ha lei così, per capo, per una specie di intuizione sensitiva dell''epidermide, il terrore di un enorme peso sul collo?"
      ],
      "text/plain": [
       "<IPython.core.display.Markdown object>"
      ]
     },
     "metadata": {},
     "output_type": "display_data"
    },
    {
     "data": {
      "text/markdown": [
       "Se Gregorio fuonnipotente gerarchia, è diventata la negazione di sè stessa, ed ha data al mondo quella società feroce, selvaggia, **terribilmente** appassionata, senza pietà e senza amore, di cui la Divina Commedia e i drammi di Shakespeare ci presentano il quadro, sebbene inclinasse ai monarchiani, trovò una formola di conciliazione che non accontentò i partiti rivali, ma che, **terribilmente** oscura e tutta composta di frasi contradditorie, pose il mistero e l''incomprensibile come elementi essenziali dellasuo fondatore, era la pura espressione di un sentimento morale, l''aspirazione ad un ideale di giustizia, una protesta **terribilmente** eloquente nella sua mitezza contro le iniquità del mondo."
      ],
      "text/plain": [
       "<IPython.core.display.Markdown object>"
      ]
     },
     "metadata": {},
     "output_type": "display_data"
    },
    {
     "data": {
      "text/markdown": [
       "di incomparabile potenza e le disperate grida noi non le abbiamo udite, perchè suonava così giocondamente, così **terribilmente** la \"Marsigliese\" che non si potevano udire!"
      ],
      "text/plain": [
       "<IPython.core.display.Markdown object>"
      ]
     },
     "metadata": {},
     "output_type": "display_data"
    },
    {
     "data": {
      "text/markdown": [
       "neppure pensando a quel servo imbecille, che, secondo voi, riconoscendomi per la marchesa di Montefranco, mi avrebbe **terribilmente** compromessa?"
      ],
      "text/plain": [
       "<IPython.core.display.Markdown object>"
      ]
     },
     "metadata": {},
     "output_type": "display_data"
    },
    {
     "data": {
      "text/markdown": [
       "Ma io divago **terribilmente** , o Personaggi della Commedia, e non mi ricordo più che voi soffriate per l''impazienza di conoscere con esattezza chiMa nel suo buon senso di bambino savio e che avea studiato, capì che tutte codeste fantasie aveano una certa parentela con un sentimento brutto che avea persino paura di nominare – la paura!"
      ],
      "text/plain": [
       "<IPython.core.display.Markdown object>"
      ]
     },
     "metadata": {},
     "output_type": "display_data"
    },
    {
     "data": {
      "text/markdown": [
       "DON FIORENZO (in atto di gettarsi addosso a Barbarello, urla **terribilmente** :) Assassino!"
      ],
      "text/plain": [
       "<IPython.core.display.Markdown object>"
      ]
     },
     "metadata": {},
     "output_type": "display_data"
    },
    {
     "data": {
      "text/markdown": [
       "Di solito innocui quando sono isolati e lasciati in pace, gli ippopotami diventano **terribilmente** aggressivi quando sono attaccati in branco."
      ],
      "text/plain": [
       "<IPython.core.display.Markdown object>"
      ]
     },
     "metadata": {},
     "output_type": "display_data"
    },
    {
     "data": {
      "text/markdown": [
       "Ma invece il suo freddo cuore dormiva nei sensi **terribilmente** innamorati; ella si avvolgeva nel vizio con una specie di opaca ira, voleva essere una dura e splendida cortigiana, perPer quanto io amassi i miei nonni, è certo che Cinzia valeva di più, anche per ragione di età, al mio cospetto."
      ],
      "text/plain": [
       "<IPython.core.display.Markdown object>"
      ]
     },
     "metadata": {},
     "output_type": "display_data"
    },
    {
     "data": {
      "text/markdown": [
       "eravate veramente un uomo senza cuore, gelido e sciupato, al quale restava negli occhi, forse nell''anima, qualcosa di **terribilmente** lontano, che altre portarono via, qualcosa di amaro, di aspro, d''insensibile... Mi piacevate allora, e dopo di alloramistero incombesse su lei."
      ],
      "text/plain": [
       "<IPython.core.display.Markdown object>"
      ]
     },
     "metadata": {},
     "output_type": "display_data"
    },
    {
     "data": {
      "text/markdown": [
       "– No, per carità, nessuna dimostrazione.... Me la ricordo quella dell''anno passato.... – Madi una nuova illusione che prendeva il posto dell''altra, che mi avrebbe ingannato come l''altra, che mi avrebbe fatto **terribilmente** soffrire e vanamente, come l''altra?"
      ],
      "text/plain": [
       "<IPython.core.display.Markdown object>"
      ]
     },
     "metadata": {},
     "output_type": "display_data"
    },
    {
     "data": {
      "text/markdown": [
       "tavolini, egli tendeva l''orecchio, col capo rovesciato sulla spalliera della sedia a braccioli, gli occhi chiusi, **terribilmente** pallido nella toga nera; tendeva l''orecchio per afferrare da lontano una nota di quell''insolito cantare di sua moglieI lavori del D''Annunzio nella traduzione del d''Herelle si sono trovati come a casa loro; il traduttore non ha dovuto penare molto; gli è bastato togliere in prestito a questo o a quello scrittore francese decadente certe forme in voga tra i seguaci della letteratura cosmopolita (or ora mi scappava dalla penna: della massoneria letteraria cosmopolita) e il colpo è riuscito."
      ],
      "text/plain": [
       "<IPython.core.display.Markdown object>"
      ]
     },
     "metadata": {},
     "output_type": "display_data"
    },
    {
     "data": {
      "text/markdown": [
       "Il piano organizzato da quell'uomo è stato così magistralmente combinato, è stato tanto **terribilmente** condotto, che io sono chiuso in una rete da cui non arrivo a distrigarmi."
      ],
      "text/plain": [
       "<IPython.core.display.Markdown object>"
      ]
     },
     "metadata": {},
     "output_type": "display_data"
    },
    {
     "data": {
      "text/markdown": [
       "Per quanto tocca in special modo la interdipendenza delle nazioni tra di loro, e della vita e della prosperità di ciascuna da quella delle altre, l'ultima grande guerra ha fornito anche a chi poteva dubitarne una prova **terribilmente** patente e ha lasciato intravedere quanto più larga e più grave conferma preparerebbe una guerra avvenire."
      ],
      "text/plain": [
       "<IPython.core.display.Markdown object>"
      ]
     },
     "metadata": {},
     "output_type": "display_data"
    },
    {
     "data": {
      "text/markdown": [
       "Da parecchie notti mi è impossibile dormire, si è **terribilmente** ingrossato, non sono più dolori, ma spasimi; la natura stessa mi fa sentire il bisogno di aprire una via al male chel''incomoda visita di una dirottissima pioggia."
      ],
      "text/plain": [
       "<IPython.core.display.Markdown object>"
      ]
     },
     "metadata": {},
     "output_type": "display_data"
    },
    {
     "data": {
      "text/markdown": [
       "Natura, prese nei lacci e nelle reti delle formole chimiche e meccaniche, e così asservite all''uomo, si vendicano **terribilmente** , balzandoci alla gola con la selvaggia irruenza dei cani arrabbiati."
      ],
      "text/plain": [
       "<IPython.core.display.Markdown object>"
      ]
     },
     "metadata": {},
     "output_type": "display_data"
    },
    {
     "data": {
      "text/markdown": [
       "all''udienza del 28 Aprile: Difensore Piccoli: Da che cosa arguisce il teste, che il Fascio di Piana dei Greci fosse così **terribilmente** provocatore?"
      ],
      "text/plain": [
       "<IPython.core.display.Markdown object>"
      ]
     },
     "metadata": {},
     "output_type": "display_data"
    },
    {
     "data": {
      "text/markdown": [
       "Dio ècavalieri, condotti dal vecchio Abu Ben Gileli, il caid delle cinquanta bastonate, il quale mi lancia uno sguardo **terribilmente** espressivo rasente la schiena."
      ],
      "text/plain": [
       "<IPython.core.display.Markdown object>"
      ]
     },
     "metadata": {},
     "output_type": "display_data"
    },
    {
     "data": {
      "text/markdown": [
       "Il suo volto era **terribilmente** livido; ella balzò in piedi arretrando e questo atto la tradì."
      ],
      "text/plain": [
       "<IPython.core.display.Markdown object>"
      ]
     },
     "metadata": {},
     "output_type": "display_data"
    },
    {
     "data": {
      "text/markdown": [
       "La fronte dell''inventore si corrugò **terribilmente** ."
      ],
      "text/plain": [
       "<IPython.core.display.Markdown object>"
      ]
     },
     "metadata": {},
     "output_type": "display_data"
    },
    {
     "data": {
      "text/markdown": [
       "Ma noi, Madlen,–voi ed io, Madlen,–certo non... voleva dire insomma, che per quanto avessi provato a concedergli tutta me stessa, in me c''era un''altra donna che **terribilmente** non voleva... Anzi non dovete maravigliarvi: sono già quattro anni che vivo a questo modo, fra donne che vendono eErano due perfette cortigiane, due creature gloriose di tutto lo sfarzo che può essere nella bellezza umana, ed avevano dato sè stesse al piacere altrui."
      ],
      "text/plain": [
       "<IPython.core.display.Markdown object>"
      ]
     },
     "metadata": {},
     "output_type": "display_data"
    },
    {
     "data": {
      "text/markdown": [
       "è così mobile e sincera, così pronta e fugace, che le lagrime si mescolano al riso e l''entusiasmo all''ironia; spesso , anzi troppo spesso, lo si vede sottrarsi alla commozione di una tenerezza con un motto osceno, o ergersi da unail nome della contessa Savina come la cosa più naturale del mondo... ne sono rimasto colpito... e mi hai fatto **terribilmente** soffrire.... Ora che è passata, ti prego di dirmi, come mai ti è entrata in testa una simile dabbenaggine!..."
      ],
      "text/plain": [
       "<IPython.core.display.Markdown object>"
      ]
     },
     "metadata": {},
     "output_type": "display_data"
    },
    {
     "data": {
      "text/markdown": [
       "Singolare speranza davvero, cotesta, di divenir sovrano dell''Italia unita mediante la \"lealtà\" diè contro l''amore, dicono, perchè gli antepone la proprietà, il denaro, il ventre; viceversa l''amore si vendica **terribilmente** , producendo drammi, tragedie, rovine d''ogni sorta e affermando così la propria onnipotenza."
      ],
      "text/plain": [
       "<IPython.core.display.Markdown object>"
      ]
     },
     "metadata": {},
     "output_type": "display_data"
    },
    {
     "data": {
      "text/markdown": [
       "Nelle parrocchie in cui tutto il territorio eraIo voglio dire piuttosto che la decadenza stessa , nel significato che letterariamente si può dare alla parola , ha ancora oggi un compito \" rivoluzionario \" rispetto alle condizioni culturali **terribilmente** arretrate di una borghesia incapace , nella sua grande massa , di vergognarsi ; e che l ' individualismo , in senso non soltanto letterario , o l ' idealismo , in senso ampiamente culturale , hanno ancora , essi pure , un compito rivoluzionario se si accompagnano a una sincera volontà di trasformazione del mondo ."
      ],
      "text/plain": [
       "<IPython.core.display.Markdown object>"
      ]
     },
     "metadata": {},
     "output_type": "display_data"
    },
    {
     "data": {
      "text/markdown": [
       "Ezio Cami, fu per lunghi mesi, sotto l''ossessione di quella scena di delusione che aveva offeso il suo amor proprio e il suo amore, e che lo faceva **terribilmente** soffrire notte e giorno, quantunque egli tentasse ogni mezzo di distrarsi, anche perchè colei non potesse rallegrarsi degli effetti dell''opera sua, e non lo riputasse sua vittima."
      ],
      "text/plain": [
       "<IPython.core.display.Markdown object>"
      ]
     },
     "metadata": {},
     "output_type": "display_data"
    },
    {
     "data": {
      "text/markdown": [
       "Come la sua fronte si rivolgeva **terribilmente** bianca!"
      ],
      "text/plain": [
       "<IPython.core.display.Markdown object>"
      ]
     },
     "metadata": {},
     "output_type": "display_data"
    },
    {
     "data": {
      "text/markdown": [
       "Io non son stata gelosa, finchè ti ebbi: lo diverrò **terribilmente** quando sarai lontano."
      ],
      "text/plain": [
       "<IPython.core.display.Markdown object>"
      ]
     },
     "metadata": {},
     "output_type": "display_data"
    },
    {
     "data": {
      "text/markdown": [
       "Domando io se sono cose da contare a un capitano di cavalleria, che fa vita monastica e rimpiange **terribilmente** l''eterno femminino!"
      ],
      "text/plain": [
       "<IPython.core.display.Markdown object>"
      ]
     },
     "metadata": {},
     "output_type": "display_data"
    },
    {
     "data": {
      "text/markdown": [
       "In me il ricordo di quella giornata è **terribilmente** lucido e angoscioso, come se al solo parlarne la rivivessi intera in ogni suo minuto."
      ],
      "text/plain": [
       "<IPython.core.display.Markdown object>"
      ]
     },
     "metadata": {},
     "output_type": "display_data"
    },
    {
     "data": {
      "text/markdown": [
       "L''antica Italia dei guelfi e dei ghibellini, così inesaustamente e **terribilmente** guerriera, non era certo riconoscibile in questa ultima Italia di cavalieri serventi e di eserciti inservibili, ove, tutte le dita pizzicavano le corde con inconscia veemenza; Niccolini stava intontito, il pubblico era perduto di terrore ."
      ],
      "text/plain": [
       "<IPython.core.display.Markdown object>"
      ]
     },
     "metadata": {},
     "output_type": "display_data"
    },
    {
     "data": {
      "text/markdown": [
       "volto al volto di Ardea che quasi ha l''aria di baciarlo: certo, almeno, lo bacia con l''intenzione... Ma l''intenzione dà **terribilmente** sui nervi di Mimì che spezza su la tavola il suo bicchiere e, saltata su in piedi, grida: – Scimmia ossigenata, la finisca– esclamò, – come potremo continuare a vivere in questo modo?"
      ],
      "text/plain": [
       "<IPython.core.display.Markdown object>"
      ]
     },
     "metadata": {},
     "output_type": "display_data"
    },
    {
     "data": {
      "text/markdown": [
       "già a Pietroburgo, ripresa dal bisogno di vivere e di brillare dopo quella lunga solitudine nel castello, ove si era **terribilmente** annoiata."
      ],
      "text/plain": [
       "<IPython.core.display.Markdown object>"
      ]
     },
     "metadata": {},
     "output_type": "display_data"
    },
    {
     "data": {
      "text/markdown": [
       "Quale differenzae di Strauss, non gli parve più che ben piccola; altre rivolte gli si accesero in cuore, altri odi lo sollevarono **terribilmente** in alto contro tutte le autorità della terra."
      ],
      "text/plain": [
       "<IPython.core.display.Markdown object>"
      ]
     },
     "metadata": {},
     "output_type": "display_data"
    },
    {
     "data": {
      "text/markdown": [
       "è tale da farmi impossibile ogni godimento: ogni menomo piacere mi ammazzerebbe\"; e l''infelice trova un''espressione **terribilmente** efficace per dipingere la sua miseria: \"Se non voglio morire, bisogna ch''io non viva....\" Dovendo tornare a Firenzepresso il gramo letto."
      ],
      "text/plain": [
       "<IPython.core.display.Markdown object>"
      ]
     },
     "metadata": {},
     "output_type": "display_data"
    },
    {
     "data": {
      "text/markdown": [
       "Le razze della gallina domestica.lisce, quelle del collo si rizzano smisuratamente, l''occhio dapprima languido di languore orientale diventa **terribilmente** truce, il povero Don Giovanni del pollaio batte le ali e guarda fisso l''avversario."
      ],
      "text/plain": [
       "<IPython.core.display.Markdown object>"
      ]
     },
     "metadata": {},
     "output_type": "display_data"
    },
    {
     "data": {
      "text/markdown": [
       "Provava un malessere inesplicabile, le tempia gli ardevano **terribilmente** , tuttavia nei suoi occhi eravi un''espressione di volontà frenetica, che pareva dovesse tutto piegare a lui dinanzi.Colle gambe per aria da un lato, Colle gambe per aria dall''altro, Cade a terra il meschino soldato Che l''amante al paese lasciò."
      ],
      "text/plain": [
       "<IPython.core.display.Markdown object>"
      ]
     },
     "metadata": {},
     "output_type": "display_data"
    },
    {
     "data": {
      "text/markdown": [
       "La predicazione di Gesù, tanto originale pel soffio, sebbene inclinasse ai monarchiani, trovò una formola di conciliazione che non accontentò i partiti rivali, ma che, **terribilmente** oscura e tutta composta di frasi contradditorie, pose il mistero e l''incomprensibile come elementi essenziali delladegli dei, occupai il paese dei Salii, e scacciai i Camavi, avendo predati molti buoi e donne e fanciulli78."
      ],
      "text/plain": [
       "<IPython.core.display.Markdown object>"
      ]
     },
     "metadata": {},
     "output_type": "display_data"
    },
    {
     "data": {
      "text/markdown": [
       "Era livido, con la fisonomia contratta, gli occhi **terribilmente** spalancati."
      ],
      "text/plain": [
       "<IPython.core.display.Markdown object>"
      ]
     },
     "metadata": {},
     "output_type": "display_data"
    },
    {
     "data": {
      "text/markdown": [
       "Il suo caro amico, monsieur le duc, si era **terribilmente** compromesso!"
      ],
      "text/plain": [
       "<IPython.core.display.Markdown object>"
      ]
     },
     "metadata": {},
     "output_type": "display_data"
    },
    {
     "data": {
      "text/markdown": [
       "Alcuni barcaiuoli, sfidando il fuoco degli insorti che cresceva **terribilmente** , si slanciarono ai remi, ma caddero a mezzo ponte."
      ],
      "text/plain": [
       "<IPython.core.display.Markdown object>"
      ]
     },
     "metadata": {},
     "output_type": "display_data"
    },
    {
     "data": {
      "text/markdown": [
       "il nome della contessa Savina come la cosa più naturale del mondo... ne sono rimasto colpito... e mi hai fatto **terribilmente** soffrire.... Ora che è passata, ti prego di dirmi, come mai ti è entrata in testa una simile dabbenaggine!..."
      ],
      "text/plain": [
       "<IPython.core.display.Markdown object>"
      ]
     },
     "metadata": {},
     "output_type": "display_data"
    },
    {
     "data": {
      "text/markdown": [
       "Loris salvo, ella sarebbe morta per lui, **terribilmente** bella nella gloria di quell''attentato non riuscito, e nel silenzio sui propri complici, su lui, che la vendicherebbe.Ma perchè tutti ci abbandonano anche prima?"
      ],
      "text/plain": [
       "<IPython.core.display.Markdown object>"
      ]
     },
     "metadata": {},
     "output_type": "display_data"
    },
    {
     "data": {
      "text/markdown": [
       "Allora egli segnò qualche ruga sul volto della sua eroina e mise la medaglia di deputato sul petto del suofiglio, immolata la vita di Henri a una apparente infamia di alcune ore, avrebbe da vigliacco, da plebeo, compromessa **terribilmente** la Baronessa."
      ],
      "text/plain": [
       "<IPython.core.display.Markdown object>"
      ]
     },
     "metadata": {},
     "output_type": "display_data"
    },
    {
     "data": {
      "text/markdown": [
       "–  la propria parte di signore, parve giganteggiare fra le massime figure del tempo, tra i Visconti e gli Scaligeri, così **terribilmente** trionfanti nella storica realtà."
      ],
      "text/plain": [
       "<IPython.core.display.Markdown object>"
      ]
     },
     "metadata": {},
     "output_type": "display_data"
    },
    {
     "data": {
      "text/markdown": [
       "– Sai, ero gelosa... **terribilmente** !..."
      ],
      "text/plain": [
       "<IPython.core.display.Markdown object>"
      ]
     },
     "metadata": {},
     "output_type": "display_data"
    },
    {
     "data": {
      "text/markdown": [
       "Il cielo azzurro non era tuttavia lieto e doveva riuscire **terribilmente** feroce, a quanti soffrivano; di tanto in tanto, dei periodi di vento furioso facevano discendere la temperatura, portavano ancora dei brividi, e disordinavano le abitudini di chi aveva gi salutata quella primavera fallace."
      ],
      "text/plain": [
       "<IPython.core.display.Markdown object>"
      ]
     },
     "metadata": {},
     "output_type": "display_data"
    },
    {
     "data": {
      "text/markdown": [
       "Come avevo, vivente, potutoil volto contro il volto, ed opprimendolo con tutta la mole delle carni, per un impeto di passione e di gelosia così **terribilmente** incomposto che Passacantando ne rimase atterrito."
      ],
      "text/plain": [
       "<IPython.core.display.Markdown object>"
      ]
     },
     "metadata": {},
     "output_type": "display_data"
    },
    {
     "data": {
      "text/markdown": [
       "Ma, sai,per l''abitudine di osservare e di pensare, ma poco addentro nella scienza; per lui povero prete campagnuolo, ciò era **terribilmente** difficile."
      ],
      "text/plain": [
       "<IPython.core.display.Markdown object>"
      ]
     },
     "metadata": {},
     "output_type": "display_data"
    },
    {
     "data": {
      "text/markdown": [
       "che ci fosse voluto tanto a sradicar dalla memoria del giovinotto la mala femmina di cui i di Reana avevano un così grande sgomento ; la ferita era bell''e rimarginata fin dall''arrivo di Guido a Venezia e bisognava pur riconoscere che la sirena nontavolini, egli tendeva l''orecchio, col capo rovesciato sulla spalliera della sedia a braccioli, gli occhi chiusi, **terribilmente** pallido nella toga nera; tendeva l''orecchio per afferrare da lontano una nota di quell''insolito cantare di sua moglieun altro, e, sodisfatto dell''attenzione suscitata, riprese, con tono di solennità nella voce: -- Mi son vendicato, **terribilmente** , senza incorrere nel pericolo d''un processo e nella pettegola pubblicità dei giornali!"
      ],
      "text/plain": [
       "<IPython.core.display.Markdown object>"
      ]
     },
     "metadata": {},
     "output_type": "display_data"
    },
    {
     "data": {
      "text/markdown": [
       "Questa donna diventa rossa come di fuoco, poi impallidisce **terribilmente** ; poi con voce strozzata, acre, sprezzante, dà a quest''uomo dell''indegno e del vile; e come egli, agghiacciato,\"Ma via, non lo ripetete; non vi fa più dunque piacere questo potere, che sebbene sia il quarto, incute tanto timore a tutti gli altri?"
      ],
      "text/plain": [
       "<IPython.core.display.Markdown object>"
      ]
     },
     "metadata": {},
     "output_type": "display_data"
    },
    {
     "data": {
      "text/markdown": [
       "alla sua fama orribile, si convinse che il gagliardo e bel signore doveva essere, per ragion d''invidia, un uomo **terribilmente** calunniato."
      ],
      "text/plain": [
       "<IPython.core.display.Markdown object>"
      ]
     },
     "metadata": {},
     "output_type": "display_data"
    },
    {
     "data": {
      "text/markdown": [
       ", con parole d''amore tra i singhiozzi, con laceramenti così acuti di voce rotta e con una espressione di dolore così **terribilmente** bestiale che per tutti gli astanti corse un brivido e tutti rivolsero altrove la faccia."
      ],
      "text/plain": [
       "<IPython.core.display.Markdown object>"
      ]
     },
     "metadata": {},
     "output_type": "display_data"
    },
    {
     "data": {
      "text/markdown": [
       "Un subitaneo spavento la prese, a mezzo: ella barcollò, agitò le mani, si rivolse verso il letto, mise tre o quattro passi precipitosi,il volto contro il volto, ed opprimendolo con tutta la mole delle carni, per un impeto di passione e di gelosia così **terribilmente** incomposto che Passacantando ne rimase atterrito."
      ],
      "text/plain": [
       "<IPython.core.display.Markdown object>"
      ]
     },
     "metadata": {},
     "output_type": "display_data"
    },
    {
     "data": {
      "text/markdown": [
       "Voglio la luce, voglio la luce, voglio il sole, il sole._ Abbiamo fatto mettere delle lampade ad arco.via da te, una sera ho chiuso gli occhi, ed ho sentito la sua bocca fredda, la sua bocca pallida... pesare, pesare **terribilmente** su la mia...\" Forse non l''ascoltavo nemmeno più."
      ],
      "text/plain": [
       "<IPython.core.display.Markdown object>"
      ]
     },
     "metadata": {},
     "output_type": "display_data"
    },
    {
     "data": {
      "text/markdown": [
       "E tutta la sensibilità che ancor viveva in lui, fremeva di sgomento all''idea di essere stato ripreso da quel fascino; non si sentiva più la forza morale per quelle lotte e il risultato nonAl bivio formidabile: di vivere peccando o di.....  bacio la sua bocca ansante, sollevò il corpo su le due braccia tese: gli occhi suoi bruciavano di febbre, il suo viso era **terribilmente** contraffatto, i suoi polsi tremavano."
      ],
      "text/plain": [
       "<IPython.core.display.Markdown object>"
      ]
     },
     "metadata": {},
     "output_type": "display_data"
    },
    {
     "data": {
      "text/markdown": [
       "d''uno degli interminabili discorsi sconclusionati della signora Giuditta, le si vedevano tutti i denti irrompere **terribilmente** fuori dalla bocca; ed ella s''affrettava con ambe le mani a respingerli dentro, e li rimetteva a posto a bocca chiusa, conPer questa stretta connessione fra gli atti di volere e gli effetti pantomimici dell''emozione noi dobbiamo nello sviluppo dei processi volitivi considerare come originari, quelli che si risolvono in certi movimenti corporei, che hanno la loro origine nell''antecedente corso di rappresentazioni o sentimenti, e in atti di volere esterni."
      ],
      "text/plain": [
       "<IPython.core.display.Markdown object>"
      ]
     },
     "metadata": {},
     "output_type": "display_data"
    },
    {
     "data": {
      "text/markdown": [
       "è creduto di amare, ad una creatura fragile come l''ambra e pallida come la cera, è mai possibile tenere un discorso così **terribilmente** logico e crudele?"
      ],
      "text/plain": [
       "<IPython.core.display.Markdown object>"
      ]
     },
     "metadata": {},
     "output_type": "display_data"
    },
    {
     "data": {
      "text/markdown": [
       "Egli vedeva sempre il principe, ritto colla faccia gialla di malato **terribilmente** immobile, girare uno sguardo su tutti quegli invitati contandoli; quanti erano?"
      ],
      "text/plain": [
       "<IPython.core.display.Markdown object>"
      ]
     },
     "metadata": {},
     "output_type": "display_data"
    },
    {
     "data": {
      "text/markdown": [
       "Una luce quasi fumida ondeggiò sugli occhi del principe.E il suo pensiero tornava a Loris, **terribilmente** bello in quella caverna, quando le aveva gettato addosso Topine, e più **terribilmente** cattivo dopo con quel sorriso di scherno."
      ],
      "text/plain": [
       "<IPython.core.display.Markdown object>"
      ]
     },
     "metadata": {},
     "output_type": "display_data"
    },
    {
     "data": {
      "text/markdown": [
       "+IBQ- Ve l+IBk-ho detto... vendicarmi **terribilmente**+ACE-...   +IBQ- Tutte queste sciocchezze non ci spiegano in qual modo tu sia riuscito, con i tuoi luridi compagni a seguirci fin qui... nel regno della Gran Luna... nel mio regno+ACE-   +IBQ- Debbo rispondere?"
      ],
      "text/plain": [
       "<IPython.core.display.Markdown object>"
      ]
     },
     "metadata": {},
     "output_type": "display_data"
    },
    {
     "data": {
      "text/markdown": [
       "Loris rosso, grondante di sudore, colla lanterna, che gli riverberava sul volto, le parve **terribilmente** sinistro."
      ],
      "text/plain": [
       "<IPython.core.display.Markdown object>"
      ]
     },
     "metadata": {},
     "output_type": "display_data"
    },
    {
     "data": {
      "text/markdown": [
       "Nessun pittore ha mai dipinto un''Ofelia così **terribilmente** vera da poter reggere il paragone di questa fotografia della Beppina."
      ],
      "text/plain": [
       "<IPython.core.display.Markdown object>"
      ]
     },
     "metadata": {},
     "output_type": "display_data"
    },
    {
     "data": {
      "text/markdown": [
       "Provava un malessere inesplicabile, le tempia gli ardevano **terribilmente** , tuttavia nei suoi occhi eravi un''espressione di volontà frenetica, che pareva dovesse tutto piegare a lui dinanzi.decenti\"."
      ],
      "text/plain": [
       "<IPython.core.display.Markdown object>"
      ]
     },
     "metadata": {},
     "output_type": "display_data"
    },
    {
     "data": {
      "text/markdown": [
       "Guardandola, mi ricordavo con una sensazione **terribilmente** chiara il sapore che avevano le sue labbra nei baci d''amore; qualcosa di lei passava traverso le mie vene prodigandomiSo di non essere nelle sue buone grazie e l''ho lasciata in pace."
      ],
      "text/plain": [
       "<IPython.core.display.Markdown object>"
      ]
     },
     "metadata": {},
     "output_type": "display_data"
    },
    {
     "data": {
      "text/markdown": [
       "Io non ero malvagio, ma i miei re erano **terribilmente** feroci, e inesorabili."
      ],
      "text/plain": [
       "<IPython.core.display.Markdown object>"
      ]
     },
     "metadata": {},
     "output_type": "display_data"
    },
    {
     "data": {
      "text/markdown": [
       "– Ma la signorina lo rimbeccava **terribilmente**."
      ],
      "text/plain": [
       "<IPython.core.display.Markdown object>"
      ]
     },
     "metadata": {},
     "output_type": "display_data"
    },
    {
     "data": {
      "text/markdown": [
       "già detto che inseguiti o eccitati al volo con rumori si scuotono dalla loro pigrizia: è evidente che l''inseguimento li spaventi ; finalmente abbiamo pure accennato che tenuti rinchiusi cominciano subito a capitombolare appena si lascianonecessitano._ Eccoci all''incrocio delle razze della avicoltura, altro argomento pure importantissimo, ma che spesso viene travisato da qualche allevatore principiante e dagli ingenui: costoro, senza possedere la più che minima idealisce, quelle del collo si rizzano smisuratamente, l''occhio dapprima languido di languore orientale diventa **terribilmente** truce, il povero Don Giovanni del pollaio batte le ali e guarda fisso l''avversario."
      ],
      "text/plain": [
       "<IPython.core.display.Markdown object>"
      ]
     },
     "metadata": {},
     "output_type": "display_data"
    },
    {
     "data": {
      "text/markdown": [
       "È un puro ariano, dalla nobile faccia socratica che mi ricorda **terribilmente** un mio illustre insegnante di Università, tanto che ancora non riesco a vincere una certa esitanza, quando devoIl Reybaud ha voluto far la satira della borghesia, mettendo un tipo d''imbecille calzettaio in un mare di borghesissime avventure; e di più ha fatto un libro per provare che i calzettai non debbono occuparsi che di calzette: conclusione questa che oltrepassa i limiti onesti e mediocri del borghesismo per entrare in quelli della più ottusa asinità."
      ],
      "text/plain": [
       "<IPython.core.display.Markdown object>"
      ]
     },
     "metadata": {},
     "output_type": "display_data"
    },
    {
     "data": {
      "text/markdown": [
       "Avevo **terribilmente** voglia, non so perchè, di baciare la sua bocca."
      ],
      "text/plain": [
       "<IPython.core.display.Markdown object>"
      ]
     },
     "metadata": {},
     "output_type": "display_data"
    },
    {
     "data": {
      "text/markdown": [
       "L ' impresa era **terribilmente** difficile , ma ella ci si provò ."
      ],
      "text/plain": [
       "<IPython.core.display.Markdown object>"
      ]
     },
     "metadata": {},
     "output_type": "display_data"
    },
    {
     "data": {
      "text/markdown": [
       "Il dottore si fece serio, **terribilmente** serio."
      ],
      "text/plain": [
       "<IPython.core.display.Markdown object>"
      ]
     },
     "metadata": {},
     "output_type": "display_data"
    },
    {
     "data": {
      "text/markdown": [
       "Massimiliana, **terribilmente** pallida, con le labbra quasi scomparse, le porse una mano che scottava; e tenendola a quel modo, la accompagnò fino alPosto pure che l''amore o il capriccio del principe per la contessa fosse finito, bastavano la noia ed il fastidio, od anche i malintesi e il disaccordo a spiegare l''omicidio--se un omicidio era stato commesso?"
      ],
      "text/plain": [
       "<IPython.core.display.Markdown object>"
      ]
     },
     "metadata": {},
     "output_type": "display_data"
    },
    {
     "data": {
      "text/markdown": [
       "Non dubitare: appena avr+API- riconquistato il dominio del mare, ti nominer+API- mio erede universale... E quei cani dei tuoi vili compagni morranno+ACE- Il Corsaro Azzurro sa premiare gli amici fedeli e punire **terribilmente** i traditori... +IBQ-   Intanto sul ponte del vascello il banchetto era cominciato in mezzo all+IBk-entusiasmo generale."
      ],
      "text/plain": [
       "<IPython.core.display.Markdown object>"
      ]
     },
     "metadata": {},
     "output_type": "display_data"
    },
    {
     "data": {
      "text/markdown": [
       "Sono fiumi capricciosi, d’origine incerta e di corso irregolare, che scorrazzano attraverso i monti e le pianure tonkinesi, a volte imponenti e gonfi d’acqua procellosa, a volte ridotti dalla magra un semplice colaticcio di fango fetente, **terribilmente** rosso, così rosso da sembrare lo spurgo d’un fantastico macello."
      ],
      "text/plain": [
       "<IPython.core.display.Markdown object>"
      ]
     },
     "metadata": {},
     "output_type": "display_data"
    },
    {
     "data": {
      "text/markdown": [
       "Qualche cosa di **terribilmente** vago le faceva presentire che il Giappone non avrebbe portato fortuna al suo Roberto, ma nascondeva la sua ansia perché sentiva che non avrebbe potuto affrontare l'argomento senza turbare la serenità del figlio."
      ],
      "text/plain": [
       "<IPython.core.display.Markdown object>"
      ]
     },
     "metadata": {},
     "output_type": "display_data"
    },
    {
     "data": {
      "text/markdown": [
       "acque; a te, padre Di feconde pianure, ove nei cheti Argini la natía possa governi; Padre d''alte rovine, allor che in ira **terribilmente** imperversando abbondi Fuor degli ardui ripari, e fosco, immenso Possiedi i campi, e sugli abissi imperi."
      ],
      "text/plain": [
       "<IPython.core.display.Markdown object>"
      ]
     },
     "metadata": {},
     "output_type": "display_data"
    },
    {
     "data": {
      "text/markdown": [
       "Altrimenti ella avrebbe pur detto al fratello che le sue paure erano fantasime vane, che d''esami ne aveva già superati un esercito senza averne mai trovato uno che gli facesseIl senso umano si ribella davanti a questi fatti, la critica generosa e idealizzatrice protesta e proclama che la prima parte dell''Arrigo VI non è di Shakespeare; sarà di Marlowe, sarà di Greene, sarà di Nashe, ma di Shakespeare non è.  immorali, che Paolo e Francesca sono immorali, che tutte queste coppie giovani, deliranti, soavi, poetiche peccano **terribilmente** d''immoralità."
      ],
      "text/plain": [
       "<IPython.core.display.Markdown object>"
      ]
     },
     "metadata": {},
     "output_type": "display_data"
    },
    {
     "data": {
      "text/markdown": [
       "--in pari tempo: --Sergio è venuto nella certezza della mia colpa in séguito a un fatto molto semplice: io ho ricevuta ieri una lettera, della quale non ho creduto di riferire il senso, perchè non potevo supporre vi si annettesse undiffusa; anch''egli si contentava dei pochi viali fiancheggiati da villini brutti, e s''era avvezzo alle costruzioni **terribilmente** antipatiche di quegli alberghi nei quali si mangiava malissimo e dai quali si vedeva una sfilata di capanne tozze, una."
      ],
      "text/plain": [
       "<IPython.core.display.Markdown object>"
      ]
     },
     "metadata": {},
     "output_type": "display_data"
    },
    {
     "data": {
      "text/markdown": [
       "Era ammalato , **terribilmente** ammalato : e non lo diceva ."
      ],
      "text/plain": [
       "<IPython.core.display.Markdown object>"
      ]
     },
     "metadata": {},
     "output_type": "display_data"
    },
    {
     "data": {
      "text/markdown": [
       "Il Lewis cerca di arrivare ad immagini lascive , torbide , ma , oltre a tutto , si rivela **terribilmente** goffo e inesperto ."
      ],
      "text/plain": [
       "<IPython.core.display.Markdown object>"
      ]
     },
     "metadata": {},
     "output_type": "display_data"
    },
    {
     "data": {
      "text/markdown": [
       "Però quella carissima attitudine alla lunga doveva stancarle; Mimy, che se ne accorse la prima, si lasciòindarno tante tragedie greche senza accorgersi che ogni cronaca dei nostri comuni era affollata di figure ben più **terribilmente** belle che nelle corti di Tebe e di Atene?"
      ],
      "text/plain": [
       "<IPython.core.display.Markdown object>"
      ]
     },
     "metadata": {},
     "output_type": "display_data"
    },
    {
     "data": {
      "text/markdown": [
       "Ho atteso **terribilmente** questa grande cosa nuova, che forse è nulla."
      ],
      "text/plain": [
       "<IPython.core.display.Markdown object>"
      ]
     },
     "metadata": {},
     "output_type": "display_data"
    },
    {
     "data": {
      "text/markdown": [
       "; sul pergamo apparve la figura di un monaco, tetra e smorta, con occhi freddi come l''argento, in una devastata faccia **terribilmente** incisa di drammaticità, che mi fece pensare agli occhi fermi, alla bocca perversa, alle piccole mani crudeli delLe mani di lei non posano mai; raccoglie lo sterpo e lo sterco; accatta il ciottolo; stende il bucato su la siepe; rinforza con spini la siepe, e, quando il sole arde nel meriggio, lava presso la pozza ombrosa o trae con la bava il filo della rocca antica; sottopone al testo le brulle e vi gira la piada, cara a te, Giovanni Pascoli!"
      ],
      "text/plain": [
       "<IPython.core.display.Markdown object>"
      ]
     },
     "metadata": {},
     "output_type": "display_data"
    },
    {
     "data": {
      "text/markdown": [
       "mesi, sotto l''ossessione di quella scena di delusione che aveva offeso il suo amor proprio e il suo amore, e che lo faceva **terribilmente** soffrire notte e giorno, quantunque egli tentasse ogni mezzo di distrarsi, anche perchè colei non potessecontro l''ingegnere, contro il Sindaco.... E degli esperimenti di terracotta neppure una parola!"
      ],
      "text/plain": [
       "<IPython.core.display.Markdown object>"
      ]
     },
     "metadata": {},
     "output_type": "display_data"
    },
    {
     "data": {
      "text/markdown": [
       "e di Strauss, non gli parve più che ben piccola; altre rivolte gli si accesero in cuore, altri odi lo sollevarono **terribilmente** in alto contro tutte le autorità della terra."
      ],
      "text/plain": [
       "<IPython.core.display.Markdown object>"
      ]
     },
     "metadata": {},
     "output_type": "display_data"
    },
    {
     "data": {
      "text/markdown": [
       "Quando?, con parole d''amore tra i singhiozzi, con laceramenti così acuti di voce rotta e con una espressione di dolore così **terribilmente** comica che per tutti li astanti corse un brivido e tutti rivolsero altrove la faccia."
      ],
      "text/plain": [
       "<IPython.core.display.Markdown object>"
      ]
     },
     "metadata": {},
     "output_type": "display_data"
    },
    {
     "data": {
      "text/markdown": [
       "risposta in una di quelle occhiate di alterigia, che le grandi dame e gli uomini superiori trovano così spesso e così **terribilmente** ."
      ],
      "text/plain": [
       "<IPython.core.display.Markdown object>"
      ]
     },
     "metadata": {},
     "output_type": "display_data"
    },
    {
     "data": {
      "text/markdown": [
       "[I FASCI NELLE ZONE AGRICOLE] I successi reali i cui risultati economici sono statiqualche volta, esasperato dalla perdita, che per lui è un vero disastro, lo cerca, lo insegue, e se lo trova, lo bastona **terribilmente** ."
      ],
      "text/plain": [
       "<IPython.core.display.Markdown object>"
      ]
     },
     "metadata": {},
     "output_type": "display_data"
    },
    {
     "data": {
      "text/markdown": [
       "Ti, con parole d''amore tra i singhiozzi, con laceramenti così acuti di voce rotta e con una espressione di dolore così **terribilmente** comica che per tutti li astanti corse un brivido e tutti rivolsero altrove la faccia."
      ],
      "text/plain": [
       "<IPython.core.display.Markdown object>"
      ]
     },
     "metadata": {},
     "output_type": "display_data"
    },
    {
     "data": {
      "text/markdown": [
       "Oh, non sentite voi come questo verbo sentimentale e proletario somigli **terribilmente** a quelle cartoline illustrate ove sono dipinte viole del pensiero?"
      ],
      "text/plain": [
       "<IPython.core.display.Markdown object>"
      ]
     },
     "metadata": {},
     "output_type": "display_data"
    },
    {
     "data": {
      "text/markdown": [
       "mi batte **terribilmente** il cuore... vacillo... aiuto, aiuto!"
      ],
      "text/plain": [
       "<IPython.core.display.Markdown object>"
      ]
     },
     "metadata": {},
     "output_type": "display_data"
    },
    {
     "data": {
      "text/markdown": [
       "E il suo pensiero tornava a Loris, **terribilmente** bello in quella caverna, quando le aveva gettato addosso Topine, e più **terribilmente** cattivo dopo con quel sorriso di scherno."
      ],
      "text/plain": [
       "<IPython.core.display.Markdown object>"
      ]
     },
     "metadata": {},
     "output_type": "display_data"
    },
    {
     "data": {
      "text/markdown": [
       "Tenerci con la mano la mano sembra una cosa innocente, ma è **terribilmente** colpevole; tanto colpevole che a noi sembra talvolta l''infinito amore tutto e solo consistere nel tenersi una mano."
      ],
      "text/plain": [
       "<IPython.core.display.Markdown object>"
      ]
     },
     "metadata": {},
     "output_type": "display_data"
    },
    {
     "data": {
      "text/markdown": [
       "Stavano sempre nella stessa attitudine, Mimy sulle ginocchia di Elisa, entrambe con un braccio intorno alla cintura: quella vestita di nero colla luce dell''ebbrezza nel volto ancora macilento dalle passioni della notte e, in tale contrasto, stupendo; questa chiusa in una ricca vesta da camera bruna a bruni ricami, pallida, mal pettinata, con un cerchio turchino sotto gli occhi così **terribilmente** più vivi."
      ],
      "text/plain": [
       "<IPython.core.display.Markdown object>"
      ]
     },
     "metadata": {},
     "output_type": "display_data"
    },
    {
     "data": {
      "text/markdown": [
       "Loris salvo, ella sarebbe morta per lui, **terribilmente** bella nella gloria di quell''attentato non riuscito, e nel silenzio sui propri complici, su lui, che la vendicherebbe.della sua faccia."
      ],
      "text/plain": [
       "<IPython.core.display.Markdown object>"
      ]
     },
     "metadata": {},
     "output_type": "display_data"
    },
    {
     "data": {
      "text/markdown": [
       "Avevo paura, avevo **terribilmente** paura."
      ],
      "text/plain": [
       "<IPython.core.display.Markdown object>"
      ]
     },
     "metadata": {},
     "output_type": "display_data"
    },
    {
     "data": {
      "text/markdown": [
       ", ci vuole molta ingenuità--o molta malignità--per meravigliarsi o fingere sorpresa che i primi tumulti siano stati **terribilmente** contagiosi."
      ],
      "text/plain": [
       "<IPython.core.display.Markdown object>"
      ]
     },
     "metadata": {},
     "output_type": "display_data"
    },
    {
     "data": {
      "text/markdown": [
       "riaperta agli eserciti di Radetzky; Milano stessa minacciata; ecco le notizie che dal 25 al 30 luglio giungevano **terribilmente** gravi nella Capitale Lombarda."
      ],
      "text/plain": [
       "<IPython.core.display.Markdown object>"
      ]
     },
     "metadata": {},
     "output_type": "display_data"
    },
    {
     "data": {
      "text/markdown": [
       "Ma lasciami andare... è giorno chiaro, c'' è già il sole...  è contro l''amore, dicono, perchè gli antepone la proprietà, il denaro, il ventre; viceversa l''amore si vendica **terribilmente** , producendo drammi, tragedie, rovine d''ogni sorta e affermando così la propria onnipotenza."
      ],
      "text/plain": [
       "<IPython.core.display.Markdown object>"
      ]
     },
     "metadata": {},
     "output_type": "display_data"
    },
    {
     "data": {
      "text/markdown": [
       "Questa zuppa scotta; scotta **terribilmente** !"
      ],
      "text/plain": [
       "<IPython.core.display.Markdown object>"
      ]
     },
     "metadata": {},
     "output_type": "display_data"
    },
    {
     "data": {
      "text/markdown": [
       "--L''odiavi ben **terribilmente** , Fathma."
      ],
      "text/plain": [
       "<IPython.core.display.Markdown object>"
      ]
     },
     "metadata": {},
     "output_type": "display_data"
    },
    {
     "data": {
      "text/markdown": [
       "Era una scena **terribilmente** dantesca."
      ],
      "text/plain": [
       "<IPython.core.display.Markdown object>"
      ]
     },
     "metadata": {},
     "output_type": "display_data"
    },
    {
     "data": {
      "text/markdown": [
       "Madi Dio; o la purità invocata dal cielo era stata invocata invano (il primogenito, già settenne, era un bambino **terribilmente** inclinato a insudiciarsi e a insudiciare); o l''attrito della vita aveva spente o congelate certe gentili fioriturele scene."
      ],
      "text/plain": [
       "<IPython.core.display.Markdown object>"
      ]
     },
     "metadata": {},
     "output_type": "display_data"
    },
    {
     "data": {
      "text/markdown": [
       "Non fosti mai--confessalo!-- non fosti mai più **terribilmente** felice!..."
      ],
      "text/plain": [
       "<IPython.core.display.Markdown object>"
      ]
     },
     "metadata": {},
     "output_type": "display_data"
    },
    {
     "data": {
      "text/markdown": [
       "\"Lessi una volta che l''amore non è uno solo, e mi parve che lo scrittore mentisse odè tale da farmi impossibile ogni godimento: ogni menomo piacere mi ammazzerebbe\"; e l''infelice trova un''espressione **terribilmente** efficace per dipingere la sua miseria: \"Se non voglio morire, bisogna ch''io non viva....\" Dovendo tornare a FirenzeSuo marito, piuttosto, avrebbe finito per lasciarla; allora ella sarebbe stata libera senza suscitare uno scandalo!"
      ],
      "text/plain": [
       "<IPython.core.display.Markdown object>"
      ]
     },
     "metadata": {},
     "output_type": "display_data"
    },
    {
     "data": {
      "text/markdown": [
       "Il poeta obbedì e poi scrisse, per supplica, unVi dico anche : Se involontariamente vi danneggerò... se il danno sarà accertato... chi rompe paga...  di una nuova illusione che prendeva il posto dell''altra, che mi avrebbe ingannato come l''altra, che mi avrebbe fatto **terribilmente** soffrire e vanamente, come l''altra?"
      ],
      "text/plain": [
       "<IPython.core.display.Markdown object>"
      ]
     },
     "metadata": {},
     "output_type": "display_data"
    },
    {
     "data": {
      "text/markdown": [
       "O espiava **terribilmente** il delitto di un istante?..."
      ],
      "text/plain": [
       "<IPython.core.display.Markdown object>"
      ]
     },
     "metadata": {},
     "output_type": "display_data"
    },
    {
     "data": {
      "text/markdown": [
       "immorali, che Paolo e Francesca sono immorali, che tutte queste coppie giovani, deliranti, soavi, poetiche peccano **terribilmente** d''immoralità."
      ],
      "text/plain": [
       "<IPython.core.display.Markdown object>"
      ]
     },
     "metadata": {},
     "output_type": "display_data"
    },
    {
     "data": {
      "text/markdown": [
       "Un odore aspro di pescheria, di conchiglieria marina, feriva **terribilmente** l''aria dalle prossime botteghe di pescivendoli chiuse; un dragone, quasi nuotante nelle due fisarmoniche de'' suoivolto al volto di Ardea che quasi ha l''aria di baciarlo: certo, almeno, lo bacia con l''intenzione... Ma l''intenzione dà **terribilmente** sui nervi di Mimì che spezza su la tavola il suo bicchiere e, saltata su in piedi, grida: – Scimmia ossigenata, la finisca\" È la frase della mia maestra."
      ],
      "text/plain": [
       "<IPython.core.display.Markdown object>"
      ]
     },
     "metadata": {},
     "output_type": "display_data"
    },
    {
     "data": {
      "text/markdown": [
       "Bianca aveva finito per odiare **terribilmente** la giapponese come solo sa odiare una madre, ma nascondeva per riguardo verso Roberto il suo sentimento sotto un contegno disinvolto, altrettanto freddo che cortese."
      ],
      "text/plain": [
       "<IPython.core.display.Markdown object>"
      ]
     },
     "metadata": {},
     "output_type": "display_data"
    },
    {
     "data": {
      "text/markdown": [
       "Io vi annoio **terribilmente** , lo so.... Ma, non è colpa mia."
      ],
      "text/plain": [
       "<IPython.core.display.Markdown object>"
      ]
     },
     "metadata": {},
     "output_type": "display_data"
    },
    {
     "data": {
      "text/markdown": [
       "Qualcosa di **terribilmente** feroce stava nell''occhio torbido sotto i fasci de'' muscoli cigliari contratti e fermi come se fossero stati di ferro.Venni in città, al mio ritorno se n'' era andata e stamani ho ricevuta questa lettera."
      ],
      "text/plain": [
       "<IPython.core.display.Markdown object>"
      ]
     },
     "metadata": {},
     "output_type": "display_data"
    },
    {
     "data": {
      "text/markdown": [
       "Ai poli, come ho accennato, inutile andare; e poi, io, come esploratore, valgo solo per i climi temperati; odio **terribilmente** il freddo."
      ],
      "text/plain": [
       "<IPython.core.display.Markdown object>"
      ]
     },
     "metadata": {},
     "output_type": "display_data"
    },
    {
     "data": {
      "text/markdown": [
       "Quei pittori, quegli architetti di interni, quei critici d’arte, che quando capitavano insieme facevano un gran baccano con le loro discussioni estetiche – e quel che è peggio non compravano nulla – davano **terribilmente** ai nervi ai due proprietarii."
      ],
      "text/plain": [
       "<IPython.core.display.Markdown object>"
      ]
     },
     "metadata": {},
     "output_type": "display_data"
    },
    {
     "data": {
      "text/markdown": [
       "Ma il figlio del banchiere a Londra pensò **terribilmente** ai milioni della vecchia zia, doña Isabel."
      ],
      "text/plain": [
       "<IPython.core.display.Markdown object>"
      ]
     },
     "metadata": {},
     "output_type": "display_data"
    },
    {
     "data": {
      "text/markdown": [
       "Il cavaliere Alberto Cencetti--non soltanto è **terribilmente** miope--ma professore di matematiche e dei migliori, senz''altro."
      ],
      "text/plain": [
       "<IPython.core.display.Markdown object>"
      ]
     },
     "metadata": {},
     "output_type": "display_data"
    },
    {
     "data": {
      "text/markdown": [
       "Io non pensavo all''amore; pensavo **terribilmente** a lei, a me..."
      ],
      "text/plain": [
       "<IPython.core.display.Markdown object>"
      ]
     },
     "metadata": {},
     "output_type": "display_data"
    },
    {
     "data": {
      "text/markdown": [
       "Così apparivano **terribilmente** belli i colossi di pietra sul limitare dei templi; così, mirabilmente severe, lungo le pareti babilonesi, le immaginiIl degno priore si seccò maledettamente, a colazione, e il malumore gli crebbe tanto, mentre faceva vedere il convento al suo noioso visitatore, che incominciò a rispondergli in un certo modo agrodolce, che non era mai stato nelle sue consuetudini."
      ],
      "text/plain": [
       "<IPython.core.display.Markdown object>"
      ]
     },
     "metadata": {},
     "output_type": "display_data"
    },
    {
     "data": {
      "text/markdown": [
       "Si servivano anche **terribilmente** delle pietre, facendole franare dai monti; pochi uomini robusti, appoggiando le spalle e i gomiti alla roccia, ePrecedendo di qualche passo i compagni, il padrino Adelindo entrava nel chiostro."
      ],
      "text/plain": [
       "<IPython.core.display.Markdown object>"
      ]
     },
     "metadata": {},
     "output_type": "display_data"
    },
    {
     "data": {
      "text/markdown": [
       "L''antica Italia dei guelfi e dei ghibellini, così inesaustamente e **terribilmente** guerriera, non era certo riconoscibile in questa ultima Italia di cavalieri serventi e di eserciti inservibili, ovela propria parte di signore, parve giganteggiare fra le massime figure del tempo, tra i Visconti e gli Scaligeri, così **terribilmente** trionfanti nella storica realtà."
      ],
      "text/plain": [
       "<IPython.core.display.Markdown object>"
      ]
     },
     "metadata": {},
     "output_type": "display_data"
    },
    {
     "data": {
      "text/markdown": [
       "La figura del suo Principe **terribilmente** sinistra, impassibile e serena, ha sulla fronte i vapori luminosi di un sogno--costituire uno Stato nazionale,Poi la catastrofe finì di confonderla: si trovò nel piccolo ducato di Parma come in una grande villeggiatura, seppe Napoleone a Sant''Elena e dimenticò il re di Roma, mutato in duca di Reichstadt a Vienna."
      ],
      "text/plain": [
       "<IPython.core.display.Markdown object>"
      ]
     },
     "metadata": {},
     "output_type": "display_data"
    },
    {
     "data": {
      "text/markdown": [
       "Quando però le vedeva piangere e **terribilmente** soffrire per le ansietà di un pericolo che le teneva sospese tra la vita e la morte e poteva produrre, tutt''a un tratto,Mai, mai gli era bastata la scienza arida e sola; un caldo alito di simpatia percorreva da cima a fondo tutti i suoi scritti, e nessuno storico sapeva meglio di lui, dai freddi documenti del passato, sprigionar le lacrime delle cose."
      ],
      "text/plain": [
       "<IPython.core.display.Markdown object>"
      ]
     },
     "metadata": {},
     "output_type": "display_data"
    },
    {
     "data": {
      "text/markdown": [
       "il registro della vocedella conservazione personale, quest''amore che dovrebbe confondersi con l''amor proprio, gli si oppone, invece, **terribilmente** ; ma non sempre: quello che opera sempre, che urla sempre, è il bisogno di nutrire il corpo."
      ],
      "text/plain": [
       "<IPython.core.display.Markdown object>"
      ]
     },
     "metadata": {},
     "output_type": "display_data"
    },
    {
     "data": {
      "text/markdown": [
       "Per ogni cento vendite di mobili e di frutti pendenti, in quelle di valore nonall''udienza del 28 Aprile: Difensore Piccoli: Da che cosa arguisce il teste, che il Fascio di Piana dei Greci fosse così **terribilmente** provocatore?"
      ],
      "text/plain": [
       "<IPython.core.display.Markdown object>"
      ]
     },
     "metadata": {},
     "output_type": "display_data"
    },
    {
     "data": {
      "text/markdown": [
       "Per questo, egli odiava il Cristianesimo il quale voleva, è vero, usufruire della sua eredità, edsuo fondatore, era la pura espressione di un sentimento morale, l''aspirazione ad un ideale di giustizia, una protesta **terribilmente** eloquente nella sua mitezza contro le iniquità del mondo."
      ],
      "text/plain": [
       "<IPython.core.display.Markdown object>"
      ]
     },
     "metadata": {},
     "output_type": "display_data"
    },
    {
     "data": {
      "text/markdown": [
       "nel panneggiamento di troppi sistemi storici e filosofici, si veniva sbrogliando coll''aiuto delle idee francesi più **terribilmente** logiche e chiare."
      ],
      "text/plain": [
       "<IPython.core.display.Markdown object>"
      ]
     },
     "metadata": {},
     "output_type": "display_data"
    },
    {
     "data": {
      "text/markdown": [
       "Ella pareva perplessa; la sua fisonomia diventò **terribilmente** severa."
      ],
      "text/plain": [
       "<IPython.core.display.Markdown object>"
      ]
     },
     "metadata": {},
     "output_type": "display_data"
    },
    {
     "data": {
      "text/markdown": [
       "della conservazione personale, quest''amore che dovrebbe confondersi con l''amor proprio, gli si oppone, invece, **terribilmente** ; ma non sempre: quello che opera sempre, che urla sempre, è il bisogno di nutrire il corpo."
      ],
      "text/plain": [
       "<IPython.core.display.Markdown object>"
      ]
     },
     "metadata": {},
     "output_type": "display_data"
    },
    {
     "data": {
      "text/markdown": [
       "e disse con voce assai amichevole ed insinuante; – Io sono non spiacente, ma spiacentissimo, tanto per lei come per molti altri che vengono da me quasi che io avessi l''onore di essere la divina provvidenza, e le confesso che certe cose, a udirecolmi di stelle, tutto ciò che porta gli uomini verso il terrestre paradiso, tutto ciò che non vuole spegnersi:–e più **terribilmente** di noi questi uccisi amavano la vita."
      ],
      "text/plain": [
       "<IPython.core.display.Markdown object>"
      ]
     },
     "metadata": {},
     "output_type": "display_data"
    },
    {
     "data": {
      "text/markdown": [
       "Diego e Cletto accorsi essi pure allo strazio del povero Fuoco, perdettero il lume della ragione, e mugghiando **terribilmente** si precipitarono in mezzo ai nemici."
      ],
      "text/plain": [
       "<IPython.core.display.Markdown object>"
      ]
     },
     "metadata": {},
     "output_type": "display_data"
    },
    {
     "data": {
      "text/markdown": [
       "Ad un tratto Fathma impallidì **terribilmente** ."
      ],
      "text/plain": [
       "<IPython.core.display.Markdown object>"
      ]
     },
     "metadata": {},
     "output_type": "display_data"
    },
    {
     "data": {
      "text/markdown": [
       "–Il sexton si mise a ridere; egli gridava:  d''uno degli interminabili discorsi sconclusionati della signora Giuditta, le si vedevano tutti i denti irrompere **terribilmente** fuori dalla bocca; ed ella s''affrettava con ambe le mani a respingerli dentro, e li rimetteva a posto a bocca chiusa, conDue persone che si uniscono senza amore, può darsi che si amino vivendo insieme; ma può anche darsi che non si amino; e mi pare troppo ardito tentare la prova."
      ],
      "text/plain": [
       "<IPython.core.display.Markdown object>"
      ]
     },
     "metadata": {},
     "output_type": "display_data"
    },
    {
     "data": {
      "text/markdown": [
       "È un puro ariano, dalla nobile faccia socratica che mi ricorda **terribilmente** un mio illustre insegnante di Università, tanto che ancora non riesco a vincere una certa esitanza, quando devonella valle del Savio, giù sino a Folcente, per risalir poi verso Montioni e Monte Coronaro."
      ],
      "text/plain": [
       "<IPython.core.display.Markdown object>"
      ]
     },
     "metadata": {},
     "output_type": "display_data"
    },
    {
     "data": {
      "text/markdown": [
       "Quando guardo lasua colpa solo, meditò di ucciderla per dividere dall''anima quella carne che l''aveva infiammato di desiderio così **terribilmente** e per poter solo quella contaminare di tutte le carezze."
      ],
      "text/plain": [
       "<IPython.core.display.Markdown object>"
      ]
     },
     "metadata": {},
     "output_type": "display_data"
    },
    {
     "data": {
      "text/markdown": [
       "ah come tutto ciò era bello, orribilmente bello, **terribilmente** bello!"
      ],
      "text/plain": [
       "<IPython.core.display.Markdown object>"
      ]
     },
     "metadata": {},
     "output_type": "display_data"
    },
    {
     "data": {
      "text/markdown": [
       "In questi ultimi mesi avevo sofferto più **terribilmente** ."
      ],
      "text/plain": [
       "<IPython.core.display.Markdown object>"
      ]
     },
     "metadata": {},
     "output_type": "display_data"
    },
    {
     "data": {
      "text/markdown": [
       "La ho vista nuda e la sua nudità era allora **terribilmente** lasciva...; invece calma, gelida mi guardava colle grandi pupille azzurre, inesplicabilmente curiose, mentreQuindi se ne andava a passo lento, e mi ricordo di aver sentito più di una volta dall''appartamento della duchessa la percossa cadenzata delle sue stampelle, che nella notte rimbalzava sino ai vetri delle nostre finestre."
      ],
      "text/plain": [
       "<IPython.core.display.Markdown object>"
      ]
     },
     "metadata": {},
     "output_type": "display_data"
    },
    {
     "data": {
      "text/markdown": [
       "Massimiliana, **terribilmente** pallida, con le labbra quasi scomparse, le porse una mano che scottava; e tenendola a quel modo, la accompagnò fino alDove non è riuscito Sella, riuscirà Minghetti, riuscirà Spaventa, riuscirà fors'' anche Bonghi."
      ],
      "text/plain": [
       "<IPython.core.display.Markdown object>"
      ]
     },
     "metadata": {},
     "output_type": "display_data"
    },
    {
     "data": {
      "text/markdown": [
       "l''uomo pallido e trasognato; e più sono grandi e nobili e più uccidono, e non v''è corruzione di vizio che maceri più **terribilmente** ."
      ],
      "text/plain": [
       "<IPython.core.display.Markdown object>"
      ]
     },
     "metadata": {},
     "output_type": "display_data"
    },
    {
     "data": {
      "text/markdown": [
       "[101] Aderendo alla carboneria i dueeravate veramente un uomo senza cuore, gelido e sciupato, al quale restava negli occhi, forse nell''anima, qualcosa di **terribilmente** lontano, che altre portarono via, qualcosa di aspro, di amaro, d''insensibile... mi piacevate allora, e dopo di allorasuo proprio mantello."
      ],
      "text/plain": [
       "<IPython.core.display.Markdown object>"
      ]
     },
     "metadata": {},
     "output_type": "display_data"
    },
    {
     "data": {
      "text/markdown": [
       "Quando però le vedeva piangere e **terribilmente** soffrire per le ansietà di un pericolo che le teneva sospese tra la vita e la morte e poteva produrre, tutt''a un tratto,Vi saltava dentro nudo, vi sguazzava spandendosi l''acqua con le mani su la testa--don Liddu lo aveva osservato dal buco della serratura--e, appena asciugatosi, via come il vento, per la campagna: quattro, cinque miglia, quasi avesse il diavolo in corpo."
      ],
      "text/plain": [
       "<IPython.core.display.Markdown object>"
      ]
     },
     "metadata": {},
     "output_type": "display_data"
    },
    {
     "data": {
      "text/markdown": [
       "E il suo pensiero tornava a Loris, **terribilmente** bello in quella caverna, quando le aveva gettato addosso Topine, e più **terribilmente** cattivo dopo con quel sorriso diSi sentiva ancora più inutile che sola, più piccola che inutile, nata in un villaggio, condannata forse a fare la maestra in un villaggio, costeggiando sempre le rive del mondo senza approdarvi, intendendo dei brani di musica, odorando delle folate di profumi, ma senza che nessuno si rivolgesse a guardarla confusa fra le immondizie addensatevi dal riflusso del mare."
      ],
      "text/plain": [
       "<IPython.core.display.Markdown object>"
      ]
     },
     "metadata": {},
     "output_type": "display_data"
    },
    {
     "data": {
      "text/markdown": [
       "Ma doveva essere **terribilmente** tragica la condizione del forte negli ultimi giorni, quando già erano stati costretti a levar via la più parte deiperchè i francesi non avessero pensato molto tempo prima a costruire un forte sulla cima di quel monte che dominava così **terribilmente** Pinerolo; perchè è certo che del forte di Santa Brigida non c''era ancora segno nell''aprile del 1692, e che i lavori nontempo a commettere un certo numero di sciocchezze, e ti vorrebbe qui per dargli una mano."
      ],
      "text/plain": [
       "<IPython.core.display.Markdown object>"
      ]
     },
     "metadata": {},
     "output_type": "display_data"
    },
    {
     "data": {
      "text/markdown": [
       "Ed oggi ancora, dopo aver constatato tutto il vuoto del Congresso, domando sinceramente a me stesso se questi Congressi della Stampa Latina non siano nonostante tutto una cosa seria, assai seria, **terribilmente** seria, precisamente per l'esistenza di questo enorme colossale vuoto dietro il paravento splendente della Latinità!"
      ],
      "text/plain": [
       "<IPython.core.display.Markdown object>"
      ]
     },
     "metadata": {},
     "output_type": "display_data"
    },
    {
     "data": {
      "text/markdown": [
       "Guardandola, mi ricordavo con una sensazione **terribilmente** chiara il sapore che avevano le sue labbra nei baci d''amore; qualcosa di lei passava traverso le mie vene prodigandomiÈ stata la Bettina a dire: \"Se no te vien, xe prova che no te me voi ben\"."
      ],
      "text/plain": [
       "<IPython.core.display.Markdown object>"
      ]
     },
     "metadata": {},
     "output_type": "display_data"
    },
    {
     "data": {
      "text/markdown": [
       ", diventa così, senza sforzo, il simbolo di una razza perseguitata e ribelle, e porta a una catastrofe impensata, ma **terribilmente** logica."
      ],
      "text/plain": [
       "<IPython.core.display.Markdown object>"
      ]
     },
     "metadata": {},
     "output_type": "display_data"
    },
    {
     "data": {
      "text/markdown": [
       "Ma tornavola chiave di questo affascinante nuovo mondo: \"Il russo--egli dice in _Delitto e Gastigo_--è vasto come la sua patria, **terribilmente** inclinato a tutto quel che è fantastico e disordinato."
      ],
      "text/plain": [
       "<IPython.core.display.Markdown object>"
      ]
     },
     "metadata": {},
     "output_type": "display_data"
    },
    {
     "data": {
      "text/markdown": [
       "--Sì, e **terribilmente** ."
      ],
      "text/plain": [
       "<IPython.core.display.Markdown object>"
      ]
     },
     "metadata": {},
     "output_type": "display_data"
    },
    {
     "data": {
      "text/markdown": [
       "Tutti gl''istinti malvagi della sua natura rifermentavano, mentre la ragione più **terribilmente** limpida ora gli rivelava la falsità di quei quattro anni."
      ],
      "text/plain": [
       "<IPython.core.display.Markdown object>"
      ]
     },
     "metadata": {},
     "output_type": "display_data"
    },
    {
     "data": {
      "text/markdown": [
       "L''Austria, rappresentante dell''assolutismo e del più eteroclito impero europeo, venivaassurde e di combinazioni impossibili, di reticenze perfide e di sottintesi indicibili, mentre Mazzini sempre **terribilmente** limpido guidava il battaglione sacro delle idee e delle poche forze rivoluzionarie su per l''erta di una nuova epocadella patria."
      ],
      "text/plain": [
       "<IPython.core.display.Markdown object>"
      ]
     },
     "metadata": {},
     "output_type": "display_data"
    },
    {
     "data": {
      "text/markdown": [
       "E il giorno dopo, mentre i testimoni facevano le loro deposizioni, mentre gli Avvocati declamavano dinanzi ai Giurati dando colpi di pugno sui tavolini, egli tendeva l'orecchio, col capo rovesciato sulla spalliera della sedia a braccioli, gli occhi chiusi, **terribilmente** pallido nella toga nera; tendeva l'orecchio per afferrare da lontano una nota di quell'insolito cantare di sua moglie nell'assenza di lui: -- Perchè cantava, ella che non aveva cantato mai?..."
      ],
      "text/plain": [
       "<IPython.core.display.Markdown object>"
      ]
     },
     "metadata": {},
     "output_type": "display_data"
    },
    {
     "data": {
      "text/markdown": [
       "52  ﻿Mario Appelius Le isole del Raggio Verde   A MIO PADRE TRA CIELO E MARE   I grandi volatori transoceanici che con uno o due salti formidabili balzano da un continente all'altro stanno rimpicciolendo **terribilmente** i viaggi «vecchio stile» per mare."
      ],
      "text/plain": [
       "<IPython.core.display.Markdown object>"
      ]
     },
     "metadata": {},
     "output_type": "display_data"
    },
    {
     "data": {
      "text/markdown": [
       "Gira sempre in traccia di lavoro; passa daloro influenze e delle loro relazioni, lo straniero, che non ha nessuno di questi pesi da mettervi, trova la bilancia **terribilmente** difettosa."
      ],
      "text/plain": [
       "<IPython.core.display.Markdown object>"
      ]
     },
     "metadata": {},
     "output_type": "display_data"
    },
    {
     "data": {
      "text/markdown": [
       "Ma qui avviene un fatto strano, impreveduto, un fatto **terribilmente** funesto che basterebbe, anche solo, a provare come fosse poco equilibrata la mente di quel giovane geniale."
      ],
      "text/plain": [
       "<IPython.core.display.Markdown object>"
      ]
     },
     "metadata": {},
     "output_type": "display_data"
    },
    {
     "data": {
      "text/markdown": [
       "il proprio astuccio di sigarette: la voce di sua moglie, il suo entusiasmo pel teatro di Wagner, gli urtano i nervi **terribilmente** ."
      ],
      "text/plain": [
       "<IPython.core.display.Markdown object>"
      ]
     },
     "metadata": {},
     "output_type": "display_data"
    },
    {
     "data": {
      "text/markdown": [
       "anni, pallida, un poco emaciata, con grandi occhi scuri, troppo fissi, ove la giovinezza era già spenta; gli occhi **terribilmente** lascivi e dolorosi delle pazze in Cristo, gli occhi senza umanità ch''ebbero tutte le allucinate, le portatrici diNon gli pareva possibile che, quando milioni e milioni di suoi connazionali correvano il rischio di pagar con la vita il diritto della loro patria a farsi un po'' più grande, egli potesse cavarsela, beniamino degli dei di guerra, a così buon mercato."
      ],
      "text/plain": [
       "<IPython.core.display.Markdown object>"
      ]
     },
     "metadata": {},
     "output_type": "display_data"
    },
    {
     "data": {
      "text/markdown": [
       "Ma anche il domani , e gli altri giorni che restava a casa, il babbo non parlava con nessuno, sgridava **terribilmente** le persone di serviziosera.... Ella sorrise, nel fondo dell''anima."
      ],
      "text/plain": [
       "<IPython.core.display.Markdown object>"
      ]
     },
     "metadata": {},
     "output_type": "display_data"
    },
    {
     "data": {
      "text/markdown": [
       "Così la città intera vegliò , inconsapevole , sulla mamma e sui tre bambini morti senza sacramento , abbandonati sulle gelide piastrelle in tutta la loro corporale miserialoro influenze e delle loro relazioni, lo straniero, che non ha nessuno di questi pesi da mettervi, trova la bilancia **terribilmente** difettosa."
      ],
      "text/plain": [
       "<IPython.core.display.Markdown object>"
      ]
     },
     "metadata": {},
     "output_type": "display_data"
    },
    {
     "data": {
      "text/markdown": [
       "GRAZIELLA Ci avesse portato... anche.... SALVATORE (sorgendo in piedi, **terribilmente** ) Del danaro?!"
      ],
      "text/plain": [
       "<IPython.core.display.Markdown object>"
      ]
     },
     "metadata": {},
     "output_type": "display_data"
    },
    {
     "data": {
      "text/markdown": [
       "Infatti per opera segreta sua i comizi crescevano di numero e di violenzanel panneggiamento di troppi sistemi storici e filosofici, si veniva sbrogliando coll''aiuto delle idee francesi più **terribilmente** logiche e chiare."
      ],
      "text/plain": [
       "<IPython.core.display.Markdown object>"
      ]
     },
     "metadata": {},
     "output_type": "display_data"
    },
    {
     "data": {
      "text/markdown": [
       ", i contrasti, le divagazioni, le schermaglie non potevano far altro che giovare ai nemici: \"Pensate che si va addietro **terribilmente** , che i nostri padroni se ne giovano a riconciliarsi con atti di clemenza in favor di molti, che l''Austria conquista piùIo mi appiglierò ad un altro partito, e forse a questo avrei dovuto appigliarmi senza altrimenti annoiar lei con questo discorso: ma come il partito ch''io dico, è tale, che stante la mia salute, non è verisimile che in breve tempo non vi soccomba, ho temuto che ella avesse a fare un rimprovero alla mia memoria, dell''averlo abbracciato senza prima confidarmi con lei sopra le cose che le ho esposte."
      ],
      "text/plain": [
       "<IPython.core.display.Markdown object>"
      ]
     },
     "metadata": {},
     "output_type": "display_data"
    },
    {
     "data": {
      "text/markdown": [
       "E su la folla dei cristiani **terribilmente** passava la sensazione di Dio."
      ],
      "text/plain": [
       "<IPython.core.display.Markdown object>"
      ]
     },
     "metadata": {},
     "output_type": "display_data"
    },
    {
     "data": {
      "text/markdown": [
       "Ecco stabilita la superiorità di questo romanzo femminile su tanti romanzi maschili che sono **terribilmente** noiosi.... Il Marzocco (Luigi Tonelli)."
      ],
      "text/plain": [
       "<IPython.core.display.Markdown object>"
      ]
     },
     "metadata": {},
     "output_type": "display_data"
    },
    {
     "data": {
      "text/markdown": [
       "È stata una colpa; ma l''ho espiata con lunghi dolori; la espio **terribilmente** adesso, nella vergogna che mi assale e mi ricopre davanti a voi."
      ],
      "text/plain": [
       "<IPython.core.display.Markdown object>"
      ]
     },
     "metadata": {},
     "output_type": "display_data"
    },
    {
     "data": {
      "text/markdown": [
       "Allora s''accostò alE poi è disoccupato, potrebbe stare ad Ameno quanto ti piace....  , quell''esaltamento lieve che si attinge in un bicchiere di Sciampagna, un''ebbrezza, un esaltamento innocenti, ma **terribilmente** arrischiati."
      ],
      "text/plain": [
       "<IPython.core.display.Markdown object>"
      ]
     },
     "metadata": {},
     "output_type": "display_data"
    },
    {
     "data": {
      "text/markdown": [
       "Ma da due anni in qua i salarî ribassano **terribilmente** e c''è una triste concorrenza nel lavoro che i mietitori di una contrada vanno a fare a quelli di un''altra; concorrenza,Lo feci sgolare per una diecina di minuti, dopo i quali, come Dio volle, ebbi la gioja di vederlo allontanare non soddisfatto, ma tutto pace e compunzione, ed ottenni così il mio scopo di restarmene solo, lontano dalle distrazioni ed in compagnia delle mie stravaganti illusioni."
      ],
      "text/plain": [
       "<IPython.core.display.Markdown object>"
      ]
     },
     "metadata": {},
     "output_type": "display_data"
    },
    {
     "data": {
      "text/markdown": [
       "Lo zuccone che soffriva **terribilmente** di gelosia, e sempre, solo a nominargli Andromaco o Ninotto, copriva Egle di sputi, questa volta si contentò di darleE, parrà a voi, che quello dovesse essere il punto logico del giusto sacrificio...  su confini e ad un tratto ci accorgiamo di essere al di là di ogni finzione, al di là di ogni figurazione: soli... ma **terribilmente** soli nella smisurata profondità del niente."
      ],
      "text/plain": [
       "<IPython.core.display.Markdown object>"
      ]
     },
     "metadata": {},
     "output_type": "display_data"
    },
    {
     "data": {
      "text/markdown": [
       "Così apparivano **terribilmente** belli i colossi di pietra sul limitare dei templi; così, mirabilmente severe, lungo le pareti babilonesi, le immaginiil suo debito di figlio."
      ],
      "text/plain": [
       "<IPython.core.display.Markdown object>"
      ]
     },
     "metadata": {},
     "output_type": "display_data"
    },
    {
     "data": {
      "text/markdown": [
       "Ma doveva essere **terribilmente** tragica la condizione del forte negli ultimi giorni, quando già erano stati costretti a levar via la più parte dei\" ma non si poteva chiamare ancora \"un grand''uomo\"; bisognava aspettare dell''altro."
      ],
      "text/plain": [
       "<IPython.core.display.Markdown object>"
      ]
     },
     "metadata": {},
     "output_type": "display_data"
    },
    {
     "data": {
      "text/markdown": [
       "A poco a poco, i fremiti, le ansie degli antichi leoni congiurati del Quarantotto che si riunivano lì in quel camerone attorno al vecchio Generale, s'erano ridestati in lui a farlo vergognare del suo pianto; le ombre di quei leoni, **terribilmente** sdegnate, gli eran sorte intorno e gli avevan gridato d'accorrere, sì, sì, d'accorrere, pur così vecchio com'era, a impedire con gli altri vecchi superstiti la distruzione della patria."
      ],
      "text/plain": [
       "<IPython.core.display.Markdown object>"
      ]
     },
     "metadata": {},
     "output_type": "display_data"
    },
    {
     "data": {
      "text/markdown": [
       "In qual modo debbo provarvi che sono sincero, **terribilmente** sincero?"
      ],
      "text/plain": [
       "<IPython.core.display.Markdown object>"
      ]
     },
     "metadata": {},
     "output_type": "display_data"
    },
    {
     "data": {
      "text/markdown": [
       "Lo zuccone che soffriva **terribilmente** di gelosia, e sempre, solo a nominargli Andromaco o Ninotto, copriva Egle di sputi, questa volta si contentò di darle, gliela accarezzò."
      ],
      "text/plain": [
       "<IPython.core.display.Markdown object>"
      ]
     },
     "metadata": {},
     "output_type": "display_data"
    },
    {
     "data": {
      "text/markdown": [
       "Non credete alle donne straordinarie, che si divertono a parer complicate come il teorema di Pitagora, nè a quelle **terribilmente** fastidiose che ogni e qualsiasi volta rallentano i loro perfidi ginocchi suppongono di essere diventate una secondaForse gli si può fare rimprovero di essere stato il primo; ma è verosimile che fra gli scrittori non sia nemmeno l''ultimo."
      ],
      "text/plain": [
       "<IPython.core.display.Markdown object>"
      ]
     },
     "metadata": {},
     "output_type": "display_data"
    },
    {
     "data": {
      "text/markdown": [
       "Non credete alle donne straordinarie, che si divertono a parer complicate come il teorema di Pitagora, nè a quelle **terribilmente** fastidiose che ogni e qualsiasi volta rallentano i loro perfidi ginocchi suppongono di essere diventate una seconda, qui cantano col far dell''aprile."
      ],
      "text/plain": [
       "<IPython.core.display.Markdown object>"
      ]
     },
     "metadata": {},
     "output_type": "display_data"
    },
    {
     "data": {
      "text/markdown": [
       "Permai levarmi di addosso il funesto dominio del suo filtro, del suo misterioso potere, che forse avrebbe operato più **terribilmente** da lontano.... Infatti, se ella mi avesse detto in quel momento, invece di: Parto!--Domani non spunterà più il sole,La bimba destava affetti diversi a seconda dell''indole più o meno tollerante, più o meno amorevole dei passeggeri, ma l''esotico personaggio che la accompagnava non riusciva simpatico a nessuno."
      ],
      "text/plain": [
       "<IPython.core.display.Markdown object>"
      ]
     },
     "metadata": {},
     "output_type": "display_data"
    },
    {
     "data": {
      "text/markdown": [
       "Ti ubriacherai **terribilmente** ."
      ],
      "text/plain": [
       "<IPython.core.display.Markdown object>"
      ]
     },
     "metadata": {},
     "output_type": "display_data"
    },
    {
     "data": {
      "text/markdown": [
       "anni, pallida, un poco emaciata, con grandi occhi scuri, troppo fissi, ove la giovinezza era già spenta; gli occhi **terribilmente** lascivi e dolorosi delle pazze in Cristo, gli occhi senza umanità ch''ebbero tutte le allucinate, le portatrici diNon dobbiamo meravigliarci di questi dubbi, considerando che il signor Aurelio aveva per le altre questioni un colpo d''occhio fulmineo, ma per le piccole operazioni quotidiane era spesso impicciato in una maniera troppo vergognosa per un uomo della sua barba, della sua età."
      ],
      "text/plain": [
       "<IPython.core.display.Markdown object>"
      ]
     },
     "metadata": {},
     "output_type": "display_data"
    },
    {
     "data": {
      "text/markdown": [
       "Ma Paolina, ferma al posto, pallida di commozione svolgeva in quel momento nel segreto del cuore una questione **terribilmente** importante per lei."
      ],
      "text/plain": [
       "<IPython.core.display.Markdown object>"
      ]
     },
     "metadata": {},
     "output_type": "display_data"
    },
    {
     "data": {
      "text/markdown": [
       "Caterina ( **terribilmente** ) La morte!"
      ],
      "text/plain": [
       "<IPython.core.display.Markdown object>"
      ]
     },
     "metadata": {},
     "output_type": "display_data"
    },
    {
     "data": {
      "text/markdown": [
       "Si servivano anche **terribilmente** delle pietre, facendole franare dai monti; pochi uomini robusti, appoggiando le spalle e i gomiti alla roccia, eMa che volete farci ?"
      ],
      "text/plain": [
       "<IPython.core.display.Markdown object>"
      ]
     },
     "metadata": {},
     "output_type": "display_data"
    },
    {
     "data": {
      "text/markdown": [
       "Ella si chinò, si protese verso di me, come per spingermisua colpa solo, meditò di ucciderla per dividere dall''anima quella carne che l''aveva infiammato di desiderio così **terribilmente** e per poter solo quella contaminare di tutte le carezze."
      ],
      "text/plain": [
       "<IPython.core.display.Markdown object>"
      ]
     },
     "metadata": {},
     "output_type": "display_data"
    },
    {
     "data": {
      "text/markdown": [
       "Si è creduto lungamente che Petrarca gli dedicasse una delle sue più belle canzoni;monacale, discendendo nella vita politica, irrompe con due nuovi ordini di frati profondamente originali e **terribilmente** guerrieri."
      ],
      "text/plain": [
       "<IPython.core.display.Markdown object>"
      ]
     },
     "metadata": {},
     "output_type": "display_data"
    },
    {
     "data": {
      "text/markdown": [
       "La predicazione di Gesù, tanto originale pel soffiociviltà ellenica, egli voleva impedirne la rovina, considerava come un supremo dovere il difenderla dai pericoli che **terribilmente** la premevano."
      ],
      "text/plain": [
       "<IPython.core.display.Markdown object>"
      ]
     },
     "metadata": {},
     "output_type": "display_data"
    },
    {
     "data": {
      "text/markdown": [
       "Come vorace fiamma, Poi che tutte afferrò l''aride secce Del vasto campo, il vicin bosco invade; **terribilmente** crepitando esulta Con cento lingue sanguinose a l''etra; Così questi venían dopo a un vessillo Fluttüante a l''avversePur dissento anche da lui."
      ],
      "text/plain": [
       "<IPython.core.display.Markdown object>"
      ]
     },
     "metadata": {},
     "output_type": "display_data"
    },
    {
     "data": {
      "text/markdown": [
       "Un odore aspro di pescheria, di conchiglieria marina, feriva **terribilmente** l''aria dalle prossime botteghe di pescivendoli chiuse; un dragone, quasi nuotante nelle due fisarmoniche de'' suoiI francesi, quelli vengono giù di certo, faranno come quel tal re che da Susa arrivò sino a Napoli senza sparare un colpo di fucile: come si chiamava già quel re, signorina?"
      ],
      "text/plain": [
       "<IPython.core.display.Markdown object>"
      ]
     },
     "metadata": {},
     "output_type": "display_data"
    },
    {
     "data": {
      "text/markdown": [
       "; e di cose molto serie... non c''è da essere in pensiero: ma ciò non toglie che in un modo o nell''altro vi rendete **terribilmente** preziosa... NINÌ (dal fondo) Olgiati!"
      ],
      "text/plain": [
       "<IPython.core.display.Markdown object>"
      ]
     },
     "metadata": {},
     "output_type": "display_data"
    },
    {
     "data": {
      "text/markdown": [
       "La figura di Violetta, questa donna, della quale ogni particolare dovrebbe essere supremamente elegante: sempre leggiera anche nelle violenze più inebrianti del senso, o negl''impeti più disperati del sacrifizio: sempre mantenuta anche nel breve idillio coniugale, poichè invece di morire ricacciandosi nella miseria morale della sua vita anteriore, riprende facilmente il corso delle antiche feste: sempre sfarzosa e sempre con un uomo, al quale concede le proprie notti: la figura di Violetta così vera nelle contradizioni e così falsa nell''eroismo, fragile e terribile nella sua effimera prepotenza di grande mondana, spregevole e pietosa nell''ultima lotta col destino, contro al quale non ha mai saputo lottare colle forze del lavoro e le energie della volontà; questa figura composita come i suoi pranzi  mai un collo, nè due spalle più voluttuose, ma il seno abilmente impicciolito dal velo aveva ancora un''ampiezza **terribilmente** lasciva; ma la statura, il portamento, l''imperiale maestà del volto appena appena commosso la facevano un tipocosì ad un giovane, che sposandola per il danaro non le avrebbe certamente creduto."
      ],
      "text/plain": [
       "<IPython.core.display.Markdown object>"
      ]
     },
     "metadata": {},
     "output_type": "display_data"
    },
    {
     "data": {
      "text/markdown": [
       "Era una cosa **terribilmente** piena di mortificazione per la signora: quell''uomo, il prof. Marchi, gelido, meccanico, irreprensibile nel vestitoprofeti della \"concordia\" e a parlare così, e a dire che l''Italia non era preparata alla guerra, e che il Lombardo-Veneto sarebbe stato invaso in una settimana, e che si voleva sfasciare in cinque mesi ciò che si era messo insieme in più di cinquant''anni, c''era pericolo, specialmente quando si aveva una moglie di Vienna o di Berlino, di sentirsi dire quello che si sentì dire Pierino da un amico che perdeva la pazienza, e con la pazienza anche le staffe, e con le staffe anche il fiato, nel volerlo persuadere, sino al punto di perdere con molto fiato anche un po'' d''educazione per gridargli: \"Già tu hai per moglie un''austriaca...  E ve l''hanno scritto anche , oggi, su tutte le cantonate, a carbone, a lettere cubitali: Divisi e senza testa, è il valzer della morte."
      ],
      "text/plain": [
       "<IPython.core.display.Markdown object>"
      ]
     },
     "metadata": {},
     "output_type": "display_data"
    },
    {
     "data": {
      "text/markdown": [
       ", con voci umane di preghiera e di lamento, con grida umane di gioia, con bassi accenti umani di rimprovero e acuti di angoscia , esprimendo, compendiando, commentando le precoci torture della mia adolescenza, le mie caldezze d''amore e leaggrappati a sporgenze rocciose quasi impercettibili, sospesi a mezza costa con un abisso sul capo ed uno ai piedi, **terribilmente** pittoreschi, dei quali l''estate nasconde il miserrimo aspetto e l''inverno rivela l''esistenza sempre pericolante.I padroni di alcuni castelli disabitati od inabitabili dovettero rifarne la porta e sbarrarla e acciecare le finestre a pian terreno, perchè a notte chiusa proprio nell''ora degli spettri, saliva gente del paese a far man bassa su quel pochissimo durato in piedi, a rubare i colonnini delle finestre e i gradini della scala."
      ],
      "text/plain": [
       "<IPython.core.display.Markdown object>"
      ]
     },
     "metadata": {},
     "output_type": "display_data"
    },
    {
     "data": {
      "text/markdown": [
       "La discesa fu terribile e **terribilmente** lunga."
      ],
      "text/plain": [
       "<IPython.core.display.Markdown object>"
      ]
     },
     "metadata": {},
     "output_type": "display_data"
    },
    {
     "data": {
      "text/markdown": [
       "terrore ripara in un convento; Astolfo, suo successore, si arresta in mezzo a vittorie insperate, colto dallo stesso spavento , sulla via di Roma; e allora Stefano II, sublime di ardimento, viene a minacciarlo sino nel suo castello di Pavia, passasenza le carte, ci pensavo il giorno e la notte, e le vicende del giuoco unite al liquore di Bacco mi agitavano il sonno **terribilmente** ."
      ],
      "text/plain": [
       "<IPython.core.display.Markdown object>"
      ]
     },
     "metadata": {},
     "output_type": "display_data"
    },
    {
     "data": {
      "text/markdown": [
       "Ma invece il suo freddo cuore dormiva nei sensi **terribilmente** innamorati; ella si avvolgeva nel vizio con una specie di opaca ira, voleva essere una dura e splendida cortigiana, perE non pensate voi alla vostra vita, se foste nata una povera donna, Madlen?"
      ],
      "text/plain": [
       "<IPython.core.display.Markdown object>"
      ]
     },
     "metadata": {},
     "output_type": "display_data"
    },
    {
     "data": {
      "text/markdown": [
       "E, una sera, poichè Eva apriva con un gesto di malumore una nuova lettera inconcludente del consigliere Faber, Pierino si piantò dinanzi a sua moglie, incastrò nell''occhio la caramella e, tutto d''un fiato, così come si getta in acqua chi ha paura dell''acqua, tenne, velocissimamente, il seguente discorso:  sentimentale, a vederla così disperata, schiantata... Ha tanta pietà e tanta simpatia... E, poichè veder soffrire è spesso una buona occasione per cominciare ad amare, Fiorvante, sollevandola da terra dove s''è rovesciata con le sue lacrime ecolmi di stelle, tutto ciò che porta gli uomini verso il terrestre paradiso, tutto ciò che non vuole spegnersi:–e più **terribilmente** di noi questi uccisi amavano la vita."
      ],
      "text/plain": [
       "<IPython.core.display.Markdown object>"
      ]
     },
     "metadata": {},
     "output_type": "display_data"
    },
    {
     "data": {
      "text/markdown": [
       "Ma io divago **terribilmente** , o Personaggi della Commedia, e non mi ricordo più che voi soffriate per l''impazienza di conoscere con esattezza chia cassetta suonava imperterrito l''inno di Garibaldi con la cornetta e spaventava i cavalli che, per la pioggia, per lo spavento delle grida, per il gran peso, non volevano andar più avanti."
      ],
      "text/plain": [
       "<IPython.core.display.Markdown object>"
      ]
     },
     "metadata": {},
     "output_type": "display_data"
    },
    {
     "data": {
      "text/markdown": [
       "Pazzo di dolore l’animale si dibatte **terribilmente** mentre la lama gli dilania le viscere: ogni tanto si rizza sulle zampe scoprendo l’enorme ventre sfondato dal quale escono le interiora."
      ],
      "text/plain": [
       "<IPython.core.display.Markdown object>"
      ]
     },
     "metadata": {},
     "output_type": "display_data"
    },
    {
     "data": {
      "text/markdown": [
       "Il cielo azzurro non era tuttavia lieto e doveva riuscire **terribilmente** feroce, a quanti soffrivano; di tanto in tanto, dei periodi di vento furioso facevano discendere la temperatura,nella poltrona, coi capelli sparsi, gli occhi chiusi, la faccia pallida, il corpo tutto come piegato da una violenta angoscia ,--pareva la superstite d''una cupa tragedia."
      ],
      "text/plain": [
       "<IPython.core.display.Markdown object>"
      ]
     },
     "metadata": {},
     "output_type": "display_data"
    },
    {
     "data": {
      "text/markdown": [
       "– Mi sei piaciuta sùbito, – continuai; – l''altra sera, quando giocavi, provavo **terribilmente** la tentazione di mordere la tua bocca... Ella piegò il mento sul petto; una grande ombra le ravvolse il viso immobile."
      ],
      "text/plain": [
       "<IPython.core.display.Markdown object>"
      ]
     },
     "metadata": {},
     "output_type": "display_data"
    },
    {
     "data": {
      "text/markdown": [
       "Da parecchie notti mi è impossibile dormire, si è **terribilmente** ingrossato, non sono più dolori, ma spasimi; la natura stessa mi fa sentire il bisogno di aprire una via al male cheChe, se Alberto Pisani ha dovuto servire alla Nazione, passando sotto i lavorini monarchici della uniforme diplomatica, ha pur sempre permesso a Carlo Dossi il piacere della ribellione, quando risponde alla costituzionalità in questo modo:[66] \"Il re costituzionale può essere paragonato ad una meretrice, che è, per così dire, proprietà di chi lo paga, ossia del ministro al potere."
      ],
      "text/plain": [
       "<IPython.core.display.Markdown object>"
      ]
     },
     "metadata": {},
     "output_type": "display_data"
    },
    {
     "data": {
      "text/markdown": [
       "Loris ordinò a Topine di andare innanzi, e rimase in faccia a tutti, guardandoli così **terribilmente** che non osarono attaccarlo."
      ],
      "text/plain": [
       "<IPython.core.display.Markdown object>"
      ]
     },
     "metadata": {},
     "output_type": "display_data"
    },
    {
     "data": {
      "text/markdown": [
       "Oreste rimarrebbe **terribilmente** sconcertato da quel buco nel cielo."
      ],
      "text/plain": [
       "<IPython.core.display.Markdown object>"
      ]
     },
     "metadata": {},
     "output_type": "display_data"
    },
    {
     "data": {
      "text/markdown": [
       "Quando poi, aperta la lettera, la lessi, imagina lo statoonnipotente gerarchia, è diventata la negazione di sè stessa, ed ha data al mondo quella società feroce, selvaggia, **terribilmente** appassionata, senza pietà e senza amore, di cui la Divina Commedia e i drammi di Shakespeare ci presentano il quadrociviltà ellenica, egli voleva impedirne la rovina, considerava come un supremo dovere il difenderla dai pericoli che **terribilmente** la premevano."
      ],
      "text/plain": [
       "<IPython.core.display.Markdown object>"
      ]
     },
     "metadata": {},
     "output_type": "display_data"
    },
    {
     "data": {
      "text/markdown": [
       "Bevettero il whisky, ma questo non giovò a rimettere a posto i loro nervi **terribilmente** scossi."
      ],
      "text/plain": [
       "<IPython.core.display.Markdown object>"
      ]
     },
     "metadata": {},
     "output_type": "display_data"
    },
    {
     "data": {
      "text/markdown": [
       "Allora Guglielmo, preso da entusiasmo sublime, gett+API- via il cappellaccio, si strapp+API- di dosso il mantello, e agitando lo spadone, maraviglioso di audacia e di forza, url+API- **terribilmente**:   +IBQ- A me, filibustieri della Lumaca+ACE- E voi, soldati di Spagna guardate per l+IBk-ultima volta il Corsaro Giallo+ACEAIQ-... +IBQ-   Tutti allibirono, e caddero in ginocchio, chiedendo piet+AOAAIQ- I pi+APk- morirono di spavento."
      ],
      "text/plain": [
       "<IPython.core.display.Markdown object>"
      ]
     },
     "metadata": {},
     "output_type": "display_data"
    },
    {
     "data": {
      "text/markdown": [
       "Vedevo il pesante suggello d''ombra sotto il chiarore de'' suoi occhi dorati; ma questo visibile artifizio le stava **terribilmente** bene, rendeva il suo volto meno puro, gli dava uno splendore più torbido, una bellezza più tormentata."
      ],
      "text/plain": [
       "<IPython.core.display.Markdown object>"
      ]
     },
     "metadata": {},
     "output_type": "display_data"
    },
    {
     "data": {
      "text/markdown": [
       "Si servivano anche **terribilmente** delle pietre, facendole franare dai monti; pochi uomini robusti, appoggiando le spalle e i gomiti alla roccia, e facendo forza coi piedi o con le leve, smovevano, cacciavan giù dei pietroni enormi, che precipitando si rompevano, davan la mossa ad altri pietroni, squarciavan le colonne, spezzavano dei soldati in due, e portavan via braccia e gambe e file intere, sparpagliandosi come scariche di mitraglia, a cui l''angustia dei luoghi rendeva impossibile di sfuggire."
      ],
      "text/plain": [
       "<IPython.core.display.Markdown object>"
      ]
     },
     "metadata": {},
     "output_type": "display_data"
    },
    {
     "data": {
      "text/markdown": [
       "Quando la nostra automobile si ferma dinanzi al palazzo dei Kaporo-Pendopo sono quasi pentito d’aver accettato l’invito, tanto è **terribilmente** olandese l’atrio della villa e più olandese ancora il salotto nel quale un domestico bianco ci introduce con la classica alterigia dei lacchè di grande casata: poltrone e divani di cuoio color avana, marina d’Amsterdam, e canali d’Utrecht alle pareti, v’è perfino un monumentale camino di «polder» batavo con una collezione di vecchie pipe del Bramante."
      ],
      "text/plain": [
       "<IPython.core.display.Markdown object>"
      ]
     },
     "metadata": {},
     "output_type": "display_data"
    },
    {
     "data": {
      "text/markdown": [
       "Chi, in un giorno di battaglia, udì di lontano quel suono cupo e profondo sa che angoscia esso metta negli animi, che pallore sparga sui volti, e come sospenda, per così dire, in quella crudele trepidazione dila chiave di questo affascinante nuovo mondo: \"Il russo--egli dice in _Delitto e Gastigo_--è vasto come la sua patria, **terribilmente** inclinato a tutto quel che è fantastico e disordinato."
      ],
      "text/plain": [
       "<IPython.core.display.Markdown object>"
      ]
     },
     "metadata": {},
     "output_type": "display_data"
    },
    {
     "data": {
      "text/markdown": [
       "Ma la tradizione ecclesiastica gli è stata **terribilmente** nemica; gli ha impresso il marchio dell''apostata e, con questa qualifica, lo ha condannato all''abbominio ed all''Ma, talvolta, nella vita, le contraddizioni s''impongono e diventa impossibile il sottrarvisi; in quel momento supremo della vita di Giuliano, l''imperatore ed il filosofo venivano ad urtarsi, e la forza delle cose voleva che l''imperatore facesse tacere il filosofo."
      ],
      "text/plain": [
       "<IPython.core.display.Markdown object>"
      ]
     },
     "metadata": {},
     "output_type": "display_data"
    },
    {
     "data": {
      "text/markdown": [
       "Allora sarà di lei quello che doveva essere il primoeravate veramente un uomo senza cuore, gelido e sciupato, al quale restava negli occhi, forse nell''anima, qualcosa di **terribilmente** lontano, che altre portarono via, qualcosa di aspro, di amaro, d''insensibile... mi piacevate allora, e dopo di alloraMi fermai tuttavia un altro poco; e mi ricordo che venne a sedere fra noi un vecchietto segaligno e vispo, con un vestitino di cotone e un consunto cappelluccio di paglia che quasi non aveva ala; e raccontava raccontava con una gioia da bambino tutti i vecchi aneddoti di Paganini, il violinista, come fossero stati freschi di ieri, e io lo stavo a sentire per sorprendere se v''era già qualche venatura di toscano nel suo dialetto, quando il vecchierello disse:  \"Io sono corso sino qui come un cane randagio\" pensò."
      ],
      "text/plain": [
       "<IPython.core.display.Markdown object>"
      ]
     },
     "metadata": {},
     "output_type": "display_data"
    },
    {
     "data": {
      "text/markdown": [
       "Oggi mi sembrate una superba miss, **terribilmente** inglese, che dietro la sua gelida e splendente bellezza nasconda una specie di sorda ostilità contro il genere umano,–a sorridere – un po'' di bontà, un po'' di disprezzo – chè tanto non l''avrebbero riveduto mai più."
      ],
      "text/plain": [
       "<IPython.core.display.Markdown object>"
      ]
     },
     "metadata": {},
     "output_type": "display_data"
    },
    {
     "data": {
      "text/markdown": [
       "Perciò, di lontano, Fermo mi appariva come un angelo **terribilmente** bello, posto a custodia di una porta che dei diavoli in maglia rossa o arancio o azzurra si ostinavano a insidiare."
      ],
      "text/plain": [
       "<IPython.core.display.Markdown object>"
      ]
     },
     "metadata": {},
     "output_type": "display_data"
    },
    {
     "data": {
      "text/markdown": [
       "La darnas, abbandonata a sè stessa per la morte del timoniere, girò di, dieci giorni fa la cercava ancora, interrogava i guerrieri che venivano dal Bahr-el-Abiad, giurava di vendicarsi **terribilmente** di questa donna che lo aveva indegnamente tradito, ed invece è qui e ancor viva."
      ],
      "text/plain": [
       "<IPython.core.display.Markdown object>"
      ]
     },
     "metadata": {},
     "output_type": "display_data"
    },
    {
     "data": {
      "text/markdown": [
       "in una ricca vesta da camera bruna a bruni ricami, pallida, mal pettinata, con un cerchio turchino sotto gli occhi così **terribilmente** più vivi."
      ],
      "text/plain": [
       "<IPython.core.display.Markdown object>"
      ]
     },
     "metadata": {},
     "output_type": "display_data"
    },
    {
     "data": {
      "text/markdown": [
       "Il signor Antonino non s''era accorto del tempo ch''era passato mentr''egli stava fantasticando, e nonun altro, e, sodisfatto dell''attenzione suscitata, riprese, con tono di solennità nella voce: -- Mi son vendicato, **terribilmente** , senza incorrere nel pericolo d''un processo e nella pettegola pubblicità dei giornali!"
      ],
      "text/plain": [
       "<IPython.core.display.Markdown object>"
      ]
     },
     "metadata": {},
     "output_type": "display_data"
    },
    {
     "data": {
      "text/markdown": [
       "E perciò non ti sgomentare , amico lettore, se, dopo averne sentito parlare come d''un cefalopodo, adesso, ai primi approcci, te la vedi, con parole d''amore tra i singhiozzi, con laceramenti così acuti di voce rotta e con una espressione di dolore così **terribilmente** bestiale che per tutti gli astanti corse un brivido e tutti rivolsero altrove la faccia."
      ],
      "text/plain": [
       "<IPython.core.display.Markdown object>"
      ]
     },
     "metadata": {},
     "output_type": "display_data"
    },
    {
     "data": {
      "text/markdown": [
       "Il sorriso scettico si accentuò **terribilmente** , ed il professore ripresa: --E non v''ha lasciato nulla?"
      ],
      "text/plain": [
       "<IPython.core.display.Markdown object>"
      ]
     },
     "metadata": {},
     "output_type": "display_data"
    },
    {
     "data": {
      "text/markdown": [
       "Ci si sente in complesso **terribilmente** disgraziati, e dareste tutti i milioni dell’amabile lord e tutti gli ingegnosi brevetti del suo fornitore di tende esotiche per un alito di zeffiro primaverile, per un quarto d’ora di brezza montanina, per una di quelle soavissime ventate d’alpe italica, che scaturiscono dalle profondità cupe di una gola boschiva e vi penetrano in gola con tutti gli aromi umidi della terra fresca."
      ],
      "text/plain": [
       "<IPython.core.display.Markdown object>"
      ]
     },
     "metadata": {},
     "output_type": "display_data"
    },
    {
     "data": {
      "text/markdown": [
       "Però come furono **terribilmente** lunghi i giorni trascorsi al buio e in piena solitudine con Suor Costanza!"
      ],
      "text/plain": [
       "<IPython.core.display.Markdown object>"
      ]
     },
     "metadata": {},
     "output_type": "display_data"
    },
    {
     "data": {
      "text/markdown": [
       "ci avevano accompagnati alle porte, e quegli applausi e quelle grida ci scendevano nel cuore e gli davan delle strette **terribilmente** dolorose.--Oh tacete!--dicevamo dentro di noi--tacete, siamo soldati, e il nostro povero cuore si spezza!-- Seguìdisse ad alta voce dello stato infelicissimo in cui versava la città,--erano i giorni in cui il colèra infieriva più **terribilmente** ,--degli ospedali che difettavano d''infermieri, del debito che incombe ad ogni buon cittadino di prestar l''opera suaNon gli aveva chiesto nulla; ma quella sera stessa, chiamando a sè con qualche pretesto gli amici comuni dei due gentiluomini, era venuta a capo di stabilire un buon servizio di esplorazione."
      ],
      "text/plain": [
       "<IPython.core.display.Markdown object>"
      ]
     },
     "metadata": {},
     "output_type": "display_data"
    },
    {
     "data": {
      "text/markdown": [
       "figlio, immolata la vita di Henri a una apparente infamia di alcune ore, avrebbe da vigliacco, da plebeo, compromessa **terribilmente** la Baronessa."
      ],
      "text/plain": [
       "<IPython.core.display.Markdown object>"
      ]
     },
     "metadata": {},
     "output_type": "display_data"
    },
    {
     "data": {
      "text/markdown": [
       "--, dieci giorni fa la cercava ancora, interrogava i guerrieri che venivano dal Bahr-el-Abiad, giurava di vendicarsi **terribilmente** di questa donna che lo aveva indegnamente tradito, ed invece è qui e ancor viva."
      ],
      "text/plain": [
       "<IPython.core.display.Markdown object>"
      ]
     },
     "metadata": {},
     "output_type": "display_data"
    },
    {
     "data": {
      "text/markdown": [
       "perchè i francesi non avessero pensato molto tempo prima a costruire un forte sulla cima di quel monte che dominava così **terribilmente** Pinerolo; perchè è certo che del forte di Santa Brigida non c''era ancora segno nell''aprile del 1692, e che i lavori nonIn verità sarebbe curiosa che noi, uomini provati al fuoco delle passioni, facessimo oggi una sconcia caduta!"
      ],
      "text/plain": [
       "<IPython.core.display.Markdown object>"
      ]
     },
     "metadata": {},
     "output_type": "display_data"
    },
    {
     "data": {
      "text/markdown": [
       "_Une fiche de consolation!_ Le donne avevano però un''arma in loro mano: esse potevano vendicarsi **terribilmente** , distruggendo l''onore d''un uomo, coprendolo di ridicolo per tutta la vita."
      ],
      "text/plain": [
       "<IPython.core.display.Markdown object>"
      ]
     },
     "metadata": {},
     "output_type": "display_data"
    },
    {
     "data": {
      "text/markdown": [
       "La figura del suo Principe **terribilmente** sinistra, impassibile e serena, ha sulla fronte i vapori luminosi di un sogno--costituire uno Stato nazionale,a vivere di battaglie e a conquistare città, cerca istintivamente una cornice dove fissarsi."
      ],
      "text/plain": [
       "<IPython.core.display.Markdown object>"
      ]
     },
     "metadata": {},
     "output_type": "display_data"
    },
    {
     "data": {
      "text/markdown": [
       "**terribilmente** odiato...."
      ],
      "text/plain": [
       "<IPython.core.display.Markdown object>"
      ]
     },
     "metadata": {},
     "output_type": "display_data"
    },
    {
     "data": {
      "text/markdown": [
       "Questa donna diventa rossa come di fuoco, poi impallidisce **terribilmente** ; poi con voce strozzata, acre, sprezzante, dà a quest''uomo dell''indegno e del vile; e come egli, agghiacciato,idealmente, in secreto, senza confessarlo a sè stessi, si accompagna ordinariamente con un senso d''intimo sgomento , per l''esagerata coscienza della propria inettitudine dinnanzi alla realtà."
      ],
      "text/plain": [
       "<IPython.core.display.Markdown object>"
      ]
     },
     "metadata": {},
     "output_type": "display_data"
    },
    {
     "data": {
      "text/markdown": [
       "Ancor sogno un'aurora che gli occhi miei non videro; desidero, desidero **terribilmente** ancora!..."
      ],
      "text/plain": [
       "<IPython.core.display.Markdown object>"
      ]
     },
     "metadata": {},
     "output_type": "display_data"
    },
    {
     "data": {
      "text/markdown": [
       "Con un impeto irresistibile Sandokan s'era gettato in mezzo alle file sciabolandole **terribilmente** e scompaginandole."
      ],
      "text/plain": [
       "<IPython.core.display.Markdown object>"
      ]
     },
     "metadata": {},
     "output_type": "display_data"
    },
    {
     "data": {
      "text/markdown": [
       "+IBQ- Aj, Dios mio +IBM- sospir+API- l+IBk-uomo della botte +IBM- io soffro **terribilmente** il mal di mare... e questo sballott+AOw-o... mi strazia le viscere...   +IBQ- Dormite, se+APE-or+ACE- +IBM- disse Guglielmo Barbarugo in tono paterno +IBM- non saprei darvi miglior consiglio... Pu+API- succedere che, a furia di sentirvi male, cessiate di soffrire e anzi, che il moto continuo vi faccia bene... +IBQ-   Dopo questo sensato discorso, il prode filibustiere si avvolse una corda intorno alla vita e si leg+API- all+IBk-albero+ADs- poi incroci+API- le braccia sul petto, e stando sempre a cavalcioni della botte, come una bizzarra deit+AOA- delle acque, si pose a sonnecchiare, rivedendo nel dormiveglia le scene strane e terribili delle sue imprese eroiche...   All+IBk-alba la botte-nave o la nave-botte, come volete chiamarla, galleggiava al largo da ogni costa, sopra un mare appena increspato da un vento lieve di Mezzogiorno."
      ],
      "text/plain": [
       "<IPython.core.display.Markdown object>"
      ]
     },
     "metadata": {},
     "output_type": "display_data"
    },
    {
     "data": {
      "text/markdown": [
       "Vedrai quelli che assaltarono la rupe del Carso formidabile; quelli che, guadato il fiume, **terribilmente** vissero nell''inferno di Doberdò."
      ],
      "text/plain": [
       "<IPython.core.display.Markdown object>"
      ]
     },
     "metadata": {},
     "output_type": "display_data"
    },
    {
     "data": {
      "text/markdown": [
       "Pensò anche all’avvenire che le si presentava **terribilmente** incerto per lei non giovanissima e con quei due fratelli strambi ed abulici, dai quali sarebbe stato ingenuo sperare appoggio; e alla quarta domanda d’Emilio disse di sì."
      ],
      "text/plain": [
       "<IPython.core.display.Markdown object>"
      ]
     },
     "metadata": {},
     "output_type": "display_data"
    },
    {
     "data": {
      "text/markdown": [
       "Così **terribilmente** l''odiava Notis per seppellirlo in quest''orrida tomba?"
      ],
      "text/plain": [
       "<IPython.core.display.Markdown object>"
      ]
     },
     "metadata": {},
     "output_type": "display_data"
    },
    {
     "data": {
      "text/markdown": [
       "Però è doloroso, profondamente doloroso per l’unico italiano presente ad Albertville alla cerimonia ufficiale del Comando, come per tutti gli italiani che in patria e fuori dei suoi confini amano la loro terra, è **terribilmente** doloroso che proprio noi che abbiamo tante braccia disponibili, che dobbiamo pagare a prezzo di sudore amaro, in franchi, in dollari e sterline il pane quotidiano dei nostri telai, laminatoi, alti forni, frantatoi, lambicchi, proprio noi dobbiamo venire come potenza coloniale dopo il Belgio, l’Olanda, il Portogallo!"
      ],
      "text/plain": [
       "<IPython.core.display.Markdown object>"
      ]
     },
     "metadata": {},
     "output_type": "display_data"
    },
    {
     "data": {
      "text/markdown": [
       "Fu l'' ansia d''un solo istante; cadde la benda, Leonardo aprì gli occhi, li girò intorno e fissandoli estatico sulla faccia paurosa, diventa così, senza sforzo, il simbolo di una razza perseguitata e ribelle, e porta a una catastrofe impensata, ma **terribilmente** logica."
      ],
      "text/plain": [
       "<IPython.core.display.Markdown object>"
      ]
     },
     "metadata": {},
     "output_type": "display_data"
    },
    {
     "data": {
      "text/markdown": [
       "Gli Austriaci danno di volta; ma, dividendosi, scoprono nuovi battaglioni, **terribilmente** compatti, che rovesciano sugli assalitori una tempesta di palle."
      ],
      "text/plain": [
       "<IPython.core.display.Markdown object>"
      ]
     },
     "metadata": {},
     "output_type": "display_data"
    },
    {
     "data": {
      "text/markdown": [
       "mai levarmi di addosso il funesto dominio del suo filtro, del suo misterioso potere, che forse avrebbe operato più **terribilmente** da lontano.... Infatti, se ella mi avesse detto in quel momento, invece di: Parto!--Domani non spunterà più il sole,di strapparsi le fasce, Hermann e il servo lo afferrarono pei polsi."
      ],
      "text/plain": [
       "<IPython.core.display.Markdown object>"
      ]
     },
     "metadata": {},
     "output_type": "display_data"
    },
    {
     "data": {
      "text/markdown": [
       "Gli animali, assaliti e paurosi, prendevano **terribilmente** la forma del loro scheletro; gli uomini, allucinati, non parlavano più."
      ],
      "text/plain": [
       "<IPython.core.display.Markdown object>"
      ]
     },
     "metadata": {},
     "output_type": "display_data"
    },
    {
     "data": {
      "text/markdown": [
       "La infelice non poteva pensare, senza raccapriccio , alla continua presenza di quell''insultante testimone della ignominia di lei, di quella menzogna, di quell''ingannomesi, sotto l''ossessione di quella scena di delusione che aveva offeso il suo amor proprio e il suo amore, e che lo faceva **terribilmente** soffrire notte e giorno, quantunque egli tentasse ogni mezzo di distrarsi, anche perchè colei non potessePer poco ella non si persuadeva che suo figlio era un mostro di perversità."
      ],
      "text/plain": [
       "<IPython.core.display.Markdown object>"
      ]
     },
     "metadata": {},
     "output_type": "display_data"
    },
    {
     "data": {
      "text/markdown": [
       "Esse accesero l''incendio, ma non credevano che tanta materia vi fosse da farlo divampare **terribilmente** ; si videro sorpassate nelle intenzioni e si spaventarono della lava che minacciava travolgere tutto e tutti."
      ],
      "text/plain": [
       "<IPython.core.display.Markdown object>"
      ]
     },
     "metadata": {},
     "output_type": "display_data"
    },
    {
     "data": {
      "text/markdown": [
       "E non siamo ancora negli anni ultimi, nei quali la crisi economica è **terribilmente** aumentata...... Ancora delle cifre!"
      ],
      "text/plain": [
       "<IPython.core.display.Markdown object>"
      ]
     },
     "metadata": {},
     "output_type": "display_data"
    },
    {
     "data": {
      "text/markdown": [
       "--Ho paura, dice Bianca, penso che mi farai soffrire, **terribilmente** soffrire."
      ],
      "text/plain": [
       "<IPython.core.display.Markdown object>"
      ]
     },
     "metadata": {},
     "output_type": "display_data"
    },
    {
     "data": {
      "text/markdown": [
       "Ma da due anni in qua i salarî ribassano **terribilmente** e c''è una triste concorrenza nel lavoro che i mietitori di una contrada vanno a fare a quelli di un''altra; concorrenza,qualche volta, esasperato dalla perdita, che per lui è un vero disastro, lo cerca, lo insegue, e se lo trova, lo bastona **terribilmente** ."
      ],
      "text/plain": [
       "<IPython.core.display.Markdown object>"
      ]
     },
     "metadata": {},
     "output_type": "display_data"
    },
    {
     "data": {
      "text/markdown": [
       "È un volto **terribilmente** bello per l'estrema sofferenza che lo affina, per la felicità insostenibile che gli riempie gli occhi di bruciante tenerezza."
      ],
      "text/plain": [
       "<IPython.core.display.Markdown object>"
      ]
     },
     "metadata": {},
     "output_type": "display_data"
    },
    {
     "data": {
      "text/markdown": [
       "Ci aspetterà inper l''abitudine di osservare e di pensare, ma poco addentro nella scienza; per lui povero prete campagnuolo, ciò era **terribilmente** difficile."
      ],
      "text/plain": [
       "<IPython.core.display.Markdown object>"
      ]
     },
     "metadata": {},
     "output_type": "display_data"
    },
    {
     "data": {
      "text/markdown": [
       "A un tratto, la contessa si fece **terribilmente** pallida."
      ],
      "text/plain": [
       "<IPython.core.display.Markdown object>"
      ]
     },
     "metadata": {},
     "output_type": "display_data"
    },
    {
     "data": {
      "text/markdown": [
       "mai un collo, nè due spalle più voluttuose, ma il seno abilmente impicciolito dal velo aveva ancora un''ampiezza **terribilmente** lasciva; ma la statura, il portamento, l''imperiale maestà del volto appena appena commosso la facevano un tipoindarno tante tragedie greche senza accorgersi che ogni cronaca dei nostri comuni era affollata di figure ben più **terribilmente** belle che nelle corti di Tebe e di Atene?"
      ],
      "text/plain": [
       "<IPython.core.display.Markdown object>"
      ]
     },
     "metadata": {},
     "output_type": "display_data"
    },
    {
     "data": {
      "text/markdown": [
       "Ond''è, ci vuole molta ingenuità--o molta malignità--per meravigliarsi o fingere sorpresa che i primi tumulti siano stati **terribilmente** contagiosi."
      ],
      "text/plain": [
       "<IPython.core.display.Markdown object>"
      ]
     },
     "metadata": {},
     "output_type": "display_data"
    },
    {
     "data": {
      "text/markdown": [
       "Pei vasti Adamantini portici solenni Della reggia immortal suonava ancora, **terribilmente** pauroso, l''inno Dell''immensa vittoria; ancor sul nome Del cattolico Iddio scherni possenti Avventavano i demoni,a valersi di ogni arma contro la compagna infedele; una moglie impreparata all''onta che le pendeva sul capo; un amante atterrito dalla nuova responsabilità che lo minacciava e impaziente di scuotere un giogo che diveniva troppo pesante; dei figlinel cuore, ella riprovava le angosce dell''amore deluso, le smanie della gelosia, gli stimoli della vendetta, lo sgomento dell''incerto avvenire."
      ],
      "text/plain": [
       "<IPython.core.display.Markdown object>"
      ]
     },
     "metadata": {},
     "output_type": "display_data"
    },
    {
     "data": {
      "text/markdown": [
       "Finalmente dietro l''Austria stava l''Europa monarchica vigile ed ostile ad ogni mena di rivoluzione, **terribilmente** armata e pronta a qualunque eccesso."
      ],
      "text/plain": [
       "<IPython.core.display.Markdown object>"
      ]
     },
     "metadata": {},
     "output_type": "display_data"
    },
    {
     "data": {
      "text/markdown": [
       "– Se non foste innamorato, Guelfo... – Ma lo sono, lo sono **terribilmente** ... di un pensiero che mi avete fatto nascere voi!"
      ],
      "text/plain": [
       "<IPython.core.display.Markdown object>"
      ]
     },
     "metadata": {},
     "output_type": "display_data"
    },
    {
     "data": {
      "text/markdown": [
       "Il popol gli era grato, Perchè soltanto il popolo--era allora appiccato.riaperta agli eserciti di Radetzky; Milano stessa minacciata; ecco le notizie che dal 25 al 30 luglio giungevano **terribilmente** gravi nella Capitale Lombarda."
      ],
      "text/plain": [
       "<IPython.core.display.Markdown object>"
      ]
     },
     "metadata": {},
     "output_type": "display_data"
    },
    {
     "data": {
      "text/markdown": [
       "Le misi un braccio intorno al collo, intorno alla nuca, la sua bella nucavia da te, una sera ho chiuso gli occhi, ed ho sentito la sua bocca fredda, la sua bocca pallida... pesare, pesare **terribilmente** su la mia...\" Forse non l''ascoltavo nemmeno più."
      ],
      "text/plain": [
       "<IPython.core.display.Markdown object>"
      ]
     },
     "metadata": {},
     "output_type": "display_data"
    },
    {
     "data": {
      "text/markdown": [
       "Si rialzò a granquel che era dietro, nella notte, ora le pareva sogno confuso; s''esalava il fervore del vóto; la volontà, tesa così **terribilmente** fino a quel punto, s''allentava, s''annientava."
      ],
      "text/plain": [
       "<IPython.core.display.Markdown object>"
      ]
     },
     "metadata": {},
     "output_type": "display_data"
    },
    {
     "data": {
      "text/markdown": [
       "Le acque ruggono **terribilmente** sgorgando da ogni parte, invadendo vittoriose le valli: il cielo del color della pece è solcato qua e là da strisce di sangue; all’orizzonte si disegnano i profili dei monti che si sollevano ancora su l’Oceano e su i quali si addensano, vespaio immane, che manda un ronzio assordante di grida altissime, invocante misericordia, i poveri uomini colpiti dall’ira dei numi.... Tutto si agita, tutto precipita."
      ],
      "text/plain": [
       "<IPython.core.display.Markdown object>"
      ]
     },
     "metadata": {},
     "output_type": "display_data"
    },
    {
     "data": {
      "text/markdown": [
       "Ma come è drammatico ed interessante l''incontro, nella scuola di Atene, di questi due giovani, destinati a diventare **terribilmente** nemici l''uno dell''altro, e che già si spiavano a vicenda con quell''acume che dà l''odio istintivo."
      ],
      "text/plain": [
       "<IPython.core.display.Markdown object>"
      ]
     },
     "metadata": {},
     "output_type": "display_data"
    },
    {
     "data": {
      "text/markdown": [
       "Ma la tradizione ecclesiastica gli è stata **terribilmente** nemica; gli ha impresso il marchio dell''apostata e, con questa qualifica, lo ha condannato all''abbominio ed all''., 604, 10 sg."
      ],
      "text/plain": [
       "<IPython.core.display.Markdown object>"
      ]
     },
     "metadata": {},
     "output_type": "display_data"
    },
    {
     "data": {
      "text/markdown": [
       "Ma, e tutti gli altri stipati nellatutta l''impassibilità necessaria a tale inintelligibile olocausto, perchè egli solo aveva avuto l''anima così **terribilmente** logica da volerlo."
      ],
      "text/plain": [
       "<IPython.core.display.Markdown object>"
      ]
     },
     "metadata": {},
     "output_type": "display_data"
    },
    {
     "data": {
      "text/markdown": [
       ", quell''esaltamento lieve che si attinge in un bicchiere di Sciampagna, un''ebbrezza, un esaltamento innocenti, ma **terribilmente** arrischiati."
      ],
      "text/plain": [
       "<IPython.core.display.Markdown object>"
      ]
     },
     "metadata": {},
     "output_type": "display_data"
    },
    {
     "data": {
      "text/markdown": [
       "Ella ne conveniva tra sè; apertamente non, i contrasti, le divagazioni, le schermaglie non potevano far altro che giovare ai nemici: \"Pensate che si va addietro **terribilmente** , che i nostri padroni se ne giovano a riconciliarsi con atti di clemenza in favor di molti, che l''Austria conquista più, mescolate a grandi sghignazzamenti, una canzone di voce briaca, un ritornello di fischi e di grida."
      ],
      "text/plain": [
       "<IPython.core.display.Markdown object>"
      ]
     },
     "metadata": {},
     "output_type": "display_data"
    },
    {
     "data": {
      "text/markdown": [
       "), che io avevosulla mia nuca, il suo odore di fieno nelle narici, incominciai a frugare in tutti gli angoli del mio cervello divenuto **terribilmente** lucido, e credetti di indovinare, di scoprire la verità."
      ],
      "text/plain": [
       "<IPython.core.display.Markdown object>"
      ]
     },
     "metadata": {},
     "output_type": "display_data"
    },
    {
     "data": {
      "text/markdown": [
       "diffusa; anch''egli si contentava dei pochi viali fiancheggiati da villini brutti, e s''era avvezzo alle costruzioni **terribilmente** antipatiche di quegli alberghi nei quali si mangiava malissimo e dai quali si vedeva una sfilata di capanne tozze, unaFiori, vino, dolci, ed ora anche le scarpe!"
      ],
      "text/plain": [
       "<IPython.core.display.Markdown object>"
      ]
     },
     "metadata": {},
     "output_type": "display_data"
    },
    {
     "data": {
      "text/markdown": [
       "Una vecchia gialla, sdentata, scheletrica, infagottata in un cencio senza colore, s’era fermata contro un lampione a fissarmi con gli occhietti di smalto che era l’unica cosa **terribilmente** viva in quel corpo **terribilmente** morto."
      ],
      "text/plain": [
       "<IPython.core.display.Markdown object>"
      ]
     },
     "metadata": {},
     "output_type": "display_data"
    },
    {
     "data": {
      "text/markdown": [
       "Qualcosa di **terribilmente** feroce stava nell''occhio torbido sotto i fasci de'' muscoli cigliari contratti e fermi!"
      ],
      "text/plain": [
       "<IPython.core.display.Markdown object>"
      ]
     },
     "metadata": {},
     "output_type": "display_data"
    },
    {
     "data": {
      "text/markdown": [
       "Io, alla vostra età--parlavo con un giovane amico--ero **terribilmente** romantico ed idealista."
      ],
      "text/plain": [
       "<IPython.core.display.Markdown object>"
      ]
     },
     "metadata": {},
     "output_type": "display_data"
    },
    {
     "data": {
      "text/markdown": [
       "– Ma la signorina lo rimbeccava **terribilmente** ."
      ],
      "text/plain": [
       "<IPython.core.display.Markdown object>"
      ]
     },
     "metadata": {},
     "output_type": "display_data"
    },
    {
     "data": {
      "text/markdown": [
       "il volto contro il volto, ed opprimendolo con tutta la mole delle carni, per un impeto di passione e di gelosia così **terribilmente** incomposto che Passacantando ne rimase atterrito."
      ],
      "text/plain": [
       "<IPython.core.display.Markdown object>"
      ]
     },
     "metadata": {},
     "output_type": "display_data"
    },
    {
     "data": {
      "text/markdown": [
       "Margherita, e la speranza rassegnata di Alfredo si esprimono col medesimo canto, mentre sentimento e parole sono così **terribilmente** opposti?"
      ],
      "text/plain": [
       "<IPython.core.display.Markdown object>"
      ]
     },
     "metadata": {},
     "output_type": "display_data"
    },
    {
     "data": {
      "text/markdown": [
       "Le condizioni di Venezia s''aggravavano **terribilmente** ogni giorno."
      ],
      "text/plain": [
       "<IPython.core.display.Markdown object>"
      ]
     },
     "metadata": {},
     "output_type": "display_data"
    },
    {
     "data": {
      "text/markdown": [
       "Perchè questo fatale convenzionalismo, che deforma la bellezza e mutila l''arte: perchè, essendo grandi,risposta in una di quelle occhiate di alterigia, che le grandi dame e gli uomini superiori trovano così spesso e così **terribilmente** ."
      ],
      "text/plain": [
       "<IPython.core.display.Markdown object>"
      ]
     },
     "metadata": {},
     "output_type": "display_data"
    },
    {
     "data": {
      "text/markdown": [
       "Caterina (**terribilmente**) La morte!"
      ],
      "text/plain": [
       "<IPython.core.display.Markdown object>"
      ]
     },
     "metadata": {},
     "output_type": "display_data"
    },
    {
     "data": {
      "text/markdown": [
       "Pei vasti Adamantini portici solenni Della reggia immortal suonava ancora, **terribilmente** pauroso, l''inno Dell''immensa vittoria; ancor sul nome Del cattolico Iddio scherni possenti Avventavano i demoni,aspri doveri contratti nella vita e i godimenti della fantasia_."
      ],
      "text/plain": [
       "<IPython.core.display.Markdown object>"
      ]
     },
     "metadata": {},
     "output_type": "display_data"
    },
    {
     "data": {
      "text/markdown": [
       "I gesti delle scimmie morenti sono **terribilmente** umani."
      ],
      "text/plain": [
       "<IPython.core.display.Markdown object>"
      ]
     },
     "metadata": {},
     "output_type": "display_data"
    },
    {
     "data": {
      "text/markdown": [
       "Lei, poverina, non ha colpa, se lo amava.... È sempre così; non si amano che codesti birboni; e di cose molto serie... non c''è da essere in pensiero: ma ciò non toglie che in un modo o nell''altro vi rendete **terribilmente** preziosa... NINÌ (dal fondo) Olgiati!"
      ],
      "text/plain": [
       "<IPython.core.display.Markdown object>"
      ]
     },
     "metadata": {},
     "output_type": "display_data"
    },
    {
     "data": {
      "text/markdown": [
       "Oggi mi sembrate una superba miss, **terribilmente** inglese, che dietro la sua gelida e splendente bellezza nasconda una specie di sorda ostilità contro il genere umano,–dell''amore democratico: \"Innamorarsi.\""
      ],
      "text/plain": [
       "<IPython.core.display.Markdown object>"
      ]
     },
     "metadata": {},
     "output_type": "display_data"
    },
    {
     "data": {
      "text/markdown": [
       "d''un bicchiere troppo colmo, nella fuggitiva illusione d''una parola d''amore, l''uomo che saprà d''un tratto farle **terribilmente** male, contorcere fino allo spasimo la sua perduta e bianca nudità."
      ],
      "text/plain": [
       "<IPython.core.display.Markdown object>"
      ]
     },
     "metadata": {},
     "output_type": "display_data"
    },
    {
     "data": {
      "text/markdown": [
       "Come vorace fiamma, Poi che tutte afferrò l''aride secce Del vasto campo, il vicin bosco invade; **terribilmente** crepitando esulta Con cento lingue sanguinose a l''etra; Così questi venían dopo a un vessillo Fluttüante a l''avverseInfine quell''andare fu su questa superficie terrestre; la lupa che lo impedì, era bensì un mostro dell''inferno, ma non era nell''inferno, dipartita come era di là, dall''invidia satanica: l''altro viaggio fu sotterra."
      ],
      "text/plain": [
       "<IPython.core.display.Markdown object>"
      ]
     },
     "metadata": {},
     "output_type": "display_data"
    },
    {
     "data": {
      "text/markdown": [
       "per un figlio di pope...  Egli solo forse conservava anche in quel momento tutta l''impassibilità necessaria a tale inintelligibile olocausto, perchè egli solo aveva avuto l''anima così **terribilmente** logica da volerlo."
      ],
      "text/plain": [
       "<IPython.core.display.Markdown object>"
      ]
     },
     "metadata": {},
     "output_type": "display_data"
    },
    {
     "data": {
      "text/markdown": [
       "Sentivo **terribilmente** il bisogno d''immergere la mia viva bocca nella sua carne bella."
      ],
      "text/plain": [
       "<IPython.core.display.Markdown object>"
      ]
     },
     "metadata": {},
     "output_type": "display_data"
    },
    {
     "data": {
      "text/markdown": [
       "Seciò che non vuole spegnersi:–e più **terribilmente** di noi questi uccisi amavano la vita."
      ],
      "text/plain": [
       "<IPython.core.display.Markdown object>"
      ]
     },
     "metadata": {},
     "output_type": "display_data"
    },
    {
     "data": {
      "text/markdown": [
       "Questa è legge diaveva rada, breve ed incolta, e, per farla finita col ritratto, dirò che una bella elegante, di quelle che so io, avrebbe raccapricciato a vederselo tra i piedi, e un cagnolino di buon gusto, come sono in generale tutti i cagnolini da salotto, gli avrebbeci avevano accompagnati alle porte, e quegli applausi e quelle grida ci scendevano nel cuore e gli davan delle strette **terribilmente** dolorose.--Oh tacete!--dicevamo dentro di noi--tacete, siamo soldati, e il nostro povero cuore si spezza!-- Seguìdisse ad alta voce dello stato infelicissimo in cui versava la città,--erano i giorni in cui il colèra infieriva più **terribilmente** ,--degli ospedali che difettavano d''infermieri, del debito che incombe ad ogni buon cittadino di prestar l''opera suaV''è un consiglio d''amministrazione, un presidente, un vice-presidente, un segretario, un cassiere, un economo, un esattore, un bibliotecario, un censore, un consigliere, e tutti fanno il loro dovere e nessuno è pagato."
      ],
      "text/plain": [
       "<IPython.core.display.Markdown object>"
      ]
     },
     "metadata": {},
     "output_type": "display_data"
    },
    {
     "data": {
      "text/markdown": [
       "Era accompagnata da una copia di decreto del re che cassava la capitolazione, istituiva una Giunta di Stato cheil proprio astuccio di sigarette: la voce di sua moglie, il suo entusiasmo pel teatro di Wagner, gli urtano i nervi **terribilmente** ."
      ],
      "text/plain": [
       "<IPython.core.display.Markdown object>"
      ]
     },
     "metadata": {},
     "output_type": "display_data"
    },
    {
     "data": {
      "text/markdown": [
       "La ho vista nuda e la sua nudità era allora **terribilmente** lasciva...; invece calma, gelida mi guardava colle grandi pupille azzurre, inesplicabilmente curiose, mentreluce crepuscolare davanti al finestrino del vagone come per una incertezza di sogno; avrei sentito coll''instintivo terrore di una novissima sensazione l''anelito violento della locomotiva, i suoi crolli cupi sui ponti, lo scricchiolìo de'', del Sacro Collegio, dei Palazzi Apostolici, delle guardie, ecc., ecc.\"."
      ],
      "text/plain": [
       "<IPython.core.display.Markdown object>"
      ]
     },
     "metadata": {},
     "output_type": "display_data"
    },
    {
     "data": {
      "text/markdown": [
       "bacio la sua bocca ansante, sollevò il corpo su le due braccia tese: gli occhi suoi bruciavano di febbre, il suo viso era **terribilmente** contraffatto, i suoi polsi tremavano."
      ],
      "text/plain": [
       "<IPython.core.display.Markdown object>"
      ]
     },
     "metadata": {},
     "output_type": "display_data"
    },
    {
     "data": {
      "text/markdown": [
       "monacale, discendendo nella vita politica, irrompe con due nuovi ordini di frati profondamente originali e **terribilmente** guerrieri."
      ],
      "text/plain": [
       "<IPython.core.display.Markdown object>"
      ]
     },
     "metadata": {},
     "output_type": "display_data"
    },
    {
     "data": {
      "text/markdown": [
       "Una voce interiore mi assilla di continui rimproveri, e mi dice: \"Anche tu l''di Dio; o la purità invocata dal cielo era stata invocata invano (il primogenito, già settenne, era un bambino **terribilmente** inclinato a insudiciarsi e a insudiciare); o l''attrito della vita aveva spente o congelate certe gentili fioriturePer questa ragione, dopo aver disegnato sulle labbra un garbato sorriso, il signor Aurelio non esitò a parlare così:  offenderebbe la mia modestia e quella ben più delicata dei miei compagni."
      ],
      "text/plain": [
       "<IPython.core.display.Markdown object>"
      ]
     },
     "metadata": {},
     "output_type": "display_data"
    },
    {
     "data": {
      "text/markdown": [
       "Quel grande problema della collaborazione fra Occidente ed Oriente che giustamente appassiona la società moderna pel tragico contrasto fra il pensiero occidentale e le millenarie coscienze asiatiche, problema che in India, in Cina e nel Giappone, si presenta confusamente per la stessa vastità di quei paesi e per le innumerevoli inframmettenze politico-religiose che intorbidano la visione centrale, si mostra nello stesso Annam **terribilmente** chiaro nella sua semplicità."
      ],
      "text/plain": [
       "<IPython.core.display.Markdown object>"
      ]
     },
     "metadata": {},
     "output_type": "display_data"
    },
    {
     "data": {
      "text/markdown": [
       "-- E per ciò tu.... -- Io, caro Nelli, mi son vendicato più **terribilmente** ; nessuno di voi immagina come."
      ],
      "text/plain": [
       "<IPython.core.display.Markdown object>"
      ]
     },
     "metadata": {},
     "output_type": "display_data"
    },
    {
     "data": {
      "text/markdown": [
       "Silvio (tra l'' angoscia , l''orrore e la speranza) Ebbene, giacchè io non so trovarlo questo vostro amante, abbiate voi il coraggio di compiereneppure pensando a quel servo imbecille, che, secondo voi, riconoscendomi per la marchesa di Montefranco, mi avrebbe **terribilmente** compromessa?"
      ],
      "text/plain": [
       "<IPython.core.display.Markdown object>"
      ]
     },
     "metadata": {},
     "output_type": "display_data"
    },
    {
     "data": {
      "text/markdown": [
       "cuore mio!il volto contro il volto, ed opprimendolo con tutta la mole delle carni, per un impeto di passione e di gelosia così **terribilmente** incomposto che Passacantando ne rimase atterrito."
      ],
      "text/plain": [
       "<IPython.core.display.Markdown object>"
      ]
     },
     "metadata": {},
     "output_type": "display_data"
    },
    {
     "data": {
      "text/markdown": [
       "le piaghe che paion vere piaghe, il color della pelle, la contrazione del viso, l''atteggiamento, lo sguardo, ogni cosa **terribilmente** vera; direste che a toccarlo si deve sentire il tremito delle membra e il calor del sangue; vi par che le sue labbra sique'' tempi; che, veramente, più tardi la divozione andava scemando per gradi; più raramente il nodo era disfatto; più raramente aperto lo scatolino elegante; poi dimenticato del tutto in un angolo del conscio cassetto, dove talvolta rovistandocavalieri, condotti dal vecchio Abu Ben Gileli, il caid delle cinquanta bastonate, il quale mi lancia uno sguardo **terribilmente** espressivo rasente la schiena."
      ],
      "text/plain": [
       "<IPython.core.display.Markdown object>"
      ]
     },
     "metadata": {},
     "output_type": "display_data"
    },
    {
     "data": {
      "text/markdown": [
       "le piaghe che paion vere piaghe, il color della pelle, la contrazione del viso, l''atteggiamento, lo sguardo, ogni cosa **terribilmente** vera; direste che a toccarlo si deve sentire il tremito delle membra e il calor del sangue; vi par che le sue labbra sidei Rotschild."
      ],
      "text/plain": [
       "<IPython.core.display.Markdown object>"
      ]
     },
     "metadata": {},
     "output_type": "display_data"
    }
   ],
   "source": [
    "find_sentences_with_keyword(document5, 'terribilmente')"
   ]
  },
  {
   "cell_type": "markdown",
   "id": "a11b5cf5",
   "metadata": {},
   "source": [
    "### Zeitraum 6: 1951-2000"
   ]
  },
  {
   "cell_type": "code",
   "execution_count": 35,
   "id": "97acfbe4",
   "metadata": {},
   "outputs": [
    {
     "ename": "KeyboardInterrupt",
     "evalue": "",
     "output_type": "error",
     "traceback": [
      "\u001b[1;31m---------------------------------------------------------------------------\u001b[0m",
      "\u001b[1;31mKeyboardInterrupt\u001b[0m                         Traceback (most recent call last)",
      "\u001b[1;32m~\\AppData\\Local\\Temp/ipykernel_6344/773643955.py\u001b[0m in \u001b[0;36m<module>\u001b[1;34m\u001b[0m\n\u001b[0;32m      1\u001b[0m \u001b[0mtext6\u001b[0m \u001b[1;33m=\u001b[0m \u001b[1;34m''\u001b[0m\u001b[1;33m\u001b[0m\u001b[1;33m\u001b[0m\u001b[0m\n\u001b[0;32m      2\u001b[0m \u001b[1;32mfor\u001b[0m \u001b[0mi\u001b[0m \u001b[1;32min\u001b[0m \u001b[0mdf6\u001b[0m\u001b[1;33m.\u001b[0m\u001b[0mtext\u001b[0m\u001b[1;33m:\u001b[0m\u001b[1;33m\u001b[0m\u001b[1;33m\u001b[0m\u001b[0m\n\u001b[1;32m----> 3\u001b[1;33m     \u001b[0mtext6\u001b[0m \u001b[1;33m+=\u001b[0m \u001b[0mi\u001b[0m\u001b[1;33m\u001b[0m\u001b[1;33m\u001b[0m\u001b[0m\n\u001b[0m",
      "\u001b[1;31mKeyboardInterrupt\u001b[0m: "
     ]
    }
   ],
   "source": [
    "text6 = ''\n",
    "for i in df6.text:\n",
    "    text6 += i"
   ]
  },
  {
   "cell_type": "code",
   "execution_count": null,
   "id": "6379b0e1",
   "metadata": {},
   "outputs": [],
   "source": [
    "document6 = nltk.sent_tokenize(text6)"
   ]
  },
  {
   "cell_type": "code",
   "execution_count": null,
   "id": "c899d65e",
   "metadata": {},
   "outputs": [],
   "source": [
    "find_sentences_with_keyword(document6, 'terribilmente')"
   ]
  },
  {
   "cell_type": "markdown",
   "id": "f2853f42",
   "metadata": {},
   "source": [
    "### Zeitraum 7: 2001-2021"
   ]
  },
  {
   "cell_type": "code",
   "execution_count": null,
   "id": "25fd212a",
   "metadata": {},
   "outputs": [],
   "source": [
    "text7 = ''\n",
    "for i in df7.text:\n",
    "    text7 += i"
   ]
  },
  {
   "cell_type": "code",
   "execution_count": null,
   "id": "05b42fa3",
   "metadata": {},
   "outputs": [],
   "source": [
    "document7 = nltk.sent_tokenize(text7)"
   ]
  },
  {
   "cell_type": "code",
   "execution_count": null,
   "id": "7c5d7496",
   "metadata": {},
   "outputs": [],
   "source": [
    "find_sentences_with_keyword(document7, 'terribilmente')"
   ]
  },
  {
   "cell_type": "code",
   "execution_count": null,
   "id": "48e25da4",
   "metadata": {},
   "outputs": [],
   "source": []
  }
 ],
 "metadata": {
  "kernelspec": {
   "display_name": "Python 3 (ipykernel)",
   "language": "python",
   "name": "python3"
  },
  "language_info": {
   "codemirror_mode": {
    "name": "ipython",
    "version": 3
   },
   "file_extension": ".py",
   "mimetype": "text/x-python",
   "name": "python",
   "nbconvert_exporter": "python",
   "pygments_lexer": "ipython3",
   "version": "3.7.11"
  }
 },
 "nbformat": 4,
 "nbformat_minor": 5
}
